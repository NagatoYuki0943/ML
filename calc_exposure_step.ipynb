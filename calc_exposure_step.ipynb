{
 "cells": [
  {
   "cell_type": "code",
   "execution_count": 1,
   "metadata": {},
   "outputs": [],
   "source": [
    "import numpy as np\n",
    "import pandas as pd\n",
    "import matplotlib.pyplot as plt"
   ]
  },
  {
   "cell_type": "code",
   "execution_count": 2,
   "metadata": {},
   "outputs": [],
   "source": [
    "mean_light_suitable_range: tuple[float] = (70, 160)\n",
    "mean_light_middle = (mean_light_suitable_range[0] + mean_light_suitable_range[1]) / 2\n",
    "mean_light_middle\n",
    "adjust_exposure_time_base_step = 100"
   ]
  },
  {
   "cell_type": "markdown",
   "metadata": {},
   "source": [
    "# data1"
   ]
  },
  {
   "cell_type": "code",
   "execution_count": 3,
   "metadata": {},
   "outputs": [
    {
     "data": {
      "text/html": [
       "<div>\n",
       "<style scoped>\n",
       "    .dataframe tbody tr th:only-of-type {\n",
       "        vertical-align: middle;\n",
       "    }\n",
       "\n",
       "    .dataframe tbody tr th {\n",
       "        vertical-align: top;\n",
       "    }\n",
       "\n",
       "    .dataframe thead th {\n",
       "        text-align: right;\n",
       "    }\n",
       "</style>\n",
       "<table border=\"1\" class=\"dataframe\">\n",
       "  <thead>\n",
       "    <tr style=\"text-align: right;\">\n",
       "      <th></th>\n",
       "      <th>exposure_time</th>\n",
       "      <th>mean_bright</th>\n",
       "    </tr>\n",
       "  </thead>\n",
       "  <tbody>\n",
       "    <tr>\n",
       "      <th>0</th>\n",
       "      <td>40000</td>\n",
       "      <td>41.678670</td>\n",
       "    </tr>\n",
       "    <tr>\n",
       "      <th>1</th>\n",
       "      <td>42000</td>\n",
       "      <td>42.253461</td>\n",
       "    </tr>\n",
       "    <tr>\n",
       "      <th>2</th>\n",
       "      <td>44000</td>\n",
       "      <td>42.454117</td>\n",
       "    </tr>\n",
       "    <tr>\n",
       "      <th>3</th>\n",
       "      <td>46000</td>\n",
       "      <td>43.280167</td>\n",
       "    </tr>\n",
       "    <tr>\n",
       "      <th>4</th>\n",
       "      <td>48000</td>\n",
       "      <td>44.456035</td>\n",
       "    </tr>\n",
       "  </tbody>\n",
       "</table>\n",
       "</div>"
      ],
      "text/plain": [
       "   exposure_time  mean_bright\n",
       "0          40000    41.678670\n",
       "1          42000    42.253461\n",
       "2          44000    42.454117\n",
       "3          46000    43.280167\n",
       "4          48000    44.456035"
      ]
     },
     "execution_count": 3,
     "metadata": {},
     "output_type": "execute_result"
    }
   ],
   "source": [
    "exposure_time_and_mean_bright1 = pd.DataFrame(\n",
    "    [\n",
    "        [40000, 41.678669920455725],\n",
    "        [42000, 42.253461084293576],\n",
    "        [44000, 42.454117113697706],\n",
    "        [46000, 43.28016705270944],\n",
    "        [48000, 44.45603532453545],\n",
    "        [50000, 46.284722195188415],\n",
    "        [52000, 47.73752733117928],\n",
    "        [54000, 49.21072955595349],\n",
    "        [56000, 51.07367585707983],\n",
    "        [58000, 58.79165604238036],\n",
    "        [60000, 72.06801157155091],\n",
    "        [62000, 73.83858270398629],\n",
    "        [64000, 74.45554798608948],\n",
    "        [66000, 78.93671704687013],\n",
    "    ],\n",
    "    columns=[\"exposure_time\", \"mean_bright\"],\n",
    ")\n",
    "exposure_time_and_mean_bright1.head()"
   ]
  },
  {
   "cell_type": "code",
   "execution_count": 4,
   "metadata": {},
   "outputs": [
    {
     "data": {
      "text/plain": [
       "0     73.321330\n",
       "1     72.746539\n",
       "2     72.545883\n",
       "3     71.719833\n",
       "4     70.543965\n",
       "5     68.715278\n",
       "6     67.262473\n",
       "7     65.789270\n",
       "8     63.926324\n",
       "9     56.208344\n",
       "10    42.931988\n",
       "11    41.161417\n",
       "12    40.544452\n",
       "13    36.063283\n",
       "Name: mean_bright, dtype: float64"
      ]
     },
     "execution_count": 4,
     "metadata": {},
     "output_type": "execute_result"
    }
   ],
   "source": [
    "distance1 = mean_light_middle - exposure_time_and_mean_bright1['mean_bright']\n",
    "distance1"
   ]
  },
  {
   "cell_type": "code",
   "execution_count": 5,
   "metadata": {},
   "outputs": [
    {
     "name": "stdout",
     "output_type": "stream",
     "text": [
      "40000\n",
      "7332.133007954428\n"
     ]
    },
    {
     "data": {
      "text/plain": [
       "np.float64(47332.13300795443)"
      ]
     },
     "execution_count": 5,
     "metadata": {},
     "output_type": "execute_result"
    }
   ],
   "source": [
    "idx = 0\n",
    "print(exposure_time_and_mean_bright1['exposure_time'][idx])\n",
    "print(distance1[idx] * adjust_exposure_time_base_step)\n",
    "exposure_time_and_mean_bright1['exposure_time'][idx] + distance1[idx] * adjust_exposure_time_base_step"
   ]
  },
  {
   "cell_type": "code",
   "execution_count": 6,
   "metadata": {},
   "outputs": [
    {
     "name": "stdout",
     "output_type": "stream",
     "text": [
      "48000\n",
      "7054.396467546455\n"
     ]
    },
    {
     "data": {
      "text/plain": [
       "np.float64(55054.39646754645)"
      ]
     },
     "execution_count": 6,
     "metadata": {},
     "output_type": "execute_result"
    }
   ],
   "source": [
    "idx = 4\n",
    "print(exposure_time_and_mean_bright1['exposure_time'][idx])\n",
    "print(distance1[idx] * adjust_exposure_time_base_step)\n",
    "exposure_time_and_mean_bright1['exposure_time'][idx] + distance1[idx] * adjust_exposure_time_base_step"
   ]
  },
  {
   "cell_type": "code",
   "execution_count": 7,
   "metadata": {},
   "outputs": [
    {
     "name": "stdout",
     "output_type": "stream",
     "text": [
      "56000\n",
      "6392.6324142920175\n"
     ]
    },
    {
     "data": {
      "text/plain": [
       "np.float64(62392.63241429202)"
      ]
     },
     "execution_count": 7,
     "metadata": {},
     "output_type": "execute_result"
    }
   ],
   "source": [
    "idx = 8\n",
    "print(exposure_time_and_mean_bright1['exposure_time'][idx])\n",
    "print(distance1[idx] * adjust_exposure_time_base_step)\n",
    "exposure_time_and_mean_bright1['exposure_time'][idx] + distance1[idx] * adjust_exposure_time_base_step"
   ]
  },
  {
   "cell_type": "code",
   "execution_count": 8,
   "metadata": {},
   "outputs": [
    {
     "name": "stdout",
     "output_type": "stream",
     "text": [
      "62000\n",
      "4116.141729601371\n"
     ]
    },
    {
     "data": {
      "text/plain": [
       "np.float64(66116.14172960137)"
      ]
     },
     "execution_count": 8,
     "metadata": {},
     "output_type": "execute_result"
    }
   ],
   "source": [
    "idx = 11\n",
    "print(exposure_time_and_mean_bright1['exposure_time'][idx])\n",
    "print(distance1[idx] * adjust_exposure_time_base_step)\n",
    "exposure_time_and_mean_bright1['exposure_time'][idx] + distance1[idx] * adjust_exposure_time_base_step"
   ]
  },
  {
   "cell_type": "markdown",
   "metadata": {},
   "source": [
    "# data2"
   ]
  },
  {
   "cell_type": "code",
   "execution_count": 9,
   "metadata": {},
   "outputs": [
    {
     "data": {
      "text/html": [
       "<div>\n",
       "<style scoped>\n",
       "    .dataframe tbody tr th:only-of-type {\n",
       "        vertical-align: middle;\n",
       "    }\n",
       "\n",
       "    .dataframe tbody tr th {\n",
       "        vertical-align: top;\n",
       "    }\n",
       "\n",
       "    .dataframe thead th {\n",
       "        text-align: right;\n",
       "    }\n",
       "</style>\n",
       "<table border=\"1\" class=\"dataframe\">\n",
       "  <thead>\n",
       "    <tr style=\"text-align: right;\">\n",
       "      <th></th>\n",
       "      <th>exposure_time</th>\n",
       "      <th>mean_bright</th>\n",
       "    </tr>\n",
       "  </thead>\n",
       "  <tbody>\n",
       "    <tr>\n",
       "      <th>0</th>\n",
       "      <td>40000</td>\n",
       "      <td>43.093365</td>\n",
       "    </tr>\n",
       "    <tr>\n",
       "      <th>1</th>\n",
       "      <td>42000</td>\n",
       "      <td>44.657696</td>\n",
       "    </tr>\n",
       "    <tr>\n",
       "      <th>2</th>\n",
       "      <td>44000</td>\n",
       "      <td>46.342201</td>\n",
       "    </tr>\n",
       "    <tr>\n",
       "      <th>3</th>\n",
       "      <td>46000</td>\n",
       "      <td>48.027661</td>\n",
       "    </tr>\n",
       "    <tr>\n",
       "      <th>4</th>\n",
       "      <td>48000</td>\n",
       "      <td>49.648479</td>\n",
       "    </tr>\n",
       "  </tbody>\n",
       "</table>\n",
       "</div>"
      ],
      "text/plain": [
       "   exposure_time  mean_bright\n",
       "0          40000    43.093365\n",
       "1          42000    44.657696\n",
       "2          44000    46.342201\n",
       "3          46000    48.027661\n",
       "4          48000    49.648479"
      ]
     },
     "execution_count": 9,
     "metadata": {},
     "output_type": "execute_result"
    }
   ],
   "source": [
    "exposure_time_and_mean_bright2 = pd.DataFrame(\n",
    "    [\n",
    "        [40000, 43.09336468714315],\n",
    "        [42000, 44.65769603835773],\n",
    "        [44000, 46.34220104393751],\n",
    "        [46000, 48.027661343169314],\n",
    "        [48000, 49.64847926723243],\n",
    "        [50000, 51.20548967416693],\n",
    "        [52000, 52.73641843143361],\n",
    "        [54000, 54.50901012470155],\n",
    "        [56000, 56.19104145580297],\n",
    "        [58000, 57.517869806264926],\n",
    "        [60000, 58.79849500090834],\n",
    "        [62000, 60.28579192294716],\n",
    "        [64000, 61.607808363827466],\n",
    "        [66000, 62.99052565075781],\n",
    "        [68000, 64.38855626492266],\n",
    "        [70000, 66.41952605950898],\n",
    "        [72000, 67.66517788785944],\n",
    "        [74000, 69.00257740319734],\n",
    "        [76000, 70.37615066697809],\n",
    "        [78000, 71.66816939491851],\n",
    "        [80000, 72.84948508707049],\n",
    "        [82000, 74.32807147306136],\n",
    "        [84000, 75.20105504840133],\n",
    "        [86000, 76.9422499480951],\n",
    "        [88000, 78.12494258019309],\n",
    "        [90000, 79.69780198925568]\n",
    "    ],\n",
    "    columns=[\"exposure_time\", \"mean_bright\"],\n",
    ")\n",
    "exposure_time_and_mean_bright2.head()"
   ]
  },
  {
   "cell_type": "code",
   "execution_count": 10,
   "metadata": {},
   "outputs": [
    {
     "data": {
      "text/plain": [
       "0     71.906635\n",
       "1     70.342304\n",
       "2     68.657799\n",
       "3     66.972339\n",
       "4     65.351521\n",
       "5     63.794510\n",
       "6     62.263582\n",
       "7     60.490990\n",
       "8     58.808959\n",
       "9     57.482130\n",
       "10    56.201505\n",
       "11    54.714208\n",
       "12    53.392192\n",
       "13    52.009474\n",
       "14    50.611444\n",
       "15    48.580474\n",
       "16    47.334822\n",
       "17    45.997423\n",
       "18    44.623849\n",
       "19    43.331831\n",
       "20    42.150515\n",
       "21    40.671929\n",
       "22    39.798945\n",
       "23    38.057750\n",
       "24    36.875057\n",
       "25    35.302198\n",
       "Name: mean_bright, dtype: float64"
      ]
     },
     "execution_count": 10,
     "metadata": {},
     "output_type": "execute_result"
    }
   ],
   "source": [
    "distance2 = mean_light_middle - exposure_time_and_mean_bright2['mean_bright']\n",
    "distance2"
   ]
  },
  {
   "cell_type": "code",
   "execution_count": 11,
   "metadata": {},
   "outputs": [
    {
     "name": "stdout",
     "output_type": "stream",
     "text": [
      "40000\n",
      "7190.663531285685\n"
     ]
    },
    {
     "data": {
      "text/plain": [
       "np.float64(47190.66353128568)"
      ]
     },
     "execution_count": 11,
     "metadata": {},
     "output_type": "execute_result"
    }
   ],
   "source": [
    "idx = 0\n",
    "print(exposure_time_and_mean_bright2['exposure_time'][idx])\n",
    "print(distance2[idx] * adjust_exposure_time_base_step)\n",
    "exposure_time_and_mean_bright2['exposure_time'][idx] + distance2[idx] * adjust_exposure_time_base_step"
   ]
  },
  {
   "cell_type": "code",
   "execution_count": 12,
   "metadata": {},
   "outputs": [
    {
     "name": "stdout",
     "output_type": "stream",
     "text": [
      "48000\n",
      "6535.152073276757\n"
     ]
    },
    {
     "data": {
      "text/plain": [
       "np.float64(54535.15207327675)"
      ]
     },
     "execution_count": 12,
     "metadata": {},
     "output_type": "execute_result"
    }
   ],
   "source": [
    "idx = 4\n",
    "print(exposure_time_and_mean_bright2['exposure_time'][idx])\n",
    "print(distance2[idx] * adjust_exposure_time_base_step)\n",
    "exposure_time_and_mean_bright2['exposure_time'][idx] + distance2[idx] * adjust_exposure_time_base_step"
   ]
  },
  {
   "cell_type": "code",
   "execution_count": 13,
   "metadata": {},
   "outputs": [
    {
     "name": "stdout",
     "output_type": "stream",
     "text": [
      "54000\n",
      "6049.0989875298455\n"
     ]
    },
    {
     "data": {
      "text/plain": [
       "np.float64(60049.09898752985)"
      ]
     },
     "execution_count": 13,
     "metadata": {},
     "output_type": "execute_result"
    }
   ],
   "source": [
    "idx = 7\n",
    "print(exposure_time_and_mean_bright2['exposure_time'][idx])\n",
    "print(distance2[idx] * adjust_exposure_time_base_step)\n",
    "exposure_time_and_mean_bright2['exposure_time'][idx] + distance2[idx] * adjust_exposure_time_base_step"
   ]
  },
  {
   "cell_type": "code",
   "execution_count": 14,
   "metadata": {},
   "outputs": [
    {
     "name": "stdout",
     "output_type": "stream",
     "text": [
      "60000\n",
      "5620.150499909166\n"
     ]
    },
    {
     "data": {
      "text/plain": [
       "np.float64(65620.15049990917)"
      ]
     },
     "execution_count": 14,
     "metadata": {},
     "output_type": "execute_result"
    }
   ],
   "source": [
    "idx = 10\n",
    "print(exposure_time_and_mean_bright2['exposure_time'][idx])\n",
    "print(distance2[idx] * adjust_exposure_time_base_step)\n",
    "exposure_time_and_mean_bright2['exposure_time'][idx] + distance2[idx] * adjust_exposure_time_base_step"
   ]
  },
  {
   "cell_type": "code",
   "execution_count": 15,
   "metadata": {},
   "outputs": [
    {
     "name": "stdout",
     "output_type": "stream",
     "text": [
      "64000\n",
      "5339.219163617254\n"
     ]
    },
    {
     "data": {
      "text/plain": [
       "np.float64(69339.21916361725)"
      ]
     },
     "execution_count": 15,
     "metadata": {},
     "output_type": "execute_result"
    }
   ],
   "source": [
    "idx = 12\n",
    "print(exposure_time_and_mean_bright2['exposure_time'][idx])\n",
    "print(distance2[idx] * adjust_exposure_time_base_step)\n",
    "exposure_time_and_mean_bright2['exposure_time'][idx] + distance2[idx] * adjust_exposure_time_base_step"
   ]
  },
  {
   "cell_type": "code",
   "execution_count": 16,
   "metadata": {},
   "outputs": [
    {
     "name": "stdout",
     "output_type": "stream",
     "text": [
      "70000\n",
      "4858.047394049102\n"
     ]
    },
    {
     "data": {
      "text/plain": [
       "np.float64(74858.0473940491)"
      ]
     },
     "execution_count": 16,
     "metadata": {},
     "output_type": "execute_result"
    }
   ],
   "source": [
    "idx = 15\n",
    "print(exposure_time_and_mean_bright2['exposure_time'][idx])\n",
    "print(distance2[idx] * adjust_exposure_time_base_step)\n",
    "exposure_time_and_mean_bright2['exposure_time'][idx] + distance2[idx] * adjust_exposure_time_base_step"
   ]
  },
  {
   "cell_type": "code",
   "execution_count": 17,
   "metadata": {},
   "outputs": [
    {
     "name": "stdout",
     "output_type": "stream",
     "text": [
      "76000\n",
      "4462.384933302191\n"
     ]
    },
    {
     "data": {
      "text/plain": [
       "np.float64(80462.3849333022)"
      ]
     },
     "execution_count": 17,
     "metadata": {},
     "output_type": "execute_result"
    }
   ],
   "source": [
    "idx = 18\n",
    "print(exposure_time_and_mean_bright2['exposure_time'][idx])\n",
    "print(distance2[idx] * adjust_exposure_time_base_step)\n",
    "exposure_time_and_mean_bright2['exposure_time'][idx] + distance2[idx] * adjust_exposure_time_base_step"
   ]
  },
  {
   "cell_type": "code",
   "execution_count": 18,
   "metadata": {},
   "outputs": [
    {
     "name": "stdout",
     "output_type": "stream",
     "text": [
      "80000\n",
      "4215.051491292951\n"
     ]
    },
    {
     "data": {
      "text/plain": [
       "np.float64(84215.05149129295)"
      ]
     },
     "execution_count": 18,
     "metadata": {},
     "output_type": "execute_result"
    }
   ],
   "source": [
    "idx = 20\n",
    "print(exposure_time_and_mean_bright2['exposure_time'][idx])\n",
    "print(distance2[idx] * adjust_exposure_time_base_step)\n",
    "exposure_time_and_mean_bright2['exposure_time'][idx] + distance2[idx] * adjust_exposure_time_base_step"
   ]
  },
  {
   "cell_type": "code",
   "execution_count": 19,
   "metadata": {},
   "outputs": [
    {
     "name": "stdout",
     "output_type": "stream",
     "text": [
      "84000\n",
      "3979.894495159867\n"
     ]
    },
    {
     "data": {
      "text/plain": [
       "np.float64(87979.89449515987)"
      ]
     },
     "execution_count": 19,
     "metadata": {},
     "output_type": "execute_result"
    }
   ],
   "source": [
    "idx = 22\n",
    "print(exposure_time_and_mean_bright2['exposure_time'][idx])\n",
    "print(distance2[idx] * adjust_exposure_time_base_step)\n",
    "exposure_time_and_mean_bright2['exposure_time'][idx] + distance2[idx] * adjust_exposure_time_base_step"
   ]
  },
  {
   "cell_type": "code",
   "execution_count": 20,
   "metadata": {},
   "outputs": [
    {
     "name": "stdout",
     "output_type": "stream",
     "text": [
      "88000\n",
      "3687.505741980691\n"
     ]
    },
    {
     "data": {
      "text/plain": [
       "np.float64(91687.50574198068)"
      ]
     },
     "execution_count": 20,
     "metadata": {},
     "output_type": "execute_result"
    }
   ],
   "source": [
    "idx = 24\n",
    "print(exposure_time_and_mean_bright2['exposure_time'][idx])\n",
    "print(distance2[idx] * adjust_exposure_time_base_step)\n",
    "exposure_time_and_mean_bright2['exposure_time'][idx] + distance2[idx] * adjust_exposure_time_base_step"
   ]
  },
  {
   "cell_type": "markdown",
   "metadata": {},
   "source": [
    "# data3"
   ]
  },
  {
   "cell_type": "code",
   "execution_count": 22,
   "metadata": {},
   "outputs": [
    {
     "data": {
      "text/html": [
       "<div>\n",
       "<style scoped>\n",
       "    .dataframe tbody tr th:only-of-type {\n",
       "        vertical-align: middle;\n",
       "    }\n",
       "\n",
       "    .dataframe tbody tr th {\n",
       "        vertical-align: top;\n",
       "    }\n",
       "\n",
       "    .dataframe thead th {\n",
       "        text-align: right;\n",
       "    }\n",
       "</style>\n",
       "<table border=\"1\" class=\"dataframe\">\n",
       "  <thead>\n",
       "    <tr style=\"text-align: right;\">\n",
       "      <th></th>\n",
       "      <th>exposure_time</th>\n",
       "      <th>mean_bright</th>\n",
       "      <th>step</th>\n",
       "    </tr>\n",
       "  </thead>\n",
       "  <tbody>\n",
       "    <tr>\n",
       "      <th>0</th>\n",
       "      <td>40000</td>\n",
       "      <td>44.029490</td>\n",
       "      <td>7097</td>\n",
       "    </tr>\n",
       "    <tr>\n",
       "      <th>1</th>\n",
       "      <td>47085</td>\n",
       "      <td>47.036627</td>\n",
       "      <td>6796</td>\n",
       "    </tr>\n",
       "    <tr>\n",
       "      <th>2</th>\n",
       "      <td>53685</td>\n",
       "      <td>54.552158</td>\n",
       "      <td>6044</td>\n",
       "    </tr>\n",
       "    <tr>\n",
       "      <th>3</th>\n",
       "      <td>59714</td>\n",
       "      <td>57.971016</td>\n",
       "      <td>5702</td>\n",
       "    </tr>\n",
       "    <tr>\n",
       "      <th>4</th>\n",
       "      <td>65142</td>\n",
       "      <td>63.893968</td>\n",
       "      <td>5110</td>\n",
       "    </tr>\n",
       "  </tbody>\n",
       "</table>\n",
       "</div>"
      ],
      "text/plain": [
       "   exposure_time  mean_bright  step\n",
       "0          40000    44.029490  7097\n",
       "1          47085    47.036627  6796\n",
       "2          53685    54.552158  6044\n",
       "3          59714    57.971016  5702\n",
       "4          65142    63.893968  5110"
      ]
     },
     "execution_count": 22,
     "metadata": {},
     "output_type": "execute_result"
    }
   ],
   "source": [
    "exposure_time_and_mean_bright_and_step1 = pd.DataFrame(\n",
    "    [\n",
    "        [40000, 44.029489612529844, 7097],\n",
    "        [47085, 47.03662669988581, 6796],\n",
    "        [53685, 54.55215754113464, 6044],\n",
    "        [59714, 57.97101646034465, 5702],\n",
    "        [65142, 63.89396767621717, 5110],\n",
    "        [70228, 66.51212174296688, 4848],\n",
    "        [75057, 70.27101743356171, 4472],\n",
    "        [79342, 74.1425379392453, 4085],\n",
    "        [83400, 75.89006353485415, 3910],\n",
    "        [87285, 78.29048404572822, 3670],\n",
    "        [90828, 81.02723020800893, 3397],\n",
    "    ],\n",
    "    columns=[\"exposure_time\", \"mean_bright\", \"step\"],\n",
    ")\n",
    "exposure_time_and_mean_bright_and_step1.head()"
   ]
  },
  {
   "cell_type": "code",
   "execution_count": 24,
   "metadata": {},
   "outputs": [
    {
     "data": {
      "text/plain": [
       "0     47097\n",
       "1     53881\n",
       "2     59729\n",
       "3     65416\n",
       "4     70252\n",
       "5     75076\n",
       "6     79529\n",
       "7     83427\n",
       "8     87310\n",
       "9     90955\n",
       "10    94225\n",
       "dtype: int64"
      ]
     },
     "execution_count": 24,
     "metadata": {},
     "output_type": "execute_result"
    }
   ],
   "source": [
    "exposure_time_and_mean_bright_and_step1['exposure_time'] + exposure_time_and_mean_bright_and_step1['step']"
   ]
  },
  {
   "cell_type": "code",
   "execution_count": 23,
   "metadata": {},
   "outputs": [
    {
     "data": {
      "text/plain": [
       "0     70.970510\n",
       "1     67.963373\n",
       "2     60.447842\n",
       "3     57.028984\n",
       "4     51.106032\n",
       "5     48.487878\n",
       "6     44.728983\n",
       "7     40.857462\n",
       "8     39.109936\n",
       "9     36.709516\n",
       "10    33.972770\n",
       "Name: mean_bright, dtype: float64"
      ]
     },
     "execution_count": 23,
     "metadata": {},
     "output_type": "execute_result"
    }
   ],
   "source": [
    "distance3 = mean_light_middle - exposure_time_and_mean_bright_and_step1['mean_bright']\n",
    "distance3"
   ]
  },
  {
   "cell_type": "code",
   "execution_count": null,
   "metadata": {},
   "outputs": [],
   "source": []
  }
 ],
 "metadata": {
  "kernelspec": {
   "display_name": "cv",
   "language": "python",
   "name": "python3"
  },
  "language_info": {
   "codemirror_mode": {
    "name": "ipython",
    "version": 3
   },
   "file_extension": ".py",
   "mimetype": "text/x-python",
   "name": "python",
   "nbconvert_exporter": "python",
   "pygments_lexer": "ipython3",
   "version": "3.11.9"
  }
 },
 "nbformat": 4,
 "nbformat_minor": 2
}
