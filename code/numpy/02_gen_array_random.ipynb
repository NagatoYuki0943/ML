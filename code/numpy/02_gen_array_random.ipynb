{
 "cells": [
  {
   "cell_type": "code",
   "execution_count": 1,
   "metadata": {},
   "outputs": [],
   "source": [
    "import matplotlib.pyplot as plt\n",
    "import seaborn as sns\n",
    "import numpy as np"
   ]
  },
  {
   "cell_type": "markdown",
   "id": "fd8ee593",
   "metadata": {},
   "source": [
    "## 生成数组的方法"
   ]
  },
  {
   "cell_type": "markdown",
   "id": "8fef5a08",
   "metadata": {},
   "source": [
    "### 生成0和1的数组"
   ]
  },
  {
   "cell_type": "code",
   "execution_count": 2,
   "id": "cfe0c5f8",
   "metadata": {},
   "outputs": [
    {
     "data": {
      "text/plain": [
       "array([[1, 1, 1, 1, 1, 1, 1, 1],\n",
       "       [1, 1, 1, 1, 1, 1, 1, 1],\n",
       "       [1, 1, 1, 1, 1, 1, 1, 1],\n",
       "       [1, 1, 1, 1, 1, 1, 1, 1]], dtype=int64)"
      ]
     },
     "execution_count": 2,
     "metadata": {},
     "output_type": "execute_result"
    }
   ],
   "source": [
    "np.ones((4, 8), dtype=\"int64\")"
   ]
  },
  {
   "cell_type": "code",
   "execution_count": 3,
   "id": "cf264e29",
   "metadata": {},
   "outputs": [
    {
     "data": {
      "text/plain": [
       "array([[0, 0, 0, 0, 0, 0, 0],\n",
       "       [0, 0, 0, 0, 0, 0, 0],\n",
       "       [0, 0, 0, 0, 0, 0, 0]])"
      ]
     },
     "execution_count": 3,
     "metadata": {},
     "output_type": "execute_result"
    }
   ],
   "source": [
    "np.zeros((3, 7), \"int32\")"
   ]
  },
  {
   "cell_type": "markdown",
   "metadata": {},
   "source": [
    "## 生成单元矩阵 np.eye(5)"
   ]
  },
  {
   "cell_type": "code",
   "execution_count": 4,
   "metadata": {},
   "outputs": [
    {
     "data": {
      "text/plain": [
       "array([[1., 0., 0., 0., 0.],\n",
       "       [0., 1., 0., 0., 0.],\n",
       "       [0., 0., 1., 0., 0.],\n",
       "       [0., 0., 0., 1., 0.],\n",
       "       [0., 0., 0., 0., 1.]])"
      ]
     },
     "execution_count": 4,
     "metadata": {},
     "output_type": "execute_result"
    }
   ],
   "source": [
    "np.eye(5)"
   ]
  },
  {
   "cell_type": "markdown",
   "id": "8c2c91c1",
   "metadata": {},
   "source": [
    "### 从现有数组生成"
   ]
  },
  {
   "cell_type": "code",
   "execution_count": 5,
   "id": "f1b8be06",
   "metadata": {},
   "outputs": [
    {
     "name": "stdout",
     "output_type": "stream",
     "text": [
      "[[1 2 3]\n",
      " [4 5 6]]\n",
      "[[999   2   3]\n",
      " [  4   5   6]]\n"
     ]
    }
   ],
   "source": [
    "# np.array(object, dtype)\n",
    "# np.asarray(a, dtype)\n",
    "a = np.array([[1, 2, 3], [4, 5, 6]])\n",
    "\n",
    "# 从现有的数组当中创建\n",
    "a1= np.array(a)\n",
    "\n",
    "a[0, 0] = 999\n",
    "\n",
    "# 相当于索引的形式，并没有真正的创建一个新的\n",
    "a2 = np.asarray(a)\n",
    "print(a1)\n",
    "\n",
    "print(a2)"
   ]
  },
  {
   "cell_type": "markdown",
   "id": "205ca791",
   "metadata": {},
   "source": [
    "## 生成固定范围的数组"
   ]
  },
  {
   "attachments": {},
   "cell_type": "markdown",
   "id": "57cd0442",
   "metadata": {},
   "source": [
    "### 等差-数量 np.linspace(start, stop, num, endpoint)"
   ]
  },
  {
   "cell_type": "code",
   "execution_count": 9,
   "id": "fc058014",
   "metadata": {},
   "outputs": [
    {
     "data": {
      "text/plain": [
       "array([  0.,  10.,  20.,  30.,  40.,  50.,  60.,  70.,  80.,  90., 100.])"
      ]
     },
     "execution_count": 9,
     "metadata": {},
     "output_type": "execute_result"
    }
   ],
   "source": [
    "# 创建等差数组 — 指定数量\n",
    "#参数:\n",
    "# start:序列的起始值\n",
    "# stop:序列的终止值\n",
    "# num:要生成的等间隔样例数量，默认为50\n",
    "# endpoint:序列中是否包含stop值，默认为ture\n",
    "x = np.linspace(0, 100, 11)\n",
    "x"
   ]
  },
  {
   "cell_type": "code",
   "execution_count": 12,
   "metadata": {},
   "outputs": [
    {
     "data": {
      "text/plain": [
       "[<matplotlib.lines.Line2D at 0x18d57a05290>]"
      ]
     },
     "execution_count": 12,
     "metadata": {},
     "output_type": "execute_result"
    },
    {
     "data": {
      "image/png": "[encoded data removed]",
      "text/plain": [
       "<Figure size 640x480 with 1 Axes>"
      ]
     },
     "metadata": {},
     "output_type": "display_data"
    }
   ],
   "source": [
    "plt.plot(x)"
   ]
  },
  {
   "attachments": {},
   "cell_type": "markdown",
   "id": "a8b5f606",
   "metadata": {},
   "source": [
    "### 等差-步长 np.arange(start, stop, step, dtype)"
   ]
  },
  {
   "cell_type": "code",
   "execution_count": 13,
   "id": "392ddd3b",
   "metadata": {},
   "outputs": [
    {
     "data": {
      "text/plain": [
       "array([10, 12, 14, 16, 18, 20, 22, 24, 26, 28, 30, 32, 34, 36, 38, 40, 42,\n",
       "       44, 46, 48])"
      ]
     },
     "execution_count": 13,
     "metadata": {},
     "output_type": "execute_result"
    }
   ],
   "source": [
    "# 创建等差数组 — 指定步长\n",
    "# 参数\n",
    "#    step:步长,默认值为1\n",
    "x = np.arange(10, 50, 2)\n",
    "x"
   ]
  },
  {
   "cell_type": "code",
   "execution_count": 14,
   "metadata": {},
   "outputs": [
    {
     "data": {
      "text/plain": [
       "[<matplotlib.lines.Line2D at 0x18d5b054f50>]"
      ]
     },
     "execution_count": 14,
     "metadata": {},
     "output_type": "execute_result"
    },
    {
     "data": {
      "image/png": "[encoded data removed]",
      "text/plain": [
       "<Figure size 640x480 with 1 Axes>"
      ]
     },
     "metadata": {},
     "output_type": "display_data"
    }
   ],
   "source": [
    "plt.plot(x)"
   ]
  },
  {
   "cell_type": "markdown",
   "id": "70036384",
   "metadata": {},
   "source": [
    "### 等比 np.logspace(start,stop, num)"
   ]
  },
  {
   "cell_type": "code",
   "execution_count": 18,
   "id": "affd35a5",
   "metadata": {},
   "outputs": [
    {
     "data": {
      "text/plain": [
       "array([1.00000000e+00, 3.59381366e+00, 1.29154967e+01, 4.64158883e+01,\n",
       "       1.66810054e+02, 5.99484250e+02, 2.15443469e+03, 7.74263683e+03,\n",
       "       2.78255940e+04, 1.00000000e+05])"
      ]
     },
     "execution_count": 18,
     "metadata": {},
     "output_type": "execute_result"
    }
   ],
   "source": [
    "# 创建等比数列\n",
    "# 参数:\n",
    "#    num:要生成的等比数列数量，默认为50\n",
    "# 生成10^x\n",
    "x = np.logspace(0, 5, 10)\n",
    "x"
   ]
  },
  {
   "cell_type": "code",
   "execution_count": 19,
   "metadata": {},
   "outputs": [
    {
     "data": {
      "text/plain": [
       "[<matplotlib.lines.Line2D at 0x18d5b133e90>]"
      ]
     },
     "execution_count": 19,
     "metadata": {},
     "output_type": "execute_result"
    },
    {
     "data": {
      "image/png": "[encoded data removed]",
      "text/plain": [
       "<Figure size 640x480 with 1 Axes>"
      ]
     },
     "metadata": {},
     "output_type": "display_data"
    }
   ],
   "source": [
    "plt.plot(x)"
   ]
  },
  {
   "cell_type": "markdown",
   "id": "96e46a5f",
   "metadata": {},
   "source": [
    "## 生成随机数组"
   ]
  },
  {
   "cell_type": "markdown",
   "metadata": {},
   "source": [
    "### np.random.seed(0)"
   ]
  },
  {
   "cell_type": "code",
   "execution_count": 20,
   "metadata": {},
   "outputs": [],
   "source": [
    "# 随机数种子\n",
    "np.random.seed(0)"
   ]
  },
  {
   "attachments": {},
   "cell_type": "markdown",
   "metadata": {},
   "source": [
    "### np.random.random(len) [0,1)均匀分布"
   ]
  },
  {
   "cell_type": "code",
   "execution_count": 21,
   "metadata": {},
   "outputs": [
    {
     "data": {
      "text/plain": [
       "array([0.5488135 , 0.71518937, 0.60276338, 0.54488318, 0.4236548 ,\n",
       "       0.64589411, 0.43758721, 0.891773  , 0.96366276, 0.38344152])"
      ]
     },
     "execution_count": 21,
     "metadata": {},
     "output_type": "execute_result"
    }
   ],
   "source": [
    "np.random.random(10)"
   ]
  },
  {
   "cell_type": "code",
   "execution_count": 27,
   "metadata": {},
   "outputs": [],
   "source": [
    "x = np.random.random(10000)"
   ]
  },
  {
   "cell_type": "code",
   "execution_count": 31,
   "metadata": {},
   "outputs": [
    {
     "data": {
      "text/plain": [
       "(array([472., 437., 488., 495., 462., 451., 475., 460., 451., 443., 441.,\n",
       "        438., 456., 453., 457., 430., 475., 446., 429., 445., 409., 487.]),\n",
       " array([2.56674061e-04, 4.56841650e-02, 9.11116560e-02, 1.36539147e-01,\n",
       "        1.81966638e-01, 2.27394129e-01, 2.72821620e-01, 3.18249111e-01,\n",
       "        3.63676602e-01, 4.09104093e-01, 4.54531584e-01, 4.99959075e-01,\n",
       "        5.45386566e-01, 5.90814057e-01, 6.36241548e-01, 6.81669039e-01,\n",
       "        7.27096530e-01, 7.72524021e-01, 8.17951512e-01, 8.63379003e-01,\n",
       "        9.08806494e-01, 9.54233985e-01, 9.99661476e-01]),\n",
       " <BarContainer object of 22 artists>)"
      ]
     },
     "execution_count": 31,
     "metadata": {},
     "output_type": "execute_result"
    },
    {
     "data": {
      "image/png": "[encoded data removed]",
      "text/plain": [
       "<Figure size 640x480 with 1 Axes>"
      ]
     },
     "metadata": {},
     "output_type": "display_data"
    }
   ],
   "source": [
    "plt.hist(x, bins=\"auto\")  # x代表要使用的数据，bins表示要划分区间数"
   ]
  },
  {
   "cell_type": "code",
   "execution_count": 32,
   "metadata": {},
   "outputs": [
    {
     "data": {
      "text/plain": [
       "<Axes: ylabel='Count'>"
      ]
     },
     "execution_count": 32,
     "metadata": {},
     "output_type": "execute_result"
    },
    {
     "data": {
      "image/png": "[encoded data removed]",
      "text/plain": [
       "<Figure size 640x480 with 1 Axes>"
      ]
     },
     "metadata": {},
     "output_type": "display_data"
    }
   ],
   "source": [
    "sns.histplot(x, bins=\"auto\")"
   ]
  },
  {
   "attachments": {},
   "cell_type": "markdown",
   "id": "89e95fa1",
   "metadata": {},
   "source": [
    "### np.random.rand(shape) [0,1)均匀分布\n",
    "rand函数根据给定维度生成[0,1)之间的数据，包含0，不包含1"
   ]
  },
  {
   "cell_type": "code",
   "execution_count": 41,
   "metadata": {},
   "outputs": [
    {
     "data": {
      "text/plain": [
       "array([[0.78012518, 0.13263563, 0.49867852],\n",
       "       [0.3161213 , 0.91438884, 0.53150303]])"
      ]
     },
     "execution_count": 41,
     "metadata": {},
     "output_type": "execute_result"
    }
   ],
   "source": [
    "np.random.rand(2, 3)"
   ]
  },
  {
   "cell_type": "code",
   "execution_count": 42,
   "metadata": {},
   "outputs": [],
   "source": [
    "x = np.random.rand(10000)"
   ]
  },
  {
   "cell_type": "code",
   "execution_count": 43,
   "metadata": {},
   "outputs": [
    {
     "data": {
      "text/plain": [
       "(array([1018., 1014., 1009.,  940.,  991.,  958., 1016.,  996., 1039.,\n",
       "        1019.]),\n",
       " array([1.90755896e-04, 1.00164452e-01, 2.00138148e-01, 3.00111844e-01,\n",
       "        4.00085540e-01, 5.00059236e-01, 6.00032932e-01, 7.00006628e-01,\n",
       "        7.99980324e-01, 8.99954020e-01, 9.99927716e-01]),\n",
       " <BarContainer object of 10 artists>)"
      ]
     },
     "execution_count": 43,
     "metadata": {},
     "output_type": "execute_result"
    },
    {
     "data": {
      "image/png": "[encoded data removed]",
      "text/plain": [
       "<Figure size 640x480 with 1 Axes>"
      ]
     },
     "metadata": {},
     "output_type": "display_data"
    }
   ],
   "source": [
    "plt.hist(x)  # x代表要使用的数据，bins表示要划分区间数"
   ]
  },
  {
   "cell_type": "code",
   "execution_count": 44,
   "metadata": {},
   "outputs": [
    {
     "data": {
      "text/plain": [
       "<Axes: ylabel='Count'>"
      ]
     },
     "execution_count": 44,
     "metadata": {},
     "output_type": "execute_result"
    },
    {
     "data": {
      "image/png": "[encoded data removed]",
      "text/plain": [
       "<Figure size 640x480 with 1 Axes>"
      ]
     },
     "metadata": {},
     "output_type": "display_data"
    }
   ],
   "source": [
    "sns.histplot(x, bins=\"auto\")"
   ]
  },
  {
   "attachments": {},
   "cell_type": "markdown",
   "id": "b8bb2928",
   "metadata": {},
   "source": [
    "### np.random.uniform(low, high, shape) [low, high)均匀分布"
   ]
  },
  {
   "cell_type": "code",
   "execution_count": 45,
   "metadata": {},
   "outputs": [
    {
     "data": {
      "text/plain": [
       "array([[ 0.42866747,  0.0518033 ,  0.18960819],\n",
       "       [ 0.84147974,  0.0100406 ,  0.99159185],\n",
       "       [-0.14733458,  0.88637344,  0.71084922],\n",
       "       [-0.50012301,  0.53096386, -0.49985638],\n",
       "       [ 0.92031798, -0.0646546 , -0.90872369],\n",
       "       [ 0.41778058,  0.7317665 , -0.4954174 ],\n",
       "       [-0.96619294, -0.18511414, -0.40494396],\n",
       "       [ 0.53308577, -0.62709024, -0.16579896],\n",
       "       [-0.42951891, -0.93755153, -0.37550708],\n",
       "       [ 0.50721686, -0.49353961,  0.4123346 ]])"
      ]
     },
     "execution_count": 45,
     "metadata": {},
     "output_type": "execute_result"
    }
   ],
   "source": [
    "np.random.uniform(-1, 1, (10, 3))"
   ]
  },
  {
   "cell_type": "code",
   "execution_count": 46,
   "metadata": {},
   "outputs": [],
   "source": [
    "x = np.random.uniform(-1, 1, 10000)"
   ]
  },
  {
   "cell_type": "code",
   "execution_count": 47,
   "id": "30d6e483",
   "metadata": {
    "scrolled": false
   },
   "outputs": [
    {
     "data": {
      "text/plain": [
       "(array([444., 439., 505., 497., 466., 459., 473., 463., 450., 441., 482.,\n",
       "        471., 464., 405., 451., 459., 428., 435., 452., 412., 431., 473.]),\n",
       " array([-9.99474872e-01, -9.08592207e-01, -8.17709543e-01, -7.26826879e-01,\n",
       "        -6.35944215e-01, -5.45061551e-01, -4.54178887e-01, -3.63296223e-01,\n",
       "        -2.72413559e-01, -1.81530895e-01, -9.06482304e-02,  2.34433675e-04,\n",
       "         9.11170978e-02,  1.81999762e-01,  2.72882426e-01,  3.63765090e-01,\n",
       "         4.54647754e-01,  5.45530418e-01,  6.36413082e-01,  7.27295747e-01,\n",
       "         8.18178411e-01,  9.09061075e-01,  9.99943739e-01]),\n",
       " <BarContainer object of 22 artists>)"
      ]
     },
     "execution_count": 47,
     "metadata": {},
     "output_type": "execute_result"
    },
    {
     "data": {
      "image/png": "[encoded data removed]",
      "text/plain": [
       "<Figure size 640x480 with 1 Axes>"
      ]
     },
     "metadata": {},
     "output_type": "display_data"
    }
   ],
   "source": [
    "plt.hist(x=x, bins=\"auto\")  # x代表要使用的数据，bins表示要划分区间数"
   ]
  },
  {
   "cell_type": "code",
   "execution_count": 48,
   "metadata": {},
   "outputs": [
    {
     "data": {
      "text/plain": [
       "<Axes: ylabel='Count'>"
      ]
     },
     "execution_count": 48,
     "metadata": {},
     "output_type": "execute_result"
    },
    {
     "data": {
      "image/png": "[encoded data removed]",
      "text/plain": [
       "<Figure size 640x480 with 1 Axes>"
      ]
     },
     "metadata": {},
     "output_type": "display_data"
    }
   ],
   "source": [
    "sns.histplot(x, bins=\"auto\")"
   ]
  },
  {
   "attachments": {},
   "cell_type": "markdown",
   "metadata": {},
   "source": [
    "### np.random.randint(low, hight, shape) [low,high)随机整数\n",
    "- 返回随机整数，范围区间为[low,high)，包含low，不包含high\n",
    "- 参数：low为最小值，high为最大值，size为数组维度大小，dtype为数据类型，默认的数据类型是np.int\n",
    "- high没有填写时，默认生成随机数的范围是[0，low)"
   ]
  },
  {
   "cell_type": "code",
   "execution_count": 49,
   "metadata": {},
   "outputs": [
    {
     "data": {
      "text/plain": [
       "array([7, 7, 1, 3, 6, 5, 2, 2, 2, 1])"
      ]
     },
     "execution_count": 49,
     "metadata": {},
     "output_type": "execute_result"
    }
   ],
   "source": [
    "np.random.randint(1, 10, 10)"
   ]
  },
  {
   "cell_type": "code",
   "execution_count": 51,
   "metadata": {},
   "outputs": [
    {
     "data": {
      "text/plain": [
       "array([16,  7, 64, ..., 88, 61, 37])"
      ]
     },
     "execution_count": 51,
     "metadata": {},
     "output_type": "execute_result"
    }
   ],
   "source": [
    "x = np.random.randint(1, 100, 10000)\n",
    "x"
   ]
  },
  {
   "cell_type": "code",
   "execution_count": 52,
   "metadata": {},
   "outputs": [
    {
     "data": {
      "text/plain": [
       "(array([509., 413., 480., 416., 491., 427., 478., 436., 508., 406., 413.,\n",
       "        504., 385., 500., 407., 526., 449., 514., 364., 470., 403., 501.]),\n",
       " array([ 1.        ,  5.45454545,  9.90909091, 14.36363636, 18.81818182,\n",
       "        23.27272727, 27.72727273, 32.18181818, 36.63636364, 41.09090909,\n",
       "        45.54545455, 50.        , 54.45454545, 58.90909091, 63.36363636,\n",
       "        67.81818182, 72.27272727, 76.72727273, 81.18181818, 85.63636364,\n",
       "        90.09090909, 94.54545455, 99.        ]),\n",
       " <BarContainer object of 22 artists>)"
      ]
     },
     "execution_count": 52,
     "metadata": {},
     "output_type": "execute_result"
    },
    {
     "data": {
      "image/png": "[encoded data removed]",
      "text/plain": [
       "<Figure size 640x480 with 1 Axes>"
      ]
     },
     "metadata": {},
     "output_type": "display_data"
    }
   ],
   "source": [
    "plt.hist(x, bins=\"auto\")"
   ]
  },
  {
   "cell_type": "code",
   "execution_count": 53,
   "metadata": {},
   "outputs": [
    {
     "data": {
      "text/plain": [
       "<Axes: ylabel='Count'>"
      ]
     },
     "execution_count": 53,
     "metadata": {},
     "output_type": "execute_result"
    },
    {
     "data": {
      "image/png": "[encoded data removed]",
      "text/plain": [
       "<Figure size 640x480 with 1 Axes>"
      ]
     },
     "metadata": {},
     "output_type": "display_data"
    }
   ],
   "source": [
    "sns.histplot(x, bins=\"auto\")"
   ]
  },
  {
   "attachments": {},
   "cell_type": "markdown",
   "id": "89e95fa1",
   "metadata": {},
   "source": [
    "### np.random.randn(shape) 标准正态分布"
   ]
  },
  {
   "cell_type": "code",
   "execution_count": 54,
   "metadata": {},
   "outputs": [
    {
     "data": {
      "text/plain": [
       "array([[-1.153675  ,  0.54357787],\n",
       "       [ 0.70917033, -0.18651968],\n",
       "       [-0.0475005 , -0.7499483 ],\n",
       "       [-0.03014262,  0.35046944],\n",
       "       [ 0.45036924, -0.63125726]])"
      ]
     },
     "execution_count": 54,
     "metadata": {},
     "output_type": "execute_result"
    }
   ],
   "source": [
    "np.random.randn(5, 2)"
   ]
  },
  {
   "cell_type": "code",
   "execution_count": 55,
   "metadata": {},
   "outputs": [
    {
     "data": {
      "text/plain": [
       "array([[[-1.07892935, -0.59055801, -0.42374959],\n",
       "        [ 0.80028715, -1.23152542, -0.96591282]],\n",
       "\n",
       "       [[-0.22836749,  0.15757596, -0.25166457],\n",
       "        [ 0.6938084 , -1.24171111,  0.12029396]]])"
      ]
     },
     "execution_count": 55,
     "metadata": {},
     "output_type": "execute_result"
    }
   ],
   "source": [
    "np.random.randn(2, 2, 3)"
   ]
  },
  {
   "cell_type": "code",
   "execution_count": 56,
   "id": "c0f00d6a",
   "metadata": {},
   "outputs": [
    {
     "data": {
      "text/plain": [
       "array([-0.39669165,  0.49067242, -0.46647895, ...,  0.72724434,\n",
       "       -0.87555792,  0.59296708])"
      ]
     },
     "execution_count": 56,
     "metadata": {},
     "output_type": "execute_result"
    }
   ],
   "source": [
    "x = np.random.randn(10000)\n",
    "x"
   ]
  },
  {
   "cell_type": "code",
   "execution_count": 57,
   "id": "ed26d3e9",
   "metadata": {},
   "outputs": [
    {
     "data": {
      "text/plain": [
       "(array([  1.,   0.,   0.,   0.,   0.,   0.,   0.,   1.,   0.,   2.,   2.,\n",
       "          3.,   9.,  13.,   6.,  13.,  39.,  41.,  50.,  54.,  83., 100.,\n",
       "        114., 150., 188., 212., 262., 297., 355., 385., 390., 449., 473.,\n",
       "        472., 450., 489., 510., 495., 484., 435., 410., 380., 314., 351.,\n",
       "        290., 264., 210., 184., 117., 108.,  86.,  76.,  53.,  36.,  24.,\n",
       "         19.,  13.,  11.,  11.,   5.,   5.,   2.,   4.]),\n",
       " array([-4.52177261, -4.39523736, -4.26870212, -4.14216687, -4.01563162,\n",
       "        -3.88909638, -3.76256113, -3.63602589, -3.50949064, -3.38295539,\n",
       "        -3.25642015, -3.1298849 , -3.00334966, -2.87681441, -2.75027916,\n",
       "        -2.62374392, -2.49720867, -2.37067343, -2.24413818, -2.11760293,\n",
       "        -1.99106769, -1.86453244, -1.7379972 , -1.61146195, -1.4849267 ,\n",
       "        -1.35839146, -1.23185621, -1.10532097, -0.97878572, -0.85225047,\n",
       "        -0.72571523, -0.59917998, -0.47264474, -0.34610949, -0.21957424,\n",
       "        -0.093039  ,  0.03349625,  0.16003149,  0.28656674,  0.41310199,\n",
       "         0.53963723,  0.66617248,  0.79270772,  0.91924297,  1.04577822,\n",
       "         1.17231346,  1.29884871,  1.42538395,  1.5519192 ,  1.67845445,\n",
       "         1.80498969,  1.93152494,  2.05806018,  2.18459543,  2.31113068,\n",
       "         2.43766592,  2.56420117,  2.69073641,  2.81727166,  2.94380691,\n",
       "         3.07034215,  3.1968774 ,  3.32341264,  3.44994789]),\n",
       " <BarContainer object of 63 artists>)"
      ]
     },
     "execution_count": 57,
     "metadata": {},
     "output_type": "execute_result"
    },
    {
     "data": {
      "image/png": "[encoded data removed]",
      "text/plain": [
       "<Figure size 640x480 with 1 Axes>"
      ]
     },
     "metadata": {},
     "output_type": "display_data"
    }
   ],
   "source": [
    "plt.hist(x, bins=\"auto\")"
   ]
  },
  {
   "cell_type": "code",
   "execution_count": 58,
   "metadata": {},
   "outputs": [
    {
     "data": {
      "text/plain": [
       "<Axes: ylabel='Count'>"
      ]
     },
     "execution_count": 58,
     "metadata": {},
     "output_type": "execute_result"
    },
    {
     "data": {
      "image/png": "[encoded data removed]",
      "text/plain": [
       "<Figure size 640x480 with 1 Axes>"
      ]
     },
     "metadata": {},
     "output_type": "display_data"
    }
   ],
   "source": [
    "sns.histplot(x, bins=\"auto\")"
   ]
  },
  {
   "attachments": {},
   "cell_type": "markdown",
   "id": "071cf6a0",
   "metadata": {},
   "source": [
    "### np.random.normal(loc=0.0, scale=1.0, size=None) 正态分布"
   ]
  },
  {
   "cell_type": "code",
   "execution_count": 59,
   "metadata": {},
   "outputs": [
    {
     "data": {
      "text/plain": [
       "array([[-11.06945503, -26.05653455,  -3.30983117],\n",
       "       [-15.81681115, -13.52349968,  -2.93550685],\n",
       "       [ -7.58595517, -12.47590674, -14.4324736 ],\n",
       "       [-20.36100486,  -8.61475146,  -5.97483852]])"
      ]
     },
     "execution_count": 59,
     "metadata": {},
     "output_type": "execute_result"
    }
   ],
   "source": [
    "np.random.normal(-10, 10, (4, 3))"
   ]
  },
  {
   "cell_type": "code",
   "execution_count": 60,
   "metadata": {},
   "outputs": [
    {
     "data": {
      "text/plain": [
       "array([-29.20521118, -26.31437774,  -0.65022774, ...,   2.40943583,\n",
       "        -8.98483103,  26.5095418 ])"
      ]
     },
     "execution_count": 60,
     "metadata": {},
     "output_type": "execute_result"
    }
   ],
   "source": [
    "x = np.random.normal(10, 20, 10000)\n",
    "x"
   ]
  },
  {
   "cell_type": "code",
   "execution_count": 61,
   "id": "7dfd0c24",
   "metadata": {},
   "outputs": [
    {
     "data": {
      "text/plain": [
       "(array([  1.,   0.,   0.,   0.,   2.,   3.,   8.,   7.,   9.,  14.,   9.,\n",
       "         29.,  33.,  45.,  54.,  78.,  75., 100., 127., 177., 206., 234.,\n",
       "        289., 291., 336., 379., 393., 425., 478., 460., 511., 487., 521.,\n",
       "        453., 490., 427., 420., 349., 351., 304., 268., 238., 182., 158.,\n",
       "        124., 109.,  79.,  79.,  41.,  40.,  30.,  25.,  21.,   6.,   9.,\n",
       "          6.,   6.,   3.,   1.]),\n",
       " array([-68.77726864, -66.27034146, -63.76341427, -61.25648708,\n",
       "        -58.7495599 , -56.24263271, -53.73570553, -51.22877834,\n",
       "        -48.72185116, -46.21492397, -43.70799679, -41.2010696 ,\n",
       "        -38.69414241, -36.18721523, -33.68028804, -31.17336086,\n",
       "        -28.66643367, -26.15950649, -23.6525793 , -21.14565212,\n",
       "        -18.63872493, -16.13179774, -13.62487056, -11.11794337,\n",
       "         -8.61101619,  -6.104089  ,  -3.59716182,  -1.09023463,\n",
       "          1.41669255,   3.92361974,   6.43054693,   8.93747411,\n",
       "         11.4444013 ,  13.95132848,  16.45825567,  18.96518285,\n",
       "         21.47211004,  23.97903722,  26.48596441,  28.9928916 ,\n",
       "         31.49981878,  34.00674597,  36.51367315,  39.02060034,\n",
       "         41.52752752,  44.03445471,  46.54138189,  49.04830908,\n",
       "         51.55523627,  54.06216345,  56.56909064,  59.07601782,\n",
       "         61.58294501,  64.08987219,  66.59679938,  69.10372656,\n",
       "         71.61065375,  74.11758094,  76.62450812,  79.13143531]),\n",
       " <BarContainer object of 59 artists>)"
      ]
     },
     "execution_count": 61,
     "metadata": {},
     "output_type": "execute_result"
    },
    {
     "data": {
      "image/png": "[encoded data removed]",
      "text/plain": [
       "<Figure size 640x480 with 1 Axes>"
      ]
     },
     "metadata": {},
     "output_type": "display_data"
    }
   ],
   "source": [
    "plt.hist(x, bins=\"auto\")"
   ]
  },
  {
   "cell_type": "code",
   "execution_count": 62,
   "metadata": {},
   "outputs": [
    {
     "data": {
      "text/plain": [
       "<Axes: ylabel='Count'>"
      ]
     },
     "execution_count": 62,
     "metadata": {},
     "output_type": "execute_result"
    },
    {
     "data": {
      "image/png": "[encoded data removed]",
      "text/plain": [
       "<Figure size 640x480 with 1 Axes>"
      ]
     },
     "metadata": {},
     "output_type": "display_data"
    }
   ],
   "source": [
    "sns.histplot(x, bins=\"auto\")"
   ]
  },
  {
   "cell_type": "markdown",
   "metadata": {},
   "source": [
    "### np.random.exponential(scale=1.0, size) 指数分布"
   ]
  },
  {
   "cell_type": "code",
   "execution_count": 2,
   "metadata": {},
   "outputs": [
    {
     "data": {
      "text/plain": [
       "array([[0.15711847, 2.04013691, 1.21560327],\n",
       "       [0.3486465 , 0.62792401, 0.53963169],\n",
       "       [0.57055058, 0.47650611, 1.38898445],\n",
       "       [0.95791075, 0.66257399, 1.67790461]])"
      ]
     },
     "execution_count": 2,
     "metadata": {},
     "output_type": "execute_result"
    }
   ],
   "source": [
    "# scale\n",
    "np.random.exponential(scale=1.0, size=(4, 3))"
   ]
  },
  {
   "cell_type": "code",
   "execution_count": 3,
   "metadata": {},
   "outputs": [
    {
     "data": {
      "text/plain": [
       "array([2.92962506, 1.10875443, 1.75091558, ..., 1.86830641, 0.97858903,\n",
       "       0.40625999])"
      ]
     },
     "execution_count": 3,
     "metadata": {},
     "output_type": "execute_result"
    }
   ],
   "source": [
    "x = np.random.exponential(scale=1.0, size=10000)\n",
    "x"
   ]
  },
  {
   "cell_type": "code",
   "execution_count": 4,
   "metadata": {},
   "outputs": [
    {
     "data": {
      "text/plain": [
       "(array([942., 904., 818., 699., 618., 590., 480., 463., 440., 407., 366.,\n",
       "        332., 264., 260., 254., 209., 191., 197., 145., 149., 134., 111.,\n",
       "         97.,  78.,  83.,  83.,  66.,  70.,  55.,  44.,  50.,  37.,  32.,\n",
       "         41.,  34.,  28.,  23.,  11.,  28.,  15.,  17.,  15.,   9.,   9.,\n",
       "         15.,   6.,   4.,   6.,   8.,   7.,   7.,   4.,   5.,   5.,   5.,\n",
       "          4.,   5.,   2.,   3.,   0.,   0.,   2.,   2.,   3.,   4.,   0.,\n",
       "          1.,   1.,   0.,   2.,   0.,   1.]),\n",
       " array([1.71497776e-04, 1.02474819e-01, 2.04778140e-01, 3.07081462e-01,\n",
       "        4.09384783e-01, 5.11688104e-01, 6.13991426e-01, 7.16294747e-01,\n",
       "        8.18598068e-01, 9.20901390e-01, 1.02320471e+00, 1.12550803e+00,\n",
       "        1.22781135e+00, 1.33011468e+00, 1.43241800e+00, 1.53472132e+00,\n",
       "        1.63702464e+00, 1.73932796e+00, 1.84163128e+00, 1.94393460e+00,\n",
       "        2.04623792e+00, 2.14854125e+00, 2.25084457e+00, 2.35314789e+00,\n",
       "        2.45545121e+00, 2.55775453e+00, 2.66005785e+00, 2.76236117e+00,\n",
       "        2.86466449e+00, 2.96696782e+00, 3.06927114e+00, 3.17157446e+00,\n",
       "        3.27387778e+00, 3.37618110e+00, 3.47848442e+00, 3.58078774e+00,\n",
       "        3.68309107e+00, 3.78539439e+00, 3.88769771e+00, 3.99000103e+00,\n",
       "        4.09230435e+00, 4.19460767e+00, 4.29691099e+00, 4.39921431e+00,\n",
       "        4.50151764e+00, 4.60382096e+00, 4.70612428e+00, 4.80842760e+00,\n",
       "        4.91073092e+00, 5.01303424e+00, 5.11533756e+00, 5.21764089e+00,\n",
       "        5.31994421e+00, 5.42224753e+00, 5.52455085e+00, 5.62685417e+00,\n",
       "        5.72915749e+00, 5.83146081e+00, 5.93376413e+00, 6.03606746e+00,\n",
       "        6.13837078e+00, 6.24067410e+00, 6.34297742e+00, 6.44528074e+00,\n",
       "        6.54758406e+00, 6.64988738e+00, 6.75219071e+00, 6.85449403e+00,\n",
       "        6.95679735e+00, 7.05910067e+00, 7.16140399e+00, 7.26370731e+00,\n",
       "        7.36601063e+00]),\n",
       " <BarContainer object of 72 artists>)"
      ]
     },
     "execution_count": 4,
     "metadata": {},
     "output_type": "execute_result"
    },
    {
     "data": {
      "image/png": "[encoded data removed]",
      "text/plain": [
       "<Figure size 640x480 with 1 Axes>"
      ]
     },
     "metadata": {},
     "output_type": "display_data"
    }
   ],
   "source": [
    "plt.hist(x, bins=\"auto\")"
   ]
  },
  {
   "cell_type": "code",
   "execution_count": 5,
   "metadata": {},
   "outputs": [
    {
     "data": {
      "text/plain": [
       "<Axes: ylabel='Count'>"
      ]
     },
     "execution_count": 5,
     "metadata": {},
     "output_type": "execute_result"
    },
    {
     "data": {
      "image/png": "[encoded data removed]",
      "text/plain": [
       "<Figure size 640x480 with 1 Axes>"
      ]
     },
     "metadata": {},
     "output_type": "display_data"
    }
   ],
   "source": [
    "sns.histplot(x, bins=\"auto\")"
   ]
  },
  {
   "cell_type": "markdown",
   "metadata": {},
   "source": [
    "### np.random.beat(a, b, size=None) beta分布\n",
    "\n",
    "- a: float or array_like of floats. Alpha, positive (>0).\n",
    "- b: float or array_like of floats. Beta, positive (>0)."
   ]
  },
  {
   "cell_type": "code",
   "execution_count": 7,
   "metadata": {},
   "outputs": [
    {
     "data": {
      "text/plain": [
       "array([[0.11586505, 0.038063  , 0.35176151],\n",
       "       [0.06390149, 0.12960143, 0.41017954],\n",
       "       [0.02002735, 0.65065081, 0.55129974],\n",
       "       [0.26702079, 0.21182846, 0.07426127]])"
      ]
     },
     "execution_count": 7,
     "metadata": {},
     "output_type": "execute_result"
    }
   ],
   "source": [
    "np.random.beta(a=2, b=5, size=(4, 3))"
   ]
  },
  {
   "cell_type": "code",
   "execution_count": 8,
   "metadata": {},
   "outputs": [
    {
     "data": {
      "text/plain": [
       "array([0.3063941 , 0.39220301, 0.29864445, ..., 0.32969994, 0.29536538,\n",
       "       0.28185745])"
      ]
     },
     "execution_count": 8,
     "metadata": {},
     "output_type": "execute_result"
    }
   ],
   "source": [
    "x = np.random.beta(a=10, b=20, size=10000)\n",
    "x"
   ]
  },
  {
   "cell_type": "code",
   "execution_count": 9,
   "metadata": {},
   "outputs": [
    {
     "data": {
      "text/plain": [
       "(array([  1.,   1.,   1.,   5.,   5.,  13.,  20.,  26.,  45.,  76., 100.,\n",
       "        115., 139., 219., 235., 288., 313., 356., 364., 433., 435., 415.,\n",
       "        520., 458., 466., 496., 472., 510., 436., 388., 385., 311., 294.,\n",
       "        260., 241., 209., 166., 170., 108., 106.,  98.,  75.,  59.,  47.,\n",
       "         27.,  20.,  20.,  19.,   7.,  11.,   4.,   3.,   1.,   4.,   1.,\n",
       "          0.,   0.,   3.]),\n",
       " array([0.06571582, 0.0763279 , 0.08693998, 0.09755206, 0.10816414,\n",
       "        0.11877622, 0.1293883 , 0.14000038, 0.15061245, 0.16122453,\n",
       "        0.17183661, 0.18244869, 0.19306077, 0.20367285, 0.21428493,\n",
       "        0.22489701, 0.23550909, 0.24612117, 0.25673325, 0.26734533,\n",
       "        0.27795741, 0.28856949, 0.29918157, 0.30979365, 0.32040573,\n",
       "        0.33101781, 0.34162989, 0.35224197, 0.36285405, 0.37346613,\n",
       "        0.38407821, 0.39469029, 0.40530237, 0.41591445, 0.42652653,\n",
       "        0.43713861, 0.44775069, 0.45836277, 0.46897485, 0.47958693,\n",
       "        0.49019901, 0.50081109, 0.51142317, 0.52203525, 0.53264733,\n",
       "        0.54325941, 0.55387149, 0.56448357, 0.57509565, 0.58570773,\n",
       "        0.59631981, 0.60693189, 0.61754397, 0.62815605, 0.63876813,\n",
       "        0.64938021, 0.65999229, 0.67060437, 0.68121644]),\n",
       " <BarContainer object of 58 artists>)"
      ]
     },
     "execution_count": 9,
     "metadata": {},
     "output_type": "execute_result"
    },
    {
     "data": {
      "image/png": "[encoded data removed]",
      "text/plain": [
       "<Figure size 640x480 with 1 Axes>"
      ]
     },
     "metadata": {},
     "output_type": "display_data"
    }
   ],
   "source": [
    "plt.hist(x, bins=\"auto\")"
   ]
  },
  {
   "cell_type": "code",
   "execution_count": 10,
   "metadata": {},
   "outputs": [
    {
     "data": {
      "text/plain": [
       "<Axes: ylabel='Count'>"
      ]
     },
     "execution_count": 10,
     "metadata": {},
     "output_type": "execute_result"
    },
    {
     "data": {
      "image/png": "[encoded data removed]",
      "text/plain": [
       "<Figure size 640x480 with 1 Axes>"
      ]
     },
     "metadata": {},
     "output_type": "display_data"
    }
   ],
   "source": [
    "sns.histplot(x, bins=\"auto\")"
   ]
  },
  {
   "cell_type": "markdown",
   "metadata": {},
   "source": [
    "### np.random.choice"
   ]
  },
  {
   "cell_type": "markdown",
   "metadata": {},
   "source": [
    "#### 随机选择一个数"
   ]
  },
  {
   "cell_type": "code",
   "execution_count": 46,
   "metadata": {},
   "outputs": [
    {
     "data": {
      "text/plain": [
       "3"
      ]
     },
     "execution_count": 46,
     "metadata": {},
     "output_type": "execute_result"
    }
   ],
   "source": [
    "# [0, 5)中随机输出一个随机数\n",
    "np.random.choice(5)"
   ]
  },
  {
   "attachments": {},
   "cell_type": "markdown",
   "metadata": {},
   "source": [
    "#### 随机选择多维数据"
   ]
  },
  {
   "cell_type": "code",
   "execution_count": 54,
   "metadata": {},
   "outputs": [
    {
     "data": {
      "text/plain": [
       "array([1, 0, 4])"
      ]
     },
     "execution_count": 54,
     "metadata": {},
     "output_type": "execute_result"
    }
   ],
   "source": [
    "# 在[0, 5)内输出五个数字并组成一维数组(ndarray)\n",
    "np.random.choice(5, 3)\n",
    "# 相当于np.random.randint(0, 5, 3)"
   ]
  },
  {
   "cell_type": "code",
   "execution_count": 53,
   "metadata": {},
   "outputs": [
    {
     "data": {
      "text/plain": [
       "array([[0, 4],\n",
       "       [0, 4],\n",
       "       [2, 2]])"
      ]
     },
     "execution_count": 53,
     "metadata": {},
     "output_type": "execute_result"
    }
   ],
   "source": [
    "# 在[0, 5)内输出五个数字并组成2维数组(ndarray)\n",
    "np.random.choice(5, (3, 2))"
   ]
  },
  {
   "attachments": {},
   "cell_type": "markdown",
   "metadata": {},
   "source": [
    "#### 从数组、列表或元组中随机抽取(必须为一维数据)"
   ]
  },
  {
   "cell_type": "code",
   "execution_count": 57,
   "metadata": {},
   "outputs": [
    {
     "data": {
      "text/plain": [
       "array([5, 8, 9, 7, 3, 9, 2, 4, 1, 6])"
      ]
     },
     "execution_count": 57,
     "metadata": {},
     "output_type": "execute_result"
    }
   ],
   "source": [
    "x5 = np.random.randint(1, 10, 1000)\n",
    "x5[:10]"
   ]
  },
  {
   "cell_type": "code",
   "execution_count": 58,
   "metadata": {},
   "outputs": [
    {
     "data": {
      "text/plain": [
       "array([9, 3, 1, 2, 2, 9, 8, 5, 7, 1])"
      ]
     },
     "execution_count": 58,
     "metadata": {},
     "output_type": "execute_result"
    }
   ],
   "source": [
    "np.random.choice(x5, 10)"
   ]
  },
  {
   "cell_type": "markdown",
   "metadata": {},
   "source": [
    "#### 参数 replace True: 不取重复数据(默认) False:取重复数据"
   ]
  },
  {
   "cell_type": "code",
   "execution_count": 59,
   "metadata": {},
   "outputs": [
    {
     "data": {
      "text/plain": [
       "array([5, 8, 3, 8, 8, 6, 3, 3, 1, 2])"
      ]
     },
     "execution_count": 59,
     "metadata": {},
     "output_type": "execute_result"
    }
   ],
   "source": [
    "np.random.choice(x5, 10, replace=False)"
   ]
  },
  {
   "attachments": {},
   "cell_type": "markdown",
   "metadata": {},
   "source": [
    "#### 参数p 是个数组，大小(size)应该与指定的a相同，用来规定选取a中每个元素的概率，默认为概率相同\n",
    "- p 总和为0"
   ]
  },
  {
   "cell_type": "code",
   "execution_count": 63,
   "metadata": {},
   "outputs": [],
   "source": [
    "def softmax(x: np.ndarray, axis: int=0) -> np.ndarray:\n",
    "    \"\"\"将每个值求e的指数全都变为大于0的值，然后除以求指数之后的总和\n",
    "        Softmax(x)_i = \\frac {e^{x_i}} {{\\sum_{j=1}^{n}} e^{x_j}}\n",
    "    Args:\n",
    "        x (np.ndarray): data\n",
    "        axis (int, optional): 在哪个通道上计算. Defaults to 0.\n",
    "\n",
    "    Returns:\n",
    "        np.ndarray: softmax result\n",
    "    \"\"\"\n",
    "    # 为了稳定地计算softmax概率， 一般会减掉最大的那个元素\n",
    "    x -= np.max(x, axis=axis, keepdims=True)\n",
    "    x = np.exp(x)\n",
    "    return x / np.sum(x, axis=axis, keepdims=True)"
   ]
  },
  {
   "cell_type": "code",
   "execution_count": 65,
   "metadata": {},
   "outputs": [
    {
     "data": {
      "text/plain": [
       "array([0.00073921, 0.00138132, 0.00086981, 0.00092825, 0.00085867,\n",
       "       0.00156019, 0.00106837, 0.00108963, 0.00106499, 0.00063174])"
      ]
     },
     "execution_count": 65,
     "metadata": {},
     "output_type": "execute_result"
    }
   ],
   "source": [
    "p = np.random.uniform(0, 1, 1000)\n",
    "p = softmax(p)\n",
    "p[:10]"
   ]
  },
  {
   "cell_type": "code",
   "execution_count": 66,
   "metadata": {},
   "outputs": [
    {
     "data": {
      "text/plain": [
       "array([6, 3, 8, 1, 7, 8, 6, 1, 6, 7])"
      ]
     },
     "execution_count": 66,
     "metadata": {},
     "output_type": "execute_result"
    }
   ],
   "source": [
    "np.random.choice(x5, 10, p=p)"
   ]
  }
 ],
 "metadata": {
  "kernelspec": {
   "display_name": "pytorch",
   "language": "python",
   "name": "python3"
  },
  "language_info": {
   "codemirror_mode": {
    "name": "ipython",
    "version": 3
   },
   "file_extension": ".py",
   "mimetype": "text/x-python",
   "name": "python",
   "nbconvert_exporter": "python",
   "pygments_lexer": "ipython3",
   "version": "3.11.4"
  },
  "orig_nbformat": 4,
  "vscode": {
   "interpreter": {
    "hash": "6e3a9582807446cfda6e60e7a572d3bab8c423d141a376f0e3f6f7956ef3b5a5"
   }
  }
 },
 "nbformat": 4,
 "nbformat_minor": 2
}
