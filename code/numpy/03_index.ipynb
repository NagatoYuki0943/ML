{
 "cells": [
  {
   "cell_type": "code",
   "execution_count": 1,
   "metadata": {},
   "outputs": [],
   "source": [
    "import numpy as np"
   ]
  },
  {
   "cell_type": "markdown",
   "id": "d1ba0ae6",
   "metadata": {},
   "source": [
    "## 数组的索引、切片"
   ]
  },
  {
   "cell_type": "code",
   "execution_count": 2,
   "id": "bce0f522",
   "metadata": {
    "scrolled": true
   },
   "outputs": [
    {
     "data": {
      "text/plain": [
       "array([[80, 89, 86, 67, 79],\n",
       "       [78, 97, 89, 67, 81],\n",
       "       [90, 94, 78, 67, 74],\n",
       "       [91, 91, 90, 67, 69],\n",
       "       [76, 87, 75, 67, 86],\n",
       "       [70, 79, 84, 67, 84],\n",
       "       [94, 92, 93, 67, 64],\n",
       "       [86, 85, 83, 67, 80]])"
      ]
     },
     "execution_count": 2,
     "metadata": {},
     "output_type": "execute_result"
    }
   ],
   "source": [
    "arr = np.array(\n",
    "            [[80, 89, 86, 67, 79],\n",
    "            [78, 97, 89, 67, 81],\n",
    "            [90, 94, 78, 67, 74],\n",
    "            [91, 91, 90, 67, 69],\n",
    "            [76, 87, 75, 67, 86],\n",
    "            [70, 79, 84, 67, 84],\n",
    "            [94, 92, 93, 67, 64],\n",
    "            [86, 85, 83, 67, 80]])\n",
    "arr"
   ]
  },
  {
   "cell_type": "code",
   "execution_count": 3,
   "id": "2b356cd8",
   "metadata": {},
   "outputs": [
    {
     "data": {
      "text/plain": [
       "78"
      ]
     },
     "execution_count": 3,
     "metadata": {},
     "output_type": "execute_result"
    }
   ],
   "source": [
    "# 先行后列\n",
    "arr[1][0]"
   ]
  },
  {
   "cell_type": "code",
   "execution_count": 4,
   "id": "73c113cf",
   "metadata": {},
   "outputs": [
    {
     "data": {
      "text/plain": [
       "array([[78]])"
      ]
     },
     "execution_count": 4,
     "metadata": {},
     "output_type": "execute_result"
    }
   ],
   "source": [
    "arr[1:2, :1]"
   ]
  },
  {
   "cell_type": "markdown",
   "id": "32c82771",
   "metadata": {},
   "source": [
    "### 二维数组索引"
   ]
  },
  {
   "cell_type": "code",
   "execution_count": 5,
   "id": "e44fa6b1",
   "metadata": {},
   "outputs": [
    {
     "data": {
      "text/plain": [
       "array([0.65380215, 2.2181168 , 0.16889885])"
      ]
     },
     "execution_count": 5,
     "metadata": {},
     "output_type": "execute_result"
    }
   ],
   "source": [
    "stock_change = np.random.normal(0, 1, (4, 5))\n",
    "# 获取第一个股票的前3个交易日的涨跌幅数据\n",
    "# 二维的数组，两个维度\n",
    "stock_change[0, 0:3]"
   ]
  },
  {
   "cell_type": "markdown",
   "id": "808e0c2a",
   "metadata": {},
   "source": [
    "### 三维数组索引"
   ]
  },
  {
   "cell_type": "code",
   "execution_count": 7,
   "id": "9050d67b",
   "metadata": {},
   "outputs": [
    {
     "data": {
      "text/plain": [
       "array([1, 2])"
      ]
     },
     "execution_count": 7,
     "metadata": {},
     "output_type": "execute_result"
    }
   ],
   "source": [
    "# 三维\n",
    "a1 = np.array([[[1, 2, 3], [4, 5, 6]], [[12, 3, 34], [5, 6, 7]]])\n",
    "# 返回结果\n",
    "# array([[[ 1,  2,  3],\n",
    "#         [ 4,  5,  6]],\n",
    "#         [[12,  3, 34],\n",
    "#         [ 5,  6,  7]]])\n",
    "\n",
    "a1[0, 0, 0:2]   # 输出: array([1, 2])"
   ]
  },
  {
   "cell_type": "markdown",
   "metadata": {},
   "source": [
    "## bool 索引"
   ]
  },
  {
   "cell_type": "code",
   "execution_count": 12,
   "metadata": {},
   "outputs": [
    {
     "data": {
      "text/plain": [
       "array([ 1.,  2.,  3.,  4.,  5.,  6.,  7.,  8.,  9., 10.])"
      ]
     },
     "execution_count": 12,
     "metadata": {},
     "output_type": "execute_result"
    }
   ],
   "source": [
    "a2 = np.linspace(1, 10, 10)\n",
    "a2"
   ]
  },
  {
   "cell_type": "code",
   "execution_count": 13,
   "metadata": {},
   "outputs": [
    {
     "data": {
      "text/plain": [
       "array([ 6.,  7.,  8.,  9., 10.])"
      ]
     },
     "execution_count": 13,
     "metadata": {},
     "output_type": "execute_result"
    }
   ],
   "source": [
    "a2[a2>5]"
   ]
  },
  {
   "cell_type": "code",
   "execution_count": 14,
   "metadata": {},
   "outputs": [
    {
     "data": {
      "text/plain": [
       "array([1., 2., 3., 4., 5., 5., 5., 5., 5., 5.])"
      ]
     },
     "execution_count": 14,
     "metadata": {},
     "output_type": "execute_result"
    }
   ],
   "source": [
    "a2[a2>5] = 5\n",
    "a2"
   ]
  }
 ],
 "metadata": {
  "kernelspec": {
   "display_name": "pytorch",
   "language": "python",
   "name": "python3"
  },
  "language_info": {
   "codemirror_mode": {
    "name": "ipython",
    "version": 3
   },
   "file_extension": ".py",
   "mimetype": "text/x-python",
   "name": "python",
   "nbconvert_exporter": "python",
   "pygments_lexer": "ipython3",
   "version": "3.9.15"
  },
  "orig_nbformat": 4,
  "vscode": {
   "interpreter": {
    "hash": "6e3a9582807446cfda6e60e7a572d3bab8c423d141a376f0e3f6f7956ef3b5a5"
   }
  }
 },
 "nbformat": 4,
 "nbformat_minor": 2
}
