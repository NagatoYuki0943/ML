{
 "cells": [
  {
   "cell_type": "code",
   "execution_count": 1,
   "metadata": {},
   "outputs": [],
   "source": [
    "import matplotlib.pyplot as plt\n",
    "import numpy as np"
   ]
  },
  {
   "cell_type": "markdown",
   "id": "53a03215",
   "metadata": {},
   "source": [
    "## 形状修改"
   ]
  },
  {
   "cell_type": "code",
   "execution_count": 2,
   "metadata": {},
   "outputs": [],
   "source": [
    "stock_change = np.random.normal(0, 1, (4, 5))"
   ]
  },
  {
   "attachments": {},
   "cell_type": "markdown",
   "id": "6c109c76",
   "metadata": {},
   "source": [
    "###  数组.reshape(shape, order) 不改变实际数据\n",
    "- 将数组变为一行,然后按照列数重新切断,分成不同行\n",
    "- 返回一个具有相同数据域，但shape不一样的视图\n",
    "- 行、列不进行互换"
   ]
  },
  {
   "cell_type": "code",
   "execution_count": 3,
   "id": "b0941206",
   "metadata": {
    "scrolled": true
   },
   "outputs": [
    {
     "data": {
      "text/plain": [
       "array([[ 0.25039431,  0.70667208, -1.33872455, -0.64909687, -1.6498176 ],\n",
       "       [-0.78682022, -1.45516223,  1.90928985, -1.73756013, -0.3036893 ],\n",
       "       [-0.01158256,  0.8418156 ,  0.25184198,  0.61047642,  0.15620136],\n",
       "       [ 1.12128959,  0.67902333,  0.62488147,  0.87878523, -0.33199807]])"
      ]
     },
     "execution_count": 3,
     "metadata": {},
     "output_type": "execute_result"
    }
   ],
   "source": [
    "stock_change"
   ]
  },
  {
   "cell_type": "code",
   "execution_count": 4,
   "id": "80bd968a",
   "metadata": {
    "scrolled": true
   },
   "outputs": [
    {
     "data": {
      "text/plain": [
       "array([[ 0.25039431,  0.70667208, -1.33872455, -0.64909687],\n",
       "       [-1.6498176 , -0.78682022, -1.45516223,  1.90928985],\n",
       "       [-1.73756013, -0.3036893 , -0.01158256,  0.8418156 ],\n",
       "       [ 0.25184198,  0.61047642,  0.15620136,  1.12128959],\n",
       "       [ 0.67902333,  0.62488147,  0.87878523, -0.33199807]])"
      ]
     },
     "execution_count": 4,
     "metadata": {},
     "output_type": "execute_result"
    }
   ],
   "source": [
    "# 在转换形状的时候，一定要注意数组的元素匹配\n",
    "stock_change.reshape([5,4])"
   ]
  },
  {
   "cell_type": "code",
   "execution_count": 5,
   "id": "63271841",
   "metadata": {},
   "outputs": [
    {
     "data": {
      "text/plain": [
       "array([[ 0.25039431,  0.70667208, -1.33872455, -0.64909687, -1.6498176 ,\n",
       "        -0.78682022, -1.45516223,  1.90928985, -1.73756013, -0.3036893 ],\n",
       "       [-0.01158256,  0.8418156 ,  0.25184198,  0.61047642,  0.15620136,\n",
       "         1.12128959,  0.67902333,  0.62488147,  0.87878523, -0.33199807]])"
      ]
     },
     "execution_count": 5,
     "metadata": {},
     "output_type": "execute_result"
    }
   ],
   "source": [
    "# 不知道多少行,每行10列\n",
    "stock_change.reshape([-1,10])"
   ]
  },
  {
   "attachments": {},
   "cell_type": "markdown",
   "id": "b8dfcc04",
   "metadata": {},
   "source": [
    "###  数组.resize(new_shape) 改变实际数据\n",
    "- 将数组变为一行,然后按照列数重新切断,分成不同行\n",
    "- 修改数组本身的形状（需要保持元素个数前后相同）\n",
    "- 行、列不进行互换"
   ]
  },
  {
   "cell_type": "code",
   "execution_count": 6,
   "id": "d0de566a",
   "metadata": {},
   "outputs": [
    {
     "data": {
      "text/plain": [
       "(10, 2)"
      ]
     },
     "execution_count": 6,
     "metadata": {},
     "output_type": "execute_result"
    }
   ],
   "source": [
    "stock_change.resize([10, 2])\n",
    "stock_change.shape"
   ]
  },
  {
   "cell_type": "code",
   "execution_count": 7,
   "id": "12e355eb",
   "metadata": {},
   "outputs": [
    {
     "data": {
      "text/plain": [
       "array([[ 0.25039431,  0.70667208],\n",
       "       [-1.33872455, -0.64909687],\n",
       "       [-1.6498176 , -0.78682022],\n",
       "       [-1.45516223,  1.90928985],\n",
       "       [-1.73756013, -0.3036893 ],\n",
       "       [-0.01158256,  0.8418156 ],\n",
       "       [ 0.25184198,  0.61047642],\n",
       "       [ 0.15620136,  1.12128959],\n",
       "       [ 0.67902333,  0.62488147],\n",
       "       [ 0.87878523, -0.33199807]])"
      ]
     },
     "execution_count": 7,
     "metadata": {},
     "output_type": "execute_result"
    }
   ],
   "source": [
    "stock_change"
   ]
  },
  {
   "cell_type": "markdown",
   "id": "7b3a731e",
   "metadata": {},
   "source": [
    "###  数组转置 .T\n",
    "\n",
    "- 数组的转置\n",
    "- 将数组的行、列进行互换"
   ]
  },
  {
   "cell_type": "code",
   "execution_count": 9,
   "id": "1e3bf3f1",
   "metadata": {},
   "outputs": [
    {
     "data": {
      "text/plain": [
       "(2, 10)"
      ]
     },
     "execution_count": 9,
     "metadata": {},
     "output_type": "execute_result"
    }
   ],
   "source": [
    "stock_change.T.shape"
   ]
  },
  {
   "cell_type": "code",
   "execution_count": 10,
   "id": "9c5e3010",
   "metadata": {},
   "outputs": [
    {
     "data": {
      "text/plain": [
       "array([[ 0.25039431,  0.70667208],\n",
       "       [-1.33872455, -0.64909687],\n",
       "       [-1.6498176 , -0.78682022],\n",
       "       [-1.45516223,  1.90928985],\n",
       "       [-1.73756013, -0.3036893 ],\n",
       "       [-0.01158256,  0.8418156 ],\n",
       "       [ 0.25184198,  0.61047642],\n",
       "       [ 0.15620136,  1.12128959],\n",
       "       [ 0.67902333,  0.62488147],\n",
       "       [ 0.87878523, -0.33199807]])"
      ]
     },
     "execution_count": 10,
     "metadata": {},
     "output_type": "execute_result"
    }
   ],
   "source": [
    "stock_change"
   ]
  },
  {
   "cell_type": "markdown",
   "id": "3aaaa7ee",
   "metadata": {},
   "source": [
    "##  类型修改"
   ]
  },
  {
   "cell_type": "markdown",
   "id": "963af6df",
   "metadata": {},
   "source": [
    "###  数组.astype(type)\n",
    "\n",
    "- 返回修改了类型之后的数组"
   ]
  },
  {
   "cell_type": "code",
   "execution_count": 11,
   "id": "a1a754b4",
   "metadata": {},
   "outputs": [
    {
     "data": {
      "text/plain": [
       "array([[ 0,  0],\n",
       "       [-1,  0],\n",
       "       [-1,  0],\n",
       "       [-1,  1],\n",
       "       [-1,  0],\n",
       "       [ 0,  0],\n",
       "       [ 0,  0],\n",
       "       [ 0,  1],\n",
       "       [ 0,  0],\n",
       "       [ 0,  0]])"
      ]
     },
     "execution_count": 11,
     "metadata": {},
     "output_type": "execute_result"
    }
   ],
   "source": [
    "stock_change.astype(np.int32)"
   ]
  },
  {
   "cell_type": "markdown",
   "id": "d0da990f",
   "metadata": {},
   "source": [
    "### 数组.tostring([order])或者数组.tobytes([order])\n",
    "\n",
    "- 构造包含数组中原始数据字节的Python字节"
   ]
  },
  {
   "cell_type": "code",
   "execution_count": 12,
   "id": "9d00640f",
   "metadata": {},
   "outputs": [
    {
     "data": {
      "text/plain": [
       "b'\\x01\\x00\\x00\\x00\\x02\\x00\\x00\\x00\\x03\\x00\\x00\\x00\\x04\\x00\\x00\\x00\\x05\\x00\\x00\\x00\\x06\\x00\\x00\\x00\\x0c\\x00\\x00\\x00\\x03\\x00\\x00\\x00\"\\x00\\x00\\x00\\x05\\x00\\x00\\x00\\x06\\x00\\x00\\x00\\x07\\x00\\x00\\x00'"
      ]
     },
     "execution_count": 12,
     "metadata": {},
     "output_type": "execute_result"
    }
   ],
   "source": [
    "arr = np.array([[[1, 2, 3], [4, 5, 6]], [[12, 3, 34], [5, 6, 7]]])\n",
    "arr.tobytes()"
   ]
  }
 ],
 "metadata": {
  "kernelspec": {
   "display_name": "pytorch",
   "language": "python",
   "name": "python3"
  },
  "language_info": {
   "codemirror_mode": {
    "name": "ipython",
    "version": 3
   },
   "file_extension": ".py",
   "mimetype": "text/x-python",
   "name": "python",
   "nbconvert_exporter": "python",
   "pygments_lexer": "ipython3",
   "version": "3.9.13"
  },
  "orig_nbformat": 4,
  "vscode": {
   "interpreter": {
    "hash": "5b5292cc5f82d8561d05c044f8ed41e8f78352f5ad17a4513f2686858f295381"
   }
  }
 },
 "nbformat": 4,
 "nbformat_minor": 2
}
