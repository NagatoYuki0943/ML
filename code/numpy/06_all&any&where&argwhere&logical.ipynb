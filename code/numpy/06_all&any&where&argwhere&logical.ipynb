{
 "cells": [
  {
   "cell_type": "code",
   "execution_count": 37,
   "id": "5b5f6a6f",
   "metadata": {},
   "outputs": [],
   "source": [
    "import numpy as np"
   ]
  },
  {
   "attachments": {},
   "cell_type": "markdown",
   "id": "0b1fb0cb",
   "metadata": {},
   "source": [
    "# 逻辑运算"
   ]
  },
  {
   "cell_type": "code",
   "execution_count": 38,
   "id": "db3c85e1",
   "metadata": {},
   "outputs": [
    {
     "data": {
      "text/plain": [
       "array([[ 0,  1,  2,  3,  4,  5,  6,  7,  8,  9],\n",
       "       [10, 11, 12, 13, 14, 15, 16, 17, 18, 19]])"
      ]
     },
     "execution_count": 38,
     "metadata": {},
     "output_type": "execute_result"
    }
   ],
   "source": [
    "x: np.ndarray = np.arange(20).reshape(2, 10)\n",
    "x"
   ]
  },
  {
   "cell_type": "code",
   "execution_count": 39,
   "id": "27e4877e",
   "metadata": {},
   "outputs": [
    {
     "data": {
      "text/plain": [
       "array([[False, False, False, False, False, False,  True,  True,  True,\n",
       "         True],\n",
       "       [ True,  True,  True,  True,  True,  True,  True,  True,  True,\n",
       "         True]])"
      ]
     },
     "execution_count": 39,
     "metadata": {},
     "output_type": "execute_result"
    }
   ],
   "source": [
    "x > 5"
   ]
  },
  {
   "cell_type": "code",
   "execution_count": 40,
   "id": "2c70fdc0",
   "metadata": {},
   "outputs": [
    {
     "data": {
      "text/plain": [
       "array([[ 0,  1,  2,  3,  4,  5, -1, -1, -1, -1],\n",
       "       [-1, -1, -1, -1, -1, -1, -1, -1, -1, -1]])"
      ]
     },
     "execution_count": 40,
     "metadata": {},
     "output_type": "execute_result"
    }
   ],
   "source": [
    "y = x.copy()\n",
    "y[y > 5] = -1\n",
    "y"
   ]
  },
  {
   "attachments": {},
   "cell_type": "markdown",
   "id": "ba8e9060",
   "metadata": {},
   "source": [
    "# np.all()"
   ]
  },
  {
   "cell_type": "code",
   "execution_count": 41,
   "id": "82c6ddb9",
   "metadata": {},
   "outputs": [
    {
     "data": {
      "text/plain": [
       "False"
      ]
     },
     "execution_count": 41,
     "metadata": {},
     "output_type": "execute_result"
    }
   ],
   "source": [
    "np.all(x > 5)"
   ]
  },
  {
   "cell_type": "markdown",
   "id": "71b27278",
   "metadata": {},
   "source": [
    "# np.any()"
   ]
  },
  {
   "cell_type": "code",
   "execution_count": 42,
   "id": "36788fe6",
   "metadata": {},
   "outputs": [
    {
     "data": {
      "text/plain": [
       "True"
      ]
     },
     "execution_count": 42,
     "metadata": {},
     "output_type": "execute_result"
    }
   ],
   "source": [
    "np.any(x > 5)"
   ]
  },
  {
   "attachments": {},
   "cell_type": "markdown",
   "id": "55cc785f",
   "metadata": {},
   "source": [
    "# np.where(三元运算符)\n",
    "\n",
    "np.where() 以元组形式输出满足条件的列表索引"
   ]
  },
  {
   "cell_type": "code",
   "execution_count": 43,
   "id": "6d97ebe6",
   "metadata": {},
   "outputs": [
    {
     "data": {
      "text/plain": [
       "array([[0, 0, 0, 0, 0, 0, 1, 1, 1, 1],\n",
       "       [1, 1, 1, 1, 1, 1, 1, 1, 1, 1]])"
      ]
     },
     "execution_count": 43,
     "metadata": {},
     "output_type": "execute_result"
    }
   ],
   "source": [
    "# 条件满足为1,否则为0\n",
    "np.where(x > 5, 1, 0)"
   ]
  },
  {
   "cell_type": "code",
   "execution_count": 44,
   "id": "c7704171",
   "metadata": {},
   "outputs": [
    {
     "data": {
      "text/plain": [
       "(array([0, 0, 0, 0, 1, 1, 1, 1, 1, 1, 1, 1, 1, 1], dtype=int64),\n",
       " array([6, 7, 8, 9, 0, 1, 2, 3, 4, 5, 6, 7, 8, 9], dtype=int64))"
      ]
     },
     "execution_count": 44,
     "metadata": {},
     "output_type": "execute_result"
    }
   ],
   "source": [
    "# 返回索引\n",
    "np.where(x > 5)"
   ]
  },
  {
   "cell_type": "code",
   "execution_count": 45,
   "id": "44a5fb5c",
   "metadata": {},
   "outputs": [
    {
     "data": {
      "text/plain": [
       "array([ 6,  7,  8,  9, 10, 11, 12, 13, 14, 15, 16, 17, 18, 19])"
      ]
     },
     "execution_count": 45,
     "metadata": {},
     "output_type": "execute_result"
    }
   ],
   "source": [
    "x[np.where(x > 5)]"
   ]
  },
  {
   "attachments": {},
   "cell_type": "markdown",
   "id": "761e0bf4",
   "metadata": {},
   "source": [
    "# np.argwhere() 输出的直接是满足要求的元素的坐标索引，多出一个axis"
   ]
  },
  {
   "cell_type": "code",
   "execution_count": 46,
   "id": "cfe9d8cd",
   "metadata": {},
   "outputs": [
    {
     "data": {
      "text/plain": [
       "array([[0, 6],\n",
       "       [0, 7],\n",
       "       [0, 8],\n",
       "       [0, 9],\n",
       "       [1, 0],\n",
       "       [1, 1],\n",
       "       [1, 2],\n",
       "       [1, 3],\n",
       "       [1, 4],\n",
       "       [1, 5],\n",
       "       [1, 6],\n",
       "       [1, 7],\n",
       "       [1, 8],\n",
       "       [1, 9]], dtype=int64)"
      ]
     },
     "execution_count": 46,
     "metadata": {},
     "output_type": "execute_result"
    }
   ],
   "source": [
    "np.argwhere(x > 5)"
   ]
  },
  {
   "cell_type": "code",
   "execution_count": 47,
   "id": "e96f8ed1",
   "metadata": {},
   "outputs": [
    {
     "ename": "IndexError",
     "evalue": "index 6 is out of bounds for axis 0 with size 2",
     "output_type": "error",
     "traceback": [
      "\u001b[1;31m---------------------------------------------------------------------------\u001b[0m",
      "\u001b[1;31mIndexError\u001b[0m                                Traceback (most recent call last)",
      "Cell \u001b[1;32mIn[47], line 2\u001b[0m\n\u001b[0;32m      1\u001b[0m \u001b[38;5;66;03m# 这样是错误的(对于一维数据没区别)\u001b[39;00m\n\u001b[1;32m----> 2\u001b[0m \u001b[43mx\u001b[49m\u001b[43m[\u001b[49m\u001b[43mnp\u001b[49m\u001b[38;5;241;43m.\u001b[39;49m\u001b[43margwhere\u001b[49m\u001b[43m(\u001b[49m\u001b[43mx\u001b[49m\u001b[43m \u001b[49m\u001b[38;5;241;43m>\u001b[39;49m\u001b[43m \u001b[49m\u001b[38;5;241;43m5\u001b[39;49m\u001b[43m)\u001b[49m\u001b[43m]\u001b[49m\n",
      "\u001b[1;31mIndexError\u001b[0m: index 6 is out of bounds for axis 0 with size 2"
     ]
    }
   ],
   "source": [
    "# 这样是错误的(对于一维数据没区别)\n",
    "x[np.argwhere(x > 5)]"
   ]
  },
  {
   "cell_type": "code",
   "execution_count": 48,
   "id": "f8436a8a",
   "metadata": {},
   "outputs": [
    {
     "data": {
      "text/plain": [
       "array([ 6,  7,  8,  9, 10, 11, 12, 13, 14, 15, 16, 17, 18, 19])"
      ]
     },
     "execution_count": 48,
     "metadata": {},
     "output_type": "execute_result"
    }
   ],
   "source": [
    "# 这样才正确,因为多了维度,index维度是几维的,就在最后维度划分为几份\n",
    "x[np.argwhere(x > 5)[:, 0], np.argwhere(x > 5)[:, 1]]"
   ]
  },
  {
   "cell_type": "code",
   "execution_count": 49,
   "id": "35b6c50b",
   "metadata": {},
   "outputs": [
    {
     "data": {
      "text/plain": [
       "array([ 6,  7,  8,  9, 10, 11, 12, 13, 14, 15, 16, 17, 18, 19])"
      ]
     },
     "execution_count": 49,
     "metadata": {},
     "output_type": "execute_result"
    }
   ],
   "source": [
    "# 这样才正确,因为多了维度,index维度是几维的,就在最后维度划分为几份\n",
    "x[np.argwhere(x > 5)[..., 0], np.argwhere(x > 5)[..., 1]]"
   ]
  },
  {
   "attachments": {},
   "cell_type": "markdown",
   "id": "87e36d73",
   "metadata": {},
   "source": [
    "# 复合逻辑"
   ]
  },
  {
   "cell_type": "markdown",
   "id": "5c229726",
   "metadata": {},
   "source": [
    "## np.logical_and 与"
   ]
  },
  {
   "cell_type": "code",
   "execution_count": 50,
   "id": "fcd50566",
   "metadata": {},
   "outputs": [
    {
     "data": {
      "text/plain": [
       "array([[False, False, False, False, False, False,  True,  True,  True,\n",
       "         True],\n",
       "       [ True,  True,  True,  True,  True, False, False, False, False,\n",
       "        False]])"
      ]
     },
     "execution_count": 50,
     "metadata": {},
     "output_type": "execute_result"
    }
   ],
   "source": [
    "np.logical_and(x > 5, x < 15)"
   ]
  },
  {
   "cell_type": "code",
   "execution_count": 51,
   "id": "dc5bbef2",
   "metadata": {},
   "outputs": [
    {
     "data": {
      "text/plain": [
       "array([[False, False, False, False, False, False,  True,  True,  True,\n",
       "         True],\n",
       "       [ True,  True,  True,  True,  True, False, False, False, False,\n",
       "        False]])"
      ]
     },
     "execution_count": 51,
     "metadata": {},
     "output_type": "execute_result"
    }
   ],
   "source": [
    "# same\n",
    "(x > 5) & (x < 15)"
   ]
  },
  {
   "cell_type": "code",
   "execution_count": 52,
   "id": "9a4d5579",
   "metadata": {},
   "outputs": [
    {
     "data": {
      "text/plain": [
       "True"
      ]
     },
     "execution_count": 52,
     "metadata": {},
     "output_type": "execute_result"
    }
   ],
   "source": [
    "np.all(np.logical_and(x > 5, x < 15) == (x > 5) & (x < 15))"
   ]
  },
  {
   "cell_type": "code",
   "execution_count": 53,
   "id": "8f5ee04b",
   "metadata": {
    "scrolled": true
   },
   "outputs": [
    {
     "data": {
      "text/plain": [
       "array([[0, 0, 0, 0, 0, 0, 1, 1, 1, 1],\n",
       "       [1, 1, 1, 1, 1, 0, 0, 0, 0, 0]])"
      ]
     },
     "execution_count": 53,
     "metadata": {},
     "output_type": "execute_result"
    }
   ],
   "source": [
    "np.where(np.logical_and(x > 5, x < 15), 1, 0)"
   ]
  },
  {
   "cell_type": "markdown",
   "id": "6b622dea",
   "metadata": {},
   "source": [
    "### reduce"
   ]
  },
  {
   "cell_type": "code",
   "execution_count": 54,
   "id": "1f1ee08b",
   "metadata": {},
   "outputs": [
    {
     "data": {
      "text/plain": [
       "False"
      ]
     },
     "execution_count": 54,
     "metadata": {},
     "output_type": "execute_result"
    }
   ],
   "source": [
    "# 创建一个布尔数组\n",
    "arr = np.array([True, True, False, True])\n",
    "\n",
    "# 使用 np.logical_and.reduce 函数对数组中的元素进行逻辑与操作\n",
    "np.logical_and.reduce(arr)"
   ]
  },
  {
   "cell_type": "code",
   "execution_count": 55,
   "id": "13c9ba05",
   "metadata": {},
   "outputs": [
    {
     "name": "stdout",
     "output_type": "stream",
     "text": [
      "True\n",
      "True\n"
     ]
    }
   ],
   "source": [
    "# 创建一个空数组\n",
    "empty_arr = np.array([])\n",
    "\n",
    "# 创建一个只包含一个元素的数组\n",
    "single_element_arr = np.array([True])\n",
    "\n",
    "# 使用 np.logical_and.reduce 函数对这两个数组进行操作\n",
    "print(np.logical_and.reduce(empty_arr))             # 输出结果为 True，因为空数组被视为 True\n",
    "print(np.logical_and.reduce(single_element_arr))    # 输出结果为 True，因为只包含一个 True 元素"
   ]
  },
  {
   "cell_type": "code",
   "execution_count": 56,
   "id": "dde6861f",
   "metadata": {},
   "outputs": [
    {
     "data": {
      "text/plain": [
       "array([[False, False, False, False, False, False,  True,  True,  True,\n",
       "         True],\n",
       "       [ True,  True,  True,  True,  True, False, False, False, False,\n",
       "        False]])"
      ]
     },
     "execution_count": 56,
     "metadata": {},
     "output_type": "execute_result"
    }
   ],
   "source": [
    "# 第一个参数支持使用多个数组\n",
    "np.logical_and.reduce([x > 5, x < 15], axis=0)"
   ]
  },
  {
   "cell_type": "markdown",
   "id": "23a40ddf",
   "metadata": {},
   "source": [
    "### outer 外积"
   ]
  },
  {
   "cell_type": "code",
   "execution_count": 57,
   "id": "5870f4a5",
   "metadata": {},
   "outputs": [
    {
     "data": {
      "text/plain": [
       "array([[ True,  True, False],\n",
       "       [False, False, False]])"
      ]
     },
     "execution_count": 57,
     "metadata": {},
     "output_type": "execute_result"
    }
   ],
   "source": [
    "# 创建两个数组\n",
    "a = np.array([True, False])\n",
    "b = np.array([True, True, False])\n",
    "\n",
    "# 使用 np.logical_and.outer 函数计算逻辑与结果矩阵\n",
    "np.logical_and.outer(a, b)"
   ]
  },
  {
   "cell_type": "markdown",
   "id": "80f7c55e",
   "metadata": {},
   "source": [
    "## np.logical_or 或"
   ]
  },
  {
   "cell_type": "code",
   "execution_count": 58,
   "id": "78b807e6",
   "metadata": {},
   "outputs": [
    {
     "data": {
      "text/plain": [
       "array([[ True,  True,  True,  True,  True,  True, False, False, False,\n",
       "        False],\n",
       "       [False, False, False, False, False,  True,  True,  True,  True,\n",
       "         True]])"
      ]
     },
     "execution_count": 58,
     "metadata": {},
     "output_type": "execute_result"
    }
   ],
   "source": [
    "np.logical_or(x <= 5, x >= 15)"
   ]
  },
  {
   "cell_type": "code",
   "execution_count": 59,
   "id": "df3bbc46",
   "metadata": {},
   "outputs": [
    {
     "data": {
      "text/plain": [
       "array([[ True,  True,  True,  True,  True,  True, False, False, False,\n",
       "        False],\n",
       "       [False, False, False, False, False,  True,  True,  True,  True,\n",
       "         True]])"
      ]
     },
     "execution_count": 59,
     "metadata": {},
     "output_type": "execute_result"
    }
   ],
   "source": [
    "# same\n",
    "(x <= 5) | (x >= 15)"
   ]
  },
  {
   "cell_type": "code",
   "execution_count": 60,
   "id": "cb6b3840",
   "metadata": {},
   "outputs": [
    {
     "data": {
      "text/plain": [
       "True"
      ]
     },
     "execution_count": 60,
     "metadata": {},
     "output_type": "execute_result"
    }
   ],
   "source": [
    "np.all(np.logical_or(x <= 5, x >= 15) == (x <= 5) | (x >= 15))"
   ]
  },
  {
   "cell_type": "code",
   "execution_count": 61,
   "id": "fcfaecdd",
   "metadata": {},
   "outputs": [
    {
     "data": {
      "text/plain": [
       "array([[1, 1, 1, 1, 1, 1, 0, 0, 0, 0],\n",
       "       [0, 0, 0, 0, 0, 1, 1, 1, 1, 1]])"
      ]
     },
     "execution_count": 61,
     "metadata": {},
     "output_type": "execute_result"
    }
   ],
   "source": [
    "np.where(np.logical_or(x <= 5, x >= 15), 1, 0)"
   ]
  },
  {
   "cell_type": "code",
   "execution_count": 62,
   "id": "66fea436",
   "metadata": {},
   "outputs": [
    {
     "data": {
      "text/plain": [
       "array([[ True,  True,  True,  True,  True,  True,  True,  True,  True,\n",
       "         True],\n",
       "       [ True,  True,  True,  True,  True,  True,  True,  True,  True,\n",
       "         True]])"
      ]
     },
     "execution_count": 62,
     "metadata": {},
     "output_type": "execute_result"
    }
   ],
   "source": [
    "# logical_or 是 logical_and 的反操作\n",
    "np.logical_and(x > 5, x < 15) == ~np.logical_or(x <= 5, x >= 15)"
   ]
  },
  {
   "cell_type": "markdown",
   "id": "258eb180",
   "metadata": {},
   "source": [
    "### reduce"
   ]
  },
  {
   "cell_type": "code",
   "execution_count": 63,
   "id": "30cd20ce",
   "metadata": {},
   "outputs": [
    {
     "data": {
      "text/plain": [
       "True"
      ]
     },
     "execution_count": 63,
     "metadata": {},
     "output_type": "execute_result"
    }
   ],
   "source": [
    "# 创建一个布尔数组\n",
    "arr = np.array([True, True, False, True])\n",
    "\n",
    "# 使用 np.logical_and.reduce 函数对数组中的元素进行逻辑与操作\n",
    "np.logical_or.reduce(arr)"
   ]
  },
  {
   "cell_type": "code",
   "execution_count": 64,
   "id": "7a287d6e",
   "metadata": {},
   "outputs": [
    {
     "name": "stdout",
     "output_type": "stream",
     "text": [
      "False\n",
      "True\n"
     ]
    }
   ],
   "source": [
    "# 创建一个空数组\n",
    "empty_arr = np.array([])\n",
    "\n",
    "# 创建一个只包含一个元素的数组\n",
    "single_element_arr = np.array([True])\n",
    "\n",
    "# 使用 np.logical_and.reduce 函数对这两个数组进行操作\n",
    "print(np.logical_or.reduce(empty_arr))          # 输出结果为 False\n",
    "print(np.logical_or.reduce(single_element_arr)) # 输出结果为 True，因为只包含一个 True 元素"
   ]
  },
  {
   "cell_type": "code",
   "execution_count": 65,
   "id": "3ea93b7f",
   "metadata": {},
   "outputs": [
    {
     "data": {
      "text/plain": [
       "array([[ True,  True,  True,  True,  True,  True, False, False, False,\n",
       "        False],\n",
       "       [False, False, False, False, False,  True,  True,  True,  True,\n",
       "         True]])"
      ]
     },
     "execution_count": 65,
     "metadata": {},
     "output_type": "execute_result"
    }
   ],
   "source": [
    "# 第一个参数支持使用多个数组\n",
    "np.logical_or.reduce([x <= 5, x >= 15], axis=0)"
   ]
  },
  {
   "cell_type": "markdown",
   "id": "e7c3b219",
   "metadata": {},
   "source": [
    "### outer 外积"
   ]
  },
  {
   "cell_type": "code",
   "execution_count": 66,
   "id": "5ddd870f",
   "metadata": {},
   "outputs": [
    {
     "data": {
      "text/plain": [
       "array([[ True,  True,  True],\n",
       "       [ True,  True, False]])"
      ]
     },
     "execution_count": 66,
     "metadata": {},
     "output_type": "execute_result"
    }
   ],
   "source": [
    "# 创建两个数组\n",
    "a = np.array([True, False])\n",
    "b = np.array([True, True, False])\n",
    "\n",
    "# 使用 np.logical_and.outer 函数计算逻辑与结果矩阵\n",
    "np.logical_or.outer(a, b)"
   ]
  },
  {
   "cell_type": "markdown",
   "id": "44fa5baf",
   "metadata": {},
   "source": [
    "## np.logical_not 非"
   ]
  },
  {
   "cell_type": "code",
   "execution_count": 67,
   "id": "16e29f01",
   "metadata": {},
   "outputs": [
    {
     "data": {
      "text/plain": [
       "array([[ True,  True,  True,  True,  True,  True, False, False, False,\n",
       "        False],\n",
       "       [False, False, False, False, False, False, False, False, False,\n",
       "        False]])"
      ]
     },
     "execution_count": 67,
     "metadata": {},
     "output_type": "execute_result"
    }
   ],
   "source": [
    "# 前后顺序不同有影响\n",
    "np.logical_not(x > 5, x < 15)"
   ]
  },
  {
   "cell_type": "code",
   "execution_count": 68,
   "id": "0e636d39",
   "metadata": {},
   "outputs": [
    {
     "data": {
      "text/plain": [
       "array([[False, False, False, False, False, False, False, False, False,\n",
       "        False],\n",
       "       [False, False, False, False, False,  True,  True,  True,  True,\n",
       "         True]])"
      ]
     },
     "execution_count": 68,
     "metadata": {},
     "output_type": "execute_result"
    }
   ],
   "source": [
    "# 前后顺序不同有影响\n",
    "np.logical_not(x < 15, x > 5)"
   ]
  },
  {
   "cell_type": "code",
   "execution_count": 69,
   "id": "316f9547",
   "metadata": {},
   "outputs": [
    {
     "data": {
      "text/plain": [
       "array([[1, 1, 1, 1, 1, 1, 0, 0, 0, 0],\n",
       "       [0, 0, 0, 0, 0, 0, 0, 0, 0, 0]])"
      ]
     },
     "execution_count": 69,
     "metadata": {},
     "output_type": "execute_result"
    }
   ],
   "source": [
    "np.where(np.logical_not(x > 5, x < 15), 1, 0)"
   ]
  },
  {
   "cell_type": "markdown",
   "id": "954f8730",
   "metadata": {},
   "source": [
    "### reduce 不支持"
   ]
  },
  {
   "cell_type": "code",
   "execution_count": 70,
   "id": "59b3e224",
   "metadata": {},
   "outputs": [
    {
     "ename": "ValueError",
     "evalue": "reduce only supported for binary functions",
     "output_type": "error",
     "traceback": [
      "\u001b[1;31m---------------------------------------------------------------------------\u001b[0m",
      "\u001b[1;31mValueError\u001b[0m                                Traceback (most recent call last)",
      "Cell \u001b[1;32mIn[70], line 2\u001b[0m\n\u001b[0;32m      1\u001b[0m \u001b[38;5;66;03m# not 不支持 reduce\u001b[39;00m\n\u001b[1;32m----> 2\u001b[0m \u001b[43mnp\u001b[49m\u001b[38;5;241;43m.\u001b[39;49m\u001b[43mlogical_not\u001b[49m\u001b[38;5;241;43m.\u001b[39;49m\u001b[43mreduce\u001b[49m\u001b[43m(\u001b[49m\u001b[43m[\u001b[49m\u001b[43mx\u001b[49m\u001b[43m \u001b[49m\u001b[38;5;241;43m>\u001b[39;49m\u001b[43m \u001b[49m\u001b[38;5;241;43m5\u001b[39;49m\u001b[43m,\u001b[49m\u001b[43m \u001b[49m\u001b[43mx\u001b[49m\u001b[43m \u001b[49m\u001b[38;5;241;43m<\u001b[39;49m\u001b[43m \u001b[49m\u001b[38;5;241;43m15\u001b[39;49m\u001b[43m]\u001b[49m\u001b[43m,\u001b[49m\u001b[43m \u001b[49m\u001b[43maxis\u001b[49m\u001b[38;5;241;43m=\u001b[39;49m\u001b[38;5;241;43m0\u001b[39;49m\u001b[43m)\u001b[49m\n",
      "\u001b[1;31mValueError\u001b[0m: reduce only supported for binary functions"
     ]
    }
   ],
   "source": [
    "# not 不支持 reduce\n",
    "np.logical_not.reduce([x > 5, x < 15], axis=0)"
   ]
  },
  {
   "cell_type": "markdown",
   "id": "a0e875a9",
   "metadata": {},
   "source": [
    "### outer 外积 不支持"
   ]
  },
  {
   "cell_type": "code",
   "execution_count": 71,
   "id": "33e21266",
   "metadata": {},
   "outputs": [
    {
     "ename": "ValueError",
     "evalue": "outer product only supported for binary functions",
     "output_type": "error",
     "traceback": [
      "\u001b[1;31m---------------------------------------------------------------------------\u001b[0m",
      "\u001b[1;31mValueError\u001b[0m                                Traceback (most recent call last)",
      "Cell \u001b[1;32mIn[71], line 6\u001b[0m\n\u001b[0;32m      3\u001b[0m b \u001b[38;5;241m=\u001b[39m np\u001b[38;5;241m.\u001b[39marray([\u001b[38;5;28;01mTrue\u001b[39;00m, \u001b[38;5;28;01mTrue\u001b[39;00m, \u001b[38;5;28;01mFalse\u001b[39;00m])\n\u001b[0;32m      5\u001b[0m \u001b[38;5;66;03m# 使用 np.logical_and.outer 函数计算逻辑与结果矩阵\u001b[39;00m\n\u001b[1;32m----> 6\u001b[0m \u001b[43mnp\u001b[49m\u001b[38;5;241;43m.\u001b[39;49m\u001b[43mlogical_not\u001b[49m\u001b[38;5;241;43m.\u001b[39;49m\u001b[43mouter\u001b[49m\u001b[43m(\u001b[49m\u001b[43ma\u001b[49m\u001b[43m,\u001b[49m\u001b[43m \u001b[49m\u001b[43mb\u001b[49m\u001b[43m)\u001b[49m\n",
      "\u001b[1;31mValueError\u001b[0m: outer product only supported for binary functions"
     ]
    }
   ],
   "source": [
    "# 创建两个数组\n",
    "a = np.array([True, False])\n",
    "b = np.array([True, True, False])\n",
    "\n",
    "# 使用 np.logical_and.outer 函数计算逻辑与结果矩阵\n",
    "np.logical_not.outer(a, b)"
   ]
  },
  {
   "cell_type": "markdown",
   "id": "346085c6",
   "metadata": {},
   "source": [
    "## np.logical_xor 异或\n",
    "\n",
    "如果a、b两个值不相同，则异或结果为1。\n",
    "\n",
    "如果a、b两个值相同，异或结果为0。"
   ]
  },
  {
   "cell_type": "code",
   "execution_count": 72,
   "id": "f5d86ac4",
   "metadata": {},
   "outputs": [
    {
     "data": {
      "text/plain": [
       "array([[ True,  True,  True,  True,  True,  True, False, False, False,\n",
       "        False],\n",
       "       [False, False, False, False, False,  True,  True,  True,  True,\n",
       "         True]])"
      ]
     },
     "execution_count": 72,
     "metadata": {},
     "output_type": "execute_result"
    }
   ],
   "source": [
    "np.logical_xor(x > 5, x < 15)"
   ]
  },
  {
   "cell_type": "code",
   "execution_count": 73,
   "id": "18b6ea62",
   "metadata": {},
   "outputs": [
    {
     "data": {
      "text/plain": [
       "array([[1, 1, 1, 1, 1, 1, 0, 0, 0, 0],\n",
       "       [0, 0, 0, 0, 0, 1, 1, 1, 1, 1]])"
      ]
     },
     "execution_count": 73,
     "metadata": {},
     "output_type": "execute_result"
    }
   ],
   "source": [
    "np.where(np.logical_xor(x > 5, x < 15), 1, 0)"
   ]
  },
  {
   "cell_type": "code",
   "execution_count": 74,
   "id": "f2a599a7",
   "metadata": {},
   "outputs": [
    {
     "data": {
      "text/plain": [
       "array([[ True,  True,  True,  True,  True,  True,  True,  True,  True,\n",
       "         True],\n",
       "       [ True,  True,  True,  True,  True,  True,  True,  True,  True,\n",
       "         True]])"
      ]
     },
     "execution_count": 74,
     "metadata": {},
     "output_type": "execute_result"
    }
   ],
   "source": [
    "# logical_xor 是 logical_and 的反操作\n",
    "np.logical_and(x > 5, x < 15) == ~np.logical_xor(x > 5, x < 15)"
   ]
  },
  {
   "cell_type": "markdown",
   "id": "e9a8fd36",
   "metadata": {},
   "source": [
    "### reduce"
   ]
  },
  {
   "cell_type": "code",
   "execution_count": 75,
   "id": "48b5fdeb",
   "metadata": {},
   "outputs": [
    {
     "data": {
      "text/plain": [
       "True"
      ]
     },
     "execution_count": 75,
     "metadata": {},
     "output_type": "execute_result"
    }
   ],
   "source": [
    "# 创建一个布尔数组\n",
    "arr = np.array([True, True, False, True])\n",
    "\n",
    "# 使用 np.logical_and.reduce 函数对数组中的元素进行逻辑与操作\n",
    "np.logical_xor.reduce(arr)"
   ]
  },
  {
   "cell_type": "code",
   "execution_count": 76,
   "id": "b95f5049",
   "metadata": {},
   "outputs": [
    {
     "name": "stdout",
     "output_type": "stream",
     "text": [
      "False\n",
      "True\n"
     ]
    }
   ],
   "source": [
    "# 创建一个空数组\n",
    "empty_arr = np.array([])\n",
    "\n",
    "# 创建一个只包含一个元素的数组\n",
    "single_element_arr = np.array([True])\n",
    "\n",
    "# 使用 np.logical_and.reduce 函数对这两个数组进行操作\n",
    "print(np.logical_xor.reduce(empty_arr))             # 输出结果为 False\n",
    "print(np.logical_xor.reduce(single_element_arr))    # 输出结果为 True，因为只包含一个 True 元素"
   ]
  },
  {
   "cell_type": "code",
   "execution_count": 77,
   "id": "08f0cc6f",
   "metadata": {},
   "outputs": [
    {
     "data": {
      "text/plain": [
       "array([[ True,  True,  True,  True,  True,  True, False, False, False,\n",
       "        False],\n",
       "       [False, False, False, False, False,  True,  True,  True,  True,\n",
       "         True]])"
      ]
     },
     "execution_count": 77,
     "metadata": {},
     "output_type": "execute_result"
    }
   ],
   "source": [
    "# 第一个参数支持使用多个数组\n",
    "np.logical_xor.reduce([x > 5, x < 15], axis=0)"
   ]
  },
  {
   "cell_type": "markdown",
   "id": "6d86494b",
   "metadata": {},
   "source": [
    "### outer 外积"
   ]
  },
  {
   "cell_type": "code",
   "execution_count": 78,
   "id": "b60cdb5d",
   "metadata": {},
   "outputs": [
    {
     "data": {
      "text/plain": [
       "array([[False, False,  True],\n",
       "       [ True,  True, False]])"
      ]
     },
     "execution_count": 78,
     "metadata": {},
     "output_type": "execute_result"
    }
   ],
   "source": [
    "# 创建两个数组\n",
    "a = np.array([True, False])\n",
    "b = np.array([True, True, False])\n",
    "\n",
    "# 使用 np.logical_and.outer 函数计算逻辑与结果矩阵\n",
    "np.logical_xor.outer(a, b)"
   ]
  },
  {
   "cell_type": "code",
   "execution_count": null,
   "id": "c06653f6",
   "metadata": {},
   "outputs": [],
   "source": []
  }
 ],
 "metadata": {
  "kernelspec": {
   "display_name": "pytorch",
   "language": "python",
   "name": "python3"
  },
  "language_info": {
   "codemirror_mode": {
    "name": "ipython",
    "version": 3
   },
   "file_extension": ".py",
   "mimetype": "text/x-python",
   "name": "python",
   "nbconvert_exporter": "python",
   "pygments_lexer": "ipython3",
   "version": "3.11.9"
  },
  "toc": {
   "base_numbering": 1,
   "nav_menu": {},
   "number_sections": true,
   "sideBar": true,
   "skip_h1_title": false,
   "title_cell": "Table of Contents",
   "title_sidebar": "Contents",
   "toc_cell": false,
   "toc_position": {
    "height": "747px",
    "left": "92px",
    "top": "111.133px",
    "width": "384px"
   },
   "toc_section_display": true,
   "toc_window_display": true
  },
  "vscode": {
   "interpreter": {
    "hash": "5b5292cc5f82d8561d05c044f8ed41e8f78352f5ad17a4513f2686858f295381"
   }
  }
 },
 "nbformat": 4,
 "nbformat_minor": 5
}
