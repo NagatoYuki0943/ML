{
 "cells": [
  {
   "cell_type": "code",
   "execution_count": 1,
   "id": "5b5f6a6f",
   "metadata": {},
   "outputs": [],
   "source": [
    "import matplotlib.pyplot as plt\n",
    "import numpy as np"
   ]
  },
  {
   "attachments": {},
   "cell_type": "markdown",
   "id": "0d2d558a",
   "metadata": {},
   "source": [
    "## 数组运算"
   ]
  },
  {
   "cell_type": "code",
   "execution_count": 2,
   "id": "f016c402",
   "metadata": {},
   "outputs": [
    {
     "data": {
      "text/plain": [
       "array([[74, 67, 63, 75, 62],\n",
       "       [44, 51, 45, 95, 77],\n",
       "       [71, 49, 62, 89, 69],\n",
       "       [95, 61, 79, 50, 40]])"
      ]
     },
     "execution_count": 2,
     "metadata": {},
     "output_type": "execute_result"
    }
   ],
   "source": [
    "# 生成10名同学，5门功课的数据\n",
    "score = np.random.randint(40, 100, (10, 5))\n",
    "# 取出最后4名同学的成绩，用于逻辑判断\n",
    "test_score = score[6:, 0:5]\n",
    "test_score"
   ]
  },
  {
   "attachments": {},
   "cell_type": "markdown",
   "id": "0cefbaca",
   "metadata": {},
   "source": [
    "### 统计运算"
   ]
  },
  {
   "attachments": {},
   "cell_type": "markdown",
   "id": "5fed0208",
   "metadata": {},
   "source": [
    "进行统计的时候，axis 轴的取值并不一定，Numpy中不同的API轴的值都不一样，在这里，axis 0代表列, axis 1代表行去进行统计"
   ]
  },
  {
   "cell_type": "code",
   "execution_count": 3,
   "id": "f1ff5c79",
   "metadata": {},
   "outputs": [
    {
     "data": {
      "text/plain": [
       "99"
      ]
     },
     "execution_count": 3,
     "metadata": {},
     "output_type": "execute_result"
    }
   ],
   "source": [
    "# 指定列 去统计\n",
    "temp = score[:4, 0:5]\n",
    "# 这样只找出一个最大值\n",
    "np.max(temp)"
   ]
  },
  {
   "cell_type": "code",
   "execution_count": 4,
   "id": "535b49b2",
   "metadata": {},
   "outputs": [
    {
     "name": "stdout",
     "output_type": "stream",
     "text": [
      "前四名学生,各科成绩的最大分：[83 99 97 78 88]\n",
      "前四名学生,各科成绩的最小分：[45 45 41 68 55]\n",
      "前四名学生,各科成绩波动情况：[13.71814492 19.56240016 20.27775875  4.09267639 13.31117951]\n",
      "前四名学生,各科成绩的平均分：[61.25 73.75 73.25 74.5  65.25]\n"
     ]
    }
   ],
   "source": [
    "print(\"前四名学生,各科成绩的最大分：{}\".format(np.max(temp, axis=0)))\n",
    "print(\"前四名学生,各科成绩的最小分：{}\".format(np.min(temp, axis=0)))\n",
    "print(\"前四名学生,各科成绩波动情况：{}\".format(np.std(temp, axis=0)))\n",
    "print(\"前四名学生,各科成绩的平均分：{}\".format(np.mean(temp, axis=0)))"
   ]
  },
  {
   "attachments": {},
   "cell_type": "markdown",
   "id": "dbaab4bb",
   "metadata": {},
   "source": [
    "如果需要统计出某科最高分对应的是哪个同学？"
   ]
  },
  {
   "cell_type": "code",
   "execution_count": 5,
   "id": "5ddfedd0",
   "metadata": {},
   "outputs": [
    {
     "name": "stdout",
     "output_type": "stream",
     "text": [
      "前四名学生，各科成绩最高分对应的学生下标：[0 1 0 0 0]\n"
     ]
    }
   ],
   "source": [
    "# argmax 最大值下标\n",
    "print(\"前四名学生，各科成绩最高分对应的学生下标：{}\".format(np.argmax(temp, axis=0)))"
   ]
  },
  {
   "cell_type": "code",
   "execution_count": 6,
   "id": "ed8b278b",
   "metadata": {},
   "outputs": [
    {
     "data": {
      "text/plain": [
       "72.0"
      ]
     },
     "execution_count": 6,
     "metadata": {},
     "output_type": "execute_result"
    }
   ],
   "source": [
    "#median(a, axis)    中位数\n",
    "np.median(temp)"
   ]
  },
  {
   "cell_type": "code",
   "execution_count": 7,
   "id": "771292bc",
   "metadata": {},
   "outputs": [
    {
     "data": {
      "text/plain": [
       "array([61.25, 73.75, 73.25, 74.5 , 65.25])"
      ]
     },
     "execution_count": 7,
     "metadata": {},
     "output_type": "execute_result"
    }
   ],
   "source": [
    "# mean(a, axis, dtype)    平均值\n",
    "np.mean(temp, axis=0)"
   ]
  },
  {
   "cell_type": "code",
   "execution_count": 8,
   "id": "e186b29a",
   "metadata": {},
   "outputs": [
    {
     "data": {
      "text/plain": [
       "array([13.71814492, 19.56240016, 20.27775875,  4.09267639, 13.31117951])"
      ]
     },
     "execution_count": 8,
     "metadata": {},
     "output_type": "execute_result"
    }
   ],
   "source": [
    "# std(a, axis, dtype)    标准差\n",
    "np.std(temp, axis=0)"
   ]
  },
  {
   "cell_type": "code",
   "execution_count": 9,
   "id": "7e2e1f9d",
   "metadata": {},
   "outputs": [
    {
     "data": {
      "text/plain": [
       "array([188.1875, 382.6875, 411.1875,  16.75  , 177.1875])"
      ]
     },
     "execution_count": 9,
     "metadata": {},
     "output_type": "execute_result"
    }
   ],
   "source": [
    "# var(a, axis, dtype)    方差\n",
    "np.var(temp, axis=0)"
   ]
  },
  {
   "attachments": {},
   "cell_type": "markdown",
   "id": "2fb44d03",
   "metadata": {},
   "source": [
    "## 数组间运算"
   ]
  },
  {
   "attachments": {},
   "cell_type": "markdown",
   "id": "323f2895",
   "metadata": {},
   "source": [
    "### 数组与数的运算"
   ]
  },
  {
   "cell_type": "code",
   "execution_count": 10,
   "id": "5229255c",
   "metadata": {},
   "outputs": [
    {
     "data": {
      "text/plain": [
       "array([[1, 2, 3],\n",
       "       [4, 5, 6]])"
      ]
     },
     "execution_count": 10,
     "metadata": {},
     "output_type": "execute_result"
    }
   ],
   "source": [
    "a = np.array([[1,2,3],[4,5,6]])\n",
    "a"
   ]
  },
  {
   "cell_type": "code",
   "execution_count": 11,
   "id": "8552348b",
   "metadata": {},
   "outputs": [
    {
     "data": {
      "text/plain": [
       "array([[ 5,  6,  7],\n",
       "       [ 8,  9, 10]])"
      ]
     },
     "execution_count": 11,
     "metadata": {},
     "output_type": "execute_result"
    }
   ],
   "source": [
    "# 每个数都相加\n",
    "a + 4"
   ]
  },
  {
   "cell_type": "code",
   "execution_count": 12,
   "id": "375db557",
   "metadata": {},
   "outputs": [
    {
     "data": {
      "text/plain": [
       "array([[0.5, 1. , 1.5],\n",
       "       [2. , 2.5, 3. ]])"
      ]
     },
     "execution_count": 12,
     "metadata": {},
     "output_type": "execute_result"
    }
   ],
   "source": [
    "# 每个数都除以2\n",
    "a / 2"
   ]
  },
  {
   "attachments": {},
   "cell_type": "markdown",
   "id": "68690ed4",
   "metadata": {},
   "source": [
    "### 数组与数组的运算"
   ]
  },
  {
   "cell_type": "code",
   "execution_count": 13,
   "id": "25a0a495",
   "metadata": {},
   "outputs": [
    {
     "data": {
      "text/plain": [
       "array([[ 2,  4,  6,  8],\n",
       "       [ 6,  8, 10, 12]])"
      ]
     },
     "execution_count": 13,
     "metadata": {},
     "output_type": "execute_result"
    }
   ],
   "source": [
    "arr1 = np.array([[1, 2, 3, 4],[3, 4, 5, 6]])\n",
    "arr2 = np.array([[1, 2, 3, 4],[3, 4, 5, 6]])\n",
    "arr1 + arr2"
   ]
  },
  {
   "attachments": {},
   "cell_type": "markdown",
   "id": "4d3749ef",
   "metadata": {},
   "source": [
    "##### 广播机制"
   ]
  },
  {
   "cell_type": "code",
   "execution_count": 14,
   "id": "d9912d63",
   "metadata": {},
   "outputs": [
    {
     "data": {
      "text/plain": [
       "(4, 1)"
      ]
     },
     "execution_count": 14,
     "metadata": {},
     "output_type": "execute_result"
    }
   ],
   "source": [
    "arr1 = np.array([[0], [1], [2], [3]])\n",
    "arr1.shape"
   ]
  },
  {
   "cell_type": "code",
   "execution_count": 15,
   "id": "29b46a27",
   "metadata": {},
   "outputs": [
    {
     "data": {
      "text/plain": [
       "(3,)"
      ]
     },
     "execution_count": 15,
     "metadata": {},
     "output_type": "execute_result"
    }
   ],
   "source": [
    "arr2 = np.array([1,2,3])\n",
    "arr2.shape"
   ]
  },
  {
   "cell_type": "code",
   "execution_count": 16,
   "id": "1fa5afeb",
   "metadata": {},
   "outputs": [
    {
     "data": {
      "text/plain": [
       "array([[1, 2, 3],\n",
       "       [2, 3, 4],\n",
       "       [3, 4, 5],\n",
       "       [4, 5, 6]])"
      ]
     },
     "execution_count": 16,
     "metadata": {},
     "output_type": "execute_result"
    }
   ],
   "source": [
    "arr1 + arr2"
   ]
  },
  {
   "cell_type": "code",
   "execution_count": 17,
   "id": "43a2f094",
   "metadata": {},
   "outputs": [],
   "source": [
    "arr1 = np.array([[1, 2, 3, 2, 1, 4], [5, 6, 1, 2, 3, 1]])\n",
    "arr2 = np.array([[1], [3]])"
   ]
  },
  {
   "cell_type": "code",
   "execution_count": 18,
   "id": "03ce4544",
   "metadata": {},
   "outputs": [
    {
     "data": {
      "text/plain": [
       "array([[2, 3, 4, 3, 2, 5],\n",
       "       [8, 9, 4, 5, 6, 4]])"
      ]
     },
     "execution_count": 18,
     "metadata": {},
     "output_type": "execute_result"
    }
   ],
   "source": [
    "arr1 + arr2"
   ]
  },
  {
   "cell_type": "code",
   "execution_count": null,
   "id": "469a3c01",
   "metadata": {},
   "outputs": [],
   "source": []
  }
 ],
 "metadata": {
  "kernelspec": {
   "display_name": "pytorch",
   "language": "python",
   "name": "python3"
  },
  "language_info": {
   "codemirror_mode": {
    "name": "ipython",
    "version": 3
   },
   "file_extension": ".py",
   "mimetype": "text/x-python",
   "name": "python",
   "nbconvert_exporter": "python",
   "pygments_lexer": "ipython3",
   "version": "3.10.11"
  },
  "toc": {
   "base_numbering": 1,
   "nav_menu": {},
   "number_sections": true,
   "sideBar": true,
   "skip_h1_title": false,
   "title_cell": "Table of Contents",
   "title_sidebar": "Contents",
   "toc_cell": false,
   "toc_position": {
    "height": "747px",
    "left": "92px",
    "top": "111.133px",
    "width": "384px"
   },
   "toc_section_display": true,
   "toc_window_display": true
  },
  "vscode": {
   "interpreter": {
    "hash": "5b5292cc5f82d8561d05c044f8ed41e8f78352f5ad17a4513f2686858f295381"
   }
  }
 },
 "nbformat": 4,
 "nbformat_minor": 5
}
