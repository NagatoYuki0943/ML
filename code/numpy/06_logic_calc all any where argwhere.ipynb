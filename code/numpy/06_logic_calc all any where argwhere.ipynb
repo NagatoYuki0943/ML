{
 "cells": [
  {
   "cell_type": "code",
   "execution_count": 1,
   "id": "5b5f6a6f",
   "metadata": {},
   "outputs": [],
   "source": [
    "import matplotlib.pyplot as plt\n",
    "import numpy as np"
   ]
  },
  {
   "attachments": {},
   "cell_type": "markdown",
   "id": "0d2d558a",
   "metadata": {},
   "source": [
    "## 数组运算"
   ]
  },
  {
   "attachments": {},
   "cell_type": "markdown",
   "id": "0b1fb0cb",
   "metadata": {},
   "source": [
    "### 逻辑运算"
   ]
  },
  {
   "cell_type": "code",
   "execution_count": 2,
   "id": "db3c85e1",
   "metadata": {},
   "outputs": [
    {
     "data": {
      "text/plain": [
       "array([[80, 85, 85, 83, 71],\n",
       "       [48, 45, 89, 74, 95],\n",
       "       [74, 44, 62, 77, 93],\n",
       "       [72, 78, 83, 88, 64]])"
      ]
     },
     "execution_count": 2,
     "metadata": {},
     "output_type": "execute_result"
    }
   ],
   "source": [
    "# 生成10名同学，5门功课的数据\n",
    "score = np.random.randint(40, 100, (10, 5))\n",
    "# 取出最后4名同学的成绩，用于逻辑判断\n",
    "test_score = score[6:, 0:5]\n",
    "test_score"
   ]
  },
  {
   "cell_type": "code",
   "execution_count": 3,
   "id": "27e4877e",
   "metadata": {},
   "outputs": [
    {
     "data": {
      "text/plain": [
       "array([[ True,  True,  True,  True,  True],\n",
       "       [False, False,  True,  True,  True],\n",
       "       [ True, False,  True,  True,  True],\n",
       "       [ True,  True,  True,  True,  True]])"
      ]
     },
     "execution_count": 3,
     "metadata": {},
     "output_type": "execute_result"
    }
   ],
   "source": [
    "# 逻辑判断, 如果成绩大于60就标记为True 否则为False\n",
    "test_score > 60"
   ]
  },
  {
   "cell_type": "code",
   "execution_count": 4,
   "id": "2c70fdc0",
   "metadata": {},
   "outputs": [
    {
     "data": {
      "text/plain": [
       "array([[ 1,  1,  1,  1,  1],\n",
       "       [48, 45,  1,  1,  1],\n",
       "       [ 1, 44,  1,  1,  1],\n",
       "       [ 1,  1,  1,  1,  1]])"
      ]
     },
     "execution_count": 4,
     "metadata": {},
     "output_type": "execute_result"
    }
   ],
   "source": [
    "# BOOL赋值, 将满足条件的设置为指定的值-布尔索引\n",
    "test_score[test_score > 60] = 1\n",
    "#est_score[test_score <= 60] = 0  这样全为0, 因为不为1,就小于等于60\n",
    "test_score"
   ]
  },
  {
   "attachments": {},
   "cell_type": "markdown",
   "id": "103d9d65",
   "metadata": {},
   "source": [
    "### 通用判断函数"
   ]
  },
  {
   "attachments": {},
   "cell_type": "markdown",
   "id": "ba8e9060",
   "metadata": {},
   "source": [
    "#### np.all()"
   ]
  },
  {
   "cell_type": "code",
   "execution_count": 5,
   "id": "7867c070",
   "metadata": {},
   "outputs": [
    {
     "data": {
      "text/plain": [
       "array([[41, 47, 56, 86, 79],\n",
       "       [68, 83, 79, 86, 82]])"
      ]
     },
     "execution_count": 5,
     "metadata": {},
     "output_type": "execute_result"
    }
   ],
   "source": [
    "score[0:2, :]"
   ]
  },
  {
   "cell_type": "code",
   "execution_count": 6,
   "id": "82c6ddb9",
   "metadata": {},
   "outputs": [
    {
     "data": {
      "text/plain": [
       "False"
      ]
     },
     "execution_count": 6,
     "metadata": {},
     "output_type": "execute_result"
    }
   ],
   "source": [
    "# 判断前2名同学的成绩[0:2, :]是否全及格\n",
    "np.all(score[0:2, :] > 60)"
   ]
  },
  {
   "attachments": {},
   "cell_type": "markdown",
   "id": "407f46f3",
   "metadata": {},
   "source": [
    "#### np.any()"
   ]
  },
  {
   "cell_type": "code",
   "execution_count": 7,
   "id": "5f917eaf",
   "metadata": {},
   "outputs": [
    {
     "data": {
      "text/plain": [
       "True"
      ]
     },
     "execution_count": 7,
     "metadata": {},
     "output_type": "execute_result"
    }
   ],
   "source": [
    "# 判断前两2同学的成绩[0:2, :]是否有大于90分的\n",
    "np.any(score[0:2, :] > 80)"
   ]
  },
  {
   "attachments": {},
   "cell_type": "markdown",
   "id": "55cc785f",
   "metadata": {},
   "source": [
    "### np.where（三元运算符）"
   ]
  },
  {
   "attachments": {},
   "cell_type": "markdown",
   "id": "112599cc",
   "metadata": {},
   "source": [
    "#### np.where() 以元组形式输出满足条件的列表索引"
   ]
  },
  {
   "cell_type": "code",
   "execution_count": 27,
   "id": "1d1473a5",
   "metadata": {},
   "outputs": [
    {
     "data": {
      "text/plain": [
       "array([[41, 47, 56, 86],\n",
       "       [68, 83, 79, 86],\n",
       "       [42, 83, 92, 85],\n",
       "       [95, 92, 81, 64]])"
      ]
     },
     "execution_count": 27,
     "metadata": {},
     "output_type": "execute_result"
    }
   ],
   "source": [
    "# 判断前四名学生,前四门课程中，成绩中大于60的置为1，否则为0\n",
    "temp = score[:4, :4]\n",
    "temp"
   ]
  },
  {
   "cell_type": "code",
   "execution_count": 28,
   "id": "6d97ebe6",
   "metadata": {},
   "outputs": [
    {
     "data": {
      "text/plain": [
       "array([[0, 0, 0, 1],\n",
       "       [1, 1, 1, 1],\n",
       "       [0, 1, 1, 1],\n",
       "       [1, 1, 1, 1]])"
      ]
     },
     "execution_count": 28,
     "metadata": {},
     "output_type": "execute_result"
    }
   ],
   "source": [
    "# 条件满足为1,否则为0\n",
    "np.where(temp > 60, 1, 0)"
   ]
  },
  {
   "cell_type": "code",
   "execution_count": 29,
   "id": "c7704171",
   "metadata": {},
   "outputs": [
    {
     "data": {
      "text/plain": [
       "(array([0, 1, 1, 1, 1, 2, 2, 2, 3, 3, 3, 3], dtype=int64),\n",
       " array([3, 0, 1, 2, 3, 1, 2, 3, 0, 1, 2, 3], dtype=int64))"
      ]
     },
     "execution_count": 29,
     "metadata": {},
     "output_type": "execute_result"
    }
   ],
   "source": [
    "np.where(temp > 60)"
   ]
  },
  {
   "cell_type": "code",
   "execution_count": 30,
   "id": "44a5fb5c",
   "metadata": {},
   "outputs": [
    {
     "data": {
      "text/plain": [
       "array([86, 68, 83, 79, 86, 83, 92, 85, 95, 92, 81, 64])"
      ]
     },
     "execution_count": 30,
     "metadata": {},
     "output_type": "execute_result"
    }
   ],
   "source": [
    "temp[np.where(temp > 60)]"
   ]
  },
  {
   "attachments": {},
   "cell_type": "markdown",
   "id": "761e0bf4",
   "metadata": {},
   "source": [
    "#### np.argwhere() 输出的直接是满足要求的元素的坐标索引，多出一个axis"
   ]
  },
  {
   "cell_type": "code",
   "execution_count": 31,
   "id": "cfe9d8cd",
   "metadata": {},
   "outputs": [
    {
     "data": {
      "text/plain": [
       "array([[0, 3],\n",
       "       [1, 0],\n",
       "       [1, 1],\n",
       "       [1, 2],\n",
       "       [1, 3],\n",
       "       [2, 1],\n",
       "       [2, 2],\n",
       "       [2, 3],\n",
       "       [3, 0],\n",
       "       [3, 1],\n",
       "       [3, 2],\n",
       "       [3, 3]], dtype=int64)"
      ]
     },
     "execution_count": 31,
     "metadata": {},
     "output_type": "execute_result"
    }
   ],
   "source": [
    "np.argwhere(temp > 60)"
   ]
  },
  {
   "cell_type": "code",
   "execution_count": 32,
   "id": "e96f8ed1",
   "metadata": {},
   "outputs": [
    {
     "data": {
      "text/plain": [
       "array([[[41, 47, 56, 86],\n",
       "        [95, 92, 81, 64]],\n",
       "\n",
       "       [[68, 83, 79, 86],\n",
       "        [41, 47, 56, 86]],\n",
       "\n",
       "       [[68, 83, 79, 86],\n",
       "        [68, 83, 79, 86]],\n",
       "\n",
       "       [[68, 83, 79, 86],\n",
       "        [42, 83, 92, 85]],\n",
       "\n",
       "       [[68, 83, 79, 86],\n",
       "        [95, 92, 81, 64]],\n",
       "\n",
       "       [[42, 83, 92, 85],\n",
       "        [68, 83, 79, 86]],\n",
       "\n",
       "       [[42, 83, 92, 85],\n",
       "        [42, 83, 92, 85]],\n",
       "\n",
       "       [[42, 83, 92, 85],\n",
       "        [95, 92, 81, 64]],\n",
       "\n",
       "       [[95, 92, 81, 64],\n",
       "        [41, 47, 56, 86]],\n",
       "\n",
       "       [[95, 92, 81, 64],\n",
       "        [68, 83, 79, 86]],\n",
       "\n",
       "       [[95, 92, 81, 64],\n",
       "        [42, 83, 92, 85]],\n",
       "\n",
       "       [[95, 92, 81, 64],\n",
       "        [95, 92, 81, 64]]])"
      ]
     },
     "execution_count": 32,
     "metadata": {},
     "output_type": "execute_result"
    }
   ],
   "source": [
    "# 这样是错误的\n",
    "temp[np.argwhere(temp > 60)]"
   ]
  },
  {
   "cell_type": "code",
   "execution_count": 34,
   "id": "f8436a8a",
   "metadata": {},
   "outputs": [
    {
     "data": {
      "text/plain": [
       "array([86, 68, 83, 79, 86, 83, 92, 85, 95, 92, 81, 64])"
      ]
     },
     "execution_count": 34,
     "metadata": {},
     "output_type": "execute_result"
    }
   ],
   "source": [
    "# 这样才正确,因为多了维度\n",
    "temp[np.argwhere(temp > 60)[:,0], np.argwhere(temp > 60)[:,1]]"
   ]
  },
  {
   "attachments": {},
   "cell_type": "markdown",
   "id": "87e36d73",
   "metadata": {},
   "source": [
    "#### 复合逻辑需要结合np.logical_and和np.logical_or使用"
   ]
  },
  {
   "cell_type": "code",
   "execution_count": 9,
   "id": "fcd50566",
   "metadata": {},
   "outputs": [
    {
     "data": {
      "text/plain": [
       "array([[False, False, False,  True],\n",
       "       [ True,  True,  True,  True],\n",
       "       [False,  True, False,  True],\n",
       "       [False, False,  True,  True]])"
      ]
     },
     "execution_count": 9,
     "metadata": {},
     "output_type": "execute_result"
    }
   ],
   "source": [
    "np.logical_and(temp > 60, temp < 90)"
   ]
  },
  {
   "cell_type": "code",
   "execution_count": 10,
   "id": "8f5ee04b",
   "metadata": {
    "scrolled": true
   },
   "outputs": [
    {
     "data": {
      "text/plain": [
       "array([[0, 0, 0, 1],\n",
       "       [1, 1, 1, 1],\n",
       "       [0, 1, 0, 1],\n",
       "       [0, 0, 1, 1]])"
      ]
     },
     "execution_count": 10,
     "metadata": {},
     "output_type": "execute_result"
    }
   ],
   "source": [
    "# 判断前四名学生,前四门课程中，成绩中大于60且小于90的换为1，否则为0\n",
    "np.where(np.logical_and(temp > 60, temp < 90), 1, 0)"
   ]
  },
  {
   "cell_type": "code",
   "execution_count": 11,
   "id": "78b807e6",
   "metadata": {},
   "outputs": [
    {
     "data": {
      "text/plain": [
       "array([[1, 1, 1, 1],\n",
       "       [1, 1, 1, 1],\n",
       "       [1, 1, 1, 1],\n",
       "       [1, 1, 1, 1]])"
      ]
     },
     "execution_count": 11,
     "metadata": {},
     "output_type": "execute_result"
    }
   ],
   "source": [
    "# 判断前四名学生,前四门课程中，成绩中大于90或小于60的换为1，否则为0\n",
    "np.where(np.logical_or(temp > 60, temp < 90), 1, 0)"
   ]
  },
  {
   "cell_type": "code",
   "execution_count": null,
   "id": "fcfaecdd",
   "metadata": {},
   "outputs": [],
   "source": []
  }
 ],
 "metadata": {
  "kernelspec": {
   "display_name": "pytorch",
   "language": "python",
   "name": "python3"
  },
  "language_info": {
   "codemirror_mode": {
    "name": "ipython",
    "version": 3
   },
   "file_extension": ".py",
   "mimetype": "text/x-python",
   "name": "python",
   "nbconvert_exporter": "python",
   "pygments_lexer": "ipython3",
   "version": "3.10.11"
  },
  "toc": {
   "base_numbering": 1,
   "nav_menu": {},
   "number_sections": true,
   "sideBar": true,
   "skip_h1_title": false,
   "title_cell": "Table of Contents",
   "title_sidebar": "Contents",
   "toc_cell": false,
   "toc_position": {
    "height": "747px",
    "left": "92px",
    "top": "111.133px",
    "width": "384px"
   },
   "toc_section_display": true,
   "toc_window_display": true
  },
  "vscode": {
   "interpreter": {
    "hash": "5b5292cc5f82d8561d05c044f8ed41e8f78352f5ad17a4513f2686858f295381"
   }
  }
 },
 "nbformat": 4,
 "nbformat_minor": 5
}
