{
 "cells": [
  {
   "cell_type": "code",
   "execution_count": 1,
   "id": "5b5f6a6f",
   "metadata": {},
   "outputs": [],
   "source": [
    "import numpy as np"
   ]
  },
  {
   "cell_type": "code",
   "execution_count": 2,
   "id": "667b4d73",
   "metadata": {},
   "outputs": [],
   "source": [
    "np.random.seed(43)"
   ]
  },
  {
   "attachments": {},
   "cell_type": "markdown",
   "id": "0b1fb0cb",
   "metadata": {},
   "source": [
    "# 逻辑运算"
   ]
  },
  {
   "cell_type": "code",
   "execution_count": 3,
   "id": "db3c85e1",
   "metadata": {},
   "outputs": [
    {
     "data": {
      "text/plain": [
       "array([[93, 52, 64, 87, 72],\n",
       "       [50, 88, 49, 74, 88],\n",
       "       [92, 44, 96, 68, 49],\n",
       "       [47, 60, 87, 80, 93]])"
      ]
     },
     "execution_count": 3,
     "metadata": {},
     "output_type": "execute_result"
    }
   ],
   "source": [
    "# 生成10名同学，5门功课的数据\n",
    "score = np.random.randint(40, 100, (10, 5))\n",
    "# 取出最后4名同学的成绩，用于逻辑判断\n",
    "test_score = score[6:, 0:5]\n",
    "test_score"
   ]
  },
  {
   "cell_type": "code",
   "execution_count": 4,
   "id": "27e4877e",
   "metadata": {},
   "outputs": [
    {
     "data": {
      "text/plain": [
       "array([[ True, False,  True,  True,  True],\n",
       "       [False,  True, False,  True,  True],\n",
       "       [ True, False,  True,  True, False],\n",
       "       [False, False,  True,  True,  True]])"
      ]
     },
     "execution_count": 4,
     "metadata": {},
     "output_type": "execute_result"
    }
   ],
   "source": [
    "# 逻辑判断, 如果成绩大于60就标记为True 否则为False\n",
    "test_score > 60"
   ]
  },
  {
   "cell_type": "code",
   "execution_count": 5,
   "id": "2c70fdc0",
   "metadata": {},
   "outputs": [
    {
     "data": {
      "text/plain": [
       "array([[ 1, 52,  1,  1,  1],\n",
       "       [50,  1, 49,  1,  1],\n",
       "       [ 1, 44,  1,  1, 49],\n",
       "       [47, 60,  1,  1,  1]])"
      ]
     },
     "execution_count": 5,
     "metadata": {},
     "output_type": "execute_result"
    }
   ],
   "source": [
    "# BOOL赋值, 将满足条件的设置为指定的值-布尔索引\n",
    "test_score[test_score > 60] = 1\n",
    "#est_score[test_score <= 60] = 0  这样全为0, 因为不为1,就小于等于60\n",
    "test_score"
   ]
  },
  {
   "attachments": {},
   "cell_type": "markdown",
   "id": "ba8e9060",
   "metadata": {},
   "source": [
    "# np.all()"
   ]
  },
  {
   "cell_type": "code",
   "execution_count": 6,
   "id": "7867c070",
   "metadata": {},
   "outputs": [
    {
     "data": {
      "text/plain": [
       "array([[44, 40, 89, 61, 98],\n",
       "       [56, 91, 57, 99, 67]])"
      ]
     },
     "execution_count": 6,
     "metadata": {},
     "output_type": "execute_result"
    }
   ],
   "source": [
    "score[0:2, :]"
   ]
  },
  {
   "cell_type": "code",
   "execution_count": 7,
   "id": "82c6ddb9",
   "metadata": {},
   "outputs": [
    {
     "data": {
      "text/plain": [
       "False"
      ]
     },
     "execution_count": 7,
     "metadata": {},
     "output_type": "execute_result"
    }
   ],
   "source": [
    "# 判断前2名同学的成绩[0:2, :]是否全及格\n",
    "np.all(score[0:2, :] > 60)"
   ]
  },
  {
   "cell_type": "markdown",
   "id": "71b27278",
   "metadata": {},
   "source": [
    "# np.any()"
   ]
  },
  {
   "cell_type": "code",
   "execution_count": 8,
   "id": "36788fe6",
   "metadata": {},
   "outputs": [
    {
     "data": {
      "text/plain": [
       "True"
      ]
     },
     "execution_count": 8,
     "metadata": {},
     "output_type": "execute_result"
    }
   ],
   "source": [
    "# 判断前两2同学的成绩[0:2, :]是否有大于90分的\n",
    "np.any(score[0:2, :] > 80)"
   ]
  },
  {
   "attachments": {},
   "cell_type": "markdown",
   "id": "4df96139",
   "metadata": {},
   "source": [
    "# np.allclose 判断两组数据是否近似 返回1个True/False"
   ]
  },
  {
   "cell_type": "code",
   "execution_count": 9,
   "id": "53a6de42",
   "metadata": {},
   "outputs": [],
   "source": [
    "q = k = v = np.random.random((1, 196, 768))"
   ]
  },
  {
   "cell_type": "code",
   "execution_count": 10,
   "id": "779ea7f6",
   "metadata": {},
   "outputs": [
    {
     "data": {
      "text/plain": [
       "(1, 196, 196)"
      ]
     },
     "execution_count": 10,
     "metadata": {},
     "output_type": "execute_result"
    }
   ],
   "source": [
    "attn1 = q @ k.swapaxes(-2, -1)\n",
    "attn1.shape"
   ]
  },
  {
   "cell_type": "code",
   "execution_count": 11,
   "id": "5a0afc5d",
   "metadata": {},
   "outputs": [
    {
     "data": {
      "text/plain": [
       "(1, 196, 196)"
      ]
     },
     "execution_count": 11,
     "metadata": {},
     "output_type": "execute_result"
    }
   ],
   "source": [
    "attn2 = np.einsum(\"b p c, b k c -> b p k\", q, k)\n",
    "attn2.shape"
   ]
  },
  {
   "cell_type": "code",
   "execution_count": 12,
   "id": "44358762",
   "metadata": {},
   "outputs": [
    {
     "data": {
      "text/plain": [
       "False"
      ]
     },
     "execution_count": 12,
     "metadata": {},
     "output_type": "execute_result"
    }
   ],
   "source": [
    "np.all(attn1 == attn2)"
   ]
  },
  {
   "cell_type": "code",
   "execution_count": 13,
   "id": "73afea7d",
   "metadata": {},
   "outputs": [
    {
     "data": {
      "text/plain": [
       "True"
      ]
     },
     "execution_count": 13,
     "metadata": {},
     "output_type": "execute_result"
    }
   ],
   "source": [
    "# param:\n",
    "#   array1\n",
    "#   array2\n",
    "#   rtol: 相对宽容度\n",
    "#   atol: 绝对宽容度\n",
    "np.allclose(attn1, attn2, rtol=1e-6, atol=1e-6)"
   ]
  },
  {
   "cell_type": "markdown",
   "id": "ca8177b2",
   "metadata": {},
   "source": [
    "# np.isclose 判断两组数据是否近似,返回每个值的对比结果"
   ]
  },
  {
   "cell_type": "code",
   "execution_count": 14,
   "id": "ef426cca",
   "metadata": {},
   "outputs": [
    {
     "data": {
      "text/plain": [
       "array([[[ True,  True,  True, ...,  True,  True,  True],\n",
       "        [ True,  True,  True, ...,  True,  True,  True],\n",
       "        [ True,  True,  True, ...,  True,  True,  True],\n",
       "        ...,\n",
       "        [ True,  True,  True, ...,  True,  True,  True],\n",
       "        [ True,  True,  True, ...,  True,  True,  True],\n",
       "        [ True,  True,  True, ...,  True,  True,  True]]])"
      ]
     },
     "execution_count": 14,
     "metadata": {},
     "output_type": "execute_result"
    }
   ],
   "source": [
    "# param:\n",
    "#   array1\n",
    "#   array2\n",
    "#   rtol: 相对宽容度\n",
    "#   atol: 绝对宽容度\n",
    "np.isclose(attn1, attn2, rtol=1e-6, atol=1e-6)"
   ]
  },
  {
   "cell_type": "code",
   "execution_count": 15,
   "id": "835b2d17",
   "metadata": {},
   "outputs": [
    {
     "data": {
      "text/plain": [
       "True"
      ]
     },
     "execution_count": 15,
     "metadata": {},
     "output_type": "execute_result"
    }
   ],
   "source": [
    "np.all(np.isclose(attn1, attn2, rtol=1e-6, atol=1e-6))"
   ]
  },
  {
   "attachments": {},
   "cell_type": "markdown",
   "id": "55cc785f",
   "metadata": {},
   "source": [
    "# np.where(三元运算符)\n",
    "\n",
    "np.where() 以元组形式输出满足条件的列表索引"
   ]
  },
  {
   "cell_type": "code",
   "execution_count": 16,
   "id": "1d1473a5",
   "metadata": {},
   "outputs": [
    {
     "data": {
      "text/plain": [
       "array([[44, 40, 89, 61],\n",
       "       [56, 91, 57, 99],\n",
       "       [42, 86, 70, 63],\n",
       "       [75, 90, 99, 51]])"
      ]
     },
     "execution_count": 16,
     "metadata": {},
     "output_type": "execute_result"
    }
   ],
   "source": [
    "# 判断前四名学生,前四门课程中，成绩中大于60的置为1，否则为0\n",
    "temp = score[:4, :4]\n",
    "temp"
   ]
  },
  {
   "cell_type": "code",
   "execution_count": 17,
   "id": "6d97ebe6",
   "metadata": {},
   "outputs": [
    {
     "data": {
      "text/plain": [
       "array([[0, 0, 1, 1],\n",
       "       [0, 1, 0, 1],\n",
       "       [0, 1, 1, 1],\n",
       "       [1, 1, 1, 0]])"
      ]
     },
     "execution_count": 17,
     "metadata": {},
     "output_type": "execute_result"
    }
   ],
   "source": [
    "# 条件满足为1,否则为0\n",
    "np.where(temp > 60, 1, 0)"
   ]
  },
  {
   "cell_type": "code",
   "execution_count": 18,
   "id": "c7704171",
   "metadata": {},
   "outputs": [
    {
     "data": {
      "text/plain": [
       "(array([0, 0, 1, 1, 2, 2, 2, 3, 3, 3], dtype=int64),\n",
       " array([2, 3, 1, 3, 1, 2, 3, 0, 1, 2], dtype=int64))"
      ]
     },
     "execution_count": 18,
     "metadata": {},
     "output_type": "execute_result"
    }
   ],
   "source": [
    "np.where(temp > 60)"
   ]
  },
  {
   "cell_type": "code",
   "execution_count": 19,
   "id": "44a5fb5c",
   "metadata": {},
   "outputs": [
    {
     "data": {
      "text/plain": [
       "array([89, 61, 91, 99, 86, 70, 63, 75, 90, 99])"
      ]
     },
     "execution_count": 19,
     "metadata": {},
     "output_type": "execute_result"
    }
   ],
   "source": [
    "temp[np.where(temp > 60)]"
   ]
  },
  {
   "attachments": {},
   "cell_type": "markdown",
   "id": "761e0bf4",
   "metadata": {},
   "source": [
    "# np.argwhere() 输出的直接是满足要求的元素的坐标索引，多出一个axis"
   ]
  },
  {
   "cell_type": "code",
   "execution_count": 20,
   "id": "cfe9d8cd",
   "metadata": {},
   "outputs": [
    {
     "data": {
      "text/plain": [
       "array([[0, 2],\n",
       "       [0, 3],\n",
       "       [1, 1],\n",
       "       [1, 3],\n",
       "       [2, 1],\n",
       "       [2, 2],\n",
       "       [2, 3],\n",
       "       [3, 0],\n",
       "       [3, 1],\n",
       "       [3, 2]], dtype=int64)"
      ]
     },
     "execution_count": 20,
     "metadata": {},
     "output_type": "execute_result"
    }
   ],
   "source": [
    "np.argwhere(temp > 60)"
   ]
  },
  {
   "cell_type": "code",
   "execution_count": 21,
   "id": "e96f8ed1",
   "metadata": {},
   "outputs": [
    {
     "data": {
      "text/plain": [
       "array([[[44, 40, 89, 61],\n",
       "        [42, 86, 70, 63]],\n",
       "\n",
       "       [[44, 40, 89, 61],\n",
       "        [75, 90, 99, 51]],\n",
       "\n",
       "       [[56, 91, 57, 99],\n",
       "        [56, 91, 57, 99]],\n",
       "\n",
       "       [[56, 91, 57, 99],\n",
       "        [75, 90, 99, 51]],\n",
       "\n",
       "       [[42, 86, 70, 63],\n",
       "        [56, 91, 57, 99]],\n",
       "\n",
       "       [[42, 86, 70, 63],\n",
       "        [42, 86, 70, 63]],\n",
       "\n",
       "       [[42, 86, 70, 63],\n",
       "        [75, 90, 99, 51]],\n",
       "\n",
       "       [[75, 90, 99, 51],\n",
       "        [44, 40, 89, 61]],\n",
       "\n",
       "       [[75, 90, 99, 51],\n",
       "        [56, 91, 57, 99]],\n",
       "\n",
       "       [[75, 90, 99, 51],\n",
       "        [42, 86, 70, 63]]])"
      ]
     },
     "execution_count": 21,
     "metadata": {},
     "output_type": "execute_result"
    }
   ],
   "source": [
    "# 这样是错误的\n",
    "temp[np.argwhere(temp > 60)]"
   ]
  },
  {
   "cell_type": "code",
   "execution_count": 22,
   "id": "f8436a8a",
   "metadata": {},
   "outputs": [
    {
     "data": {
      "text/plain": [
       "array([89, 61, 91, 99, 86, 70, 63, 75, 90, 99])"
      ]
     },
     "execution_count": 22,
     "metadata": {},
     "output_type": "execute_result"
    }
   ],
   "source": [
    "# 这样才正确,因为多了维度,index维度是几维的,就在最后维度划分为几份\n",
    "temp[np.argwhere(temp > 60)[:, 0], np.argwhere(temp > 60)[:, 1]]"
   ]
  },
  {
   "cell_type": "code",
   "execution_count": 23,
   "id": "35b6c50b",
   "metadata": {},
   "outputs": [
    {
     "data": {
      "text/plain": [
       "array([89, 61, 91, 99, 86, 70, 63, 75, 90, 99])"
      ]
     },
     "execution_count": 23,
     "metadata": {},
     "output_type": "execute_result"
    }
   ],
   "source": [
    "# 这样才正确,因为多了维度,index维度是几维的,就在最后维度划分为几份\n",
    "temp[np.argwhere(temp > 60)[..., 0], np.argwhere(temp > 60)[..., 1]]"
   ]
  },
  {
   "attachments": {},
   "cell_type": "markdown",
   "id": "87e36d73",
   "metadata": {},
   "source": [
    "# 复合逻辑需要结合np.logical_and和np.logical_or使用"
   ]
  },
  {
   "cell_type": "code",
   "execution_count": 24,
   "id": "fcd50566",
   "metadata": {},
   "outputs": [
    {
     "data": {
      "text/plain": [
       "array([[False, False,  True,  True],\n",
       "       [False, False, False, False],\n",
       "       [False,  True,  True,  True],\n",
       "       [ True, False, False, False]])"
      ]
     },
     "execution_count": 24,
     "metadata": {},
     "output_type": "execute_result"
    }
   ],
   "source": [
    "np.logical_and(temp > 60, temp < 90)"
   ]
  },
  {
   "cell_type": "code",
   "execution_count": 25,
   "id": "8f5ee04b",
   "metadata": {
    "scrolled": true
   },
   "outputs": [
    {
     "data": {
      "text/plain": [
       "array([[0, 0, 1, 1],\n",
       "       [0, 0, 0, 0],\n",
       "       [0, 1, 1, 1],\n",
       "       [1, 0, 0, 0]])"
      ]
     },
     "execution_count": 25,
     "metadata": {},
     "output_type": "execute_result"
    }
   ],
   "source": [
    "# 判断前四名学生,前四门课程中，成绩中大于60且小于90的换为1，否则为0\n",
    "np.where(np.logical_and(temp > 60, temp < 90), 1, 0)"
   ]
  },
  {
   "cell_type": "code",
   "execution_count": 26,
   "id": "78b807e6",
   "metadata": {},
   "outputs": [
    {
     "data": {
      "text/plain": [
       "array([[1, 1, 1, 1],\n",
       "       [1, 1, 1, 1],\n",
       "       [1, 1, 1, 1],\n",
       "       [1, 1, 1, 1]])"
      ]
     },
     "execution_count": 26,
     "metadata": {},
     "output_type": "execute_result"
    }
   ],
   "source": [
    "# 判断前四名学生,前四门课程中，成绩中大于90或小于60的换为1，否则为0\n",
    "np.where(np.logical_or(temp > 60, temp < 90), 1, 0)"
   ]
  },
  {
   "cell_type": "code",
   "execution_count": null,
   "id": "fcfaecdd",
   "metadata": {},
   "outputs": [],
   "source": []
  }
 ],
 "metadata": {
  "kernelspec": {
   "display_name": "pytorch",
   "language": "python",
   "name": "python3"
  },
  "language_info": {
   "codemirror_mode": {
    "name": "ipython",
    "version": 3
   },
   "file_extension": ".py",
   "mimetype": "text/x-python",
   "name": "python",
   "nbconvert_exporter": "python",
   "pygments_lexer": "ipython3",
   "version": "3.11.4"
  },
  "toc": {
   "base_numbering": 1,
   "nav_menu": {},
   "number_sections": true,
   "sideBar": true,
   "skip_h1_title": false,
   "title_cell": "Table of Contents",
   "title_sidebar": "Contents",
   "toc_cell": false,
   "toc_position": {
    "height": "747px",
    "left": "92px",
    "top": "111.133px",
    "width": "384px"
   },
   "toc_section_display": true,
   "toc_window_display": true
  },
  "vscode": {
   "interpreter": {
    "hash": "5b5292cc5f82d8561d05c044f8ed41e8f78352f5ad17a4513f2686858f295381"
   }
  }
 },
 "nbformat": 4,
 "nbformat_minor": 5
}
