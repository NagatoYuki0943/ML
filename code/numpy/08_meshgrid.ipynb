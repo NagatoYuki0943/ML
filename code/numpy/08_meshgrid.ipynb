{
 "cells": [
  {
   "cell_type": "code",
   "execution_count": 74,
   "id": "cc2ef163",
   "metadata": {},
   "outputs": [],
   "source": [
    "import numpy as np\n",
    "import torch\n",
    "from matplotlib import pyplot as plt"
   ]
  },
  {
   "cell_type": "markdown",
   "id": "a6851297",
   "metadata": {},
   "source": [
    "# meshgrid 制作x,y点阵坐标"
   ]
  },
  {
   "cell_type": "code",
   "execution_count": 75,
   "id": "4e89bf2f",
   "metadata": {},
   "outputs": [],
   "source": [
    "x = np.array([0, 1, 2, 3])\n",
    "y = np.array([0, 1, 2])"
   ]
  },
  {
   "cell_type": "code",
   "execution_count": 76,
   "id": "3746bf55",
   "metadata": {},
   "outputs": [],
   "source": [
    "x_t = torch.from_numpy(x)\n",
    "y_t = torch.from_numpy(y)"
   ]
  },
  {
   "cell_type": "markdown",
   "id": "e68a2e9f",
   "metadata": {},
   "source": [
    "## index=\"xy\"\n",
    "\n",
    "If \"xy\" is selected, the first dimension corresponds\n",
    "to the cardinality of the second input and the second\n",
    "dimension corresponds to the cardinality of the first\n",
    "input."
   ]
  },
  {
   "cell_type": "code",
   "execution_count": 77,
   "id": "efeb88d7",
   "metadata": {},
   "outputs": [
    {
     "data": {
      "text/plain": [
       "(array([[0, 1, 2, 3],\n",
       "        [0, 1, 2, 3],\n",
       "        [0, 1, 2, 3]]),\n",
       " array([[0, 0, 0, 0],\n",
       "        [1, 1, 1, 1],\n",
       "        [2, 2, 2, 2]]))"
      ]
     },
     "execution_count": 77,
     "metadata": {},
     "output_type": "execute_result"
    }
   ],
   "source": [
    "x_grid, y_grid = np.meshgrid(x, y)    # numpy 默认 indexing=\"xy\"\n",
    "x_grid, y_grid"
   ]
  },
  {
   "cell_type": "code",
   "execution_count": 78,
   "id": "7c6384d1",
   "metadata": {},
   "outputs": [
    {
     "data": {
      "text/plain": [
       "[array([[0, 1, 2, 3],\n",
       "        [0, 1, 2, 3],\n",
       "        [0, 1, 2, 3]]),\n",
       " array([[0, 0, 0, 0],\n",
       "        [1, 1, 1, 1],\n",
       "        [2, 2, 2, 2]])]"
      ]
     },
     "execution_count": 78,
     "metadata": {},
     "output_type": "execute_result"
    }
   ],
   "source": [
    "np.meshgrid(x, y, indexing=\"xy\")"
   ]
  },
  {
   "cell_type": "code",
   "execution_count": 79,
   "id": "07cb517a",
   "metadata": {},
   "outputs": [
    {
     "data": {
      "text/plain": [
       "(tensor([[0, 1, 2, 3],\n",
       "         [0, 1, 2, 3],\n",
       "         [0, 1, 2, 3]], dtype=torch.int32),\n",
       " tensor([[0, 0, 0, 0],\n",
       "         [1, 1, 1, 1],\n",
       "         [2, 2, 2, 2]], dtype=torch.int32))"
      ]
     },
     "execution_count": 79,
     "metadata": {},
     "output_type": "execute_result"
    }
   ],
   "source": [
    "x_grid_t, y_grid_t = torch.meshgrid([x_t, y_t], indexing=\"xy\")\n",
    "x_grid_t, y_grid_t"
   ]
  },
  {
   "cell_type": "code",
   "execution_count": 80,
   "id": "3bc68d96",
   "metadata": {},
   "outputs": [
    {
     "data": {
      "image/png": "[encoded data removed]",
      "text/plain": [
       "<Figure size 640x480 with 1 Axes>"
      ]
     },
     "metadata": {},
     "output_type": "display_data"
    }
   ],
   "source": [
    "plt.plot(\n",
    "    x_grid, y_grid,\n",
    "    color='red',\n",
    "    marker='.',     # 设置点类型为圆点\n",
    "    linestyle=''    # 设置线型为空，也即没有线连接点\n",
    ")\n",
    "plt.grid()\n",
    "plt.show()"
   ]
  },
  {
   "cell_type": "code",
   "execution_count": 81,
   "id": "94bf26dc",
   "metadata": {},
   "outputs": [
    {
     "data": {
      "text/plain": [
       "array([[[0, 0],\n",
       "        [1, 0],\n",
       "        [2, 0],\n",
       "        [3, 0]],\n",
       "\n",
       "       [[0, 1],\n",
       "        [1, 1],\n",
       "        [2, 1],\n",
       "        [3, 1]],\n",
       "\n",
       "       [[0, 2],\n",
       "        [1, 2],\n",
       "        [2, 2],\n",
       "        [3, 2]]])"
      ]
     },
     "execution_count": 81,
     "metadata": {},
     "output_type": "execute_result"
    }
   ],
   "source": [
    "# 展平叠加\n",
    "anchors = np.stack((x_grid, y_grid), axis=-1)\n",
    "anchors"
   ]
  },
  {
   "cell_type": "code",
   "execution_count": 82,
   "id": "a6f0a6e6",
   "metadata": {},
   "outputs": [
    {
     "data": {
      "text/plain": [
       "array([[0, 0],\n",
       "       [1, 0],\n",
       "       [2, 0],\n",
       "       [3, 0],\n",
       "       [0, 1],\n",
       "       [1, 1],\n",
       "       [2, 1],\n",
       "       [3, 1],\n",
       "       [0, 2],\n",
       "       [1, 2],\n",
       "       [2, 2],\n",
       "       [3, 2]])"
      ]
     },
     "execution_count": 82,
     "metadata": {},
     "output_type": "execute_result"
    }
   ],
   "source": [
    "anchors = anchors.reshape(-1, 2)\n",
    "anchors\n",
    "# 依次遍历每行"
   ]
  },
  {
   "cell_type": "code",
   "execution_count": 83,
   "id": "36004142",
   "metadata": {},
   "outputs": [
    {
     "data": {
      "image/png": "[encoded data removed]",
      "text/plain": [
       "<Figure size 640x480 with 1 Axes>"
      ]
     },
     "metadata": {},
     "output_type": "display_data"
    }
   ],
   "source": [
    "plt.plot(\n",
    "    anchors[:, 0], anchors[:, 1],\n",
    "    color='red',\n",
    "    marker='.',     # 设置点类型为圆点\n",
    "    linestyle=''    # 设置线型为空，也即没有线连接点\n",
    ")\n",
    "plt.grid()\n",
    "plt.show()"
   ]
  },
  {
   "cell_type": "markdown",
   "id": "6785a7d4",
   "metadata": {},
   "source": [
    "## index=\"ij\"\n",
    "\n",
    "If \"ij\" is selected, the dimensions are in the same\n",
    "order as the cardinality of the inputs."
   ]
  },
  {
   "cell_type": "code",
   "execution_count": 84,
   "id": "26993409",
   "metadata": {},
   "outputs": [
    {
     "data": {
      "text/plain": [
       "(array([[0, 0, 0],\n",
       "        [1, 1, 1],\n",
       "        [2, 2, 2],\n",
       "        [3, 3, 3]]),\n",
       " array([[0, 1, 2],\n",
       "        [0, 1, 2],\n",
       "        [0, 1, 2],\n",
       "        [0, 1, 2]]))"
      ]
     },
     "execution_count": 84,
     "metadata": {},
     "output_type": "execute_result"
    }
   ],
   "source": [
    "x_grid, y_grid = np.meshgrid(x, y, indexing=\"ij\")\n",
    "x_grid, y_grid"
   ]
  },
  {
   "cell_type": "code",
   "execution_count": 85,
   "id": "be1fa040",
   "metadata": {},
   "outputs": [
    {
     "data": {
      "text/plain": [
       "(tensor([[0, 0, 0],\n",
       "         [1, 1, 1],\n",
       "         [2, 2, 2],\n",
       "         [3, 3, 3]], dtype=torch.int32),\n",
       " tensor([[0, 1, 2],\n",
       "         [0, 1, 2],\n",
       "         [0, 1, 2],\n",
       "         [0, 1, 2]], dtype=torch.int32))"
      ]
     },
     "execution_count": 85,
     "metadata": {},
     "output_type": "execute_result"
    }
   ],
   "source": [
    "torch.meshgrid([x_t, y_t])  # pytorch 默认 indexing=\"ij\""
   ]
  },
  {
   "cell_type": "code",
   "execution_count": 86,
   "id": "4b563472",
   "metadata": {},
   "outputs": [
    {
     "data": {
      "text/plain": [
       "(tensor([[0, 0, 0],\n",
       "         [1, 1, 1],\n",
       "         [2, 2, 2],\n",
       "         [3, 3, 3]], dtype=torch.int32),\n",
       " tensor([[0, 1, 2],\n",
       "         [0, 1, 2],\n",
       "         [0, 1, 2],\n",
       "         [0, 1, 2]], dtype=torch.int32))"
      ]
     },
     "execution_count": 86,
     "metadata": {},
     "output_type": "execute_result"
    }
   ],
   "source": [
    "torch.meshgrid([x_t, y_t], indexing=\"ij\")"
   ]
  },
  {
   "cell_type": "code",
   "execution_count": 87,
   "id": "326c69ed",
   "metadata": {},
   "outputs": [
    {
     "data": {
      "image/png": "[encoded data removed]",
      "text/plain": [
       "<Figure size 640x480 with 1 Axes>"
      ]
     },
     "metadata": {},
     "output_type": "display_data"
    }
   ],
   "source": [
    "plt.plot(\n",
    "    x_grid, y_grid,\n",
    "    color='red',\n",
    "    marker='.',     # 设置点类型为圆点\n",
    "    linestyle=''    # 设置线型为空，也即没有线连接点\n",
    ")\n",
    "plt.grid()\n",
    "plt.show()"
   ]
  },
  {
   "cell_type": "code",
   "execution_count": 88,
   "id": "c51edec7",
   "metadata": {},
   "outputs": [
    {
     "data": {
      "text/plain": [
       "array([[0, 0],\n",
       "       [0, 1],\n",
       "       [0, 2],\n",
       "       [1, 0],\n",
       "       [1, 1],\n",
       "       [1, 2],\n",
       "       [2, 0],\n",
       "       [2, 1],\n",
       "       [2, 2],\n",
       "       [3, 0],\n",
       "       [3, 1],\n",
       "       [3, 2]])"
      ]
     },
     "execution_count": 88,
     "metadata": {},
     "output_type": "execute_result"
    }
   ],
   "source": [
    "anchors = np.stack((x_grid, y_grid), axis=-1).reshape(-1, 2)\n",
    "anchors\n",
    "# 依次遍历每列"
   ]
  },
  {
   "cell_type": "code",
   "execution_count": 89,
   "id": "e3a30dff",
   "metadata": {},
   "outputs": [
    {
     "data": {
      "image/png": "[encoded data removed]",
      "text/plain": [
       "<Figure size 640x480 with 1 Axes>"
      ]
     },
     "metadata": {},
     "output_type": "display_data"
    }
   ],
   "source": [
    "plt.plot(\n",
    "    anchors[:, 0], anchors[:, 1],\n",
    "    color='red',\n",
    "    marker='.',     # 设置点类型为圆点\n",
    "    linestyle=''    # 设置线型为空，也即没有线连接点\n",
    ")\n",
    "plt.grid()\n",
    "plt.show()"
   ]
  },
  {
   "cell_type": "markdown",
   "id": "0771505d",
   "metadata": {},
   "source": [
    "### 输入时的xy顺序颠倒可以得到和 index=\"xy\" 相同的结果"
   ]
  },
  {
   "cell_type": "code",
   "execution_count": 90,
   "id": "6ae4b763",
   "metadata": {},
   "outputs": [
    {
     "data": {
      "text/plain": [
       "[array([[0, 1, 2, 3],\n",
       "        [0, 1, 2, 3],\n",
       "        [0, 1, 2, 3]]),\n",
       " array([[0, 0, 0, 0],\n",
       "        [1, 1, 1, 1],\n",
       "        [2, 2, 2, 2]])]"
      ]
     },
     "execution_count": 90,
     "metadata": {},
     "output_type": "execute_result"
    }
   ],
   "source": [
    "np.meshgrid(x, y, indexing=\"xy\")\n",
    "# 返回x y"
   ]
  },
  {
   "cell_type": "code",
   "execution_count": 91,
   "id": "5e4fb62c",
   "metadata": {},
   "outputs": [
    {
     "data": {
      "text/plain": [
       "[array([[0, 0, 0, 0],\n",
       "        [1, 1, 1, 1],\n",
       "        [2, 2, 2, 2]]),\n",
       " array([[0, 1, 2, 3],\n",
       "        [0, 1, 2, 3],\n",
       "        [0, 1, 2, 3]])]"
      ]
     },
     "execution_count": 91,
     "metadata": {},
     "output_type": "execute_result"
    }
   ],
   "source": [
    "np.meshgrid(y, x, indexing=\"ij\")\n",
    "# 返回y x"
   ]
  },
  {
   "cell_type": "code",
   "execution_count": null,
   "id": "3e1a77b4",
   "metadata": {},
   "outputs": [],
   "source": []
  }
 ],
 "metadata": {
  "kernelspec": {
   "display_name": "pytorch",
   "language": "python",
   "name": "python3"
  },
  "language_info": {
   "codemirror_mode": {
    "name": "ipython",
    "version": 3
   },
   "file_extension": ".py",
   "mimetype": "text/x-python",
   "name": "python",
   "nbconvert_exporter": "python",
   "pygments_lexer": "ipython3",
   "version": "3.11.4"
  },
  "toc": {
   "base_numbering": 1,
   "nav_menu": {},
   "number_sections": true,
   "sideBar": true,
   "skip_h1_title": false,
   "title_cell": "Table of Contents",
   "title_sidebar": "Contents",
   "toc_cell": false,
   "toc_position": {},
   "toc_section_display": true,
   "toc_window_display": false
  },
  "vscode": {
   "interpreter": {
    "hash": "5b5292cc5f82d8561d05c044f8ed41e8f78352f5ad17a4513f2686858f295381"
   }
  }
 },
 "nbformat": 4,
 "nbformat_minor": 5
}
