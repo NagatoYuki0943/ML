{
 "cells": [
  {
   "cell_type": "code",
   "execution_count": 2,
   "metadata": {},
   "outputs": [],
   "source": [
    "import numpy as np"
   ]
  },
  {
   "cell_type": "markdown",
   "metadata": {},
   "source": [
    "# np.diff\n",
    "\n",
    "NumPy 的 np.diff 函数用于计算输入数组中连续元素之间的差异。\n",
    "\n",
    "函数概述\n",
    "\n",
    "np.diff的基本语法如下：\n",
    "\n",
    "```python\n",
    "numpy.diff(a, n=1, axis=-1, prepend=np._NoValue, append=np._NoValue)\n",
    "```\n",
    "\n",
    "参数说明\n",
    "\n",
    "- a: 输入数组，支持多维数组。\n",
    "- n: 整数，表示进行差分的次数。默认为1，即计算一次差分。如果设置为0，则返回原始数组。\n",
    "- axis: 整数，指定沿哪个轴进行差分，默认是最后一个轴（即axis=-1）。\n",
    "- prepend: 在计算差分之前，向数组前面添加的值。\n",
    "- append: 在计算差分之后，向数组后面添加的值。\n",
    "\n",
    "返回值\n",
    "\n",
    "返回一个新的数组，包含输入数组元素的n阶差分。输出数组的形状与输入数组相同，但在指定的轴上维度会减少n。"
   ]
  },
  {
   "cell_type": "code",
   "execution_count": 6,
   "metadata": {},
   "outputs": [
    {
     "name": "stdout",
     "output_type": "stream",
     "text": [
      "[ 1  2  3 -7]\n"
     ]
    }
   ],
   "source": [
    "a = np.array([1, 2, 4, 7, 0])\n",
    "diff = np.diff(a)\n",
    "print(diff)"
   ]
  },
  {
   "cell_type": "code",
   "execution_count": 11,
   "metadata": {},
   "outputs": [
    {
     "data": {
      "text/plain": [
       "3"
      ]
     },
     "execution_count": 11,
     "metadata": {},
     "output_type": "execute_result"
    }
   ],
   "source": [
    "# 获取差异最大的一个 index\n",
    "max_idx =np.argmax(np.abs(diff))\n",
    "max_idx"
   ]
  },
  {
   "cell_type": "code",
   "execution_count": 10,
   "metadata": {},
   "outputs": [
    {
     "data": {
      "text/plain": [
       "7"
      ]
     },
     "execution_count": 10,
     "metadata": {},
     "output_type": "execute_result"
    }
   ],
   "source": [
    "a[max_idx]"
   ]
  },
  {
   "cell_type": "code",
   "execution_count": 12,
   "metadata": {},
   "outputs": [
    {
     "name": "stdout",
     "output_type": "stream",
     "text": [
      "[[ 1  2  3 -7]\n",
      " [ 2  4 -9  6]]\n"
     ]
    }
   ],
   "source": [
    "a = np.array([\n",
    "    [1, 2, 4, 7, 0],\n",
    "    [1, 3, 7, -2, 4]\n",
    "])\n",
    "diff = np.diff(a)\n",
    "print(diff)"
   ]
  },
  {
   "cell_type": "code",
   "execution_count": 13,
   "metadata": {},
   "outputs": [
    {
     "name": "stdout",
     "output_type": "stream",
     "text": [
      "[[ 0  1  3 -9  4]]\n"
     ]
    }
   ],
   "source": [
    "a = np.array([\n",
    "    [1, 2, 4, 7, 0],\n",
    "    [1, 3, 7, -2, 4]\n",
    "])\n",
    "diff = np.diff(a, axis=0)\n",
    "print(diff)"
   ]
  },
  {
   "cell_type": "code",
   "execution_count": null,
   "metadata": {},
   "outputs": [],
   "source": []
  }
 ],
 "metadata": {
  "kernelspec": {
   "display_name": "pytorch",
   "language": "python",
   "name": "python3"
  },
  "language_info": {
   "codemirror_mode": {
    "name": "ipython",
    "version": 3
   },
   "file_extension": ".py",
   "mimetype": "text/x-python",
   "name": "python",
   "nbconvert_exporter": "python",
   "pygments_lexer": "ipython3",
   "version": "3.12.4"
  }
 },
 "nbformat": 4,
 "nbformat_minor": 2
}
