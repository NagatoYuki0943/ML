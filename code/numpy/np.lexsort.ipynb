{
 "cells": [
  {
   "cell_type": "code",
   "execution_count": 13,
   "metadata": {},
   "outputs": [],
   "source": [
    "import numpy as np"
   ]
  },
  {
   "cell_type": "markdown",
   "metadata": {},
   "source": [
    "# lexsort\n",
    "\n",
    "使用一系列的 key 进行排序，最后返回一个排序的index\n",
    "\n",
    "- keys: keys 是一个序列，包含多个数组或可转换为相同形状的对象。每个数组可以被视为一个排序的列。最后一个键用于主排序，倒数第二个键用于次排序，以此类推。</br>\n",
    "        keys 是从后往前数的。也就是最后一个 key 相同，就看倒数第二个 key，倒数第二个相同就看倒数第三个 key。\n",
    "\n",
    "- axis: 指定排序的轴，默认值为 -1，即对最后一个轴进行排序。"
   ]
  },
  {
   "cell_type": "code",
   "execution_count": 40,
   "metadata": {},
   "outputs": [],
   "source": [
    "a = np.array([[3, 3, 8], [6, 9, 7], [3, 3, 2]])"
   ]
  },
  {
   "cell_type": "code",
   "execution_count": 41,
   "metadata": {},
   "outputs": [
    {
     "data": {
      "text/plain": [
       "array([2, 0, 1], dtype=int64)"
      ]
     },
     "execution_count": 41,
     "metadata": {},
     "output_type": "execute_result"
    }
   ],
   "source": [
    "\"\"\"\n",
    "index = np.lexsort((a[:, 2], a[:, 1], a[:, 0])) 的运行情况：\n",
    "step-1、首先按照第一列 a[:, 0] 的数值 [3, 6, 3] 升序顺序对每行的位置进行重排, 第一行有两个值相同, 转到step-2\n",
    "            [[3, 3, 8],        [[3, 3, 8],\n",
    "             [6, 9, 7],   -->   [3, 3, 2],\n",
    "             [3, 3, 2]]         [6, 9, 7]]\n",
    "step-2、第一列数值相同的情况下按照相应位置第二列 a[:, 1] 的值继续排序, 第二列对应位置任然相同, 转到step-3\n",
    "            [[3, 3, 8],        [[3, 3, 8],\n",
    "             [6, 9, 7],   -->   [3, 3, 2],\n",
    "             [3, 3, 2]]         [6, 9, 7]]\n",
    "step-3、第二列数值相同的情况下按照相应位置第三列 a[:, 2] 的值继续排序\n",
    "            [[3, 3, 8],        [[3, 3, 2],\n",
    "             [6, 9, 7],   -->   [3, 3, 8],\n",
    "             [3, 3, 2]]         [6, 9, 7]]\n",
    "总结: 第一列的排序结果为[3, 3, 6] 对应的索引值为 [2, 0, 1]\n",
    "\"\"\"\n",
    "index = np.lexsort((a[:, 2], a[:, 1], a[:, 0]))\n",
    "index"
   ]
  },
  {
   "cell_type": "code",
   "execution_count": 42,
   "metadata": {},
   "outputs": [
    {
     "data": {
      "text/plain": [
       "array([[3, 3, 2],\n",
       "       [3, 3, 8],\n",
       "       [6, 9, 7]])"
      ]
     },
     "execution_count": 42,
     "metadata": {},
     "output_type": "execute_result"
    }
   ],
   "source": [
    "a[index]  # 按照排序结果重置数组元素的位置"
   ]
  },
  {
   "cell_type": "code",
   "execution_count": 43,
   "metadata": {},
   "outputs": [
    {
     "data": {
      "text/plain": [
       "array([2, 0, 1], dtype=int64)"
      ]
     },
     "execution_count": 43,
     "metadata": {},
     "output_type": "execute_result"
    }
   ],
   "source": [
    "\"\"\"\n",
    "直接对矩阵进行排序相当于拆解为\n",
    "\n",
    "key1 = a[0,:]\n",
    "key2 = a[1,:]\n",
    "key3 = a[2,:]  # 最后一行为主排序序列\n",
    "\n",
    "index = np.lexsort(a) 等效为: index = np.lexsort((a[0,:], a[1,:], a[2,:]))\n",
    "\n",
    "\"\"\"\n",
    "np.lexsort(a)"
   ]
  },
  {
   "cell_type": "code",
   "execution_count": 46,
   "metadata": {},
   "outputs": [
    {
     "data": {
      "text/plain": [
       "array([2, 0, 1], dtype=int64)"
      ]
     },
     "execution_count": 46,
     "metadata": {},
     "output_type": "execute_result"
    }
   ],
   "source": [
    "np.lexsort((a[0, :], a[1, :], a[2, :]))"
   ]
  },
  {
   "cell_type": "markdown",
   "metadata": {},
   "source": [
    "# box 测试"
   ]
  },
  {
   "cell_type": "code",
   "execution_count": 45,
   "metadata": {},
   "outputs": [
    {
     "data": {
      "text/plain": [
       "array([[ 0,  2,  4,  5],\n",
       "       [ 0,  0,  5,  5],\n",
       "       [ 6,  6, 10, 10],\n",
       "       [ 1,  6,  7,  8],\n",
       "       [ 6,  4,  9,  8],\n",
       "       [ 1,  8, 12, 10]])"
      ]
     },
     "execution_count": 45,
     "metadata": {},
     "output_type": "execute_result"
    }
   ],
   "source": [
    "boxes = np.array(\n",
    "    [\n",
    "        [0, 2, 4, 5],\n",
    "        [0, 0, 5, 5],\n",
    "        [6, 6, 10, 10],\n",
    "        [1, 6, 7, 8],\n",
    "        [6, 4, 9, 8],\n",
    "        [1, 8, 12, 10],\n",
    "    ]\n",
    ")\n",
    "boxes"
   ]
  },
  {
   "cell_type": "code",
   "execution_count": 25,
   "metadata": {},
   "outputs": [
    {
     "data": {
      "text/plain": [
       "array([1, 0, 3, 5, 4, 2], dtype=int64)"
      ]
     },
     "execution_count": 25,
     "metadata": {},
     "output_type": "execute_result"
    }
   ],
   "source": [
    "index = np.lexsort((boxes[:, 3], boxes[:, 2], boxes[:, 1], boxes[:, 0]))\n",
    "index"
   ]
  },
  {
   "cell_type": "code",
   "execution_count": 26,
   "metadata": {},
   "outputs": [
    {
     "data": {
      "text/plain": [
       "array([[ 0,  0,  5,  5],\n",
       "       [ 0,  2,  4,  5],\n",
       "       [ 1,  6,  7,  8],\n",
       "       [ 1,  8, 12, 10],\n",
       "       [ 6,  4,  9,  8],\n",
       "       [ 6,  6, 10, 10]])"
      ]
     },
     "execution_count": 26,
     "metadata": {},
     "output_type": "execute_result"
    }
   ],
   "source": [
    "boxes[index]"
   ]
  },
  {
   "cell_type": "code",
   "execution_count": 22,
   "metadata": {},
   "outputs": [
    {
     "data": {
      "text/plain": [
       "array([0, 1, 3, 4, 2, 5], dtype=int64)"
      ]
     },
     "execution_count": 22,
     "metadata": {},
     "output_type": "execute_result"
    }
   ],
   "source": [
    "index = np.lexsort((boxes[:, 0], boxes[:, 1], boxes[:, 2], boxes[:, 3]))\n",
    "index"
   ]
  },
  {
   "cell_type": "code",
   "execution_count": 23,
   "metadata": {},
   "outputs": [
    {
     "data": {
      "text/plain": [
       "array([[ 0,  2,  4,  5],\n",
       "       [ 0,  0,  5,  5],\n",
       "       [ 1,  6,  7,  8],\n",
       "       [ 6,  4,  9,  8],\n",
       "       [ 6,  6, 10, 10],\n",
       "       [ 1,  8, 12, 10]])"
      ]
     },
     "execution_count": 23,
     "metadata": {},
     "output_type": "execute_result"
    }
   ],
   "source": [
    "boxes[index]"
   ]
  },
  {
   "cell_type": "code",
   "execution_count": null,
   "metadata": {},
   "outputs": [],
   "source": []
  }
 ],
 "metadata": {
  "kernelspec": {
   "display_name": "cv",
   "language": "python",
   "name": "python3"
  },
  "language_info": {
   "codemirror_mode": {
    "name": "ipython",
    "version": 3
   },
   "file_extension": ".py",
   "mimetype": "text/x-python",
   "name": "python",
   "nbconvert_exporter": "python",
   "pygments_lexer": "ipython3",
   "version": "3.11.9"
  }
 },
 "nbformat": 4,
 "nbformat_minor": 2
}
