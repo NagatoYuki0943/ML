{
 "cells": [
  {
   "cell_type": "code",
   "execution_count": 1,
   "metadata": {},
   "outputs": [],
   "source": [
    "import numpy as np\n",
    "import cv2\n",
    "import base64\n",
    "import io\n",
    "import matplotlib.pyplot as plt"
   ]
  },
  {
   "cell_type": "code",
   "execution_count": 2,
   "metadata": {},
   "outputs": [],
   "source": [
    "np.random.seed(0)"
   ]
  },
  {
   "cell_type": "code",
   "execution_count": 3,
   "metadata": {},
   "outputs": [
    {
     "data": {
      "text/plain": [
       "<matplotlib.image.AxesImage at 0x19f5bb82c50>"
      ]
     },
     "execution_count": 3,
     "metadata": {},
     "output_type": "execute_result"
    },
    {
     "data": {
      "image/png": "[encoded data removed]",
      "text/plain": [
       "<Figure size 640x480 with 1 Axes>"
      ]
     },
     "metadata": {},
     "output_type": "display_data"
    }
   ],
   "source": [
    "image = np.random.randint(0, 255, (4, 4, 3), dtype=np.uint8)\n",
    "plt.imshow(image)"
   ]
  },
  {
   "cell_type": "markdown",
   "metadata": {},
   "source": [
    "# bytearray"
   ]
  },
  {
   "cell_type": "code",
   "execution_count": 44,
   "metadata": {},
   "outputs": [
    {
     "data": {
      "text/plain": [
       "bytearray(b'\\xac\\n\\x7f\\x8c/\\xaa\\xc4\\x97u\\xa6\\x16\\xb7\\xc0\\xcc!\\xd8C\\xb3N\\x9a\\xfbR\\xa2\\xdb\\xc3v}\\x8bg}\\xe5\\xd8\\t\\xa4tl\\xd3\\xde\\xa1\\x9f\\x15QY\\xa5\\xf2\\xd6fb')"
      ]
     },
     "execution_count": 44,
     "metadata": {},
     "output_type": "execute_result"
    }
   ],
   "source": [
    "image_bytearray = bytearray(image)\n",
    "image_bytearray"
   ]
  },
  {
   "cell_type": "code",
   "execution_count": 45,
   "metadata": {},
   "outputs": [
    {
     "name": "stdout",
     "output_type": "stream",
     "text": [
      "(48,)\n",
      "(4, 4, 3)\n",
      "True\n"
     ]
    }
   ],
   "source": [
    "# image_decode = np.frombuffer(image_bytearray, dtype=np.uint8)\n",
    "image_decode = np.asarray(image_bytearray, dtype=np.uint8)\n",
    "print(image_decode.shape)\n",
    "image_decode = image_decode.reshape(4, 4, 3)\n",
    "print(image_decode.shape)\n",
    "print(np.all(image == image_decode))"
   ]
  },
  {
   "cell_type": "code",
   "execution_count": 47,
   "metadata": {},
   "outputs": [
    {
     "data": {
      "text/plain": [
       "Text(0.5, 1.0, 'decode')"
      ]
     },
     "execution_count": 47,
     "metadata": {},
     "output_type": "execute_result"
    },
    {
     "data": {
      "image/png": "[encoded data removed]",
      "text/plain": [
       "<Figure size 1000x600 with 2 Axes>"
      ]
     },
     "metadata": {},
     "output_type": "display_data"
    }
   ],
   "source": [
    "fig, axes = plt.subplots(nrows=1, ncols=2, figsize=(10, 6))\n",
    "axes[0].imshow(image)\n",
    "axes[0].set_title(\"origin\")\n",
    "axes[1].imshow(image_decode)\n",
    "axes[1].set_title(\"decode\")"
   ]
  },
  {
   "cell_type": "markdown",
   "metadata": {},
   "source": [
    "# base64"
   ]
  },
  {
   "cell_type": "markdown",
   "metadata": {},
   "source": [
    "## 编码 cv2.imencode -> base64.b64encode"
   ]
  },
  {
   "cell_type": "code",
   "execution_count": 48,
   "metadata": {},
   "outputs": [
    {
     "name": "stdout",
     "output_type": "stream",
     "text": [
      "True\n",
      "(120,)\n",
      "[137  80  78  71  13  10  26  10   0   0   0  13]\n"
     ]
    }
   ],
   "source": [
    "stat, image_cv_e = cv2.imencode(ext=\".png\", img=image)\n",
    "print(stat)\n",
    "print(image_cv_e.shape)\n",
    "print(image_cv_e[:12])"
   ]
  },
  {
   "cell_type": "code",
   "execution_count": 49,
   "metadata": {},
   "outputs": [
    {
     "data": {
      "text/plain": [
       "b'\\x89PNG\\r\\n\\x1a\\n\\x00\\x00\\x00\\rIHDR\\x00\\x00\\x00\\x04\\x00\\x00\\x00\\x04\\x08\\x02\\x00\\x00\\x00&\\x93\\t)\\x00\\x00\\x00?IDAT\\x08\\x1d\\x014\\x00\\xcb\\xff\\x01\\x7f\\n\\xac+%\\xe0\\xcbh8B\\x7f\\xe2\\x01!\\xcc\\xc0\\x92w\\x18HWv\\xe0\\x08\\x04\\x01}v\\xc3\\x00\\xf1\\xc8\\x8cqZc\\x9c\\xbf\\x01\\xa1\\xde\\xd3\\xb07\\xcc\\xa1\\x90\\xbap\\xc1}G\\xb7\\x18i\\xee\\xe7v\\xc6\\x00\\x00\\x00\\x00IEND\\xaeB`\\x82'"
      ]
     },
     "execution_count": 49,
     "metadata": {},
     "output_type": "execute_result"
    }
   ],
   "source": [
    "image_cv_e.tobytes()"
   ]
  },
  {
   "cell_type": "code",
   "execution_count": 50,
   "metadata": {},
   "outputs": [
    {
     "data": {
      "text/plain": [
       "True"
      ]
     },
     "execution_count": 50,
     "metadata": {},
     "output_type": "execute_result"
    }
   ],
   "source": [
    "base64.b64encode(image_cv_e) == base64.b64encode(image_cv_e.tobytes())"
   ]
  },
  {
   "cell_type": "code",
   "execution_count": 51,
   "metadata": {},
   "outputs": [
    {
     "data": {
      "text/plain": [
       "b'iVBORw0KGgoAAAANSUhEUgAAAAQAAAAECAIAAAAmkwkpAAAAP0lEQVQIHQE0AMv/AX8KrCsl4MtoOEJ/4gEhzMCSdxhIV3bgCAQBfXbDAPHIjHFaY5y/AaHe07A3zKGQunDBfUe3GGnu53bGAAAAAElFTkSuQmCC'"
      ]
     },
     "execution_count": 51,
     "metadata": {},
     "output_type": "execute_result"
    }
   ],
   "source": [
    "image_b64_e = base64.b64encode(image_cv_e)\n",
    "image_b64_e"
   ]
  },
  {
   "cell_type": "markdown",
   "metadata": {},
   "source": [
    "## 解码 base64.b64decode -> np.frombuffer -> cv2.imdecode"
   ]
  },
  {
   "cell_type": "code",
   "execution_count": 52,
   "metadata": {},
   "outputs": [
    {
     "data": {
      "text/plain": [
       "b'\\x89PNG\\r\\n\\x1a\\n\\x00\\x00\\x00\\rIHDR\\x00\\x00\\x00\\x04\\x00\\x00\\x00\\x04\\x08\\x02\\x00\\x00\\x00&\\x93\\t)\\x00\\x00\\x00?IDAT\\x08\\x1d\\x014\\x00\\xcb\\xff\\x01\\x7f\\n\\xac+%\\xe0\\xcbh8B\\x7f\\xe2\\x01!\\xcc\\xc0\\x92w\\x18HWv\\xe0\\x08\\x04\\x01}v\\xc3\\x00\\xf1\\xc8\\x8cqZc\\x9c\\xbf\\x01\\xa1\\xde\\xd3\\xb07\\xcc\\xa1\\x90\\xbap\\xc1}G\\xb7\\x18i\\xee\\xe7v\\xc6\\x00\\x00\\x00\\x00IEND\\xaeB`\\x82'"
      ]
     },
     "execution_count": 52,
     "metadata": {},
     "output_type": "execute_result"
    }
   ],
   "source": [
    "image_b64_d = base64.b64decode(image_b64_e)\n",
    "image_b64_d"
   ]
  },
  {
   "cell_type": "code",
   "execution_count": 53,
   "metadata": {},
   "outputs": [
    {
     "name": "stdout",
     "output_type": "stream",
     "text": [
      "(120,)\n",
      "[137  80  78  71  13  10  26  10   0   0   0  13]\n"
     ]
    }
   ],
   "source": [
    "image_array = np.frombuffer(image_b64_d, dtype=np.uint8)\n",
    "print(image_array.shape)\n",
    "print(image_array[:12])"
   ]
  },
  {
   "cell_type": "code",
   "execution_count": 56,
   "metadata": {},
   "outputs": [
    {
     "name": "stdout",
     "output_type": "stream",
     "text": [
      "(4, 4, 3)\n",
      "True\n"
     ]
    }
   ],
   "source": [
    "image_decode1 = cv2.imdecode(\n",
    "    buf=image_array,\n",
    "    flags=cv2.IMREAD_COLOR,\n",
    ")\n",
    "print(image_decode1.shape)\n",
    "print(np.all(image == image_decode1))"
   ]
  },
  {
   "cell_type": "code",
   "execution_count": 54,
   "metadata": {},
   "outputs": [
    {
     "name": "stdout",
     "output_type": "stream",
     "text": [
      "True\n",
      "(4, 4, 3)\n"
     ]
    },
    {
     "data": {
      "text/plain": [
       "Text(0.5, 1.0, 'decode')"
      ]
     },
     "execution_count": 54,
     "metadata": {},
     "output_type": "execute_result"
    },
    {
     "data": {
      "image/png": "[encoded data removed]",
      "text/plain": [
       "<Figure size 1000x600 with 2 Axes>"
      ]
     },
     "metadata": {},
     "output_type": "display_data"
    }
   ],
   "source": [
    "fig, axes = plt.subplots(nrows=1, ncols=2, figsize=(10, 6))\n",
    "axes[0].imshow(image)\n",
    "axes[0].set_title(\"origin\")\n",
    "axes[1].imshow(image_decode1)\n",
    "axes[1].set_title(\"decode\")"
   ]
  },
  {
   "cell_type": "markdown",
   "metadata": {},
   "source": [
    "# BytesIO"
   ]
  },
  {
   "cell_type": "code",
   "execution_count": 33,
   "metadata": {},
   "outputs": [
    {
     "data": {
      "text/plain": [
       "<_io.BytesIO at 0x19f5f9cff60>"
      ]
     },
     "execution_count": 33,
     "metadata": {},
     "output_type": "execute_result"
    }
   ],
   "source": [
    "iobyte = io.BytesIO(image)\n",
    "iobyte"
   ]
  },
  {
   "cell_type": "code",
   "execution_count": 43,
   "metadata": {},
   "outputs": [
    {
     "name": "stdout",
     "output_type": "stream",
     "text": [
      "(48,)\n",
      "(4, 4, 3)\n",
      "True\n"
     ]
    }
   ],
   "source": [
    "# 获取buffer,使用frombuffer读取\n",
    "image_io = np.frombuffer(iobyte.getbuffer(), dtype=np.uint8)\n",
    "print(image_io.shape)\n",
    "image_io = image_io.reshape(4, 4, 3)\n",
    "print(image_io.shape)\n",
    "print(np.all(image == image_io))"
   ]
  },
  {
   "cell_type": "code",
   "execution_count": 55,
   "metadata": {},
   "outputs": [
    {
     "data": {
      "text/plain": [
       "Text(0.5, 1.0, 'image_io')"
      ]
     },
     "execution_count": 55,
     "metadata": {},
     "output_type": "execute_result"
    },
    {
     "data": {
      "image/png": "[encoded data removed]",
      "text/plain": [
       "<Figure size 1000x600 with 2 Axes>"
      ]
     },
     "metadata": {},
     "output_type": "display_data"
    }
   ],
   "source": [
    "fig, axes = plt.subplots(nrows=1, ncols=2, figsize=(10, 6))\n",
    "axes[0].imshow(image)\n",
    "axes[0].set_title(\"origin\")\n",
    "axes[1].imshow(image_io)\n",
    "axes[1].set_title(\"image_io\")"
   ]
  },
  {
   "cell_type": "code",
   "execution_count": null,
   "metadata": {},
   "outputs": [],
   "source": []
  }
 ],
 "metadata": {
  "kernelspec": {
   "display_name": "pytorch",
   "language": "python",
   "name": "python3"
  },
  "language_info": {
   "codemirror_mode": {
    "name": "ipython",
    "version": 3
   },
   "file_extension": ".py",
   "mimetype": "text/x-python",
   "name": "python",
   "nbconvert_exporter": "python",
   "pygments_lexer": "ipython3",
   "version": "3.11.3"
  },
  "orig_nbformat": 4
 },
 "nbformat": 4,
 "nbformat_minor": 2
}
