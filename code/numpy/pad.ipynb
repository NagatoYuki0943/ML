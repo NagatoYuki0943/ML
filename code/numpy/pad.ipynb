{
 "cells": [
  {
   "cell_type": "code",
   "execution_count": 33,
   "metadata": {},
   "outputs": [],
   "source": [
    "import numpy as np"
   ]
  },
  {
   "cell_type": "markdown",
   "metadata": {},
   "source": [
    "# np.pad 填充数组边缘\n",
    "\n",
    "https://numpy.org/doc/stable/reference/generated/numpy.pad.html"
   ]
  },
  {
   "cell_type": "code",
   "execution_count": 34,
   "metadata": {},
   "outputs": [
    {
     "data": {
      "text/plain": [
       "array([[ 0,  1,  2,  3,  4],\n",
       "       [ 5,  6,  7,  8,  9],\n",
       "       [10, 11, 12, 13, 14],\n",
       "       [15, 16, 17, 18, 19],\n",
       "       [20, 21, 22, 23, 24]])"
      ]
     },
     "execution_count": 34,
     "metadata": {},
     "output_type": "execute_result"
    }
   ],
   "source": [
    "x = np.arange(25).reshape(5, 5)\n",
    "x"
   ]
  },
  {
   "cell_type": "code",
   "execution_count": 35,
   "metadata": {},
   "outputs": [
    {
     "data": {
      "text/plain": [
       "array([[ 0,  0,  0,  0,  0,  0,  0],\n",
       "       [ 0,  0,  1,  2,  3,  4,  0],\n",
       "       [ 0,  5,  6,  7,  8,  9,  0],\n",
       "       [ 0, 10, 11, 12, 13, 14,  0],\n",
       "       [ 0, 15, 16, 17, 18, 19,  0],\n",
       "       [ 0, 20, 21, 22, 23, 24,  0],\n",
       "       [ 0,  0,  0,  0,  0,  0,  0]])"
      ]
     },
     "execution_count": 35,
     "metadata": {},
     "output_type": "execute_result"
    }
   ],
   "source": [
    "# pad_width = left/right/top/bottom\n",
    "np.pad(x, pad_width=1, mode=\"constant\", constant_values=0)"
   ]
  },
  {
   "cell_type": "code",
   "execution_count": 36,
   "metadata": {},
   "outputs": [
    {
     "data": {
      "text/plain": [
       "array([[ 0,  0,  0,  0,  0,  0,  0,  0],\n",
       "       [ 0,  0,  1,  2,  3,  4,  0,  0],\n",
       "       [ 0,  5,  6,  7,  8,  9,  0,  0],\n",
       "       [ 0, 10, 11, 12, 13, 14,  0,  0],\n",
       "       [ 0, 15, 16, 17, 18, 19,  0,  0],\n",
       "       [ 0, 20, 21, 22, 23, 24,  0,  0],\n",
       "       [ 0,  0,  0,  0,  0,  0,  0,  0],\n",
       "       [ 0,  0,  0,  0,  0,  0,  0,  0]])"
      ]
     },
     "execution_count": 36,
     "metadata": {},
     "output_type": "execute_result"
    }
   ],
   "source": [
    "# pad_width = ((top/left, bottom/right)\n",
    "np.pad(x, pad_width=[1, 2], mode=\"constant\", constant_values=0)"
   ]
  },
  {
   "cell_type": "code",
   "execution_count": 37,
   "metadata": {},
   "outputs": [
    {
     "data": {
      "text/plain": [
       "array([[ 0,  0,  0,  1,  2,  3,  4,  0,  0,  0],\n",
       "       [ 0,  0,  5,  6,  7,  8,  9,  0,  0,  0],\n",
       "       [ 0,  0, 10, 11, 12, 13, 14,  0,  0,  0],\n",
       "       [ 0,  0, 15, 16, 17, 18, 19,  0,  0,  0],\n",
       "       [ 0,  0, 20, 21, 22, 23, 24,  0,  0,  0],\n",
       "       [ 0,  0,  0,  0,  0,  0,  0,  0,  0,  0]])"
      ]
     },
     "execution_count": 37,
     "metadata": {},
     "output_type": "execute_result"
    }
   ],
   "source": [
    "# pad_width = ((top, bottom), (left, right))\n",
    "np.pad(x, pad_width=[[0, 1], [2, 3]], mode=\"constant\", constant_values=0)"
   ]
  },
  {
   "cell_type": "code",
   "execution_count": 38,
   "metadata": {},
   "outputs": [
    {
     "data": {
      "text/plain": [
       "array([[ 0,  0,  1,  2,  3,  4,  4],\n",
       "       [ 0,  0,  1,  2,  3,  4,  4],\n",
       "       [ 5,  5,  6,  7,  8,  9,  9],\n",
       "       [10, 10, 11, 12, 13, 14, 14],\n",
       "       [15, 15, 16, 17, 18, 19, 19],\n",
       "       [20, 20, 21, 22, 23, 24, 24],\n",
       "       [20, 20, 21, 22, 23, 24, 24]])"
      ]
     },
     "execution_count": 38,
     "metadata": {},
     "output_type": "execute_result"
    }
   ],
   "source": [
    "# Pads with the edge values of array.\n",
    "np.pad(x, pad_width=1, mode=\"edge\")"
   ]
  },
  {
   "cell_type": "code",
   "execution_count": 39,
   "metadata": {},
   "outputs": [
    {
     "data": {
      "text/plain": [
       "array([[ 0,  0,  0,  0,  0,  0,  0],\n",
       "       [ 0,  0,  1,  2,  3,  4,  0],\n",
       "       [ 0,  5,  6,  7,  8,  9,  0],\n",
       "       [ 0, 10, 11, 12, 13, 14,  0],\n",
       "       [ 0, 15, 16, 17, 18, 19,  0],\n",
       "       [ 0, 20, 21, 22, 23, 24,  0],\n",
       "       [ 0,  0,  0,  0,  0,  0,  0]])"
      ]
     },
     "execution_count": 39,
     "metadata": {},
     "output_type": "execute_result"
    }
   ],
   "source": [
    "# Pads with the linear ramp between end_value and the array edge value.\n",
    "np.pad(x, pad_width=1, mode=\"linear_ramp\", end_values=0)"
   ]
  },
  {
   "cell_type": "code",
   "execution_count": 40,
   "metadata": {},
   "outputs": [
    {
     "data": {
      "text/plain": [
       "array([[24, 20, 21, 22, 23, 24, 24],\n",
       "       [ 4,  0,  1,  2,  3,  4,  4],\n",
       "       [ 9,  5,  6,  7,  8,  9,  9],\n",
       "       [14, 10, 11, 12, 13, 14, 14],\n",
       "       [19, 15, 16, 17, 18, 19, 19],\n",
       "       [24, 20, 21, 22, 23, 24, 24],\n",
       "       [24, 20, 21, 22, 23, 24, 24]])"
      ]
     },
     "execution_count": 40,
     "metadata": {},
     "output_type": "execute_result"
    }
   ],
   "source": [
    "# Pads with the maximum value of all or part of the vector along each axis.\n",
    "np.pad(x, pad_width=1, mode=\"maximum\")"
   ]
  },
  {
   "cell_type": "code",
   "execution_count": 41,
   "metadata": {},
   "outputs": [
    {
     "data": {
      "text/plain": [
       "array([[ 0,  0,  1,  2,  3,  4,  0],\n",
       "       [ 0,  0,  1,  2,  3,  4,  0],\n",
       "       [ 5,  5,  6,  7,  8,  9,  5],\n",
       "       [10, 10, 11, 12, 13, 14, 10],\n",
       "       [15, 15, 16, 17, 18, 19, 15],\n",
       "       [20, 20, 21, 22, 23, 24, 20],\n",
       "       [ 0,  0,  1,  2,  3,  4,  0]])"
      ]
     },
     "execution_count": 41,
     "metadata": {},
     "output_type": "execute_result"
    }
   ],
   "source": [
    "# Pads with the minimum value of all or part of the vector along each axis.\n",
    "np.pad(x, pad_width=1, mode=\"minimum\")"
   ]
  },
  {
   "cell_type": "code",
   "execution_count": 42,
   "metadata": {},
   "outputs": [
    {
     "data": {
      "text/plain": [
       "array([[12, 10, 11, 12, 13, 14, 12],\n",
       "       [ 2,  0,  1,  2,  3,  4,  2],\n",
       "       [ 7,  5,  6,  7,  8,  9,  7],\n",
       "       [12, 10, 11, 12, 13, 14, 12],\n",
       "       [17, 15, 16, 17, 18, 19, 17],\n",
       "       [22, 20, 21, 22, 23, 24, 22],\n",
       "       [12, 10, 11, 12, 13, 14, 12]])"
      ]
     },
     "execution_count": 42,
     "metadata": {},
     "output_type": "execute_result"
    }
   ],
   "source": [
    "# Pads with the mean value of all or part of the vector along each axis.\n",
    "np.pad(x, pad_width=1, mode=\"mean\")"
   ]
  },
  {
   "cell_type": "code",
   "execution_count": 43,
   "metadata": {},
   "outputs": [
    {
     "data": {
      "text/plain": [
       "array([[12, 10, 11, 12, 13, 14, 12],\n",
       "       [ 2,  0,  1,  2,  3,  4,  2],\n",
       "       [ 7,  5,  6,  7,  8,  9,  7],\n",
       "       [12, 10, 11, 12, 13, 14, 12],\n",
       "       [17, 15, 16, 17, 18, 19, 17],\n",
       "       [22, 20, 21, 22, 23, 24, 22],\n",
       "       [12, 10, 11, 12, 13, 14, 12]])"
      ]
     },
     "execution_count": 43,
     "metadata": {},
     "output_type": "execute_result"
    }
   ],
   "source": [
    "# Pads with the median value of all or part of the vector along each axis.\n",
    "np.pad(x, pad_width=1, mode=\"median\")"
   ]
  },
  {
   "cell_type": "code",
   "execution_count": 44,
   "metadata": {},
   "outputs": [
    {
     "data": {
      "text/plain": [
       "array([[ 6,  5,  6,  7,  8,  9,  8],\n",
       "       [ 1,  0,  1,  2,  3,  4,  3],\n",
       "       [ 6,  5,  6,  7,  8,  9,  8],\n",
       "       [11, 10, 11, 12, 13, 14, 13],\n",
       "       [16, 15, 16, 17, 18, 19, 18],\n",
       "       [21, 20, 21, 22, 23, 24, 23],\n",
       "       [16, 15, 16, 17, 18, 19, 18]])"
      ]
     },
     "execution_count": 44,
     "metadata": {},
     "output_type": "execute_result"
    }
   ],
   "source": [
    "# Pads with the reflection of the vector mirrored on the first and last values of the vector along each axis.\n",
    "np.pad(x, pad_width=1, mode=\"reflect\", reflect_type=\"even\")"
   ]
  },
  {
   "cell_type": "code",
   "execution_count": 45,
   "metadata": {},
   "outputs": [
    {
     "data": {
      "text/plain": [
       "array([[ 0,  0,  1,  2,  3,  4,  4],\n",
       "       [ 0,  0,  1,  2,  3,  4,  4],\n",
       "       [ 5,  5,  6,  7,  8,  9,  9],\n",
       "       [10, 10, 11, 12, 13, 14, 14],\n",
       "       [15, 15, 16, 17, 18, 19, 19],\n",
       "       [20, 20, 21, 22, 23, 24, 24],\n",
       "       [20, 20, 21, 22, 23, 24, 24]])"
      ]
     },
     "execution_count": 45,
     "metadata": {},
     "output_type": "execute_result"
    }
   ],
   "source": [
    "# Pads with the reflection of the vector mirrored along the edge of the array.\n",
    "np.pad(x, pad_width=1, mode=\"symmetric\", reflect_type=\"odd\")"
   ]
  },
  {
   "cell_type": "code",
   "execution_count": 46,
   "metadata": {},
   "outputs": [
    {
     "data": {
      "text/plain": [
       "array([[24, 20, 21, 22, 23, 24, 20],\n",
       "       [ 4,  0,  1,  2,  3,  4,  0],\n",
       "       [ 9,  5,  6,  7,  8,  9,  5],\n",
       "       [14, 10, 11, 12, 13, 14, 10],\n",
       "       [19, 15, 16, 17, 18, 19, 15],\n",
       "       [24, 20, 21, 22, 23, 24, 20],\n",
       "       [ 4,  0,  1,  2,  3,  4,  0]])"
      ]
     },
     "execution_count": 46,
     "metadata": {},
     "output_type": "execute_result"
    }
   ],
   "source": [
    "# Pads with the wrap of the vector along the axis.\n",
    "# The first values are used to pad the end and the end values are used to pad the beginning.\n",
    "np.pad(x, pad_width=1, mode=\"wrap\")"
   ]
  },
  {
   "cell_type": "code",
   "execution_count": 47,
   "metadata": {},
   "outputs": [
    {
     "data": {
      "text/plain": [
       "array([[ 543716457,  543516788, 1818649970, 1769235301, 1864396399,\n",
       "        1752440934, 1702240357],\n",
       "       [1919906915,          0,          1,          2,          3,\n",
       "                 4,  538976288],\n",
       "       [1701344288,          5,          6,          7,          8,\n",
       "                 9, 1864397669],\n",
       "       [1752440934,         10,         11,         12,         13,\n",
       "                14,  538976288],\n",
       "       [ 538976288,         15,         16,         17,         18,\n",
       "                19, 1701670265],\n",
       "       [1667854964,         20,         21,         22,         23,\n",
       "                24,  543716457],\n",
       "       [ 543516788, 1818649970, 1769235301, 1864396399, 1752440934,\n",
       "        1702240357, 1919906915]])"
      ]
     },
     "execution_count": 47,
     "metadata": {},
     "output_type": "execute_result"
    }
   ],
   "source": [
    "# Pads with undefined values.\n",
    "np.pad(x, pad_width=1, mode=\"empty\")"
   ]
  },
  {
   "cell_type": "code",
   "execution_count": null,
   "metadata": {},
   "outputs": [],
   "source": []
  }
 ],
 "metadata": {
  "kernelspec": {
   "display_name": "pytorch",
   "language": "python",
   "name": "python3"
  },
  "language_info": {
   "codemirror_mode": {
    "name": "ipython",
    "version": 3
   },
   "file_extension": ".py",
   "mimetype": "text/x-python",
   "name": "python",
   "nbconvert_exporter": "python",
   "pygments_lexer": "ipython3",
   "version": "3.11.4"
  }
 },
 "nbformat": 4,
 "nbformat_minor": 2
}
