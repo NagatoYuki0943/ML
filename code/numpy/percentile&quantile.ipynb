{
 "cells": [
  {
   "cell_type": "code",
   "execution_count": 1,
   "id": "d2a59144",
   "metadata": {},
   "outputs": [],
   "source": [
    "import numpy as np"
   ]
  },
  {
   "cell_type": "markdown",
   "id": "31439ae5",
   "metadata": {},
   "source": [
    "# percentile/quantile: 计算一个多维数组的任意百分比分位数，此处的百分位是从小到大排列\n",
    "\n",
    "percentile 使用 [0, 100] 之间的百分比值来计算分位数。\n",
    "\n",
    "quantile 使用 [0, 1] 之间的分位数来计算百分比值。"
   ]
  },
  {
   "cell_type": "markdown",
   "id": "0a8274a2",
   "metadata": {},
   "source": [
    "## 单维数组"
   ]
  },
  {
   "cell_type": "code",
   "execution_count": 2,
   "id": "fec50e1f",
   "metadata": {},
   "outputs": [
    {
     "data": {
      "text/plain": [
       "array([ 25,  65,  86,  53,  71,  74,  49,  87,  31,  33,  52,  95,  61,\n",
       "        19,  48,   0,  56,  67,  97,  43,  69,  24,  75,  76,  41,  83,\n",
       "         8,  15,  26,  58,   2,  11,  32,  29,  36,   3,  27,  22,  81,\n",
       "        34,  64,  42,  23,  44,  47,  92,  66,  12,  89,  98,  14,   9,\n",
       "        94,  39,  38,  51,   7,  82,  99,  85,  90,  72,  28,  73,  54,\n",
       "        17,  62,  96, 100,  68,  80,  63,  13,  79,  93,  77,  55,  46,\n",
       "        57,  45,  20,  37,   4,  91,   6,   1,  16,  30,  50,  88,   5,\n",
       "        10,  59,  35,  18,  78,  21,  40,  84,  60,  70])"
      ]
     },
     "execution_count": 2,
     "metadata": {},
     "output_type": "execute_result"
    }
   ],
   "source": [
    "x = np.arange(0, 101)\n",
    "np.random.shuffle(x)\n",
    "x"
   ]
  },
  {
   "cell_type": "code",
   "execution_count": 4,
   "id": "06ef0523",
   "metadata": {},
   "outputs": [
    {
     "data": {
      "text/plain": [
       "(np.float64(50.0), np.float64(50.0))"
      ]
     },
     "execution_count": 4,
     "metadata": {},
     "output_type": "execute_result"
    }
   ],
   "source": [
    "np.percentile(x, 50), np.quantile(x, 0.5)"
   ]
  },
  {
   "cell_type": "code",
   "execution_count": 5,
   "id": "0177927e",
   "metadata": {},
   "outputs": [
    {
     "data": {
      "text/plain": [
       "(np.float64(0.0), np.int64(0))"
      ]
     },
     "execution_count": 5,
     "metadata": {},
     "output_type": "execute_result"
    }
   ],
   "source": [
    "np.percentile(x, 0), np.quantile(x, 0)"
   ]
  },
  {
   "cell_type": "code",
   "execution_count": 6,
   "id": "07cb0f7c",
   "metadata": {},
   "outputs": [
    {
     "data": {
      "text/plain": [
       "(np.float64(95.0), np.float64(95.0))"
      ]
     },
     "execution_count": 6,
     "metadata": {},
     "output_type": "execute_result"
    }
   ],
   "source": [
    "np.percentile(x, 95), np.quantile(x, 0.95)"
   ]
  },
  {
   "cell_type": "code",
   "execution_count": 7,
   "id": "fc00ca01",
   "metadata": {},
   "outputs": [
    {
     "data": {
      "text/plain": [
       "(np.float64(20.3), np.float64(23.0))"
      ]
     },
     "execution_count": 7,
     "metadata": {},
     "output_type": "execute_result"
    }
   ],
   "source": [
    "np.percentile(x, 20.3), np.quantile(x, 0.23)"
   ]
  },
  {
   "cell_type": "code",
   "execution_count": 9,
   "id": "99c931f7",
   "metadata": {},
   "outputs": [
    {
     "data": {
      "text/plain": [
       "array([  1.        ,   1.66810054,   2.7825594 ,   4.64158883,\n",
       "         7.74263683,  12.91549665,  21.5443469 ,  35.93813664,\n",
       "        59.94842503, 100.        ])"
      ]
     },
     "execution_count": 9,
     "metadata": {},
     "output_type": "execute_result"
    }
   ],
   "source": [
    "y = np.logspace(0, 2, 10)\n",
    "y"
   ]
  },
  {
   "cell_type": "code",
   "execution_count": null,
   "metadata": {},
   "outputs": [
    {
     "data": {
      "text/plain": [
       "(np.float64(10.329066738480055), np.float64(10.329066738480055))"
      ]
     },
     "execution_count": 11,
     "metadata": {},
     "output_type": "execute_result"
    }
   ],
   "source": [
    "np.percentile(y, 50), np.quantile(y, 0.5)"
   ]
  },
  {
   "cell_type": "code",
   "execution_count": null,
   "id": "58044ee2",
   "metadata": {},
   "outputs": [
    {
     "data": {
      "text/plain": [
       "(np.float64(1.0), np.float64(1.0))"
      ]
     },
     "execution_count": 12,
     "metadata": {},
     "output_type": "execute_result"
    }
   ],
   "source": [
    "np.percentile(y, 0), np.quantile(y, 0)"
   ]
  },
  {
   "cell_type": "code",
   "execution_count": 13,
   "id": "59a21906",
   "metadata": {},
   "outputs": [
    {
     "data": {
      "text/plain": [
       "(np.float64(100.0), np.float64(100.0))"
      ]
     },
     "execution_count": 13,
     "metadata": {},
     "output_type": "execute_result"
    }
   ],
   "source": [
    "np.percentile(y, 100), np.quantile(y, 1)"
   ]
  },
  {
   "cell_type": "code",
   "execution_count": 14,
   "id": "993d108c",
   "metadata": {},
   "outputs": [
    {
     "data": {
      "text/plain": [
       "(np.float64(81.9767912643523), np.float64(81.9767912643523))"
      ]
     },
     "execution_count": 14,
     "metadata": {},
     "output_type": "execute_result"
    }
   ],
   "source": [
    "np.percentile(y, 95), np.quantile(y, 0.95)"
   ]
  },
  {
   "cell_type": "markdown",
   "id": "71ce1f1f",
   "metadata": {},
   "source": [
    "## 多维数组"
   ]
  },
  {
   "cell_type": "code",
   "execution_count": 16,
   "id": "378ac82a",
   "metadata": {},
   "outputs": [
    {
     "data": {
      "text/plain": [
       "array([[  1.        ,   2.        ,   3.        ,   4.        ,\n",
       "          5.        ,   6.        ,   7.        ,   8.        ,\n",
       "          9.        ,  10.        ],\n",
       "       [  1.        ,   1.66810054,   2.7825594 ,   4.64158883,\n",
       "          7.74263683,  12.91549665,  21.5443469 ,  35.93813664,\n",
       "         59.94842503, 100.        ]])"
      ]
     },
     "execution_count": 16,
     "metadata": {},
     "output_type": "execute_result"
    }
   ],
   "source": [
    "z = np.stack([\n",
    "    np.arange(1, 11),\n",
    "    np.logspace(0, 2, 10),\n",
    "], axis=0)\n",
    "z"
   ]
  },
  {
   "cell_type": "code",
   "execution_count": 17,
   "id": "febd33f7",
   "metadata": {},
   "outputs": [
    {
     "data": {
      "text/plain": [
       "array([ 5.5       , 10.32906674])"
      ]
     },
     "execution_count": 17,
     "metadata": {},
     "output_type": "execute_result"
    }
   ],
   "source": [
    "np.percentile(z, 50, axis=1)"
   ]
  },
  {
   "cell_type": "code",
   "execution_count": 19,
   "id": "91c31e64",
   "metadata": {},
   "outputs": [
    {
     "data": {
      "text/plain": [
       "array([ 5.5       , 10.32906674])"
      ]
     },
     "execution_count": 19,
     "metadata": {},
     "output_type": "execute_result"
    }
   ],
   "source": [
    "np.quantile(z, 0.5, axis=1)"
   ]
  },
  {
   "cell_type": "code",
   "execution_count": null,
   "id": "b5dd71f7",
   "metadata": {},
   "outputs": [],
   "source": []
  }
 ],
 "metadata": {
  "kernelspec": {
   "display_name": "cv",
   "language": "python",
   "name": "python3"
  },
  "language_info": {
   "codemirror_mode": {
    "name": "ipython",
    "version": 3
   },
   "file_extension": ".py",
   "mimetype": "text/x-python",
   "name": "python",
   "nbconvert_exporter": "python",
   "pygments_lexer": "ipython3",
   "version": "3.11.9"
  }
 },
 "nbformat": 4,
 "nbformat_minor": 5
}
