{
 "cells": [
  {
   "cell_type": "code",
   "execution_count": 1,
   "id": "d2a59144",
   "metadata": {},
   "outputs": [],
   "source": [
    "import numpy as np"
   ]
  },
  {
   "cell_type": "markdown",
   "id": "31439ae5",
   "metadata": {},
   "source": [
    "# percentile: 计算一个多维数组的任意百分比分位数，此处的百分位是从小到大排列"
   ]
  },
  {
   "cell_type": "markdown",
   "id": "0a8274a2",
   "metadata": {},
   "source": [
    "## 单维数组"
   ]
  },
  {
   "cell_type": "code",
   "execution_count": 2,
   "id": "fec50e1f",
   "metadata": {},
   "outputs": [
    {
     "data": {
      "text/plain": [
       "array([  5,  72,   3,  23,  38,   7,  91,  93,   2,  18,  55,  25,  15,\n",
       "        33,  71,  96,  61,  62,  66,  69,  10,  30,  45,  12,  53,  22,\n",
       "        65,  68,  52,  99,  46,   8,  85,  49,  40,  86,  41,  16,  19,\n",
       "        76,  54,  44,  13,  94,  92,  79,  43,   0,  50, 100,  60,  67,\n",
       "        20,  73,  88,  26,  24,  56,  74,  32,  34,  64,  82,  98,  75,\n",
       "        77,  17,  84,  58,  81,  27,   4,  35,  51,  42,  78,  29,  90,\n",
       "        36,  28,  11,  57,  80,  97,   6,  87,  89,  83,  95,  31,  70,\n",
       "        14,  21,  48,  39,  59,  47,   1,   9,  63,  37])"
      ]
     },
     "execution_count": 2,
     "metadata": {},
     "output_type": "execute_result"
    }
   ],
   "source": [
    "x = np.arange(0, 101)\n",
    "np.random.shuffle(x)\n",
    "x"
   ]
  },
  {
   "cell_type": "code",
   "execution_count": 3,
   "id": "06ef0523",
   "metadata": {},
   "outputs": [
    {
     "data": {
      "text/plain": [
       "np.float64(50.0)"
      ]
     },
     "execution_count": 3,
     "metadata": {},
     "output_type": "execute_result"
    }
   ],
   "source": [
    "np.percentile(x, 50)"
   ]
  },
  {
   "cell_type": "code",
   "execution_count": 4,
   "id": "0177927e",
   "metadata": {},
   "outputs": [
    {
     "data": {
      "text/plain": [
       "np.float64(0.0)"
      ]
     },
     "execution_count": 4,
     "metadata": {},
     "output_type": "execute_result"
    }
   ],
   "source": [
    "np.percentile(x, 0)"
   ]
  },
  {
   "cell_type": "code",
   "execution_count": 5,
   "id": "07cb0f7c",
   "metadata": {},
   "outputs": [
    {
     "data": {
      "text/plain": [
       "np.float64(95.0)"
      ]
     },
     "execution_count": 5,
     "metadata": {},
     "output_type": "execute_result"
    }
   ],
   "source": [
    "np.percentile(x, 95)"
   ]
  },
  {
   "cell_type": "code",
   "execution_count": 6,
   "id": "fc00ca01",
   "metadata": {},
   "outputs": [
    {
     "data": {
      "text/plain": [
       "np.float64(20.3)"
      ]
     },
     "execution_count": 6,
     "metadata": {},
     "output_type": "execute_result"
    }
   ],
   "source": [
    "np.percentile(x, 20.3)"
   ]
  },
  {
   "cell_type": "code",
   "execution_count": 16,
   "id": "99c931f7",
   "metadata": {},
   "outputs": [
    {
     "data": {
      "text/plain": [
       "array([  1.        ,   1.66810054,   2.7825594 ,   4.64158883,\n",
       "         7.74263683,  12.91549665,  21.5443469 ,  35.93813664,\n",
       "        59.94842503, 100.        ])"
      ]
     },
     "execution_count": 16,
     "metadata": {},
     "output_type": "execute_result"
    }
   ],
   "source": [
    "y = np.logspace(0, 2, 10)\n",
    "y"
   ]
  },
  {
   "cell_type": "code",
   "execution_count": 17,
   "metadata": {},
   "outputs": [
    {
     "data": {
      "text/plain": [
       "np.float64(10.329066738480055)"
      ]
     },
     "execution_count": 17,
     "metadata": {},
     "output_type": "execute_result"
    }
   ],
   "source": [
    "np.percentile(y, 50)"
   ]
  },
  {
   "cell_type": "code",
   "execution_count": 18,
   "id": "58044ee2",
   "metadata": {},
   "outputs": [
    {
     "data": {
      "text/plain": [
       "np.float64(1.0)"
      ]
     },
     "execution_count": 18,
     "metadata": {},
     "output_type": "execute_result"
    }
   ],
   "source": [
    "np.percentile(y, 0)"
   ]
  },
  {
   "cell_type": "code",
   "execution_count": 19,
   "id": "59a21906",
   "metadata": {},
   "outputs": [
    {
     "data": {
      "text/plain": [
       "np.float64(100.0)"
      ]
     },
     "execution_count": 19,
     "metadata": {},
     "output_type": "execute_result"
    }
   ],
   "source": [
    "np.percentile(y, 100)"
   ]
  },
  {
   "cell_type": "code",
   "execution_count": 20,
   "id": "993d108c",
   "metadata": {},
   "outputs": [
    {
     "data": {
      "text/plain": [
       "np.float64(81.9767912643523)"
      ]
     },
     "execution_count": 20,
     "metadata": {},
     "output_type": "execute_result"
    }
   ],
   "source": [
    "np.percentile(y, 95)"
   ]
  },
  {
   "cell_type": "markdown",
   "id": "71ce1f1f",
   "metadata": {},
   "source": [
    "## 多维数组"
   ]
  },
  {
   "cell_type": "code",
   "execution_count": 21,
   "id": "378ac82a",
   "metadata": {},
   "outputs": [
    {
     "data": {
      "text/plain": [
       "array([[  1.        ,   2.        ,   3.        ,   4.        ,\n",
       "          5.        ,   6.        ,   7.        ,   8.        ,\n",
       "          9.        ,  10.        ],\n",
       "       [  1.        ,   1.66810054,   2.7825594 ,   4.64158883,\n",
       "          7.74263683,  12.91549665,  21.5443469 ,  35.93813664,\n",
       "         59.94842503, 100.        ]])"
      ]
     },
     "execution_count": 21,
     "metadata": {},
     "output_type": "execute_result"
    }
   ],
   "source": [
    "z = np.stack([\n",
    "    np.arange(1, 11),\n",
    "    np.logspace(0, 2, 10),\n",
    "], axis=0)\n",
    "z"
   ]
  },
  {
   "cell_type": "code",
   "execution_count": 22,
   "id": "febd33f7",
   "metadata": {},
   "outputs": [
    {
     "data": {
      "text/plain": [
       "array([ 5.5       , 10.32906674])"
      ]
     },
     "execution_count": 22,
     "metadata": {},
     "output_type": "execute_result"
    }
   ],
   "source": [
    "np.percentile(z, 50, axis=1)"
   ]
  },
  {
   "cell_type": "code",
   "execution_count": null,
   "id": "91c31e64",
   "metadata": {},
   "outputs": [],
   "source": []
  }
 ],
 "metadata": {
  "kernelspec": {
   "display_name": "cv",
   "language": "python",
   "name": "python3"
  },
  "language_info": {
   "codemirror_mode": {
    "name": "ipython",
    "version": 3
   },
   "file_extension": ".py",
   "mimetype": "text/x-python",
   "name": "python",
   "nbconvert_exporter": "python",
   "pygments_lexer": "ipython3",
   "version": "3.11.9"
  }
 },
 "nbformat": 4,
 "nbformat_minor": 5
}
