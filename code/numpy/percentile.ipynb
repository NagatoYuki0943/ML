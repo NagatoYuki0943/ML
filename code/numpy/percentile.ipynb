{
 "cells": [
  {
   "cell_type": "code",
   "execution_count": 1,
   "id": "d2a59144",
   "metadata": {},
   "outputs": [],
   "source": [
    "import numpy as np"
   ]
  },
  {
   "cell_type": "markdown",
   "id": "31439ae5",
   "metadata": {},
   "source": [
    "# percentile: 计算一个多维数组的任意百分比分位数，此处的百分位是从小到大排列"
   ]
  },
  {
   "cell_type": "markdown",
   "id": "0a8274a2",
   "metadata": {},
   "source": [
    "## 单维数组"
   ]
  },
  {
   "cell_type": "code",
   "execution_count": 15,
   "id": "fec50e1f",
   "metadata": {},
   "outputs": [
    {
     "data": {
      "text/plain": [
       "array([ 98,  54,   1,  56,  61,  55,  28,  64,  75,  12,   8,  85,  19,\n",
       "        13,  70,  49,   0,   2,  53,  91,  37,  25,   6,  76,  65,  92,\n",
       "        72,  36,  38,  84,  45,  77,  30,  44,   5,  80,  46,  69,  97,\n",
       "        35,  51,  88,  66,  47,  83,  57,  99,  14,  82,  41,  73,  81,\n",
       "        42,  48,  27,  39,  22,  71,  86, 100,  79,  87,  20,  24,  59,\n",
       "        16,  58,  78,  62,  23,  96,  74,  43,  60,  26,  15,  94,  18,\n",
       "        93,  63,  10,   4,  32,  29,  50,  67,  17,  95,  34,  40,  90,\n",
       "        52,   9,  89,  11,  21,  68,   3,   7,  31,  33])"
      ]
     },
     "execution_count": 15,
     "metadata": {},
     "output_type": "execute_result"
    }
   ],
   "source": [
    "x = np.arange(0, 101)\n",
    "np.random.shuffle(x)\n",
    "x"
   ]
  },
  {
   "cell_type": "code",
   "execution_count": 16,
   "id": "06ef0523",
   "metadata": {},
   "outputs": [
    {
     "data": {
      "text/plain": [
       "np.float64(50.0)"
      ]
     },
     "execution_count": 16,
     "metadata": {},
     "output_type": "execute_result"
    }
   ],
   "source": [
    "np.percentile(x, 50)"
   ]
  },
  {
   "cell_type": "code",
   "execution_count": 17,
   "id": "0177927e",
   "metadata": {},
   "outputs": [
    {
     "data": {
      "text/plain": [
       "np.float64(0.0)"
      ]
     },
     "execution_count": 17,
     "metadata": {},
     "output_type": "execute_result"
    }
   ],
   "source": [
    "np.percentile(x, 0)"
   ]
  },
  {
   "cell_type": "code",
   "execution_count": 18,
   "id": "07cb0f7c",
   "metadata": {},
   "outputs": [
    {
     "data": {
      "text/plain": [
       "np.float64(95.0)"
      ]
     },
     "execution_count": 18,
     "metadata": {},
     "output_type": "execute_result"
    }
   ],
   "source": [
    "np.percentile(x, 95)"
   ]
  },
  {
   "cell_type": "code",
   "execution_count": 20,
   "id": "fc00ca01",
   "metadata": {},
   "outputs": [
    {
     "data": {
      "text/plain": [
       "np.float64(20.3)"
      ]
     },
     "execution_count": 20,
     "metadata": {},
     "output_type": "execute_result"
    }
   ],
   "source": [
    "np.percentile(x, 20.3)"
   ]
  },
  {
   "cell_type": "markdown",
   "id": "71ce1f1f",
   "metadata": {},
   "source": [
    "## 多维数组"
   ]
  },
  {
   "cell_type": "code",
   "execution_count": 22,
   "id": "378ac82a",
   "metadata": {},
   "outputs": [
    {
     "data": {
      "text/plain": [
       "array([[ 1,  2,  3,  4,  5,  6,  7,  8,  9, 10],\n",
       "       [11, 12, 13, 14, 15, 16, 17, 18, 19, 20],\n",
       "       [21, 22, 23, 24, 25, 26, 27, 28, 29, 30]])"
      ]
     },
     "execution_count": 22,
     "metadata": {},
     "output_type": "execute_result"
    }
   ],
   "source": [
    "y = np.stack([\n",
    "    np.arange(1, 11),\n",
    "    np.arange(11, 21),\n",
    "    np.arange(21, 31),\n",
    "], axis=0)\n",
    "y"
   ]
  },
  {
   "cell_type": "code",
   "execution_count": 25,
   "id": "febd33f7",
   "metadata": {},
   "outputs": [
    {
     "data": {
      "text/plain": [
       "array([ 5.5, 15.5, 25.5])"
      ]
     },
     "execution_count": 25,
     "metadata": {},
     "output_type": "execute_result"
    }
   ],
   "source": [
    "np.percentile(y, 50, axis=1)"
   ]
  },
  {
   "cell_type": "code",
   "execution_count": null,
   "id": "91c31e64",
   "metadata": {},
   "outputs": [],
   "source": []
  }
 ],
 "metadata": {
  "kernelspec": {
   "display_name": "pytorch",
   "language": "python",
   "name": "python3"
  },
  "language_info": {
   "codemirror_mode": {
    "name": "ipython",
    "version": 3
   },
   "file_extension": ".py",
   "mimetype": "text/x-python",
   "name": "python",
   "nbconvert_exporter": "python",
   "pygments_lexer": "ipython3",
   "version": "3.12.9"
  }
 },
 "nbformat": 4,
 "nbformat_minor": 5
}
