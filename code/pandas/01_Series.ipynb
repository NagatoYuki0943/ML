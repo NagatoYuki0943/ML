{
 "cells": [
  {
   "cell_type": "code",
   "execution_count": 3,
   "id": "2d861781",
   "metadata": {},
   "outputs": [],
   "source": [
    "import numpy as np\n",
    "import pandas as pd\n",
    "import matplotlib.pyplot as plt"
   ]
  },
  {
   "cell_type": "markdown",
   "id": "df60ee0c",
   "metadata": {},
   "source": [
    "# Series"
   ]
  },
  {
   "cell_type": "markdown",
   "id": "4315a4e5",
   "metadata": {},
   "source": [
    "## 指定内容创建"
   ]
  },
  {
   "cell_type": "code",
   "execution_count": 4,
   "id": "e7ebf378",
   "metadata": {},
   "outputs": [
    {
     "data": {
      "text/plain": [
       "0     1\n",
       "1     4\n",
       "2     6\n",
       "3     2\n",
       "4     6\n",
       "5    43\n",
       "6     2\n",
       "7     4\n",
       "dtype: int64"
      ]
     },
     "execution_count": 4,
     "metadata": {},
     "output_type": "execute_result"
    }
   ],
   "source": [
    "# 参数：\n",
    "# data：传入的数据，可以是ndarray、list等\n",
    "# index：索引，必须是唯一的，且与数据的长度相等。如果没有传入索引参数，则默认会自动创建一个从0-N的整数索引。\n",
    "# dtype：数据的类型\n",
    "pd.Series([1, 4, 6, 2, 6, 43, 2, 4])"
   ]
  },
  {
   "cell_type": "markdown",
   "id": "8f8b99f6",
   "metadata": {},
   "source": [
    "## 通过已有数据创建"
   ]
  },
  {
   "cell_type": "code",
   "execution_count": 5,
   "id": "dffcef1c",
   "metadata": {},
   "outputs": [
    {
     "data": {
      "text/plain": [
       "0    0\n",
       "1    1\n",
       "2    2\n",
       "3    3\n",
       "4    4\n",
       "5    5\n",
       "6    6\n",
       "7    7\n",
       "8    8\n",
       "9    9\n",
       "dtype: int32"
      ]
     },
     "execution_count": 5,
     "metadata": {},
     "output_type": "execute_result"
    }
   ],
   "source": [
    "pd.Series(np.arange(10))"
   ]
  },
  {
   "cell_type": "markdown",
   "id": "95065b1d",
   "metadata": {},
   "source": [
    "## 指定索引"
   ]
  },
  {
   "cell_type": "code",
   "execution_count": 6,
   "id": "85270d6c",
   "metadata": {},
   "outputs": [
    {
     "data": {
      "text/plain": [
       "1     6.7\n",
       "2     5.6\n",
       "3     3.0\n",
       "4    10.0\n",
       "5     2.0\n",
       "dtype: float64"
      ]
     },
     "execution_count": 6,
     "metadata": {},
     "output_type": "execute_result"
    }
   ],
   "source": [
    "pd.Series([6.7,5.6,3,10,2], index=[1,2,3,4,5])"
   ]
  },
  {
   "cell_type": "markdown",
   "id": "55ae55ef",
   "metadata": {},
   "source": [
    "## 通过字典数据创建"
   ]
  },
  {
   "cell_type": "code",
   "execution_count": 7,
   "id": "10229201",
   "metadata": {},
   "outputs": [
    {
     "data": {
      "text/plain": [
       "red        100\n",
       "blue       200\n",
       "green      500\n",
       "yellow    1000\n",
       "dtype: int64"
      ]
     },
     "execution_count": 7,
     "metadata": {},
     "output_type": "execute_result"
    }
   ],
   "source": [
    "color_count = pd.Series({'red':100, 'blue':200, 'green': 500, 'yellow':1000})\n",
    "color_count"
   ]
  },
  {
   "cell_type": "markdown",
   "id": "581abe5b",
   "metadata": {},
   "source": [
    "# Series的属性"
   ]
  },
  {
   "cell_type": "markdown",
   "id": "b67f6475",
   "metadata": {},
   "source": [
    "## a.index"
   ]
  },
  {
   "cell_type": "code",
   "execution_count": 8,
   "id": "ef848901",
   "metadata": {},
   "outputs": [
    {
     "data": {
      "text/plain": [
       "Index(['red', 'blue', 'green', 'yellow'], dtype='object')"
      ]
     },
     "execution_count": 8,
     "metadata": {},
     "output_type": "execute_result"
    }
   ],
   "source": [
    "color_count.index"
   ]
  },
  {
   "cell_type": "markdown",
   "id": "f5f97a6f",
   "metadata": {},
   "source": [
    "## a.values"
   ]
  },
  {
   "cell_type": "code",
   "execution_count": 9,
   "id": "45146667",
   "metadata": {},
   "outputs": [
    {
     "data": {
      "text/plain": [
       "array([ 100,  200,  500, 1000], dtype=int64)"
      ]
     },
     "execution_count": 9,
     "metadata": {},
     "output_type": "execute_result"
    }
   ],
   "source": [
    "color_count.values"
   ]
  },
  {
   "cell_type": "markdown",
   "id": "f8566b2c",
   "metadata": {},
   "source": [
    "## 索引获取数据"
   ]
  },
  {
   "cell_type": "code",
   "execution_count": 10,
   "id": "7761743b",
   "metadata": {},
   "outputs": [
    {
     "data": {
      "text/plain": [
       "200"
      ]
     },
     "execution_count": 10,
     "metadata": {},
     "output_type": "execute_result"
    }
   ],
   "source": [
    "color_count[1]"
   ]
  }
 ],
 "metadata": {
  "kernelspec": {
   "display_name": "pytorch",
   "language": "python",
   "name": "python3"
  },
  "language_info": {
   "codemirror_mode": {
    "name": "ipython",
    "version": 3
   },
   "file_extension": ".py",
   "mimetype": "text/x-python",
   "name": "python",
   "nbconvert_exporter": "python",
   "pygments_lexer": "ipython3",
   "version": "3.9.13"
  },
  "orig_nbformat": 4,
  "vscode": {
   "interpreter": {
    "hash": "5b5292cc5f82d8561d05c044f8ed41e8f78352f5ad17a4513f2686858f295381"
   }
  }
 },
 "nbformat": 4,
 "nbformat_minor": 2
}
