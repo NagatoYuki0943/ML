{
 "cells": [
  {
   "cell_type": "code",
   "execution_count": 1,
   "metadata": {},
   "outputs": [],
   "source": [
    "import numpy as np\n",
    "import pandas as pd\n",
    "import matplotlib.pyplot as plt"
   ]
  },
  {
   "attachments": {},
   "cell_type": "markdown",
   "metadata": {},
   "source": [
    "# DataFrame创建\n",
    "\n",
    "参数：\n",
    "- data:  行列数据\n",
    "- index：行标签。如果没有传入索引参数，则默认会自动创建一个从0-N的整数索引\n",
    "- columns：列标签。如果没有传入索引参数，则默认会自动创建一个从0-N的整数索引\n",
    "- dtype：数据的类型"
   ]
  },
  {
   "cell_type": "markdown",
   "metadata": {},
   "source": [
    "## 指定内容创建"
   ]
  },
  {
   "cell_type": "code",
   "execution_count": 2,
   "metadata": {},
   "outputs": [
    {
     "data": {
      "text/html": [
       "<div>\n",
       "<style scoped>\n",
       "    .dataframe tbody tr th:only-of-type {\n",
       "        vertical-align: middle;\n",
       "    }\n",
       "\n",
       "    .dataframe tbody tr th {\n",
       "        vertical-align: top;\n",
       "    }\n",
       "\n",
       "    .dataframe thead th {\n",
       "        text-align: right;\n",
       "    }\n",
       "</style>\n",
       "<table border=\"1\" class=\"dataframe\">\n",
       "  <thead>\n",
       "    <tr style=\"text-align: right;\">\n",
       "      <th></th>\n",
       "      <th>0</th>\n",
       "      <th>1</th>\n",
       "      <th>2</th>\n",
       "    </tr>\n",
       "  </thead>\n",
       "  <tbody>\n",
       "    <tr>\n",
       "      <th>0</th>\n",
       "      <td>0.848998</td>\n",
       "      <td>0.865933</td>\n",
       "      <td>0.713458</td>\n",
       "    </tr>\n",
       "    <tr>\n",
       "      <th>1</th>\n",
       "      <td>0.089094</td>\n",
       "      <td>0.157259</td>\n",
       "      <td>0.451848</td>\n",
       "    </tr>\n",
       "  </tbody>\n",
       "</table>\n",
       "</div>"
      ],
      "text/plain": [
       "          0         1         2\n",
       "0  0.848998  0.865933  0.713458\n",
       "1  0.089094  0.157259  0.451848"
      ]
     },
     "execution_count": 2,
     "metadata": {},
     "output_type": "execute_result"
    }
   ],
   "source": [
    "pd.DataFrame(np.random.rand(2, 3))"
   ]
  },
  {
   "cell_type": "markdown",
   "metadata": {},
   "source": [
    "## 通过已有数据创建"
   ]
  },
  {
   "cell_type": "code",
   "execution_count": 3,
   "metadata": {},
   "outputs": [
    {
     "data": {
      "text/plain": [
       "array([[67, 91, 84, 45, 96],\n",
       "       [41, 46, 60, 97, 70],\n",
       "       [51, 49, 60, 97, 71],\n",
       "       [49, 95, 96, 53, 52],\n",
       "       [75, 97, 95, 75, 48],\n",
       "       [60, 87, 45, 81, 64],\n",
       "       [46, 55, 40, 56, 73],\n",
       "       [50, 69, 88, 87, 89],\n",
       "       [48, 71, 67, 68, 55],\n",
       "       [62, 48, 68, 61, 65]])"
      ]
     },
     "execution_count": 3,
     "metadata": {},
     "output_type": "execute_result"
    }
   ],
   "source": [
    "# 生成10名同学，5门功课的数据\n",
    "score = np.random.randint(40, 100, (10, 5))\n",
    "score"
   ]
  },
  {
   "cell_type": "code",
   "execution_count": 4,
   "metadata": {},
   "outputs": [
    {
     "data": {
      "text/html": [
       "<div>\n",
       "<style scoped>\n",
       "    .dataframe tbody tr th:only-of-type {\n",
       "        vertical-align: middle;\n",
       "    }\n",
       "\n",
       "    .dataframe tbody tr th {\n",
       "        vertical-align: top;\n",
       "    }\n",
       "\n",
       "    .dataframe thead th {\n",
       "        text-align: right;\n",
       "    }\n",
       "</style>\n",
       "<table border=\"1\" class=\"dataframe\">\n",
       "  <thead>\n",
       "    <tr style=\"text-align: right;\">\n",
       "      <th></th>\n",
       "      <th>0</th>\n",
       "      <th>1</th>\n",
       "      <th>2</th>\n",
       "      <th>3</th>\n",
       "      <th>4</th>\n",
       "    </tr>\n",
       "  </thead>\n",
       "  <tbody>\n",
       "    <tr>\n",
       "      <th>0</th>\n",
       "      <td>67</td>\n",
       "      <td>91</td>\n",
       "      <td>84</td>\n",
       "      <td>45</td>\n",
       "      <td>96</td>\n",
       "    </tr>\n",
       "    <tr>\n",
       "      <th>1</th>\n",
       "      <td>41</td>\n",
       "      <td>46</td>\n",
       "      <td>60</td>\n",
       "      <td>97</td>\n",
       "      <td>70</td>\n",
       "    </tr>\n",
       "    <tr>\n",
       "      <th>2</th>\n",
       "      <td>51</td>\n",
       "      <td>49</td>\n",
       "      <td>60</td>\n",
       "      <td>97</td>\n",
       "      <td>71</td>\n",
       "    </tr>\n",
       "    <tr>\n",
       "      <th>3</th>\n",
       "      <td>49</td>\n",
       "      <td>95</td>\n",
       "      <td>96</td>\n",
       "      <td>53</td>\n",
       "      <td>52</td>\n",
       "    </tr>\n",
       "    <tr>\n",
       "      <th>4</th>\n",
       "      <td>75</td>\n",
       "      <td>97</td>\n",
       "      <td>95</td>\n",
       "      <td>75</td>\n",
       "      <td>48</td>\n",
       "    </tr>\n",
       "    <tr>\n",
       "      <th>5</th>\n",
       "      <td>60</td>\n",
       "      <td>87</td>\n",
       "      <td>45</td>\n",
       "      <td>81</td>\n",
       "      <td>64</td>\n",
       "    </tr>\n",
       "    <tr>\n",
       "      <th>6</th>\n",
       "      <td>46</td>\n",
       "      <td>55</td>\n",
       "      <td>40</td>\n",
       "      <td>56</td>\n",
       "      <td>73</td>\n",
       "    </tr>\n",
       "    <tr>\n",
       "      <th>7</th>\n",
       "      <td>50</td>\n",
       "      <td>69</td>\n",
       "      <td>88</td>\n",
       "      <td>87</td>\n",
       "      <td>89</td>\n",
       "    </tr>\n",
       "    <tr>\n",
       "      <th>8</th>\n",
       "      <td>48</td>\n",
       "      <td>71</td>\n",
       "      <td>67</td>\n",
       "      <td>68</td>\n",
       "      <td>55</td>\n",
       "    </tr>\n",
       "    <tr>\n",
       "      <th>9</th>\n",
       "      <td>62</td>\n",
       "      <td>48</td>\n",
       "      <td>68</td>\n",
       "      <td>61</td>\n",
       "      <td>65</td>\n",
       "    </tr>\n",
       "  </tbody>\n",
       "</table>\n",
       "</div>"
      ],
      "text/plain": [
       "    0   1   2   3   4\n",
       "0  67  91  84  45  96\n",
       "1  41  46  60  97  70\n",
       "2  51  49  60  97  71\n",
       "3  49  95  96  53  52\n",
       "4  75  97  95  75  48\n",
       "5  60  87  45  81  64\n",
       "6  46  55  40  56  73\n",
       "7  50  69  88  87  89\n",
       "8  48  71  67  68  55\n",
       "9  62  48  68  61  65"
      ]
     },
     "execution_count": 4,
     "metadata": {},
     "output_type": "execute_result"
    }
   ],
   "source": [
    "pd.DataFrame(score)"
   ]
  },
  {
   "attachments": {},
   "cell_type": "markdown",
   "metadata": {},
   "source": [
    "## 指定column和index"
   ]
  },
  {
   "cell_type": "code",
   "execution_count": 5,
   "metadata": {},
   "outputs": [
    {
     "data": {
      "text/html": [
       "<div>\n",
       "<style scoped>\n",
       "    .dataframe tbody tr th:only-of-type {\n",
       "        vertical-align: middle;\n",
       "    }\n",
       "\n",
       "    .dataframe tbody tr th {\n",
       "        vertical-align: top;\n",
       "    }\n",
       "\n",
       "    .dataframe thead th {\n",
       "        text-align: right;\n",
       "    }\n",
       "</style>\n",
       "<table border=\"1\" class=\"dataframe\">\n",
       "  <thead>\n",
       "    <tr style=\"text-align: right;\">\n",
       "      <th></th>\n",
       "      <th>Chinese</th>\n",
       "      <th>Math</th>\n",
       "      <th>English</th>\n",
       "      <th>Sciencs</th>\n",
       "      <th>Sports</th>\n",
       "    </tr>\n",
       "  </thead>\n",
       "  <tbody>\n",
       "    <tr>\n",
       "      <th>stu_1</th>\n",
       "      <td>67</td>\n",
       "      <td>91</td>\n",
       "      <td>84</td>\n",
       "      <td>45</td>\n",
       "      <td>96</td>\n",
       "    </tr>\n",
       "    <tr>\n",
       "      <th>stu_2</th>\n",
       "      <td>41</td>\n",
       "      <td>46</td>\n",
       "      <td>60</td>\n",
       "      <td>97</td>\n",
       "      <td>70</td>\n",
       "    </tr>\n",
       "    <tr>\n",
       "      <th>stu_3</th>\n",
       "      <td>51</td>\n",
       "      <td>49</td>\n",
       "      <td>60</td>\n",
       "      <td>97</td>\n",
       "      <td>71</td>\n",
       "    </tr>\n",
       "    <tr>\n",
       "      <th>stu_4</th>\n",
       "      <td>49</td>\n",
       "      <td>95</td>\n",
       "      <td>96</td>\n",
       "      <td>53</td>\n",
       "      <td>52</td>\n",
       "    </tr>\n",
       "    <tr>\n",
       "      <th>stu_5</th>\n",
       "      <td>75</td>\n",
       "      <td>97</td>\n",
       "      <td>95</td>\n",
       "      <td>75</td>\n",
       "      <td>48</td>\n",
       "    </tr>\n",
       "    <tr>\n",
       "      <th>stu_6</th>\n",
       "      <td>60</td>\n",
       "      <td>87</td>\n",
       "      <td>45</td>\n",
       "      <td>81</td>\n",
       "      <td>64</td>\n",
       "    </tr>\n",
       "    <tr>\n",
       "      <th>stu_7</th>\n",
       "      <td>46</td>\n",
       "      <td>55</td>\n",
       "      <td>40</td>\n",
       "      <td>56</td>\n",
       "      <td>73</td>\n",
       "    </tr>\n",
       "    <tr>\n",
       "      <th>stu_8</th>\n",
       "      <td>50</td>\n",
       "      <td>69</td>\n",
       "      <td>88</td>\n",
       "      <td>87</td>\n",
       "      <td>89</td>\n",
       "    </tr>\n",
       "    <tr>\n",
       "      <th>stu_9</th>\n",
       "      <td>48</td>\n",
       "      <td>71</td>\n",
       "      <td>67</td>\n",
       "      <td>68</td>\n",
       "      <td>55</td>\n",
       "    </tr>\n",
       "    <tr>\n",
       "      <th>stu_10</th>\n",
       "      <td>62</td>\n",
       "      <td>48</td>\n",
       "      <td>68</td>\n",
       "      <td>61</td>\n",
       "      <td>65</td>\n",
       "    </tr>\n",
       "  </tbody>\n",
       "</table>\n",
       "</div>"
      ],
      "text/plain": [
       "        Chinese  Math  English  Sciencs  Sports\n",
       "stu_1        67    91       84       45      96\n",
       "stu_2        41    46       60       97      70\n",
       "stu_3        51    49       60       97      71\n",
       "stu_4        49    95       96       53      52\n",
       "stu_5        75    97       95       75      48\n",
       "stu_6        60    87       45       81      64\n",
       "stu_7        46    55       40       56      73\n",
       "stu_8        50    69       88       87      89\n",
       "stu_9        48    71       67       68      55\n",
       "stu_10       62    48       68       61      65"
      ]
     },
     "execution_count": 5,
     "metadata": {},
     "output_type": "execute_result"
    }
   ],
   "source": [
    "# 构造列索引序列\n",
    "subjects = [\"Chinese\", \"Math\", \"English\", \"Sciencs\", \"Sports\"]\n",
    "# 构造行索引序列\n",
    "students = [f\"stu_{i+1}\" for i in range(score.shape[0])]\n",
    "# 添加行索引\n",
    "pd.DataFrame(score, columns=subjects, index=students)"
   ]
  },
  {
   "cell_type": "markdown",
   "metadata": {},
   "source": [
    "### index和column可以重复"
   ]
  },
  {
   "cell_type": "code",
   "execution_count": 9,
   "metadata": {},
   "outputs": [
    {
     "data": {
      "text/html": [
       "<div>\n",
       "<style scoped>\n",
       "    .dataframe tbody tr th:only-of-type {\n",
       "        vertical-align: middle;\n",
       "    }\n",
       "\n",
       "    .dataframe tbody tr th {\n",
       "        vertical-align: top;\n",
       "    }\n",
       "\n",
       "    .dataframe thead th {\n",
       "        text-align: right;\n",
       "    }\n",
       "</style>\n",
       "<table border=\"1\" class=\"dataframe\">\n",
       "  <thead>\n",
       "    <tr style=\"text-align: right;\">\n",
       "      <th></th>\n",
       "      <th>a</th>\n",
       "      <th>a</th>\n",
       "    </tr>\n",
       "  </thead>\n",
       "  <tbody>\n",
       "    <tr>\n",
       "      <th>1</th>\n",
       "      <td>2</td>\n",
       "      <td>4</td>\n",
       "    </tr>\n",
       "    <tr>\n",
       "      <th>1</th>\n",
       "      <td>1</td>\n",
       "      <td>5</td>\n",
       "    </tr>\n",
       "    <tr>\n",
       "      <th>2</th>\n",
       "      <td>8</td>\n",
       "      <td>9</td>\n",
       "    </tr>\n",
       "    <tr>\n",
       "      <th>3</th>\n",
       "      <td>8</td>\n",
       "      <td>6</td>\n",
       "    </tr>\n",
       "  </tbody>\n",
       "</table>\n",
       "</div>"
      ],
      "text/plain": [
       "   a  a\n",
       "1  2  4\n",
       "1  1  5\n",
       "2  8  9\n",
       "3  8  6"
      ]
     },
     "execution_count": 9,
     "metadata": {},
     "output_type": "execute_result"
    }
   ],
   "source": [
    "# 添加行索引\n",
    "repeatd_df = pd.DataFrame(np.random.randint(1, 10, 8).reshape(4, 2), columns=[\"a\", \"a\"], index=[1, 1, 2, 3])\n",
    "repeatd_df"
   ]
  },
  {
   "cell_type": "markdown",
   "metadata": {},
   "source": [
    "#### df.columns.is_unique 判断index是否重复"
   ]
  },
  {
   "cell_type": "code",
   "execution_count": 11,
   "metadata": {},
   "outputs": [
    {
     "data": {
      "text/plain": [
       "False"
      ]
     },
     "execution_count": 11,
     "metadata": {},
     "output_type": "execute_result"
    }
   ],
   "source": [
    "repeatd_df.columns.is_unique\n",
    "# False 代表有重复"
   ]
  },
  {
   "cell_type": "markdown",
   "metadata": {},
   "source": [
    "#### df.index.is_unique 判断index是否重复"
   ]
  },
  {
   "cell_type": "code",
   "execution_count": 12,
   "metadata": {},
   "outputs": [
    {
     "data": {
      "text/plain": [
       "False"
      ]
     },
     "execution_count": 12,
     "metadata": {},
     "output_type": "execute_result"
    }
   ],
   "source": [
    "repeatd_df.index.is_unique\n",
    "# False 代表有重复"
   ]
  },
  {
   "cell_type": "markdown",
   "metadata": {},
   "source": [
    "## 通过字典创建"
   ]
  },
  {
   "cell_type": "code",
   "execution_count": 56,
   "metadata": {},
   "outputs": [
    {
     "data": {
      "text/html": [
       "<div>\n",
       "<style scoped>\n",
       "    .dataframe tbody tr th:only-of-type {\n",
       "        vertical-align: middle;\n",
       "    }\n",
       "\n",
       "    .dataframe tbody tr th {\n",
       "        vertical-align: top;\n",
       "    }\n",
       "\n",
       "    .dataframe thead th {\n",
       "        text-align: right;\n",
       "    }\n",
       "</style>\n",
       "<table border=\"1\" class=\"dataframe\">\n",
       "  <thead>\n",
       "    <tr style=\"text-align: right;\">\n",
       "      <th></th>\n",
       "      <th>x</th>\n",
       "      <th>y</th>\n",
       "    </tr>\n",
       "  </thead>\n",
       "  <tbody>\n",
       "    <tr>\n",
       "      <th>0</th>\n",
       "      <td>0.995877</td>\n",
       "      <td>6</td>\n",
       "    </tr>\n",
       "    <tr>\n",
       "      <th>1</th>\n",
       "      <td>0.514333</td>\n",
       "      <td>5</td>\n",
       "    </tr>\n",
       "    <tr>\n",
       "      <th>2</th>\n",
       "      <td>0.102707</td>\n",
       "      <td>8</td>\n",
       "    </tr>\n",
       "    <tr>\n",
       "      <th>3</th>\n",
       "      <td>0.892692</td>\n",
       "      <td>5</td>\n",
       "    </tr>\n",
       "    <tr>\n",
       "      <th>4</th>\n",
       "      <td>0.308904</td>\n",
       "      <td>7</td>\n",
       "    </tr>\n",
       "  </tbody>\n",
       "</table>\n",
       "</div>"
      ],
      "text/plain": [
       "          x  y\n",
       "0  0.995877  6\n",
       "1  0.514333  5\n",
       "2  0.102707  8\n",
       "3  0.892692  5\n",
       "4  0.308904  7"
      ]
     },
     "execution_count": 56,
     "metadata": {},
     "output_type": "execute_result"
    }
   ],
   "source": [
    "pd.DataFrame({\"x\": np.random.rand(5), \"y\": np.random.randint(1, 10, 5)})"
   ]
  },
  {
   "cell_type": "markdown",
   "metadata": {},
   "source": [
    "# 基本属性"
   ]
  },
  {
   "cell_type": "code",
   "execution_count": 57,
   "metadata": {},
   "outputs": [
    {
     "data": {
      "text/html": [
       "<div>\n",
       "<style scoped>\n",
       "    .dataframe tbody tr th:only-of-type {\n",
       "        vertical-align: middle;\n",
       "    }\n",
       "\n",
       "    .dataframe tbody tr th {\n",
       "        vertical-align: top;\n",
       "    }\n",
       "\n",
       "    .dataframe thead th {\n",
       "        text-align: right;\n",
       "    }\n",
       "</style>\n",
       "<table border=\"1\" class=\"dataframe\">\n",
       "  <thead>\n",
       "    <tr style=\"text-align: right;\">\n",
       "      <th></th>\n",
       "      <th>Chinese</th>\n",
       "      <th>Math</th>\n",
       "      <th>English</th>\n",
       "      <th>Sciencs</th>\n",
       "      <th>Sports</th>\n",
       "    </tr>\n",
       "  </thead>\n",
       "  <tbody>\n",
       "    <tr>\n",
       "      <th>stu_1</th>\n",
       "      <td>67</td>\n",
       "      <td>76</td>\n",
       "      <td>45</td>\n",
       "      <td>54</td>\n",
       "      <td>72</td>\n",
       "    </tr>\n",
       "    <tr>\n",
       "      <th>stu_2</th>\n",
       "      <td>87</td>\n",
       "      <td>51</td>\n",
       "      <td>50</td>\n",
       "      <td>72</td>\n",
       "      <td>87</td>\n",
       "    </tr>\n",
       "    <tr>\n",
       "      <th>stu_3</th>\n",
       "      <td>81</td>\n",
       "      <td>71</td>\n",
       "      <td>52</td>\n",
       "      <td>57</td>\n",
       "      <td>56</td>\n",
       "    </tr>\n",
       "    <tr>\n",
       "      <th>stu_4</th>\n",
       "      <td>50</td>\n",
       "      <td>62</td>\n",
       "      <td>84</td>\n",
       "      <td>74</td>\n",
       "      <td>79</td>\n",
       "    </tr>\n",
       "    <tr>\n",
       "      <th>stu_5</th>\n",
       "      <td>41</td>\n",
       "      <td>59</td>\n",
       "      <td>87</td>\n",
       "      <td>94</td>\n",
       "      <td>94</td>\n",
       "    </tr>\n",
       "    <tr>\n",
       "      <th>stu_6</th>\n",
       "      <td>71</td>\n",
       "      <td>97</td>\n",
       "      <td>96</td>\n",
       "      <td>76</td>\n",
       "      <td>67</td>\n",
       "    </tr>\n",
       "    <tr>\n",
       "      <th>stu_7</th>\n",
       "      <td>54</td>\n",
       "      <td>40</td>\n",
       "      <td>58</td>\n",
       "      <td>65</td>\n",
       "      <td>63</td>\n",
       "    </tr>\n",
       "    <tr>\n",
       "      <th>stu_8</th>\n",
       "      <td>85</td>\n",
       "      <td>81</td>\n",
       "      <td>57</td>\n",
       "      <td>43</td>\n",
       "      <td>60</td>\n",
       "    </tr>\n",
       "    <tr>\n",
       "      <th>stu_9</th>\n",
       "      <td>48</td>\n",
       "      <td>74</td>\n",
       "      <td>44</td>\n",
       "      <td>87</td>\n",
       "      <td>58</td>\n",
       "    </tr>\n",
       "    <tr>\n",
       "      <th>stu_10</th>\n",
       "      <td>66</td>\n",
       "      <td>92</td>\n",
       "      <td>64</td>\n",
       "      <td>82</td>\n",
       "      <td>54</td>\n",
       "    </tr>\n",
       "  </tbody>\n",
       "</table>\n",
       "</div>"
      ],
      "text/plain": [
       "        Chinese  Math  English  Sciencs  Sports\n",
       "stu_1        67    76       45       54      72\n",
       "stu_2        87    51       50       72      87\n",
       "stu_3        81    71       52       57      56\n",
       "stu_4        50    62       84       74      79\n",
       "stu_5        41    59       87       94      94\n",
       "stu_6        71    97       96       76      67\n",
       "stu_7        54    40       58       65      63\n",
       "stu_8        85    81       57       43      60\n",
       "stu_9        48    74       44       87      58\n",
       "stu_10       66    92       64       82      54"
      ]
     },
     "execution_count": 57,
     "metadata": {},
     "output_type": "execute_result"
    }
   ],
   "source": [
    "# 构造列索引序列\n",
    "subjects = [\"Chinese\", \"Math\", \"English\", \"Sciencs\", \"Sports\"]\n",
    "# 构造行索引序列\n",
    "students = [f\"stu_{i+1}\" for i in range(score.shape[0])]\n",
    "# 添加行列索引\n",
    "score_df = pd.DataFrame(score, columns=subjects, index=students)\n",
    "score_df"
   ]
  },
  {
   "attachments": {},
   "cell_type": "markdown",
   "metadata": {},
   "source": [
    "## df.values 返回数据数组"
   ]
  },
  {
   "cell_type": "code",
   "execution_count": 58,
   "metadata": {},
   "outputs": [
    {
     "data": {
      "text/plain": [
       "array([[67, 76, 45, 54, 72],\n",
       "       [87, 51, 50, 72, 87],\n",
       "       [81, 71, 52, 57, 56],\n",
       "       [50, 62, 84, 74, 79],\n",
       "       [41, 59, 87, 94, 94],\n",
       "       [71, 97, 96, 76, 67],\n",
       "       [54, 40, 58, 65, 63],\n",
       "       [85, 81, 57, 43, 60],\n",
       "       [48, 74, 44, 87, 58],\n",
       "       [66, 92, 64, 82, 54]])"
      ]
     },
     "execution_count": 58,
     "metadata": {},
     "output_type": "execute_result"
    }
   ],
   "source": [
    "score_df.values"
   ]
  },
  {
   "cell_type": "markdown",
   "metadata": {},
   "source": [
    "## df.shape"
   ]
  },
  {
   "cell_type": "code",
   "execution_count": 59,
   "metadata": {},
   "outputs": [
    {
     "data": {
      "text/plain": [
       "(10, 5)"
      ]
     },
     "execution_count": 59,
     "metadata": {},
     "output_type": "execute_result"
    }
   ],
   "source": [
    "score_df.shape"
   ]
  },
  {
   "cell_type": "markdown",
   "metadata": {},
   "source": [
    "## df.columns"
   ]
  },
  {
   "cell_type": "code",
   "execution_count": 60,
   "metadata": {},
   "outputs": [
    {
     "data": {
      "text/plain": [
       "Index(['Chinese', 'Math', 'English', 'Sciencs', 'Sports'], dtype='object')"
      ]
     },
     "execution_count": 60,
     "metadata": {},
     "output_type": "execute_result"
    }
   ],
   "source": [
    "score_df.columns"
   ]
  },
  {
   "cell_type": "code",
   "execution_count": 61,
   "metadata": {},
   "outputs": [
    {
     "data": {
      "text/plain": [
       "Index(['English', 'Sciencs', 'Sports'], dtype='object')"
      ]
     },
     "execution_count": 61,
     "metadata": {},
     "output_type": "execute_result"
    }
   ],
   "source": [
    "score_df.columns[2:5]"
   ]
  },
  {
   "attachments": {},
   "cell_type": "markdown",
   "metadata": {},
   "source": [
    "### df.columns.get_indexer([\"column_name\"]) 返回column的数字索引"
   ]
  },
  {
   "cell_type": "code",
   "execution_count": 71,
   "metadata": {},
   "outputs": [
    {
     "data": {
      "text/plain": [
       "array([0, 3], dtype=int64)"
      ]
     },
     "execution_count": 71,
     "metadata": {},
     "output_type": "execute_result"
    }
   ],
   "source": [
    "score_df.columns.get_indexer([\"Chinese\", \"Sciencs\"])"
   ]
  },
  {
   "cell_type": "code",
   "execution_count": 74,
   "metadata": {},
   "outputs": [
    {
     "data": {
      "text/plain": [
       "array([-1], dtype=int64)"
      ]
     },
     "execution_count": 74,
     "metadata": {},
     "output_type": "execute_result"
    }
   ],
   "source": [
    "# 列不存在返回-1\n",
    "score_df.columns.get_indexer([\"Chinesesss\"])"
   ]
  },
  {
   "cell_type": "markdown",
   "metadata": {},
   "source": [
    "## df.index"
   ]
  },
  {
   "cell_type": "code",
   "execution_count": 62,
   "metadata": {},
   "outputs": [
    {
     "data": {
      "text/plain": [
       "Index(['stu_1', 'stu_2', 'stu_3', 'stu_4', 'stu_5', 'stu_6', 'stu_7', 'stu_8',\n",
       "       'stu_9', 'stu_10'],\n",
       "      dtype='object')"
      ]
     },
     "execution_count": 62,
     "metadata": {},
     "output_type": "execute_result"
    }
   ],
   "source": [
    "score_df.index"
   ]
  },
  {
   "cell_type": "code",
   "execution_count": 63,
   "metadata": {},
   "outputs": [
    {
     "data": {
      "text/plain": [
       "Index(['stu_4', 'stu_5', 'stu_6'], dtype='object')"
      ]
     },
     "execution_count": 63,
     "metadata": {},
     "output_type": "execute_result"
    }
   ],
   "source": [
    "score_df.index[3:6]"
   ]
  },
  {
   "attachments": {},
   "cell_type": "markdown",
   "metadata": {},
   "source": [
    "### df.index.get_indexer([\"index_name\"]) 返回index的数字索引"
   ]
  },
  {
   "cell_type": "code",
   "execution_count": 73,
   "metadata": {},
   "outputs": [
    {
     "data": {
      "text/plain": [
       "array([2, 5], dtype=int64)"
      ]
     },
     "execution_count": 73,
     "metadata": {},
     "output_type": "execute_result"
    }
   ],
   "source": [
    "score_df.index.get_indexer([\"stu_3\", \"stu_6\"])"
   ]
  },
  {
   "cell_type": "code",
   "execution_count": 75,
   "metadata": {},
   "outputs": [
    {
     "data": {
      "text/plain": [
       "array([-1], dtype=int64)"
      ]
     },
     "execution_count": 75,
     "metadata": {},
     "output_type": "execute_result"
    }
   ],
   "source": [
    "# 行不存在返回-1\n",
    "score_df.index.get_indexer([\"stu_31\"])"
   ]
  },
  {
   "cell_type": "markdown",
   "metadata": {},
   "source": [
    "## df.dtypes"
   ]
  },
  {
   "cell_type": "code",
   "execution_count": 64,
   "metadata": {},
   "outputs": [
    {
     "data": {
      "text/plain": [
       "Chinese    int32\n",
       "Math       int32\n",
       "English    int32\n",
       "Sciencs    int32\n",
       "Sports     int32\n",
       "dtype: object"
      ]
     },
     "execution_count": 64,
     "metadata": {},
     "output_type": "execute_result"
    }
   ],
   "source": [
    "score_df.dtypes"
   ]
  },
  {
   "cell_type": "markdown",
   "metadata": {},
   "source": [
    "## df.attrs"
   ]
  },
  {
   "cell_type": "code",
   "execution_count": 65,
   "metadata": {},
   "outputs": [
    {
     "data": {
      "text/plain": [
       "{}"
      ]
     },
     "execution_count": 65,
     "metadata": {},
     "output_type": "execute_result"
    }
   ],
   "source": [
    "score_df.attrs"
   ]
  },
  {
   "cell_type": "markdown",
   "metadata": {},
   "source": [
    "## df.axes"
   ]
  },
  {
   "cell_type": "code",
   "execution_count": 66,
   "metadata": {},
   "outputs": [
    {
     "data": {
      "text/plain": [
       "[Index(['stu_1', 'stu_2', 'stu_3', 'stu_4', 'stu_5', 'stu_6', 'stu_7', 'stu_8',\n",
       "        'stu_9', 'stu_10'],\n",
       "       dtype='object'),\n",
       " Index(['Chinese', 'Math', 'English', 'Sciencs', 'Sports'], dtype='object')]"
      ]
     },
     "execution_count": 66,
     "metadata": {},
     "output_type": "execute_result"
    }
   ],
   "source": [
    "score_df.axes"
   ]
  },
  {
   "cell_type": "markdown",
   "metadata": {},
   "source": [
    "## df.T 转置数据"
   ]
  },
  {
   "cell_type": "code",
   "execution_count": 67,
   "metadata": {},
   "outputs": [
    {
     "data": {
      "text/html": [
       "<div>\n",
       "<style scoped>\n",
       "    .dataframe tbody tr th:only-of-type {\n",
       "        vertical-align: middle;\n",
       "    }\n",
       "\n",
       "    .dataframe tbody tr th {\n",
       "        vertical-align: top;\n",
       "    }\n",
       "\n",
       "    .dataframe thead th {\n",
       "        text-align: right;\n",
       "    }\n",
       "</style>\n",
       "<table border=\"1\" class=\"dataframe\">\n",
       "  <thead>\n",
       "    <tr style=\"text-align: right;\">\n",
       "      <th></th>\n",
       "      <th>stu_1</th>\n",
       "      <th>stu_2</th>\n",
       "      <th>stu_3</th>\n",
       "      <th>stu_4</th>\n",
       "      <th>stu_5</th>\n",
       "      <th>stu_6</th>\n",
       "      <th>stu_7</th>\n",
       "      <th>stu_8</th>\n",
       "      <th>stu_9</th>\n",
       "      <th>stu_10</th>\n",
       "    </tr>\n",
       "  </thead>\n",
       "  <tbody>\n",
       "    <tr>\n",
       "      <th>Chinese</th>\n",
       "      <td>67</td>\n",
       "      <td>87</td>\n",
       "      <td>81</td>\n",
       "      <td>50</td>\n",
       "      <td>41</td>\n",
       "      <td>71</td>\n",
       "      <td>54</td>\n",
       "      <td>85</td>\n",
       "      <td>48</td>\n",
       "      <td>66</td>\n",
       "    </tr>\n",
       "    <tr>\n",
       "      <th>Math</th>\n",
       "      <td>76</td>\n",
       "      <td>51</td>\n",
       "      <td>71</td>\n",
       "      <td>62</td>\n",
       "      <td>59</td>\n",
       "      <td>97</td>\n",
       "      <td>40</td>\n",
       "      <td>81</td>\n",
       "      <td>74</td>\n",
       "      <td>92</td>\n",
       "    </tr>\n",
       "    <tr>\n",
       "      <th>English</th>\n",
       "      <td>45</td>\n",
       "      <td>50</td>\n",
       "      <td>52</td>\n",
       "      <td>84</td>\n",
       "      <td>87</td>\n",
       "      <td>96</td>\n",
       "      <td>58</td>\n",
       "      <td>57</td>\n",
       "      <td>44</td>\n",
       "      <td>64</td>\n",
       "    </tr>\n",
       "    <tr>\n",
       "      <th>Sciencs</th>\n",
       "      <td>54</td>\n",
       "      <td>72</td>\n",
       "      <td>57</td>\n",
       "      <td>74</td>\n",
       "      <td>94</td>\n",
       "      <td>76</td>\n",
       "      <td>65</td>\n",
       "      <td>43</td>\n",
       "      <td>87</td>\n",
       "      <td>82</td>\n",
       "    </tr>\n",
       "    <tr>\n",
       "      <th>Sports</th>\n",
       "      <td>72</td>\n",
       "      <td>87</td>\n",
       "      <td>56</td>\n",
       "      <td>79</td>\n",
       "      <td>94</td>\n",
       "      <td>67</td>\n",
       "      <td>63</td>\n",
       "      <td>60</td>\n",
       "      <td>58</td>\n",
       "      <td>54</td>\n",
       "    </tr>\n",
       "  </tbody>\n",
       "</table>\n",
       "</div>"
      ],
      "text/plain": [
       "         stu_1  stu_2  stu_3  stu_4  stu_5  stu_6  stu_7  stu_8  stu_9  stu_10\n",
       "Chinese     67     87     81     50     41     71     54     85     48      66\n",
       "Math        76     51     71     62     59     97     40     81     74      92\n",
       "English     45     50     52     84     87     96     58     57     44      64\n",
       "Sciencs     54     72     57     74     94     76     65     43     87      82\n",
       "Sports      72     87     56     79     94     67     63     60     58      54"
      ]
     },
     "execution_count": 67,
     "metadata": {},
     "output_type": "execute_result"
    }
   ],
   "source": [
    "score_df.T"
   ]
  },
  {
   "cell_type": "markdown",
   "metadata": {},
   "source": [
    "# 基本方法"
   ]
  },
  {
   "attachments": {},
   "cell_type": "markdown",
   "metadata": {},
   "source": [
    "## df.info() 字段描述"
   ]
  },
  {
   "cell_type": "code",
   "execution_count": 68,
   "metadata": {},
   "outputs": [
    {
     "name": "stdout",
     "output_type": "stream",
     "text": [
      "<class 'pandas.core.frame.DataFrame'>\n",
      "Index: 10 entries, stu_1 to stu_10\n",
      "Data columns (total 5 columns):\n",
      " #   Column   Non-Null Count  Dtype\n",
      "---  ------   --------------  -----\n",
      " 0   Chinese  10 non-null     int32\n",
      " 1   Math     10 non-null     int32\n",
      " 2   English  10 non-null     int32\n",
      " 3   Sciencs  10 non-null     int32\n",
      " 4   Sports   10 non-null     int32\n",
      "dtypes: int32(5)\n",
      "memory usage: 580.0+ bytes\n"
     ]
    }
   ],
   "source": [
    "score_df.info()"
   ]
  },
  {
   "cell_type": "markdown",
   "metadata": {},
   "source": [
    "## df.describe() 字段数据统计"
   ]
  },
  {
   "cell_type": "code",
   "execution_count": 69,
   "metadata": {},
   "outputs": [
    {
     "data": {
      "text/html": [
       "<div>\n",
       "<style scoped>\n",
       "    .dataframe tbody tr th:only-of-type {\n",
       "        vertical-align: middle;\n",
       "    }\n",
       "\n",
       "    .dataframe tbody tr th {\n",
       "        vertical-align: top;\n",
       "    }\n",
       "\n",
       "    .dataframe thead th {\n",
       "        text-align: right;\n",
       "    }\n",
       "</style>\n",
       "<table border=\"1\" class=\"dataframe\">\n",
       "  <thead>\n",
       "    <tr style=\"text-align: right;\">\n",
       "      <th></th>\n",
       "      <th>Chinese</th>\n",
       "      <th>Math</th>\n",
       "      <th>English</th>\n",
       "      <th>Sciencs</th>\n",
       "      <th>Sports</th>\n",
       "    </tr>\n",
       "  </thead>\n",
       "  <tbody>\n",
       "    <tr>\n",
       "      <th>count</th>\n",
       "      <td>10.000000</td>\n",
       "      <td>10.000000</td>\n",
       "      <td>10.000000</td>\n",
       "      <td>10.000000</td>\n",
       "      <td>10.00000</td>\n",
       "    </tr>\n",
       "    <tr>\n",
       "      <th>mean</th>\n",
       "      <td>65.000000</td>\n",
       "      <td>70.300000</td>\n",
       "      <td>63.700000</td>\n",
       "      <td>70.400000</td>\n",
       "      <td>69.00000</td>\n",
       "    </tr>\n",
       "    <tr>\n",
       "      <th>std</th>\n",
       "      <td>16.302692</td>\n",
       "      <td>17.739159</td>\n",
       "      <td>18.672916</td>\n",
       "      <td>15.784662</td>\n",
       "      <td>13.71941</td>\n",
       "    </tr>\n",
       "    <tr>\n",
       "      <th>min</th>\n",
       "      <td>41.000000</td>\n",
       "      <td>40.000000</td>\n",
       "      <td>44.000000</td>\n",
       "      <td>43.000000</td>\n",
       "      <td>54.00000</td>\n",
       "    </tr>\n",
       "    <tr>\n",
       "      <th>25%</th>\n",
       "      <td>51.000000</td>\n",
       "      <td>59.750000</td>\n",
       "      <td>50.500000</td>\n",
       "      <td>59.000000</td>\n",
       "      <td>58.50000</td>\n",
       "    </tr>\n",
       "    <tr>\n",
       "      <th>50%</th>\n",
       "      <td>66.500000</td>\n",
       "      <td>72.500000</td>\n",
       "      <td>57.500000</td>\n",
       "      <td>73.000000</td>\n",
       "      <td>65.00000</td>\n",
       "    </tr>\n",
       "    <tr>\n",
       "      <th>75%</th>\n",
       "      <td>78.500000</td>\n",
       "      <td>79.750000</td>\n",
       "      <td>79.000000</td>\n",
       "      <td>80.500000</td>\n",
       "      <td>77.25000</td>\n",
       "    </tr>\n",
       "    <tr>\n",
       "      <th>max</th>\n",
       "      <td>87.000000</td>\n",
       "      <td>97.000000</td>\n",
       "      <td>96.000000</td>\n",
       "      <td>94.000000</td>\n",
       "      <td>94.00000</td>\n",
       "    </tr>\n",
       "  </tbody>\n",
       "</table>\n",
       "</div>"
      ],
      "text/plain": [
       "         Chinese       Math    English    Sciencs    Sports\n",
       "count  10.000000  10.000000  10.000000  10.000000  10.00000\n",
       "mean   65.000000  70.300000  63.700000  70.400000  69.00000\n",
       "std    16.302692  17.739159  18.672916  15.784662  13.71941\n",
       "min    41.000000  40.000000  44.000000  43.000000  54.00000\n",
       "25%    51.000000  59.750000  50.500000  59.000000  58.50000\n",
       "50%    66.500000  72.500000  57.500000  73.000000  65.00000\n",
       "75%    78.500000  79.750000  79.000000  80.500000  77.25000\n",
       "max    87.000000  97.000000  96.000000  94.000000  94.00000"
      ]
     },
     "execution_count": 69,
     "metadata": {},
     "output_type": "execute_result"
    }
   ],
   "source": [
    "score_df.describe()"
   ]
  }
 ],
 "metadata": {
  "kernelspec": {
   "display_name": "pytorch",
   "language": "python",
   "name": "python3"
  },
  "language_info": {
   "codemirror_mode": {
    "name": "ipython",
    "version": 3
   },
   "file_extension": ".py",
   "mimetype": "text/x-python",
   "name": "python",
   "nbconvert_exporter": "python",
   "pygments_lexer": "ipython3",
   "version": "3.9.13"
  },
  "orig_nbformat": 4,
  "vscode": {
   "interpreter": {
    "hash": "5b5292cc5f82d8561d05c044f8ed41e8f78352f5ad17a4513f2686858f295381"
   }
  }
 },
 "nbformat": 4,
 "nbformat_minor": 2
}
