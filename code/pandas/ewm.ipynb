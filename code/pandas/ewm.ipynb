{
 "cells": [
  {
   "cell_type": "markdown",
   "id": "f9c65db9",
   "metadata": {},
   "source": [
    "Pandas.DataFrame.ewm: 指数加权移动窗口函数详解\n",
    "\n",
    "pandas.DataFrame.ewm 是 Pandas 库中一个非常强大的功能，用于计算指数加权移动（Exponentially Weighted Moving, EWM）统计量。与简单移动平均（Simple Moving Average）给予窗口内所有数据点相同权重不同，EWM 会给予近期的数据点更高的权重，而较早的数据点权重则会呈指数级衰减。这使得 EWM 对于时间序列数据中的最新变化更为敏感，能够更好地反映近期趋势。\n",
    "\n",
    "ewm 本身并不直接进行计算，而是在 DataFrame 或 Series 上创建一个 ExponentialMovingWindow 对象。然后，您可以链接各种聚合函数（如 .mean(), .std(), .var() 等）来计算实际的指数加权统计值。\n",
    "\n",
    "核心概念：权重衰减\n",
    "EWM 的核心思想是权重。每个数据点的权重由一个称为 平滑因子 (alpha, α) 的参数决定。一个时间点 t 的指数加权移动平均（EWMA）的计算方式可以递归地表示为：\n",
    "\n",
    "$$\n",
    "EWMA_t = (1 − alpha) \\cdot (EWMA_{t − 1}) + alpha \\cdot x_t\n",
    "$$\n",
    "\n",
    "其中：\n",
    "\n",
    "x_t 是在时间点 t 的观测值。\n",
    "\n",
    "EWMA_t−1 是在前一个时间点的指数加权移动平均。\n",
    "\n",
    "alpha 是平滑因子，其值在 0 和 1 之间。\n",
    "alpha 越大，对近期观测值的权重就越大，从而使得平均值对新数据的反应更迅速。\n",
    "\n",
    "关键参数:\n",
    "\n",
    "- com (Center of Mass, 重心): 通过重心来指定衰减。\n",
    "\n",
    "    alpha=1 / (1 + com)\n",
    "\n",
    "    com 值越大，alpha 越小，衰减越慢。\n",
    "\n",
    "- span (Span, 跨度): 通过跨度来指定衰减。\n",
    "\n",
    "    alpha=2 / (span + 1)\n",
    "\n",
    "    这通常用于描述“N-周期 EWMA”。例如，金融图表中常见的 20 日 EMA 对应 span=20。span 越大，\n",
    "\n",
    "    alpha 越小，曲线越平滑。\n",
    "\n",
    "- halflife (Half-life, 半衰期): 通过半衰期来指定衰减，即权重衰减到其一半所需的时间周期。\n",
    "\n",
    "    alpha = 1− exp(log(0.5) / halflife)\n",
    "\n",
    "    halflife 越大，alpha 越小。\n",
    "\n",
    "- alpha (Alpha, 平滑因子): 直接指定平滑因子alpha。\n",
    "\n",
    "在一次调用中，您只能指定 com, span, halflife, alpha 中的一个。\n",
    "\n",
    "其他常用参数包括：\n",
    "\n",
    "min_periods (int, 默认为 0): 窗口内具有值的最小观测点数量，否则结果为 NaN。\n",
    "\n",
    "adjust (bool, 默认为 True): 是否在初创期进行调整，以解决权重不平衡问题。当 adjust=True 时，EWMA 的计算会除以一个衰减的调整因子，这在处理较短的时间序列时更为精确。当 adjust=False 时，使用递归公式进行计算。\n",
    "\n",
    "ignore_na (bool, 默认为 False): 是否在计算权重时忽略缺失值。\n",
    "\n",
    "常用聚合函数\n",
    "在使用 .ewm() 之后，您可以调用以下聚合函数：\n",
    "\n",
    ".mean(): 计算指数加权移动平均值 (EWMA)。\n",
    "\n",
    ".std(): 计算指数加权移动标准差 (EWMSD)。\n",
    "\n",
    ".var(): 计算指数加权移动方差 (EWMV)。\n",
    "\n",
    ".corr(): 计算成对的指数加权移动相关系数。\n",
    "\n",
    ".cov(): 计算成对的指数加权移动协方差。"
   ]
  },
  {
   "cell_type": "code",
   "execution_count": 91,
   "id": "09570d14",
   "metadata": {},
   "outputs": [],
   "source": [
    "import numpy as np\n",
    "import pandas as pd\n",
    "import plotly.graph_objects as go"
   ]
  },
  {
   "cell_type": "code",
   "execution_count": 92,
   "id": "abc0308d",
   "metadata": {},
   "outputs": [
    {
     "data": {
      "text/html": [
       "<div>\n",
       "<style scoped>\n",
       "    .dataframe tbody tr th:only-of-type {\n",
       "        vertical-align: middle;\n",
       "    }\n",
       "\n",
       "    .dataframe tbody tr th {\n",
       "        vertical-align: top;\n",
       "    }\n",
       "\n",
       "    .dataframe thead th {\n",
       "        text-align: right;\n",
       "    }\n",
       "</style>\n",
       "<table border=\"1\" class=\"dataframe\">\n",
       "  <thead>\n",
       "    <tr style=\"text-align: right;\">\n",
       "      <th></th>\n",
       "      <th>y</th>\n",
       "    </tr>\n",
       "  </thead>\n",
       "  <tbody>\n",
       "    <tr>\n",
       "      <th>0</th>\n",
       "      <td>0.000000</td>\n",
       "    </tr>\n",
       "    <tr>\n",
       "      <th>1</th>\n",
       "      <td>0.064261</td>\n",
       "    </tr>\n",
       "    <tr>\n",
       "      <th>2</th>\n",
       "      <td>-0.004961</td>\n",
       "    </tr>\n",
       "    <tr>\n",
       "      <th>3</th>\n",
       "      <td>-0.045155</td>\n",
       "    </tr>\n",
       "    <tr>\n",
       "      <th>4</th>\n",
       "      <td>-0.040670</td>\n",
       "    </tr>\n",
       "    <tr>\n",
       "      <th>...</th>\n",
       "      <td>...</td>\n",
       "    </tr>\n",
       "    <tr>\n",
       "      <th>301</th>\n",
       "      <td>-0.073853</td>\n",
       "    </tr>\n",
       "    <tr>\n",
       "      <th>302</th>\n",
       "      <td>-0.083527</td>\n",
       "    </tr>\n",
       "    <tr>\n",
       "      <th>303</th>\n",
       "      <td>-0.075722</td>\n",
       "    </tr>\n",
       "    <tr>\n",
       "      <th>304</th>\n",
       "      <td>-0.107238</td>\n",
       "    </tr>\n",
       "    <tr>\n",
       "      <th>305</th>\n",
       "      <td>-0.078142</td>\n",
       "    </tr>\n",
       "  </tbody>\n",
       "</table>\n",
       "<p>306 rows × 1 columns</p>\n",
       "</div>"
      ],
      "text/plain": [
       "            y\n",
       "0    0.000000\n",
       "1    0.064261\n",
       "2   -0.004961\n",
       "3   -0.045155\n",
       "4   -0.040670\n",
       "..        ...\n",
       "301 -0.073853\n",
       "302 -0.083527\n",
       "303 -0.075722\n",
       "304 -0.107238\n",
       "305 -0.078142\n",
       "\n",
       "[306 rows x 1 columns]"
      ]
     },
     "execution_count": 92,
     "metadata": {},
     "output_type": "execute_result"
    }
   ],
   "source": [
    "df = pd.read_csv('ewm.csv')\n",
    "df"
   ]
  },
  {
   "cell_type": "code",
   "execution_count": 93,
   "id": "0dd14ca3",
   "metadata": {},
   "outputs": [
    {
     "data": {
      "text/html": [
       "<div>\n",
       "<style scoped>\n",
       "    .dataframe tbody tr th:only-of-type {\n",
       "        vertical-align: middle;\n",
       "    }\n",
       "\n",
       "    .dataframe tbody tr th {\n",
       "        vertical-align: top;\n",
       "    }\n",
       "\n",
       "    .dataframe thead th {\n",
       "        text-align: right;\n",
       "    }\n",
       "</style>\n",
       "<table border=\"1\" class=\"dataframe\">\n",
       "  <thead>\n",
       "    <tr style=\"text-align: right;\">\n",
       "      <th></th>\n",
       "      <th>y</th>\n",
       "    </tr>\n",
       "  </thead>\n",
       "  <tbody>\n",
       "    <tr>\n",
       "      <th>count</th>\n",
       "      <td>306.000000</td>\n",
       "    </tr>\n",
       "    <tr>\n",
       "      <th>mean</th>\n",
       "      <td>-0.033493</td>\n",
       "    </tr>\n",
       "    <tr>\n",
       "      <th>std</th>\n",
       "      <td>0.072499</td>\n",
       "    </tr>\n",
       "    <tr>\n",
       "      <th>min</th>\n",
       "      <td>-0.197629</td>\n",
       "    </tr>\n",
       "    <tr>\n",
       "      <th>25%</th>\n",
       "      <td>-0.083579</td>\n",
       "    </tr>\n",
       "    <tr>\n",
       "      <th>50%</th>\n",
       "      <td>-0.043971</td>\n",
       "    </tr>\n",
       "    <tr>\n",
       "      <th>75%</th>\n",
       "      <td>0.022068</td>\n",
       "    </tr>\n",
       "    <tr>\n",
       "      <th>max</th>\n",
       "      <td>0.141682</td>\n",
       "    </tr>\n",
       "  </tbody>\n",
       "</table>\n",
       "</div>"
      ],
      "text/plain": [
       "                y\n",
       "count  306.000000\n",
       "mean    -0.033493\n",
       "std      0.072499\n",
       "min     -0.197629\n",
       "25%     -0.083579\n",
       "50%     -0.043971\n",
       "75%      0.022068\n",
       "max      0.141682"
      ]
     },
     "execution_count": 93,
     "metadata": {},
     "output_type": "execute_result"
    }
   ],
   "source": [
    "df.describe()"
   ]
  },
  {
   "cell_type": "code",
   "execution_count": 94,
   "id": "74018464",
   "metadata": {},
   "outputs": [
    {
     "data": {
      "application/vnd.plotly.v1+json": {
       "config": {
        "plotlyServerURL": "https://plot.ly"
       },
       "data": [
        {
         "hoverinfo": "y",
         "mode": "lines",
         "name": "original",
         "type": "scatter",
         "x": {
          "bdata": "AAABAAIAAwAEAAUABgAHAAgACQAKAAsADAANAA4ADwAQABEAEgATABQAFQAWABcAGAAZABoAGwAcAB0AHgAfACAAIQAiACMAJAAlACYAJwAoACkAKgArACwALQAuAC8AMAAxADIAMwA0ADUANgA3ADgAOQA6ADsAPAA9AD4APwBAAEEAQgBDAEQARQBGAEcASABJAEoASwBMAE0ATgBPAFAAUQBSAFMAVABVAFYAVwBYAFkAWgBbAFwAXQBeAF8AYABhAGIAYwBkAGUAZgBnAGgAaQBqAGsAbABtAG4AbwBwAHEAcgBzAHQAdQB2AHcAeAB5AHoAewB8AH0AfgB/AIAAgQCCAIMAhACFAIYAhwCIAIkAigCLAIwAjQCOAI8AkACRAJIAkwCUAJUAlgCXAJgAmQCaAJsAnACdAJ4AnwCgAKEAogCjAKQApQCmAKcAqACpAKoAqwCsAK0ArgCvALAAsQCyALMAtAC1ALYAtwC4ALkAugC7ALwAvQC+AL8AwADBAMIAwwDEAMUAxgDHAMgAyQDKAMsAzADNAM4AzwDQANEA0gDTANQA1QDWANcA2ADZANoA2wDcAN0A3gDfAOAA4QDiAOMA5ADlAOYA5wDoAOkA6gDrAOwA7QDuAO8A8ADxAPIA8wD0APUA9gD3APgA+QD6APsA/AD9AP4A/wAAAQEBAgEDAQQBBQEGAQcBCAEJAQoBCwEMAQ0BDgEPARABEQESARMBFAEVARYBFwEYARkBGgEbARwBHQEeAR8BIAEhASIBIwEkASUBJgEnASgBKQEqASsBLAEtAS4BLwEwATEB",
          "dtype": "i2"
         },
         "y": {
          "bdata": "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",
          "dtype": "f8"
         }
        }
       ],
       "layout": {
        "height": 600,
        "template": {
         "data": {
          "bar": [
           {
            "error_x": {
             "color": "#2a3f5f"
            },
            "error_y": {
             "color": "#2a3f5f"
            },
            "marker": {
             "line": {
              "color": "#E5ECF6",
              "width": 0.5
             },
             "pattern": {
              "fillmode": "overlay",
              "size": 10,
              "solidity": 0.2
             }
            },
            "type": "bar"
           }
          ],
          "barpolar": [
           {
            "marker": {
             "line": {
              "color": "#E5ECF6",
              "width": 0.5
             },
             "pattern": {
              "fillmode": "overlay",
              "size": 10,
              "solidity": 0.2
             }
            },
            "type": "barpolar"
           }
          ],
          "carpet": [
           {
            "aaxis": {
             "endlinecolor": "#2a3f5f",
             "gridcolor": "white",
             "linecolor": "white",
             "minorgridcolor": "white",
             "startlinecolor": "#2a3f5f"
            },
            "baxis": {
             "endlinecolor": "#2a3f5f",
             "gridcolor": "white",
             "linecolor": "white",
             "minorgridcolor": "white",
             "startlinecolor": "#2a3f5f"
            },
            "type": "carpet"
           }
          ],
          "choropleth": [
           {
            "colorbar": {
             "outlinewidth": 0,
             "ticks": ""
            },
            "type": "choropleth"
           }
          ],
          "contour": [
           {
            "colorbar": {
             "outlinewidth": 0,
             "ticks": ""
            },
            "colorscale": [
             [
              0,
              "#0d0887"
             ],
             [
              0.1111111111111111,
              "#46039f"
             ],
             [
              0.2222222222222222,
              "#7201a8"
             ],
             [
              0.3333333333333333,
              "#9c179e"
             ],
             [
              0.4444444444444444,
              "#bd3786"
             ],
             [
              0.5555555555555556,
              "#d8576b"
             ],
             [
              0.6666666666666666,
              "#ed7953"
             ],
             [
              0.7777777777777778,
              "#fb9f3a"
             ],
             [
              0.8888888888888888,
              "#fdca26"
             ],
             [
              1,
              "#f0f921"
             ]
            ],
            "type": "contour"
           }
          ],
          "contourcarpet": [
           {
            "colorbar": {
             "outlinewidth": 0,
             "ticks": ""
            },
            "type": "contourcarpet"
           }
          ],
          "heatmap": [
           {
            "colorbar": {
             "outlinewidth": 0,
             "ticks": ""
            },
            "colorscale": [
             [
              0,
              "#0d0887"
             ],
             [
              0.1111111111111111,
              "#46039f"
             ],
             [
              0.2222222222222222,
              "#7201a8"
             ],
             [
              0.3333333333333333,
              "#9c179e"
             ],
             [
              0.4444444444444444,
              "#bd3786"
             ],
             [
              0.5555555555555556,
              "#d8576b"
             ],
             [
              0.6666666666666666,
              "#ed7953"
             ],
             [
              0.7777777777777778,
              "#fb9f3a"
             ],
             [
              0.8888888888888888,
              "#fdca26"
             ],
             [
              1,
              "#f0f921"
             ]
            ],
            "type": "heatmap"
           }
          ],
          "histogram": [
           {
            "marker": {
             "pattern": {
              "fillmode": "overlay",
              "size": 10,
              "solidity": 0.2
             }
            },
            "type": "histogram"
           }
          ],
          "histogram2d": [
           {
            "colorbar": {
             "outlinewidth": 0,
             "ticks": ""
            },
            "colorscale": [
             [
              0,
              "#0d0887"
             ],
             [
              0.1111111111111111,
              "#46039f"
             ],
             [
              0.2222222222222222,
              "#7201a8"
             ],
             [
              0.3333333333333333,
              "#9c179e"
             ],
             [
              0.4444444444444444,
              "#bd3786"
             ],
             [
              0.5555555555555556,
              "#d8576b"
             ],
             [
              0.6666666666666666,
              "#ed7953"
             ],
             [
              0.7777777777777778,
              "#fb9f3a"
             ],
             [
              0.8888888888888888,
              "#fdca26"
             ],
             [
              1,
              "#f0f921"
             ]
            ],
            "type": "histogram2d"
           }
          ],
          "histogram2dcontour": [
           {
            "colorbar": {
             "outlinewidth": 0,
             "ticks": ""
            },
            "colorscale": [
             [
              0,
              "#0d0887"
             ],
             [
              0.1111111111111111,
              "#46039f"
             ],
             [
              0.2222222222222222,
              "#7201a8"
             ],
             [
              0.3333333333333333,
              "#9c179e"
             ],
             [
              0.4444444444444444,
              "#bd3786"
             ],
             [
              0.5555555555555556,
              "#d8576b"
             ],
             [
              0.6666666666666666,
              "#ed7953"
             ],
             [
              0.7777777777777778,
              "#fb9f3a"
             ],
             [
              0.8888888888888888,
              "#fdca26"
             ],
             [
              1,
              "#f0f921"
             ]
            ],
            "type": "histogram2dcontour"
           }
          ],
          "mesh3d": [
           {
            "colorbar": {
             "outlinewidth": 0,
             "ticks": ""
            },
            "type": "mesh3d"
           }
          ],
          "parcoords": [
           {
            "line": {
             "colorbar": {
              "outlinewidth": 0,
              "ticks": ""
             }
            },
            "type": "parcoords"
           }
          ],
          "pie": [
           {
            "automargin": true,
            "type": "pie"
           }
          ],
          "scatter": [
           {
            "fillpattern": {
             "fillmode": "overlay",
             "size": 10,
             "solidity": 0.2
            },
            "type": "scatter"
           }
          ],
          "scatter3d": [
           {
            "line": {
             "colorbar": {
              "outlinewidth": 0,
              "ticks": ""
             }
            },
            "marker": {
             "colorbar": {
              "outlinewidth": 0,
              "ticks": ""
             }
            },
            "type": "scatter3d"
           }
          ],
          "scattercarpet": [
           {
            "marker": {
             "colorbar": {
              "outlinewidth": 0,
              "ticks": ""
             }
            },
            "type": "scattercarpet"
           }
          ],
          "scattergeo": [
           {
            "marker": {
             "colorbar": {
              "outlinewidth": 0,
              "ticks": ""
             }
            },
            "type": "scattergeo"
           }
          ],
          "scattergl": [
           {
            "marker": {
             "colorbar": {
              "outlinewidth": 0,
              "ticks": ""
             }
            },
            "type": "scattergl"
           }
          ],
          "scattermap": [
           {
            "marker": {
             "colorbar": {
              "outlinewidth": 0,
              "ticks": ""
             }
            },
            "type": "scattermap"
           }
          ],
          "scattermapbox": [
           {
            "marker": {
             "colorbar": {
              "outlinewidth": 0,
              "ticks": ""
             }
            },
            "type": "scattermapbox"
           }
          ],
          "scatterpolar": [
           {
            "marker": {
             "colorbar": {
              "outlinewidth": 0,
              "ticks": ""
             }
            },
            "type": "scatterpolar"
           }
          ],
          "scatterpolargl": [
           {
            "marker": {
             "colorbar": {
              "outlinewidth": 0,
              "ticks": ""
             }
            },
            "type": "scatterpolargl"
           }
          ],
          "scatterternary": [
           {
            "marker": {
             "colorbar": {
              "outlinewidth": 0,
              "ticks": ""
             }
            },
            "type": "scatterternary"
           }
          ],
          "surface": [
           {
            "colorbar": {
             "outlinewidth": 0,
             "ticks": ""
            },
            "colorscale": [
             [
              0,
              "#0d0887"
             ],
             [
              0.1111111111111111,
              "#46039f"
             ],
             [
              0.2222222222222222,
              "#7201a8"
             ],
             [
              0.3333333333333333,
              "#9c179e"
             ],
             [
              0.4444444444444444,
              "#bd3786"
             ],
             [
              0.5555555555555556,
              "#d8576b"
             ],
             [
              0.6666666666666666,
              "#ed7953"
             ],
             [
              0.7777777777777778,
              "#fb9f3a"
             ],
             [
              0.8888888888888888,
              "#fdca26"
             ],
             [
              1,
              "#f0f921"
             ]
            ],
            "type": "surface"
           }
          ],
          "table": [
           {
            "cells": {
             "fill": {
              "color": "#EBF0F8"
             },
             "line": {
              "color": "white"
             }
            },
            "header": {
             "fill": {
              "color": "#C8D4E3"
             },
             "line": {
              "color": "white"
             }
            },
            "type": "table"
           }
          ]
         },
         "layout": {
          "annotationdefaults": {
           "arrowcolor": "#2a3f5f",
           "arrowhead": 0,
           "arrowwidth": 1
          },
          "autotypenumbers": "strict",
          "coloraxis": {
           "colorbar": {
            "outlinewidth": 0,
            "ticks": ""
           }
          },
          "colorscale": {
           "diverging": [
            [
             0,
             "#8e0152"
            ],
            [
             0.1,
             "#c51b7d"
            ],
            [
             0.2,
             "#de77ae"
            ],
            [
             0.3,
             "#f1b6da"
            ],
            [
             0.4,
             "#fde0ef"
            ],
            [
             0.5,
             "#f7f7f7"
            ],
            [
             0.6,
             "#e6f5d0"
            ],
            [
             0.7,
             "#b8e186"
            ],
            [
             0.8,
             "#7fbc41"
            ],
            [
             0.9,
             "#4d9221"
            ],
            [
             1,
             "#276419"
            ]
           ],
           "sequential": [
            [
             0,
             "#0d0887"
            ],
            [
             0.1111111111111111,
             "#46039f"
            ],
            [
             0.2222222222222222,
             "#7201a8"
            ],
            [
             0.3333333333333333,
             "#9c179e"
            ],
            [
             0.4444444444444444,
             "#bd3786"
            ],
            [
             0.5555555555555556,
             "#d8576b"
            ],
            [
             0.6666666666666666,
             "#ed7953"
            ],
            [
             0.7777777777777778,
             "#fb9f3a"
            ],
            [
             0.8888888888888888,
             "#fdca26"
            ],
            [
             1,
             "#f0f921"
            ]
           ],
           "sequentialminus": [
            [
             0,
             "#0d0887"
            ],
            [
             0.1111111111111111,
             "#46039f"
            ],
            [
             0.2222222222222222,
             "#7201a8"
            ],
            [
             0.3333333333333333,
             "#9c179e"
            ],
            [
             0.4444444444444444,
             "#bd3786"
            ],
            [
             0.5555555555555556,
             "#d8576b"
            ],
            [
             0.6666666666666666,
             "#ed7953"
            ],
            [
             0.7777777777777778,
             "#fb9f3a"
            ],
            [
             0.8888888888888888,
             "#fdca26"
            ],
            [
             1,
             "#f0f921"
            ]
           ]
          },
          "colorway": [
           "#636efa",
           "#EF553B",
           "#00cc96",
           "#ab63fa",
           "#FFA15A",
           "#19d3f3",
           "#FF6692",
           "#B6E880",
           "#FF97FF",
           "#FECB52"
          ],
          "font": {
           "color": "#2a3f5f"
          },
          "geo": {
           "bgcolor": "white",
           "lakecolor": "white",
           "landcolor": "#E5ECF6",
           "showlakes": true,
           "showland": true,
           "subunitcolor": "white"
          },
          "hoverlabel": {
           "align": "left"
          },
          "hovermode": "closest",
          "mapbox": {
           "style": "light"
          },
          "paper_bgcolor": "white",
          "plot_bgcolor": "#E5ECF6",
          "polar": {
           "angularaxis": {
            "gridcolor": "white",
            "linecolor": "white",
            "ticks": ""
           },
           "bgcolor": "#E5ECF6",
           "radialaxis": {
            "gridcolor": "white",
            "linecolor": "white",
            "ticks": ""
           }
          },
          "scene": {
           "xaxis": {
            "backgroundcolor": "#E5ECF6",
            "gridcolor": "white",
            "gridwidth": 2,
            "linecolor": "white",
            "showbackground": true,
            "ticks": "",
            "zerolinecolor": "white"
           },
           "yaxis": {
            "backgroundcolor": "#E5ECF6",
            "gridcolor": "white",
            "gridwidth": 2,
            "linecolor": "white",
            "showbackground": true,
            "ticks": "",
            "zerolinecolor": "white"
           },
           "zaxis": {
            "backgroundcolor": "#E5ECF6",
            "gridcolor": "white",
            "gridwidth": 2,
            "linecolor": "white",
            "showbackground": true,
            "ticks": "",
            "zerolinecolor": "white"
           }
          },
          "shapedefaults": {
           "line": {
            "color": "#2a3f5f"
           }
          },
          "ternary": {
           "aaxis": {
            "gridcolor": "white",
            "linecolor": "white",
            "ticks": ""
           },
           "baxis": {
            "gridcolor": "white",
            "linecolor": "white",
            "ticks": ""
           },
           "bgcolor": "#E5ECF6",
           "caxis": {
            "gridcolor": "white",
            "linecolor": "white",
            "ticks": ""
           }
          },
          "title": {
           "x": 0.05
          },
          "xaxis": {
           "automargin": true,
           "gridcolor": "white",
           "linecolor": "white",
           "ticks": "",
           "title": {
            "standoff": 15
           },
           "zerolinecolor": "white",
           "zerolinewidth": 2
          },
          "yaxis": {
           "automargin": true,
           "gridcolor": "white",
           "linecolor": "white",
           "ticks": "",
           "title": {
            "standoff": 15
           },
           "zerolinecolor": "white",
           "zerolinewidth": 2
          }
         }
        },
        "title": {
         "text": "Pixel Move"
        }
       }
      }
     },
     "metadata": {},
     "output_type": "display_data"
    }
   ],
   "source": [
    "fig = go.Figure()\n",
    "x: np.ndarray = np.arange(len(df))\n",
    "\n",
    "y = df[\"y\"]\n",
    "# 添加3组不同的数据\n",
    "fig.add_trace(\n",
    "    go.Scatter(\n",
    "        x=x,\n",
    "        y=y,\n",
    "        name=\"original\",  # 名字\n",
    "        mode=\"lines\",  # ['lines', 'markers', 'text'] joined with '+' characters\n",
    "        hoverinfo=\"y\",  # 鼠标悬停显示的数据\n",
    "    )\n",
    ")\n",
    "\n",
    "fig.update_layout(height=600, title=\"Pixel Move\")\n",
    "\n",
    "fig.show()"
   ]
  },
  {
   "cell_type": "code",
   "execution_count": 95,
   "id": "2115b6a2",
   "metadata": {},
   "outputs": [],
   "source": [
    "# 计算指数加权移动标准差\n",
    "df[\"alpha_0.3\"] = df[\"y\"].ewm(alpha=0.3, adjust=False).mean()\n",
    "\n",
    "# 计算 5 日指数加权移动平均 (EMA)\n",
    "df[\"ema_5\"] = df[\"y\"].ewm(span=5, adjust=False).mean()\n",
    "\n",
    "# 计算重心为 0.5 的指数加权移动平均\n",
    "df[\"com_0.5\"] = df[\"y\"].ewm(com=0.5, adjust=False).mean()\n",
    "\n",
    "# 计算指数加权移动标准差\n",
    "df[\"halflife_5\"] = df[\"y\"].ewm(halflife=5, adjust=False).mean()"
   ]
  },
  {
   "cell_type": "code",
   "execution_count": 96,
   "id": "6cca586b",
   "metadata": {},
   "outputs": [],
   "source": [
    "def moment(old: float, new: float, beta: float = 0.7):\n",
    "    return beta * old + (1 - beta) * new"
   ]
  },
  {
   "cell_type": "code",
   "execution_count": 97,
   "id": "c83756d5",
   "metadata": {},
   "outputs": [
    {
     "name": "stdout",
     "output_type": "stream",
     "text": [
      "306\n"
     ]
    }
   ],
   "source": [
    "def use_moment():\n",
    "    x = df[\"y\"]\n",
    "    y = [x[0]]\n",
    "    for i in range(1, len(x)):\n",
    "        y.append(moment(y[-1], x[i]))\n",
    "    print(len(y))\n",
    "    df[\"beta_0.7\"] = y\n",
    "use_moment()"
   ]
  },
  {
   "cell_type": "code",
   "execution_count": 98,
   "id": "a60e47bd",
   "metadata": {},
   "outputs": [
    {
     "data": {
      "application/vnd.plotly.v1+json": {
       "config": {
        "plotlyServerURL": "https://plot.ly"
       },
       "data": [
        {
         "hoverinfo": "y",
         "mode": "lines",
         "name": "original",
         "type": "scatter",
         "x": {
          "bdata": "AAABAAIAAwAEAAUABgAHAAgACQAKAAsADAANAA4ADwAQABEAEgATABQAFQAWABcAGAAZABoAGwAcAB0AHgAfACAAIQAiACMAJAAlACYAJwAoACkAKgArACwALQAuAC8AMAAxADIAMwA0ADUANgA3ADgAOQA6ADsAPAA9AD4APwBAAEEAQgBDAEQARQBGAEcASABJAEoASwBMAE0ATgBPAFAAUQBSAFMAVABVAFYAVwBYAFkAWgBbAFwAXQBeAF8AYABhAGIAYwBkAGUAZgBnAGgAaQBqAGsAbABtAG4AbwBwAHEAcgBzAHQAdQB2AHcAeAB5AHoAewB8AH0AfgB/AIAAgQCCAIMAhACFAIYAhwCIAIkAigCLAIwAjQCOAI8AkACRAJIAkwCUAJUAlgCXAJgAmQCaAJsAnACdAJ4AnwCgAKEAogCjAKQApQCmAKcAqACpAKoAqwCsAK0ArgCvALAAsQCyALMAtAC1ALYAtwC4ALkAugC7ALwAvQC+AL8AwADBAMIAwwDEAMUAxgDHAMgAyQDKAMsAzADNAM4AzwDQANEA0gDTANQA1QDWANcA2ADZANoA2wDcAN0A3gDfAOAA4QDiAOMA5ADlAOYA5wDoAOkA6gDrAOwA7QDuAO8A8ADxAPIA8wD0APUA9gD3APgA+QD6APsA/AD9AP4A/wAAAQEBAgEDAQQBBQEGAQcBCAEJAQoBCwEMAQ0BDgEPARABEQESARMBFAEVARYBFwEYARkBGgEbARwBHQEeAR8BIAEhASIBIwEkASUBJgEnASgBKQEqASsBLAEtAS4BLwEwATEB",
          "dtype": "i2"
         },
         "y": {
          "bdata": "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",
          "dtype": "f8"
         }
        },
        {
         "hoverinfo": "y",
         "mode": "lines",
         "name": "alpha_0.3",
         "type": "scatter",
         "x": {
          "bdata": "AAABAAIAAwAEAAUABgAHAAgACQAKAAsADAANAA4ADwAQABEAEgATABQAFQAWABcAGAAZABoAGwAcAB0AHgAfACAAIQAiACMAJAAlACYAJwAoACkAKgArACwALQAuAC8AMAAxADIAMwA0ADUANgA3ADgAOQA6ADsAPAA9AD4APwBAAEEAQgBDAEQARQBGAEcASABJAEoASwBMAE0ATgBPAFAAUQBSAFMAVABVAFYAVwBYAFkAWgBbAFwAXQBeAF8AYABhAGIAYwBkAGUAZgBnAGgAaQBqAGsAbABtAG4AbwBwAHEAcgBzAHQAdQB2AHcAeAB5AHoAewB8AH0AfgB/AIAAgQCCAIMAhACFAIYAhwCIAIkAigCLAIwAjQCOAI8AkACRAJIAkwCUAJUAlgCXAJgAmQCaAJsAnACdAJ4AnwCgAKEAogCjAKQApQCmAKcAqACpAKoAqwCsAK0ArgCvALAAsQCyALMAtAC1ALYAtwC4ALkAugC7ALwAvQC+AL8AwADBAMIAwwDEAMUAxgDHAMgAyQDKAMsAzADNAM4AzwDQANEA0gDTANQA1QDWANcA2ADZANoA2wDcAN0A3gDfAOAA4QDiAOMA5ADlAOYA5wDoAOkA6gDrAOwA7QDuAO8A8ADxAPIA8wD0APUA9gD3APgA+QD6APsA/AD9AP4A/wAAAQEBAgEDAQQBBQEGAQcBCAEJAQoBCwEMAQ0BDgEPARABEQESARMBFAEVARYBFwEYARkBGgEbARwBHQEeAR8BIAEhASIBIwEkASUBJgEnASgBKQEqASsBLAEtAS4BLwEwATEB",
          "dtype": "i2"
         },
         "y": {
          "bdata": "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",
          "dtype": "f8"
         }
        },
        {
         "hoverinfo": "y",
         "mode": "lines",
         "name": "ema_5",
         "type": "scatter",
         "x": {
          "bdata": "AAABAAIAAwAEAAUABgAHAAgACQAKAAsADAANAA4ADwAQABEAEgATABQAFQAWABcAGAAZABoAGwAcAB0AHgAfACAAIQAiACMAJAAlACYAJwAoACkAKgArACwALQAuAC8AMAAxADIAMwA0ADUANgA3ADgAOQA6ADsAPAA9AD4APwBAAEEAQgBDAEQARQBGAEcASABJAEoASwBMAE0ATgBPAFAAUQBSAFMAVABVAFYAVwBYAFkAWgBbAFwAXQBeAF8AYABhAGIAYwBkAGUAZgBnAGgAaQBqAGsAbABtAG4AbwBwAHEAcgBzAHQAdQB2AHcAeAB5AHoAewB8AH0AfgB/AIAAgQCCAIMAhACFAIYAhwCIAIkAigCLAIwAjQCOAI8AkACRAJIAkwCUAJUAlgCXAJgAmQCaAJsAnACdAJ4AnwCgAKEAogCjAKQApQCmAKcAqACpAKoAqwCsAK0ArgCvALAAsQCyALMAtAC1ALYAtwC4ALkAugC7ALwAvQC+AL8AwADBAMIAwwDEAMUAxgDHAMgAyQDKAMsAzADNAM4AzwDQANEA0gDTANQA1QDWANcA2ADZANoA2wDcAN0A3gDfAOAA4QDiAOMA5ADlAOYA5wDoAOkA6gDrAOwA7QDuAO8A8ADxAPIA8wD0APUA9gD3APgA+QD6APsA/AD9AP4A/wAAAQEBAgEDAQQBBQEGAQcBCAEJAQoBCwEMAQ0BDgEPARABEQESARMBFAEVARYBFwEYARkBGgEbARwBHQEeAR8BIAEhASIBIwEkASUBJgEnASgBKQEqASsBLAEtAS4BLwEwATEB",
          "dtype": "i2"
         },
         "y": {
          "bdata": "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",
          "dtype": "f8"
         }
        },
        {
         "hoverinfo": "y",
         "mode": "lines",
         "name": "com_0.5",
         "type": "scatter",
         "x": {
          "bdata": "AAABAAIAAwAEAAUABgAHAAgACQAKAAsADAANAA4ADwAQABEAEgATABQAFQAWABcAGAAZABoAGwAcAB0AHgAfACAAIQAiACMAJAAlACYAJwAoACkAKgArACwALQAuAC8AMAAxADIAMwA0ADUANgA3ADgAOQA6ADsAPAA9AD4APwBAAEEAQgBDAEQARQBGAEcASABJAEoASwBMAE0ATgBPAFAAUQBSAFMAVABVAFYAVwBYAFkAWgBbAFwAXQBeAF8AYABhAGIAYwBkAGUAZgBnAGgAaQBqAGsAbABtAG4AbwBwAHEAcgBzAHQAdQB2AHcAeAB5AHoAewB8AH0AfgB/AIAAgQCCAIMAhACFAIYAhwCIAIkAigCLAIwAjQCOAI8AkACRAJIAkwCUAJUAlgCXAJgAmQCaAJsAnACdAJ4AnwCgAKEAogCjAKQApQCmAKcAqACpAKoAqwCsAK0ArgCvALAAsQCyALMAtAC1ALYAtwC4ALkAugC7ALwAvQC+AL8AwADBAMIAwwDEAMUAxgDHAMgAyQDKAMsAzADNAM4AzwDQANEA0gDTANQA1QDWANcA2ADZANoA2wDcAN0A3gDfAOAA4QDiAOMA5ADlAOYA5wDoAOkA6gDrAOwA7QDuAO8A8ADxAPIA8wD0APUA9gD3APgA+QD6APsA/AD9AP4A/wAAAQEBAgEDAQQBBQEGAQcBCAEJAQoBCwEMAQ0BDgEPARABEQESARMBFAEVARYBFwEYARkBGgEbARwBHQEeAR8BIAEhASIBIwEkASUBJgEnASgBKQEqASsBLAEtAS4BLwEwATEB",
          "dtype": "i2"
         },
         "y": {
          "bdata": "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",
          "dtype": "f8"
         }
        },
        {
         "hoverinfo": "y",
         "mode": "lines",
         "name": "halflife_5",
         "type": "scatter",
         "x": {
          "bdata": "AAABAAIAAwAEAAUABgAHAAgACQAKAAsADAANAA4ADwAQABEAEgATABQAFQAWABcAGAAZABoAGwAcAB0AHgAfACAAIQAiACMAJAAlACYAJwAoACkAKgArACwALQAuAC8AMAAxADIAMwA0ADUANgA3ADgAOQA6ADsAPAA9AD4APwBAAEEAQgBDAEQARQBGAEcASABJAEoASwBMAE0ATgBPAFAAUQBSAFMAVABVAFYAVwBYAFkAWgBbAFwAXQBeAF8AYABhAGIAYwBkAGUAZgBnAGgAaQBqAGsAbABtAG4AbwBwAHEAcgBzAHQAdQB2AHcAeAB5AHoAewB8AH0AfgB/AIAAgQCCAIMAhACFAIYAhwCIAIkAigCLAIwAjQCOAI8AkACRAJIAkwCUAJUAlgCXAJgAmQCaAJsAnACdAJ4AnwCgAKEAogCjAKQApQCmAKcAqACpAKoAqwCsAK0ArgCvALAAsQCyALMAtAC1ALYAtwC4ALkAugC7ALwAvQC+AL8AwADBAMIAwwDEAMUAxgDHAMgAyQDKAMsAzADNAM4AzwDQANEA0gDTANQA1QDWANcA2ADZANoA2wDcAN0A3gDfAOAA4QDiAOMA5ADlAOYA5wDoAOkA6gDrAOwA7QDuAO8A8ADxAPIA8wD0APUA9gD3APgA+QD6APsA/AD9AP4A/wAAAQEBAgEDAQQBBQEGAQcBCAEJAQoBCwEMAQ0BDgEPARABEQESARMBFAEVARYBFwEYARkBGgEbARwBHQEeAR8BIAEhASIBIwEkASUBJgEnASgBKQEqASsBLAEtAS4BLwEwATEB",
          "dtype": "i2"
         },
         "y": {
          "bdata": "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",
          "dtype": "f8"
         }
        },
        {
         "hoverinfo": "y",
         "mode": "lines",
         "name": "beta_0.7",
         "type": "scatter",
         "x": {
          "bdata": "AAABAAIAAwAEAAUABgAHAAgACQAKAAsADAANAA4ADwAQABEAEgATABQAFQAWABcAGAAZABoAGwAcAB0AHgAfACAAIQAiACMAJAAlACYAJwAoACkAKgArACwALQAuAC8AMAAxADIAMwA0ADUANgA3ADgAOQA6ADsAPAA9AD4APwBAAEEAQgBDAEQARQBGAEcASABJAEoASwBMAE0ATgBPAFAAUQBSAFMAVABVAFYAVwBYAFkAWgBbAFwAXQBeAF8AYABhAGIAYwBkAGUAZgBnAGgAaQBqAGsAbABtAG4AbwBwAHEAcgBzAHQAdQB2AHcAeAB5AHoAewB8AH0AfgB/AIAAgQCCAIMAhACFAIYAhwCIAIkAigCLAIwAjQCOAI8AkACRAJIAkwCUAJUAlgCXAJgAmQCaAJsAnACdAJ4AnwCgAKEAogCjAKQApQCmAKcAqACpAKoAqwCsAK0ArgCvALAAsQCyALMAtAC1ALYAtwC4ALkAugC7ALwAvQC+AL8AwADBAMIAwwDEAMUAxgDHAMgAyQDKAMsAzADNAM4AzwDQANEA0gDTANQA1QDWANcA2ADZANoA2wDcAN0A3gDfAOAA4QDiAOMA5ADlAOYA5wDoAOkA6gDrAOwA7QDuAO8A8ADxAPIA8wD0APUA9gD3APgA+QD6APsA/AD9AP4A/wAAAQEBAgEDAQQBBQEGAQcBCAEJAQoBCwEMAQ0BDgEPARABEQESARMBFAEVARYBFwEYARkBGgEbARwBHQEeAR8BIAEhASIBIwEkASUBJgEnASgBKQEqASsBLAEtAS4BLwEwATEB",
          "dtype": "i2"
         },
         "y": {
          "bdata": "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",
          "dtype": "f8"
         }
        }
       ],
       "layout": {
        "height": 600,
        "template": {
         "data": {
          "bar": [
           {
            "error_x": {
             "color": "#2a3f5f"
            },
            "error_y": {
             "color": "#2a3f5f"
            },
            "marker": {
             "line": {
              "color": "#E5ECF6",
              "width": 0.5
             },
             "pattern": {
              "fillmode": "overlay",
              "size": 10,
              "solidity": 0.2
             }
            },
            "type": "bar"
           }
          ],
          "barpolar": [
           {
            "marker": {
             "line": {
              "color": "#E5ECF6",
              "width": 0.5
             },
             "pattern": {
              "fillmode": "overlay",
              "size": 10,
              "solidity": 0.2
             }
            },
            "type": "barpolar"
           }
          ],
          "carpet": [
           {
            "aaxis": {
             "endlinecolor": "#2a3f5f",
             "gridcolor": "white",
             "linecolor": "white",
             "minorgridcolor": "white",
             "startlinecolor": "#2a3f5f"
            },
            "baxis": {
             "endlinecolor": "#2a3f5f",
             "gridcolor": "white",
             "linecolor": "white",
             "minorgridcolor": "white",
             "startlinecolor": "#2a3f5f"
            },
            "type": "carpet"
           }
          ],
          "choropleth": [
           {
            "colorbar": {
             "outlinewidth": 0,
             "ticks": ""
            },
            "type": "choropleth"
           }
          ],
          "contour": [
           {
            "colorbar": {
             "outlinewidth": 0,
             "ticks": ""
            },
            "colorscale": [
             [
              0,
              "#0d0887"
             ],
             [
              0.1111111111111111,
              "#46039f"
             ],
             [
              0.2222222222222222,
              "#7201a8"
             ],
             [
              0.3333333333333333,
              "#9c179e"
             ],
             [
              0.4444444444444444,
              "#bd3786"
             ],
             [
              0.5555555555555556,
              "#d8576b"
             ],
             [
              0.6666666666666666,
              "#ed7953"
             ],
             [
              0.7777777777777778,
              "#fb9f3a"
             ],
             [
              0.8888888888888888,
              "#fdca26"
             ],
             [
              1,
              "#f0f921"
             ]
            ],
            "type": "contour"
           }
          ],
          "contourcarpet": [
           {
            "colorbar": {
             "outlinewidth": 0,
             "ticks": ""
            },
            "type": "contourcarpet"
           }
          ],
          "heatmap": [
           {
            "colorbar": {
             "outlinewidth": 0,
             "ticks": ""
            },
            "colorscale": [
             [
              0,
              "#0d0887"
             ],
             [
              0.1111111111111111,
              "#46039f"
             ],
             [
              0.2222222222222222,
              "#7201a8"
             ],
             [
              0.3333333333333333,
              "#9c179e"
             ],
             [
              0.4444444444444444,
              "#bd3786"
             ],
             [
              0.5555555555555556,
              "#d8576b"
             ],
             [
              0.6666666666666666,
              "#ed7953"
             ],
             [
              0.7777777777777778,
              "#fb9f3a"
             ],
             [
              0.8888888888888888,
              "#fdca26"
             ],
             [
              1,
              "#f0f921"
             ]
            ],
            "type": "heatmap"
           }
          ],
          "histogram": [
           {
            "marker": {
             "pattern": {
              "fillmode": "overlay",
              "size": 10,
              "solidity": 0.2
             }
            },
            "type": "histogram"
           }
          ],
          "histogram2d": [
           {
            "colorbar": {
             "outlinewidth": 0,
             "ticks": ""
            },
            "colorscale": [
             [
              0,
              "#0d0887"
             ],
             [
              0.1111111111111111,
              "#46039f"
             ],
             [
              0.2222222222222222,
              "#7201a8"
             ],
             [
              0.3333333333333333,
              "#9c179e"
             ],
             [
              0.4444444444444444,
              "#bd3786"
             ],
             [
              0.5555555555555556,
              "#d8576b"
             ],
             [
              0.6666666666666666,
              "#ed7953"
             ],
             [
              0.7777777777777778,
              "#fb9f3a"
             ],
             [
              0.8888888888888888,
              "#fdca26"
             ],
             [
              1,
              "#f0f921"
             ]
            ],
            "type": "histogram2d"
           }
          ],
          "histogram2dcontour": [
           {
            "colorbar": {
             "outlinewidth": 0,
             "ticks": ""
            },
            "colorscale": [
             [
              0,
              "#0d0887"
             ],
             [
              0.1111111111111111,
              "#46039f"
             ],
             [
              0.2222222222222222,
              "#7201a8"
             ],
             [
              0.3333333333333333,
              "#9c179e"
             ],
             [
              0.4444444444444444,
              "#bd3786"
             ],
             [
              0.5555555555555556,
              "#d8576b"
             ],
             [
              0.6666666666666666,
              "#ed7953"
             ],
             [
              0.7777777777777778,
              "#fb9f3a"
             ],
             [
              0.8888888888888888,
              "#fdca26"
             ],
             [
              1,
              "#f0f921"
             ]
            ],
            "type": "histogram2dcontour"
           }
          ],
          "mesh3d": [
           {
            "colorbar": {
             "outlinewidth": 0,
             "ticks": ""
            },
            "type": "mesh3d"
           }
          ],
          "parcoords": [
           {
            "line": {
             "colorbar": {
              "outlinewidth": 0,
              "ticks": ""
             }
            },
            "type": "parcoords"
           }
          ],
          "pie": [
           {
            "automargin": true,
            "type": "pie"
           }
          ],
          "scatter": [
           {
            "fillpattern": {
             "fillmode": "overlay",
             "size": 10,
             "solidity": 0.2
            },
            "type": "scatter"
           }
          ],
          "scatter3d": [
           {
            "line": {
             "colorbar": {
              "outlinewidth": 0,
              "ticks": ""
             }
            },
            "marker": {
             "colorbar": {
              "outlinewidth": 0,
              "ticks": ""
             }
            },
            "type": "scatter3d"
           }
          ],
          "scattercarpet": [
           {
            "marker": {
             "colorbar": {
              "outlinewidth": 0,
              "ticks": ""
             }
            },
            "type": "scattercarpet"
           }
          ],
          "scattergeo": [
           {
            "marker": {
             "colorbar": {
              "outlinewidth": 0,
              "ticks": ""
             }
            },
            "type": "scattergeo"
           }
          ],
          "scattergl": [
           {
            "marker": {
             "colorbar": {
              "outlinewidth": 0,
              "ticks": ""
             }
            },
            "type": "scattergl"
           }
          ],
          "scattermap": [
           {
            "marker": {
             "colorbar": {
              "outlinewidth": 0,
              "ticks": ""
             }
            },
            "type": "scattermap"
           }
          ],
          "scattermapbox": [
           {
            "marker": {
             "colorbar": {
              "outlinewidth": 0,
              "ticks": ""
             }
            },
            "type": "scattermapbox"
           }
          ],
          "scatterpolar": [
           {
            "marker": {
             "colorbar": {
              "outlinewidth": 0,
              "ticks": ""
             }
            },
            "type": "scatterpolar"
           }
          ],
          "scatterpolargl": [
           {
            "marker": {
             "colorbar": {
              "outlinewidth": 0,
              "ticks": ""
             }
            },
            "type": "scatterpolargl"
           }
          ],
          "scatterternary": [
           {
            "marker": {
             "colorbar": {
              "outlinewidth": 0,
              "ticks": ""
             }
            },
            "type": "scatterternary"
           }
          ],
          "surface": [
           {
            "colorbar": {
             "outlinewidth": 0,
             "ticks": ""
            },
            "colorscale": [
             [
              0,
              "#0d0887"
             ],
             [
              0.1111111111111111,
              "#46039f"
             ],
             [
              0.2222222222222222,
              "#7201a8"
             ],
             [
              0.3333333333333333,
              "#9c179e"
             ],
             [
              0.4444444444444444,
              "#bd3786"
             ],
             [
              0.5555555555555556,
              "#d8576b"
             ],
             [
              0.6666666666666666,
              "#ed7953"
             ],
             [
              0.7777777777777778,
              "#fb9f3a"
             ],
             [
              0.8888888888888888,
              "#fdca26"
             ],
             [
              1,
              "#f0f921"
             ]
            ],
            "type": "surface"
           }
          ],
          "table": [
           {
            "cells": {
             "fill": {
              "color": "#EBF0F8"
             },
             "line": {
              "color": "white"
             }
            },
            "header": {
             "fill": {
              "color": "#C8D4E3"
             },
             "line": {
              "color": "white"
             }
            },
            "type": "table"
           }
          ]
         },
         "layout": {
          "annotationdefaults": {
           "arrowcolor": "#2a3f5f",
           "arrowhead": 0,
           "arrowwidth": 1
          },
          "autotypenumbers": "strict",
          "coloraxis": {
           "colorbar": {
            "outlinewidth": 0,
            "ticks": ""
           }
          },
          "colorscale": {
           "diverging": [
            [
             0,
             "#8e0152"
            ],
            [
             0.1,
             "#c51b7d"
            ],
            [
             0.2,
             "#de77ae"
            ],
            [
             0.3,
             "#f1b6da"
            ],
            [
             0.4,
             "#fde0ef"
            ],
            [
             0.5,
             "#f7f7f7"
            ],
            [
             0.6,
             "#e6f5d0"
            ],
            [
             0.7,
             "#b8e186"
            ],
            [
             0.8,
             "#7fbc41"
            ],
            [
             0.9,
             "#4d9221"
            ],
            [
             1,
             "#276419"
            ]
           ],
           "sequential": [
            [
             0,
             "#0d0887"
            ],
            [
             0.1111111111111111,
             "#46039f"
            ],
            [
             0.2222222222222222,
             "#7201a8"
            ],
            [
             0.3333333333333333,
             "#9c179e"
            ],
            [
             0.4444444444444444,
             "#bd3786"
            ],
            [
             0.5555555555555556,
             "#d8576b"
            ],
            [
             0.6666666666666666,
             "#ed7953"
            ],
            [
             0.7777777777777778,
             "#fb9f3a"
            ],
            [
             0.8888888888888888,
             "#fdca26"
            ],
            [
             1,
             "#f0f921"
            ]
           ],
           "sequentialminus": [
            [
             0,
             "#0d0887"
            ],
            [
             0.1111111111111111,
             "#46039f"
            ],
            [
             0.2222222222222222,
             "#7201a8"
            ],
            [
             0.3333333333333333,
             "#9c179e"
            ],
            [
             0.4444444444444444,
             "#bd3786"
            ],
            [
             0.5555555555555556,
             "#d8576b"
            ],
            [
             0.6666666666666666,
             "#ed7953"
            ],
            [
             0.7777777777777778,
             "#fb9f3a"
            ],
            [
             0.8888888888888888,
             "#fdca26"
            ],
            [
             1,
             "#f0f921"
            ]
           ]
          },
          "colorway": [
           "#636efa",
           "#EF553B",
           "#00cc96",
           "#ab63fa",
           "#FFA15A",
           "#19d3f3",
           "#FF6692",
           "#B6E880",
           "#FF97FF",
           "#FECB52"
          ],
          "font": {
           "color": "#2a3f5f"
          },
          "geo": {
           "bgcolor": "white",
           "lakecolor": "white",
           "landcolor": "#E5ECF6",
           "showlakes": true,
           "showland": true,
           "subunitcolor": "white"
          },
          "hoverlabel": {
           "align": "left"
          },
          "hovermode": "closest",
          "mapbox": {
           "style": "light"
          },
          "paper_bgcolor": "white",
          "plot_bgcolor": "#E5ECF6",
          "polar": {
           "angularaxis": {
            "gridcolor": "white",
            "linecolor": "white",
            "ticks": ""
           },
           "bgcolor": "#E5ECF6",
           "radialaxis": {
            "gridcolor": "white",
            "linecolor": "white",
            "ticks": ""
           }
          },
          "scene": {
           "xaxis": {
            "backgroundcolor": "#E5ECF6",
            "gridcolor": "white",
            "gridwidth": 2,
            "linecolor": "white",
            "showbackground": true,
            "ticks": "",
            "zerolinecolor": "white"
           },
           "yaxis": {
            "backgroundcolor": "#E5ECF6",
            "gridcolor": "white",
            "gridwidth": 2,
            "linecolor": "white",
            "showbackground": true,
            "ticks": "",
            "zerolinecolor": "white"
           },
           "zaxis": {
            "backgroundcolor": "#E5ECF6",
            "gridcolor": "white",
            "gridwidth": 2,
            "linecolor": "white",
            "showbackground": true,
            "ticks": "",
            "zerolinecolor": "white"
           }
          },
          "shapedefaults": {
           "line": {
            "color": "#2a3f5f"
           }
          },
          "ternary": {
           "aaxis": {
            "gridcolor": "white",
            "linecolor": "white",
            "ticks": ""
           },
           "baxis": {
            "gridcolor": "white",
            "linecolor": "white",
            "ticks": ""
           },
           "bgcolor": "#E5ECF6",
           "caxis": {
            "gridcolor": "white",
            "linecolor": "white",
            "ticks": ""
           }
          },
          "title": {
           "x": 0.05
          },
          "xaxis": {
           "automargin": true,
           "gridcolor": "white",
           "linecolor": "white",
           "ticks": "",
           "title": {
            "standoff": 15
           },
           "zerolinecolor": "white",
           "zerolinewidth": 2
          },
          "yaxis": {
           "automargin": true,
           "gridcolor": "white",
           "linecolor": "white",
           "ticks": "",
           "title": {
            "standoff": 15
           },
           "zerolinecolor": "white",
           "zerolinewidth": 2
          }
         }
        },
        "title": {
         "text": "ewm compare"
        }
       }
      }
     },
     "metadata": {},
     "output_type": "display_data"
    }
   ],
   "source": [
    "fig = go.Figure()\n",
    "x: np.ndarray = np.arange(len(df))\n",
    "\n",
    "fig.add_trace(\n",
    "    go.Scatter(\n",
    "        x=x,\n",
    "        y=df[\"y\"],\n",
    "        name=\"original\",  # 名字\n",
    "        mode=\"lines\",  # ['lines', 'markers', 'text'] joined with '+' characters\n",
    "        hoverinfo=\"y\",  # 鼠标悬停显示的数据\n",
    "    )\n",
    ")\n",
    "\n",
    "fig.add_trace(\n",
    "    go.Scatter(\n",
    "        x=x,\n",
    "        y=df[\"alpha_0.3\"],\n",
    "        name=\"alpha_0.3\",  # 名字\n",
    "        mode=\"lines\",  # ['lines', 'markers', 'text'] joined with '+' characters\n",
    "        hoverinfo=\"y\",  # 鼠标悬停显示的数据\n",
    "    )\n",
    ")\n",
    "\n",
    "fig.add_trace(\n",
    "    go.Scatter(\n",
    "        x=x,\n",
    "        y=df[\"ema_5\"],\n",
    "        name=\"ema_5\",  # 名字\n",
    "        mode=\"lines\",  # ['lines', 'markers', 'text'] joined with '+' characters\n",
    "        hoverinfo=\"y\",  # 鼠标悬停显示的数据\n",
    "    )\n",
    ")\n",
    "\n",
    "fig.add_trace(\n",
    "    go.Scatter(\n",
    "        x=x,\n",
    "        y=df[\"com_0.5\"],\n",
    "        name=\"com_0.5\",  # 名字\n",
    "        mode=\"lines\",  # ['lines', 'markers', 'text'] joined with '+' characters\n",
    "        hoverinfo=\"y\",  # 鼠标悬停显示的数据\n",
    "    )\n",
    ")\n",
    "\n",
    "fig.add_trace(\n",
    "    go.Scatter(\n",
    "        x=x,\n",
    "        y=df[\"halflife_5\"],\n",
    "        name=\"halflife_5\",  # 名字\n",
    "        mode=\"lines\",  # ['lines', 'markers', 'text'] joined with '+' characters\n",
    "        hoverinfo=\"y\",  # 鼠标悬停显示的数据\n",
    "    )\n",
    ")\n",
    "\n",
    "fig.add_trace(\n",
    "    go.Scatter(\n",
    "        x=x,\n",
    "        y=df[\"beta_0.7\"],\n",
    "        name=\"beta_0.7\",  # 名字\n",
    "        mode=\"lines\",  # ['lines', 'markers', 'text'] joined with '+' characters\n",
    "        hoverinfo=\"y\",  # 鼠标悬停显示的数据\n",
    "    )\n",
    ")\n",
    "\n",
    "fig.update_layout(height=600, title=\"ewm compare\")\n",
    "\n",
    "fig.show()"
   ]
  },
  {
   "cell_type": "code",
   "execution_count": null,
   "id": "f846d662",
   "metadata": {},
   "outputs": [],
   "source": []
  }
 ],
 "metadata": {
  "kernelspec": {
   "display_name": "cv",
   "language": "python",
   "name": "python3"
  },
  "language_info": {
   "codemirror_mode": {
    "name": "ipython",
    "version": 3
   },
   "file_extension": ".py",
   "mimetype": "text/x-python",
   "name": "python",
   "nbconvert_exporter": "python",
   "pygments_lexer": "ipython3",
   "version": "3.11.9"
  }
 },
 "nbformat": 4,
 "nbformat_minor": 5
}
