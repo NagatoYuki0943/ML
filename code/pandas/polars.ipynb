{
 "cells": [
  {
   "cell_type": "markdown",
   "id": "7298d4bb",
   "metadata": {},
   "source": [
    "# 安装\n",
    "\n",
    "https://docs.pola.rs/"
   ]
  },
  {
   "cell_type": "code",
   "execution_count": null,
   "id": "b93faca6",
   "metadata": {},
   "outputs": [],
   "source": [
    "# !pip install polars"
   ]
  },
  {
   "cell_type": "markdown",
   "id": "d06696b9",
   "metadata": {},
   "source": [
    "# 引入"
   ]
  },
  {
   "cell_type": "code",
   "execution_count": 6,
   "id": "5d21c32d",
   "metadata": {},
   "outputs": [],
   "source": [
    "import numpy as np\n",
    "import polars as pl"
   ]
  },
  {
   "cell_type": "markdown",
   "id": "2e1df748",
   "metadata": {},
   "source": [
    "# 使用方式和 pandas 类似，但速度更快"
   ]
  },
  {
   "cell_type": "code",
   "execution_count": 7,
   "id": "9df31d8c",
   "metadata": {},
   "outputs": [
    {
     "data": {
      "text/html": [
       "<div><style>\n",
       ".dataframe > thead > tr,\n",
       ".dataframe > tbody > tr {\n",
       "  text-align: right;\n",
       "  white-space: pre-wrap;\n",
       "}\n",
       "</style>\n",
       "<small>shape: (3, 4)</small><table border=\"1\" class=\"dataframe\"><thead><tr><th>name</th><th>age</th><th>city</th><th>occupation</th></tr><tr><td>str</td><td>i64</td><td>str</td><td>str</td></tr></thead><tbody><tr><td>&quot;Alice&quot;</td><td>25</td><td>&quot;New York&quot;</td><td>null</td></tr><tr><td>&quot;Bob&quot;</td><td>30</td><td>&quot;Paris&quot;</td><td>null</td></tr><tr><td>&quot;Charlie&quot;</td><td>35</td><td>&quot;London&quot;</td><td>&quot;Engineer&quot;</td></tr></tbody></table></div>"
      ],
      "text/plain": [
       "shape: (3, 4)\n",
       "┌─────────┬─────┬──────────┬────────────┐\n",
       "│ name    ┆ age ┆ city     ┆ occupation │\n",
       "│ ---     ┆ --- ┆ ---      ┆ ---        │\n",
       "│ str     ┆ i64 ┆ str      ┆ str        │\n",
       "╞═════════╪═════╪══════════╪════════════╡\n",
       "│ Alice   ┆ 25  ┆ New York ┆ null       │\n",
       "│ Bob     ┆ 30  ┆ Paris    ┆ null       │\n",
       "│ Charlie ┆ 35  ┆ London   ┆ Engineer   │\n",
       "└─────────┴─────┴──────────┴────────────┘"
      ]
     },
     "execution_count": 7,
     "metadata": {},
     "output_type": "execute_result"
    }
   ],
   "source": [
    "df = pl.DataFrame(\n",
    "    [\n",
    "        {\"name\": \"Alice\", \"age\": 25, \"city\": \"New York\"},\n",
    "        {\"name\": \"Bob\", \"age\": 30, \"city\": \"Paris\"},\n",
    "        {\n",
    "            \"name\": \"Charlie\",\n",
    "            \"age\": 35,\n",
    "            \"city\": \"London\",\n",
    "            \"occupation\": \"Engineer\",\n",
    "        },  # 多一列\n",
    "    ]\n",
    ")\n",
    "df.head()"
   ]
  },
  {
   "cell_type": "code",
   "execution_count": null,
   "id": "b4d42c66",
   "metadata": {},
   "outputs": [
    {
     "data": {
      "text/html": [
       "<div><style>\n",
       ".dataframe > thead > tr,\n",
       ".dataframe > tbody > tr {\n",
       "  text-align: right;\n",
       "  white-space: pre-wrap;\n",
       "}\n",
       "</style>\n",
       "<small>shape: (5, 4)</small><table border=\"1\" class=\"dataframe\"><thead><tr><th>column_0</th><th>column_1</th><th>column_2</th><th>column_3</th></tr><tr><td>i32</td><td>i32</td><td>i32</td><td>i32</td></tr></thead><tbody><tr><td>59</td><td>59</td><td>52</td><td>3</td></tr><tr><td>24</td><td>48</td><td>26</td><td>87</td></tr><tr><td>95</td><td>76</td><td>43</td><td>44</td></tr><tr><td>61</td><td>99</td><td>31</td><td>38</td></tr><tr><td>65</td><td>67</td><td>22</td><td>82</td></tr></tbody></table></div>"
      ],
      "text/plain": [
       "shape: (5, 4)\n",
       "┌──────────┬──────────┬──────────┬──────────┐\n",
       "│ column_0 ┆ column_1 ┆ column_2 ┆ column_3 │\n",
       "│ ---      ┆ ---      ┆ ---      ┆ ---      │\n",
       "│ i32      ┆ i32      ┆ i32      ┆ i32      │\n",
       "╞══════════╪══════════╪══════════╪══════════╡\n",
       "│ 59       ┆ 59       ┆ 52       ┆ 3        │\n",
       "│ 24       ┆ 48       ┆ 26       ┆ 87       │\n",
       "│ 95       ┆ 76       ┆ 43       ┆ 44       │\n",
       "│ 61       ┆ 99       ┆ 31       ┆ 38       │\n",
       "│ 65       ┆ 67       ┆ 22       ┆ 82       │\n",
       "└──────────┴──────────┴──────────┴──────────┘"
      ]
     },
     "execution_count": 10,
     "metadata": {},
     "output_type": "execute_result"
    }
   ],
   "source": [
    "# 没有 columns 列名，没有 index 索引参数\n",
    "df = pl.DataFrame(\n",
    "    np.random.randint(0, 100, size=(10, 4)),\n",
    ")\n",
    "df.head()"
   ]
  },
  {
   "cell_type": "code",
   "execution_count": 11,
   "id": "cee24eca",
   "metadata": {},
   "outputs": [
    {
     "data": {
      "text/html": [
       "<div><style>\n",
       ".dataframe > thead > tr,\n",
       ".dataframe > tbody > tr {\n",
       "  text-align: right;\n",
       "  white-space: pre-wrap;\n",
       "}\n",
       "</style>\n",
       "<small>shape: (5, 2)</small><table border=\"1\" class=\"dataframe\"><thead><tr><th>A</th><th>B</th></tr><tr><td>i64</td><td>i64</td></tr></thead><tbody><tr><td>0</td><td>11</td></tr><tr><td>1</td><td>12</td></tr><tr><td>2</td><td>13</td></tr><tr><td>3</td><td>14</td></tr><tr><td>4</td><td>15</td></tr></tbody></table></div>"
      ],
      "text/plain": [
       "shape: (5, 2)\n",
       "┌─────┬─────┐\n",
       "│ A   ┆ B   │\n",
       "│ --- ┆ --- │\n",
       "│ i64 ┆ i64 │\n",
       "╞═════╪═════╡\n",
       "│ 0   ┆ 11  │\n",
       "│ 1   ┆ 12  │\n",
       "│ 2   ┆ 13  │\n",
       "│ 3   ┆ 14  │\n",
       "│ 4   ┆ 15  │\n",
       "└─────┴─────┘"
      ]
     },
     "execution_count": 11,
     "metadata": {},
     "output_type": "execute_result"
    }
   ],
   "source": [
    "df = pl.DataFrame(\n",
    "    {\n",
    "        \"A\": np.arange(10),\n",
    "        \"B\": np.arange(11, 21),\n",
    "    },\n",
    ")\n",
    "df.head()"
   ]
  },
  {
   "cell_type": "code",
   "execution_count": 12,
   "id": "fb982f1d",
   "metadata": {},
   "outputs": [
    {
     "data": {
      "text/html": [
       "<div><style>\n",
       ".dataframe > thead > tr,\n",
       ".dataframe > tbody > tr {\n",
       "  text-align: right;\n",
       "  white-space: pre-wrap;\n",
       "}\n",
       "</style>\n",
       "<small>shape: (1, 2)</small><table border=\"1\" class=\"dataframe\"><thead><tr><th>col1</th><th>col2</th></tr><tr><td>struct[2]</td><td>struct[2]</td></tr></thead><tbody><tr><td>{1,2}</td><td>{10,20}</td></tr></tbody></table></div>"
      ],
      "text/plain": [
       "shape: (1, 2)\n",
       "┌───────────┬───────────┐\n",
       "│ col1      ┆ col2      │\n",
       "│ ---       ┆ ---       │\n",
       "│ struct[2] ┆ struct[2] │\n",
       "╞═══════════╪═══════════╡\n",
       "│ {1,2}     ┆ {10,20}   │\n",
       "└───────────┴───────────┘"
      ]
     },
     "execution_count": 12,
     "metadata": {},
     "output_type": "execute_result"
    }
   ],
   "source": [
    "df = pl.DataFrame({\"col1\": {\"row1\": 1, \"row2\": 2}, \"col2\": {\"row1\": 10, \"row2\": 20}})\n",
    "df.head()"
   ]
  },
  {
   "cell_type": "code",
   "execution_count": 15,
   "id": "0cc81c10",
   "metadata": {},
   "outputs": [
    {
     "data": {
      "text/html": [
       "<div><style>\n",
       ".dataframe > thead > tr,\n",
       ".dataframe > tbody > tr {\n",
       "  text-align: right;\n",
       "  white-space: pre-wrap;\n",
       "}\n",
       "</style>\n",
       "<small>shape: (1, 2)</small><table border=\"1\" class=\"dataframe\"><thead><tr><th>row1</th><th>row2</th></tr><tr><td>struct[2]</td><td>struct[2]</td></tr></thead><tbody><tr><td>{1,10}</td><td>{2,20}</td></tr></tbody></table></div>"
      ],
      "text/plain": [
       "shape: (1, 2)\n",
       "┌───────────┬───────────┐\n",
       "│ row1      ┆ row2      │\n",
       "│ ---       ┆ ---       │\n",
       "│ struct[2] ┆ struct[2] │\n",
       "╞═══════════╪═══════════╡\n",
       "│ {1,10}    ┆ {2,20}    │\n",
       "└───────────┴───────────┘"
      ]
     },
     "execution_count": 15,
     "metadata": {},
     "output_type": "execute_result"
    }
   ],
   "source": [
    "df = pl.DataFrame({\"row1\": {\"col1\": 1, \"col2\": 10}, \"row2\": {\"col1\": 2, \"col2\": 20}})\n",
    "df.head()"
   ]
  },
  {
   "cell_type": "code",
   "execution_count": null,
   "id": "21d77f54",
   "metadata": {},
   "outputs": [],
   "source": []
  }
 ],
 "metadata": {
  "kernelspec": {
   "display_name": "pytorch",
   "language": "python",
   "name": "python3"
  },
  "language_info": {
   "codemirror_mode": {
    "name": "ipython",
    "version": 3
   },
   "file_extension": ".py",
   "mimetype": "text/x-python",
   "name": "python",
   "nbconvert_exporter": "python",
   "pygments_lexer": "ipython3",
   "version": "3.12.9"
  }
 },
 "nbformat": 4,
 "nbformat_minor": 5
}
