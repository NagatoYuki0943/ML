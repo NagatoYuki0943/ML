{
 "cells": [
  {
   "cell_type": "code",
   "execution_count": null,
   "id": "7a435ba8",
   "metadata": {},
   "outputs": [],
   "source": [
    "import numpy as np\n",
    "import plotly.express as px\n",
    "import plotly.graph_objects as go\n",
    "import cv2\n",
    "from PIL import Image"
   ]
  },
  {
   "cell_type": "markdown",
   "id": "46647d17",
   "metadata": {},
   "source": [
    "# 彩色图 np.array"
   ]
  },
  {
   "cell_type": "code",
   "execution_count": null,
   "id": "0ae1ef9c",
   "metadata": {},
   "outputs": [],
   "source": [
    "image_arr1 = cv2.imread(\"images/20250612_120819.jpg\")\n",
    "image_arr1 = cv2.cvtColor(image_arr1, cv2.COLOR_BGR2RGB)\n",
    "image_arr1.shape"
   ]
  },
  {
   "cell_type": "markdown",
   "id": "5a91a237",
   "metadata": {},
   "source": [
    "## px.imshow"
   ]
  },
  {
   "cell_type": "code",
   "execution_count": null,
   "id": "0b0cb6b9",
   "metadata": {},
   "outputs": [],
   "source": [
    "# 使用 px.imshow 显示图片\n",
    "# Plotly Express 会自动处理坐标轴和颜色\n",
    "fig = px.imshow(image_arr1, title=\"Image\")\n",
    "\n",
    "# 默认情况下，imshow 可能会显示一个颜色条，对于普通图片可以隐藏它\n",
    "fig.update_layout(coloraxis_showscale=True)\n",
    "\n",
    "# 调整大小\n",
    "fig.update_layout(\n",
    "    width=500,\n",
    "    height=500,\n",
    ")\n",
    "\n",
    "# 隐藏坐标轴刻度，让图片更干净\n",
    "fig.update_xaxes(showticklabels=False)\n",
    "fig.update_yaxes(showticklabels=False)\n",
    "\n",
    "fig.show()"
   ]
  },
  {
   "cell_type": "markdown",
   "id": "cff8ef44",
   "metadata": {},
   "source": [
    "## go.Image"
   ]
  },
  {
   "cell_type": "code",
   "execution_count": null,
   "id": "454f5b29",
   "metadata": {},
   "outputs": [],
   "source": [
    "image_trace = go.Image(colormodel=\"rgb\", z=image_arr1)"
   ]
  },
  {
   "cell_type": "code",
   "execution_count": null,
   "id": "0c5c1058",
   "metadata": {},
   "outputs": [],
   "source": [
    "fig = go.Figure(image_trace)\n",
    "\n",
    "# 默认情况下，imshow 可能会显示一个颜色条，对于普通图片可以隐藏它\n",
    "fig.update_layout(coloraxis_showscale=True, title=\"Image\")\n",
    "\n",
    "# 调整大小\n",
    "fig.update_layout(\n",
    "    width=500,\n",
    "    height=500,\n",
    ")\n",
    "\n",
    "# 隐藏坐标轴刻度，让图片更干净\n",
    "fig.update_xaxes(showticklabels=False)\n",
    "fig.update_yaxes(showticklabels=False)\n",
    "\n",
    "fig.show()"
   ]
  },
  {
   "cell_type": "markdown",
   "id": "952ed80b",
   "metadata": {},
   "source": [
    "## add_image"
   ]
  },
  {
   "cell_type": "code",
   "execution_count": null,
   "id": "32c4b3e9",
   "metadata": {},
   "outputs": [],
   "source": [
    "fig = go.Figure()\n",
    "\n",
    "fig.add_image(colormodel=\"rgb\", z=image_arr1, opacity=1)\n",
    "\n",
    "# 默认情况下，imshow 可能会显示一个颜色条，对于普通图片可以隐藏它\n",
    "fig.update_layout(coloraxis_showscale=True, title=\"Image\")\n",
    "\n",
    "# 调整大小\n",
    "fig.update_layout(\n",
    "    width=500,\n",
    "    height=500,\n",
    ")\n",
    "\n",
    "# 隐藏坐标轴刻度，让图片更干净\n",
    "fig.update_xaxes(showticklabels=False)\n",
    "fig.update_yaxes(showticklabels=False)\n",
    "\n",
    "fig.show()"
   ]
  },
  {
   "cell_type": "markdown",
   "id": "b8cfb6ff",
   "metadata": {},
   "source": [
    "# 彩色图 PIL.Image (自身就能显示)"
   ]
  },
  {
   "cell_type": "code",
   "execution_count": null,
   "id": "6a052271",
   "metadata": {},
   "outputs": [],
   "source": [
    "pil_image1 = Image.open(\"images/20250615_132031.jpg\")\n",
    "\n",
    "# 下面2行等价\n",
    "# pil_image1 = pil_image1.resize((500, 500))\n",
    "pil_image1.thumbnail((500, 500))\n",
    "\n",
    "pil_image1"
   ]
  },
  {
   "cell_type": "code",
   "execution_count": null,
   "id": "6eb3d345",
   "metadata": {},
   "outputs": [],
   "source": [
    "pil_image1.size"
   ]
  },
  {
   "cell_type": "markdown",
   "id": "2cb3cf19",
   "metadata": {},
   "source": [
    "## px.imshow"
   ]
  },
  {
   "cell_type": "code",
   "execution_count": null,
   "id": "8ef06533",
   "metadata": {},
   "outputs": [],
   "source": [
    "fig = px.imshow(pil_image1, title=\"Image\")\n",
    "\n",
    "# 默认情况下，imshow 可能会显示一个颜色条，对于普通图片可以隐藏它\n",
    "fig.update_layout(coloraxis_showscale=True)\n",
    "\n",
    "# 调整大小\n",
    "fig.update_layout(\n",
    "    width=500,\n",
    "    height=500,\n",
    ")\n",
    "\n",
    "# 隐藏坐标轴刻度，让图片更干净\n",
    "fig.update_xaxes(showticklabels=False)\n",
    "fig.update_yaxes(showticklabels=False)\n",
    "\n",
    "fig.show()"
   ]
  },
  {
   "cell_type": "markdown",
   "id": "b1482115",
   "metadata": {},
   "source": [
    "## go.Image"
   ]
  },
  {
   "cell_type": "code",
   "execution_count": null,
   "id": "1efd0442",
   "metadata": {},
   "outputs": [],
   "source": [
    "image_trace = go.Image(colormodel=\"rgb\", z=pil_image1)"
   ]
  },
  {
   "cell_type": "code",
   "execution_count": null,
   "id": "b76dea83",
   "metadata": {},
   "outputs": [],
   "source": [
    "fig = go.Figure(image_trace)\n",
    "\n",
    "# 默认情况下，imshow 可能会显示一个颜色条，对于普通图片可以隐藏它\n",
    "fig.update_layout(coloraxis_showscale=True, title=\"Image\")\n",
    "\n",
    "# 调整大小\n",
    "fig.update_layout(\n",
    "    width=500,\n",
    "    height=500,\n",
    ")\n",
    "\n",
    "# 隐藏坐标轴刻度，让图片更干净\n",
    "fig.update_xaxes(showticklabels=False)\n",
    "fig.update_yaxes(showticklabels=False)\n",
    "\n",
    "fig.show()"
   ]
  },
  {
   "cell_type": "markdown",
   "id": "e3a251e7",
   "metadata": {},
   "source": [
    "## add_image"
   ]
  },
  {
   "cell_type": "code",
   "execution_count": null,
   "id": "5ee238df",
   "metadata": {},
   "outputs": [],
   "source": [
    "fig = go.Figure()\n",
    "\n",
    "fig.add_image(colormodel=\"rgb\", z=pil_image1, opacity=1)\n",
    "\n",
    "# 默认情况下，imshow 可能会显示一个颜色条，对于普通图片可以隐藏它\n",
    "fig.update_layout(coloraxis_showscale=True, title=\"Image\")\n",
    "\n",
    "# 调整大小\n",
    "fig.update_layout(\n",
    "    width=500,\n",
    "    height=500,\n",
    ")\n",
    "\n",
    "# 隐藏坐标轴刻度，让图片更干净\n",
    "fig.update_xaxes(showticklabels=False)\n",
    "fig.update_yaxes(showticklabels=False)\n",
    "\n",
    "fig.show()"
   ]
  },
  {
   "cell_type": "markdown",
   "id": "64bebbb4",
   "metadata": {},
   "source": [
    "# 显示多层图片"
   ]
  },
  {
   "cell_type": "code",
   "execution_count": null,
   "id": "a5ce21de",
   "metadata": {},
   "outputs": [],
   "source": [
    "image_arr1 = cv2.imread(\"images/20250618_180100.jpg\")\n",
    "image_arr1 = cv2.cvtColor(image_arr1, cv2.COLOR_BGR2RGB)\n",
    "image_arr1.shape"
   ]
  },
  {
   "cell_type": "code",
   "execution_count": null,
   "id": "388df4db",
   "metadata": {},
   "outputs": [],
   "source": [
    "image_arr2 = cv2.imread(\"images/20250627_115720.jpg\")\n",
    "image_arr2 = cv2.cvtColor(image_arr2, cv2.COLOR_BGR2RGB)\n",
    "image_arr2.shape"
   ]
  },
  {
   "cell_type": "code",
   "execution_count": null,
   "id": "029d3d74",
   "metadata": {},
   "outputs": [],
   "source": [
    "fig = go.Figure()\n",
    "\n",
    "fig.add_image(colormodel=\"rgb\", z=image_arr1, opacity=1.0, name=\"Image 1\")\n",
    "fig.add_image(colormodel=\"rgb\", z=image_arr2, opacity=0.5, name=\"Image 2\")\n",
    "\n",
    "# 默认情况下，imshow 可能会显示一个颜色条，对于普通图片可以隐藏它\n",
    "fig.update_layout(coloraxis_showscale=True, title=\"Images\")\n",
    "\n",
    "# 调整大小\n",
    "fig.update_layout(\n",
    "    width=500,\n",
    "    height=500,\n",
    ")\n",
    "\n",
    "# 隐藏坐标轴刻度，让图片更干净\n",
    "fig.update_xaxes(showticklabels=False)\n",
    "fig.update_yaxes(showticklabels=False)\n",
    "\n",
    "fig.show()"
   ]
  },
  {
   "cell_type": "markdown",
   "id": "07a077c5",
   "metadata": {},
   "source": [
    "# 灰度图"
   ]
  },
  {
   "cell_type": "code",
   "execution_count": null,
   "id": "82c3b350",
   "metadata": {},
   "outputs": [],
   "source": [
    "np.random.seed(42)\n",
    "image_gray_arr = np.random.randint(0, 256, size=(10, 10), dtype=np.uint8)"
   ]
  },
  {
   "cell_type": "markdown",
   "id": "0e661941",
   "metadata": {},
   "source": [
    "## px.imshow"
   ]
  },
  {
   "cell_type": "code",
   "execution_count": null,
   "id": "cabc150e",
   "metadata": {},
   "outputs": [],
   "source": [
    "fig = px.imshow(\n",
    "    image_gray_arr,\n",
    "    color_continuous_scale=\"gray\",  # 指定使用灰度颜色映射, 否则就是彩色的\n",
    "    title=\"Displaying a Grayscale NumPy Array\",\n",
    ")\n",
    "\n",
    "# 默认情况下，imshow 可能会显示一个颜色条，对于普通图片可以隐藏它\n",
    "fig.update_layout(coloraxis_showscale=False)\n",
    "\n",
    "# 调整大小\n",
    "fig.update_layout(\n",
    "    width=500,\n",
    "    height=500,\n",
    ")\n",
    "\n",
    "# 隐藏坐标轴刻度，让图片更干净\n",
    "fig.update_xaxes(showticklabels=False)\n",
    "fig.update_yaxes(showticklabels=False)\n",
    "\n",
    "fig.show()"
   ]
  },
  {
   "cell_type": "code",
   "execution_count": null,
   "id": "b3fb88b7",
   "metadata": {},
   "outputs": [],
   "source": [
    "fig = px.imshow(\n",
    "    image_gray_arr,\n",
    "    # color_continuous_scale='gray', # 指定使用灰度颜色映射, 否则就是彩色的\n",
    "    title=\"Displaying a Grayscale NumPy Array\",\n",
    ")\n",
    "\n",
    "# 默认情况下，imshow 可能会显示一个颜色条，对于普通图片可以隐藏它\n",
    "fig.update_layout(coloraxis_showscale=False)\n",
    "\n",
    "# 调整大小\n",
    "fig.update_layout(\n",
    "    width=500,\n",
    "    height=500,\n",
    ")\n",
    "\n",
    "# 隐藏坐标轴刻度，让图片更干净\n",
    "fig.update_xaxes(showticklabels=False)\n",
    "fig.update_yaxes(showticklabels=False)\n",
    "\n",
    "fig.show()"
   ]
  },
  {
   "cell_type": "markdown",
   "id": "060515c0",
   "metadata": {},
   "source": [
    "## go.Heatmap"
   ]
  },
  {
   "cell_type": "code",
   "execution_count": null,
   "id": "386e87e8",
   "metadata": {},
   "outputs": [],
   "source": [
    "# 直接使用 go.Heatmap 并指定 colorscale\n",
    "heatmap_trace = go.Heatmap(\n",
    "    z=image_gray_arr,\n",
    "    colorscale=\"gray\",  # 指定使用灰度颜色映射, 否则就是彩色的\n",
    "    showscale=False,  # 通常我们不希望为图片显示颜色条\n",
    ")\n",
    "\n",
    "fig = go.Figure(data=heatmap_trace)\n",
    "\n",
    "# 调整大小\n",
    "fig.update_layout(\n",
    "    width=500,\n",
    "    height=500,\n",
    ")\n",
    "\n",
    "# 隐藏坐标轴刻度，让图片更干净\n",
    "fig.update_xaxes(showticklabels=False)\n",
    "fig.update_yaxes(showticklabels=False)\n",
    "\n",
    "fig.show()"
   ]
  },
  {
   "cell_type": "code",
   "execution_count": null,
   "id": "328d447f",
   "metadata": {},
   "outputs": [],
   "source": [
    "# 直接使用 go.Heatmap 并指定 colorscale\n",
    "heatmap_trace = go.Heatmap(\n",
    "    z=image_gray_arr,\n",
    "    # colorscale='gray',  # 指定使用灰度颜色映射, 否则就是彩色的\n",
    "    showscale=False,  # 通常我们不希望为图片显示颜色条\n",
    ")\n",
    "\n",
    "fig = go.Figure(data=heatmap_trace)\n",
    "\n",
    "# 调整大小\n",
    "fig.update_layout(\n",
    "    width=500,\n",
    "    height=500,\n",
    ")\n",
    "\n",
    "# 隐藏坐标轴刻度，让图片更干净\n",
    "fig.update_xaxes(showticklabels=False)\n",
    "fig.update_yaxes(showticklabels=False)\n",
    "\n",
    "fig.show()"
   ]
  },
  {
   "cell_type": "markdown",
   "id": "a2514690",
   "metadata": {},
   "source": [
    "## add_heatmap"
   ]
  },
  {
   "cell_type": "code",
   "execution_count": null,
   "id": "d1dbd31e",
   "metadata": {},
   "outputs": [],
   "source": [
    "fig = go.Figure()\n",
    "\n",
    "fig.add_heatmap(\n",
    "    z=image_gray_arr,\n",
    "    colorscale=\"gray\",  # 指定使用灰度颜色映射, 否则就是彩色的\n",
    "    showscale=False,  # 通常我们不希望为图片显示颜色条\n",
    ")\n",
    "\n",
    "# 调整大小\n",
    "fig.update_layout(\n",
    "    width=500,\n",
    "    height=500,\n",
    ")\n",
    "\n",
    "# 隐藏坐标轴刻度，让图片更干净\n",
    "fig.update_xaxes(showticklabels=False)\n",
    "fig.update_yaxes(showticklabels=False)\n",
    "\n",
    "fig.show()"
   ]
  },
  {
   "cell_type": "code",
   "execution_count": null,
   "id": "c6c7ca2a",
   "metadata": {},
   "outputs": [],
   "source": [
    "fig = go.Figure()\n",
    "\n",
    "fig.add_heatmap(\n",
    "    z=image_gray_arr,\n",
    "    # colorscale='gray',  # 指定使用灰度颜色映射, 否则就是彩色的\n",
    "    showscale=False,  # 通常我们不希望为图片显示颜色条\n",
    ")\n",
    "\n",
    "# 调整大小\n",
    "fig.update_layout(\n",
    "    width=500,\n",
    "    height=500,\n",
    ")\n",
    "\n",
    "# 隐藏坐标轴刻度，让图片更干净\n",
    "fig.update_xaxes(showticklabels=False)\n",
    "fig.update_yaxes(showticklabels=False)\n",
    "\n",
    "fig.show()"
   ]
  },
  {
   "cell_type": "markdown",
   "id": "2d069974",
   "metadata": {},
   "source": [
    "## go.Image 强制转换为彩色图"
   ]
  },
  {
   "cell_type": "code",
   "execution_count": null,
   "id": "aa0eb81b",
   "metadata": {},
   "outputs": [],
   "source": [
    "image_color_arr = np.repeat(image_gray_arr[:, :, None], 3, axis=2)\n",
    "image_color_arr.shape"
   ]
  },
  {
   "cell_type": "code",
   "execution_count": null,
   "id": "27ac24c2",
   "metadata": {},
   "outputs": [],
   "source": [
    "image_trace = go.Image(colormodel=\"rgb\", z=image_color_arr)"
   ]
  },
  {
   "cell_type": "code",
   "execution_count": null,
   "id": "de9ee776",
   "metadata": {},
   "outputs": [],
   "source": [
    "fig = go.Figure(image_trace)\n",
    "\n",
    "# 默认情况下，imshow 可能会显示一个颜色条，对于普通图片可以隐藏它\n",
    "fig.update_layout(coloraxis_showscale=True, title=\"Image\")\n",
    "\n",
    "# 调整大小\n",
    "fig.update_layout(\n",
    "    width=500,\n",
    "    height=500,\n",
    ")\n",
    "\n",
    "# 隐藏坐标轴刻度，让图片更干净\n",
    "fig.update_xaxes(showticklabels=False)\n",
    "fig.update_yaxes(showticklabels=False)\n",
    "\n",
    "fig.show()"
   ]
  },
  {
   "cell_type": "markdown",
   "id": "ddc88202",
   "metadata": {},
   "source": [
    "## add_image 强制转换为彩色图"
   ]
  },
  {
   "cell_type": "code",
   "execution_count": null,
   "id": "d557b440",
   "metadata": {},
   "outputs": [],
   "source": [
    "fig = go.Figure()\n",
    "\n",
    "fig.add_image(colormodel=\"rgb\", z=image_color_arr, opacity=1)\n",
    "\n",
    "# 默认情况下，imshow 可能会显示一个颜色条，对于普通图片可以隐藏它\n",
    "fig.update_layout(coloraxis_showscale=True, title=\"Image\")\n",
    "\n",
    "# 调整大小\n",
    "fig.update_layout(\n",
    "    width=500,\n",
    "    height=500,\n",
    ")\n",
    "\n",
    "# 隐藏坐标轴刻度，让图片更干净\n",
    "fig.update_xaxes(showticklabels=False)\n",
    "fig.update_yaxes(showticklabels=False)\n",
    "\n",
    "fig.show()"
   ]
  },
  {
   "cell_type": "markdown",
   "id": "1af33c18",
   "metadata": {},
   "source": [
    "# add_layout_image 作为布局背景图片"
   ]
  },
  {
   "cell_type": "code",
   "execution_count": null,
   "id": "4bd3b140",
   "metadata": {},
   "outputs": [],
   "source": [
    "# 创建一个图表\n",
    "fig = go.Figure()\n",
    "\n",
    "# 在图表上添加一些散点数据\n",
    "fig.add_trace(\n",
    "    go.Scatter(\n",
    "        x=[50, 100, 200],\n",
    "        y=[50, 150, 100],\n",
    "        mode=\"markers+text\",\n",
    "        marker=dict(color=\"red\", size=20),\n",
    "        text=[\"Point A\", \"Point B\", \"Point C\"],\n",
    "        textposition=\"top right\",\n",
    "    )\n",
    ")\n",
    "\n",
    "img_array_fallback = np.arange(256 * 256).reshape(256, 256)\n",
    "pil_image = Image.fromarray(np.uint8(img_array_fallback))\n",
    "\n",
    "# 获取图片的尺寸\n",
    "img_width, img_height = pil_image.size\n",
    "\n",
    "# 将图片添加到布局中\n",
    "fig.add_layout_image(\n",
    "    dict(\n",
    "        source=pil_image,  # 可以是 PIL Image 对象，也可以是图片 URL\n",
    "        xref=\"x\",  # 坐标系参照 x 轴\n",
    "        yref=\"y\",  # 坐标系参照 y 轴\n",
    "        x=0,  # 图片左下角的 x 坐标\n",
    "        y=img_height,  # 图片左下角的 y 坐标 (Plotly y轴向上)\n",
    "        sizex=img_width,  # 图片在 x 轴上的宽度\n",
    "        sizey=img_height,  # 图片在 y 轴上的高度\n",
    "        sizing=\"stretch\",  # 拉伸图片以适应 sizex 和 sizey\n",
    "        opacity=0.7,  # 透明度\n",
    "        layer=\"below\",  # 将图片置于数据点下方\n",
    "    )\n",
    ")\n",
    "\n",
    "# 更新布局以确保图片完全可见\n",
    "fig.update_layout(\n",
    "    title=\"Image as Background\",\n",
    "    xaxis=dict(range=[0, img_width]),\n",
    "    yaxis=dict(range=[0, img_height]),\n",
    ")\n",
    "\n",
    "fig.show()"
   ]
  },
  {
   "cell_type": "code",
   "execution_count": null,
   "id": "4281aa57",
   "metadata": {},
   "outputs": [],
   "source": []
  }
 ],
 "metadata": {
  "kernelspec": {
   "display_name": "cv",
   "language": "python",
   "name": "python3"
  },
  "language_info": {
   "codemirror_mode": {
    "name": "ipython",
    "version": 3
   },
   "file_extension": ".py",
   "mimetype": "text/x-python",
   "name": "python",
   "nbconvert_exporter": "python",
   "pygments_lexer": "ipython3",
   "version": "3.13.5"
  }
 },
 "nbformat": 4,
 "nbformat_minor": 5
}
