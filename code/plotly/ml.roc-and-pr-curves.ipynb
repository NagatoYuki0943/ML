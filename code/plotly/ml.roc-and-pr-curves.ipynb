{
 "cells": [
  {
   "cell_type": "markdown",
   "metadata": {},
   "source": [
    "https://plotly.com/python/roc-and-pr-curves/"
   ]
  },
  {
   "cell_type": "code",
   "execution_count": 103,
   "metadata": {},
   "outputs": [],
   "source": [
    "import numpy as np\n",
    "import plotly.express as px\n",
    "import plotly.graph_objects as go\n",
    "import pandas as pd\n",
    "from sklearn.linear_model import LogisticRegression\n",
    "from sklearn.metrics import (\n",
    "    roc_curve,              # 根据 y_true, y_score 得到roc曲线\n",
    "                            # x: 假正类率 (false postive rate, FPR); y: Recall(true postive rate, TPR)\n",
    "    auc,                    # 根据 x,y 坐标得到roc曲线下的面积\n",
    "    roc_auc_score,          # 根据 y_true,y_score 得到roc曲线下的面积\n",
    "    precision_recall_curve,\n",
    "    average_precision_score,\n",
    ")\n",
    "from sklearn.datasets import make_classification"
   ]
  },
  {
   "cell_type": "markdown",
   "metadata": {},
   "source": [
    "# Preliminary plots\n",
    "\n",
    "Before diving into the receiver operating characteristic (ROC) curve, we will look at two plots that will give some context to the thresholds mechanism behind the ROC and PR curves.\n",
    "\n",
    "In the histogram, we observe that the score spread such that most of the positive labels are binned near 1, and a lot of the negative labels are close to 0. When we set a threshold on the score, all of the bins to its left will be classified as 0's, and everything to the right will be 1's. There are obviously a few outliers, such as negative samples that our model gave a high score, and positive samples with a low score. If we set a threshold right in the middle, those outliers will respectively become false positives and false negatives.\n",
    "\n",
    "As we adjust thresholds, the number of positive positives will increase or decrease, and at the same time the number of true positives will also change; this is shown in the second plot. As you can see, the model seems to perform fairly well, because the true positive rate decreases slowly, whereas the false positive rate decreases sharply as we increase the threshold. Those two lines each represent a dimension of the ROC curve."
   ]
  },
  {
   "cell_type": "code",
   "execution_count": 60,
   "metadata": {},
   "outputs": [],
   "source": [
    "X, y = make_classification(n_samples=500, random_state=0)"
   ]
  },
  {
   "cell_type": "code",
   "execution_count": 61,
   "metadata": {},
   "outputs": [
    {
     "data": {
      "text/html": [
       "<style>#sk-container-id-6 {color: black;}#sk-container-id-6 pre{padding: 0;}#sk-container-id-6 div.sk-toggleable {background-color: white;}#sk-container-id-6 label.sk-toggleable__label {cursor: pointer;display: block;width: 100%;margin-bottom: 0;padding: 0.3em;box-sizing: border-box;text-align: center;}#sk-container-id-6 label.sk-toggleable__label-arrow:before {content: \"▸\";float: left;margin-right: 0.25em;color: #696969;}#sk-container-id-6 label.sk-toggleable__label-arrow:hover:before {color: black;}#sk-container-id-6 div.sk-estimator:hover label.sk-toggleable__label-arrow:before {color: black;}#sk-container-id-6 div.sk-toggleable__content {max-height: 0;max-width: 0;overflow: hidden;text-align: left;background-color: #f0f8ff;}#sk-container-id-6 div.sk-toggleable__content pre {margin: 0.2em;color: black;border-radius: 0.25em;background-color: #f0f8ff;}#sk-container-id-6 input.sk-toggleable__control:checked~div.sk-toggleable__content {max-height: 200px;max-width: 100%;overflow: auto;}#sk-container-id-6 input.sk-toggleable__control:checked~label.sk-toggleable__label-arrow:before {content: \"▾\";}#sk-container-id-6 div.sk-estimator input.sk-toggleable__control:checked~label.sk-toggleable__label {background-color: #d4ebff;}#sk-container-id-6 div.sk-label input.sk-toggleable__control:checked~label.sk-toggleable__label {background-color: #d4ebff;}#sk-container-id-6 input.sk-hidden--visually {border: 0;clip: rect(1px 1px 1px 1px);clip: rect(1px, 1px, 1px, 1px);height: 1px;margin: -1px;overflow: hidden;padding: 0;position: absolute;width: 1px;}#sk-container-id-6 div.sk-estimator {font-family: monospace;background-color: #f0f8ff;border: 1px dotted black;border-radius: 0.25em;box-sizing: border-box;margin-bottom: 0.5em;}#sk-container-id-6 div.sk-estimator:hover {background-color: #d4ebff;}#sk-container-id-6 div.sk-parallel-item::after {content: \"\";width: 100%;border-bottom: 1px solid gray;flex-grow: 1;}#sk-container-id-6 div.sk-label:hover label.sk-toggleable__label {background-color: #d4ebff;}#sk-container-id-6 div.sk-serial::before {content: \"\";position: absolute;border-left: 1px solid gray;box-sizing: border-box;top: 0;bottom: 0;left: 50%;z-index: 0;}#sk-container-id-6 div.sk-serial {display: flex;flex-direction: column;align-items: center;background-color: white;padding-right: 0.2em;padding-left: 0.2em;position: relative;}#sk-container-id-6 div.sk-item {position: relative;z-index: 1;}#sk-container-id-6 div.sk-parallel {display: flex;align-items: stretch;justify-content: center;background-color: white;position: relative;}#sk-container-id-6 div.sk-item::before, #sk-container-id-6 div.sk-parallel-item::before {content: \"\";position: absolute;border-left: 1px solid gray;box-sizing: border-box;top: 0;bottom: 0;left: 50%;z-index: -1;}#sk-container-id-6 div.sk-parallel-item {display: flex;flex-direction: column;z-index: 1;position: relative;background-color: white;}#sk-container-id-6 div.sk-parallel-item:first-child::after {align-self: flex-end;width: 50%;}#sk-container-id-6 div.sk-parallel-item:last-child::after {align-self: flex-start;width: 50%;}#sk-container-id-6 div.sk-parallel-item:only-child::after {width: 0;}#sk-container-id-6 div.sk-dashed-wrapped {border: 1px dashed gray;margin: 0 0.4em 0.5em 0.4em;box-sizing: border-box;padding-bottom: 0.4em;background-color: white;}#sk-container-id-6 div.sk-label label {font-family: monospace;font-weight: bold;display: inline-block;line-height: 1.2em;}#sk-container-id-6 div.sk-label-container {text-align: center;}#sk-container-id-6 div.sk-container {/* jupyter's `normalize.less` sets `[hidden] { display: none; }` but bootstrap.min.css set `[hidden] { display: none !important; }` so we also need the `!important` here to be able to override the default hidden behavior on the sphinx rendered scikit-learn.org. See: https://github.com/scikit-learn/scikit-learn/issues/21755 */display: inline-block !important;position: relative;}#sk-container-id-6 div.sk-text-repr-fallback {display: none;}</style><div id=\"sk-container-id-6\" class=\"sk-top-container\"><div class=\"sk-text-repr-fallback\"><pre>LogisticRegression()</pre><b>In a Jupyter environment, please rerun this cell to show the HTML representation or trust the notebook. <br />On GitHub, the HTML representation is unable to render, please try loading this page with nbviewer.org.</b></div><div class=\"sk-container\" hidden><div class=\"sk-item\"><div class=\"sk-estimator sk-toggleable\"><input class=\"sk-toggleable__control sk-hidden--visually\" id=\"sk-estimator-id-6\" type=\"checkbox\" checked><label for=\"sk-estimator-id-6\" class=\"sk-toggleable__label sk-toggleable__label-arrow\">LogisticRegression</label><div class=\"sk-toggleable__content\"><pre>LogisticRegression()</pre></div></div></div></div></div>"
      ],
      "text/plain": [
       "LogisticRegression()"
      ]
     },
     "execution_count": 61,
     "metadata": {},
     "output_type": "execute_result"
    }
   ],
   "source": [
    "model = LogisticRegression()\n",
    "model.fit(X, y)"
   ]
  },
  {
   "cell_type": "code",
   "execution_count": 62,
   "metadata": {},
   "outputs": [
    {
     "data": {
      "text/plain": [
       "array([0.69570219, 0.93001569, 0.99212056, 0.93671581, 0.93177138,\n",
       "       0.02689803, 0.12747884, 0.07889723, 0.04034918, 0.14588297])"
      ]
     },
     "execution_count": 62,
     "metadata": {},
     "output_type": "execute_result"
    }
   ],
   "source": [
    "y_score = model.predict_proba(X)[:, 1]\n",
    "y_score[:10]"
   ]
  },
  {
   "cell_type": "code",
   "execution_count": 63,
   "metadata": {},
   "outputs": [
    {
     "data": {
      "text/plain": [
       "(array([0.        , 0.        , 0.        , 0.00398406, 0.00398406]),\n",
       " array([0.        , 0.00401606, 0.44578313, 0.44578313, 0.51405622]),\n",
       " array([       inf, 0.99968821, 0.91396378, 0.91108317, 0.88448622]))"
      ]
     },
     "execution_count": 63,
     "metadata": {},
     "output_type": "execute_result"
    }
   ],
   "source": [
    "# False Positive Rate: fpr\n",
    "# True Positive Rate: tpr\n",
    "fpr, tpr, thresholds = roc_curve(y, y_score)\n",
    "fpr[:5], tpr[:5], thresholds[:5]"
   ]
  },
  {
   "cell_type": "code",
   "execution_count": 64,
   "metadata": {},
   "outputs": [
    {
     "data": {
      "text/plain": [
       "0.909902558440935"
      ]
     },
     "execution_count": 64,
     "metadata": {},
     "output_type": "execute_result"
    }
   ],
   "source": [
    "auc_score = auc(fpr, tpr)\n",
    "auc_score"
   ]
  },
  {
   "cell_type": "code",
   "execution_count": 65,
   "metadata": {},
   "outputs": [
    {
     "data": {
      "text/plain": [
       "0.909902558440935"
      ]
     },
     "execution_count": 65,
     "metadata": {},
     "output_type": "execute_result"
    }
   ],
   "source": [
    "# roc_auc_score = roc_curve + auc\n",
    "roc_auc_score(y, y_score)"
   ]
  },
  {
   "cell_type": "code",
   "execution_count": 66,
   "metadata": {},
   "outputs": [
    {
     "data": {
      "application/vnd.plotly.v1+json": {
       "config": {
        "plotlyServerURL": "https://plot.ly"
       },
       "data": [
        {
         "alignmentgroup": "True",
         "bingroup": "x",
         "hovertemplate": "True Labels=1<br>Score=%{x}<br>count=%{y}<extra></extra>",
         "legendgroup": "1",
         "marker": {
          "color": "#636efa",
          "pattern": {
           "shape": ""
          }
         },
         "name": "1",
         "nbinsx": 50,
         "offsetgroup": "1",
         "orientation": "v",
         "showlegend": true,
         "type": "histogram",
         "x": [
          0.6957021940696987,
          0.9300156915640958,
          0.9921205630102836,
          0.936715807469224,
          0.9317713768318656,
          0.45784773384798494,
          0.09939143285044537,
          0.8452329419452165,
          0.38482997492552634,
          0.010306191407442204,
          0.5799157791315774,
          0.979798671515961,
          0.20470827582812606,
          0.9816864520366354,
          0.8927151312067105,
          0.9806201605498935,
          0.9026485686320104,
          0.30389894302969195,
          0.6233173396712939,
          0.6619325917796649,
          0.9781745730745078,
          0.9200842893336629,
          0.9849055067190555,
          0.809952730458891,
          0.7838369855221864,
          0.17871079002925866,
          0.986064361858425,
          0.3258054350248957,
          0.9952943491147122,
          0.9816021874719101,
          0.2884783867935675,
          0.8125068789116587,
          0.9294041204313004,
          0.8425122135606355,
          0.9839573399543258,
          0.8497726138508335,
          0.9755365592688334,
          0.3156976834780969,
          0.9584930350429267,
          0.34736547610962765,
          0.07897196819073182,
          0.3925612226506629,
          0.05319258603342463,
          0.9709261062660918,
          0.9967986100047797,
          0.29897985387925724,
          0.98978223719547,
          0.9608105388640853,
          0.8714276527127065,
          0.39888351426439245,
          0.9690071063904392,
          0.8286469050767891,
          0.6921283886934979,
          0.5625783277398839,
          0.8769775612532176,
          0.6784526058783776,
          0.19614807430475115,
          0.8466761276231164,
          0.9090760563812332,
          0.9044652721484275,
          0.9709024463549686,
          0.2843590432389772,
          0.618393090707258,
          0.752844561491846,
          0.8562739214731094,
          0.9859614273807039,
          0.97346307636842,
          0.8844862150852785,
          0.4874536157971068,
          0.197042356782388,
          0.931300692098703,
          0.04695176020388401,
          0.9993587201985934,
          0.8097370645842783,
          0.9818585176564268,
          0.9915803999447457,
          0.737955486045181,
          0.34113689122798807,
          0.22063404408446904,
          0.9777921655609197,
          0.9652595014712311,
          0.9828678227412381,
          0.030372234260720294,
          0.9725829881881094,
          0.7611537112016379,
          0.6863073357880481,
          0.9393478993367517,
          0.8877647718920091,
          0.8910076193414694,
          0.9839468817234517,
          0.9983789837842718,
          0.877999682800203,
          0.8258566963504071,
          0.9957743267453886,
          0.9515582202135779,
          0.9964746184117947,
          0.9525346591981544,
          0.9707630459353581,
          0.9699032686678086,
          0.6555203466334071,
          0.9149072051048537,
          0.9892185352140165,
          0.18397891896292343,
          0.9759055415014799,
          0.9778137976419066,
          0.9868287954062975,
          0.9259697678494937,
          0.861807967102903,
          0.9846911695750806,
          0.48890664369639064,
          0.8949587754572825,
          0.3310439173201431,
          0.9986387293624815,
          0.8390537061164901,
          0.9065652579671593,
          0.9827180940336068,
          0.5341215980759014,
          0.9313698157413595,
          0.9804578750836076,
          0.9949718687357584,
          0.6198632288704378,
          0.9284967110704127,
          0.9966864270578124,
          0.9347011317140632,
          0.9941791385930061,
          0.9929726127017106,
          0.8450989097092577,
          0.9506130811891771,
          0.9570393031445259,
          0.9345729954328453,
          0.30937613826421206,
          0.9446269712829267,
          0.9925573299570578,
          0.5649932547607013,
          0.4883783723958809,
          0.8190826146455112,
          0.9632066024616194,
          0.9805950605989177,
          0.9802190602315198,
          0.7375564696789025,
          0.7610241327495466,
          0.9946350986164185,
          0.9772038715064294,
          0.9954558825709856,
          0.9678670711239183,
          0.9504598749471079,
          0.6773477300458646,
          0.7704182390704206,
          0.9165407190735494,
          0.020293214520110403,
          0.9849813365030056,
          0.7774339682688809,
          0.7658052621704915,
          0.04510336673073508,
          0.5763228029591094,
          0.42091926678548286,
          0.21001898020205634,
          0.9146485081965812,
          0.9765055592979373,
          0.964907294464301,
          0.845141484762528,
          0.8942443717199242,
          0.5269616408146645,
          0.18704898483138876,
          0.9778473584343285,
          0.5986310129482225,
          0.8394262923962392,
          0.5990416839922763,
          0.8311506760797499,
          0.9979931623687611,
          0.7704442430868548,
          0.453713824537428,
          0.8599044360114103,
          0.9139637830785574,
          0.8093226595760521,
          0.9083323755935829,
          0.7547381103800376,
          0.9416403402936091,
          0.5738672350121343,
          0.09784344634122887,
          0.5251692830380924,
          0.9831340678465225,
          0.9508357575588658,
          0.9241342688820094,
          0.9952588638059963,
          0.5618093611683261,
          0.8682307692925818,
          0.9142411700532378,
          0.6590597121419319,
          0.9996843532417968,
          0.9757928586512692,
          0.9808998034502665,
          0.9020858613484966,
          0.997887155589954,
          0.9360619140392221,
          0.8891429510285719,
          0.49351219187635464,
          0.9812806970989771,
          0.8300360346810969,
          0.5390294449000441,
          0.8714675336259466,
          0.37196961950579327,
          0.9988835934249962,
          0.7547413405456386,
          0.9065502621310738,
          0.8749386473517597,
          0.9892311077842845,
          0.9773724112104947,
          0.9866998927678049,
          0.9801801827359055,
          0.9844953630746701,
          0.3009498977520072,
          0.19753837095628918,
          0.8005351402333714,
          0.7507468698358261,
          0.6251171187414669,
          0.9057646298618179,
          0.9027760251767085,
          0.77786378300469,
          0.9144120724848537,
          0.9796926057897803,
          0.9305139462279339,
          0.1633498099942291,
          0.9994007580145914,
          0.7178626275776883,
          0.5121178116118561,
          0.7383112473272465,
          0.3750288361297541,
          0.43041133620369904,
          0.9755414120385677,
          0.9914326463036918,
          0.741206718339615,
          0.9767078318104229,
          0.57351637498364,
          0.9996882135754848,
          0.45836345052428573,
          0.8926237404673272,
          0.46581987450737594,
          0.9601212810094857,
          0.9969684665524323,
          0.38075939232656414,
          0.993506573163826,
          0.9991632367845914,
          0.39227054354505186,
          0.781132828838363,
          0.0367582650808674,
          0.9287361782567519,
          0.5609687165398185,
          0.7623155517456185
         ],
         "xaxis": "x",
         "yaxis": "y"
        },
        {
         "alignmentgroup": "True",
         "bingroup": "x",
         "hovertemplate": "True Labels=0<br>Score=%{x}<br>count=%{y}<extra></extra>",
         "legendgroup": "0",
         "marker": {
          "color": "#EF553B",
          "pattern": {
           "shape": ""
          }
         },
         "name": "0",
         "nbinsx": 50,
         "offsetgroup": "0",
         "orientation": "v",
         "showlegend": true,
         "type": "histogram",
         "x": [
          0.02689803203231013,
          0.1274788417401992,
          0.07889722659144809,
          0.040349183810920584,
          0.14588296905757286,
          0.012342321104126378,
          0.17461038462300393,
          0.6586702916638735,
          0.12008691182163454,
          0.5185591930624411,
          0.2839103968193405,
          0.2725620115128683,
          0.05067305131748293,
          0.020663692690429024,
          0.14586645226807243,
          0.13378262937511576,
          0.021250747548916524,
          0.15168590030925985,
          0.12176349914139405,
          0.15438288027140246,
          0.044201713632290716,
          0.020883982967448887,
          0.5795664356221821,
          0.6299645780367953,
          0.19007876916192756,
          0.04868792741657963,
          0.6375221296929015,
          0.5445822297490815,
          0.09692645200771877,
          0.8099366217420526,
          0.2638056964332852,
          0.11596759463883019,
          0.08561848906267068,
          0.12761767978044503,
          0.0343226373713679,
          0.49419727217845877,
          0.04250570252124238,
          0.0787473126544112,
          0.48582197302085334,
          0.025483216897937755,
          0.5669894764014749,
          0.38535754464952204,
          0.453924804698873,
          0.00661475186869404,
          0.02569373667929773,
          0.07566222931469829,
          0.2439561085547916,
          0.2946520505749372,
          0.06779735803067585,
          0.10592380056161603,
          0.49353207132956906,
          0.0312401660706288,
          0.08053457718152081,
          0.04234129544945825,
          0.4995898514389698,
          0.640096852797781,
          0.02726178183366274,
          0.1810374897029582,
          0.09192277724465256,
          0.5135492470532295,
          0.09673844868124483,
          0.30274296257342875,
          0.24223802072957082,
          0.12749353722295995,
          0.01895858532184634,
          0.12868196214794642,
          0.5269229859145037,
          0.4418207570223633,
          0.44780750877283365,
          0.18755046887434812,
          0.09440255729230997,
          0.5020169275983343,
          0.22168600805323765,
          0.4744791446529071,
          0.05139985048309893,
          0.16743254190610007,
          0.17145871888479974,
          0.17050920966571526,
          0.03366730433345357,
          0.3015867730896942,
          0.27999201384506744,
          0.009550187139072306,
          0.26987574056949337,
          0.8185203243306088,
          0.22837871816597333,
          0.03915958121658849,
          0.36626251373805235,
          0.3850094949197472,
          0.6596794642666205,
          0.04529682702155502,
          0.3341141041940563,
          0.22698137507430743,
          0.06720986345411695,
          0.9110831710026043,
          0.11021912639115729,
          0.06305210127597871,
          0.46376941893943335,
          0.8781904901852354,
          0.6622197377325716,
          0.5056879304304528,
          0.22184949899232392,
          0.08848549334197854,
          0.1811435649761796,
          0.8663173631892582,
          0.06079109836488793,
          0.25561107072878103,
          0.5870298539162264,
          0.18832042335032273,
          0.366738620933856,
          0.009092735148150769,
          0.32071982644425406,
          0.01802267626793098,
          0.40155086551899777,
          0.20382442051180152,
          0.33119418409265466,
          0.8546183884851075,
          0.016168185678104116,
          0.5157549960872639,
          0.2970583052576898,
          0.21405337223808374,
          0.17522772291987332,
          0.4799414862425917,
          0.20214815604872224,
          0.11161395653724264,
          0.14164801812435288,
          0.05210363513648026,
          0.19609683949021772,
          0.24918448478825247,
          0.07026614625897058,
          0.6128456735289814,
          0.02723426817708163,
          0.2781520532102595,
          0.1832878379532574,
          0.06855463054377012,
          0.012755212909823122,
          0.5896561474389524,
          0.15308758808071993,
          0.046268095882109235,
          0.06640750659658946,
          0.1854402671926346,
          0.38799318491974927,
          0.44829716053611385,
          0.03423785174612894,
          0.516697649926351,
          0.14444051812751169,
          0.31835338506045335,
          0.24480769993229404,
          0.1874905518427841,
          0.09325508811854367,
          0.07806427635816479,
          0.05127675651766695,
          0.07304478527208777,
          0.12934979670173188,
          0.05271624350221348,
          0.08957240185511797,
          0.13099040114864544,
          0.18078304740377524,
          0.032489210996161304,
          0.05021820663891593,
          0.32569621681648486,
          0.2592740239965545,
          0.293668571818685,
          0.42227549539261755,
          0.17135710593084827,
          0.21069960554664519,
          0.21022567072386386,
          0.7466910565199275,
          0.005148692349758336,
          0.05083918143503449,
          0.5764795936177269,
          0.4040390296834939,
          0.31584440031167943,
          0.02541425867220333,
          0.28119332067054587,
          0.41471732808356154,
          0.271760494379956,
          0.10874149000898693,
          0.1777503536725983,
          0.19835850145322093,
          0.0203118330103244,
          0.34838979238402745,
          0.08869265861313028,
          0.4011547791572957,
          0.29179036036668077,
          0.17401631436210827,
          0.09008498830639497,
          0.01539953686115665,
          0.035347063268359624,
          0.036845618313507474,
          0.024478120239319664,
          0.12655635520585032,
          0.1356433303986822,
          0.18000361783393942,
          0.4244453575593214,
          0.2170423269517166,
          0.09594787347045157,
          0.6296452198010163,
          0.2576789354488554,
          0.5935719974304179,
          0.7850712408123581,
          0.059694059673489765,
          0.004577845481611615,
          0.28929151996041014,
          0.05794751131460094,
          0.1460537713862947,
          0.870319059695221,
          0.24725011397789184,
          0.05149727476780996,
          0.7857853349111442,
          0.009014075976698064,
          0.11254539094720792,
          0.22314195049647786,
          0.09362274902468867,
          0.016866525266490406,
          0.5699705497182505,
          0.026983222679566047,
          0.1786027527124139,
          0.008270537355501605,
          0.3046013836206881,
          0.20356978913227552,
          0.06395295311860437,
          0.03653189037401526,
          0.061653689439254276,
          0.0811427132476677,
          0.04461300139388869,
          0.06964131535077993,
          0.1828852341051645,
          0.19584639435284443,
          0.5447604943877233,
          0.26923877432349286,
          0.5890146612735168,
          0.07437719251766135,
          0.052711541805974926,
          0.06294038230070291,
          0.5405994006673094,
          0.20244274935466325,
          0.04389969157250632,
          0.6179732512061535,
          0.11235360074763236,
          0.08611803607798553,
          0.10426414174678984,
          0.2595205615551919,
          0.10826499127189637,
          0.24661480634013352,
          0.6317697635023486,
          0.026532570908977968,
          0.09861458575902404,
          0.19296057995968854,
          0.07945725053074792,
          0.3573387411454866,
          0.011108489033393513
         ],
         "xaxis": "x",
         "yaxis": "y"
        }
       ],
       "layout": {
        "barmode": "relative",
        "legend": {
         "title": {
          "text": "True Labels"
         },
         "tracegroupgap": 0
        },
        "margin": {
         "t": 60
        },
        "template": {
         "data": {
          "bar": [
           {
            "error_x": {
             "color": "#2a3f5f"
            },
            "error_y": {
             "color": "#2a3f5f"
            },
            "marker": {
             "line": {
              "color": "#E5ECF6",
              "width": 0.5
             },
             "pattern": {
              "fillmode": "overlay",
              "size": 10,
              "solidity": 0.2
             }
            },
            "type": "bar"
           }
          ],
          "barpolar": [
           {
            "marker": {
             "line": {
              "color": "#E5ECF6",
              "width": 0.5
             },
             "pattern": {
              "fillmode": "overlay",
              "size": 10,
              "solidity": 0.2
             }
            },
            "type": "barpolar"
           }
          ],
          "carpet": [
           {
            "aaxis": {
             "endlinecolor": "#2a3f5f",
             "gridcolor": "white",
             "linecolor": "white",
             "minorgridcolor": "white",
             "startlinecolor": "#2a3f5f"
            },
            "baxis": {
             "endlinecolor": "#2a3f5f",
             "gridcolor": "white",
             "linecolor": "white",
             "minorgridcolor": "white",
             "startlinecolor": "#2a3f5f"
            },
            "type": "carpet"
           }
          ],
          "choropleth": [
           {
            "colorbar": {
             "outlinewidth": 0,
             "ticks": ""
            },
            "type": "choropleth"
           }
          ],
          "contour": [
           {
            "colorbar": {
             "outlinewidth": 0,
             "ticks": ""
            },
            "colorscale": [
             [
              0,
              "#0d0887"
             ],
             [
              0.1111111111111111,
              "#46039f"
             ],
             [
              0.2222222222222222,
              "#7201a8"
             ],
             [
              0.3333333333333333,
              "#9c179e"
             ],
             [
              0.4444444444444444,
              "#bd3786"
             ],
             [
              0.5555555555555556,
              "#d8576b"
             ],
             [
              0.6666666666666666,
              "#ed7953"
             ],
             [
              0.7777777777777778,
              "#fb9f3a"
             ],
             [
              0.8888888888888888,
              "#fdca26"
             ],
             [
              1,
              "#f0f921"
             ]
            ],
            "type": "contour"
           }
          ],
          "contourcarpet": [
           {
            "colorbar": {
             "outlinewidth": 0,
             "ticks": ""
            },
            "type": "contourcarpet"
           }
          ],
          "heatmap": [
           {
            "colorbar": {
             "outlinewidth": 0,
             "ticks": ""
            },
            "colorscale": [
             [
              0,
              "#0d0887"
             ],
             [
              0.1111111111111111,
              "#46039f"
             ],
             [
              0.2222222222222222,
              "#7201a8"
             ],
             [
              0.3333333333333333,
              "#9c179e"
             ],
             [
              0.4444444444444444,
              "#bd3786"
             ],
             [
              0.5555555555555556,
              "#d8576b"
             ],
             [
              0.6666666666666666,
              "#ed7953"
             ],
             [
              0.7777777777777778,
              "#fb9f3a"
             ],
             [
              0.8888888888888888,
              "#fdca26"
             ],
             [
              1,
              "#f0f921"
             ]
            ],
            "type": "heatmap"
           }
          ],
          "heatmapgl": [
           {
            "colorbar": {
             "outlinewidth": 0,
             "ticks": ""
            },
            "colorscale": [
             [
              0,
              "#0d0887"
             ],
             [
              0.1111111111111111,
              "#46039f"
             ],
             [
              0.2222222222222222,
              "#7201a8"
             ],
             [
              0.3333333333333333,
              "#9c179e"
             ],
             [
              0.4444444444444444,
              "#bd3786"
             ],
             [
              0.5555555555555556,
              "#d8576b"
             ],
             [
              0.6666666666666666,
              "#ed7953"
             ],
             [
              0.7777777777777778,
              "#fb9f3a"
             ],
             [
              0.8888888888888888,
              "#fdca26"
             ],
             [
              1,
              "#f0f921"
             ]
            ],
            "type": "heatmapgl"
           }
          ],
          "histogram": [
           {
            "marker": {
             "pattern": {
              "fillmode": "overlay",
              "size": 10,
              "solidity": 0.2
             }
            },
            "type": "histogram"
           }
          ],
          "histogram2d": [
           {
            "colorbar": {
             "outlinewidth": 0,
             "ticks": ""
            },
            "colorscale": [
             [
              0,
              "#0d0887"
             ],
             [
              0.1111111111111111,
              "#46039f"
             ],
             [
              0.2222222222222222,
              "#7201a8"
             ],
             [
              0.3333333333333333,
              "#9c179e"
             ],
             [
              0.4444444444444444,
              "#bd3786"
             ],
             [
              0.5555555555555556,
              "#d8576b"
             ],
             [
              0.6666666666666666,
              "#ed7953"
             ],
             [
              0.7777777777777778,
              "#fb9f3a"
             ],
             [
              0.8888888888888888,
              "#fdca26"
             ],
             [
              1,
              "#f0f921"
             ]
            ],
            "type": "histogram2d"
           }
          ],
          "histogram2dcontour": [
           {
            "colorbar": {
             "outlinewidth": 0,
             "ticks": ""
            },
            "colorscale": [
             [
              0,
              "#0d0887"
             ],
             [
              0.1111111111111111,
              "#46039f"
             ],
             [
              0.2222222222222222,
              "#7201a8"
             ],
             [
              0.3333333333333333,
              "#9c179e"
             ],
             [
              0.4444444444444444,
              "#bd3786"
             ],
             [
              0.5555555555555556,
              "#d8576b"
             ],
             [
              0.6666666666666666,
              "#ed7953"
             ],
             [
              0.7777777777777778,
              "#fb9f3a"
             ],
             [
              0.8888888888888888,
              "#fdca26"
             ],
             [
              1,
              "#f0f921"
             ]
            ],
            "type": "histogram2dcontour"
           }
          ],
          "mesh3d": [
           {
            "colorbar": {
             "outlinewidth": 0,
             "ticks": ""
            },
            "type": "mesh3d"
           }
          ],
          "parcoords": [
           {
            "line": {
             "colorbar": {
              "outlinewidth": 0,
              "ticks": ""
             }
            },
            "type": "parcoords"
           }
          ],
          "pie": [
           {
            "automargin": true,
            "type": "pie"
           }
          ],
          "scatter": [
           {
            "fillpattern": {
             "fillmode": "overlay",
             "size": 10,
             "solidity": 0.2
            },
            "type": "scatter"
           }
          ],
          "scatter3d": [
           {
            "line": {
             "colorbar": {
              "outlinewidth": 0,
              "ticks": ""
             }
            },
            "marker": {
             "colorbar": {
              "outlinewidth": 0,
              "ticks": ""
             }
            },
            "type": "scatter3d"
           }
          ],
          "scattercarpet": [
           {
            "marker": {
             "colorbar": {
              "outlinewidth": 0,
              "ticks": ""
             }
            },
            "type": "scattercarpet"
           }
          ],
          "scattergeo": [
           {
            "marker": {
             "colorbar": {
              "outlinewidth": 0,
              "ticks": ""
             }
            },
            "type": "scattergeo"
           }
          ],
          "scattergl": [
           {
            "marker": {
             "colorbar": {
              "outlinewidth": 0,
              "ticks": ""
             }
            },
            "type": "scattergl"
           }
          ],
          "scattermapbox": [
           {
            "marker": {
             "colorbar": {
              "outlinewidth": 0,
              "ticks": ""
             }
            },
            "type": "scattermapbox"
           }
          ],
          "scatterpolar": [
           {
            "marker": {
             "colorbar": {
              "outlinewidth": 0,
              "ticks": ""
             }
            },
            "type": "scatterpolar"
           }
          ],
          "scatterpolargl": [
           {
            "marker": {
             "colorbar": {
              "outlinewidth": 0,
              "ticks": ""
             }
            },
            "type": "scatterpolargl"
           }
          ],
          "scatterternary": [
           {
            "marker": {
             "colorbar": {
              "outlinewidth": 0,
              "ticks": ""
             }
            },
            "type": "scatterternary"
           }
          ],
          "surface": [
           {
            "colorbar": {
             "outlinewidth": 0,
             "ticks": ""
            },
            "colorscale": [
             [
              0,
              "#0d0887"
             ],
             [
              0.1111111111111111,
              "#46039f"
             ],
             [
              0.2222222222222222,
              "#7201a8"
             ],
             [
              0.3333333333333333,
              "#9c179e"
             ],
             [
              0.4444444444444444,
              "#bd3786"
             ],
             [
              0.5555555555555556,
              "#d8576b"
             ],
             [
              0.6666666666666666,
              "#ed7953"
             ],
             [
              0.7777777777777778,
              "#fb9f3a"
             ],
             [
              0.8888888888888888,
              "#fdca26"
             ],
             [
              1,
              "#f0f921"
             ]
            ],
            "type": "surface"
           }
          ],
          "table": [
           {
            "cells": {
             "fill": {
              "color": "#EBF0F8"
             },
             "line": {
              "color": "white"
             }
            },
            "header": {
             "fill": {
              "color": "#C8D4E3"
             },
             "line": {
              "color": "white"
             }
            },
            "type": "table"
           }
          ]
         },
         "layout": {
          "annotationdefaults": {
           "arrowcolor": "#2a3f5f",
           "arrowhead": 0,
           "arrowwidth": 1
          },
          "autotypenumbers": "strict",
          "coloraxis": {
           "colorbar": {
            "outlinewidth": 0,
            "ticks": ""
           }
          },
          "colorscale": {
           "diverging": [
            [
             0,
             "#8e0152"
            ],
            [
             0.1,
             "#c51b7d"
            ],
            [
             0.2,
             "#de77ae"
            ],
            [
             0.3,
             "#f1b6da"
            ],
            [
             0.4,
             "#fde0ef"
            ],
            [
             0.5,
             "#f7f7f7"
            ],
            [
             0.6,
             "#e6f5d0"
            ],
            [
             0.7,
             "#b8e186"
            ],
            [
             0.8,
             "#7fbc41"
            ],
            [
             0.9,
             "#4d9221"
            ],
            [
             1,
             "#276419"
            ]
           ],
           "sequential": [
            [
             0,
             "#0d0887"
            ],
            [
             0.1111111111111111,
             "#46039f"
            ],
            [
             0.2222222222222222,
             "#7201a8"
            ],
            [
             0.3333333333333333,
             "#9c179e"
            ],
            [
             0.4444444444444444,
             "#bd3786"
            ],
            [
             0.5555555555555556,
             "#d8576b"
            ],
            [
             0.6666666666666666,
             "#ed7953"
            ],
            [
             0.7777777777777778,
             "#fb9f3a"
            ],
            [
             0.8888888888888888,
             "#fdca26"
            ],
            [
             1,
             "#f0f921"
            ]
           ],
           "sequentialminus": [
            [
             0,
             "#0d0887"
            ],
            [
             0.1111111111111111,
             "#46039f"
            ],
            [
             0.2222222222222222,
             "#7201a8"
            ],
            [
             0.3333333333333333,
             "#9c179e"
            ],
            [
             0.4444444444444444,
             "#bd3786"
            ],
            [
             0.5555555555555556,
             "#d8576b"
            ],
            [
             0.6666666666666666,
             "#ed7953"
            ],
            [
             0.7777777777777778,
             "#fb9f3a"
            ],
            [
             0.8888888888888888,
             "#fdca26"
            ],
            [
             1,
             "#f0f921"
            ]
           ]
          },
          "colorway": [
           "#636efa",
           "#EF553B",
           "#00cc96",
           "#ab63fa",
           "#FFA15A",
           "#19d3f3",
           "#FF6692",
           "#B6E880",
           "#FF97FF",
           "#FECB52"
          ],
          "font": {
           "color": "#2a3f5f"
          },
          "geo": {
           "bgcolor": "white",
           "lakecolor": "white",
           "landcolor": "#E5ECF6",
           "showlakes": true,
           "showland": true,
           "subunitcolor": "white"
          },
          "hoverlabel": {
           "align": "left"
          },
          "hovermode": "closest",
          "mapbox": {
           "style": "light"
          },
          "paper_bgcolor": "white",
          "plot_bgcolor": "#E5ECF6",
          "polar": {
           "angularaxis": {
            "gridcolor": "white",
            "linecolor": "white",
            "ticks": ""
           },
           "bgcolor": "#E5ECF6",
           "radialaxis": {
            "gridcolor": "white",
            "linecolor": "white",
            "ticks": ""
           }
          },
          "scene": {
           "xaxis": {
            "backgroundcolor": "#E5ECF6",
            "gridcolor": "white",
            "gridwidth": 2,
            "linecolor": "white",
            "showbackground": true,
            "ticks": "",
            "zerolinecolor": "white"
           },
           "yaxis": {
            "backgroundcolor": "#E5ECF6",
            "gridcolor": "white",
            "gridwidth": 2,
            "linecolor": "white",
            "showbackground": true,
            "ticks": "",
            "zerolinecolor": "white"
           },
           "zaxis": {
            "backgroundcolor": "#E5ECF6",
            "gridcolor": "white",
            "gridwidth": 2,
            "linecolor": "white",
            "showbackground": true,
            "ticks": "",
            "zerolinecolor": "white"
           }
          },
          "shapedefaults": {
           "line": {
            "color": "#2a3f5f"
           }
          },
          "ternary": {
           "aaxis": {
            "gridcolor": "white",
            "linecolor": "white",
            "ticks": ""
           },
           "baxis": {
            "gridcolor": "white",
            "linecolor": "white",
            "ticks": ""
           },
           "bgcolor": "#E5ECF6",
           "caxis": {
            "gridcolor": "white",
            "linecolor": "white",
            "ticks": ""
           }
          },
          "title": {
           "x": 0.05
          },
          "xaxis": {
           "automargin": true,
           "gridcolor": "white",
           "linecolor": "white",
           "ticks": "",
           "title": {
            "standoff": 15
           },
           "zerolinecolor": "white",
           "zerolinewidth": 2
          },
          "yaxis": {
           "automargin": true,
           "gridcolor": "white",
           "linecolor": "white",
           "ticks": "",
           "title": {
            "standoff": 15
           },
           "zerolinecolor": "white",
           "zerolinewidth": 2
          }
         }
        },
        "xaxis": {
         "anchor": "y",
         "domain": [
          0,
          1
         ],
         "title": {
          "text": "Score"
         }
        },
        "yaxis": {
         "anchor": "x",
         "domain": [
          0,
          1
         ],
         "title": {
          "text": "count"
         }
        }
       }
      }
     },
     "metadata": {},
     "output_type": "display_data"
    }
   ],
   "source": [
    "# The histogram of scores compared to true labels\n",
    "fig_hist = px.histogram(\n",
    "    x=y_score,\n",
    "    color=y,\n",
    "    nbins=50,\n",
    "    labels=dict(color='True Labels', x='Score')\n",
    ")\n",
    "fig_hist.show()"
   ]
  },
  {
   "cell_type": "code",
   "execution_count": 67,
   "metadata": {},
   "outputs": [],
   "source": [
    "# Evaluating model performance at various thresholds\n",
    "df = pd.DataFrame({\n",
    "    'False Positive Rate': fpr,\n",
    "    'True Positive Rate': tpr\n",
    "}, index=thresholds)\n",
    "df.index.name = \"Thresholds\"\n",
    "df.columns.name = \"Rate\""
   ]
  },
  {
   "cell_type": "code",
   "execution_count": 68,
   "metadata": {},
   "outputs": [
    {
     "data": {
      "application/vnd.plotly.v1+json": {
       "config": {
        "plotlyServerURL": "https://plot.ly"
       },
       "data": [
        {
         "hovertemplate": "Rate=False Positive Rate<br>Thresholds=%{x}<br>value=%{y}<extra></extra>",
         "legendgroup": "False Positive Rate",
         "line": {
          "color": "#636efa",
          "dash": "solid"
         },
         "marker": {
          "symbol": "circle"
         },
         "mode": "lines",
         "name": "False Positive Rate",
         "orientation": "v",
         "showlegend": true,
         "type": "scatter",
         "x": [
          null,
          0.9996882135754848,
          0.9139637830785574,
          0.9110831710026043,
          0.8844862150852785,
          0.8781904901852354,
          0.8714276527127065,
          0.870319059695221,
          0.8682307692925818,
          0.8663173631892582,
          0.8562739214731094,
          0.8546183884851075,
          0.8190826146455112,
          0.8185203243306088,
          0.809952730458891,
          0.8099366217420526,
          0.8005351402333714,
          0.7850712408123581,
          0.7507468698358261,
          0.7466910565199275,
          0.6773477300458646,
          0.6622197377325716,
          0.6619325917796649,
          0.6596794642666205,
          0.6590597121419319,
          0.6586702916638735,
          0.6555203466334071,
          0.6296452198010163,
          0.618393090707258,
          0.6128456735289814,
          0.5986310129482225,
          0.5870298539162264,
          0.5799157791315774,
          0.5764795936177269,
          0.57351637498364,
          0.5669894764014749,
          0.5609687165398185,
          0.5405994006673094,
          0.5269616408146645,
          0.5269229859145037,
          0.5251692830380924,
          0.5135492470532295,
          0.5121178116118561,
          0.49353207132956906,
          0.4874536157971068,
          0.4744791446529071,
          0.46581987450737594,
          0.46376941893943335,
          0.45784773384798494,
          0.453924804698873,
          0.453713824537428,
          0.4418207570223633,
          0.43041133620369904,
          0.42227549539261755,
          0.42091926678548286,
          0.4011547791572957,
          0.39227054354505186,
          0.3850094949197472,
          0.37196961950579327,
          0.34838979238402745,
          0.34113689122798807,
          0.33119418409265466,
          0.3258054350248957,
          0.31584440031167943,
          0.30937613826421206,
          0.3046013836206881,
          0.30389894302969195,
          0.3015867730896942,
          0.29897985387925724,
          0.28929151996041014,
          0.2843590432389772,
          0.22168600805323765,
          0.22063404408446904,
          0.21022567072386386,
          0.20470827582812606,
          0.19835850145322093,
          0.19614807430475115,
          0.1874905518427841,
          0.18704898483138876,
          0.1854402671926346,
          0.18397891896292343,
          0.18000361783393942,
          0.17871079002925866,
          0.16743254190610007,
          0.1633498099942291,
          0.10426414174678984,
          0.09939143285044537,
          0.09861458575902404,
          0.09784344634122887,
          0.07945725053074792,
          0.07897196819073182,
          0.05794751131460094,
          0.05319258603342463,
          0.04868792741657963,
          0.04695176020388401,
          0.04529682702155502,
          0.04510336673073508,
          0.036845618313507474,
          0.0367582650808674,
          0.0312401660706288,
          0.030372234260720294,
          0.0203118330103244,
          0.020293214520110403,
          0.011108489033393513,
          0.010306191407442204,
          0.004577845481611615
         ],
         "xaxis": "x",
         "y": [
          0,
          0,
          0,
          0.00398406374501992,
          0.00398406374501992,
          0.00796812749003984,
          0.00796812749003984,
          0.01195219123505976,
          0.01195219123505976,
          0.01593625498007968,
          0.01593625498007968,
          0.0199203187250996,
          0.0199203187250996,
          0.02390438247011952,
          0.02390438247011952,
          0.027888446215139442,
          0.027888446215139442,
          0.035856573705179286,
          0.035856573705179286,
          0.0398406374501992,
          0.0398406374501992,
          0.043824701195219126,
          0.043824701195219126,
          0.04780876494023904,
          0.04780876494023904,
          0.05179282868525897,
          0.05179282868525897,
          0.07171314741035857,
          0.07171314741035857,
          0.0796812749003984,
          0.0796812749003984,
          0.09561752988047809,
          0.09561752988047809,
          0.10358565737051793,
          0.10358565737051793,
          0.11155378486055777,
          0.11155378486055777,
          0.12350597609561753,
          0.12350597609561753,
          0.12749003984063745,
          0.12749003984063745,
          0.14342629482071714,
          0.14342629482071714,
          0.16334661354581673,
          0.16334661354581673,
          0.1752988047808765,
          0.1752988047808765,
          0.17928286852589642,
          0.17928286852589642,
          0.18326693227091634,
          0.18326693227091634,
          0.1952191235059761,
          0.1952191235059761,
          0.20318725099601595,
          0.20318725099601595,
          0.21912350597609562,
          0.21912350597609562,
          0.23107569721115537,
          0.23107569721115537,
          0.24701195219123506,
          0.24701195219123506,
          0.2549800796812749,
          0.2549800796812749,
          0.27091633466135456,
          0.27091633466135456,
          0.2749003984063745,
          0.2749003984063745,
          0.28286852589641437,
          0.28286852589641437,
          0.30278884462151395,
          0.30278884462151395,
          0.398406374501992,
          0.398406374501992,
          0.41434262948207173,
          0.41434262948207173,
          0.4342629482071713,
          0.4342629482071713,
          0.46215139442231074,
          0.46215139442231074,
          0.46613545816733065,
          0.46613545816733065,
          0.4900398406374502,
          0.4900398406374502,
          0.5258964143426295,
          0.5258964143426295,
          0.6374501992031872,
          0.6374501992031872,
          0.6414342629482072,
          0.6414342629482072,
          0.7051792828685259,
          0.7051792828685259,
          0.7808764940239044,
          0.7808764940239044,
          0.8207171314741036,
          0.8207171314741036,
          0.8286852589641435,
          0.8286852589641435,
          0.8605577689243028,
          0.8605577689243028,
          0.8884462151394422,
          0.8884462151394422,
          0.9402390438247012,
          0.9402390438247012,
          0.9721115537848606,
          0.9721115537848606,
          1
         ],
         "yaxis": "y"
        },
        {
         "hovertemplate": "Rate=True Positive Rate<br>Thresholds=%{x}<br>value=%{y}<extra></extra>",
         "legendgroup": "True Positive Rate",
         "line": {
          "color": "#EF553B",
          "dash": "solid"
         },
         "marker": {
          "symbol": "circle"
         },
         "mode": "lines",
         "name": "True Positive Rate",
         "orientation": "v",
         "showlegend": true,
         "type": "scatter",
         "x": [
          null,
          0.9996882135754848,
          0.9139637830785574,
          0.9110831710026043,
          0.8844862150852785,
          0.8781904901852354,
          0.8714276527127065,
          0.870319059695221,
          0.8682307692925818,
          0.8663173631892582,
          0.8562739214731094,
          0.8546183884851075,
          0.8190826146455112,
          0.8185203243306088,
          0.809952730458891,
          0.8099366217420526,
          0.8005351402333714,
          0.7850712408123581,
          0.7507468698358261,
          0.7466910565199275,
          0.6773477300458646,
          0.6622197377325716,
          0.6619325917796649,
          0.6596794642666205,
          0.6590597121419319,
          0.6586702916638735,
          0.6555203466334071,
          0.6296452198010163,
          0.618393090707258,
          0.6128456735289814,
          0.5986310129482225,
          0.5870298539162264,
          0.5799157791315774,
          0.5764795936177269,
          0.57351637498364,
          0.5669894764014749,
          0.5609687165398185,
          0.5405994006673094,
          0.5269616408146645,
          0.5269229859145037,
          0.5251692830380924,
          0.5135492470532295,
          0.5121178116118561,
          0.49353207132956906,
          0.4874536157971068,
          0.4744791446529071,
          0.46581987450737594,
          0.46376941893943335,
          0.45784773384798494,
          0.453924804698873,
          0.453713824537428,
          0.4418207570223633,
          0.43041133620369904,
          0.42227549539261755,
          0.42091926678548286,
          0.4011547791572957,
          0.39227054354505186,
          0.3850094949197472,
          0.37196961950579327,
          0.34838979238402745,
          0.34113689122798807,
          0.33119418409265466,
          0.3258054350248957,
          0.31584440031167943,
          0.30937613826421206,
          0.3046013836206881,
          0.30389894302969195,
          0.3015867730896942,
          0.29897985387925724,
          0.28929151996041014,
          0.2843590432389772,
          0.22168600805323765,
          0.22063404408446904,
          0.21022567072386386,
          0.20470827582812606,
          0.19835850145322093,
          0.19614807430475115,
          0.1874905518427841,
          0.18704898483138876,
          0.1854402671926346,
          0.18397891896292343,
          0.18000361783393942,
          0.17871079002925866,
          0.16743254190610007,
          0.1633498099942291,
          0.10426414174678984,
          0.09939143285044537,
          0.09861458575902404,
          0.09784344634122887,
          0.07945725053074792,
          0.07897196819073182,
          0.05794751131460094,
          0.05319258603342463,
          0.04868792741657963,
          0.04695176020388401,
          0.04529682702155502,
          0.04510336673073508,
          0.036845618313507474,
          0.0367582650808674,
          0.0312401660706288,
          0.030372234260720294,
          0.0203118330103244,
          0.020293214520110403,
          0.011108489033393513,
          0.010306191407442204,
          0.004577845481611615
         ],
         "xaxis": "x",
         "y": [
          0,
          0.004016064257028112,
          0.4457831325301205,
          0.4457831325301205,
          0.5140562248995983,
          0.5140562248995983,
          0.5341365461847389,
          0.5341365461847389,
          0.5381526104417671,
          0.5381526104417671,
          0.5502008032128514,
          0.5502008032128514,
          0.6024096385542169,
          0.6024096385542169,
          0.6104417670682731,
          0.6104417670682731,
          0.6224899598393574,
          0.6224899598393574,
          0.678714859437751,
          0.678714859437751,
          0.7188755020080321,
          0.7188755020080321,
          0.7228915662650602,
          0.7228915662650602,
          0.7269076305220884,
          0.7269076305220884,
          0.7309236947791165,
          0.7309236947791165,
          0.7469879518072289,
          0.7469879518072289,
          0.7550200803212851,
          0.7550200803212851,
          0.7590361445783133,
          0.7590361445783133,
          0.7710843373493976,
          0.7710843373493976,
          0.7871485943775101,
          0.7871485943775101,
          0.7991967871485943,
          0.7991967871485943,
          0.8032128514056225,
          0.8032128514056225,
          0.8072289156626506,
          0.8072289156626506,
          0.8232931726907631,
          0.8232931726907631,
          0.8273092369477911,
          0.8273092369477911,
          0.8353413654618473,
          0.8353413654618473,
          0.8393574297188755,
          0.8393574297188755,
          0.8433734939759037,
          0.8433734939759037,
          0.8473895582329317,
          0.8473895582329317,
          0.8594377510040161,
          0.8594377510040161,
          0.8755020080321285,
          0.8755020080321285,
          0.8835341365461847,
          0.8835341365461847,
          0.891566265060241,
          0.891566265060241,
          0.8995983935742972,
          0.8995983935742972,
          0.9036144578313253,
          0.9036144578313253,
          0.9116465863453815,
          0.9116465863453815,
          0.9196787148594378,
          0.9196787148594378,
          0.9236947791164659,
          0.9236947791164659,
          0.9317269076305221,
          0.9317269076305221,
          0.9437751004016064,
          0.9437751004016064,
          0.9477911646586346,
          0.9477911646586346,
          0.9518072289156626,
          0.9518072289156626,
          0.9558232931726908,
          0.9558232931726908,
          0.9598393574297188,
          0.9598393574297188,
          0.963855421686747,
          0.963855421686747,
          0.9678714859437751,
          0.9678714859437751,
          0.9718875502008032,
          0.9718875502008032,
          0.9759036144578314,
          0.9759036144578314,
          0.9799196787148594,
          0.9799196787148594,
          0.9839357429718876,
          0.9839357429718876,
          0.9879518072289156,
          0.9879518072289156,
          0.9919678714859438,
          0.9919678714859438,
          0.9959839357429718,
          0.9959839357429718,
          1,
          1
         ],
         "yaxis": "y"
        }
       ],
       "layout": {
        "height": 500,
        "legend": {
         "title": {
          "text": "Rate"
         },
         "tracegroupgap": 0
        },
        "template": {
         "data": {
          "bar": [
           {
            "error_x": {
             "color": "#2a3f5f"
            },
            "error_y": {
             "color": "#2a3f5f"
            },
            "marker": {
             "line": {
              "color": "#E5ECF6",
              "width": 0.5
             },
             "pattern": {
              "fillmode": "overlay",
              "size": 10,
              "solidity": 0.2
             }
            },
            "type": "bar"
           }
          ],
          "barpolar": [
           {
            "marker": {
             "line": {
              "color": "#E5ECF6",
              "width": 0.5
             },
             "pattern": {
              "fillmode": "overlay",
              "size": 10,
              "solidity": 0.2
             }
            },
            "type": "barpolar"
           }
          ],
          "carpet": [
           {
            "aaxis": {
             "endlinecolor": "#2a3f5f",
             "gridcolor": "white",
             "linecolor": "white",
             "minorgridcolor": "white",
             "startlinecolor": "#2a3f5f"
            },
            "baxis": {
             "endlinecolor": "#2a3f5f",
             "gridcolor": "white",
             "linecolor": "white",
             "minorgridcolor": "white",
             "startlinecolor": "#2a3f5f"
            },
            "type": "carpet"
           }
          ],
          "choropleth": [
           {
            "colorbar": {
             "outlinewidth": 0,
             "ticks": ""
            },
            "type": "choropleth"
           }
          ],
          "contour": [
           {
            "colorbar": {
             "outlinewidth": 0,
             "ticks": ""
            },
            "colorscale": [
             [
              0,
              "#0d0887"
             ],
             [
              0.1111111111111111,
              "#46039f"
             ],
             [
              0.2222222222222222,
              "#7201a8"
             ],
             [
              0.3333333333333333,
              "#9c179e"
             ],
             [
              0.4444444444444444,
              "#bd3786"
             ],
             [
              0.5555555555555556,
              "#d8576b"
             ],
             [
              0.6666666666666666,
              "#ed7953"
             ],
             [
              0.7777777777777778,
              "#fb9f3a"
             ],
             [
              0.8888888888888888,
              "#fdca26"
             ],
             [
              1,
              "#f0f921"
             ]
            ],
            "type": "contour"
           }
          ],
          "contourcarpet": [
           {
            "colorbar": {
             "outlinewidth": 0,
             "ticks": ""
            },
            "type": "contourcarpet"
           }
          ],
          "heatmap": [
           {
            "colorbar": {
             "outlinewidth": 0,
             "ticks": ""
            },
            "colorscale": [
             [
              0,
              "#0d0887"
             ],
             [
              0.1111111111111111,
              "#46039f"
             ],
             [
              0.2222222222222222,
              "#7201a8"
             ],
             [
              0.3333333333333333,
              "#9c179e"
             ],
             [
              0.4444444444444444,
              "#bd3786"
             ],
             [
              0.5555555555555556,
              "#d8576b"
             ],
             [
              0.6666666666666666,
              "#ed7953"
             ],
             [
              0.7777777777777778,
              "#fb9f3a"
             ],
             [
              0.8888888888888888,
              "#fdca26"
             ],
             [
              1,
              "#f0f921"
             ]
            ],
            "type": "heatmap"
           }
          ],
          "heatmapgl": [
           {
            "colorbar": {
             "outlinewidth": 0,
             "ticks": ""
            },
            "colorscale": [
             [
              0,
              "#0d0887"
             ],
             [
              0.1111111111111111,
              "#46039f"
             ],
             [
              0.2222222222222222,
              "#7201a8"
             ],
             [
              0.3333333333333333,
              "#9c179e"
             ],
             [
              0.4444444444444444,
              "#bd3786"
             ],
             [
              0.5555555555555556,
              "#d8576b"
             ],
             [
              0.6666666666666666,
              "#ed7953"
             ],
             [
              0.7777777777777778,
              "#fb9f3a"
             ],
             [
              0.8888888888888888,
              "#fdca26"
             ],
             [
              1,
              "#f0f921"
             ]
            ],
            "type": "heatmapgl"
           }
          ],
          "histogram": [
           {
            "marker": {
             "pattern": {
              "fillmode": "overlay",
              "size": 10,
              "solidity": 0.2
             }
            },
            "type": "histogram"
           }
          ],
          "histogram2d": [
           {
            "colorbar": {
             "outlinewidth": 0,
             "ticks": ""
            },
            "colorscale": [
             [
              0,
              "#0d0887"
             ],
             [
              0.1111111111111111,
              "#46039f"
             ],
             [
              0.2222222222222222,
              "#7201a8"
             ],
             [
              0.3333333333333333,
              "#9c179e"
             ],
             [
              0.4444444444444444,
              "#bd3786"
             ],
             [
              0.5555555555555556,
              "#d8576b"
             ],
             [
              0.6666666666666666,
              "#ed7953"
             ],
             [
              0.7777777777777778,
              "#fb9f3a"
             ],
             [
              0.8888888888888888,
              "#fdca26"
             ],
             [
              1,
              "#f0f921"
             ]
            ],
            "type": "histogram2d"
           }
          ],
          "histogram2dcontour": [
           {
            "colorbar": {
             "outlinewidth": 0,
             "ticks": ""
            },
            "colorscale": [
             [
              0,
              "#0d0887"
             ],
             [
              0.1111111111111111,
              "#46039f"
             ],
             [
              0.2222222222222222,
              "#7201a8"
             ],
             [
              0.3333333333333333,
              "#9c179e"
             ],
             [
              0.4444444444444444,
              "#bd3786"
             ],
             [
              0.5555555555555556,
              "#d8576b"
             ],
             [
              0.6666666666666666,
              "#ed7953"
             ],
             [
              0.7777777777777778,
              "#fb9f3a"
             ],
             [
              0.8888888888888888,
              "#fdca26"
             ],
             [
              1,
              "#f0f921"
             ]
            ],
            "type": "histogram2dcontour"
           }
          ],
          "mesh3d": [
           {
            "colorbar": {
             "outlinewidth": 0,
             "ticks": ""
            },
            "type": "mesh3d"
           }
          ],
          "parcoords": [
           {
            "line": {
             "colorbar": {
              "outlinewidth": 0,
              "ticks": ""
             }
            },
            "type": "parcoords"
           }
          ],
          "pie": [
           {
            "automargin": true,
            "type": "pie"
           }
          ],
          "scatter": [
           {
            "fillpattern": {
             "fillmode": "overlay",
             "size": 10,
             "solidity": 0.2
            },
            "type": "scatter"
           }
          ],
          "scatter3d": [
           {
            "line": {
             "colorbar": {
              "outlinewidth": 0,
              "ticks": ""
             }
            },
            "marker": {
             "colorbar": {
              "outlinewidth": 0,
              "ticks": ""
             }
            },
            "type": "scatter3d"
           }
          ],
          "scattercarpet": [
           {
            "marker": {
             "colorbar": {
              "outlinewidth": 0,
              "ticks": ""
             }
            },
            "type": "scattercarpet"
           }
          ],
          "scattergeo": [
           {
            "marker": {
             "colorbar": {
              "outlinewidth": 0,
              "ticks": ""
             }
            },
            "type": "scattergeo"
           }
          ],
          "scattergl": [
           {
            "marker": {
             "colorbar": {
              "outlinewidth": 0,
              "ticks": ""
             }
            },
            "type": "scattergl"
           }
          ],
          "scattermapbox": [
           {
            "marker": {
             "colorbar": {
              "outlinewidth": 0,
              "ticks": ""
             }
            },
            "type": "scattermapbox"
           }
          ],
          "scatterpolar": [
           {
            "marker": {
             "colorbar": {
              "outlinewidth": 0,
              "ticks": ""
             }
            },
            "type": "scatterpolar"
           }
          ],
          "scatterpolargl": [
           {
            "marker": {
             "colorbar": {
              "outlinewidth": 0,
              "ticks": ""
             }
            },
            "type": "scatterpolargl"
           }
          ],
          "scatterternary": [
           {
            "marker": {
             "colorbar": {
              "outlinewidth": 0,
              "ticks": ""
             }
            },
            "type": "scatterternary"
           }
          ],
          "surface": [
           {
            "colorbar": {
             "outlinewidth": 0,
             "ticks": ""
            },
            "colorscale": [
             [
              0,
              "#0d0887"
             ],
             [
              0.1111111111111111,
              "#46039f"
             ],
             [
              0.2222222222222222,
              "#7201a8"
             ],
             [
              0.3333333333333333,
              "#9c179e"
             ],
             [
              0.4444444444444444,
              "#bd3786"
             ],
             [
              0.5555555555555556,
              "#d8576b"
             ],
             [
              0.6666666666666666,
              "#ed7953"
             ],
             [
              0.7777777777777778,
              "#fb9f3a"
             ],
             [
              0.8888888888888888,
              "#fdca26"
             ],
             [
              1,
              "#f0f921"
             ]
            ],
            "type": "surface"
           }
          ],
          "table": [
           {
            "cells": {
             "fill": {
              "color": "#EBF0F8"
             },
             "line": {
              "color": "white"
             }
            },
            "header": {
             "fill": {
              "color": "#C8D4E3"
             },
             "line": {
              "color": "white"
             }
            },
            "type": "table"
           }
          ]
         },
         "layout": {
          "annotationdefaults": {
           "arrowcolor": "#2a3f5f",
           "arrowhead": 0,
           "arrowwidth": 1
          },
          "autotypenumbers": "strict",
          "coloraxis": {
           "colorbar": {
            "outlinewidth": 0,
            "ticks": ""
           }
          },
          "colorscale": {
           "diverging": [
            [
             0,
             "#8e0152"
            ],
            [
             0.1,
             "#c51b7d"
            ],
            [
             0.2,
             "#de77ae"
            ],
            [
             0.3,
             "#f1b6da"
            ],
            [
             0.4,
             "#fde0ef"
            ],
            [
             0.5,
             "#f7f7f7"
            ],
            [
             0.6,
             "#e6f5d0"
            ],
            [
             0.7,
             "#b8e186"
            ],
            [
             0.8,
             "#7fbc41"
            ],
            [
             0.9,
             "#4d9221"
            ],
            [
             1,
             "#276419"
            ]
           ],
           "sequential": [
            [
             0,
             "#0d0887"
            ],
            [
             0.1111111111111111,
             "#46039f"
            ],
            [
             0.2222222222222222,
             "#7201a8"
            ],
            [
             0.3333333333333333,
             "#9c179e"
            ],
            [
             0.4444444444444444,
             "#bd3786"
            ],
            [
             0.5555555555555556,
             "#d8576b"
            ],
            [
             0.6666666666666666,
             "#ed7953"
            ],
            [
             0.7777777777777778,
             "#fb9f3a"
            ],
            [
             0.8888888888888888,
             "#fdca26"
            ],
            [
             1,
             "#f0f921"
            ]
           ],
           "sequentialminus": [
            [
             0,
             "#0d0887"
            ],
            [
             0.1111111111111111,
             "#46039f"
            ],
            [
             0.2222222222222222,
             "#7201a8"
            ],
            [
             0.3333333333333333,
             "#9c179e"
            ],
            [
             0.4444444444444444,
             "#bd3786"
            ],
            [
             0.5555555555555556,
             "#d8576b"
            ],
            [
             0.6666666666666666,
             "#ed7953"
            ],
            [
             0.7777777777777778,
             "#fb9f3a"
            ],
            [
             0.8888888888888888,
             "#fdca26"
            ],
            [
             1,
             "#f0f921"
            ]
           ]
          },
          "colorway": [
           "#636efa",
           "#EF553B",
           "#00cc96",
           "#ab63fa",
           "#FFA15A",
           "#19d3f3",
           "#FF6692",
           "#B6E880",
           "#FF97FF",
           "#FECB52"
          ],
          "font": {
           "color": "#2a3f5f"
          },
          "geo": {
           "bgcolor": "white",
           "lakecolor": "white",
           "landcolor": "#E5ECF6",
           "showlakes": true,
           "showland": true,
           "subunitcolor": "white"
          },
          "hoverlabel": {
           "align": "left"
          },
          "hovermode": "closest",
          "mapbox": {
           "style": "light"
          },
          "paper_bgcolor": "white",
          "plot_bgcolor": "#E5ECF6",
          "polar": {
           "angularaxis": {
            "gridcolor": "white",
            "linecolor": "white",
            "ticks": ""
           },
           "bgcolor": "#E5ECF6",
           "radialaxis": {
            "gridcolor": "white",
            "linecolor": "white",
            "ticks": ""
           }
          },
          "scene": {
           "xaxis": {
            "backgroundcolor": "#E5ECF6",
            "gridcolor": "white",
            "gridwidth": 2,
            "linecolor": "white",
            "showbackground": true,
            "ticks": "",
            "zerolinecolor": "white"
           },
           "yaxis": {
            "backgroundcolor": "#E5ECF6",
            "gridcolor": "white",
            "gridwidth": 2,
            "linecolor": "white",
            "showbackground": true,
            "ticks": "",
            "zerolinecolor": "white"
           },
           "zaxis": {
            "backgroundcolor": "#E5ECF6",
            "gridcolor": "white",
            "gridwidth": 2,
            "linecolor": "white",
            "showbackground": true,
            "ticks": "",
            "zerolinecolor": "white"
           }
          },
          "shapedefaults": {
           "line": {
            "color": "#2a3f5f"
           }
          },
          "ternary": {
           "aaxis": {
            "gridcolor": "white",
            "linecolor": "white",
            "ticks": ""
           },
           "baxis": {
            "gridcolor": "white",
            "linecolor": "white",
            "ticks": ""
           },
           "bgcolor": "#E5ECF6",
           "caxis": {
            "gridcolor": "white",
            "linecolor": "white",
            "ticks": ""
           }
          },
          "title": {
           "x": 0.05
          },
          "xaxis": {
           "automargin": true,
           "gridcolor": "white",
           "linecolor": "white",
           "ticks": "",
           "title": {
            "standoff": 15
           },
           "zerolinecolor": "white",
           "zerolinewidth": 2
          },
          "yaxis": {
           "automargin": true,
           "gridcolor": "white",
           "linecolor": "white",
           "ticks": "",
           "title": {
            "standoff": 15
           },
           "zerolinecolor": "white",
           "zerolinewidth": 2
          }
         }
        },
        "title": {
         "text": "TPR and FPR at every threshold"
        },
        "width": 700,
        "xaxis": {
         "anchor": "y",
         "constrain": "domain",
         "domain": [
          0,
          1
         ],
         "range": [
          0,
          1
         ],
         "title": {
          "text": "Thresholds"
         }
        },
        "yaxis": {
         "anchor": "x",
         "domain": [
          0,
          1
         ],
         "scaleanchor": "x",
         "scaleratio": 1,
         "title": {
          "text": "value"
         }
        }
       }
      }
     },
     "metadata": {},
     "output_type": "display_data"
    }
   ],
   "source": [
    "fig_thresh = px.line(\n",
    "    data_frame=df,\n",
    "    title='TPR and FPR at every threshold',\n",
    "    width=700,\n",
    "    height=500,\n",
    ")\n",
    "fig_thresh.update_yaxes(scaleanchor=\"x\", scaleratio=1)\n",
    "fig_thresh.update_xaxes(range=[0, 1], constrain='domain')\n",
    "fig_thresh.show()"
   ]
  },
  {
   "cell_type": "markdown",
   "metadata": {},
   "source": [
    "# Basic binary ROC curve\n",
    "\n",
    "Notice how this ROC curve looks similar to the True Positive Rate curve from the previous plot. This is because they are the same curve, except the x-axis consists of increasing values of FPR instead of threshold, which is why the line is flipped and distorted.\n",
    "\n",
    "We also display the area under the ROC curve (ROC AUC), which is fairly high, thus consistent with our interpretation of the previous plots."
   ]
  },
  {
   "cell_type": "code",
   "execution_count": 69,
   "metadata": {},
   "outputs": [
    {
     "data": {
      "text/plain": [
       "(array([0.        , 0.        , 0.        , 0.00398406, 0.00398406]),\n",
       " array([0.        , 0.00401606, 0.44578313, 0.44578313, 0.51405622]))"
      ]
     },
     "execution_count": 69,
     "metadata": {},
     "output_type": "execute_result"
    }
   ],
   "source": [
    "fpr[:5], tpr[:5]"
   ]
  },
  {
   "cell_type": "code",
   "execution_count": 70,
   "metadata": {},
   "outputs": [
    {
     "data": {
      "application/vnd.plotly.v1+json": {
       "config": {
        "plotlyServerURL": "https://plot.ly"
       },
       "data": [
        {
         "fillpattern": {
          "shape": ""
         },
         "hovertemplate": "False Positive Rate=%{x}<br>True Positive Rate=%{y}<extra></extra>",
         "legendgroup": "",
         "line": {
          "color": "#636efa"
         },
         "marker": {
          "symbol": "circle"
         },
         "mode": "lines",
         "name": "",
         "orientation": "v",
         "showlegend": false,
         "stackgroup": "1",
         "type": "scatter",
         "x": [
          0,
          0,
          0,
          0.00398406374501992,
          0.00398406374501992,
          0.00796812749003984,
          0.00796812749003984,
          0.01195219123505976,
          0.01195219123505976,
          0.01593625498007968,
          0.01593625498007968,
          0.0199203187250996,
          0.0199203187250996,
          0.02390438247011952,
          0.02390438247011952,
          0.027888446215139442,
          0.027888446215139442,
          0.035856573705179286,
          0.035856573705179286,
          0.0398406374501992,
          0.0398406374501992,
          0.043824701195219126,
          0.043824701195219126,
          0.04780876494023904,
          0.04780876494023904,
          0.05179282868525897,
          0.05179282868525897,
          0.07171314741035857,
          0.07171314741035857,
          0.0796812749003984,
          0.0796812749003984,
          0.09561752988047809,
          0.09561752988047809,
          0.10358565737051793,
          0.10358565737051793,
          0.11155378486055777,
          0.11155378486055777,
          0.12350597609561753,
          0.12350597609561753,
          0.12749003984063745,
          0.12749003984063745,
          0.14342629482071714,
          0.14342629482071714,
          0.16334661354581673,
          0.16334661354581673,
          0.1752988047808765,
          0.1752988047808765,
          0.17928286852589642,
          0.17928286852589642,
          0.18326693227091634,
          0.18326693227091634,
          0.1952191235059761,
          0.1952191235059761,
          0.20318725099601595,
          0.20318725099601595,
          0.21912350597609562,
          0.21912350597609562,
          0.23107569721115537,
          0.23107569721115537,
          0.24701195219123506,
          0.24701195219123506,
          0.2549800796812749,
          0.2549800796812749,
          0.27091633466135456,
          0.27091633466135456,
          0.2749003984063745,
          0.2749003984063745,
          0.28286852589641437,
          0.28286852589641437,
          0.30278884462151395,
          0.30278884462151395,
          0.398406374501992,
          0.398406374501992,
          0.41434262948207173,
          0.41434262948207173,
          0.4342629482071713,
          0.4342629482071713,
          0.46215139442231074,
          0.46215139442231074,
          0.46613545816733065,
          0.46613545816733065,
          0.4900398406374502,
          0.4900398406374502,
          0.5258964143426295,
          0.5258964143426295,
          0.6374501992031872,
          0.6374501992031872,
          0.6414342629482072,
          0.6414342629482072,
          0.7051792828685259,
          0.7051792828685259,
          0.7808764940239044,
          0.7808764940239044,
          0.8207171314741036,
          0.8207171314741036,
          0.8286852589641435,
          0.8286852589641435,
          0.8605577689243028,
          0.8605577689243028,
          0.8884462151394422,
          0.8884462151394422,
          0.9402390438247012,
          0.9402390438247012,
          0.9721115537848606,
          0.9721115537848606,
          1
         ],
         "xaxis": "x",
         "y": [
          0,
          0.004016064257028112,
          0.4457831325301205,
          0.4457831325301205,
          0.5140562248995983,
          0.5140562248995983,
          0.5341365461847389,
          0.5341365461847389,
          0.5381526104417671,
          0.5381526104417671,
          0.5502008032128514,
          0.5502008032128514,
          0.6024096385542169,
          0.6024096385542169,
          0.6104417670682731,
          0.6104417670682731,
          0.6224899598393574,
          0.6224899598393574,
          0.678714859437751,
          0.678714859437751,
          0.7188755020080321,
          0.7188755020080321,
          0.7228915662650602,
          0.7228915662650602,
          0.7269076305220884,
          0.7269076305220884,
          0.7309236947791165,
          0.7309236947791165,
          0.7469879518072289,
          0.7469879518072289,
          0.7550200803212851,
          0.7550200803212851,
          0.7590361445783133,
          0.7590361445783133,
          0.7710843373493976,
          0.7710843373493976,
          0.7871485943775101,
          0.7871485943775101,
          0.7991967871485943,
          0.7991967871485943,
          0.8032128514056225,
          0.8032128514056225,
          0.8072289156626506,
          0.8072289156626506,
          0.8232931726907631,
          0.8232931726907631,
          0.8273092369477911,
          0.8273092369477911,
          0.8353413654618473,
          0.8353413654618473,
          0.8393574297188755,
          0.8393574297188755,
          0.8433734939759037,
          0.8433734939759037,
          0.8473895582329317,
          0.8473895582329317,
          0.8594377510040161,
          0.8594377510040161,
          0.8755020080321285,
          0.8755020080321285,
          0.8835341365461847,
          0.8835341365461847,
          0.891566265060241,
          0.891566265060241,
          0.8995983935742972,
          0.8995983935742972,
          0.9036144578313253,
          0.9036144578313253,
          0.9116465863453815,
          0.9116465863453815,
          0.9196787148594378,
          0.9196787148594378,
          0.9236947791164659,
          0.9236947791164659,
          0.9317269076305221,
          0.9317269076305221,
          0.9437751004016064,
          0.9437751004016064,
          0.9477911646586346,
          0.9477911646586346,
          0.9518072289156626,
          0.9518072289156626,
          0.9558232931726908,
          0.9558232931726908,
          0.9598393574297188,
          0.9598393574297188,
          0.963855421686747,
          0.963855421686747,
          0.9678714859437751,
          0.9678714859437751,
          0.9718875502008032,
          0.9718875502008032,
          0.9759036144578314,
          0.9759036144578314,
          0.9799196787148594,
          0.9799196787148594,
          0.9839357429718876,
          0.9839357429718876,
          0.9879518072289156,
          0.9879518072289156,
          0.9919678714859438,
          0.9919678714859438,
          0.9959839357429718,
          0.9959839357429718,
          1,
          1
         ],
         "yaxis": "y"
        }
       ],
       "layout": {
        "height": 500,
        "legend": {
         "tracegroupgap": 0
        },
        "shapes": [
         {
          "line": {
           "dash": "dash"
          },
          "type": "line",
          "x0": 0,
          "x1": 1,
          "y0": 0,
          "y1": 1
         }
        ],
        "template": {
         "data": {
          "bar": [
           {
            "error_x": {
             "color": "#2a3f5f"
            },
            "error_y": {
             "color": "#2a3f5f"
            },
            "marker": {
             "line": {
              "color": "#E5ECF6",
              "width": 0.5
             },
             "pattern": {
              "fillmode": "overlay",
              "size": 10,
              "solidity": 0.2
             }
            },
            "type": "bar"
           }
          ],
          "barpolar": [
           {
            "marker": {
             "line": {
              "color": "#E5ECF6",
              "width": 0.5
             },
             "pattern": {
              "fillmode": "overlay",
              "size": 10,
              "solidity": 0.2
             }
            },
            "type": "barpolar"
           }
          ],
          "carpet": [
           {
            "aaxis": {
             "endlinecolor": "#2a3f5f",
             "gridcolor": "white",
             "linecolor": "white",
             "minorgridcolor": "white",
             "startlinecolor": "#2a3f5f"
            },
            "baxis": {
             "endlinecolor": "#2a3f5f",
             "gridcolor": "white",
             "linecolor": "white",
             "minorgridcolor": "white",
             "startlinecolor": "#2a3f5f"
            },
            "type": "carpet"
           }
          ],
          "choropleth": [
           {
            "colorbar": {
             "outlinewidth": 0,
             "ticks": ""
            },
            "type": "choropleth"
           }
          ],
          "contour": [
           {
            "colorbar": {
             "outlinewidth": 0,
             "ticks": ""
            },
            "colorscale": [
             [
              0,
              "#0d0887"
             ],
             [
              0.1111111111111111,
              "#46039f"
             ],
             [
              0.2222222222222222,
              "#7201a8"
             ],
             [
              0.3333333333333333,
              "#9c179e"
             ],
             [
              0.4444444444444444,
              "#bd3786"
             ],
             [
              0.5555555555555556,
              "#d8576b"
             ],
             [
              0.6666666666666666,
              "#ed7953"
             ],
             [
              0.7777777777777778,
              "#fb9f3a"
             ],
             [
              0.8888888888888888,
              "#fdca26"
             ],
             [
              1,
              "#f0f921"
             ]
            ],
            "type": "contour"
           }
          ],
          "contourcarpet": [
           {
            "colorbar": {
             "outlinewidth": 0,
             "ticks": ""
            },
            "type": "contourcarpet"
           }
          ],
          "heatmap": [
           {
            "colorbar": {
             "outlinewidth": 0,
             "ticks": ""
            },
            "colorscale": [
             [
              0,
              "#0d0887"
             ],
             [
              0.1111111111111111,
              "#46039f"
             ],
             [
              0.2222222222222222,
              "#7201a8"
             ],
             [
              0.3333333333333333,
              "#9c179e"
             ],
             [
              0.4444444444444444,
              "#bd3786"
             ],
             [
              0.5555555555555556,
              "#d8576b"
             ],
             [
              0.6666666666666666,
              "#ed7953"
             ],
             [
              0.7777777777777778,
              "#fb9f3a"
             ],
             [
              0.8888888888888888,
              "#fdca26"
             ],
             [
              1,
              "#f0f921"
             ]
            ],
            "type": "heatmap"
           }
          ],
          "heatmapgl": [
           {
            "colorbar": {
             "outlinewidth": 0,
             "ticks": ""
            },
            "colorscale": [
             [
              0,
              "#0d0887"
             ],
             [
              0.1111111111111111,
              "#46039f"
             ],
             [
              0.2222222222222222,
              "#7201a8"
             ],
             [
              0.3333333333333333,
              "#9c179e"
             ],
             [
              0.4444444444444444,
              "#bd3786"
             ],
             [
              0.5555555555555556,
              "#d8576b"
             ],
             [
              0.6666666666666666,
              "#ed7953"
             ],
             [
              0.7777777777777778,
              "#fb9f3a"
             ],
             [
              0.8888888888888888,
              "#fdca26"
             ],
             [
              1,
              "#f0f921"
             ]
            ],
            "type": "heatmapgl"
           }
          ],
          "histogram": [
           {
            "marker": {
             "pattern": {
              "fillmode": "overlay",
              "size": 10,
              "solidity": 0.2
             }
            },
            "type": "histogram"
           }
          ],
          "histogram2d": [
           {
            "colorbar": {
             "outlinewidth": 0,
             "ticks": ""
            },
            "colorscale": [
             [
              0,
              "#0d0887"
             ],
             [
              0.1111111111111111,
              "#46039f"
             ],
             [
              0.2222222222222222,
              "#7201a8"
             ],
             [
              0.3333333333333333,
              "#9c179e"
             ],
             [
              0.4444444444444444,
              "#bd3786"
             ],
             [
              0.5555555555555556,
              "#d8576b"
             ],
             [
              0.6666666666666666,
              "#ed7953"
             ],
             [
              0.7777777777777778,
              "#fb9f3a"
             ],
             [
              0.8888888888888888,
              "#fdca26"
             ],
             [
              1,
              "#f0f921"
             ]
            ],
            "type": "histogram2d"
           }
          ],
          "histogram2dcontour": [
           {
            "colorbar": {
             "outlinewidth": 0,
             "ticks": ""
            },
            "colorscale": [
             [
              0,
              "#0d0887"
             ],
             [
              0.1111111111111111,
              "#46039f"
             ],
             [
              0.2222222222222222,
              "#7201a8"
             ],
             [
              0.3333333333333333,
              "#9c179e"
             ],
             [
              0.4444444444444444,
              "#bd3786"
             ],
             [
              0.5555555555555556,
              "#d8576b"
             ],
             [
              0.6666666666666666,
              "#ed7953"
             ],
             [
              0.7777777777777778,
              "#fb9f3a"
             ],
             [
              0.8888888888888888,
              "#fdca26"
             ],
             [
              1,
              "#f0f921"
             ]
            ],
            "type": "histogram2dcontour"
           }
          ],
          "mesh3d": [
           {
            "colorbar": {
             "outlinewidth": 0,
             "ticks": ""
            },
            "type": "mesh3d"
           }
          ],
          "parcoords": [
           {
            "line": {
             "colorbar": {
              "outlinewidth": 0,
              "ticks": ""
             }
            },
            "type": "parcoords"
           }
          ],
          "pie": [
           {
            "automargin": true,
            "type": "pie"
           }
          ],
          "scatter": [
           {
            "fillpattern": {
             "fillmode": "overlay",
             "size": 10,
             "solidity": 0.2
            },
            "type": "scatter"
           }
          ],
          "scatter3d": [
           {
            "line": {
             "colorbar": {
              "outlinewidth": 0,
              "ticks": ""
             }
            },
            "marker": {
             "colorbar": {
              "outlinewidth": 0,
              "ticks": ""
             }
            },
            "type": "scatter3d"
           }
          ],
          "scattercarpet": [
           {
            "marker": {
             "colorbar": {
              "outlinewidth": 0,
              "ticks": ""
             }
            },
            "type": "scattercarpet"
           }
          ],
          "scattergeo": [
           {
            "marker": {
             "colorbar": {
              "outlinewidth": 0,
              "ticks": ""
             }
            },
            "type": "scattergeo"
           }
          ],
          "scattergl": [
           {
            "marker": {
             "colorbar": {
              "outlinewidth": 0,
              "ticks": ""
             }
            },
            "type": "scattergl"
           }
          ],
          "scattermapbox": [
           {
            "marker": {
             "colorbar": {
              "outlinewidth": 0,
              "ticks": ""
             }
            },
            "type": "scattermapbox"
           }
          ],
          "scatterpolar": [
           {
            "marker": {
             "colorbar": {
              "outlinewidth": 0,
              "ticks": ""
             }
            },
            "type": "scatterpolar"
           }
          ],
          "scatterpolargl": [
           {
            "marker": {
             "colorbar": {
              "outlinewidth": 0,
              "ticks": ""
             }
            },
            "type": "scatterpolargl"
           }
          ],
          "scatterternary": [
           {
            "marker": {
             "colorbar": {
              "outlinewidth": 0,
              "ticks": ""
             }
            },
            "type": "scatterternary"
           }
          ],
          "surface": [
           {
            "colorbar": {
             "outlinewidth": 0,
             "ticks": ""
            },
            "colorscale": [
             [
              0,
              "#0d0887"
             ],
             [
              0.1111111111111111,
              "#46039f"
             ],
             [
              0.2222222222222222,
              "#7201a8"
             ],
             [
              0.3333333333333333,
              "#9c179e"
             ],
             [
              0.4444444444444444,
              "#bd3786"
             ],
             [
              0.5555555555555556,
              "#d8576b"
             ],
             [
              0.6666666666666666,
              "#ed7953"
             ],
             [
              0.7777777777777778,
              "#fb9f3a"
             ],
             [
              0.8888888888888888,
              "#fdca26"
             ],
             [
              1,
              "#f0f921"
             ]
            ],
            "type": "surface"
           }
          ],
          "table": [
           {
            "cells": {
             "fill": {
              "color": "#EBF0F8"
             },
             "line": {
              "color": "white"
             }
            },
            "header": {
             "fill": {
              "color": "#C8D4E3"
             },
             "line": {
              "color": "white"
             }
            },
            "type": "table"
           }
          ]
         },
         "layout": {
          "annotationdefaults": {
           "arrowcolor": "#2a3f5f",
           "arrowhead": 0,
           "arrowwidth": 1
          },
          "autotypenumbers": "strict",
          "coloraxis": {
           "colorbar": {
            "outlinewidth": 0,
            "ticks": ""
           }
          },
          "colorscale": {
           "diverging": [
            [
             0,
             "#8e0152"
            ],
            [
             0.1,
             "#c51b7d"
            ],
            [
             0.2,
             "#de77ae"
            ],
            [
             0.3,
             "#f1b6da"
            ],
            [
             0.4,
             "#fde0ef"
            ],
            [
             0.5,
             "#f7f7f7"
            ],
            [
             0.6,
             "#e6f5d0"
            ],
            [
             0.7,
             "#b8e186"
            ],
            [
             0.8,
             "#7fbc41"
            ],
            [
             0.9,
             "#4d9221"
            ],
            [
             1,
             "#276419"
            ]
           ],
           "sequential": [
            [
             0,
             "#0d0887"
            ],
            [
             0.1111111111111111,
             "#46039f"
            ],
            [
             0.2222222222222222,
             "#7201a8"
            ],
            [
             0.3333333333333333,
             "#9c179e"
            ],
            [
             0.4444444444444444,
             "#bd3786"
            ],
            [
             0.5555555555555556,
             "#d8576b"
            ],
            [
             0.6666666666666666,
             "#ed7953"
            ],
            [
             0.7777777777777778,
             "#fb9f3a"
            ],
            [
             0.8888888888888888,
             "#fdca26"
            ],
            [
             1,
             "#f0f921"
            ]
           ],
           "sequentialminus": [
            [
             0,
             "#0d0887"
            ],
            [
             0.1111111111111111,
             "#46039f"
            ],
            [
             0.2222222222222222,
             "#7201a8"
            ],
            [
             0.3333333333333333,
             "#9c179e"
            ],
            [
             0.4444444444444444,
             "#bd3786"
            ],
            [
             0.5555555555555556,
             "#d8576b"
            ],
            [
             0.6666666666666666,
             "#ed7953"
            ],
            [
             0.7777777777777778,
             "#fb9f3a"
            ],
            [
             0.8888888888888888,
             "#fdca26"
            ],
            [
             1,
             "#f0f921"
            ]
           ]
          },
          "colorway": [
           "#636efa",
           "#EF553B",
           "#00cc96",
           "#ab63fa",
           "#FFA15A",
           "#19d3f3",
           "#FF6692",
           "#B6E880",
           "#FF97FF",
           "#FECB52"
          ],
          "font": {
           "color": "#2a3f5f"
          },
          "geo": {
           "bgcolor": "white",
           "lakecolor": "white",
           "landcolor": "#E5ECF6",
           "showlakes": true,
           "showland": true,
           "subunitcolor": "white"
          },
          "hoverlabel": {
           "align": "left"
          },
          "hovermode": "closest",
          "mapbox": {
           "style": "light"
          },
          "paper_bgcolor": "white",
          "plot_bgcolor": "#E5ECF6",
          "polar": {
           "angularaxis": {
            "gridcolor": "white",
            "linecolor": "white",
            "ticks": ""
           },
           "bgcolor": "#E5ECF6",
           "radialaxis": {
            "gridcolor": "white",
            "linecolor": "white",
            "ticks": ""
           }
          },
          "scene": {
           "xaxis": {
            "backgroundcolor": "#E5ECF6",
            "gridcolor": "white",
            "gridwidth": 2,
            "linecolor": "white",
            "showbackground": true,
            "ticks": "",
            "zerolinecolor": "white"
           },
           "yaxis": {
            "backgroundcolor": "#E5ECF6",
            "gridcolor": "white",
            "gridwidth": 2,
            "linecolor": "white",
            "showbackground": true,
            "ticks": "",
            "zerolinecolor": "white"
           },
           "zaxis": {
            "backgroundcolor": "#E5ECF6",
            "gridcolor": "white",
            "gridwidth": 2,
            "linecolor": "white",
            "showbackground": true,
            "ticks": "",
            "zerolinecolor": "white"
           }
          },
          "shapedefaults": {
           "line": {
            "color": "#2a3f5f"
           }
          },
          "ternary": {
           "aaxis": {
            "gridcolor": "white",
            "linecolor": "white",
            "ticks": ""
           },
           "baxis": {
            "gridcolor": "white",
            "linecolor": "white",
            "ticks": ""
           },
           "bgcolor": "#E5ECF6",
           "caxis": {
            "gridcolor": "white",
            "linecolor": "white",
            "ticks": ""
           }
          },
          "title": {
           "x": 0.05
          },
          "xaxis": {
           "automargin": true,
           "gridcolor": "white",
           "linecolor": "white",
           "ticks": "",
           "title": {
            "standoff": 15
           },
           "zerolinecolor": "white",
           "zerolinewidth": 2
          },
          "yaxis": {
           "automargin": true,
           "gridcolor": "white",
           "linecolor": "white",
           "ticks": "",
           "title": {
            "standoff": 15
           },
           "zerolinecolor": "white",
           "zerolinewidth": 2
          }
         }
        },
        "title": {
         "text": "ROC Curve (AUC=0.9099)"
        },
        "width": 500,
        "xaxis": {
         "anchor": "y",
         "domain": [
          0,
          1
         ],
         "title": {
          "text": "False Positive Rate"
         }
        },
        "yaxis": {
         "anchor": "x",
         "domain": [
          0,
          1
         ],
         "title": {
          "text": "True Positive Rate"
         }
        }
       }
      }
     },
     "metadata": {},
     "output_type": "display_data"
    }
   ],
   "source": [
    "fig = px.area(\n",
    "    x=fpr,\n",
    "    y=tpr,\n",
    "    title=f'ROC Curve (AUC={auc_score:.4f})',\n",
    "    labels=dict(x='False Positive Rate', y='True Positive Rate'),\n",
    "    width=500,\n",
    "    height=500\n",
    ")\n",
    "fig.add_shape(\n",
    "    type=\"line\",\n",
    "    line=dict(dash=\"dash\"),\n",
    "    x0=0, x1=1,\n",
    "    y0=0, y1=1\n",
    ")\n",
    "fig.show()"
   ]
  },
  {
   "cell_type": "markdown",
   "metadata": {},
   "source": [
    "# Multiclass ROC Curve\n",
    "\n",
    "When you have more than 2 classes, you will need to plot the ROC curve for each class separately. Make sure that you use a one-versus-rest model, or make sure that your problem has a multi-label format; otherwise, your ROC curve might not return the expected results."
   ]
  },
  {
   "cell_type": "code",
   "execution_count": 71,
   "metadata": {},
   "outputs": [
    {
     "data": {
      "text/html": [
       "<div>\n",
       "<style scoped>\n",
       "    .dataframe tbody tr th:only-of-type {\n",
       "        vertical-align: middle;\n",
       "    }\n",
       "\n",
       "    .dataframe tbody tr th {\n",
       "        vertical-align: top;\n",
       "    }\n",
       "\n",
       "    .dataframe thead th {\n",
       "        text-align: right;\n",
       "    }\n",
       "</style>\n",
       "<table border=\"1\" class=\"dataframe\">\n",
       "  <thead>\n",
       "    <tr style=\"text-align: right;\">\n",
       "      <th></th>\n",
       "      <th>sepal_length</th>\n",
       "      <th>sepal_width</th>\n",
       "      <th>petal_length</th>\n",
       "      <th>petal_width</th>\n",
       "      <th>species</th>\n",
       "      <th>species_id</th>\n",
       "    </tr>\n",
       "  </thead>\n",
       "  <tbody>\n",
       "    <tr>\n",
       "      <th>0</th>\n",
       "      <td>5.1</td>\n",
       "      <td>3.5</td>\n",
       "      <td>1.4</td>\n",
       "      <td>0.2</td>\n",
       "      <td>setosa</td>\n",
       "      <td>1</td>\n",
       "    </tr>\n",
       "    <tr>\n",
       "      <th>1</th>\n",
       "      <td>4.9</td>\n",
       "      <td>3.0</td>\n",
       "      <td>1.4</td>\n",
       "      <td>0.2</td>\n",
       "      <td>setosa</td>\n",
       "      <td>1</td>\n",
       "    </tr>\n",
       "    <tr>\n",
       "      <th>2</th>\n",
       "      <td>4.7</td>\n",
       "      <td>3.2</td>\n",
       "      <td>1.3</td>\n",
       "      <td>0.2</td>\n",
       "      <td>setosa</td>\n",
       "      <td>1</td>\n",
       "    </tr>\n",
       "    <tr>\n",
       "      <th>3</th>\n",
       "      <td>4.6</td>\n",
       "      <td>3.1</td>\n",
       "      <td>1.5</td>\n",
       "      <td>0.2</td>\n",
       "      <td>setosa</td>\n",
       "      <td>1</td>\n",
       "    </tr>\n",
       "    <tr>\n",
       "      <th>4</th>\n",
       "      <td>5.0</td>\n",
       "      <td>3.6</td>\n",
       "      <td>1.4</td>\n",
       "      <td>0.2</td>\n",
       "      <td>setosa</td>\n",
       "      <td>1</td>\n",
       "    </tr>\n",
       "  </tbody>\n",
       "</table>\n",
       "</div>"
      ],
      "text/plain": [
       "   sepal_length  sepal_width  petal_length  petal_width species  species_id\n",
       "0           5.1          3.5           1.4          0.2  setosa           1\n",
       "1           4.9          3.0           1.4          0.2  setosa           1\n",
       "2           4.7          3.2           1.3          0.2  setosa           1\n",
       "3           4.6          3.1           1.5          0.2  setosa           1\n",
       "4           5.0          3.6           1.4          0.2  setosa           1"
      ]
     },
     "execution_count": 71,
     "metadata": {},
     "output_type": "execute_result"
    }
   ],
   "source": [
    "# Artificially add noise to make task harder\n",
    "iris = px.data.iris()\n",
    "iris.head()"
   ]
  },
  {
   "cell_type": "code",
   "execution_count": 72,
   "metadata": {},
   "outputs": [
    {
     "data": {
      "text/plain": [
       "114     virginica\n",
       "62     versicolor\n",
       "33         setosa\n",
       "107     virginica\n",
       "7          setosa\n",
       "100     virginica\n",
       "40         setosa\n",
       "86     versicolor\n",
       "76     versicolor\n",
       "71     versicolor\n",
       "134     virginica\n",
       "51     versicolor\n",
       "73     versicolor\n",
       "54     versicolor\n",
       "63     versicolor\n",
       "37         setosa\n",
       "78     versicolor\n",
       "90     versicolor\n",
       "45         setosa\n",
       "16         setosa\n",
       "121     virginica\n",
       "66     versicolor\n",
       "24         setosa\n",
       "8          setosa\n",
       "126     virginica\n",
       "22         setosa\n",
       "44         setosa\n",
       "97     versicolor\n",
       "93     versicolor\n",
       "26         setosa\n",
       "137     virginica\n",
       "84     versicolor\n",
       "27         setosa\n",
       "127     virginica\n",
       "132     virginica\n",
       "59     versicolor\n",
       "18         setosa\n",
       "83     versicolor\n",
       "61     versicolor\n",
       "92     versicolor\n",
       "112     virginica\n",
       "2          setosa\n",
       "141     virginica\n",
       "43         setosa\n",
       "10         setosa\n",
       "60     versicolor\n",
       "116     virginica\n",
       "144     virginica\n",
       "119     virginica\n",
       "108     virginica\n",
       "Name: species, dtype: object"
      ]
     },
     "execution_count": 72,
     "metadata": {},
     "output_type": "execute_result"
    }
   ],
   "source": [
    "samples = iris.species.sample(n=50, random_state=0)\n",
    "samples"
   ]
  },
  {
   "cell_type": "code",
   "execution_count": 73,
   "metadata": {},
   "outputs": [],
   "source": [
    "np.random.shuffle(samples.values)"
   ]
  },
  {
   "cell_type": "code",
   "execution_count": 74,
   "metadata": {},
   "outputs": [
    {
     "data": {
      "text/html": [
       "<div>\n",
       "<style scoped>\n",
       "    .dataframe tbody tr th:only-of-type {\n",
       "        vertical-align: middle;\n",
       "    }\n",
       "\n",
       "    .dataframe tbody tr th {\n",
       "        vertical-align: top;\n",
       "    }\n",
       "\n",
       "    .dataframe thead th {\n",
       "        text-align: right;\n",
       "    }\n",
       "</style>\n",
       "<table border=\"1\" class=\"dataframe\">\n",
       "  <thead>\n",
       "    <tr style=\"text-align: right;\">\n",
       "      <th></th>\n",
       "      <th>sepal_length</th>\n",
       "      <th>sepal_width</th>\n",
       "      <th>petal_length</th>\n",
       "      <th>petal_width</th>\n",
       "      <th>species</th>\n",
       "      <th>species_id</th>\n",
       "    </tr>\n",
       "  </thead>\n",
       "  <tbody>\n",
       "    <tr>\n",
       "      <th>0</th>\n",
       "      <td>5.1</td>\n",
       "      <td>3.5</td>\n",
       "      <td>1.4</td>\n",
       "      <td>0.2</td>\n",
       "      <td>setosa</td>\n",
       "      <td>1</td>\n",
       "    </tr>\n",
       "    <tr>\n",
       "      <th>1</th>\n",
       "      <td>4.9</td>\n",
       "      <td>3.0</td>\n",
       "      <td>1.4</td>\n",
       "      <td>0.2</td>\n",
       "      <td>setosa</td>\n",
       "      <td>1</td>\n",
       "    </tr>\n",
       "    <tr>\n",
       "      <th>2</th>\n",
       "      <td>4.7</td>\n",
       "      <td>3.2</td>\n",
       "      <td>1.3</td>\n",
       "      <td>0.2</td>\n",
       "      <td>versicolor</td>\n",
       "      <td>1</td>\n",
       "    </tr>\n",
       "    <tr>\n",
       "      <th>3</th>\n",
       "      <td>4.6</td>\n",
       "      <td>3.1</td>\n",
       "      <td>1.5</td>\n",
       "      <td>0.2</td>\n",
       "      <td>setosa</td>\n",
       "      <td>1</td>\n",
       "    </tr>\n",
       "    <tr>\n",
       "      <th>4</th>\n",
       "      <td>5.0</td>\n",
       "      <td>3.6</td>\n",
       "      <td>1.4</td>\n",
       "      <td>0.2</td>\n",
       "      <td>setosa</td>\n",
       "      <td>1</td>\n",
       "    </tr>\n",
       "  </tbody>\n",
       "</table>\n",
       "</div>"
      ],
      "text/plain": [
       "   sepal_length  sepal_width  petal_length  petal_width     species  \\\n",
       "0           5.1          3.5           1.4          0.2      setosa   \n",
       "1           4.9          3.0           1.4          0.2      setosa   \n",
       "2           4.7          3.2           1.3          0.2  versicolor   \n",
       "3           4.6          3.1           1.5          0.2      setosa   \n",
       "4           5.0          3.6           1.4          0.2      setosa   \n",
       "\n",
       "   species_id  \n",
       "0           1  \n",
       "1           1  \n",
       "2           1  \n",
       "3           1  \n",
       "4           1  "
      ]
     },
     "execution_count": 74,
     "metadata": {},
     "output_type": "execute_result"
    }
   ],
   "source": [
    "iris.loc[samples.index, \"species\"] = samples.values\n",
    "iris.head()"
   ]
  },
  {
   "cell_type": "code",
   "execution_count": 75,
   "metadata": {},
   "outputs": [],
   "source": [
    "# Define the inputs and outputs\n",
    "X = iris.drop(columns=['species', 'species_id'])\n",
    "y = iris['species']"
   ]
  },
  {
   "cell_type": "code",
   "execution_count": 76,
   "metadata": {},
   "outputs": [
    {
     "data": {
      "text/html": [
       "<style>#sk-container-id-7 {color: black;}#sk-container-id-7 pre{padding: 0;}#sk-container-id-7 div.sk-toggleable {background-color: white;}#sk-container-id-7 label.sk-toggleable__label {cursor: pointer;display: block;width: 100%;margin-bottom: 0;padding: 0.3em;box-sizing: border-box;text-align: center;}#sk-container-id-7 label.sk-toggleable__label-arrow:before {content: \"▸\";float: left;margin-right: 0.25em;color: #696969;}#sk-container-id-7 label.sk-toggleable__label-arrow:hover:before {color: black;}#sk-container-id-7 div.sk-estimator:hover label.sk-toggleable__label-arrow:before {color: black;}#sk-container-id-7 div.sk-toggleable__content {max-height: 0;max-width: 0;overflow: hidden;text-align: left;background-color: #f0f8ff;}#sk-container-id-7 div.sk-toggleable__content pre {margin: 0.2em;color: black;border-radius: 0.25em;background-color: #f0f8ff;}#sk-container-id-7 input.sk-toggleable__control:checked~div.sk-toggleable__content {max-height: 200px;max-width: 100%;overflow: auto;}#sk-container-id-7 input.sk-toggleable__control:checked~label.sk-toggleable__label-arrow:before {content: \"▾\";}#sk-container-id-7 div.sk-estimator input.sk-toggleable__control:checked~label.sk-toggleable__label {background-color: #d4ebff;}#sk-container-id-7 div.sk-label input.sk-toggleable__control:checked~label.sk-toggleable__label {background-color: #d4ebff;}#sk-container-id-7 input.sk-hidden--visually {border: 0;clip: rect(1px 1px 1px 1px);clip: rect(1px, 1px, 1px, 1px);height: 1px;margin: -1px;overflow: hidden;padding: 0;position: absolute;width: 1px;}#sk-container-id-7 div.sk-estimator {font-family: monospace;background-color: #f0f8ff;border: 1px dotted black;border-radius: 0.25em;box-sizing: border-box;margin-bottom: 0.5em;}#sk-container-id-7 div.sk-estimator:hover {background-color: #d4ebff;}#sk-container-id-7 div.sk-parallel-item::after {content: \"\";width: 100%;border-bottom: 1px solid gray;flex-grow: 1;}#sk-container-id-7 div.sk-label:hover label.sk-toggleable__label {background-color: #d4ebff;}#sk-container-id-7 div.sk-serial::before {content: \"\";position: absolute;border-left: 1px solid gray;box-sizing: border-box;top: 0;bottom: 0;left: 50%;z-index: 0;}#sk-container-id-7 div.sk-serial {display: flex;flex-direction: column;align-items: center;background-color: white;padding-right: 0.2em;padding-left: 0.2em;position: relative;}#sk-container-id-7 div.sk-item {position: relative;z-index: 1;}#sk-container-id-7 div.sk-parallel {display: flex;align-items: stretch;justify-content: center;background-color: white;position: relative;}#sk-container-id-7 div.sk-item::before, #sk-container-id-7 div.sk-parallel-item::before {content: \"\";position: absolute;border-left: 1px solid gray;box-sizing: border-box;top: 0;bottom: 0;left: 50%;z-index: -1;}#sk-container-id-7 div.sk-parallel-item {display: flex;flex-direction: column;z-index: 1;position: relative;background-color: white;}#sk-container-id-7 div.sk-parallel-item:first-child::after {align-self: flex-end;width: 50%;}#sk-container-id-7 div.sk-parallel-item:last-child::after {align-self: flex-start;width: 50%;}#sk-container-id-7 div.sk-parallel-item:only-child::after {width: 0;}#sk-container-id-7 div.sk-dashed-wrapped {border: 1px dashed gray;margin: 0 0.4em 0.5em 0.4em;box-sizing: border-box;padding-bottom: 0.4em;background-color: white;}#sk-container-id-7 div.sk-label label {font-family: monospace;font-weight: bold;display: inline-block;line-height: 1.2em;}#sk-container-id-7 div.sk-label-container {text-align: center;}#sk-container-id-7 div.sk-container {/* jupyter's `normalize.less` sets `[hidden] { display: none; }` but bootstrap.min.css set `[hidden] { display: none !important; }` so we also need the `!important` here to be able to override the default hidden behavior on the sphinx rendered scikit-learn.org. See: https://github.com/scikit-learn/scikit-learn/issues/21755 */display: inline-block !important;position: relative;}#sk-container-id-7 div.sk-text-repr-fallback {display: none;}</style><div id=\"sk-container-id-7\" class=\"sk-top-container\"><div class=\"sk-text-repr-fallback\"><pre>LogisticRegression(max_iter=200)</pre><b>In a Jupyter environment, please rerun this cell to show the HTML representation or trust the notebook. <br />On GitHub, the HTML representation is unable to render, please try loading this page with nbviewer.org.</b></div><div class=\"sk-container\" hidden><div class=\"sk-item\"><div class=\"sk-estimator sk-toggleable\"><input class=\"sk-toggleable__control sk-hidden--visually\" id=\"sk-estimator-id-7\" type=\"checkbox\" checked><label for=\"sk-estimator-id-7\" class=\"sk-toggleable__label sk-toggleable__label-arrow\">LogisticRegression</label><div class=\"sk-toggleable__content\"><pre>LogisticRegression(max_iter=200)</pre></div></div></div></div></div>"
      ],
      "text/plain": [
       "LogisticRegression(max_iter=200)"
      ]
     },
     "execution_count": 76,
     "metadata": {},
     "output_type": "execute_result"
    }
   ],
   "source": [
    "# Fit the model\n",
    "model = LogisticRegression(max_iter=200)\n",
    "model.fit(X, y)"
   ]
  },
  {
   "cell_type": "code",
   "execution_count": 77,
   "metadata": {},
   "outputs": [
    {
     "data": {
      "text/plain": [
       "array([[0.73573509, 0.22255604, 0.04170888],\n",
       "       [0.65437023, 0.31681445, 0.02881532],\n",
       "       [0.70340533, 0.26142264, 0.03517202],\n",
       "       [0.6757169 , 0.28664155, 0.03764155],\n",
       "       [0.75140137, 0.20161193, 0.04698671]])"
      ]
     },
     "execution_count": 77,
     "metadata": {},
     "output_type": "execute_result"
    }
   ],
   "source": [
    "y_scores = model.predict_proba(X)\n",
    "y_scores[:5]"
   ]
  },
  {
   "cell_type": "code",
   "execution_count": 78,
   "metadata": {},
   "outputs": [
    {
     "data": {
      "text/html": [
       "<div>\n",
       "<style scoped>\n",
       "    .dataframe tbody tr th:only-of-type {\n",
       "        vertical-align: middle;\n",
       "    }\n",
       "\n",
       "    .dataframe tbody tr th {\n",
       "        vertical-align: top;\n",
       "    }\n",
       "\n",
       "    .dataframe thead th {\n",
       "        text-align: right;\n",
       "    }\n",
       "</style>\n",
       "<table border=\"1\" class=\"dataframe\">\n",
       "  <thead>\n",
       "    <tr style=\"text-align: right;\">\n",
       "      <th></th>\n",
       "      <th>setosa</th>\n",
       "      <th>versicolor</th>\n",
       "      <th>virginica</th>\n",
       "    </tr>\n",
       "  </thead>\n",
       "  <tbody>\n",
       "    <tr>\n",
       "      <th>0</th>\n",
       "      <td>True</td>\n",
       "      <td>False</td>\n",
       "      <td>False</td>\n",
       "    </tr>\n",
       "    <tr>\n",
       "      <th>1</th>\n",
       "      <td>True</td>\n",
       "      <td>False</td>\n",
       "      <td>False</td>\n",
       "    </tr>\n",
       "    <tr>\n",
       "      <th>2</th>\n",
       "      <td>False</td>\n",
       "      <td>True</td>\n",
       "      <td>False</td>\n",
       "    </tr>\n",
       "    <tr>\n",
       "      <th>3</th>\n",
       "      <td>True</td>\n",
       "      <td>False</td>\n",
       "      <td>False</td>\n",
       "    </tr>\n",
       "    <tr>\n",
       "      <th>4</th>\n",
       "      <td>True</td>\n",
       "      <td>False</td>\n",
       "      <td>False</td>\n",
       "    </tr>\n",
       "  </tbody>\n",
       "</table>\n",
       "</div>"
      ],
      "text/plain": [
       "   setosa  versicolor  virginica\n",
       "0    True       False      False\n",
       "1    True       False      False\n",
       "2   False        True      False\n",
       "3    True       False      False\n",
       "4    True       False      False"
      ]
     },
     "execution_count": 78,
     "metadata": {},
     "output_type": "execute_result"
    }
   ],
   "source": [
    "# One hot encode the labels in order to plot them\n",
    "y_onehot = pd.get_dummies(y, columns=model.classes_)\n",
    "y_onehot.head()"
   ]
  },
  {
   "cell_type": "code",
   "execution_count": 79,
   "metadata": {},
   "outputs": [
    {
     "data": {
      "application/vnd.plotly.v1+json": {
       "config": {
        "plotlyServerURL": "https://plot.ly"
       },
       "data": [
        {
         "mode": "lines",
         "name": "setosa (AUC=0.82)",
         "type": "scatter",
         "x": [
          0,
          0.01,
          0.01,
          0.02,
          0.02,
          0.03,
          0.03,
          0.04,
          0.04,
          0.05,
          0.05,
          0.06,
          0.06,
          0.07,
          0.07,
          0.09,
          0.09,
          0.1,
          0.1,
          0.11,
          0.11,
          0.12,
          0.12,
          0.13,
          0.13,
          0.17,
          0.17,
          0.25,
          0.25,
          0.29,
          0.29,
          0.37,
          0.37,
          0.42,
          0.42,
          0.45,
          0.45,
          0.58,
          0.58,
          0.65,
          0.67,
          0.67,
          0.68,
          0.68,
          0.73,
          0.73,
          0.97,
          0.97,
          1
         ],
         "y": [
          0,
          0,
          0.06,
          0.06,
          0.14,
          0.14,
          0.24,
          0.24,
          0.26,
          0.26,
          0.32,
          0.32,
          0.42,
          0.42,
          0.5,
          0.5,
          0.54,
          0.58,
          0.62,
          0.62,
          0.68,
          0.68,
          0.7,
          0.7,
          0.74,
          0.74,
          0.76,
          0.76,
          0.78,
          0.78,
          0.8,
          0.8,
          0.82,
          0.82,
          0.86,
          0.86,
          0.88,
          0.88,
          0.92,
          0.92,
          0.92,
          0.94,
          0.94,
          0.96,
          0.96,
          0.98,
          0.98,
          1,
          1
         ]
        },
        {
         "mode": "lines",
         "name": "versicolor (AUC=0.79)",
         "type": "scatter",
         "x": [
          0,
          0,
          0.01,
          0.01,
          0.02,
          0.02,
          0.03,
          0.03,
          0.04,
          0.04,
          0.05,
          0.05,
          0.06,
          0.06,
          0.08,
          0.08,
          0.09,
          0.09,
          0.1,
          0.1,
          0.12,
          0.12,
          0.14,
          0.14,
          0.16,
          0.16,
          0.2,
          0.2,
          0.25,
          0.27,
          0.29,
          0.29,
          0.3,
          0.3,
          0.33,
          0.33,
          0.36,
          0.38,
          0.41,
          0.41,
          0.52,
          0.52,
          0.56,
          0.56,
          0.58,
          0.58,
          0.64,
          0.64,
          0.65,
          0.65,
          0.67,
          0.67,
          0.71,
          0.71,
          0.72,
          0.72,
          0.92,
          0.92,
          1
         ],
         "y": [
          0,
          0.02,
          0.02,
          0.06,
          0.06,
          0.12,
          0.12,
          0.2,
          0.2,
          0.26,
          0.26,
          0.3,
          0.3,
          0.4,
          0.4,
          0.42,
          0.42,
          0.44,
          0.44,
          0.48,
          0.48,
          0.54,
          0.54,
          0.68,
          0.68,
          0.7,
          0.7,
          0.72,
          0.72,
          0.72,
          0.72,
          0.74,
          0.74,
          0.76,
          0.76,
          0.78,
          0.78,
          0.8,
          0.8,
          0.82,
          0.82,
          0.84,
          0.84,
          0.86,
          0.86,
          0.88,
          0.88,
          0.9,
          0.9,
          0.92,
          0.92,
          0.94,
          0.94,
          0.96,
          0.96,
          0.98,
          0.98,
          1,
          1
         ]
        },
        {
         "mode": "lines",
         "name": "virginica (AUC=0.86)",
         "type": "scatter",
         "x": [
          0,
          0,
          0,
          0.01,
          0.01,
          0.02,
          0.02,
          0.03,
          0.03,
          0.05,
          0.05,
          0.06,
          0.06,
          0.08,
          0.08,
          0.08,
          0.09,
          0.09,
          0.1,
          0.1,
          0.13,
          0.13,
          0.15,
          0.15,
          0.39,
          0.39,
          0.59,
          0.59,
          0.68,
          0.68,
          0.75,
          0.75,
          0.76,
          0.76,
          0.94,
          0.97,
          1
         ],
         "y": [
          0,
          0.02,
          0.08,
          0.08,
          0.28,
          0.28,
          0.32,
          0.32,
          0.44,
          0.44,
          0.54,
          0.54,
          0.56,
          0.56,
          0.6,
          0.64,
          0.64,
          0.76,
          0.76,
          0.82,
          0.82,
          0.84,
          0.84,
          0.86,
          0.86,
          0.88,
          0.88,
          0.9,
          0.9,
          0.92,
          0.92,
          0.94,
          0.94,
          1,
          1,
          1,
          1
         ]
        }
       ],
       "layout": {
        "height": 500,
        "shapes": [
         {
          "line": {
           "dash": "dash"
          },
          "type": "line",
          "x0": 0,
          "x1": 1,
          "y0": 0,
          "y1": 1
         }
        ],
        "template": {
         "data": {
          "bar": [
           {
            "error_x": {
             "color": "#2a3f5f"
            },
            "error_y": {
             "color": "#2a3f5f"
            },
            "marker": {
             "line": {
              "color": "#E5ECF6",
              "width": 0.5
             },
             "pattern": {
              "fillmode": "overlay",
              "size": 10,
              "solidity": 0.2
             }
            },
            "type": "bar"
           }
          ],
          "barpolar": [
           {
            "marker": {
             "line": {
              "color": "#E5ECF6",
              "width": 0.5
             },
             "pattern": {
              "fillmode": "overlay",
              "size": 10,
              "solidity": 0.2
             }
            },
            "type": "barpolar"
           }
          ],
          "carpet": [
           {
            "aaxis": {
             "endlinecolor": "#2a3f5f",
             "gridcolor": "white",
             "linecolor": "white",
             "minorgridcolor": "white",
             "startlinecolor": "#2a3f5f"
            },
            "baxis": {
             "endlinecolor": "#2a3f5f",
             "gridcolor": "white",
             "linecolor": "white",
             "minorgridcolor": "white",
             "startlinecolor": "#2a3f5f"
            },
            "type": "carpet"
           }
          ],
          "choropleth": [
           {
            "colorbar": {
             "outlinewidth": 0,
             "ticks": ""
            },
            "type": "choropleth"
           }
          ],
          "contour": [
           {
            "colorbar": {
             "outlinewidth": 0,
             "ticks": ""
            },
            "colorscale": [
             [
              0,
              "#0d0887"
             ],
             [
              0.1111111111111111,
              "#46039f"
             ],
             [
              0.2222222222222222,
              "#7201a8"
             ],
             [
              0.3333333333333333,
              "#9c179e"
             ],
             [
              0.4444444444444444,
              "#bd3786"
             ],
             [
              0.5555555555555556,
              "#d8576b"
             ],
             [
              0.6666666666666666,
              "#ed7953"
             ],
             [
              0.7777777777777778,
              "#fb9f3a"
             ],
             [
              0.8888888888888888,
              "#fdca26"
             ],
             [
              1,
              "#f0f921"
             ]
            ],
            "type": "contour"
           }
          ],
          "contourcarpet": [
           {
            "colorbar": {
             "outlinewidth": 0,
             "ticks": ""
            },
            "type": "contourcarpet"
           }
          ],
          "heatmap": [
           {
            "colorbar": {
             "outlinewidth": 0,
             "ticks": ""
            },
            "colorscale": [
             [
              0,
              "#0d0887"
             ],
             [
              0.1111111111111111,
              "#46039f"
             ],
             [
              0.2222222222222222,
              "#7201a8"
             ],
             [
              0.3333333333333333,
              "#9c179e"
             ],
             [
              0.4444444444444444,
              "#bd3786"
             ],
             [
              0.5555555555555556,
              "#d8576b"
             ],
             [
              0.6666666666666666,
              "#ed7953"
             ],
             [
              0.7777777777777778,
              "#fb9f3a"
             ],
             [
              0.8888888888888888,
              "#fdca26"
             ],
             [
              1,
              "#f0f921"
             ]
            ],
            "type": "heatmap"
           }
          ],
          "heatmapgl": [
           {
            "colorbar": {
             "outlinewidth": 0,
             "ticks": ""
            },
            "colorscale": [
             [
              0,
              "#0d0887"
             ],
             [
              0.1111111111111111,
              "#46039f"
             ],
             [
              0.2222222222222222,
              "#7201a8"
             ],
             [
              0.3333333333333333,
              "#9c179e"
             ],
             [
              0.4444444444444444,
              "#bd3786"
             ],
             [
              0.5555555555555556,
              "#d8576b"
             ],
             [
              0.6666666666666666,
              "#ed7953"
             ],
             [
              0.7777777777777778,
              "#fb9f3a"
             ],
             [
              0.8888888888888888,
              "#fdca26"
             ],
             [
              1,
              "#f0f921"
             ]
            ],
            "type": "heatmapgl"
           }
          ],
          "histogram": [
           {
            "marker": {
             "pattern": {
              "fillmode": "overlay",
              "size": 10,
              "solidity": 0.2
             }
            },
            "type": "histogram"
           }
          ],
          "histogram2d": [
           {
            "colorbar": {
             "outlinewidth": 0,
             "ticks": ""
            },
            "colorscale": [
             [
              0,
              "#0d0887"
             ],
             [
              0.1111111111111111,
              "#46039f"
             ],
             [
              0.2222222222222222,
              "#7201a8"
             ],
             [
              0.3333333333333333,
              "#9c179e"
             ],
             [
              0.4444444444444444,
              "#bd3786"
             ],
             [
              0.5555555555555556,
              "#d8576b"
             ],
             [
              0.6666666666666666,
              "#ed7953"
             ],
             [
              0.7777777777777778,
              "#fb9f3a"
             ],
             [
              0.8888888888888888,
              "#fdca26"
             ],
             [
              1,
              "#f0f921"
             ]
            ],
            "type": "histogram2d"
           }
          ],
          "histogram2dcontour": [
           {
            "colorbar": {
             "outlinewidth": 0,
             "ticks": ""
            },
            "colorscale": [
             [
              0,
              "#0d0887"
             ],
             [
              0.1111111111111111,
              "#46039f"
             ],
             [
              0.2222222222222222,
              "#7201a8"
             ],
             [
              0.3333333333333333,
              "#9c179e"
             ],
             [
              0.4444444444444444,
              "#bd3786"
             ],
             [
              0.5555555555555556,
              "#d8576b"
             ],
             [
              0.6666666666666666,
              "#ed7953"
             ],
             [
              0.7777777777777778,
              "#fb9f3a"
             ],
             [
              0.8888888888888888,
              "#fdca26"
             ],
             [
              1,
              "#f0f921"
             ]
            ],
            "type": "histogram2dcontour"
           }
          ],
          "mesh3d": [
           {
            "colorbar": {
             "outlinewidth": 0,
             "ticks": ""
            },
            "type": "mesh3d"
           }
          ],
          "parcoords": [
           {
            "line": {
             "colorbar": {
              "outlinewidth": 0,
              "ticks": ""
             }
            },
            "type": "parcoords"
           }
          ],
          "pie": [
           {
            "automargin": true,
            "type": "pie"
           }
          ],
          "scatter": [
           {
            "fillpattern": {
             "fillmode": "overlay",
             "size": 10,
             "solidity": 0.2
            },
            "type": "scatter"
           }
          ],
          "scatter3d": [
           {
            "line": {
             "colorbar": {
              "outlinewidth": 0,
              "ticks": ""
             }
            },
            "marker": {
             "colorbar": {
              "outlinewidth": 0,
              "ticks": ""
             }
            },
            "type": "scatter3d"
           }
          ],
          "scattercarpet": [
           {
            "marker": {
             "colorbar": {
              "outlinewidth": 0,
              "ticks": ""
             }
            },
            "type": "scattercarpet"
           }
          ],
          "scattergeo": [
           {
            "marker": {
             "colorbar": {
              "outlinewidth": 0,
              "ticks": ""
             }
            },
            "type": "scattergeo"
           }
          ],
          "scattergl": [
           {
            "marker": {
             "colorbar": {
              "outlinewidth": 0,
              "ticks": ""
             }
            },
            "type": "scattergl"
           }
          ],
          "scattermapbox": [
           {
            "marker": {
             "colorbar": {
              "outlinewidth": 0,
              "ticks": ""
             }
            },
            "type": "scattermapbox"
           }
          ],
          "scatterpolar": [
           {
            "marker": {
             "colorbar": {
              "outlinewidth": 0,
              "ticks": ""
             }
            },
            "type": "scatterpolar"
           }
          ],
          "scatterpolargl": [
           {
            "marker": {
             "colorbar": {
              "outlinewidth": 0,
              "ticks": ""
             }
            },
            "type": "scatterpolargl"
           }
          ],
          "scatterternary": [
           {
            "marker": {
             "colorbar": {
              "outlinewidth": 0,
              "ticks": ""
             }
            },
            "type": "scatterternary"
           }
          ],
          "surface": [
           {
            "colorbar": {
             "outlinewidth": 0,
             "ticks": ""
            },
            "colorscale": [
             [
              0,
              "#0d0887"
             ],
             [
              0.1111111111111111,
              "#46039f"
             ],
             [
              0.2222222222222222,
              "#7201a8"
             ],
             [
              0.3333333333333333,
              "#9c179e"
             ],
             [
              0.4444444444444444,
              "#bd3786"
             ],
             [
              0.5555555555555556,
              "#d8576b"
             ],
             [
              0.6666666666666666,
              "#ed7953"
             ],
             [
              0.7777777777777778,
              "#fb9f3a"
             ],
             [
              0.8888888888888888,
              "#fdca26"
             ],
             [
              1,
              "#f0f921"
             ]
            ],
            "type": "surface"
           }
          ],
          "table": [
           {
            "cells": {
             "fill": {
              "color": "#EBF0F8"
             },
             "line": {
              "color": "white"
             }
            },
            "header": {
             "fill": {
              "color": "#C8D4E3"
             },
             "line": {
              "color": "white"
             }
            },
            "type": "table"
           }
          ]
         },
         "layout": {
          "annotationdefaults": {
           "arrowcolor": "#2a3f5f",
           "arrowhead": 0,
           "arrowwidth": 1
          },
          "autotypenumbers": "strict",
          "coloraxis": {
           "colorbar": {
            "outlinewidth": 0,
            "ticks": ""
           }
          },
          "colorscale": {
           "diverging": [
            [
             0,
             "#8e0152"
            ],
            [
             0.1,
             "#c51b7d"
            ],
            [
             0.2,
             "#de77ae"
            ],
            [
             0.3,
             "#f1b6da"
            ],
            [
             0.4,
             "#fde0ef"
            ],
            [
             0.5,
             "#f7f7f7"
            ],
            [
             0.6,
             "#e6f5d0"
            ],
            [
             0.7,
             "#b8e186"
            ],
            [
             0.8,
             "#7fbc41"
            ],
            [
             0.9,
             "#4d9221"
            ],
            [
             1,
             "#276419"
            ]
           ],
           "sequential": [
            [
             0,
             "#0d0887"
            ],
            [
             0.1111111111111111,
             "#46039f"
            ],
            [
             0.2222222222222222,
             "#7201a8"
            ],
            [
             0.3333333333333333,
             "#9c179e"
            ],
            [
             0.4444444444444444,
             "#bd3786"
            ],
            [
             0.5555555555555556,
             "#d8576b"
            ],
            [
             0.6666666666666666,
             "#ed7953"
            ],
            [
             0.7777777777777778,
             "#fb9f3a"
            ],
            [
             0.8888888888888888,
             "#fdca26"
            ],
            [
             1,
             "#f0f921"
            ]
           ],
           "sequentialminus": [
            [
             0,
             "#0d0887"
            ],
            [
             0.1111111111111111,
             "#46039f"
            ],
            [
             0.2222222222222222,
             "#7201a8"
            ],
            [
             0.3333333333333333,
             "#9c179e"
            ],
            [
             0.4444444444444444,
             "#bd3786"
            ],
            [
             0.5555555555555556,
             "#d8576b"
            ],
            [
             0.6666666666666666,
             "#ed7953"
            ],
            [
             0.7777777777777778,
             "#fb9f3a"
            ],
            [
             0.8888888888888888,
             "#fdca26"
            ],
            [
             1,
             "#f0f921"
            ]
           ]
          },
          "colorway": [
           "#636efa",
           "#EF553B",
           "#00cc96",
           "#ab63fa",
           "#FFA15A",
           "#19d3f3",
           "#FF6692",
           "#B6E880",
           "#FF97FF",
           "#FECB52"
          ],
          "font": {
           "color": "#2a3f5f"
          },
          "geo": {
           "bgcolor": "white",
           "lakecolor": "white",
           "landcolor": "#E5ECF6",
           "showlakes": true,
           "showland": true,
           "subunitcolor": "white"
          },
          "hoverlabel": {
           "align": "left"
          },
          "hovermode": "closest",
          "mapbox": {
           "style": "light"
          },
          "paper_bgcolor": "white",
          "plot_bgcolor": "#E5ECF6",
          "polar": {
           "angularaxis": {
            "gridcolor": "white",
            "linecolor": "white",
            "ticks": ""
           },
           "bgcolor": "#E5ECF6",
           "radialaxis": {
            "gridcolor": "white",
            "linecolor": "white",
            "ticks": ""
           }
          },
          "scene": {
           "xaxis": {
            "backgroundcolor": "#E5ECF6",
            "gridcolor": "white",
            "gridwidth": 2,
            "linecolor": "white",
            "showbackground": true,
            "ticks": "",
            "zerolinecolor": "white"
           },
           "yaxis": {
            "backgroundcolor": "#E5ECF6",
            "gridcolor": "white",
            "gridwidth": 2,
            "linecolor": "white",
            "showbackground": true,
            "ticks": "",
            "zerolinecolor": "white"
           },
           "zaxis": {
            "backgroundcolor": "#E5ECF6",
            "gridcolor": "white",
            "gridwidth": 2,
            "linecolor": "white",
            "showbackground": true,
            "ticks": "",
            "zerolinecolor": "white"
           }
          },
          "shapedefaults": {
           "line": {
            "color": "#2a3f5f"
           }
          },
          "ternary": {
           "aaxis": {
            "gridcolor": "white",
            "linecolor": "white",
            "ticks": ""
           },
           "baxis": {
            "gridcolor": "white",
            "linecolor": "white",
            "ticks": ""
           },
           "bgcolor": "#E5ECF6",
           "caxis": {
            "gridcolor": "white",
            "linecolor": "white",
            "ticks": ""
           }
          },
          "title": {
           "x": 0.05
          },
          "xaxis": {
           "automargin": true,
           "gridcolor": "white",
           "linecolor": "white",
           "ticks": "",
           "title": {
            "standoff": 15
           },
           "zerolinecolor": "white",
           "zerolinewidth": 2
          },
          "yaxis": {
           "automargin": true,
           "gridcolor": "white",
           "linecolor": "white",
           "ticks": "",
           "title": {
            "standoff": 15
           },
           "zerolinecolor": "white",
           "zerolinewidth": 2
          }
         }
        },
        "width": 700,
        "xaxis": {
         "constrain": "domain",
         "title": {
          "text": "False Positive Rate"
         }
        },
        "yaxis": {
         "scaleanchor": "x",
         "scaleratio": 1,
         "title": {
          "text": "True Positive Rate"
         }
        }
       }
      }
     },
     "metadata": {},
     "output_type": "display_data"
    }
   ],
   "source": [
    "# Create an empty figure, and iteratively add new lines\n",
    "# every time we compute a new class\n",
    "fig = go.Figure()\n",
    "fig.add_shape(\n",
    "    type=\"line\",\n",
    "    line=dict(dash='dash'),\n",
    "    x0=0, x1=1, y0=0, y1=1\n",
    ")\n",
    "\n",
    "for i in range(y_scores.shape[1]):\n",
    "    y_true = y_onehot.iloc[:, i]\n",
    "    y_score = y_scores[:, i]\n",
    "\n",
    "    fpr, tpr, _ = roc_curve(y_true, y_score)\n",
    "    auc_score = roc_auc_score(y_true, y_score)\n",
    "\n",
    "    name = f\"{y_onehot.columns[i]} (AUC={auc_score:.2f})\"\n",
    "\n",
    "    fig.add_trace(go.Scatter(x=fpr, y=tpr, name=name, mode='lines'))\n",
    "\n",
    "fig.update_layout(\n",
    "    xaxis_title='False Positive Rate',\n",
    "    yaxis_title='True Positive Rate',\n",
    "    yaxis=dict(scaleanchor=\"x\", scaleratio=1),\n",
    "    xaxis=dict(constrain='domain'),\n",
    "    width=700, height=500\n",
    ")\n",
    "\n",
    "fig.show()"
   ]
  },
  {
   "cell_type": "markdown",
   "metadata": {},
   "source": [
    "# Precision-Recall Curves"
   ]
  },
  {
   "cell_type": "code",
   "execution_count": 85,
   "metadata": {},
   "outputs": [],
   "source": [
    "X, y = make_classification(n_samples=500, random_state=0)"
   ]
  },
  {
   "cell_type": "code",
   "execution_count": 87,
   "metadata": {},
   "outputs": [
    {
     "data": {
      "text/html": [
       "<style>#sk-container-id-9 {color: black;}#sk-container-id-9 pre{padding: 0;}#sk-container-id-9 div.sk-toggleable {background-color: white;}#sk-container-id-9 label.sk-toggleable__label {cursor: pointer;display: block;width: 100%;margin-bottom: 0;padding: 0.3em;box-sizing: border-box;text-align: center;}#sk-container-id-9 label.sk-toggleable__label-arrow:before {content: \"▸\";float: left;margin-right: 0.25em;color: #696969;}#sk-container-id-9 label.sk-toggleable__label-arrow:hover:before {color: black;}#sk-container-id-9 div.sk-estimator:hover label.sk-toggleable__label-arrow:before {color: black;}#sk-container-id-9 div.sk-toggleable__content {max-height: 0;max-width: 0;overflow: hidden;text-align: left;background-color: #f0f8ff;}#sk-container-id-9 div.sk-toggleable__content pre {margin: 0.2em;color: black;border-radius: 0.25em;background-color: #f0f8ff;}#sk-container-id-9 input.sk-toggleable__control:checked~div.sk-toggleable__content {max-height: 200px;max-width: 100%;overflow: auto;}#sk-container-id-9 input.sk-toggleable__control:checked~label.sk-toggleable__label-arrow:before {content: \"▾\";}#sk-container-id-9 div.sk-estimator input.sk-toggleable__control:checked~label.sk-toggleable__label {background-color: #d4ebff;}#sk-container-id-9 div.sk-label input.sk-toggleable__control:checked~label.sk-toggleable__label {background-color: #d4ebff;}#sk-container-id-9 input.sk-hidden--visually {border: 0;clip: rect(1px 1px 1px 1px);clip: rect(1px, 1px, 1px, 1px);height: 1px;margin: -1px;overflow: hidden;padding: 0;position: absolute;width: 1px;}#sk-container-id-9 div.sk-estimator {font-family: monospace;background-color: #f0f8ff;border: 1px dotted black;border-radius: 0.25em;box-sizing: border-box;margin-bottom: 0.5em;}#sk-container-id-9 div.sk-estimator:hover {background-color: #d4ebff;}#sk-container-id-9 div.sk-parallel-item::after {content: \"\";width: 100%;border-bottom: 1px solid gray;flex-grow: 1;}#sk-container-id-9 div.sk-label:hover label.sk-toggleable__label {background-color: #d4ebff;}#sk-container-id-9 div.sk-serial::before {content: \"\";position: absolute;border-left: 1px solid gray;box-sizing: border-box;top: 0;bottom: 0;left: 50%;z-index: 0;}#sk-container-id-9 div.sk-serial {display: flex;flex-direction: column;align-items: center;background-color: white;padding-right: 0.2em;padding-left: 0.2em;position: relative;}#sk-container-id-9 div.sk-item {position: relative;z-index: 1;}#sk-container-id-9 div.sk-parallel {display: flex;align-items: stretch;justify-content: center;background-color: white;position: relative;}#sk-container-id-9 div.sk-item::before, #sk-container-id-9 div.sk-parallel-item::before {content: \"\";position: absolute;border-left: 1px solid gray;box-sizing: border-box;top: 0;bottom: 0;left: 50%;z-index: -1;}#sk-container-id-9 div.sk-parallel-item {display: flex;flex-direction: column;z-index: 1;position: relative;background-color: white;}#sk-container-id-9 div.sk-parallel-item:first-child::after {align-self: flex-end;width: 50%;}#sk-container-id-9 div.sk-parallel-item:last-child::after {align-self: flex-start;width: 50%;}#sk-container-id-9 div.sk-parallel-item:only-child::after {width: 0;}#sk-container-id-9 div.sk-dashed-wrapped {border: 1px dashed gray;margin: 0 0.4em 0.5em 0.4em;box-sizing: border-box;padding-bottom: 0.4em;background-color: white;}#sk-container-id-9 div.sk-label label {font-family: monospace;font-weight: bold;display: inline-block;line-height: 1.2em;}#sk-container-id-9 div.sk-label-container {text-align: center;}#sk-container-id-9 div.sk-container {/* jupyter's `normalize.less` sets `[hidden] { display: none; }` but bootstrap.min.css set `[hidden] { display: none !important; }` so we also need the `!important` here to be able to override the default hidden behavior on the sphinx rendered scikit-learn.org. See: https://github.com/scikit-learn/scikit-learn/issues/21755 */display: inline-block !important;position: relative;}#sk-container-id-9 div.sk-text-repr-fallback {display: none;}</style><div id=\"sk-container-id-9\" class=\"sk-top-container\"><div class=\"sk-text-repr-fallback\"><pre>LogisticRegression()</pre><b>In a Jupyter environment, please rerun this cell to show the HTML representation or trust the notebook. <br />On GitHub, the HTML representation is unable to render, please try loading this page with nbviewer.org.</b></div><div class=\"sk-container\" hidden><div class=\"sk-item\"><div class=\"sk-estimator sk-toggleable\"><input class=\"sk-toggleable__control sk-hidden--visually\" id=\"sk-estimator-id-9\" type=\"checkbox\" checked><label for=\"sk-estimator-id-9\" class=\"sk-toggleable__label sk-toggleable__label-arrow\">LogisticRegression</label><div class=\"sk-toggleable__content\"><pre>LogisticRegression()</pre></div></div></div></div></div>"
      ],
      "text/plain": [
       "LogisticRegression()"
      ]
     },
     "execution_count": 87,
     "metadata": {},
     "output_type": "execute_result"
    }
   ],
   "source": [
    "model = LogisticRegression()\n",
    "model.fit(X, y)"
   ]
  },
  {
   "cell_type": "code",
   "execution_count": 88,
   "metadata": {},
   "outputs": [
    {
     "data": {
      "text/plain": [
       "array([0.69570219, 0.93001569, 0.99212056, 0.93671581, 0.93177138])"
      ]
     },
     "execution_count": 88,
     "metadata": {},
     "output_type": "execute_result"
    }
   ],
   "source": [
    "y_score = model.predict_proba(X)[:, 1]\n",
    "y_score[:5]"
   ]
  },
  {
   "cell_type": "code",
   "execution_count": 89,
   "metadata": {},
   "outputs": [
    {
     "data": {
      "text/plain": [
       "(array([0.498     , 0.498998  , 0.5       , 0.50100604, 0.50201613]),\n",
       " array([1., 1., 1., 1., 1.]),\n",
       " array([0.00457785, 0.00514869, 0.00661475, 0.00827054, 0.00901408]))"
      ]
     },
     "execution_count": 89,
     "metadata": {},
     "output_type": "execute_result"
    }
   ],
   "source": [
    "precision, recall, thresholds = precision_recall_curve(y, y_score)\n",
    "precision[:5], recall[:5], thresholds[:5]"
   ]
  },
  {
   "cell_type": "code",
   "execution_count": 92,
   "metadata": {},
   "outputs": [
    {
     "data": {
      "text/plain": [
       "0.9268200322697185"
      ]
     },
     "execution_count": 92,
     "metadata": {},
     "output_type": "execute_result"
    }
   ],
   "source": [
    "auc_score = auc(recall, precision)\n",
    "auc_score"
   ]
  },
  {
   "cell_type": "code",
   "execution_count": 93,
   "metadata": {},
   "outputs": [
    {
     "data": {
      "application/vnd.plotly.v1+json": {
       "config": {
        "plotlyServerURL": "https://plot.ly"
       },
       "data": [
        {
         "fillpattern": {
          "shape": ""
         },
         "hovertemplate": "Recall=%{x}<br>Precision=%{y}<extra></extra>",
         "legendgroup": "",
         "line": {
          "color": "#636efa"
         },
         "marker": {
          "symbol": "circle"
         },
         "mode": "lines",
         "name": "",
         "orientation": "v",
         "showlegend": false,
         "stackgroup": "1",
         "type": "scatter",
         "x": [
          1,
          1,
          1,
          1,
          1,
          1,
          1,
          1,
          0.9959839357429718,
          0.9959839357429718,
          0.9959839357429718,
          0.9959839357429718,
          0.9959839357429718,
          0.9959839357429718,
          0.9959839357429718,
          0.9959839357429718,
          0.9959839357429718,
          0.9919678714859438,
          0.9919678714859438,
          0.9919678714859438,
          0.9919678714859438,
          0.9919678714859438,
          0.9919678714859438,
          0.9919678714859438,
          0.9919678714859438,
          0.9919678714859438,
          0.9919678714859438,
          0.9919678714859438,
          0.9919678714859438,
          0.9919678714859438,
          0.9919678714859438,
          0.9879518072289156,
          0.9879518072289156,
          0.9879518072289156,
          0.9879518072289156,
          0.9879518072289156,
          0.9879518072289156,
          0.9879518072289156,
          0.9879518072289156,
          0.9839357429718876,
          0.9839357429718876,
          0.9839357429718876,
          0.9839357429718876,
          0.9839357429718876,
          0.9839357429718876,
          0.9839357429718876,
          0.9839357429718876,
          0.9839357429718876,
          0.9799196787148594,
          0.9799196787148594,
          0.9799196787148594,
          0.9759036144578314,
          0.9759036144578314,
          0.9759036144578314,
          0.9759036144578314,
          0.9759036144578314,
          0.9759036144578314,
          0.9759036144578314,
          0.9759036144578314,
          0.9759036144578314,
          0.9759036144578314,
          0.9759036144578314,
          0.9718875502008032,
          0.9718875502008032,
          0.9718875502008032,
          0.9718875502008032,
          0.9718875502008032,
          0.9718875502008032,
          0.9718875502008032,
          0.9718875502008032,
          0.9718875502008032,
          0.9718875502008032,
          0.9718875502008032,
          0.9718875502008032,
          0.9718875502008032,
          0.9718875502008032,
          0.9718875502008032,
          0.9718875502008032,
          0.9718875502008032,
          0.9718875502008032,
          0.9718875502008032,
          0.9718875502008032,
          0.9678714859437751,
          0.9678714859437751,
          0.9678714859437751,
          0.9678714859437751,
          0.9678714859437751,
          0.9678714859437751,
          0.9678714859437751,
          0.9678714859437751,
          0.9678714859437751,
          0.9678714859437751,
          0.9678714859437751,
          0.9678714859437751,
          0.9678714859437751,
          0.9678714859437751,
          0.9678714859437751,
          0.9678714859437751,
          0.9678714859437751,
          0.963855421686747,
          0.963855421686747,
          0.9598393574297188,
          0.9598393574297188,
          0.9598393574297188,
          0.9598393574297188,
          0.9598393574297188,
          0.9598393574297188,
          0.9598393574297188,
          0.9598393574297188,
          0.9598393574297188,
          0.9598393574297188,
          0.9598393574297188,
          0.9598393574297188,
          0.9598393574297188,
          0.9598393574297188,
          0.9598393574297188,
          0.9598393574297188,
          0.9598393574297188,
          0.9598393574297188,
          0.9598393574297188,
          0.9598393574297188,
          0.9598393574297188,
          0.9598393574297188,
          0.9598393574297188,
          0.9598393574297188,
          0.9598393574297188,
          0.9598393574297188,
          0.9598393574297188,
          0.9598393574297188,
          0.9598393574297188,
          0.9558232931726908,
          0.9558232931726908,
          0.9558232931726908,
          0.9558232931726908,
          0.9558232931726908,
          0.9558232931726908,
          0.9558232931726908,
          0.9558232931726908,
          0.9558232931726908,
          0.9558232931726908,
          0.9518072289156626,
          0.9518072289156626,
          0.9518072289156626,
          0.9518072289156626,
          0.9518072289156626,
          0.9518072289156626,
          0.9518072289156626,
          0.9477911646586346,
          0.9477911646586346,
          0.9437751004016064,
          0.9437751004016064,
          0.9437751004016064,
          0.9437751004016064,
          0.9437751004016064,
          0.9437751004016064,
          0.9437751004016064,
          0.9437751004016064,
          0.9397590361445783,
          0.9357429718875502,
          0.9317269076305221,
          0.9317269076305221,
          0.9317269076305221,
          0.9317269076305221,
          0.9317269076305221,
          0.9317269076305221,
          0.927710843373494,
          0.9236947791164659,
          0.9236947791164659,
          0.9236947791164659,
          0.9236947791164659,
          0.9236947791164659,
          0.9196787148594378,
          0.9196787148594378,
          0.9196787148594378,
          0.9196787148594378,
          0.9196787148594378,
          0.9196787148594378,
          0.9196787148594378,
          0.9196787148594378,
          0.9196787148594378,
          0.9196787148594378,
          0.9196787148594378,
          0.9196787148594378,
          0.9196787148594378,
          0.9196787148594378,
          0.9196787148594378,
          0.9196787148594378,
          0.9196787148594378,
          0.9196787148594378,
          0.9196787148594378,
          0.9196787148594378,
          0.9196787148594378,
          0.9196787148594378,
          0.9196787148594378,
          0.9196787148594378,
          0.9196787148594378,
          0.9156626506024096,
          0.9116465863453815,
          0.9116465863453815,
          0.9116465863453815,
          0.9116465863453815,
          0.9116465863453815,
          0.9116465863453815,
          0.9076305220883534,
          0.9036144578313253,
          0.9036144578313253,
          0.9036144578313253,
          0.8995983935742972,
          0.8995983935742972,
          0.8955823293172691,
          0.891566265060241,
          0.891566265060241,
          0.891566265060241,
          0.891566265060241,
          0.891566265060241,
          0.8875502008032129,
          0.8835341365461847,
          0.8835341365461847,
          0.8835341365461847,
          0.8795180722891566,
          0.8755020080321285,
          0.8755020080321285,
          0.8755020080321285,
          0.8755020080321285,
          0.8755020080321285,
          0.8714859437751004,
          0.8674698795180723,
          0.8634538152610441,
          0.8594377510040161,
          0.8594377510040161,
          0.8594377510040161,
          0.8594377510040161,
          0.8554216867469879,
          0.8514056224899599,
          0.8473895582329317,
          0.8473895582329317,
          0.8473895582329317,
          0.8473895582329317,
          0.8473895582329317,
          0.8433734939759037,
          0.8433734939759037,
          0.8433734939759037,
          0.8393574297188755,
          0.8393574297188755,
          0.8393574297188755,
          0.8393574297188755,
          0.8353413654618473,
          0.8353413654618473,
          0.8313253012048193,
          0.8273092369477911,
          0.8273092369477911,
          0.8232931726907631,
          0.8232931726907631,
          0.8232931726907631,
          0.8232931726907631,
          0.8192771084337349,
          0.8152610441767069,
          0.8112449799196787,
          0.8072289156626506,
          0.8072289156626506,
          0.8072289156626506,
          0.8072289156626506,
          0.8072289156626506,
          0.8072289156626506,
          0.8032128514056225,
          0.8032128514056225,
          0.8032128514056225,
          0.8032128514056225,
          0.8032128514056225,
          0.7991967871485943,
          0.7991967871485943,
          0.7951807228915663,
          0.7911646586345381,
          0.7871485943775101,
          0.7871485943775101,
          0.7871485943775101,
          0.7871485943775101,
          0.7831325301204819,
          0.7791164658634538,
          0.7751004016064257,
          0.7710843373493976,
          0.7710843373493976,
          0.7710843373493976,
          0.7670682730923695,
          0.7630522088353414,
          0.7590361445783133,
          0.7590361445783133,
          0.7590361445783133,
          0.7550200803212851,
          0.7550200803212851,
          0.7550200803212851,
          0.7550200803212851,
          0.7550200803212851,
          0.751004016064257,
          0.7469879518072289,
          0.7469879518072289,
          0.7469879518072289,
          0.7429718875502008,
          0.7389558232931727,
          0.7349397590361446,
          0.7309236947791165,
          0.7309236947791165,
          0.7309236947791165,
          0.7309236947791165,
          0.7309236947791165,
          0.7309236947791165,
          0.7269076305220884,
          0.7269076305220884,
          0.7228915662650602,
          0.7228915662650602,
          0.7188755020080321,
          0.7188755020080321,
          0.714859437751004,
          0.7108433734939759,
          0.7068273092369478,
          0.7028112449799196,
          0.6987951807228916,
          0.6947791164658634,
          0.6907630522088354,
          0.6867469879518072,
          0.6827309236947792,
          0.678714859437751,
          0.678714859437751,
          0.6746987951807228,
          0.6706827309236948,
          0.6666666666666666,
          0.6626506024096386,
          0.6586345381526104,
          0.6546184738955824,
          0.6506024096385542,
          0.6465863453815262,
          0.642570281124498,
          0.6385542168674698,
          0.6345381526104418,
          0.6305220883534136,
          0.6265060240963856,
          0.6224899598393574,
          0.6224899598393574,
          0.6224899598393574,
          0.6184738955823293,
          0.6144578313253012,
          0.6104417670682731,
          0.6104417670682731,
          0.606425702811245,
          0.6024096385542169,
          0.6024096385542169,
          0.5983935742971888,
          0.5943775100401606,
          0.5903614457831325,
          0.5863453815261044,
          0.5823293172690763,
          0.5783132530120482,
          0.5742971887550201,
          0.570281124497992,
          0.5662650602409639,
          0.5622489959839357,
          0.5582329317269076,
          0.5542168674698795,
          0.5502008032128514,
          0.5502008032128514,
          0.5461847389558233,
          0.5421686746987951,
          0.5381526104417671,
          0.5381526104417671,
          0.5341365461847389,
          0.5341365461847389,
          0.5301204819277109,
          0.5261044176706827,
          0.5220883534136547,
          0.5180722891566265,
          0.5140562248995983,
          0.5140562248995983,
          0.5100401606425703,
          0.5060240963855421,
          0.5020080321285141,
          0.4979919678714859,
          0.4939759036144578,
          0.4899598393574297,
          0.4859437751004016,
          0.4819277108433735,
          0.4779116465863454,
          0.4738955823293173,
          0.46987951807228917,
          0.46586345381526106,
          0.46184738955823296,
          0.4578313253012048,
          0.4538152610441767,
          0.4497991967871486,
          0.4457831325301205,
          0.4457831325301205,
          0.44176706827309237,
          0.43775100401606426,
          0.43373493975903615,
          0.42971887550200805,
          0.42570281124497994,
          0.42168674698795183,
          0.41767068273092367,
          0.41365461847389556,
          0.40963855421686746,
          0.40562248995983935,
          0.40160642570281124,
          0.39759036144578314,
          0.39357429718875503,
          0.3895582329317269,
          0.3855421686746988,
          0.3815261044176707,
          0.37751004016064255,
          0.37349397590361444,
          0.36947791164658633,
          0.3654618473895582,
          0.3614457831325301,
          0.357429718875502,
          0.3534136546184739,
          0.3493975903614458,
          0.3453815261044177,
          0.3413654618473896,
          0.3373493975903614,
          0.3333333333333333,
          0.3293172690763052,
          0.3253012048192771,
          0.321285140562249,
          0.3172690763052209,
          0.3132530120481928,
          0.3092369477911647,
          0.30522088353413657,
          0.30120481927710846,
          0.2971887550200803,
          0.2931726907630522,
          0.2891566265060241,
          0.285140562248996,
          0.28112449799196787,
          0.27710843373493976,
          0.27309236947791166,
          0.26907630522088355,
          0.26506024096385544,
          0.26104417670682734,
          0.2570281124497992,
          0.25301204819277107,
          0.24899598393574296,
          0.24497991967871485,
          0.24096385542168675,
          0.23694779116465864,
          0.23293172690763053,
          0.2289156626506024,
          0.2248995983935743,
          0.22088353413654618,
          0.21686746987951808,
          0.21285140562248997,
          0.20883534136546184,
          0.20481927710843373,
          0.20080321285140562,
          0.19678714859437751,
          0.1927710843373494,
          0.18875502008032127,
          0.18473895582329317,
          0.18072289156626506,
          0.17670682730923695,
          0.17269076305220885,
          0.1686746987951807,
          0.1646586345381526,
          0.1606425702811245,
          0.1566265060240964,
          0.15261044176706828,
          0.14859437751004015,
          0.14457831325301204,
          0.14056224899598393,
          0.13654618473895583,
          0.13253012048192772,
          0.1285140562248996,
          0.12449799196787148,
          0.12048192771084337,
          0.11646586345381527,
          0.11244979919678715,
          0.10843373493975904,
          0.10441767068273092,
          0.10040160642570281,
          0.0963855421686747,
          0.09236947791164658,
          0.08835341365461848,
          0.08433734939759036,
          0.08032128514056225,
          0.07630522088353414,
          0.07228915662650602,
          0.06827309236947791,
          0.0642570281124498,
          0.060240963855421686,
          0.05622489959839357,
          0.05220883534136546,
          0.04819277108433735,
          0.04417670682730924,
          0.040160642570281124,
          0.03614457831325301,
          0.0321285140562249,
          0.028112449799196786,
          0.024096385542168676,
          0.020080321285140562,
          0.01606425702811245,
          0.012048192771084338,
          0.008032128514056224,
          0.004016064257028112,
          0
         ],
         "xaxis": "x",
         "y": [
          0.498,
          0.49899799599198397,
          0.5,
          0.5010060362173038,
          0.5020161290322581,
          0.503030303030303,
          0.5040485829959515,
          0.5050709939148073,
          0.5040650406504065,
          0.505091649694501,
          0.5061224489795918,
          0.5071574642126789,
          0.5081967213114754,
          0.5092402464065708,
          0.5102880658436214,
          0.511340206185567,
          0.512396694214876,
          0.5113871635610766,
          0.5124481327800829,
          0.5135135135135135,
          0.5145833333333333,
          0.5156576200417536,
          0.5167364016736402,
          0.5178197064989518,
          0.5189075630252101,
          0.52,
          0.5210970464135021,
          0.5221987315010571,
          0.5233050847457628,
          0.524416135881104,
          0.5255319148936171,
          0.5245202558635395,
          0.5256410256410257,
          0.5267665952890792,
          0.5278969957081545,
          0.5290322580645161,
          0.5301724137931034,
          0.531317494600432,
          0.5324675324675324,
          0.5314533622559653,
          0.532608695652174,
          0.5337690631808278,
          0.5349344978165939,
          0.5361050328227571,
          0.5372807017543859,
          0.5384615384615384,
          0.539647577092511,
          0.5408388520971302,
          0.5398230088495575,
          0.541019955654102,
          0.5422222222222223,
          0.5412026726057907,
          0.5424107142857143,
          0.5436241610738255,
          0.5448430493273543,
          0.5460674157303371,
          0.5472972972972973,
          0.5485327313769752,
          0.5497737556561086,
          0.5510204081632653,
          0.5522727272727272,
          0.5535307517084282,
          0.5525114155251142,
          0.5537757437070938,
          0.555045871559633,
          0.5563218390804597,
          0.5576036866359447,
          0.558891454965358,
          0.5601851851851852,
          0.5614849187935035,
          0.5627906976744186,
          0.5641025641025641,
          0.5654205607476636,
          0.5667447306791569,
          0.568075117370892,
          0.5694117647058824,
          0.5707547169811321,
          0.5721040189125296,
          0.5734597156398105,
          0.5748218527315915,
          0.5761904761904761,
          0.5775656324582339,
          0.5765550239234449,
          0.5779376498800959,
          0.5793269230769231,
          0.5807228915662651,
          0.5821256038647343,
          0.5835351089588378,
          0.5849514563106796,
          0.5863746958637469,
          0.5878048780487805,
          0.589242053789731,
          0.5906862745098039,
          0.5921375921375921,
          0.5935960591133005,
          0.5950617283950618,
          0.5965346534653465,
          0.598014888337469,
          0.599502487562189,
          0.5985037406483791,
          0.6,
          0.5989974937343359,
          0.6005025125628141,
          0.6020151133501259,
          0.6035353535353535,
          0.6050632911392405,
          0.6065989847715736,
          0.6081424936386769,
          0.6096938775510204,
          0.6112531969309463,
          0.6128205128205129,
          0.6143958868894601,
          0.615979381443299,
          0.6175710594315246,
          0.6191709844559585,
          0.6207792207792208,
          0.6223958333333334,
          0.6240208877284595,
          0.6256544502617801,
          0.6272965879265092,
          0.6289473684210526,
          0.6306068601583114,
          0.6322751322751323,
          0.6339522546419099,
          0.6356382978723404,
          0.6373333333333333,
          0.6390374331550802,
          0.6407506702412868,
          0.6424731182795699,
          0.6442048517520216,
          0.6432432432432432,
          0.6449864498644986,
          0.6467391304347826,
          0.6485013623978202,
          0.6502732240437158,
          0.6520547945205479,
          0.6538461538461539,
          0.6556473829201102,
          0.6574585635359116,
          0.6592797783933518,
          0.6583333333333333,
          0.6601671309192201,
          0.6620111731843575,
          0.6638655462184874,
          0.6657303370786517,
          0.6676056338028169,
          0.6694915254237288,
          0.6685552407932012,
          0.6704545454545454,
          0.6695156695156695,
          0.6714285714285714,
          0.673352435530086,
          0.6752873563218391,
          0.6772334293948127,
          0.6791907514450867,
          0.6811594202898551,
          0.6831395348837209,
          0.6822157434402333,
          0.6812865497076024,
          0.6803519061583577,
          0.6823529411764706,
          0.6843657817109144,
          0.6863905325443787,
          0.6884272997032641,
          0.6904761904761905,
          0.6895522388059702,
          0.688622754491018,
          0.6906906906906907,
          0.6927710843373494,
          0.6948640483383686,
          0.696969696969697,
          0.6960486322188449,
          0.698170731707317,
          0.7003058103975535,
          0.7024539877300614,
          0.7046153846153846,
          0.7067901234567902,
          0.7089783281733746,
          0.7111801242236024,
          0.7133956386292835,
          0.715625,
          0.7178683385579937,
          0.720125786163522,
          0.722397476340694,
          0.7246835443037974,
          0.726984126984127,
          0.7292993630573248,
          0.731629392971246,
          0.7339743589743589,
          0.7363344051446945,
          0.7387096774193549,
          0.7411003236245954,
          0.7435064935064936,
          0.745928338762215,
          0.7483660130718954,
          0.7508196721311475,
          0.75,
          0.7491749174917491,
          0.7516556291390728,
          0.7541528239202658,
          0.7566666666666667,
          0.7591973244147158,
          0.761744966442953,
          0.7609427609427609,
          0.7601351351351351,
          0.7627118644067796,
          0.7653061224489796,
          0.764505119453925,
          0.7671232876712328,
          0.7663230240549829,
          0.7655172413793103,
          0.7681660899653979,
          0.7708333333333334,
          0.7735191637630662,
          0.7762237762237763,
          0.775438596491228,
          0.7746478873239436,
          0.7773851590106007,
          0.7801418439716312,
          0.7793594306049823,
          0.7785714285714286,
          0.7813620071684588,
          0.7841726618705036,
          0.7870036101083032,
          0.7898550724637681,
          0.7890909090909091,
          0.7883211678832117,
          0.7875457875457875,
          0.7867647058823529,
          0.7896678966789668,
          0.7925925925925926,
          0.7955390334572491,
          0.7947761194029851,
          0.7940074906367042,
          0.793233082706767,
          0.7962264150943397,
          0.7992424242424242,
          0.8022813688212928,
          0.8053435114503816,
          0.8045977011494253,
          0.8076923076923077,
          0.8108108108108109,
          0.810077519379845,
          0.8132295719844358,
          0.81640625,
          0.8196078431372549,
          0.8188976377952756,
          0.8221343873517787,
          0.8214285714285714,
          0.8207171314741036,
          0.824,
          0.8232931726907631,
          0.8266129032258065,
          0.8299595141700404,
          0.8333333333333334,
          0.8326530612244898,
          0.8319672131147541,
          0.831275720164609,
          0.8305785123966942,
          0.8340248962655602,
          0.8375,
          0.8410041841004184,
          0.8445378151260504,
          0.8481012658227848,
          0.847457627118644,
          0.851063829787234,
          0.8547008547008547,
          0.8583690987124464,
          0.8620689655172413,
          0.8614718614718615,
          0.8652173913043478,
          0.8646288209606987,
          0.8640350877192983,
          0.8634361233480177,
          0.8672566371681416,
          0.8711111111111111,
          0.875,
          0.874439461883408,
          0.8738738738738738,
          0.8733031674208145,
          0.8727272727272727,
          0.8767123287671232,
          0.8807339449541285,
          0.880184331797235,
          0.8796296296296297,
          0.8790697674418605,
          0.883177570093458,
          0.8873239436619719,
          0.8867924528301887,
          0.8909952606635071,
          0.8952380952380953,
          0.8995215311004785,
          0.9038461538461539,
          0.9033816425120773,
          0.9029126213592233,
          0.9073170731707317,
          0.9117647058823529,
          0.9113300492610837,
          0.9108910891089109,
          0.9104477611940298,
          0.91,
          0.914572864321608,
          0.9191919191919192,
          0.9238578680203046,
          0.9285714285714286,
          0.9333333333333333,
          0.9329896907216495,
          0.9378238341968912,
          0.9375,
          0.9424083769633508,
          0.9421052631578948,
          0.9470899470899471,
          0.9468085106382979,
          0.946524064171123,
          0.946236559139785,
          0.9459459459459459,
          0.9456521739130435,
          0.9453551912568307,
          0.945054945054945,
          0.9447513812154696,
          0.9444444444444444,
          0.9441340782122905,
          0.949438202247191,
          0.9491525423728814,
          0.9488636363636364,
          0.9485714285714286,
          0.9482758620689655,
          0.9479768786127167,
          0.9476744186046512,
          0.9473684210526315,
          0.9470588235294117,
          0.9467455621301775,
          0.9464285714285714,
          0.9461077844311377,
          0.9457831325301205,
          0.9454545454545454,
          0.9451219512195121,
          0.950920245398773,
          0.9567901234567902,
          0.9565217391304348,
          0.95625,
          0.9559748427672956,
          0.9620253164556962,
          0.9617834394904459,
          0.9615384615384616,
          0.967741935483871,
          0.9675324675324676,
          0.9673202614379085,
          0.9671052631578947,
          0.9668874172185431,
          0.9666666666666667,
          0.9664429530201343,
          0.9662162162162162,
          0.9659863945578231,
          0.9657534246575342,
          0.9655172413793104,
          0.9652777777777778,
          0.965034965034965,
          0.9647887323943662,
          0.9716312056737588,
          0.9714285714285714,
          0.9712230215827338,
          0.9710144927536232,
          0.9781021897810219,
          0.9779411764705882,
          0.9851851851851852,
          0.9850746268656716,
          0.9849624060150376,
          0.9848484848484849,
          0.9847328244274809,
          0.9846153846153847,
          0.9922480620155039,
          0.9921875,
          0.9921259842519685,
          0.9920634920634921,
          0.992,
          0.9919354838709677,
          0.991869918699187,
          0.9918032786885246,
          0.9917355371900827,
          0.9916666666666667,
          0.9915966386554622,
          0.9915254237288136,
          0.9914529914529915,
          0.9913793103448276,
          0.991304347826087,
          0.9912280701754386,
          0.9911504424778761,
          0.9910714285714286,
          1,
          1,
          1,
          1,
          1,
          1,
          1,
          1,
          1,
          1,
          1,
          1,
          1,
          1,
          1,
          1,
          1,
          1,
          1,
          1,
          1,
          1,
          1,
          1,
          1,
          1,
          1,
          1,
          1,
          1,
          1,
          1,
          1,
          1,
          1,
          1,
          1,
          1,
          1,
          1,
          1,
          1,
          1,
          1,
          1,
          1,
          1,
          1,
          1,
          1,
          1,
          1,
          1,
          1,
          1,
          1,
          1,
          1,
          1,
          1,
          1,
          1,
          1,
          1,
          1,
          1,
          1,
          1,
          1,
          1,
          1,
          1,
          1,
          1,
          1,
          1,
          1,
          1,
          1,
          1,
          1,
          1,
          1,
          1,
          1,
          1,
          1,
          1,
          1,
          1,
          1,
          1,
          1,
          1,
          1,
          1,
          1,
          1,
          1,
          1,
          1,
          1,
          1,
          1,
          1,
          1,
          1,
          1,
          1,
          1,
          1,
          1
         ],
         "yaxis": "y"
        }
       ],
       "layout": {
        "height": 500,
        "legend": {
         "tracegroupgap": 0
        },
        "shapes": [
         {
          "line": {
           "dash": "dash"
          },
          "type": "line",
          "x0": 0,
          "x1": 1,
          "y0": 1,
          "y1": 0
         }
        ],
        "template": {
         "data": {
          "bar": [
           {
            "error_x": {
             "color": "#2a3f5f"
            },
            "error_y": {
             "color": "#2a3f5f"
            },
            "marker": {
             "line": {
              "color": "#E5ECF6",
              "width": 0.5
             },
             "pattern": {
              "fillmode": "overlay",
              "size": 10,
              "solidity": 0.2
             }
            },
            "type": "bar"
           }
          ],
          "barpolar": [
           {
            "marker": {
             "line": {
              "color": "#E5ECF6",
              "width": 0.5
             },
             "pattern": {
              "fillmode": "overlay",
              "size": 10,
              "solidity": 0.2
             }
            },
            "type": "barpolar"
           }
          ],
          "carpet": [
           {
            "aaxis": {
             "endlinecolor": "#2a3f5f",
             "gridcolor": "white",
             "linecolor": "white",
             "minorgridcolor": "white",
             "startlinecolor": "#2a3f5f"
            },
            "baxis": {
             "endlinecolor": "#2a3f5f",
             "gridcolor": "white",
             "linecolor": "white",
             "minorgridcolor": "white",
             "startlinecolor": "#2a3f5f"
            },
            "type": "carpet"
           }
          ],
          "choropleth": [
           {
            "colorbar": {
             "outlinewidth": 0,
             "ticks": ""
            },
            "type": "choropleth"
           }
          ],
          "contour": [
           {
            "colorbar": {
             "outlinewidth": 0,
             "ticks": ""
            },
            "colorscale": [
             [
              0,
              "#0d0887"
             ],
             [
              0.1111111111111111,
              "#46039f"
             ],
             [
              0.2222222222222222,
              "#7201a8"
             ],
             [
              0.3333333333333333,
              "#9c179e"
             ],
             [
              0.4444444444444444,
              "#bd3786"
             ],
             [
              0.5555555555555556,
              "#d8576b"
             ],
             [
              0.6666666666666666,
              "#ed7953"
             ],
             [
              0.7777777777777778,
              "#fb9f3a"
             ],
             [
              0.8888888888888888,
              "#fdca26"
             ],
             [
              1,
              "#f0f921"
             ]
            ],
            "type": "contour"
           }
          ],
          "contourcarpet": [
           {
            "colorbar": {
             "outlinewidth": 0,
             "ticks": ""
            },
            "type": "contourcarpet"
           }
          ],
          "heatmap": [
           {
            "colorbar": {
             "outlinewidth": 0,
             "ticks": ""
            },
            "colorscale": [
             [
              0,
              "#0d0887"
             ],
             [
              0.1111111111111111,
              "#46039f"
             ],
             [
              0.2222222222222222,
              "#7201a8"
             ],
             [
              0.3333333333333333,
              "#9c179e"
             ],
             [
              0.4444444444444444,
              "#bd3786"
             ],
             [
              0.5555555555555556,
              "#d8576b"
             ],
             [
              0.6666666666666666,
              "#ed7953"
             ],
             [
              0.7777777777777778,
              "#fb9f3a"
             ],
             [
              0.8888888888888888,
              "#fdca26"
             ],
             [
              1,
              "#f0f921"
             ]
            ],
            "type": "heatmap"
           }
          ],
          "heatmapgl": [
           {
            "colorbar": {
             "outlinewidth": 0,
             "ticks": ""
            },
            "colorscale": [
             [
              0,
              "#0d0887"
             ],
             [
              0.1111111111111111,
              "#46039f"
             ],
             [
              0.2222222222222222,
              "#7201a8"
             ],
             [
              0.3333333333333333,
              "#9c179e"
             ],
             [
              0.4444444444444444,
              "#bd3786"
             ],
             [
              0.5555555555555556,
              "#d8576b"
             ],
             [
              0.6666666666666666,
              "#ed7953"
             ],
             [
              0.7777777777777778,
              "#fb9f3a"
             ],
             [
              0.8888888888888888,
              "#fdca26"
             ],
             [
              1,
              "#f0f921"
             ]
            ],
            "type": "heatmapgl"
           }
          ],
          "histogram": [
           {
            "marker": {
             "pattern": {
              "fillmode": "overlay",
              "size": 10,
              "solidity": 0.2
             }
            },
            "type": "histogram"
           }
          ],
          "histogram2d": [
           {
            "colorbar": {
             "outlinewidth": 0,
             "ticks": ""
            },
            "colorscale": [
             [
              0,
              "#0d0887"
             ],
             [
              0.1111111111111111,
              "#46039f"
             ],
             [
              0.2222222222222222,
              "#7201a8"
             ],
             [
              0.3333333333333333,
              "#9c179e"
             ],
             [
              0.4444444444444444,
              "#bd3786"
             ],
             [
              0.5555555555555556,
              "#d8576b"
             ],
             [
              0.6666666666666666,
              "#ed7953"
             ],
             [
              0.7777777777777778,
              "#fb9f3a"
             ],
             [
              0.8888888888888888,
              "#fdca26"
             ],
             [
              1,
              "#f0f921"
             ]
            ],
            "type": "histogram2d"
           }
          ],
          "histogram2dcontour": [
           {
            "colorbar": {
             "outlinewidth": 0,
             "ticks": ""
            },
            "colorscale": [
             [
              0,
              "#0d0887"
             ],
             [
              0.1111111111111111,
              "#46039f"
             ],
             [
              0.2222222222222222,
              "#7201a8"
             ],
             [
              0.3333333333333333,
              "#9c179e"
             ],
             [
              0.4444444444444444,
              "#bd3786"
             ],
             [
              0.5555555555555556,
              "#d8576b"
             ],
             [
              0.6666666666666666,
              "#ed7953"
             ],
             [
              0.7777777777777778,
              "#fb9f3a"
             ],
             [
              0.8888888888888888,
              "#fdca26"
             ],
             [
              1,
              "#f0f921"
             ]
            ],
            "type": "histogram2dcontour"
           }
          ],
          "mesh3d": [
           {
            "colorbar": {
             "outlinewidth": 0,
             "ticks": ""
            },
            "type": "mesh3d"
           }
          ],
          "parcoords": [
           {
            "line": {
             "colorbar": {
              "outlinewidth": 0,
              "ticks": ""
             }
            },
            "type": "parcoords"
           }
          ],
          "pie": [
           {
            "automargin": true,
            "type": "pie"
           }
          ],
          "scatter": [
           {
            "fillpattern": {
             "fillmode": "overlay",
             "size": 10,
             "solidity": 0.2
            },
            "type": "scatter"
           }
          ],
          "scatter3d": [
           {
            "line": {
             "colorbar": {
              "outlinewidth": 0,
              "ticks": ""
             }
            },
            "marker": {
             "colorbar": {
              "outlinewidth": 0,
              "ticks": ""
             }
            },
            "type": "scatter3d"
           }
          ],
          "scattercarpet": [
           {
            "marker": {
             "colorbar": {
              "outlinewidth": 0,
              "ticks": ""
             }
            },
            "type": "scattercarpet"
           }
          ],
          "scattergeo": [
           {
            "marker": {
             "colorbar": {
              "outlinewidth": 0,
              "ticks": ""
             }
            },
            "type": "scattergeo"
           }
          ],
          "scattergl": [
           {
            "marker": {
             "colorbar": {
              "outlinewidth": 0,
              "ticks": ""
             }
            },
            "type": "scattergl"
           }
          ],
          "scattermapbox": [
           {
            "marker": {
             "colorbar": {
              "outlinewidth": 0,
              "ticks": ""
             }
            },
            "type": "scattermapbox"
           }
          ],
          "scatterpolar": [
           {
            "marker": {
             "colorbar": {
              "outlinewidth": 0,
              "ticks": ""
             }
            },
            "type": "scatterpolar"
           }
          ],
          "scatterpolargl": [
           {
            "marker": {
             "colorbar": {
              "outlinewidth": 0,
              "ticks": ""
             }
            },
            "type": "scatterpolargl"
           }
          ],
          "scatterternary": [
           {
            "marker": {
             "colorbar": {
              "outlinewidth": 0,
              "ticks": ""
             }
            },
            "type": "scatterternary"
           }
          ],
          "surface": [
           {
            "colorbar": {
             "outlinewidth": 0,
             "ticks": ""
            },
            "colorscale": [
             [
              0,
              "#0d0887"
             ],
             [
              0.1111111111111111,
              "#46039f"
             ],
             [
              0.2222222222222222,
              "#7201a8"
             ],
             [
              0.3333333333333333,
              "#9c179e"
             ],
             [
              0.4444444444444444,
              "#bd3786"
             ],
             [
              0.5555555555555556,
              "#d8576b"
             ],
             [
              0.6666666666666666,
              "#ed7953"
             ],
             [
              0.7777777777777778,
              "#fb9f3a"
             ],
             [
              0.8888888888888888,
              "#fdca26"
             ],
             [
              1,
              "#f0f921"
             ]
            ],
            "type": "surface"
           }
          ],
          "table": [
           {
            "cells": {
             "fill": {
              "color": "#EBF0F8"
             },
             "line": {
              "color": "white"
             }
            },
            "header": {
             "fill": {
              "color": "#C8D4E3"
             },
             "line": {
              "color": "white"
             }
            },
            "type": "table"
           }
          ]
         },
         "layout": {
          "annotationdefaults": {
           "arrowcolor": "#2a3f5f",
           "arrowhead": 0,
           "arrowwidth": 1
          },
          "autotypenumbers": "strict",
          "coloraxis": {
           "colorbar": {
            "outlinewidth": 0,
            "ticks": ""
           }
          },
          "colorscale": {
           "diverging": [
            [
             0,
             "#8e0152"
            ],
            [
             0.1,
             "#c51b7d"
            ],
            [
             0.2,
             "#de77ae"
            ],
            [
             0.3,
             "#f1b6da"
            ],
            [
             0.4,
             "#fde0ef"
            ],
            [
             0.5,
             "#f7f7f7"
            ],
            [
             0.6,
             "#e6f5d0"
            ],
            [
             0.7,
             "#b8e186"
            ],
            [
             0.8,
             "#7fbc41"
            ],
            [
             0.9,
             "#4d9221"
            ],
            [
             1,
             "#276419"
            ]
           ],
           "sequential": [
            [
             0,
             "#0d0887"
            ],
            [
             0.1111111111111111,
             "#46039f"
            ],
            [
             0.2222222222222222,
             "#7201a8"
            ],
            [
             0.3333333333333333,
             "#9c179e"
            ],
            [
             0.4444444444444444,
             "#bd3786"
            ],
            [
             0.5555555555555556,
             "#d8576b"
            ],
            [
             0.6666666666666666,
             "#ed7953"
            ],
            [
             0.7777777777777778,
             "#fb9f3a"
            ],
            [
             0.8888888888888888,
             "#fdca26"
            ],
            [
             1,
             "#f0f921"
            ]
           ],
           "sequentialminus": [
            [
             0,
             "#0d0887"
            ],
            [
             0.1111111111111111,
             "#46039f"
            ],
            [
             0.2222222222222222,
             "#7201a8"
            ],
            [
             0.3333333333333333,
             "#9c179e"
            ],
            [
             0.4444444444444444,
             "#bd3786"
            ],
            [
             0.5555555555555556,
             "#d8576b"
            ],
            [
             0.6666666666666666,
             "#ed7953"
            ],
            [
             0.7777777777777778,
             "#fb9f3a"
            ],
            [
             0.8888888888888888,
             "#fdca26"
            ],
            [
             1,
             "#f0f921"
            ]
           ]
          },
          "colorway": [
           "#636efa",
           "#EF553B",
           "#00cc96",
           "#ab63fa",
           "#FFA15A",
           "#19d3f3",
           "#FF6692",
           "#B6E880",
           "#FF97FF",
           "#FECB52"
          ],
          "font": {
           "color": "#2a3f5f"
          },
          "geo": {
           "bgcolor": "white",
           "lakecolor": "white",
           "landcolor": "#E5ECF6",
           "showlakes": true,
           "showland": true,
           "subunitcolor": "white"
          },
          "hoverlabel": {
           "align": "left"
          },
          "hovermode": "closest",
          "mapbox": {
           "style": "light"
          },
          "paper_bgcolor": "white",
          "plot_bgcolor": "#E5ECF6",
          "polar": {
           "angularaxis": {
            "gridcolor": "white",
            "linecolor": "white",
            "ticks": ""
           },
           "bgcolor": "#E5ECF6",
           "radialaxis": {
            "gridcolor": "white",
            "linecolor": "white",
            "ticks": ""
           }
          },
          "scene": {
           "xaxis": {
            "backgroundcolor": "#E5ECF6",
            "gridcolor": "white",
            "gridwidth": 2,
            "linecolor": "white",
            "showbackground": true,
            "ticks": "",
            "zerolinecolor": "white"
           },
           "yaxis": {
            "backgroundcolor": "#E5ECF6",
            "gridcolor": "white",
            "gridwidth": 2,
            "linecolor": "white",
            "showbackground": true,
            "ticks": "",
            "zerolinecolor": "white"
           },
           "zaxis": {
            "backgroundcolor": "#E5ECF6",
            "gridcolor": "white",
            "gridwidth": 2,
            "linecolor": "white",
            "showbackground": true,
            "ticks": "",
            "zerolinecolor": "white"
           }
          },
          "shapedefaults": {
           "line": {
            "color": "#2a3f5f"
           }
          },
          "ternary": {
           "aaxis": {
            "gridcolor": "white",
            "linecolor": "white",
            "ticks": ""
           },
           "baxis": {
            "gridcolor": "white",
            "linecolor": "white",
            "ticks": ""
           },
           "bgcolor": "#E5ECF6",
           "caxis": {
            "gridcolor": "white",
            "linecolor": "white",
            "ticks": ""
           }
          },
          "title": {
           "x": 0.05
          },
          "xaxis": {
           "automargin": true,
           "gridcolor": "white",
           "linecolor": "white",
           "ticks": "",
           "title": {
            "standoff": 15
           },
           "zerolinecolor": "white",
           "zerolinewidth": 2
          },
          "yaxis": {
           "automargin": true,
           "gridcolor": "white",
           "linecolor": "white",
           "ticks": "",
           "title": {
            "standoff": 15
           },
           "zerolinecolor": "white",
           "zerolinewidth": 2
          }
         }
        },
        "title": {
         "text": "Precision-Recall Curve (AUC=0.9268)"
        },
        "width": 700,
        "xaxis": {
         "anchor": "y",
         "constrain": "domain",
         "domain": [
          0,
          1
         ],
         "title": {
          "text": "Recall"
         }
        },
        "yaxis": {
         "anchor": "x",
         "domain": [
          0,
          1
         ],
         "scaleanchor": "x",
         "scaleratio": 1,
         "title": {
          "text": "Precision"
         }
        }
       }
      }
     },
     "metadata": {},
     "output_type": "display_data"
    }
   ],
   "source": [
    "fig = px.area(\n",
    "    x=recall,\n",
    "    y=precision,\n",
    "    title=f'Precision-Recall Curve (AUC={auc_score:.4f})',\n",
    "    labels=dict(x='Recall', y='Precision'),\n",
    "    width=700, height=500\n",
    ")\n",
    "fig.add_shape(\n",
    "    type='line',\n",
    "    line=dict(dash='dash'),\n",
    "    x0=0, x1=1, y0=1, y1=0\n",
    ")\n",
    "fig.update_yaxes(scaleanchor=\"x\", scaleratio=1)\n",
    "fig.update_xaxes(constrain='domain')\n",
    "\n",
    "fig.show()"
   ]
  },
  {
   "cell_type": "markdown",
   "metadata": {},
   "source": [
    "## In this example, we use the average precision metric, which is an alternative scoring method to the area under the PR curve"
   ]
  },
  {
   "cell_type": "code",
   "execution_count": 96,
   "metadata": {},
   "outputs": [
    {
     "data": {
      "text/html": [
       "<div>\n",
       "<style scoped>\n",
       "    .dataframe tbody tr th:only-of-type {\n",
       "        vertical-align: middle;\n",
       "    }\n",
       "\n",
       "    .dataframe tbody tr th {\n",
       "        vertical-align: top;\n",
       "    }\n",
       "\n",
       "    .dataframe thead th {\n",
       "        text-align: right;\n",
       "    }\n",
       "</style>\n",
       "<table border=\"1\" class=\"dataframe\">\n",
       "  <thead>\n",
       "    <tr style=\"text-align: right;\">\n",
       "      <th></th>\n",
       "      <th>sepal_length</th>\n",
       "      <th>sepal_width</th>\n",
       "      <th>petal_length</th>\n",
       "      <th>petal_width</th>\n",
       "      <th>species</th>\n",
       "      <th>species_id</th>\n",
       "    </tr>\n",
       "  </thead>\n",
       "  <tbody>\n",
       "    <tr>\n",
       "      <th>0</th>\n",
       "      <td>5.1</td>\n",
       "      <td>3.5</td>\n",
       "      <td>1.4</td>\n",
       "      <td>0.2</td>\n",
       "      <td>setosa</td>\n",
       "      <td>1</td>\n",
       "    </tr>\n",
       "    <tr>\n",
       "      <th>1</th>\n",
       "      <td>4.9</td>\n",
       "      <td>3.0</td>\n",
       "      <td>1.4</td>\n",
       "      <td>0.2</td>\n",
       "      <td>setosa</td>\n",
       "      <td>1</td>\n",
       "    </tr>\n",
       "    <tr>\n",
       "      <th>2</th>\n",
       "      <td>4.7</td>\n",
       "      <td>3.2</td>\n",
       "      <td>1.3</td>\n",
       "      <td>0.2</td>\n",
       "      <td>setosa</td>\n",
       "      <td>1</td>\n",
       "    </tr>\n",
       "    <tr>\n",
       "      <th>3</th>\n",
       "      <td>4.6</td>\n",
       "      <td>3.1</td>\n",
       "      <td>1.5</td>\n",
       "      <td>0.2</td>\n",
       "      <td>setosa</td>\n",
       "      <td>1</td>\n",
       "    </tr>\n",
       "    <tr>\n",
       "      <th>4</th>\n",
       "      <td>5.0</td>\n",
       "      <td>3.6</td>\n",
       "      <td>1.4</td>\n",
       "      <td>0.2</td>\n",
       "      <td>setosa</td>\n",
       "      <td>1</td>\n",
       "    </tr>\n",
       "  </tbody>\n",
       "</table>\n",
       "</div>"
      ],
      "text/plain": [
       "   sepal_length  sepal_width  petal_length  petal_width species  species_id\n",
       "0           5.1          3.5           1.4          0.2  setosa           1\n",
       "1           4.9          3.0           1.4          0.2  setosa           1\n",
       "2           4.7          3.2           1.3          0.2  setosa           1\n",
       "3           4.6          3.1           1.5          0.2  setosa           1\n",
       "4           5.0          3.6           1.4          0.2  setosa           1"
      ]
     },
     "execution_count": 96,
     "metadata": {},
     "output_type": "execute_result"
    }
   ],
   "source": [
    "# Artificially add noise to make task harder\n",
    "iris = px.data.iris()\n",
    "iris.head()"
   ]
  },
  {
   "cell_type": "code",
   "execution_count": 98,
   "metadata": {},
   "outputs": [
    {
     "data": {
      "text/html": [
       "<div>\n",
       "<style scoped>\n",
       "    .dataframe tbody tr th:only-of-type {\n",
       "        vertical-align: middle;\n",
       "    }\n",
       "\n",
       "    .dataframe tbody tr th {\n",
       "        vertical-align: top;\n",
       "    }\n",
       "\n",
       "    .dataframe thead th {\n",
       "        text-align: right;\n",
       "    }\n",
       "</style>\n",
       "<table border=\"1\" class=\"dataframe\">\n",
       "  <thead>\n",
       "    <tr style=\"text-align: right;\">\n",
       "      <th></th>\n",
       "      <th>sepal_length</th>\n",
       "      <th>sepal_width</th>\n",
       "      <th>petal_length</th>\n",
       "      <th>petal_width</th>\n",
       "      <th>species</th>\n",
       "      <th>species_id</th>\n",
       "    </tr>\n",
       "  </thead>\n",
       "  <tbody>\n",
       "    <tr>\n",
       "      <th>0</th>\n",
       "      <td>5.1</td>\n",
       "      <td>3.5</td>\n",
       "      <td>1.4</td>\n",
       "      <td>0.2</td>\n",
       "      <td>setosa</td>\n",
       "      <td>1</td>\n",
       "    </tr>\n",
       "    <tr>\n",
       "      <th>1</th>\n",
       "      <td>4.9</td>\n",
       "      <td>3.0</td>\n",
       "      <td>1.4</td>\n",
       "      <td>0.2</td>\n",
       "      <td>setosa</td>\n",
       "      <td>1</td>\n",
       "    </tr>\n",
       "    <tr>\n",
       "      <th>2</th>\n",
       "      <td>4.7</td>\n",
       "      <td>3.2</td>\n",
       "      <td>1.3</td>\n",
       "      <td>0.2</td>\n",
       "      <td>setosa</td>\n",
       "      <td>1</td>\n",
       "    </tr>\n",
       "    <tr>\n",
       "      <th>3</th>\n",
       "      <td>4.6</td>\n",
       "      <td>3.1</td>\n",
       "      <td>1.5</td>\n",
       "      <td>0.2</td>\n",
       "      <td>setosa</td>\n",
       "      <td>1</td>\n",
       "    </tr>\n",
       "    <tr>\n",
       "      <th>4</th>\n",
       "      <td>5.0</td>\n",
       "      <td>3.6</td>\n",
       "      <td>1.4</td>\n",
       "      <td>0.2</td>\n",
       "      <td>setosa</td>\n",
       "      <td>1</td>\n",
       "    </tr>\n",
       "  </tbody>\n",
       "</table>\n",
       "</div>"
      ],
      "text/plain": [
       "   sepal_length  sepal_width  petal_length  petal_width species  species_id\n",
       "0           5.1          3.5           1.4          0.2  setosa           1\n",
       "1           4.9          3.0           1.4          0.2  setosa           1\n",
       "2           4.7          3.2           1.3          0.2  setosa           1\n",
       "3           4.6          3.1           1.5          0.2  setosa           1\n",
       "4           5.0          3.6           1.4          0.2  setosa           1"
      ]
     },
     "execution_count": 98,
     "metadata": {},
     "output_type": "execute_result"
    }
   ],
   "source": [
    "samples = iris.species.sample(n=30, random_state=0)\n",
    "np.random.shuffle(samples.values)\n",
    "iris.loc[samples.index, 'species'] = samples.values\n",
    "iris.head()"
   ]
  },
  {
   "cell_type": "code",
   "execution_count": 100,
   "metadata": {},
   "outputs": [
    {
     "data": {
      "text/html": [
       "<div>\n",
       "<style scoped>\n",
       "    .dataframe tbody tr th:only-of-type {\n",
       "        vertical-align: middle;\n",
       "    }\n",
       "\n",
       "    .dataframe tbody tr th {\n",
       "        vertical-align: top;\n",
       "    }\n",
       "\n",
       "    .dataframe thead th {\n",
       "        text-align: right;\n",
       "    }\n",
       "</style>\n",
       "<table border=\"1\" class=\"dataframe\">\n",
       "  <thead>\n",
       "    <tr style=\"text-align: right;\">\n",
       "      <th></th>\n",
       "      <th>setosa</th>\n",
       "      <th>versicolor</th>\n",
       "      <th>virginica</th>\n",
       "    </tr>\n",
       "  </thead>\n",
       "  <tbody>\n",
       "    <tr>\n",
       "      <th>0</th>\n",
       "      <td>True</td>\n",
       "      <td>False</td>\n",
       "      <td>False</td>\n",
       "    </tr>\n",
       "    <tr>\n",
       "      <th>1</th>\n",
       "      <td>True</td>\n",
       "      <td>False</td>\n",
       "      <td>False</td>\n",
       "    </tr>\n",
       "    <tr>\n",
       "      <th>2</th>\n",
       "      <td>True</td>\n",
       "      <td>False</td>\n",
       "      <td>False</td>\n",
       "    </tr>\n",
       "    <tr>\n",
       "      <th>3</th>\n",
       "      <td>True</td>\n",
       "      <td>False</td>\n",
       "      <td>False</td>\n",
       "    </tr>\n",
       "    <tr>\n",
       "      <th>4</th>\n",
       "      <td>True</td>\n",
       "      <td>False</td>\n",
       "      <td>False</td>\n",
       "    </tr>\n",
       "  </tbody>\n",
       "</table>\n",
       "</div>"
      ],
      "text/plain": [
       "   setosa  versicolor  virginica\n",
       "0    True       False      False\n",
       "1    True       False      False\n",
       "2    True       False      False\n",
       "3    True       False      False\n",
       "4    True       False      False"
      ]
     },
     "execution_count": 100,
     "metadata": {},
     "output_type": "execute_result"
    }
   ],
   "source": [
    "# Define the inputs and outputs\n",
    "X = iris.drop(columns=['species', 'species_id'])\n",
    "y = iris['species']\n",
    "y_onehot = pd.get_dummies(y, columns=model.classes_)\n",
    "y_onehot.head()"
   ]
  },
  {
   "cell_type": "code",
   "execution_count": 101,
   "metadata": {},
   "outputs": [
    {
     "data": {
      "text/html": [
       "<style>#sk-container-id-10 {color: black;}#sk-container-id-10 pre{padding: 0;}#sk-container-id-10 div.sk-toggleable {background-color: white;}#sk-container-id-10 label.sk-toggleable__label {cursor: pointer;display: block;width: 100%;margin-bottom: 0;padding: 0.3em;box-sizing: border-box;text-align: center;}#sk-container-id-10 label.sk-toggleable__label-arrow:before {content: \"▸\";float: left;margin-right: 0.25em;color: #696969;}#sk-container-id-10 label.sk-toggleable__label-arrow:hover:before {color: black;}#sk-container-id-10 div.sk-estimator:hover label.sk-toggleable__label-arrow:before {color: black;}#sk-container-id-10 div.sk-toggleable__content {max-height: 0;max-width: 0;overflow: hidden;text-align: left;background-color: #f0f8ff;}#sk-container-id-10 div.sk-toggleable__content pre {margin: 0.2em;color: black;border-radius: 0.25em;background-color: #f0f8ff;}#sk-container-id-10 input.sk-toggleable__control:checked~div.sk-toggleable__content {max-height: 200px;max-width: 100%;overflow: auto;}#sk-container-id-10 input.sk-toggleable__control:checked~label.sk-toggleable__label-arrow:before {content: \"▾\";}#sk-container-id-10 div.sk-estimator input.sk-toggleable__control:checked~label.sk-toggleable__label {background-color: #d4ebff;}#sk-container-id-10 div.sk-label input.sk-toggleable__control:checked~label.sk-toggleable__label {background-color: #d4ebff;}#sk-container-id-10 input.sk-hidden--visually {border: 0;clip: rect(1px 1px 1px 1px);clip: rect(1px, 1px, 1px, 1px);height: 1px;margin: -1px;overflow: hidden;padding: 0;position: absolute;width: 1px;}#sk-container-id-10 div.sk-estimator {font-family: monospace;background-color: #f0f8ff;border: 1px dotted black;border-radius: 0.25em;box-sizing: border-box;margin-bottom: 0.5em;}#sk-container-id-10 div.sk-estimator:hover {background-color: #d4ebff;}#sk-container-id-10 div.sk-parallel-item::after {content: \"\";width: 100%;border-bottom: 1px solid gray;flex-grow: 1;}#sk-container-id-10 div.sk-label:hover label.sk-toggleable__label {background-color: #d4ebff;}#sk-container-id-10 div.sk-serial::before {content: \"\";position: absolute;border-left: 1px solid gray;box-sizing: border-box;top: 0;bottom: 0;left: 50%;z-index: 0;}#sk-container-id-10 div.sk-serial {display: flex;flex-direction: column;align-items: center;background-color: white;padding-right: 0.2em;padding-left: 0.2em;position: relative;}#sk-container-id-10 div.sk-item {position: relative;z-index: 1;}#sk-container-id-10 div.sk-parallel {display: flex;align-items: stretch;justify-content: center;background-color: white;position: relative;}#sk-container-id-10 div.sk-item::before, #sk-container-id-10 div.sk-parallel-item::before {content: \"\";position: absolute;border-left: 1px solid gray;box-sizing: border-box;top: 0;bottom: 0;left: 50%;z-index: -1;}#sk-container-id-10 div.sk-parallel-item {display: flex;flex-direction: column;z-index: 1;position: relative;background-color: white;}#sk-container-id-10 div.sk-parallel-item:first-child::after {align-self: flex-end;width: 50%;}#sk-container-id-10 div.sk-parallel-item:last-child::after {align-self: flex-start;width: 50%;}#sk-container-id-10 div.sk-parallel-item:only-child::after {width: 0;}#sk-container-id-10 div.sk-dashed-wrapped {border: 1px dashed gray;margin: 0 0.4em 0.5em 0.4em;box-sizing: border-box;padding-bottom: 0.4em;background-color: white;}#sk-container-id-10 div.sk-label label {font-family: monospace;font-weight: bold;display: inline-block;line-height: 1.2em;}#sk-container-id-10 div.sk-label-container {text-align: center;}#sk-container-id-10 div.sk-container {/* jupyter's `normalize.less` sets `[hidden] { display: none; }` but bootstrap.min.css set `[hidden] { display: none !important; }` so we also need the `!important` here to be able to override the default hidden behavior on the sphinx rendered scikit-learn.org. See: https://github.com/scikit-learn/scikit-learn/issues/21755 */display: inline-block !important;position: relative;}#sk-container-id-10 div.sk-text-repr-fallback {display: none;}</style><div id=\"sk-container-id-10\" class=\"sk-top-container\"><div class=\"sk-text-repr-fallback\"><pre>LogisticRegression(max_iter=200)</pre><b>In a Jupyter environment, please rerun this cell to show the HTML representation or trust the notebook. <br />On GitHub, the HTML representation is unable to render, please try loading this page with nbviewer.org.</b></div><div class=\"sk-container\" hidden><div class=\"sk-item\"><div class=\"sk-estimator sk-toggleable\"><input class=\"sk-toggleable__control sk-hidden--visually\" id=\"sk-estimator-id-10\" type=\"checkbox\" checked><label for=\"sk-estimator-id-10\" class=\"sk-toggleable__label sk-toggleable__label-arrow\">LogisticRegression</label><div class=\"sk-toggleable__content\"><pre>LogisticRegression(max_iter=200)</pre></div></div></div></div></div>"
      ],
      "text/plain": [
       "LogisticRegression(max_iter=200)"
      ]
     },
     "execution_count": 101,
     "metadata": {},
     "output_type": "execute_result"
    }
   ],
   "source": [
    "# Fit the model\n",
    "model = LogisticRegression(max_iter=200)\n",
    "model.fit(X, y)"
   ]
  },
  {
   "cell_type": "code",
   "execution_count": 102,
   "metadata": {},
   "outputs": [
    {
     "data": {
      "text/plain": [
       "array([[8.30403279e-01, 1.69478454e-01, 1.18266642e-04],\n",
       "       [7.86221597e-01, 2.13658046e-01, 1.20357409e-04],\n",
       "       [8.15262155e-01, 1.84629025e-01, 1.08820181e-04],\n",
       "       [7.75902253e-01, 2.23937466e-01, 1.60280658e-04],\n",
       "       [8.36781645e-01, 1.63095297e-01, 1.23058412e-04]])"
      ]
     },
     "execution_count": 102,
     "metadata": {},
     "output_type": "execute_result"
    }
   ],
   "source": [
    "y_scores = model.predict_proba(X)\n",
    "y_scores[:5]"
   ]
  },
  {
   "cell_type": "code",
   "execution_count": 106,
   "metadata": {},
   "outputs": [
    {
     "data": {
      "application/vnd.plotly.v1+json": {
       "config": {
        "plotlyServerURL": "https://plot.ly"
       },
       "data": [
        {
         "mode": "lines",
         "name": "setosa (AP=0.79)",
         "type": "scatter",
         "x": [
          1,
          1,
          1,
          1,
          1,
          1,
          1,
          1,
          1,
          1,
          1,
          1,
          1,
          1,
          1,
          1,
          1,
          1,
          1,
          1,
          1,
          1,
          1,
          1,
          1,
          1,
          1,
          1,
          1,
          1,
          1,
          1,
          1,
          1,
          1,
          1,
          1,
          1,
          1,
          0.98,
          0.96,
          0.96,
          0.96,
          0.96,
          0.96,
          0.96,
          0.96,
          0.96,
          0.96,
          0.96,
          0.96,
          0.96,
          0.96,
          0.96,
          0.96,
          0.96,
          0.96,
          0.96,
          0.94,
          0.92,
          0.92,
          0.92,
          0.92,
          0.92,
          0.9,
          0.9,
          0.9,
          0.9,
          0.9,
          0.9,
          0.9,
          0.9,
          0.88,
          0.88,
          0.88,
          0.88,
          0.88,
          0.88,
          0.88,
          0.88,
          0.86,
          0.86,
          0.86,
          0.86,
          0.86,
          0.86,
          0.86,
          0.86,
          0.86,
          0.86,
          0.86,
          0.86,
          0.86,
          0.86,
          0.86,
          0.84,
          0.84,
          0.84,
          0.84,
          0.84,
          0.82,
          0.8,
          0.78,
          0.76,
          0.74,
          0.74,
          0.72,
          0.7,
          0.66,
          0.66,
          0.64,
          0.64,
          0.62,
          0.6,
          0.58,
          0.58,
          0.56,
          0.54,
          0.52,
          0.5,
          0.48,
          0.46,
          0.44,
          0.42,
          0.4,
          0.38,
          0.36,
          0.34,
          0.32,
          0.3,
          0.28,
          0.26,
          0.24,
          0.22,
          0.2,
          0.18,
          0.16,
          0.14,
          0.12,
          0.1,
          0.1,
          0.08,
          0.06,
          0.04,
          0.04,
          0.04,
          0.02,
          0
         ],
         "y": [
          0.3333333333333333,
          0.33557046979865773,
          0.33783783783783783,
          0.3401360544217687,
          0.3424657534246575,
          0.3448275862068966,
          0.3472222222222222,
          0.34965034965034963,
          0.352112676056338,
          0.3546099290780142,
          0.35714285714285715,
          0.3597122302158273,
          0.36231884057971014,
          0.36496350364963503,
          0.36764705882352944,
          0.37037037037037035,
          0.373134328358209,
          0.37593984962406013,
          0.3787878787878788,
          0.3816793893129771,
          0.38461538461538464,
          0.3875968992248062,
          0.390625,
          0.3937007874015748,
          0.3968253968253968,
          0.4,
          0.4032258064516129,
          0.4065040650406504,
          0.4098360655737705,
          0.4132231404958678,
          0.4166666666666667,
          0.42016806722689076,
          0.423728813559322,
          0.42735042735042733,
          0.43103448275862066,
          0.43478260869565216,
          0.43859649122807015,
          0.44642857142857145,
          0.45045045045045046,
          0.44545454545454544,
          0.44036697247706424,
          0.4444444444444444,
          0.4485981308411215,
          0.4528301886792453,
          0.45714285714285713,
          0.46153846153846156,
          0.46601941747572817,
          0.47058823529411764,
          0.4752475247524752,
          0.48,
          0.48484848484848486,
          0.4897959183673469,
          0.4948453608247423,
          0.5,
          0.5052631578947369,
          0.5106382978723404,
          0.5161290322580645,
          0.5217391304347826,
          0.5164835164835165,
          0.5111111111111111,
          0.5168539325842697,
          0.5227272727272727,
          0.5287356321839081,
          0.5348837209302325,
          0.5294117647058824,
          0.5357142857142857,
          0.5421686746987951,
          0.5487804878048781,
          0.5555555555555556,
          0.5625,
          0.569620253164557,
          0.5769230769230769,
          0.5714285714285714,
          0.5789473684210527,
          0.5866666666666667,
          0.5945945945945946,
          0.6027397260273972,
          0.6111111111111112,
          0.6197183098591549,
          0.6285714285714286,
          0.6231884057971014,
          0.6323529411764706,
          0.6417910447761194,
          0.6515151515151515,
          0.6615384615384615,
          0.671875,
          0.6825396825396826,
          0.6935483870967742,
          0.7049180327868853,
          0.7166666666666667,
          0.7288135593220338,
          0.7413793103448276,
          0.7543859649122807,
          0.7678571428571429,
          0.7818181818181819,
          0.7777777777777778,
          0.7924528301886793,
          0.8076923076923077,
          0.8235294117647058,
          0.84,
          0.8367346938775511,
          0.8333333333333334,
          0.8297872340425532,
          0.8260869565217391,
          0.8222222222222222,
          0.8409090909090909,
          0.8372093023255814,
          0.8333333333333334,
          0.8461538461538461,
          0.868421052631579,
          0.8648648648648649,
          0.8888888888888888,
          0.8857142857142857,
          0.8823529411764706,
          0.8787878787878788,
          0.90625,
          0.9032258064516129,
          0.9,
          0.896551724137931,
          0.8928571428571429,
          0.8888888888888888,
          0.8846153846153846,
          0.88,
          0.875,
          0.8695652173913043,
          0.8636363636363636,
          0.8571428571428571,
          0.85,
          0.8421052631578947,
          0.8333333333333334,
          0.8235294117647058,
          0.8125,
          0.8,
          0.7857142857142857,
          0.7692307692307693,
          0.75,
          0.7272727272727273,
          0.7,
          0.6666666666666666,
          0.625,
          0.7142857142857143,
          0.6666666666666666,
          0.6,
          0.5,
          0.6666666666666666,
          1,
          1,
          1
         ]
        },
        {
         "mode": "lines",
         "name": "versicolor (AP=0.80)",
         "type": "scatter",
         "x": [
          1,
          1,
          1,
          1,
          1,
          1,
          1,
          1,
          1,
          1,
          1,
          1,
          1,
          1,
          1,
          1,
          1,
          1,
          1,
          1,
          1,
          1,
          1,
          1,
          1,
          1,
          0.98,
          0.98,
          0.96,
          0.96,
          0.96,
          0.94,
          0.94,
          0.94,
          0.94,
          0.94,
          0.92,
          0.92,
          0.92,
          0.92,
          0.92,
          0.92,
          0.92,
          0.92,
          0.92,
          0.92,
          0.92,
          0.92,
          0.92,
          0.92,
          0.92,
          0.92,
          0.92,
          0.92,
          0.92,
          0.92,
          0.92,
          0.92,
          0.92,
          0.92,
          0.92,
          0.92,
          0.92,
          0.92,
          0.92,
          0.92,
          0.92,
          0.92,
          0.92,
          0.92,
          0.9,
          0.88,
          0.86,
          0.86,
          0.86,
          0.86,
          0.86,
          0.86,
          0.84,
          0.84,
          0.84,
          0.84,
          0.84,
          0.84,
          0.84,
          0.84,
          0.84,
          0.84,
          0.84,
          0.82,
          0.82,
          0.82,
          0.82,
          0.82,
          0.82,
          0.8,
          0.78,
          0.76,
          0.74,
          0.74,
          0.74,
          0.74,
          0.72,
          0.7,
          0.7,
          0.7,
          0.7,
          0.7,
          0.68,
          0.68,
          0.66,
          0.64,
          0.64,
          0.62,
          0.6,
          0.6,
          0.58,
          0.56,
          0.54,
          0.52,
          0.5,
          0.48,
          0.46,
          0.44,
          0.42,
          0.4,
          0.38,
          0.36,
          0.34,
          0.32,
          0.3,
          0.28,
          0.26,
          0.26,
          0.24,
          0.22,
          0.2,
          0.18,
          0.16,
          0.14,
          0.12,
          0.1,
          0.08,
          0.06,
          0.04,
          0.02,
          0,
          0
         ],
         "y": [
          0.3333333333333333,
          0.33557046979865773,
          0.33783783783783783,
          0.3401360544217687,
          0.3424657534246575,
          0.3448275862068966,
          0.3472222222222222,
          0.34965034965034963,
          0.352112676056338,
          0.3546099290780142,
          0.35714285714285715,
          0.3597122302158273,
          0.36231884057971014,
          0.36496350364963503,
          0.36764705882352944,
          0.37037037037037035,
          0.373134328358209,
          0.37593984962406013,
          0.3787878787878788,
          0.3816793893129771,
          0.38461538461538464,
          0.3875968992248062,
          0.390625,
          0.3937007874015748,
          0.3968253968253968,
          0.4,
          0.3951612903225806,
          0.3983739837398374,
          0.39344262295081966,
          0.39669421487603307,
          0.4,
          0.3949579831932773,
          0.3983050847457627,
          0.4017094017094017,
          0.4051724137931034,
          0.40869565217391307,
          0.40350877192982454,
          0.40707964601769914,
          0.4107142857142857,
          0.4144144144144144,
          0.41818181818181815,
          0.42201834862385323,
          0.42592592592592593,
          0.42990654205607476,
          0.4339622641509434,
          0.4380952380952381,
          0.4423076923076923,
          0.44660194174757284,
          0.45098039215686275,
          0.45544554455445546,
          0.46,
          0.46464646464646464,
          0.46938775510204084,
          0.4742268041237113,
          0.4791666666666667,
          0.4842105263157895,
          0.48936170212765956,
          0.4946236559139785,
          0.5,
          0.5054945054945055,
          0.5111111111111111,
          0.5168539325842697,
          0.5227272727272727,
          0.5287356321839081,
          0.5348837209302325,
          0.5411764705882353,
          0.5476190476190477,
          0.5542168674698795,
          0.5609756097560976,
          0.5679012345679012,
          0.5625,
          0.5569620253164557,
          0.5657894736842105,
          0.5733333333333334,
          0.581081081081081,
          0.589041095890411,
          0.5972222222222222,
          0.6056338028169014,
          0.6,
          0.6086956521739131,
          0.6176470588235294,
          0.6268656716417911,
          0.6363636363636364,
          0.6461538461538462,
          0.6666666666666666,
          0.6774193548387096,
          0.6885245901639344,
          0.7,
          0.711864406779661,
          0.7068965517241379,
          0.7192982456140351,
          0.7321428571428571,
          0.7454545454545455,
          0.7592592592592593,
          0.7735849056603774,
          0.7692307692307693,
          0.7647058823529411,
          0.76,
          0.7551020408163265,
          0.7708333333333334,
          0.7872340425531915,
          0.8043478260869565,
          0.8,
          0.7954545454545454,
          0.813953488372093,
          0.8333333333333334,
          0.8536585365853658,
          0.875,
          0.8717948717948718,
          0.8947368421052632,
          0.8918918918918919,
          0.8888888888888888,
          0.9142857142857143,
          0.9117647058823529,
          0.9090909090909091,
          0.9375,
          0.9354838709677419,
          0.9333333333333333,
          0.9310344827586207,
          0.9285714285714286,
          0.9259259259259259,
          0.9230769230769231,
          0.92,
          0.9166666666666666,
          0.9130434782608695,
          0.9090909090909091,
          0.9047619047619048,
          0.9,
          0.8947368421052632,
          0.8888888888888888,
          0.8823529411764706,
          0.875,
          0.8666666666666667,
          0.9285714285714286,
          0.9230769230769231,
          0.9166666666666666,
          0.9090909090909091,
          0.9,
          0.8888888888888888,
          0.875,
          0.8571428571428571,
          0.8333333333333334,
          0.8,
          0.75,
          0.6666666666666666,
          0.5,
          0,
          1
         ]
        },
        {
         "mode": "lines",
         "name": "virginica (AP=0.96)",
         "type": "scatter",
         "x": [
          1,
          1,
          1,
          1,
          1,
          1,
          1,
          1,
          1,
          1,
          1,
          1,
          1,
          1,
          1,
          1,
          1,
          1,
          1,
          1,
          1,
          1,
          1,
          1,
          1,
          1,
          1,
          1,
          1,
          1,
          1,
          1,
          1,
          1,
          1,
          1,
          1,
          1,
          1,
          1,
          1,
          1,
          1,
          0.98,
          0.98,
          0.98,
          0.98,
          0.98,
          0.98,
          0.98,
          0.98,
          0.98,
          0.98,
          0.98,
          0.98,
          0.98,
          0.98,
          0.98,
          0.98,
          0.98,
          0.98,
          0.98,
          0.98,
          0.98,
          0.98,
          0.98,
          0.98,
          0.98,
          0.98,
          0.98,
          0.98,
          0.98,
          0.98,
          0.98,
          0.98,
          0.98,
          0.98,
          0.98,
          0.98,
          0.98,
          0.98,
          0.98,
          0.98,
          0.98,
          0.98,
          0.98,
          0.98,
          0.98,
          0.98,
          0.96,
          0.94,
          0.94,
          0.94,
          0.92,
          0.92,
          0.92,
          0.9,
          0.9,
          0.88,
          0.88,
          0.88,
          0.88,
          0.86,
          0.84,
          0.82,
          0.8,
          0.8,
          0.78,
          0.76,
          0.74,
          0.7,
          0.68,
          0.66,
          0.66,
          0.64,
          0.62,
          0.6,
          0.58,
          0.56,
          0.54,
          0.52,
          0.5,
          0.48,
          0.48,
          0.46,
          0.44,
          0.42,
          0.4,
          0.38,
          0.36,
          0.34,
          0.32,
          0.3,
          0.28,
          0.26,
          0.24,
          0.22,
          0.2,
          0.18,
          0.16,
          0.14,
          0.12,
          0.1,
          0.08,
          0.06,
          0.04,
          0.02,
          0
         ],
         "y": [
          0.3333333333333333,
          0.33557046979865773,
          0.33783783783783783,
          0.3401360544217687,
          0.3424657534246575,
          0.3448275862068966,
          0.3472222222222222,
          0.34965034965034963,
          0.352112676056338,
          0.3546099290780142,
          0.36231884057971014,
          0.36496350364963503,
          0.36764705882352944,
          0.37037037037037035,
          0.373134328358209,
          0.37593984962406013,
          0.3787878787878788,
          0.3816793893129771,
          0.38461538461538464,
          0.3875968992248062,
          0.390625,
          0.3937007874015748,
          0.3968253968253968,
          0.4,
          0.4032258064516129,
          0.4065040650406504,
          0.4098360655737705,
          0.4132231404958678,
          0.4166666666666667,
          0.42016806722689076,
          0.423728813559322,
          0.42735042735042733,
          0.43103448275862066,
          0.43478260869565216,
          0.43859649122807015,
          0.4424778761061947,
          0.44642857142857145,
          0.45045045045045046,
          0.45454545454545453,
          0.45871559633027525,
          0.46296296296296297,
          0.4672897196261682,
          0.4716981132075472,
          0.4666666666666667,
          0.47115384615384615,
          0.47572815533980584,
          0.4803921568627451,
          0.48514851485148514,
          0.49,
          0.494949494949495,
          0.5,
          0.5051546391752577,
          0.5104166666666666,
          0.5157894736842106,
          0.5212765957446809,
          0.5268817204301075,
          0.532608695652174,
          0.5384615384615384,
          0.5444444444444444,
          0.550561797752809,
          0.5568181818181818,
          0.5632183908045977,
          0.5697674418604651,
          0.5764705882352941,
          0.5833333333333334,
          0.5903614457831325,
          0.5975609756097561,
          0.6049382716049383,
          0.6125,
          0.620253164556962,
          0.6282051282051282,
          0.6363636363636364,
          0.6447368421052632,
          0.6533333333333333,
          0.6621621621621622,
          0.6712328767123288,
          0.6805555555555556,
          0.6901408450704225,
          0.7,
          0.7101449275362319,
          0.7205882352941176,
          0.7313432835820896,
          0.7424242424242424,
          0.7538461538461538,
          0.765625,
          0.7777777777777778,
          0.7903225806451613,
          0.8032786885245902,
          0.8166666666666667,
          0.8135593220338984,
          0.8103448275862069,
          0.8245614035087719,
          0.8392857142857143,
          0.8363636363636363,
          0.8518518518518519,
          0.8679245283018868,
          0.8653846153846154,
          0.8823529411764706,
          0.88,
          0.8979591836734694,
          0.9166666666666666,
          0.9361702127659575,
          0.9347826086956522,
          0.9333333333333333,
          0.9318181818181818,
          0.9302325581395349,
          0.9523809523809523,
          0.9512195121951219,
          0.95,
          0.9487179487179487,
          0.9459459459459459,
          0.9444444444444444,
          0.9428571428571428,
          0.9705882352941176,
          0.9696969696969697,
          0.96875,
          0.967741935483871,
          0.9666666666666667,
          0.9655172413793104,
          0.9642857142857143,
          0.9629629629629629,
          0.9615384615384616,
          0.96,
          1,
          1,
          1,
          1,
          1,
          1,
          1,
          1,
          1,
          1,
          1,
          1,
          1,
          1,
          1,
          1,
          1,
          1,
          1,
          1,
          1,
          1,
          1,
          1,
          1
         ]
        }
       ],
       "layout": {
        "height": 500,
        "shapes": [
         {
          "line": {
           "dash": "dash"
          },
          "type": "line",
          "x0": 0,
          "x1": 1,
          "y0": 1,
          "y1": 0
         }
        ],
        "template": {
         "data": {
          "bar": [
           {
            "error_x": {
             "color": "#2a3f5f"
            },
            "error_y": {
             "color": "#2a3f5f"
            },
            "marker": {
             "line": {
              "color": "#E5ECF6",
              "width": 0.5
             },
             "pattern": {
              "fillmode": "overlay",
              "size": 10,
              "solidity": 0.2
             }
            },
            "type": "bar"
           }
          ],
          "barpolar": [
           {
            "marker": {
             "line": {
              "color": "#E5ECF6",
              "width": 0.5
             },
             "pattern": {
              "fillmode": "overlay",
              "size": 10,
              "solidity": 0.2
             }
            },
            "type": "barpolar"
           }
          ],
          "carpet": [
           {
            "aaxis": {
             "endlinecolor": "#2a3f5f",
             "gridcolor": "white",
             "linecolor": "white",
             "minorgridcolor": "white",
             "startlinecolor": "#2a3f5f"
            },
            "baxis": {
             "endlinecolor": "#2a3f5f",
             "gridcolor": "white",
             "linecolor": "white",
             "minorgridcolor": "white",
             "startlinecolor": "#2a3f5f"
            },
            "type": "carpet"
           }
          ],
          "choropleth": [
           {
            "colorbar": {
             "outlinewidth": 0,
             "ticks": ""
            },
            "type": "choropleth"
           }
          ],
          "contour": [
           {
            "colorbar": {
             "outlinewidth": 0,
             "ticks": ""
            },
            "colorscale": [
             [
              0,
              "#0d0887"
             ],
             [
              0.1111111111111111,
              "#46039f"
             ],
             [
              0.2222222222222222,
              "#7201a8"
             ],
             [
              0.3333333333333333,
              "#9c179e"
             ],
             [
              0.4444444444444444,
              "#bd3786"
             ],
             [
              0.5555555555555556,
              "#d8576b"
             ],
             [
              0.6666666666666666,
              "#ed7953"
             ],
             [
              0.7777777777777778,
              "#fb9f3a"
             ],
             [
              0.8888888888888888,
              "#fdca26"
             ],
             [
              1,
              "#f0f921"
             ]
            ],
            "type": "contour"
           }
          ],
          "contourcarpet": [
           {
            "colorbar": {
             "outlinewidth": 0,
             "ticks": ""
            },
            "type": "contourcarpet"
           }
          ],
          "heatmap": [
           {
            "colorbar": {
             "outlinewidth": 0,
             "ticks": ""
            },
            "colorscale": [
             [
              0,
              "#0d0887"
             ],
             [
              0.1111111111111111,
              "#46039f"
             ],
             [
              0.2222222222222222,
              "#7201a8"
             ],
             [
              0.3333333333333333,
              "#9c179e"
             ],
             [
              0.4444444444444444,
              "#bd3786"
             ],
             [
              0.5555555555555556,
              "#d8576b"
             ],
             [
              0.6666666666666666,
              "#ed7953"
             ],
             [
              0.7777777777777778,
              "#fb9f3a"
             ],
             [
              0.8888888888888888,
              "#fdca26"
             ],
             [
              1,
              "#f0f921"
             ]
            ],
            "type": "heatmap"
           }
          ],
          "heatmapgl": [
           {
            "colorbar": {
             "outlinewidth": 0,
             "ticks": ""
            },
            "colorscale": [
             [
              0,
              "#0d0887"
             ],
             [
              0.1111111111111111,
              "#46039f"
             ],
             [
              0.2222222222222222,
              "#7201a8"
             ],
             [
              0.3333333333333333,
              "#9c179e"
             ],
             [
              0.4444444444444444,
              "#bd3786"
             ],
             [
              0.5555555555555556,
              "#d8576b"
             ],
             [
              0.6666666666666666,
              "#ed7953"
             ],
             [
              0.7777777777777778,
              "#fb9f3a"
             ],
             [
              0.8888888888888888,
              "#fdca26"
             ],
             [
              1,
              "#f0f921"
             ]
            ],
            "type": "heatmapgl"
           }
          ],
          "histogram": [
           {
            "marker": {
             "pattern": {
              "fillmode": "overlay",
              "size": 10,
              "solidity": 0.2
             }
            },
            "type": "histogram"
           }
          ],
          "histogram2d": [
           {
            "colorbar": {
             "outlinewidth": 0,
             "ticks": ""
            },
            "colorscale": [
             [
              0,
              "#0d0887"
             ],
             [
              0.1111111111111111,
              "#46039f"
             ],
             [
              0.2222222222222222,
              "#7201a8"
             ],
             [
              0.3333333333333333,
              "#9c179e"
             ],
             [
              0.4444444444444444,
              "#bd3786"
             ],
             [
              0.5555555555555556,
              "#d8576b"
             ],
             [
              0.6666666666666666,
              "#ed7953"
             ],
             [
              0.7777777777777778,
              "#fb9f3a"
             ],
             [
              0.8888888888888888,
              "#fdca26"
             ],
             [
              1,
              "#f0f921"
             ]
            ],
            "type": "histogram2d"
           }
          ],
          "histogram2dcontour": [
           {
            "colorbar": {
             "outlinewidth": 0,
             "ticks": ""
            },
            "colorscale": [
             [
              0,
              "#0d0887"
             ],
             [
              0.1111111111111111,
              "#46039f"
             ],
             [
              0.2222222222222222,
              "#7201a8"
             ],
             [
              0.3333333333333333,
              "#9c179e"
             ],
             [
              0.4444444444444444,
              "#bd3786"
             ],
             [
              0.5555555555555556,
              "#d8576b"
             ],
             [
              0.6666666666666666,
              "#ed7953"
             ],
             [
              0.7777777777777778,
              "#fb9f3a"
             ],
             [
              0.8888888888888888,
              "#fdca26"
             ],
             [
              1,
              "#f0f921"
             ]
            ],
            "type": "histogram2dcontour"
           }
          ],
          "mesh3d": [
           {
            "colorbar": {
             "outlinewidth": 0,
             "ticks": ""
            },
            "type": "mesh3d"
           }
          ],
          "parcoords": [
           {
            "line": {
             "colorbar": {
              "outlinewidth": 0,
              "ticks": ""
             }
            },
            "type": "parcoords"
           }
          ],
          "pie": [
           {
            "automargin": true,
            "type": "pie"
           }
          ],
          "scatter": [
           {
            "fillpattern": {
             "fillmode": "overlay",
             "size": 10,
             "solidity": 0.2
            },
            "type": "scatter"
           }
          ],
          "scatter3d": [
           {
            "line": {
             "colorbar": {
              "outlinewidth": 0,
              "ticks": ""
             }
            },
            "marker": {
             "colorbar": {
              "outlinewidth": 0,
              "ticks": ""
             }
            },
            "type": "scatter3d"
           }
          ],
          "scattercarpet": [
           {
            "marker": {
             "colorbar": {
              "outlinewidth": 0,
              "ticks": ""
             }
            },
            "type": "scattercarpet"
           }
          ],
          "scattergeo": [
           {
            "marker": {
             "colorbar": {
              "outlinewidth": 0,
              "ticks": ""
             }
            },
            "type": "scattergeo"
           }
          ],
          "scattergl": [
           {
            "marker": {
             "colorbar": {
              "outlinewidth": 0,
              "ticks": ""
             }
            },
            "type": "scattergl"
           }
          ],
          "scattermapbox": [
           {
            "marker": {
             "colorbar": {
              "outlinewidth": 0,
              "ticks": ""
             }
            },
            "type": "scattermapbox"
           }
          ],
          "scatterpolar": [
           {
            "marker": {
             "colorbar": {
              "outlinewidth": 0,
              "ticks": ""
             }
            },
            "type": "scatterpolar"
           }
          ],
          "scatterpolargl": [
           {
            "marker": {
             "colorbar": {
              "outlinewidth": 0,
              "ticks": ""
             }
            },
            "type": "scatterpolargl"
           }
          ],
          "scatterternary": [
           {
            "marker": {
             "colorbar": {
              "outlinewidth": 0,
              "ticks": ""
             }
            },
            "type": "scatterternary"
           }
          ],
          "surface": [
           {
            "colorbar": {
             "outlinewidth": 0,
             "ticks": ""
            },
            "colorscale": [
             [
              0,
              "#0d0887"
             ],
             [
              0.1111111111111111,
              "#46039f"
             ],
             [
              0.2222222222222222,
              "#7201a8"
             ],
             [
              0.3333333333333333,
              "#9c179e"
             ],
             [
              0.4444444444444444,
              "#bd3786"
             ],
             [
              0.5555555555555556,
              "#d8576b"
             ],
             [
              0.6666666666666666,
              "#ed7953"
             ],
             [
              0.7777777777777778,
              "#fb9f3a"
             ],
             [
              0.8888888888888888,
              "#fdca26"
             ],
             [
              1,
              "#f0f921"
             ]
            ],
            "type": "surface"
           }
          ],
          "table": [
           {
            "cells": {
             "fill": {
              "color": "#EBF0F8"
             },
             "line": {
              "color": "white"
             }
            },
            "header": {
             "fill": {
              "color": "#C8D4E3"
             },
             "line": {
              "color": "white"
             }
            },
            "type": "table"
           }
          ]
         },
         "layout": {
          "annotationdefaults": {
           "arrowcolor": "#2a3f5f",
           "arrowhead": 0,
           "arrowwidth": 1
          },
          "autotypenumbers": "strict",
          "coloraxis": {
           "colorbar": {
            "outlinewidth": 0,
            "ticks": ""
           }
          },
          "colorscale": {
           "diverging": [
            [
             0,
             "#8e0152"
            ],
            [
             0.1,
             "#c51b7d"
            ],
            [
             0.2,
             "#de77ae"
            ],
            [
             0.3,
             "#f1b6da"
            ],
            [
             0.4,
             "#fde0ef"
            ],
            [
             0.5,
             "#f7f7f7"
            ],
            [
             0.6,
             "#e6f5d0"
            ],
            [
             0.7,
             "#b8e186"
            ],
            [
             0.8,
             "#7fbc41"
            ],
            [
             0.9,
             "#4d9221"
            ],
            [
             1,
             "#276419"
            ]
           ],
           "sequential": [
            [
             0,
             "#0d0887"
            ],
            [
             0.1111111111111111,
             "#46039f"
            ],
            [
             0.2222222222222222,
             "#7201a8"
            ],
            [
             0.3333333333333333,
             "#9c179e"
            ],
            [
             0.4444444444444444,
             "#bd3786"
            ],
            [
             0.5555555555555556,
             "#d8576b"
            ],
            [
             0.6666666666666666,
             "#ed7953"
            ],
            [
             0.7777777777777778,
             "#fb9f3a"
            ],
            [
             0.8888888888888888,
             "#fdca26"
            ],
            [
             1,
             "#f0f921"
            ]
           ],
           "sequentialminus": [
            [
             0,
             "#0d0887"
            ],
            [
             0.1111111111111111,
             "#46039f"
            ],
            [
             0.2222222222222222,
             "#7201a8"
            ],
            [
             0.3333333333333333,
             "#9c179e"
            ],
            [
             0.4444444444444444,
             "#bd3786"
            ],
            [
             0.5555555555555556,
             "#d8576b"
            ],
            [
             0.6666666666666666,
             "#ed7953"
            ],
            [
             0.7777777777777778,
             "#fb9f3a"
            ],
            [
             0.8888888888888888,
             "#fdca26"
            ],
            [
             1,
             "#f0f921"
            ]
           ]
          },
          "colorway": [
           "#636efa",
           "#EF553B",
           "#00cc96",
           "#ab63fa",
           "#FFA15A",
           "#19d3f3",
           "#FF6692",
           "#B6E880",
           "#FF97FF",
           "#FECB52"
          ],
          "font": {
           "color": "#2a3f5f"
          },
          "geo": {
           "bgcolor": "white",
           "lakecolor": "white",
           "landcolor": "#E5ECF6",
           "showlakes": true,
           "showland": true,
           "subunitcolor": "white"
          },
          "hoverlabel": {
           "align": "left"
          },
          "hovermode": "closest",
          "mapbox": {
           "style": "light"
          },
          "paper_bgcolor": "white",
          "plot_bgcolor": "#E5ECF6",
          "polar": {
           "angularaxis": {
            "gridcolor": "white",
            "linecolor": "white",
            "ticks": ""
           },
           "bgcolor": "#E5ECF6",
           "radialaxis": {
            "gridcolor": "white",
            "linecolor": "white",
            "ticks": ""
           }
          },
          "scene": {
           "xaxis": {
            "backgroundcolor": "#E5ECF6",
            "gridcolor": "white",
            "gridwidth": 2,
            "linecolor": "white",
            "showbackground": true,
            "ticks": "",
            "zerolinecolor": "white"
           },
           "yaxis": {
            "backgroundcolor": "#E5ECF6",
            "gridcolor": "white",
            "gridwidth": 2,
            "linecolor": "white",
            "showbackground": true,
            "ticks": "",
            "zerolinecolor": "white"
           },
           "zaxis": {
            "backgroundcolor": "#E5ECF6",
            "gridcolor": "white",
            "gridwidth": 2,
            "linecolor": "white",
            "showbackground": true,
            "ticks": "",
            "zerolinecolor": "white"
           }
          },
          "shapedefaults": {
           "line": {
            "color": "#2a3f5f"
           }
          },
          "ternary": {
           "aaxis": {
            "gridcolor": "white",
            "linecolor": "white",
            "ticks": ""
           },
           "baxis": {
            "gridcolor": "white",
            "linecolor": "white",
            "ticks": ""
           },
           "bgcolor": "#E5ECF6",
           "caxis": {
            "gridcolor": "white",
            "linecolor": "white",
            "ticks": ""
           }
          },
          "title": {
           "x": 0.05
          },
          "xaxis": {
           "automargin": true,
           "gridcolor": "white",
           "linecolor": "white",
           "ticks": "",
           "title": {
            "standoff": 15
           },
           "zerolinecolor": "white",
           "zerolinewidth": 2
          },
          "yaxis": {
           "automargin": true,
           "gridcolor": "white",
           "linecolor": "white",
           "ticks": "",
           "title": {
            "standoff": 15
           },
           "zerolinecolor": "white",
           "zerolinewidth": 2
          }
         }
        },
        "width": 700,
        "xaxis": {
         "constrain": "domain",
         "title": {
          "text": "Recall"
         }
        },
        "yaxis": {
         "scaleanchor": "x",
         "scaleratio": 1,
         "title": {
          "text": "Precision"
         }
        }
       }
      }
     },
     "metadata": {},
     "output_type": "display_data"
    }
   ],
   "source": [
    "# Create an empty figure, and iteratively add new lines\n",
    "# every time we compute a new class\n",
    "fig = go.Figure()\n",
    "fig.add_shape(\n",
    "    type='line',\n",
    "    line=dict(dash='dash'),\n",
    "    x0=0, x1=1, y0=1, y1=0\n",
    ")\n",
    "\n",
    "for i in range(y_scores.shape[1]):\n",
    "    y_true = y_onehot.iloc[:, i]\n",
    "    y_score = y_scores[:, i]\n",
    "\n",
    "    precision, recall, _ = precision_recall_curve(y_true, y_score)\n",
    "    auc_score = average_precision_score(y_true, y_score)\n",
    "    name = f\"{y_onehot.columns[i]} (AP={auc_score:.2f})\"\n",
    "    fig.add_trace(go.Scatter(x=recall, y=precision, name=name, mode='lines'))\n",
    "\n",
    "fig.update_layout(\n",
    "    xaxis_title='Recall',\n",
    "    yaxis_title='Precision',\n",
    "    yaxis=dict(scaleanchor=\"x\", scaleratio=1),\n",
    "    xaxis=dict(constrain='domain'),\n",
    "    width=700, height=500\n",
    ")\n",
    "\n",
    "fig.show()"
   ]
  },
  {
   "cell_type": "code",
   "execution_count": null,
   "metadata": {},
   "outputs": [],
   "source": []
  }
 ],
 "metadata": {
  "kernelspec": {
   "display_name": "pytorch",
   "language": "python",
   "name": "python3"
  },
  "language_info": {
   "codemirror_mode": {
    "name": "ipython",
    "version": 3
   },
   "file_extension": ".py",
   "mimetype": "text/x-python",
   "name": "python",
   "nbconvert_exporter": "python",
   "pygments_lexer": "ipython3",
   "version": "3.11.4"
  }
 },
 "nbformat": 4,
 "nbformat_minor": 2
}
