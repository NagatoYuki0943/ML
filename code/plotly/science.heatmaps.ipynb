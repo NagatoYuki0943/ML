{
 "cells": [
  {
   "cell_type": "markdown",
   "metadata": {},
   "source": [
    "https://plotly.com/python/heatmaps/"
   ]
  },
  {
   "cell_type": "code",
   "execution_count": null,
   "metadata": {},
   "outputs": [],
   "source": [
    "import numpy as np\n",
    "import pandas as pd\n",
    "import plotly.express as px\n",
    "import plotly.graph_objects as go\n",
    "from plotly.subplots import make_subplots"
   ]
  },
  {
   "cell_type": "markdown",
   "metadata": {},
   "source": [
    "# px.imshow"
   ]
  },
  {
   "cell_type": "markdown",
   "metadata": {},
   "source": [
    "## Basic"
   ]
  },
  {
   "cell_type": "code",
   "execution_count": 3,
   "metadata": {},
   "outputs": [
    {
     "data": {
      "application/vnd.plotly.v1+json": {
       "config": {
        "plotlyServerURL": "https://plot.ly"
       },
       "data": [
        {
         "coloraxis": "coloraxis",
         "hovertemplate": "x: %{x}<br>y: %{y}<br>color: %{z}<extra></extra>",
         "name": "0",
         "type": "heatmap",
         "xaxis": "x",
         "yaxis": "y",
         "z": [
          [
           1,
           20,
           30
          ],
          [
           20,
           1,
           60
          ],
          [
           30,
           60,
           1
          ]
         ]
        }
       ],
       "layout": {
        "coloraxis": {
         "colorscale": [
          [
           0,
           "#0d0887"
          ],
          [
           0.1111111111111111,
           "#46039f"
          ],
          [
           0.2222222222222222,
           "#7201a8"
          ],
          [
           0.3333333333333333,
           "#9c179e"
          ],
          [
           0.4444444444444444,
           "#bd3786"
          ],
          [
           0.5555555555555556,
           "#d8576b"
          ],
          [
           0.6666666666666666,
           "#ed7953"
          ],
          [
           0.7777777777777778,
           "#fb9f3a"
          ],
          [
           0.8888888888888888,
           "#fdca26"
          ],
          [
           1,
           "#f0f921"
          ]
         ]
        },
        "margin": {
         "t": 60
        },
        "template": {
         "data": {
          "bar": [
           {
            "error_x": {
             "color": "#2a3f5f"
            },
            "error_y": {
             "color": "#2a3f5f"
            },
            "marker": {
             "line": {
              "color": "#E5ECF6",
              "width": 0.5
             },
             "pattern": {
              "fillmode": "overlay",
              "size": 10,
              "solidity": 0.2
             }
            },
            "type": "bar"
           }
          ],
          "barpolar": [
           {
            "marker": {
             "line": {
              "color": "#E5ECF6",
              "width": 0.5
             },
             "pattern": {
              "fillmode": "overlay",
              "size": 10,
              "solidity": 0.2
             }
            },
            "type": "barpolar"
           }
          ],
          "carpet": [
           {
            "aaxis": {
             "endlinecolor": "#2a3f5f",
             "gridcolor": "white",
             "linecolor": "white",
             "minorgridcolor": "white",
             "startlinecolor": "#2a3f5f"
            },
            "baxis": {
             "endlinecolor": "#2a3f5f",
             "gridcolor": "white",
             "linecolor": "white",
             "minorgridcolor": "white",
             "startlinecolor": "#2a3f5f"
            },
            "type": "carpet"
           }
          ],
          "choropleth": [
           {
            "colorbar": {
             "outlinewidth": 0,
             "ticks": ""
            },
            "type": "choropleth"
           }
          ],
          "contour": [
           {
            "colorbar": {
             "outlinewidth": 0,
             "ticks": ""
            },
            "colorscale": [
             [
              0,
              "#0d0887"
             ],
             [
              0.1111111111111111,
              "#46039f"
             ],
             [
              0.2222222222222222,
              "#7201a8"
             ],
             [
              0.3333333333333333,
              "#9c179e"
             ],
             [
              0.4444444444444444,
              "#bd3786"
             ],
             [
              0.5555555555555556,
              "#d8576b"
             ],
             [
              0.6666666666666666,
              "#ed7953"
             ],
             [
              0.7777777777777778,
              "#fb9f3a"
             ],
             [
              0.8888888888888888,
              "#fdca26"
             ],
             [
              1,
              "#f0f921"
             ]
            ],
            "type": "contour"
           }
          ],
          "contourcarpet": [
           {
            "colorbar": {
             "outlinewidth": 0,
             "ticks": ""
            },
            "type": "contourcarpet"
           }
          ],
          "heatmap": [
           {
            "colorbar": {
             "outlinewidth": 0,
             "ticks": ""
            },
            "colorscale": [
             [
              0,
              "#0d0887"
             ],
             [
              0.1111111111111111,
              "#46039f"
             ],
             [
              0.2222222222222222,
              "#7201a8"
             ],
             [
              0.3333333333333333,
              "#9c179e"
             ],
             [
              0.4444444444444444,
              "#bd3786"
             ],
             [
              0.5555555555555556,
              "#d8576b"
             ],
             [
              0.6666666666666666,
              "#ed7953"
             ],
             [
              0.7777777777777778,
              "#fb9f3a"
             ],
             [
              0.8888888888888888,
              "#fdca26"
             ],
             [
              1,
              "#f0f921"
             ]
            ],
            "type": "heatmap"
           }
          ],
          "heatmapgl": [
           {
            "colorbar": {
             "outlinewidth": 0,
             "ticks": ""
            },
            "colorscale": [
             [
              0,
              "#0d0887"
             ],
             [
              0.1111111111111111,
              "#46039f"
             ],
             [
              0.2222222222222222,
              "#7201a8"
             ],
             [
              0.3333333333333333,
              "#9c179e"
             ],
             [
              0.4444444444444444,
              "#bd3786"
             ],
             [
              0.5555555555555556,
              "#d8576b"
             ],
             [
              0.6666666666666666,
              "#ed7953"
             ],
             [
              0.7777777777777778,
              "#fb9f3a"
             ],
             [
              0.8888888888888888,
              "#fdca26"
             ],
             [
              1,
              "#f0f921"
             ]
            ],
            "type": "heatmapgl"
           }
          ],
          "histogram": [
           {
            "marker": {
             "pattern": {
              "fillmode": "overlay",
              "size": 10,
              "solidity": 0.2
             }
            },
            "type": "histogram"
           }
          ],
          "histogram2d": [
           {
            "colorbar": {
             "outlinewidth": 0,
             "ticks": ""
            },
            "colorscale": [
             [
              0,
              "#0d0887"
             ],
             [
              0.1111111111111111,
              "#46039f"
             ],
             [
              0.2222222222222222,
              "#7201a8"
             ],
             [
              0.3333333333333333,
              "#9c179e"
             ],
             [
              0.4444444444444444,
              "#bd3786"
             ],
             [
              0.5555555555555556,
              "#d8576b"
             ],
             [
              0.6666666666666666,
              "#ed7953"
             ],
             [
              0.7777777777777778,
              "#fb9f3a"
             ],
             [
              0.8888888888888888,
              "#fdca26"
             ],
             [
              1,
              "#f0f921"
             ]
            ],
            "type": "histogram2d"
           }
          ],
          "histogram2dcontour": [
           {
            "colorbar": {
             "outlinewidth": 0,
             "ticks": ""
            },
            "colorscale": [
             [
              0,
              "#0d0887"
             ],
             [
              0.1111111111111111,
              "#46039f"
             ],
             [
              0.2222222222222222,
              "#7201a8"
             ],
             [
              0.3333333333333333,
              "#9c179e"
             ],
             [
              0.4444444444444444,
              "#bd3786"
             ],
             [
              0.5555555555555556,
              "#d8576b"
             ],
             [
              0.6666666666666666,
              "#ed7953"
             ],
             [
              0.7777777777777778,
              "#fb9f3a"
             ],
             [
              0.8888888888888888,
              "#fdca26"
             ],
             [
              1,
              "#f0f921"
             ]
            ],
            "type": "histogram2dcontour"
           }
          ],
          "mesh3d": [
           {
            "colorbar": {
             "outlinewidth": 0,
             "ticks": ""
            },
            "type": "mesh3d"
           }
          ],
          "parcoords": [
           {
            "line": {
             "colorbar": {
              "outlinewidth": 0,
              "ticks": ""
             }
            },
            "type": "parcoords"
           }
          ],
          "pie": [
           {
            "automargin": true,
            "type": "pie"
           }
          ],
          "scatter": [
           {
            "fillpattern": {
             "fillmode": "overlay",
             "size": 10,
             "solidity": 0.2
            },
            "type": "scatter"
           }
          ],
          "scatter3d": [
           {
            "line": {
             "colorbar": {
              "outlinewidth": 0,
              "ticks": ""
             }
            },
            "marker": {
             "colorbar": {
              "outlinewidth": 0,
              "ticks": ""
             }
            },
            "type": "scatter3d"
           }
          ],
          "scattercarpet": [
           {
            "marker": {
             "colorbar": {
              "outlinewidth": 0,
              "ticks": ""
             }
            },
            "type": "scattercarpet"
           }
          ],
          "scattergeo": [
           {
            "marker": {
             "colorbar": {
              "outlinewidth": 0,
              "ticks": ""
             }
            },
            "type": "scattergeo"
           }
          ],
          "scattergl": [
           {
            "marker": {
             "colorbar": {
              "outlinewidth": 0,
              "ticks": ""
             }
            },
            "type": "scattergl"
           }
          ],
          "scattermapbox": [
           {
            "marker": {
             "colorbar": {
              "outlinewidth": 0,
              "ticks": ""
             }
            },
            "type": "scattermapbox"
           }
          ],
          "scatterpolar": [
           {
            "marker": {
             "colorbar": {
              "outlinewidth": 0,
              "ticks": ""
             }
            },
            "type": "scatterpolar"
           }
          ],
          "scatterpolargl": [
           {
            "marker": {
             "colorbar": {
              "outlinewidth": 0,
              "ticks": ""
             }
            },
            "type": "scatterpolargl"
           }
          ],
          "scatterternary": [
           {
            "marker": {
             "colorbar": {
              "outlinewidth": 0,
              "ticks": ""
             }
            },
            "type": "scatterternary"
           }
          ],
          "surface": [
           {
            "colorbar": {
             "outlinewidth": 0,
             "ticks": ""
            },
            "colorscale": [
             [
              0,
              "#0d0887"
             ],
             [
              0.1111111111111111,
              "#46039f"
             ],
             [
              0.2222222222222222,
              "#7201a8"
             ],
             [
              0.3333333333333333,
              "#9c179e"
             ],
             [
              0.4444444444444444,
              "#bd3786"
             ],
             [
              0.5555555555555556,
              "#d8576b"
             ],
             [
              0.6666666666666666,
              "#ed7953"
             ],
             [
              0.7777777777777778,
              "#fb9f3a"
             ],
             [
              0.8888888888888888,
              "#fdca26"
             ],
             [
              1,
              "#f0f921"
             ]
            ],
            "type": "surface"
           }
          ],
          "table": [
           {
            "cells": {
             "fill": {
              "color": "#EBF0F8"
             },
             "line": {
              "color": "white"
             }
            },
            "header": {
             "fill": {
              "color": "#C8D4E3"
             },
             "line": {
              "color": "white"
             }
            },
            "type": "table"
           }
          ]
         },
         "layout": {
          "annotationdefaults": {
           "arrowcolor": "#2a3f5f",
           "arrowhead": 0,
           "arrowwidth": 1
          },
          "autotypenumbers": "strict",
          "coloraxis": {
           "colorbar": {
            "outlinewidth": 0,
            "ticks": ""
           }
          },
          "colorscale": {
           "diverging": [
            [
             0,
             "#8e0152"
            ],
            [
             0.1,
             "#c51b7d"
            ],
            [
             0.2,
             "#de77ae"
            ],
            [
             0.3,
             "#f1b6da"
            ],
            [
             0.4,
             "#fde0ef"
            ],
            [
             0.5,
             "#f7f7f7"
            ],
            [
             0.6,
             "#e6f5d0"
            ],
            [
             0.7,
             "#b8e186"
            ],
            [
             0.8,
             "#7fbc41"
            ],
            [
             0.9,
             "#4d9221"
            ],
            [
             1,
             "#276419"
            ]
           ],
           "sequential": [
            [
             0,
             "#0d0887"
            ],
            [
             0.1111111111111111,
             "#46039f"
            ],
            [
             0.2222222222222222,
             "#7201a8"
            ],
            [
             0.3333333333333333,
             "#9c179e"
            ],
            [
             0.4444444444444444,
             "#bd3786"
            ],
            [
             0.5555555555555556,
             "#d8576b"
            ],
            [
             0.6666666666666666,
             "#ed7953"
            ],
            [
             0.7777777777777778,
             "#fb9f3a"
            ],
            [
             0.8888888888888888,
             "#fdca26"
            ],
            [
             1,
             "#f0f921"
            ]
           ],
           "sequentialminus": [
            [
             0,
             "#0d0887"
            ],
            [
             0.1111111111111111,
             "#46039f"
            ],
            [
             0.2222222222222222,
             "#7201a8"
            ],
            [
             0.3333333333333333,
             "#9c179e"
            ],
            [
             0.4444444444444444,
             "#bd3786"
            ],
            [
             0.5555555555555556,
             "#d8576b"
            ],
            [
             0.6666666666666666,
             "#ed7953"
            ],
            [
             0.7777777777777778,
             "#fb9f3a"
            ],
            [
             0.8888888888888888,
             "#fdca26"
            ],
            [
             1,
             "#f0f921"
            ]
           ]
          },
          "colorway": [
           "#636efa",
           "#EF553B",
           "#00cc96",
           "#ab63fa",
           "#FFA15A",
           "#19d3f3",
           "#FF6692",
           "#B6E880",
           "#FF97FF",
           "#FECB52"
          ],
          "font": {
           "color": "#2a3f5f"
          },
          "geo": {
           "bgcolor": "white",
           "lakecolor": "white",
           "landcolor": "#E5ECF6",
           "showlakes": true,
           "showland": true,
           "subunitcolor": "white"
          },
          "hoverlabel": {
           "align": "left"
          },
          "hovermode": "closest",
          "mapbox": {
           "style": "light"
          },
          "paper_bgcolor": "white",
          "plot_bgcolor": "#E5ECF6",
          "polar": {
           "angularaxis": {
            "gridcolor": "white",
            "linecolor": "white",
            "ticks": ""
           },
           "bgcolor": "#E5ECF6",
           "radialaxis": {
            "gridcolor": "white",
            "linecolor": "white",
            "ticks": ""
           }
          },
          "scene": {
           "xaxis": {
            "backgroundcolor": "#E5ECF6",
            "gridcolor": "white",
            "gridwidth": 2,
            "linecolor": "white",
            "showbackground": true,
            "ticks": "",
            "zerolinecolor": "white"
           },
           "yaxis": {
            "backgroundcolor": "#E5ECF6",
            "gridcolor": "white",
            "gridwidth": 2,
            "linecolor": "white",
            "showbackground": true,
            "ticks": "",
            "zerolinecolor": "white"
           },
           "zaxis": {
            "backgroundcolor": "#E5ECF6",
            "gridcolor": "white",
            "gridwidth": 2,
            "linecolor": "white",
            "showbackground": true,
            "ticks": "",
            "zerolinecolor": "white"
           }
          },
          "shapedefaults": {
           "line": {
            "color": "#2a3f5f"
           }
          },
          "ternary": {
           "aaxis": {
            "gridcolor": "white",
            "linecolor": "white",
            "ticks": ""
           },
           "baxis": {
            "gridcolor": "white",
            "linecolor": "white",
            "ticks": ""
           },
           "bgcolor": "#E5ECF6",
           "caxis": {
            "gridcolor": "white",
            "linecolor": "white",
            "ticks": ""
           }
          },
          "title": {
           "x": 0.05
          },
          "xaxis": {
           "automargin": true,
           "gridcolor": "white",
           "linecolor": "white",
           "ticks": "",
           "title": {
            "standoff": 15
           },
           "zerolinecolor": "white",
           "zerolinewidth": 2
          },
          "yaxis": {
           "automargin": true,
           "gridcolor": "white",
           "linecolor": "white",
           "ticks": "",
           "title": {
            "standoff": 15
           },
           "zerolinecolor": "white",
           "zerolinewidth": 2
          }
         }
        },
        "xaxis": {
         "anchor": "y",
         "constrain": "domain",
         "domain": [
          0,
          1
         ],
         "scaleanchor": "y"
        },
        "yaxis": {
         "anchor": "x",
         "autorange": "reversed",
         "constrain": "domain",
         "domain": [
          0,
          1
         ]
        }
       }
      }
     },
     "metadata": {},
     "output_type": "display_data"
    }
   ],
   "source": [
    "fig = px.imshow([[1, 20, 30], [20, 1, 60], [30, 60, 1]])\n",
    "fig.show()"
   ]
  },
  {
   "cell_type": "markdown",
   "metadata": {},
   "source": [
    "## DataFrame"
   ]
  },
  {
   "cell_type": "code",
   "execution_count": 4,
   "metadata": {},
   "outputs": [
    {
     "data": {
      "text/html": [
       "<div>\n",
       "<style scoped>\n",
       "    .dataframe tbody tr th:only-of-type {\n",
       "        vertical-align: middle;\n",
       "    }\n",
       "\n",
       "    .dataframe tbody tr th {\n",
       "        vertical-align: top;\n",
       "    }\n",
       "\n",
       "    .dataframe thead th {\n",
       "        text-align: right;\n",
       "    }\n",
       "</style>\n",
       "<table border=\"1\" class=\"dataframe\">\n",
       "  <thead>\n",
       "    <tr style=\"text-align: right;\">\n",
       "      <th>medal</th>\n",
       "      <th>gold</th>\n",
       "      <th>silver</th>\n",
       "      <th>bronze</th>\n",
       "    </tr>\n",
       "    <tr>\n",
       "      <th>nation</th>\n",
       "      <th></th>\n",
       "      <th></th>\n",
       "      <th></th>\n",
       "    </tr>\n",
       "  </thead>\n",
       "  <tbody>\n",
       "    <tr>\n",
       "      <th>South Korea</th>\n",
       "      <td>24</td>\n",
       "      <td>13</td>\n",
       "      <td>11</td>\n",
       "    </tr>\n",
       "    <tr>\n",
       "      <th>China</th>\n",
       "      <td>10</td>\n",
       "      <td>15</td>\n",
       "      <td>8</td>\n",
       "    </tr>\n",
       "    <tr>\n",
       "      <th>Canada</th>\n",
       "      <td>9</td>\n",
       "      <td>12</td>\n",
       "      <td>12</td>\n",
       "    </tr>\n",
       "  </tbody>\n",
       "</table>\n",
       "</div>"
      ],
      "text/plain": [
       "medal        gold  silver  bronze\n",
       "nation                           \n",
       "South Korea    24      13      11\n",
       "China          10      15       8\n",
       "Canada          9      12      12"
      ]
     },
     "execution_count": 4,
     "metadata": {},
     "output_type": "execute_result"
    }
   ],
   "source": [
    "medals_wide = px.data.medals_wide(indexed=True)\n",
    "medals_wide.head()"
   ]
  },
  {
   "cell_type": "code",
   "execution_count": 5,
   "metadata": {},
   "outputs": [
    {
     "data": {
      "application/vnd.plotly.v1+json": {
       "config": {
        "plotlyServerURL": "https://plot.ly"
       },
       "data": [
        {
         "coloraxis": "coloraxis",
         "hovertemplate": "medal: %{x}<br>nation: %{y}<br>color: %{z}<extra></extra>",
         "name": "0",
         "type": "heatmap",
         "x": [
          "gold",
          "silver",
          "bronze"
         ],
         "xaxis": "x",
         "y": [
          "South Korea",
          "China",
          "Canada"
         ],
         "yaxis": "y",
         "z": [
          [
           24,
           13,
           11
          ],
          [
           10,
           15,
           8
          ],
          [
           9,
           12,
           12
          ]
         ]
        }
       ],
       "layout": {
        "coloraxis": {
         "colorscale": [
          [
           0,
           "#0d0887"
          ],
          [
           0.1111111111111111,
           "#46039f"
          ],
          [
           0.2222222222222222,
           "#7201a8"
          ],
          [
           0.3333333333333333,
           "#9c179e"
          ],
          [
           0.4444444444444444,
           "#bd3786"
          ],
          [
           0.5555555555555556,
           "#d8576b"
          ],
          [
           0.6666666666666666,
           "#ed7953"
          ],
          [
           0.7777777777777778,
           "#fb9f3a"
          ],
          [
           0.8888888888888888,
           "#fdca26"
          ],
          [
           1,
           "#f0f921"
          ]
         ]
        },
        "margin": {
         "t": 60
        },
        "template": {
         "data": {
          "bar": [
           {
            "error_x": {
             "color": "#2a3f5f"
            },
            "error_y": {
             "color": "#2a3f5f"
            },
            "marker": {
             "line": {
              "color": "#E5ECF6",
              "width": 0.5
             },
             "pattern": {
              "fillmode": "overlay",
              "size": 10,
              "solidity": 0.2
             }
            },
            "type": "bar"
           }
          ],
          "barpolar": [
           {
            "marker": {
             "line": {
              "color": "#E5ECF6",
              "width": 0.5
             },
             "pattern": {
              "fillmode": "overlay",
              "size": 10,
              "solidity": 0.2
             }
            },
            "type": "barpolar"
           }
          ],
          "carpet": [
           {
            "aaxis": {
             "endlinecolor": "#2a3f5f",
             "gridcolor": "white",
             "linecolor": "white",
             "minorgridcolor": "white",
             "startlinecolor": "#2a3f5f"
            },
            "baxis": {
             "endlinecolor": "#2a3f5f",
             "gridcolor": "white",
             "linecolor": "white",
             "minorgridcolor": "white",
             "startlinecolor": "#2a3f5f"
            },
            "type": "carpet"
           }
          ],
          "choropleth": [
           {
            "colorbar": {
             "outlinewidth": 0,
             "ticks": ""
            },
            "type": "choropleth"
           }
          ],
          "contour": [
           {
            "colorbar": {
             "outlinewidth": 0,
             "ticks": ""
            },
            "colorscale": [
             [
              0,
              "#0d0887"
             ],
             [
              0.1111111111111111,
              "#46039f"
             ],
             [
              0.2222222222222222,
              "#7201a8"
             ],
             [
              0.3333333333333333,
              "#9c179e"
             ],
             [
              0.4444444444444444,
              "#bd3786"
             ],
             [
              0.5555555555555556,
              "#d8576b"
             ],
             [
              0.6666666666666666,
              "#ed7953"
             ],
             [
              0.7777777777777778,
              "#fb9f3a"
             ],
             [
              0.8888888888888888,
              "#fdca26"
             ],
             [
              1,
              "#f0f921"
             ]
            ],
            "type": "contour"
           }
          ],
          "contourcarpet": [
           {
            "colorbar": {
             "outlinewidth": 0,
             "ticks": ""
            },
            "type": "contourcarpet"
           }
          ],
          "heatmap": [
           {
            "colorbar": {
             "outlinewidth": 0,
             "ticks": ""
            },
            "colorscale": [
             [
              0,
              "#0d0887"
             ],
             [
              0.1111111111111111,
              "#46039f"
             ],
             [
              0.2222222222222222,
              "#7201a8"
             ],
             [
              0.3333333333333333,
              "#9c179e"
             ],
             [
              0.4444444444444444,
              "#bd3786"
             ],
             [
              0.5555555555555556,
              "#d8576b"
             ],
             [
              0.6666666666666666,
              "#ed7953"
             ],
             [
              0.7777777777777778,
              "#fb9f3a"
             ],
             [
              0.8888888888888888,
              "#fdca26"
             ],
             [
              1,
              "#f0f921"
             ]
            ],
            "type": "heatmap"
           }
          ],
          "heatmapgl": [
           {
            "colorbar": {
             "outlinewidth": 0,
             "ticks": ""
            },
            "colorscale": [
             [
              0,
              "#0d0887"
             ],
             [
              0.1111111111111111,
              "#46039f"
             ],
             [
              0.2222222222222222,
              "#7201a8"
             ],
             [
              0.3333333333333333,
              "#9c179e"
             ],
             [
              0.4444444444444444,
              "#bd3786"
             ],
             [
              0.5555555555555556,
              "#d8576b"
             ],
             [
              0.6666666666666666,
              "#ed7953"
             ],
             [
              0.7777777777777778,
              "#fb9f3a"
             ],
             [
              0.8888888888888888,
              "#fdca26"
             ],
             [
              1,
              "#f0f921"
             ]
            ],
            "type": "heatmapgl"
           }
          ],
          "histogram": [
           {
            "marker": {
             "pattern": {
              "fillmode": "overlay",
              "size": 10,
              "solidity": 0.2
             }
            },
            "type": "histogram"
           }
          ],
          "histogram2d": [
           {
            "colorbar": {
             "outlinewidth": 0,
             "ticks": ""
            },
            "colorscale": [
             [
              0,
              "#0d0887"
             ],
             [
              0.1111111111111111,
              "#46039f"
             ],
             [
              0.2222222222222222,
              "#7201a8"
             ],
             [
              0.3333333333333333,
              "#9c179e"
             ],
             [
              0.4444444444444444,
              "#bd3786"
             ],
             [
              0.5555555555555556,
              "#d8576b"
             ],
             [
              0.6666666666666666,
              "#ed7953"
             ],
             [
              0.7777777777777778,
              "#fb9f3a"
             ],
             [
              0.8888888888888888,
              "#fdca26"
             ],
             [
              1,
              "#f0f921"
             ]
            ],
            "type": "histogram2d"
           }
          ],
          "histogram2dcontour": [
           {
            "colorbar": {
             "outlinewidth": 0,
             "ticks": ""
            },
            "colorscale": [
             [
              0,
              "#0d0887"
             ],
             [
              0.1111111111111111,
              "#46039f"
             ],
             [
              0.2222222222222222,
              "#7201a8"
             ],
             [
              0.3333333333333333,
              "#9c179e"
             ],
             [
              0.4444444444444444,
              "#bd3786"
             ],
             [
              0.5555555555555556,
              "#d8576b"
             ],
             [
              0.6666666666666666,
              "#ed7953"
             ],
             [
              0.7777777777777778,
              "#fb9f3a"
             ],
             [
              0.8888888888888888,
              "#fdca26"
             ],
             [
              1,
              "#f0f921"
             ]
            ],
            "type": "histogram2dcontour"
           }
          ],
          "mesh3d": [
           {
            "colorbar": {
             "outlinewidth": 0,
             "ticks": ""
            },
            "type": "mesh3d"
           }
          ],
          "parcoords": [
           {
            "line": {
             "colorbar": {
              "outlinewidth": 0,
              "ticks": ""
             }
            },
            "type": "parcoords"
           }
          ],
          "pie": [
           {
            "automargin": true,
            "type": "pie"
           }
          ],
          "scatter": [
           {
            "fillpattern": {
             "fillmode": "overlay",
             "size": 10,
             "solidity": 0.2
            },
            "type": "scatter"
           }
          ],
          "scatter3d": [
           {
            "line": {
             "colorbar": {
              "outlinewidth": 0,
              "ticks": ""
             }
            },
            "marker": {
             "colorbar": {
              "outlinewidth": 0,
              "ticks": ""
             }
            },
            "type": "scatter3d"
           }
          ],
          "scattercarpet": [
           {
            "marker": {
             "colorbar": {
              "outlinewidth": 0,
              "ticks": ""
             }
            },
            "type": "scattercarpet"
           }
          ],
          "scattergeo": [
           {
            "marker": {
             "colorbar": {
              "outlinewidth": 0,
              "ticks": ""
             }
            },
            "type": "scattergeo"
           }
          ],
          "scattergl": [
           {
            "marker": {
             "colorbar": {
              "outlinewidth": 0,
              "ticks": ""
             }
            },
            "type": "scattergl"
           }
          ],
          "scattermapbox": [
           {
            "marker": {
             "colorbar": {
              "outlinewidth": 0,
              "ticks": ""
             }
            },
            "type": "scattermapbox"
           }
          ],
          "scatterpolar": [
           {
            "marker": {
             "colorbar": {
              "outlinewidth": 0,
              "ticks": ""
             }
            },
            "type": "scatterpolar"
           }
          ],
          "scatterpolargl": [
           {
            "marker": {
             "colorbar": {
              "outlinewidth": 0,
              "ticks": ""
             }
            },
            "type": "scatterpolargl"
           }
          ],
          "scatterternary": [
           {
            "marker": {
             "colorbar": {
              "outlinewidth": 0,
              "ticks": ""
             }
            },
            "type": "scatterternary"
           }
          ],
          "surface": [
           {
            "colorbar": {
             "outlinewidth": 0,
             "ticks": ""
            },
            "colorscale": [
             [
              0,
              "#0d0887"
             ],
             [
              0.1111111111111111,
              "#46039f"
             ],
             [
              0.2222222222222222,
              "#7201a8"
             ],
             [
              0.3333333333333333,
              "#9c179e"
             ],
             [
              0.4444444444444444,
              "#bd3786"
             ],
             [
              0.5555555555555556,
              "#d8576b"
             ],
             [
              0.6666666666666666,
              "#ed7953"
             ],
             [
              0.7777777777777778,
              "#fb9f3a"
             ],
             [
              0.8888888888888888,
              "#fdca26"
             ],
             [
              1,
              "#f0f921"
             ]
            ],
            "type": "surface"
           }
          ],
          "table": [
           {
            "cells": {
             "fill": {
              "color": "#EBF0F8"
             },
             "line": {
              "color": "white"
             }
            },
            "header": {
             "fill": {
              "color": "#C8D4E3"
             },
             "line": {
              "color": "white"
             }
            },
            "type": "table"
           }
          ]
         },
         "layout": {
          "annotationdefaults": {
           "arrowcolor": "#2a3f5f",
           "arrowhead": 0,
           "arrowwidth": 1
          },
          "autotypenumbers": "strict",
          "coloraxis": {
           "colorbar": {
            "outlinewidth": 0,
            "ticks": ""
           }
          },
          "colorscale": {
           "diverging": [
            [
             0,
             "#8e0152"
            ],
            [
             0.1,
             "#c51b7d"
            ],
            [
             0.2,
             "#de77ae"
            ],
            [
             0.3,
             "#f1b6da"
            ],
            [
             0.4,
             "#fde0ef"
            ],
            [
             0.5,
             "#f7f7f7"
            ],
            [
             0.6,
             "#e6f5d0"
            ],
            [
             0.7,
             "#b8e186"
            ],
            [
             0.8,
             "#7fbc41"
            ],
            [
             0.9,
             "#4d9221"
            ],
            [
             1,
             "#276419"
            ]
           ],
           "sequential": [
            [
             0,
             "#0d0887"
            ],
            [
             0.1111111111111111,
             "#46039f"
            ],
            [
             0.2222222222222222,
             "#7201a8"
            ],
            [
             0.3333333333333333,
             "#9c179e"
            ],
            [
             0.4444444444444444,
             "#bd3786"
            ],
            [
             0.5555555555555556,
             "#d8576b"
            ],
            [
             0.6666666666666666,
             "#ed7953"
            ],
            [
             0.7777777777777778,
             "#fb9f3a"
            ],
            [
             0.8888888888888888,
             "#fdca26"
            ],
            [
             1,
             "#f0f921"
            ]
           ],
           "sequentialminus": [
            [
             0,
             "#0d0887"
            ],
            [
             0.1111111111111111,
             "#46039f"
            ],
            [
             0.2222222222222222,
             "#7201a8"
            ],
            [
             0.3333333333333333,
             "#9c179e"
            ],
            [
             0.4444444444444444,
             "#bd3786"
            ],
            [
             0.5555555555555556,
             "#d8576b"
            ],
            [
             0.6666666666666666,
             "#ed7953"
            ],
            [
             0.7777777777777778,
             "#fb9f3a"
            ],
            [
             0.8888888888888888,
             "#fdca26"
            ],
            [
             1,
             "#f0f921"
            ]
           ]
          },
          "colorway": [
           "#636efa",
           "#EF553B",
           "#00cc96",
           "#ab63fa",
           "#FFA15A",
           "#19d3f3",
           "#FF6692",
           "#B6E880",
           "#FF97FF",
           "#FECB52"
          ],
          "font": {
           "color": "#2a3f5f"
          },
          "geo": {
           "bgcolor": "white",
           "lakecolor": "white",
           "landcolor": "#E5ECF6",
           "showlakes": true,
           "showland": true,
           "subunitcolor": "white"
          },
          "hoverlabel": {
           "align": "left"
          },
          "hovermode": "closest",
          "mapbox": {
           "style": "light"
          },
          "paper_bgcolor": "white",
          "plot_bgcolor": "#E5ECF6",
          "polar": {
           "angularaxis": {
            "gridcolor": "white",
            "linecolor": "white",
            "ticks": ""
           },
           "bgcolor": "#E5ECF6",
           "radialaxis": {
            "gridcolor": "white",
            "linecolor": "white",
            "ticks": ""
           }
          },
          "scene": {
           "xaxis": {
            "backgroundcolor": "#E5ECF6",
            "gridcolor": "white",
            "gridwidth": 2,
            "linecolor": "white",
            "showbackground": true,
            "ticks": "",
            "zerolinecolor": "white"
           },
           "yaxis": {
            "backgroundcolor": "#E5ECF6",
            "gridcolor": "white",
            "gridwidth": 2,
            "linecolor": "white",
            "showbackground": true,
            "ticks": "",
            "zerolinecolor": "white"
           },
           "zaxis": {
            "backgroundcolor": "#E5ECF6",
            "gridcolor": "white",
            "gridwidth": 2,
            "linecolor": "white",
            "showbackground": true,
            "ticks": "",
            "zerolinecolor": "white"
           }
          },
          "shapedefaults": {
           "line": {
            "color": "#2a3f5f"
           }
          },
          "ternary": {
           "aaxis": {
            "gridcolor": "white",
            "linecolor": "white",
            "ticks": ""
           },
           "baxis": {
            "gridcolor": "white",
            "linecolor": "white",
            "ticks": ""
           },
           "bgcolor": "#E5ECF6",
           "caxis": {
            "gridcolor": "white",
            "linecolor": "white",
            "ticks": ""
           }
          },
          "title": {
           "x": 0.05
          },
          "xaxis": {
           "automargin": true,
           "gridcolor": "white",
           "linecolor": "white",
           "ticks": "",
           "title": {
            "standoff": 15
           },
           "zerolinecolor": "white",
           "zerolinewidth": 2
          },
          "yaxis": {
           "automargin": true,
           "gridcolor": "white",
           "linecolor": "white",
           "ticks": "",
           "title": {
            "standoff": 15
           },
           "zerolinecolor": "white",
           "zerolinewidth": 2
          }
         }
        },
        "xaxis": {
         "anchor": "y",
         "constrain": "domain",
         "domain": [
          0,
          1
         ],
         "scaleanchor": "y",
         "title": {
          "text": "medal"
         }
        },
        "yaxis": {
         "anchor": "x",
         "autorange": "reversed",
         "constrain": "domain",
         "domain": [
          0,
          1
         ],
         "title": {
          "text": "nation"
         }
        }
       }
      }
     },
     "metadata": {},
     "output_type": "display_data"
    }
   ],
   "source": [
    "fig = px.imshow(medals_wide)\n",
    "fig.show()"
   ]
  },
  {
   "cell_type": "markdown",
   "metadata": {},
   "source": [
    "## Text"
   ]
  },
  {
   "cell_type": "code",
   "execution_count": 6,
   "metadata": {},
   "outputs": [
    {
     "data": {
      "application/vnd.plotly.v1+json": {
       "config": {
        "plotlyServerURL": "https://plot.ly"
       },
       "data": [
        {
         "coloraxis": "coloraxis",
         "hovertemplate": "x: %{x}<br>y: %{y}<br>color: %{z}<extra></extra>",
         "name": "0",
         "texttemplate": "%{z}",
         "type": "heatmap",
         "xaxis": "x",
         "yaxis": "y",
         "z": [
          [
           0.1,
           0.3,
           0.5,
           0.7,
           0.9
          ],
          [
           1,
           0.8,
           0.6,
           0.4,
           0.2
          ],
          [
           0.2,
           0,
           0.5,
           0.7,
           0.9
          ],
          [
           0.9,
           0.8,
           0.4,
           0.2,
           0
          ],
          [
           0.3,
           0.4,
           0.5,
           0.7,
           1
          ]
         ]
        }
       ],
       "layout": {
        "coloraxis": {
         "colorscale": [
          [
           0,
           "#0d0887"
          ],
          [
           0.1111111111111111,
           "#46039f"
          ],
          [
           0.2222222222222222,
           "#7201a8"
          ],
          [
           0.3333333333333333,
           "#9c179e"
          ],
          [
           0.4444444444444444,
           "#bd3786"
          ],
          [
           0.5555555555555556,
           "#d8576b"
          ],
          [
           0.6666666666666666,
           "#ed7953"
          ],
          [
           0.7777777777777778,
           "#fb9f3a"
          ],
          [
           0.8888888888888888,
           "#fdca26"
          ],
          [
           1,
           "#f0f921"
          ]
         ]
        },
        "margin": {
         "t": 60
        },
        "template": {
         "data": {
          "bar": [
           {
            "error_x": {
             "color": "#2a3f5f"
            },
            "error_y": {
             "color": "#2a3f5f"
            },
            "marker": {
             "line": {
              "color": "#E5ECF6",
              "width": 0.5
             },
             "pattern": {
              "fillmode": "overlay",
              "size": 10,
              "solidity": 0.2
             }
            },
            "type": "bar"
           }
          ],
          "barpolar": [
           {
            "marker": {
             "line": {
              "color": "#E5ECF6",
              "width": 0.5
             },
             "pattern": {
              "fillmode": "overlay",
              "size": 10,
              "solidity": 0.2
             }
            },
            "type": "barpolar"
           }
          ],
          "carpet": [
           {
            "aaxis": {
             "endlinecolor": "#2a3f5f",
             "gridcolor": "white",
             "linecolor": "white",
             "minorgridcolor": "white",
             "startlinecolor": "#2a3f5f"
            },
            "baxis": {
             "endlinecolor": "#2a3f5f",
             "gridcolor": "white",
             "linecolor": "white",
             "minorgridcolor": "white",
             "startlinecolor": "#2a3f5f"
            },
            "type": "carpet"
           }
          ],
          "choropleth": [
           {
            "colorbar": {
             "outlinewidth": 0,
             "ticks": ""
            },
            "type": "choropleth"
           }
          ],
          "contour": [
           {
            "colorbar": {
             "outlinewidth": 0,
             "ticks": ""
            },
            "colorscale": [
             [
              0,
              "#0d0887"
             ],
             [
              0.1111111111111111,
              "#46039f"
             ],
             [
              0.2222222222222222,
              "#7201a8"
             ],
             [
              0.3333333333333333,
              "#9c179e"
             ],
             [
              0.4444444444444444,
              "#bd3786"
             ],
             [
              0.5555555555555556,
              "#d8576b"
             ],
             [
              0.6666666666666666,
              "#ed7953"
             ],
             [
              0.7777777777777778,
              "#fb9f3a"
             ],
             [
              0.8888888888888888,
              "#fdca26"
             ],
             [
              1,
              "#f0f921"
             ]
            ],
            "type": "contour"
           }
          ],
          "contourcarpet": [
           {
            "colorbar": {
             "outlinewidth": 0,
             "ticks": ""
            },
            "type": "contourcarpet"
           }
          ],
          "heatmap": [
           {
            "colorbar": {
             "outlinewidth": 0,
             "ticks": ""
            },
            "colorscale": [
             [
              0,
              "#0d0887"
             ],
             [
              0.1111111111111111,
              "#46039f"
             ],
             [
              0.2222222222222222,
              "#7201a8"
             ],
             [
              0.3333333333333333,
              "#9c179e"
             ],
             [
              0.4444444444444444,
              "#bd3786"
             ],
             [
              0.5555555555555556,
              "#d8576b"
             ],
             [
              0.6666666666666666,
              "#ed7953"
             ],
             [
              0.7777777777777778,
              "#fb9f3a"
             ],
             [
              0.8888888888888888,
              "#fdca26"
             ],
             [
              1,
              "#f0f921"
             ]
            ],
            "type": "heatmap"
           }
          ],
          "heatmapgl": [
           {
            "colorbar": {
             "outlinewidth": 0,
             "ticks": ""
            },
            "colorscale": [
             [
              0,
              "#0d0887"
             ],
             [
              0.1111111111111111,
              "#46039f"
             ],
             [
              0.2222222222222222,
              "#7201a8"
             ],
             [
              0.3333333333333333,
              "#9c179e"
             ],
             [
              0.4444444444444444,
              "#bd3786"
             ],
             [
              0.5555555555555556,
              "#d8576b"
             ],
             [
              0.6666666666666666,
              "#ed7953"
             ],
             [
              0.7777777777777778,
              "#fb9f3a"
             ],
             [
              0.8888888888888888,
              "#fdca26"
             ],
             [
              1,
              "#f0f921"
             ]
            ],
            "type": "heatmapgl"
           }
          ],
          "histogram": [
           {
            "marker": {
             "pattern": {
              "fillmode": "overlay",
              "size": 10,
              "solidity": 0.2
             }
            },
            "type": "histogram"
           }
          ],
          "histogram2d": [
           {
            "colorbar": {
             "outlinewidth": 0,
             "ticks": ""
            },
            "colorscale": [
             [
              0,
              "#0d0887"
             ],
             [
              0.1111111111111111,
              "#46039f"
             ],
             [
              0.2222222222222222,
              "#7201a8"
             ],
             [
              0.3333333333333333,
              "#9c179e"
             ],
             [
              0.4444444444444444,
              "#bd3786"
             ],
             [
              0.5555555555555556,
              "#d8576b"
             ],
             [
              0.6666666666666666,
              "#ed7953"
             ],
             [
              0.7777777777777778,
              "#fb9f3a"
             ],
             [
              0.8888888888888888,
              "#fdca26"
             ],
             [
              1,
              "#f0f921"
             ]
            ],
            "type": "histogram2d"
           }
          ],
          "histogram2dcontour": [
           {
            "colorbar": {
             "outlinewidth": 0,
             "ticks": ""
            },
            "colorscale": [
             [
              0,
              "#0d0887"
             ],
             [
              0.1111111111111111,
              "#46039f"
             ],
             [
              0.2222222222222222,
              "#7201a8"
             ],
             [
              0.3333333333333333,
              "#9c179e"
             ],
             [
              0.4444444444444444,
              "#bd3786"
             ],
             [
              0.5555555555555556,
              "#d8576b"
             ],
             [
              0.6666666666666666,
              "#ed7953"
             ],
             [
              0.7777777777777778,
              "#fb9f3a"
             ],
             [
              0.8888888888888888,
              "#fdca26"
             ],
             [
              1,
              "#f0f921"
             ]
            ],
            "type": "histogram2dcontour"
           }
          ],
          "mesh3d": [
           {
            "colorbar": {
             "outlinewidth": 0,
             "ticks": ""
            },
            "type": "mesh3d"
           }
          ],
          "parcoords": [
           {
            "line": {
             "colorbar": {
              "outlinewidth": 0,
              "ticks": ""
             }
            },
            "type": "parcoords"
           }
          ],
          "pie": [
           {
            "automargin": true,
            "type": "pie"
           }
          ],
          "scatter": [
           {
            "fillpattern": {
             "fillmode": "overlay",
             "size": 10,
             "solidity": 0.2
            },
            "type": "scatter"
           }
          ],
          "scatter3d": [
           {
            "line": {
             "colorbar": {
              "outlinewidth": 0,
              "ticks": ""
             }
            },
            "marker": {
             "colorbar": {
              "outlinewidth": 0,
              "ticks": ""
             }
            },
            "type": "scatter3d"
           }
          ],
          "scattercarpet": [
           {
            "marker": {
             "colorbar": {
              "outlinewidth": 0,
              "ticks": ""
             }
            },
            "type": "scattercarpet"
           }
          ],
          "scattergeo": [
           {
            "marker": {
             "colorbar": {
              "outlinewidth": 0,
              "ticks": ""
             }
            },
            "type": "scattergeo"
           }
          ],
          "scattergl": [
           {
            "marker": {
             "colorbar": {
              "outlinewidth": 0,
              "ticks": ""
             }
            },
            "type": "scattergl"
           }
          ],
          "scattermapbox": [
           {
            "marker": {
             "colorbar": {
              "outlinewidth": 0,
              "ticks": ""
             }
            },
            "type": "scattermapbox"
           }
          ],
          "scatterpolar": [
           {
            "marker": {
             "colorbar": {
              "outlinewidth": 0,
              "ticks": ""
             }
            },
            "type": "scatterpolar"
           }
          ],
          "scatterpolargl": [
           {
            "marker": {
             "colorbar": {
              "outlinewidth": 0,
              "ticks": ""
             }
            },
            "type": "scatterpolargl"
           }
          ],
          "scatterternary": [
           {
            "marker": {
             "colorbar": {
              "outlinewidth": 0,
              "ticks": ""
             }
            },
            "type": "scatterternary"
           }
          ],
          "surface": [
           {
            "colorbar": {
             "outlinewidth": 0,
             "ticks": ""
            },
            "colorscale": [
             [
              0,
              "#0d0887"
             ],
             [
              0.1111111111111111,
              "#46039f"
             ],
             [
              0.2222222222222222,
              "#7201a8"
             ],
             [
              0.3333333333333333,
              "#9c179e"
             ],
             [
              0.4444444444444444,
              "#bd3786"
             ],
             [
              0.5555555555555556,
              "#d8576b"
             ],
             [
              0.6666666666666666,
              "#ed7953"
             ],
             [
              0.7777777777777778,
              "#fb9f3a"
             ],
             [
              0.8888888888888888,
              "#fdca26"
             ],
             [
              1,
              "#f0f921"
             ]
            ],
            "type": "surface"
           }
          ],
          "table": [
           {
            "cells": {
             "fill": {
              "color": "#EBF0F8"
             },
             "line": {
              "color": "white"
             }
            },
            "header": {
             "fill": {
              "color": "#C8D4E3"
             },
             "line": {
              "color": "white"
             }
            },
            "type": "table"
           }
          ]
         },
         "layout": {
          "annotationdefaults": {
           "arrowcolor": "#2a3f5f",
           "arrowhead": 0,
           "arrowwidth": 1
          },
          "autotypenumbers": "strict",
          "coloraxis": {
           "colorbar": {
            "outlinewidth": 0,
            "ticks": ""
           }
          },
          "colorscale": {
           "diverging": [
            [
             0,
             "#8e0152"
            ],
            [
             0.1,
             "#c51b7d"
            ],
            [
             0.2,
             "#de77ae"
            ],
            [
             0.3,
             "#f1b6da"
            ],
            [
             0.4,
             "#fde0ef"
            ],
            [
             0.5,
             "#f7f7f7"
            ],
            [
             0.6,
             "#e6f5d0"
            ],
            [
             0.7,
             "#b8e186"
            ],
            [
             0.8,
             "#7fbc41"
            ],
            [
             0.9,
             "#4d9221"
            ],
            [
             1,
             "#276419"
            ]
           ],
           "sequential": [
            [
             0,
             "#0d0887"
            ],
            [
             0.1111111111111111,
             "#46039f"
            ],
            [
             0.2222222222222222,
             "#7201a8"
            ],
            [
             0.3333333333333333,
             "#9c179e"
            ],
            [
             0.4444444444444444,
             "#bd3786"
            ],
            [
             0.5555555555555556,
             "#d8576b"
            ],
            [
             0.6666666666666666,
             "#ed7953"
            ],
            [
             0.7777777777777778,
             "#fb9f3a"
            ],
            [
             0.8888888888888888,
             "#fdca26"
            ],
            [
             1,
             "#f0f921"
            ]
           ],
           "sequentialminus": [
            [
             0,
             "#0d0887"
            ],
            [
             0.1111111111111111,
             "#46039f"
            ],
            [
             0.2222222222222222,
             "#7201a8"
            ],
            [
             0.3333333333333333,
             "#9c179e"
            ],
            [
             0.4444444444444444,
             "#bd3786"
            ],
            [
             0.5555555555555556,
             "#d8576b"
            ],
            [
             0.6666666666666666,
             "#ed7953"
            ],
            [
             0.7777777777777778,
             "#fb9f3a"
            ],
            [
             0.8888888888888888,
             "#fdca26"
            ],
            [
             1,
             "#f0f921"
            ]
           ]
          },
          "colorway": [
           "#636efa",
           "#EF553B",
           "#00cc96",
           "#ab63fa",
           "#FFA15A",
           "#19d3f3",
           "#FF6692",
           "#B6E880",
           "#FF97FF",
           "#FECB52"
          ],
          "font": {
           "color": "#2a3f5f"
          },
          "geo": {
           "bgcolor": "white",
           "lakecolor": "white",
           "landcolor": "#E5ECF6",
           "showlakes": true,
           "showland": true,
           "subunitcolor": "white"
          },
          "hoverlabel": {
           "align": "left"
          },
          "hovermode": "closest",
          "mapbox": {
           "style": "light"
          },
          "paper_bgcolor": "white",
          "plot_bgcolor": "#E5ECF6",
          "polar": {
           "angularaxis": {
            "gridcolor": "white",
            "linecolor": "white",
            "ticks": ""
           },
           "bgcolor": "#E5ECF6",
           "radialaxis": {
            "gridcolor": "white",
            "linecolor": "white",
            "ticks": ""
           }
          },
          "scene": {
           "xaxis": {
            "backgroundcolor": "#E5ECF6",
            "gridcolor": "white",
            "gridwidth": 2,
            "linecolor": "white",
            "showbackground": true,
            "ticks": "",
            "zerolinecolor": "white"
           },
           "yaxis": {
            "backgroundcolor": "#E5ECF6",
            "gridcolor": "white",
            "gridwidth": 2,
            "linecolor": "white",
            "showbackground": true,
            "ticks": "",
            "zerolinecolor": "white"
           },
           "zaxis": {
            "backgroundcolor": "#E5ECF6",
            "gridcolor": "white",
            "gridwidth": 2,
            "linecolor": "white",
            "showbackground": true,
            "ticks": "",
            "zerolinecolor": "white"
           }
          },
          "shapedefaults": {
           "line": {
            "color": "#2a3f5f"
           }
          },
          "ternary": {
           "aaxis": {
            "gridcolor": "white",
            "linecolor": "white",
            "ticks": ""
           },
           "baxis": {
            "gridcolor": "white",
            "linecolor": "white",
            "ticks": ""
           },
           "bgcolor": "#E5ECF6",
           "caxis": {
            "gridcolor": "white",
            "linecolor": "white",
            "ticks": ""
           }
          },
          "title": {
           "x": 0.05
          },
          "xaxis": {
           "automargin": true,
           "gridcolor": "white",
           "linecolor": "white",
           "ticks": "",
           "title": {
            "standoff": 15
           },
           "zerolinecolor": "white",
           "zerolinewidth": 2
          },
          "yaxis": {
           "automargin": true,
           "gridcolor": "white",
           "linecolor": "white",
           "ticks": "",
           "title": {
            "standoff": 15
           },
           "zerolinecolor": "white",
           "zerolinewidth": 2
          }
         }
        },
        "xaxis": {
         "anchor": "y",
         "constrain": "domain",
         "domain": [
          0,
          1
         ],
         "scaleanchor": "y"
        },
        "yaxis": {
         "anchor": "x",
         "autorange": "reversed",
         "constrain": "domain",
         "domain": [
          0,
          1
         ]
        }
       }
      }
     },
     "metadata": {},
     "output_type": "display_data"
    }
   ],
   "source": [
    "z = [\n",
    "    [0.1, 0.3, 0.5, 0.7, 0.9],\n",
    "    [1, 0.8, 0.6, 0.4, 0.2],\n",
    "    [0.2, 0, 0.5, 0.7, 0.9],\n",
    "    [0.9, 0.8, 0.4, 0.2, 0],\n",
    "    [0.3, 0.4, 0.5, 0.7, 1],\n",
    "]\n",
    "\n",
    "fig = px.imshow(z, text_auto=True)\n",
    "fig.show()"
   ]
  },
  {
   "cell_type": "markdown",
   "metadata": {},
   "source": [
    "## Controlling Aspect Ratio"
   ]
  },
  {
   "cell_type": "code",
   "execution_count": 7,
   "metadata": {},
   "outputs": [
    {
     "data": {
      "application/vnd.plotly.v1+json": {
       "config": {
        "plotlyServerURL": "https://plot.ly"
       },
       "data": [
        {
         "coloraxis": "coloraxis",
         "hovertemplate": "x: %{x}<br>y: %{y}<br>color: %{z}<extra></extra>",
         "name": "0",
         "texttemplate": "%{z}",
         "type": "heatmap",
         "xaxis": "x",
         "yaxis": "y",
         "z": [
          [
           0.1,
           0.3,
           0.5,
           0.7,
           0.9
          ],
          [
           1,
           0.8,
           0.6,
           0.4,
           0.2
          ],
          [
           0.2,
           0,
           0.5,
           0.7,
           0.9
          ],
          [
           0.9,
           0.8,
           0.4,
           0.2,
           0
          ],
          [
           0.3,
           0.4,
           0.5,
           0.7,
           1
          ]
         ]
        }
       ],
       "layout": {
        "coloraxis": {
         "colorscale": [
          [
           0,
           "#0d0887"
          ],
          [
           0.1111111111111111,
           "#46039f"
          ],
          [
           0.2222222222222222,
           "#7201a8"
          ],
          [
           0.3333333333333333,
           "#9c179e"
          ],
          [
           0.4444444444444444,
           "#bd3786"
          ],
          [
           0.5555555555555556,
           "#d8576b"
          ],
          [
           0.6666666666666666,
           "#ed7953"
          ],
          [
           0.7777777777777778,
           "#fb9f3a"
          ],
          [
           0.8888888888888888,
           "#fdca26"
          ],
          [
           1,
           "#f0f921"
          ]
         ]
        },
        "margin": {
         "t": 60
        },
        "template": {
         "data": {
          "bar": [
           {
            "error_x": {
             "color": "#2a3f5f"
            },
            "error_y": {
             "color": "#2a3f5f"
            },
            "marker": {
             "line": {
              "color": "#E5ECF6",
              "width": 0.5
             },
             "pattern": {
              "fillmode": "overlay",
              "size": 10,
              "solidity": 0.2
             }
            },
            "type": "bar"
           }
          ],
          "barpolar": [
           {
            "marker": {
             "line": {
              "color": "#E5ECF6",
              "width": 0.5
             },
             "pattern": {
              "fillmode": "overlay",
              "size": 10,
              "solidity": 0.2
             }
            },
            "type": "barpolar"
           }
          ],
          "carpet": [
           {
            "aaxis": {
             "endlinecolor": "#2a3f5f",
             "gridcolor": "white",
             "linecolor": "white",
             "minorgridcolor": "white",
             "startlinecolor": "#2a3f5f"
            },
            "baxis": {
             "endlinecolor": "#2a3f5f",
             "gridcolor": "white",
             "linecolor": "white",
             "minorgridcolor": "white",
             "startlinecolor": "#2a3f5f"
            },
            "type": "carpet"
           }
          ],
          "choropleth": [
           {
            "colorbar": {
             "outlinewidth": 0,
             "ticks": ""
            },
            "type": "choropleth"
           }
          ],
          "contour": [
           {
            "colorbar": {
             "outlinewidth": 0,
             "ticks": ""
            },
            "colorscale": [
             [
              0,
              "#0d0887"
             ],
             [
              0.1111111111111111,
              "#46039f"
             ],
             [
              0.2222222222222222,
              "#7201a8"
             ],
             [
              0.3333333333333333,
              "#9c179e"
             ],
             [
              0.4444444444444444,
              "#bd3786"
             ],
             [
              0.5555555555555556,
              "#d8576b"
             ],
             [
              0.6666666666666666,
              "#ed7953"
             ],
             [
              0.7777777777777778,
              "#fb9f3a"
             ],
             [
              0.8888888888888888,
              "#fdca26"
             ],
             [
              1,
              "#f0f921"
             ]
            ],
            "type": "contour"
           }
          ],
          "contourcarpet": [
           {
            "colorbar": {
             "outlinewidth": 0,
             "ticks": ""
            },
            "type": "contourcarpet"
           }
          ],
          "heatmap": [
           {
            "colorbar": {
             "outlinewidth": 0,
             "ticks": ""
            },
            "colorscale": [
             [
              0,
              "#0d0887"
             ],
             [
              0.1111111111111111,
              "#46039f"
             ],
             [
              0.2222222222222222,
              "#7201a8"
             ],
             [
              0.3333333333333333,
              "#9c179e"
             ],
             [
              0.4444444444444444,
              "#bd3786"
             ],
             [
              0.5555555555555556,
              "#d8576b"
             ],
             [
              0.6666666666666666,
              "#ed7953"
             ],
             [
              0.7777777777777778,
              "#fb9f3a"
             ],
             [
              0.8888888888888888,
              "#fdca26"
             ],
             [
              1,
              "#f0f921"
             ]
            ],
            "type": "heatmap"
           }
          ],
          "heatmapgl": [
           {
            "colorbar": {
             "outlinewidth": 0,
             "ticks": ""
            },
            "colorscale": [
             [
              0,
              "#0d0887"
             ],
             [
              0.1111111111111111,
              "#46039f"
             ],
             [
              0.2222222222222222,
              "#7201a8"
             ],
             [
              0.3333333333333333,
              "#9c179e"
             ],
             [
              0.4444444444444444,
              "#bd3786"
             ],
             [
              0.5555555555555556,
              "#d8576b"
             ],
             [
              0.6666666666666666,
              "#ed7953"
             ],
             [
              0.7777777777777778,
              "#fb9f3a"
             ],
             [
              0.8888888888888888,
              "#fdca26"
             ],
             [
              1,
              "#f0f921"
             ]
            ],
            "type": "heatmapgl"
           }
          ],
          "histogram": [
           {
            "marker": {
             "pattern": {
              "fillmode": "overlay",
              "size": 10,
              "solidity": 0.2
             }
            },
            "type": "histogram"
           }
          ],
          "histogram2d": [
           {
            "colorbar": {
             "outlinewidth": 0,
             "ticks": ""
            },
            "colorscale": [
             [
              0,
              "#0d0887"
             ],
             [
              0.1111111111111111,
              "#46039f"
             ],
             [
              0.2222222222222222,
              "#7201a8"
             ],
             [
              0.3333333333333333,
              "#9c179e"
             ],
             [
              0.4444444444444444,
              "#bd3786"
             ],
             [
              0.5555555555555556,
              "#d8576b"
             ],
             [
              0.6666666666666666,
              "#ed7953"
             ],
             [
              0.7777777777777778,
              "#fb9f3a"
             ],
             [
              0.8888888888888888,
              "#fdca26"
             ],
             [
              1,
              "#f0f921"
             ]
            ],
            "type": "histogram2d"
           }
          ],
          "histogram2dcontour": [
           {
            "colorbar": {
             "outlinewidth": 0,
             "ticks": ""
            },
            "colorscale": [
             [
              0,
              "#0d0887"
             ],
             [
              0.1111111111111111,
              "#46039f"
             ],
             [
              0.2222222222222222,
              "#7201a8"
             ],
             [
              0.3333333333333333,
              "#9c179e"
             ],
             [
              0.4444444444444444,
              "#bd3786"
             ],
             [
              0.5555555555555556,
              "#d8576b"
             ],
             [
              0.6666666666666666,
              "#ed7953"
             ],
             [
              0.7777777777777778,
              "#fb9f3a"
             ],
             [
              0.8888888888888888,
              "#fdca26"
             ],
             [
              1,
              "#f0f921"
             ]
            ],
            "type": "histogram2dcontour"
           }
          ],
          "mesh3d": [
           {
            "colorbar": {
             "outlinewidth": 0,
             "ticks": ""
            },
            "type": "mesh3d"
           }
          ],
          "parcoords": [
           {
            "line": {
             "colorbar": {
              "outlinewidth": 0,
              "ticks": ""
             }
            },
            "type": "parcoords"
           }
          ],
          "pie": [
           {
            "automargin": true,
            "type": "pie"
           }
          ],
          "scatter": [
           {
            "fillpattern": {
             "fillmode": "overlay",
             "size": 10,
             "solidity": 0.2
            },
            "type": "scatter"
           }
          ],
          "scatter3d": [
           {
            "line": {
             "colorbar": {
              "outlinewidth": 0,
              "ticks": ""
             }
            },
            "marker": {
             "colorbar": {
              "outlinewidth": 0,
              "ticks": ""
             }
            },
            "type": "scatter3d"
           }
          ],
          "scattercarpet": [
           {
            "marker": {
             "colorbar": {
              "outlinewidth": 0,
              "ticks": ""
             }
            },
            "type": "scattercarpet"
           }
          ],
          "scattergeo": [
           {
            "marker": {
             "colorbar": {
              "outlinewidth": 0,
              "ticks": ""
             }
            },
            "type": "scattergeo"
           }
          ],
          "scattergl": [
           {
            "marker": {
             "colorbar": {
              "outlinewidth": 0,
              "ticks": ""
             }
            },
            "type": "scattergl"
           }
          ],
          "scattermapbox": [
           {
            "marker": {
             "colorbar": {
              "outlinewidth": 0,
              "ticks": ""
             }
            },
            "type": "scattermapbox"
           }
          ],
          "scatterpolar": [
           {
            "marker": {
             "colorbar": {
              "outlinewidth": 0,
              "ticks": ""
             }
            },
            "type": "scatterpolar"
           }
          ],
          "scatterpolargl": [
           {
            "marker": {
             "colorbar": {
              "outlinewidth": 0,
              "ticks": ""
             }
            },
            "type": "scatterpolargl"
           }
          ],
          "scatterternary": [
           {
            "marker": {
             "colorbar": {
              "outlinewidth": 0,
              "ticks": ""
             }
            },
            "type": "scatterternary"
           }
          ],
          "surface": [
           {
            "colorbar": {
             "outlinewidth": 0,
             "ticks": ""
            },
            "colorscale": [
             [
              0,
              "#0d0887"
             ],
             [
              0.1111111111111111,
              "#46039f"
             ],
             [
              0.2222222222222222,
              "#7201a8"
             ],
             [
              0.3333333333333333,
              "#9c179e"
             ],
             [
              0.4444444444444444,
              "#bd3786"
             ],
             [
              0.5555555555555556,
              "#d8576b"
             ],
             [
              0.6666666666666666,
              "#ed7953"
             ],
             [
              0.7777777777777778,
              "#fb9f3a"
             ],
             [
              0.8888888888888888,
              "#fdca26"
             ],
             [
              1,
              "#f0f921"
             ]
            ],
            "type": "surface"
           }
          ],
          "table": [
           {
            "cells": {
             "fill": {
              "color": "#EBF0F8"
             },
             "line": {
              "color": "white"
             }
            },
            "header": {
             "fill": {
              "color": "#C8D4E3"
             },
             "line": {
              "color": "white"
             }
            },
            "type": "table"
           }
          ]
         },
         "layout": {
          "annotationdefaults": {
           "arrowcolor": "#2a3f5f",
           "arrowhead": 0,
           "arrowwidth": 1
          },
          "autotypenumbers": "strict",
          "coloraxis": {
           "colorbar": {
            "outlinewidth": 0,
            "ticks": ""
           }
          },
          "colorscale": {
           "diverging": [
            [
             0,
             "#8e0152"
            ],
            [
             0.1,
             "#c51b7d"
            ],
            [
             0.2,
             "#de77ae"
            ],
            [
             0.3,
             "#f1b6da"
            ],
            [
             0.4,
             "#fde0ef"
            ],
            [
             0.5,
             "#f7f7f7"
            ],
            [
             0.6,
             "#e6f5d0"
            ],
            [
             0.7,
             "#b8e186"
            ],
            [
             0.8,
             "#7fbc41"
            ],
            [
             0.9,
             "#4d9221"
            ],
            [
             1,
             "#276419"
            ]
           ],
           "sequential": [
            [
             0,
             "#0d0887"
            ],
            [
             0.1111111111111111,
             "#46039f"
            ],
            [
             0.2222222222222222,
             "#7201a8"
            ],
            [
             0.3333333333333333,
             "#9c179e"
            ],
            [
             0.4444444444444444,
             "#bd3786"
            ],
            [
             0.5555555555555556,
             "#d8576b"
            ],
            [
             0.6666666666666666,
             "#ed7953"
            ],
            [
             0.7777777777777778,
             "#fb9f3a"
            ],
            [
             0.8888888888888888,
             "#fdca26"
            ],
            [
             1,
             "#f0f921"
            ]
           ],
           "sequentialminus": [
            [
             0,
             "#0d0887"
            ],
            [
             0.1111111111111111,
             "#46039f"
            ],
            [
             0.2222222222222222,
             "#7201a8"
            ],
            [
             0.3333333333333333,
             "#9c179e"
            ],
            [
             0.4444444444444444,
             "#bd3786"
            ],
            [
             0.5555555555555556,
             "#d8576b"
            ],
            [
             0.6666666666666666,
             "#ed7953"
            ],
            [
             0.7777777777777778,
             "#fb9f3a"
            ],
            [
             0.8888888888888888,
             "#fdca26"
            ],
            [
             1,
             "#f0f921"
            ]
           ]
          },
          "colorway": [
           "#636efa",
           "#EF553B",
           "#00cc96",
           "#ab63fa",
           "#FFA15A",
           "#19d3f3",
           "#FF6692",
           "#B6E880",
           "#FF97FF",
           "#FECB52"
          ],
          "font": {
           "color": "#2a3f5f"
          },
          "geo": {
           "bgcolor": "white",
           "lakecolor": "white",
           "landcolor": "#E5ECF6",
           "showlakes": true,
           "showland": true,
           "subunitcolor": "white"
          },
          "hoverlabel": {
           "align": "left"
          },
          "hovermode": "closest",
          "mapbox": {
           "style": "light"
          },
          "paper_bgcolor": "white",
          "plot_bgcolor": "#E5ECF6",
          "polar": {
           "angularaxis": {
            "gridcolor": "white",
            "linecolor": "white",
            "ticks": ""
           },
           "bgcolor": "#E5ECF6",
           "radialaxis": {
            "gridcolor": "white",
            "linecolor": "white",
            "ticks": ""
           }
          },
          "scene": {
           "xaxis": {
            "backgroundcolor": "#E5ECF6",
            "gridcolor": "white",
            "gridwidth": 2,
            "linecolor": "white",
            "showbackground": true,
            "ticks": "",
            "zerolinecolor": "white"
           },
           "yaxis": {
            "backgroundcolor": "#E5ECF6",
            "gridcolor": "white",
            "gridwidth": 2,
            "linecolor": "white",
            "showbackground": true,
            "ticks": "",
            "zerolinecolor": "white"
           },
           "zaxis": {
            "backgroundcolor": "#E5ECF6",
            "gridcolor": "white",
            "gridwidth": 2,
            "linecolor": "white",
            "showbackground": true,
            "ticks": "",
            "zerolinecolor": "white"
           }
          },
          "shapedefaults": {
           "line": {
            "color": "#2a3f5f"
           }
          },
          "ternary": {
           "aaxis": {
            "gridcolor": "white",
            "linecolor": "white",
            "ticks": ""
           },
           "baxis": {
            "gridcolor": "white",
            "linecolor": "white",
            "ticks": ""
           },
           "bgcolor": "#E5ECF6",
           "caxis": {
            "gridcolor": "white",
            "linecolor": "white",
            "ticks": ""
           }
          },
          "title": {
           "x": 0.05
          },
          "xaxis": {
           "automargin": true,
           "gridcolor": "white",
           "linecolor": "white",
           "ticks": "",
           "title": {
            "standoff": 15
           },
           "zerolinecolor": "white",
           "zerolinewidth": 2
          },
          "yaxis": {
           "automargin": true,
           "gridcolor": "white",
           "linecolor": "white",
           "ticks": "",
           "title": {
            "standoff": 15
           },
           "zerolinecolor": "white",
           "zerolinewidth": 2
          }
         }
        },
        "xaxis": {
         "anchor": "y",
         "domain": [
          0,
          1
         ]
        },
        "yaxis": {
         "anchor": "x",
         "autorange": "reversed",
         "domain": [
          0,
          1
         ]
        }
       }
      }
     },
     "metadata": {},
     "output_type": "display_data"
    }
   ],
   "source": [
    "z = [\n",
    "    [0.1, 0.3, 0.5, 0.7, 0.9],\n",
    "    [1, 0.8, 0.6, 0.4, 0.2],\n",
    "    [0.2, 0, 0.5, 0.7, 0.9],\n",
    "    [0.9, 0.8, 0.4, 0.2, 0],\n",
    "    [0.3, 0.4, 0.5, 0.7, 1],\n",
    "]\n",
    "\n",
    "fig = px.imshow(z, text_auto=True, aspect=\"auto\")\n",
    "fig.show()"
   ]
  },
  {
   "cell_type": "markdown",
   "metadata": {},
   "source": [
    "## Customizing the axes and labels on a heatmap"
   ]
  },
  {
   "cell_type": "code",
   "execution_count": 9,
   "metadata": {},
   "outputs": [
    {
     "data": {
      "application/vnd.plotly.v1+json": {
       "config": {
        "plotlyServerURL": "https://plot.ly"
       },
       "data": [
        {
         "coloraxis": "coloraxis",
         "hovertemplate": "Day of Week: %{x}<br>Time of Day: %{y}<br>Productivity: %{z}<extra></extra>",
         "name": "0",
         "texttemplate": "%{z}",
         "type": "heatmap",
         "x": [
          "Monday",
          "Tuesday",
          "Wednesday",
          "Thursday",
          "Friday"
         ],
         "xaxis": "x",
         "y": [
          "Morning",
          "Afternoon",
          "Evening"
         ],
         "yaxis": "y",
         "z": [
          [
           1,
           25,
           30,
           50,
           1
          ],
          [
           20,
           1,
           60,
           80,
           30
          ],
          [
           30,
           60,
           1,
           5,
           20
          ]
         ]
        }
       ],
       "layout": {
        "coloraxis": {
         "colorbar": {
          "title": {
           "text": "Productivity"
          }
         },
         "colorscale": [
          [
           0,
           "#0d0887"
          ],
          [
           0.1111111111111111,
           "#46039f"
          ],
          [
           0.2222222222222222,
           "#7201a8"
          ],
          [
           0.3333333333333333,
           "#9c179e"
          ],
          [
           0.4444444444444444,
           "#bd3786"
          ],
          [
           0.5555555555555556,
           "#d8576b"
          ],
          [
           0.6666666666666666,
           "#ed7953"
          ],
          [
           0.7777777777777778,
           "#fb9f3a"
          ],
          [
           0.8888888888888888,
           "#fdca26"
          ],
          [
           1,
           "#f0f921"
          ]
         ]
        },
        "margin": {
         "t": 60
        },
        "template": {
         "data": {
          "bar": [
           {
            "error_x": {
             "color": "#2a3f5f"
            },
            "error_y": {
             "color": "#2a3f5f"
            },
            "marker": {
             "line": {
              "color": "#E5ECF6",
              "width": 0.5
             },
             "pattern": {
              "fillmode": "overlay",
              "size": 10,
              "solidity": 0.2
             }
            },
            "type": "bar"
           }
          ],
          "barpolar": [
           {
            "marker": {
             "line": {
              "color": "#E5ECF6",
              "width": 0.5
             },
             "pattern": {
              "fillmode": "overlay",
              "size": 10,
              "solidity": 0.2
             }
            },
            "type": "barpolar"
           }
          ],
          "carpet": [
           {
            "aaxis": {
             "endlinecolor": "#2a3f5f",
             "gridcolor": "white",
             "linecolor": "white",
             "minorgridcolor": "white",
             "startlinecolor": "#2a3f5f"
            },
            "baxis": {
             "endlinecolor": "#2a3f5f",
             "gridcolor": "white",
             "linecolor": "white",
             "minorgridcolor": "white",
             "startlinecolor": "#2a3f5f"
            },
            "type": "carpet"
           }
          ],
          "choropleth": [
           {
            "colorbar": {
             "outlinewidth": 0,
             "ticks": ""
            },
            "type": "choropleth"
           }
          ],
          "contour": [
           {
            "colorbar": {
             "outlinewidth": 0,
             "ticks": ""
            },
            "colorscale": [
             [
              0,
              "#0d0887"
             ],
             [
              0.1111111111111111,
              "#46039f"
             ],
             [
              0.2222222222222222,
              "#7201a8"
             ],
             [
              0.3333333333333333,
              "#9c179e"
             ],
             [
              0.4444444444444444,
              "#bd3786"
             ],
             [
              0.5555555555555556,
              "#d8576b"
             ],
             [
              0.6666666666666666,
              "#ed7953"
             ],
             [
              0.7777777777777778,
              "#fb9f3a"
             ],
             [
              0.8888888888888888,
              "#fdca26"
             ],
             [
              1,
              "#f0f921"
             ]
            ],
            "type": "contour"
           }
          ],
          "contourcarpet": [
           {
            "colorbar": {
             "outlinewidth": 0,
             "ticks": ""
            },
            "type": "contourcarpet"
           }
          ],
          "heatmap": [
           {
            "colorbar": {
             "outlinewidth": 0,
             "ticks": ""
            },
            "colorscale": [
             [
              0,
              "#0d0887"
             ],
             [
              0.1111111111111111,
              "#46039f"
             ],
             [
              0.2222222222222222,
              "#7201a8"
             ],
             [
              0.3333333333333333,
              "#9c179e"
             ],
             [
              0.4444444444444444,
              "#bd3786"
             ],
             [
              0.5555555555555556,
              "#d8576b"
             ],
             [
              0.6666666666666666,
              "#ed7953"
             ],
             [
              0.7777777777777778,
              "#fb9f3a"
             ],
             [
              0.8888888888888888,
              "#fdca26"
             ],
             [
              1,
              "#f0f921"
             ]
            ],
            "type": "heatmap"
           }
          ],
          "heatmapgl": [
           {
            "colorbar": {
             "outlinewidth": 0,
             "ticks": ""
            },
            "colorscale": [
             [
              0,
              "#0d0887"
             ],
             [
              0.1111111111111111,
              "#46039f"
             ],
             [
              0.2222222222222222,
              "#7201a8"
             ],
             [
              0.3333333333333333,
              "#9c179e"
             ],
             [
              0.4444444444444444,
              "#bd3786"
             ],
             [
              0.5555555555555556,
              "#d8576b"
             ],
             [
              0.6666666666666666,
              "#ed7953"
             ],
             [
              0.7777777777777778,
              "#fb9f3a"
             ],
             [
              0.8888888888888888,
              "#fdca26"
             ],
             [
              1,
              "#f0f921"
             ]
            ],
            "type": "heatmapgl"
           }
          ],
          "histogram": [
           {
            "marker": {
             "pattern": {
              "fillmode": "overlay",
              "size": 10,
              "solidity": 0.2
             }
            },
            "type": "histogram"
           }
          ],
          "histogram2d": [
           {
            "colorbar": {
             "outlinewidth": 0,
             "ticks": ""
            },
            "colorscale": [
             [
              0,
              "#0d0887"
             ],
             [
              0.1111111111111111,
              "#46039f"
             ],
             [
              0.2222222222222222,
              "#7201a8"
             ],
             [
              0.3333333333333333,
              "#9c179e"
             ],
             [
              0.4444444444444444,
              "#bd3786"
             ],
             [
              0.5555555555555556,
              "#d8576b"
             ],
             [
              0.6666666666666666,
              "#ed7953"
             ],
             [
              0.7777777777777778,
              "#fb9f3a"
             ],
             [
              0.8888888888888888,
              "#fdca26"
             ],
             [
              1,
              "#f0f921"
             ]
            ],
            "type": "histogram2d"
           }
          ],
          "histogram2dcontour": [
           {
            "colorbar": {
             "outlinewidth": 0,
             "ticks": ""
            },
            "colorscale": [
             [
              0,
              "#0d0887"
             ],
             [
              0.1111111111111111,
              "#46039f"
             ],
             [
              0.2222222222222222,
              "#7201a8"
             ],
             [
              0.3333333333333333,
              "#9c179e"
             ],
             [
              0.4444444444444444,
              "#bd3786"
             ],
             [
              0.5555555555555556,
              "#d8576b"
             ],
             [
              0.6666666666666666,
              "#ed7953"
             ],
             [
              0.7777777777777778,
              "#fb9f3a"
             ],
             [
              0.8888888888888888,
              "#fdca26"
             ],
             [
              1,
              "#f0f921"
             ]
            ],
            "type": "histogram2dcontour"
           }
          ],
          "mesh3d": [
           {
            "colorbar": {
             "outlinewidth": 0,
             "ticks": ""
            },
            "type": "mesh3d"
           }
          ],
          "parcoords": [
           {
            "line": {
             "colorbar": {
              "outlinewidth": 0,
              "ticks": ""
             }
            },
            "type": "parcoords"
           }
          ],
          "pie": [
           {
            "automargin": true,
            "type": "pie"
           }
          ],
          "scatter": [
           {
            "fillpattern": {
             "fillmode": "overlay",
             "size": 10,
             "solidity": 0.2
            },
            "type": "scatter"
           }
          ],
          "scatter3d": [
           {
            "line": {
             "colorbar": {
              "outlinewidth": 0,
              "ticks": ""
             }
            },
            "marker": {
             "colorbar": {
              "outlinewidth": 0,
              "ticks": ""
             }
            },
            "type": "scatter3d"
           }
          ],
          "scattercarpet": [
           {
            "marker": {
             "colorbar": {
              "outlinewidth": 0,
              "ticks": ""
             }
            },
            "type": "scattercarpet"
           }
          ],
          "scattergeo": [
           {
            "marker": {
             "colorbar": {
              "outlinewidth": 0,
              "ticks": ""
             }
            },
            "type": "scattergeo"
           }
          ],
          "scattergl": [
           {
            "marker": {
             "colorbar": {
              "outlinewidth": 0,
              "ticks": ""
             }
            },
            "type": "scattergl"
           }
          ],
          "scattermapbox": [
           {
            "marker": {
             "colorbar": {
              "outlinewidth": 0,
              "ticks": ""
             }
            },
            "type": "scattermapbox"
           }
          ],
          "scatterpolar": [
           {
            "marker": {
             "colorbar": {
              "outlinewidth": 0,
              "ticks": ""
             }
            },
            "type": "scatterpolar"
           }
          ],
          "scatterpolargl": [
           {
            "marker": {
             "colorbar": {
              "outlinewidth": 0,
              "ticks": ""
             }
            },
            "type": "scatterpolargl"
           }
          ],
          "scatterternary": [
           {
            "marker": {
             "colorbar": {
              "outlinewidth": 0,
              "ticks": ""
             }
            },
            "type": "scatterternary"
           }
          ],
          "surface": [
           {
            "colorbar": {
             "outlinewidth": 0,
             "ticks": ""
            },
            "colorscale": [
             [
              0,
              "#0d0887"
             ],
             [
              0.1111111111111111,
              "#46039f"
             ],
             [
              0.2222222222222222,
              "#7201a8"
             ],
             [
              0.3333333333333333,
              "#9c179e"
             ],
             [
              0.4444444444444444,
              "#bd3786"
             ],
             [
              0.5555555555555556,
              "#d8576b"
             ],
             [
              0.6666666666666666,
              "#ed7953"
             ],
             [
              0.7777777777777778,
              "#fb9f3a"
             ],
             [
              0.8888888888888888,
              "#fdca26"
             ],
             [
              1,
              "#f0f921"
             ]
            ],
            "type": "surface"
           }
          ],
          "table": [
           {
            "cells": {
             "fill": {
              "color": "#EBF0F8"
             },
             "line": {
              "color": "white"
             }
            },
            "header": {
             "fill": {
              "color": "#C8D4E3"
             },
             "line": {
              "color": "white"
             }
            },
            "type": "table"
           }
          ]
         },
         "layout": {
          "annotationdefaults": {
           "arrowcolor": "#2a3f5f",
           "arrowhead": 0,
           "arrowwidth": 1
          },
          "autotypenumbers": "strict",
          "coloraxis": {
           "colorbar": {
            "outlinewidth": 0,
            "ticks": ""
           }
          },
          "colorscale": {
           "diverging": [
            [
             0,
             "#8e0152"
            ],
            [
             0.1,
             "#c51b7d"
            ],
            [
             0.2,
             "#de77ae"
            ],
            [
             0.3,
             "#f1b6da"
            ],
            [
             0.4,
             "#fde0ef"
            ],
            [
             0.5,
             "#f7f7f7"
            ],
            [
             0.6,
             "#e6f5d0"
            ],
            [
             0.7,
             "#b8e186"
            ],
            [
             0.8,
             "#7fbc41"
            ],
            [
             0.9,
             "#4d9221"
            ],
            [
             1,
             "#276419"
            ]
           ],
           "sequential": [
            [
             0,
             "#0d0887"
            ],
            [
             0.1111111111111111,
             "#46039f"
            ],
            [
             0.2222222222222222,
             "#7201a8"
            ],
            [
             0.3333333333333333,
             "#9c179e"
            ],
            [
             0.4444444444444444,
             "#bd3786"
            ],
            [
             0.5555555555555556,
             "#d8576b"
            ],
            [
             0.6666666666666666,
             "#ed7953"
            ],
            [
             0.7777777777777778,
             "#fb9f3a"
            ],
            [
             0.8888888888888888,
             "#fdca26"
            ],
            [
             1,
             "#f0f921"
            ]
           ],
           "sequentialminus": [
            [
             0,
             "#0d0887"
            ],
            [
             0.1111111111111111,
             "#46039f"
            ],
            [
             0.2222222222222222,
             "#7201a8"
            ],
            [
             0.3333333333333333,
             "#9c179e"
            ],
            [
             0.4444444444444444,
             "#bd3786"
            ],
            [
             0.5555555555555556,
             "#d8576b"
            ],
            [
             0.6666666666666666,
             "#ed7953"
            ],
            [
             0.7777777777777778,
             "#fb9f3a"
            ],
            [
             0.8888888888888888,
             "#fdca26"
            ],
            [
             1,
             "#f0f921"
            ]
           ]
          },
          "colorway": [
           "#636efa",
           "#EF553B",
           "#00cc96",
           "#ab63fa",
           "#FFA15A",
           "#19d3f3",
           "#FF6692",
           "#B6E880",
           "#FF97FF",
           "#FECB52"
          ],
          "font": {
           "color": "#2a3f5f"
          },
          "geo": {
           "bgcolor": "white",
           "lakecolor": "white",
           "landcolor": "#E5ECF6",
           "showlakes": true,
           "showland": true,
           "subunitcolor": "white"
          },
          "hoverlabel": {
           "align": "left"
          },
          "hovermode": "closest",
          "mapbox": {
           "style": "light"
          },
          "paper_bgcolor": "white",
          "plot_bgcolor": "#E5ECF6",
          "polar": {
           "angularaxis": {
            "gridcolor": "white",
            "linecolor": "white",
            "ticks": ""
           },
           "bgcolor": "#E5ECF6",
           "radialaxis": {
            "gridcolor": "white",
            "linecolor": "white",
            "ticks": ""
           }
          },
          "scene": {
           "xaxis": {
            "backgroundcolor": "#E5ECF6",
            "gridcolor": "white",
            "gridwidth": 2,
            "linecolor": "white",
            "showbackground": true,
            "ticks": "",
            "zerolinecolor": "white"
           },
           "yaxis": {
            "backgroundcolor": "#E5ECF6",
            "gridcolor": "white",
            "gridwidth": 2,
            "linecolor": "white",
            "showbackground": true,
            "ticks": "",
            "zerolinecolor": "white"
           },
           "zaxis": {
            "backgroundcolor": "#E5ECF6",
            "gridcolor": "white",
            "gridwidth": 2,
            "linecolor": "white",
            "showbackground": true,
            "ticks": "",
            "zerolinecolor": "white"
           }
          },
          "shapedefaults": {
           "line": {
            "color": "#2a3f5f"
           }
          },
          "ternary": {
           "aaxis": {
            "gridcolor": "white",
            "linecolor": "white",
            "ticks": ""
           },
           "baxis": {
            "gridcolor": "white",
            "linecolor": "white",
            "ticks": ""
           },
           "bgcolor": "#E5ECF6",
           "caxis": {
            "gridcolor": "white",
            "linecolor": "white",
            "ticks": ""
           }
          },
          "title": {
           "x": 0.05
          },
          "xaxis": {
           "automargin": true,
           "gridcolor": "white",
           "linecolor": "white",
           "ticks": "",
           "title": {
            "standoff": 15
           },
           "zerolinecolor": "white",
           "zerolinewidth": 2
          },
          "yaxis": {
           "automargin": true,
           "gridcolor": "white",
           "linecolor": "white",
           "ticks": "",
           "title": {
            "standoff": 15
           },
           "zerolinecolor": "white",
           "zerolinewidth": 2
          }
         }
        },
        "xaxis": {
         "anchor": "y",
         "constrain": "domain",
         "domain": [
          0,
          1
         ],
         "scaleanchor": "y",
         "side": "top",
         "title": {
          "text": "Day of Week"
         }
        },
        "yaxis": {
         "anchor": "x",
         "autorange": "reversed",
         "constrain": "domain",
         "domain": [
          0,
          1
         ],
         "title": {
          "text": "Time of Day"
         }
        }
       }
      }
     },
     "metadata": {},
     "output_type": "display_data"
    }
   ],
   "source": [
    "data = [[1, 25, 30, 50, 1], [20, 1, 60, 80, 30], [30, 60, 1, 5, 20]]\n",
    "\n",
    "fig = px.imshow(\n",
    "    data,\n",
    "    labels=dict(x=\"Day of Week\", y=\"Time of Day\", color=\"Productivity\"),\n",
    "    x=[\"Monday\", \"Tuesday\", \"Wednesday\", \"Thursday\", \"Friday\"],\n",
    "    y=[\"Morning\", \"Afternoon\", \"Evening\"],\n",
    "    text_auto=True,\n",
    ")\n",
    "fig.update_xaxes(side=\"top\")\n",
    "fig.show()"
   ]
  },
  {
   "cell_type": "markdown",
   "metadata": {},
   "source": [
    "# go.Heatmap"
   ]
  },
  {
   "cell_type": "markdown",
   "metadata": {},
   "source": [
    "## Basic"
   ]
  },
  {
   "cell_type": "code",
   "execution_count": 24,
   "metadata": {},
   "outputs": [
    {
     "data": {
      "application/vnd.plotly.v1+json": {
       "config": {
        "plotlyServerURL": "https://plot.ly"
       },
       "data": [
        {
         "type": "heatmap",
         "z": [
          [
           1,
           20,
           30
          ],
          [
           20,
           1,
           60
          ],
          [
           30,
           60,
           1
          ]
         ]
        }
       ],
       "layout": {
        "template": {
         "data": {
          "bar": [
           {
            "error_x": {
             "color": "#2a3f5f"
            },
            "error_y": {
             "color": "#2a3f5f"
            },
            "marker": {
             "line": {
              "color": "#E5ECF6",
              "width": 0.5
             },
             "pattern": {
              "fillmode": "overlay",
              "size": 10,
              "solidity": 0.2
             }
            },
            "type": "bar"
           }
          ],
          "barpolar": [
           {
            "marker": {
             "line": {
              "color": "#E5ECF6",
              "width": 0.5
             },
             "pattern": {
              "fillmode": "overlay",
              "size": 10,
              "solidity": 0.2
             }
            },
            "type": "barpolar"
           }
          ],
          "carpet": [
           {
            "aaxis": {
             "endlinecolor": "#2a3f5f",
             "gridcolor": "white",
             "linecolor": "white",
             "minorgridcolor": "white",
             "startlinecolor": "#2a3f5f"
            },
            "baxis": {
             "endlinecolor": "#2a3f5f",
             "gridcolor": "white",
             "linecolor": "white",
             "minorgridcolor": "white",
             "startlinecolor": "#2a3f5f"
            },
            "type": "carpet"
           }
          ],
          "choropleth": [
           {
            "colorbar": {
             "outlinewidth": 0,
             "ticks": ""
            },
            "type": "choropleth"
           }
          ],
          "contour": [
           {
            "colorbar": {
             "outlinewidth": 0,
             "ticks": ""
            },
            "colorscale": [
             [
              0,
              "#0d0887"
             ],
             [
              0.1111111111111111,
              "#46039f"
             ],
             [
              0.2222222222222222,
              "#7201a8"
             ],
             [
              0.3333333333333333,
              "#9c179e"
             ],
             [
              0.4444444444444444,
              "#bd3786"
             ],
             [
              0.5555555555555556,
              "#d8576b"
             ],
             [
              0.6666666666666666,
              "#ed7953"
             ],
             [
              0.7777777777777778,
              "#fb9f3a"
             ],
             [
              0.8888888888888888,
              "#fdca26"
             ],
             [
              1,
              "#f0f921"
             ]
            ],
            "type": "contour"
           }
          ],
          "contourcarpet": [
           {
            "colorbar": {
             "outlinewidth": 0,
             "ticks": ""
            },
            "type": "contourcarpet"
           }
          ],
          "heatmap": [
           {
            "colorbar": {
             "outlinewidth": 0,
             "ticks": ""
            },
            "colorscale": [
             [
              0,
              "#0d0887"
             ],
             [
              0.1111111111111111,
              "#46039f"
             ],
             [
              0.2222222222222222,
              "#7201a8"
             ],
             [
              0.3333333333333333,
              "#9c179e"
             ],
             [
              0.4444444444444444,
              "#bd3786"
             ],
             [
              0.5555555555555556,
              "#d8576b"
             ],
             [
              0.6666666666666666,
              "#ed7953"
             ],
             [
              0.7777777777777778,
              "#fb9f3a"
             ],
             [
              0.8888888888888888,
              "#fdca26"
             ],
             [
              1,
              "#f0f921"
             ]
            ],
            "type": "heatmap"
           }
          ],
          "heatmapgl": [
           {
            "colorbar": {
             "outlinewidth": 0,
             "ticks": ""
            },
            "colorscale": [
             [
              0,
              "#0d0887"
             ],
             [
              0.1111111111111111,
              "#46039f"
             ],
             [
              0.2222222222222222,
              "#7201a8"
             ],
             [
              0.3333333333333333,
              "#9c179e"
             ],
             [
              0.4444444444444444,
              "#bd3786"
             ],
             [
              0.5555555555555556,
              "#d8576b"
             ],
             [
              0.6666666666666666,
              "#ed7953"
             ],
             [
              0.7777777777777778,
              "#fb9f3a"
             ],
             [
              0.8888888888888888,
              "#fdca26"
             ],
             [
              1,
              "#f0f921"
             ]
            ],
            "type": "heatmapgl"
           }
          ],
          "histogram": [
           {
            "marker": {
             "pattern": {
              "fillmode": "overlay",
              "size": 10,
              "solidity": 0.2
             }
            },
            "type": "histogram"
           }
          ],
          "histogram2d": [
           {
            "colorbar": {
             "outlinewidth": 0,
             "ticks": ""
            },
            "colorscale": [
             [
              0,
              "#0d0887"
             ],
             [
              0.1111111111111111,
              "#46039f"
             ],
             [
              0.2222222222222222,
              "#7201a8"
             ],
             [
              0.3333333333333333,
              "#9c179e"
             ],
             [
              0.4444444444444444,
              "#bd3786"
             ],
             [
              0.5555555555555556,
              "#d8576b"
             ],
             [
              0.6666666666666666,
              "#ed7953"
             ],
             [
              0.7777777777777778,
              "#fb9f3a"
             ],
             [
              0.8888888888888888,
              "#fdca26"
             ],
             [
              1,
              "#f0f921"
             ]
            ],
            "type": "histogram2d"
           }
          ],
          "histogram2dcontour": [
           {
            "colorbar": {
             "outlinewidth": 0,
             "ticks": ""
            },
            "colorscale": [
             [
              0,
              "#0d0887"
             ],
             [
              0.1111111111111111,
              "#46039f"
             ],
             [
              0.2222222222222222,
              "#7201a8"
             ],
             [
              0.3333333333333333,
              "#9c179e"
             ],
             [
              0.4444444444444444,
              "#bd3786"
             ],
             [
              0.5555555555555556,
              "#d8576b"
             ],
             [
              0.6666666666666666,
              "#ed7953"
             ],
             [
              0.7777777777777778,
              "#fb9f3a"
             ],
             [
              0.8888888888888888,
              "#fdca26"
             ],
             [
              1,
              "#f0f921"
             ]
            ],
            "type": "histogram2dcontour"
           }
          ],
          "mesh3d": [
           {
            "colorbar": {
             "outlinewidth": 0,
             "ticks": ""
            },
            "type": "mesh3d"
           }
          ],
          "parcoords": [
           {
            "line": {
             "colorbar": {
              "outlinewidth": 0,
              "ticks": ""
             }
            },
            "type": "parcoords"
           }
          ],
          "pie": [
           {
            "automargin": true,
            "type": "pie"
           }
          ],
          "scatter": [
           {
            "fillpattern": {
             "fillmode": "overlay",
             "size": 10,
             "solidity": 0.2
            },
            "type": "scatter"
           }
          ],
          "scatter3d": [
           {
            "line": {
             "colorbar": {
              "outlinewidth": 0,
              "ticks": ""
             }
            },
            "marker": {
             "colorbar": {
              "outlinewidth": 0,
              "ticks": ""
             }
            },
            "type": "scatter3d"
           }
          ],
          "scattercarpet": [
           {
            "marker": {
             "colorbar": {
              "outlinewidth": 0,
              "ticks": ""
             }
            },
            "type": "scattercarpet"
           }
          ],
          "scattergeo": [
           {
            "marker": {
             "colorbar": {
              "outlinewidth": 0,
              "ticks": ""
             }
            },
            "type": "scattergeo"
           }
          ],
          "scattergl": [
           {
            "marker": {
             "colorbar": {
              "outlinewidth": 0,
              "ticks": ""
             }
            },
            "type": "scattergl"
           }
          ],
          "scattermapbox": [
           {
            "marker": {
             "colorbar": {
              "outlinewidth": 0,
              "ticks": ""
             }
            },
            "type": "scattermapbox"
           }
          ],
          "scatterpolar": [
           {
            "marker": {
             "colorbar": {
              "outlinewidth": 0,
              "ticks": ""
             }
            },
            "type": "scatterpolar"
           }
          ],
          "scatterpolargl": [
           {
            "marker": {
             "colorbar": {
              "outlinewidth": 0,
              "ticks": ""
             }
            },
            "type": "scatterpolargl"
           }
          ],
          "scatterternary": [
           {
            "marker": {
             "colorbar": {
              "outlinewidth": 0,
              "ticks": ""
             }
            },
            "type": "scatterternary"
           }
          ],
          "surface": [
           {
            "colorbar": {
             "outlinewidth": 0,
             "ticks": ""
            },
            "colorscale": [
             [
              0,
              "#0d0887"
             ],
             [
              0.1111111111111111,
              "#46039f"
             ],
             [
              0.2222222222222222,
              "#7201a8"
             ],
             [
              0.3333333333333333,
              "#9c179e"
             ],
             [
              0.4444444444444444,
              "#bd3786"
             ],
             [
              0.5555555555555556,
              "#d8576b"
             ],
             [
              0.6666666666666666,
              "#ed7953"
             ],
             [
              0.7777777777777778,
              "#fb9f3a"
             ],
             [
              0.8888888888888888,
              "#fdca26"
             ],
             [
              1,
              "#f0f921"
             ]
            ],
            "type": "surface"
           }
          ],
          "table": [
           {
            "cells": {
             "fill": {
              "color": "#EBF0F8"
             },
             "line": {
              "color": "white"
             }
            },
            "header": {
             "fill": {
              "color": "#C8D4E3"
             },
             "line": {
              "color": "white"
             }
            },
            "type": "table"
           }
          ]
         },
         "layout": {
          "annotationdefaults": {
           "arrowcolor": "#2a3f5f",
           "arrowhead": 0,
           "arrowwidth": 1
          },
          "autotypenumbers": "strict",
          "coloraxis": {
           "colorbar": {
            "outlinewidth": 0,
            "ticks": ""
           }
          },
          "colorscale": {
           "diverging": [
            [
             0,
             "#8e0152"
            ],
            [
             0.1,
             "#c51b7d"
            ],
            [
             0.2,
             "#de77ae"
            ],
            [
             0.3,
             "#f1b6da"
            ],
            [
             0.4,
             "#fde0ef"
            ],
            [
             0.5,
             "#f7f7f7"
            ],
            [
             0.6,
             "#e6f5d0"
            ],
            [
             0.7,
             "#b8e186"
            ],
            [
             0.8,
             "#7fbc41"
            ],
            [
             0.9,
             "#4d9221"
            ],
            [
             1,
             "#276419"
            ]
           ],
           "sequential": [
            [
             0,
             "#0d0887"
            ],
            [
             0.1111111111111111,
             "#46039f"
            ],
            [
             0.2222222222222222,
             "#7201a8"
            ],
            [
             0.3333333333333333,
             "#9c179e"
            ],
            [
             0.4444444444444444,
             "#bd3786"
            ],
            [
             0.5555555555555556,
             "#d8576b"
            ],
            [
             0.6666666666666666,
             "#ed7953"
            ],
            [
             0.7777777777777778,
             "#fb9f3a"
            ],
            [
             0.8888888888888888,
             "#fdca26"
            ],
            [
             1,
             "#f0f921"
            ]
           ],
           "sequentialminus": [
            [
             0,
             "#0d0887"
            ],
            [
             0.1111111111111111,
             "#46039f"
            ],
            [
             0.2222222222222222,
             "#7201a8"
            ],
            [
             0.3333333333333333,
             "#9c179e"
            ],
            [
             0.4444444444444444,
             "#bd3786"
            ],
            [
             0.5555555555555556,
             "#d8576b"
            ],
            [
             0.6666666666666666,
             "#ed7953"
            ],
            [
             0.7777777777777778,
             "#fb9f3a"
            ],
            [
             0.8888888888888888,
             "#fdca26"
            ],
            [
             1,
             "#f0f921"
            ]
           ]
          },
          "colorway": [
           "#636efa",
           "#EF553B",
           "#00cc96",
           "#ab63fa",
           "#FFA15A",
           "#19d3f3",
           "#FF6692",
           "#B6E880",
           "#FF97FF",
           "#FECB52"
          ],
          "font": {
           "color": "#2a3f5f"
          },
          "geo": {
           "bgcolor": "white",
           "lakecolor": "white",
           "landcolor": "#E5ECF6",
           "showlakes": true,
           "showland": true,
           "subunitcolor": "white"
          },
          "hoverlabel": {
           "align": "left"
          },
          "hovermode": "closest",
          "mapbox": {
           "style": "light"
          },
          "paper_bgcolor": "white",
          "plot_bgcolor": "#E5ECF6",
          "polar": {
           "angularaxis": {
            "gridcolor": "white",
            "linecolor": "white",
            "ticks": ""
           },
           "bgcolor": "#E5ECF6",
           "radialaxis": {
            "gridcolor": "white",
            "linecolor": "white",
            "ticks": ""
           }
          },
          "scene": {
           "xaxis": {
            "backgroundcolor": "#E5ECF6",
            "gridcolor": "white",
            "gridwidth": 2,
            "linecolor": "white",
            "showbackground": true,
            "ticks": "",
            "zerolinecolor": "white"
           },
           "yaxis": {
            "backgroundcolor": "#E5ECF6",
            "gridcolor": "white",
            "gridwidth": 2,
            "linecolor": "white",
            "showbackground": true,
            "ticks": "",
            "zerolinecolor": "white"
           },
           "zaxis": {
            "backgroundcolor": "#E5ECF6",
            "gridcolor": "white",
            "gridwidth": 2,
            "linecolor": "white",
            "showbackground": true,
            "ticks": "",
            "zerolinecolor": "white"
           }
          },
          "shapedefaults": {
           "line": {
            "color": "#2a3f5f"
           }
          },
          "ternary": {
           "aaxis": {
            "gridcolor": "white",
            "linecolor": "white",
            "ticks": ""
           },
           "baxis": {
            "gridcolor": "white",
            "linecolor": "white",
            "ticks": ""
           },
           "bgcolor": "#E5ECF6",
           "caxis": {
            "gridcolor": "white",
            "linecolor": "white",
            "ticks": ""
           }
          },
          "title": {
           "x": 0.05
          },
          "xaxis": {
           "automargin": true,
           "gridcolor": "white",
           "linecolor": "white",
           "ticks": "",
           "title": {
            "standoff": 15
           },
           "zerolinecolor": "white",
           "zerolinewidth": 2
          },
          "yaxis": {
           "automargin": true,
           "gridcolor": "white",
           "linecolor": "white",
           "ticks": "",
           "title": {
            "standoff": 15
           },
           "zerolinecolor": "white",
           "zerolinewidth": 2
          }
         }
        }
       }
      }
     },
     "metadata": {},
     "output_type": "display_data"
    }
   ],
   "source": [
    "fig = go.Figure(\n",
    "    data=go.Heatmap(\n",
    "        z=[[1, 20, 30], [20, 1, 60], [30, 60, 1]],\n",
    "    )\n",
    ")\n",
    "fig.show()"
   ]
  },
  {
   "cell_type": "markdown",
   "metadata": {},
   "source": [
    "## Text"
   ]
  },
  {
   "cell_type": "code",
   "execution_count": 25,
   "metadata": {},
   "outputs": [
    {
     "data": {
      "application/vnd.plotly.v1+json": {
       "config": {
        "plotlyServerURL": "https://plot.ly"
       },
       "data": [
        {
         "texttemplate": "%{z}",
         "type": "heatmap",
         "z": [
          [
           1,
           20,
           30
          ],
          [
           20,
           1,
           60
          ],
          [
           30,
           60,
           1
          ]
         ]
        }
       ],
       "layout": {
        "template": {
         "data": {
          "bar": [
           {
            "error_x": {
             "color": "#2a3f5f"
            },
            "error_y": {
             "color": "#2a3f5f"
            },
            "marker": {
             "line": {
              "color": "#E5ECF6",
              "width": 0.5
             },
             "pattern": {
              "fillmode": "overlay",
              "size": 10,
              "solidity": 0.2
             }
            },
            "type": "bar"
           }
          ],
          "barpolar": [
           {
            "marker": {
             "line": {
              "color": "#E5ECF6",
              "width": 0.5
             },
             "pattern": {
              "fillmode": "overlay",
              "size": 10,
              "solidity": 0.2
             }
            },
            "type": "barpolar"
           }
          ],
          "carpet": [
           {
            "aaxis": {
             "endlinecolor": "#2a3f5f",
             "gridcolor": "white",
             "linecolor": "white",
             "minorgridcolor": "white",
             "startlinecolor": "#2a3f5f"
            },
            "baxis": {
             "endlinecolor": "#2a3f5f",
             "gridcolor": "white",
             "linecolor": "white",
             "minorgridcolor": "white",
             "startlinecolor": "#2a3f5f"
            },
            "type": "carpet"
           }
          ],
          "choropleth": [
           {
            "colorbar": {
             "outlinewidth": 0,
             "ticks": ""
            },
            "type": "choropleth"
           }
          ],
          "contour": [
           {
            "colorbar": {
             "outlinewidth": 0,
             "ticks": ""
            },
            "colorscale": [
             [
              0,
              "#0d0887"
             ],
             [
              0.1111111111111111,
              "#46039f"
             ],
             [
              0.2222222222222222,
              "#7201a8"
             ],
             [
              0.3333333333333333,
              "#9c179e"
             ],
             [
              0.4444444444444444,
              "#bd3786"
             ],
             [
              0.5555555555555556,
              "#d8576b"
             ],
             [
              0.6666666666666666,
              "#ed7953"
             ],
             [
              0.7777777777777778,
              "#fb9f3a"
             ],
             [
              0.8888888888888888,
              "#fdca26"
             ],
             [
              1,
              "#f0f921"
             ]
            ],
            "type": "contour"
           }
          ],
          "contourcarpet": [
           {
            "colorbar": {
             "outlinewidth": 0,
             "ticks": ""
            },
            "type": "contourcarpet"
           }
          ],
          "heatmap": [
           {
            "colorbar": {
             "outlinewidth": 0,
             "ticks": ""
            },
            "colorscale": [
             [
              0,
              "#0d0887"
             ],
             [
              0.1111111111111111,
              "#46039f"
             ],
             [
              0.2222222222222222,
              "#7201a8"
             ],
             [
              0.3333333333333333,
              "#9c179e"
             ],
             [
              0.4444444444444444,
              "#bd3786"
             ],
             [
              0.5555555555555556,
              "#d8576b"
             ],
             [
              0.6666666666666666,
              "#ed7953"
             ],
             [
              0.7777777777777778,
              "#fb9f3a"
             ],
             [
              0.8888888888888888,
              "#fdca26"
             ],
             [
              1,
              "#f0f921"
             ]
            ],
            "type": "heatmap"
           }
          ],
          "heatmapgl": [
           {
            "colorbar": {
             "outlinewidth": 0,
             "ticks": ""
            },
            "colorscale": [
             [
              0,
              "#0d0887"
             ],
             [
              0.1111111111111111,
              "#46039f"
             ],
             [
              0.2222222222222222,
              "#7201a8"
             ],
             [
              0.3333333333333333,
              "#9c179e"
             ],
             [
              0.4444444444444444,
              "#bd3786"
             ],
             [
              0.5555555555555556,
              "#d8576b"
             ],
             [
              0.6666666666666666,
              "#ed7953"
             ],
             [
              0.7777777777777778,
              "#fb9f3a"
             ],
             [
              0.8888888888888888,
              "#fdca26"
             ],
             [
              1,
              "#f0f921"
             ]
            ],
            "type": "heatmapgl"
           }
          ],
          "histogram": [
           {
            "marker": {
             "pattern": {
              "fillmode": "overlay",
              "size": 10,
              "solidity": 0.2
             }
            },
            "type": "histogram"
           }
          ],
          "histogram2d": [
           {
            "colorbar": {
             "outlinewidth": 0,
             "ticks": ""
            },
            "colorscale": [
             [
              0,
              "#0d0887"
             ],
             [
              0.1111111111111111,
              "#46039f"
             ],
             [
              0.2222222222222222,
              "#7201a8"
             ],
             [
              0.3333333333333333,
              "#9c179e"
             ],
             [
              0.4444444444444444,
              "#bd3786"
             ],
             [
              0.5555555555555556,
              "#d8576b"
             ],
             [
              0.6666666666666666,
              "#ed7953"
             ],
             [
              0.7777777777777778,
              "#fb9f3a"
             ],
             [
              0.8888888888888888,
              "#fdca26"
             ],
             [
              1,
              "#f0f921"
             ]
            ],
            "type": "histogram2d"
           }
          ],
          "histogram2dcontour": [
           {
            "colorbar": {
             "outlinewidth": 0,
             "ticks": ""
            },
            "colorscale": [
             [
              0,
              "#0d0887"
             ],
             [
              0.1111111111111111,
              "#46039f"
             ],
             [
              0.2222222222222222,
              "#7201a8"
             ],
             [
              0.3333333333333333,
              "#9c179e"
             ],
             [
              0.4444444444444444,
              "#bd3786"
             ],
             [
              0.5555555555555556,
              "#d8576b"
             ],
             [
              0.6666666666666666,
              "#ed7953"
             ],
             [
              0.7777777777777778,
              "#fb9f3a"
             ],
             [
              0.8888888888888888,
              "#fdca26"
             ],
             [
              1,
              "#f0f921"
             ]
            ],
            "type": "histogram2dcontour"
           }
          ],
          "mesh3d": [
           {
            "colorbar": {
             "outlinewidth": 0,
             "ticks": ""
            },
            "type": "mesh3d"
           }
          ],
          "parcoords": [
           {
            "line": {
             "colorbar": {
              "outlinewidth": 0,
              "ticks": ""
             }
            },
            "type": "parcoords"
           }
          ],
          "pie": [
           {
            "automargin": true,
            "type": "pie"
           }
          ],
          "scatter": [
           {
            "fillpattern": {
             "fillmode": "overlay",
             "size": 10,
             "solidity": 0.2
            },
            "type": "scatter"
           }
          ],
          "scatter3d": [
           {
            "line": {
             "colorbar": {
              "outlinewidth": 0,
              "ticks": ""
             }
            },
            "marker": {
             "colorbar": {
              "outlinewidth": 0,
              "ticks": ""
             }
            },
            "type": "scatter3d"
           }
          ],
          "scattercarpet": [
           {
            "marker": {
             "colorbar": {
              "outlinewidth": 0,
              "ticks": ""
             }
            },
            "type": "scattercarpet"
           }
          ],
          "scattergeo": [
           {
            "marker": {
             "colorbar": {
              "outlinewidth": 0,
              "ticks": ""
             }
            },
            "type": "scattergeo"
           }
          ],
          "scattergl": [
           {
            "marker": {
             "colorbar": {
              "outlinewidth": 0,
              "ticks": ""
             }
            },
            "type": "scattergl"
           }
          ],
          "scattermapbox": [
           {
            "marker": {
             "colorbar": {
              "outlinewidth": 0,
              "ticks": ""
             }
            },
            "type": "scattermapbox"
           }
          ],
          "scatterpolar": [
           {
            "marker": {
             "colorbar": {
              "outlinewidth": 0,
              "ticks": ""
             }
            },
            "type": "scatterpolar"
           }
          ],
          "scatterpolargl": [
           {
            "marker": {
             "colorbar": {
              "outlinewidth": 0,
              "ticks": ""
             }
            },
            "type": "scatterpolargl"
           }
          ],
          "scatterternary": [
           {
            "marker": {
             "colorbar": {
              "outlinewidth": 0,
              "ticks": ""
             }
            },
            "type": "scatterternary"
           }
          ],
          "surface": [
           {
            "colorbar": {
             "outlinewidth": 0,
             "ticks": ""
            },
            "colorscale": [
             [
              0,
              "#0d0887"
             ],
             [
              0.1111111111111111,
              "#46039f"
             ],
             [
              0.2222222222222222,
              "#7201a8"
             ],
             [
              0.3333333333333333,
              "#9c179e"
             ],
             [
              0.4444444444444444,
              "#bd3786"
             ],
             [
              0.5555555555555556,
              "#d8576b"
             ],
             [
              0.6666666666666666,
              "#ed7953"
             ],
             [
              0.7777777777777778,
              "#fb9f3a"
             ],
             [
              0.8888888888888888,
              "#fdca26"
             ],
             [
              1,
              "#f0f921"
             ]
            ],
            "type": "surface"
           }
          ],
          "table": [
           {
            "cells": {
             "fill": {
              "color": "#EBF0F8"
             },
             "line": {
              "color": "white"
             }
            },
            "header": {
             "fill": {
              "color": "#C8D4E3"
             },
             "line": {
              "color": "white"
             }
            },
            "type": "table"
           }
          ]
         },
         "layout": {
          "annotationdefaults": {
           "arrowcolor": "#2a3f5f",
           "arrowhead": 0,
           "arrowwidth": 1
          },
          "autotypenumbers": "strict",
          "coloraxis": {
           "colorbar": {
            "outlinewidth": 0,
            "ticks": ""
           }
          },
          "colorscale": {
           "diverging": [
            [
             0,
             "#8e0152"
            ],
            [
             0.1,
             "#c51b7d"
            ],
            [
             0.2,
             "#de77ae"
            ],
            [
             0.3,
             "#f1b6da"
            ],
            [
             0.4,
             "#fde0ef"
            ],
            [
             0.5,
             "#f7f7f7"
            ],
            [
             0.6,
             "#e6f5d0"
            ],
            [
             0.7,
             "#b8e186"
            ],
            [
             0.8,
             "#7fbc41"
            ],
            [
             0.9,
             "#4d9221"
            ],
            [
             1,
             "#276419"
            ]
           ],
           "sequential": [
            [
             0,
             "#0d0887"
            ],
            [
             0.1111111111111111,
             "#46039f"
            ],
            [
             0.2222222222222222,
             "#7201a8"
            ],
            [
             0.3333333333333333,
             "#9c179e"
            ],
            [
             0.4444444444444444,
             "#bd3786"
            ],
            [
             0.5555555555555556,
             "#d8576b"
            ],
            [
             0.6666666666666666,
             "#ed7953"
            ],
            [
             0.7777777777777778,
             "#fb9f3a"
            ],
            [
             0.8888888888888888,
             "#fdca26"
            ],
            [
             1,
             "#f0f921"
            ]
           ],
           "sequentialminus": [
            [
             0,
             "#0d0887"
            ],
            [
             0.1111111111111111,
             "#46039f"
            ],
            [
             0.2222222222222222,
             "#7201a8"
            ],
            [
             0.3333333333333333,
             "#9c179e"
            ],
            [
             0.4444444444444444,
             "#bd3786"
            ],
            [
             0.5555555555555556,
             "#d8576b"
            ],
            [
             0.6666666666666666,
             "#ed7953"
            ],
            [
             0.7777777777777778,
             "#fb9f3a"
            ],
            [
             0.8888888888888888,
             "#fdca26"
            ],
            [
             1,
             "#f0f921"
            ]
           ]
          },
          "colorway": [
           "#636efa",
           "#EF553B",
           "#00cc96",
           "#ab63fa",
           "#FFA15A",
           "#19d3f3",
           "#FF6692",
           "#B6E880",
           "#FF97FF",
           "#FECB52"
          ],
          "font": {
           "color": "#2a3f5f"
          },
          "geo": {
           "bgcolor": "white",
           "lakecolor": "white",
           "landcolor": "#E5ECF6",
           "showlakes": true,
           "showland": true,
           "subunitcolor": "white"
          },
          "hoverlabel": {
           "align": "left"
          },
          "hovermode": "closest",
          "mapbox": {
           "style": "light"
          },
          "paper_bgcolor": "white",
          "plot_bgcolor": "#E5ECF6",
          "polar": {
           "angularaxis": {
            "gridcolor": "white",
            "linecolor": "white",
            "ticks": ""
           },
           "bgcolor": "#E5ECF6",
           "radialaxis": {
            "gridcolor": "white",
            "linecolor": "white",
            "ticks": ""
           }
          },
          "scene": {
           "xaxis": {
            "backgroundcolor": "#E5ECF6",
            "gridcolor": "white",
            "gridwidth": 2,
            "linecolor": "white",
            "showbackground": true,
            "ticks": "",
            "zerolinecolor": "white"
           },
           "yaxis": {
            "backgroundcolor": "#E5ECF6",
            "gridcolor": "white",
            "gridwidth": 2,
            "linecolor": "white",
            "showbackground": true,
            "ticks": "",
            "zerolinecolor": "white"
           },
           "zaxis": {
            "backgroundcolor": "#E5ECF6",
            "gridcolor": "white",
            "gridwidth": 2,
            "linecolor": "white",
            "showbackground": true,
            "ticks": "",
            "zerolinecolor": "white"
           }
          },
          "shapedefaults": {
           "line": {
            "color": "#2a3f5f"
           }
          },
          "ternary": {
           "aaxis": {
            "gridcolor": "white",
            "linecolor": "white",
            "ticks": ""
           },
           "baxis": {
            "gridcolor": "white",
            "linecolor": "white",
            "ticks": ""
           },
           "bgcolor": "#E5ECF6",
           "caxis": {
            "gridcolor": "white",
            "linecolor": "white",
            "ticks": ""
           }
          },
          "title": {
           "x": 0.05
          },
          "xaxis": {
           "automargin": true,
           "gridcolor": "white",
           "linecolor": "white",
           "ticks": "",
           "title": {
            "standoff": 15
           },
           "zerolinecolor": "white",
           "zerolinewidth": 2
          },
          "yaxis": {
           "automargin": true,
           "gridcolor": "white",
           "linecolor": "white",
           "ticks": "",
           "title": {
            "standoff": 15
           },
           "zerolinecolor": "white",
           "zerolinewidth": 2
          }
         }
        }
       }
      }
     },
     "metadata": {},
     "output_type": "display_data"
    }
   ],
   "source": [
    "fig = go.Figure(\n",
    "    data=go.Heatmap(z=[[1, 20, 30], [20, 1, 60], [30, 60, 1]], texttemplate=\"%{z}\")\n",
    ")\n",
    "fig.show()"
   ]
  },
  {
   "cell_type": "code",
   "execution_count": 31,
   "metadata": {},
   "outputs": [
    {
     "data": {
      "application/vnd.plotly.v1+json": {
       "config": {
        "plotlyServerURL": "https://plot.ly"
       },
       "data": [
        {
         "text": [
          [
           "one",
           "twenty",
           "thirty"
          ],
          [
           "twenty",
           "one",
           "sixty"
          ],
          [
           "thirty",
           "sixty",
           "one"
          ]
         ],
         "textfont": {
          "size": 20
         },
         "texttemplate": "%{text}",
         "type": "heatmap",
         "z": [
          [
           1,
           20,
           30
          ],
          [
           20,
           1,
           60
          ],
          [
           30,
           60,
           1
          ]
         ]
        }
       ],
       "layout": {
        "template": {
         "data": {
          "bar": [
           {
            "error_x": {
             "color": "#2a3f5f"
            },
            "error_y": {
             "color": "#2a3f5f"
            },
            "marker": {
             "line": {
              "color": "#E5ECF6",
              "width": 0.5
             },
             "pattern": {
              "fillmode": "overlay",
              "size": 10,
              "solidity": 0.2
             }
            },
            "type": "bar"
           }
          ],
          "barpolar": [
           {
            "marker": {
             "line": {
              "color": "#E5ECF6",
              "width": 0.5
             },
             "pattern": {
              "fillmode": "overlay",
              "size": 10,
              "solidity": 0.2
             }
            },
            "type": "barpolar"
           }
          ],
          "carpet": [
           {
            "aaxis": {
             "endlinecolor": "#2a3f5f",
             "gridcolor": "white",
             "linecolor": "white",
             "minorgridcolor": "white",
             "startlinecolor": "#2a3f5f"
            },
            "baxis": {
             "endlinecolor": "#2a3f5f",
             "gridcolor": "white",
             "linecolor": "white",
             "minorgridcolor": "white",
             "startlinecolor": "#2a3f5f"
            },
            "type": "carpet"
           }
          ],
          "choropleth": [
           {
            "colorbar": {
             "outlinewidth": 0,
             "ticks": ""
            },
            "type": "choropleth"
           }
          ],
          "contour": [
           {
            "colorbar": {
             "outlinewidth": 0,
             "ticks": ""
            },
            "colorscale": [
             [
              0,
              "#0d0887"
             ],
             [
              0.1111111111111111,
              "#46039f"
             ],
             [
              0.2222222222222222,
              "#7201a8"
             ],
             [
              0.3333333333333333,
              "#9c179e"
             ],
             [
              0.4444444444444444,
              "#bd3786"
             ],
             [
              0.5555555555555556,
              "#d8576b"
             ],
             [
              0.6666666666666666,
              "#ed7953"
             ],
             [
              0.7777777777777778,
              "#fb9f3a"
             ],
             [
              0.8888888888888888,
              "#fdca26"
             ],
             [
              1,
              "#f0f921"
             ]
            ],
            "type": "contour"
           }
          ],
          "contourcarpet": [
           {
            "colorbar": {
             "outlinewidth": 0,
             "ticks": ""
            },
            "type": "contourcarpet"
           }
          ],
          "heatmap": [
           {
            "colorbar": {
             "outlinewidth": 0,
             "ticks": ""
            },
            "colorscale": [
             [
              0,
              "#0d0887"
             ],
             [
              0.1111111111111111,
              "#46039f"
             ],
             [
              0.2222222222222222,
              "#7201a8"
             ],
             [
              0.3333333333333333,
              "#9c179e"
             ],
             [
              0.4444444444444444,
              "#bd3786"
             ],
             [
              0.5555555555555556,
              "#d8576b"
             ],
             [
              0.6666666666666666,
              "#ed7953"
             ],
             [
              0.7777777777777778,
              "#fb9f3a"
             ],
             [
              0.8888888888888888,
              "#fdca26"
             ],
             [
              1,
              "#f0f921"
             ]
            ],
            "type": "heatmap"
           }
          ],
          "heatmapgl": [
           {
            "colorbar": {
             "outlinewidth": 0,
             "ticks": ""
            },
            "colorscale": [
             [
              0,
              "#0d0887"
             ],
             [
              0.1111111111111111,
              "#46039f"
             ],
             [
              0.2222222222222222,
              "#7201a8"
             ],
             [
              0.3333333333333333,
              "#9c179e"
             ],
             [
              0.4444444444444444,
              "#bd3786"
             ],
             [
              0.5555555555555556,
              "#d8576b"
             ],
             [
              0.6666666666666666,
              "#ed7953"
             ],
             [
              0.7777777777777778,
              "#fb9f3a"
             ],
             [
              0.8888888888888888,
              "#fdca26"
             ],
             [
              1,
              "#f0f921"
             ]
            ],
            "type": "heatmapgl"
           }
          ],
          "histogram": [
           {
            "marker": {
             "pattern": {
              "fillmode": "overlay",
              "size": 10,
              "solidity": 0.2
             }
            },
            "type": "histogram"
           }
          ],
          "histogram2d": [
           {
            "colorbar": {
             "outlinewidth": 0,
             "ticks": ""
            },
            "colorscale": [
             [
              0,
              "#0d0887"
             ],
             [
              0.1111111111111111,
              "#46039f"
             ],
             [
              0.2222222222222222,
              "#7201a8"
             ],
             [
              0.3333333333333333,
              "#9c179e"
             ],
             [
              0.4444444444444444,
              "#bd3786"
             ],
             [
              0.5555555555555556,
              "#d8576b"
             ],
             [
              0.6666666666666666,
              "#ed7953"
             ],
             [
              0.7777777777777778,
              "#fb9f3a"
             ],
             [
              0.8888888888888888,
              "#fdca26"
             ],
             [
              1,
              "#f0f921"
             ]
            ],
            "type": "histogram2d"
           }
          ],
          "histogram2dcontour": [
           {
            "colorbar": {
             "outlinewidth": 0,
             "ticks": ""
            },
            "colorscale": [
             [
              0,
              "#0d0887"
             ],
             [
              0.1111111111111111,
              "#46039f"
             ],
             [
              0.2222222222222222,
              "#7201a8"
             ],
             [
              0.3333333333333333,
              "#9c179e"
             ],
             [
              0.4444444444444444,
              "#bd3786"
             ],
             [
              0.5555555555555556,
              "#d8576b"
             ],
             [
              0.6666666666666666,
              "#ed7953"
             ],
             [
              0.7777777777777778,
              "#fb9f3a"
             ],
             [
              0.8888888888888888,
              "#fdca26"
             ],
             [
              1,
              "#f0f921"
             ]
            ],
            "type": "histogram2dcontour"
           }
          ],
          "mesh3d": [
           {
            "colorbar": {
             "outlinewidth": 0,
             "ticks": ""
            },
            "type": "mesh3d"
           }
          ],
          "parcoords": [
           {
            "line": {
             "colorbar": {
              "outlinewidth": 0,
              "ticks": ""
             }
            },
            "type": "parcoords"
           }
          ],
          "pie": [
           {
            "automargin": true,
            "type": "pie"
           }
          ],
          "scatter": [
           {
            "fillpattern": {
             "fillmode": "overlay",
             "size": 10,
             "solidity": 0.2
            },
            "type": "scatter"
           }
          ],
          "scatter3d": [
           {
            "line": {
             "colorbar": {
              "outlinewidth": 0,
              "ticks": ""
             }
            },
            "marker": {
             "colorbar": {
              "outlinewidth": 0,
              "ticks": ""
             }
            },
            "type": "scatter3d"
           }
          ],
          "scattercarpet": [
           {
            "marker": {
             "colorbar": {
              "outlinewidth": 0,
              "ticks": ""
             }
            },
            "type": "scattercarpet"
           }
          ],
          "scattergeo": [
           {
            "marker": {
             "colorbar": {
              "outlinewidth": 0,
              "ticks": ""
             }
            },
            "type": "scattergeo"
           }
          ],
          "scattergl": [
           {
            "marker": {
             "colorbar": {
              "outlinewidth": 0,
              "ticks": ""
             }
            },
            "type": "scattergl"
           }
          ],
          "scattermapbox": [
           {
            "marker": {
             "colorbar": {
              "outlinewidth": 0,
              "ticks": ""
             }
            },
            "type": "scattermapbox"
           }
          ],
          "scatterpolar": [
           {
            "marker": {
             "colorbar": {
              "outlinewidth": 0,
              "ticks": ""
             }
            },
            "type": "scatterpolar"
           }
          ],
          "scatterpolargl": [
           {
            "marker": {
             "colorbar": {
              "outlinewidth": 0,
              "ticks": ""
             }
            },
            "type": "scatterpolargl"
           }
          ],
          "scatterternary": [
           {
            "marker": {
             "colorbar": {
              "outlinewidth": 0,
              "ticks": ""
             }
            },
            "type": "scatterternary"
           }
          ],
          "surface": [
           {
            "colorbar": {
             "outlinewidth": 0,
             "ticks": ""
            },
            "colorscale": [
             [
              0,
              "#0d0887"
             ],
             [
              0.1111111111111111,
              "#46039f"
             ],
             [
              0.2222222222222222,
              "#7201a8"
             ],
             [
              0.3333333333333333,
              "#9c179e"
             ],
             [
              0.4444444444444444,
              "#bd3786"
             ],
             [
              0.5555555555555556,
              "#d8576b"
             ],
             [
              0.6666666666666666,
              "#ed7953"
             ],
             [
              0.7777777777777778,
              "#fb9f3a"
             ],
             [
              0.8888888888888888,
              "#fdca26"
             ],
             [
              1,
              "#f0f921"
             ]
            ],
            "type": "surface"
           }
          ],
          "table": [
           {
            "cells": {
             "fill": {
              "color": "#EBF0F8"
             },
             "line": {
              "color": "white"
             }
            },
            "header": {
             "fill": {
              "color": "#C8D4E3"
             },
             "line": {
              "color": "white"
             }
            },
            "type": "table"
           }
          ]
         },
         "layout": {
          "annotationdefaults": {
           "arrowcolor": "#2a3f5f",
           "arrowhead": 0,
           "arrowwidth": 1
          },
          "autotypenumbers": "strict",
          "coloraxis": {
           "colorbar": {
            "outlinewidth": 0,
            "ticks": ""
           }
          },
          "colorscale": {
           "diverging": [
            [
             0,
             "#8e0152"
            ],
            [
             0.1,
             "#c51b7d"
            ],
            [
             0.2,
             "#de77ae"
            ],
            [
             0.3,
             "#f1b6da"
            ],
            [
             0.4,
             "#fde0ef"
            ],
            [
             0.5,
             "#f7f7f7"
            ],
            [
             0.6,
             "#e6f5d0"
            ],
            [
             0.7,
             "#b8e186"
            ],
            [
             0.8,
             "#7fbc41"
            ],
            [
             0.9,
             "#4d9221"
            ],
            [
             1,
             "#276419"
            ]
           ],
           "sequential": [
            [
             0,
             "#0d0887"
            ],
            [
             0.1111111111111111,
             "#46039f"
            ],
            [
             0.2222222222222222,
             "#7201a8"
            ],
            [
             0.3333333333333333,
             "#9c179e"
            ],
            [
             0.4444444444444444,
             "#bd3786"
            ],
            [
             0.5555555555555556,
             "#d8576b"
            ],
            [
             0.6666666666666666,
             "#ed7953"
            ],
            [
             0.7777777777777778,
             "#fb9f3a"
            ],
            [
             0.8888888888888888,
             "#fdca26"
            ],
            [
             1,
             "#f0f921"
            ]
           ],
           "sequentialminus": [
            [
             0,
             "#0d0887"
            ],
            [
             0.1111111111111111,
             "#46039f"
            ],
            [
             0.2222222222222222,
             "#7201a8"
            ],
            [
             0.3333333333333333,
             "#9c179e"
            ],
            [
             0.4444444444444444,
             "#bd3786"
            ],
            [
             0.5555555555555556,
             "#d8576b"
            ],
            [
             0.6666666666666666,
             "#ed7953"
            ],
            [
             0.7777777777777778,
             "#fb9f3a"
            ],
            [
             0.8888888888888888,
             "#fdca26"
            ],
            [
             1,
             "#f0f921"
            ]
           ]
          },
          "colorway": [
           "#636efa",
           "#EF553B",
           "#00cc96",
           "#ab63fa",
           "#FFA15A",
           "#19d3f3",
           "#FF6692",
           "#B6E880",
           "#FF97FF",
           "#FECB52"
          ],
          "font": {
           "color": "#2a3f5f"
          },
          "geo": {
           "bgcolor": "white",
           "lakecolor": "white",
           "landcolor": "#E5ECF6",
           "showlakes": true,
           "showland": true,
           "subunitcolor": "white"
          },
          "hoverlabel": {
           "align": "left"
          },
          "hovermode": "closest",
          "mapbox": {
           "style": "light"
          },
          "paper_bgcolor": "white",
          "plot_bgcolor": "#E5ECF6",
          "polar": {
           "angularaxis": {
            "gridcolor": "white",
            "linecolor": "white",
            "ticks": ""
           },
           "bgcolor": "#E5ECF6",
           "radialaxis": {
            "gridcolor": "white",
            "linecolor": "white",
            "ticks": ""
           }
          },
          "scene": {
           "xaxis": {
            "backgroundcolor": "#E5ECF6",
            "gridcolor": "white",
            "gridwidth": 2,
            "linecolor": "white",
            "showbackground": true,
            "ticks": "",
            "zerolinecolor": "white"
           },
           "yaxis": {
            "backgroundcolor": "#E5ECF6",
            "gridcolor": "white",
            "gridwidth": 2,
            "linecolor": "white",
            "showbackground": true,
            "ticks": "",
            "zerolinecolor": "white"
           },
           "zaxis": {
            "backgroundcolor": "#E5ECF6",
            "gridcolor": "white",
            "gridwidth": 2,
            "linecolor": "white",
            "showbackground": true,
            "ticks": "",
            "zerolinecolor": "white"
           }
          },
          "shapedefaults": {
           "line": {
            "color": "#2a3f5f"
           }
          },
          "ternary": {
           "aaxis": {
            "gridcolor": "white",
            "linecolor": "white",
            "ticks": ""
           },
           "baxis": {
            "gridcolor": "white",
            "linecolor": "white",
            "ticks": ""
           },
           "bgcolor": "#E5ECF6",
           "caxis": {
            "gridcolor": "white",
            "linecolor": "white",
            "ticks": ""
           }
          },
          "title": {
           "x": 0.05
          },
          "xaxis": {
           "automargin": true,
           "gridcolor": "white",
           "linecolor": "white",
           "ticks": "",
           "title": {
            "standoff": 15
           },
           "zerolinecolor": "white",
           "zerolinewidth": 2
          },
          "yaxis": {
           "automargin": true,
           "gridcolor": "white",
           "linecolor": "white",
           "ticks": "",
           "title": {
            "standoff": 15
           },
           "zerolinecolor": "white",
           "zerolinewidth": 2
          }
         }
        }
       }
      }
     },
     "metadata": {},
     "output_type": "display_data"
    }
   ],
   "source": [
    "fig = go.Figure(\n",
    "    data=go.Heatmap(\n",
    "        z=[[1, 20, 30], [20, 1, 60], [30, 60, 1]],\n",
    "        text=[\n",
    "            [\"one\", \"twenty\", \"thirty\"],\n",
    "            [\"twenty\", \"one\", \"sixty\"],\n",
    "            [\"thirty\", \"sixty\", \"one\"],\n",
    "        ],\n",
    "        texttemplate=\"%{text}\",\n",
    "        textfont={\"size\": 20},\n",
    "    )\n",
    ")\n",
    "\n",
    "fig.show()"
   ]
  },
  {
   "cell_type": "markdown",
   "metadata": {},
   "source": [
    "## Heatmap with Categorical Axis Labels"
   ]
  },
  {
   "cell_type": "code",
   "execution_count": 23,
   "metadata": {},
   "outputs": [
    {
     "data": {
      "application/vnd.plotly.v1+json": {
       "config": {
        "plotlyServerURL": "https://plot.ly"
       },
       "data": [
        {
         "hoverongaps": false,
         "texttemplate": "%{z}",
         "type": "heatmap",
         "x": [
          "Monday",
          "Tuesday",
          "Wednesday",
          "Thursday",
          "Friday"
         ],
         "y": [
          "Morning",
          "Afternoon",
          "Evening"
         ],
         "z": [
          [
           1,
           null,
           30,
           50,
           1
          ],
          [
           20,
           1,
           60,
           80,
           30
          ],
          [
           30,
           60,
           1,
           -10,
           20
          ]
         ]
        }
       ],
       "layout": {
        "template": {
         "data": {
          "bar": [
           {
            "error_x": {
             "color": "#2a3f5f"
            },
            "error_y": {
             "color": "#2a3f5f"
            },
            "marker": {
             "line": {
              "color": "#E5ECF6",
              "width": 0.5
             },
             "pattern": {
              "fillmode": "overlay",
              "size": 10,
              "solidity": 0.2
             }
            },
            "type": "bar"
           }
          ],
          "barpolar": [
           {
            "marker": {
             "line": {
              "color": "#E5ECF6",
              "width": 0.5
             },
             "pattern": {
              "fillmode": "overlay",
              "size": 10,
              "solidity": 0.2
             }
            },
            "type": "barpolar"
           }
          ],
          "carpet": [
           {
            "aaxis": {
             "endlinecolor": "#2a3f5f",
             "gridcolor": "white",
             "linecolor": "white",
             "minorgridcolor": "white",
             "startlinecolor": "#2a3f5f"
            },
            "baxis": {
             "endlinecolor": "#2a3f5f",
             "gridcolor": "white",
             "linecolor": "white",
             "minorgridcolor": "white",
             "startlinecolor": "#2a3f5f"
            },
            "type": "carpet"
           }
          ],
          "choropleth": [
           {
            "colorbar": {
             "outlinewidth": 0,
             "ticks": ""
            },
            "type": "choropleth"
           }
          ],
          "contour": [
           {
            "colorbar": {
             "outlinewidth": 0,
             "ticks": ""
            },
            "colorscale": [
             [
              0,
              "#0d0887"
             ],
             [
              0.1111111111111111,
              "#46039f"
             ],
             [
              0.2222222222222222,
              "#7201a8"
             ],
             [
              0.3333333333333333,
              "#9c179e"
             ],
             [
              0.4444444444444444,
              "#bd3786"
             ],
             [
              0.5555555555555556,
              "#d8576b"
             ],
             [
              0.6666666666666666,
              "#ed7953"
             ],
             [
              0.7777777777777778,
              "#fb9f3a"
             ],
             [
              0.8888888888888888,
              "#fdca26"
             ],
             [
              1,
              "#f0f921"
             ]
            ],
            "type": "contour"
           }
          ],
          "contourcarpet": [
           {
            "colorbar": {
             "outlinewidth": 0,
             "ticks": ""
            },
            "type": "contourcarpet"
           }
          ],
          "heatmap": [
           {
            "colorbar": {
             "outlinewidth": 0,
             "ticks": ""
            },
            "colorscale": [
             [
              0,
              "#0d0887"
             ],
             [
              0.1111111111111111,
              "#46039f"
             ],
             [
              0.2222222222222222,
              "#7201a8"
             ],
             [
              0.3333333333333333,
              "#9c179e"
             ],
             [
              0.4444444444444444,
              "#bd3786"
             ],
             [
              0.5555555555555556,
              "#d8576b"
             ],
             [
              0.6666666666666666,
              "#ed7953"
             ],
             [
              0.7777777777777778,
              "#fb9f3a"
             ],
             [
              0.8888888888888888,
              "#fdca26"
             ],
             [
              1,
              "#f0f921"
             ]
            ],
            "type": "heatmap"
           }
          ],
          "heatmapgl": [
           {
            "colorbar": {
             "outlinewidth": 0,
             "ticks": ""
            },
            "colorscale": [
             [
              0,
              "#0d0887"
             ],
             [
              0.1111111111111111,
              "#46039f"
             ],
             [
              0.2222222222222222,
              "#7201a8"
             ],
             [
              0.3333333333333333,
              "#9c179e"
             ],
             [
              0.4444444444444444,
              "#bd3786"
             ],
             [
              0.5555555555555556,
              "#d8576b"
             ],
             [
              0.6666666666666666,
              "#ed7953"
             ],
             [
              0.7777777777777778,
              "#fb9f3a"
             ],
             [
              0.8888888888888888,
              "#fdca26"
             ],
             [
              1,
              "#f0f921"
             ]
            ],
            "type": "heatmapgl"
           }
          ],
          "histogram": [
           {
            "marker": {
             "pattern": {
              "fillmode": "overlay",
              "size": 10,
              "solidity": 0.2
             }
            },
            "type": "histogram"
           }
          ],
          "histogram2d": [
           {
            "colorbar": {
             "outlinewidth": 0,
             "ticks": ""
            },
            "colorscale": [
             [
              0,
              "#0d0887"
             ],
             [
              0.1111111111111111,
              "#46039f"
             ],
             [
              0.2222222222222222,
              "#7201a8"
             ],
             [
              0.3333333333333333,
              "#9c179e"
             ],
             [
              0.4444444444444444,
              "#bd3786"
             ],
             [
              0.5555555555555556,
              "#d8576b"
             ],
             [
              0.6666666666666666,
              "#ed7953"
             ],
             [
              0.7777777777777778,
              "#fb9f3a"
             ],
             [
              0.8888888888888888,
              "#fdca26"
             ],
             [
              1,
              "#f0f921"
             ]
            ],
            "type": "histogram2d"
           }
          ],
          "histogram2dcontour": [
           {
            "colorbar": {
             "outlinewidth": 0,
             "ticks": ""
            },
            "colorscale": [
             [
              0,
              "#0d0887"
             ],
             [
              0.1111111111111111,
              "#46039f"
             ],
             [
              0.2222222222222222,
              "#7201a8"
             ],
             [
              0.3333333333333333,
              "#9c179e"
             ],
             [
              0.4444444444444444,
              "#bd3786"
             ],
             [
              0.5555555555555556,
              "#d8576b"
             ],
             [
              0.6666666666666666,
              "#ed7953"
             ],
             [
              0.7777777777777778,
              "#fb9f3a"
             ],
             [
              0.8888888888888888,
              "#fdca26"
             ],
             [
              1,
              "#f0f921"
             ]
            ],
            "type": "histogram2dcontour"
           }
          ],
          "mesh3d": [
           {
            "colorbar": {
             "outlinewidth": 0,
             "ticks": ""
            },
            "type": "mesh3d"
           }
          ],
          "parcoords": [
           {
            "line": {
             "colorbar": {
              "outlinewidth": 0,
              "ticks": ""
             }
            },
            "type": "parcoords"
           }
          ],
          "pie": [
           {
            "automargin": true,
            "type": "pie"
           }
          ],
          "scatter": [
           {
            "fillpattern": {
             "fillmode": "overlay",
             "size": 10,
             "solidity": 0.2
            },
            "type": "scatter"
           }
          ],
          "scatter3d": [
           {
            "line": {
             "colorbar": {
              "outlinewidth": 0,
              "ticks": ""
             }
            },
            "marker": {
             "colorbar": {
              "outlinewidth": 0,
              "ticks": ""
             }
            },
            "type": "scatter3d"
           }
          ],
          "scattercarpet": [
           {
            "marker": {
             "colorbar": {
              "outlinewidth": 0,
              "ticks": ""
             }
            },
            "type": "scattercarpet"
           }
          ],
          "scattergeo": [
           {
            "marker": {
             "colorbar": {
              "outlinewidth": 0,
              "ticks": ""
             }
            },
            "type": "scattergeo"
           }
          ],
          "scattergl": [
           {
            "marker": {
             "colorbar": {
              "outlinewidth": 0,
              "ticks": ""
             }
            },
            "type": "scattergl"
           }
          ],
          "scattermapbox": [
           {
            "marker": {
             "colorbar": {
              "outlinewidth": 0,
              "ticks": ""
             }
            },
            "type": "scattermapbox"
           }
          ],
          "scatterpolar": [
           {
            "marker": {
             "colorbar": {
              "outlinewidth": 0,
              "ticks": ""
             }
            },
            "type": "scatterpolar"
           }
          ],
          "scatterpolargl": [
           {
            "marker": {
             "colorbar": {
              "outlinewidth": 0,
              "ticks": ""
             }
            },
            "type": "scatterpolargl"
           }
          ],
          "scatterternary": [
           {
            "marker": {
             "colorbar": {
              "outlinewidth": 0,
              "ticks": ""
             }
            },
            "type": "scatterternary"
           }
          ],
          "surface": [
           {
            "colorbar": {
             "outlinewidth": 0,
             "ticks": ""
            },
            "colorscale": [
             [
              0,
              "#0d0887"
             ],
             [
              0.1111111111111111,
              "#46039f"
             ],
             [
              0.2222222222222222,
              "#7201a8"
             ],
             [
              0.3333333333333333,
              "#9c179e"
             ],
             [
              0.4444444444444444,
              "#bd3786"
             ],
             [
              0.5555555555555556,
              "#d8576b"
             ],
             [
              0.6666666666666666,
              "#ed7953"
             ],
             [
              0.7777777777777778,
              "#fb9f3a"
             ],
             [
              0.8888888888888888,
              "#fdca26"
             ],
             [
              1,
              "#f0f921"
             ]
            ],
            "type": "surface"
           }
          ],
          "table": [
           {
            "cells": {
             "fill": {
              "color": "#EBF0F8"
             },
             "line": {
              "color": "white"
             }
            },
            "header": {
             "fill": {
              "color": "#C8D4E3"
             },
             "line": {
              "color": "white"
             }
            },
            "type": "table"
           }
          ]
         },
         "layout": {
          "annotationdefaults": {
           "arrowcolor": "#2a3f5f",
           "arrowhead": 0,
           "arrowwidth": 1
          },
          "autotypenumbers": "strict",
          "coloraxis": {
           "colorbar": {
            "outlinewidth": 0,
            "ticks": ""
           }
          },
          "colorscale": {
           "diverging": [
            [
             0,
             "#8e0152"
            ],
            [
             0.1,
             "#c51b7d"
            ],
            [
             0.2,
             "#de77ae"
            ],
            [
             0.3,
             "#f1b6da"
            ],
            [
             0.4,
             "#fde0ef"
            ],
            [
             0.5,
             "#f7f7f7"
            ],
            [
             0.6,
             "#e6f5d0"
            ],
            [
             0.7,
             "#b8e186"
            ],
            [
             0.8,
             "#7fbc41"
            ],
            [
             0.9,
             "#4d9221"
            ],
            [
             1,
             "#276419"
            ]
           ],
           "sequential": [
            [
             0,
             "#0d0887"
            ],
            [
             0.1111111111111111,
             "#46039f"
            ],
            [
             0.2222222222222222,
             "#7201a8"
            ],
            [
             0.3333333333333333,
             "#9c179e"
            ],
            [
             0.4444444444444444,
             "#bd3786"
            ],
            [
             0.5555555555555556,
             "#d8576b"
            ],
            [
             0.6666666666666666,
             "#ed7953"
            ],
            [
             0.7777777777777778,
             "#fb9f3a"
            ],
            [
             0.8888888888888888,
             "#fdca26"
            ],
            [
             1,
             "#f0f921"
            ]
           ],
           "sequentialminus": [
            [
             0,
             "#0d0887"
            ],
            [
             0.1111111111111111,
             "#46039f"
            ],
            [
             0.2222222222222222,
             "#7201a8"
            ],
            [
             0.3333333333333333,
             "#9c179e"
            ],
            [
             0.4444444444444444,
             "#bd3786"
            ],
            [
             0.5555555555555556,
             "#d8576b"
            ],
            [
             0.6666666666666666,
             "#ed7953"
            ],
            [
             0.7777777777777778,
             "#fb9f3a"
            ],
            [
             0.8888888888888888,
             "#fdca26"
            ],
            [
             1,
             "#f0f921"
            ]
           ]
          },
          "colorway": [
           "#636efa",
           "#EF553B",
           "#00cc96",
           "#ab63fa",
           "#FFA15A",
           "#19d3f3",
           "#FF6692",
           "#B6E880",
           "#FF97FF",
           "#FECB52"
          ],
          "font": {
           "color": "#2a3f5f"
          },
          "geo": {
           "bgcolor": "white",
           "lakecolor": "white",
           "landcolor": "#E5ECF6",
           "showlakes": true,
           "showland": true,
           "subunitcolor": "white"
          },
          "hoverlabel": {
           "align": "left"
          },
          "hovermode": "closest",
          "mapbox": {
           "style": "light"
          },
          "paper_bgcolor": "white",
          "plot_bgcolor": "#E5ECF6",
          "polar": {
           "angularaxis": {
            "gridcolor": "white",
            "linecolor": "white",
            "ticks": ""
           },
           "bgcolor": "#E5ECF6",
           "radialaxis": {
            "gridcolor": "white",
            "linecolor": "white",
            "ticks": ""
           }
          },
          "scene": {
           "xaxis": {
            "backgroundcolor": "#E5ECF6",
            "gridcolor": "white",
            "gridwidth": 2,
            "linecolor": "white",
            "showbackground": true,
            "ticks": "",
            "zerolinecolor": "white"
           },
           "yaxis": {
            "backgroundcolor": "#E5ECF6",
            "gridcolor": "white",
            "gridwidth": 2,
            "linecolor": "white",
            "showbackground": true,
            "ticks": "",
            "zerolinecolor": "white"
           },
           "zaxis": {
            "backgroundcolor": "#E5ECF6",
            "gridcolor": "white",
            "gridwidth": 2,
            "linecolor": "white",
            "showbackground": true,
            "ticks": "",
            "zerolinecolor": "white"
           }
          },
          "shapedefaults": {
           "line": {
            "color": "#2a3f5f"
           }
          },
          "ternary": {
           "aaxis": {
            "gridcolor": "white",
            "linecolor": "white",
            "ticks": ""
           },
           "baxis": {
            "gridcolor": "white",
            "linecolor": "white",
            "ticks": ""
           },
           "bgcolor": "#E5ECF6",
           "caxis": {
            "gridcolor": "white",
            "linecolor": "white",
            "ticks": ""
           }
          },
          "title": {
           "x": 0.05
          },
          "xaxis": {
           "automargin": true,
           "gridcolor": "white",
           "linecolor": "white",
           "ticks": "",
           "title": {
            "standoff": 15
           },
           "zerolinecolor": "white",
           "zerolinewidth": 2
          },
          "yaxis": {
           "automargin": true,
           "gridcolor": "white",
           "linecolor": "white",
           "ticks": "",
           "title": {
            "standoff": 15
           },
           "zerolinecolor": "white",
           "zerolinewidth": 2
          }
         }
        }
       }
      }
     },
     "metadata": {},
     "output_type": "display_data"
    }
   ],
   "source": [
    "fig = go.Figure(\n",
    "    data=go.Heatmap(\n",
    "        z=[[1, None, 30, 50, 1], [20, 1, 60, 80, 30], [30, 60, 1, -10, 20]],\n",
    "        x=[\"Monday\", \"Tuesday\", \"Wednesday\", \"Thursday\", \"Friday\"],\n",
    "        y=[\"Morning\", \"Afternoon\", \"Evening\"],\n",
    "        texttemplate=\"%{z}\",\n",
    "        hoverongaps=False,\n",
    "    )\n",
    ")\n",
    "fig.show()"
   ]
  },
  {
   "cell_type": "markdown",
   "metadata": {},
   "source": [
    "## Heatmap with Unequal Block Sizes"
   ]
  },
  {
   "cell_type": "code",
   "execution_count": 26,
   "metadata": {},
   "outputs": [
    {
     "data": {
      "application/vnd.plotly.v1+json": {
       "config": {
        "plotlyServerURL": "https://plot.ly"
       },
       "data": [
        {
         "colorscale": [
          [
           0,
           "#440154"
          ],
          [
           0.1111111111111111,
           "#482878"
          ],
          [
           0.2222222222222222,
           "#3e4989"
          ],
          [
           0.3333333333333333,
           "#31688e"
          ],
          [
           0.4444444444444444,
           "#26828e"
          ],
          [
           0.5555555555555556,
           "#1f9e89"
          ],
          [
           0.6666666666666666,
           "#35b779"
          ],
          [
           0.7777777777777778,
           "#6ece58"
          ],
          [
           0.8888888888888888,
           "#b5de2b"
          ],
          [
           1,
           "#fde725"
          ]
         ],
         "type": "heatmap",
         "x": [
          0,
          1,
          1.1458980337503155,
          1.2360679774997898,
          1.618033988749895
         ],
         "y": [
          0,
          0.2360679774997897,
          0.3819660112501051,
          0.3819660112501051,
          1
         ],
         "z": [
          [
           13,
           3,
           3,
           5
          ],
          [
           13,
           2,
           1,
           5
          ],
          [
           13,
           10,
           11,
           12
          ],
          [
           13,
           8,
           8,
           8
          ]
         ]
        },
        {
         "line": {
          "color": "white",
          "width": 3
         },
         "type": "scatter",
         "x": [
          0,
          0.0010007940227640957,
          0.0022033988713625607,
          0.0036060200903018647,
          0.005206841443202714,
          0.007004025408501313,
          0.008995713675085337,
          0.011180027637773147,
          0.01355506889255298,
          0.016118919731492154,
          0.018869643637229094,
          0.021805285776968164,
          0.024923873495886983,
          0.028223416809874943,
          0.03170190889752278,
          0.03535732659127233,
          0.03918763086765775,
          0.043190767336544145,
          0.04736466672929396,
          0.05170724538577853,
          0.05621640574015352,
          0.06089003680532601,
          0.06572601465603456,
          0.07072220291046594,
          0.07587645321033376,
          0.08118660569934755,
          0.08665048949999421,
          0.09226592318856676,
          0.09803071526836016,
          0.10394266464097224,
          0.10999956107563746,
          0.11619918567651766,
          0.12253931134789564,
          0.12901770325719397,
          0.13563211929575503,
          0.1423803105373227,
          0.14926002169415375,
          0.1562689915707023,
          0.163404953514811,
          0.17066563586635053,
          0.1780487624032434,
          0.1855520527848168,
          0.19317322299242343,
          0.20090998576727329,
          0.2087600510454196,
          0.21672112638984453,
          0.22479091741958757,
          0.23296712823586563,
          0.2412474618451308,
          0.24962962057901208,
          0.25811130651109504,
          0.26669022187048386,
          0.2753640694521018,
          0.2841305530236775,
          0.29298737772937555,
          0.3019322504900196,
          0.3109628803998672,
          0.3200769791198905,
          0.3292722612675205,
          0.33854644480281015,
          0.34789725141098093,
          0.3573224068813057,
          0.36681964148229296,
          0.3763866903331351,
          0.3860212937713776,
          0.39572119771678127,
          0.4054841540313342,
          0.4153079208753847,
          0.4251902630598585,
          0.4351289523945293,
          0.4451217680323112,
          0.45516649680954113,
          0.4652609335822244,
          0.47540288155821053,
          0.4855901526252763,
          0.4958205676750866,
          0.506091956923007,
          0.5164021602237461,
          0.5267490273827992,
          0.5371304184636747,
          0.5475442040908799,
          0.5579882657486426,
          0.5684604960753518,
          0.5789587991536976,
          0.5894810907964897,
          0.6000252988281393,
          0.6105893633617878,
          0.6211712370720665,
          0.63176888546347,
          0.642380287134336,
          0.6530034340364108,
          0.663636331729994,
          0.6742769996346504,
          0.6849234712754761,
          0.6955737945249127,
          0.7062260318401004,
          0.7168782604957598,
          0.7275285728126007,
          0.738175076381247,
          0.7488158942816742,
          0.7594491652981586,
          0.7700730441297292,
          0.7806857015961246,
          0.7912853248392502,
          0.8018701175201361,
          0.8124383000113962,
          0.822988109585187,
          0.8335178005966704,
          0.8440256446629812,
          0.8545099308377024,
          0.864968965780853,
          0.8754010739243911,
          0.8858045976332426,
          0.8961778973618537,
          0.906519351806283,
          0.9168273580518332,
          0.927100331716236,
          0.937336707088398,
          0.9475349372627152,
          0.9576934942689712,
          0.967810869197825,
          0.9778855723219052,
          0.9879161332125213,
          0.9979011008520032,
          1.00783904374169,
          1.0177285500055715,
          1.0275682274896116,
          1.0373567038567564,
          1.0470926266776532,
          1.0567746635170945,
          1.0664015020162023,
          1.0759718499703763,
          1.0854844354030218,
          1.0949380066350758,
          1.1043313323503594,
          1.1136632016567662,
          1.122932424143317,
          1.1321378299331,
          1.1412782697321182,
          1.1503526148740697,
          1.1593597573610814,
          1.168298609900425,
          1.177168105937234,
          1.1859671996832553,
          1.194694866141652,
          1.2033501011278922,
          1.211931921286744,
          1.2204393641054097,
          1.2288714879228229,
          1.2372273719351388,
          1.2455061161974463,
          1.2537068416217314,
          1.2618286899711204,
          1.2698708238504337,
          1.2778324266930818,
          1.2857127027443336,
          1.2935108770409869,
          1.301226195387476,
          1.3088579243284462,
          1.3164053511178282,
          1.3238677836844457,
          1.3312445505941897,
          1.3385350010087929,
          1.3457385046412371,
          1.352854451707831,
          1.359882252876987,
          1.3668213392147408,
          1.3736711621270412,
          1.3804311932988496,
          1.3871009246300827,
          1.39367986816844,
          1.400167556039143,
          1.4065635403716323,
          1.4128673932232558,
          1.4190787064999828,
          1.4251970918741843,
          1.4312221806995182,
          1.4371536239229534,
          1.4429910919939757,
          1.4487342747710084,
          1.4543828814250928,
          1.4599366403408596,
          1.465395299014837,
          1.47075862395113,
          1.4760264005545138,
          1.4811984330209769,
          1.4862745442257543,
          1.491254575608895,
          1.4961383870583975,
          1.5009258567909554,
          1.5056168812303552,
          1.5102113748835642,
          1.5147092702145482,
          1.519110517515863,
          1.5234150847780554,
          1.527622957556917,
          1.5317341388386314,
          1.5357486489028551,
          1.5396665251837718,
          1.5434878221291612,
          1.5472126110575255,
          1.55084098001331,
          1.5543730336202626,
          1.5578088929329712,
          1.5611486952866194,
          1.5643925941450023,
          1.5675407589468444,
          1.5705933749504557,
          1.5735506430767736,
          1.576412779750827,
          1.5791800167416614,
          1.5818526010007727,
          1.5844307944990836,
          1.5869148740625052,
          1.5893051312061266,
          1.5916018719670708,
          1.593805416736056,
          1.5959161000877062,
          1.5979342706096489,
          1.599860290730438,
          1.6016945365463493,
          1.6034373976470775,
          1.6050892769403848,
          1.606650590475735,
          1.608121767266954,
          1.6095032491139547,
          1.6107954904235695,
          1.6119989580295258,
          1.6131141310116028,
          1.6141415005140132,
          1.6150815695630425,
          1.6159348528839894,
          1.6167018767174417,
          1.6173831786349286,
          1.6179793073539852,
          1.6184908225526686,
          1.618918294683562,
          1.6192623047873045,
          1.6195234443056834,
          1.6197023148943277,
          1.6197995282350344,
          1.6198157058477731,
          1.6197514789023948,
          1.6196074880300864,
          1.6193843831346095,
          1.6190828232033518,
          1.618703476118231,
          1.6182470184664872,
          1.617714135351394,
          1.6171055202029267,
          1.616421874588423,
          1.615663908023261,
          1.6148323377816058,
          1.613927888707236,
          1.612951293024503,
          1.6119032901494426,
          1.6107846265010817,
          1.609596055312961,
          1.608338336444916,
          1.6070122361951449,
          1.605618527112591,
          1.6041579878096734,
          1.6026314027754012,
          1.601039562188893,
          1.59938326173334,
          1.5976633024104343,
          1.5958804903553034,
          1.5940356366519677,
          1.5921295571493566,
          1.590163072277915,
          1.5881370068668186,
          1.5860521899618347,
          1.5839094546438537,
          1.5817096378481137,
          1.5794535801841554,
          1.5771421257565232,
          1.5747761219862442,
          1.5723564194331103,
          1.5698838716187904,
          1.5673593348507933,
          1.5647836680473106,
          1.562157732562964,
          1.5594823920154752,
          1.5567585121132934,
          1.55398696048419,
          1.551168606504857,
          1.5483043211315204,
          1.545394976731599,
          1.5424414469164276,
          1.5394446063750646,
          1.5364053307092094,
          1.5333244962692452,
          1.5302029799914325,
          1.527041659236272,
          1.523841411628054,
          1.5206031148956187,
          1.5173276467143415,
          1.514015884549365,
          1.5106687055000965,
          1.5072869861459866,
          1.5038716023936067,
          1.500423429325046,
          1.4969433410476396,
          1.4934322105450497,
          1.4898909095297108,
          1.4863203082966596,
          1.4827212755787595,
          1.479094678403341,
          1.4754413819502656,
          1.4717622494114355,
          1.468058141851754,
          1.4643299180715583,
          1.4605784344705333,
          1.456804544913118,
          1.4530091005954224,
          1.4491929499136622,
          1.4453569383341227,
          1.441501908264669,
          1.4376286989278042,
          1.433738146235295,
          1.429831082664371,
          1.4259083371355057,
          1.4219707348917914,
          1.4180190973799207,
          1.4140542421327706,
          1.4100769826536157,
          1.406088128301962,
          1.4020884841810195,
          1.3980788510268178,
          1.394060025098969,
          1.390032798073089,
          1.3859979569348828,
          1.3819562838758928,
          1.3779085561909294,
          1.3738555461771744,
          1.3697980210349732,
          1.3657367427703135,
          1.3616724680989982,
          1.357605948352517,
          1.3535379293856145,
          1.3494691514855692,
          1.3454003492831723,
          1.3413322516654214,
          1.3372655816899224,
          1.3332010565010075,
          1.3291393872475696,
          1.3250812790026074,
          1.3210274306844958,
          1.3169785349799703,
          1.3129352782688295,
          1.3088983405503607,
          1.3048683953714773,
          1.300846109756579,
          1.2968321441391295,
          1.2928271522949455,
          1.288831781277203,
          1.2848466713531572,
          1.2808724559425697,
          1.2769097615578466,
          1.27295920774588,
          1.269021407031594,
          1.2650969648631885,
          1.2611864795590788,
          1.2572905422565293,
          1.2534097368619717,
          1.2495446400030106,
          1.2456958209821063,
          1.2418638417319312,
          1.2380492567723982,
          1.2342526131693488,
          1.2304744504949034,
          1.226715300789463,
          1.2229756885253522,
          1.2192561305721124,
          1.2155571361634163,
          1.2118792068656188,
          1.2082228365479195,
          1.2045885113541424,
          1.200976709676118,
          1.197387902128662,
          1.1938225515261416,
          1.1902811128606252,
          1.1867640332816003,
          1.1832717520772578,
          1.1798047006573278,
          1.1763633025374636,
          1.1729479733251598,
          1.1695591207071965,
          1.166197144438602,
          1.162862436333121,
          1.1595553802551808,
          1.1562763521133428,
          1.1530257198552296,
          1.149803843463921,
          1.1466110749558,
          1.143447758379846,
          1.1403142298183575,
          1.1372108173890996,
          1.1341378412488572,
          1.131095613598388,
          1.1280844386887634,
          1.1251046128290794,
          1.1221564243955329,
          1.1192401538418468,
          1.1163560737110314,
          1.1135044486484724,
          1.110685535416329,
          1.1078995829092315,
          1.1051468321712687,
          1.10242751641424,
          1.0997418610371776,
          1.0970900836471082,
          1.0944723940810497,
          1.0918889944292267,
          1.0893400790594951,
          1.0868258346429531,
          1.084346440180736,
          1.0819020670319686,
          1.0794928789428742,
          1.0771190320770143,
          1.0747806750466538,
          1.072477948945227,
          1.0702109873809038,
          1.0679799165112285,
          1.0657848550788225,
          1.0636259144481388,
          1.0615031986432466,
          1.059416804386636,
          1.0573668211390292,
          1.055353331140176,
          1.053376409450627,
          1.051436123994466,
          1.049532535602983,
          1.0476656980592778,
          1.045835658143777,
          1.0440424556806491,
          1.042286123585101,
          1.0405666879115427,
          1.0388841679026035,
          1.037238576038985,
          1.0356299180901354,
          1.0340581931657276,
          1.0325233937679297,
          1.031025505844446,
          1.029564508842323,
          1.028140375762492,
          1.0267530732150432,
          1.0254025614752111,
          1.0240887945400567,
          1.022811720185829,
          1.021571280025995,
          1.0203674095699142,
          1.019200038282153,
          1.018069089642414,
          1.0169744812060686,
          1.015916124665278,
          1.014893925910685,
          1.0139077850936635,
          1.0129575966891076,
          1.012043249558745,
          1.0111646270149632,
          1.0103216068851284,
          1.0095140615763822,
          1.0087418581409056,
          1.008004858341627,
          1.0073029187183675,
          1.0066358906544004,
          1.0060036204434166,
          1.005405949356875,
          1.0048427137117268,
          1.0043137449384971,
          1.0038188696497086,
          1.0033579097086318,
          1.0029306822983508,
          1.0025369999911231,
          1.0021766708180255,
          1.0018494983388675,
          1.001555281712356,
          1.0012938157665028,
          1.0010648910692566,
          1.0008682939993414,
          1.0007038068172949,
          1.000571207736687,
          1.000470270995506,
          1.0004007669276982,
          1.0003624620348468,
          1.0003551190579765,
          1.0003784970494702,
          1.0004323514450828,
          1.0005164341360389,
          1.000630493541203,
          1.0007742746793051,
          1.0009475192412107,
          1.0011499656622214,
          1.0013813491943928,
          1.0016414019788569,
          1.0019298531181349,
          1.0022464287484285,
          1.00259085211188,
          1.002962843628779,
          1.0033621209697148,
          1.0037883991276553,
          1.0042413904899403,
          1.0047208049101797,
          1.0052263497800409,
          1.0057577301009175,
          1.0063146485554664,
          1.006896805578994,
          1.0075038994306946,
          1.0081356262647163,
          1.0087916802010493,
          1.009471753396221,
          1.0101755361137954,
          1.010902716794655,
          1.01165298212706,
          1.0124260171164754,
          1.01322150515515,
          1.0140391280914436,
          1.014878566298884,
          1.015739498744951,
          1.0166216030595738,
          1.0175245556033292,
          1.018448031535337,
          1.019391704880838,
          1.020355248598444,
          1.0213383346470577,
          1.0223406340524426,
          1.0233618169734433,
          1.02440155276784,
          1.0254595100578328,
          1.0265353567951452,
          1.027628760325738,
          1.0287393874541246,
          1.0298669045072826,
          1.0310109773981464,
          1.0321712716886822,
          1.033347452652528,
          1.0345391853371997,
          1.035746134625844,
          1.0369679652985464,
          1.0382043420931706,
          1.0394549297657327,
          1.0407193931503,
          1.0419973972184056,
          1.0432886071379743,
          1.0445926883317531,
          1.0459093065352367,
          1.0472381278540863,
          1.0485788188210314,
          1.0499310464522484,
          1.051294478303216,
          1.0526687825240315,
          1.0540536279141928,
          1.05544868397683,
          1.056853620972393,
          1.0582681099717783,
          1.0596918229088963,
          1.0611244326326752,
          1.0625656129584895,
          1.0640150387190186,
          1.0654723858145188,
          1.0669373312625172,
          1.0684095532469124,
          1.0698887311664838,
          1.0713745456828023,
          1.0728666787675434,
          1.07436481374919,
          1.0758686353591325,
          1.0773778297771528,
          1.0788920846762953,
          1.0804110892671188,
          1.0819345343413251,
          1.0834621123147663,
          1.0849935172698224,
          1.0865284449971484,
          1.0880665930367914,
          1.08960766071867,
          1.0911513492024183,
          1.0926973615165885,
          1.094245402597214,
          1.0957951793257292,
          1.0973464005662412,
          1.0988987772021583,
          1.100452022172169,
          1.1020058505055703,
          1.1035599793569475,
          1.105114128040199,
          1.1066680180619108,
          1.1082213731540764,
          1.109773919306161,
          1.111325384796512,
          1.1128755002231123,
          1.11442399853368,
          1.1159706150551096,
          1.1175150875222557,
          1.119057156106064,
          1.120596563441043,
          1.1221330546520805,
          1.1236663773806028,
          1.125196281810082,
          1.1267225206908842,
          1.1282448493644668,
          1.1297630257869204,
          1.1312768105518602,
          1.1327859669126634,
          1.1342902608040584,
          1.135789460863064,
          1.1372833384492806,
          1.138771667664536,
          1.1402542253718846,
          1.1417307912139656,
          1.1432011476307178,
          1.1446650798764562,
          1.14612237603631,
          1.1475728270420251,
          1.149016226687136,
          1.1504523716414994,
          1.151881061465207,
          1.1533020986218674,
          1.154715288491264,
          1.156120439381394,
          1.1575173625398862,
          1.1589058721648045,
          1.1602857854148385,
          1.1616569224188815,
          1.1630191062850082,
          1.1643721631088395,
          1.1657159219813145,
          1.1670502149958606,
          1.168374877254973,
          1.1696897468762006,
          1.1709946649975482,
          1.1722894757822928,
          1.1735740264232222,
          1.1748481671462974,
          1.1761117512137425,
          1.1773646349265678,
          1.1786066776265278,
          1.17983774169752,
          1.1810576925664278,
          1.182266398703411,
          1.1834637316216512,
          1.184649565876551,
          1.1858237790643975,
          1.1869862518204914,
          1.1881368678167423,
          1.189275513758746,
          1.1904020793823356,
          1.1915164574496186,
          1.1926185437445056,
          1.1937082370677277,
          1.1947854392313568,
          1.1958500550528286,
          1.1969019923484727,
          1.1979411619265576,
          1.1989674775798536,
          1.1999808560777194,
          1.2009812171577188,
          1.2019684835167688,
          1.20294258080183,
          1.2039034376001394,
          1.2048509854289933,
          1.205785158725086,
          1.20670589483341,
          1.2076131339957188,
          1.2085068193385649,
          1.2093868968609132,
          1.2102533154213369,
          1.2111060267248004,
          1.211944985309039,
          1.2127701485305336,
          1.213581476550094,
          1.2143789323180512,
          1.2151624815590645,
          1.215932092756554,
          1.2166877371367584,
          1.2174293886524266,
          1.2181570239661492,
          1.218870622433334,
          1.2195701660848357,
          1.220255639609236,
          1.220927030334794,
          1.22158432821106,
          1.2222275257901638,
          1.222856618207787,
          1.2234716031638164,
          1.2240724809026953,
          1.2246592541934669,
          1.2252319283095257,
          1.2257905110080785,
          1.2263350125093189,
          1.226865445475326,
          1.2273818249886908,
          1.2278841685308737,
          1.2283724959603055,
          1.2288468294902313,
          1.229307193666307,
          1.229753615343953,
          1.2301861236654728,
          1.2306047500369388,
          1.2310095281048552,
          1.2314004937326015,
          1.231777684976665,
          1.2321411420626625,
          1.2324909073611656,
          1.2328270253633289,
          1.2331495426563286,
          1.2334585078986198,
          1.2337539717950137,
          1.2340359870715862,
          1.2343046084504192,
          1.2345598926241823,
          1.23480189823056,
          1.2350306858265323,
          1.235246317862511,
          1.23544885865634,
          1.2356383743671655,
          1.2358149329691783,
          1.2359786042252396,
          1.236129459660391,
          1.2362675725352554,
          1.2363930178193392,
          1.2365058721642317,
          1.2366062138767164,
          1.2366941228917971,
          1.23676968074564,
          1.2368329705484438,
          1.2368840769572391,
          1.2369230861486238,
          1.2369500857914382,
          1.2369651650193894,
          1.236968414403626,
          1.2369599259252688,
          1.236939792947907,
          1.236908110190058,
          1.236864973697605,
          1.2368104808162068,
          1.2367447301636962,
          1.236667821602462,
          1.2365798562118278,
          1.236480936260426,
          1.2363711651785771,
          1.2362506475306767,
          1.2361194889875944,
          1.2359777962990908,
          1.2358256772662586,
          1.235663240713989,
          1.2354905964634713,
          1.2353078553047294,
          1.235115128969199,
          1.2349125301023514,
          1.2347001722363666,
          1.2344781697628635,
          1.234246637905688,
          1.2340056926937646,
          1.2337554509340178,
          1.2334960301843654,
          1.2332275487267874,
          1.232950125540478,
          1.2326638802750811,
          1.2323689332240173,
          1.2320654052979,
          1.2317534179980545,
          1.2314330933901347,
          1.231104554077847,
          1.230767923176781,
          1.230423324288357,
          1.2300708814738883,
          1.2297107192287615,
          1.2293429624567482,
          1.2289677364444351,
          1.2285851668357946,
          1.2281953796068843,
          1.2277985010406882,
          1.227394657702097,
          1.226983976413038,
          1.226566584227748,
          1.2261426084082023,
          1.2257121763996983,
          1.225275415806595,
          1.224832454368216,
          1.2243834199349155,
          1.2239284404443145,
          1.2234676438977004,
          1.223001158336611,
          1.222529111819583,
          1.222051632399086,
          1.2215688480986389,
          1.2210808868901042,
          1.2205878766711766,
          1.2200899452430554,
          1.219587220288313,
          1.219079829348954,
          1.2185678998046752,
          1.218051558851321,
          1.2175309334795428,
          1.2170061504536611,
          1.2164773362907335,
          1.2159446172398318,
          1.2154081192615278,
          1.2148679680075918,
          1.2143242888009058,
          1.2137772066155923,
          1.213226846057361,
          1.2126733313440752,
          1.2121167862865403,
          1.211557334269515,
          1.2109950982329467,
          1.2104302006534358,
          1.2098627635259247,
          1.2092929083456188,
          1.2087207560901378,
          1.2081464272018991,
          1.207570041570735,
          1.2069917185167451,
          1.206411576773384,
          1.205829734470788,
          1.205246309119339,
          1.204661417593469,
          1.2040751761157025,
          1.203487700240946,
          1.202899104841015,
          1.2023095040894043,
          1.201719011446308,
          1.2011277396438766,
          1.2005358006717282,
          1.1999433057626985,
          1.1993503653788418,
          1.1987570891976815,
          1.1981635860987023,
          1.1975699641500983,
          1.196976330595764,
          1.196382791842539,
          1.1957894534476992,
          1.1951964201067025,
          1.194603795641178,
          1.1940116829871732,
          1.193420184183645,
          1.192829400361206,
          1.1922394317311211,
          1.1916503775745508,
          1.191062336232051,
          1.1904754050933188,
          1.189889680587192,
          1.1893052581718973,
          1.188722232325547,
          1.188140696536891,
          1.1875607432963111,
          1.1869824640870723,
          1.186405949376815,
          1.185831288609302,
          1.185258570196411,
          1.1846878815103727,
          1.1841193088762612,
          1.1835529375647236,
          1.182988851784961,
          1.1824271346779522,
          1.1818678683099215,
          1.1813111336660516,
          1.180757010644437,
          1.1802055780502816,
          1.1796569135903363,
          1.1791110938675782,
          1.178568194376125,
          1.178028289496394,
          1.1774914524904945,
          1.176957755497855,
          1.1764272695310911,
          1.175900064472103,
          1.1753762090684063,
          1.1748557709296978,
          1.1743388165246489,
          1.1738254111779292,
          1.173315619067459,
          1.1728095032218886,
          1.1723071255183015,
          1.1718085466801451,
          1.1713138262753795,
          1.1708230227148535,
          1.1703361932508949,
          1.1698533939761224,
          1.1693746798224756,
          1.1689001045604563,
          1.1684297207985883,
          1.167963579983087,
          1.167501732397739,
          1.1670442271639938,
          1.1665911122412598,
          1.1661424344274085,
          1.1656982393594817,
          1.1652585715146,
          1.164823474211075,
          1.1643929896097165,
          1.16396715871534,
          1.1635460213784672,
          1.1631296162972218,
          1.1627179810194153,
          1.1623111519448226,
          1.161909164327647,
          1.161512052279169,
          1.1611198487705818,
          1.1607325856360031,
          1.1603502935756762,
          1.1599730021593389,
          1.1596007398297767,
          1.1592335339065458,
          1.1588714105898683,
          1.1585143949647,
          1.1581625110049614,
          1.1578157815779406,
          1.1574742284488548,
          1.1571378722855763,
          1.156806732663517,
          1.15648082807067,
          1.1561601759128086,
          1.155844792518835,
          1.155534693146284,
          1.155229891986971,
          1.154930402172791,
          1.1546362357816595,
          1.154347403843597,
          1.1540639163469508,
          1.1537857822447597,
          1.1535130094612482,
          1.1532456048984607,
          1.152983574443021,
          1.152726922973024,
          1.1524756543650536,
          1.152229771501324,
          1.1519892762769453,
          1.1517541696073064,
          1.1515244514355776,
          1.151300120740328,
          1.1510811755432555,
          1.1508676129170294,
          1.1506594289932384,
          1.1504566189704482,
          1.1502591771223625,
          1.1500670968060829,
          1.149880370470474,
          1.1496989896646184,
          1.1495229450463738,
          1.149352226391018,
          1.1491868225999853,
          1.1490267217096937,
          1.148871910900454,
          1.1487223765054646,
          1.1485781040198886,
          1.148439078110007,
          1.148305282622452,
          1.1481767005935126,
          1.1480533142585136,
          1.1479351050612638,
          1.147822053663573,
          1.1477141399548343,
          1.1476113430616686,
          1.1475136413576326,
          1.1474210124729831,
          1.1473334333045009,
          1.147250880025365,
          1.147173328095083,
          1.1471007522694734,
          1.147033126610686,
          1.1469704244972811,
          1.146912618634342,
          1.1468596810636358,
          1.1468115831738086,
          1.1467682957106209,
          1.1467297887872163,
          1.146696031894427,
          1.1466669939111025,
          1.1466426431144745,
          1.1466229471905451,
          1.1466078732445013,
          1.1465973878111482,
          1.1465914568653677,
          1.1465900458325915,
          1.146593119599295,
          1.146600642523501,
          1.1466125784452963,
          1.146628890697365,
          1.146649542115521,
          1.146674495049254,
          1.1467037113722776,
          1.1467371524930792,
          1.146774779365473,
          1.146816552499149,
          1.146862431970222,
          1.1469123774317735,
          1.1469663481243877,
          1.147024302886679,
          1.1470862001658078,
          1.147151998027988,
          1.1472216541689757,
          1.1472951259245434,
          1.147372370280941,
          1.1474533438853307,
          1.1475380030562063,
          1.1476263037937875,
          1.14771820179039
         ],
         "y": [
          0,
          0.016116825639955035,
          0.032156374323679515,
          0.04811637812555267,
          0.06399460111141217,
          0.07978883948867702,
          0.09549692174954028,
          0.11111670880725852,
          0.1266460941255692,
          0.14208300384126574,
          0.15742539687996132,
          0.17267126506507546,
          0.18781863322007547,
          0.20286555926400793,
          0.21781013430035576,
          0.2326504826992564,
          0.24738476217311925,
          0.2620111638456799,
          0.2765279123145301,
          0.29093326570716393,
          0.3052255157305799,
          0.31940298771448167,
          0.3334640406481185,
          0.3474070672108097,
          0.3612304937961964,
          0.37493278053026546,
          0.38851242128319113,
          0.40196794367504096,
          0.41529790907539216,
          0.42850091259690704,
          0.4415755830829155,
          0.4545205830890534,
          0.4673346088590077,
          0.4800163902944167,
          0.4925646909189796,
          0.504978307836824,
          0.517256071685186,
          0.5293968465814538,
          0.5413995300646318,
          0.5532630530312742,
          0.5649863796659481,
          0.5765685073662783,
          0.5880084666626297,
          0.5993053211324852,
          0.6104581673095741,
          0.6214661345878107,
          0.6323283851200978,
          0.6430441137120564,
          0.6536125477107377,
          0.6640329468883802,
          0.6743046033212658,
          0.6844268412637419,
          0.6943990170174635,
          0.7042205187959213,
          0.7138907665843122,
          0.7234092119948179,
          0.7327753381173514,
          0.7419886593658338,
          0.7510487213200625,
          0.7599551005632383,
          0.7687074045152077,
          0.7773052712614898,
          0.7857483693781483,
          0.7940363977525726,
          0.8021690854002332,
          0.8101461912774752,
          0.8179675040904137,
          0.8256328420999977,
          0.8331420529233045,
          0.8404950133311335,
          0.8476916290419603,
          0.8547318345123207,
          0.8616155927236859,
          0.8683428949658996,
          0.8749137606172359,
          0.8813282369211515,
          0.887586398759791,
          0.8936883484243174,
          0.8996342153821293,
          0.905424156041031,
          0.9110583535104264,
          0.9165370173595976,
          0.9218603833731344,
          0.9270287133035852,
          0.9320422946213922,
          0.9369014402621751,
          0.9416064883714336,
          0.9461578020467328,
          0.9505557690774352,
          0.9548008016820476,
          0.958893336243252,
          0.962833833040674,
          0.9666227759814704,
          0.9702606723287884,
          0.9737480524281696,
          0.9770854694319572,
          0.9802734990217792,
          0.9833127391291648,
          0.9862038096543646,
          0.988947352183434,
          0.9915440297036496,
          0.9939945263173148,
          0.99629954695403,
          0.998459817081476,
          1.0004760824147891,
          1.0023491086245804,
          1.0040796810436663,
          1.0056686043725738,
          1.0071167023838787,
          1.008424817625444,
          1.0095938111226173,
          1.0106245620794476,
          1.0115179675789876,
          1.012274942282734,
          1.0128964181292766,
          1.013383344032207,
          1.013736685577354,
          1.0139574247193996,
          1.0140465594779389,
          1.0140051036330406,
          1.0138340864203663,
          1.0135345522259098,
          1.0131075602804067,
          1.0125541843534829,
          1.0118755124475862,
          1.0110726464917696,
          1.0101467020353707,
          1.0090988079416536,
          1.0079301060814598,
          1.0066417510269288,
          1.005234909745339,
          1.0037107612931262,
          1.0020704965101284,
          1.000315317714116,
          0.9984464383956526,
          0.9964650829133466,
          0.9943724861895378,
          0.9921698934064735,
          0.9898585597030276,
          0.9874397498720042,
          0.9849147380580856,
          0.9822848074564664,
          0.979551250012225,
          0.9767153661204808,
          0.973778464327384,
          0.9707418610319842,
          0.9676068801890289,
          0.964374853012728,
          0.9610471176815434,
          0.9576250190440349,
          0.9541099083258168,
          0.9505031428376658,
          0.946806085684819,
          0.9430201054775132,
          0.9391465760428006,
          0.9351868761376864,
          0.9311423891636272,
          0.9270145028824316,
          0.9228046091336032,
          0.9185141035531648,
          0.9141443852940032,
          0.9096968567477716,
          0.9051729232683884,
          0.9005739928971674,
          0.8959014760896213,
          0.8911567854439664,
          0.8863413354313703,
          0.8814565421279723,
          0.8765038229487179,
          0.8714845963830298,
          0.866400281732361,
          0.861252298849652,
          0.8560420678807279,
          0.850771009007669,
          0.8454405421941806,
          0.8400520869329959,
          0.8346070619953385,
          0.8291068851824746,
          0.8235529730793834,
          0.8179467408105727,
          0.8122896017980663,
          0.806582967521591,
          0.8008282472809856,
          0.795026847960862,
          0.7891801737975379,
          0.7832896261482698,
          0.7773566032628065,
          0.7713825000572838,
          0.76536870789049,
          0.759316614342516,
          0.7532276029958149,
          0.7471030532186922,
          0.740944339951241,
          0.7347528334937491,
          0.7285298992975914,
          0.7222768977586256,
          0.7159951840131122,
          0.7096861077361712,
          0.7033510129427945,
          0.69699123779143,
          0.6906081143901498,
          0.6842029686054205,
          0.6777771198734852,
          0.6713318810143751,
          0.6648685580485607,
          0.6583884500162545,
          0.6518928487993789,
          0.6453830389462085,
          0.6388602974986979,
          0.632325893822505,
          0.625781089439719,
          0.6192271378643028,
          0.6126652844402551,
          0.6060967661825047,
          0.5995228116205389,
          0.5929446406447767,
          0.5863634643556919,
          0.5797804849156878,
          0.5731968954037352,
          0.5666138796727732,
          0.560032612209877,
          0.5534542579991997,
          0.5468799723876854,
          0.5403109009535614,
          0.5337481793776081,
          0.5271929333172087,
          0.5206462782831792,
          0.5141093195193793,
          0.5075831518851055,
          0.5010688597402617,
          0.494567516833312,
          0.4880801861920065,
          0.48160792001688585,
          0.4751517595775562,
          0.4687127351117336,
          0.4622918657270556,
          0.4558901593056515,
          0.44950861241147255,
          0.4431482102003728,
          0.4368099263329367,
          0.4304947228900491,
          0.42420355029119633,
          0.417937347215499,
          0.41169704052546224,
          0.4054835451934405,
          0.3992977642308071,
          0.3931405886198189,
          0.3870128972481696,
          0.380915556846221,
          0.3748494219269026,
          0.3688153347282696,
          0.3628141251587079,
          0.35684661074477747,
          0.35091359658168014,
          0.34501587528634176,
          0.339154226953097,
          0.3333294191119616,
          0.3275422066894835,
          0.3217933319721561,
          0.31608352457238226,
          0.31041350139697466,
          0.30478396661817647,
          0.2991956116471918,
          0.2936491151102069,
          0.2881451428268897,
          0.28268434779135093,
          0.27726737015555036,
          0.27189483721513424,
          0.2665673633976849,
          0.26128555025336725,
          0.2560499864479556,
          0.25086124775822066,
          0.24571989706966235,
          0.2406264843765692,
          0.23558154678438517,
          0.23058560851436727,
          0.22563918091051288,
          0.2207427624487404,
          0.215896838748302,
          0.2111018825854095,
          0.20635835390905488,
          0.2016666998590021,
          0.19702735478593436,
          0.1924407402737331,
          0.18790726516386896,
          0.18342732558188507,
          0.17900130496594907,
          0.17462957409745472,
          0.1703124911336509,
          0.1660504016422757,
          0.1618436386381752,
          0.1576925226218822,
          0.1535973616201362,
          0.14955845122831862,
          0.14557607465478434,
          0.14165050276706218,
          0.13778199413990658,
          0.13397079510517332,
          0.13021713980349808,
          0.12652125023775437,
          0.12288333632826606,
          0.11930359596975262,
          0.1157822150899822,
          0.11231936771010884,
          0.1089152160066708,
          0.10556991037522348,
          0.10228358949558576,
          0.09905638039867352,
          0.0958883985348965,
          0.09277974784409408,
          0.08973052082698474,
          0.0867407986181063,
          0.0838106510602196,
          0.08094013678015388,
          0.07812930326606549,
          0.0753781869460895,
          0.07268681326835347,
          0.0700551967823348,
          0.06748334122153143,
          0.06497123958742282,
          0.06251887423469699,
          0.06012621695771639,
          0.057793229078199976,
          0.05551986153409258,
          0.05330605496960064,
          0.05115173982636628,
          0.049056836435754786,
          0.04702125511223068,
          0.0450448962477987,
          0.04312765040747993,
          0.04126939842580405,
          0.039470011504287,
          0.03772935130987149,
          0.036047270074306303,
          0.03442361069443556,
          0.032858206833377146,
          0.03135088302256139,
          0.029901454764608315,
          0.02850972863701612,
          0.027175502396636183,
          0.025898565084912065,
          0.02467869713385462,
          0.023515670472728956,
          0.022409248635432477,
          0.021359186868532554,
          0.020365232239945907,
          0.019427123748231245,
          0.018544592432471307,
          0.01771736148272196,
          0.016945146351001972,
          0.0162276548628002,
          0.01556458732907623,
          0.014955636658730733,
          0.0144004884715212,
          0.01389882121139957,
          0.013450306260248068,
          0.013054608051990655,
          0.012711384187054642,
          0.012420285547161736,
          0.012180956410423494,
          0.011993034566719183,
          0.011856151433332796,
          0.011769932170826336,
          0.01173399579912715,
          0.011747955313807013,
          0.011811417802529369,
          0.011923984561644951,
          0.012085251212910653,
          0.01229480782031278,
          0.012552239006970556,
          0.012857124072100046,
          0.01320903710801602,
          0.013607547117151064,
          0.014052218129070091,
          0.014542609317460877,
          0.015078275117078044,
          0.01565876534062044,
          0.01628362529552324,
          0.016952395900641404,
          0.017664613802807094,
          0.018419811493240013,
          0.019217517423790687,
          0.020057256122998524,
          0.020938548311943084,
          0.02186091101987242,
          0.02282385769958617,
          0.02382689834255758,
          0.024869539593774304,
          0.02595128486627968,
          0.027071634455396787,
          0.028230085652617087,
          0.0294261328591362,
          0.03065926769901861,
          0.03192897913197401,
          0.033234753565729414,
          0.03457607496797771,
          0.03595242497788814,
          0.03736328301716152,
          0.03880812640061268,
          0.040286430446265536,
          0.041797668584944575,
          0.04334131246934633,
          0.04491683208257616,
          0.046523695846134666,
          0.04816137072733914,
          0.04982932234616405,
          0.05152701508148808,
          0.05325391217673156,
          0.05500947584486984,
          0.05679316737281134,
          0.05860444722512293,
          0.060442775147091954,
          0.062307610267110985,
          0.06419841119837055,
          0.06611463613985027,
          0.06805574297659217,
          0.0700211893792469,
          0.07201043290287931,
          0.07402293108502034,
          0.07605814154295717,
          0.07811552207024541,
          0.08019453073243576,
          0.08229462596200374,
          0.08441526665246873,
          0.0865559122516964,
          0.08871602285436966,
          0.090895059293622,
          0.09309248323182089,
          0.0953077572504914,
          0.09754034493937386,
          0.09978971098460128,
          0.10205532125599276,
          0.1043366428934514,
          0.10663314439245704,
          0.10894429568865031,
          0.11126956824149371,
          0.11360843511700736,
          0.1159603710695694,
          0.1183248526227726,
          0.1207013581493333,
          0.12308936795004236,
          0.12548836433175384,
          0.12789783168440488,
          0.1303172565570575,
          0.132746127732962,
          0.1351839363036298,
          0.13763017574191505,
          0.1400843419740984,
          0.1425459334509651,
          0.14501445121787707,
          0.14748939898383132,
          0.14997028318950004,
          0.15245661307425085,
          0.15494790074213943,
          0.15744366122687442,
          0.1599434125557488,
          0.16244667581253378,
          0.1649529751993355,
          0.16746183809740672,
          0.16997279512691493,
          0.17248538020566284,
          0.17499913060675726,
          0.1775135870152279,
          0.1800282935835903,
          0.1825427979863538,
          0.1850566514734732,
          0.18756940892273935,
          0.19008062889111305,
          0.1925898736649956,
          0.19509670930944015,
          0.19760070571630095,
          0.20010143665131855,
          0.2025984798001462,
          0.20509141681331053,
          0.2075798333501127,
          0.21006331912146797,
          0.21254146793168255,
          0.2150138777191733,
          0.21748015059612552,
          0.2199398928870951,
          0.22239271516655384,
          0.22483823229537825,
          0.2272760634562878,
          0.22970583218822935,
          0.2321271664197139,
          0.23453969850110648,
          0.23694306523586975,
          0.23933690791076817,
          0.24172087232503003,
          0.24409460881847575,
          0.24645777229861168,
          0.24881002226669305,
          0.2511510228427625,
          0.253480442789663,
          0.25579795553603313,
          0.2581032391982867,
          0.26039597660157926,
          0.26267585529976956,
          0.2649425675943759,
          0.26719581055253494,
          0.26943528602396705,
          0.27166070065695036,
          0.27387176591331297,
          0.2760681980824435,
          0.27824971829432876,
          0.28041605253162294,
          0.282566931640751,
          0.28470209134205715,
          0.2868212722389984,
          0.2889242198263931,
          0.2910106844977291,
          0.2930804215515358,
          0.2951331911968301,
          0.29716875855763836,
          0.29918689367660345,
          0.30118737151768377,
          0.3031699719679475,
          0.30513447983847347,
          0.3070806848643611,
          0.30900838170385975,
          0.3109173699366232,
          0.3128074540610951,
          0.3146784434910356,
          0.3165301525511932,
          0.3183624004721326,
          0.3201750113842234,
          0.32196781431079813,
          0.32374064316048856,
          0.3254933367187459,
          0.3272257386385546,
          0.328937697430347,
          0.3306290664511268,
          0.3322997038928098,
          0.3339494727697897,
          0.3355782409057377,
          0.3371858809196445,
          0.33877227021111167,
          0.34033729094490295,
          0.3418808300347624,
          0.34340277912650874,
          0.3449030345804153,
          0.34638149745288177,
          0.34783807347741025,
          0.34927267304489107,
          0.3506852111832094,
          0.35207560753618117,
          0.3534437863418265,
          0.35478967640999093,
          0.35611321109932237,
          0.35741432829361414,
          0.3586929703775224,
          0.35994908421166727,
          0.361182621107128,
          0.3623935367993392,
          0.36358179142140046,
          0.3647473494768065,
          0.3658901798116076,
          0.3670102555860113,
          0.3681075542454322,
          0.3691820574910019,
          0.3702337512495477,
          0.37126262564304785,
          0.3722686749575764,
          0.373251897611744,
          0.374212296124646,
          0.375149877083327,
          0.376064651109771,
          0.3769566328274281,
          0.3778258408272853,
          0.3786722976334932,
          0.3794960296685569,
          0.3802970672181007,
          0.3810754443952175,
          0.3818311991044108,
          0.38256437300514046,
          0.38327501147498066,
          0.38396316357240096,
          0.38462888199917855,
          0.38527222306245257,
          0.38589324663642977,
          0.3864920161237506,
          0.38706859841652586,
          0.3876230638570529,
          0.38815548619822265,
          0.3886659425636233,
          0.38915451340735474,
          0.38962128247355976,
          0.3900663367556828,
          0.390489766455466,
          0.39089166494169064,
          0.3912721287086754,
          0.3916312573345385,
          0.3919691534392348,
          0.39228592264237616,
          0.39258167352084467,
          0.39285651756620793,
          0.3931105691419459,
          0.3933439454404971,
          0.39355676644013526,
          0.3937491548616843,
          0.39392123612508023,
          0.39407313830578977,
          0.39420499209109544,
          0.3943169307362529,
          0.3944090900205332,
          0.3944816082031565,
          0.3945346259791257,
          0.3945682864349702,
          0.3945827350044077,
          0.3945781194239319,
          0.3945545896883357,
          0.3945122980061782,
          0.3944513987552031,
          0.3943720484377179,
          0.39427440563594174,
          0.3941586309673296,
          0.3940248870398822,
          0.3938733384074488,
          0.3937041515250314,
          0.3935174947040977,
          0.39331353806791186,
          0.3930924535068901,
          0.3928544146339889,
          0.3925995967401336,
          0.3923281767496965,
          0.3920403331760289,
          0.3917362460770579,
          0.3914160970109537,
          0.3910800689918744,
          0.3907283464457977,
          0.3903611151664436,
          0.3899785622712989,
          0.38958087615774695,
          0.38916824645931297,
          0.388740864002029,
          0.3882989207609278,
          0.387842609816671,
          0.38737212531231785,
          0.3868876624102434,
          0.38638941724921033,
          0.38587758690160145,
          0.3853523693308206,
          0.3848139633488671,
          0.384262568574089,
          0.383698385389124,
          0.3831216148990323,
          0.3825324588896265,
          0.3819311197860068,
          0.38131780061130616,
          0.3806927049456504,
          0.38005603688534007,
          0.3794080010022596,
          0.37874880230351815,
          0.3780786461913288,
          0.377397738423131,
          0.3767062850719613,
          0.3760044924870768,
          0.3752925672548389,
          0.37457071615985954,
          0.3738391461464158,
          0.3730980642801383,
          0.37234767770997806,
          0.3715881936304546,
          0.3708198192441928,
          0.3700427617247505,
          0.3692572281797426,
          0.3684634256142654,
          0.36766156089462526,
          0.36685184071237625,
          0.3660344715486703,
          0.365209659638924,
          0.3643776109378062,
          0.36353853108454887,
          0.3626926253685874,
          0.3618400986955307,
          0.3609811555534682,
          0.3601159999796131,
          0.359244835527289,
          0.3583678652332614,
          0.35748529158541636,
          0.3565973164907907,
          0.35570414124395755,
          0.3548059664957671,
          0.35390299222244864,
          0.35299541769507425,
          0.35208344144938875,
          0.35116726125600617,
          0.35024707409097733,
          0.34932307610673013,
          0.3483954626033835,
          0.34746442800044003,
          0.34653016580885704,
          0.34559286860349836,
          0.3446527279959705,
          0.34370993460784294,
          0.3427646780442558,
          0.34181714686791576,
          0.3408675285734817,
          0.33991600956234375,
          0.33896277511779327,
          0.33800800938058845,
          0.33705189532491664,
          0.33609461473475133,
          0.33513634818060956,
          0.33417727499670735,
          0.33321757325851575,
          0.33225741976071743,
          0.33129698999556534,
          0.3303364581316449,
          0.3293759969930376,
          0.32841577803888966,
          0.32745597134338555,
          0.3264967455761242,
          0.32553826798290253,
          0.32458070436690284,
          0.323624219070287,
          0.32266897495619457,
          0.3217151333911484,
          0.32076285422786543,
          0.31981229578847226,
          0.318863614848127,
          0.3179169666190467,
          0.31697250473493854,
          0.316030381235836,
          0.3150907465533396,
          0.3141537494962609,
          0.3132195372366689,
          0.3122882552963393,
          0.31136004753360574,
          0.3104350561306106,
          0.309513421580957,
          0.30859528267775943,
          0.30768077650209164,
          0.306770038411833,
          0.30586320203090933,
          0.30496039923892965,
          0.30406176016121544,
          0.30316741315922235,
          0.30227748482135375,
          0.3013920999541618,
          0.30051138157393803,
          0.2996354508986903,
          0.2987644273405034,
          0.29789842849828385,
          0.29703757015088617,
          0.2961819662506187,
          0.29533172891712706,
          0.29448696843165384,
          0.29364779323167345,
          0.29281430990589713,
          0.29198662318964996,
          0.2911648359606156,
          0.2903490492349458,
          0.2895393621637356,
          0.2887358720298584,
          0.28793867424516206,
          0.2871478623480205,
          0.2863635280012405,
          0.2855857609903218,
          0.2848146492220652,
          0.2840502787235292,
          0.28329273364133195,
          0.2825420962412935,
          0.2817984469084197,
          0.2810618641472219,
          0.2803324245823718,
          0.27961020295968647,
          0.27889527214744375,
          0.27818770313802277,
          0.27748756504986727,
          0.2767949251297699,
          0.27610984875547384,
          0.27543239943858794,
          0.27476263882781415,
          0.27410062671248303,
          0.2734464210263945,
          0.27280007785196086,
          0.2721616514246491,
          0.27153119413771937,
          0.27090875654725577,
          0.2702943873774871,
          0.26968813352639476,
          0.26909004007160214,
          0.26850015027654556,
          0.2679185055969214,
          0.26734514568740586,
          0.26678010840864563,
          0.26622342983451436,
          0.2656751442596333,
          0.26513528420715055,
          0.2646038804367776,
          0.26408096195307884,
          0.26356655601400963,
          0.26306068813970135,
          0.26256338212148866,
          0.26207466003117547,
          0.26159454223053646,
          0.2611230473810509,
          0.2606601924538644,
          0.2602059927399754,
          0.2597604618606432,
          0.2593236117780135,
          0.25889545280595755,
          0.25847599362112217,
          0.2580652412741866,
          0.2576632012013217,
          0.2572698772358494,
          0.2568852716200978,
          0.25650938501744835,
          0.2561422165245715,
          0.25578376368384714,
          0.2554340224959668,
          0.2550929874327124,
          0.25476065144990956,
          0.2544370060005509,
          0.2541220410480855,
          0.2538157450798716,
          0.253518105120788,
          0.2532291067470013,
          0.2529487340998842,
          0.25267696990008276,
          0.2524137954617272,
          0.2521591907067839,
          0.2519131341795442,
          0.2516756030612469,
          0.25144657318482994,
          0.25122601904980846,
          0.25101391383727517,
          0.2508102294250198,
          0.2506149364027629,
          0.25042800408750177,
          0.2502494005389643,
          0.25007909257516636,
          0.2499170457880708,
          0.24976322455934255,
          0.24961759207619807,
          0.2494801103473439,
          0.2493507402190024,
          0.24922944139101944,
          0.24911617243305195,
          0.2490108908008311,
          0.24891355285249772,
          0.2488241138650059,
          0.2487425280505933,
          0.24866874857331145,
          0.2486027275656159,
          0.2485444161450107,
          0.2484937644307442,
          0.24845072156055356,
          0.2484152357074537,
          0.24838725409656737,
          0.24836672302199408,
          0.24835358786371303,
          0.24834779310451793,
          0.2483492823469796,
          0.248357998330434,
          0.24837388294799156,
          0.24839687726356507,
          0.24842692152891288,
          0.24846395520069411,
          0.24850791695753296,
          0.24855874471708872,
          0.2486163756531284,
          0.24868074621259928,
          0.2487517921326979,
          0.24882944845793248,
          0.248913649557176,
          0.24900432914070697,
          0.24910142027723467,
          0.24920485541090603,
          0.24931456637829144,
          0.2494304844253464,
          0.2495525402243461,
          0.2496806638907906,
          0.24981478500027696,
          0.2499548326053365,
          0.2501007352522336,
          0.25025242099772416,
          0.25040981742577006,
          0.2505728516642081,
          0.25074145040136986,
          0.25091553990265,
          0.25109504602702126,
          0.2512798942434927,
          0.25147000964750876,
          0.25166531697728745,
          0.2518657406300943,
          0.2520712046784502,
          0.25228163288627004,
          0.2524969487249316,
          0.25271707538926974,
          0.25294193581349567,
          0.25317145268703833,
          0.25340554847030544,
          0.25364414541036223,
          0.253887165556526,
          0.25413453077587395,
          0.25438616276866177,
          0.25464198308365255,
          0.2549019131333518,
          0.25516587420914844,
          0.25543378749635837,
          0.25570557408916994,
          0.2559811550054885,
          0.25626045120167823,
          0.25654338358720014,
          0.25682987303914356,
          0.2571198404166498,
          0.2574132065752266,
          0.2577098923809501,
          0.25800981872455525,
          0.25831290653541056,
          0.25861907679537666,
          0.25892825055254765,
          0.2592403489348723,
          0.2595552931636548,
          0.25987300456693313,
          0.26019340459273355,
          0.2605164148221999,
          0.2608419569825962,
          0.2611699529601819,
          0.26150032481295693,
          0.2618329947832772,
          0.2621678853103379,
          0.26250491904252404,
          0.2628440188496267,
          0.2631851078349243,
          0.2635281093471273,
          0.2638729469921855,
          0.2642195446449571,
          0.26456782646073834,
          0.2649177168866518,
          0.2652691406728948,
          0.2656220228838445,
          0.26597628890901986,
          0.26633186447390006,
          0.2666886756505979,
          0.26704664886838725,
          0.26740571092408494,
          0.26776578899228476,
          0.2681268106354444,
          0.2684887038138233,
          0.2688513968952723,
          0.26921481866487323,
          0.2695788983344281,
          0.2699435655517982,
          0.27030875041009195,
          0.27067438345670036,
          0.27104039570218147,
          0.27140671862899185,
          0.271773284200065,
          0.272140024867237,
          0.2725068735795186,
          0.2728737637912133,
          0.2732406294698817,
          0.2736074051041515,
          0.27397402571137297,
          0.27434042684512006,
          0.2747065446025364,
          0.2750723156315271,
          0.275437677137795,
          0.27580256689172206,
          0.27616692323509634,
          0.27653068508768347,
          0.276893791953643,
          0.27725618392779067,
          0.27761780170170536,
          0.27797858656968105,
          0.2783384804345252,
          0.2786974258132019,
          0.2790553658423216,
          0.2794122442834759,
          0.27976800552841996,
          0.2801225946041006,
          0.28047595717753143,
          0.28082803956051544,
          0.2811787887142151,
          0.28152815225357014,
          0.28187607845156404,
          0.2822225162433391,
          0.2825674152301609,
          0.2829107256832317,
          0.2832523985473555,
          0.28359238544445226,
          0.28393063867692386,
          0.2842671112308727,
          0.2846017567791715,
          0.2849345296843861,
          0.28526538500155335,
          0.28559427848081126,
          0.2859211665698856,
          0.2862460064164311,
          0.2865687558702299,
          0.2868893734852461,
          0.2872078185215389,
          0.2875240509470339,
          0.2878380314391538,
          0.2881497213863094,
          0.28845908288925154,
          0.28876607876228494
         ]
        }
       ],
       "layout": {
        "autosize": false,
        "height": 700,
        "margin": {
         "b": 200,
         "l": 200,
         "r": 200,
         "t": 200
        },
        "showlegend": false,
        "template": {
         "data": {
          "bar": [
           {
            "error_x": {
             "color": "#2a3f5f"
            },
            "error_y": {
             "color": "#2a3f5f"
            },
            "marker": {
             "line": {
              "color": "#E5ECF6",
              "width": 0.5
             },
             "pattern": {
              "fillmode": "overlay",
              "size": 10,
              "solidity": 0.2
             }
            },
            "type": "bar"
           }
          ],
          "barpolar": [
           {
            "marker": {
             "line": {
              "color": "#E5ECF6",
              "width": 0.5
             },
             "pattern": {
              "fillmode": "overlay",
              "size": 10,
              "solidity": 0.2
             }
            },
            "type": "barpolar"
           }
          ],
          "carpet": [
           {
            "aaxis": {
             "endlinecolor": "#2a3f5f",
             "gridcolor": "white",
             "linecolor": "white",
             "minorgridcolor": "white",
             "startlinecolor": "#2a3f5f"
            },
            "baxis": {
             "endlinecolor": "#2a3f5f",
             "gridcolor": "white",
             "linecolor": "white",
             "minorgridcolor": "white",
             "startlinecolor": "#2a3f5f"
            },
            "type": "carpet"
           }
          ],
          "choropleth": [
           {
            "colorbar": {
             "outlinewidth": 0,
             "ticks": ""
            },
            "type": "choropleth"
           }
          ],
          "contour": [
           {
            "colorbar": {
             "outlinewidth": 0,
             "ticks": ""
            },
            "colorscale": [
             [
              0,
              "#0d0887"
             ],
             [
              0.1111111111111111,
              "#46039f"
             ],
             [
              0.2222222222222222,
              "#7201a8"
             ],
             [
              0.3333333333333333,
              "#9c179e"
             ],
             [
              0.4444444444444444,
              "#bd3786"
             ],
             [
              0.5555555555555556,
              "#d8576b"
             ],
             [
              0.6666666666666666,
              "#ed7953"
             ],
             [
              0.7777777777777778,
              "#fb9f3a"
             ],
             [
              0.8888888888888888,
              "#fdca26"
             ],
             [
              1,
              "#f0f921"
             ]
            ],
            "type": "contour"
           }
          ],
          "contourcarpet": [
           {
            "colorbar": {
             "outlinewidth": 0,
             "ticks": ""
            },
            "type": "contourcarpet"
           }
          ],
          "heatmap": [
           {
            "colorbar": {
             "outlinewidth": 0,
             "ticks": ""
            },
            "colorscale": [
             [
              0,
              "#0d0887"
             ],
             [
              0.1111111111111111,
              "#46039f"
             ],
             [
              0.2222222222222222,
              "#7201a8"
             ],
             [
              0.3333333333333333,
              "#9c179e"
             ],
             [
              0.4444444444444444,
              "#bd3786"
             ],
             [
              0.5555555555555556,
              "#d8576b"
             ],
             [
              0.6666666666666666,
              "#ed7953"
             ],
             [
              0.7777777777777778,
              "#fb9f3a"
             ],
             [
              0.8888888888888888,
              "#fdca26"
             ],
             [
              1,
              "#f0f921"
             ]
            ],
            "type": "heatmap"
           }
          ],
          "heatmapgl": [
           {
            "colorbar": {
             "outlinewidth": 0,
             "ticks": ""
            },
            "colorscale": [
             [
              0,
              "#0d0887"
             ],
             [
              0.1111111111111111,
              "#46039f"
             ],
             [
              0.2222222222222222,
              "#7201a8"
             ],
             [
              0.3333333333333333,
              "#9c179e"
             ],
             [
              0.4444444444444444,
              "#bd3786"
             ],
             [
              0.5555555555555556,
              "#d8576b"
             ],
             [
              0.6666666666666666,
              "#ed7953"
             ],
             [
              0.7777777777777778,
              "#fb9f3a"
             ],
             [
              0.8888888888888888,
              "#fdca26"
             ],
             [
              1,
              "#f0f921"
             ]
            ],
            "type": "heatmapgl"
           }
          ],
          "histogram": [
           {
            "marker": {
             "pattern": {
              "fillmode": "overlay",
              "size": 10,
              "solidity": 0.2
             }
            },
            "type": "histogram"
           }
          ],
          "histogram2d": [
           {
            "colorbar": {
             "outlinewidth": 0,
             "ticks": ""
            },
            "colorscale": [
             [
              0,
              "#0d0887"
             ],
             [
              0.1111111111111111,
              "#46039f"
             ],
             [
              0.2222222222222222,
              "#7201a8"
             ],
             [
              0.3333333333333333,
              "#9c179e"
             ],
             [
              0.4444444444444444,
              "#bd3786"
             ],
             [
              0.5555555555555556,
              "#d8576b"
             ],
             [
              0.6666666666666666,
              "#ed7953"
             ],
             [
              0.7777777777777778,
              "#fb9f3a"
             ],
             [
              0.8888888888888888,
              "#fdca26"
             ],
             [
              1,
              "#f0f921"
             ]
            ],
            "type": "histogram2d"
           }
          ],
          "histogram2dcontour": [
           {
            "colorbar": {
             "outlinewidth": 0,
             "ticks": ""
            },
            "colorscale": [
             [
              0,
              "#0d0887"
             ],
             [
              0.1111111111111111,
              "#46039f"
             ],
             [
              0.2222222222222222,
              "#7201a8"
             ],
             [
              0.3333333333333333,
              "#9c179e"
             ],
             [
              0.4444444444444444,
              "#bd3786"
             ],
             [
              0.5555555555555556,
              "#d8576b"
             ],
             [
              0.6666666666666666,
              "#ed7953"
             ],
             [
              0.7777777777777778,
              "#fb9f3a"
             ],
             [
              0.8888888888888888,
              "#fdca26"
             ],
             [
              1,
              "#f0f921"
             ]
            ],
            "type": "histogram2dcontour"
           }
          ],
          "mesh3d": [
           {
            "colorbar": {
             "outlinewidth": 0,
             "ticks": ""
            },
            "type": "mesh3d"
           }
          ],
          "parcoords": [
           {
            "line": {
             "colorbar": {
              "outlinewidth": 0,
              "ticks": ""
             }
            },
            "type": "parcoords"
           }
          ],
          "pie": [
           {
            "automargin": true,
            "type": "pie"
           }
          ],
          "scatter": [
           {
            "fillpattern": {
             "fillmode": "overlay",
             "size": 10,
             "solidity": 0.2
            },
            "type": "scatter"
           }
          ],
          "scatter3d": [
           {
            "line": {
             "colorbar": {
              "outlinewidth": 0,
              "ticks": ""
             }
            },
            "marker": {
             "colorbar": {
              "outlinewidth": 0,
              "ticks": ""
             }
            },
            "type": "scatter3d"
           }
          ],
          "scattercarpet": [
           {
            "marker": {
             "colorbar": {
              "outlinewidth": 0,
              "ticks": ""
             }
            },
            "type": "scattercarpet"
           }
          ],
          "scattergeo": [
           {
            "marker": {
             "colorbar": {
              "outlinewidth": 0,
              "ticks": ""
             }
            },
            "type": "scattergeo"
           }
          ],
          "scattergl": [
           {
            "marker": {
             "colorbar": {
              "outlinewidth": 0,
              "ticks": ""
             }
            },
            "type": "scattergl"
           }
          ],
          "scattermapbox": [
           {
            "marker": {
             "colorbar": {
              "outlinewidth": 0,
              "ticks": ""
             }
            },
            "type": "scattermapbox"
           }
          ],
          "scatterpolar": [
           {
            "marker": {
             "colorbar": {
              "outlinewidth": 0,
              "ticks": ""
             }
            },
            "type": "scatterpolar"
           }
          ],
          "scatterpolargl": [
           {
            "marker": {
             "colorbar": {
              "outlinewidth": 0,
              "ticks": ""
             }
            },
            "type": "scatterpolargl"
           }
          ],
          "scatterternary": [
           {
            "marker": {
             "colorbar": {
              "outlinewidth": 0,
              "ticks": ""
             }
            },
            "type": "scatterternary"
           }
          ],
          "surface": [
           {
            "colorbar": {
             "outlinewidth": 0,
             "ticks": ""
            },
            "colorscale": [
             [
              0,
              "#0d0887"
             ],
             [
              0.1111111111111111,
              "#46039f"
             ],
             [
              0.2222222222222222,
              "#7201a8"
             ],
             [
              0.3333333333333333,
              "#9c179e"
             ],
             [
              0.4444444444444444,
              "#bd3786"
             ],
             [
              0.5555555555555556,
              "#d8576b"
             ],
             [
              0.6666666666666666,
              "#ed7953"
             ],
             [
              0.7777777777777778,
              "#fb9f3a"
             ],
             [
              0.8888888888888888,
              "#fdca26"
             ],
             [
              1,
              "#f0f921"
             ]
            ],
            "type": "surface"
           }
          ],
          "table": [
           {
            "cells": {
             "fill": {
              "color": "#EBF0F8"
             },
             "line": {
              "color": "white"
             }
            },
            "header": {
             "fill": {
              "color": "#C8D4E3"
             },
             "line": {
              "color": "white"
             }
            },
            "type": "table"
           }
          ]
         },
         "layout": {
          "annotationdefaults": {
           "arrowcolor": "#2a3f5f",
           "arrowhead": 0,
           "arrowwidth": 1
          },
          "autotypenumbers": "strict",
          "coloraxis": {
           "colorbar": {
            "outlinewidth": 0,
            "ticks": ""
           }
          },
          "colorscale": {
           "diverging": [
            [
             0,
             "#8e0152"
            ],
            [
             0.1,
             "#c51b7d"
            ],
            [
             0.2,
             "#de77ae"
            ],
            [
             0.3,
             "#f1b6da"
            ],
            [
             0.4,
             "#fde0ef"
            ],
            [
             0.5,
             "#f7f7f7"
            ],
            [
             0.6,
             "#e6f5d0"
            ],
            [
             0.7,
             "#b8e186"
            ],
            [
             0.8,
             "#7fbc41"
            ],
            [
             0.9,
             "#4d9221"
            ],
            [
             1,
             "#276419"
            ]
           ],
           "sequential": [
            [
             0,
             "#0d0887"
            ],
            [
             0.1111111111111111,
             "#46039f"
            ],
            [
             0.2222222222222222,
             "#7201a8"
            ],
            [
             0.3333333333333333,
             "#9c179e"
            ],
            [
             0.4444444444444444,
             "#bd3786"
            ],
            [
             0.5555555555555556,
             "#d8576b"
            ],
            [
             0.6666666666666666,
             "#ed7953"
            ],
            [
             0.7777777777777778,
             "#fb9f3a"
            ],
            [
             0.8888888888888888,
             "#fdca26"
            ],
            [
             1,
             "#f0f921"
            ]
           ],
           "sequentialminus": [
            [
             0,
             "#0d0887"
            ],
            [
             0.1111111111111111,
             "#46039f"
            ],
            [
             0.2222222222222222,
             "#7201a8"
            ],
            [
             0.3333333333333333,
             "#9c179e"
            ],
            [
             0.4444444444444444,
             "#bd3786"
            ],
            [
             0.5555555555555556,
             "#d8576b"
            ],
            [
             0.6666666666666666,
             "#ed7953"
            ],
            [
             0.7777777777777778,
             "#fb9f3a"
            ],
            [
             0.8888888888888888,
             "#fdca26"
            ],
            [
             1,
             "#f0f921"
            ]
           ]
          },
          "colorway": [
           "#636efa",
           "#EF553B",
           "#00cc96",
           "#ab63fa",
           "#FFA15A",
           "#19d3f3",
           "#FF6692",
           "#B6E880",
           "#FF97FF",
           "#FECB52"
          ],
          "font": {
           "color": "#2a3f5f"
          },
          "geo": {
           "bgcolor": "white",
           "lakecolor": "white",
           "landcolor": "#E5ECF6",
           "showlakes": true,
           "showland": true,
           "subunitcolor": "white"
          },
          "hoverlabel": {
           "align": "left"
          },
          "hovermode": "closest",
          "mapbox": {
           "style": "light"
          },
          "paper_bgcolor": "white",
          "plot_bgcolor": "#E5ECF6",
          "polar": {
           "angularaxis": {
            "gridcolor": "white",
            "linecolor": "white",
            "ticks": ""
           },
           "bgcolor": "#E5ECF6",
           "radialaxis": {
            "gridcolor": "white",
            "linecolor": "white",
            "ticks": ""
           }
          },
          "scene": {
           "xaxis": {
            "backgroundcolor": "#E5ECF6",
            "gridcolor": "white",
            "gridwidth": 2,
            "linecolor": "white",
            "showbackground": true,
            "ticks": "",
            "zerolinecolor": "white"
           },
           "yaxis": {
            "backgroundcolor": "#E5ECF6",
            "gridcolor": "white",
            "gridwidth": 2,
            "linecolor": "white",
            "showbackground": true,
            "ticks": "",
            "zerolinecolor": "white"
           },
           "zaxis": {
            "backgroundcolor": "#E5ECF6",
            "gridcolor": "white",
            "gridwidth": 2,
            "linecolor": "white",
            "showbackground": true,
            "ticks": "",
            "zerolinecolor": "white"
           }
          },
          "shapedefaults": {
           "line": {
            "color": "#2a3f5f"
           }
          },
          "ternary": {
           "aaxis": {
            "gridcolor": "white",
            "linecolor": "white",
            "ticks": ""
           },
           "baxis": {
            "gridcolor": "white",
            "linecolor": "white",
            "ticks": ""
           },
           "bgcolor": "#E5ECF6",
           "caxis": {
            "gridcolor": "white",
            "linecolor": "white",
            "ticks": ""
           }
          },
          "title": {
           "x": 0.05
          },
          "xaxis": {
           "automargin": true,
           "gridcolor": "white",
           "linecolor": "white",
           "ticks": "",
           "title": {
            "standoff": 15
           },
           "zerolinecolor": "white",
           "zerolinewidth": 2
          },
          "yaxis": {
           "automargin": true,
           "gridcolor": "white",
           "linecolor": "white",
           "ticks": "",
           "title": {
            "standoff": 15
           },
           "zerolinecolor": "white",
           "zerolinewidth": 2
          }
         }
        },
        "width": 700,
        "xaxis": {
         "autorange": false,
         "linecolor": "black",
         "range": [
          0,
          1.6
         ],
         "showgrid": false,
         "showticklabels": false,
         "ticks": "",
         "zeroline": false
        },
        "yaxis": {
         "autorange": false,
         "linecolor": "black",
         "range": [
          0,
          1.6
         ],
         "showgrid": false,
         "showticklabels": false,
         "ticks": "",
         "zeroline": false
        }
       }
      }
     },
     "metadata": {},
     "output_type": "display_data"
    }
   ],
   "source": [
    "# Build the rectangles as a heatmap\n",
    "# specify the edges of the heatmap squares\n",
    "phi = (1 + np.sqrt(5)) / 2.0  # golden ratio\n",
    "xe = [0, 1, 1 + (1 / (phi**4)), 1 + (1 / (phi**3)), phi]\n",
    "ye = [0, 1 / (phi**3), 1 / phi**3 + 1 / phi**4, 1 / (phi**2), 1]\n",
    "\n",
    "z = [[13, 3, 3, 5], [13, 2, 1, 5], [13, 10, 11, 12], [13, 8, 8, 8]]\n",
    "\n",
    "fig = go.Figure(\n",
    "    data=go.Heatmap(\n",
    "        x=np.sort(xe), y=np.sort(ye), z=z, type=\"heatmap\", colorscale=\"Viridis\"\n",
    "    )\n",
    ")\n",
    "\n",
    "# Add spiral line plot\n",
    "\n",
    "\n",
    "def spiral(th):\n",
    "    a = 1.120529\n",
    "    b = 0.306349\n",
    "    r = a * np.exp(-b * th)\n",
    "    return (r * np.cos(th), r * np.sin(th))\n",
    "\n",
    "\n",
    "theta = np.linspace(-np.pi / 13, 4 * np.pi, 1000)  # angle\n",
    "(x, y) = spiral(theta)\n",
    "\n",
    "# 点\n",
    "fig.add_trace(go.Scatter(x=-x + x[0], y=y - y[0], line=dict(color=\"white\", width=3)))\n",
    "\n",
    "\n",
    "axis_template = dict(\n",
    "    range=[0, 1.6],\n",
    "    autorange=False,\n",
    "    showgrid=False,\n",
    "    zeroline=False,\n",
    "    linecolor=\"black\",\n",
    "    showticklabels=False,\n",
    "    ticks=\"\",\n",
    ")\n",
    "\n",
    "fig.update_layout(\n",
    "    margin=dict(t=200, r=200, b=200, l=200),\n",
    "    xaxis=axis_template,\n",
    "    yaxis=axis_template,\n",
    "    showlegend=False,\n",
    "    width=700,\n",
    "    height=700,\n",
    "    autosize=False,\n",
    ")\n",
    "\n",
    "fig.show()"
   ]
  },
  {
   "cell_type": "markdown",
   "metadata": {},
   "source": [
    "## Heatmap with Datetime Axis"
   ]
  },
  {
   "cell_type": "code",
   "execution_count": 27,
   "metadata": {},
   "outputs": [],
   "source": [
    "import datetime"
   ]
  },
  {
   "cell_type": "code",
   "execution_count": 28,
   "metadata": {},
   "outputs": [
    {
     "data": {
      "application/vnd.plotly.v1+json": {
       "config": {
        "plotlyServerURL": "https://plot.ly"
       },
       "data": [
        {
         "colorscale": [
          [
           0,
           "#440154"
          ],
          [
           0.1111111111111111,
           "#482878"
          ],
          [
           0.2222222222222222,
           "#3e4989"
          ],
          [
           0.3333333333333333,
           "#31688e"
          ],
          [
           0.4444444444444444,
           "#26828e"
          ],
          [
           0.5555555555555556,
           "#1f9e89"
          ],
          [
           0.6666666666666666,
           "#35b779"
          ],
          [
           0.7777777777777778,
           "#6ece58"
          ],
          [
           0.8888888888888888,
           "#b5de2b"
          ],
          [
           1,
           "#fde725"
          ]
         ],
         "type": "heatmap",
         "x": [
          "2023-10-24T14:34:36.180126",
          "2023-10-23T14:34:36.180126",
          "2023-10-22T14:34:36.180126",
          "2023-10-21T14:34:36.180126",
          "2023-10-20T14:34:36.180126",
          "2023-10-19T14:34:36.180126",
          "2023-10-18T14:34:36.180126",
          "2023-10-17T14:34:36.180126",
          "2023-10-16T14:34:36.180126",
          "2023-10-15T14:34:36.180126",
          "2023-10-14T14:34:36.180126",
          "2023-10-13T14:34:36.180126",
          "2023-10-12T14:34:36.180126",
          "2023-10-11T14:34:36.180126",
          "2023-10-10T14:34:36.180126",
          "2023-10-09T14:34:36.180126",
          "2023-10-08T14:34:36.180126",
          "2023-10-07T14:34:36.180126",
          "2023-10-06T14:34:36.180126",
          "2023-10-05T14:34:36.180126",
          "2023-10-04T14:34:36.180126",
          "2023-10-03T14:34:36.180126",
          "2023-10-02T14:34:36.180126",
          "2023-10-01T14:34:36.180126",
          "2023-09-30T14:34:36.180126",
          "2023-09-29T14:34:36.180126",
          "2023-09-28T14:34:36.180126",
          "2023-09-27T14:34:36.180126",
          "2023-09-26T14:34:36.180126",
          "2023-09-25T14:34:36.180126",
          "2023-09-24T14:34:36.180126",
          "2023-09-23T14:34:36.180126",
          "2023-09-22T14:34:36.180126",
          "2023-09-21T14:34:36.180126",
          "2023-09-20T14:34:36.180126",
          "2023-09-19T14:34:36.180126",
          "2023-09-18T14:34:36.180126",
          "2023-09-17T14:34:36.180126",
          "2023-09-16T14:34:36.180126",
          "2023-09-15T14:34:36.180126",
          "2023-09-14T14:34:36.180126",
          "2023-09-13T14:34:36.180126",
          "2023-09-12T14:34:36.180126",
          "2023-09-11T14:34:36.180126",
          "2023-09-10T14:34:36.180126",
          "2023-09-09T14:34:36.180126",
          "2023-09-08T14:34:36.180126",
          "2023-09-07T14:34:36.180126",
          "2023-09-06T14:34:36.180126",
          "2023-09-05T14:34:36.180126",
          "2023-09-04T14:34:36.180126",
          "2023-09-03T14:34:36.180126",
          "2023-09-02T14:34:36.180126",
          "2023-09-01T14:34:36.180126",
          "2023-08-31T14:34:36.180126",
          "2023-08-30T14:34:36.180126",
          "2023-08-29T14:34:36.180126",
          "2023-08-28T14:34:36.180126",
          "2023-08-27T14:34:36.180126",
          "2023-08-26T14:34:36.180126",
          "2023-08-25T14:34:36.180126",
          "2023-08-24T14:34:36.180126",
          "2023-08-23T14:34:36.180126",
          "2023-08-22T14:34:36.180126",
          "2023-08-21T14:34:36.180126",
          "2023-08-20T14:34:36.180126",
          "2023-08-19T14:34:36.180126",
          "2023-08-18T14:34:36.180126",
          "2023-08-17T14:34:36.180126",
          "2023-08-16T14:34:36.180126",
          "2023-08-15T14:34:36.180126",
          "2023-08-14T14:34:36.180126",
          "2023-08-13T14:34:36.180126",
          "2023-08-12T14:34:36.180126",
          "2023-08-11T14:34:36.180126",
          "2023-08-10T14:34:36.180126",
          "2023-08-09T14:34:36.180126",
          "2023-08-08T14:34:36.180126",
          "2023-08-07T14:34:36.180126",
          "2023-08-06T14:34:36.180126",
          "2023-08-05T14:34:36.180126",
          "2023-08-04T14:34:36.180126",
          "2023-08-03T14:34:36.180126",
          "2023-08-02T14:34:36.180126",
          "2023-08-01T14:34:36.180126",
          "2023-07-31T14:34:36.180126",
          "2023-07-30T14:34:36.180126",
          "2023-07-29T14:34:36.180126",
          "2023-07-28T14:34:36.180126",
          "2023-07-27T14:34:36.180126",
          "2023-07-26T14:34:36.180126",
          "2023-07-25T14:34:36.180126",
          "2023-07-24T14:34:36.180126",
          "2023-07-23T14:34:36.180126",
          "2023-07-22T14:34:36.180126",
          "2023-07-21T14:34:36.180126",
          "2023-07-20T14:34:36.180126",
          "2023-07-19T14:34:36.180126",
          "2023-07-18T14:34:36.180126",
          "2023-07-17T14:34:36.180126",
          "2023-07-16T14:34:36.180126",
          "2023-07-15T14:34:36.180126",
          "2023-07-14T14:34:36.180126",
          "2023-07-13T14:34:36.180126",
          "2023-07-12T14:34:36.180126",
          "2023-07-11T14:34:36.180126",
          "2023-07-10T14:34:36.180126",
          "2023-07-09T14:34:36.180126",
          "2023-07-08T14:34:36.180126",
          "2023-07-07T14:34:36.180126",
          "2023-07-06T14:34:36.180126",
          "2023-07-05T14:34:36.180126",
          "2023-07-04T14:34:36.180126",
          "2023-07-03T14:34:36.180126",
          "2023-07-02T14:34:36.180126",
          "2023-07-01T14:34:36.180126",
          "2023-06-30T14:34:36.180126",
          "2023-06-29T14:34:36.180126",
          "2023-06-28T14:34:36.180126",
          "2023-06-27T14:34:36.180126",
          "2023-06-26T14:34:36.180126",
          "2023-06-25T14:34:36.180126",
          "2023-06-24T14:34:36.180126",
          "2023-06-23T14:34:36.180126",
          "2023-06-22T14:34:36.180126",
          "2023-06-21T14:34:36.180126",
          "2023-06-20T14:34:36.180126",
          "2023-06-19T14:34:36.180126",
          "2023-06-18T14:34:36.180126",
          "2023-06-17T14:34:36.180126",
          "2023-06-16T14:34:36.180126",
          "2023-06-15T14:34:36.180126",
          "2023-06-14T14:34:36.180126",
          "2023-06-13T14:34:36.180126",
          "2023-06-12T14:34:36.180126",
          "2023-06-11T14:34:36.180126",
          "2023-06-10T14:34:36.180126",
          "2023-06-09T14:34:36.180126",
          "2023-06-08T14:34:36.180126",
          "2023-06-07T14:34:36.180126",
          "2023-06-06T14:34:36.180126",
          "2023-06-05T14:34:36.180126",
          "2023-06-04T14:34:36.180126",
          "2023-06-03T14:34:36.180126",
          "2023-06-02T14:34:36.180126",
          "2023-06-01T14:34:36.180126",
          "2023-05-31T14:34:36.180126",
          "2023-05-30T14:34:36.180126",
          "2023-05-29T14:34:36.180126",
          "2023-05-28T14:34:36.180126",
          "2023-05-27T14:34:36.180126",
          "2023-05-26T14:34:36.180126",
          "2023-05-25T14:34:36.180126",
          "2023-05-24T14:34:36.180126",
          "2023-05-23T14:34:36.180126",
          "2023-05-22T14:34:36.180126",
          "2023-05-21T14:34:36.180126",
          "2023-05-20T14:34:36.180126",
          "2023-05-19T14:34:36.180126",
          "2023-05-18T14:34:36.180126",
          "2023-05-17T14:34:36.180126",
          "2023-05-16T14:34:36.180126",
          "2023-05-15T14:34:36.180126",
          "2023-05-14T14:34:36.180126",
          "2023-05-13T14:34:36.180126",
          "2023-05-12T14:34:36.180126",
          "2023-05-11T14:34:36.180126",
          "2023-05-10T14:34:36.180126",
          "2023-05-09T14:34:36.180126",
          "2023-05-08T14:34:36.180126",
          "2023-05-07T14:34:36.180126",
          "2023-05-06T14:34:36.180126",
          "2023-05-05T14:34:36.180126",
          "2023-05-04T14:34:36.180126",
          "2023-05-03T14:34:36.180126",
          "2023-05-02T14:34:36.180126",
          "2023-05-01T14:34:36.180126",
          "2023-04-30T14:34:36.180126",
          "2023-04-29T14:34:36.180126",
          "2023-04-28T14:34:36.180126"
         ],
         "y": [
          "Alex",
          "Nicole",
          "Sara",
          "Etienne",
          "Chelsea",
          "Jody",
          "Marianne"
         ],
         "z": [
          [
           3,
           2,
           2,
           0,
           1,
           0,
           2,
           0,
           0,
           0,
           0,
           2,
           0,
           2,
           1,
           0,
           1,
           0,
           2,
           2,
           0,
           1,
           0,
           1,
           1,
           2,
           0,
           0,
           4,
           1,
           3,
           1,
           2,
           0,
           2,
           1,
           1,
           2,
           1,
           0,
           4,
           1,
           1,
           1,
           0,
           0,
           0,
           0,
           2,
           1,
           1,
           0,
           0,
           0,
           0,
           0,
           0,
           0,
           1,
           1,
           1,
           1,
           3,
           1,
           2,
           1,
           0,
           3,
           1,
           0,
           1,
           3,
           0,
           0,
           2,
           2,
           2,
           1,
           3,
           0,
           1,
           2,
           1,
           1,
           1,
           0,
           0,
           1,
           1,
           2,
           1,
           1,
           1,
           3,
           0,
           0,
           0,
           1,
           0,
           1,
           2,
           3,
           4,
           1,
           1,
           3,
           3,
           1,
           1,
           0,
           1,
           2,
           0,
           3,
           0,
           0,
           3,
           3,
           0,
           0,
           2,
           0,
           1,
           1,
           2,
           2,
           1,
           1,
           2,
           1,
           0,
           1,
           1,
           0,
           0,
           0,
           1,
           1,
           0,
           2,
           1,
           1,
           1,
           0,
           1,
           1,
           1,
           0,
           4,
           2,
           1,
           0,
           0,
           1,
           0,
           3,
           1,
           3,
           0,
           2,
           2,
           0,
           0,
           3,
           1,
           2,
           0,
           1,
           1,
           1,
           1,
           2,
           1,
           3,
           1,
           1,
           1,
           0,
           2,
           0
          ],
          [
           1,
           0,
           1,
           0,
           1,
           0,
           0,
           1,
           2,
           1,
           2,
           0,
           1,
           1,
           1,
           1,
           1,
           3,
           1,
           1,
           1,
           3,
           3,
           0,
           1,
           1,
           1,
           0,
           1,
           0,
           1,
           1,
           4,
           2,
           0,
           1,
           0,
           0,
           1,
           2,
           0,
           0,
           2,
           4,
           1,
           1,
           0,
           4,
           0,
           0,
           0,
           0,
           1,
           3,
           1,
           1,
           1,
           1,
           1,
           3,
           2,
           2,
           4,
           1,
           0,
           1,
           0,
           1,
           1,
           0,
           3,
           0,
           0,
           2,
           1,
           1,
           0,
           1,
           0,
           0,
           1,
           2,
           1,
           4,
           0,
           1,
           1,
           1,
           1,
           1,
           1,
           2,
           2,
           0,
           1,
           1,
           1,
           0,
           0,
           0,
           0,
           1,
           2,
           1,
           1,
           1,
           2,
           0,
           1,
           1,
           0,
           0,
           0,
           0,
           0,
           1,
           0,
           0,
           2,
           3,
           0,
           2,
           0,
           2,
           0,
           1,
           0,
           1,
           0,
           2,
           1,
           1,
           1,
           0,
           1,
           3,
           0,
           1,
           0,
           0,
           2,
           1,
           0,
           1,
           1,
           0,
           0,
           3,
           0,
           0,
           0,
           0,
           1,
           0,
           0,
           0,
           0,
           0,
           1,
           1,
           1,
           0,
           1,
           0,
           1,
           1,
           1,
           1,
           1,
           3,
           1,
           2,
           2,
           1,
           2,
           0,
           2,
           2,
           2,
           1
          ],
          [
           3,
           2,
           0,
           2,
           0,
           0,
           1,
           0,
           1,
           1,
           2,
           0,
           1,
           3,
           0,
           0,
           0,
           2,
           0,
           1,
           0,
           1,
           0,
           1,
           1,
           2,
           2,
           0,
           0,
           0,
           3,
           0,
           1,
           2,
           0,
           0,
           0,
           3,
           0,
           0,
           0,
           1,
           1,
           0,
           0,
           0,
           1,
           1,
           0,
           1,
           2,
           4,
           1,
           2,
           2,
           1,
           2,
           0,
           1,
           1,
           2,
           2,
           1,
           0,
           0,
           1,
           1,
           2,
           2,
           0,
           0,
           3,
           4,
           0,
           2,
           0,
           0,
           1,
           0,
           0,
           1,
           1,
           1,
           1,
           4,
           1,
           0,
           2,
           3,
           1,
           0,
           1,
           0,
           1,
           0,
           2,
           3,
           1,
           1,
           1,
           0,
           2,
           0,
           0,
           1,
           3,
           1,
           0,
           1,
           2,
           1,
           0,
           0,
           0,
           0,
           3,
           0,
           1,
           3,
           0,
           0,
           0,
           0,
           1,
           0,
           0,
           1,
           3,
           1,
           1,
           0,
           0,
           0,
           0,
           1,
           1,
           1,
           4,
           1,
           1,
           1,
           0,
           1,
           1,
           0,
           2,
           4,
           2,
           2,
           1,
           3,
           1,
           2,
           3,
           0,
           0,
           1,
           2,
           0,
           0,
           2,
           1,
           0,
           1,
           0,
           2,
           0,
           0,
           1,
           0,
           2,
           0,
           1,
           1,
           2,
           0,
           0,
           3,
           1,
           1
          ],
          [
           1,
           2,
           0,
           0,
           2,
           1,
           1,
           0,
           2,
           0,
           0,
           0,
           1,
           0,
           2,
           1,
           1,
           2,
           2,
           2,
           2,
           1,
           2,
           2,
           0,
           0,
           0,
           1,
           0,
           3,
           1,
           1,
           0,
           1,
           2,
           0,
           1,
           1,
           1,
           4,
           0,
           0,
           0,
           0,
           1,
           0,
           0,
           1,
           1,
           1,
           0,
           2,
           1,
           1,
           1,
           2,
           1,
           1,
           0,
           0,
           3,
           0,
           1,
           3,
           1,
           0,
           1,
           1,
           1,
           0,
           2,
           0,
           2,
           1,
           0,
           0,
           3,
           1,
           0,
           2,
           2,
           1,
           1,
           0,
           2,
           3,
           2,
           0,
           2,
           2,
           0,
           0,
           0,
           3,
           3,
           2,
           1,
           2,
           1,
           2,
           0,
           0,
           1,
           1,
           1,
           2,
           2,
           0,
           1,
           1,
           1,
           3,
           3,
           1,
           1,
           3,
           2,
           1,
           0,
           1,
           1,
           1,
           1,
           1,
           3,
           3,
           3,
           2,
           1,
           1,
           1,
           1,
           1,
           1,
           2,
           1,
           3,
           0,
           3,
           0,
           2,
           1,
           0,
           1,
           2,
           5,
           1,
           1,
           1,
           4,
           2,
           2,
           3,
           1,
           0,
           1,
           0,
           0,
           0,
           1,
           1,
           2,
           1,
           1,
           0,
           2,
           1,
           3,
           0,
           1,
           1,
           2,
           0,
           4,
           0,
           0,
           1,
           1,
           0,
           0
          ],
          [
           0,
           1,
           1,
           1,
           2,
           1,
           2,
           2,
           1,
           2,
           4,
           0,
           2,
           0,
           2,
           2,
           0,
           0,
           5,
           1,
           0,
           2,
           2,
           0,
           0,
           3,
           1,
           1,
           1,
           1,
           0,
           1,
           0,
           1,
           1,
           0,
           0,
           1,
           1,
           0,
           1,
           0,
           1,
           2,
           0,
           2,
           2,
           2,
           1,
           1,
           2,
           2,
           0,
           0,
           0,
           0,
           3,
           1,
           1,
           1,
           1,
           2,
           0,
           1,
           2,
           1,
           3,
           0,
           0,
           1,
           2,
           0,
           1,
           1,
           0,
           0,
           1,
           3,
           0,
           1,
           0,
           0,
           0,
           1,
           1,
           3,
           0,
           0,
           0,
           0,
           1,
           0,
           0,
           2,
           0,
           0,
           0,
           1,
           0,
           2,
           2,
           1,
           0,
           1,
           0,
           0,
           0,
           1,
           2,
           0,
           1,
           2,
           0,
           1,
           0,
           1,
           2,
           0,
           1,
           1,
           0,
           0,
           1,
           0,
           0,
           2,
           0,
           2,
           0,
           0,
           0,
           1,
           1,
           2,
           1,
           3,
           1,
           2,
           1,
           1,
           2,
           2,
           0,
           0,
           1,
           1,
           0,
           0,
           1,
           3,
           0,
           2,
           0,
           0,
           2,
           1,
           0,
           0,
           1,
           2,
           0,
           0,
           0,
           2,
           0,
           2,
           5,
           2,
           2,
           2,
           2,
           0,
           0,
           2,
           2,
           1,
           3,
           5,
           0,
           0
          ],
          [
           1,
           1,
           1,
           1,
           1,
           1,
           1,
           1,
           1,
           3,
           0,
           4,
           3,
           0,
           0,
           2,
           0,
           2,
           1,
           1,
           2,
           2,
           1,
           0,
           1,
           2,
           3,
           3,
           1,
           3,
           4,
           2,
           1,
           1,
           0,
           4,
           1,
           2,
           2,
           0,
           1,
           1,
           0,
           1,
           2,
           0,
           1,
           0,
           0,
           2,
           2,
           1,
           2,
           0,
           1,
           4,
           3,
           0,
           0,
           1,
           1,
           1,
           3,
           0,
           0,
           0,
           0,
           2,
           2,
           1,
           1,
           2,
           2,
           0,
           0,
           0,
           1,
           3,
           1,
           0,
           2,
           1,
           2,
           4,
           2,
           0,
           2,
           0,
           1,
           1,
           2,
           0,
           1,
           0,
           2,
           1,
           2,
           1,
           1,
           1,
           1,
           1,
           0,
           1,
           0,
           1,
           0,
           2,
           1,
           1,
           0,
           2,
           1,
           2,
           0,
           0,
           2,
           3,
           0,
           5,
           1,
           0,
           1,
           1,
           0,
           1,
           1,
           0,
           1,
           0,
           1,
           3,
           0,
           0,
           0,
           1,
           1,
           1,
           2,
           2,
           1,
           0,
           1,
           1,
           1,
           1,
           2,
           2,
           2,
           0,
           1,
           1,
           0,
           0,
           2,
           1,
           0,
           1,
           0,
           3,
           3,
           1,
           2,
           1,
           1,
           1,
           0,
           0,
           2,
           0,
           1,
           0,
           1,
           1,
           1,
           0,
           0,
           2,
           2,
           2
          ],
          [
           1,
           1,
           2,
           4,
           0,
           2,
           2,
           0,
           2,
           1,
           0,
           1,
           3,
           3,
           0,
           0,
           0,
           3,
           0,
           0,
           1,
           0,
           1,
           1,
           0,
           0,
           1,
           2,
           0,
           1,
           0,
           2,
           2,
           2,
           1,
           0,
           1,
           1,
           0,
           1,
           1,
           1,
           0,
           0,
           1,
           1,
           2,
           2,
           1,
           2,
           3,
           0,
           0,
           0,
           1,
           0,
           3,
           1,
           1,
           0,
           0,
           1,
           0,
           4,
           1,
           0,
           0,
           3,
           1,
           0,
           1,
           0,
           0,
           1,
           3,
           0,
           1,
           1,
           0,
           2,
           1,
           2,
           0,
           1,
           1,
           0,
           1,
           1,
           4,
           0,
           2,
           2,
           0,
           1,
           0,
           1,
           1,
           2,
           0,
           2,
           0,
           2,
           2,
           4,
           1,
           0,
           1,
           0,
           0,
           0,
           0,
           1,
           2,
           1,
           0,
           0,
           0,
           1,
           0,
           1,
           1,
           1,
           3,
           0,
           2,
           1,
           1,
           2,
           0,
           0,
           2,
           1,
           2,
           2,
           1,
           1,
           1,
           0,
           0,
           2,
           0,
           0,
           0,
           2,
           2,
           1,
           1,
           0,
           3,
           1,
           2,
           0,
           1,
           0,
           2,
           1,
           1,
           1,
           1,
           4,
           1,
           0,
           0,
           1,
           1,
           2,
           2,
           0,
           1,
           3,
           0,
           1,
           1,
           1,
           0,
           1,
           0,
           1,
           1,
           0
          ]
         ]
        }
       ],
       "layout": {
        "template": {
         "data": {
          "bar": [
           {
            "error_x": {
             "color": "#2a3f5f"
            },
            "error_y": {
             "color": "#2a3f5f"
            },
            "marker": {
             "line": {
              "color": "#E5ECF6",
              "width": 0.5
             },
             "pattern": {
              "fillmode": "overlay",
              "size": 10,
              "solidity": 0.2
             }
            },
            "type": "bar"
           }
          ],
          "barpolar": [
           {
            "marker": {
             "line": {
              "color": "#E5ECF6",
              "width": 0.5
             },
             "pattern": {
              "fillmode": "overlay",
              "size": 10,
              "solidity": 0.2
             }
            },
            "type": "barpolar"
           }
          ],
          "carpet": [
           {
            "aaxis": {
             "endlinecolor": "#2a3f5f",
             "gridcolor": "white",
             "linecolor": "white",
             "minorgridcolor": "white",
             "startlinecolor": "#2a3f5f"
            },
            "baxis": {
             "endlinecolor": "#2a3f5f",
             "gridcolor": "white",
             "linecolor": "white",
             "minorgridcolor": "white",
             "startlinecolor": "#2a3f5f"
            },
            "type": "carpet"
           }
          ],
          "choropleth": [
           {
            "colorbar": {
             "outlinewidth": 0,
             "ticks": ""
            },
            "type": "choropleth"
           }
          ],
          "contour": [
           {
            "colorbar": {
             "outlinewidth": 0,
             "ticks": ""
            },
            "colorscale": [
             [
              0,
              "#0d0887"
             ],
             [
              0.1111111111111111,
              "#46039f"
             ],
             [
              0.2222222222222222,
              "#7201a8"
             ],
             [
              0.3333333333333333,
              "#9c179e"
             ],
             [
              0.4444444444444444,
              "#bd3786"
             ],
             [
              0.5555555555555556,
              "#d8576b"
             ],
             [
              0.6666666666666666,
              "#ed7953"
             ],
             [
              0.7777777777777778,
              "#fb9f3a"
             ],
             [
              0.8888888888888888,
              "#fdca26"
             ],
             [
              1,
              "#f0f921"
             ]
            ],
            "type": "contour"
           }
          ],
          "contourcarpet": [
           {
            "colorbar": {
             "outlinewidth": 0,
             "ticks": ""
            },
            "type": "contourcarpet"
           }
          ],
          "heatmap": [
           {
            "colorbar": {
             "outlinewidth": 0,
             "ticks": ""
            },
            "colorscale": [
             [
              0,
              "#0d0887"
             ],
             [
              0.1111111111111111,
              "#46039f"
             ],
             [
              0.2222222222222222,
              "#7201a8"
             ],
             [
              0.3333333333333333,
              "#9c179e"
             ],
             [
              0.4444444444444444,
              "#bd3786"
             ],
             [
              0.5555555555555556,
              "#d8576b"
             ],
             [
              0.6666666666666666,
              "#ed7953"
             ],
             [
              0.7777777777777778,
              "#fb9f3a"
             ],
             [
              0.8888888888888888,
              "#fdca26"
             ],
             [
              1,
              "#f0f921"
             ]
            ],
            "type": "heatmap"
           }
          ],
          "heatmapgl": [
           {
            "colorbar": {
             "outlinewidth": 0,
             "ticks": ""
            },
            "colorscale": [
             [
              0,
              "#0d0887"
             ],
             [
              0.1111111111111111,
              "#46039f"
             ],
             [
              0.2222222222222222,
              "#7201a8"
             ],
             [
              0.3333333333333333,
              "#9c179e"
             ],
             [
              0.4444444444444444,
              "#bd3786"
             ],
             [
              0.5555555555555556,
              "#d8576b"
             ],
             [
              0.6666666666666666,
              "#ed7953"
             ],
             [
              0.7777777777777778,
              "#fb9f3a"
             ],
             [
              0.8888888888888888,
              "#fdca26"
             ],
             [
              1,
              "#f0f921"
             ]
            ],
            "type": "heatmapgl"
           }
          ],
          "histogram": [
           {
            "marker": {
             "pattern": {
              "fillmode": "overlay",
              "size": 10,
              "solidity": 0.2
             }
            },
            "type": "histogram"
           }
          ],
          "histogram2d": [
           {
            "colorbar": {
             "outlinewidth": 0,
             "ticks": ""
            },
            "colorscale": [
             [
              0,
              "#0d0887"
             ],
             [
              0.1111111111111111,
              "#46039f"
             ],
             [
              0.2222222222222222,
              "#7201a8"
             ],
             [
              0.3333333333333333,
              "#9c179e"
             ],
             [
              0.4444444444444444,
              "#bd3786"
             ],
             [
              0.5555555555555556,
              "#d8576b"
             ],
             [
              0.6666666666666666,
              "#ed7953"
             ],
             [
              0.7777777777777778,
              "#fb9f3a"
             ],
             [
              0.8888888888888888,
              "#fdca26"
             ],
             [
              1,
              "#f0f921"
             ]
            ],
            "type": "histogram2d"
           }
          ],
          "histogram2dcontour": [
           {
            "colorbar": {
             "outlinewidth": 0,
             "ticks": ""
            },
            "colorscale": [
             [
              0,
              "#0d0887"
             ],
             [
              0.1111111111111111,
              "#46039f"
             ],
             [
              0.2222222222222222,
              "#7201a8"
             ],
             [
              0.3333333333333333,
              "#9c179e"
             ],
             [
              0.4444444444444444,
              "#bd3786"
             ],
             [
              0.5555555555555556,
              "#d8576b"
             ],
             [
              0.6666666666666666,
              "#ed7953"
             ],
             [
              0.7777777777777778,
              "#fb9f3a"
             ],
             [
              0.8888888888888888,
              "#fdca26"
             ],
             [
              1,
              "#f0f921"
             ]
            ],
            "type": "histogram2dcontour"
           }
          ],
          "mesh3d": [
           {
            "colorbar": {
             "outlinewidth": 0,
             "ticks": ""
            },
            "type": "mesh3d"
           }
          ],
          "parcoords": [
           {
            "line": {
             "colorbar": {
              "outlinewidth": 0,
              "ticks": ""
             }
            },
            "type": "parcoords"
           }
          ],
          "pie": [
           {
            "automargin": true,
            "type": "pie"
           }
          ],
          "scatter": [
           {
            "fillpattern": {
             "fillmode": "overlay",
             "size": 10,
             "solidity": 0.2
            },
            "type": "scatter"
           }
          ],
          "scatter3d": [
           {
            "line": {
             "colorbar": {
              "outlinewidth": 0,
              "ticks": ""
             }
            },
            "marker": {
             "colorbar": {
              "outlinewidth": 0,
              "ticks": ""
             }
            },
            "type": "scatter3d"
           }
          ],
          "scattercarpet": [
           {
            "marker": {
             "colorbar": {
              "outlinewidth": 0,
              "ticks": ""
             }
            },
            "type": "scattercarpet"
           }
          ],
          "scattergeo": [
           {
            "marker": {
             "colorbar": {
              "outlinewidth": 0,
              "ticks": ""
             }
            },
            "type": "scattergeo"
           }
          ],
          "scattergl": [
           {
            "marker": {
             "colorbar": {
              "outlinewidth": 0,
              "ticks": ""
             }
            },
            "type": "scattergl"
           }
          ],
          "scattermapbox": [
           {
            "marker": {
             "colorbar": {
              "outlinewidth": 0,
              "ticks": ""
             }
            },
            "type": "scattermapbox"
           }
          ],
          "scatterpolar": [
           {
            "marker": {
             "colorbar": {
              "outlinewidth": 0,
              "ticks": ""
             }
            },
            "type": "scatterpolar"
           }
          ],
          "scatterpolargl": [
           {
            "marker": {
             "colorbar": {
              "outlinewidth": 0,
              "ticks": ""
             }
            },
            "type": "scatterpolargl"
           }
          ],
          "scatterternary": [
           {
            "marker": {
             "colorbar": {
              "outlinewidth": 0,
              "ticks": ""
             }
            },
            "type": "scatterternary"
           }
          ],
          "surface": [
           {
            "colorbar": {
             "outlinewidth": 0,
             "ticks": ""
            },
            "colorscale": [
             [
              0,
              "#0d0887"
             ],
             [
              0.1111111111111111,
              "#46039f"
             ],
             [
              0.2222222222222222,
              "#7201a8"
             ],
             [
              0.3333333333333333,
              "#9c179e"
             ],
             [
              0.4444444444444444,
              "#bd3786"
             ],
             [
              0.5555555555555556,
              "#d8576b"
             ],
             [
              0.6666666666666666,
              "#ed7953"
             ],
             [
              0.7777777777777778,
              "#fb9f3a"
             ],
             [
              0.8888888888888888,
              "#fdca26"
             ],
             [
              1,
              "#f0f921"
             ]
            ],
            "type": "surface"
           }
          ],
          "table": [
           {
            "cells": {
             "fill": {
              "color": "#EBF0F8"
             },
             "line": {
              "color": "white"
             }
            },
            "header": {
             "fill": {
              "color": "#C8D4E3"
             },
             "line": {
              "color": "white"
             }
            },
            "type": "table"
           }
          ]
         },
         "layout": {
          "annotationdefaults": {
           "arrowcolor": "#2a3f5f",
           "arrowhead": 0,
           "arrowwidth": 1
          },
          "autotypenumbers": "strict",
          "coloraxis": {
           "colorbar": {
            "outlinewidth": 0,
            "ticks": ""
           }
          },
          "colorscale": {
           "diverging": [
            [
             0,
             "#8e0152"
            ],
            [
             0.1,
             "#c51b7d"
            ],
            [
             0.2,
             "#de77ae"
            ],
            [
             0.3,
             "#f1b6da"
            ],
            [
             0.4,
             "#fde0ef"
            ],
            [
             0.5,
             "#f7f7f7"
            ],
            [
             0.6,
             "#e6f5d0"
            ],
            [
             0.7,
             "#b8e186"
            ],
            [
             0.8,
             "#7fbc41"
            ],
            [
             0.9,
             "#4d9221"
            ],
            [
             1,
             "#276419"
            ]
           ],
           "sequential": [
            [
             0,
             "#0d0887"
            ],
            [
             0.1111111111111111,
             "#46039f"
            ],
            [
             0.2222222222222222,
             "#7201a8"
            ],
            [
             0.3333333333333333,
             "#9c179e"
            ],
            [
             0.4444444444444444,
             "#bd3786"
            ],
            [
             0.5555555555555556,
             "#d8576b"
            ],
            [
             0.6666666666666666,
             "#ed7953"
            ],
            [
             0.7777777777777778,
             "#fb9f3a"
            ],
            [
             0.8888888888888888,
             "#fdca26"
            ],
            [
             1,
             "#f0f921"
            ]
           ],
           "sequentialminus": [
            [
             0,
             "#0d0887"
            ],
            [
             0.1111111111111111,
             "#46039f"
            ],
            [
             0.2222222222222222,
             "#7201a8"
            ],
            [
             0.3333333333333333,
             "#9c179e"
            ],
            [
             0.4444444444444444,
             "#bd3786"
            ],
            [
             0.5555555555555556,
             "#d8576b"
            ],
            [
             0.6666666666666666,
             "#ed7953"
            ],
            [
             0.7777777777777778,
             "#fb9f3a"
            ],
            [
             0.8888888888888888,
             "#fdca26"
            ],
            [
             1,
             "#f0f921"
            ]
           ]
          },
          "colorway": [
           "#636efa",
           "#EF553B",
           "#00cc96",
           "#ab63fa",
           "#FFA15A",
           "#19d3f3",
           "#FF6692",
           "#B6E880",
           "#FF97FF",
           "#FECB52"
          ],
          "font": {
           "color": "#2a3f5f"
          },
          "geo": {
           "bgcolor": "white",
           "lakecolor": "white",
           "landcolor": "#E5ECF6",
           "showlakes": true,
           "showland": true,
           "subunitcolor": "white"
          },
          "hoverlabel": {
           "align": "left"
          },
          "hovermode": "closest",
          "mapbox": {
           "style": "light"
          },
          "paper_bgcolor": "white",
          "plot_bgcolor": "#E5ECF6",
          "polar": {
           "angularaxis": {
            "gridcolor": "white",
            "linecolor": "white",
            "ticks": ""
           },
           "bgcolor": "#E5ECF6",
           "radialaxis": {
            "gridcolor": "white",
            "linecolor": "white",
            "ticks": ""
           }
          },
          "scene": {
           "xaxis": {
            "backgroundcolor": "#E5ECF6",
            "gridcolor": "white",
            "gridwidth": 2,
            "linecolor": "white",
            "showbackground": true,
            "ticks": "",
            "zerolinecolor": "white"
           },
           "yaxis": {
            "backgroundcolor": "#E5ECF6",
            "gridcolor": "white",
            "gridwidth": 2,
            "linecolor": "white",
            "showbackground": true,
            "ticks": "",
            "zerolinecolor": "white"
           },
           "zaxis": {
            "backgroundcolor": "#E5ECF6",
            "gridcolor": "white",
            "gridwidth": 2,
            "linecolor": "white",
            "showbackground": true,
            "ticks": "",
            "zerolinecolor": "white"
           }
          },
          "shapedefaults": {
           "line": {
            "color": "#2a3f5f"
           }
          },
          "ternary": {
           "aaxis": {
            "gridcolor": "white",
            "linecolor": "white",
            "ticks": ""
           },
           "baxis": {
            "gridcolor": "white",
            "linecolor": "white",
            "ticks": ""
           },
           "bgcolor": "#E5ECF6",
           "caxis": {
            "gridcolor": "white",
            "linecolor": "white",
            "ticks": ""
           }
          },
          "title": {
           "x": 0.05
          },
          "xaxis": {
           "automargin": true,
           "gridcolor": "white",
           "linecolor": "white",
           "ticks": "",
           "title": {
            "standoff": 15
           },
           "zerolinecolor": "white",
           "zerolinewidth": 2
          },
          "yaxis": {
           "automargin": true,
           "gridcolor": "white",
           "linecolor": "white",
           "ticks": "",
           "title": {
            "standoff": 15
           },
           "zerolinecolor": "white",
           "zerolinewidth": 2
          }
         }
        },
        "title": {
         "text": "GitHub commits per day"
        },
        "xaxis": {
         "nticks": 36
        }
       }
      }
     },
     "metadata": {},
     "output_type": "display_data"
    }
   ],
   "source": [
    "programmers = [\"Alex\", \"Nicole\", \"Sara\", \"Etienne\", \"Chelsea\", \"Jody\", \"Marianne\"]\n",
    "\n",
    "base = datetime.datetime.today()\n",
    "dates = base - np.arange(180) * datetime.timedelta(days=1)\n",
    "z = np.random.poisson(size=(len(programmers), len(dates)))\n",
    "\n",
    "fig = go.Figure(data=go.Heatmap(z=z, x=dates, y=programmers, colorscale=\"Viridis\"))\n",
    "\n",
    "fig.update_layout(title=\"GitHub commits per day\", xaxis_nticks=36)\n",
    "\n",
    "fig.show()"
   ]
  },
  {
   "cell_type": "code",
   "execution_count": null,
   "metadata": {},
   "outputs": [],
   "source": []
  }
 ],
 "metadata": {
  "kernelspec": {
   "display_name": "pytorch",
   "language": "python",
   "name": "python3"
  },
  "language_info": {
   "codemirror_mode": {
    "name": "ipython",
    "version": 3
   },
   "file_extension": ".py",
   "mimetype": "text/x-python",
   "name": "python",
   "nbconvert_exporter": "python",
   "pygments_lexer": "ipython3",
   "version": "3.11.4"
  }
 },
 "nbformat": 4,
 "nbformat_minor": 2
}
