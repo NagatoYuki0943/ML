{
 "cells": [
  {
   "cell_type": "markdown",
   "metadata": {},
   "source": [
    "https://plotly.com/python/violin/"
   ]
  },
  {
   "cell_type": "code",
   "execution_count": 59,
   "metadata": {},
   "outputs": [],
   "source": [
    "import numpy as np\n",
    "import pandas as pd\n",
    "import plotly.express as px\n",
    "import plotly.graph_objects as go\n",
    "from plotly.colors import n_colors"
   ]
  },
  {
   "cell_type": "markdown",
   "metadata": {},
   "source": [
    "# px.violin"
   ]
  },
  {
   "cell_type": "markdown",
   "metadata": {},
   "source": [
    "## Basic"
   ]
  },
  {
   "cell_type": "code",
   "execution_count": 3,
   "metadata": {},
   "outputs": [],
   "source": [
    "y0 = np.random.randn(50) - 1\n",
    "y1 = np.random.randn(50) + 1"
   ]
  },
  {
   "cell_type": "code",
   "execution_count": 4,
   "metadata": {},
   "outputs": [
    {
     "data": {
      "application/vnd.plotly.v1+json": {
       "config": {
        "plotlyServerURL": "https://plot.ly"
       },
       "data": [
        {
         "alignmentgroup": "True",
         "box": {
          "visible": false
         },
         "hovertemplate": "variable=%{x}<br>value=%{y}<extra></extra>",
         "legendgroup": "",
         "marker": {
          "color": "#636efa"
         },
         "name": "",
         "offsetgroup": "",
         "orientation": "v",
         "scalegroup": "True",
         "showlegend": false,
         "type": "violin",
         "x": [
          "wide_variable_0",
          "wide_variable_0",
          "wide_variable_0",
          "wide_variable_0",
          "wide_variable_0",
          "wide_variable_0",
          "wide_variable_0",
          "wide_variable_0",
          "wide_variable_0",
          "wide_variable_0",
          "wide_variable_0",
          "wide_variable_0",
          "wide_variable_0",
          "wide_variable_0",
          "wide_variable_0",
          "wide_variable_0",
          "wide_variable_0",
          "wide_variable_0",
          "wide_variable_0",
          "wide_variable_0",
          "wide_variable_0",
          "wide_variable_0",
          "wide_variable_0",
          "wide_variable_0",
          "wide_variable_0",
          "wide_variable_0",
          "wide_variable_0",
          "wide_variable_0",
          "wide_variable_0",
          "wide_variable_0",
          "wide_variable_0",
          "wide_variable_0",
          "wide_variable_0",
          "wide_variable_0",
          "wide_variable_0",
          "wide_variable_0",
          "wide_variable_0",
          "wide_variable_0",
          "wide_variable_0",
          "wide_variable_0",
          "wide_variable_0",
          "wide_variable_0",
          "wide_variable_0",
          "wide_variable_0",
          "wide_variable_0",
          "wide_variable_0",
          "wide_variable_0",
          "wide_variable_0",
          "wide_variable_0",
          "wide_variable_0",
          "wide_variable_1",
          "wide_variable_1",
          "wide_variable_1",
          "wide_variable_1",
          "wide_variable_1",
          "wide_variable_1",
          "wide_variable_1",
          "wide_variable_1",
          "wide_variable_1",
          "wide_variable_1",
          "wide_variable_1",
          "wide_variable_1",
          "wide_variable_1",
          "wide_variable_1",
          "wide_variable_1",
          "wide_variable_1",
          "wide_variable_1",
          "wide_variable_1",
          "wide_variable_1",
          "wide_variable_1",
          "wide_variable_1",
          "wide_variable_1",
          "wide_variable_1",
          "wide_variable_1",
          "wide_variable_1",
          "wide_variable_1",
          "wide_variable_1",
          "wide_variable_1",
          "wide_variable_1",
          "wide_variable_1",
          "wide_variable_1",
          "wide_variable_1",
          "wide_variable_1",
          "wide_variable_1",
          "wide_variable_1",
          "wide_variable_1",
          "wide_variable_1",
          "wide_variable_1",
          "wide_variable_1",
          "wide_variable_1",
          "wide_variable_1",
          "wide_variable_1",
          "wide_variable_1",
          "wide_variable_1",
          "wide_variable_1",
          "wide_variable_1",
          "wide_variable_1",
          "wide_variable_1",
          "wide_variable_1",
          "wide_variable_1"
         ],
         "x0": " ",
         "xaxis": "x",
         "y": [
          -2.100819552639148,
          -0.8259875299908698,
          -1.2996922617009758,
          -0.8700322448985734,
          -1.5257889836074854,
          -0.6162929596188824,
          0.9609808956548216,
          -0.07717420113716389,
          -0.08409966537566838,
          -1.3288390059471655,
          -1.2626264077068186,
          -1.5591749445520269,
          -0.9339923895318536,
          -0.7860698875020014,
          0.5391990169068193,
          -2.19842476417091,
          -2.387674071129077,
          -2.319488542247665,
          -2.981053472054069,
          -2.39510663502249,
          0.177026065867258,
          -1.3918454606893285,
          0.06161716555884067,
          -0.4806858603854176,
          0.04359663656048007,
          -0.38049422610852834,
          -1.2764942527239758,
          -1.1352189175440832,
          -0.9330412161312795,
          0.03866172110444621,
          -0.65142549743583,
          -2.688649503126228,
          -0.4815448070310792,
          -1.665358426773131,
          -2.485044636100859,
          -0.3707579064087939,
          -1.2842997322394896,
          -1.5220845480397824,
          -1.0251237607063397,
          -0.16434505469939686,
          -1.230895464366866,
          -2.1479689492648637,
          -2.1150337051817942,
          -2.3208820196864997,
          0.8934696928480941,
          -2.2398659889545884,
          -1.0499627309329491,
          -0.7511917135186915,
          -2.934647090544589,
          -0.9137271283953764,
          0.5549810779795131,
          0.05093557562839368,
          0.3935415350445308,
          1.9092516866330267,
          1.114774678748583,
          0.7958228771430294,
          1.7943738815207784,
          1.8531564451148672,
          0.7423427489704251,
          3.922024394660908,
          0.38631199316614095,
          1.5034630976575256,
          1.4022663586957451,
          -0.6668016533374967,
          0.9361834458343208,
          2.563208413441863,
          1.0694005140604432,
          1.0290050503727048,
          1.4560998677675112,
          1.020609487375182,
          2.3851935686285337,
          0.43871993772528073,
          1.6988998633326031,
          1.1058796777048998,
          1.3841310127660833,
          2.129758095028458,
          1.0496899286489128,
          1.4728487629746263,
          1.5059333380367297,
          2.659383721066769,
          -0.22407159953092237,
          0.5378712102219743,
          2.8329062447149003,
          -1.460596885394526,
          0.726759820159653,
          0.157610897064562,
          2.177236221246723,
          3.104332019697127,
          1.1012882233820849,
          0.958669665591319,
          0.2582414650476713,
          0.9993286718289972,
          2.35928351262484,
          1.7095436829074568,
          1.7674748961539573,
          1.5160024318440195,
          0.9940081838084934,
          1.4366461844021996,
          2.510555078470111,
          0.9711273974066856
         ],
         "y0": " ",
         "yaxis": "y"
        }
       ],
       "layout": {
        "legend": {
         "tracegroupgap": 0
        },
        "margin": {
         "t": 60
        },
        "template": {
         "data": {
          "bar": [
           {
            "error_x": {
             "color": "#2a3f5f"
            },
            "error_y": {
             "color": "#2a3f5f"
            },
            "marker": {
             "line": {
              "color": "#E5ECF6",
              "width": 0.5
             },
             "pattern": {
              "fillmode": "overlay",
              "size": 10,
              "solidity": 0.2
             }
            },
            "type": "bar"
           }
          ],
          "barpolar": [
           {
            "marker": {
             "line": {
              "color": "#E5ECF6",
              "width": 0.5
             },
             "pattern": {
              "fillmode": "overlay",
              "size": 10,
              "solidity": 0.2
             }
            },
            "type": "barpolar"
           }
          ],
          "carpet": [
           {
            "aaxis": {
             "endlinecolor": "#2a3f5f",
             "gridcolor": "white",
             "linecolor": "white",
             "minorgridcolor": "white",
             "startlinecolor": "#2a3f5f"
            },
            "baxis": {
             "endlinecolor": "#2a3f5f",
             "gridcolor": "white",
             "linecolor": "white",
             "minorgridcolor": "white",
             "startlinecolor": "#2a3f5f"
            },
            "type": "carpet"
           }
          ],
          "choropleth": [
           {
            "colorbar": {
             "outlinewidth": 0,
             "ticks": ""
            },
            "type": "choropleth"
           }
          ],
          "contour": [
           {
            "colorbar": {
             "outlinewidth": 0,
             "ticks": ""
            },
            "colorscale": [
             [
              0,
              "#0d0887"
             ],
             [
              0.1111111111111111,
              "#46039f"
             ],
             [
              0.2222222222222222,
              "#7201a8"
             ],
             [
              0.3333333333333333,
              "#9c179e"
             ],
             [
              0.4444444444444444,
              "#bd3786"
             ],
             [
              0.5555555555555556,
              "#d8576b"
             ],
             [
              0.6666666666666666,
              "#ed7953"
             ],
             [
              0.7777777777777778,
              "#fb9f3a"
             ],
             [
              0.8888888888888888,
              "#fdca26"
             ],
             [
              1,
              "#f0f921"
             ]
            ],
            "type": "contour"
           }
          ],
          "contourcarpet": [
           {
            "colorbar": {
             "outlinewidth": 0,
             "ticks": ""
            },
            "type": "contourcarpet"
           }
          ],
          "heatmap": [
           {
            "colorbar": {
             "outlinewidth": 0,
             "ticks": ""
            },
            "colorscale": [
             [
              0,
              "#0d0887"
             ],
             [
              0.1111111111111111,
              "#46039f"
             ],
             [
              0.2222222222222222,
              "#7201a8"
             ],
             [
              0.3333333333333333,
              "#9c179e"
             ],
             [
              0.4444444444444444,
              "#bd3786"
             ],
             [
              0.5555555555555556,
              "#d8576b"
             ],
             [
              0.6666666666666666,
              "#ed7953"
             ],
             [
              0.7777777777777778,
              "#fb9f3a"
             ],
             [
              0.8888888888888888,
              "#fdca26"
             ],
             [
              1,
              "#f0f921"
             ]
            ],
            "type": "heatmap"
           }
          ],
          "heatmapgl": [
           {
            "colorbar": {
             "outlinewidth": 0,
             "ticks": ""
            },
            "colorscale": [
             [
              0,
              "#0d0887"
             ],
             [
              0.1111111111111111,
              "#46039f"
             ],
             [
              0.2222222222222222,
              "#7201a8"
             ],
             [
              0.3333333333333333,
              "#9c179e"
             ],
             [
              0.4444444444444444,
              "#bd3786"
             ],
             [
              0.5555555555555556,
              "#d8576b"
             ],
             [
              0.6666666666666666,
              "#ed7953"
             ],
             [
              0.7777777777777778,
              "#fb9f3a"
             ],
             [
              0.8888888888888888,
              "#fdca26"
             ],
             [
              1,
              "#f0f921"
             ]
            ],
            "type": "heatmapgl"
           }
          ],
          "histogram": [
           {
            "marker": {
             "pattern": {
              "fillmode": "overlay",
              "size": 10,
              "solidity": 0.2
             }
            },
            "type": "histogram"
           }
          ],
          "histogram2d": [
           {
            "colorbar": {
             "outlinewidth": 0,
             "ticks": ""
            },
            "colorscale": [
             [
              0,
              "#0d0887"
             ],
             [
              0.1111111111111111,
              "#46039f"
             ],
             [
              0.2222222222222222,
              "#7201a8"
             ],
             [
              0.3333333333333333,
              "#9c179e"
             ],
             [
              0.4444444444444444,
              "#bd3786"
             ],
             [
              0.5555555555555556,
              "#d8576b"
             ],
             [
              0.6666666666666666,
              "#ed7953"
             ],
             [
              0.7777777777777778,
              "#fb9f3a"
             ],
             [
              0.8888888888888888,
              "#fdca26"
             ],
             [
              1,
              "#f0f921"
             ]
            ],
            "type": "histogram2d"
           }
          ],
          "histogram2dcontour": [
           {
            "colorbar": {
             "outlinewidth": 0,
             "ticks": ""
            },
            "colorscale": [
             [
              0,
              "#0d0887"
             ],
             [
              0.1111111111111111,
              "#46039f"
             ],
             [
              0.2222222222222222,
              "#7201a8"
             ],
             [
              0.3333333333333333,
              "#9c179e"
             ],
             [
              0.4444444444444444,
              "#bd3786"
             ],
             [
              0.5555555555555556,
              "#d8576b"
             ],
             [
              0.6666666666666666,
              "#ed7953"
             ],
             [
              0.7777777777777778,
              "#fb9f3a"
             ],
             [
              0.8888888888888888,
              "#fdca26"
             ],
             [
              1,
              "#f0f921"
             ]
            ],
            "type": "histogram2dcontour"
           }
          ],
          "mesh3d": [
           {
            "colorbar": {
             "outlinewidth": 0,
             "ticks": ""
            },
            "type": "mesh3d"
           }
          ],
          "parcoords": [
           {
            "line": {
             "colorbar": {
              "outlinewidth": 0,
              "ticks": ""
             }
            },
            "type": "parcoords"
           }
          ],
          "pie": [
           {
            "automargin": true,
            "type": "pie"
           }
          ],
          "scatter": [
           {
            "fillpattern": {
             "fillmode": "overlay",
             "size": 10,
             "solidity": 0.2
            },
            "type": "scatter"
           }
          ],
          "scatter3d": [
           {
            "line": {
             "colorbar": {
              "outlinewidth": 0,
              "ticks": ""
             }
            },
            "marker": {
             "colorbar": {
              "outlinewidth": 0,
              "ticks": ""
             }
            },
            "type": "scatter3d"
           }
          ],
          "scattercarpet": [
           {
            "marker": {
             "colorbar": {
              "outlinewidth": 0,
              "ticks": ""
             }
            },
            "type": "scattercarpet"
           }
          ],
          "scattergeo": [
           {
            "marker": {
             "colorbar": {
              "outlinewidth": 0,
              "ticks": ""
             }
            },
            "type": "scattergeo"
           }
          ],
          "scattergl": [
           {
            "marker": {
             "colorbar": {
              "outlinewidth": 0,
              "ticks": ""
             }
            },
            "type": "scattergl"
           }
          ],
          "scattermapbox": [
           {
            "marker": {
             "colorbar": {
              "outlinewidth": 0,
              "ticks": ""
             }
            },
            "type": "scattermapbox"
           }
          ],
          "scatterpolar": [
           {
            "marker": {
             "colorbar": {
              "outlinewidth": 0,
              "ticks": ""
             }
            },
            "type": "scatterpolar"
           }
          ],
          "scatterpolargl": [
           {
            "marker": {
             "colorbar": {
              "outlinewidth": 0,
              "ticks": ""
             }
            },
            "type": "scatterpolargl"
           }
          ],
          "scatterternary": [
           {
            "marker": {
             "colorbar": {
              "outlinewidth": 0,
              "ticks": ""
             }
            },
            "type": "scatterternary"
           }
          ],
          "surface": [
           {
            "colorbar": {
             "outlinewidth": 0,
             "ticks": ""
            },
            "colorscale": [
             [
              0,
              "#0d0887"
             ],
             [
              0.1111111111111111,
              "#46039f"
             ],
             [
              0.2222222222222222,
              "#7201a8"
             ],
             [
              0.3333333333333333,
              "#9c179e"
             ],
             [
              0.4444444444444444,
              "#bd3786"
             ],
             [
              0.5555555555555556,
              "#d8576b"
             ],
             [
              0.6666666666666666,
              "#ed7953"
             ],
             [
              0.7777777777777778,
              "#fb9f3a"
             ],
             [
              0.8888888888888888,
              "#fdca26"
             ],
             [
              1,
              "#f0f921"
             ]
            ],
            "type": "surface"
           }
          ],
          "table": [
           {
            "cells": {
             "fill": {
              "color": "#EBF0F8"
             },
             "line": {
              "color": "white"
             }
            },
            "header": {
             "fill": {
              "color": "#C8D4E3"
             },
             "line": {
              "color": "white"
             }
            },
            "type": "table"
           }
          ]
         },
         "layout": {
          "annotationdefaults": {
           "arrowcolor": "#2a3f5f",
           "arrowhead": 0,
           "arrowwidth": 1
          },
          "autotypenumbers": "strict",
          "coloraxis": {
           "colorbar": {
            "outlinewidth": 0,
            "ticks": ""
           }
          },
          "colorscale": {
           "diverging": [
            [
             0,
             "#8e0152"
            ],
            [
             0.1,
             "#c51b7d"
            ],
            [
             0.2,
             "#de77ae"
            ],
            [
             0.3,
             "#f1b6da"
            ],
            [
             0.4,
             "#fde0ef"
            ],
            [
             0.5,
             "#f7f7f7"
            ],
            [
             0.6,
             "#e6f5d0"
            ],
            [
             0.7,
             "#b8e186"
            ],
            [
             0.8,
             "#7fbc41"
            ],
            [
             0.9,
             "#4d9221"
            ],
            [
             1,
             "#276419"
            ]
           ],
           "sequential": [
            [
             0,
             "#0d0887"
            ],
            [
             0.1111111111111111,
             "#46039f"
            ],
            [
             0.2222222222222222,
             "#7201a8"
            ],
            [
             0.3333333333333333,
             "#9c179e"
            ],
            [
             0.4444444444444444,
             "#bd3786"
            ],
            [
             0.5555555555555556,
             "#d8576b"
            ],
            [
             0.6666666666666666,
             "#ed7953"
            ],
            [
             0.7777777777777778,
             "#fb9f3a"
            ],
            [
             0.8888888888888888,
             "#fdca26"
            ],
            [
             1,
             "#f0f921"
            ]
           ],
           "sequentialminus": [
            [
             0,
             "#0d0887"
            ],
            [
             0.1111111111111111,
             "#46039f"
            ],
            [
             0.2222222222222222,
             "#7201a8"
            ],
            [
             0.3333333333333333,
             "#9c179e"
            ],
            [
             0.4444444444444444,
             "#bd3786"
            ],
            [
             0.5555555555555556,
             "#d8576b"
            ],
            [
             0.6666666666666666,
             "#ed7953"
            ],
            [
             0.7777777777777778,
             "#fb9f3a"
            ],
            [
             0.8888888888888888,
             "#fdca26"
            ],
            [
             1,
             "#f0f921"
            ]
           ]
          },
          "colorway": [
           "#636efa",
           "#EF553B",
           "#00cc96",
           "#ab63fa",
           "#FFA15A",
           "#19d3f3",
           "#FF6692",
           "#B6E880",
           "#FF97FF",
           "#FECB52"
          ],
          "font": {
           "color": "#2a3f5f"
          },
          "geo": {
           "bgcolor": "white",
           "lakecolor": "white",
           "landcolor": "#E5ECF6",
           "showlakes": true,
           "showland": true,
           "subunitcolor": "white"
          },
          "hoverlabel": {
           "align": "left"
          },
          "hovermode": "closest",
          "mapbox": {
           "style": "light"
          },
          "paper_bgcolor": "white",
          "plot_bgcolor": "#E5ECF6",
          "polar": {
           "angularaxis": {
            "gridcolor": "white",
            "linecolor": "white",
            "ticks": ""
           },
           "bgcolor": "#E5ECF6",
           "radialaxis": {
            "gridcolor": "white",
            "linecolor": "white",
            "ticks": ""
           }
          },
          "scene": {
           "xaxis": {
            "backgroundcolor": "#E5ECF6",
            "gridcolor": "white",
            "gridwidth": 2,
            "linecolor": "white",
            "showbackground": true,
            "ticks": "",
            "zerolinecolor": "white"
           },
           "yaxis": {
            "backgroundcolor": "#E5ECF6",
            "gridcolor": "white",
            "gridwidth": 2,
            "linecolor": "white",
            "showbackground": true,
            "ticks": "",
            "zerolinecolor": "white"
           },
           "zaxis": {
            "backgroundcolor": "#E5ECF6",
            "gridcolor": "white",
            "gridwidth": 2,
            "linecolor": "white",
            "showbackground": true,
            "ticks": "",
            "zerolinecolor": "white"
           }
          },
          "shapedefaults": {
           "line": {
            "color": "#2a3f5f"
           }
          },
          "ternary": {
           "aaxis": {
            "gridcolor": "white",
            "linecolor": "white",
            "ticks": ""
           },
           "baxis": {
            "gridcolor": "white",
            "linecolor": "white",
            "ticks": ""
           },
           "bgcolor": "#E5ECF6",
           "caxis": {
            "gridcolor": "white",
            "linecolor": "white",
            "ticks": ""
           }
          },
          "title": {
           "x": 0.05
          },
          "xaxis": {
           "automargin": true,
           "gridcolor": "white",
           "linecolor": "white",
           "ticks": "",
           "title": {
            "standoff": 15
           },
           "zerolinecolor": "white",
           "zerolinewidth": 2
          },
          "yaxis": {
           "automargin": true,
           "gridcolor": "white",
           "linecolor": "white",
           "ticks": "",
           "title": {
            "standoff": 15
           },
           "zerolinecolor": "white",
           "zerolinewidth": 2
          }
         }
        },
        "violinmode": "group",
        "xaxis": {
         "anchor": "y",
         "domain": [
          0,
          1
         ],
         "title": {
          "text": "variable"
         }
        },
        "yaxis": {
         "anchor": "x",
         "domain": [
          0,
          1
         ],
         "title": {
          "text": "value"
         }
        }
       }
      }
     },
     "metadata": {},
     "output_type": "display_data"
    }
   ],
   "source": [
    "fig = px.violin(y=[y0, y1])\n",
    "fig.show()"
   ]
  },
  {
   "cell_type": "markdown",
   "metadata": {},
   "source": [
    "## Horizontal Box Plot"
   ]
  },
  {
   "cell_type": "code",
   "execution_count": 5,
   "metadata": {},
   "outputs": [
    {
     "data": {
      "application/vnd.plotly.v1+json": {
       "config": {
        "plotlyServerURL": "https://plot.ly"
       },
       "data": [
        {
         "alignmentgroup": "True",
         "box": {
          "visible": false
         },
         "hovertemplate": "value=%{x}<br>variable=%{y}<extra></extra>",
         "legendgroup": "",
         "marker": {
          "color": "#636efa"
         },
         "name": "",
         "offsetgroup": "",
         "orientation": "h",
         "scalegroup": "True",
         "showlegend": false,
         "type": "violin",
         "x": [
          -2.100819552639148,
          -0.8259875299908698,
          -1.2996922617009758,
          -0.8700322448985734,
          -1.5257889836074854,
          -0.6162929596188824,
          0.9609808956548216,
          -0.07717420113716389,
          -0.08409966537566838,
          -1.3288390059471655,
          -1.2626264077068186,
          -1.5591749445520269,
          -0.9339923895318536,
          -0.7860698875020014,
          0.5391990169068193,
          -2.19842476417091,
          -2.387674071129077,
          -2.319488542247665,
          -2.981053472054069,
          -2.39510663502249,
          0.177026065867258,
          -1.3918454606893285,
          0.06161716555884067,
          -0.4806858603854176,
          0.04359663656048007,
          -0.38049422610852834,
          -1.2764942527239758,
          -1.1352189175440832,
          -0.9330412161312795,
          0.03866172110444621,
          -0.65142549743583,
          -2.688649503126228,
          -0.4815448070310792,
          -1.665358426773131,
          -2.485044636100859,
          -0.3707579064087939,
          -1.2842997322394896,
          -1.5220845480397824,
          -1.0251237607063397,
          -0.16434505469939686,
          -1.230895464366866,
          -2.1479689492648637,
          -2.1150337051817942,
          -2.3208820196864997,
          0.8934696928480941,
          -2.2398659889545884,
          -1.0499627309329491,
          -0.7511917135186915,
          -2.934647090544589,
          -0.9137271283953764,
          0.5549810779795131,
          0.05093557562839368,
          0.3935415350445308,
          1.9092516866330267,
          1.114774678748583,
          0.7958228771430294,
          1.7943738815207784,
          1.8531564451148672,
          0.7423427489704251,
          3.922024394660908,
          0.38631199316614095,
          1.5034630976575256,
          1.4022663586957451,
          -0.6668016533374967,
          0.9361834458343208,
          2.563208413441863,
          1.0694005140604432,
          1.0290050503727048,
          1.4560998677675112,
          1.020609487375182,
          2.3851935686285337,
          0.43871993772528073,
          1.6988998633326031,
          1.1058796777048998,
          1.3841310127660833,
          2.129758095028458,
          1.0496899286489128,
          1.4728487629746263,
          1.5059333380367297,
          2.659383721066769,
          -0.22407159953092237,
          0.5378712102219743,
          2.8329062447149003,
          -1.460596885394526,
          0.726759820159653,
          0.157610897064562,
          2.177236221246723,
          3.104332019697127,
          1.1012882233820849,
          0.958669665591319,
          0.2582414650476713,
          0.9993286718289972,
          2.35928351262484,
          1.7095436829074568,
          1.7674748961539573,
          1.5160024318440195,
          0.9940081838084934,
          1.4366461844021996,
          2.510555078470111,
          0.9711273974066856
         ],
         "x0": " ",
         "xaxis": "x",
         "y": [
          "wide_variable_0",
          "wide_variable_0",
          "wide_variable_0",
          "wide_variable_0",
          "wide_variable_0",
          "wide_variable_0",
          "wide_variable_0",
          "wide_variable_0",
          "wide_variable_0",
          "wide_variable_0",
          "wide_variable_0",
          "wide_variable_0",
          "wide_variable_0",
          "wide_variable_0",
          "wide_variable_0",
          "wide_variable_0",
          "wide_variable_0",
          "wide_variable_0",
          "wide_variable_0",
          "wide_variable_0",
          "wide_variable_0",
          "wide_variable_0",
          "wide_variable_0",
          "wide_variable_0",
          "wide_variable_0",
          "wide_variable_0",
          "wide_variable_0",
          "wide_variable_0",
          "wide_variable_0",
          "wide_variable_0",
          "wide_variable_0",
          "wide_variable_0",
          "wide_variable_0",
          "wide_variable_0",
          "wide_variable_0",
          "wide_variable_0",
          "wide_variable_0",
          "wide_variable_0",
          "wide_variable_0",
          "wide_variable_0",
          "wide_variable_0",
          "wide_variable_0",
          "wide_variable_0",
          "wide_variable_0",
          "wide_variable_0",
          "wide_variable_0",
          "wide_variable_0",
          "wide_variable_0",
          "wide_variable_0",
          "wide_variable_0",
          "wide_variable_1",
          "wide_variable_1",
          "wide_variable_1",
          "wide_variable_1",
          "wide_variable_1",
          "wide_variable_1",
          "wide_variable_1",
          "wide_variable_1",
          "wide_variable_1",
          "wide_variable_1",
          "wide_variable_1",
          "wide_variable_1",
          "wide_variable_1",
          "wide_variable_1",
          "wide_variable_1",
          "wide_variable_1",
          "wide_variable_1",
          "wide_variable_1",
          "wide_variable_1",
          "wide_variable_1",
          "wide_variable_1",
          "wide_variable_1",
          "wide_variable_1",
          "wide_variable_1",
          "wide_variable_1",
          "wide_variable_1",
          "wide_variable_1",
          "wide_variable_1",
          "wide_variable_1",
          "wide_variable_1",
          "wide_variable_1",
          "wide_variable_1",
          "wide_variable_1",
          "wide_variable_1",
          "wide_variable_1",
          "wide_variable_1",
          "wide_variable_1",
          "wide_variable_1",
          "wide_variable_1",
          "wide_variable_1",
          "wide_variable_1",
          "wide_variable_1",
          "wide_variable_1",
          "wide_variable_1",
          "wide_variable_1",
          "wide_variable_1",
          "wide_variable_1",
          "wide_variable_1",
          "wide_variable_1",
          "wide_variable_1"
         ],
         "y0": " ",
         "yaxis": "y"
        }
       ],
       "layout": {
        "legend": {
         "tracegroupgap": 0
        },
        "margin": {
         "t": 60
        },
        "template": {
         "data": {
          "bar": [
           {
            "error_x": {
             "color": "#2a3f5f"
            },
            "error_y": {
             "color": "#2a3f5f"
            },
            "marker": {
             "line": {
              "color": "#E5ECF6",
              "width": 0.5
             },
             "pattern": {
              "fillmode": "overlay",
              "size": 10,
              "solidity": 0.2
             }
            },
            "type": "bar"
           }
          ],
          "barpolar": [
           {
            "marker": {
             "line": {
              "color": "#E5ECF6",
              "width": 0.5
             },
             "pattern": {
              "fillmode": "overlay",
              "size": 10,
              "solidity": 0.2
             }
            },
            "type": "barpolar"
           }
          ],
          "carpet": [
           {
            "aaxis": {
             "endlinecolor": "#2a3f5f",
             "gridcolor": "white",
             "linecolor": "white",
             "minorgridcolor": "white",
             "startlinecolor": "#2a3f5f"
            },
            "baxis": {
             "endlinecolor": "#2a3f5f",
             "gridcolor": "white",
             "linecolor": "white",
             "minorgridcolor": "white",
             "startlinecolor": "#2a3f5f"
            },
            "type": "carpet"
           }
          ],
          "choropleth": [
           {
            "colorbar": {
             "outlinewidth": 0,
             "ticks": ""
            },
            "type": "choropleth"
           }
          ],
          "contour": [
           {
            "colorbar": {
             "outlinewidth": 0,
             "ticks": ""
            },
            "colorscale": [
             [
              0,
              "#0d0887"
             ],
             [
              0.1111111111111111,
              "#46039f"
             ],
             [
              0.2222222222222222,
              "#7201a8"
             ],
             [
              0.3333333333333333,
              "#9c179e"
             ],
             [
              0.4444444444444444,
              "#bd3786"
             ],
             [
              0.5555555555555556,
              "#d8576b"
             ],
             [
              0.6666666666666666,
              "#ed7953"
             ],
             [
              0.7777777777777778,
              "#fb9f3a"
             ],
             [
              0.8888888888888888,
              "#fdca26"
             ],
             [
              1,
              "#f0f921"
             ]
            ],
            "type": "contour"
           }
          ],
          "contourcarpet": [
           {
            "colorbar": {
             "outlinewidth": 0,
             "ticks": ""
            },
            "type": "contourcarpet"
           }
          ],
          "heatmap": [
           {
            "colorbar": {
             "outlinewidth": 0,
             "ticks": ""
            },
            "colorscale": [
             [
              0,
              "#0d0887"
             ],
             [
              0.1111111111111111,
              "#46039f"
             ],
             [
              0.2222222222222222,
              "#7201a8"
             ],
             [
              0.3333333333333333,
              "#9c179e"
             ],
             [
              0.4444444444444444,
              "#bd3786"
             ],
             [
              0.5555555555555556,
              "#d8576b"
             ],
             [
              0.6666666666666666,
              "#ed7953"
             ],
             [
              0.7777777777777778,
              "#fb9f3a"
             ],
             [
              0.8888888888888888,
              "#fdca26"
             ],
             [
              1,
              "#f0f921"
             ]
            ],
            "type": "heatmap"
           }
          ],
          "heatmapgl": [
           {
            "colorbar": {
             "outlinewidth": 0,
             "ticks": ""
            },
            "colorscale": [
             [
              0,
              "#0d0887"
             ],
             [
              0.1111111111111111,
              "#46039f"
             ],
             [
              0.2222222222222222,
              "#7201a8"
             ],
             [
              0.3333333333333333,
              "#9c179e"
             ],
             [
              0.4444444444444444,
              "#bd3786"
             ],
             [
              0.5555555555555556,
              "#d8576b"
             ],
             [
              0.6666666666666666,
              "#ed7953"
             ],
             [
              0.7777777777777778,
              "#fb9f3a"
             ],
             [
              0.8888888888888888,
              "#fdca26"
             ],
             [
              1,
              "#f0f921"
             ]
            ],
            "type": "heatmapgl"
           }
          ],
          "histogram": [
           {
            "marker": {
             "pattern": {
              "fillmode": "overlay",
              "size": 10,
              "solidity": 0.2
             }
            },
            "type": "histogram"
           }
          ],
          "histogram2d": [
           {
            "colorbar": {
             "outlinewidth": 0,
             "ticks": ""
            },
            "colorscale": [
             [
              0,
              "#0d0887"
             ],
             [
              0.1111111111111111,
              "#46039f"
             ],
             [
              0.2222222222222222,
              "#7201a8"
             ],
             [
              0.3333333333333333,
              "#9c179e"
             ],
             [
              0.4444444444444444,
              "#bd3786"
             ],
             [
              0.5555555555555556,
              "#d8576b"
             ],
             [
              0.6666666666666666,
              "#ed7953"
             ],
             [
              0.7777777777777778,
              "#fb9f3a"
             ],
             [
              0.8888888888888888,
              "#fdca26"
             ],
             [
              1,
              "#f0f921"
             ]
            ],
            "type": "histogram2d"
           }
          ],
          "histogram2dcontour": [
           {
            "colorbar": {
             "outlinewidth": 0,
             "ticks": ""
            },
            "colorscale": [
             [
              0,
              "#0d0887"
             ],
             [
              0.1111111111111111,
              "#46039f"
             ],
             [
              0.2222222222222222,
              "#7201a8"
             ],
             [
              0.3333333333333333,
              "#9c179e"
             ],
             [
              0.4444444444444444,
              "#bd3786"
             ],
             [
              0.5555555555555556,
              "#d8576b"
             ],
             [
              0.6666666666666666,
              "#ed7953"
             ],
             [
              0.7777777777777778,
              "#fb9f3a"
             ],
             [
              0.8888888888888888,
              "#fdca26"
             ],
             [
              1,
              "#f0f921"
             ]
            ],
            "type": "histogram2dcontour"
           }
          ],
          "mesh3d": [
           {
            "colorbar": {
             "outlinewidth": 0,
             "ticks": ""
            },
            "type": "mesh3d"
           }
          ],
          "parcoords": [
           {
            "line": {
             "colorbar": {
              "outlinewidth": 0,
              "ticks": ""
             }
            },
            "type": "parcoords"
           }
          ],
          "pie": [
           {
            "automargin": true,
            "type": "pie"
           }
          ],
          "scatter": [
           {
            "fillpattern": {
             "fillmode": "overlay",
             "size": 10,
             "solidity": 0.2
            },
            "type": "scatter"
           }
          ],
          "scatter3d": [
           {
            "line": {
             "colorbar": {
              "outlinewidth": 0,
              "ticks": ""
             }
            },
            "marker": {
             "colorbar": {
              "outlinewidth": 0,
              "ticks": ""
             }
            },
            "type": "scatter3d"
           }
          ],
          "scattercarpet": [
           {
            "marker": {
             "colorbar": {
              "outlinewidth": 0,
              "ticks": ""
             }
            },
            "type": "scattercarpet"
           }
          ],
          "scattergeo": [
           {
            "marker": {
             "colorbar": {
              "outlinewidth": 0,
              "ticks": ""
             }
            },
            "type": "scattergeo"
           }
          ],
          "scattergl": [
           {
            "marker": {
             "colorbar": {
              "outlinewidth": 0,
              "ticks": ""
             }
            },
            "type": "scattergl"
           }
          ],
          "scattermapbox": [
           {
            "marker": {
             "colorbar": {
              "outlinewidth": 0,
              "ticks": ""
             }
            },
            "type": "scattermapbox"
           }
          ],
          "scatterpolar": [
           {
            "marker": {
             "colorbar": {
              "outlinewidth": 0,
              "ticks": ""
             }
            },
            "type": "scatterpolar"
           }
          ],
          "scatterpolargl": [
           {
            "marker": {
             "colorbar": {
              "outlinewidth": 0,
              "ticks": ""
             }
            },
            "type": "scatterpolargl"
           }
          ],
          "scatterternary": [
           {
            "marker": {
             "colorbar": {
              "outlinewidth": 0,
              "ticks": ""
             }
            },
            "type": "scatterternary"
           }
          ],
          "surface": [
           {
            "colorbar": {
             "outlinewidth": 0,
             "ticks": ""
            },
            "colorscale": [
             [
              0,
              "#0d0887"
             ],
             [
              0.1111111111111111,
              "#46039f"
             ],
             [
              0.2222222222222222,
              "#7201a8"
             ],
             [
              0.3333333333333333,
              "#9c179e"
             ],
             [
              0.4444444444444444,
              "#bd3786"
             ],
             [
              0.5555555555555556,
              "#d8576b"
             ],
             [
              0.6666666666666666,
              "#ed7953"
             ],
             [
              0.7777777777777778,
              "#fb9f3a"
             ],
             [
              0.8888888888888888,
              "#fdca26"
             ],
             [
              1,
              "#f0f921"
             ]
            ],
            "type": "surface"
           }
          ],
          "table": [
           {
            "cells": {
             "fill": {
              "color": "#EBF0F8"
             },
             "line": {
              "color": "white"
             }
            },
            "header": {
             "fill": {
              "color": "#C8D4E3"
             },
             "line": {
              "color": "white"
             }
            },
            "type": "table"
           }
          ]
         },
         "layout": {
          "annotationdefaults": {
           "arrowcolor": "#2a3f5f",
           "arrowhead": 0,
           "arrowwidth": 1
          },
          "autotypenumbers": "strict",
          "coloraxis": {
           "colorbar": {
            "outlinewidth": 0,
            "ticks": ""
           }
          },
          "colorscale": {
           "diverging": [
            [
             0,
             "#8e0152"
            ],
            [
             0.1,
             "#c51b7d"
            ],
            [
             0.2,
             "#de77ae"
            ],
            [
             0.3,
             "#f1b6da"
            ],
            [
             0.4,
             "#fde0ef"
            ],
            [
             0.5,
             "#f7f7f7"
            ],
            [
             0.6,
             "#e6f5d0"
            ],
            [
             0.7,
             "#b8e186"
            ],
            [
             0.8,
             "#7fbc41"
            ],
            [
             0.9,
             "#4d9221"
            ],
            [
             1,
             "#276419"
            ]
           ],
           "sequential": [
            [
             0,
             "#0d0887"
            ],
            [
             0.1111111111111111,
             "#46039f"
            ],
            [
             0.2222222222222222,
             "#7201a8"
            ],
            [
             0.3333333333333333,
             "#9c179e"
            ],
            [
             0.4444444444444444,
             "#bd3786"
            ],
            [
             0.5555555555555556,
             "#d8576b"
            ],
            [
             0.6666666666666666,
             "#ed7953"
            ],
            [
             0.7777777777777778,
             "#fb9f3a"
            ],
            [
             0.8888888888888888,
             "#fdca26"
            ],
            [
             1,
             "#f0f921"
            ]
           ],
           "sequentialminus": [
            [
             0,
             "#0d0887"
            ],
            [
             0.1111111111111111,
             "#46039f"
            ],
            [
             0.2222222222222222,
             "#7201a8"
            ],
            [
             0.3333333333333333,
             "#9c179e"
            ],
            [
             0.4444444444444444,
             "#bd3786"
            ],
            [
             0.5555555555555556,
             "#d8576b"
            ],
            [
             0.6666666666666666,
             "#ed7953"
            ],
            [
             0.7777777777777778,
             "#fb9f3a"
            ],
            [
             0.8888888888888888,
             "#fdca26"
            ],
            [
             1,
             "#f0f921"
            ]
           ]
          },
          "colorway": [
           "#636efa",
           "#EF553B",
           "#00cc96",
           "#ab63fa",
           "#FFA15A",
           "#19d3f3",
           "#FF6692",
           "#B6E880",
           "#FF97FF",
           "#FECB52"
          ],
          "font": {
           "color": "#2a3f5f"
          },
          "geo": {
           "bgcolor": "white",
           "lakecolor": "white",
           "landcolor": "#E5ECF6",
           "showlakes": true,
           "showland": true,
           "subunitcolor": "white"
          },
          "hoverlabel": {
           "align": "left"
          },
          "hovermode": "closest",
          "mapbox": {
           "style": "light"
          },
          "paper_bgcolor": "white",
          "plot_bgcolor": "#E5ECF6",
          "polar": {
           "angularaxis": {
            "gridcolor": "white",
            "linecolor": "white",
            "ticks": ""
           },
           "bgcolor": "#E5ECF6",
           "radialaxis": {
            "gridcolor": "white",
            "linecolor": "white",
            "ticks": ""
           }
          },
          "scene": {
           "xaxis": {
            "backgroundcolor": "#E5ECF6",
            "gridcolor": "white",
            "gridwidth": 2,
            "linecolor": "white",
            "showbackground": true,
            "ticks": "",
            "zerolinecolor": "white"
           },
           "yaxis": {
            "backgroundcolor": "#E5ECF6",
            "gridcolor": "white",
            "gridwidth": 2,
            "linecolor": "white",
            "showbackground": true,
            "ticks": "",
            "zerolinecolor": "white"
           },
           "zaxis": {
            "backgroundcolor": "#E5ECF6",
            "gridcolor": "white",
            "gridwidth": 2,
            "linecolor": "white",
            "showbackground": true,
            "ticks": "",
            "zerolinecolor": "white"
           }
          },
          "shapedefaults": {
           "line": {
            "color": "#2a3f5f"
           }
          },
          "ternary": {
           "aaxis": {
            "gridcolor": "white",
            "linecolor": "white",
            "ticks": ""
           },
           "baxis": {
            "gridcolor": "white",
            "linecolor": "white",
            "ticks": ""
           },
           "bgcolor": "#E5ECF6",
           "caxis": {
            "gridcolor": "white",
            "linecolor": "white",
            "ticks": ""
           }
          },
          "title": {
           "x": 0.05
          },
          "xaxis": {
           "automargin": true,
           "gridcolor": "white",
           "linecolor": "white",
           "ticks": "",
           "title": {
            "standoff": 15
           },
           "zerolinecolor": "white",
           "zerolinewidth": 2
          },
          "yaxis": {
           "automargin": true,
           "gridcolor": "white",
           "linecolor": "white",
           "ticks": "",
           "title": {
            "standoff": 15
           },
           "zerolinecolor": "white",
           "zerolinewidth": 2
          }
         }
        },
        "violinmode": "group",
        "xaxis": {
         "anchor": "y",
         "domain": [
          0,
          1
         ],
         "title": {
          "text": "value"
         }
        },
        "yaxis": {
         "anchor": "x",
         "domain": [
          0,
          1
         ],
         "title": {
          "text": "variable"
         }
        }
       }
      }
     },
     "metadata": {},
     "output_type": "display_data"
    }
   ],
   "source": [
    "fig = px.violin(x=[y0, y1])\n",
    "fig.show()"
   ]
  },
  {
   "cell_type": "markdown",
   "metadata": {},
   "source": [
    "## DataFrame"
   ]
  },
  {
   "cell_type": "code",
   "execution_count": 6,
   "metadata": {},
   "outputs": [
    {
     "data": {
      "text/html": [
       "<div>\n",
       "<style scoped>\n",
       "    .dataframe tbody tr th:only-of-type {\n",
       "        vertical-align: middle;\n",
       "    }\n",
       "\n",
       "    .dataframe tbody tr th {\n",
       "        vertical-align: top;\n",
       "    }\n",
       "\n",
       "    .dataframe thead th {\n",
       "        text-align: right;\n",
       "    }\n",
       "</style>\n",
       "<table border=\"1\" class=\"dataframe\">\n",
       "  <thead>\n",
       "    <tr style=\"text-align: right;\">\n",
       "      <th></th>\n",
       "      <th>total_bill</th>\n",
       "      <th>tip</th>\n",
       "      <th>sex</th>\n",
       "      <th>smoker</th>\n",
       "      <th>day</th>\n",
       "      <th>time</th>\n",
       "      <th>size</th>\n",
       "    </tr>\n",
       "  </thead>\n",
       "  <tbody>\n",
       "    <tr>\n",
       "      <th>0</th>\n",
       "      <td>16.99</td>\n",
       "      <td>1.01</td>\n",
       "      <td>Female</td>\n",
       "      <td>No</td>\n",
       "      <td>Sun</td>\n",
       "      <td>Dinner</td>\n",
       "      <td>2</td>\n",
       "    </tr>\n",
       "    <tr>\n",
       "      <th>1</th>\n",
       "      <td>10.34</td>\n",
       "      <td>1.66</td>\n",
       "      <td>Male</td>\n",
       "      <td>No</td>\n",
       "      <td>Sun</td>\n",
       "      <td>Dinner</td>\n",
       "      <td>3</td>\n",
       "    </tr>\n",
       "    <tr>\n",
       "      <th>2</th>\n",
       "      <td>21.01</td>\n",
       "      <td>3.50</td>\n",
       "      <td>Male</td>\n",
       "      <td>No</td>\n",
       "      <td>Sun</td>\n",
       "      <td>Dinner</td>\n",
       "      <td>3</td>\n",
       "    </tr>\n",
       "    <tr>\n",
       "      <th>3</th>\n",
       "      <td>23.68</td>\n",
       "      <td>3.31</td>\n",
       "      <td>Male</td>\n",
       "      <td>No</td>\n",
       "      <td>Sun</td>\n",
       "      <td>Dinner</td>\n",
       "      <td>2</td>\n",
       "    </tr>\n",
       "    <tr>\n",
       "      <th>4</th>\n",
       "      <td>24.59</td>\n",
       "      <td>3.61</td>\n",
       "      <td>Female</td>\n",
       "      <td>No</td>\n",
       "      <td>Sun</td>\n",
       "      <td>Dinner</td>\n",
       "      <td>4</td>\n",
       "    </tr>\n",
       "  </tbody>\n",
       "</table>\n",
       "</div>"
      ],
      "text/plain": [
       "   total_bill   tip     sex smoker  day    time  size\n",
       "0       16.99  1.01  Female     No  Sun  Dinner     2\n",
       "1       10.34  1.66    Male     No  Sun  Dinner     3\n",
       "2       21.01  3.50    Male     No  Sun  Dinner     3\n",
       "3       23.68  3.31    Male     No  Sun  Dinner     2\n",
       "4       24.59  3.61  Female     No  Sun  Dinner     4"
      ]
     },
     "execution_count": 6,
     "metadata": {},
     "output_type": "execute_result"
    }
   ],
   "source": [
    "tips = px.data.tips()\n",
    "tips.head()"
   ]
  },
  {
   "cell_type": "code",
   "execution_count": 7,
   "metadata": {},
   "outputs": [
    {
     "data": {
      "application/vnd.plotly.v1+json": {
       "config": {
        "plotlyServerURL": "https://plot.ly"
       },
       "data": [
        {
         "alignmentgroup": "True",
         "box": {
          "visible": false
         },
         "hovertemplate": "total_bill=%{y}<extra></extra>",
         "legendgroup": "",
         "marker": {
          "color": "#636efa"
         },
         "name": "",
         "offsetgroup": "",
         "orientation": "v",
         "scalegroup": "True",
         "showlegend": false,
         "type": "violin",
         "x0": " ",
         "xaxis": "x",
         "y": [
          16.99,
          10.34,
          21.01,
          23.68,
          24.59,
          25.29,
          8.77,
          26.88,
          15.04,
          14.78,
          10.27,
          35.26,
          15.42,
          18.43,
          14.83,
          21.58,
          10.33,
          16.29,
          16.97,
          20.65,
          17.92,
          20.29,
          15.77,
          39.42,
          19.82,
          17.81,
          13.37,
          12.69,
          21.7,
          19.65,
          9.55,
          18.35,
          15.06,
          20.69,
          17.78,
          24.06,
          16.31,
          16.93,
          18.69,
          31.27,
          16.04,
          17.46,
          13.94,
          9.68,
          30.4,
          18.29,
          22.23,
          32.4,
          28.55,
          18.04,
          12.54,
          10.29,
          34.81,
          9.94,
          25.56,
          19.49,
          38.01,
          26.41,
          11.24,
          48.27,
          20.29,
          13.81,
          11.02,
          18.29,
          17.59,
          20.08,
          16.45,
          3.07,
          20.23,
          15.01,
          12.02,
          17.07,
          26.86,
          25.28,
          14.73,
          10.51,
          17.92,
          27.2,
          22.76,
          17.29,
          19.44,
          16.66,
          10.07,
          32.68,
          15.98,
          34.83,
          13.03,
          18.28,
          24.71,
          21.16,
          28.97,
          22.49,
          5.75,
          16.32,
          22.75,
          40.17,
          27.28,
          12.03,
          21.01,
          12.46,
          11.35,
          15.38,
          44.3,
          22.42,
          20.92,
          15.36,
          20.49,
          25.21,
          18.24,
          14.31,
          14,
          7.25,
          38.07,
          23.95,
          25.71,
          17.31,
          29.93,
          10.65,
          12.43,
          24.08,
          11.69,
          13.42,
          14.26,
          15.95,
          12.48,
          29.8,
          8.52,
          14.52,
          11.38,
          22.82,
          19.08,
          20.27,
          11.17,
          12.26,
          18.26,
          8.51,
          10.33,
          14.15,
          16,
          13.16,
          17.47,
          34.3,
          41.19,
          27.05,
          16.43,
          8.35,
          18.64,
          11.87,
          9.78,
          7.51,
          14.07,
          13.13,
          17.26,
          24.55,
          19.77,
          29.85,
          48.17,
          25,
          13.39,
          16.49,
          21.5,
          12.66,
          16.21,
          13.81,
          17.51,
          24.52,
          20.76,
          31.71,
          10.59,
          10.63,
          50.81,
          15.81,
          7.25,
          31.85,
          16.82,
          32.9,
          17.89,
          14.48,
          9.6,
          34.63,
          34.65,
          23.33,
          45.35,
          23.17,
          40.55,
          20.69,
          20.9,
          30.46,
          18.15,
          23.1,
          15.69,
          19.81,
          28.44,
          15.48,
          16.58,
          7.56,
          10.34,
          43.11,
          13,
          13.51,
          18.71,
          12.74,
          13,
          16.4,
          20.53,
          16.47,
          26.59,
          38.73,
          24.27,
          12.76,
          30.06,
          25.89,
          48.33,
          13.27,
          28.17,
          12.9,
          28.15,
          11.59,
          7.74,
          30.14,
          12.16,
          13.42,
          8.58,
          15.98,
          13.42,
          16.27,
          10.09,
          20.45,
          13.28,
          22.12,
          24.01,
          15.69,
          11.61,
          10.77,
          15.53,
          10.07,
          12.6,
          32.83,
          35.83,
          29.03,
          27.18,
          22.67,
          17.82,
          18.78
         ],
         "y0": " ",
         "yaxis": "y"
        }
       ],
       "layout": {
        "legend": {
         "tracegroupgap": 0
        },
        "margin": {
         "t": 60
        },
        "template": {
         "data": {
          "bar": [
           {
            "error_x": {
             "color": "#2a3f5f"
            },
            "error_y": {
             "color": "#2a3f5f"
            },
            "marker": {
             "line": {
              "color": "#E5ECF6",
              "width": 0.5
             },
             "pattern": {
              "fillmode": "overlay",
              "size": 10,
              "solidity": 0.2
             }
            },
            "type": "bar"
           }
          ],
          "barpolar": [
           {
            "marker": {
             "line": {
              "color": "#E5ECF6",
              "width": 0.5
             },
             "pattern": {
              "fillmode": "overlay",
              "size": 10,
              "solidity": 0.2
             }
            },
            "type": "barpolar"
           }
          ],
          "carpet": [
           {
            "aaxis": {
             "endlinecolor": "#2a3f5f",
             "gridcolor": "white",
             "linecolor": "white",
             "minorgridcolor": "white",
             "startlinecolor": "#2a3f5f"
            },
            "baxis": {
             "endlinecolor": "#2a3f5f",
             "gridcolor": "white",
             "linecolor": "white",
             "minorgridcolor": "white",
             "startlinecolor": "#2a3f5f"
            },
            "type": "carpet"
           }
          ],
          "choropleth": [
           {
            "colorbar": {
             "outlinewidth": 0,
             "ticks": ""
            },
            "type": "choropleth"
           }
          ],
          "contour": [
           {
            "colorbar": {
             "outlinewidth": 0,
             "ticks": ""
            },
            "colorscale": [
             [
              0,
              "#0d0887"
             ],
             [
              0.1111111111111111,
              "#46039f"
             ],
             [
              0.2222222222222222,
              "#7201a8"
             ],
             [
              0.3333333333333333,
              "#9c179e"
             ],
             [
              0.4444444444444444,
              "#bd3786"
             ],
             [
              0.5555555555555556,
              "#d8576b"
             ],
             [
              0.6666666666666666,
              "#ed7953"
             ],
             [
              0.7777777777777778,
              "#fb9f3a"
             ],
             [
              0.8888888888888888,
              "#fdca26"
             ],
             [
              1,
              "#f0f921"
             ]
            ],
            "type": "contour"
           }
          ],
          "contourcarpet": [
           {
            "colorbar": {
             "outlinewidth": 0,
             "ticks": ""
            },
            "type": "contourcarpet"
           }
          ],
          "heatmap": [
           {
            "colorbar": {
             "outlinewidth": 0,
             "ticks": ""
            },
            "colorscale": [
             [
              0,
              "#0d0887"
             ],
             [
              0.1111111111111111,
              "#46039f"
             ],
             [
              0.2222222222222222,
              "#7201a8"
             ],
             [
              0.3333333333333333,
              "#9c179e"
             ],
             [
              0.4444444444444444,
              "#bd3786"
             ],
             [
              0.5555555555555556,
              "#d8576b"
             ],
             [
              0.6666666666666666,
              "#ed7953"
             ],
             [
              0.7777777777777778,
              "#fb9f3a"
             ],
             [
              0.8888888888888888,
              "#fdca26"
             ],
             [
              1,
              "#f0f921"
             ]
            ],
            "type": "heatmap"
           }
          ],
          "heatmapgl": [
           {
            "colorbar": {
             "outlinewidth": 0,
             "ticks": ""
            },
            "colorscale": [
             [
              0,
              "#0d0887"
             ],
             [
              0.1111111111111111,
              "#46039f"
             ],
             [
              0.2222222222222222,
              "#7201a8"
             ],
             [
              0.3333333333333333,
              "#9c179e"
             ],
             [
              0.4444444444444444,
              "#bd3786"
             ],
             [
              0.5555555555555556,
              "#d8576b"
             ],
             [
              0.6666666666666666,
              "#ed7953"
             ],
             [
              0.7777777777777778,
              "#fb9f3a"
             ],
             [
              0.8888888888888888,
              "#fdca26"
             ],
             [
              1,
              "#f0f921"
             ]
            ],
            "type": "heatmapgl"
           }
          ],
          "histogram": [
           {
            "marker": {
             "pattern": {
              "fillmode": "overlay",
              "size": 10,
              "solidity": 0.2
             }
            },
            "type": "histogram"
           }
          ],
          "histogram2d": [
           {
            "colorbar": {
             "outlinewidth": 0,
             "ticks": ""
            },
            "colorscale": [
             [
              0,
              "#0d0887"
             ],
             [
              0.1111111111111111,
              "#46039f"
             ],
             [
              0.2222222222222222,
              "#7201a8"
             ],
             [
              0.3333333333333333,
              "#9c179e"
             ],
             [
              0.4444444444444444,
              "#bd3786"
             ],
             [
              0.5555555555555556,
              "#d8576b"
             ],
             [
              0.6666666666666666,
              "#ed7953"
             ],
             [
              0.7777777777777778,
              "#fb9f3a"
             ],
             [
              0.8888888888888888,
              "#fdca26"
             ],
             [
              1,
              "#f0f921"
             ]
            ],
            "type": "histogram2d"
           }
          ],
          "histogram2dcontour": [
           {
            "colorbar": {
             "outlinewidth": 0,
             "ticks": ""
            },
            "colorscale": [
             [
              0,
              "#0d0887"
             ],
             [
              0.1111111111111111,
              "#46039f"
             ],
             [
              0.2222222222222222,
              "#7201a8"
             ],
             [
              0.3333333333333333,
              "#9c179e"
             ],
             [
              0.4444444444444444,
              "#bd3786"
             ],
             [
              0.5555555555555556,
              "#d8576b"
             ],
             [
              0.6666666666666666,
              "#ed7953"
             ],
             [
              0.7777777777777778,
              "#fb9f3a"
             ],
             [
              0.8888888888888888,
              "#fdca26"
             ],
             [
              1,
              "#f0f921"
             ]
            ],
            "type": "histogram2dcontour"
           }
          ],
          "mesh3d": [
           {
            "colorbar": {
             "outlinewidth": 0,
             "ticks": ""
            },
            "type": "mesh3d"
           }
          ],
          "parcoords": [
           {
            "line": {
             "colorbar": {
              "outlinewidth": 0,
              "ticks": ""
             }
            },
            "type": "parcoords"
           }
          ],
          "pie": [
           {
            "automargin": true,
            "type": "pie"
           }
          ],
          "scatter": [
           {
            "fillpattern": {
             "fillmode": "overlay",
             "size": 10,
             "solidity": 0.2
            },
            "type": "scatter"
           }
          ],
          "scatter3d": [
           {
            "line": {
             "colorbar": {
              "outlinewidth": 0,
              "ticks": ""
             }
            },
            "marker": {
             "colorbar": {
              "outlinewidth": 0,
              "ticks": ""
             }
            },
            "type": "scatter3d"
           }
          ],
          "scattercarpet": [
           {
            "marker": {
             "colorbar": {
              "outlinewidth": 0,
              "ticks": ""
             }
            },
            "type": "scattercarpet"
           }
          ],
          "scattergeo": [
           {
            "marker": {
             "colorbar": {
              "outlinewidth": 0,
              "ticks": ""
             }
            },
            "type": "scattergeo"
           }
          ],
          "scattergl": [
           {
            "marker": {
             "colorbar": {
              "outlinewidth": 0,
              "ticks": ""
             }
            },
            "type": "scattergl"
           }
          ],
          "scattermapbox": [
           {
            "marker": {
             "colorbar": {
              "outlinewidth": 0,
              "ticks": ""
             }
            },
            "type": "scattermapbox"
           }
          ],
          "scatterpolar": [
           {
            "marker": {
             "colorbar": {
              "outlinewidth": 0,
              "ticks": ""
             }
            },
            "type": "scatterpolar"
           }
          ],
          "scatterpolargl": [
           {
            "marker": {
             "colorbar": {
              "outlinewidth": 0,
              "ticks": ""
             }
            },
            "type": "scatterpolargl"
           }
          ],
          "scatterternary": [
           {
            "marker": {
             "colorbar": {
              "outlinewidth": 0,
              "ticks": ""
             }
            },
            "type": "scatterternary"
           }
          ],
          "surface": [
           {
            "colorbar": {
             "outlinewidth": 0,
             "ticks": ""
            },
            "colorscale": [
             [
              0,
              "#0d0887"
             ],
             [
              0.1111111111111111,
              "#46039f"
             ],
             [
              0.2222222222222222,
              "#7201a8"
             ],
             [
              0.3333333333333333,
              "#9c179e"
             ],
             [
              0.4444444444444444,
              "#bd3786"
             ],
             [
              0.5555555555555556,
              "#d8576b"
             ],
             [
              0.6666666666666666,
              "#ed7953"
             ],
             [
              0.7777777777777778,
              "#fb9f3a"
             ],
             [
              0.8888888888888888,
              "#fdca26"
             ],
             [
              1,
              "#f0f921"
             ]
            ],
            "type": "surface"
           }
          ],
          "table": [
           {
            "cells": {
             "fill": {
              "color": "#EBF0F8"
             },
             "line": {
              "color": "white"
             }
            },
            "header": {
             "fill": {
              "color": "#C8D4E3"
             },
             "line": {
              "color": "white"
             }
            },
            "type": "table"
           }
          ]
         },
         "layout": {
          "annotationdefaults": {
           "arrowcolor": "#2a3f5f",
           "arrowhead": 0,
           "arrowwidth": 1
          },
          "autotypenumbers": "strict",
          "coloraxis": {
           "colorbar": {
            "outlinewidth": 0,
            "ticks": ""
           }
          },
          "colorscale": {
           "diverging": [
            [
             0,
             "#8e0152"
            ],
            [
             0.1,
             "#c51b7d"
            ],
            [
             0.2,
             "#de77ae"
            ],
            [
             0.3,
             "#f1b6da"
            ],
            [
             0.4,
             "#fde0ef"
            ],
            [
             0.5,
             "#f7f7f7"
            ],
            [
             0.6,
             "#e6f5d0"
            ],
            [
             0.7,
             "#b8e186"
            ],
            [
             0.8,
             "#7fbc41"
            ],
            [
             0.9,
             "#4d9221"
            ],
            [
             1,
             "#276419"
            ]
           ],
           "sequential": [
            [
             0,
             "#0d0887"
            ],
            [
             0.1111111111111111,
             "#46039f"
            ],
            [
             0.2222222222222222,
             "#7201a8"
            ],
            [
             0.3333333333333333,
             "#9c179e"
            ],
            [
             0.4444444444444444,
             "#bd3786"
            ],
            [
             0.5555555555555556,
             "#d8576b"
            ],
            [
             0.6666666666666666,
             "#ed7953"
            ],
            [
             0.7777777777777778,
             "#fb9f3a"
            ],
            [
             0.8888888888888888,
             "#fdca26"
            ],
            [
             1,
             "#f0f921"
            ]
           ],
           "sequentialminus": [
            [
             0,
             "#0d0887"
            ],
            [
             0.1111111111111111,
             "#46039f"
            ],
            [
             0.2222222222222222,
             "#7201a8"
            ],
            [
             0.3333333333333333,
             "#9c179e"
            ],
            [
             0.4444444444444444,
             "#bd3786"
            ],
            [
             0.5555555555555556,
             "#d8576b"
            ],
            [
             0.6666666666666666,
             "#ed7953"
            ],
            [
             0.7777777777777778,
             "#fb9f3a"
            ],
            [
             0.8888888888888888,
             "#fdca26"
            ],
            [
             1,
             "#f0f921"
            ]
           ]
          },
          "colorway": [
           "#636efa",
           "#EF553B",
           "#00cc96",
           "#ab63fa",
           "#FFA15A",
           "#19d3f3",
           "#FF6692",
           "#B6E880",
           "#FF97FF",
           "#FECB52"
          ],
          "font": {
           "color": "#2a3f5f"
          },
          "geo": {
           "bgcolor": "white",
           "lakecolor": "white",
           "landcolor": "#E5ECF6",
           "showlakes": true,
           "showland": true,
           "subunitcolor": "white"
          },
          "hoverlabel": {
           "align": "left"
          },
          "hovermode": "closest",
          "mapbox": {
           "style": "light"
          },
          "paper_bgcolor": "white",
          "plot_bgcolor": "#E5ECF6",
          "polar": {
           "angularaxis": {
            "gridcolor": "white",
            "linecolor": "white",
            "ticks": ""
           },
           "bgcolor": "#E5ECF6",
           "radialaxis": {
            "gridcolor": "white",
            "linecolor": "white",
            "ticks": ""
           }
          },
          "scene": {
           "xaxis": {
            "backgroundcolor": "#E5ECF6",
            "gridcolor": "white",
            "gridwidth": 2,
            "linecolor": "white",
            "showbackground": true,
            "ticks": "",
            "zerolinecolor": "white"
           },
           "yaxis": {
            "backgroundcolor": "#E5ECF6",
            "gridcolor": "white",
            "gridwidth": 2,
            "linecolor": "white",
            "showbackground": true,
            "ticks": "",
            "zerolinecolor": "white"
           },
           "zaxis": {
            "backgroundcolor": "#E5ECF6",
            "gridcolor": "white",
            "gridwidth": 2,
            "linecolor": "white",
            "showbackground": true,
            "ticks": "",
            "zerolinecolor": "white"
           }
          },
          "shapedefaults": {
           "line": {
            "color": "#2a3f5f"
           }
          },
          "ternary": {
           "aaxis": {
            "gridcolor": "white",
            "linecolor": "white",
            "ticks": ""
           },
           "baxis": {
            "gridcolor": "white",
            "linecolor": "white",
            "ticks": ""
           },
           "bgcolor": "#E5ECF6",
           "caxis": {
            "gridcolor": "white",
            "linecolor": "white",
            "ticks": ""
           }
          },
          "title": {
           "x": 0.05
          },
          "xaxis": {
           "automargin": true,
           "gridcolor": "white",
           "linecolor": "white",
           "ticks": "",
           "title": {
            "standoff": 15
           },
           "zerolinecolor": "white",
           "zerolinewidth": 2
          },
          "yaxis": {
           "automargin": true,
           "gridcolor": "white",
           "linecolor": "white",
           "ticks": "",
           "title": {
            "standoff": 15
           },
           "zerolinecolor": "white",
           "zerolinewidth": 2
          }
         }
        },
        "violinmode": "group",
        "xaxis": {
         "anchor": "y",
         "domain": [
          0,
          1
         ]
        },
        "yaxis": {
         "anchor": "x",
         "domain": [
          0,
          1
         ],
         "title": {
          "text": "total_bill"
         }
        }
       }
      }
     },
     "metadata": {},
     "output_type": "display_data"
    }
   ],
   "source": [
    "fig = px.violin(data_frame=tips, y=\"total_bill\")\n",
    "fig.show()"
   ]
  },
  {
   "cell_type": "code",
   "execution_count": 8,
   "metadata": {},
   "outputs": [
    {
     "data": {
      "application/vnd.plotly.v1+json": {
       "config": {
        "plotlyServerURL": "https://plot.ly"
       },
       "data": [
        {
         "alignmentgroup": "True",
         "box": {
          "visible": false
         },
         "hovertemplate": "total_bill=%{x}<extra></extra>",
         "legendgroup": "",
         "marker": {
          "color": "#636efa"
         },
         "name": "",
         "offsetgroup": "",
         "orientation": "h",
         "scalegroup": "True",
         "showlegend": false,
         "type": "violin",
         "x": [
          16.99,
          10.34,
          21.01,
          23.68,
          24.59,
          25.29,
          8.77,
          26.88,
          15.04,
          14.78,
          10.27,
          35.26,
          15.42,
          18.43,
          14.83,
          21.58,
          10.33,
          16.29,
          16.97,
          20.65,
          17.92,
          20.29,
          15.77,
          39.42,
          19.82,
          17.81,
          13.37,
          12.69,
          21.7,
          19.65,
          9.55,
          18.35,
          15.06,
          20.69,
          17.78,
          24.06,
          16.31,
          16.93,
          18.69,
          31.27,
          16.04,
          17.46,
          13.94,
          9.68,
          30.4,
          18.29,
          22.23,
          32.4,
          28.55,
          18.04,
          12.54,
          10.29,
          34.81,
          9.94,
          25.56,
          19.49,
          38.01,
          26.41,
          11.24,
          48.27,
          20.29,
          13.81,
          11.02,
          18.29,
          17.59,
          20.08,
          16.45,
          3.07,
          20.23,
          15.01,
          12.02,
          17.07,
          26.86,
          25.28,
          14.73,
          10.51,
          17.92,
          27.2,
          22.76,
          17.29,
          19.44,
          16.66,
          10.07,
          32.68,
          15.98,
          34.83,
          13.03,
          18.28,
          24.71,
          21.16,
          28.97,
          22.49,
          5.75,
          16.32,
          22.75,
          40.17,
          27.28,
          12.03,
          21.01,
          12.46,
          11.35,
          15.38,
          44.3,
          22.42,
          20.92,
          15.36,
          20.49,
          25.21,
          18.24,
          14.31,
          14,
          7.25,
          38.07,
          23.95,
          25.71,
          17.31,
          29.93,
          10.65,
          12.43,
          24.08,
          11.69,
          13.42,
          14.26,
          15.95,
          12.48,
          29.8,
          8.52,
          14.52,
          11.38,
          22.82,
          19.08,
          20.27,
          11.17,
          12.26,
          18.26,
          8.51,
          10.33,
          14.15,
          16,
          13.16,
          17.47,
          34.3,
          41.19,
          27.05,
          16.43,
          8.35,
          18.64,
          11.87,
          9.78,
          7.51,
          14.07,
          13.13,
          17.26,
          24.55,
          19.77,
          29.85,
          48.17,
          25,
          13.39,
          16.49,
          21.5,
          12.66,
          16.21,
          13.81,
          17.51,
          24.52,
          20.76,
          31.71,
          10.59,
          10.63,
          50.81,
          15.81,
          7.25,
          31.85,
          16.82,
          32.9,
          17.89,
          14.48,
          9.6,
          34.63,
          34.65,
          23.33,
          45.35,
          23.17,
          40.55,
          20.69,
          20.9,
          30.46,
          18.15,
          23.1,
          15.69,
          19.81,
          28.44,
          15.48,
          16.58,
          7.56,
          10.34,
          43.11,
          13,
          13.51,
          18.71,
          12.74,
          13,
          16.4,
          20.53,
          16.47,
          26.59,
          38.73,
          24.27,
          12.76,
          30.06,
          25.89,
          48.33,
          13.27,
          28.17,
          12.9,
          28.15,
          11.59,
          7.74,
          30.14,
          12.16,
          13.42,
          8.58,
          15.98,
          13.42,
          16.27,
          10.09,
          20.45,
          13.28,
          22.12,
          24.01,
          15.69,
          11.61,
          10.77,
          15.53,
          10.07,
          12.6,
          32.83,
          35.83,
          29.03,
          27.18,
          22.67,
          17.82,
          18.78
         ],
         "x0": " ",
         "xaxis": "x",
         "y0": " ",
         "yaxis": "y"
        }
       ],
       "layout": {
        "legend": {
         "tracegroupgap": 0
        },
        "margin": {
         "t": 60
        },
        "template": {
         "data": {
          "bar": [
           {
            "error_x": {
             "color": "#2a3f5f"
            },
            "error_y": {
             "color": "#2a3f5f"
            },
            "marker": {
             "line": {
              "color": "#E5ECF6",
              "width": 0.5
             },
             "pattern": {
              "fillmode": "overlay",
              "size": 10,
              "solidity": 0.2
             }
            },
            "type": "bar"
           }
          ],
          "barpolar": [
           {
            "marker": {
             "line": {
              "color": "#E5ECF6",
              "width": 0.5
             },
             "pattern": {
              "fillmode": "overlay",
              "size": 10,
              "solidity": 0.2
             }
            },
            "type": "barpolar"
           }
          ],
          "carpet": [
           {
            "aaxis": {
             "endlinecolor": "#2a3f5f",
             "gridcolor": "white",
             "linecolor": "white",
             "minorgridcolor": "white",
             "startlinecolor": "#2a3f5f"
            },
            "baxis": {
             "endlinecolor": "#2a3f5f",
             "gridcolor": "white",
             "linecolor": "white",
             "minorgridcolor": "white",
             "startlinecolor": "#2a3f5f"
            },
            "type": "carpet"
           }
          ],
          "choropleth": [
           {
            "colorbar": {
             "outlinewidth": 0,
             "ticks": ""
            },
            "type": "choropleth"
           }
          ],
          "contour": [
           {
            "colorbar": {
             "outlinewidth": 0,
             "ticks": ""
            },
            "colorscale": [
             [
              0,
              "#0d0887"
             ],
             [
              0.1111111111111111,
              "#46039f"
             ],
             [
              0.2222222222222222,
              "#7201a8"
             ],
             [
              0.3333333333333333,
              "#9c179e"
             ],
             [
              0.4444444444444444,
              "#bd3786"
             ],
             [
              0.5555555555555556,
              "#d8576b"
             ],
             [
              0.6666666666666666,
              "#ed7953"
             ],
             [
              0.7777777777777778,
              "#fb9f3a"
             ],
             [
              0.8888888888888888,
              "#fdca26"
             ],
             [
              1,
              "#f0f921"
             ]
            ],
            "type": "contour"
           }
          ],
          "contourcarpet": [
           {
            "colorbar": {
             "outlinewidth": 0,
             "ticks": ""
            },
            "type": "contourcarpet"
           }
          ],
          "heatmap": [
           {
            "colorbar": {
             "outlinewidth": 0,
             "ticks": ""
            },
            "colorscale": [
             [
              0,
              "#0d0887"
             ],
             [
              0.1111111111111111,
              "#46039f"
             ],
             [
              0.2222222222222222,
              "#7201a8"
             ],
             [
              0.3333333333333333,
              "#9c179e"
             ],
             [
              0.4444444444444444,
              "#bd3786"
             ],
             [
              0.5555555555555556,
              "#d8576b"
             ],
             [
              0.6666666666666666,
              "#ed7953"
             ],
             [
              0.7777777777777778,
              "#fb9f3a"
             ],
             [
              0.8888888888888888,
              "#fdca26"
             ],
             [
              1,
              "#f0f921"
             ]
            ],
            "type": "heatmap"
           }
          ],
          "heatmapgl": [
           {
            "colorbar": {
             "outlinewidth": 0,
             "ticks": ""
            },
            "colorscale": [
             [
              0,
              "#0d0887"
             ],
             [
              0.1111111111111111,
              "#46039f"
             ],
             [
              0.2222222222222222,
              "#7201a8"
             ],
             [
              0.3333333333333333,
              "#9c179e"
             ],
             [
              0.4444444444444444,
              "#bd3786"
             ],
             [
              0.5555555555555556,
              "#d8576b"
             ],
             [
              0.6666666666666666,
              "#ed7953"
             ],
             [
              0.7777777777777778,
              "#fb9f3a"
             ],
             [
              0.8888888888888888,
              "#fdca26"
             ],
             [
              1,
              "#f0f921"
             ]
            ],
            "type": "heatmapgl"
           }
          ],
          "histogram": [
           {
            "marker": {
             "pattern": {
              "fillmode": "overlay",
              "size": 10,
              "solidity": 0.2
             }
            },
            "type": "histogram"
           }
          ],
          "histogram2d": [
           {
            "colorbar": {
             "outlinewidth": 0,
             "ticks": ""
            },
            "colorscale": [
             [
              0,
              "#0d0887"
             ],
             [
              0.1111111111111111,
              "#46039f"
             ],
             [
              0.2222222222222222,
              "#7201a8"
             ],
             [
              0.3333333333333333,
              "#9c179e"
             ],
             [
              0.4444444444444444,
              "#bd3786"
             ],
             [
              0.5555555555555556,
              "#d8576b"
             ],
             [
              0.6666666666666666,
              "#ed7953"
             ],
             [
              0.7777777777777778,
              "#fb9f3a"
             ],
             [
              0.8888888888888888,
              "#fdca26"
             ],
             [
              1,
              "#f0f921"
             ]
            ],
            "type": "histogram2d"
           }
          ],
          "histogram2dcontour": [
           {
            "colorbar": {
             "outlinewidth": 0,
             "ticks": ""
            },
            "colorscale": [
             [
              0,
              "#0d0887"
             ],
             [
              0.1111111111111111,
              "#46039f"
             ],
             [
              0.2222222222222222,
              "#7201a8"
             ],
             [
              0.3333333333333333,
              "#9c179e"
             ],
             [
              0.4444444444444444,
              "#bd3786"
             ],
             [
              0.5555555555555556,
              "#d8576b"
             ],
             [
              0.6666666666666666,
              "#ed7953"
             ],
             [
              0.7777777777777778,
              "#fb9f3a"
             ],
             [
              0.8888888888888888,
              "#fdca26"
             ],
             [
              1,
              "#f0f921"
             ]
            ],
            "type": "histogram2dcontour"
           }
          ],
          "mesh3d": [
           {
            "colorbar": {
             "outlinewidth": 0,
             "ticks": ""
            },
            "type": "mesh3d"
           }
          ],
          "parcoords": [
           {
            "line": {
             "colorbar": {
              "outlinewidth": 0,
              "ticks": ""
             }
            },
            "type": "parcoords"
           }
          ],
          "pie": [
           {
            "automargin": true,
            "type": "pie"
           }
          ],
          "scatter": [
           {
            "fillpattern": {
             "fillmode": "overlay",
             "size": 10,
             "solidity": 0.2
            },
            "type": "scatter"
           }
          ],
          "scatter3d": [
           {
            "line": {
             "colorbar": {
              "outlinewidth": 0,
              "ticks": ""
             }
            },
            "marker": {
             "colorbar": {
              "outlinewidth": 0,
              "ticks": ""
             }
            },
            "type": "scatter3d"
           }
          ],
          "scattercarpet": [
           {
            "marker": {
             "colorbar": {
              "outlinewidth": 0,
              "ticks": ""
             }
            },
            "type": "scattercarpet"
           }
          ],
          "scattergeo": [
           {
            "marker": {
             "colorbar": {
              "outlinewidth": 0,
              "ticks": ""
             }
            },
            "type": "scattergeo"
           }
          ],
          "scattergl": [
           {
            "marker": {
             "colorbar": {
              "outlinewidth": 0,
              "ticks": ""
             }
            },
            "type": "scattergl"
           }
          ],
          "scattermapbox": [
           {
            "marker": {
             "colorbar": {
              "outlinewidth": 0,
              "ticks": ""
             }
            },
            "type": "scattermapbox"
           }
          ],
          "scatterpolar": [
           {
            "marker": {
             "colorbar": {
              "outlinewidth": 0,
              "ticks": ""
             }
            },
            "type": "scatterpolar"
           }
          ],
          "scatterpolargl": [
           {
            "marker": {
             "colorbar": {
              "outlinewidth": 0,
              "ticks": ""
             }
            },
            "type": "scatterpolargl"
           }
          ],
          "scatterternary": [
           {
            "marker": {
             "colorbar": {
              "outlinewidth": 0,
              "ticks": ""
             }
            },
            "type": "scatterternary"
           }
          ],
          "surface": [
           {
            "colorbar": {
             "outlinewidth": 0,
             "ticks": ""
            },
            "colorscale": [
             [
              0,
              "#0d0887"
             ],
             [
              0.1111111111111111,
              "#46039f"
             ],
             [
              0.2222222222222222,
              "#7201a8"
             ],
             [
              0.3333333333333333,
              "#9c179e"
             ],
             [
              0.4444444444444444,
              "#bd3786"
             ],
             [
              0.5555555555555556,
              "#d8576b"
             ],
             [
              0.6666666666666666,
              "#ed7953"
             ],
             [
              0.7777777777777778,
              "#fb9f3a"
             ],
             [
              0.8888888888888888,
              "#fdca26"
             ],
             [
              1,
              "#f0f921"
             ]
            ],
            "type": "surface"
           }
          ],
          "table": [
           {
            "cells": {
             "fill": {
              "color": "#EBF0F8"
             },
             "line": {
              "color": "white"
             }
            },
            "header": {
             "fill": {
              "color": "#C8D4E3"
             },
             "line": {
              "color": "white"
             }
            },
            "type": "table"
           }
          ]
         },
         "layout": {
          "annotationdefaults": {
           "arrowcolor": "#2a3f5f",
           "arrowhead": 0,
           "arrowwidth": 1
          },
          "autotypenumbers": "strict",
          "coloraxis": {
           "colorbar": {
            "outlinewidth": 0,
            "ticks": ""
           }
          },
          "colorscale": {
           "diverging": [
            [
             0,
             "#8e0152"
            ],
            [
             0.1,
             "#c51b7d"
            ],
            [
             0.2,
             "#de77ae"
            ],
            [
             0.3,
             "#f1b6da"
            ],
            [
             0.4,
             "#fde0ef"
            ],
            [
             0.5,
             "#f7f7f7"
            ],
            [
             0.6,
             "#e6f5d0"
            ],
            [
             0.7,
             "#b8e186"
            ],
            [
             0.8,
             "#7fbc41"
            ],
            [
             0.9,
             "#4d9221"
            ],
            [
             1,
             "#276419"
            ]
           ],
           "sequential": [
            [
             0,
             "#0d0887"
            ],
            [
             0.1111111111111111,
             "#46039f"
            ],
            [
             0.2222222222222222,
             "#7201a8"
            ],
            [
             0.3333333333333333,
             "#9c179e"
            ],
            [
             0.4444444444444444,
             "#bd3786"
            ],
            [
             0.5555555555555556,
             "#d8576b"
            ],
            [
             0.6666666666666666,
             "#ed7953"
            ],
            [
             0.7777777777777778,
             "#fb9f3a"
            ],
            [
             0.8888888888888888,
             "#fdca26"
            ],
            [
             1,
             "#f0f921"
            ]
           ],
           "sequentialminus": [
            [
             0,
             "#0d0887"
            ],
            [
             0.1111111111111111,
             "#46039f"
            ],
            [
             0.2222222222222222,
             "#7201a8"
            ],
            [
             0.3333333333333333,
             "#9c179e"
            ],
            [
             0.4444444444444444,
             "#bd3786"
            ],
            [
             0.5555555555555556,
             "#d8576b"
            ],
            [
             0.6666666666666666,
             "#ed7953"
            ],
            [
             0.7777777777777778,
             "#fb9f3a"
            ],
            [
             0.8888888888888888,
             "#fdca26"
            ],
            [
             1,
             "#f0f921"
            ]
           ]
          },
          "colorway": [
           "#636efa",
           "#EF553B",
           "#00cc96",
           "#ab63fa",
           "#FFA15A",
           "#19d3f3",
           "#FF6692",
           "#B6E880",
           "#FF97FF",
           "#FECB52"
          ],
          "font": {
           "color": "#2a3f5f"
          },
          "geo": {
           "bgcolor": "white",
           "lakecolor": "white",
           "landcolor": "#E5ECF6",
           "showlakes": true,
           "showland": true,
           "subunitcolor": "white"
          },
          "hoverlabel": {
           "align": "left"
          },
          "hovermode": "closest",
          "mapbox": {
           "style": "light"
          },
          "paper_bgcolor": "white",
          "plot_bgcolor": "#E5ECF6",
          "polar": {
           "angularaxis": {
            "gridcolor": "white",
            "linecolor": "white",
            "ticks": ""
           },
           "bgcolor": "#E5ECF6",
           "radialaxis": {
            "gridcolor": "white",
            "linecolor": "white",
            "ticks": ""
           }
          },
          "scene": {
           "xaxis": {
            "backgroundcolor": "#E5ECF6",
            "gridcolor": "white",
            "gridwidth": 2,
            "linecolor": "white",
            "showbackground": true,
            "ticks": "",
            "zerolinecolor": "white"
           },
           "yaxis": {
            "backgroundcolor": "#E5ECF6",
            "gridcolor": "white",
            "gridwidth": 2,
            "linecolor": "white",
            "showbackground": true,
            "ticks": "",
            "zerolinecolor": "white"
           },
           "zaxis": {
            "backgroundcolor": "#E5ECF6",
            "gridcolor": "white",
            "gridwidth": 2,
            "linecolor": "white",
            "showbackground": true,
            "ticks": "",
            "zerolinecolor": "white"
           }
          },
          "shapedefaults": {
           "line": {
            "color": "#2a3f5f"
           }
          },
          "ternary": {
           "aaxis": {
            "gridcolor": "white",
            "linecolor": "white",
            "ticks": ""
           },
           "baxis": {
            "gridcolor": "white",
            "linecolor": "white",
            "ticks": ""
           },
           "bgcolor": "#E5ECF6",
           "caxis": {
            "gridcolor": "white",
            "linecolor": "white",
            "ticks": ""
           }
          },
          "title": {
           "x": 0.05
          },
          "xaxis": {
           "automargin": true,
           "gridcolor": "white",
           "linecolor": "white",
           "ticks": "",
           "title": {
            "standoff": 15
           },
           "zerolinecolor": "white",
           "zerolinewidth": 2
          },
          "yaxis": {
           "automargin": true,
           "gridcolor": "white",
           "linecolor": "white",
           "ticks": "",
           "title": {
            "standoff": 15
           },
           "zerolinecolor": "white",
           "zerolinewidth": 2
          }
         }
        },
        "violinmode": "group",
        "xaxis": {
         "anchor": "y",
         "domain": [
          0,
          1
         ],
         "title": {
          "text": "total_bill"
         }
        },
        "yaxis": {
         "anchor": "x",
         "domain": [
          0,
          1
         ]
        }
       }
      }
     },
     "metadata": {},
     "output_type": "display_data"
    }
   ],
   "source": [
    "fig = px.violin(data_frame=tips, x=\"total_bill\")\n",
    "fig.show()"
   ]
  },
  {
   "cell_type": "markdown",
   "metadata": {},
   "source": [
    "## Violin plot with box and data points"
   ]
  },
  {
   "cell_type": "code",
   "execution_count": 10,
   "metadata": {},
   "outputs": [
    {
     "data": {
      "application/vnd.plotly.v1+json": {
       "config": {
        "plotlyServerURL": "https://plot.ly"
       },
       "data": [
        {
         "alignmentgroup": "True",
         "box": {
          "visible": true
         },
         "hovertemplate": "total_bill=%{y}<extra></extra>",
         "legendgroup": "",
         "marker": {
          "color": "#636efa"
         },
         "name": "",
         "offsetgroup": "",
         "orientation": "v",
         "points": "all",
         "scalegroup": "True",
         "showlegend": false,
         "type": "violin",
         "x0": " ",
         "xaxis": "x",
         "y": [
          16.99,
          10.34,
          21.01,
          23.68,
          24.59,
          25.29,
          8.77,
          26.88,
          15.04,
          14.78,
          10.27,
          35.26,
          15.42,
          18.43,
          14.83,
          21.58,
          10.33,
          16.29,
          16.97,
          20.65,
          17.92,
          20.29,
          15.77,
          39.42,
          19.82,
          17.81,
          13.37,
          12.69,
          21.7,
          19.65,
          9.55,
          18.35,
          15.06,
          20.69,
          17.78,
          24.06,
          16.31,
          16.93,
          18.69,
          31.27,
          16.04,
          17.46,
          13.94,
          9.68,
          30.4,
          18.29,
          22.23,
          32.4,
          28.55,
          18.04,
          12.54,
          10.29,
          34.81,
          9.94,
          25.56,
          19.49,
          38.01,
          26.41,
          11.24,
          48.27,
          20.29,
          13.81,
          11.02,
          18.29,
          17.59,
          20.08,
          16.45,
          3.07,
          20.23,
          15.01,
          12.02,
          17.07,
          26.86,
          25.28,
          14.73,
          10.51,
          17.92,
          27.2,
          22.76,
          17.29,
          19.44,
          16.66,
          10.07,
          32.68,
          15.98,
          34.83,
          13.03,
          18.28,
          24.71,
          21.16,
          28.97,
          22.49,
          5.75,
          16.32,
          22.75,
          40.17,
          27.28,
          12.03,
          21.01,
          12.46,
          11.35,
          15.38,
          44.3,
          22.42,
          20.92,
          15.36,
          20.49,
          25.21,
          18.24,
          14.31,
          14,
          7.25,
          38.07,
          23.95,
          25.71,
          17.31,
          29.93,
          10.65,
          12.43,
          24.08,
          11.69,
          13.42,
          14.26,
          15.95,
          12.48,
          29.8,
          8.52,
          14.52,
          11.38,
          22.82,
          19.08,
          20.27,
          11.17,
          12.26,
          18.26,
          8.51,
          10.33,
          14.15,
          16,
          13.16,
          17.47,
          34.3,
          41.19,
          27.05,
          16.43,
          8.35,
          18.64,
          11.87,
          9.78,
          7.51,
          14.07,
          13.13,
          17.26,
          24.55,
          19.77,
          29.85,
          48.17,
          25,
          13.39,
          16.49,
          21.5,
          12.66,
          16.21,
          13.81,
          17.51,
          24.52,
          20.76,
          31.71,
          10.59,
          10.63,
          50.81,
          15.81,
          7.25,
          31.85,
          16.82,
          32.9,
          17.89,
          14.48,
          9.6,
          34.63,
          34.65,
          23.33,
          45.35,
          23.17,
          40.55,
          20.69,
          20.9,
          30.46,
          18.15,
          23.1,
          15.69,
          19.81,
          28.44,
          15.48,
          16.58,
          7.56,
          10.34,
          43.11,
          13,
          13.51,
          18.71,
          12.74,
          13,
          16.4,
          20.53,
          16.47,
          26.59,
          38.73,
          24.27,
          12.76,
          30.06,
          25.89,
          48.33,
          13.27,
          28.17,
          12.9,
          28.15,
          11.59,
          7.74,
          30.14,
          12.16,
          13.42,
          8.58,
          15.98,
          13.42,
          16.27,
          10.09,
          20.45,
          13.28,
          22.12,
          24.01,
          15.69,
          11.61,
          10.77,
          15.53,
          10.07,
          12.6,
          32.83,
          35.83,
          29.03,
          27.18,
          22.67,
          17.82,
          18.78
         ],
         "y0": " ",
         "yaxis": "y"
        }
       ],
       "layout": {
        "legend": {
         "tracegroupgap": 0
        },
        "margin": {
         "t": 60
        },
        "template": {
         "data": {
          "bar": [
           {
            "error_x": {
             "color": "#2a3f5f"
            },
            "error_y": {
             "color": "#2a3f5f"
            },
            "marker": {
             "line": {
              "color": "#E5ECF6",
              "width": 0.5
             },
             "pattern": {
              "fillmode": "overlay",
              "size": 10,
              "solidity": 0.2
             }
            },
            "type": "bar"
           }
          ],
          "barpolar": [
           {
            "marker": {
             "line": {
              "color": "#E5ECF6",
              "width": 0.5
             },
             "pattern": {
              "fillmode": "overlay",
              "size": 10,
              "solidity": 0.2
             }
            },
            "type": "barpolar"
           }
          ],
          "carpet": [
           {
            "aaxis": {
             "endlinecolor": "#2a3f5f",
             "gridcolor": "white",
             "linecolor": "white",
             "minorgridcolor": "white",
             "startlinecolor": "#2a3f5f"
            },
            "baxis": {
             "endlinecolor": "#2a3f5f",
             "gridcolor": "white",
             "linecolor": "white",
             "minorgridcolor": "white",
             "startlinecolor": "#2a3f5f"
            },
            "type": "carpet"
           }
          ],
          "choropleth": [
           {
            "colorbar": {
             "outlinewidth": 0,
             "ticks": ""
            },
            "type": "choropleth"
           }
          ],
          "contour": [
           {
            "colorbar": {
             "outlinewidth": 0,
             "ticks": ""
            },
            "colorscale": [
             [
              0,
              "#0d0887"
             ],
             [
              0.1111111111111111,
              "#46039f"
             ],
             [
              0.2222222222222222,
              "#7201a8"
             ],
             [
              0.3333333333333333,
              "#9c179e"
             ],
             [
              0.4444444444444444,
              "#bd3786"
             ],
             [
              0.5555555555555556,
              "#d8576b"
             ],
             [
              0.6666666666666666,
              "#ed7953"
             ],
             [
              0.7777777777777778,
              "#fb9f3a"
             ],
             [
              0.8888888888888888,
              "#fdca26"
             ],
             [
              1,
              "#f0f921"
             ]
            ],
            "type": "contour"
           }
          ],
          "contourcarpet": [
           {
            "colorbar": {
             "outlinewidth": 0,
             "ticks": ""
            },
            "type": "contourcarpet"
           }
          ],
          "heatmap": [
           {
            "colorbar": {
             "outlinewidth": 0,
             "ticks": ""
            },
            "colorscale": [
             [
              0,
              "#0d0887"
             ],
             [
              0.1111111111111111,
              "#46039f"
             ],
             [
              0.2222222222222222,
              "#7201a8"
             ],
             [
              0.3333333333333333,
              "#9c179e"
             ],
             [
              0.4444444444444444,
              "#bd3786"
             ],
             [
              0.5555555555555556,
              "#d8576b"
             ],
             [
              0.6666666666666666,
              "#ed7953"
             ],
             [
              0.7777777777777778,
              "#fb9f3a"
             ],
             [
              0.8888888888888888,
              "#fdca26"
             ],
             [
              1,
              "#f0f921"
             ]
            ],
            "type": "heatmap"
           }
          ],
          "heatmapgl": [
           {
            "colorbar": {
             "outlinewidth": 0,
             "ticks": ""
            },
            "colorscale": [
             [
              0,
              "#0d0887"
             ],
             [
              0.1111111111111111,
              "#46039f"
             ],
             [
              0.2222222222222222,
              "#7201a8"
             ],
             [
              0.3333333333333333,
              "#9c179e"
             ],
             [
              0.4444444444444444,
              "#bd3786"
             ],
             [
              0.5555555555555556,
              "#d8576b"
             ],
             [
              0.6666666666666666,
              "#ed7953"
             ],
             [
              0.7777777777777778,
              "#fb9f3a"
             ],
             [
              0.8888888888888888,
              "#fdca26"
             ],
             [
              1,
              "#f0f921"
             ]
            ],
            "type": "heatmapgl"
           }
          ],
          "histogram": [
           {
            "marker": {
             "pattern": {
              "fillmode": "overlay",
              "size": 10,
              "solidity": 0.2
             }
            },
            "type": "histogram"
           }
          ],
          "histogram2d": [
           {
            "colorbar": {
             "outlinewidth": 0,
             "ticks": ""
            },
            "colorscale": [
             [
              0,
              "#0d0887"
             ],
             [
              0.1111111111111111,
              "#46039f"
             ],
             [
              0.2222222222222222,
              "#7201a8"
             ],
             [
              0.3333333333333333,
              "#9c179e"
             ],
             [
              0.4444444444444444,
              "#bd3786"
             ],
             [
              0.5555555555555556,
              "#d8576b"
             ],
             [
              0.6666666666666666,
              "#ed7953"
             ],
             [
              0.7777777777777778,
              "#fb9f3a"
             ],
             [
              0.8888888888888888,
              "#fdca26"
             ],
             [
              1,
              "#f0f921"
             ]
            ],
            "type": "histogram2d"
           }
          ],
          "histogram2dcontour": [
           {
            "colorbar": {
             "outlinewidth": 0,
             "ticks": ""
            },
            "colorscale": [
             [
              0,
              "#0d0887"
             ],
             [
              0.1111111111111111,
              "#46039f"
             ],
             [
              0.2222222222222222,
              "#7201a8"
             ],
             [
              0.3333333333333333,
              "#9c179e"
             ],
             [
              0.4444444444444444,
              "#bd3786"
             ],
             [
              0.5555555555555556,
              "#d8576b"
             ],
             [
              0.6666666666666666,
              "#ed7953"
             ],
             [
              0.7777777777777778,
              "#fb9f3a"
             ],
             [
              0.8888888888888888,
              "#fdca26"
             ],
             [
              1,
              "#f0f921"
             ]
            ],
            "type": "histogram2dcontour"
           }
          ],
          "mesh3d": [
           {
            "colorbar": {
             "outlinewidth": 0,
             "ticks": ""
            },
            "type": "mesh3d"
           }
          ],
          "parcoords": [
           {
            "line": {
             "colorbar": {
              "outlinewidth": 0,
              "ticks": ""
             }
            },
            "type": "parcoords"
           }
          ],
          "pie": [
           {
            "automargin": true,
            "type": "pie"
           }
          ],
          "scatter": [
           {
            "fillpattern": {
             "fillmode": "overlay",
             "size": 10,
             "solidity": 0.2
            },
            "type": "scatter"
           }
          ],
          "scatter3d": [
           {
            "line": {
             "colorbar": {
              "outlinewidth": 0,
              "ticks": ""
             }
            },
            "marker": {
             "colorbar": {
              "outlinewidth": 0,
              "ticks": ""
             }
            },
            "type": "scatter3d"
           }
          ],
          "scattercarpet": [
           {
            "marker": {
             "colorbar": {
              "outlinewidth": 0,
              "ticks": ""
             }
            },
            "type": "scattercarpet"
           }
          ],
          "scattergeo": [
           {
            "marker": {
             "colorbar": {
              "outlinewidth": 0,
              "ticks": ""
             }
            },
            "type": "scattergeo"
           }
          ],
          "scattergl": [
           {
            "marker": {
             "colorbar": {
              "outlinewidth": 0,
              "ticks": ""
             }
            },
            "type": "scattergl"
           }
          ],
          "scattermapbox": [
           {
            "marker": {
             "colorbar": {
              "outlinewidth": 0,
              "ticks": ""
             }
            },
            "type": "scattermapbox"
           }
          ],
          "scatterpolar": [
           {
            "marker": {
             "colorbar": {
              "outlinewidth": 0,
              "ticks": ""
             }
            },
            "type": "scatterpolar"
           }
          ],
          "scatterpolargl": [
           {
            "marker": {
             "colorbar": {
              "outlinewidth": 0,
              "ticks": ""
             }
            },
            "type": "scatterpolargl"
           }
          ],
          "scatterternary": [
           {
            "marker": {
             "colorbar": {
              "outlinewidth": 0,
              "ticks": ""
             }
            },
            "type": "scatterternary"
           }
          ],
          "surface": [
           {
            "colorbar": {
             "outlinewidth": 0,
             "ticks": ""
            },
            "colorscale": [
             [
              0,
              "#0d0887"
             ],
             [
              0.1111111111111111,
              "#46039f"
             ],
             [
              0.2222222222222222,
              "#7201a8"
             ],
             [
              0.3333333333333333,
              "#9c179e"
             ],
             [
              0.4444444444444444,
              "#bd3786"
             ],
             [
              0.5555555555555556,
              "#d8576b"
             ],
             [
              0.6666666666666666,
              "#ed7953"
             ],
             [
              0.7777777777777778,
              "#fb9f3a"
             ],
             [
              0.8888888888888888,
              "#fdca26"
             ],
             [
              1,
              "#f0f921"
             ]
            ],
            "type": "surface"
           }
          ],
          "table": [
           {
            "cells": {
             "fill": {
              "color": "#EBF0F8"
             },
             "line": {
              "color": "white"
             }
            },
            "header": {
             "fill": {
              "color": "#C8D4E3"
             },
             "line": {
              "color": "white"
             }
            },
            "type": "table"
           }
          ]
         },
         "layout": {
          "annotationdefaults": {
           "arrowcolor": "#2a3f5f",
           "arrowhead": 0,
           "arrowwidth": 1
          },
          "autotypenumbers": "strict",
          "coloraxis": {
           "colorbar": {
            "outlinewidth": 0,
            "ticks": ""
           }
          },
          "colorscale": {
           "diverging": [
            [
             0,
             "#8e0152"
            ],
            [
             0.1,
             "#c51b7d"
            ],
            [
             0.2,
             "#de77ae"
            ],
            [
             0.3,
             "#f1b6da"
            ],
            [
             0.4,
             "#fde0ef"
            ],
            [
             0.5,
             "#f7f7f7"
            ],
            [
             0.6,
             "#e6f5d0"
            ],
            [
             0.7,
             "#b8e186"
            ],
            [
             0.8,
             "#7fbc41"
            ],
            [
             0.9,
             "#4d9221"
            ],
            [
             1,
             "#276419"
            ]
           ],
           "sequential": [
            [
             0,
             "#0d0887"
            ],
            [
             0.1111111111111111,
             "#46039f"
            ],
            [
             0.2222222222222222,
             "#7201a8"
            ],
            [
             0.3333333333333333,
             "#9c179e"
            ],
            [
             0.4444444444444444,
             "#bd3786"
            ],
            [
             0.5555555555555556,
             "#d8576b"
            ],
            [
             0.6666666666666666,
             "#ed7953"
            ],
            [
             0.7777777777777778,
             "#fb9f3a"
            ],
            [
             0.8888888888888888,
             "#fdca26"
            ],
            [
             1,
             "#f0f921"
            ]
           ],
           "sequentialminus": [
            [
             0,
             "#0d0887"
            ],
            [
             0.1111111111111111,
             "#46039f"
            ],
            [
             0.2222222222222222,
             "#7201a8"
            ],
            [
             0.3333333333333333,
             "#9c179e"
            ],
            [
             0.4444444444444444,
             "#bd3786"
            ],
            [
             0.5555555555555556,
             "#d8576b"
            ],
            [
             0.6666666666666666,
             "#ed7953"
            ],
            [
             0.7777777777777778,
             "#fb9f3a"
            ],
            [
             0.8888888888888888,
             "#fdca26"
            ],
            [
             1,
             "#f0f921"
            ]
           ]
          },
          "colorway": [
           "#636efa",
           "#EF553B",
           "#00cc96",
           "#ab63fa",
           "#FFA15A",
           "#19d3f3",
           "#FF6692",
           "#B6E880",
           "#FF97FF",
           "#FECB52"
          ],
          "font": {
           "color": "#2a3f5f"
          },
          "geo": {
           "bgcolor": "white",
           "lakecolor": "white",
           "landcolor": "#E5ECF6",
           "showlakes": true,
           "showland": true,
           "subunitcolor": "white"
          },
          "hoverlabel": {
           "align": "left"
          },
          "hovermode": "closest",
          "mapbox": {
           "style": "light"
          },
          "paper_bgcolor": "white",
          "plot_bgcolor": "#E5ECF6",
          "polar": {
           "angularaxis": {
            "gridcolor": "white",
            "linecolor": "white",
            "ticks": ""
           },
           "bgcolor": "#E5ECF6",
           "radialaxis": {
            "gridcolor": "white",
            "linecolor": "white",
            "ticks": ""
           }
          },
          "scene": {
           "xaxis": {
            "backgroundcolor": "#E5ECF6",
            "gridcolor": "white",
            "gridwidth": 2,
            "linecolor": "white",
            "showbackground": true,
            "ticks": "",
            "zerolinecolor": "white"
           },
           "yaxis": {
            "backgroundcolor": "#E5ECF6",
            "gridcolor": "white",
            "gridwidth": 2,
            "linecolor": "white",
            "showbackground": true,
            "ticks": "",
            "zerolinecolor": "white"
           },
           "zaxis": {
            "backgroundcolor": "#E5ECF6",
            "gridcolor": "white",
            "gridwidth": 2,
            "linecolor": "white",
            "showbackground": true,
            "ticks": "",
            "zerolinecolor": "white"
           }
          },
          "shapedefaults": {
           "line": {
            "color": "#2a3f5f"
           }
          },
          "ternary": {
           "aaxis": {
            "gridcolor": "white",
            "linecolor": "white",
            "ticks": ""
           },
           "baxis": {
            "gridcolor": "white",
            "linecolor": "white",
            "ticks": ""
           },
           "bgcolor": "#E5ECF6",
           "caxis": {
            "gridcolor": "white",
            "linecolor": "white",
            "ticks": ""
           }
          },
          "title": {
           "x": 0.05
          },
          "xaxis": {
           "automargin": true,
           "gridcolor": "white",
           "linecolor": "white",
           "ticks": "",
           "title": {
            "standoff": 15
           },
           "zerolinecolor": "white",
           "zerolinewidth": 2
          },
          "yaxis": {
           "automargin": true,
           "gridcolor": "white",
           "linecolor": "white",
           "ticks": "",
           "title": {
            "standoff": 15
           },
           "zerolinecolor": "white",
           "zerolinewidth": 2
          }
         }
        },
        "violinmode": "group",
        "xaxis": {
         "anchor": "y",
         "domain": [
          0,
          1
         ]
        },
        "yaxis": {
         "anchor": "x",
         "domain": [
          0,
          1
         ],
         "title": {
          "text": "total_bill"
         }
        }
       }
      }
     },
     "metadata": {},
     "output_type": "display_data"
    }
   ],
   "source": [
    "fig = px.violin(\n",
    "    data_frame=tips,\n",
    "    y=\"total_bill\",\n",
    "    box=True,  # draw box plot inside the violin\n",
    "    points=\"all\",  # ['all', 'outliers', 'suspectedoutliers', False]\n",
    ")\n",
    "fig.show()"
   ]
  },
  {
   "cell_type": "code",
   "execution_count": 11,
   "metadata": {},
   "outputs": [
    {
     "data": {
      "application/vnd.plotly.v1+json": {
       "config": {
        "plotlyServerURL": "https://plot.ly"
       },
       "data": [
        {
         "alignmentgroup": "True",
         "box": {
          "visible": true
         },
         "hovertemplate": "total_bill=%{y}<extra></extra>",
         "legendgroup": "",
         "marker": {
          "color": "#636efa"
         },
         "name": "",
         "offsetgroup": "",
         "orientation": "v",
         "points": "outliers",
         "scalegroup": "True",
         "showlegend": false,
         "type": "violin",
         "x0": " ",
         "xaxis": "x",
         "y": [
          16.99,
          10.34,
          21.01,
          23.68,
          24.59,
          25.29,
          8.77,
          26.88,
          15.04,
          14.78,
          10.27,
          35.26,
          15.42,
          18.43,
          14.83,
          21.58,
          10.33,
          16.29,
          16.97,
          20.65,
          17.92,
          20.29,
          15.77,
          39.42,
          19.82,
          17.81,
          13.37,
          12.69,
          21.7,
          19.65,
          9.55,
          18.35,
          15.06,
          20.69,
          17.78,
          24.06,
          16.31,
          16.93,
          18.69,
          31.27,
          16.04,
          17.46,
          13.94,
          9.68,
          30.4,
          18.29,
          22.23,
          32.4,
          28.55,
          18.04,
          12.54,
          10.29,
          34.81,
          9.94,
          25.56,
          19.49,
          38.01,
          26.41,
          11.24,
          48.27,
          20.29,
          13.81,
          11.02,
          18.29,
          17.59,
          20.08,
          16.45,
          3.07,
          20.23,
          15.01,
          12.02,
          17.07,
          26.86,
          25.28,
          14.73,
          10.51,
          17.92,
          27.2,
          22.76,
          17.29,
          19.44,
          16.66,
          10.07,
          32.68,
          15.98,
          34.83,
          13.03,
          18.28,
          24.71,
          21.16,
          28.97,
          22.49,
          5.75,
          16.32,
          22.75,
          40.17,
          27.28,
          12.03,
          21.01,
          12.46,
          11.35,
          15.38,
          44.3,
          22.42,
          20.92,
          15.36,
          20.49,
          25.21,
          18.24,
          14.31,
          14,
          7.25,
          38.07,
          23.95,
          25.71,
          17.31,
          29.93,
          10.65,
          12.43,
          24.08,
          11.69,
          13.42,
          14.26,
          15.95,
          12.48,
          29.8,
          8.52,
          14.52,
          11.38,
          22.82,
          19.08,
          20.27,
          11.17,
          12.26,
          18.26,
          8.51,
          10.33,
          14.15,
          16,
          13.16,
          17.47,
          34.3,
          41.19,
          27.05,
          16.43,
          8.35,
          18.64,
          11.87,
          9.78,
          7.51,
          14.07,
          13.13,
          17.26,
          24.55,
          19.77,
          29.85,
          48.17,
          25,
          13.39,
          16.49,
          21.5,
          12.66,
          16.21,
          13.81,
          17.51,
          24.52,
          20.76,
          31.71,
          10.59,
          10.63,
          50.81,
          15.81,
          7.25,
          31.85,
          16.82,
          32.9,
          17.89,
          14.48,
          9.6,
          34.63,
          34.65,
          23.33,
          45.35,
          23.17,
          40.55,
          20.69,
          20.9,
          30.46,
          18.15,
          23.1,
          15.69,
          19.81,
          28.44,
          15.48,
          16.58,
          7.56,
          10.34,
          43.11,
          13,
          13.51,
          18.71,
          12.74,
          13,
          16.4,
          20.53,
          16.47,
          26.59,
          38.73,
          24.27,
          12.76,
          30.06,
          25.89,
          48.33,
          13.27,
          28.17,
          12.9,
          28.15,
          11.59,
          7.74,
          30.14,
          12.16,
          13.42,
          8.58,
          15.98,
          13.42,
          16.27,
          10.09,
          20.45,
          13.28,
          22.12,
          24.01,
          15.69,
          11.61,
          10.77,
          15.53,
          10.07,
          12.6,
          32.83,
          35.83,
          29.03,
          27.18,
          22.67,
          17.82,
          18.78
         ],
         "y0": " ",
         "yaxis": "y"
        }
       ],
       "layout": {
        "legend": {
         "tracegroupgap": 0
        },
        "margin": {
         "t": 60
        },
        "template": {
         "data": {
          "bar": [
           {
            "error_x": {
             "color": "#2a3f5f"
            },
            "error_y": {
             "color": "#2a3f5f"
            },
            "marker": {
             "line": {
              "color": "#E5ECF6",
              "width": 0.5
             },
             "pattern": {
              "fillmode": "overlay",
              "size": 10,
              "solidity": 0.2
             }
            },
            "type": "bar"
           }
          ],
          "barpolar": [
           {
            "marker": {
             "line": {
              "color": "#E5ECF6",
              "width": 0.5
             },
             "pattern": {
              "fillmode": "overlay",
              "size": 10,
              "solidity": 0.2
             }
            },
            "type": "barpolar"
           }
          ],
          "carpet": [
           {
            "aaxis": {
             "endlinecolor": "#2a3f5f",
             "gridcolor": "white",
             "linecolor": "white",
             "minorgridcolor": "white",
             "startlinecolor": "#2a3f5f"
            },
            "baxis": {
             "endlinecolor": "#2a3f5f",
             "gridcolor": "white",
             "linecolor": "white",
             "minorgridcolor": "white",
             "startlinecolor": "#2a3f5f"
            },
            "type": "carpet"
           }
          ],
          "choropleth": [
           {
            "colorbar": {
             "outlinewidth": 0,
             "ticks": ""
            },
            "type": "choropleth"
           }
          ],
          "contour": [
           {
            "colorbar": {
             "outlinewidth": 0,
             "ticks": ""
            },
            "colorscale": [
             [
              0,
              "#0d0887"
             ],
             [
              0.1111111111111111,
              "#46039f"
             ],
             [
              0.2222222222222222,
              "#7201a8"
             ],
             [
              0.3333333333333333,
              "#9c179e"
             ],
             [
              0.4444444444444444,
              "#bd3786"
             ],
             [
              0.5555555555555556,
              "#d8576b"
             ],
             [
              0.6666666666666666,
              "#ed7953"
             ],
             [
              0.7777777777777778,
              "#fb9f3a"
             ],
             [
              0.8888888888888888,
              "#fdca26"
             ],
             [
              1,
              "#f0f921"
             ]
            ],
            "type": "contour"
           }
          ],
          "contourcarpet": [
           {
            "colorbar": {
             "outlinewidth": 0,
             "ticks": ""
            },
            "type": "contourcarpet"
           }
          ],
          "heatmap": [
           {
            "colorbar": {
             "outlinewidth": 0,
             "ticks": ""
            },
            "colorscale": [
             [
              0,
              "#0d0887"
             ],
             [
              0.1111111111111111,
              "#46039f"
             ],
             [
              0.2222222222222222,
              "#7201a8"
             ],
             [
              0.3333333333333333,
              "#9c179e"
             ],
             [
              0.4444444444444444,
              "#bd3786"
             ],
             [
              0.5555555555555556,
              "#d8576b"
             ],
             [
              0.6666666666666666,
              "#ed7953"
             ],
             [
              0.7777777777777778,
              "#fb9f3a"
             ],
             [
              0.8888888888888888,
              "#fdca26"
             ],
             [
              1,
              "#f0f921"
             ]
            ],
            "type": "heatmap"
           }
          ],
          "heatmapgl": [
           {
            "colorbar": {
             "outlinewidth": 0,
             "ticks": ""
            },
            "colorscale": [
             [
              0,
              "#0d0887"
             ],
             [
              0.1111111111111111,
              "#46039f"
             ],
             [
              0.2222222222222222,
              "#7201a8"
             ],
             [
              0.3333333333333333,
              "#9c179e"
             ],
             [
              0.4444444444444444,
              "#bd3786"
             ],
             [
              0.5555555555555556,
              "#d8576b"
             ],
             [
              0.6666666666666666,
              "#ed7953"
             ],
             [
              0.7777777777777778,
              "#fb9f3a"
             ],
             [
              0.8888888888888888,
              "#fdca26"
             ],
             [
              1,
              "#f0f921"
             ]
            ],
            "type": "heatmapgl"
           }
          ],
          "histogram": [
           {
            "marker": {
             "pattern": {
              "fillmode": "overlay",
              "size": 10,
              "solidity": 0.2
             }
            },
            "type": "histogram"
           }
          ],
          "histogram2d": [
           {
            "colorbar": {
             "outlinewidth": 0,
             "ticks": ""
            },
            "colorscale": [
             [
              0,
              "#0d0887"
             ],
             [
              0.1111111111111111,
              "#46039f"
             ],
             [
              0.2222222222222222,
              "#7201a8"
             ],
             [
              0.3333333333333333,
              "#9c179e"
             ],
             [
              0.4444444444444444,
              "#bd3786"
             ],
             [
              0.5555555555555556,
              "#d8576b"
             ],
             [
              0.6666666666666666,
              "#ed7953"
             ],
             [
              0.7777777777777778,
              "#fb9f3a"
             ],
             [
              0.8888888888888888,
              "#fdca26"
             ],
             [
              1,
              "#f0f921"
             ]
            ],
            "type": "histogram2d"
           }
          ],
          "histogram2dcontour": [
           {
            "colorbar": {
             "outlinewidth": 0,
             "ticks": ""
            },
            "colorscale": [
             [
              0,
              "#0d0887"
             ],
             [
              0.1111111111111111,
              "#46039f"
             ],
             [
              0.2222222222222222,
              "#7201a8"
             ],
             [
              0.3333333333333333,
              "#9c179e"
             ],
             [
              0.4444444444444444,
              "#bd3786"
             ],
             [
              0.5555555555555556,
              "#d8576b"
             ],
             [
              0.6666666666666666,
              "#ed7953"
             ],
             [
              0.7777777777777778,
              "#fb9f3a"
             ],
             [
              0.8888888888888888,
              "#fdca26"
             ],
             [
              1,
              "#f0f921"
             ]
            ],
            "type": "histogram2dcontour"
           }
          ],
          "mesh3d": [
           {
            "colorbar": {
             "outlinewidth": 0,
             "ticks": ""
            },
            "type": "mesh3d"
           }
          ],
          "parcoords": [
           {
            "line": {
             "colorbar": {
              "outlinewidth": 0,
              "ticks": ""
             }
            },
            "type": "parcoords"
           }
          ],
          "pie": [
           {
            "automargin": true,
            "type": "pie"
           }
          ],
          "scatter": [
           {
            "fillpattern": {
             "fillmode": "overlay",
             "size": 10,
             "solidity": 0.2
            },
            "type": "scatter"
           }
          ],
          "scatter3d": [
           {
            "line": {
             "colorbar": {
              "outlinewidth": 0,
              "ticks": ""
             }
            },
            "marker": {
             "colorbar": {
              "outlinewidth": 0,
              "ticks": ""
             }
            },
            "type": "scatter3d"
           }
          ],
          "scattercarpet": [
           {
            "marker": {
             "colorbar": {
              "outlinewidth": 0,
              "ticks": ""
             }
            },
            "type": "scattercarpet"
           }
          ],
          "scattergeo": [
           {
            "marker": {
             "colorbar": {
              "outlinewidth": 0,
              "ticks": ""
             }
            },
            "type": "scattergeo"
           }
          ],
          "scattergl": [
           {
            "marker": {
             "colorbar": {
              "outlinewidth": 0,
              "ticks": ""
             }
            },
            "type": "scattergl"
           }
          ],
          "scattermapbox": [
           {
            "marker": {
             "colorbar": {
              "outlinewidth": 0,
              "ticks": ""
             }
            },
            "type": "scattermapbox"
           }
          ],
          "scatterpolar": [
           {
            "marker": {
             "colorbar": {
              "outlinewidth": 0,
              "ticks": ""
             }
            },
            "type": "scatterpolar"
           }
          ],
          "scatterpolargl": [
           {
            "marker": {
             "colorbar": {
              "outlinewidth": 0,
              "ticks": ""
             }
            },
            "type": "scatterpolargl"
           }
          ],
          "scatterternary": [
           {
            "marker": {
             "colorbar": {
              "outlinewidth": 0,
              "ticks": ""
             }
            },
            "type": "scatterternary"
           }
          ],
          "surface": [
           {
            "colorbar": {
             "outlinewidth": 0,
             "ticks": ""
            },
            "colorscale": [
             [
              0,
              "#0d0887"
             ],
             [
              0.1111111111111111,
              "#46039f"
             ],
             [
              0.2222222222222222,
              "#7201a8"
             ],
             [
              0.3333333333333333,
              "#9c179e"
             ],
             [
              0.4444444444444444,
              "#bd3786"
             ],
             [
              0.5555555555555556,
              "#d8576b"
             ],
             [
              0.6666666666666666,
              "#ed7953"
             ],
             [
              0.7777777777777778,
              "#fb9f3a"
             ],
             [
              0.8888888888888888,
              "#fdca26"
             ],
             [
              1,
              "#f0f921"
             ]
            ],
            "type": "surface"
           }
          ],
          "table": [
           {
            "cells": {
             "fill": {
              "color": "#EBF0F8"
             },
             "line": {
              "color": "white"
             }
            },
            "header": {
             "fill": {
              "color": "#C8D4E3"
             },
             "line": {
              "color": "white"
             }
            },
            "type": "table"
           }
          ]
         },
         "layout": {
          "annotationdefaults": {
           "arrowcolor": "#2a3f5f",
           "arrowhead": 0,
           "arrowwidth": 1
          },
          "autotypenumbers": "strict",
          "coloraxis": {
           "colorbar": {
            "outlinewidth": 0,
            "ticks": ""
           }
          },
          "colorscale": {
           "diverging": [
            [
             0,
             "#8e0152"
            ],
            [
             0.1,
             "#c51b7d"
            ],
            [
             0.2,
             "#de77ae"
            ],
            [
             0.3,
             "#f1b6da"
            ],
            [
             0.4,
             "#fde0ef"
            ],
            [
             0.5,
             "#f7f7f7"
            ],
            [
             0.6,
             "#e6f5d0"
            ],
            [
             0.7,
             "#b8e186"
            ],
            [
             0.8,
             "#7fbc41"
            ],
            [
             0.9,
             "#4d9221"
            ],
            [
             1,
             "#276419"
            ]
           ],
           "sequential": [
            [
             0,
             "#0d0887"
            ],
            [
             0.1111111111111111,
             "#46039f"
            ],
            [
             0.2222222222222222,
             "#7201a8"
            ],
            [
             0.3333333333333333,
             "#9c179e"
            ],
            [
             0.4444444444444444,
             "#bd3786"
            ],
            [
             0.5555555555555556,
             "#d8576b"
            ],
            [
             0.6666666666666666,
             "#ed7953"
            ],
            [
             0.7777777777777778,
             "#fb9f3a"
            ],
            [
             0.8888888888888888,
             "#fdca26"
            ],
            [
             1,
             "#f0f921"
            ]
           ],
           "sequentialminus": [
            [
             0,
             "#0d0887"
            ],
            [
             0.1111111111111111,
             "#46039f"
            ],
            [
             0.2222222222222222,
             "#7201a8"
            ],
            [
             0.3333333333333333,
             "#9c179e"
            ],
            [
             0.4444444444444444,
             "#bd3786"
            ],
            [
             0.5555555555555556,
             "#d8576b"
            ],
            [
             0.6666666666666666,
             "#ed7953"
            ],
            [
             0.7777777777777778,
             "#fb9f3a"
            ],
            [
             0.8888888888888888,
             "#fdca26"
            ],
            [
             1,
             "#f0f921"
            ]
           ]
          },
          "colorway": [
           "#636efa",
           "#EF553B",
           "#00cc96",
           "#ab63fa",
           "#FFA15A",
           "#19d3f3",
           "#FF6692",
           "#B6E880",
           "#FF97FF",
           "#FECB52"
          ],
          "font": {
           "color": "#2a3f5f"
          },
          "geo": {
           "bgcolor": "white",
           "lakecolor": "white",
           "landcolor": "#E5ECF6",
           "showlakes": true,
           "showland": true,
           "subunitcolor": "white"
          },
          "hoverlabel": {
           "align": "left"
          },
          "hovermode": "closest",
          "mapbox": {
           "style": "light"
          },
          "paper_bgcolor": "white",
          "plot_bgcolor": "#E5ECF6",
          "polar": {
           "angularaxis": {
            "gridcolor": "white",
            "linecolor": "white",
            "ticks": ""
           },
           "bgcolor": "#E5ECF6",
           "radialaxis": {
            "gridcolor": "white",
            "linecolor": "white",
            "ticks": ""
           }
          },
          "scene": {
           "xaxis": {
            "backgroundcolor": "#E5ECF6",
            "gridcolor": "white",
            "gridwidth": 2,
            "linecolor": "white",
            "showbackground": true,
            "ticks": "",
            "zerolinecolor": "white"
           },
           "yaxis": {
            "backgroundcolor": "#E5ECF6",
            "gridcolor": "white",
            "gridwidth": 2,
            "linecolor": "white",
            "showbackground": true,
            "ticks": "",
            "zerolinecolor": "white"
           },
           "zaxis": {
            "backgroundcolor": "#E5ECF6",
            "gridcolor": "white",
            "gridwidth": 2,
            "linecolor": "white",
            "showbackground": true,
            "ticks": "",
            "zerolinecolor": "white"
           }
          },
          "shapedefaults": {
           "line": {
            "color": "#2a3f5f"
           }
          },
          "ternary": {
           "aaxis": {
            "gridcolor": "white",
            "linecolor": "white",
            "ticks": ""
           },
           "baxis": {
            "gridcolor": "white",
            "linecolor": "white",
            "ticks": ""
           },
           "bgcolor": "#E5ECF6",
           "caxis": {
            "gridcolor": "white",
            "linecolor": "white",
            "ticks": ""
           }
          },
          "title": {
           "x": 0.05
          },
          "xaxis": {
           "automargin": true,
           "gridcolor": "white",
           "linecolor": "white",
           "ticks": "",
           "title": {
            "standoff": 15
           },
           "zerolinecolor": "white",
           "zerolinewidth": 2
          },
          "yaxis": {
           "automargin": true,
           "gridcolor": "white",
           "linecolor": "white",
           "ticks": "",
           "title": {
            "standoff": 15
           },
           "zerolinecolor": "white",
           "zerolinewidth": 2
          }
         }
        },
        "violinmode": "group",
        "xaxis": {
         "anchor": "y",
         "domain": [
          0,
          1
         ]
        },
        "yaxis": {
         "anchor": "x",
         "domain": [
          0,
          1
         ],
         "title": {
          "text": "total_bill"
         }
        }
       }
      }
     },
     "metadata": {},
     "output_type": "display_data"
    }
   ],
   "source": [
    "fig = px.violin(\n",
    "    data_frame=tips,\n",
    "    y=\"total_bill\",\n",
    "    box=True,  # draw box plot inside the violin\n",
    "    points=\"outliers\",  # ['all', 'outliers', 'suspectedoutliers', False]\n",
    ")\n",
    "fig.show()"
   ]
  },
  {
   "cell_type": "code",
   "execution_count": 12,
   "metadata": {},
   "outputs": [
    {
     "data": {
      "application/vnd.plotly.v1+json": {
       "config": {
        "plotlyServerURL": "https://plot.ly"
       },
       "data": [
        {
         "alignmentgroup": "True",
         "box": {
          "visible": true
         },
         "hovertemplate": "total_bill=%{y}<extra></extra>",
         "legendgroup": "",
         "marker": {
          "color": "#636efa"
         },
         "name": "",
         "offsetgroup": "",
         "orientation": "v",
         "points": "suspectedoutliers",
         "scalegroup": "True",
         "showlegend": false,
         "type": "violin",
         "x0": " ",
         "xaxis": "x",
         "y": [
          16.99,
          10.34,
          21.01,
          23.68,
          24.59,
          25.29,
          8.77,
          26.88,
          15.04,
          14.78,
          10.27,
          35.26,
          15.42,
          18.43,
          14.83,
          21.58,
          10.33,
          16.29,
          16.97,
          20.65,
          17.92,
          20.29,
          15.77,
          39.42,
          19.82,
          17.81,
          13.37,
          12.69,
          21.7,
          19.65,
          9.55,
          18.35,
          15.06,
          20.69,
          17.78,
          24.06,
          16.31,
          16.93,
          18.69,
          31.27,
          16.04,
          17.46,
          13.94,
          9.68,
          30.4,
          18.29,
          22.23,
          32.4,
          28.55,
          18.04,
          12.54,
          10.29,
          34.81,
          9.94,
          25.56,
          19.49,
          38.01,
          26.41,
          11.24,
          48.27,
          20.29,
          13.81,
          11.02,
          18.29,
          17.59,
          20.08,
          16.45,
          3.07,
          20.23,
          15.01,
          12.02,
          17.07,
          26.86,
          25.28,
          14.73,
          10.51,
          17.92,
          27.2,
          22.76,
          17.29,
          19.44,
          16.66,
          10.07,
          32.68,
          15.98,
          34.83,
          13.03,
          18.28,
          24.71,
          21.16,
          28.97,
          22.49,
          5.75,
          16.32,
          22.75,
          40.17,
          27.28,
          12.03,
          21.01,
          12.46,
          11.35,
          15.38,
          44.3,
          22.42,
          20.92,
          15.36,
          20.49,
          25.21,
          18.24,
          14.31,
          14,
          7.25,
          38.07,
          23.95,
          25.71,
          17.31,
          29.93,
          10.65,
          12.43,
          24.08,
          11.69,
          13.42,
          14.26,
          15.95,
          12.48,
          29.8,
          8.52,
          14.52,
          11.38,
          22.82,
          19.08,
          20.27,
          11.17,
          12.26,
          18.26,
          8.51,
          10.33,
          14.15,
          16,
          13.16,
          17.47,
          34.3,
          41.19,
          27.05,
          16.43,
          8.35,
          18.64,
          11.87,
          9.78,
          7.51,
          14.07,
          13.13,
          17.26,
          24.55,
          19.77,
          29.85,
          48.17,
          25,
          13.39,
          16.49,
          21.5,
          12.66,
          16.21,
          13.81,
          17.51,
          24.52,
          20.76,
          31.71,
          10.59,
          10.63,
          50.81,
          15.81,
          7.25,
          31.85,
          16.82,
          32.9,
          17.89,
          14.48,
          9.6,
          34.63,
          34.65,
          23.33,
          45.35,
          23.17,
          40.55,
          20.69,
          20.9,
          30.46,
          18.15,
          23.1,
          15.69,
          19.81,
          28.44,
          15.48,
          16.58,
          7.56,
          10.34,
          43.11,
          13,
          13.51,
          18.71,
          12.74,
          13,
          16.4,
          20.53,
          16.47,
          26.59,
          38.73,
          24.27,
          12.76,
          30.06,
          25.89,
          48.33,
          13.27,
          28.17,
          12.9,
          28.15,
          11.59,
          7.74,
          30.14,
          12.16,
          13.42,
          8.58,
          15.98,
          13.42,
          16.27,
          10.09,
          20.45,
          13.28,
          22.12,
          24.01,
          15.69,
          11.61,
          10.77,
          15.53,
          10.07,
          12.6,
          32.83,
          35.83,
          29.03,
          27.18,
          22.67,
          17.82,
          18.78
         ],
         "y0": " ",
         "yaxis": "y"
        }
       ],
       "layout": {
        "legend": {
         "tracegroupgap": 0
        },
        "margin": {
         "t": 60
        },
        "template": {
         "data": {
          "bar": [
           {
            "error_x": {
             "color": "#2a3f5f"
            },
            "error_y": {
             "color": "#2a3f5f"
            },
            "marker": {
             "line": {
              "color": "#E5ECF6",
              "width": 0.5
             },
             "pattern": {
              "fillmode": "overlay",
              "size": 10,
              "solidity": 0.2
             }
            },
            "type": "bar"
           }
          ],
          "barpolar": [
           {
            "marker": {
             "line": {
              "color": "#E5ECF6",
              "width": 0.5
             },
             "pattern": {
              "fillmode": "overlay",
              "size": 10,
              "solidity": 0.2
             }
            },
            "type": "barpolar"
           }
          ],
          "carpet": [
           {
            "aaxis": {
             "endlinecolor": "#2a3f5f",
             "gridcolor": "white",
             "linecolor": "white",
             "minorgridcolor": "white",
             "startlinecolor": "#2a3f5f"
            },
            "baxis": {
             "endlinecolor": "#2a3f5f",
             "gridcolor": "white",
             "linecolor": "white",
             "minorgridcolor": "white",
             "startlinecolor": "#2a3f5f"
            },
            "type": "carpet"
           }
          ],
          "choropleth": [
           {
            "colorbar": {
             "outlinewidth": 0,
             "ticks": ""
            },
            "type": "choropleth"
           }
          ],
          "contour": [
           {
            "colorbar": {
             "outlinewidth": 0,
             "ticks": ""
            },
            "colorscale": [
             [
              0,
              "#0d0887"
             ],
             [
              0.1111111111111111,
              "#46039f"
             ],
             [
              0.2222222222222222,
              "#7201a8"
             ],
             [
              0.3333333333333333,
              "#9c179e"
             ],
             [
              0.4444444444444444,
              "#bd3786"
             ],
             [
              0.5555555555555556,
              "#d8576b"
             ],
             [
              0.6666666666666666,
              "#ed7953"
             ],
             [
              0.7777777777777778,
              "#fb9f3a"
             ],
             [
              0.8888888888888888,
              "#fdca26"
             ],
             [
              1,
              "#f0f921"
             ]
            ],
            "type": "contour"
           }
          ],
          "contourcarpet": [
           {
            "colorbar": {
             "outlinewidth": 0,
             "ticks": ""
            },
            "type": "contourcarpet"
           }
          ],
          "heatmap": [
           {
            "colorbar": {
             "outlinewidth": 0,
             "ticks": ""
            },
            "colorscale": [
             [
              0,
              "#0d0887"
             ],
             [
              0.1111111111111111,
              "#46039f"
             ],
             [
              0.2222222222222222,
              "#7201a8"
             ],
             [
              0.3333333333333333,
              "#9c179e"
             ],
             [
              0.4444444444444444,
              "#bd3786"
             ],
             [
              0.5555555555555556,
              "#d8576b"
             ],
             [
              0.6666666666666666,
              "#ed7953"
             ],
             [
              0.7777777777777778,
              "#fb9f3a"
             ],
             [
              0.8888888888888888,
              "#fdca26"
             ],
             [
              1,
              "#f0f921"
             ]
            ],
            "type": "heatmap"
           }
          ],
          "heatmapgl": [
           {
            "colorbar": {
             "outlinewidth": 0,
             "ticks": ""
            },
            "colorscale": [
             [
              0,
              "#0d0887"
             ],
             [
              0.1111111111111111,
              "#46039f"
             ],
             [
              0.2222222222222222,
              "#7201a8"
             ],
             [
              0.3333333333333333,
              "#9c179e"
             ],
             [
              0.4444444444444444,
              "#bd3786"
             ],
             [
              0.5555555555555556,
              "#d8576b"
             ],
             [
              0.6666666666666666,
              "#ed7953"
             ],
             [
              0.7777777777777778,
              "#fb9f3a"
             ],
             [
              0.8888888888888888,
              "#fdca26"
             ],
             [
              1,
              "#f0f921"
             ]
            ],
            "type": "heatmapgl"
           }
          ],
          "histogram": [
           {
            "marker": {
             "pattern": {
              "fillmode": "overlay",
              "size": 10,
              "solidity": 0.2
             }
            },
            "type": "histogram"
           }
          ],
          "histogram2d": [
           {
            "colorbar": {
             "outlinewidth": 0,
             "ticks": ""
            },
            "colorscale": [
             [
              0,
              "#0d0887"
             ],
             [
              0.1111111111111111,
              "#46039f"
             ],
             [
              0.2222222222222222,
              "#7201a8"
             ],
             [
              0.3333333333333333,
              "#9c179e"
             ],
             [
              0.4444444444444444,
              "#bd3786"
             ],
             [
              0.5555555555555556,
              "#d8576b"
             ],
             [
              0.6666666666666666,
              "#ed7953"
             ],
             [
              0.7777777777777778,
              "#fb9f3a"
             ],
             [
              0.8888888888888888,
              "#fdca26"
             ],
             [
              1,
              "#f0f921"
             ]
            ],
            "type": "histogram2d"
           }
          ],
          "histogram2dcontour": [
           {
            "colorbar": {
             "outlinewidth": 0,
             "ticks": ""
            },
            "colorscale": [
             [
              0,
              "#0d0887"
             ],
             [
              0.1111111111111111,
              "#46039f"
             ],
             [
              0.2222222222222222,
              "#7201a8"
             ],
             [
              0.3333333333333333,
              "#9c179e"
             ],
             [
              0.4444444444444444,
              "#bd3786"
             ],
             [
              0.5555555555555556,
              "#d8576b"
             ],
             [
              0.6666666666666666,
              "#ed7953"
             ],
             [
              0.7777777777777778,
              "#fb9f3a"
             ],
             [
              0.8888888888888888,
              "#fdca26"
             ],
             [
              1,
              "#f0f921"
             ]
            ],
            "type": "histogram2dcontour"
           }
          ],
          "mesh3d": [
           {
            "colorbar": {
             "outlinewidth": 0,
             "ticks": ""
            },
            "type": "mesh3d"
           }
          ],
          "parcoords": [
           {
            "line": {
             "colorbar": {
              "outlinewidth": 0,
              "ticks": ""
             }
            },
            "type": "parcoords"
           }
          ],
          "pie": [
           {
            "automargin": true,
            "type": "pie"
           }
          ],
          "scatter": [
           {
            "fillpattern": {
             "fillmode": "overlay",
             "size": 10,
             "solidity": 0.2
            },
            "type": "scatter"
           }
          ],
          "scatter3d": [
           {
            "line": {
             "colorbar": {
              "outlinewidth": 0,
              "ticks": ""
             }
            },
            "marker": {
             "colorbar": {
              "outlinewidth": 0,
              "ticks": ""
             }
            },
            "type": "scatter3d"
           }
          ],
          "scattercarpet": [
           {
            "marker": {
             "colorbar": {
              "outlinewidth": 0,
              "ticks": ""
             }
            },
            "type": "scattercarpet"
           }
          ],
          "scattergeo": [
           {
            "marker": {
             "colorbar": {
              "outlinewidth": 0,
              "ticks": ""
             }
            },
            "type": "scattergeo"
           }
          ],
          "scattergl": [
           {
            "marker": {
             "colorbar": {
              "outlinewidth": 0,
              "ticks": ""
             }
            },
            "type": "scattergl"
           }
          ],
          "scattermapbox": [
           {
            "marker": {
             "colorbar": {
              "outlinewidth": 0,
              "ticks": ""
             }
            },
            "type": "scattermapbox"
           }
          ],
          "scatterpolar": [
           {
            "marker": {
             "colorbar": {
              "outlinewidth": 0,
              "ticks": ""
             }
            },
            "type": "scatterpolar"
           }
          ],
          "scatterpolargl": [
           {
            "marker": {
             "colorbar": {
              "outlinewidth": 0,
              "ticks": ""
             }
            },
            "type": "scatterpolargl"
           }
          ],
          "scatterternary": [
           {
            "marker": {
             "colorbar": {
              "outlinewidth": 0,
              "ticks": ""
             }
            },
            "type": "scatterternary"
           }
          ],
          "surface": [
           {
            "colorbar": {
             "outlinewidth": 0,
             "ticks": ""
            },
            "colorscale": [
             [
              0,
              "#0d0887"
             ],
             [
              0.1111111111111111,
              "#46039f"
             ],
             [
              0.2222222222222222,
              "#7201a8"
             ],
             [
              0.3333333333333333,
              "#9c179e"
             ],
             [
              0.4444444444444444,
              "#bd3786"
             ],
             [
              0.5555555555555556,
              "#d8576b"
             ],
             [
              0.6666666666666666,
              "#ed7953"
             ],
             [
              0.7777777777777778,
              "#fb9f3a"
             ],
             [
              0.8888888888888888,
              "#fdca26"
             ],
             [
              1,
              "#f0f921"
             ]
            ],
            "type": "surface"
           }
          ],
          "table": [
           {
            "cells": {
             "fill": {
              "color": "#EBF0F8"
             },
             "line": {
              "color": "white"
             }
            },
            "header": {
             "fill": {
              "color": "#C8D4E3"
             },
             "line": {
              "color": "white"
             }
            },
            "type": "table"
           }
          ]
         },
         "layout": {
          "annotationdefaults": {
           "arrowcolor": "#2a3f5f",
           "arrowhead": 0,
           "arrowwidth": 1
          },
          "autotypenumbers": "strict",
          "coloraxis": {
           "colorbar": {
            "outlinewidth": 0,
            "ticks": ""
           }
          },
          "colorscale": {
           "diverging": [
            [
             0,
             "#8e0152"
            ],
            [
             0.1,
             "#c51b7d"
            ],
            [
             0.2,
             "#de77ae"
            ],
            [
             0.3,
             "#f1b6da"
            ],
            [
             0.4,
             "#fde0ef"
            ],
            [
             0.5,
             "#f7f7f7"
            ],
            [
             0.6,
             "#e6f5d0"
            ],
            [
             0.7,
             "#b8e186"
            ],
            [
             0.8,
             "#7fbc41"
            ],
            [
             0.9,
             "#4d9221"
            ],
            [
             1,
             "#276419"
            ]
           ],
           "sequential": [
            [
             0,
             "#0d0887"
            ],
            [
             0.1111111111111111,
             "#46039f"
            ],
            [
             0.2222222222222222,
             "#7201a8"
            ],
            [
             0.3333333333333333,
             "#9c179e"
            ],
            [
             0.4444444444444444,
             "#bd3786"
            ],
            [
             0.5555555555555556,
             "#d8576b"
            ],
            [
             0.6666666666666666,
             "#ed7953"
            ],
            [
             0.7777777777777778,
             "#fb9f3a"
            ],
            [
             0.8888888888888888,
             "#fdca26"
            ],
            [
             1,
             "#f0f921"
            ]
           ],
           "sequentialminus": [
            [
             0,
             "#0d0887"
            ],
            [
             0.1111111111111111,
             "#46039f"
            ],
            [
             0.2222222222222222,
             "#7201a8"
            ],
            [
             0.3333333333333333,
             "#9c179e"
            ],
            [
             0.4444444444444444,
             "#bd3786"
            ],
            [
             0.5555555555555556,
             "#d8576b"
            ],
            [
             0.6666666666666666,
             "#ed7953"
            ],
            [
             0.7777777777777778,
             "#fb9f3a"
            ],
            [
             0.8888888888888888,
             "#fdca26"
            ],
            [
             1,
             "#f0f921"
            ]
           ]
          },
          "colorway": [
           "#636efa",
           "#EF553B",
           "#00cc96",
           "#ab63fa",
           "#FFA15A",
           "#19d3f3",
           "#FF6692",
           "#B6E880",
           "#FF97FF",
           "#FECB52"
          ],
          "font": {
           "color": "#2a3f5f"
          },
          "geo": {
           "bgcolor": "white",
           "lakecolor": "white",
           "landcolor": "#E5ECF6",
           "showlakes": true,
           "showland": true,
           "subunitcolor": "white"
          },
          "hoverlabel": {
           "align": "left"
          },
          "hovermode": "closest",
          "mapbox": {
           "style": "light"
          },
          "paper_bgcolor": "white",
          "plot_bgcolor": "#E5ECF6",
          "polar": {
           "angularaxis": {
            "gridcolor": "white",
            "linecolor": "white",
            "ticks": ""
           },
           "bgcolor": "#E5ECF6",
           "radialaxis": {
            "gridcolor": "white",
            "linecolor": "white",
            "ticks": ""
           }
          },
          "scene": {
           "xaxis": {
            "backgroundcolor": "#E5ECF6",
            "gridcolor": "white",
            "gridwidth": 2,
            "linecolor": "white",
            "showbackground": true,
            "ticks": "",
            "zerolinecolor": "white"
           },
           "yaxis": {
            "backgroundcolor": "#E5ECF6",
            "gridcolor": "white",
            "gridwidth": 2,
            "linecolor": "white",
            "showbackground": true,
            "ticks": "",
            "zerolinecolor": "white"
           },
           "zaxis": {
            "backgroundcolor": "#E5ECF6",
            "gridcolor": "white",
            "gridwidth": 2,
            "linecolor": "white",
            "showbackground": true,
            "ticks": "",
            "zerolinecolor": "white"
           }
          },
          "shapedefaults": {
           "line": {
            "color": "#2a3f5f"
           }
          },
          "ternary": {
           "aaxis": {
            "gridcolor": "white",
            "linecolor": "white",
            "ticks": ""
           },
           "baxis": {
            "gridcolor": "white",
            "linecolor": "white",
            "ticks": ""
           },
           "bgcolor": "#E5ECF6",
           "caxis": {
            "gridcolor": "white",
            "linecolor": "white",
            "ticks": ""
           }
          },
          "title": {
           "x": 0.05
          },
          "xaxis": {
           "automargin": true,
           "gridcolor": "white",
           "linecolor": "white",
           "ticks": "",
           "title": {
            "standoff": 15
           },
           "zerolinecolor": "white",
           "zerolinewidth": 2
          },
          "yaxis": {
           "automargin": true,
           "gridcolor": "white",
           "linecolor": "white",
           "ticks": "",
           "title": {
            "standoff": 15
           },
           "zerolinecolor": "white",
           "zerolinewidth": 2
          }
         }
        },
        "violinmode": "group",
        "xaxis": {
         "anchor": "y",
         "domain": [
          0,
          1
         ]
        },
        "yaxis": {
         "anchor": "x",
         "domain": [
          0,
          1
         ],
         "title": {
          "text": "total_bill"
         }
        }
       }
      }
     },
     "metadata": {},
     "output_type": "display_data"
    }
   ],
   "source": [
    "fig = px.violin(\n",
    "    data_frame=tips,\n",
    "    y=\"total_bill\",\n",
    "    box=True,  # draw box plot inside the violin\n",
    "    points=\"suspectedoutliers\",  # ['all', 'outliers', 'suspectedoutliers', False]\n",
    ")\n",
    "fig.show()"
   ]
  },
  {
   "cell_type": "markdown",
   "metadata": {},
   "source": [
    "## Multiple Violin Plots color 分组"
   ]
  },
  {
   "cell_type": "code",
   "execution_count": 18,
   "metadata": {},
   "outputs": [
    {
     "data": {
      "application/vnd.plotly.v1+json": {
       "config": {
        "plotlyServerURL": "https://plot.ly"
       },
       "data": [
        {
         "alignmentgroup": "True",
         "box": {
          "visible": true
         },
         "customdata": [
          [
           16.99,
           "Female",
           "Sun",
           "Dinner",
           2
          ],
          [
           24.59,
           "Female",
           "Sun",
           "Dinner",
           4
          ],
          [
           35.26,
           "Female",
           "Sun",
           "Dinner",
           4
          ],
          [
           14.83,
           "Female",
           "Sun",
           "Dinner",
           2
          ],
          [
           10.33,
           "Female",
           "Sun",
           "Dinner",
           3
          ],
          [
           16.97,
           "Female",
           "Sun",
           "Dinner",
           3
          ],
          [
           20.29,
           "Female",
           "Sat",
           "Dinner",
           2
          ],
          [
           15.77,
           "Female",
           "Sat",
           "Dinner",
           2
          ],
          [
           19.65,
           "Female",
           "Sat",
           "Dinner",
           2
          ],
          [
           15.06,
           "Female",
           "Sat",
           "Dinner",
           2
          ],
          [
           20.69,
           "Female",
           "Sat",
           "Dinner",
           4
          ],
          [
           16.93,
           "Female",
           "Sat",
           "Dinner",
           3
          ],
          [
           10.29,
           "Female",
           "Sun",
           "Dinner",
           2
          ],
          [
           34.81,
           "Female",
           "Sun",
           "Dinner",
           4
          ],
          [
           26.41,
           "Female",
           "Sat",
           "Dinner",
           2
          ],
          [
           16.45,
           "Female",
           "Sat",
           "Dinner",
           2
          ],
          [
           3.07,
           "Female",
           "Sat",
           "Dinner",
           1
          ],
          [
           17.07,
           "Female",
           "Sat",
           "Dinner",
           3
          ],
          [
           26.86,
           "Female",
           "Sat",
           "Dinner",
           2
          ],
          [
           25.28,
           "Female",
           "Sat",
           "Dinner",
           2
          ],
          [
           14.73,
           "Female",
           "Sat",
           "Dinner",
           2
          ],
          [
           10.07,
           "Female",
           "Thur",
           "Lunch",
           1
          ],
          [
           34.83,
           "Female",
           "Thur",
           "Lunch",
           4
          ],
          [
           5.75,
           "Female",
           "Fri",
           "Dinner",
           2
          ],
          [
           16.32,
           "Female",
           "Fri",
           "Dinner",
           2
          ],
          [
           22.75,
           "Female",
           "Fri",
           "Dinner",
           2
          ],
          [
           11.35,
           "Female",
           "Fri",
           "Dinner",
           2
          ],
          [
           15.38,
           "Female",
           "Fri",
           "Dinner",
           2
          ],
          [
           44.3,
           "Female",
           "Sat",
           "Dinner",
           3
          ],
          [
           22.42,
           "Female",
           "Sat",
           "Dinner",
           2
          ],
          [
           20.92,
           "Female",
           "Sat",
           "Dinner",
           2
          ],
          [
           14.31,
           "Female",
           "Sat",
           "Dinner",
           2
          ],
          [
           7.25,
           "Female",
           "Sat",
           "Dinner",
           1
          ],
          [
           25.71,
           "Female",
           "Sun",
           "Dinner",
           3
          ],
          [
           17.31,
           "Female",
           "Sun",
           "Dinner",
           2
          ],
          [
           10.65,
           "Female",
           "Thur",
           "Lunch",
           2
          ],
          [
           12.43,
           "Female",
           "Thur",
           "Lunch",
           2
          ],
          [
           24.08,
           "Female",
           "Thur",
           "Lunch",
           4
          ],
          [
           13.42,
           "Female",
           "Thur",
           "Lunch",
           2
          ],
          [
           12.48,
           "Female",
           "Thur",
           "Lunch",
           2
          ],
          [
           29.8,
           "Female",
           "Thur",
           "Lunch",
           6
          ],
          [
           14.52,
           "Female",
           "Thur",
           "Lunch",
           2
          ],
          [
           11.38,
           "Female",
           "Thur",
           "Lunch",
           2
          ],
          [
           20.27,
           "Female",
           "Thur",
           "Lunch",
           2
          ],
          [
           11.17,
           "Female",
           "Thur",
           "Lunch",
           2
          ],
          [
           12.26,
           "Female",
           "Thur",
           "Lunch",
           2
          ],
          [
           18.26,
           "Female",
           "Thur",
           "Lunch",
           2
          ],
          [
           8.51,
           "Female",
           "Thur",
           "Lunch",
           2
          ],
          [
           10.33,
           "Female",
           "Thur",
           "Lunch",
           2
          ],
          [
           14.15,
           "Female",
           "Thur",
           "Lunch",
           2
          ],
          [
           13.16,
           "Female",
           "Thur",
           "Lunch",
           2
          ],
          [
           17.47,
           "Female",
           "Thur",
           "Lunch",
           2
          ],
          [
           27.05,
           "Female",
           "Thur",
           "Lunch",
           6
          ],
          [
           16.43,
           "Female",
           "Thur",
           "Lunch",
           2
          ],
          [
           8.35,
           "Female",
           "Thur",
           "Lunch",
           2
          ],
          [
           18.64,
           "Female",
           "Thur",
           "Lunch",
           3
          ],
          [
           11.87,
           "Female",
           "Thur",
           "Lunch",
           2
          ],
          [
           29.85,
           "Female",
           "Sun",
           "Dinner",
           5
          ],
          [
           25,
           "Female",
           "Sun",
           "Dinner",
           4
          ],
          [
           13.39,
           "Female",
           "Sun",
           "Dinner",
           2
          ],
          [
           16.21,
           "Female",
           "Sun",
           "Dinner",
           3
          ],
          [
           17.51,
           "Female",
           "Sun",
           "Dinner",
           2
          ],
          [
           10.59,
           "Female",
           "Sat",
           "Dinner",
           2
          ],
          [
           10.63,
           "Female",
           "Sat",
           "Dinner",
           2
          ],
          [
           9.6,
           "Female",
           "Sun",
           "Dinner",
           2
          ],
          [
           20.9,
           "Female",
           "Sun",
           "Dinner",
           3
          ],
          [
           18.15,
           "Female",
           "Sun",
           "Dinner",
           3
          ],
          [
           19.81,
           "Female",
           "Thur",
           "Lunch",
           2
          ],
          [
           43.11,
           "Female",
           "Thur",
           "Lunch",
           4
          ],
          [
           13,
           "Female",
           "Thur",
           "Lunch",
           2
          ],
          [
           12.74,
           "Female",
           "Thur",
           "Lunch",
           2
          ],
          [
           13,
           "Female",
           "Thur",
           "Lunch",
           2
          ],
          [
           16.4,
           "Female",
           "Thur",
           "Lunch",
           2
          ],
          [
           16.47,
           "Female",
           "Thur",
           "Lunch",
           3
          ],
          [
           12.76,
           "Female",
           "Sat",
           "Dinner",
           2
          ],
          [
           13.27,
           "Female",
           "Sat",
           "Dinner",
           2
          ],
          [
           28.17,
           "Female",
           "Sat",
           "Dinner",
           3
          ],
          [
           12.9,
           "Female",
           "Sat",
           "Dinner",
           2
          ],
          [
           30.14,
           "Female",
           "Sat",
           "Dinner",
           4
          ],
          [
           13.42,
           "Female",
           "Fri",
           "Lunch",
           2
          ],
          [
           15.98,
           "Female",
           "Fri",
           "Lunch",
           3
          ],
          [
           16.27,
           "Female",
           "Fri",
           "Lunch",
           2
          ],
          [
           10.09,
           "Female",
           "Fri",
           "Lunch",
           2
          ],
          [
           22.12,
           "Female",
           "Sat",
           "Dinner",
           2
          ],
          [
           35.83,
           "Female",
           "Sat",
           "Dinner",
           3
          ],
          [
           27.18,
           "Female",
           "Sat",
           "Dinner",
           2
          ],
          [
           18.78,
           "Female",
           "Thur",
           "Dinner",
           2
          ]
         ],
         "hovertemplate": "sex=%{customdata[1]}<br>smoker=%{x}<br>tip=%{y}<br>total_bill=%{customdata[0]}<br>day=%{customdata[2]}<br>time=%{customdata[3]}<br>size=%{customdata[4]}<extra></extra>",
         "legendgroup": "Female",
         "marker": {
          "color": "#636efa"
         },
         "name": "Female",
         "offsetgroup": "Female",
         "orientation": "v",
         "points": "all",
         "scalegroup": "True",
         "showlegend": true,
         "type": "violin",
         "x": [
          "No",
          "No",
          "No",
          "No",
          "No",
          "No",
          "No",
          "No",
          "No",
          "No",
          "No",
          "No",
          "No",
          "No",
          "No",
          "No",
          "Yes",
          "No",
          "Yes",
          "Yes",
          "No",
          "No",
          "No",
          "Yes",
          "Yes",
          "No",
          "Yes",
          "Yes",
          "Yes",
          "Yes",
          "No",
          "Yes",
          "No",
          "No",
          "No",
          "No",
          "No",
          "No",
          "No",
          "No",
          "No",
          "No",
          "No",
          "No",
          "No",
          "No",
          "No",
          "No",
          "No",
          "No",
          "No",
          "No",
          "No",
          "No",
          "No",
          "No",
          "No",
          "No",
          "No",
          "No",
          "No",
          "Yes",
          "Yes",
          "Yes",
          "Yes",
          "Yes",
          "Yes",
          "Yes",
          "Yes",
          "Yes",
          "Yes",
          "Yes",
          "Yes",
          "Yes",
          "Yes",
          "Yes",
          "Yes",
          "Yes",
          "Yes",
          "Yes",
          "No",
          "Yes",
          "Yes",
          "Yes",
          "No",
          "Yes",
          "No"
         ],
         "x0": " ",
         "xaxis": "x",
         "y": [
          1.01,
          3.61,
          5,
          3.02,
          1.67,
          3.5,
          2.75,
          2.23,
          3,
          3,
          2.45,
          3.07,
          2.6,
          5.2,
          1.5,
          2.47,
          1,
          3,
          3.14,
          5,
          2.2,
          1.83,
          5.17,
          1,
          4.3,
          3.25,
          2.5,
          3,
          2.5,
          3.48,
          4.08,
          4,
          1,
          4,
          3.5,
          1.5,
          1.8,
          2.92,
          1.68,
          2.52,
          4.2,
          2,
          2,
          2.83,
          1.5,
          2,
          3.25,
          1.25,
          2,
          2,
          2.75,
          3.5,
          5,
          2.3,
          1.5,
          1.36,
          1.63,
          5.14,
          3.75,
          2.61,
          2,
          3,
          1.61,
          2,
          4,
          3.5,
          3.5,
          4.19,
          5,
          2,
          2.01,
          2,
          2.5,
          3.23,
          2.23,
          2.5,
          6.5,
          1.1,
          3.09,
          3.48,
          3,
          2.5,
          2,
          2.88,
          4.67,
          2,
          3
         ],
         "y0": " ",
         "yaxis": "y"
        },
        {
         "alignmentgroup": "True",
         "box": {
          "visible": true
         },
         "customdata": [
          [
           10.34,
           "Male",
           "Sun",
           "Dinner",
           3
          ],
          [
           21.01,
           "Male",
           "Sun",
           "Dinner",
           3
          ],
          [
           23.68,
           "Male",
           "Sun",
           "Dinner",
           2
          ],
          [
           25.29,
           "Male",
           "Sun",
           "Dinner",
           4
          ],
          [
           8.77,
           "Male",
           "Sun",
           "Dinner",
           2
          ],
          [
           26.88,
           "Male",
           "Sun",
           "Dinner",
           4
          ],
          [
           15.04,
           "Male",
           "Sun",
           "Dinner",
           2
          ],
          [
           14.78,
           "Male",
           "Sun",
           "Dinner",
           2
          ],
          [
           10.27,
           "Male",
           "Sun",
           "Dinner",
           2
          ],
          [
           15.42,
           "Male",
           "Sun",
           "Dinner",
           2
          ],
          [
           18.43,
           "Male",
           "Sun",
           "Dinner",
           4
          ],
          [
           21.58,
           "Male",
           "Sun",
           "Dinner",
           2
          ],
          [
           16.29,
           "Male",
           "Sun",
           "Dinner",
           3
          ],
          [
           20.65,
           "Male",
           "Sat",
           "Dinner",
           3
          ],
          [
           17.92,
           "Male",
           "Sat",
           "Dinner",
           2
          ],
          [
           39.42,
           "Male",
           "Sat",
           "Dinner",
           4
          ],
          [
           19.82,
           "Male",
           "Sat",
           "Dinner",
           2
          ],
          [
           17.81,
           "Male",
           "Sat",
           "Dinner",
           4
          ],
          [
           13.37,
           "Male",
           "Sat",
           "Dinner",
           2
          ],
          [
           12.69,
           "Male",
           "Sat",
           "Dinner",
           2
          ],
          [
           21.7,
           "Male",
           "Sat",
           "Dinner",
           2
          ],
          [
           9.55,
           "Male",
           "Sat",
           "Dinner",
           2
          ],
          [
           18.35,
           "Male",
           "Sat",
           "Dinner",
           4
          ],
          [
           17.78,
           "Male",
           "Sat",
           "Dinner",
           2
          ],
          [
           24.06,
           "Male",
           "Sat",
           "Dinner",
           3
          ],
          [
           16.31,
           "Male",
           "Sat",
           "Dinner",
           3
          ],
          [
           18.69,
           "Male",
           "Sat",
           "Dinner",
           3
          ],
          [
           31.27,
           "Male",
           "Sat",
           "Dinner",
           3
          ],
          [
           16.04,
           "Male",
           "Sat",
           "Dinner",
           3
          ],
          [
           17.46,
           "Male",
           "Sun",
           "Dinner",
           2
          ],
          [
           13.94,
           "Male",
           "Sun",
           "Dinner",
           2
          ],
          [
           9.68,
           "Male",
           "Sun",
           "Dinner",
           2
          ],
          [
           30.4,
           "Male",
           "Sun",
           "Dinner",
           4
          ],
          [
           18.29,
           "Male",
           "Sun",
           "Dinner",
           2
          ],
          [
           22.23,
           "Male",
           "Sun",
           "Dinner",
           2
          ],
          [
           32.4,
           "Male",
           "Sun",
           "Dinner",
           4
          ],
          [
           28.55,
           "Male",
           "Sun",
           "Dinner",
           3
          ],
          [
           18.04,
           "Male",
           "Sun",
           "Dinner",
           2
          ],
          [
           12.54,
           "Male",
           "Sun",
           "Dinner",
           2
          ],
          [
           9.94,
           "Male",
           "Sun",
           "Dinner",
           2
          ],
          [
           25.56,
           "Male",
           "Sun",
           "Dinner",
           4
          ],
          [
           19.49,
           "Male",
           "Sun",
           "Dinner",
           2
          ],
          [
           38.01,
           "Male",
           "Sat",
           "Dinner",
           4
          ],
          [
           11.24,
           "Male",
           "Sat",
           "Dinner",
           2
          ],
          [
           48.27,
           "Male",
           "Sat",
           "Dinner",
           4
          ],
          [
           20.29,
           "Male",
           "Sat",
           "Dinner",
           2
          ],
          [
           13.81,
           "Male",
           "Sat",
           "Dinner",
           2
          ],
          [
           11.02,
           "Male",
           "Sat",
           "Dinner",
           2
          ],
          [
           18.29,
           "Male",
           "Sat",
           "Dinner",
           4
          ],
          [
           17.59,
           "Male",
           "Sat",
           "Dinner",
           3
          ],
          [
           20.08,
           "Male",
           "Sat",
           "Dinner",
           3
          ],
          [
           20.23,
           "Male",
           "Sat",
           "Dinner",
           2
          ],
          [
           15.01,
           "Male",
           "Sat",
           "Dinner",
           2
          ],
          [
           12.02,
           "Male",
           "Sat",
           "Dinner",
           2
          ],
          [
           10.51,
           "Male",
           "Sat",
           "Dinner",
           2
          ],
          [
           17.92,
           "Male",
           "Sat",
           "Dinner",
           2
          ],
          [
           27.2,
           "Male",
           "Thur",
           "Lunch",
           4
          ],
          [
           22.76,
           "Male",
           "Thur",
           "Lunch",
           2
          ],
          [
           17.29,
           "Male",
           "Thur",
           "Lunch",
           2
          ],
          [
           19.44,
           "Male",
           "Thur",
           "Lunch",
           2
          ],
          [
           16.66,
           "Male",
           "Thur",
           "Lunch",
           2
          ],
          [
           32.68,
           "Male",
           "Thur",
           "Lunch",
           2
          ],
          [
           15.98,
           "Male",
           "Thur",
           "Lunch",
           2
          ],
          [
           13.03,
           "Male",
           "Thur",
           "Lunch",
           2
          ],
          [
           18.28,
           "Male",
           "Thur",
           "Lunch",
           2
          ],
          [
           24.71,
           "Male",
           "Thur",
           "Lunch",
           2
          ],
          [
           21.16,
           "Male",
           "Thur",
           "Lunch",
           2
          ],
          [
           28.97,
           "Male",
           "Fri",
           "Dinner",
           2
          ],
          [
           22.49,
           "Male",
           "Fri",
           "Dinner",
           2
          ],
          [
           40.17,
           "Male",
           "Fri",
           "Dinner",
           4
          ],
          [
           27.28,
           "Male",
           "Fri",
           "Dinner",
           2
          ],
          [
           12.03,
           "Male",
           "Fri",
           "Dinner",
           2
          ],
          [
           21.01,
           "Male",
           "Fri",
           "Dinner",
           2
          ],
          [
           12.46,
           "Male",
           "Fri",
           "Dinner",
           2
          ],
          [
           15.36,
           "Male",
           "Sat",
           "Dinner",
           2
          ],
          [
           20.49,
           "Male",
           "Sat",
           "Dinner",
           2
          ],
          [
           25.21,
           "Male",
           "Sat",
           "Dinner",
           2
          ],
          [
           18.24,
           "Male",
           "Sat",
           "Dinner",
           2
          ],
          [
           14,
           "Male",
           "Sat",
           "Dinner",
           2
          ],
          [
           38.07,
           "Male",
           "Sun",
           "Dinner",
           3
          ],
          [
           23.95,
           "Male",
           "Sun",
           "Dinner",
           2
          ],
          [
           29.93,
           "Male",
           "Sun",
           "Dinner",
           4
          ],
          [
           11.69,
           "Male",
           "Thur",
           "Lunch",
           2
          ],
          [
           14.26,
           "Male",
           "Thur",
           "Lunch",
           2
          ],
          [
           15.95,
           "Male",
           "Thur",
           "Lunch",
           2
          ],
          [
           8.52,
           "Male",
           "Thur",
           "Lunch",
           2
          ],
          [
           22.82,
           "Male",
           "Thur",
           "Lunch",
           3
          ],
          [
           19.08,
           "Male",
           "Thur",
           "Lunch",
           2
          ],
          [
           16,
           "Male",
           "Thur",
           "Lunch",
           2
          ],
          [
           34.3,
           "Male",
           "Thur",
           "Lunch",
           6
          ],
          [
           41.19,
           "Male",
           "Thur",
           "Lunch",
           5
          ],
          [
           9.78,
           "Male",
           "Thur",
           "Lunch",
           2
          ],
          [
           7.51,
           "Male",
           "Thur",
           "Lunch",
           2
          ],
          [
           14.07,
           "Male",
           "Sun",
           "Dinner",
           2
          ],
          [
           13.13,
           "Male",
           "Sun",
           "Dinner",
           2
          ],
          [
           17.26,
           "Male",
           "Sun",
           "Dinner",
           3
          ],
          [
           24.55,
           "Male",
           "Sun",
           "Dinner",
           4
          ],
          [
           19.77,
           "Male",
           "Sun",
           "Dinner",
           4
          ],
          [
           48.17,
           "Male",
           "Sun",
           "Dinner",
           6
          ],
          [
           16.49,
           "Male",
           "Sun",
           "Dinner",
           4
          ],
          [
           21.5,
           "Male",
           "Sun",
           "Dinner",
           4
          ],
          [
           12.66,
           "Male",
           "Sun",
           "Dinner",
           2
          ],
          [
           13.81,
           "Male",
           "Sun",
           "Dinner",
           2
          ],
          [
           24.52,
           "Male",
           "Sun",
           "Dinner",
           3
          ],
          [
           20.76,
           "Male",
           "Sun",
           "Dinner",
           2
          ],
          [
           31.71,
           "Male",
           "Sun",
           "Dinner",
           4
          ],
          [
           50.81,
           "Male",
           "Sat",
           "Dinner",
           3
          ],
          [
           15.81,
           "Male",
           "Sat",
           "Dinner",
           2
          ],
          [
           7.25,
           "Male",
           "Sun",
           "Dinner",
           2
          ],
          [
           31.85,
           "Male",
           "Sun",
           "Dinner",
           2
          ],
          [
           16.82,
           "Male",
           "Sun",
           "Dinner",
           2
          ],
          [
           32.9,
           "Male",
           "Sun",
           "Dinner",
           2
          ],
          [
           17.89,
           "Male",
           "Sun",
           "Dinner",
           2
          ],
          [
           14.48,
           "Male",
           "Sun",
           "Dinner",
           2
          ],
          [
           34.63,
           "Male",
           "Sun",
           "Dinner",
           2
          ],
          [
           34.65,
           "Male",
           "Sun",
           "Dinner",
           4
          ],
          [
           23.33,
           "Male",
           "Sun",
           "Dinner",
           2
          ],
          [
           45.35,
           "Male",
           "Sun",
           "Dinner",
           3
          ],
          [
           23.17,
           "Male",
           "Sun",
           "Dinner",
           4
          ],
          [
           40.55,
           "Male",
           "Sun",
           "Dinner",
           2
          ],
          [
           20.69,
           "Male",
           "Sun",
           "Dinner",
           5
          ],
          [
           30.46,
           "Male",
           "Sun",
           "Dinner",
           5
          ],
          [
           23.1,
           "Male",
           "Sun",
           "Dinner",
           3
          ],
          [
           15.69,
           "Male",
           "Sun",
           "Dinner",
           2
          ],
          [
           28.44,
           "Male",
           "Thur",
           "Lunch",
           2
          ],
          [
           15.48,
           "Male",
           "Thur",
           "Lunch",
           2
          ],
          [
           16.58,
           "Male",
           "Thur",
           "Lunch",
           2
          ],
          [
           7.56,
           "Male",
           "Thur",
           "Lunch",
           2
          ],
          [
           10.34,
           "Male",
           "Thur",
           "Lunch",
           2
          ],
          [
           13.51,
           "Male",
           "Thur",
           "Lunch",
           2
          ],
          [
           18.71,
           "Male",
           "Thur",
           "Lunch",
           3
          ],
          [
           20.53,
           "Male",
           "Thur",
           "Lunch",
           4
          ],
          [
           26.59,
           "Male",
           "Sat",
           "Dinner",
           3
          ],
          [
           38.73,
           "Male",
           "Sat",
           "Dinner",
           4
          ],
          [
           24.27,
           "Male",
           "Sat",
           "Dinner",
           2
          ],
          [
           30.06,
           "Male",
           "Sat",
           "Dinner",
           3
          ],
          [
           25.89,
           "Male",
           "Sat",
           "Dinner",
           4
          ],
          [
           48.33,
           "Male",
           "Sat",
           "Dinner",
           4
          ],
          [
           28.15,
           "Male",
           "Sat",
           "Dinner",
           5
          ],
          [
           11.59,
           "Male",
           "Sat",
           "Dinner",
           2
          ],
          [
           7.74,
           "Male",
           "Sat",
           "Dinner",
           2
          ],
          [
           12.16,
           "Male",
           "Fri",
           "Lunch",
           2
          ],
          [
           8.58,
           "Male",
           "Fri",
           "Lunch",
           1
          ],
          [
           13.42,
           "Male",
           "Fri",
           "Lunch",
           2
          ],
          [
           20.45,
           "Male",
           "Sat",
           "Dinner",
           4
          ],
          [
           13.28,
           "Male",
           "Sat",
           "Dinner",
           2
          ],
          [
           24.01,
           "Male",
           "Sat",
           "Dinner",
           4
          ],
          [
           15.69,
           "Male",
           "Sat",
           "Dinner",
           3
          ],
          [
           11.61,
           "Male",
           "Sat",
           "Dinner",
           2
          ],
          [
           10.77,
           "Male",
           "Sat",
           "Dinner",
           2
          ],
          [
           15.53,
           "Male",
           "Sat",
           "Dinner",
           2
          ],
          [
           10.07,
           "Male",
           "Sat",
           "Dinner",
           2
          ],
          [
           12.6,
           "Male",
           "Sat",
           "Dinner",
           2
          ],
          [
           32.83,
           "Male",
           "Sat",
           "Dinner",
           2
          ],
          [
           29.03,
           "Male",
           "Sat",
           "Dinner",
           3
          ],
          [
           22.67,
           "Male",
           "Sat",
           "Dinner",
           2
          ],
          [
           17.82,
           "Male",
           "Sat",
           "Dinner",
           2
          ]
         ],
         "hovertemplate": "sex=%{customdata[1]}<br>smoker=%{x}<br>tip=%{y}<br>total_bill=%{customdata[0]}<br>day=%{customdata[2]}<br>time=%{customdata[3]}<br>size=%{customdata[4]}<extra></extra>",
         "legendgroup": "Male",
         "marker": {
          "color": "#EF553B"
         },
         "name": "Male",
         "offsetgroup": "Male",
         "orientation": "v",
         "points": "all",
         "scalegroup": "True",
         "showlegend": true,
         "type": "violin",
         "x": [
          "No",
          "No",
          "No",
          "No",
          "No",
          "No",
          "No",
          "No",
          "No",
          "No",
          "No",
          "No",
          "No",
          "No",
          "No",
          "No",
          "No",
          "No",
          "No",
          "No",
          "No",
          "No",
          "No",
          "No",
          "No",
          "No",
          "No",
          "No",
          "No",
          "No",
          "No",
          "No",
          "No",
          "No",
          "No",
          "No",
          "No",
          "No",
          "No",
          "No",
          "No",
          "No",
          "Yes",
          "Yes",
          "No",
          "Yes",
          "Yes",
          "Yes",
          "Yes",
          "No",
          "No",
          "No",
          "Yes",
          "No",
          "No",
          "Yes",
          "No",
          "No",
          "No",
          "Yes",
          "No",
          "Yes",
          "No",
          "No",
          "No",
          "No",
          "No",
          "Yes",
          "No",
          "Yes",
          "Yes",
          "Yes",
          "Yes",
          "No",
          "Yes",
          "Yes",
          "Yes",
          "No",
          "No",
          "No",
          "No",
          "No",
          "No",
          "No",
          "No",
          "No",
          "No",
          "No",
          "Yes",
          "No",
          "No",
          "No",
          "No",
          "No",
          "No",
          "No",
          "No",
          "No",
          "No",
          "No",
          "No",
          "No",
          "No",
          "No",
          "No",
          "No",
          "Yes",
          "Yes",
          "Yes",
          "Yes",
          "Yes",
          "Yes",
          "Yes",
          "Yes",
          "Yes",
          "Yes",
          "Yes",
          "Yes",
          "Yes",
          "Yes",
          "No",
          "Yes",
          "Yes",
          "Yes",
          "Yes",
          "Yes",
          "Yes",
          "No",
          "Yes",
          "Yes",
          "Yes",
          "Yes",
          "Yes",
          "Yes",
          "Yes",
          "Yes",
          "Yes",
          "No",
          "Yes",
          "Yes",
          "Yes",
          "Yes",
          "Yes",
          "Yes",
          "No",
          "No",
          "Yes",
          "Yes",
          "No",
          "No",
          "Yes",
          "No",
          "Yes",
          "Yes",
          "No",
          "Yes",
          "No"
         ],
         "x0": " ",
         "xaxis": "x",
         "y": [
          1.66,
          3.5,
          3.31,
          4.71,
          2,
          3.12,
          1.96,
          3.23,
          1.71,
          1.57,
          3,
          3.92,
          3.71,
          3.35,
          4.08,
          7.58,
          3.18,
          2.34,
          2,
          2,
          4.3,
          1.45,
          2.5,
          3.27,
          3.6,
          2,
          2.31,
          5,
          2.24,
          2.54,
          3.06,
          1.32,
          5.6,
          3,
          5,
          6,
          2.05,
          3,
          2.5,
          1.56,
          4.34,
          3.51,
          3,
          1.76,
          6.73,
          3.21,
          2,
          1.98,
          3.76,
          2.64,
          3.15,
          2.01,
          2.09,
          1.97,
          1.25,
          3.08,
          4,
          3,
          2.71,
          3,
          3.4,
          5,
          2.03,
          2,
          4,
          5.85,
          3,
          3,
          3.5,
          4.73,
          4,
          1.5,
          3,
          1.5,
          1.64,
          4.06,
          4.29,
          3.76,
          3,
          4,
          2.55,
          5.07,
          2.31,
          2.5,
          2,
          1.48,
          2.18,
          1.5,
          2,
          6.7,
          5,
          1.73,
          2,
          2.5,
          2,
          2.74,
          2,
          2,
          5,
          2,
          3.5,
          2.5,
          2,
          3.48,
          2.24,
          4.5,
          10,
          3.16,
          5.15,
          3.18,
          4,
          3.11,
          2,
          2,
          3.55,
          3.68,
          5.65,
          3.5,
          6.5,
          3,
          5,
          2,
          4,
          1.5,
          2.56,
          2.02,
          4,
          1.44,
          2,
          2,
          4,
          4,
          3.41,
          3,
          2.03,
          2,
          5.16,
          9,
          3,
          1.5,
          1.44,
          2.2,
          1.92,
          1.58,
          3,
          2.72,
          2,
          3,
          3.39,
          1.47,
          3,
          1.25,
          1,
          1.17,
          5.92,
          2,
          1.75
         ],
         "y0": " ",
         "yaxis": "y"
        }
       ],
       "layout": {
        "legend": {
         "title": {
          "text": "sex"
         },
         "tracegroupgap": 0
        },
        "margin": {
         "t": 60
        },
        "template": {
         "data": {
          "bar": [
           {
            "error_x": {
             "color": "#2a3f5f"
            },
            "error_y": {
             "color": "#2a3f5f"
            },
            "marker": {
             "line": {
              "color": "#E5ECF6",
              "width": 0.5
             },
             "pattern": {
              "fillmode": "overlay",
              "size": 10,
              "solidity": 0.2
             }
            },
            "type": "bar"
           }
          ],
          "barpolar": [
           {
            "marker": {
             "line": {
              "color": "#E5ECF6",
              "width": 0.5
             },
             "pattern": {
              "fillmode": "overlay",
              "size": 10,
              "solidity": 0.2
             }
            },
            "type": "barpolar"
           }
          ],
          "carpet": [
           {
            "aaxis": {
             "endlinecolor": "#2a3f5f",
             "gridcolor": "white",
             "linecolor": "white",
             "minorgridcolor": "white",
             "startlinecolor": "#2a3f5f"
            },
            "baxis": {
             "endlinecolor": "#2a3f5f",
             "gridcolor": "white",
             "linecolor": "white",
             "minorgridcolor": "white",
             "startlinecolor": "#2a3f5f"
            },
            "type": "carpet"
           }
          ],
          "choropleth": [
           {
            "colorbar": {
             "outlinewidth": 0,
             "ticks": ""
            },
            "type": "choropleth"
           }
          ],
          "contour": [
           {
            "colorbar": {
             "outlinewidth": 0,
             "ticks": ""
            },
            "colorscale": [
             [
              0,
              "#0d0887"
             ],
             [
              0.1111111111111111,
              "#46039f"
             ],
             [
              0.2222222222222222,
              "#7201a8"
             ],
             [
              0.3333333333333333,
              "#9c179e"
             ],
             [
              0.4444444444444444,
              "#bd3786"
             ],
             [
              0.5555555555555556,
              "#d8576b"
             ],
             [
              0.6666666666666666,
              "#ed7953"
             ],
             [
              0.7777777777777778,
              "#fb9f3a"
             ],
             [
              0.8888888888888888,
              "#fdca26"
             ],
             [
              1,
              "#f0f921"
             ]
            ],
            "type": "contour"
           }
          ],
          "contourcarpet": [
           {
            "colorbar": {
             "outlinewidth": 0,
             "ticks": ""
            },
            "type": "contourcarpet"
           }
          ],
          "heatmap": [
           {
            "colorbar": {
             "outlinewidth": 0,
             "ticks": ""
            },
            "colorscale": [
             [
              0,
              "#0d0887"
             ],
             [
              0.1111111111111111,
              "#46039f"
             ],
             [
              0.2222222222222222,
              "#7201a8"
             ],
             [
              0.3333333333333333,
              "#9c179e"
             ],
             [
              0.4444444444444444,
              "#bd3786"
             ],
             [
              0.5555555555555556,
              "#d8576b"
             ],
             [
              0.6666666666666666,
              "#ed7953"
             ],
             [
              0.7777777777777778,
              "#fb9f3a"
             ],
             [
              0.8888888888888888,
              "#fdca26"
             ],
             [
              1,
              "#f0f921"
             ]
            ],
            "type": "heatmap"
           }
          ],
          "heatmapgl": [
           {
            "colorbar": {
             "outlinewidth": 0,
             "ticks": ""
            },
            "colorscale": [
             [
              0,
              "#0d0887"
             ],
             [
              0.1111111111111111,
              "#46039f"
             ],
             [
              0.2222222222222222,
              "#7201a8"
             ],
             [
              0.3333333333333333,
              "#9c179e"
             ],
             [
              0.4444444444444444,
              "#bd3786"
             ],
             [
              0.5555555555555556,
              "#d8576b"
             ],
             [
              0.6666666666666666,
              "#ed7953"
             ],
             [
              0.7777777777777778,
              "#fb9f3a"
             ],
             [
              0.8888888888888888,
              "#fdca26"
             ],
             [
              1,
              "#f0f921"
             ]
            ],
            "type": "heatmapgl"
           }
          ],
          "histogram": [
           {
            "marker": {
             "pattern": {
              "fillmode": "overlay",
              "size": 10,
              "solidity": 0.2
             }
            },
            "type": "histogram"
           }
          ],
          "histogram2d": [
           {
            "colorbar": {
             "outlinewidth": 0,
             "ticks": ""
            },
            "colorscale": [
             [
              0,
              "#0d0887"
             ],
             [
              0.1111111111111111,
              "#46039f"
             ],
             [
              0.2222222222222222,
              "#7201a8"
             ],
             [
              0.3333333333333333,
              "#9c179e"
             ],
             [
              0.4444444444444444,
              "#bd3786"
             ],
             [
              0.5555555555555556,
              "#d8576b"
             ],
             [
              0.6666666666666666,
              "#ed7953"
             ],
             [
              0.7777777777777778,
              "#fb9f3a"
             ],
             [
              0.8888888888888888,
              "#fdca26"
             ],
             [
              1,
              "#f0f921"
             ]
            ],
            "type": "histogram2d"
           }
          ],
          "histogram2dcontour": [
           {
            "colorbar": {
             "outlinewidth": 0,
             "ticks": ""
            },
            "colorscale": [
             [
              0,
              "#0d0887"
             ],
             [
              0.1111111111111111,
              "#46039f"
             ],
             [
              0.2222222222222222,
              "#7201a8"
             ],
             [
              0.3333333333333333,
              "#9c179e"
             ],
             [
              0.4444444444444444,
              "#bd3786"
             ],
             [
              0.5555555555555556,
              "#d8576b"
             ],
             [
              0.6666666666666666,
              "#ed7953"
             ],
             [
              0.7777777777777778,
              "#fb9f3a"
             ],
             [
              0.8888888888888888,
              "#fdca26"
             ],
             [
              1,
              "#f0f921"
             ]
            ],
            "type": "histogram2dcontour"
           }
          ],
          "mesh3d": [
           {
            "colorbar": {
             "outlinewidth": 0,
             "ticks": ""
            },
            "type": "mesh3d"
           }
          ],
          "parcoords": [
           {
            "line": {
             "colorbar": {
              "outlinewidth": 0,
              "ticks": ""
             }
            },
            "type": "parcoords"
           }
          ],
          "pie": [
           {
            "automargin": true,
            "type": "pie"
           }
          ],
          "scatter": [
           {
            "fillpattern": {
             "fillmode": "overlay",
             "size": 10,
             "solidity": 0.2
            },
            "type": "scatter"
           }
          ],
          "scatter3d": [
           {
            "line": {
             "colorbar": {
              "outlinewidth": 0,
              "ticks": ""
             }
            },
            "marker": {
             "colorbar": {
              "outlinewidth": 0,
              "ticks": ""
             }
            },
            "type": "scatter3d"
           }
          ],
          "scattercarpet": [
           {
            "marker": {
             "colorbar": {
              "outlinewidth": 0,
              "ticks": ""
             }
            },
            "type": "scattercarpet"
           }
          ],
          "scattergeo": [
           {
            "marker": {
             "colorbar": {
              "outlinewidth": 0,
              "ticks": ""
             }
            },
            "type": "scattergeo"
           }
          ],
          "scattergl": [
           {
            "marker": {
             "colorbar": {
              "outlinewidth": 0,
              "ticks": ""
             }
            },
            "type": "scattergl"
           }
          ],
          "scattermapbox": [
           {
            "marker": {
             "colorbar": {
              "outlinewidth": 0,
              "ticks": ""
             }
            },
            "type": "scattermapbox"
           }
          ],
          "scatterpolar": [
           {
            "marker": {
             "colorbar": {
              "outlinewidth": 0,
              "ticks": ""
             }
            },
            "type": "scatterpolar"
           }
          ],
          "scatterpolargl": [
           {
            "marker": {
             "colorbar": {
              "outlinewidth": 0,
              "ticks": ""
             }
            },
            "type": "scatterpolargl"
           }
          ],
          "scatterternary": [
           {
            "marker": {
             "colorbar": {
              "outlinewidth": 0,
              "ticks": ""
             }
            },
            "type": "scatterternary"
           }
          ],
          "surface": [
           {
            "colorbar": {
             "outlinewidth": 0,
             "ticks": ""
            },
            "colorscale": [
             [
              0,
              "#0d0887"
             ],
             [
              0.1111111111111111,
              "#46039f"
             ],
             [
              0.2222222222222222,
              "#7201a8"
             ],
             [
              0.3333333333333333,
              "#9c179e"
             ],
             [
              0.4444444444444444,
              "#bd3786"
             ],
             [
              0.5555555555555556,
              "#d8576b"
             ],
             [
              0.6666666666666666,
              "#ed7953"
             ],
             [
              0.7777777777777778,
              "#fb9f3a"
             ],
             [
              0.8888888888888888,
              "#fdca26"
             ],
             [
              1,
              "#f0f921"
             ]
            ],
            "type": "surface"
           }
          ],
          "table": [
           {
            "cells": {
             "fill": {
              "color": "#EBF0F8"
             },
             "line": {
              "color": "white"
             }
            },
            "header": {
             "fill": {
              "color": "#C8D4E3"
             },
             "line": {
              "color": "white"
             }
            },
            "type": "table"
           }
          ]
         },
         "layout": {
          "annotationdefaults": {
           "arrowcolor": "#2a3f5f",
           "arrowhead": 0,
           "arrowwidth": 1
          },
          "autotypenumbers": "strict",
          "coloraxis": {
           "colorbar": {
            "outlinewidth": 0,
            "ticks": ""
           }
          },
          "colorscale": {
           "diverging": [
            [
             0,
             "#8e0152"
            ],
            [
             0.1,
             "#c51b7d"
            ],
            [
             0.2,
             "#de77ae"
            ],
            [
             0.3,
             "#f1b6da"
            ],
            [
             0.4,
             "#fde0ef"
            ],
            [
             0.5,
             "#f7f7f7"
            ],
            [
             0.6,
             "#e6f5d0"
            ],
            [
             0.7,
             "#b8e186"
            ],
            [
             0.8,
             "#7fbc41"
            ],
            [
             0.9,
             "#4d9221"
            ],
            [
             1,
             "#276419"
            ]
           ],
           "sequential": [
            [
             0,
             "#0d0887"
            ],
            [
             0.1111111111111111,
             "#46039f"
            ],
            [
             0.2222222222222222,
             "#7201a8"
            ],
            [
             0.3333333333333333,
             "#9c179e"
            ],
            [
             0.4444444444444444,
             "#bd3786"
            ],
            [
             0.5555555555555556,
             "#d8576b"
            ],
            [
             0.6666666666666666,
             "#ed7953"
            ],
            [
             0.7777777777777778,
             "#fb9f3a"
            ],
            [
             0.8888888888888888,
             "#fdca26"
            ],
            [
             1,
             "#f0f921"
            ]
           ],
           "sequentialminus": [
            [
             0,
             "#0d0887"
            ],
            [
             0.1111111111111111,
             "#46039f"
            ],
            [
             0.2222222222222222,
             "#7201a8"
            ],
            [
             0.3333333333333333,
             "#9c179e"
            ],
            [
             0.4444444444444444,
             "#bd3786"
            ],
            [
             0.5555555555555556,
             "#d8576b"
            ],
            [
             0.6666666666666666,
             "#ed7953"
            ],
            [
             0.7777777777777778,
             "#fb9f3a"
            ],
            [
             0.8888888888888888,
             "#fdca26"
            ],
            [
             1,
             "#f0f921"
            ]
           ]
          },
          "colorway": [
           "#636efa",
           "#EF553B",
           "#00cc96",
           "#ab63fa",
           "#FFA15A",
           "#19d3f3",
           "#FF6692",
           "#B6E880",
           "#FF97FF",
           "#FECB52"
          ],
          "font": {
           "color": "#2a3f5f"
          },
          "geo": {
           "bgcolor": "white",
           "lakecolor": "white",
           "landcolor": "#E5ECF6",
           "showlakes": true,
           "showland": true,
           "subunitcolor": "white"
          },
          "hoverlabel": {
           "align": "left"
          },
          "hovermode": "closest",
          "mapbox": {
           "style": "light"
          },
          "paper_bgcolor": "white",
          "plot_bgcolor": "#E5ECF6",
          "polar": {
           "angularaxis": {
            "gridcolor": "white",
            "linecolor": "white",
            "ticks": ""
           },
           "bgcolor": "#E5ECF6",
           "radialaxis": {
            "gridcolor": "white",
            "linecolor": "white",
            "ticks": ""
           }
          },
          "scene": {
           "xaxis": {
            "backgroundcolor": "#E5ECF6",
            "gridcolor": "white",
            "gridwidth": 2,
            "linecolor": "white",
            "showbackground": true,
            "ticks": "",
            "zerolinecolor": "white"
           },
           "yaxis": {
            "backgroundcolor": "#E5ECF6",
            "gridcolor": "white",
            "gridwidth": 2,
            "linecolor": "white",
            "showbackground": true,
            "ticks": "",
            "zerolinecolor": "white"
           },
           "zaxis": {
            "backgroundcolor": "#E5ECF6",
            "gridcolor": "white",
            "gridwidth": 2,
            "linecolor": "white",
            "showbackground": true,
            "ticks": "",
            "zerolinecolor": "white"
           }
          },
          "shapedefaults": {
           "line": {
            "color": "#2a3f5f"
           }
          },
          "ternary": {
           "aaxis": {
            "gridcolor": "white",
            "linecolor": "white",
            "ticks": ""
           },
           "baxis": {
            "gridcolor": "white",
            "linecolor": "white",
            "ticks": ""
           },
           "bgcolor": "#E5ECF6",
           "caxis": {
            "gridcolor": "white",
            "linecolor": "white",
            "ticks": ""
           }
          },
          "title": {
           "x": 0.05
          },
          "xaxis": {
           "automargin": true,
           "gridcolor": "white",
           "linecolor": "white",
           "ticks": "",
           "title": {
            "standoff": 15
           },
           "zerolinecolor": "white",
           "zerolinewidth": 2
          },
          "yaxis": {
           "automargin": true,
           "gridcolor": "white",
           "linecolor": "white",
           "ticks": "",
           "title": {
            "standoff": 15
           },
           "zerolinecolor": "white",
           "zerolinewidth": 2
          }
         }
        },
        "violinmode": "group",
        "xaxis": {
         "anchor": "y",
         "domain": [
          0,
          1
         ],
         "title": {
          "text": "smoker"
         }
        },
        "yaxis": {
         "anchor": "x",
         "domain": [
          0,
          1
         ],
         "title": {
          "text": "tip"
         }
        }
       }
      }
     },
     "metadata": {},
     "output_type": "display_data"
    }
   ],
   "source": [
    "fig = px.violin(\n",
    "    data_frame=tips,\n",
    "    x=\"smoker\",\n",
    "    y=\"tip\",\n",
    "    box=True,  # draw box plot inside the violin\n",
    "    points=\"all\",\n",
    "    color=\"sex\",\n",
    "    hover_data=tips.columns,\n",
    ")\n",
    "fig.show()"
   ]
  },
  {
   "cell_type": "code",
   "execution_count": 21,
   "metadata": {},
   "outputs": [
    {
     "data": {
      "application/vnd.plotly.v1+json": {
       "config": {
        "plotlyServerURL": "https://plot.ly"
       },
       "data": [
        {
         "alignmentgroup": "True",
         "box": {
          "visible": false
         },
         "customdata": [
          [
           16.99,
           "Female",
           "Sun",
           "Dinner",
           2
          ],
          [
           24.59,
           "Female",
           "Sun",
           "Dinner",
           4
          ],
          [
           35.26,
           "Female",
           "Sun",
           "Dinner",
           4
          ],
          [
           14.83,
           "Female",
           "Sun",
           "Dinner",
           2
          ],
          [
           10.33,
           "Female",
           "Sun",
           "Dinner",
           3
          ],
          [
           16.97,
           "Female",
           "Sun",
           "Dinner",
           3
          ],
          [
           20.29,
           "Female",
           "Sat",
           "Dinner",
           2
          ],
          [
           15.77,
           "Female",
           "Sat",
           "Dinner",
           2
          ],
          [
           19.65,
           "Female",
           "Sat",
           "Dinner",
           2
          ],
          [
           15.06,
           "Female",
           "Sat",
           "Dinner",
           2
          ],
          [
           20.69,
           "Female",
           "Sat",
           "Dinner",
           4
          ],
          [
           16.93,
           "Female",
           "Sat",
           "Dinner",
           3
          ],
          [
           10.29,
           "Female",
           "Sun",
           "Dinner",
           2
          ],
          [
           34.81,
           "Female",
           "Sun",
           "Dinner",
           4
          ],
          [
           26.41,
           "Female",
           "Sat",
           "Dinner",
           2
          ],
          [
           16.45,
           "Female",
           "Sat",
           "Dinner",
           2
          ],
          [
           3.07,
           "Female",
           "Sat",
           "Dinner",
           1
          ],
          [
           17.07,
           "Female",
           "Sat",
           "Dinner",
           3
          ],
          [
           26.86,
           "Female",
           "Sat",
           "Dinner",
           2
          ],
          [
           25.28,
           "Female",
           "Sat",
           "Dinner",
           2
          ],
          [
           14.73,
           "Female",
           "Sat",
           "Dinner",
           2
          ],
          [
           10.07,
           "Female",
           "Thur",
           "Lunch",
           1
          ],
          [
           34.83,
           "Female",
           "Thur",
           "Lunch",
           4
          ],
          [
           5.75,
           "Female",
           "Fri",
           "Dinner",
           2
          ],
          [
           16.32,
           "Female",
           "Fri",
           "Dinner",
           2
          ],
          [
           22.75,
           "Female",
           "Fri",
           "Dinner",
           2
          ],
          [
           11.35,
           "Female",
           "Fri",
           "Dinner",
           2
          ],
          [
           15.38,
           "Female",
           "Fri",
           "Dinner",
           2
          ],
          [
           44.3,
           "Female",
           "Sat",
           "Dinner",
           3
          ],
          [
           22.42,
           "Female",
           "Sat",
           "Dinner",
           2
          ],
          [
           20.92,
           "Female",
           "Sat",
           "Dinner",
           2
          ],
          [
           14.31,
           "Female",
           "Sat",
           "Dinner",
           2
          ],
          [
           7.25,
           "Female",
           "Sat",
           "Dinner",
           1
          ],
          [
           25.71,
           "Female",
           "Sun",
           "Dinner",
           3
          ],
          [
           17.31,
           "Female",
           "Sun",
           "Dinner",
           2
          ],
          [
           10.65,
           "Female",
           "Thur",
           "Lunch",
           2
          ],
          [
           12.43,
           "Female",
           "Thur",
           "Lunch",
           2
          ],
          [
           24.08,
           "Female",
           "Thur",
           "Lunch",
           4
          ],
          [
           13.42,
           "Female",
           "Thur",
           "Lunch",
           2
          ],
          [
           12.48,
           "Female",
           "Thur",
           "Lunch",
           2
          ],
          [
           29.8,
           "Female",
           "Thur",
           "Lunch",
           6
          ],
          [
           14.52,
           "Female",
           "Thur",
           "Lunch",
           2
          ],
          [
           11.38,
           "Female",
           "Thur",
           "Lunch",
           2
          ],
          [
           20.27,
           "Female",
           "Thur",
           "Lunch",
           2
          ],
          [
           11.17,
           "Female",
           "Thur",
           "Lunch",
           2
          ],
          [
           12.26,
           "Female",
           "Thur",
           "Lunch",
           2
          ],
          [
           18.26,
           "Female",
           "Thur",
           "Lunch",
           2
          ],
          [
           8.51,
           "Female",
           "Thur",
           "Lunch",
           2
          ],
          [
           10.33,
           "Female",
           "Thur",
           "Lunch",
           2
          ],
          [
           14.15,
           "Female",
           "Thur",
           "Lunch",
           2
          ],
          [
           13.16,
           "Female",
           "Thur",
           "Lunch",
           2
          ],
          [
           17.47,
           "Female",
           "Thur",
           "Lunch",
           2
          ],
          [
           27.05,
           "Female",
           "Thur",
           "Lunch",
           6
          ],
          [
           16.43,
           "Female",
           "Thur",
           "Lunch",
           2
          ],
          [
           8.35,
           "Female",
           "Thur",
           "Lunch",
           2
          ],
          [
           18.64,
           "Female",
           "Thur",
           "Lunch",
           3
          ],
          [
           11.87,
           "Female",
           "Thur",
           "Lunch",
           2
          ],
          [
           29.85,
           "Female",
           "Sun",
           "Dinner",
           5
          ],
          [
           25,
           "Female",
           "Sun",
           "Dinner",
           4
          ],
          [
           13.39,
           "Female",
           "Sun",
           "Dinner",
           2
          ],
          [
           16.21,
           "Female",
           "Sun",
           "Dinner",
           3
          ],
          [
           17.51,
           "Female",
           "Sun",
           "Dinner",
           2
          ],
          [
           10.59,
           "Female",
           "Sat",
           "Dinner",
           2
          ],
          [
           10.63,
           "Female",
           "Sat",
           "Dinner",
           2
          ],
          [
           9.6,
           "Female",
           "Sun",
           "Dinner",
           2
          ],
          [
           20.9,
           "Female",
           "Sun",
           "Dinner",
           3
          ],
          [
           18.15,
           "Female",
           "Sun",
           "Dinner",
           3
          ],
          [
           19.81,
           "Female",
           "Thur",
           "Lunch",
           2
          ],
          [
           43.11,
           "Female",
           "Thur",
           "Lunch",
           4
          ],
          [
           13,
           "Female",
           "Thur",
           "Lunch",
           2
          ],
          [
           12.74,
           "Female",
           "Thur",
           "Lunch",
           2
          ],
          [
           13,
           "Female",
           "Thur",
           "Lunch",
           2
          ],
          [
           16.4,
           "Female",
           "Thur",
           "Lunch",
           2
          ],
          [
           16.47,
           "Female",
           "Thur",
           "Lunch",
           3
          ],
          [
           12.76,
           "Female",
           "Sat",
           "Dinner",
           2
          ],
          [
           13.27,
           "Female",
           "Sat",
           "Dinner",
           2
          ],
          [
           28.17,
           "Female",
           "Sat",
           "Dinner",
           3
          ],
          [
           12.9,
           "Female",
           "Sat",
           "Dinner",
           2
          ],
          [
           30.14,
           "Female",
           "Sat",
           "Dinner",
           4
          ],
          [
           13.42,
           "Female",
           "Fri",
           "Lunch",
           2
          ],
          [
           15.98,
           "Female",
           "Fri",
           "Lunch",
           3
          ],
          [
           16.27,
           "Female",
           "Fri",
           "Lunch",
           2
          ],
          [
           10.09,
           "Female",
           "Fri",
           "Lunch",
           2
          ],
          [
           22.12,
           "Female",
           "Sat",
           "Dinner",
           2
          ],
          [
           35.83,
           "Female",
           "Sat",
           "Dinner",
           3
          ],
          [
           27.18,
           "Female",
           "Sat",
           "Dinner",
           2
          ],
          [
           18.78,
           "Female",
           "Thur",
           "Dinner",
           2
          ]
         ],
         "hovertemplate": "sex=%{customdata[1]}<br>smoker=%{x}<br>tip=%{y}<br>total_bill=%{customdata[0]}<br>day=%{customdata[2]}<br>time=%{customdata[3]}<br>size=%{customdata[4]}<extra></extra>",
         "legendgroup": "Female",
         "marker": {
          "color": "#636efa"
         },
         "name": "Female",
         "offsetgroup": "Female",
         "orientation": "v",
         "points": "all",
         "scalegroup": "True",
         "showlegend": true,
         "type": "violin",
         "x": [
          "No",
          "No",
          "No",
          "No",
          "No",
          "No",
          "No",
          "No",
          "No",
          "No",
          "No",
          "No",
          "No",
          "No",
          "No",
          "No",
          "Yes",
          "No",
          "Yes",
          "Yes",
          "No",
          "No",
          "No",
          "Yes",
          "Yes",
          "No",
          "Yes",
          "Yes",
          "Yes",
          "Yes",
          "No",
          "Yes",
          "No",
          "No",
          "No",
          "No",
          "No",
          "No",
          "No",
          "No",
          "No",
          "No",
          "No",
          "No",
          "No",
          "No",
          "No",
          "No",
          "No",
          "No",
          "No",
          "No",
          "No",
          "No",
          "No",
          "No",
          "No",
          "No",
          "No",
          "No",
          "No",
          "Yes",
          "Yes",
          "Yes",
          "Yes",
          "Yes",
          "Yes",
          "Yes",
          "Yes",
          "Yes",
          "Yes",
          "Yes",
          "Yes",
          "Yes",
          "Yes",
          "Yes",
          "Yes",
          "Yes",
          "Yes",
          "Yes",
          "No",
          "Yes",
          "Yes",
          "Yes",
          "No",
          "Yes",
          "No"
         ],
         "x0": " ",
         "xaxis": "x",
         "y": [
          1.01,
          3.61,
          5,
          3.02,
          1.67,
          3.5,
          2.75,
          2.23,
          3,
          3,
          2.45,
          3.07,
          2.6,
          5.2,
          1.5,
          2.47,
          1,
          3,
          3.14,
          5,
          2.2,
          1.83,
          5.17,
          1,
          4.3,
          3.25,
          2.5,
          3,
          2.5,
          3.48,
          4.08,
          4,
          1,
          4,
          3.5,
          1.5,
          1.8,
          2.92,
          1.68,
          2.52,
          4.2,
          2,
          2,
          2.83,
          1.5,
          2,
          3.25,
          1.25,
          2,
          2,
          2.75,
          3.5,
          5,
          2.3,
          1.5,
          1.36,
          1.63,
          5.14,
          3.75,
          2.61,
          2,
          3,
          1.61,
          2,
          4,
          3.5,
          3.5,
          4.19,
          5,
          2,
          2.01,
          2,
          2.5,
          3.23,
          2.23,
          2.5,
          6.5,
          1.1,
          3.09,
          3.48,
          3,
          2.5,
          2,
          2.88,
          4.67,
          2,
          3
         ],
         "y0": " ",
         "yaxis": "y"
        },
        {
         "alignmentgroup": "True",
         "box": {
          "visible": false
         },
         "customdata": [
          [
           10.34,
           "Male",
           "Sun",
           "Dinner",
           3
          ],
          [
           21.01,
           "Male",
           "Sun",
           "Dinner",
           3
          ],
          [
           23.68,
           "Male",
           "Sun",
           "Dinner",
           2
          ],
          [
           25.29,
           "Male",
           "Sun",
           "Dinner",
           4
          ],
          [
           8.77,
           "Male",
           "Sun",
           "Dinner",
           2
          ],
          [
           26.88,
           "Male",
           "Sun",
           "Dinner",
           4
          ],
          [
           15.04,
           "Male",
           "Sun",
           "Dinner",
           2
          ],
          [
           14.78,
           "Male",
           "Sun",
           "Dinner",
           2
          ],
          [
           10.27,
           "Male",
           "Sun",
           "Dinner",
           2
          ],
          [
           15.42,
           "Male",
           "Sun",
           "Dinner",
           2
          ],
          [
           18.43,
           "Male",
           "Sun",
           "Dinner",
           4
          ],
          [
           21.58,
           "Male",
           "Sun",
           "Dinner",
           2
          ],
          [
           16.29,
           "Male",
           "Sun",
           "Dinner",
           3
          ],
          [
           20.65,
           "Male",
           "Sat",
           "Dinner",
           3
          ],
          [
           17.92,
           "Male",
           "Sat",
           "Dinner",
           2
          ],
          [
           39.42,
           "Male",
           "Sat",
           "Dinner",
           4
          ],
          [
           19.82,
           "Male",
           "Sat",
           "Dinner",
           2
          ],
          [
           17.81,
           "Male",
           "Sat",
           "Dinner",
           4
          ],
          [
           13.37,
           "Male",
           "Sat",
           "Dinner",
           2
          ],
          [
           12.69,
           "Male",
           "Sat",
           "Dinner",
           2
          ],
          [
           21.7,
           "Male",
           "Sat",
           "Dinner",
           2
          ],
          [
           9.55,
           "Male",
           "Sat",
           "Dinner",
           2
          ],
          [
           18.35,
           "Male",
           "Sat",
           "Dinner",
           4
          ],
          [
           17.78,
           "Male",
           "Sat",
           "Dinner",
           2
          ],
          [
           24.06,
           "Male",
           "Sat",
           "Dinner",
           3
          ],
          [
           16.31,
           "Male",
           "Sat",
           "Dinner",
           3
          ],
          [
           18.69,
           "Male",
           "Sat",
           "Dinner",
           3
          ],
          [
           31.27,
           "Male",
           "Sat",
           "Dinner",
           3
          ],
          [
           16.04,
           "Male",
           "Sat",
           "Dinner",
           3
          ],
          [
           17.46,
           "Male",
           "Sun",
           "Dinner",
           2
          ],
          [
           13.94,
           "Male",
           "Sun",
           "Dinner",
           2
          ],
          [
           9.68,
           "Male",
           "Sun",
           "Dinner",
           2
          ],
          [
           30.4,
           "Male",
           "Sun",
           "Dinner",
           4
          ],
          [
           18.29,
           "Male",
           "Sun",
           "Dinner",
           2
          ],
          [
           22.23,
           "Male",
           "Sun",
           "Dinner",
           2
          ],
          [
           32.4,
           "Male",
           "Sun",
           "Dinner",
           4
          ],
          [
           28.55,
           "Male",
           "Sun",
           "Dinner",
           3
          ],
          [
           18.04,
           "Male",
           "Sun",
           "Dinner",
           2
          ],
          [
           12.54,
           "Male",
           "Sun",
           "Dinner",
           2
          ],
          [
           9.94,
           "Male",
           "Sun",
           "Dinner",
           2
          ],
          [
           25.56,
           "Male",
           "Sun",
           "Dinner",
           4
          ],
          [
           19.49,
           "Male",
           "Sun",
           "Dinner",
           2
          ],
          [
           38.01,
           "Male",
           "Sat",
           "Dinner",
           4
          ],
          [
           11.24,
           "Male",
           "Sat",
           "Dinner",
           2
          ],
          [
           48.27,
           "Male",
           "Sat",
           "Dinner",
           4
          ],
          [
           20.29,
           "Male",
           "Sat",
           "Dinner",
           2
          ],
          [
           13.81,
           "Male",
           "Sat",
           "Dinner",
           2
          ],
          [
           11.02,
           "Male",
           "Sat",
           "Dinner",
           2
          ],
          [
           18.29,
           "Male",
           "Sat",
           "Dinner",
           4
          ],
          [
           17.59,
           "Male",
           "Sat",
           "Dinner",
           3
          ],
          [
           20.08,
           "Male",
           "Sat",
           "Dinner",
           3
          ],
          [
           20.23,
           "Male",
           "Sat",
           "Dinner",
           2
          ],
          [
           15.01,
           "Male",
           "Sat",
           "Dinner",
           2
          ],
          [
           12.02,
           "Male",
           "Sat",
           "Dinner",
           2
          ],
          [
           10.51,
           "Male",
           "Sat",
           "Dinner",
           2
          ],
          [
           17.92,
           "Male",
           "Sat",
           "Dinner",
           2
          ],
          [
           27.2,
           "Male",
           "Thur",
           "Lunch",
           4
          ],
          [
           22.76,
           "Male",
           "Thur",
           "Lunch",
           2
          ],
          [
           17.29,
           "Male",
           "Thur",
           "Lunch",
           2
          ],
          [
           19.44,
           "Male",
           "Thur",
           "Lunch",
           2
          ],
          [
           16.66,
           "Male",
           "Thur",
           "Lunch",
           2
          ],
          [
           32.68,
           "Male",
           "Thur",
           "Lunch",
           2
          ],
          [
           15.98,
           "Male",
           "Thur",
           "Lunch",
           2
          ],
          [
           13.03,
           "Male",
           "Thur",
           "Lunch",
           2
          ],
          [
           18.28,
           "Male",
           "Thur",
           "Lunch",
           2
          ],
          [
           24.71,
           "Male",
           "Thur",
           "Lunch",
           2
          ],
          [
           21.16,
           "Male",
           "Thur",
           "Lunch",
           2
          ],
          [
           28.97,
           "Male",
           "Fri",
           "Dinner",
           2
          ],
          [
           22.49,
           "Male",
           "Fri",
           "Dinner",
           2
          ],
          [
           40.17,
           "Male",
           "Fri",
           "Dinner",
           4
          ],
          [
           27.28,
           "Male",
           "Fri",
           "Dinner",
           2
          ],
          [
           12.03,
           "Male",
           "Fri",
           "Dinner",
           2
          ],
          [
           21.01,
           "Male",
           "Fri",
           "Dinner",
           2
          ],
          [
           12.46,
           "Male",
           "Fri",
           "Dinner",
           2
          ],
          [
           15.36,
           "Male",
           "Sat",
           "Dinner",
           2
          ],
          [
           20.49,
           "Male",
           "Sat",
           "Dinner",
           2
          ],
          [
           25.21,
           "Male",
           "Sat",
           "Dinner",
           2
          ],
          [
           18.24,
           "Male",
           "Sat",
           "Dinner",
           2
          ],
          [
           14,
           "Male",
           "Sat",
           "Dinner",
           2
          ],
          [
           38.07,
           "Male",
           "Sun",
           "Dinner",
           3
          ],
          [
           23.95,
           "Male",
           "Sun",
           "Dinner",
           2
          ],
          [
           29.93,
           "Male",
           "Sun",
           "Dinner",
           4
          ],
          [
           11.69,
           "Male",
           "Thur",
           "Lunch",
           2
          ],
          [
           14.26,
           "Male",
           "Thur",
           "Lunch",
           2
          ],
          [
           15.95,
           "Male",
           "Thur",
           "Lunch",
           2
          ],
          [
           8.52,
           "Male",
           "Thur",
           "Lunch",
           2
          ],
          [
           22.82,
           "Male",
           "Thur",
           "Lunch",
           3
          ],
          [
           19.08,
           "Male",
           "Thur",
           "Lunch",
           2
          ],
          [
           16,
           "Male",
           "Thur",
           "Lunch",
           2
          ],
          [
           34.3,
           "Male",
           "Thur",
           "Lunch",
           6
          ],
          [
           41.19,
           "Male",
           "Thur",
           "Lunch",
           5
          ],
          [
           9.78,
           "Male",
           "Thur",
           "Lunch",
           2
          ],
          [
           7.51,
           "Male",
           "Thur",
           "Lunch",
           2
          ],
          [
           14.07,
           "Male",
           "Sun",
           "Dinner",
           2
          ],
          [
           13.13,
           "Male",
           "Sun",
           "Dinner",
           2
          ],
          [
           17.26,
           "Male",
           "Sun",
           "Dinner",
           3
          ],
          [
           24.55,
           "Male",
           "Sun",
           "Dinner",
           4
          ],
          [
           19.77,
           "Male",
           "Sun",
           "Dinner",
           4
          ],
          [
           48.17,
           "Male",
           "Sun",
           "Dinner",
           6
          ],
          [
           16.49,
           "Male",
           "Sun",
           "Dinner",
           4
          ],
          [
           21.5,
           "Male",
           "Sun",
           "Dinner",
           4
          ],
          [
           12.66,
           "Male",
           "Sun",
           "Dinner",
           2
          ],
          [
           13.81,
           "Male",
           "Sun",
           "Dinner",
           2
          ],
          [
           24.52,
           "Male",
           "Sun",
           "Dinner",
           3
          ],
          [
           20.76,
           "Male",
           "Sun",
           "Dinner",
           2
          ],
          [
           31.71,
           "Male",
           "Sun",
           "Dinner",
           4
          ],
          [
           50.81,
           "Male",
           "Sat",
           "Dinner",
           3
          ],
          [
           15.81,
           "Male",
           "Sat",
           "Dinner",
           2
          ],
          [
           7.25,
           "Male",
           "Sun",
           "Dinner",
           2
          ],
          [
           31.85,
           "Male",
           "Sun",
           "Dinner",
           2
          ],
          [
           16.82,
           "Male",
           "Sun",
           "Dinner",
           2
          ],
          [
           32.9,
           "Male",
           "Sun",
           "Dinner",
           2
          ],
          [
           17.89,
           "Male",
           "Sun",
           "Dinner",
           2
          ],
          [
           14.48,
           "Male",
           "Sun",
           "Dinner",
           2
          ],
          [
           34.63,
           "Male",
           "Sun",
           "Dinner",
           2
          ],
          [
           34.65,
           "Male",
           "Sun",
           "Dinner",
           4
          ],
          [
           23.33,
           "Male",
           "Sun",
           "Dinner",
           2
          ],
          [
           45.35,
           "Male",
           "Sun",
           "Dinner",
           3
          ],
          [
           23.17,
           "Male",
           "Sun",
           "Dinner",
           4
          ],
          [
           40.55,
           "Male",
           "Sun",
           "Dinner",
           2
          ],
          [
           20.69,
           "Male",
           "Sun",
           "Dinner",
           5
          ],
          [
           30.46,
           "Male",
           "Sun",
           "Dinner",
           5
          ],
          [
           23.1,
           "Male",
           "Sun",
           "Dinner",
           3
          ],
          [
           15.69,
           "Male",
           "Sun",
           "Dinner",
           2
          ],
          [
           28.44,
           "Male",
           "Thur",
           "Lunch",
           2
          ],
          [
           15.48,
           "Male",
           "Thur",
           "Lunch",
           2
          ],
          [
           16.58,
           "Male",
           "Thur",
           "Lunch",
           2
          ],
          [
           7.56,
           "Male",
           "Thur",
           "Lunch",
           2
          ],
          [
           10.34,
           "Male",
           "Thur",
           "Lunch",
           2
          ],
          [
           13.51,
           "Male",
           "Thur",
           "Lunch",
           2
          ],
          [
           18.71,
           "Male",
           "Thur",
           "Lunch",
           3
          ],
          [
           20.53,
           "Male",
           "Thur",
           "Lunch",
           4
          ],
          [
           26.59,
           "Male",
           "Sat",
           "Dinner",
           3
          ],
          [
           38.73,
           "Male",
           "Sat",
           "Dinner",
           4
          ],
          [
           24.27,
           "Male",
           "Sat",
           "Dinner",
           2
          ],
          [
           30.06,
           "Male",
           "Sat",
           "Dinner",
           3
          ],
          [
           25.89,
           "Male",
           "Sat",
           "Dinner",
           4
          ],
          [
           48.33,
           "Male",
           "Sat",
           "Dinner",
           4
          ],
          [
           28.15,
           "Male",
           "Sat",
           "Dinner",
           5
          ],
          [
           11.59,
           "Male",
           "Sat",
           "Dinner",
           2
          ],
          [
           7.74,
           "Male",
           "Sat",
           "Dinner",
           2
          ],
          [
           12.16,
           "Male",
           "Fri",
           "Lunch",
           2
          ],
          [
           8.58,
           "Male",
           "Fri",
           "Lunch",
           1
          ],
          [
           13.42,
           "Male",
           "Fri",
           "Lunch",
           2
          ],
          [
           20.45,
           "Male",
           "Sat",
           "Dinner",
           4
          ],
          [
           13.28,
           "Male",
           "Sat",
           "Dinner",
           2
          ],
          [
           24.01,
           "Male",
           "Sat",
           "Dinner",
           4
          ],
          [
           15.69,
           "Male",
           "Sat",
           "Dinner",
           3
          ],
          [
           11.61,
           "Male",
           "Sat",
           "Dinner",
           2
          ],
          [
           10.77,
           "Male",
           "Sat",
           "Dinner",
           2
          ],
          [
           15.53,
           "Male",
           "Sat",
           "Dinner",
           2
          ],
          [
           10.07,
           "Male",
           "Sat",
           "Dinner",
           2
          ],
          [
           12.6,
           "Male",
           "Sat",
           "Dinner",
           2
          ],
          [
           32.83,
           "Male",
           "Sat",
           "Dinner",
           2
          ],
          [
           29.03,
           "Male",
           "Sat",
           "Dinner",
           3
          ],
          [
           22.67,
           "Male",
           "Sat",
           "Dinner",
           2
          ],
          [
           17.82,
           "Male",
           "Sat",
           "Dinner",
           2
          ]
         ],
         "hovertemplate": "sex=%{customdata[1]}<br>smoker=%{x}<br>tip=%{y}<br>total_bill=%{customdata[0]}<br>day=%{customdata[2]}<br>time=%{customdata[3]}<br>size=%{customdata[4]}<extra></extra>",
         "legendgroup": "Male",
         "marker": {
          "color": "#EF553B"
         },
         "name": "Male",
         "offsetgroup": "Male",
         "orientation": "v",
         "points": "all",
         "scalegroup": "True",
         "showlegend": true,
         "type": "violin",
         "x": [
          "No",
          "No",
          "No",
          "No",
          "No",
          "No",
          "No",
          "No",
          "No",
          "No",
          "No",
          "No",
          "No",
          "No",
          "No",
          "No",
          "No",
          "No",
          "No",
          "No",
          "No",
          "No",
          "No",
          "No",
          "No",
          "No",
          "No",
          "No",
          "No",
          "No",
          "No",
          "No",
          "No",
          "No",
          "No",
          "No",
          "No",
          "No",
          "No",
          "No",
          "No",
          "No",
          "Yes",
          "Yes",
          "No",
          "Yes",
          "Yes",
          "Yes",
          "Yes",
          "No",
          "No",
          "No",
          "Yes",
          "No",
          "No",
          "Yes",
          "No",
          "No",
          "No",
          "Yes",
          "No",
          "Yes",
          "No",
          "No",
          "No",
          "No",
          "No",
          "Yes",
          "No",
          "Yes",
          "Yes",
          "Yes",
          "Yes",
          "No",
          "Yes",
          "Yes",
          "Yes",
          "No",
          "No",
          "No",
          "No",
          "No",
          "No",
          "No",
          "No",
          "No",
          "No",
          "No",
          "Yes",
          "No",
          "No",
          "No",
          "No",
          "No",
          "No",
          "No",
          "No",
          "No",
          "No",
          "No",
          "No",
          "No",
          "No",
          "No",
          "No",
          "No",
          "Yes",
          "Yes",
          "Yes",
          "Yes",
          "Yes",
          "Yes",
          "Yes",
          "Yes",
          "Yes",
          "Yes",
          "Yes",
          "Yes",
          "Yes",
          "Yes",
          "No",
          "Yes",
          "Yes",
          "Yes",
          "Yes",
          "Yes",
          "Yes",
          "No",
          "Yes",
          "Yes",
          "Yes",
          "Yes",
          "Yes",
          "Yes",
          "Yes",
          "Yes",
          "Yes",
          "No",
          "Yes",
          "Yes",
          "Yes",
          "Yes",
          "Yes",
          "Yes",
          "No",
          "No",
          "Yes",
          "Yes",
          "No",
          "No",
          "Yes",
          "No",
          "Yes",
          "Yes",
          "No",
          "Yes",
          "No"
         ],
         "x0": " ",
         "xaxis": "x",
         "y": [
          1.66,
          3.5,
          3.31,
          4.71,
          2,
          3.12,
          1.96,
          3.23,
          1.71,
          1.57,
          3,
          3.92,
          3.71,
          3.35,
          4.08,
          7.58,
          3.18,
          2.34,
          2,
          2,
          4.3,
          1.45,
          2.5,
          3.27,
          3.6,
          2,
          2.31,
          5,
          2.24,
          2.54,
          3.06,
          1.32,
          5.6,
          3,
          5,
          6,
          2.05,
          3,
          2.5,
          1.56,
          4.34,
          3.51,
          3,
          1.76,
          6.73,
          3.21,
          2,
          1.98,
          3.76,
          2.64,
          3.15,
          2.01,
          2.09,
          1.97,
          1.25,
          3.08,
          4,
          3,
          2.71,
          3,
          3.4,
          5,
          2.03,
          2,
          4,
          5.85,
          3,
          3,
          3.5,
          4.73,
          4,
          1.5,
          3,
          1.5,
          1.64,
          4.06,
          4.29,
          3.76,
          3,
          4,
          2.55,
          5.07,
          2.31,
          2.5,
          2,
          1.48,
          2.18,
          1.5,
          2,
          6.7,
          5,
          1.73,
          2,
          2.5,
          2,
          2.74,
          2,
          2,
          5,
          2,
          3.5,
          2.5,
          2,
          3.48,
          2.24,
          4.5,
          10,
          3.16,
          5.15,
          3.18,
          4,
          3.11,
          2,
          2,
          3.55,
          3.68,
          5.65,
          3.5,
          6.5,
          3,
          5,
          2,
          4,
          1.5,
          2.56,
          2.02,
          4,
          1.44,
          2,
          2,
          4,
          4,
          3.41,
          3,
          2.03,
          2,
          5.16,
          9,
          3,
          1.5,
          1.44,
          2.2,
          1.92,
          1.58,
          3,
          2.72,
          2,
          3,
          3.39,
          1.47,
          3,
          1.25,
          1,
          1.17,
          5.92,
          2,
          1.75
         ],
         "y0": " ",
         "yaxis": "y"
        }
       ],
       "layout": {
        "legend": {
         "title": {
          "text": "sex"
         },
         "tracegroupgap": 0
        },
        "margin": {
         "t": 60
        },
        "template": {
         "data": {
          "bar": [
           {
            "error_x": {
             "color": "#2a3f5f"
            },
            "error_y": {
             "color": "#2a3f5f"
            },
            "marker": {
             "line": {
              "color": "#E5ECF6",
              "width": 0.5
             },
             "pattern": {
              "fillmode": "overlay",
              "size": 10,
              "solidity": 0.2
             }
            },
            "type": "bar"
           }
          ],
          "barpolar": [
           {
            "marker": {
             "line": {
              "color": "#E5ECF6",
              "width": 0.5
             },
             "pattern": {
              "fillmode": "overlay",
              "size": 10,
              "solidity": 0.2
             }
            },
            "type": "barpolar"
           }
          ],
          "carpet": [
           {
            "aaxis": {
             "endlinecolor": "#2a3f5f",
             "gridcolor": "white",
             "linecolor": "white",
             "minorgridcolor": "white",
             "startlinecolor": "#2a3f5f"
            },
            "baxis": {
             "endlinecolor": "#2a3f5f",
             "gridcolor": "white",
             "linecolor": "white",
             "minorgridcolor": "white",
             "startlinecolor": "#2a3f5f"
            },
            "type": "carpet"
           }
          ],
          "choropleth": [
           {
            "colorbar": {
             "outlinewidth": 0,
             "ticks": ""
            },
            "type": "choropleth"
           }
          ],
          "contour": [
           {
            "colorbar": {
             "outlinewidth": 0,
             "ticks": ""
            },
            "colorscale": [
             [
              0,
              "#0d0887"
             ],
             [
              0.1111111111111111,
              "#46039f"
             ],
             [
              0.2222222222222222,
              "#7201a8"
             ],
             [
              0.3333333333333333,
              "#9c179e"
             ],
             [
              0.4444444444444444,
              "#bd3786"
             ],
             [
              0.5555555555555556,
              "#d8576b"
             ],
             [
              0.6666666666666666,
              "#ed7953"
             ],
             [
              0.7777777777777778,
              "#fb9f3a"
             ],
             [
              0.8888888888888888,
              "#fdca26"
             ],
             [
              1,
              "#f0f921"
             ]
            ],
            "type": "contour"
           }
          ],
          "contourcarpet": [
           {
            "colorbar": {
             "outlinewidth": 0,
             "ticks": ""
            },
            "type": "contourcarpet"
           }
          ],
          "heatmap": [
           {
            "colorbar": {
             "outlinewidth": 0,
             "ticks": ""
            },
            "colorscale": [
             [
              0,
              "#0d0887"
             ],
             [
              0.1111111111111111,
              "#46039f"
             ],
             [
              0.2222222222222222,
              "#7201a8"
             ],
             [
              0.3333333333333333,
              "#9c179e"
             ],
             [
              0.4444444444444444,
              "#bd3786"
             ],
             [
              0.5555555555555556,
              "#d8576b"
             ],
             [
              0.6666666666666666,
              "#ed7953"
             ],
             [
              0.7777777777777778,
              "#fb9f3a"
             ],
             [
              0.8888888888888888,
              "#fdca26"
             ],
             [
              1,
              "#f0f921"
             ]
            ],
            "type": "heatmap"
           }
          ],
          "heatmapgl": [
           {
            "colorbar": {
             "outlinewidth": 0,
             "ticks": ""
            },
            "colorscale": [
             [
              0,
              "#0d0887"
             ],
             [
              0.1111111111111111,
              "#46039f"
             ],
             [
              0.2222222222222222,
              "#7201a8"
             ],
             [
              0.3333333333333333,
              "#9c179e"
             ],
             [
              0.4444444444444444,
              "#bd3786"
             ],
             [
              0.5555555555555556,
              "#d8576b"
             ],
             [
              0.6666666666666666,
              "#ed7953"
             ],
             [
              0.7777777777777778,
              "#fb9f3a"
             ],
             [
              0.8888888888888888,
              "#fdca26"
             ],
             [
              1,
              "#f0f921"
             ]
            ],
            "type": "heatmapgl"
           }
          ],
          "histogram": [
           {
            "marker": {
             "pattern": {
              "fillmode": "overlay",
              "size": 10,
              "solidity": 0.2
             }
            },
            "type": "histogram"
           }
          ],
          "histogram2d": [
           {
            "colorbar": {
             "outlinewidth": 0,
             "ticks": ""
            },
            "colorscale": [
             [
              0,
              "#0d0887"
             ],
             [
              0.1111111111111111,
              "#46039f"
             ],
             [
              0.2222222222222222,
              "#7201a8"
             ],
             [
              0.3333333333333333,
              "#9c179e"
             ],
             [
              0.4444444444444444,
              "#bd3786"
             ],
             [
              0.5555555555555556,
              "#d8576b"
             ],
             [
              0.6666666666666666,
              "#ed7953"
             ],
             [
              0.7777777777777778,
              "#fb9f3a"
             ],
             [
              0.8888888888888888,
              "#fdca26"
             ],
             [
              1,
              "#f0f921"
             ]
            ],
            "type": "histogram2d"
           }
          ],
          "histogram2dcontour": [
           {
            "colorbar": {
             "outlinewidth": 0,
             "ticks": ""
            },
            "colorscale": [
             [
              0,
              "#0d0887"
             ],
             [
              0.1111111111111111,
              "#46039f"
             ],
             [
              0.2222222222222222,
              "#7201a8"
             ],
             [
              0.3333333333333333,
              "#9c179e"
             ],
             [
              0.4444444444444444,
              "#bd3786"
             ],
             [
              0.5555555555555556,
              "#d8576b"
             ],
             [
              0.6666666666666666,
              "#ed7953"
             ],
             [
              0.7777777777777778,
              "#fb9f3a"
             ],
             [
              0.8888888888888888,
              "#fdca26"
             ],
             [
              1,
              "#f0f921"
             ]
            ],
            "type": "histogram2dcontour"
           }
          ],
          "mesh3d": [
           {
            "colorbar": {
             "outlinewidth": 0,
             "ticks": ""
            },
            "type": "mesh3d"
           }
          ],
          "parcoords": [
           {
            "line": {
             "colorbar": {
              "outlinewidth": 0,
              "ticks": ""
             }
            },
            "type": "parcoords"
           }
          ],
          "pie": [
           {
            "automargin": true,
            "type": "pie"
           }
          ],
          "scatter": [
           {
            "fillpattern": {
             "fillmode": "overlay",
             "size": 10,
             "solidity": 0.2
            },
            "type": "scatter"
           }
          ],
          "scatter3d": [
           {
            "line": {
             "colorbar": {
              "outlinewidth": 0,
              "ticks": ""
             }
            },
            "marker": {
             "colorbar": {
              "outlinewidth": 0,
              "ticks": ""
             }
            },
            "type": "scatter3d"
           }
          ],
          "scattercarpet": [
           {
            "marker": {
             "colorbar": {
              "outlinewidth": 0,
              "ticks": ""
             }
            },
            "type": "scattercarpet"
           }
          ],
          "scattergeo": [
           {
            "marker": {
             "colorbar": {
              "outlinewidth": 0,
              "ticks": ""
             }
            },
            "type": "scattergeo"
           }
          ],
          "scattergl": [
           {
            "marker": {
             "colorbar": {
              "outlinewidth": 0,
              "ticks": ""
             }
            },
            "type": "scattergl"
           }
          ],
          "scattermapbox": [
           {
            "marker": {
             "colorbar": {
              "outlinewidth": 0,
              "ticks": ""
             }
            },
            "type": "scattermapbox"
           }
          ],
          "scatterpolar": [
           {
            "marker": {
             "colorbar": {
              "outlinewidth": 0,
              "ticks": ""
             }
            },
            "type": "scatterpolar"
           }
          ],
          "scatterpolargl": [
           {
            "marker": {
             "colorbar": {
              "outlinewidth": 0,
              "ticks": ""
             }
            },
            "type": "scatterpolargl"
           }
          ],
          "scatterternary": [
           {
            "marker": {
             "colorbar": {
              "outlinewidth": 0,
              "ticks": ""
             }
            },
            "type": "scatterternary"
           }
          ],
          "surface": [
           {
            "colorbar": {
             "outlinewidth": 0,
             "ticks": ""
            },
            "colorscale": [
             [
              0,
              "#0d0887"
             ],
             [
              0.1111111111111111,
              "#46039f"
             ],
             [
              0.2222222222222222,
              "#7201a8"
             ],
             [
              0.3333333333333333,
              "#9c179e"
             ],
             [
              0.4444444444444444,
              "#bd3786"
             ],
             [
              0.5555555555555556,
              "#d8576b"
             ],
             [
              0.6666666666666666,
              "#ed7953"
             ],
             [
              0.7777777777777778,
              "#fb9f3a"
             ],
             [
              0.8888888888888888,
              "#fdca26"
             ],
             [
              1,
              "#f0f921"
             ]
            ],
            "type": "surface"
           }
          ],
          "table": [
           {
            "cells": {
             "fill": {
              "color": "#EBF0F8"
             },
             "line": {
              "color": "white"
             }
            },
            "header": {
             "fill": {
              "color": "#C8D4E3"
             },
             "line": {
              "color": "white"
             }
            },
            "type": "table"
           }
          ]
         },
         "layout": {
          "annotationdefaults": {
           "arrowcolor": "#2a3f5f",
           "arrowhead": 0,
           "arrowwidth": 1
          },
          "autotypenumbers": "strict",
          "coloraxis": {
           "colorbar": {
            "outlinewidth": 0,
            "ticks": ""
           }
          },
          "colorscale": {
           "diverging": [
            [
             0,
             "#8e0152"
            ],
            [
             0.1,
             "#c51b7d"
            ],
            [
             0.2,
             "#de77ae"
            ],
            [
             0.3,
             "#f1b6da"
            ],
            [
             0.4,
             "#fde0ef"
            ],
            [
             0.5,
             "#f7f7f7"
            ],
            [
             0.6,
             "#e6f5d0"
            ],
            [
             0.7,
             "#b8e186"
            ],
            [
             0.8,
             "#7fbc41"
            ],
            [
             0.9,
             "#4d9221"
            ],
            [
             1,
             "#276419"
            ]
           ],
           "sequential": [
            [
             0,
             "#0d0887"
            ],
            [
             0.1111111111111111,
             "#46039f"
            ],
            [
             0.2222222222222222,
             "#7201a8"
            ],
            [
             0.3333333333333333,
             "#9c179e"
            ],
            [
             0.4444444444444444,
             "#bd3786"
            ],
            [
             0.5555555555555556,
             "#d8576b"
            ],
            [
             0.6666666666666666,
             "#ed7953"
            ],
            [
             0.7777777777777778,
             "#fb9f3a"
            ],
            [
             0.8888888888888888,
             "#fdca26"
            ],
            [
             1,
             "#f0f921"
            ]
           ],
           "sequentialminus": [
            [
             0,
             "#0d0887"
            ],
            [
             0.1111111111111111,
             "#46039f"
            ],
            [
             0.2222222222222222,
             "#7201a8"
            ],
            [
             0.3333333333333333,
             "#9c179e"
            ],
            [
             0.4444444444444444,
             "#bd3786"
            ],
            [
             0.5555555555555556,
             "#d8576b"
            ],
            [
             0.6666666666666666,
             "#ed7953"
            ],
            [
             0.7777777777777778,
             "#fb9f3a"
            ],
            [
             0.8888888888888888,
             "#fdca26"
            ],
            [
             1,
             "#f0f921"
            ]
           ]
          },
          "colorway": [
           "#636efa",
           "#EF553B",
           "#00cc96",
           "#ab63fa",
           "#FFA15A",
           "#19d3f3",
           "#FF6692",
           "#B6E880",
           "#FF97FF",
           "#FECB52"
          ],
          "font": {
           "color": "#2a3f5f"
          },
          "geo": {
           "bgcolor": "white",
           "lakecolor": "white",
           "landcolor": "#E5ECF6",
           "showlakes": true,
           "showland": true,
           "subunitcolor": "white"
          },
          "hoverlabel": {
           "align": "left"
          },
          "hovermode": "closest",
          "mapbox": {
           "style": "light"
          },
          "paper_bgcolor": "white",
          "plot_bgcolor": "#E5ECF6",
          "polar": {
           "angularaxis": {
            "gridcolor": "white",
            "linecolor": "white",
            "ticks": ""
           },
           "bgcolor": "#E5ECF6",
           "radialaxis": {
            "gridcolor": "white",
            "linecolor": "white",
            "ticks": ""
           }
          },
          "scene": {
           "xaxis": {
            "backgroundcolor": "#E5ECF6",
            "gridcolor": "white",
            "gridwidth": 2,
            "linecolor": "white",
            "showbackground": true,
            "ticks": "",
            "zerolinecolor": "white"
           },
           "yaxis": {
            "backgroundcolor": "#E5ECF6",
            "gridcolor": "white",
            "gridwidth": 2,
            "linecolor": "white",
            "showbackground": true,
            "ticks": "",
            "zerolinecolor": "white"
           },
           "zaxis": {
            "backgroundcolor": "#E5ECF6",
            "gridcolor": "white",
            "gridwidth": 2,
            "linecolor": "white",
            "showbackground": true,
            "ticks": "",
            "zerolinecolor": "white"
           }
          },
          "shapedefaults": {
           "line": {
            "color": "#2a3f5f"
           }
          },
          "ternary": {
           "aaxis": {
            "gridcolor": "white",
            "linecolor": "white",
            "ticks": ""
           },
           "baxis": {
            "gridcolor": "white",
            "linecolor": "white",
            "ticks": ""
           },
           "bgcolor": "#E5ECF6",
           "caxis": {
            "gridcolor": "white",
            "linecolor": "white",
            "ticks": ""
           }
          },
          "title": {
           "x": 0.05
          },
          "xaxis": {
           "automargin": true,
           "gridcolor": "white",
           "linecolor": "white",
           "ticks": "",
           "title": {
            "standoff": 15
           },
           "zerolinecolor": "white",
           "zerolinewidth": 2
          },
          "yaxis": {
           "automargin": true,
           "gridcolor": "white",
           "linecolor": "white",
           "ticks": "",
           "title": {
            "standoff": 15
           },
           "zerolinecolor": "white",
           "zerolinewidth": 2
          }
         }
        },
        "violinmode": "overlay",
        "xaxis": {
         "anchor": "y",
         "domain": [
          0,
          1
         ],
         "title": {
          "text": "smoker"
         }
        },
        "yaxis": {
         "anchor": "x",
         "domain": [
          0,
          1
         ],
         "title": {
          "text": "tip"
         }
        }
       }
      }
     },
     "metadata": {},
     "output_type": "display_data"
    }
   ],
   "source": [
    "fig = px.violin(\n",
    "    data_frame=tips,\n",
    "    x=\"smoker\",\n",
    "    y=\"tip\",\n",
    "    points=\"all\",\n",
    "    color=\"sex\",\n",
    "    hover_data=tips.columns,\n",
    "    violinmode=\"overlay\",  # ['group', 'overlay']\n",
    ")\n",
    "fig.show()\n",
    "# 重叠显示"
   ]
  },
  {
   "cell_type": "markdown",
   "metadata": {},
   "source": [
    "# go.Violin"
   ]
  },
  {
   "cell_type": "markdown",
   "metadata": {},
   "source": [
    "## Basic"
   ]
  },
  {
   "cell_type": "code",
   "execution_count": 23,
   "metadata": {},
   "outputs": [
    {
     "data": {
      "text/html": [
       "<div>\n",
       "<style scoped>\n",
       "    .dataframe tbody tr th:only-of-type {\n",
       "        vertical-align: middle;\n",
       "    }\n",
       "\n",
       "    .dataframe tbody tr th {\n",
       "        vertical-align: top;\n",
       "    }\n",
       "\n",
       "    .dataframe thead th {\n",
       "        text-align: right;\n",
       "    }\n",
       "</style>\n",
       "<table border=\"1\" class=\"dataframe\">\n",
       "  <thead>\n",
       "    <tr style=\"text-align: right;\">\n",
       "      <th></th>\n",
       "      <th>total_bill</th>\n",
       "      <th>tip</th>\n",
       "      <th>sex</th>\n",
       "      <th>smoker</th>\n",
       "      <th>day</th>\n",
       "      <th>time</th>\n",
       "      <th>size</th>\n",
       "    </tr>\n",
       "  </thead>\n",
       "  <tbody>\n",
       "    <tr>\n",
       "      <th>0</th>\n",
       "      <td>16.99</td>\n",
       "      <td>1.01</td>\n",
       "      <td>Female</td>\n",
       "      <td>No</td>\n",
       "      <td>Sun</td>\n",
       "      <td>Dinner</td>\n",
       "      <td>2</td>\n",
       "    </tr>\n",
       "    <tr>\n",
       "      <th>1</th>\n",
       "      <td>10.34</td>\n",
       "      <td>1.66</td>\n",
       "      <td>Male</td>\n",
       "      <td>No</td>\n",
       "      <td>Sun</td>\n",
       "      <td>Dinner</td>\n",
       "      <td>3</td>\n",
       "    </tr>\n",
       "    <tr>\n",
       "      <th>2</th>\n",
       "      <td>21.01</td>\n",
       "      <td>3.50</td>\n",
       "      <td>Male</td>\n",
       "      <td>No</td>\n",
       "      <td>Sun</td>\n",
       "      <td>Dinner</td>\n",
       "      <td>3</td>\n",
       "    </tr>\n",
       "    <tr>\n",
       "      <th>3</th>\n",
       "      <td>23.68</td>\n",
       "      <td>3.31</td>\n",
       "      <td>Male</td>\n",
       "      <td>No</td>\n",
       "      <td>Sun</td>\n",
       "      <td>Dinner</td>\n",
       "      <td>2</td>\n",
       "    </tr>\n",
       "    <tr>\n",
       "      <th>4</th>\n",
       "      <td>24.59</td>\n",
       "      <td>3.61</td>\n",
       "      <td>Female</td>\n",
       "      <td>No</td>\n",
       "      <td>Sun</td>\n",
       "      <td>Dinner</td>\n",
       "      <td>4</td>\n",
       "    </tr>\n",
       "  </tbody>\n",
       "</table>\n",
       "</div>"
      ],
      "text/plain": [
       "   total_bill   tip     sex smoker  day    time  size\n",
       "0       16.99  1.01  Female     No  Sun  Dinner     2\n",
       "1       10.34  1.66    Male     No  Sun  Dinner     3\n",
       "2       21.01  3.50    Male     No  Sun  Dinner     3\n",
       "3       23.68  3.31    Male     No  Sun  Dinner     2\n",
       "4       24.59  3.61  Female     No  Sun  Dinner     4"
      ]
     },
     "execution_count": 23,
     "metadata": {},
     "output_type": "execute_result"
    }
   ],
   "source": [
    "df = pd.read_csv(\n",
    "    \"https://raw.githubusercontent.com/plotly/datasets/master/violin_data.csv\"\n",
    ")\n",
    "df.head()"
   ]
  },
  {
   "cell_type": "code",
   "execution_count": 24,
   "metadata": {},
   "outputs": [
    {
     "data": {
      "application/vnd.plotly.v1+json": {
       "config": {
        "plotlyServerURL": "https://plot.ly"
       },
       "data": [
        {
         "box": {
          "visible": true
         },
         "fillcolor": "lightseagreen",
         "line": {
          "color": "black"
         },
         "meanline": {
          "visible": true
         },
         "opacity": 0.6,
         "type": "violin",
         "x0": "Total Bill",
         "y": [
          16.99,
          10.34,
          21.01,
          23.68,
          24.59,
          25.29,
          8.77,
          26.88,
          15.04,
          14.78,
          10.27,
          35.26,
          15.42,
          18.43,
          14.83,
          21.58,
          10.33,
          16.29,
          16.97,
          20.65,
          17.92,
          20.29,
          15.77,
          39.42,
          19.82,
          17.81,
          13.37,
          12.69,
          21.7,
          19.65,
          9.55,
          18.35,
          15.06,
          20.69,
          17.78,
          24.06,
          16.31,
          16.93,
          18.69,
          31.27,
          16.04,
          17.46,
          13.94,
          9.68,
          30.4,
          18.29,
          22.23,
          32.4,
          28.55,
          18.04,
          12.54,
          10.29,
          34.81,
          9.94,
          25.56,
          19.49,
          38.01,
          26.41,
          11.24,
          48.27,
          20.29,
          13.81,
          11.02,
          18.29,
          17.59,
          20.08,
          16.45,
          3.07,
          20.23,
          15.01,
          12.02,
          17.07,
          26.86,
          25.28,
          14.73,
          10.51,
          17.92,
          27.2,
          22.76,
          17.29,
          19.44,
          16.66,
          10.07,
          32.68,
          15.98,
          34.83,
          13.03,
          18.28,
          24.71,
          21.16,
          28.97,
          22.49,
          5.75,
          16.32,
          22.75,
          40.17,
          27.28,
          12.03,
          21.01,
          12.46,
          11.35,
          15.38,
          44.3,
          22.42,
          20.92,
          15.36,
          20.49,
          25.21,
          18.24,
          14.31,
          14,
          7.25,
          38.07,
          23.95,
          25.71,
          17.31,
          29.93,
          10.65,
          12.43,
          24.08,
          11.69,
          13.42,
          14.26,
          15.95,
          12.48,
          29.8,
          8.52,
          14.52,
          11.38,
          22.82,
          19.08,
          20.27,
          11.17,
          12.26,
          18.26,
          8.51,
          10.33,
          14.15,
          16,
          13.16,
          17.47,
          34.3,
          41.19,
          27.05,
          16.43,
          8.35,
          18.64,
          11.87,
          9.78,
          7.51,
          14.07,
          13.13,
          17.26,
          24.55,
          19.77,
          29.85,
          48.17,
          25,
          13.39,
          16.49,
          21.5,
          12.66,
          16.21,
          13.81,
          17.51,
          24.52,
          20.76,
          31.71,
          10.59,
          10.63,
          50.81,
          15.81,
          7.25,
          31.85,
          16.82,
          32.9,
          17.89,
          14.48,
          9.6,
          34.63,
          34.65,
          23.33,
          45.35,
          23.17,
          40.55,
          20.69,
          20.9,
          30.46,
          18.15,
          23.1,
          15.69,
          19.81,
          28.44,
          15.48,
          16.58,
          7.56,
          10.34,
          43.11,
          13,
          13.51,
          18.71,
          12.74,
          13,
          16.4,
          20.53,
          16.47,
          26.59,
          38.73,
          24.27,
          12.76,
          30.06,
          25.89,
          48.33,
          13.27,
          28.17,
          12.9,
          28.15,
          11.59,
          7.74,
          30.14,
          12.16,
          13.42,
          8.58,
          15.98,
          13.42,
          16.27,
          10.09,
          20.45,
          13.28,
          22.12,
          24.01,
          15.69,
          11.61,
          10.77,
          15.53,
          10.07,
          12.6,
          32.83,
          35.83,
          29.03,
          27.18,
          22.67,
          17.82,
          18.78
         ]
        }
       ],
       "layout": {
        "template": {
         "data": {
          "bar": [
           {
            "error_x": {
             "color": "#2a3f5f"
            },
            "error_y": {
             "color": "#2a3f5f"
            },
            "marker": {
             "line": {
              "color": "#E5ECF6",
              "width": 0.5
             },
             "pattern": {
              "fillmode": "overlay",
              "size": 10,
              "solidity": 0.2
             }
            },
            "type": "bar"
           }
          ],
          "barpolar": [
           {
            "marker": {
             "line": {
              "color": "#E5ECF6",
              "width": 0.5
             },
             "pattern": {
              "fillmode": "overlay",
              "size": 10,
              "solidity": 0.2
             }
            },
            "type": "barpolar"
           }
          ],
          "carpet": [
           {
            "aaxis": {
             "endlinecolor": "#2a3f5f",
             "gridcolor": "white",
             "linecolor": "white",
             "minorgridcolor": "white",
             "startlinecolor": "#2a3f5f"
            },
            "baxis": {
             "endlinecolor": "#2a3f5f",
             "gridcolor": "white",
             "linecolor": "white",
             "minorgridcolor": "white",
             "startlinecolor": "#2a3f5f"
            },
            "type": "carpet"
           }
          ],
          "choropleth": [
           {
            "colorbar": {
             "outlinewidth": 0,
             "ticks": ""
            },
            "type": "choropleth"
           }
          ],
          "contour": [
           {
            "colorbar": {
             "outlinewidth": 0,
             "ticks": ""
            },
            "colorscale": [
             [
              0,
              "#0d0887"
             ],
             [
              0.1111111111111111,
              "#46039f"
             ],
             [
              0.2222222222222222,
              "#7201a8"
             ],
             [
              0.3333333333333333,
              "#9c179e"
             ],
             [
              0.4444444444444444,
              "#bd3786"
             ],
             [
              0.5555555555555556,
              "#d8576b"
             ],
             [
              0.6666666666666666,
              "#ed7953"
             ],
             [
              0.7777777777777778,
              "#fb9f3a"
             ],
             [
              0.8888888888888888,
              "#fdca26"
             ],
             [
              1,
              "#f0f921"
             ]
            ],
            "type": "contour"
           }
          ],
          "contourcarpet": [
           {
            "colorbar": {
             "outlinewidth": 0,
             "ticks": ""
            },
            "type": "contourcarpet"
           }
          ],
          "heatmap": [
           {
            "colorbar": {
             "outlinewidth": 0,
             "ticks": ""
            },
            "colorscale": [
             [
              0,
              "#0d0887"
             ],
             [
              0.1111111111111111,
              "#46039f"
             ],
             [
              0.2222222222222222,
              "#7201a8"
             ],
             [
              0.3333333333333333,
              "#9c179e"
             ],
             [
              0.4444444444444444,
              "#bd3786"
             ],
             [
              0.5555555555555556,
              "#d8576b"
             ],
             [
              0.6666666666666666,
              "#ed7953"
             ],
             [
              0.7777777777777778,
              "#fb9f3a"
             ],
             [
              0.8888888888888888,
              "#fdca26"
             ],
             [
              1,
              "#f0f921"
             ]
            ],
            "type": "heatmap"
           }
          ],
          "heatmapgl": [
           {
            "colorbar": {
             "outlinewidth": 0,
             "ticks": ""
            },
            "colorscale": [
             [
              0,
              "#0d0887"
             ],
             [
              0.1111111111111111,
              "#46039f"
             ],
             [
              0.2222222222222222,
              "#7201a8"
             ],
             [
              0.3333333333333333,
              "#9c179e"
             ],
             [
              0.4444444444444444,
              "#bd3786"
             ],
             [
              0.5555555555555556,
              "#d8576b"
             ],
             [
              0.6666666666666666,
              "#ed7953"
             ],
             [
              0.7777777777777778,
              "#fb9f3a"
             ],
             [
              0.8888888888888888,
              "#fdca26"
             ],
             [
              1,
              "#f0f921"
             ]
            ],
            "type": "heatmapgl"
           }
          ],
          "histogram": [
           {
            "marker": {
             "pattern": {
              "fillmode": "overlay",
              "size": 10,
              "solidity": 0.2
             }
            },
            "type": "histogram"
           }
          ],
          "histogram2d": [
           {
            "colorbar": {
             "outlinewidth": 0,
             "ticks": ""
            },
            "colorscale": [
             [
              0,
              "#0d0887"
             ],
             [
              0.1111111111111111,
              "#46039f"
             ],
             [
              0.2222222222222222,
              "#7201a8"
             ],
             [
              0.3333333333333333,
              "#9c179e"
             ],
             [
              0.4444444444444444,
              "#bd3786"
             ],
             [
              0.5555555555555556,
              "#d8576b"
             ],
             [
              0.6666666666666666,
              "#ed7953"
             ],
             [
              0.7777777777777778,
              "#fb9f3a"
             ],
             [
              0.8888888888888888,
              "#fdca26"
             ],
             [
              1,
              "#f0f921"
             ]
            ],
            "type": "histogram2d"
           }
          ],
          "histogram2dcontour": [
           {
            "colorbar": {
             "outlinewidth": 0,
             "ticks": ""
            },
            "colorscale": [
             [
              0,
              "#0d0887"
             ],
             [
              0.1111111111111111,
              "#46039f"
             ],
             [
              0.2222222222222222,
              "#7201a8"
             ],
             [
              0.3333333333333333,
              "#9c179e"
             ],
             [
              0.4444444444444444,
              "#bd3786"
             ],
             [
              0.5555555555555556,
              "#d8576b"
             ],
             [
              0.6666666666666666,
              "#ed7953"
             ],
             [
              0.7777777777777778,
              "#fb9f3a"
             ],
             [
              0.8888888888888888,
              "#fdca26"
             ],
             [
              1,
              "#f0f921"
             ]
            ],
            "type": "histogram2dcontour"
           }
          ],
          "mesh3d": [
           {
            "colorbar": {
             "outlinewidth": 0,
             "ticks": ""
            },
            "type": "mesh3d"
           }
          ],
          "parcoords": [
           {
            "line": {
             "colorbar": {
              "outlinewidth": 0,
              "ticks": ""
             }
            },
            "type": "parcoords"
           }
          ],
          "pie": [
           {
            "automargin": true,
            "type": "pie"
           }
          ],
          "scatter": [
           {
            "fillpattern": {
             "fillmode": "overlay",
             "size": 10,
             "solidity": 0.2
            },
            "type": "scatter"
           }
          ],
          "scatter3d": [
           {
            "line": {
             "colorbar": {
              "outlinewidth": 0,
              "ticks": ""
             }
            },
            "marker": {
             "colorbar": {
              "outlinewidth": 0,
              "ticks": ""
             }
            },
            "type": "scatter3d"
           }
          ],
          "scattercarpet": [
           {
            "marker": {
             "colorbar": {
              "outlinewidth": 0,
              "ticks": ""
             }
            },
            "type": "scattercarpet"
           }
          ],
          "scattergeo": [
           {
            "marker": {
             "colorbar": {
              "outlinewidth": 0,
              "ticks": ""
             }
            },
            "type": "scattergeo"
           }
          ],
          "scattergl": [
           {
            "marker": {
             "colorbar": {
              "outlinewidth": 0,
              "ticks": ""
             }
            },
            "type": "scattergl"
           }
          ],
          "scattermapbox": [
           {
            "marker": {
             "colorbar": {
              "outlinewidth": 0,
              "ticks": ""
             }
            },
            "type": "scattermapbox"
           }
          ],
          "scatterpolar": [
           {
            "marker": {
             "colorbar": {
              "outlinewidth": 0,
              "ticks": ""
             }
            },
            "type": "scatterpolar"
           }
          ],
          "scatterpolargl": [
           {
            "marker": {
             "colorbar": {
              "outlinewidth": 0,
              "ticks": ""
             }
            },
            "type": "scatterpolargl"
           }
          ],
          "scatterternary": [
           {
            "marker": {
             "colorbar": {
              "outlinewidth": 0,
              "ticks": ""
             }
            },
            "type": "scatterternary"
           }
          ],
          "surface": [
           {
            "colorbar": {
             "outlinewidth": 0,
             "ticks": ""
            },
            "colorscale": [
             [
              0,
              "#0d0887"
             ],
             [
              0.1111111111111111,
              "#46039f"
             ],
             [
              0.2222222222222222,
              "#7201a8"
             ],
             [
              0.3333333333333333,
              "#9c179e"
             ],
             [
              0.4444444444444444,
              "#bd3786"
             ],
             [
              0.5555555555555556,
              "#d8576b"
             ],
             [
              0.6666666666666666,
              "#ed7953"
             ],
             [
              0.7777777777777778,
              "#fb9f3a"
             ],
             [
              0.8888888888888888,
              "#fdca26"
             ],
             [
              1,
              "#f0f921"
             ]
            ],
            "type": "surface"
           }
          ],
          "table": [
           {
            "cells": {
             "fill": {
              "color": "#EBF0F8"
             },
             "line": {
              "color": "white"
             }
            },
            "header": {
             "fill": {
              "color": "#C8D4E3"
             },
             "line": {
              "color": "white"
             }
            },
            "type": "table"
           }
          ]
         },
         "layout": {
          "annotationdefaults": {
           "arrowcolor": "#2a3f5f",
           "arrowhead": 0,
           "arrowwidth": 1
          },
          "autotypenumbers": "strict",
          "coloraxis": {
           "colorbar": {
            "outlinewidth": 0,
            "ticks": ""
           }
          },
          "colorscale": {
           "diverging": [
            [
             0,
             "#8e0152"
            ],
            [
             0.1,
             "#c51b7d"
            ],
            [
             0.2,
             "#de77ae"
            ],
            [
             0.3,
             "#f1b6da"
            ],
            [
             0.4,
             "#fde0ef"
            ],
            [
             0.5,
             "#f7f7f7"
            ],
            [
             0.6,
             "#e6f5d0"
            ],
            [
             0.7,
             "#b8e186"
            ],
            [
             0.8,
             "#7fbc41"
            ],
            [
             0.9,
             "#4d9221"
            ],
            [
             1,
             "#276419"
            ]
           ],
           "sequential": [
            [
             0,
             "#0d0887"
            ],
            [
             0.1111111111111111,
             "#46039f"
            ],
            [
             0.2222222222222222,
             "#7201a8"
            ],
            [
             0.3333333333333333,
             "#9c179e"
            ],
            [
             0.4444444444444444,
             "#bd3786"
            ],
            [
             0.5555555555555556,
             "#d8576b"
            ],
            [
             0.6666666666666666,
             "#ed7953"
            ],
            [
             0.7777777777777778,
             "#fb9f3a"
            ],
            [
             0.8888888888888888,
             "#fdca26"
            ],
            [
             1,
             "#f0f921"
            ]
           ],
           "sequentialminus": [
            [
             0,
             "#0d0887"
            ],
            [
             0.1111111111111111,
             "#46039f"
            ],
            [
             0.2222222222222222,
             "#7201a8"
            ],
            [
             0.3333333333333333,
             "#9c179e"
            ],
            [
             0.4444444444444444,
             "#bd3786"
            ],
            [
             0.5555555555555556,
             "#d8576b"
            ],
            [
             0.6666666666666666,
             "#ed7953"
            ],
            [
             0.7777777777777778,
             "#fb9f3a"
            ],
            [
             0.8888888888888888,
             "#fdca26"
            ],
            [
             1,
             "#f0f921"
            ]
           ]
          },
          "colorway": [
           "#636efa",
           "#EF553B",
           "#00cc96",
           "#ab63fa",
           "#FFA15A",
           "#19d3f3",
           "#FF6692",
           "#B6E880",
           "#FF97FF",
           "#FECB52"
          ],
          "font": {
           "color": "#2a3f5f"
          },
          "geo": {
           "bgcolor": "white",
           "lakecolor": "white",
           "landcolor": "#E5ECF6",
           "showlakes": true,
           "showland": true,
           "subunitcolor": "white"
          },
          "hoverlabel": {
           "align": "left"
          },
          "hovermode": "closest",
          "mapbox": {
           "style": "light"
          },
          "paper_bgcolor": "white",
          "plot_bgcolor": "#E5ECF6",
          "polar": {
           "angularaxis": {
            "gridcolor": "white",
            "linecolor": "white",
            "ticks": ""
           },
           "bgcolor": "#E5ECF6",
           "radialaxis": {
            "gridcolor": "white",
            "linecolor": "white",
            "ticks": ""
           }
          },
          "scene": {
           "xaxis": {
            "backgroundcolor": "#E5ECF6",
            "gridcolor": "white",
            "gridwidth": 2,
            "linecolor": "white",
            "showbackground": true,
            "ticks": "",
            "zerolinecolor": "white"
           },
           "yaxis": {
            "backgroundcolor": "#E5ECF6",
            "gridcolor": "white",
            "gridwidth": 2,
            "linecolor": "white",
            "showbackground": true,
            "ticks": "",
            "zerolinecolor": "white"
           },
           "zaxis": {
            "backgroundcolor": "#E5ECF6",
            "gridcolor": "white",
            "gridwidth": 2,
            "linecolor": "white",
            "showbackground": true,
            "ticks": "",
            "zerolinecolor": "white"
           }
          },
          "shapedefaults": {
           "line": {
            "color": "#2a3f5f"
           }
          },
          "ternary": {
           "aaxis": {
            "gridcolor": "white",
            "linecolor": "white",
            "ticks": ""
           },
           "baxis": {
            "gridcolor": "white",
            "linecolor": "white",
            "ticks": ""
           },
           "bgcolor": "#E5ECF6",
           "caxis": {
            "gridcolor": "white",
            "linecolor": "white",
            "ticks": ""
           }
          },
          "title": {
           "x": 0.05
          },
          "xaxis": {
           "automargin": true,
           "gridcolor": "white",
           "linecolor": "white",
           "ticks": "",
           "title": {
            "standoff": 15
           },
           "zerolinecolor": "white",
           "zerolinewidth": 2
          },
          "yaxis": {
           "automargin": true,
           "gridcolor": "white",
           "linecolor": "white",
           "ticks": "",
           "title": {
            "standoff": 15
           },
           "zerolinecolor": "white",
           "zerolinewidth": 2
          }
         }
        },
        "yaxis": {
         "zeroline": false
        }
       }
      }
     },
     "metadata": {},
     "output_type": "display_data"
    }
   ],
   "source": [
    "fig = go.Figure(\n",
    "    data=go.Violin(\n",
    "        y=df[\"total_bill\"],\n",
    "        box_visible=True,  # show inside box\n",
    "        line_color=\"black\",\n",
    "        meanline_visible=True,\n",
    "        fillcolor=\"lightseagreen\",\n",
    "        opacity=0.6,\n",
    "        x0=\"Total Bill\",\n",
    "    )\n",
    ")\n",
    "\n",
    "fig.update_layout(yaxis_zeroline=False)\n",
    "fig.show()"
   ]
  },
  {
   "cell_type": "markdown",
   "metadata": {},
   "source": [
    "## Grouped Violin Plot 分组画图"
   ]
  },
  {
   "cell_type": "code",
   "execution_count": 45,
   "metadata": {},
   "outputs": [
    {
     "data": {
      "text/html": [
       "<div>\n",
       "<style scoped>\n",
       "    .dataframe tbody tr th:only-of-type {\n",
       "        vertical-align: middle;\n",
       "    }\n",
       "\n",
       "    .dataframe tbody tr th {\n",
       "        vertical-align: top;\n",
       "    }\n",
       "\n",
       "    .dataframe thead th {\n",
       "        text-align: right;\n",
       "    }\n",
       "</style>\n",
       "<table border=\"1\" class=\"dataframe\">\n",
       "  <thead>\n",
       "    <tr style=\"text-align: right;\">\n",
       "      <th></th>\n",
       "      <th>total_bill</th>\n",
       "      <th>tip</th>\n",
       "      <th>sex</th>\n",
       "      <th>smoker</th>\n",
       "      <th>day</th>\n",
       "      <th>time</th>\n",
       "      <th>size</th>\n",
       "    </tr>\n",
       "  </thead>\n",
       "  <tbody>\n",
       "    <tr>\n",
       "      <th>0</th>\n",
       "      <td>16.99</td>\n",
       "      <td>1.01</td>\n",
       "      <td>Female</td>\n",
       "      <td>No</td>\n",
       "      <td>Sun</td>\n",
       "      <td>Dinner</td>\n",
       "      <td>2</td>\n",
       "    </tr>\n",
       "    <tr>\n",
       "      <th>1</th>\n",
       "      <td>10.34</td>\n",
       "      <td>1.66</td>\n",
       "      <td>Male</td>\n",
       "      <td>No</td>\n",
       "      <td>Sun</td>\n",
       "      <td>Dinner</td>\n",
       "      <td>3</td>\n",
       "    </tr>\n",
       "    <tr>\n",
       "      <th>2</th>\n",
       "      <td>21.01</td>\n",
       "      <td>3.50</td>\n",
       "      <td>Male</td>\n",
       "      <td>No</td>\n",
       "      <td>Sun</td>\n",
       "      <td>Dinner</td>\n",
       "      <td>3</td>\n",
       "    </tr>\n",
       "    <tr>\n",
       "      <th>3</th>\n",
       "      <td>23.68</td>\n",
       "      <td>3.31</td>\n",
       "      <td>Male</td>\n",
       "      <td>No</td>\n",
       "      <td>Sun</td>\n",
       "      <td>Dinner</td>\n",
       "      <td>2</td>\n",
       "    </tr>\n",
       "    <tr>\n",
       "      <th>4</th>\n",
       "      <td>24.59</td>\n",
       "      <td>3.61</td>\n",
       "      <td>Female</td>\n",
       "      <td>No</td>\n",
       "      <td>Sun</td>\n",
       "      <td>Dinner</td>\n",
       "      <td>4</td>\n",
       "    </tr>\n",
       "  </tbody>\n",
       "</table>\n",
       "</div>"
      ],
      "text/plain": [
       "   total_bill   tip     sex smoker  day    time  size\n",
       "0       16.99  1.01  Female     No  Sun  Dinner     2\n",
       "1       10.34  1.66    Male     No  Sun  Dinner     3\n",
       "2       21.01  3.50    Male     No  Sun  Dinner     3\n",
       "3       23.68  3.31    Male     No  Sun  Dinner     2\n",
       "4       24.59  3.61  Female     No  Sun  Dinner     4"
      ]
     },
     "execution_count": 45,
     "metadata": {},
     "output_type": "execute_result"
    }
   ],
   "source": [
    "df = pd.read_csv(\n",
    "    \"https://raw.githubusercontent.com/plotly/datasets/master/violin_data.csv\"\n",
    ")\n",
    "df.head()"
   ]
  },
  {
   "cell_type": "code",
   "execution_count": 48,
   "metadata": {},
   "outputs": [
    {
     "data": {
      "application/vnd.plotly.v1+json": {
       "config": {
        "plotlyServerURL": "https://plot.ly"
       },
       "data": [
        {
         "box": {
          "visible": true
         },
         "legendgroup": "M",
         "line": {
          "color": "blue"
         },
         "meanline": {
          "visible": true
         },
         "name": "M",
         "scalegroup": "M",
         "type": "violin",
         "x": [
          "Sun",
          "Sun",
          "Sun",
          "Sun",
          "Sun",
          "Sun",
          "Sun",
          "Sun",
          "Sun",
          "Sun",
          "Sun",
          "Sun",
          "Sun",
          "Sat",
          "Sat",
          "Sat",
          "Sat",
          "Sat",
          "Sat",
          "Sat",
          "Sat",
          "Sat",
          "Sat",
          "Sat",
          "Sat",
          "Sat",
          "Sat",
          "Sat",
          "Sat",
          "Sun",
          "Sun",
          "Sun",
          "Sun",
          "Sun",
          "Sun",
          "Sun",
          "Sun",
          "Sun",
          "Sun",
          "Sun",
          "Sun",
          "Sun",
          "Sat",
          "Sat",
          "Sat",
          "Sat",
          "Sat",
          "Sat",
          "Sat",
          "Sat",
          "Sat",
          "Sat",
          "Sat",
          "Sat",
          "Sat",
          "Sat",
          "Thur",
          "Thur",
          "Thur",
          "Thur",
          "Thur",
          "Thur",
          "Thur",
          "Thur",
          "Thur",
          "Thur",
          "Thur",
          "Fri",
          "Fri",
          "Fri",
          "Fri",
          "Fri",
          "Fri",
          "Fri",
          "Sat",
          "Sat",
          "Sat",
          "Sat",
          "Sat",
          "Sun",
          "Sun",
          "Sun",
          "Thur",
          "Thur",
          "Thur",
          "Thur",
          "Thur",
          "Thur",
          "Thur",
          "Thur",
          "Thur",
          "Thur",
          "Thur",
          "Sun",
          "Sun",
          "Sun",
          "Sun",
          "Sun",
          "Sun",
          "Sun",
          "Sun",
          "Sun",
          "Sun",
          "Sun",
          "Sun",
          "Sun",
          "Sat",
          "Sat",
          "Sun",
          "Sun",
          "Sun",
          "Sun",
          "Sun",
          "Sun",
          "Sun",
          "Sun",
          "Sun",
          "Sun",
          "Sun",
          "Sun",
          "Sun",
          "Sun",
          "Sun",
          "Sun",
          "Thur",
          "Thur",
          "Thur",
          "Thur",
          "Thur",
          "Thur",
          "Thur",
          "Thur",
          "Sat",
          "Sat",
          "Sat",
          "Sat",
          "Sat",
          "Sat",
          "Sat",
          "Sat",
          "Sat",
          "Fri",
          "Fri",
          "Fri",
          "Sat",
          "Sat",
          "Sat",
          "Sat",
          "Sat",
          "Sat",
          "Sat",
          "Sat",
          "Sat",
          "Sat",
          "Sat",
          "Sat",
          "Sat"
         ],
         "y": [
          10.34,
          21.01,
          23.68,
          25.29,
          8.77,
          26.88,
          15.04,
          14.78,
          10.27,
          15.42,
          18.43,
          21.58,
          16.29,
          20.65,
          17.92,
          39.42,
          19.82,
          17.81,
          13.37,
          12.69,
          21.7,
          9.55,
          18.35,
          17.78,
          24.06,
          16.31,
          18.69,
          31.27,
          16.04,
          17.46,
          13.94,
          9.68,
          30.4,
          18.29,
          22.23,
          32.4,
          28.55,
          18.04,
          12.54,
          9.94,
          25.56,
          19.49,
          38.01,
          11.24,
          48.27,
          20.29,
          13.81,
          11.02,
          18.29,
          17.59,
          20.08,
          20.23,
          15.01,
          12.02,
          10.51,
          17.92,
          27.2,
          22.76,
          17.29,
          19.44,
          16.66,
          32.68,
          15.98,
          13.03,
          18.28,
          24.71,
          21.16,
          28.97,
          22.49,
          40.17,
          27.28,
          12.03,
          21.01,
          12.46,
          15.36,
          20.49,
          25.21,
          18.24,
          14,
          38.07,
          23.95,
          29.93,
          11.69,
          14.26,
          15.95,
          8.52,
          22.82,
          19.08,
          16,
          34.3,
          41.19,
          9.78,
          7.51,
          14.07,
          13.13,
          17.26,
          24.55,
          19.77,
          48.17,
          16.49,
          21.5,
          12.66,
          13.81,
          24.52,
          20.76,
          31.71,
          50.81,
          15.81,
          7.25,
          31.85,
          16.82,
          32.9,
          17.89,
          14.48,
          34.63,
          34.65,
          23.33,
          45.35,
          23.17,
          40.55,
          20.69,
          30.46,
          23.1,
          15.69,
          28.44,
          15.48,
          16.58,
          7.56,
          10.34,
          13.51,
          18.71,
          20.53,
          26.59,
          38.73,
          24.27,
          30.06,
          25.89,
          48.33,
          28.15,
          11.59,
          7.74,
          12.16,
          8.58,
          13.42,
          20.45,
          13.28,
          24.01,
          15.69,
          11.61,
          10.77,
          15.53,
          10.07,
          12.6,
          32.83,
          29.03,
          22.67,
          17.82
         ]
        },
        {
         "box": {
          "visible": true
         },
         "legendgroup": "F",
         "line": {
          "color": "orange"
         },
         "meanline": {
          "visible": true
         },
         "name": "F",
         "scalegroup": "F",
         "type": "violin",
         "x": [
          "Sun",
          "Sun",
          "Sun",
          "Sun",
          "Sun",
          "Sun",
          "Sat",
          "Sat",
          "Sat",
          "Sat",
          "Sat",
          "Sat",
          "Sun",
          "Sun",
          "Sat",
          "Sat",
          "Sat",
          "Sat",
          "Sat",
          "Sat",
          "Sat",
          "Thur",
          "Thur",
          "Fri",
          "Fri",
          "Fri",
          "Fri",
          "Fri",
          "Sat",
          "Sat",
          "Sat",
          "Sat",
          "Sat",
          "Sun",
          "Sun",
          "Thur",
          "Thur",
          "Thur",
          "Thur",
          "Thur",
          "Thur",
          "Thur",
          "Thur",
          "Thur",
          "Thur",
          "Thur",
          "Thur",
          "Thur",
          "Thur",
          "Thur",
          "Thur",
          "Thur",
          "Thur",
          "Thur",
          "Thur",
          "Thur",
          "Thur",
          "Sun",
          "Sun",
          "Sun",
          "Sun",
          "Sun",
          "Sat",
          "Sat",
          "Sun",
          "Sun",
          "Sun",
          "Thur",
          "Thur",
          "Thur",
          "Thur",
          "Thur",
          "Thur",
          "Thur",
          "Sat",
          "Sat",
          "Sat",
          "Sat",
          "Sat",
          "Fri",
          "Fri",
          "Fri",
          "Fri",
          "Sat",
          "Sat",
          "Sat",
          "Thur"
         ],
         "y": [
          16.99,
          24.59,
          35.26,
          14.83,
          10.33,
          16.97,
          20.29,
          15.77,
          19.65,
          15.06,
          20.69,
          16.93,
          10.29,
          34.81,
          26.41,
          16.45,
          3.07,
          17.07,
          26.86,
          25.28,
          14.73,
          10.07,
          34.83,
          5.75,
          16.32,
          22.75,
          11.35,
          15.38,
          44.3,
          22.42,
          20.92,
          14.31,
          7.25,
          25.71,
          17.31,
          10.65,
          12.43,
          24.08,
          13.42,
          12.48,
          29.8,
          14.52,
          11.38,
          20.27,
          11.17,
          12.26,
          18.26,
          8.51,
          10.33,
          14.15,
          13.16,
          17.47,
          27.05,
          16.43,
          8.35,
          18.64,
          11.87,
          29.85,
          25,
          13.39,
          16.21,
          17.51,
          10.59,
          10.63,
          9.6,
          20.9,
          18.15,
          19.81,
          43.11,
          13,
          12.74,
          13,
          16.4,
          16.47,
          12.76,
          13.27,
          28.17,
          12.9,
          30.14,
          13.42,
          15.98,
          16.27,
          10.09,
          22.12,
          35.83,
          27.18,
          18.78
         ]
        }
       ],
       "layout": {
        "template": {
         "data": {
          "bar": [
           {
            "error_x": {
             "color": "#2a3f5f"
            },
            "error_y": {
             "color": "#2a3f5f"
            },
            "marker": {
             "line": {
              "color": "#E5ECF6",
              "width": 0.5
             },
             "pattern": {
              "fillmode": "overlay",
              "size": 10,
              "solidity": 0.2
             }
            },
            "type": "bar"
           }
          ],
          "barpolar": [
           {
            "marker": {
             "line": {
              "color": "#E5ECF6",
              "width": 0.5
             },
             "pattern": {
              "fillmode": "overlay",
              "size": 10,
              "solidity": 0.2
             }
            },
            "type": "barpolar"
           }
          ],
          "carpet": [
           {
            "aaxis": {
             "endlinecolor": "#2a3f5f",
             "gridcolor": "white",
             "linecolor": "white",
             "minorgridcolor": "white",
             "startlinecolor": "#2a3f5f"
            },
            "baxis": {
             "endlinecolor": "#2a3f5f",
             "gridcolor": "white",
             "linecolor": "white",
             "minorgridcolor": "white",
             "startlinecolor": "#2a3f5f"
            },
            "type": "carpet"
           }
          ],
          "choropleth": [
           {
            "colorbar": {
             "outlinewidth": 0,
             "ticks": ""
            },
            "type": "choropleth"
           }
          ],
          "contour": [
           {
            "colorbar": {
             "outlinewidth": 0,
             "ticks": ""
            },
            "colorscale": [
             [
              0,
              "#0d0887"
             ],
             [
              0.1111111111111111,
              "#46039f"
             ],
             [
              0.2222222222222222,
              "#7201a8"
             ],
             [
              0.3333333333333333,
              "#9c179e"
             ],
             [
              0.4444444444444444,
              "#bd3786"
             ],
             [
              0.5555555555555556,
              "#d8576b"
             ],
             [
              0.6666666666666666,
              "#ed7953"
             ],
             [
              0.7777777777777778,
              "#fb9f3a"
             ],
             [
              0.8888888888888888,
              "#fdca26"
             ],
             [
              1,
              "#f0f921"
             ]
            ],
            "type": "contour"
           }
          ],
          "contourcarpet": [
           {
            "colorbar": {
             "outlinewidth": 0,
             "ticks": ""
            },
            "type": "contourcarpet"
           }
          ],
          "heatmap": [
           {
            "colorbar": {
             "outlinewidth": 0,
             "ticks": ""
            },
            "colorscale": [
             [
              0,
              "#0d0887"
             ],
             [
              0.1111111111111111,
              "#46039f"
             ],
             [
              0.2222222222222222,
              "#7201a8"
             ],
             [
              0.3333333333333333,
              "#9c179e"
             ],
             [
              0.4444444444444444,
              "#bd3786"
             ],
             [
              0.5555555555555556,
              "#d8576b"
             ],
             [
              0.6666666666666666,
              "#ed7953"
             ],
             [
              0.7777777777777778,
              "#fb9f3a"
             ],
             [
              0.8888888888888888,
              "#fdca26"
             ],
             [
              1,
              "#f0f921"
             ]
            ],
            "type": "heatmap"
           }
          ],
          "heatmapgl": [
           {
            "colorbar": {
             "outlinewidth": 0,
             "ticks": ""
            },
            "colorscale": [
             [
              0,
              "#0d0887"
             ],
             [
              0.1111111111111111,
              "#46039f"
             ],
             [
              0.2222222222222222,
              "#7201a8"
             ],
             [
              0.3333333333333333,
              "#9c179e"
             ],
             [
              0.4444444444444444,
              "#bd3786"
             ],
             [
              0.5555555555555556,
              "#d8576b"
             ],
             [
              0.6666666666666666,
              "#ed7953"
             ],
             [
              0.7777777777777778,
              "#fb9f3a"
             ],
             [
              0.8888888888888888,
              "#fdca26"
             ],
             [
              1,
              "#f0f921"
             ]
            ],
            "type": "heatmapgl"
           }
          ],
          "histogram": [
           {
            "marker": {
             "pattern": {
              "fillmode": "overlay",
              "size": 10,
              "solidity": 0.2
             }
            },
            "type": "histogram"
           }
          ],
          "histogram2d": [
           {
            "colorbar": {
             "outlinewidth": 0,
             "ticks": ""
            },
            "colorscale": [
             [
              0,
              "#0d0887"
             ],
             [
              0.1111111111111111,
              "#46039f"
             ],
             [
              0.2222222222222222,
              "#7201a8"
             ],
             [
              0.3333333333333333,
              "#9c179e"
             ],
             [
              0.4444444444444444,
              "#bd3786"
             ],
             [
              0.5555555555555556,
              "#d8576b"
             ],
             [
              0.6666666666666666,
              "#ed7953"
             ],
             [
              0.7777777777777778,
              "#fb9f3a"
             ],
             [
              0.8888888888888888,
              "#fdca26"
             ],
             [
              1,
              "#f0f921"
             ]
            ],
            "type": "histogram2d"
           }
          ],
          "histogram2dcontour": [
           {
            "colorbar": {
             "outlinewidth": 0,
             "ticks": ""
            },
            "colorscale": [
             [
              0,
              "#0d0887"
             ],
             [
              0.1111111111111111,
              "#46039f"
             ],
             [
              0.2222222222222222,
              "#7201a8"
             ],
             [
              0.3333333333333333,
              "#9c179e"
             ],
             [
              0.4444444444444444,
              "#bd3786"
             ],
             [
              0.5555555555555556,
              "#d8576b"
             ],
             [
              0.6666666666666666,
              "#ed7953"
             ],
             [
              0.7777777777777778,
              "#fb9f3a"
             ],
             [
              0.8888888888888888,
              "#fdca26"
             ],
             [
              1,
              "#f0f921"
             ]
            ],
            "type": "histogram2dcontour"
           }
          ],
          "mesh3d": [
           {
            "colorbar": {
             "outlinewidth": 0,
             "ticks": ""
            },
            "type": "mesh3d"
           }
          ],
          "parcoords": [
           {
            "line": {
             "colorbar": {
              "outlinewidth": 0,
              "ticks": ""
             }
            },
            "type": "parcoords"
           }
          ],
          "pie": [
           {
            "automargin": true,
            "type": "pie"
           }
          ],
          "scatter": [
           {
            "fillpattern": {
             "fillmode": "overlay",
             "size": 10,
             "solidity": 0.2
            },
            "type": "scatter"
           }
          ],
          "scatter3d": [
           {
            "line": {
             "colorbar": {
              "outlinewidth": 0,
              "ticks": ""
             }
            },
            "marker": {
             "colorbar": {
              "outlinewidth": 0,
              "ticks": ""
             }
            },
            "type": "scatter3d"
           }
          ],
          "scattercarpet": [
           {
            "marker": {
             "colorbar": {
              "outlinewidth": 0,
              "ticks": ""
             }
            },
            "type": "scattercarpet"
           }
          ],
          "scattergeo": [
           {
            "marker": {
             "colorbar": {
              "outlinewidth": 0,
              "ticks": ""
             }
            },
            "type": "scattergeo"
           }
          ],
          "scattergl": [
           {
            "marker": {
             "colorbar": {
              "outlinewidth": 0,
              "ticks": ""
             }
            },
            "type": "scattergl"
           }
          ],
          "scattermapbox": [
           {
            "marker": {
             "colorbar": {
              "outlinewidth": 0,
              "ticks": ""
             }
            },
            "type": "scattermapbox"
           }
          ],
          "scatterpolar": [
           {
            "marker": {
             "colorbar": {
              "outlinewidth": 0,
              "ticks": ""
             }
            },
            "type": "scatterpolar"
           }
          ],
          "scatterpolargl": [
           {
            "marker": {
             "colorbar": {
              "outlinewidth": 0,
              "ticks": ""
             }
            },
            "type": "scatterpolargl"
           }
          ],
          "scatterternary": [
           {
            "marker": {
             "colorbar": {
              "outlinewidth": 0,
              "ticks": ""
             }
            },
            "type": "scatterternary"
           }
          ],
          "surface": [
           {
            "colorbar": {
             "outlinewidth": 0,
             "ticks": ""
            },
            "colorscale": [
             [
              0,
              "#0d0887"
             ],
             [
              0.1111111111111111,
              "#46039f"
             ],
             [
              0.2222222222222222,
              "#7201a8"
             ],
             [
              0.3333333333333333,
              "#9c179e"
             ],
             [
              0.4444444444444444,
              "#bd3786"
             ],
             [
              0.5555555555555556,
              "#d8576b"
             ],
             [
              0.6666666666666666,
              "#ed7953"
             ],
             [
              0.7777777777777778,
              "#fb9f3a"
             ],
             [
              0.8888888888888888,
              "#fdca26"
             ],
             [
              1,
              "#f0f921"
             ]
            ],
            "type": "surface"
           }
          ],
          "table": [
           {
            "cells": {
             "fill": {
              "color": "#EBF0F8"
             },
             "line": {
              "color": "white"
             }
            },
            "header": {
             "fill": {
              "color": "#C8D4E3"
             },
             "line": {
              "color": "white"
             }
            },
            "type": "table"
           }
          ]
         },
         "layout": {
          "annotationdefaults": {
           "arrowcolor": "#2a3f5f",
           "arrowhead": 0,
           "arrowwidth": 1
          },
          "autotypenumbers": "strict",
          "coloraxis": {
           "colorbar": {
            "outlinewidth": 0,
            "ticks": ""
           }
          },
          "colorscale": {
           "diverging": [
            [
             0,
             "#8e0152"
            ],
            [
             0.1,
             "#c51b7d"
            ],
            [
             0.2,
             "#de77ae"
            ],
            [
             0.3,
             "#f1b6da"
            ],
            [
             0.4,
             "#fde0ef"
            ],
            [
             0.5,
             "#f7f7f7"
            ],
            [
             0.6,
             "#e6f5d0"
            ],
            [
             0.7,
             "#b8e186"
            ],
            [
             0.8,
             "#7fbc41"
            ],
            [
             0.9,
             "#4d9221"
            ],
            [
             1,
             "#276419"
            ]
           ],
           "sequential": [
            [
             0,
             "#0d0887"
            ],
            [
             0.1111111111111111,
             "#46039f"
            ],
            [
             0.2222222222222222,
             "#7201a8"
            ],
            [
             0.3333333333333333,
             "#9c179e"
            ],
            [
             0.4444444444444444,
             "#bd3786"
            ],
            [
             0.5555555555555556,
             "#d8576b"
            ],
            [
             0.6666666666666666,
             "#ed7953"
            ],
            [
             0.7777777777777778,
             "#fb9f3a"
            ],
            [
             0.8888888888888888,
             "#fdca26"
            ],
            [
             1,
             "#f0f921"
            ]
           ],
           "sequentialminus": [
            [
             0,
             "#0d0887"
            ],
            [
             0.1111111111111111,
             "#46039f"
            ],
            [
             0.2222222222222222,
             "#7201a8"
            ],
            [
             0.3333333333333333,
             "#9c179e"
            ],
            [
             0.4444444444444444,
             "#bd3786"
            ],
            [
             0.5555555555555556,
             "#d8576b"
            ],
            [
             0.6666666666666666,
             "#ed7953"
            ],
            [
             0.7777777777777778,
             "#fb9f3a"
            ],
            [
             0.8888888888888888,
             "#fdca26"
            ],
            [
             1,
             "#f0f921"
            ]
           ]
          },
          "colorway": [
           "#636efa",
           "#EF553B",
           "#00cc96",
           "#ab63fa",
           "#FFA15A",
           "#19d3f3",
           "#FF6692",
           "#B6E880",
           "#FF97FF",
           "#FECB52"
          ],
          "font": {
           "color": "#2a3f5f"
          },
          "geo": {
           "bgcolor": "white",
           "lakecolor": "white",
           "landcolor": "#E5ECF6",
           "showlakes": true,
           "showland": true,
           "subunitcolor": "white"
          },
          "hoverlabel": {
           "align": "left"
          },
          "hovermode": "closest",
          "mapbox": {
           "style": "light"
          },
          "paper_bgcolor": "white",
          "plot_bgcolor": "#E5ECF6",
          "polar": {
           "angularaxis": {
            "gridcolor": "white",
            "linecolor": "white",
            "ticks": ""
           },
           "bgcolor": "#E5ECF6",
           "radialaxis": {
            "gridcolor": "white",
            "linecolor": "white",
            "ticks": ""
           }
          },
          "scene": {
           "xaxis": {
            "backgroundcolor": "#E5ECF6",
            "gridcolor": "white",
            "gridwidth": 2,
            "linecolor": "white",
            "showbackground": true,
            "ticks": "",
            "zerolinecolor": "white"
           },
           "yaxis": {
            "backgroundcolor": "#E5ECF6",
            "gridcolor": "white",
            "gridwidth": 2,
            "linecolor": "white",
            "showbackground": true,
            "ticks": "",
            "zerolinecolor": "white"
           },
           "zaxis": {
            "backgroundcolor": "#E5ECF6",
            "gridcolor": "white",
            "gridwidth": 2,
            "linecolor": "white",
            "showbackground": true,
            "ticks": "",
            "zerolinecolor": "white"
           }
          },
          "shapedefaults": {
           "line": {
            "color": "#2a3f5f"
           }
          },
          "ternary": {
           "aaxis": {
            "gridcolor": "white",
            "linecolor": "white",
            "ticks": ""
           },
           "baxis": {
            "gridcolor": "white",
            "linecolor": "white",
            "ticks": ""
           },
           "bgcolor": "#E5ECF6",
           "caxis": {
            "gridcolor": "white",
            "linecolor": "white",
            "ticks": ""
           }
          },
          "title": {
           "x": 0.05
          },
          "xaxis": {
           "automargin": true,
           "gridcolor": "white",
           "linecolor": "white",
           "ticks": "",
           "title": {
            "standoff": 15
           },
           "zerolinecolor": "white",
           "zerolinewidth": 2
          },
          "yaxis": {
           "automargin": true,
           "gridcolor": "white",
           "linecolor": "white",
           "ticks": "",
           "title": {
            "standoff": 15
           },
           "zerolinecolor": "white",
           "zerolinewidth": 2
          }
         }
        },
        "violinmode": "group"
       }
      }
     },
     "metadata": {},
     "output_type": "display_data"
    }
   ],
   "source": [
    "fig = go.Figure()\n",
    "\n",
    "fig.add_trace(\n",
    "    go.Violin(\n",
    "        x=df[\"day\"][df[\"sex\"] == \"Male\"],\n",
    "        y=df[\"total_bill\"][df[\"sex\"] == \"Male\"],\n",
    "        legendgroup=\"M\",\n",
    "        scalegroup=\"M\",\n",
    "        name=\"M\",\n",
    "        line_color=\"blue\",\n",
    "    )\n",
    ")\n",
    "fig.add_trace(\n",
    "    go.Violin(\n",
    "        x=df[\"day\"][df[\"sex\"] == \"Female\"],\n",
    "        y=df[\"total_bill\"][df[\"sex\"] == \"Female\"],\n",
    "        legendgroup=\"F\",\n",
    "        scalegroup=\"F\",\n",
    "        name=\"F\",\n",
    "        line_color=\"orange\",\n",
    "    )\n",
    ")\n",
    "\n",
    "fig.update_traces(box_visible=True, meanline_visible=True)\n",
    "fig.update_layout(violinmode=\"group\")\n",
    "fig.show()"
   ]
  },
  {
   "cell_type": "markdown",
   "metadata": {},
   "source": [
    "## Multiple Traces"
   ]
  },
  {
   "cell_type": "code",
   "execution_count": null,
   "metadata": {},
   "outputs": [
    {
     "data": {
      "text/html": [
       "<div>\n",
       "<style scoped>\n",
       "    .dataframe tbody tr th:only-of-type {\n",
       "        vertical-align: middle;\n",
       "    }\n",
       "\n",
       "    .dataframe tbody tr th {\n",
       "        vertical-align: top;\n",
       "    }\n",
       "\n",
       "    .dataframe thead th {\n",
       "        text-align: right;\n",
       "    }\n",
       "</style>\n",
       "<table border=\"1\" class=\"dataframe\">\n",
       "  <thead>\n",
       "    <tr style=\"text-align: right;\">\n",
       "      <th></th>\n",
       "      <th>total_bill</th>\n",
       "      <th>tip</th>\n",
       "      <th>sex</th>\n",
       "      <th>smoker</th>\n",
       "      <th>day</th>\n",
       "      <th>time</th>\n",
       "      <th>size</th>\n",
       "    </tr>\n",
       "  </thead>\n",
       "  <tbody>\n",
       "    <tr>\n",
       "      <th>0</th>\n",
       "      <td>16.99</td>\n",
       "      <td>1.01</td>\n",
       "      <td>Female</td>\n",
       "      <td>No</td>\n",
       "      <td>Sun</td>\n",
       "      <td>Dinner</td>\n",
       "      <td>2</td>\n",
       "    </tr>\n",
       "    <tr>\n",
       "      <th>1</th>\n",
       "      <td>10.34</td>\n",
       "      <td>1.66</td>\n",
       "      <td>Male</td>\n",
       "      <td>No</td>\n",
       "      <td>Sun</td>\n",
       "      <td>Dinner</td>\n",
       "      <td>3</td>\n",
       "    </tr>\n",
       "    <tr>\n",
       "      <th>2</th>\n",
       "      <td>21.01</td>\n",
       "      <td>3.50</td>\n",
       "      <td>Male</td>\n",
       "      <td>No</td>\n",
       "      <td>Sun</td>\n",
       "      <td>Dinner</td>\n",
       "      <td>3</td>\n",
       "    </tr>\n",
       "    <tr>\n",
       "      <th>3</th>\n",
       "      <td>23.68</td>\n",
       "      <td>3.31</td>\n",
       "      <td>Male</td>\n",
       "      <td>No</td>\n",
       "      <td>Sun</td>\n",
       "      <td>Dinner</td>\n",
       "      <td>2</td>\n",
       "    </tr>\n",
       "    <tr>\n",
       "      <th>4</th>\n",
       "      <td>24.59</td>\n",
       "      <td>3.61</td>\n",
       "      <td>Female</td>\n",
       "      <td>No</td>\n",
       "      <td>Sun</td>\n",
       "      <td>Dinner</td>\n",
       "      <td>4</td>\n",
       "    </tr>\n",
       "  </tbody>\n",
       "</table>\n",
       "</div>"
      ],
      "text/plain": [
       "   total_bill   tip     sex smoker  day    time  size\n",
       "0       16.99  1.01  Female     No  Sun  Dinner     2\n",
       "1       10.34  1.66    Male     No  Sun  Dinner     3\n",
       "2       21.01  3.50    Male     No  Sun  Dinner     3\n",
       "3       23.68  3.31    Male     No  Sun  Dinner     2\n",
       "4       24.59  3.61  Female     No  Sun  Dinner     4"
      ]
     },
     "metadata": {},
     "output_type": "display_data"
    }
   ],
   "source": [
    "df = pd.read_csv(\n",
    "    \"https://raw.githubusercontent.com/plotly/datasets/master/violin_data.csv\"\n",
    ")\n",
    "df.head()"
   ]
  },
  {
   "cell_type": "code",
   "execution_count": null,
   "metadata": {},
   "outputs": [
    {
     "data": {
      "application/vnd.plotly.v1+json": {
       "config": {
        "plotlyServerURL": "https://plot.ly"
       },
       "data": [
        {
         "box": {
          "visible": true
         },
         "meanline": {
          "visible": true
         },
         "name": "Thur",
         "type": "violin",
         "x": [
          "Thur",
          "Thur",
          "Thur",
          "Thur",
          "Thur",
          "Thur",
          "Thur",
          "Thur",
          "Thur",
          "Thur",
          "Thur",
          "Thur",
          "Thur",
          "Thur",
          "Thur",
          "Thur",
          "Thur",
          "Thur",
          "Thur",
          "Thur",
          "Thur",
          "Thur",
          "Thur",
          "Thur",
          "Thur",
          "Thur",
          "Thur",
          "Thur",
          "Thur",
          "Thur",
          "Thur",
          "Thur",
          "Thur",
          "Thur",
          "Thur",
          "Thur",
          "Thur",
          "Thur",
          "Thur",
          "Thur",
          "Thur",
          "Thur",
          "Thur",
          "Thur",
          "Thur",
          "Thur",
          "Thur",
          "Thur",
          "Thur",
          "Thur",
          "Thur",
          "Thur",
          "Thur",
          "Thur",
          "Thur",
          "Thur",
          "Thur",
          "Thur",
          "Thur",
          "Thur",
          "Thur",
          "Thur"
         ],
         "y": [
          27.2,
          22.76,
          17.29,
          19.44,
          16.66,
          10.07,
          32.68,
          15.98,
          34.83,
          13.03,
          18.28,
          24.71,
          21.16,
          10.65,
          12.43,
          24.08,
          11.69,
          13.42,
          14.26,
          15.95,
          12.48,
          29.8,
          8.52,
          14.52,
          11.38,
          22.82,
          19.08,
          20.27,
          11.17,
          12.26,
          18.26,
          8.51,
          10.33,
          14.15,
          16,
          13.16,
          17.47,
          34.3,
          41.19,
          27.05,
          16.43,
          8.35,
          18.64,
          11.87,
          9.78,
          7.51,
          19.81,
          28.44,
          15.48,
          16.58,
          7.56,
          10.34,
          43.11,
          13,
          13.51,
          18.71,
          12.74,
          13,
          16.4,
          20.53,
          16.47,
          18.78
         ]
        },
        {
         "box": {
          "visible": true
         },
         "meanline": {
          "visible": true
         },
         "name": "Fri",
         "type": "violin",
         "x": [
          "Fri",
          "Fri",
          "Fri",
          "Fri",
          "Fri",
          "Fri",
          "Fri",
          "Fri",
          "Fri",
          "Fri",
          "Fri",
          "Fri",
          "Fri",
          "Fri",
          "Fri",
          "Fri",
          "Fri",
          "Fri",
          "Fri"
         ],
         "y": [
          28.97,
          22.49,
          5.75,
          16.32,
          22.75,
          40.17,
          27.28,
          12.03,
          21.01,
          12.46,
          11.35,
          15.38,
          12.16,
          13.42,
          8.58,
          15.98,
          13.42,
          16.27,
          10.09
         ]
        },
        {
         "box": {
          "visible": true
         },
         "meanline": {
          "visible": true
         },
         "name": "Sat",
         "type": "violin",
         "x": [
          "Sat",
          "Sat",
          "Sat",
          "Sat",
          "Sat",
          "Sat",
          "Sat",
          "Sat",
          "Sat",
          "Sat",
          "Sat",
          "Sat",
          "Sat",
          "Sat",
          "Sat",
          "Sat",
          "Sat",
          "Sat",
          "Sat",
          "Sat",
          "Sat",
          "Sat",
          "Sat",
          "Sat",
          "Sat",
          "Sat",
          "Sat",
          "Sat",
          "Sat",
          "Sat",
          "Sat",
          "Sat",
          "Sat",
          "Sat",
          "Sat",
          "Sat",
          "Sat",
          "Sat",
          "Sat",
          "Sat",
          "Sat",
          "Sat",
          "Sat",
          "Sat",
          "Sat",
          "Sat",
          "Sat",
          "Sat",
          "Sat",
          "Sat",
          "Sat",
          "Sat",
          "Sat",
          "Sat",
          "Sat",
          "Sat",
          "Sat",
          "Sat",
          "Sat",
          "Sat",
          "Sat",
          "Sat",
          "Sat",
          "Sat",
          "Sat",
          "Sat",
          "Sat",
          "Sat",
          "Sat",
          "Sat",
          "Sat",
          "Sat",
          "Sat",
          "Sat",
          "Sat",
          "Sat",
          "Sat",
          "Sat",
          "Sat",
          "Sat",
          "Sat",
          "Sat",
          "Sat",
          "Sat",
          "Sat",
          "Sat",
          "Sat"
         ],
         "y": [
          20.65,
          17.92,
          20.29,
          15.77,
          39.42,
          19.82,
          17.81,
          13.37,
          12.69,
          21.7,
          19.65,
          9.55,
          18.35,
          15.06,
          20.69,
          17.78,
          24.06,
          16.31,
          16.93,
          18.69,
          31.27,
          16.04,
          38.01,
          26.41,
          11.24,
          48.27,
          20.29,
          13.81,
          11.02,
          18.29,
          17.59,
          20.08,
          16.45,
          3.07,
          20.23,
          15.01,
          12.02,
          17.07,
          26.86,
          25.28,
          14.73,
          10.51,
          17.92,
          44.3,
          22.42,
          20.92,
          15.36,
          20.49,
          25.21,
          18.24,
          14.31,
          14,
          7.25,
          10.59,
          10.63,
          50.81,
          15.81,
          26.59,
          38.73,
          24.27,
          12.76,
          30.06,
          25.89,
          48.33,
          13.27,
          28.17,
          12.9,
          28.15,
          11.59,
          7.74,
          30.14,
          20.45,
          13.28,
          22.12,
          24.01,
          15.69,
          11.61,
          10.77,
          15.53,
          10.07,
          12.6,
          32.83,
          35.83,
          29.03,
          27.18,
          22.67,
          17.82
         ]
        },
        {
         "box": {
          "visible": true
         },
         "meanline": {
          "visible": true
         },
         "name": "Sun",
         "type": "violin",
         "x": [
          "Sun",
          "Sun",
          "Sun",
          "Sun",
          "Sun",
          "Sun",
          "Sun",
          "Sun",
          "Sun",
          "Sun",
          "Sun",
          "Sun",
          "Sun",
          "Sun",
          "Sun",
          "Sun",
          "Sun",
          "Sun",
          "Sun",
          "Sun",
          "Sun",
          "Sun",
          "Sun",
          "Sun",
          "Sun",
          "Sun",
          "Sun",
          "Sun",
          "Sun",
          "Sun",
          "Sun",
          "Sun",
          "Sun",
          "Sun",
          "Sun",
          "Sun",
          "Sun",
          "Sun",
          "Sun",
          "Sun",
          "Sun",
          "Sun",
          "Sun",
          "Sun",
          "Sun",
          "Sun",
          "Sun",
          "Sun",
          "Sun",
          "Sun",
          "Sun",
          "Sun",
          "Sun",
          "Sun",
          "Sun",
          "Sun",
          "Sun",
          "Sun",
          "Sun",
          "Sun",
          "Sun",
          "Sun",
          "Sun",
          "Sun",
          "Sun",
          "Sun",
          "Sun",
          "Sun",
          "Sun",
          "Sun",
          "Sun",
          "Sun",
          "Sun",
          "Sun",
          "Sun",
          "Sun"
         ],
         "y": [
          16.99,
          10.34,
          21.01,
          23.68,
          24.59,
          25.29,
          8.77,
          26.88,
          15.04,
          14.78,
          10.27,
          35.26,
          15.42,
          18.43,
          14.83,
          21.58,
          10.33,
          16.29,
          16.97,
          17.46,
          13.94,
          9.68,
          30.4,
          18.29,
          22.23,
          32.4,
          28.55,
          18.04,
          12.54,
          10.29,
          34.81,
          9.94,
          25.56,
          19.49,
          38.07,
          23.95,
          25.71,
          17.31,
          29.93,
          14.07,
          13.13,
          17.26,
          24.55,
          19.77,
          29.85,
          48.17,
          25,
          13.39,
          16.49,
          21.5,
          12.66,
          16.21,
          13.81,
          17.51,
          24.52,
          20.76,
          31.71,
          7.25,
          31.85,
          16.82,
          32.9,
          17.89,
          14.48,
          9.6,
          34.63,
          34.65,
          23.33,
          45.35,
          23.17,
          40.55,
          20.69,
          20.9,
          30.46,
          18.15,
          23.1,
          15.69
         ]
        }
       ],
       "layout": {
        "template": {
         "data": {
          "bar": [
           {
            "error_x": {
             "color": "#2a3f5f"
            },
            "error_y": {
             "color": "#2a3f5f"
            },
            "marker": {
             "line": {
              "color": "#E5ECF6",
              "width": 0.5
             },
             "pattern": {
              "fillmode": "overlay",
              "size": 10,
              "solidity": 0.2
             }
            },
            "type": "bar"
           }
          ],
          "barpolar": [
           {
            "marker": {
             "line": {
              "color": "#E5ECF6",
              "width": 0.5
             },
             "pattern": {
              "fillmode": "overlay",
              "size": 10,
              "solidity": 0.2
             }
            },
            "type": "barpolar"
           }
          ],
          "carpet": [
           {
            "aaxis": {
             "endlinecolor": "#2a3f5f",
             "gridcolor": "white",
             "linecolor": "white",
             "minorgridcolor": "white",
             "startlinecolor": "#2a3f5f"
            },
            "baxis": {
             "endlinecolor": "#2a3f5f",
             "gridcolor": "white",
             "linecolor": "white",
             "minorgridcolor": "white",
             "startlinecolor": "#2a3f5f"
            },
            "type": "carpet"
           }
          ],
          "choropleth": [
           {
            "colorbar": {
             "outlinewidth": 0,
             "ticks": ""
            },
            "type": "choropleth"
           }
          ],
          "contour": [
           {
            "colorbar": {
             "outlinewidth": 0,
             "ticks": ""
            },
            "colorscale": [
             [
              0,
              "#0d0887"
             ],
             [
              0.1111111111111111,
              "#46039f"
             ],
             [
              0.2222222222222222,
              "#7201a8"
             ],
             [
              0.3333333333333333,
              "#9c179e"
             ],
             [
              0.4444444444444444,
              "#bd3786"
             ],
             [
              0.5555555555555556,
              "#d8576b"
             ],
             [
              0.6666666666666666,
              "#ed7953"
             ],
             [
              0.7777777777777778,
              "#fb9f3a"
             ],
             [
              0.8888888888888888,
              "#fdca26"
             ],
             [
              1,
              "#f0f921"
             ]
            ],
            "type": "contour"
           }
          ],
          "contourcarpet": [
           {
            "colorbar": {
             "outlinewidth": 0,
             "ticks": ""
            },
            "type": "contourcarpet"
           }
          ],
          "heatmap": [
           {
            "colorbar": {
             "outlinewidth": 0,
             "ticks": ""
            },
            "colorscale": [
             [
              0,
              "#0d0887"
             ],
             [
              0.1111111111111111,
              "#46039f"
             ],
             [
              0.2222222222222222,
              "#7201a8"
             ],
             [
              0.3333333333333333,
              "#9c179e"
             ],
             [
              0.4444444444444444,
              "#bd3786"
             ],
             [
              0.5555555555555556,
              "#d8576b"
             ],
             [
              0.6666666666666666,
              "#ed7953"
             ],
             [
              0.7777777777777778,
              "#fb9f3a"
             ],
             [
              0.8888888888888888,
              "#fdca26"
             ],
             [
              1,
              "#f0f921"
             ]
            ],
            "type": "heatmap"
           }
          ],
          "heatmapgl": [
           {
            "colorbar": {
             "outlinewidth": 0,
             "ticks": ""
            },
            "colorscale": [
             [
              0,
              "#0d0887"
             ],
             [
              0.1111111111111111,
              "#46039f"
             ],
             [
              0.2222222222222222,
              "#7201a8"
             ],
             [
              0.3333333333333333,
              "#9c179e"
             ],
             [
              0.4444444444444444,
              "#bd3786"
             ],
             [
              0.5555555555555556,
              "#d8576b"
             ],
             [
              0.6666666666666666,
              "#ed7953"
             ],
             [
              0.7777777777777778,
              "#fb9f3a"
             ],
             [
              0.8888888888888888,
              "#fdca26"
             ],
             [
              1,
              "#f0f921"
             ]
            ],
            "type": "heatmapgl"
           }
          ],
          "histogram": [
           {
            "marker": {
             "pattern": {
              "fillmode": "overlay",
              "size": 10,
              "solidity": 0.2
             }
            },
            "type": "histogram"
           }
          ],
          "histogram2d": [
           {
            "colorbar": {
             "outlinewidth": 0,
             "ticks": ""
            },
            "colorscale": [
             [
              0,
              "#0d0887"
             ],
             [
              0.1111111111111111,
              "#46039f"
             ],
             [
              0.2222222222222222,
              "#7201a8"
             ],
             [
              0.3333333333333333,
              "#9c179e"
             ],
             [
              0.4444444444444444,
              "#bd3786"
             ],
             [
              0.5555555555555556,
              "#d8576b"
             ],
             [
              0.6666666666666666,
              "#ed7953"
             ],
             [
              0.7777777777777778,
              "#fb9f3a"
             ],
             [
              0.8888888888888888,
              "#fdca26"
             ],
             [
              1,
              "#f0f921"
             ]
            ],
            "type": "histogram2d"
           }
          ],
          "histogram2dcontour": [
           {
            "colorbar": {
             "outlinewidth": 0,
             "ticks": ""
            },
            "colorscale": [
             [
              0,
              "#0d0887"
             ],
             [
              0.1111111111111111,
              "#46039f"
             ],
             [
              0.2222222222222222,
              "#7201a8"
             ],
             [
              0.3333333333333333,
              "#9c179e"
             ],
             [
              0.4444444444444444,
              "#bd3786"
             ],
             [
              0.5555555555555556,
              "#d8576b"
             ],
             [
              0.6666666666666666,
              "#ed7953"
             ],
             [
              0.7777777777777778,
              "#fb9f3a"
             ],
             [
              0.8888888888888888,
              "#fdca26"
             ],
             [
              1,
              "#f0f921"
             ]
            ],
            "type": "histogram2dcontour"
           }
          ],
          "mesh3d": [
           {
            "colorbar": {
             "outlinewidth": 0,
             "ticks": ""
            },
            "type": "mesh3d"
           }
          ],
          "parcoords": [
           {
            "line": {
             "colorbar": {
              "outlinewidth": 0,
              "ticks": ""
             }
            },
            "type": "parcoords"
           }
          ],
          "pie": [
           {
            "automargin": true,
            "type": "pie"
           }
          ],
          "scatter": [
           {
            "fillpattern": {
             "fillmode": "overlay",
             "size": 10,
             "solidity": 0.2
            },
            "type": "scatter"
           }
          ],
          "scatter3d": [
           {
            "line": {
             "colorbar": {
              "outlinewidth": 0,
              "ticks": ""
             }
            },
            "marker": {
             "colorbar": {
              "outlinewidth": 0,
              "ticks": ""
             }
            },
            "type": "scatter3d"
           }
          ],
          "scattercarpet": [
           {
            "marker": {
             "colorbar": {
              "outlinewidth": 0,
              "ticks": ""
             }
            },
            "type": "scattercarpet"
           }
          ],
          "scattergeo": [
           {
            "marker": {
             "colorbar": {
              "outlinewidth": 0,
              "ticks": ""
             }
            },
            "type": "scattergeo"
           }
          ],
          "scattergl": [
           {
            "marker": {
             "colorbar": {
              "outlinewidth": 0,
              "ticks": ""
             }
            },
            "type": "scattergl"
           }
          ],
          "scattermapbox": [
           {
            "marker": {
             "colorbar": {
              "outlinewidth": 0,
              "ticks": ""
             }
            },
            "type": "scattermapbox"
           }
          ],
          "scatterpolar": [
           {
            "marker": {
             "colorbar": {
              "outlinewidth": 0,
              "ticks": ""
             }
            },
            "type": "scatterpolar"
           }
          ],
          "scatterpolargl": [
           {
            "marker": {
             "colorbar": {
              "outlinewidth": 0,
              "ticks": ""
             }
            },
            "type": "scatterpolargl"
           }
          ],
          "scatterternary": [
           {
            "marker": {
             "colorbar": {
              "outlinewidth": 0,
              "ticks": ""
             }
            },
            "type": "scatterternary"
           }
          ],
          "surface": [
           {
            "colorbar": {
             "outlinewidth": 0,
             "ticks": ""
            },
            "colorscale": [
             [
              0,
              "#0d0887"
             ],
             [
              0.1111111111111111,
              "#46039f"
             ],
             [
              0.2222222222222222,
              "#7201a8"
             ],
             [
              0.3333333333333333,
              "#9c179e"
             ],
             [
              0.4444444444444444,
              "#bd3786"
             ],
             [
              0.5555555555555556,
              "#d8576b"
             ],
             [
              0.6666666666666666,
              "#ed7953"
             ],
             [
              0.7777777777777778,
              "#fb9f3a"
             ],
             [
              0.8888888888888888,
              "#fdca26"
             ],
             [
              1,
              "#f0f921"
             ]
            ],
            "type": "surface"
           }
          ],
          "table": [
           {
            "cells": {
             "fill": {
              "color": "#EBF0F8"
             },
             "line": {
              "color": "white"
             }
            },
            "header": {
             "fill": {
              "color": "#C8D4E3"
             },
             "line": {
              "color": "white"
             }
            },
            "type": "table"
           }
          ]
         },
         "layout": {
          "annotationdefaults": {
           "arrowcolor": "#2a3f5f",
           "arrowhead": 0,
           "arrowwidth": 1
          },
          "autotypenumbers": "strict",
          "coloraxis": {
           "colorbar": {
            "outlinewidth": 0,
            "ticks": ""
           }
          },
          "colorscale": {
           "diverging": [
            [
             0,
             "#8e0152"
            ],
            [
             0.1,
             "#c51b7d"
            ],
            [
             0.2,
             "#de77ae"
            ],
            [
             0.3,
             "#f1b6da"
            ],
            [
             0.4,
             "#fde0ef"
            ],
            [
             0.5,
             "#f7f7f7"
            ],
            [
             0.6,
             "#e6f5d0"
            ],
            [
             0.7,
             "#b8e186"
            ],
            [
             0.8,
             "#7fbc41"
            ],
            [
             0.9,
             "#4d9221"
            ],
            [
             1,
             "#276419"
            ]
           ],
           "sequential": [
            [
             0,
             "#0d0887"
            ],
            [
             0.1111111111111111,
             "#46039f"
            ],
            [
             0.2222222222222222,
             "#7201a8"
            ],
            [
             0.3333333333333333,
             "#9c179e"
            ],
            [
             0.4444444444444444,
             "#bd3786"
            ],
            [
             0.5555555555555556,
             "#d8576b"
            ],
            [
             0.6666666666666666,
             "#ed7953"
            ],
            [
             0.7777777777777778,
             "#fb9f3a"
            ],
            [
             0.8888888888888888,
             "#fdca26"
            ],
            [
             1,
             "#f0f921"
            ]
           ],
           "sequentialminus": [
            [
             0,
             "#0d0887"
            ],
            [
             0.1111111111111111,
             "#46039f"
            ],
            [
             0.2222222222222222,
             "#7201a8"
            ],
            [
             0.3333333333333333,
             "#9c179e"
            ],
            [
             0.4444444444444444,
             "#bd3786"
            ],
            [
             0.5555555555555556,
             "#d8576b"
            ],
            [
             0.6666666666666666,
             "#ed7953"
            ],
            [
             0.7777777777777778,
             "#fb9f3a"
            ],
            [
             0.8888888888888888,
             "#fdca26"
            ],
            [
             1,
             "#f0f921"
            ]
           ]
          },
          "colorway": [
           "#636efa",
           "#EF553B",
           "#00cc96",
           "#ab63fa",
           "#FFA15A",
           "#19d3f3",
           "#FF6692",
           "#B6E880",
           "#FF97FF",
           "#FECB52"
          ],
          "font": {
           "color": "#2a3f5f"
          },
          "geo": {
           "bgcolor": "white",
           "lakecolor": "white",
           "landcolor": "#E5ECF6",
           "showlakes": true,
           "showland": true,
           "subunitcolor": "white"
          },
          "hoverlabel": {
           "align": "left"
          },
          "hovermode": "closest",
          "mapbox": {
           "style": "light"
          },
          "paper_bgcolor": "white",
          "plot_bgcolor": "#E5ECF6",
          "polar": {
           "angularaxis": {
            "gridcolor": "white",
            "linecolor": "white",
            "ticks": ""
           },
           "bgcolor": "#E5ECF6",
           "radialaxis": {
            "gridcolor": "white",
            "linecolor": "white",
            "ticks": ""
           }
          },
          "scene": {
           "xaxis": {
            "backgroundcolor": "#E5ECF6",
            "gridcolor": "white",
            "gridwidth": 2,
            "linecolor": "white",
            "showbackground": true,
            "ticks": "",
            "zerolinecolor": "white"
           },
           "yaxis": {
            "backgroundcolor": "#E5ECF6",
            "gridcolor": "white",
            "gridwidth": 2,
            "linecolor": "white",
            "showbackground": true,
            "ticks": "",
            "zerolinecolor": "white"
           },
           "zaxis": {
            "backgroundcolor": "#E5ECF6",
            "gridcolor": "white",
            "gridwidth": 2,
            "linecolor": "white",
            "showbackground": true,
            "ticks": "",
            "zerolinecolor": "white"
           }
          },
          "shapedefaults": {
           "line": {
            "color": "#2a3f5f"
           }
          },
          "ternary": {
           "aaxis": {
            "gridcolor": "white",
            "linecolor": "white",
            "ticks": ""
           },
           "baxis": {
            "gridcolor": "white",
            "linecolor": "white",
            "ticks": ""
           },
           "bgcolor": "#E5ECF6",
           "caxis": {
            "gridcolor": "white",
            "linecolor": "white",
            "ticks": ""
           }
          },
          "title": {
           "x": 0.05
          },
          "xaxis": {
           "automargin": true,
           "gridcolor": "white",
           "linecolor": "white",
           "ticks": "",
           "title": {
            "standoff": 15
           },
           "zerolinecolor": "white",
           "zerolinewidth": 2
          },
          "yaxis": {
           "automargin": true,
           "gridcolor": "white",
           "linecolor": "white",
           "ticks": "",
           "title": {
            "standoff": 15
           },
           "zerolinecolor": "white",
           "zerolinewidth": 2
          }
         }
        }
       }
      }
     },
     "metadata": {},
     "output_type": "display_data"
    }
   ],
   "source": [
    "fig = go.Figure()\n",
    "\n",
    "days = [\"Thur\", \"Fri\", \"Sat\", \"Sun\"]\n",
    "\n",
    "for day in days:\n",
    "    # 加4张图\n",
    "    fig.add_trace(\n",
    "        go.Violin(\n",
    "            x=df[\"day\"][df[\"day\"] == day],\n",
    "            y=df[\"total_bill\"][df[\"day\"] == day],\n",
    "            name=day,\n",
    "            box_visible=True,\n",
    "            meanline_visible=True,\n",
    "        )\n",
    "    )\n",
    "\n",
    "fig.show()"
   ]
  },
  {
   "cell_type": "markdown",
   "metadata": {},
   "source": [
    "## Split Violin Plot"
   ]
  },
  {
   "cell_type": "code",
   "execution_count": 49,
   "metadata": {},
   "outputs": [
    {
     "data": {
      "text/html": [
       "<div>\n",
       "<style scoped>\n",
       "    .dataframe tbody tr th:only-of-type {\n",
       "        vertical-align: middle;\n",
       "    }\n",
       "\n",
       "    .dataframe tbody tr th {\n",
       "        vertical-align: top;\n",
       "    }\n",
       "\n",
       "    .dataframe thead th {\n",
       "        text-align: right;\n",
       "    }\n",
       "</style>\n",
       "<table border=\"1\" class=\"dataframe\">\n",
       "  <thead>\n",
       "    <tr style=\"text-align: right;\">\n",
       "      <th></th>\n",
       "      <th>total_bill</th>\n",
       "      <th>tip</th>\n",
       "      <th>sex</th>\n",
       "      <th>smoker</th>\n",
       "      <th>day</th>\n",
       "      <th>time</th>\n",
       "      <th>size</th>\n",
       "    </tr>\n",
       "  </thead>\n",
       "  <tbody>\n",
       "    <tr>\n",
       "      <th>0</th>\n",
       "      <td>16.99</td>\n",
       "      <td>1.01</td>\n",
       "      <td>Female</td>\n",
       "      <td>No</td>\n",
       "      <td>Sun</td>\n",
       "      <td>Dinner</td>\n",
       "      <td>2</td>\n",
       "    </tr>\n",
       "    <tr>\n",
       "      <th>1</th>\n",
       "      <td>10.34</td>\n",
       "      <td>1.66</td>\n",
       "      <td>Male</td>\n",
       "      <td>No</td>\n",
       "      <td>Sun</td>\n",
       "      <td>Dinner</td>\n",
       "      <td>3</td>\n",
       "    </tr>\n",
       "    <tr>\n",
       "      <th>2</th>\n",
       "      <td>21.01</td>\n",
       "      <td>3.50</td>\n",
       "      <td>Male</td>\n",
       "      <td>No</td>\n",
       "      <td>Sun</td>\n",
       "      <td>Dinner</td>\n",
       "      <td>3</td>\n",
       "    </tr>\n",
       "    <tr>\n",
       "      <th>3</th>\n",
       "      <td>23.68</td>\n",
       "      <td>3.31</td>\n",
       "      <td>Male</td>\n",
       "      <td>No</td>\n",
       "      <td>Sun</td>\n",
       "      <td>Dinner</td>\n",
       "      <td>2</td>\n",
       "    </tr>\n",
       "    <tr>\n",
       "      <th>4</th>\n",
       "      <td>24.59</td>\n",
       "      <td>3.61</td>\n",
       "      <td>Female</td>\n",
       "      <td>No</td>\n",
       "      <td>Sun</td>\n",
       "      <td>Dinner</td>\n",
       "      <td>4</td>\n",
       "    </tr>\n",
       "  </tbody>\n",
       "</table>\n",
       "</div>"
      ],
      "text/plain": [
       "   total_bill   tip     sex smoker  day    time  size\n",
       "0       16.99  1.01  Female     No  Sun  Dinner     2\n",
       "1       10.34  1.66    Male     No  Sun  Dinner     3\n",
       "2       21.01  3.50    Male     No  Sun  Dinner     3\n",
       "3       23.68  3.31    Male     No  Sun  Dinner     2\n",
       "4       24.59  3.61  Female     No  Sun  Dinner     4"
      ]
     },
     "execution_count": 49,
     "metadata": {},
     "output_type": "execute_result"
    }
   ],
   "source": [
    "df = pd.read_csv(\n",
    "    \"https://raw.githubusercontent.com/plotly/datasets/master/violin_data.csv\"\n",
    ")\n",
    "df.head()"
   ]
  },
  {
   "cell_type": "code",
   "execution_count": 55,
   "metadata": {},
   "outputs": [
    {
     "data": {
      "application/vnd.plotly.v1+json": {
       "config": {
        "plotlyServerURL": "https://plot.ly"
       },
       "data": [
        {
         "legendgroup": "Yes",
         "line": {
          "color": "blue"
         },
         "meanline": {
          "visible": true
         },
         "name": "Yes",
         "scalegroup": "Yes",
         "side": "negative",
         "type": "violin",
         "x": [
          "Sat",
          "Sat",
          "Sat",
          "Sat",
          "Sat",
          "Sat",
          "Sat",
          "Sat",
          "Sat",
          "Sat",
          "Sat",
          "Thur",
          "Thur",
          "Fri",
          "Fri",
          "Fri",
          "Fri",
          "Fri",
          "Fri",
          "Fri",
          "Fri",
          "Fri",
          "Sat",
          "Sat",
          "Sat",
          "Sat",
          "Sat",
          "Sat",
          "Thur",
          "Sun",
          "Sat",
          "Sat",
          "Sat",
          "Sat",
          "Sun",
          "Sun",
          "Sun",
          "Sun",
          "Sun",
          "Sun",
          "Sun",
          "Sun",
          "Sun",
          "Sun",
          "Sun",
          "Sun",
          "Sun",
          "Sun",
          "Sun",
          "Sun",
          "Sun",
          "Sun",
          "Thur",
          "Thur",
          "Thur",
          "Thur",
          "Thur",
          "Thur",
          "Thur",
          "Thur",
          "Thur",
          "Thur",
          "Thur",
          "Thur",
          "Thur",
          "Thur",
          "Sat",
          "Sat",
          "Sat",
          "Sat",
          "Sat",
          "Sat",
          "Sat",
          "Sat",
          "Sat",
          "Sat",
          "Sat",
          "Sat",
          "Sat",
          "Fri",
          "Fri",
          "Fri",
          "Fri",
          "Fri",
          "Fri",
          "Sat",
          "Sat",
          "Sat",
          "Sat",
          "Sat",
          "Sat",
          "Sat",
          "Sat"
         ],
         "y": [
          38.01,
          11.24,
          20.29,
          13.81,
          11.02,
          18.29,
          3.07,
          15.01,
          26.86,
          25.28,
          17.92,
          19.44,
          32.68,
          28.97,
          5.75,
          16.32,
          40.17,
          27.28,
          12.03,
          21.01,
          11.35,
          15.38,
          44.3,
          22.42,
          15.36,
          20.49,
          25.21,
          14.31,
          16,
          17.51,
          10.59,
          10.63,
          50.81,
          15.81,
          7.25,
          31.85,
          16.82,
          32.9,
          17.89,
          14.48,
          9.6,
          34.63,
          34.65,
          23.33,
          45.35,
          23.17,
          40.55,
          20.9,
          30.46,
          18.15,
          23.1,
          15.69,
          19.81,
          28.44,
          15.48,
          16.58,
          10.34,
          43.11,
          13,
          13.51,
          18.71,
          12.74,
          13,
          16.4,
          20.53,
          16.47,
          26.59,
          38.73,
          24.27,
          12.76,
          30.06,
          25.89,
          13.27,
          28.17,
          12.9,
          28.15,
          11.59,
          7.74,
          30.14,
          12.16,
          13.42,
          8.58,
          13.42,
          16.27,
          10.09,
          22.12,
          24.01,
          15.69,
          15.53,
          12.6,
          32.83,
          27.18,
          22.67
         ]
        },
        {
         "legendgroup": "No",
         "line": {
          "color": "orange"
         },
         "meanline": {
          "visible": true
         },
         "name": "No",
         "scalegroup": "No",
         "side": "positive",
         "type": "violin",
         "x": [
          "Sun",
          "Sun",
          "Sun",
          "Sun",
          "Sun",
          "Sun",
          "Sun",
          "Sun",
          "Sun",
          "Sun",
          "Sun",
          "Sun",
          "Sun",
          "Sun",
          "Sun",
          "Sun",
          "Sun",
          "Sun",
          "Sun",
          "Sat",
          "Sat",
          "Sat",
          "Sat",
          "Sat",
          "Sat",
          "Sat",
          "Sat",
          "Sat",
          "Sat",
          "Sat",
          "Sat",
          "Sat",
          "Sat",
          "Sat",
          "Sat",
          "Sat",
          "Sat",
          "Sat",
          "Sat",
          "Sat",
          "Sat",
          "Sun",
          "Sun",
          "Sun",
          "Sun",
          "Sun",
          "Sun",
          "Sun",
          "Sun",
          "Sun",
          "Sun",
          "Sun",
          "Sun",
          "Sun",
          "Sun",
          "Sun",
          "Sat",
          "Sat",
          "Sat",
          "Sat",
          "Sat",
          "Sat",
          "Sat",
          "Sat",
          "Sat",
          "Sat",
          "Thur",
          "Thur",
          "Thur",
          "Thur",
          "Thur",
          "Thur",
          "Thur",
          "Thur",
          "Thur",
          "Thur",
          "Thur",
          "Fri",
          "Fri",
          "Fri",
          "Sat",
          "Sat",
          "Sat",
          "Sat",
          "Sun",
          "Sun",
          "Sun",
          "Sun",
          "Sun",
          "Thur",
          "Thur",
          "Thur",
          "Thur",
          "Thur",
          "Thur",
          "Thur",
          "Thur",
          "Thur",
          "Thur",
          "Thur",
          "Thur",
          "Thur",
          "Thur",
          "Thur",
          "Thur",
          "Thur",
          "Thur",
          "Thur",
          "Thur",
          "Thur",
          "Thur",
          "Thur",
          "Thur",
          "Thur",
          "Thur",
          "Thur",
          "Thur",
          "Thur",
          "Thur",
          "Thur",
          "Thur",
          "Sun",
          "Sun",
          "Sun",
          "Sun",
          "Sun",
          "Sun",
          "Sun",
          "Sun",
          "Sun",
          "Sun",
          "Sun",
          "Sun",
          "Sun",
          "Sun",
          "Sun",
          "Sun",
          "Sun",
          "Sun",
          "Thur",
          "Sat",
          "Fri",
          "Sat",
          "Sat",
          "Sat",
          "Sat",
          "Sat",
          "Sat",
          "Sat",
          "Sat",
          "Thur"
         ],
         "y": [
          16.99,
          10.34,
          21.01,
          23.68,
          24.59,
          25.29,
          8.77,
          26.88,
          15.04,
          14.78,
          10.27,
          35.26,
          15.42,
          18.43,
          14.83,
          21.58,
          10.33,
          16.29,
          16.97,
          20.65,
          17.92,
          20.29,
          15.77,
          39.42,
          19.82,
          17.81,
          13.37,
          12.69,
          21.7,
          19.65,
          9.55,
          18.35,
          15.06,
          20.69,
          17.78,
          24.06,
          16.31,
          16.93,
          18.69,
          31.27,
          16.04,
          17.46,
          13.94,
          9.68,
          30.4,
          18.29,
          22.23,
          32.4,
          28.55,
          18.04,
          12.54,
          10.29,
          34.81,
          9.94,
          25.56,
          19.49,
          26.41,
          48.27,
          17.59,
          20.08,
          16.45,
          20.23,
          12.02,
          17.07,
          14.73,
          10.51,
          27.2,
          22.76,
          17.29,
          16.66,
          10.07,
          15.98,
          34.83,
          13.03,
          18.28,
          24.71,
          21.16,
          22.49,
          22.75,
          12.46,
          20.92,
          18.24,
          14,
          7.25,
          38.07,
          23.95,
          25.71,
          17.31,
          29.93,
          10.65,
          12.43,
          24.08,
          11.69,
          13.42,
          14.26,
          15.95,
          12.48,
          29.8,
          8.52,
          14.52,
          11.38,
          22.82,
          19.08,
          20.27,
          11.17,
          12.26,
          18.26,
          8.51,
          10.33,
          14.15,
          13.16,
          17.47,
          34.3,
          41.19,
          27.05,
          16.43,
          8.35,
          18.64,
          11.87,
          9.78,
          7.51,
          14.07,
          13.13,
          17.26,
          24.55,
          19.77,
          29.85,
          48.17,
          25,
          13.39,
          16.49,
          21.5,
          12.66,
          16.21,
          13.81,
          24.52,
          20.76,
          31.71,
          20.69,
          7.56,
          48.33,
          15.98,
          20.45,
          13.28,
          11.61,
          10.77,
          10.07,
          35.83,
          29.03,
          17.82,
          18.78
         ]
        }
       ],
       "layout": {
        "template": {
         "data": {
          "bar": [
           {
            "error_x": {
             "color": "#2a3f5f"
            },
            "error_y": {
             "color": "#2a3f5f"
            },
            "marker": {
             "line": {
              "color": "#E5ECF6",
              "width": 0.5
             },
             "pattern": {
              "fillmode": "overlay",
              "size": 10,
              "solidity": 0.2
             }
            },
            "type": "bar"
           }
          ],
          "barpolar": [
           {
            "marker": {
             "line": {
              "color": "#E5ECF6",
              "width": 0.5
             },
             "pattern": {
              "fillmode": "overlay",
              "size": 10,
              "solidity": 0.2
             }
            },
            "type": "barpolar"
           }
          ],
          "carpet": [
           {
            "aaxis": {
             "endlinecolor": "#2a3f5f",
             "gridcolor": "white",
             "linecolor": "white",
             "minorgridcolor": "white",
             "startlinecolor": "#2a3f5f"
            },
            "baxis": {
             "endlinecolor": "#2a3f5f",
             "gridcolor": "white",
             "linecolor": "white",
             "minorgridcolor": "white",
             "startlinecolor": "#2a3f5f"
            },
            "type": "carpet"
           }
          ],
          "choropleth": [
           {
            "colorbar": {
             "outlinewidth": 0,
             "ticks": ""
            },
            "type": "choropleth"
           }
          ],
          "contour": [
           {
            "colorbar": {
             "outlinewidth": 0,
             "ticks": ""
            },
            "colorscale": [
             [
              0,
              "#0d0887"
             ],
             [
              0.1111111111111111,
              "#46039f"
             ],
             [
              0.2222222222222222,
              "#7201a8"
             ],
             [
              0.3333333333333333,
              "#9c179e"
             ],
             [
              0.4444444444444444,
              "#bd3786"
             ],
             [
              0.5555555555555556,
              "#d8576b"
             ],
             [
              0.6666666666666666,
              "#ed7953"
             ],
             [
              0.7777777777777778,
              "#fb9f3a"
             ],
             [
              0.8888888888888888,
              "#fdca26"
             ],
             [
              1,
              "#f0f921"
             ]
            ],
            "type": "contour"
           }
          ],
          "contourcarpet": [
           {
            "colorbar": {
             "outlinewidth": 0,
             "ticks": ""
            },
            "type": "contourcarpet"
           }
          ],
          "heatmap": [
           {
            "colorbar": {
             "outlinewidth": 0,
             "ticks": ""
            },
            "colorscale": [
             [
              0,
              "#0d0887"
             ],
             [
              0.1111111111111111,
              "#46039f"
             ],
             [
              0.2222222222222222,
              "#7201a8"
             ],
             [
              0.3333333333333333,
              "#9c179e"
             ],
             [
              0.4444444444444444,
              "#bd3786"
             ],
             [
              0.5555555555555556,
              "#d8576b"
             ],
             [
              0.6666666666666666,
              "#ed7953"
             ],
             [
              0.7777777777777778,
              "#fb9f3a"
             ],
             [
              0.8888888888888888,
              "#fdca26"
             ],
             [
              1,
              "#f0f921"
             ]
            ],
            "type": "heatmap"
           }
          ],
          "heatmapgl": [
           {
            "colorbar": {
             "outlinewidth": 0,
             "ticks": ""
            },
            "colorscale": [
             [
              0,
              "#0d0887"
             ],
             [
              0.1111111111111111,
              "#46039f"
             ],
             [
              0.2222222222222222,
              "#7201a8"
             ],
             [
              0.3333333333333333,
              "#9c179e"
             ],
             [
              0.4444444444444444,
              "#bd3786"
             ],
             [
              0.5555555555555556,
              "#d8576b"
             ],
             [
              0.6666666666666666,
              "#ed7953"
             ],
             [
              0.7777777777777778,
              "#fb9f3a"
             ],
             [
              0.8888888888888888,
              "#fdca26"
             ],
             [
              1,
              "#f0f921"
             ]
            ],
            "type": "heatmapgl"
           }
          ],
          "histogram": [
           {
            "marker": {
             "pattern": {
              "fillmode": "overlay",
              "size": 10,
              "solidity": 0.2
             }
            },
            "type": "histogram"
           }
          ],
          "histogram2d": [
           {
            "colorbar": {
             "outlinewidth": 0,
             "ticks": ""
            },
            "colorscale": [
             [
              0,
              "#0d0887"
             ],
             [
              0.1111111111111111,
              "#46039f"
             ],
             [
              0.2222222222222222,
              "#7201a8"
             ],
             [
              0.3333333333333333,
              "#9c179e"
             ],
             [
              0.4444444444444444,
              "#bd3786"
             ],
             [
              0.5555555555555556,
              "#d8576b"
             ],
             [
              0.6666666666666666,
              "#ed7953"
             ],
             [
              0.7777777777777778,
              "#fb9f3a"
             ],
             [
              0.8888888888888888,
              "#fdca26"
             ],
             [
              1,
              "#f0f921"
             ]
            ],
            "type": "histogram2d"
           }
          ],
          "histogram2dcontour": [
           {
            "colorbar": {
             "outlinewidth": 0,
             "ticks": ""
            },
            "colorscale": [
             [
              0,
              "#0d0887"
             ],
             [
              0.1111111111111111,
              "#46039f"
             ],
             [
              0.2222222222222222,
              "#7201a8"
             ],
             [
              0.3333333333333333,
              "#9c179e"
             ],
             [
              0.4444444444444444,
              "#bd3786"
             ],
             [
              0.5555555555555556,
              "#d8576b"
             ],
             [
              0.6666666666666666,
              "#ed7953"
             ],
             [
              0.7777777777777778,
              "#fb9f3a"
             ],
             [
              0.8888888888888888,
              "#fdca26"
             ],
             [
              1,
              "#f0f921"
             ]
            ],
            "type": "histogram2dcontour"
           }
          ],
          "mesh3d": [
           {
            "colorbar": {
             "outlinewidth": 0,
             "ticks": ""
            },
            "type": "mesh3d"
           }
          ],
          "parcoords": [
           {
            "line": {
             "colorbar": {
              "outlinewidth": 0,
              "ticks": ""
             }
            },
            "type": "parcoords"
           }
          ],
          "pie": [
           {
            "automargin": true,
            "type": "pie"
           }
          ],
          "scatter": [
           {
            "fillpattern": {
             "fillmode": "overlay",
             "size": 10,
             "solidity": 0.2
            },
            "type": "scatter"
           }
          ],
          "scatter3d": [
           {
            "line": {
             "colorbar": {
              "outlinewidth": 0,
              "ticks": ""
             }
            },
            "marker": {
             "colorbar": {
              "outlinewidth": 0,
              "ticks": ""
             }
            },
            "type": "scatter3d"
           }
          ],
          "scattercarpet": [
           {
            "marker": {
             "colorbar": {
              "outlinewidth": 0,
              "ticks": ""
             }
            },
            "type": "scattercarpet"
           }
          ],
          "scattergeo": [
           {
            "marker": {
             "colorbar": {
              "outlinewidth": 0,
              "ticks": ""
             }
            },
            "type": "scattergeo"
           }
          ],
          "scattergl": [
           {
            "marker": {
             "colorbar": {
              "outlinewidth": 0,
              "ticks": ""
             }
            },
            "type": "scattergl"
           }
          ],
          "scattermapbox": [
           {
            "marker": {
             "colorbar": {
              "outlinewidth": 0,
              "ticks": ""
             }
            },
            "type": "scattermapbox"
           }
          ],
          "scatterpolar": [
           {
            "marker": {
             "colorbar": {
              "outlinewidth": 0,
              "ticks": ""
             }
            },
            "type": "scatterpolar"
           }
          ],
          "scatterpolargl": [
           {
            "marker": {
             "colorbar": {
              "outlinewidth": 0,
              "ticks": ""
             }
            },
            "type": "scatterpolargl"
           }
          ],
          "scatterternary": [
           {
            "marker": {
             "colorbar": {
              "outlinewidth": 0,
              "ticks": ""
             }
            },
            "type": "scatterternary"
           }
          ],
          "surface": [
           {
            "colorbar": {
             "outlinewidth": 0,
             "ticks": ""
            },
            "colorscale": [
             [
              0,
              "#0d0887"
             ],
             [
              0.1111111111111111,
              "#46039f"
             ],
             [
              0.2222222222222222,
              "#7201a8"
             ],
             [
              0.3333333333333333,
              "#9c179e"
             ],
             [
              0.4444444444444444,
              "#bd3786"
             ],
             [
              0.5555555555555556,
              "#d8576b"
             ],
             [
              0.6666666666666666,
              "#ed7953"
             ],
             [
              0.7777777777777778,
              "#fb9f3a"
             ],
             [
              0.8888888888888888,
              "#fdca26"
             ],
             [
              1,
              "#f0f921"
             ]
            ],
            "type": "surface"
           }
          ],
          "table": [
           {
            "cells": {
             "fill": {
              "color": "#EBF0F8"
             },
             "line": {
              "color": "white"
             }
            },
            "header": {
             "fill": {
              "color": "#C8D4E3"
             },
             "line": {
              "color": "white"
             }
            },
            "type": "table"
           }
          ]
         },
         "layout": {
          "annotationdefaults": {
           "arrowcolor": "#2a3f5f",
           "arrowhead": 0,
           "arrowwidth": 1
          },
          "autotypenumbers": "strict",
          "coloraxis": {
           "colorbar": {
            "outlinewidth": 0,
            "ticks": ""
           }
          },
          "colorscale": {
           "diverging": [
            [
             0,
             "#8e0152"
            ],
            [
             0.1,
             "#c51b7d"
            ],
            [
             0.2,
             "#de77ae"
            ],
            [
             0.3,
             "#f1b6da"
            ],
            [
             0.4,
             "#fde0ef"
            ],
            [
             0.5,
             "#f7f7f7"
            ],
            [
             0.6,
             "#e6f5d0"
            ],
            [
             0.7,
             "#b8e186"
            ],
            [
             0.8,
             "#7fbc41"
            ],
            [
             0.9,
             "#4d9221"
            ],
            [
             1,
             "#276419"
            ]
           ],
           "sequential": [
            [
             0,
             "#0d0887"
            ],
            [
             0.1111111111111111,
             "#46039f"
            ],
            [
             0.2222222222222222,
             "#7201a8"
            ],
            [
             0.3333333333333333,
             "#9c179e"
            ],
            [
             0.4444444444444444,
             "#bd3786"
            ],
            [
             0.5555555555555556,
             "#d8576b"
            ],
            [
             0.6666666666666666,
             "#ed7953"
            ],
            [
             0.7777777777777778,
             "#fb9f3a"
            ],
            [
             0.8888888888888888,
             "#fdca26"
            ],
            [
             1,
             "#f0f921"
            ]
           ],
           "sequentialminus": [
            [
             0,
             "#0d0887"
            ],
            [
             0.1111111111111111,
             "#46039f"
            ],
            [
             0.2222222222222222,
             "#7201a8"
            ],
            [
             0.3333333333333333,
             "#9c179e"
            ],
            [
             0.4444444444444444,
             "#bd3786"
            ],
            [
             0.5555555555555556,
             "#d8576b"
            ],
            [
             0.6666666666666666,
             "#ed7953"
            ],
            [
             0.7777777777777778,
             "#fb9f3a"
            ],
            [
             0.8888888888888888,
             "#fdca26"
            ],
            [
             1,
             "#f0f921"
            ]
           ]
          },
          "colorway": [
           "#636efa",
           "#EF553B",
           "#00cc96",
           "#ab63fa",
           "#FFA15A",
           "#19d3f3",
           "#FF6692",
           "#B6E880",
           "#FF97FF",
           "#FECB52"
          ],
          "font": {
           "color": "#2a3f5f"
          },
          "geo": {
           "bgcolor": "white",
           "lakecolor": "white",
           "landcolor": "#E5ECF6",
           "showlakes": true,
           "showland": true,
           "subunitcolor": "white"
          },
          "hoverlabel": {
           "align": "left"
          },
          "hovermode": "closest",
          "mapbox": {
           "style": "light"
          },
          "paper_bgcolor": "white",
          "plot_bgcolor": "#E5ECF6",
          "polar": {
           "angularaxis": {
            "gridcolor": "white",
            "linecolor": "white",
            "ticks": ""
           },
           "bgcolor": "#E5ECF6",
           "radialaxis": {
            "gridcolor": "white",
            "linecolor": "white",
            "ticks": ""
           }
          },
          "scene": {
           "xaxis": {
            "backgroundcolor": "#E5ECF6",
            "gridcolor": "white",
            "gridwidth": 2,
            "linecolor": "white",
            "showbackground": true,
            "ticks": "",
            "zerolinecolor": "white"
           },
           "yaxis": {
            "backgroundcolor": "#E5ECF6",
            "gridcolor": "white",
            "gridwidth": 2,
            "linecolor": "white",
            "showbackground": true,
            "ticks": "",
            "zerolinecolor": "white"
           },
           "zaxis": {
            "backgroundcolor": "#E5ECF6",
            "gridcolor": "white",
            "gridwidth": 2,
            "linecolor": "white",
            "showbackground": true,
            "ticks": "",
            "zerolinecolor": "white"
           }
          },
          "shapedefaults": {
           "line": {
            "color": "#2a3f5f"
           }
          },
          "ternary": {
           "aaxis": {
            "gridcolor": "white",
            "linecolor": "white",
            "ticks": ""
           },
           "baxis": {
            "gridcolor": "white",
            "linecolor": "white",
            "ticks": ""
           },
           "bgcolor": "#E5ECF6",
           "caxis": {
            "gridcolor": "white",
            "linecolor": "white",
            "ticks": ""
           }
          },
          "title": {
           "x": 0.05
          },
          "xaxis": {
           "automargin": true,
           "gridcolor": "white",
           "linecolor": "white",
           "ticks": "",
           "title": {
            "standoff": 15
           },
           "zerolinecolor": "white",
           "zerolinewidth": 2
          },
          "yaxis": {
           "automargin": true,
           "gridcolor": "white",
           "linecolor": "white",
           "ticks": "",
           "title": {
            "standoff": 15
           },
           "zerolinecolor": "white",
           "zerolinewidth": 2
          }
         }
        },
        "violingap": 0,
        "violinmode": "overlay"
       }
      }
     },
     "metadata": {},
     "output_type": "display_data"
    }
   ],
   "source": [
    "fig = go.Figure()\n",
    "\n",
    "fig.add_trace(\n",
    "    go.Violin(\n",
    "        x=df[\"day\"][df[\"smoker\"] == \"Yes\"],\n",
    "        y=df[\"total_bill\"][df[\"smoker\"] == \"Yes\"],\n",
    "        legendgroup=\"Yes\",\n",
    "        scalegroup=\"Yes\",\n",
    "        name=\"Yes\",\n",
    "        side=\"negative\",  # 左侧\n",
    "        line_color=\"blue\",\n",
    "    )\n",
    ")\n",
    "fig.add_trace(\n",
    "    go.Violin(\n",
    "        x=df[\"day\"][df[\"smoker\"] == \"No\"],\n",
    "        y=df[\"total_bill\"][df[\"smoker\"] == \"No\"],\n",
    "        legendgroup=\"No\",\n",
    "        scalegroup=\"No\",\n",
    "        name=\"No\",\n",
    "        side=\"positive\",  # 右侧\n",
    "        line_color=\"orange\",\n",
    "    )\n",
    ")\n",
    "fig.update_traces(meanline_visible=True)\n",
    "fig.update_layout(violingap=0, violinmode=\"overlay\")\n",
    "fig.show()"
   ]
  },
  {
   "cell_type": "code",
   "execution_count": 56,
   "metadata": {},
   "outputs": [
    {
     "data": {
      "application/vnd.plotly.v1+json": {
       "config": {
        "plotlyServerURL": "https://plot.ly"
       },
       "data": [
        {
         "legendgroup": "Yes",
         "line": {
          "color": "blue"
         },
         "meanline": {
          "visible": true
         },
         "name": "Yes",
         "scalegroup": "Yes",
         "type": "violin",
         "x": [
          "Sat",
          "Sat",
          "Sat",
          "Sat",
          "Sat",
          "Sat",
          "Sat",
          "Sat",
          "Sat",
          "Sat",
          "Sat",
          "Thur",
          "Thur",
          "Fri",
          "Fri",
          "Fri",
          "Fri",
          "Fri",
          "Fri",
          "Fri",
          "Fri",
          "Fri",
          "Sat",
          "Sat",
          "Sat",
          "Sat",
          "Sat",
          "Sat",
          "Thur",
          "Sun",
          "Sat",
          "Sat",
          "Sat",
          "Sat",
          "Sun",
          "Sun",
          "Sun",
          "Sun",
          "Sun",
          "Sun",
          "Sun",
          "Sun",
          "Sun",
          "Sun",
          "Sun",
          "Sun",
          "Sun",
          "Sun",
          "Sun",
          "Sun",
          "Sun",
          "Sun",
          "Thur",
          "Thur",
          "Thur",
          "Thur",
          "Thur",
          "Thur",
          "Thur",
          "Thur",
          "Thur",
          "Thur",
          "Thur",
          "Thur",
          "Thur",
          "Thur",
          "Sat",
          "Sat",
          "Sat",
          "Sat",
          "Sat",
          "Sat",
          "Sat",
          "Sat",
          "Sat",
          "Sat",
          "Sat",
          "Sat",
          "Sat",
          "Fri",
          "Fri",
          "Fri",
          "Fri",
          "Fri",
          "Fri",
          "Sat",
          "Sat",
          "Sat",
          "Sat",
          "Sat",
          "Sat",
          "Sat",
          "Sat"
         ],
         "y": [
          38.01,
          11.24,
          20.29,
          13.81,
          11.02,
          18.29,
          3.07,
          15.01,
          26.86,
          25.28,
          17.92,
          19.44,
          32.68,
          28.97,
          5.75,
          16.32,
          40.17,
          27.28,
          12.03,
          21.01,
          11.35,
          15.38,
          44.3,
          22.42,
          15.36,
          20.49,
          25.21,
          14.31,
          16,
          17.51,
          10.59,
          10.63,
          50.81,
          15.81,
          7.25,
          31.85,
          16.82,
          32.9,
          17.89,
          14.48,
          9.6,
          34.63,
          34.65,
          23.33,
          45.35,
          23.17,
          40.55,
          20.9,
          30.46,
          18.15,
          23.1,
          15.69,
          19.81,
          28.44,
          15.48,
          16.58,
          10.34,
          43.11,
          13,
          13.51,
          18.71,
          12.74,
          13,
          16.4,
          20.53,
          16.47,
          26.59,
          38.73,
          24.27,
          12.76,
          30.06,
          25.89,
          13.27,
          28.17,
          12.9,
          28.15,
          11.59,
          7.74,
          30.14,
          12.16,
          13.42,
          8.58,
          13.42,
          16.27,
          10.09,
          22.12,
          24.01,
          15.69,
          15.53,
          12.6,
          32.83,
          27.18,
          22.67
         ]
        },
        {
         "legendgroup": "No",
         "line": {
          "color": "orange"
         },
         "meanline": {
          "visible": true
         },
         "name": "No",
         "scalegroup": "No",
         "type": "violin",
         "x": [
          "Sun",
          "Sun",
          "Sun",
          "Sun",
          "Sun",
          "Sun",
          "Sun",
          "Sun",
          "Sun",
          "Sun",
          "Sun",
          "Sun",
          "Sun",
          "Sun",
          "Sun",
          "Sun",
          "Sun",
          "Sun",
          "Sun",
          "Sat",
          "Sat",
          "Sat",
          "Sat",
          "Sat",
          "Sat",
          "Sat",
          "Sat",
          "Sat",
          "Sat",
          "Sat",
          "Sat",
          "Sat",
          "Sat",
          "Sat",
          "Sat",
          "Sat",
          "Sat",
          "Sat",
          "Sat",
          "Sat",
          "Sat",
          "Sun",
          "Sun",
          "Sun",
          "Sun",
          "Sun",
          "Sun",
          "Sun",
          "Sun",
          "Sun",
          "Sun",
          "Sun",
          "Sun",
          "Sun",
          "Sun",
          "Sun",
          "Sat",
          "Sat",
          "Sat",
          "Sat",
          "Sat",
          "Sat",
          "Sat",
          "Sat",
          "Sat",
          "Sat",
          "Thur",
          "Thur",
          "Thur",
          "Thur",
          "Thur",
          "Thur",
          "Thur",
          "Thur",
          "Thur",
          "Thur",
          "Thur",
          "Fri",
          "Fri",
          "Fri",
          "Sat",
          "Sat",
          "Sat",
          "Sat",
          "Sun",
          "Sun",
          "Sun",
          "Sun",
          "Sun",
          "Thur",
          "Thur",
          "Thur",
          "Thur",
          "Thur",
          "Thur",
          "Thur",
          "Thur",
          "Thur",
          "Thur",
          "Thur",
          "Thur",
          "Thur",
          "Thur",
          "Thur",
          "Thur",
          "Thur",
          "Thur",
          "Thur",
          "Thur",
          "Thur",
          "Thur",
          "Thur",
          "Thur",
          "Thur",
          "Thur",
          "Thur",
          "Thur",
          "Thur",
          "Thur",
          "Thur",
          "Thur",
          "Sun",
          "Sun",
          "Sun",
          "Sun",
          "Sun",
          "Sun",
          "Sun",
          "Sun",
          "Sun",
          "Sun",
          "Sun",
          "Sun",
          "Sun",
          "Sun",
          "Sun",
          "Sun",
          "Sun",
          "Sun",
          "Thur",
          "Sat",
          "Fri",
          "Sat",
          "Sat",
          "Sat",
          "Sat",
          "Sat",
          "Sat",
          "Sat",
          "Sat",
          "Thur"
         ],
         "y": [
          16.99,
          10.34,
          21.01,
          23.68,
          24.59,
          25.29,
          8.77,
          26.88,
          15.04,
          14.78,
          10.27,
          35.26,
          15.42,
          18.43,
          14.83,
          21.58,
          10.33,
          16.29,
          16.97,
          20.65,
          17.92,
          20.29,
          15.77,
          39.42,
          19.82,
          17.81,
          13.37,
          12.69,
          21.7,
          19.65,
          9.55,
          18.35,
          15.06,
          20.69,
          17.78,
          24.06,
          16.31,
          16.93,
          18.69,
          31.27,
          16.04,
          17.46,
          13.94,
          9.68,
          30.4,
          18.29,
          22.23,
          32.4,
          28.55,
          18.04,
          12.54,
          10.29,
          34.81,
          9.94,
          25.56,
          19.49,
          26.41,
          48.27,
          17.59,
          20.08,
          16.45,
          20.23,
          12.02,
          17.07,
          14.73,
          10.51,
          27.2,
          22.76,
          17.29,
          16.66,
          10.07,
          15.98,
          34.83,
          13.03,
          18.28,
          24.71,
          21.16,
          22.49,
          22.75,
          12.46,
          20.92,
          18.24,
          14,
          7.25,
          38.07,
          23.95,
          25.71,
          17.31,
          29.93,
          10.65,
          12.43,
          24.08,
          11.69,
          13.42,
          14.26,
          15.95,
          12.48,
          29.8,
          8.52,
          14.52,
          11.38,
          22.82,
          19.08,
          20.27,
          11.17,
          12.26,
          18.26,
          8.51,
          10.33,
          14.15,
          13.16,
          17.47,
          34.3,
          41.19,
          27.05,
          16.43,
          8.35,
          18.64,
          11.87,
          9.78,
          7.51,
          14.07,
          13.13,
          17.26,
          24.55,
          19.77,
          29.85,
          48.17,
          25,
          13.39,
          16.49,
          21.5,
          12.66,
          16.21,
          13.81,
          24.52,
          20.76,
          31.71,
          20.69,
          7.56,
          48.33,
          15.98,
          20.45,
          13.28,
          11.61,
          10.77,
          10.07,
          35.83,
          29.03,
          17.82,
          18.78
         ]
        }
       ],
       "layout": {
        "template": {
         "data": {
          "bar": [
           {
            "error_x": {
             "color": "#2a3f5f"
            },
            "error_y": {
             "color": "#2a3f5f"
            },
            "marker": {
             "line": {
              "color": "#E5ECF6",
              "width": 0.5
             },
             "pattern": {
              "fillmode": "overlay",
              "size": 10,
              "solidity": 0.2
             }
            },
            "type": "bar"
           }
          ],
          "barpolar": [
           {
            "marker": {
             "line": {
              "color": "#E5ECF6",
              "width": 0.5
             },
             "pattern": {
              "fillmode": "overlay",
              "size": 10,
              "solidity": 0.2
             }
            },
            "type": "barpolar"
           }
          ],
          "carpet": [
           {
            "aaxis": {
             "endlinecolor": "#2a3f5f",
             "gridcolor": "white",
             "linecolor": "white",
             "minorgridcolor": "white",
             "startlinecolor": "#2a3f5f"
            },
            "baxis": {
             "endlinecolor": "#2a3f5f",
             "gridcolor": "white",
             "linecolor": "white",
             "minorgridcolor": "white",
             "startlinecolor": "#2a3f5f"
            },
            "type": "carpet"
           }
          ],
          "choropleth": [
           {
            "colorbar": {
             "outlinewidth": 0,
             "ticks": ""
            },
            "type": "choropleth"
           }
          ],
          "contour": [
           {
            "colorbar": {
             "outlinewidth": 0,
             "ticks": ""
            },
            "colorscale": [
             [
              0,
              "#0d0887"
             ],
             [
              0.1111111111111111,
              "#46039f"
             ],
             [
              0.2222222222222222,
              "#7201a8"
             ],
             [
              0.3333333333333333,
              "#9c179e"
             ],
             [
              0.4444444444444444,
              "#bd3786"
             ],
             [
              0.5555555555555556,
              "#d8576b"
             ],
             [
              0.6666666666666666,
              "#ed7953"
             ],
             [
              0.7777777777777778,
              "#fb9f3a"
             ],
             [
              0.8888888888888888,
              "#fdca26"
             ],
             [
              1,
              "#f0f921"
             ]
            ],
            "type": "contour"
           }
          ],
          "contourcarpet": [
           {
            "colorbar": {
             "outlinewidth": 0,
             "ticks": ""
            },
            "type": "contourcarpet"
           }
          ],
          "heatmap": [
           {
            "colorbar": {
             "outlinewidth": 0,
             "ticks": ""
            },
            "colorscale": [
             [
              0,
              "#0d0887"
             ],
             [
              0.1111111111111111,
              "#46039f"
             ],
             [
              0.2222222222222222,
              "#7201a8"
             ],
             [
              0.3333333333333333,
              "#9c179e"
             ],
             [
              0.4444444444444444,
              "#bd3786"
             ],
             [
              0.5555555555555556,
              "#d8576b"
             ],
             [
              0.6666666666666666,
              "#ed7953"
             ],
             [
              0.7777777777777778,
              "#fb9f3a"
             ],
             [
              0.8888888888888888,
              "#fdca26"
             ],
             [
              1,
              "#f0f921"
             ]
            ],
            "type": "heatmap"
           }
          ],
          "heatmapgl": [
           {
            "colorbar": {
             "outlinewidth": 0,
             "ticks": ""
            },
            "colorscale": [
             [
              0,
              "#0d0887"
             ],
             [
              0.1111111111111111,
              "#46039f"
             ],
             [
              0.2222222222222222,
              "#7201a8"
             ],
             [
              0.3333333333333333,
              "#9c179e"
             ],
             [
              0.4444444444444444,
              "#bd3786"
             ],
             [
              0.5555555555555556,
              "#d8576b"
             ],
             [
              0.6666666666666666,
              "#ed7953"
             ],
             [
              0.7777777777777778,
              "#fb9f3a"
             ],
             [
              0.8888888888888888,
              "#fdca26"
             ],
             [
              1,
              "#f0f921"
             ]
            ],
            "type": "heatmapgl"
           }
          ],
          "histogram": [
           {
            "marker": {
             "pattern": {
              "fillmode": "overlay",
              "size": 10,
              "solidity": 0.2
             }
            },
            "type": "histogram"
           }
          ],
          "histogram2d": [
           {
            "colorbar": {
             "outlinewidth": 0,
             "ticks": ""
            },
            "colorscale": [
             [
              0,
              "#0d0887"
             ],
             [
              0.1111111111111111,
              "#46039f"
             ],
             [
              0.2222222222222222,
              "#7201a8"
             ],
             [
              0.3333333333333333,
              "#9c179e"
             ],
             [
              0.4444444444444444,
              "#bd3786"
             ],
             [
              0.5555555555555556,
              "#d8576b"
             ],
             [
              0.6666666666666666,
              "#ed7953"
             ],
             [
              0.7777777777777778,
              "#fb9f3a"
             ],
             [
              0.8888888888888888,
              "#fdca26"
             ],
             [
              1,
              "#f0f921"
             ]
            ],
            "type": "histogram2d"
           }
          ],
          "histogram2dcontour": [
           {
            "colorbar": {
             "outlinewidth": 0,
             "ticks": ""
            },
            "colorscale": [
             [
              0,
              "#0d0887"
             ],
             [
              0.1111111111111111,
              "#46039f"
             ],
             [
              0.2222222222222222,
              "#7201a8"
             ],
             [
              0.3333333333333333,
              "#9c179e"
             ],
             [
              0.4444444444444444,
              "#bd3786"
             ],
             [
              0.5555555555555556,
              "#d8576b"
             ],
             [
              0.6666666666666666,
              "#ed7953"
             ],
             [
              0.7777777777777778,
              "#fb9f3a"
             ],
             [
              0.8888888888888888,
              "#fdca26"
             ],
             [
              1,
              "#f0f921"
             ]
            ],
            "type": "histogram2dcontour"
           }
          ],
          "mesh3d": [
           {
            "colorbar": {
             "outlinewidth": 0,
             "ticks": ""
            },
            "type": "mesh3d"
           }
          ],
          "parcoords": [
           {
            "line": {
             "colorbar": {
              "outlinewidth": 0,
              "ticks": ""
             }
            },
            "type": "parcoords"
           }
          ],
          "pie": [
           {
            "automargin": true,
            "type": "pie"
           }
          ],
          "scatter": [
           {
            "fillpattern": {
             "fillmode": "overlay",
             "size": 10,
             "solidity": 0.2
            },
            "type": "scatter"
           }
          ],
          "scatter3d": [
           {
            "line": {
             "colorbar": {
              "outlinewidth": 0,
              "ticks": ""
             }
            },
            "marker": {
             "colorbar": {
              "outlinewidth": 0,
              "ticks": ""
             }
            },
            "type": "scatter3d"
           }
          ],
          "scattercarpet": [
           {
            "marker": {
             "colorbar": {
              "outlinewidth": 0,
              "ticks": ""
             }
            },
            "type": "scattercarpet"
           }
          ],
          "scattergeo": [
           {
            "marker": {
             "colorbar": {
              "outlinewidth": 0,
              "ticks": ""
             }
            },
            "type": "scattergeo"
           }
          ],
          "scattergl": [
           {
            "marker": {
             "colorbar": {
              "outlinewidth": 0,
              "ticks": ""
             }
            },
            "type": "scattergl"
           }
          ],
          "scattermapbox": [
           {
            "marker": {
             "colorbar": {
              "outlinewidth": 0,
              "ticks": ""
             }
            },
            "type": "scattermapbox"
           }
          ],
          "scatterpolar": [
           {
            "marker": {
             "colorbar": {
              "outlinewidth": 0,
              "ticks": ""
             }
            },
            "type": "scatterpolar"
           }
          ],
          "scatterpolargl": [
           {
            "marker": {
             "colorbar": {
              "outlinewidth": 0,
              "ticks": ""
             }
            },
            "type": "scatterpolargl"
           }
          ],
          "scatterternary": [
           {
            "marker": {
             "colorbar": {
              "outlinewidth": 0,
              "ticks": ""
             }
            },
            "type": "scatterternary"
           }
          ],
          "surface": [
           {
            "colorbar": {
             "outlinewidth": 0,
             "ticks": ""
            },
            "colorscale": [
             [
              0,
              "#0d0887"
             ],
             [
              0.1111111111111111,
              "#46039f"
             ],
             [
              0.2222222222222222,
              "#7201a8"
             ],
             [
              0.3333333333333333,
              "#9c179e"
             ],
             [
              0.4444444444444444,
              "#bd3786"
             ],
             [
              0.5555555555555556,
              "#d8576b"
             ],
             [
              0.6666666666666666,
              "#ed7953"
             ],
             [
              0.7777777777777778,
              "#fb9f3a"
             ],
             [
              0.8888888888888888,
              "#fdca26"
             ],
             [
              1,
              "#f0f921"
             ]
            ],
            "type": "surface"
           }
          ],
          "table": [
           {
            "cells": {
             "fill": {
              "color": "#EBF0F8"
             },
             "line": {
              "color": "white"
             }
            },
            "header": {
             "fill": {
              "color": "#C8D4E3"
             },
             "line": {
              "color": "white"
             }
            },
            "type": "table"
           }
          ]
         },
         "layout": {
          "annotationdefaults": {
           "arrowcolor": "#2a3f5f",
           "arrowhead": 0,
           "arrowwidth": 1
          },
          "autotypenumbers": "strict",
          "coloraxis": {
           "colorbar": {
            "outlinewidth": 0,
            "ticks": ""
           }
          },
          "colorscale": {
           "diverging": [
            [
             0,
             "#8e0152"
            ],
            [
             0.1,
             "#c51b7d"
            ],
            [
             0.2,
             "#de77ae"
            ],
            [
             0.3,
             "#f1b6da"
            ],
            [
             0.4,
             "#fde0ef"
            ],
            [
             0.5,
             "#f7f7f7"
            ],
            [
             0.6,
             "#e6f5d0"
            ],
            [
             0.7,
             "#b8e186"
            ],
            [
             0.8,
             "#7fbc41"
            ],
            [
             0.9,
             "#4d9221"
            ],
            [
             1,
             "#276419"
            ]
           ],
           "sequential": [
            [
             0,
             "#0d0887"
            ],
            [
             0.1111111111111111,
             "#46039f"
            ],
            [
             0.2222222222222222,
             "#7201a8"
            ],
            [
             0.3333333333333333,
             "#9c179e"
            ],
            [
             0.4444444444444444,
             "#bd3786"
            ],
            [
             0.5555555555555556,
             "#d8576b"
            ],
            [
             0.6666666666666666,
             "#ed7953"
            ],
            [
             0.7777777777777778,
             "#fb9f3a"
            ],
            [
             0.8888888888888888,
             "#fdca26"
            ],
            [
             1,
             "#f0f921"
            ]
           ],
           "sequentialminus": [
            [
             0,
             "#0d0887"
            ],
            [
             0.1111111111111111,
             "#46039f"
            ],
            [
             0.2222222222222222,
             "#7201a8"
            ],
            [
             0.3333333333333333,
             "#9c179e"
            ],
            [
             0.4444444444444444,
             "#bd3786"
            ],
            [
             0.5555555555555556,
             "#d8576b"
            ],
            [
             0.6666666666666666,
             "#ed7953"
            ],
            [
             0.7777777777777778,
             "#fb9f3a"
            ],
            [
             0.8888888888888888,
             "#fdca26"
            ],
            [
             1,
             "#f0f921"
            ]
           ]
          },
          "colorway": [
           "#636efa",
           "#EF553B",
           "#00cc96",
           "#ab63fa",
           "#FFA15A",
           "#19d3f3",
           "#FF6692",
           "#B6E880",
           "#FF97FF",
           "#FECB52"
          ],
          "font": {
           "color": "#2a3f5f"
          },
          "geo": {
           "bgcolor": "white",
           "lakecolor": "white",
           "landcolor": "#E5ECF6",
           "showlakes": true,
           "showland": true,
           "subunitcolor": "white"
          },
          "hoverlabel": {
           "align": "left"
          },
          "hovermode": "closest",
          "mapbox": {
           "style": "light"
          },
          "paper_bgcolor": "white",
          "plot_bgcolor": "#E5ECF6",
          "polar": {
           "angularaxis": {
            "gridcolor": "white",
            "linecolor": "white",
            "ticks": ""
           },
           "bgcolor": "#E5ECF6",
           "radialaxis": {
            "gridcolor": "white",
            "linecolor": "white",
            "ticks": ""
           }
          },
          "scene": {
           "xaxis": {
            "backgroundcolor": "#E5ECF6",
            "gridcolor": "white",
            "gridwidth": 2,
            "linecolor": "white",
            "showbackground": true,
            "ticks": "",
            "zerolinecolor": "white"
           },
           "yaxis": {
            "backgroundcolor": "#E5ECF6",
            "gridcolor": "white",
            "gridwidth": 2,
            "linecolor": "white",
            "showbackground": true,
            "ticks": "",
            "zerolinecolor": "white"
           },
           "zaxis": {
            "backgroundcolor": "#E5ECF6",
            "gridcolor": "white",
            "gridwidth": 2,
            "linecolor": "white",
            "showbackground": true,
            "ticks": "",
            "zerolinecolor": "white"
           }
          },
          "shapedefaults": {
           "line": {
            "color": "#2a3f5f"
           }
          },
          "ternary": {
           "aaxis": {
            "gridcolor": "white",
            "linecolor": "white",
            "ticks": ""
           },
           "baxis": {
            "gridcolor": "white",
            "linecolor": "white",
            "ticks": ""
           },
           "bgcolor": "#E5ECF6",
           "caxis": {
            "gridcolor": "white",
            "linecolor": "white",
            "ticks": ""
           }
          },
          "title": {
           "x": 0.05
          },
          "xaxis": {
           "automargin": true,
           "gridcolor": "white",
           "linecolor": "white",
           "ticks": "",
           "title": {
            "standoff": 15
           },
           "zerolinecolor": "white",
           "zerolinewidth": 2
          },
          "yaxis": {
           "automargin": true,
           "gridcolor": "white",
           "linecolor": "white",
           "ticks": "",
           "title": {
            "standoff": 15
           },
           "zerolinecolor": "white",
           "zerolinewidth": 2
          }
         }
        },
        "violingap": 0,
        "violinmode": "overlay"
       }
      }
     },
     "metadata": {},
     "output_type": "display_data"
    }
   ],
   "source": [
    "fig = go.Figure()\n",
    "\n",
    "fig.add_trace(\n",
    "    go.Violin(\n",
    "        x=df[\"day\"][df[\"smoker\"] == \"Yes\"],\n",
    "        y=df[\"total_bill\"][df[\"smoker\"] == \"Yes\"],\n",
    "        legendgroup=\"Yes\",\n",
    "        scalegroup=\"Yes\",\n",
    "        name=\"Yes\",\n",
    "        # side='negative',    # 左侧\n",
    "        line_color=\"blue\",\n",
    "    )\n",
    ")\n",
    "fig.add_trace(\n",
    "    go.Violin(\n",
    "        x=df[\"day\"][df[\"smoker\"] == \"No\"],\n",
    "        y=df[\"total_bill\"][df[\"smoker\"] == \"No\"],\n",
    "        legendgroup=\"No\",\n",
    "        scalegroup=\"No\",\n",
    "        name=\"No\",\n",
    "        # side='positive',    # 右侧\n",
    "        line_color=\"orange\",\n",
    "    )\n",
    ")\n",
    "fig.update_traces(meanline_visible=True)\n",
    "fig.update_layout(violingap=0, violinmode=\"overlay\")\n",
    "fig.show()"
   ]
  },
  {
   "cell_type": "markdown",
   "metadata": {},
   "source": [
    "## Advanced Violin Plot"
   ]
  },
  {
   "cell_type": "code",
   "execution_count": 57,
   "metadata": {},
   "outputs": [
    {
     "data": {
      "text/html": [
       "<div>\n",
       "<style scoped>\n",
       "    .dataframe tbody tr th:only-of-type {\n",
       "        vertical-align: middle;\n",
       "    }\n",
       "\n",
       "    .dataframe tbody tr th {\n",
       "        vertical-align: top;\n",
       "    }\n",
       "\n",
       "    .dataframe thead th {\n",
       "        text-align: right;\n",
       "    }\n",
       "</style>\n",
       "<table border=\"1\" class=\"dataframe\">\n",
       "  <thead>\n",
       "    <tr style=\"text-align: right;\">\n",
       "      <th></th>\n",
       "      <th>total_bill</th>\n",
       "      <th>tip</th>\n",
       "      <th>sex</th>\n",
       "      <th>smoker</th>\n",
       "      <th>day</th>\n",
       "      <th>time</th>\n",
       "      <th>size</th>\n",
       "    </tr>\n",
       "  </thead>\n",
       "  <tbody>\n",
       "    <tr>\n",
       "      <th>0</th>\n",
       "      <td>16.99</td>\n",
       "      <td>1.01</td>\n",
       "      <td>Female</td>\n",
       "      <td>No</td>\n",
       "      <td>Sun</td>\n",
       "      <td>Dinner</td>\n",
       "      <td>2</td>\n",
       "    </tr>\n",
       "    <tr>\n",
       "      <th>1</th>\n",
       "      <td>10.34</td>\n",
       "      <td>1.66</td>\n",
       "      <td>Male</td>\n",
       "      <td>No</td>\n",
       "      <td>Sun</td>\n",
       "      <td>Dinner</td>\n",
       "      <td>3</td>\n",
       "    </tr>\n",
       "    <tr>\n",
       "      <th>2</th>\n",
       "      <td>21.01</td>\n",
       "      <td>3.50</td>\n",
       "      <td>Male</td>\n",
       "      <td>No</td>\n",
       "      <td>Sun</td>\n",
       "      <td>Dinner</td>\n",
       "      <td>3</td>\n",
       "    </tr>\n",
       "    <tr>\n",
       "      <th>3</th>\n",
       "      <td>23.68</td>\n",
       "      <td>3.31</td>\n",
       "      <td>Male</td>\n",
       "      <td>No</td>\n",
       "      <td>Sun</td>\n",
       "      <td>Dinner</td>\n",
       "      <td>2</td>\n",
       "    </tr>\n",
       "    <tr>\n",
       "      <th>4</th>\n",
       "      <td>24.59</td>\n",
       "      <td>3.61</td>\n",
       "      <td>Female</td>\n",
       "      <td>No</td>\n",
       "      <td>Sun</td>\n",
       "      <td>Dinner</td>\n",
       "      <td>4</td>\n",
       "    </tr>\n",
       "  </tbody>\n",
       "</table>\n",
       "</div>"
      ],
      "text/plain": [
       "   total_bill   tip     sex smoker  day    time  size\n",
       "0       16.99  1.01  Female     No  Sun  Dinner     2\n",
       "1       10.34  1.66    Male     No  Sun  Dinner     3\n",
       "2       21.01  3.50    Male     No  Sun  Dinner     3\n",
       "3       23.68  3.31    Male     No  Sun  Dinner     2\n",
       "4       24.59  3.61  Female     No  Sun  Dinner     4"
      ]
     },
     "execution_count": 57,
     "metadata": {},
     "output_type": "execute_result"
    }
   ],
   "source": [
    "df = pd.read_csv(\n",
    "    \"https://raw.githubusercontent.com/plotly/datasets/master/violin_data.csv\"\n",
    ")\n",
    "df.head()"
   ]
  },
  {
   "cell_type": "code",
   "execution_count": 58,
   "metadata": {},
   "outputs": [
    {
     "data": {
      "application/vnd.plotly.v1+json": {
       "config": {
        "plotlyServerURL": "https://plot.ly"
       },
       "data": [
        {
         "jitter": 0.05,
         "legendgroup": "M",
         "line": {
          "color": "lightseagreen"
         },
         "meanline": {
          "visible": true
         },
         "name": "M",
         "pointpos": -0.9,
         "points": "all",
         "scalegroup": "M",
         "scalemode": "count",
         "showlegend": true,
         "side": "negative",
         "type": "violin",
         "x": [
          "Sun",
          "Sun",
          "Sun",
          "Sun",
          "Sun",
          "Sun",
          "Sun",
          "Sun",
          "Sun",
          "Sun",
          "Sun",
          "Sun",
          "Sun",
          "Sun",
          "Sun",
          "Sun",
          "Sun",
          "Sun",
          "Sun",
          "Sun",
          "Sun",
          "Sun",
          "Sun",
          "Sun",
          "Sun",
          "Sun",
          "Sun",
          "Sun",
          "Sun",
          "Sun",
          "Sun",
          "Sun",
          "Sun",
          "Sun",
          "Sun",
          "Sun",
          "Sun",
          "Sun",
          "Sun",
          "Sun",
          "Sun",
          "Sun",
          "Sun",
          "Sun",
          "Sun",
          "Sun",
          "Sun",
          "Sun",
          "Sun",
          "Sun",
          "Sun",
          "Sun",
          "Sun",
          "Sun",
          "Sun",
          "Sun",
          "Sun",
          "Sun"
         ],
         "y": [
          10.34,
          21.01,
          23.68,
          25.29,
          8.77,
          26.88,
          15.04,
          14.78,
          10.27,
          15.42,
          18.43,
          21.58,
          16.29,
          17.46,
          13.94,
          9.68,
          30.4,
          18.29,
          22.23,
          32.4,
          28.55,
          18.04,
          12.54,
          9.94,
          25.56,
          19.49,
          38.07,
          23.95,
          29.93,
          14.07,
          13.13,
          17.26,
          24.55,
          19.77,
          48.17,
          16.49,
          21.5,
          12.66,
          13.81,
          24.52,
          20.76,
          31.71,
          7.25,
          31.85,
          16.82,
          32.9,
          17.89,
          14.48,
          34.63,
          34.65,
          23.33,
          45.35,
          23.17,
          40.55,
          20.69,
          30.46,
          23.1,
          15.69
         ]
        },
        {
         "jitter": 0.05,
         "legendgroup": "F",
         "line": {
          "color": "mediumpurple"
         },
         "meanline": {
          "visible": true
         },
         "name": "F",
         "pointpos": 0.45,
         "points": "all",
         "scalegroup": "F",
         "scalemode": "count",
         "showlegend": true,
         "side": "positive",
         "type": "violin",
         "x": [
          "Sun",
          "Sun",
          "Sun",
          "Sun",
          "Sun",
          "Sun",
          "Sun",
          "Sun",
          "Sun",
          "Sun",
          "Sun",
          "Sun",
          "Sun",
          "Sun",
          "Sun",
          "Sun",
          "Sun",
          "Sun"
         ],
         "y": [
          16.99,
          24.59,
          35.26,
          14.83,
          10.33,
          16.97,
          10.29,
          34.81,
          25.71,
          17.31,
          29.85,
          25,
          13.39,
          16.21,
          17.51,
          9.6,
          20.9,
          18.15
         ]
        },
        {
         "jitter": 0.05,
         "legendgroup": "M",
         "line": {
          "color": "lightseagreen"
         },
         "meanline": {
          "visible": true
         },
         "name": "M",
         "pointpos": -1.1,
         "points": "all",
         "scalegroup": "M",
         "scalemode": "count",
         "showlegend": false,
         "side": "negative",
         "type": "violin",
         "x": [
          "Sat",
          "Sat",
          "Sat",
          "Sat",
          "Sat",
          "Sat",
          "Sat",
          "Sat",
          "Sat",
          "Sat",
          "Sat",
          "Sat",
          "Sat",
          "Sat",
          "Sat",
          "Sat",
          "Sat",
          "Sat",
          "Sat",
          "Sat",
          "Sat",
          "Sat",
          "Sat",
          "Sat",
          "Sat",
          "Sat",
          "Sat",
          "Sat",
          "Sat",
          "Sat",
          "Sat",
          "Sat",
          "Sat",
          "Sat",
          "Sat",
          "Sat",
          "Sat",
          "Sat",
          "Sat",
          "Sat",
          "Sat",
          "Sat",
          "Sat",
          "Sat",
          "Sat",
          "Sat",
          "Sat",
          "Sat",
          "Sat",
          "Sat",
          "Sat",
          "Sat",
          "Sat",
          "Sat",
          "Sat",
          "Sat",
          "Sat",
          "Sat",
          "Sat"
         ],
         "y": [
          20.65,
          17.92,
          39.42,
          19.82,
          17.81,
          13.37,
          12.69,
          21.7,
          9.55,
          18.35,
          17.78,
          24.06,
          16.31,
          18.69,
          31.27,
          16.04,
          38.01,
          11.24,
          48.27,
          20.29,
          13.81,
          11.02,
          18.29,
          17.59,
          20.08,
          20.23,
          15.01,
          12.02,
          10.51,
          17.92,
          15.36,
          20.49,
          25.21,
          18.24,
          14,
          50.81,
          15.81,
          26.59,
          38.73,
          24.27,
          30.06,
          25.89,
          48.33,
          28.15,
          11.59,
          7.74,
          20.45,
          13.28,
          24.01,
          15.69,
          11.61,
          10.77,
          15.53,
          10.07,
          12.6,
          32.83,
          29.03,
          22.67,
          17.82
         ]
        },
        {
         "jitter": 0.05,
         "legendgroup": "F",
         "line": {
          "color": "mediumpurple"
         },
         "meanline": {
          "visible": true
         },
         "name": "F",
         "pointpos": 0.55,
         "points": "all",
         "scalegroup": "F",
         "scalemode": "count",
         "showlegend": false,
         "side": "positive",
         "type": "violin",
         "x": [
          "Sat",
          "Sat",
          "Sat",
          "Sat",
          "Sat",
          "Sat",
          "Sat",
          "Sat",
          "Sat",
          "Sat",
          "Sat",
          "Sat",
          "Sat",
          "Sat",
          "Sat",
          "Sat",
          "Sat",
          "Sat",
          "Sat",
          "Sat",
          "Sat",
          "Sat",
          "Sat",
          "Sat",
          "Sat",
          "Sat",
          "Sat",
          "Sat"
         ],
         "y": [
          20.29,
          15.77,
          19.65,
          15.06,
          20.69,
          16.93,
          26.41,
          16.45,
          3.07,
          17.07,
          26.86,
          25.28,
          14.73,
          44.3,
          22.42,
          20.92,
          14.31,
          7.25,
          10.59,
          10.63,
          12.76,
          13.27,
          28.17,
          12.9,
          30.14,
          22.12,
          35.83,
          27.18
         ]
        },
        {
         "jitter": 0.05,
         "legendgroup": "M",
         "line": {
          "color": "lightseagreen"
         },
         "meanline": {
          "visible": true
         },
         "name": "M",
         "pointpos": -0.6,
         "points": "all",
         "scalegroup": "M",
         "scalemode": "count",
         "showlegend": false,
         "side": "negative",
         "type": "violin",
         "x": [
          "Thur",
          "Thur",
          "Thur",
          "Thur",
          "Thur",
          "Thur",
          "Thur",
          "Thur",
          "Thur",
          "Thur",
          "Thur",
          "Thur",
          "Thur",
          "Thur",
          "Thur",
          "Thur",
          "Thur",
          "Thur",
          "Thur",
          "Thur",
          "Thur",
          "Thur",
          "Thur",
          "Thur",
          "Thur",
          "Thur",
          "Thur",
          "Thur",
          "Thur",
          "Thur"
         ],
         "y": [
          27.2,
          22.76,
          17.29,
          19.44,
          16.66,
          32.68,
          15.98,
          13.03,
          18.28,
          24.71,
          21.16,
          11.69,
          14.26,
          15.95,
          8.52,
          22.82,
          19.08,
          16,
          34.3,
          41.19,
          9.78,
          7.51,
          28.44,
          15.48,
          16.58,
          7.56,
          10.34,
          13.51,
          18.71,
          20.53
         ]
        },
        {
         "jitter": 0.05,
         "legendgroup": "F",
         "line": {
          "color": "mediumpurple"
         },
         "meanline": {
          "visible": true
         },
         "name": "F",
         "pointpos": 1,
         "points": "all",
         "scalegroup": "F",
         "scalemode": "count",
         "showlegend": false,
         "side": "positive",
         "type": "violin",
         "x": [
          "Thur",
          "Thur",
          "Thur",
          "Thur",
          "Thur",
          "Thur",
          "Thur",
          "Thur",
          "Thur",
          "Thur",
          "Thur",
          "Thur",
          "Thur",
          "Thur",
          "Thur",
          "Thur",
          "Thur",
          "Thur",
          "Thur",
          "Thur",
          "Thur",
          "Thur",
          "Thur",
          "Thur",
          "Thur",
          "Thur",
          "Thur",
          "Thur",
          "Thur",
          "Thur",
          "Thur",
          "Thur"
         ],
         "y": [
          10.07,
          34.83,
          10.65,
          12.43,
          24.08,
          13.42,
          12.48,
          29.8,
          14.52,
          11.38,
          20.27,
          11.17,
          12.26,
          18.26,
          8.51,
          10.33,
          14.15,
          13.16,
          17.47,
          27.05,
          16.43,
          8.35,
          18.64,
          11.87,
          19.81,
          43.11,
          13,
          12.74,
          13,
          16.4,
          16.47,
          18.78
         ]
        },
        {
         "jitter": 0.05,
         "legendgroup": "M",
         "line": {
          "color": "lightseagreen"
         },
         "meanline": {
          "visible": true
         },
         "name": "M",
         "pointpos": -0.3,
         "points": "all",
         "scalegroup": "M",
         "scalemode": "count",
         "showlegend": false,
         "side": "negative",
         "type": "violin",
         "x": [
          "Fri",
          "Fri",
          "Fri",
          "Fri",
          "Fri",
          "Fri",
          "Fri",
          "Fri",
          "Fri",
          "Fri"
         ],
         "y": [
          28.97,
          22.49,
          40.17,
          27.28,
          12.03,
          21.01,
          12.46,
          12.16,
          8.58,
          13.42
         ]
        },
        {
         "jitter": 0.05,
         "legendgroup": "F",
         "line": {
          "color": "mediumpurple"
         },
         "meanline": {
          "visible": true
         },
         "name": "F",
         "pointpos": 0.4,
         "points": "all",
         "scalegroup": "F",
         "scalemode": "count",
         "showlegend": false,
         "side": "positive",
         "type": "violin",
         "x": [
          "Fri",
          "Fri",
          "Fri",
          "Fri",
          "Fri",
          "Fri",
          "Fri",
          "Fri",
          "Fri"
         ],
         "y": [
          5.75,
          16.32,
          22.75,
          11.35,
          15.38,
          13.42,
          15.98,
          16.27,
          10.09
         ]
        }
       ],
       "layout": {
        "template": {
         "data": {
          "bar": [
           {
            "error_x": {
             "color": "#2a3f5f"
            },
            "error_y": {
             "color": "#2a3f5f"
            },
            "marker": {
             "line": {
              "color": "#E5ECF6",
              "width": 0.5
             },
             "pattern": {
              "fillmode": "overlay",
              "size": 10,
              "solidity": 0.2
             }
            },
            "type": "bar"
           }
          ],
          "barpolar": [
           {
            "marker": {
             "line": {
              "color": "#E5ECF6",
              "width": 0.5
             },
             "pattern": {
              "fillmode": "overlay",
              "size": 10,
              "solidity": 0.2
             }
            },
            "type": "barpolar"
           }
          ],
          "carpet": [
           {
            "aaxis": {
             "endlinecolor": "#2a3f5f",
             "gridcolor": "white",
             "linecolor": "white",
             "minorgridcolor": "white",
             "startlinecolor": "#2a3f5f"
            },
            "baxis": {
             "endlinecolor": "#2a3f5f",
             "gridcolor": "white",
             "linecolor": "white",
             "minorgridcolor": "white",
             "startlinecolor": "#2a3f5f"
            },
            "type": "carpet"
           }
          ],
          "choropleth": [
           {
            "colorbar": {
             "outlinewidth": 0,
             "ticks": ""
            },
            "type": "choropleth"
           }
          ],
          "contour": [
           {
            "colorbar": {
             "outlinewidth": 0,
             "ticks": ""
            },
            "colorscale": [
             [
              0,
              "#0d0887"
             ],
             [
              0.1111111111111111,
              "#46039f"
             ],
             [
              0.2222222222222222,
              "#7201a8"
             ],
             [
              0.3333333333333333,
              "#9c179e"
             ],
             [
              0.4444444444444444,
              "#bd3786"
             ],
             [
              0.5555555555555556,
              "#d8576b"
             ],
             [
              0.6666666666666666,
              "#ed7953"
             ],
             [
              0.7777777777777778,
              "#fb9f3a"
             ],
             [
              0.8888888888888888,
              "#fdca26"
             ],
             [
              1,
              "#f0f921"
             ]
            ],
            "type": "contour"
           }
          ],
          "contourcarpet": [
           {
            "colorbar": {
             "outlinewidth": 0,
             "ticks": ""
            },
            "type": "contourcarpet"
           }
          ],
          "heatmap": [
           {
            "colorbar": {
             "outlinewidth": 0,
             "ticks": ""
            },
            "colorscale": [
             [
              0,
              "#0d0887"
             ],
             [
              0.1111111111111111,
              "#46039f"
             ],
             [
              0.2222222222222222,
              "#7201a8"
             ],
             [
              0.3333333333333333,
              "#9c179e"
             ],
             [
              0.4444444444444444,
              "#bd3786"
             ],
             [
              0.5555555555555556,
              "#d8576b"
             ],
             [
              0.6666666666666666,
              "#ed7953"
             ],
             [
              0.7777777777777778,
              "#fb9f3a"
             ],
             [
              0.8888888888888888,
              "#fdca26"
             ],
             [
              1,
              "#f0f921"
             ]
            ],
            "type": "heatmap"
           }
          ],
          "heatmapgl": [
           {
            "colorbar": {
             "outlinewidth": 0,
             "ticks": ""
            },
            "colorscale": [
             [
              0,
              "#0d0887"
             ],
             [
              0.1111111111111111,
              "#46039f"
             ],
             [
              0.2222222222222222,
              "#7201a8"
             ],
             [
              0.3333333333333333,
              "#9c179e"
             ],
             [
              0.4444444444444444,
              "#bd3786"
             ],
             [
              0.5555555555555556,
              "#d8576b"
             ],
             [
              0.6666666666666666,
              "#ed7953"
             ],
             [
              0.7777777777777778,
              "#fb9f3a"
             ],
             [
              0.8888888888888888,
              "#fdca26"
             ],
             [
              1,
              "#f0f921"
             ]
            ],
            "type": "heatmapgl"
           }
          ],
          "histogram": [
           {
            "marker": {
             "pattern": {
              "fillmode": "overlay",
              "size": 10,
              "solidity": 0.2
             }
            },
            "type": "histogram"
           }
          ],
          "histogram2d": [
           {
            "colorbar": {
             "outlinewidth": 0,
             "ticks": ""
            },
            "colorscale": [
             [
              0,
              "#0d0887"
             ],
             [
              0.1111111111111111,
              "#46039f"
             ],
             [
              0.2222222222222222,
              "#7201a8"
             ],
             [
              0.3333333333333333,
              "#9c179e"
             ],
             [
              0.4444444444444444,
              "#bd3786"
             ],
             [
              0.5555555555555556,
              "#d8576b"
             ],
             [
              0.6666666666666666,
              "#ed7953"
             ],
             [
              0.7777777777777778,
              "#fb9f3a"
             ],
             [
              0.8888888888888888,
              "#fdca26"
             ],
             [
              1,
              "#f0f921"
             ]
            ],
            "type": "histogram2d"
           }
          ],
          "histogram2dcontour": [
           {
            "colorbar": {
             "outlinewidth": 0,
             "ticks": ""
            },
            "colorscale": [
             [
              0,
              "#0d0887"
             ],
             [
              0.1111111111111111,
              "#46039f"
             ],
             [
              0.2222222222222222,
              "#7201a8"
             ],
             [
              0.3333333333333333,
              "#9c179e"
             ],
             [
              0.4444444444444444,
              "#bd3786"
             ],
             [
              0.5555555555555556,
              "#d8576b"
             ],
             [
              0.6666666666666666,
              "#ed7953"
             ],
             [
              0.7777777777777778,
              "#fb9f3a"
             ],
             [
              0.8888888888888888,
              "#fdca26"
             ],
             [
              1,
              "#f0f921"
             ]
            ],
            "type": "histogram2dcontour"
           }
          ],
          "mesh3d": [
           {
            "colorbar": {
             "outlinewidth": 0,
             "ticks": ""
            },
            "type": "mesh3d"
           }
          ],
          "parcoords": [
           {
            "line": {
             "colorbar": {
              "outlinewidth": 0,
              "ticks": ""
             }
            },
            "type": "parcoords"
           }
          ],
          "pie": [
           {
            "automargin": true,
            "type": "pie"
           }
          ],
          "scatter": [
           {
            "fillpattern": {
             "fillmode": "overlay",
             "size": 10,
             "solidity": 0.2
            },
            "type": "scatter"
           }
          ],
          "scatter3d": [
           {
            "line": {
             "colorbar": {
              "outlinewidth": 0,
              "ticks": ""
             }
            },
            "marker": {
             "colorbar": {
              "outlinewidth": 0,
              "ticks": ""
             }
            },
            "type": "scatter3d"
           }
          ],
          "scattercarpet": [
           {
            "marker": {
             "colorbar": {
              "outlinewidth": 0,
              "ticks": ""
             }
            },
            "type": "scattercarpet"
           }
          ],
          "scattergeo": [
           {
            "marker": {
             "colorbar": {
              "outlinewidth": 0,
              "ticks": ""
             }
            },
            "type": "scattergeo"
           }
          ],
          "scattergl": [
           {
            "marker": {
             "colorbar": {
              "outlinewidth": 0,
              "ticks": ""
             }
            },
            "type": "scattergl"
           }
          ],
          "scattermapbox": [
           {
            "marker": {
             "colorbar": {
              "outlinewidth": 0,
              "ticks": ""
             }
            },
            "type": "scattermapbox"
           }
          ],
          "scatterpolar": [
           {
            "marker": {
             "colorbar": {
              "outlinewidth": 0,
              "ticks": ""
             }
            },
            "type": "scatterpolar"
           }
          ],
          "scatterpolargl": [
           {
            "marker": {
             "colorbar": {
              "outlinewidth": 0,
              "ticks": ""
             }
            },
            "type": "scatterpolargl"
           }
          ],
          "scatterternary": [
           {
            "marker": {
             "colorbar": {
              "outlinewidth": 0,
              "ticks": ""
             }
            },
            "type": "scatterternary"
           }
          ],
          "surface": [
           {
            "colorbar": {
             "outlinewidth": 0,
             "ticks": ""
            },
            "colorscale": [
             [
              0,
              "#0d0887"
             ],
             [
              0.1111111111111111,
              "#46039f"
             ],
             [
              0.2222222222222222,
              "#7201a8"
             ],
             [
              0.3333333333333333,
              "#9c179e"
             ],
             [
              0.4444444444444444,
              "#bd3786"
             ],
             [
              0.5555555555555556,
              "#d8576b"
             ],
             [
              0.6666666666666666,
              "#ed7953"
             ],
             [
              0.7777777777777778,
              "#fb9f3a"
             ],
             [
              0.8888888888888888,
              "#fdca26"
             ],
             [
              1,
              "#f0f921"
             ]
            ],
            "type": "surface"
           }
          ],
          "table": [
           {
            "cells": {
             "fill": {
              "color": "#EBF0F8"
             },
             "line": {
              "color": "white"
             }
            },
            "header": {
             "fill": {
              "color": "#C8D4E3"
             },
             "line": {
              "color": "white"
             }
            },
            "type": "table"
           }
          ]
         },
         "layout": {
          "annotationdefaults": {
           "arrowcolor": "#2a3f5f",
           "arrowhead": 0,
           "arrowwidth": 1
          },
          "autotypenumbers": "strict",
          "coloraxis": {
           "colorbar": {
            "outlinewidth": 0,
            "ticks": ""
           }
          },
          "colorscale": {
           "diverging": [
            [
             0,
             "#8e0152"
            ],
            [
             0.1,
             "#c51b7d"
            ],
            [
             0.2,
             "#de77ae"
            ],
            [
             0.3,
             "#f1b6da"
            ],
            [
             0.4,
             "#fde0ef"
            ],
            [
             0.5,
             "#f7f7f7"
            ],
            [
             0.6,
             "#e6f5d0"
            ],
            [
             0.7,
             "#b8e186"
            ],
            [
             0.8,
             "#7fbc41"
            ],
            [
             0.9,
             "#4d9221"
            ],
            [
             1,
             "#276419"
            ]
           ],
           "sequential": [
            [
             0,
             "#0d0887"
            ],
            [
             0.1111111111111111,
             "#46039f"
            ],
            [
             0.2222222222222222,
             "#7201a8"
            ],
            [
             0.3333333333333333,
             "#9c179e"
            ],
            [
             0.4444444444444444,
             "#bd3786"
            ],
            [
             0.5555555555555556,
             "#d8576b"
            ],
            [
             0.6666666666666666,
             "#ed7953"
            ],
            [
             0.7777777777777778,
             "#fb9f3a"
            ],
            [
             0.8888888888888888,
             "#fdca26"
            ],
            [
             1,
             "#f0f921"
            ]
           ],
           "sequentialminus": [
            [
             0,
             "#0d0887"
            ],
            [
             0.1111111111111111,
             "#46039f"
            ],
            [
             0.2222222222222222,
             "#7201a8"
            ],
            [
             0.3333333333333333,
             "#9c179e"
            ],
            [
             0.4444444444444444,
             "#bd3786"
            ],
            [
             0.5555555555555556,
             "#d8576b"
            ],
            [
             0.6666666666666666,
             "#ed7953"
            ],
            [
             0.7777777777777778,
             "#fb9f3a"
            ],
            [
             0.8888888888888888,
             "#fdca26"
            ],
            [
             1,
             "#f0f921"
            ]
           ]
          },
          "colorway": [
           "#636efa",
           "#EF553B",
           "#00cc96",
           "#ab63fa",
           "#FFA15A",
           "#19d3f3",
           "#FF6692",
           "#B6E880",
           "#FF97FF",
           "#FECB52"
          ],
          "font": {
           "color": "#2a3f5f"
          },
          "geo": {
           "bgcolor": "white",
           "lakecolor": "white",
           "landcolor": "#E5ECF6",
           "showlakes": true,
           "showland": true,
           "subunitcolor": "white"
          },
          "hoverlabel": {
           "align": "left"
          },
          "hovermode": "closest",
          "mapbox": {
           "style": "light"
          },
          "paper_bgcolor": "white",
          "plot_bgcolor": "#E5ECF6",
          "polar": {
           "angularaxis": {
            "gridcolor": "white",
            "linecolor": "white",
            "ticks": ""
           },
           "bgcolor": "#E5ECF6",
           "radialaxis": {
            "gridcolor": "white",
            "linecolor": "white",
            "ticks": ""
           }
          },
          "scene": {
           "xaxis": {
            "backgroundcolor": "#E5ECF6",
            "gridcolor": "white",
            "gridwidth": 2,
            "linecolor": "white",
            "showbackground": true,
            "ticks": "",
            "zerolinecolor": "white"
           },
           "yaxis": {
            "backgroundcolor": "#E5ECF6",
            "gridcolor": "white",
            "gridwidth": 2,
            "linecolor": "white",
            "showbackground": true,
            "ticks": "",
            "zerolinecolor": "white"
           },
           "zaxis": {
            "backgroundcolor": "#E5ECF6",
            "gridcolor": "white",
            "gridwidth": 2,
            "linecolor": "white",
            "showbackground": true,
            "ticks": "",
            "zerolinecolor": "white"
           }
          },
          "shapedefaults": {
           "line": {
            "color": "#2a3f5f"
           }
          },
          "ternary": {
           "aaxis": {
            "gridcolor": "white",
            "linecolor": "white",
            "ticks": ""
           },
           "baxis": {
            "gridcolor": "white",
            "linecolor": "white",
            "ticks": ""
           },
           "bgcolor": "#E5ECF6",
           "caxis": {
            "gridcolor": "white",
            "linecolor": "white",
            "ticks": ""
           }
          },
          "title": {
           "x": 0.05
          },
          "xaxis": {
           "automargin": true,
           "gridcolor": "white",
           "linecolor": "white",
           "ticks": "",
           "title": {
            "standoff": 15
           },
           "zerolinecolor": "white",
           "zerolinewidth": 2
          },
          "yaxis": {
           "automargin": true,
           "gridcolor": "white",
           "linecolor": "white",
           "ticks": "",
           "title": {
            "standoff": 15
           },
           "zerolinecolor": "white",
           "zerolinewidth": 2
          }
         }
        },
        "title": {
         "text": "Total bill distribution<br><i>scaled by number of bills per gender"
        },
        "violingap": 0,
        "violingroupgap": 0,
        "violinmode": "overlay"
       }
      }
     },
     "metadata": {},
     "output_type": "display_data"
    }
   ],
   "source": [
    "pointpos_male = [-0.9, -1.1, -0.6, -0.3]\n",
    "pointpos_female = [0.45, 0.55, 1, 0.4]\n",
    "show_legend = [True, False, False, False]\n",
    "\n",
    "fig = go.Figure()\n",
    "\n",
    "for i in range(0, len(pd.unique(df[\"day\"]))):\n",
    "    fig.add_trace(\n",
    "        go.Violin(\n",
    "            x=df[\"day\"][(df[\"sex\"] == \"Male\") & (df[\"day\"] == pd.unique(df[\"day\"])[i])],\n",
    "            y=df[\"total_bill\"][\n",
    "                (df[\"sex\"] == \"Male\") & (df[\"day\"] == pd.unique(df[\"day\"])[i])\n",
    "            ],\n",
    "            legendgroup=\"M\",\n",
    "            scalegroup=\"M\",\n",
    "            name=\"M\",\n",
    "            side=\"negative\",\n",
    "            pointpos=pointpos_male[i],  # where to position points 左侧 or 右侧\n",
    "            line_color=\"lightseagreen\",\n",
    "            showlegend=show_legend[i],\n",
    "        )\n",
    "    )\n",
    "    fig.add_trace(\n",
    "        go.Violin(\n",
    "            x=df[\"day\"][\n",
    "                (df[\"sex\"] == \"Female\") & (df[\"day\"] == pd.unique(df[\"day\"])[i])\n",
    "            ],\n",
    "            y=df[\"total_bill\"][\n",
    "                (df[\"sex\"] == \"Female\") & (df[\"day\"] == pd.unique(df[\"day\"])[i])\n",
    "            ],\n",
    "            legendgroup=\"F\",\n",
    "            scalegroup=\"F\",\n",
    "            name=\"F\",\n",
    "            side=\"positive\",\n",
    "            pointpos=pointpos_female[i],  # where to position points 左侧 or 右侧\n",
    "            line_color=\"mediumpurple\",\n",
    "            showlegend=show_legend[i],\n",
    "        )\n",
    "    )\n",
    "\n",
    "# update characteristics shared by all traces\n",
    "fig.update_traces(\n",
    "    meanline_visible=True,\n",
    "    points=\"all\",  # show all points\n",
    "    jitter=0.05,  # add some jitter on points for better visibility\n",
    "    scalemode=\"count\",  # scale violin plot area with total count\n",
    ")\n",
    "fig.update_layout(\n",
    "    title_text=\"Total bill distribution<br><i>scaled by number of bills per gender\",\n",
    "    violingap=0,\n",
    "    violingroupgap=0,\n",
    "    violinmode=\"overlay\",\n",
    ")\n",
    "fig.show()"
   ]
  },
  {
   "cell_type": "markdown",
   "metadata": {},
   "source": [
    "## Ridgeline plot"
   ]
  },
  {
   "cell_type": "code",
   "execution_count": 61,
   "metadata": {},
   "outputs": [
    {
     "data": {
      "application/vnd.plotly.v1+json": {
       "config": {
        "plotlyServerURL": "https://plot.ly"
       },
       "data": [
        {
         "line": {
          "color": "rgb(5.0, 200.0, 200.0)"
         },
         "orientation": "h",
         "points": false,
         "side": "positive",
         "type": "violin",
         "width": 3,
         "x": [
          0.6444612645536512,
          0.9238707665769996,
          0.8806468096844127,
          3.191262085833672,
          1.3686948819380935,
          2.4252543346074926,
          1.0032307442946609,
          1.921696534630864,
          1.295736942960279,
          1.1227594310525235,
          2.40517712672248,
          0.09626937375327248,
          1.0831673238303223,
          2.6656052942338713,
          2.119943294979276,
          1.5857353516942034,
          3.162297647392462,
          1.2359635136689913,
          3.295540684103031,
          1.2713636305436768,
          0.28766109939344386,
          1.5404269693462118,
          0.22256015813953536,
          2.56589322610742,
          0.7688574723024105,
          2.315040011417938,
          0.4216201073646171,
          1.1237742123774903,
          0.32356477457497657,
          2.2885500588210723,
          1.5418078328403144,
          0.9946681691486442,
          2.094383643390457,
          1.100566081873477,
          -0.005332293054945314,
          0.7656418286689272,
          0.6216660128631628,
          0.711063794345852,
          -0.5606259285243405,
          0.07352617234498182,
          1.328887680632035,
          1.2357673333100174,
          1.6547360285112316,
          0.9232276584741594,
          -0.494001722160613,
          1.28291222367117,
          2.6179975174167947,
          1.222312183999764,
          0.5766877369808989,
          3.5923327915580536,
          0.958060525393344,
          3.0620992396685307,
          0.7787271030692878,
          2.7441690807026817,
          1.610217860384235,
          0.8150781173701535,
          2.723447831404541,
          0.26836280971378734,
          0.0502594351877399,
          1.506263820117701,
          -0.48611654885527034,
          1.7964191429350034,
          0.3409176296836234,
          2.3480965558431164,
          2.0619902985383742,
          0.2318897454248383,
          1.0281554289631687,
          1.0608763905122558,
          1.927476982934224,
          0.19228536281170316,
          2.0327053354374094,
          -0.2258299435079301,
          3.383387008179535,
          -0.1390919707969216,
          2.0245583581488544,
          0.2506982707101566,
          2.529452016556747,
          2.0406682712224096,
          0.977149913385534,
          1.3300568660805043,
          1.410261608350515,
          1.9102946403753729,
          1.0526886685168175,
          0.8068801510465323,
          1.273947609536764,
          0.5627604333158766,
          3.004507748954147,
          0.8994477309564707,
          1.812270121324118,
          1.434341427809866,
          2.288644961296161,
          2.4292873880904144,
          -0.13466363141620108,
          0.7653641600205298,
          0.9287730817698868,
          2.1070771610271075,
          1.8881438513781896,
          2.3258013403870583,
          1.0838945468930017,
          1.8570200209681935,
          0.7675617498250838,
          1.444628941713998,
          -0.18280025383669377,
          0.43750701885020016,
          0.40689857371742166,
          1.1711354659572497,
          2.0745274907475633,
          1.0169889484732235,
          -1.1747108825259407,
          0.15909115638772886,
          1.2298118939222302,
          0.3498981422767994,
          1.157853652725163,
          1.0404991219873383,
          0.7065062892294508,
          1.4161842660377322,
          1.741944019716292,
          0.7800399734684792,
          2.2262364560658465,
          -0.7815337162069393,
          2.5377842392197234,
          0.5681113437753326,
          0.630802610960681,
          1.0260979837019095,
          0.7541194871696003,
          2.573760947161227,
          0.7811068004214581,
          2.419427544268763,
          0.953502991914227,
          1.8639404671176216,
          1.2240964113276798,
          2.177976926795018,
          0.37507049768720335,
          1.1723551599679751,
          1.5636755448667805,
          0.3863974573818814,
          -0.4366388926296123,
          1.9334785002950197,
          1.3297048995457743,
          0.19104570039498436,
          0.8240848009273225,
          0.33775546353440966,
          1.0734093724554858,
          0.23257562740133064,
          1.6233613729149656,
          1.3498421861313568,
          2.1420737386058475,
          0.10593999708921564,
          0.95307967900683,
          1.2250110111157808,
          0.5317376704751107,
          1.1686372156778908,
          3.083475721502997,
          2.0469303969824,
          1.6640581050348886,
          1.541763728932952,
          1.5147276570694568,
          1.3518150992933748,
          1.6721910766239034,
          1.2407839054661458,
          1.2901717349857282,
          1.2249726432340005,
          -1.146463257305631,
          -0.3580023649033395,
          1.4998160145501276,
          1.3359343537993422,
          0.6991447834214555,
          -0.3459331667546015,
          0.5725987909435092,
          -0.9206244296115138,
          2.549529870680338,
          1.2101229379559248,
          -0.2365701559818374,
          0.07076844758760825,
          0.9206248402062972,
          0.24824947163445676,
          2.878172798040659,
          1.1010531108791155,
          2.186651471152962,
          0.7718587530494552,
          3.8461666016782914,
          1.0411520995458774,
          0.6869388278774085,
          1.767231416832966,
          1.0975245252619446,
          -0.8375610222627314,
          1.989679053044911,
          0.727047772037046,
          0.8537589158806649,
          2.8055408512517612,
          0.2073945079522328,
          1.8039024902600125,
          1.7141070356872474,
          2.7717804137433255,
          2.222719232913437,
          1.607993149059888,
          1.5971852922104417,
          2.121969877845333,
          0.9215551151566964,
          0.6752551880819285
         ]
        },
        {
         "line": {
          "color": "rgb(22.727272727272727, 182.72727272727272, 182.72727272727272)"
         },
         "orientation": "h",
         "points": false,
         "side": "positive",
         "type": "violin",
         "width": 3,
         "x": [
          0.35613150794994897,
          2.6860493591120465,
          2.807795181716793,
          1.891100545140234,
          1.0630989563701203,
          -1.275093136475978,
          -0.12321802066557264,
          1.7030420621978335,
          3.3166766839410156,
          0.9186534578625636,
          1.9916853290369911,
          1.6104600337587702,
          -0.7565421535205075,
          3.014786651181492,
          0.9287140967235672,
          0.5178884716164724,
          2.770868474747929,
          2.3892366799377,
          0.9915174551096976,
          1.1753739810157808,
          3.421264932316534,
          1.9014014115456344,
          3.2554067311410284,
          2.040693226497314,
          2.6483418712408344,
          1.8817561854172424,
          2.3473191288103714,
          1.419314589287875,
          1.5186078161952108,
          3.96577736260707,
          3.64168040777957,
          1.3586092600117157,
          1.5918224112053014,
          3.4447582258661664,
          1.8513330624065705,
          2.1381143432368983,
          1.91486360331684,
          1.1110741154724528,
          2.8607766937078956,
          1.690641974706529,
          1.558682357228095,
          0.8563720318609492,
          1.8588451595282147,
          1.2054012478525784,
          3.0348267855366173,
          1.337740385255071,
          0.8488410476795455,
          2.049729966525718,
          1.1323949958193806,
          1.5892495477082444,
          1.8181286995306725,
          1.410391014843405,
          1.3106981562594089,
          2.246739056264154,
          0.7072701533597088,
          1.240584628161169,
          1.0640564586733978,
          0.8100975069518008,
          1.5688984657478566,
          3.5392918807156,
          1.227044596813078,
          5.233450626203411,
          1.3991344857875552,
          2.125104149757861,
          1.373010865162281,
          -0.24972310118870755,
          0.5248353552710414,
          2.225762675480533,
          1.378696408359923,
          0.09261847791325216,
          1.937405738983662,
          0.7431594385348457,
          1.2289997675943467,
          1.3662418776548677,
          1.6360324066257972,
          1.068573142493756,
          2.0650541446040274,
          0.02911495565350153,
          3.5517827385208216,
          1.7555799046692933,
          1.9096700712569337,
          0.584749241641862,
          -0.02373225940101875,
          3.918874337469452,
          2.1691651548316866,
          0.9977327152801791,
          1.270781247832043,
          1.982596321371691,
          3.080770473191806,
          1.4411453591679837,
          1.8622032622627664,
          2.8597714934604506,
          4.07264058360032,
          1.8266094744389796,
          1.7282329570213275,
          2.53268635688314,
          1.447441828816694,
          3.393243308749147,
          1.0412699939632044,
          1.2428897955666458,
          2.1866285090458737,
          1.044050396996082,
          1.3999719580321008,
          1.1292500180283374,
          2.3325234416196325,
          1.310022002534045,
          1.4398338460961402,
          1.603081201533064,
          2.6930709630546987,
          0.7167665071849294,
          1.8093923618230756,
          0.8279199919048722,
          2.9211745629015264,
          2.0368230435072565,
          1.8970919068088057,
          -0.644794166632451,
          2.0180176172538484,
          2.344185487653592,
          1.1615517065098864,
          3.2643714003096944,
          0.47327489144202506,
          1.0216817030024872,
          1.6267941044324277,
          1.8644009988185783,
          0.9707105666950924,
          2.14260306865592,
          3.857902026420837,
          1.5838868727744555,
          1.1858441703421672,
          3.658847053035832,
          -1.096360349782497,
          1.0545338167095824,
          0.4770123741429395,
          2.334286318117294,
          -0.293012554574847,
          4.5879423966607416,
          0.03083866689169379,
          3.953693616413117,
          2.2199742181209356,
          0.28253713102694067,
          -0.35345358276416805,
          1.5231867629024785,
          2.2360523259319978,
          0.6761639354426889,
          0.7759031553318313,
          2.031864055459276,
          2.449178297150941,
          2.223884563621324,
          1.3195760910889611,
          0.5102494192471698,
          1.3720761149375795,
          2.531621945646431,
          1.3843363200300989,
          1.1050939115612413,
          3.7152798818268753,
          0.7273470089780948,
          0.33247888576039,
          -0.1919916103485748,
          2.449342724125981,
          0.8219218715939101,
          3.345825241762345,
          -0.9040867985611668,
          2.082004613171113,
          1.5778969892469388,
          1.928462875291041,
          1.915321533086805,
          3.4273022497169556,
          1.4781374444473283,
          2.9307444534002904,
          -0.08990002586982371,
          -0.6768567412537752,
          2.740563908461475,
          3.5132304356781665,
          -0.45997603952109634,
          2.8313719001506703,
          -0.02181286735845389,
          -0.853259402201608,
          2.062366958459106,
          3.672076146222842,
          0.3535341672862877,
          2.9610751064825527,
          2.0560166084577953,
          0.2412196368582649,
          1.5748892825178151,
          2.052668493962822,
          2.6040613704280724,
          2.842674355454621,
          2.4901706726484845,
          -0.01580681177563048,
          -0.5644177891611566,
          3.6284148146083384,
          1.9491919693535324,
          2.0031038401449934,
          -0.009113639514525262,
          0.8770459256192853,
          2.260124941667512,
          -0.057740528523112955,
          2.5438495355236452,
          -0.1931281894650323,
          1.3063117654080645
         ]
        },
        {
         "line": {
          "color": "rgb(40.45454545454545, 165.45454545454544, 165.45454545454544)"
         },
         "orientation": "h",
         "points": false,
         "side": "positive",
         "type": "violin",
         "width": 3,
         "x": [
          5.222660573827537,
          3.094093976767464,
          4.730049039137611,
          2.9509789127571917,
          3.699238803018758,
          5.70156569187742,
          4.121101859759402,
          4.991318434177361,
          3.0130584792866713,
          4.865078564886321,
          4.864902789089246,
          3.4958241144247464,
          4.780150676332609,
          5.944098179552733,
          5.542909239454063,
          4.610692275940952,
          5.541039104719483,
          3.2823869736584803,
          3.867126129062122,
          4.0377565607028965,
          4.842346913444321,
          3.3960713558513245,
          4.642657792626119,
          3.091629813434217,
          4.299844056169319,
          2.005920089994089,
          4.346283964790455,
          1.9472523572460487,
          4.433387068211198,
          4.562990141047411,
          4.476089463616417,
          0.9896900833911236,
          4.140070210607323,
          5.103560101700353,
          4.307027559738899,
          3.940989476901711,
          4.655025436557584,
          1.8266279962037677,
          4.551121837208275,
          4.633807553826799,
          1.9263365963391792,
          3.5229144587436396,
          2.920793124390707,
          3.749024224771499,
          3.044175824621911,
          5.538076885293493,
          4.120910368817788,
          5.547096867592924,
          4.882245373427313,
          4.677123851016821,
          3.1612204745437755,
          4.163545362908702,
          5.896147755011075,
          5.185060560767985,
          2.5103295126319325,
          1.364519274441164,
          3.096067805918644,
          2.9319808183406817,
          1.1748742473536322,
          4.111584970778188,
          6.59311192221041,
          6.014055685215341,
          5.583378473330857,
          3.3834190599941025,
          2.96095287724313,
          5.252840910015262,
          5.2942578887393985,
          5.370827271822267,
          4.258367480828757,
          4.020848956900197,
          1.7912754689714605,
          2.339927994665158,
          2.4639992858276822,
          4.45149345481332,
          2.6805075602930737,
          4.4132696260940705,
          3.290482313637586,
          4.3975653986788,
          2.813077486266842,
          4.0569601522372345,
          3.153392701003493,
          1.8588756374227589,
          2.9468395204595756,
          3.133887206952534,
          3.918847992925368,
          3.8502000938695455,
          3.356421020365463,
          4.454853064440504,
          5.7473512603025085,
          4.702072724147856,
          1.4365360370132132,
          5.0011301424150325,
          5.919068772002275,
          4.327629172784947,
          5.23634550060172,
          4.851100597363529,
          3.6952149191797554,
          4.36048191476398,
          3.0945387715335073,
          6.242054729359012,
          3.90829000280184,
          2.9585077179254524,
          3.4012452628630387,
          4.091152088242766,
          4.470925320511315,
          4.881718518905857,
          5.135641058899557,
          4.57882079334896,
          5.928690504853078,
          2.248887822883064,
          4.903953801841889,
          3.554311482549384,
          5.475608831489353,
          4.9443120985639215,
          1.77792458702267,
          4.610140872722276,
          4.11523345113552,
          3.514952751086746,
          3.376073820445625,
          3.581211843982421,
          3.73198199388966,
          4.453192396747518,
          3.5081250942744924,
          5.068071019411258,
          1.618563293153965,
          3.167056956358717,
          3.691103308751583,
          3.400266630559238,
          3.741353613417619,
          2.4653319716625925,
          4.33013040907825,
          4.621430126549855,
          2.1381679679751917,
          2.7918223390010297,
          2.389992125085852,
          3.0102590075536377,
          3.5702142437746436,
          4.08506158975031,
          3.3835769686706683,
          3.7471268172257384,
          1.433722264772784,
          5.696435816591049,
          2.455501060164683,
          5.092131650911898,
          2.979965705488647,
          4.311683786807241,
          4.585172651899102,
          4.123948758381573,
          3.904204727767557,
          4.707308588547798,
          5.005737937097203,
          1.200889034268958,
          3.966858156070567,
          1.8476727085291704,
          1.0634153351140037,
          2.707500144676288,
          2.4589176256374694,
          4.3446173900271265,
          3.8354852344039534,
          2.9931070468578245,
          2.366363629847638,
          3.309907573127853,
          6.553743114882619,
          4.081160951469278,
          4.569039151260272,
          4.015309963883743,
          2.696286736487971,
          3.1642690666511304,
          3.193652720635193,
          2.5253166797401008,
          2.1616609547505243,
          2.611879505346161,
          4.320394877645008,
          2.3420062129677484,
          5.071360652104591,
          4.147730058099743,
          4.411605313376121,
          2.4761570350818323,
          1.9789353317684704,
          2.7086719634325975,
          5.124922413250875,
          3.545782605129701,
          3.5180111450015947,
          1.5182794114207092,
          2.6124225510362216,
          2.7392035144554367,
          4.503310061845995,
          2.8689285577074046,
          4.4851289242136545,
          3.348277866893078,
          4.181124811684037,
          4.718277032819297,
          3.235726424821814,
          2.2379663848825495,
          4.1670896041124665,
          4.355433612120167,
          3.0107359891585,
          5.350205169705037,
          3.2414781874007836,
          4.377872915364691
         ]
        },
        {
         "line": {
          "color": "rgb(58.18181818181818, 148.1818181818182, 148.1818181818182)"
         },
         "orientation": "h",
         "points": false,
         "side": "positive",
         "type": "violin",
         "width": 3,
         "x": [
          1.0254297767878937,
          2.634476883167039,
          5.512591932558807,
          1.0584043869328243,
          2.9966020228106736,
          6.103705983223327,
          4.977394546402087,
          5.966208662435021,
          4.751545790863279,
          2.4967065859963498,
          2.527752039940027,
          1.003718746878424,
          5.390316209913964,
          5.3877122146265535,
          5.333825150985293,
          4.817949949397874,
          2.7114304424121767,
          3.878286107087656,
          1.6258426308714595,
          4.551124802408947,
          3.4579921949486727,
          3.792595607502885,
          3.801720958787505,
          0.9334570226977336,
          4.671349575896618,
          2.820355152000318,
          1.7502972129761187,
          4.2582269162586295,
          2.886341925026391,
          4.255938006258044,
          2.0140657071031907,
          2.124660030119789,
          2.6348288266479036,
          3.668025397197641,
          5.041366909168625,
          4.299359881056239,
          5.468475689487537,
          3.0311479870677913,
          4.495142028275778,
          2.6166554100459742,
          3.7080831841108615,
          6.129911986643945,
          2.0724871238165985,
          4.094857449031363,
          1.0141485644306534,
          2.9531155672217744,
          3.6617230799268263,
          2.7830813124297684,
          5.008514150438301,
          4.2281531891408815,
          2.835008487933764,
          4.711081288763221,
          4.744345257315178,
          1.4708481399037112,
          1.894734679633612,
          3.952193856737242,
          0.6634669872636159,
          2.2063427152060058,
          4.295022438691292,
          2.39565301633973,
          5.29709119492147,
          1.6773230183801244,
          3.988766436145826,
          4.338175708108704,
          4.9007206219380315,
          3.135849601112355,
          2.365442734300499,
          -0.7170094032666485,
          2.8573775655592173,
          3.879322928645678,
          4.443356124284334,
          3.026257146275673,
          4.654616036325701,
          4.356917138282743,
          3.872167009723519,
          5.8150657049223025,
          3.0195424272823805,
          2.880301857478226,
          5.743330435531984,
          4.649713810893584,
          4.12670163365796,
          3.578727767385595,
          3.472027332086374,
          1.3452297758044964,
          3.932043105019371,
          3.0302575954340285,
          1.49301885526277,
          3.3646983625401323,
          3.03907153862775,
          3.051565173888797,
          0.8956176348686999,
          2.710106233229047,
          4.201125917825111,
          4.636303207154365,
          1.5979571017762044,
          3.4415411145892474,
          3.2077438927666067,
          2.2107490910732626,
          2.9095108029924845,
          3.3782697302585265,
          2.1429732702444833,
          3.5545137241398597,
          4.040141801789455,
          5.086362061638403,
          1.8712766171435755,
          2.171490339883495,
          3.153950542945576,
          2.2465444184166463,
          4.014929722047914,
          2.918374752372654,
          3.4139095296293056,
          4.840511108086629,
          1.710226428604748,
          4.513656425821144,
          1.9946498438475584,
          4.996591443028509,
          3.3192566597074067,
          4.079739954828118,
          2.7732097307259207,
          3.6676091822820993,
          2.9310990256639102,
          1.9791054890428637,
          3.587341561975677,
          1.9228106602843476,
          2.9407180077773343,
          4.371667122657444,
          4.131216834682089,
          3.0127314197279036,
          3.300215448244909,
          4.3127720433728856,
          2.665362833906012,
          5.965876508446316,
          2.742251371971778,
          1.5763716903838891,
          3.0600609714561036,
          5.722390640558812,
          4.904943826673041,
          5.3442725304328444,
          2.4906188270348872,
          2.468688213449073,
          2.6190333158591437,
          4.122493628983869,
          3.5904732092013094,
          3.050751459675018,
          3.32969414977754,
          3.3591353806899336,
          2.7594158776689066,
          2.4715425388528187,
          1.356555373821806,
          1.3843332088272249,
          1.408857315063152,
          1.975724642047208,
          2.726664362618071,
          2.233064600982634,
          3.2654268729547544,
          6.164998704200043,
          2.0629721749647665,
          4.016012375063319,
          3.1518544262380552,
          3.303135855471493,
          1.267171357344413,
          4.67394698643537,
          0.4843252851816495,
          3.26246045402223,
          3.0673707119780556,
          3.7358871337841384,
          0.97879456219284,
          2.6807561962111928,
          1.788235548757615,
          4.087295333325406,
          3.353156717906795,
          2.2730447120852695,
          4.583941486430556,
          1.4189960214112347,
          3.3602545522257157,
          2.266060521043425,
          2.565817994311836,
          3.0631802669650763,
          3.64661748284539,
          1.884490663896757,
          2.703214799452362,
          4.355573376663759,
          2.5253734756849777,
          5.0802227407485026,
          3.577433423408348,
          4.2156543495836,
          3.168044735081549,
          4.413068534220144,
          1.810775132103483,
          3.744862406621684,
          4.193337356153954,
          3.9576476278672703,
          2.3758340967361677,
          1.4446797298406022,
          3.7325937304214776,
          3.1733647020256264,
          4.054550338384531,
          1.0691251796770378,
          4.36436301335296,
          0.6218236821810761
         ]
        },
        {
         "line": {
          "color": "rgb(75.9090909090909, 130.9090909090909, 130.9090909090909)"
         },
         "orientation": "h",
         "points": false,
         "side": "positive",
         "type": "violin",
         "width": 3,
         "x": [
          2.952273750295162,
          8.005763529153413,
          3.5300748769614527,
          6.756108691237211,
          5.593677828616366,
          5.146578930780123,
          5.368962122755912,
          8.13733210479531,
          3.696854731019828,
          3.8390374943623273,
          1.7489673313062464,
          3.84910217166755,
          4.105034889275205,
          3.2980650009007766,
          5.808299284830944,
          0.43966920371435503,
          4.556767197273396,
          6.206728324275804,
          3.289624799583475,
          2.2786880295623253,
          3.374543066546495,
          4.493982816834274,
          3.176818462376204,
          5.538120584101662,
          2.7797845916394976,
          1.8789312257071409,
          3.3074338971277184,
          3.5342163825121213,
          2.808353918872572,
          5.991398104406759,
          3.780783595255115,
          5.029677582915924,
          6.960777855978625,
          4.4686277285808265,
          4.7526264461394145,
          2.184416239057156,
          3.7751174040138,
          5.663684376485339,
          2.7677417204659323,
          5.277482204593931,
          3.907146781090186,
          6.864106895812969,
          3.15720425873301,
          5.24654064583529,
          7.476005725199021,
          8.323335120453413,
          3.1498042648969946,
          5.766532309313291,
          4.763058197524451,
          3.265865786121263,
          3.99789478996782,
          3.881846410763264,
          5.660443410967414,
          4.2751031763948815,
          5.171745895700132,
          4.643321636203086,
          4.318103699543916,
          4.109778005198568,
          5.770325009066211,
          3.7800677588492846,
          4.364677883448977,
          4.440318527112459,
          3.0040110168883145,
          2.203990595605364,
          5.816258965951768,
          3.7814131064921233,
          1.864223516315676,
          4.950934504944838,
          2.5212149781976505,
          2.365372949002131,
          1.96882189680315,
          4.093914611688914,
          3.703582076242481,
          3.948273354808627,
          4.840021010910253,
          0.872800957412351,
          3.3784871816861965,
          4.047922493993215,
          5.512247562819954,
          2.39868999054821,
          5.124036807132647,
          4.708127321147127,
          3.328246313243776,
          4.179660125848125,
          5.0719874383808685,
          5.72681384878297,
          3.3767458159379458,
          4.925897766349513,
          3.1291850451083008,
          5.3784198036633235,
          3.6419870763196887,
          4.980397201442646,
          2.3398929219829148,
          6.481001818389579,
          3.8191692194725024,
          4.75358165668257,
          8.255617979932769,
          4.550236554182732,
          4.286617485418442,
          5.437465782619129,
          2.924201458357123,
          5.491357401760629,
          4.405413800927464,
          2.352282634239218,
          4.164880396693043,
          4.37557023901557,
          2.229065427479535,
          2.182875944684716,
          2.8066808934087524,
          5.664304131103216,
          5.742231729503436,
          3.3776095640200428,
          4.93807849307089,
          5.832512020080706,
          0.423472704287661,
          6.01066757035018,
          6.195925030334137,
          4.557591046096285,
          4.442808548179245,
          5.654198676380204,
          3.8710948863728745,
          6.208481260710503,
          5.614044086051378,
          4.328628631092773,
          7.275883630367552,
          5.129995611959498,
          4.819959308064163,
          6.431318967397647,
          3.68132952294369,
          5.176201773289318,
          4.493569519528019,
          4.597799001052439,
          5.172083796087404,
          4.751165176466479,
          5.070678706740215,
          1.0583191139328338,
          4.180358362403634,
          7.690653475063302,
          6.988711466147922,
          4.437801635965484,
          5.891433962131934,
          4.325265147855073,
          4.300008827334641,
          4.421953065146006,
          5.372868961826456,
          2.979091690073985,
          3.754745116140227,
          4.092760895476414,
          1.5798416262253363,
          4.203801219465992,
          2.297584819824833,
          3.292076706299528,
          4.782673318213915,
          2.678706119151204,
          5.506148706033933,
          6.107483309879642,
          5.636551145373431,
          5.982161252007693,
          4.178727951591737,
          4.201301764870831,
          3.747342557659975,
          3.9169619687169144,
          5.046866649921381,
          2.571015978489349,
          3.412859402165137,
          1.6590304121383856,
          6.128730225777556,
          5.64877679034136,
          6.749692312904431,
          3.2061102787618387,
          3.122467072825133,
          4.129357789920641,
          2.4521001840166834,
          4.4444902731089275,
          5.681196077154752,
          4.907225427851023,
          5.404988174492229,
          4.225236794318464,
          4.65166390485928,
          3.545514710359375,
          3.6018532828801826,
          3.630468469362228,
          3.5554008795269136,
          2.6906503086004703,
          4.1302661870739525,
          5.342604083961657,
          1.3681534880941215,
          3.437008422023928,
          3.3849044805708988,
          3.875695162999119,
          2.60153108963717,
          7.385819433074879,
          4.905412154967477,
          3.826267870616798,
          6.836275974017427,
          3.1184659044922247,
          4.329327634851099,
          3.961775347099225,
          4.2057788261495155,
          4.286966549392481
         ]
        },
        {
         "line": {
          "color": "rgb(93.63636363636363, 113.63636363636363, 113.63636363636363)"
         },
         "orientation": "h",
         "points": false,
         "side": "positive",
         "type": "violin",
         "width": 3,
         "x": [
          6.939627312189024,
          5.749602127507564,
          6.856486242816105,
          9.426763731277216,
          7.287003445918645,
          4.639596181733995,
          7.3182840292247135,
          6.86777358163015,
          6.269476010353269,
          6.191436365803286,
          6.811765475832319,
          9.57584732729897,
          6.130210442842617,
          5.930516639932906,
          6.444243997003209,
          7.232424610013835,
          5.8453495078383995,
          3.5866981054315934,
          4.820752867691268,
          8.76579844229099,
          4.455342997150952,
          7.232812024268244,
          7.020331725714423,
          6.038275458689944,
          3.5801730015035864,
          5.490717576135122,
          4.669807045188104,
          6.551271128420137,
          7.124401026371634,
          7.540376871132991,
          6.289290723520981,
          5.17299644373611,
          7.904413631598638,
          6.072846478034769,
          5.871146223669495,
          6.047593934290946,
          9.332876997313738,
          6.508600278222125,
          7.45268847885138,
          8.010419459006402,
          5.41706745737011,
          7.1392496906228,
          8.492113771978321,
          9.223474655720896,
          6.4976660800507995,
          5.339151765265665,
          7.643763231441683,
          5.798456689680797,
          5.021212962801917,
          8.394533900496786,
          7.22932543338412,
          6.122230664586021,
          7.049477303593495,
          8.119323527657446,
          8.724690480400684,
          4.837228227556501,
          5.831618629397982,
          4.413544140892775,
          6.198015138600469,
          8.565013264665284,
          7.374481558904546,
          7.428892583043472,
          5.6917617436864605,
          5.487241743310776,
          6.419141081127637,
          6.016983276412288,
          4.880293016842076,
          6.275151658589152,
          5.51121510675639,
          9.734633309997356,
          5.482499927278799,
          6.757249381373617,
          5.789498870822538,
          5.603985734860837,
          4.640488813834798,
          6.603424021773214,
          5.846795124508488,
          7.07786994181186,
          5.965179720724396,
          8.702424706789351,
          5.881053483915334,
          7.253792420729021,
          6.690639073028709,
          7.33661506947456,
          6.205830013189279,
          6.596899260786053,
          6.282330880497156,
          4.937019559140877,
          7.308816284743761,
          6.095413602116459,
          4.8570466121204365,
          6.609415590843616,
          6.167953849553298,
          4.407043062584152,
          5.0767437277993315,
          6.852184144407808,
          6.699942920987146,
          5.342067443655029,
          6.5067417258534554,
          4.73197824130429,
          6.123271018875587,
          4.025482323261487,
          5.645054510227371,
          5.879302513797394,
          4.809140435626897,
          6.116393922620708,
          6.306689602458223,
          7.357780295681643,
          5.9765519960828515,
          5.272812682460542,
          7.424510344074708,
          3.7049581981588777,
          5.2795898734171,
          9.102789701768083,
          4.665103702061344,
          3.51327106639987,
          10.623814655062562,
          6.816085003758084,
          7.371314064419667,
          8.19125681667703,
          7.460436290526106,
          6.871378544215332,
          5.124818448631359,
          5.908819308354329,
          7.476810186405449,
          7.418888972952771,
          5.380528083903567,
          6.494024207340368,
          7.10806057034515,
          5.394515618257417,
          5.870486310332226,
          8.805044213673686,
          5.004222645863399,
          5.743205561912076,
          6.212829052605814,
          4.092089899976417,
          4.750475623219019,
          8.589873643217441,
          6.241773915142778,
          6.822761331808297,
          5.241918411904386,
          3.654668690126796,
          5.611967654854553,
          4.286336404183342,
          7.701342098068432,
          6.711109665044044,
          9.18675209768974,
          7.484162783626644,
          5.025285180021628,
          6.749894145664266,
          6.473179362624949,
          5.831324180694628,
          4.668351353315419,
          4.021870228341571,
          6.14613838718311,
          4.687427676576799,
          6.613453741646488,
          8.033485480370048,
          5.0753038321617145,
          5.903841688836126,
          4.2869429350497885,
          7.355028888756505,
          7.579982139193789,
          5.087080949085379,
          6.25452596684334,
          6.120670424341644,
          7.867216291282766,
          7.461443844770487,
          5.535308150499769,
          6.059025371347072,
          8.710563845923488,
          9.613012978867337,
          5.2578207181968555,
          5.903199452346308,
          6.658904272184733,
          5.763637567244461,
          6.863052370706715,
          6.004691854956414,
          8.238802411130003,
          7.908596577008572,
          6.553862441146792,
          5.943309629914671,
          4.708629756115281,
          6.291351654105002,
          5.717436510411618,
          6.897276255388411,
          7.04447924093513,
          5.581840045537769,
          8.149191359869349,
          7.1074073990878555,
          7.554271883897134,
          7.442254591856553,
          6.94810205331048,
          7.411094922415386,
          3.625938846615631,
          9.5539335069118,
          5.819977032631474,
          5.27109967023347,
          7.697845163416879,
          4.972183028345296
         ]
        },
        {
         "line": {
          "color": "rgb(111.36363636363636, 96.36363636363636, 96.36363636363636)"
         },
         "orientation": "h",
         "points": false,
         "side": "positive",
         "type": "violin",
         "width": 3,
         "x": [
          7.719485418067764,
          5.5592356135982355,
          7.609872438042419,
          8.189212179444016,
          6.287954294323107,
          9.700266371550182,
          9.039445707337986,
          7.922221872602747,
          8.167548380698854,
          6.979832715945897,
          7.440991859093493,
          8.957345843205994,
          7.305977128685642,
          8.910448936492484,
          7.21358238236183,
          6.201242997065576,
          10.96565396507924,
          8.89285480603845,
          6.6523181219693255,
          5.279306647063946,
          8.054356758285142,
          8.45962906426024,
          8.223444846643549,
          8.583744684324405,
          9.32222581802696,
          10.664486737631828,
          11.238907264856916,
          8.500671193663573,
          5.701933234602455,
          7.585581735955912,
          6.65838840239743,
          6.708917404852981,
          8.77673741515411,
          9.052530745938355,
          9.914209558564067,
          7.143080712799948,
          4.2804886602576495,
          8.384780131216722,
          6.448330940795442,
          6.830588237942925,
          5.677733974963926,
          7.458974992563611,
          6.8360299690313635,
          5.5324200442387435,
          7.249821638817292,
          9.06738635375563,
          9.562636962317034,
          7.580735829676012,
          6.676222972252067,
          6.907112203470002,
          7.236147604723762,
          4.111171435972047,
          6.741262659648799,
          5.162686010412607,
          9.125947761394055,
          6.027924717865647,
          7.5152860284544785,
          8.612390306163578,
          10.634825969454589,
          8.25615443286889,
          6.161302566270618,
          8.47158129220924,
          5.298613813906801,
          8.361669283356765,
          8.396595356431042,
          6.451870014160781,
          7.579487431835254,
          9.844520141234012,
          7.734656202735712,
          7.485783425904261,
          7.239987262913546,
          7.200560611120924,
          8.886675329871697,
          9.673891966708466,
          5.852976715829616,
          8.90758176900523,
          7.799259846922104,
          6.4115065638164666,
          8.905002742378404,
          6.217546711059445,
          11.717842733208464,
          6.180188279215059,
          7.696623797563936,
          8.657248109180227,
          8.916610277417961,
          7.36631508772422,
          5.713086496548658,
          7.7488948396713875,
          5.8109824053008365,
          4.462796298215162,
          7.629963122680533,
          9.674639030848654,
          8.940031765666129,
          8.454963011061155,
          8.272686310131634,
          8.257437418849543,
          8.883034624998468,
          6.941032435684126,
          8.238094917577493,
          8.608550840150425,
          5.339475836005321,
          9.18049264239298,
          7.473867997696633,
          9.164897384373443,
          8.796755004367895,
          8.985343349039386,
          10.16027243717513,
          7.455551895370554,
          6.131034961677088,
          4.888806028473277,
          6.693085315812036,
          7.516645336353371,
          8.915271370564321,
          8.217094436587434,
          5.8871568822529206,
          9.343856864932352,
          7.6056886972709,
          9.924949600763302,
          7.888286889513954,
          9.262165277899534,
          9.920526594265755,
          8.596254986145178,
          10.351946125957785,
          8.19952997436658,
          8.745563438941131,
          8.319599431701922,
          8.620433326117869,
          9.13472862493817,
          7.46570121485253,
          8.323014065950805,
          6.712176264285356,
          9.067413161236988,
          8.012666031857593,
          8.682952965534495,
          4.888899652525609,
          7.58496314402731,
          3.915147683611214,
          10.454853682968976,
          8.070884043366728,
          6.8219292521029535,
          8.737708984953885,
          7.452773819697979,
          9.292188544134724,
          4.353057331313389,
          7.032654198334065,
          6.459992235430264,
          7.814876869572701,
          6.235459681322298,
          8.824204586521784,
          8.338162090986009,
          7.9365752484098415,
          5.788002742761652,
          5.047202089427389,
          9.835460987660271,
          8.697344349529237,
          8.049643550322594,
          11.147911100986516,
          6.299509296708843,
          7.286439132188404,
          7.876616228970492,
          6.380976083094504,
          9.565212555592955,
          7.840752881011402,
          6.177631292040161,
          3.713149939719653,
          6.005615998479756,
          8.351397372435454,
          5.585635262338739,
          6.240843051587792,
          7.280031611663432,
          9.056525114441676,
          4.626064144895402,
          5.383461629407816,
          6.464617522759811,
          8.16257666840928,
          10.358474305487356,
          6.23226162078927,
          5.644261062413042,
          9.270555580539773,
          8.265206133928615,
          3.881580946120677,
          6.367895143013532,
          7.005682857384357,
          8.731454186523433,
          8.09457034164631,
          4.713184827132892,
          7.836822739798808,
          8.769518936088144,
          10.62379716554173,
          9.235726465476215,
          7.5390488810960035,
          6.92781157462955,
          7.739563400945623,
          8.755997827128867,
          9.86438609065881,
          8.49966391704049,
          9.029907689570292,
          8.183592329153182,
          7.757313425269101,
          6.831712090398308
         ]
        },
        {
         "line": {
          "color": "rgb(129.0909090909091, 79.0909090909091, 79.0909090909091)"
         },
         "orientation": "h",
         "points": false,
         "side": "positive",
         "type": "violin",
         "width": 3,
         "x": [
          4.513317437561488,
          4.8924725719201625,
          5.140597117442842,
          10.813768567999947,
          7.315034092899594,
          6.964934853082106,
          8.201576552766742,
          7.932543588223878,
          9.068354916776984,
          8.769095375541202,
          11.773054946091303,
          7.389935632168128,
          8.49338713555343,
          8.66131691114955,
          8.126396247248282,
          9.465240672950612,
          9.31858514002062,
          11.030894812987336,
          8.565118902658847,
          8.90537926174152,
          9.622606903870343,
          9.60133951988343,
          9.880765028324674,
          8.569314825252189,
          7.048251349190717,
          6.485349276526069,
          8.099389322011271,
          9.562171340478738,
          7.702110777293292,
          6.115031623871545,
          10.249485473886995,
          6.472804447723961,
          5.4336241617791785,
          5.0635228534054,
          8.238366536363127,
          8.743751724469709,
          9.171954503074192,
          7.486552027345048,
          11.225141931858897,
          5.090807006634266,
          6.9560904928744955,
          4.602670869371771,
          9.92091083875508,
          6.961913116856685,
          8.727016207877146,
          6.563300886782785,
          7.681038617923066,
          5.875579024362878,
          8.553026986353142,
          8.334191839905863,
          5.530997346241686,
          8.15586341033706,
          7.973321535971328,
          9.8469844383338,
          8.930720363721843,
          5.909785780177425,
          10.744912922069195,
          6.795414347051405,
          7.417183512073597,
          9.453937429479332,
          9.462016459127014,
          9.524754891015146,
          6.059026097027461,
          10.323281975346024,
          9.94332427483423,
          9.543627173613109,
          8.596636955750618,
          7.322610093791019,
          11.030707669476104,
          9.533762581872612,
          7.821484415176073,
          7.805198963180737,
          7.190736987429334,
          13.024826906141554,
          7.962108880501964,
          8.733160345140378,
          6.468140975794519,
          10.000908211951105,
          9.358387694713944,
          6.449418397911103,
          11.18035183233424,
          5.256844907486766,
          6.322238524347765,
          6.750999134411749,
          9.10159850985282,
          9.533505199429271,
          8.588057294188594,
          8.180616094614516,
          7.584086145394753,
          9.361906478532529,
          8.664997887801627,
          6.358156349932672,
          7.0409632605545,
          7.622210680869264,
          8.759518255170981,
          8.678896100848162,
          7.978448183397523,
          7.611086419875596,
          8.520352172008264,
          8.64222936994832,
          8.114892757950997,
          7.1292967035446,
          9.81438850550164,
          8.316655945308534,
          5.758276529088855,
          10.48860622062977,
          9.338631987759634,
          8.158082594586489,
          8.183278244963985,
          9.274918437543038,
          7.138325242223293,
          6.7530400360097484,
          7.284593009608188,
          7.302188659900935,
          7.549316660689947,
          8.653533138013001,
          7.054643047953683,
          9.47838282413735,
          9.92045501806878,
          8.187072695005828,
          6.962501584664855,
          6.048875554375169,
          8.285215737957524,
          7.266414357242726,
          8.970142560770672,
          5.362431510272405,
          7.685868881035423,
          6.122725240872963,
          7.839742555773519,
          6.382070843543101,
          7.061064226333505,
          6.455905456032367,
          7.703799553726192,
          4.755850954248653,
          6.825332747129275,
          5.522447283988055,
          8.377300688593735,
          8.571902330071959,
          7.331438552160585,
          10.085832844253568,
          7.895358412449353,
          5.933554836395954,
          9.57326413685728,
          8.56016147434785,
          9.054414436496591,
          8.774241634595331,
          9.87835508702885,
          8.487663949459213,
          8.4277388023716,
          9.904354240839831,
          8.696565714094842,
          9.767097851309186,
          10.796526369514824,
          7.462684234519873,
          7.846950611116589,
          6.637300685527514,
          9.06700636139147,
          5.8425475485721705,
          9.880132887271046,
          8.604822683176065,
          8.350377528418194,
          6.198312934955302,
          7.530360865475945,
          9.366874099253083,
          8.4041835609215,
          8.396594007324081,
          7.775795310889952,
          9.055653826055297,
          11.347083419847412,
          6.801315438841634,
          6.019846796340034,
          5.9898433481937765,
          6.803164214413405,
          9.426966505783344,
          7.501003345634385,
          3.7470044545446664,
          9.762768749595054,
          7.312883188602679,
          8.381129089222728,
          5.505261728974139,
          6.022120396767335,
          8.841744307599752,
          8.555209397938158,
          8.110477854032508,
          6.528740341126214,
          8.51933168830336,
          5.604663950436133,
          8.97982645262034,
          6.307973958199584,
          6.232040631063771,
          6.998122304312402,
          9.98103185183356,
          8.875674290274274,
          7.9667377661466,
          6.752616496164608,
          5.596663209059569,
          7.768754872966258,
          9.109130391272448,
          8.091212626906527,
          8.636622243227649
         ]
        },
        {
         "line": {
          "color": "rgb(146.8181818181818, 61.81818181818181, 61.81818181818181)"
         },
         "orientation": "h",
         "points": false,
         "side": "positive",
         "type": "violin",
         "width": 3,
         "x": [
          9.83928863254905,
          8.746665428156145,
          11.914868828945844,
          9.421641537825536,
          9.75194899278308,
          7.927281800081917,
          10.736257909243593,
          6.6736322933019965,
          4.67223464366867,
          9.677406563961108,
          9.918123788397072,
          4.765240488078649,
          6.430655393878709,
          7.562937433672033,
          10.271565531416686,
          7.681266846768969,
          10.270700882280746,
          6.970987609683812,
          8.586568414028813,
          7.785118423209596,
          9.206768843916011,
          5.36637524645659,
          9.651921939633633,
          9.360441470214829,
          11.106963232229424,
          10.021467857578738,
          7.619724275982473,
          8.482301844926232,
          6.5704158685910565,
          8.634656170887967,
          8.015559878890642,
          12.04314409904562,
          9.517448560226516,
          7.336763973691624,
          9.261271457476296,
          7.496924728276433,
          8.139333688886872,
          6.749784979286647,
          5.045059519501228,
          7.659959923662974,
          9.707652519245055,
          11.446611723332886,
          8.669885837993444,
          8.26619649764172,
          6.234133457510893,
          7.776944247882428,
          9.0929859848501,
          6.754978800342729,
          10.464613016409158,
          9.665530780973356,
          9.12630238217074,
          12.336179468963769,
          11.351131516720068,
          6.617500101772686,
          9.231812502531133,
          7.642241058169917,
          8.122711282614592,
          7.46243295823551,
          7.262233649610813,
          8.305850138914039,
          8.327039220840996,
          6.412430762010137,
          9.428730812414711,
          8.673245155050626,
          9.463295983264372,
          9.475380828506932,
          8.287837990764123,
          8.819275453004506,
          8.378291499448684,
          7.553495097456233,
          7.7054394081838335,
          9.123339410585952,
          7.228540014824974,
          10.201029167486237,
          10.438958307677977,
          9.77943003177132,
          7.308182479524129,
          8.269294146214008,
          7.465930732410303,
          10.314117048615888,
          9.702250538627323,
          7.686763635114434,
          6.884191915028756,
          8.213889712807044,
          8.619278792766702,
          5.936747159783232,
          8.08605449443996,
          8.517252406611998,
          7.395163496986626,
          13.04415623311051,
          8.944770757661786,
          10.009401870222977,
          8.552879377883613,
          7.252025847766898,
          7.96556777597209,
          10.412898552451626,
          5.923494136895248,
          8.403630575452683,
          9.517353702644693,
          9.620297712122378,
          8.299531244989296,
          7.608043486082691,
          9.476130041232508,
          9.38668267146212,
          5.55677039773129,
          8.455201005348775,
          10.578873576765112,
          6.484029355950838,
          9.813992334610482,
          10.351429385858555,
          9.057628492881507,
          11.349718641916011,
          6.872912882300656,
          7.608958959620848,
          6.588157254936807,
          8.185786231374582,
          11.355421451390644,
          5.509903699140702,
          7.823163276618207,
          9.007387940906836,
          6.589716911214987,
          10.410841186957358,
          7.741781236814169,
          10.052303575865572,
          8.142789654122785,
          8.058146053837543,
          9.180032385433393,
          7.299424971564716,
          8.424851185737886,
          8.265131240535574,
          7.308827606421179,
          7.532565973244791,
          8.359206035650985,
          9.507423050005002,
          8.074402659956485,
          7.095427578722491,
          7.202905429935441,
          5.410125812410237,
          8.661243001407549,
          6.746289650274708,
          9.114886794394389,
          7.655556445522373,
          9.15970675978637,
          13.010735359475625,
          4.507937443687515,
          7.788557568360497,
          12.98764485751068,
          7.659387831134139,
          5.931460254265895,
          8.56207538792051,
          7.97888297547567,
          10.877994600445474,
          6.199875992919674,
          6.112956673411363,
          7.145496971933117,
          7.401621272674974,
          11.123354716942927,
          6.9757994612691006,
          5.868128616307928,
          5.060402812658124,
          8.721752546351345,
          9.623275302375252,
          8.112500190408369,
          7.392648810661327,
          8.873217403337325,
          9.18338783680111,
          12.488644456981888,
          9.347239856948695,
          9.770998064655414,
          7.908350671357073,
          11.180188979960567,
          6.556556688031865,
          5.14170445084365,
          9.075389146714445,
          8.60111198787874,
          8.711671894071122,
          7.195670574382706,
          10.036511113399383,
          5.770721346275561,
          7.472416555697547,
          8.357820087885113,
          9.217061074729768,
          7.248272813789271,
          11.036379657713784,
          11.758836783966617,
          6.691835087598004,
          6.7061655531543085,
          10.673471714253605,
          8.266120175039958,
          11.634739125322795,
          8.297094207652654,
          8.612744067083778,
          8.543363114966551,
          9.116606902782303,
          6.088598212465465,
          11.265375390768703,
          9.55080727508042,
          9.607790976523468,
          11.013729787348105,
          9.663364785339908
         ]
        },
        {
         "line": {
          "color": "rgb(164.54545454545453, 44.54545454545453, 44.54545454545453)"
         },
         "orientation": "h",
         "points": false,
         "side": "positive",
         "type": "violin",
         "width": 3,
         "x": [
          12.414166930255432,
          9.991008033411193,
          10.819492113907158,
          12.31016121746363,
          8.459883594420168,
          9.272405503363972,
          8.482022419047475,
          9.209515998264626,
          11.805193084021475,
          7.49073065997254,
          9.96175704068644,
          9.393943733670689,
          10.329392537735313,
          13.688140637792554,
          12.464140422020526,
          10.85915931641104,
          11.64533939903876,
          10.954363258423207,
          7.628514562823417,
          9.2069498757201,
          10.84091161098243,
          11.440995082973492,
          8.394505428955746,
          9.468384252256048,
          13.61352162699055,
          7.361519430441778,
          9.129627414962432,
          10.108342990647364,
          9.001113839792449,
          9.089732882314134,
          11.01618069025649,
          10.438881923496208,
          12.537943121352365,
          10.799149362075775,
          13.609112518956753,
          9.682291095756264,
          8.248161035913324,
          12.561175892965702,
          10.946694244866183,
          13.483000860999397,
          11.878100775331411,
          7.335898515532874,
          8.651336502571324,
          9.16535820175363,
          13.313078969268153,
          13.177323489616322,
          13.131326790212508,
          13.608599791413967,
          5.986840776414639,
          8.630126920529932,
          9.8730782598629,
          9.30254855808822,
          11.766456672765932,
          9.270599153636663,
          14.46085062072874,
          12.724525680797177,
          12.97291967552625,
          10.04090841325346,
          7.599550518696006,
          10.796301181959487,
          9.151482084588848,
          13.13405646659963,
          10.347092026981974,
          9.150617503172407,
          5.762945482458169,
          10.458853729123565,
          8.460303475244785,
          10.113721329049676,
          11.313293204649728,
          8.231811074197338,
          7.070077531029107,
          10.646991904751664,
          10.630457645553117,
          9.440819276082069,
          11.287715109282928,
          7.915427647137798,
          10.290097196717932,
          11.197810202088975,
          9.48537445356562,
          10.47412361485705,
          8.051080964192533,
          8.92742747424898,
          9.350976063375237,
          11.51012475098182,
          9.730256266155678,
          8.697510636406255,
          11.806264885134212,
          8.623609786231736,
          10.750821745065169,
          10.025524692721111,
          11.90499403733442,
          11.13494578724556,
          14.61517645784063,
          8.735457898334145,
          10.658424280170715,
          9.088142952448552,
          9.48292052185782,
          9.93375732705007,
          11.338443771253203,
          11.768983352645115,
          11.03893999053422,
          12.942428931453984,
          10.126388909976196,
          12.021578296016797,
          12.917272456439791,
          11.487039749590284,
          5.828286566769053,
          12.117431587423546,
          10.590205213545486,
          11.350683346094844,
          14.355957495262626,
          8.939851052292532,
          7.430244318812148,
          7.0642419469084,
          10.438696233386356,
          9.476938169385567,
          10.498555844931538,
          6.076661082654982,
          6.869011969348523,
          13.611125574791544,
          10.52600434555521,
          10.74928181643499,
          8.324962435293573,
          9.77444635937738,
          10.265704666400763,
          14.223262244206818,
          9.609622759665276,
          7.979064866471466,
          7.25947566140466,
          6.469588406478645,
          9.961645814656077,
          12.738591075971575,
          10.969228470459644,
          9.787773669221446,
          12.576137882749787,
          10.985889058974305,
          8.847073322585993,
          9.621085019931236,
          9.389239559756376,
          12.236241940267517,
          11.904620933206218,
          5.791013333020725,
          11.862388328798836,
          11.58428881171572,
          9.838926964980775,
          10.74047880246926,
          7.765650519033812,
          9.747724939415166,
          8.882395783652864,
          9.495811799664615,
          12.089615870031125,
          10.209639476204648,
          6.800400350782105,
          6.1727927228713,
          11.163787482350498,
          9.023297984231352,
          10.136362860543317,
          9.60038564091008,
          7.126391427828747,
          9.38728383049137,
          11.468498716934342,
          10.80578175272433,
          8.392197101501624,
          11.57888832910043,
          9.089779087373008,
          13.290363563631018,
          11.415267023828145,
          11.942336173093071,
          11.45653726538321,
          13.995757263808224,
          10.533013240263562,
          7.988892403668906,
          8.398045370499805,
          12.131228824158075,
          8.550771044601152,
          11.517362837057007,
          12.164551533047357,
          10.367600891361416,
          7.387447590495265,
          8.11560912131932,
          10.746707091234343,
          7.360457804288689,
          11.950952480104304,
          11.026837038686066,
          11.367043378583332,
          11.577998904506728,
          12.691491543726976,
          9.526514579363642,
          7.283313938802484,
          10.291643513963528,
          12.318248975780753,
          9.646358287217264,
          10.1921282823705,
          11.031652852698176,
          10.906673464192512,
          11.94762008512748,
          11.523622896655198,
          12.527970895736765,
          10.99725293777984,
          11.282478144632387
         ]
        },
        {
         "line": {
          "color": "rgb(182.27272727272725, 27.272727272727252, 27.272727272727252)"
         },
         "orientation": "h",
         "points": false,
         "side": "positive",
         "type": "violin",
         "width": 3,
         "x": [
          9.578204572601583,
          14.857140479088056,
          12.65697762640637,
          10.519160166969025,
          8.80688666526477,
          11.455161320337602,
          12.604862494229314,
          10.932176286374547,
          13.88438506088793,
          11.59499651976509,
          7.777914406568071,
          12.009992743624045,
          11.310324946028858,
          11.184618862550424,
          12.506141968612056,
          8.363723251305593,
          8.070006001697248,
          14.004996056781174,
          11.085402535015952,
          12.42744535546848,
          10.033821985446076,
          13.457840630116229,
          9.959819224392035,
          12.08641263561017,
          9.91306974820125,
          11.13781980143616,
          12.44175049775638,
          11.46326125998164,
          12.18163244091229,
          10.843799355898913,
          13.4628052398484,
          11.735968442084395,
          11.603679945166432,
          9.286535392781222,
          11.588477279426536,
          7.222577179535375,
          14.387747148024808,
          10.390118720830449,
          8.530405849752066,
          9.642397838727556,
          12.564493183374484,
          11.183831062011826,
          10.198367228147667,
          11.48627188310305,
          9.358224980259235,
          12.234906804295886,
          11.813162903425663,
          13.859350136211772,
          14.551492694288022,
          10.197425123508353,
          11.542165463648304,
          11.098797314125177,
          10.084931262955187,
          13.289635137916743,
          9.070119731561045,
          14.85226032475451,
          10.730770134053223,
          9.794042966742465,
          9.505872433050984,
          10.594481192180169,
          11.485288981834652,
          11.082504755104788,
          15.65066475221795,
          14.301892842033434,
          12.355178766964976,
          10.833957758255377,
          7.9846330160948735,
          12.03146732203106,
          13.638245874272094,
          10.01354900651937,
          11.851769123145749,
          11.274303969821144,
          8.792603938484692,
          13.16192463145455,
          12.48594916507776,
          13.862250377287872,
          9.532585288249752,
          12.295106369448746,
          11.760591707028354,
          11.75103237084565,
          11.678764458590807,
          10.935105110805027,
          9.838670681543192,
          14.644151808663496,
          14.219044004046054,
          12.499120688054235,
          11.193659987061556,
          13.266872402432952,
          14.88761508922141,
          14.40372113070788,
          10.905619121110757,
          12.573183790649384,
          12.91282780572876,
          9.895108466347043,
          15.162658879880102,
          12.31377643353838,
          12.648048501970736,
          12.582924701092708,
          13.195191259462243,
          12.657008075427717,
          8.071838769981529,
          6.647854321219054,
          13.062951257912124,
          10.918661326901884,
          9.504040151288256,
          13.717037208513853,
          15.184022648992418,
          12.25700092896204,
          16.787532005688213,
          8.375809765597278,
          8.885156961765578,
          12.33785074527917,
          9.096821448592832,
          10.096099310101778,
          11.917336067276304,
          11.605769548510269,
          8.961905705877179,
          6.751905705369129,
          8.6194814852284,
          11.145161036669004,
          9.67957999762387,
          11.447781974302435,
          14.593340579630771,
          11.240216188609171,
          13.82695489546559,
          14.841102015365705,
          10.098950354767736,
          9.38661348467981,
          11.434264173001289,
          11.824469125585974,
          10.25194613754712,
          9.543516203831768,
          12.18168493687012,
          9.43934111645434,
          12.790501822845744,
          13.15340759851292,
          9.379752861119853,
          12.753044056600796,
          11.578827010924522,
          15.134789133254932,
          13.630745916692916,
          11.765000801073814,
          10.052672592792645,
          11.608815495276506,
          10.264078274913905,
          9.613605484978343,
          13.004239749192111,
          12.556457214796222,
          14.111714427717878,
          12.472438940320975,
          14.044951616454965,
          13.597016134803953,
          11.029856414046463,
          13.244354111640972,
          10.677330467027874,
          9.574108714912622,
          11.499475487082428,
          11.354422487513698,
          9.99907843416606,
          12.492891594522836,
          13.428018967729647,
          12.918149851861966,
          12.455539257591589,
          11.581529027941846,
          11.21087455769595,
          10.8638833924579,
          8.740619187035515,
          10.421653307721977,
          11.258449434645843,
          11.143630787578532,
          13.231803496380584,
          12.621012174024957,
          11.02430868075514,
          14.677409045744216,
          11.035546955940918,
          12.77771496168897,
          12.810304791433978,
          13.31189813404978,
          11.08653129544244,
          9.017644616618137,
          17.39470979432919,
          8.61562018367666,
          12.468716625888874,
          12.72074014690367,
          10.07602002034726,
          12.605127022993894,
          13.029607938487953,
          11.969679461627072,
          11.730707219310863,
          13.378414053113485,
          10.175197601934087,
          13.28938409186107,
          8.231970819573641,
          11.617173302753104,
          11.977807622163937,
          16.19272703063702,
          10.247692013171424,
          11.597831614129644,
          12.015533394985484,
          14.392584143095336
         ]
        },
        {
         "line": {
          "color": "rgb(200.0, 10.0, 10.0)"
         },
         "orientation": "h",
         "points": false,
         "side": "positive",
         "type": "violin",
         "width": 3,
         "x": [
          10.38542602211845,
          12.04858336798383,
          10.657292177214249,
          11.542001442697783,
          12.293623403444524,
          9.860341177064631,
          13.857593715988262,
          12.991300761813434,
          13.541201563117724,
          15.22508936250355,
          14.086889873830154,
          10.457504092471297,
          10.016463154604928,
          9.53869174987156,
          9.645141062939004,
          11.353127820868316,
          9.741204126233688,
          12.111592787295464,
          11.26697083479403,
          8.337675717882151,
          13.595018474303323,
          11.97151534424101,
          13.957990143764675,
          13.546447973180545,
          10.444169307446424,
          10.7008074072068,
          13.510086578224556,
          13.078006152489742,
          10.28371167004704,
          11.889318229609216,
          11.614468118074114,
          9.079054322212103,
          13.68791691659553,
          13.25382642826381,
          11.900337517262468,
          8.769400038202487,
          10.612607282827184,
          8.056440179821152,
          7.479961985384289,
          9.285740394248512,
          11.759784297567762,
          8.139727763713028,
          10.003879364037385,
          11.549244018227313,
          10.804818047672184,
          10.078292952142762,
          11.591276795373224,
          11.643212869262229,
          9.517945298069526,
          10.597840852530322,
          10.639051032715471,
          10.49280119892116,
          9.675384949500971,
          9.577216960556578,
          11.680718727494838,
          7.976983266564227,
          8.441738610333465,
          12.862492804414774,
          10.47055717412121,
          8.222706269325668,
          11.5810634199635,
          11.173068237377764,
          10.203727316044768,
          8.37703085308093,
          9.717403928645114,
          11.66883510635839,
          11.854993145933095,
          9.830640569406269,
          10.28132372441017,
          10.877545051561825,
          9.76442201573343,
          15.83023567023566,
          12.28258527421952,
          10.112919962910675,
          12.228040412669335,
          14.9855671816451,
          8.715775324621685,
          12.391862842703532,
          9.591166105355695,
          15.019892565446105,
          10.911525995896008,
          12.98292948575624,
          10.81116288199517,
          13.4083485910474,
          12.8169801513452,
          15.05710162917476,
          12.620507920603131,
          11.935519682140445,
          10.609850015163213,
          11.832401940735334,
          13.101082178790197,
          11.20880583781038,
          13.768694790110755,
          13.218109951653515,
          8.27505084348252,
          9.863383685874188,
          14.668358801596115,
          5.82636004163254,
          11.785153683029009,
          12.053844662436823,
          13.936863976095466,
          11.886349227361745,
          8.80793786246569,
          12.579739619764148,
          11.458138477485813,
          9.407485369886832,
          10.757883050772673,
          11.808681985819945,
          10.357581440245124,
          11.883801844941283,
          12.588673387352827,
          11.312730840767284,
          11.54591448972812,
          12.012135224227272,
          11.749981059977952,
          10.248690043194454,
          6.632598560745549,
          9.908781406427895,
          12.304598279408664,
          12.313092342908812,
          13.389610943078402,
          10.4528567935833,
          9.432737592843097,
          13.813239282557356,
          12.875379851107974,
          8.908935571433886,
          14.72058014972444,
          10.313245774399531,
          13.367543589954897,
          10.545355505448375,
          12.618791852256498,
          10.760656688453569,
          8.964115365877513,
          11.329603182156816,
          11.533528429415949,
          9.87298737911543,
          9.57235946708254,
          15.684670823169853,
          15.232633380761705,
          11.066815879722803,
          11.7692468386242,
          9.901751404393517,
          7.57621674429676,
          13.628887942801988,
          11.769066406869271,
          12.408309641014206,
          12.112824291493569,
          8.508680720085271,
          12.01754315024518,
          14.727794782431392,
          9.228039242560085,
          12.301822192932962,
          10.811196418968416,
          13.653459533854996,
          12.422631983843974,
          12.51982541151608,
          7.565020885156676,
          13.561041276480877,
          10.56852794543529,
          12.423025803086738,
          12.172956561770931,
          12.705445088215589,
          9.568175929164276,
          14.362515390082809,
          11.008613640069782,
          11.802749096983982,
          12.379363246481224,
          11.494815345704923,
          7.631218578323092,
          13.76821305541408,
          10.848135658264717,
          11.851391160297762,
          11.751307602215611,
          14.086561391897089,
          10.61500065097024,
          10.17125571837997,
          8.798994276613262,
          10.660691379403794,
          9.85313646350717,
          11.026693526550432,
          11.178485892369787,
          10.8142759140855,
          13.3264334149062,
          8.653954381731142,
          13.62498216979527,
          14.227060933776418,
          5.74124690798109,
          11.132484331863846,
          10.575242162246225,
          12.11405820145708,
          13.972758482444595,
          12.563225851897071,
          12.267103434545223,
          11.056678740026204,
          11.695455256034938,
          8.838259914919881,
          12.906145842255448,
          11.856476464962096,
          11.654784983886485,
          10.29083653271199
         ]
        }
       ],
       "layout": {
        "template": {
         "data": {
          "bar": [
           {
            "error_x": {
             "color": "#2a3f5f"
            },
            "error_y": {
             "color": "#2a3f5f"
            },
            "marker": {
             "line": {
              "color": "#E5ECF6",
              "width": 0.5
             },
             "pattern": {
              "fillmode": "overlay",
              "size": 10,
              "solidity": 0.2
             }
            },
            "type": "bar"
           }
          ],
          "barpolar": [
           {
            "marker": {
             "line": {
              "color": "#E5ECF6",
              "width": 0.5
             },
             "pattern": {
              "fillmode": "overlay",
              "size": 10,
              "solidity": 0.2
             }
            },
            "type": "barpolar"
           }
          ],
          "carpet": [
           {
            "aaxis": {
             "endlinecolor": "#2a3f5f",
             "gridcolor": "white",
             "linecolor": "white",
             "minorgridcolor": "white",
             "startlinecolor": "#2a3f5f"
            },
            "baxis": {
             "endlinecolor": "#2a3f5f",
             "gridcolor": "white",
             "linecolor": "white",
             "minorgridcolor": "white",
             "startlinecolor": "#2a3f5f"
            },
            "type": "carpet"
           }
          ],
          "choropleth": [
           {
            "colorbar": {
             "outlinewidth": 0,
             "ticks": ""
            },
            "type": "choropleth"
           }
          ],
          "contour": [
           {
            "colorbar": {
             "outlinewidth": 0,
             "ticks": ""
            },
            "colorscale": [
             [
              0,
              "#0d0887"
             ],
             [
              0.1111111111111111,
              "#46039f"
             ],
             [
              0.2222222222222222,
              "#7201a8"
             ],
             [
              0.3333333333333333,
              "#9c179e"
             ],
             [
              0.4444444444444444,
              "#bd3786"
             ],
             [
              0.5555555555555556,
              "#d8576b"
             ],
             [
              0.6666666666666666,
              "#ed7953"
             ],
             [
              0.7777777777777778,
              "#fb9f3a"
             ],
             [
              0.8888888888888888,
              "#fdca26"
             ],
             [
              1,
              "#f0f921"
             ]
            ],
            "type": "contour"
           }
          ],
          "contourcarpet": [
           {
            "colorbar": {
             "outlinewidth": 0,
             "ticks": ""
            },
            "type": "contourcarpet"
           }
          ],
          "heatmap": [
           {
            "colorbar": {
             "outlinewidth": 0,
             "ticks": ""
            },
            "colorscale": [
             [
              0,
              "#0d0887"
             ],
             [
              0.1111111111111111,
              "#46039f"
             ],
             [
              0.2222222222222222,
              "#7201a8"
             ],
             [
              0.3333333333333333,
              "#9c179e"
             ],
             [
              0.4444444444444444,
              "#bd3786"
             ],
             [
              0.5555555555555556,
              "#d8576b"
             ],
             [
              0.6666666666666666,
              "#ed7953"
             ],
             [
              0.7777777777777778,
              "#fb9f3a"
             ],
             [
              0.8888888888888888,
              "#fdca26"
             ],
             [
              1,
              "#f0f921"
             ]
            ],
            "type": "heatmap"
           }
          ],
          "heatmapgl": [
           {
            "colorbar": {
             "outlinewidth": 0,
             "ticks": ""
            },
            "colorscale": [
             [
              0,
              "#0d0887"
             ],
             [
              0.1111111111111111,
              "#46039f"
             ],
             [
              0.2222222222222222,
              "#7201a8"
             ],
             [
              0.3333333333333333,
              "#9c179e"
             ],
             [
              0.4444444444444444,
              "#bd3786"
             ],
             [
              0.5555555555555556,
              "#d8576b"
             ],
             [
              0.6666666666666666,
              "#ed7953"
             ],
             [
              0.7777777777777778,
              "#fb9f3a"
             ],
             [
              0.8888888888888888,
              "#fdca26"
             ],
             [
              1,
              "#f0f921"
             ]
            ],
            "type": "heatmapgl"
           }
          ],
          "histogram": [
           {
            "marker": {
             "pattern": {
              "fillmode": "overlay",
              "size": 10,
              "solidity": 0.2
             }
            },
            "type": "histogram"
           }
          ],
          "histogram2d": [
           {
            "colorbar": {
             "outlinewidth": 0,
             "ticks": ""
            },
            "colorscale": [
             [
              0,
              "#0d0887"
             ],
             [
              0.1111111111111111,
              "#46039f"
             ],
             [
              0.2222222222222222,
              "#7201a8"
             ],
             [
              0.3333333333333333,
              "#9c179e"
             ],
             [
              0.4444444444444444,
              "#bd3786"
             ],
             [
              0.5555555555555556,
              "#d8576b"
             ],
             [
              0.6666666666666666,
              "#ed7953"
             ],
             [
              0.7777777777777778,
              "#fb9f3a"
             ],
             [
              0.8888888888888888,
              "#fdca26"
             ],
             [
              1,
              "#f0f921"
             ]
            ],
            "type": "histogram2d"
           }
          ],
          "histogram2dcontour": [
           {
            "colorbar": {
             "outlinewidth": 0,
             "ticks": ""
            },
            "colorscale": [
             [
              0,
              "#0d0887"
             ],
             [
              0.1111111111111111,
              "#46039f"
             ],
             [
              0.2222222222222222,
              "#7201a8"
             ],
             [
              0.3333333333333333,
              "#9c179e"
             ],
             [
              0.4444444444444444,
              "#bd3786"
             ],
             [
              0.5555555555555556,
              "#d8576b"
             ],
             [
              0.6666666666666666,
              "#ed7953"
             ],
             [
              0.7777777777777778,
              "#fb9f3a"
             ],
             [
              0.8888888888888888,
              "#fdca26"
             ],
             [
              1,
              "#f0f921"
             ]
            ],
            "type": "histogram2dcontour"
           }
          ],
          "mesh3d": [
           {
            "colorbar": {
             "outlinewidth": 0,
             "ticks": ""
            },
            "type": "mesh3d"
           }
          ],
          "parcoords": [
           {
            "line": {
             "colorbar": {
              "outlinewidth": 0,
              "ticks": ""
             }
            },
            "type": "parcoords"
           }
          ],
          "pie": [
           {
            "automargin": true,
            "type": "pie"
           }
          ],
          "scatter": [
           {
            "fillpattern": {
             "fillmode": "overlay",
             "size": 10,
             "solidity": 0.2
            },
            "type": "scatter"
           }
          ],
          "scatter3d": [
           {
            "line": {
             "colorbar": {
              "outlinewidth": 0,
              "ticks": ""
             }
            },
            "marker": {
             "colorbar": {
              "outlinewidth": 0,
              "ticks": ""
             }
            },
            "type": "scatter3d"
           }
          ],
          "scattercarpet": [
           {
            "marker": {
             "colorbar": {
              "outlinewidth": 0,
              "ticks": ""
             }
            },
            "type": "scattercarpet"
           }
          ],
          "scattergeo": [
           {
            "marker": {
             "colorbar": {
              "outlinewidth": 0,
              "ticks": ""
             }
            },
            "type": "scattergeo"
           }
          ],
          "scattergl": [
           {
            "marker": {
             "colorbar": {
              "outlinewidth": 0,
              "ticks": ""
             }
            },
            "type": "scattergl"
           }
          ],
          "scattermapbox": [
           {
            "marker": {
             "colorbar": {
              "outlinewidth": 0,
              "ticks": ""
             }
            },
            "type": "scattermapbox"
           }
          ],
          "scatterpolar": [
           {
            "marker": {
             "colorbar": {
              "outlinewidth": 0,
              "ticks": ""
             }
            },
            "type": "scatterpolar"
           }
          ],
          "scatterpolargl": [
           {
            "marker": {
             "colorbar": {
              "outlinewidth": 0,
              "ticks": ""
             }
            },
            "type": "scatterpolargl"
           }
          ],
          "scatterternary": [
           {
            "marker": {
             "colorbar": {
              "outlinewidth": 0,
              "ticks": ""
             }
            },
            "type": "scatterternary"
           }
          ],
          "surface": [
           {
            "colorbar": {
             "outlinewidth": 0,
             "ticks": ""
            },
            "colorscale": [
             [
              0,
              "#0d0887"
             ],
             [
              0.1111111111111111,
              "#46039f"
             ],
             [
              0.2222222222222222,
              "#7201a8"
             ],
             [
              0.3333333333333333,
              "#9c179e"
             ],
             [
              0.4444444444444444,
              "#bd3786"
             ],
             [
              0.5555555555555556,
              "#d8576b"
             ],
             [
              0.6666666666666666,
              "#ed7953"
             ],
             [
              0.7777777777777778,
              "#fb9f3a"
             ],
             [
              0.8888888888888888,
              "#fdca26"
             ],
             [
              1,
              "#f0f921"
             ]
            ],
            "type": "surface"
           }
          ],
          "table": [
           {
            "cells": {
             "fill": {
              "color": "#EBF0F8"
             },
             "line": {
              "color": "white"
             }
            },
            "header": {
             "fill": {
              "color": "#C8D4E3"
             },
             "line": {
              "color": "white"
             }
            },
            "type": "table"
           }
          ]
         },
         "layout": {
          "annotationdefaults": {
           "arrowcolor": "#2a3f5f",
           "arrowhead": 0,
           "arrowwidth": 1
          },
          "autotypenumbers": "strict",
          "coloraxis": {
           "colorbar": {
            "outlinewidth": 0,
            "ticks": ""
           }
          },
          "colorscale": {
           "diverging": [
            [
             0,
             "#8e0152"
            ],
            [
             0.1,
             "#c51b7d"
            ],
            [
             0.2,
             "#de77ae"
            ],
            [
             0.3,
             "#f1b6da"
            ],
            [
             0.4,
             "#fde0ef"
            ],
            [
             0.5,
             "#f7f7f7"
            ],
            [
             0.6,
             "#e6f5d0"
            ],
            [
             0.7,
             "#b8e186"
            ],
            [
             0.8,
             "#7fbc41"
            ],
            [
             0.9,
             "#4d9221"
            ],
            [
             1,
             "#276419"
            ]
           ],
           "sequential": [
            [
             0,
             "#0d0887"
            ],
            [
             0.1111111111111111,
             "#46039f"
            ],
            [
             0.2222222222222222,
             "#7201a8"
            ],
            [
             0.3333333333333333,
             "#9c179e"
            ],
            [
             0.4444444444444444,
             "#bd3786"
            ],
            [
             0.5555555555555556,
             "#d8576b"
            ],
            [
             0.6666666666666666,
             "#ed7953"
            ],
            [
             0.7777777777777778,
             "#fb9f3a"
            ],
            [
             0.8888888888888888,
             "#fdca26"
            ],
            [
             1,
             "#f0f921"
            ]
           ],
           "sequentialminus": [
            [
             0,
             "#0d0887"
            ],
            [
             0.1111111111111111,
             "#46039f"
            ],
            [
             0.2222222222222222,
             "#7201a8"
            ],
            [
             0.3333333333333333,
             "#9c179e"
            ],
            [
             0.4444444444444444,
             "#bd3786"
            ],
            [
             0.5555555555555556,
             "#d8576b"
            ],
            [
             0.6666666666666666,
             "#ed7953"
            ],
            [
             0.7777777777777778,
             "#fb9f3a"
            ],
            [
             0.8888888888888888,
             "#fdca26"
            ],
            [
             1,
             "#f0f921"
            ]
           ]
          },
          "colorway": [
           "#636efa",
           "#EF553B",
           "#00cc96",
           "#ab63fa",
           "#FFA15A",
           "#19d3f3",
           "#FF6692",
           "#B6E880",
           "#FF97FF",
           "#FECB52"
          ],
          "font": {
           "color": "#2a3f5f"
          },
          "geo": {
           "bgcolor": "white",
           "lakecolor": "white",
           "landcolor": "#E5ECF6",
           "showlakes": true,
           "showland": true,
           "subunitcolor": "white"
          },
          "hoverlabel": {
           "align": "left"
          },
          "hovermode": "closest",
          "mapbox": {
           "style": "light"
          },
          "paper_bgcolor": "white",
          "plot_bgcolor": "#E5ECF6",
          "polar": {
           "angularaxis": {
            "gridcolor": "white",
            "linecolor": "white",
            "ticks": ""
           },
           "bgcolor": "#E5ECF6",
           "radialaxis": {
            "gridcolor": "white",
            "linecolor": "white",
            "ticks": ""
           }
          },
          "scene": {
           "xaxis": {
            "backgroundcolor": "#E5ECF6",
            "gridcolor": "white",
            "gridwidth": 2,
            "linecolor": "white",
            "showbackground": true,
            "ticks": "",
            "zerolinecolor": "white"
           },
           "yaxis": {
            "backgroundcolor": "#E5ECF6",
            "gridcolor": "white",
            "gridwidth": 2,
            "linecolor": "white",
            "showbackground": true,
            "ticks": "",
            "zerolinecolor": "white"
           },
           "zaxis": {
            "backgroundcolor": "#E5ECF6",
            "gridcolor": "white",
            "gridwidth": 2,
            "linecolor": "white",
            "showbackground": true,
            "ticks": "",
            "zerolinecolor": "white"
           }
          },
          "shapedefaults": {
           "line": {
            "color": "#2a3f5f"
           }
          },
          "ternary": {
           "aaxis": {
            "gridcolor": "white",
            "linecolor": "white",
            "ticks": ""
           },
           "baxis": {
            "gridcolor": "white",
            "linecolor": "white",
            "ticks": ""
           },
           "bgcolor": "#E5ECF6",
           "caxis": {
            "gridcolor": "white",
            "linecolor": "white",
            "ticks": ""
           }
          },
          "title": {
           "x": 0.05
          },
          "xaxis": {
           "automargin": true,
           "gridcolor": "white",
           "linecolor": "white",
           "ticks": "",
           "title": {
            "standoff": 15
           },
           "zerolinecolor": "white",
           "zerolinewidth": 2
          },
          "yaxis": {
           "automargin": true,
           "gridcolor": "white",
           "linecolor": "white",
           "ticks": "",
           "title": {
            "standoff": 15
           },
           "zerolinecolor": "white",
           "zerolinewidth": 2
          }
         }
        },
        "xaxis": {
         "showgrid": false,
         "zeroline": false
        }
       }
      }
     },
     "metadata": {},
     "output_type": "display_data"
    }
   ],
   "source": [
    "# 12 sets of normal distributed random data, with increasing mean and standard deviation\n",
    "data = (\n",
    "    np.linspace(1, 2, 12)[:, np.newaxis] * np.random.randn(12, 200)\n",
    "    + (np.arange(12) + 2 * np.random.random(12))[:, np.newaxis]\n",
    ")\n",
    "\n",
    "colors = n_colors(\"rgb(5, 200, 200)\", \"rgb(200, 10, 10)\", 12, colortype=\"rgb\")\n",
    "\n",
    "fig = go.Figure()\n",
    "for data_line, color in zip(data, colors):\n",
    "    fig.add_trace(go.Violin(x=data_line, line_color=color))\n",
    "\n",
    "# 只显示positive\n",
    "fig.update_traces(orientation=\"h\", side=\"positive\", width=3, points=False)\n",
    "fig.update_layout(xaxis_showgrid=False, xaxis_zeroline=False)\n",
    "fig.show()"
   ]
  },
  {
   "cell_type": "code",
   "execution_count": 62,
   "metadata": {},
   "outputs": [
    {
     "data": {
      "application/vnd.plotly.v1+json": {
       "config": {
        "plotlyServerURL": "https://plot.ly"
       },
       "data": [
        {
         "line": {
          "color": "rgb(5.0, 200.0, 200.0)"
         },
         "type": "violin",
         "x": [
          0.026468088380430466,
          0.2788533391266731,
          0.12894554620016402,
          0.6292674917657681,
          0.48833895664343185,
          -0.08779109228660337,
          0.33367919132167584,
          0.713009830930849,
          1.0656373320886612,
          -0.5159033759482359,
          1.5931320591529854,
          -0.8000311267708997,
          0.9762608376809142,
          1.2372313807115596,
          1.5917511157079325,
          0.6868036874061865,
          1.6154838106371394,
          0.6213800507735112,
          0.028109970769022247,
          -0.3435681426282836,
          -2.236855462960918,
          1.2635432217529263,
          -0.8555630048395739,
          -1.992060305821763,
          1.039698242984214,
          -1.2688442007525182,
          0.9883796157656,
          1.2830687214328564,
          0.9613519381334812,
          0.10031404573959546,
          0.1740206652168558,
          -0.7118916425138155,
          1.973110498298301,
          -0.1560045403786654,
          0.7292646968086056,
          1.2733419399933594,
          -0.7310525060985742,
          -0.3512499708517679,
          0.4320960874663001,
          0.8415148397469879,
          -0.44096877075216623,
          0.021499940924294192,
          0.054746050281877234,
          0.12407456033783829,
          1.0496578962644845,
          0.05813754808944285,
          -0.6917062211119979,
          1.3096325888917395,
          0.9749865793596636,
          -0.3144082948663013,
          1.2396171404411769,
          1.2190017936506157,
          -0.4141222392730428,
          -0.7277976150941677,
          -0.03044241901915057,
          0.5700793162131002,
          -0.5045729293008301,
          -0.141839344530242,
          -0.787062313638055,
          2.199616707201746,
          0.7148699968721259,
          0.16382506561140767,
          0.803316294316478,
          0.1258723999314114,
          0.33250393786812815,
          -0.28709133342672666,
          0.4485294687773641,
          0.958510191619248,
          0.5293870832362573,
          -0.31124464906507854,
          -0.48732720139797414,
          -0.20323236736139633,
          0.9626263270057384,
          0.9745660141481536,
          1.8235939367795724,
          0.21278292460239875,
          -0.9138267184522976,
          0.6093536419070575,
          -0.7925731743887834,
          -1.4200117743089768,
          -1.9477186583945207,
          2.0406983540016874,
          1.8697489031369607,
          1.0595662333465543,
          0.8506182737022172,
          -0.8219144620912877,
          -0.5006504843437111,
          0.2405581185750855,
          -0.5744637757614142,
          0.3503203525600433,
          -0.38803592479632176,
          -3.0763667301581723,
          1.6350980751827555,
          0.9815229261282062,
          -0.5994871407739952,
          0.1525013363251817,
          0.2791276921655228,
          -0.14162762301230347,
          0.4173876084273357,
          -1.4686372659055211,
          -0.7152148904094172,
          -0.4314467849669009,
          1.1905300008089017,
          1.5196447665154031,
          -0.1799427077745651,
          -0.22957394680169263,
          -0.8436275500550938,
          -1.1474291480701098,
          1.144479083523383,
          -0.35632937209662496,
          -1.1429966346200218,
          0.27289865008368247,
          0.3041235214468972,
          0.34704153804577786,
          0.10175171522785433,
          0.7105667908705288,
          -0.4989659910323456,
          1.5965669065278063,
          0.3356208939973038,
          -1.029261021164943,
          -0.7209094604757866,
          -1.1119696393234506,
          0.6867462508107,
          0.4450364097944657,
          -0.09391860874269752,
          -2.769746657914538,
          0.4360496399597179,
          2.125308217684679,
          -0.5776125079269421,
          1.4625982377114828,
          2.240541118108829,
          -1.1886957903682442,
          0.5270942244100254,
          1.7550123644037847,
          0.3104912560598589,
          -0.5037179234269243,
          1.3205686956458411,
          1.7792099213121562,
          -0.5381298621555018,
          0.3859728849335705,
          -0.5222407354015631,
          -1.985014392011748,
          -1.1007678210364258,
          2.281897886439457,
          1.510192139242831,
          1.0466048884906725,
          1.5779356770994577,
          -1.210900587114787,
          1.1648669886713483,
          1.347571308618597,
          0.37739477899098567,
          1.6196933203654442,
          0.8022775105163489,
          -1.297934042328032,
          1.4534040516191142,
          1.0579129337512536,
          -0.578433493563712,
          1.7350777093244676,
          0.7357761124712383,
          0.5635655816256843,
          0.4864878734512915,
          -1.5011495761128415,
          1.2911693342372348,
          -0.3490236036683847,
          -0.5476525704307494,
          0.13885964459942451,
          0.8809212412298306,
          -0.07583757254607854,
          1.5185447108942711,
          0.14152131717056474,
          -0.6438292897193726,
          1.632275839231994,
          -0.6750530790403516,
          0.07215863603445538,
          0.7597038156881448,
          -1.353075863099869,
          1.631145394594796,
          1.8157335946027384,
          0.5842478298194429,
          0.11848927920159286,
          2.242537763121452,
          1.110741441831448,
          -1.923402491874847,
          0.9129747952500816,
          0.6508411786701097,
          1.2276925453070897,
          0.9359691842028328,
          0.15256466298592797,
          -0.5172040838373135,
          1.3119700717956644,
          0.07519691678335871,
          -0.24046310134291016,
          1.627142015737669,
          1.8098291288210449,
          0.18530698272757523,
          -1.736994974376023,
          0.8562008582673378,
          1.139507392839235,
          -0.14605990539728408,
          1.6466735296619164
         ]
        },
        {
         "line": {
          "color": "rgb(22.727272727272727, 182.72727272727272, 182.72727272727272)"
         },
         "type": "violin",
         "x": [
          2.565389587746087,
          2.8152563036671823,
          1.4365926360901744,
          1.8603654234054583,
          2.7171657888351364,
          3.242832453151007,
          3.607425820788801,
          2.690967336261565,
          3.436060158742777,
          1.670549656548096,
          2.7799084695335456,
          2.2660781555163174,
          1.670137681816334,
          2.7450632626926845,
          0.6111149518708925,
          3.460829876349824,
          3.796765003145534,
          5.607533282115232,
          2.4223726583839373,
          2.3154908493985658,
          3.660643948506349,
          2.125462380377701,
          4.11808536196135,
          4.976853958801937,
          1.8894937037333963,
          2.5397272220506677,
          1.9600636348030949,
          2.4313317563274746,
          2.162654474569946,
          2.71388422649143,
          2.842285903880923,
          3.0060296400448117,
          3.04133854570074,
          1.661336531259428,
          2.9310831680163867,
          2.624703025266813,
          2.750200421369336,
          2.8411066096980453,
          3.702573122701618,
          5.36387179446119,
          3.1782443043660846,
          4.458114903978814,
          1.7255054116406636,
          3.4513707611334565,
          1.758660577544525,
          2.5059383298304847,
          4.315680829361914,
          3.525129067267236,
          2.825234660949413,
          2.742324424986682,
          4.116692157656435,
          2.747261800600899,
          4.161251965151616,
          4.42139653662684,
          3.383929005340393,
          1.1832773024856096,
          2.4160556782520244,
          1.0259585226382333,
          4.981567742908324,
          3.6858674036921766,
          2.2839606632795535,
          3.451610684907817,
          2.6613169070220577,
          1.7852420764831096,
          2.5522828081623645,
          4.35238506638008,
          3.5581422747972606,
          1.232152904714001,
          4.064437335418067,
          3.0253766516999163,
          4.23820108021842,
          2.7395263594258266,
          2.806208293707169,
          2.5044864937792135,
          2.374209664929457,
          2.167337451657426,
          2.533112000589832,
          2.8074581974646584,
          3.220345065131044,
          2.9105297295922092,
          1.152889595081357,
          2.6396200798397493,
          1.493873792323197,
          2.5472357604023506,
          1.987416190891997,
          3.1128650218177474,
          2.3507992626880516,
          2.881598332938711,
          2.004947896900569,
          3.940309231224179,
          2.441628768338963,
          1.3449949004354125,
          3.8334979162429,
          1.8873027847275723,
          2.4846988117790536,
          3.7043545624686,
          2.8732839052039783,
          1.4051649258696683,
          3.962683307489369,
          3.5703009292046533,
          1.102262742236344,
          -0.8130736101175682,
          2.7899424990281267,
          1.790857706027512,
          1.6866442691802397,
          3.5198518889188666,
          1.628740166304294,
          2.2019032451013043,
          0.3472018101902177,
          3.382564198441069,
          4.569165780630872,
          3.2033821891528653,
          3.0557879178768452,
          0.8812207649094381,
          3.0195609214780825,
          3.882330282244667,
          3.4907217454056063,
          1.2679078479430592,
          3.9533659441260434,
          3.4346765465738827,
          3.499296701669369,
          2.5024951048204995,
          1.3771267067531945,
          3.672065091073797,
          4.062852923185276,
          0.8181674758165751,
          0.3595523574137198,
          1.4961423662170474,
          -0.04294534757862101,
          -0.005800609948990676,
          4.435979638306042,
          2.8498958830242422,
          5.538235866544769,
          2.3517369481863035,
          3.3921026090414466,
          2.2737133646098564,
          2.269594644853389,
          1.5656515334286814,
          2.2401183224489487,
          2.5679700877281864,
          2.995273343789808,
          2.899078571620438,
          2.625686747220388,
          4.605648004435226,
          4.305875405196083,
          0.8081255008938477,
          2.5948105979905556,
          3.4881643831785425,
          2.5186512138869004,
          2.6882621741229658,
          3.867485265935635,
          5.6390923864828775,
          3.3395404328981133,
          4.474427732414048,
          1.6825543269615937,
          4.004683472766762,
          3.8908336477796586,
          3.609055211218356,
          3.2464127310381894,
          1.8992253803376968,
          2.856657328334243,
          2.653906131105938,
          3.4716257275163533,
          2.2330268070150225,
          5.1074369737453065,
          3.5290504295133767,
          4.430343970730856,
          2.97428822774522,
          1.20768063154623,
          3.192363127732077,
          3.2769405764269957,
          3.992710624175827,
          2.0396082761377716,
          2.7730070050052245,
          1.3387409532576555,
          2.069347227106735,
          2.8454747766341137,
          0.8012704301562814,
          1.8170385128929416,
          1.7826132054277763,
          4.049048754624666,
          4.467742142623716,
          0.3397623221724708,
          1.7707201305166846,
          4.537604902694545,
          2.6508515923734444,
          3.240674936495292,
          3.4735648261018595,
          2.7568154974511487,
          2.546063417169248,
          2.747905529107045,
          1.0123428970417243,
          1.663482854843049,
          3.686836644238204,
          0.6641339997577753,
          3.1105253340090626,
          2.7484065646972504,
          2.341828590521254,
          3.535651873972466,
          3.125504470559101
         ]
        },
        {
         "line": {
          "color": "rgb(40.45454545454545, 165.45454545454544, 165.45454545454544)"
         },
         "type": "violin",
         "x": [
          4.66995271396843,
          2.1202618241913536,
          5.08203035933678,
          1.6712209036716643,
          4.285994723940352,
          4.354298244855746,
          3.833841160743269,
          3.409788446206419,
          2.3908051086104316,
          5.012348204611217,
          4.273023740978374,
          1.25933721684864,
          3.999174191287117,
          2.3470678481963487,
          3.3256047741361736,
          4.42529140383291,
          4.649343666605499,
          2.321168213676102,
          2.9642887145519863,
          3.8378794880541145,
          2.6237042571594644,
          5.432596009459023,
          1.986445499118602,
          4.951639139713332,
          2.090282977539053,
          4.4806429847971785,
          2.8592681027047275,
          3.92176906351417,
          3.1453931782757323,
          3.432722497112728,
          4.789567433623646,
          4.711860230968818,
          2.61622871983937,
          2.824796469261063,
          3.34228288663269,
          4.276831299988583,
          3.2253081947249984,
          2.687259435709698,
          4.848874619936991,
          4.242326694117432,
          2.467176117084543,
          1.503575522179002,
          3.1420852740988785,
          4.0027638888100086,
          4.063222698299907,
          4.7801838781634425,
          4.597830113438123,
          4.476821462519043,
          4.512632511293193,
          2.5649840882374657,
          5.271585619940138,
          6.08376060523479,
          4.610270688982428,
          2.5543520343443857,
          4.796033278157385,
          3.765978654470646,
          4.369048656807522,
          4.766208656383605,
          5.036256195107575,
          4.731896151740893,
          5.690225381442734,
          2.6598261755234125,
          3.8544127941890536,
          4.349856453551952,
          1.982925083702081,
          2.7247613572262335,
          4.229108097046435,
          3.63874638888848,
          2.505759352602813,
          4.387077320163195,
          2.005565844953373,
          5.163461349035331,
          3.390498768224992,
          3.9601283391287496,
          2.910306288948311,
          6.20716141588213,
          5.019752327162319,
          3.832704613578328,
          4.9699895764796995,
          3.616669703526743,
          4.18360360939681,
          4.283872585981184,
          3.2547608124567526,
          4.108996736878822,
          4.045556317236208,
          1.2903165395784582,
          3.7749099015749454,
          2.8002367520485985,
          4.24227281425927,
          4.088104792587706,
          5.323707565342137,
          3.0583169702497335,
          4.874808408293321,
          3.9532567587288128,
          5.664562501075,
          2.0858312008500217,
          3.869963675880818,
          4.792941165571805,
          6.802954666889841,
          4.450738675868621,
          2.428177502573262,
          6.317573974952188,
          5.68861737867569,
          3.928848688369673,
          4.170968309845153,
          5.299980934693887,
          2.1005709883088004,
          4.4448937577215615,
          3.9957669213043863,
          1.960726030320147,
          3.909155992506613,
          3.005510094439777,
          7.035005835622141,
          3.3004222403979253,
          1.7501426676028506,
          4.702653273296445,
          3.8310640752525567,
          3.847346141061082,
          4.4164451651010666,
          5.849501158136169,
          2.0848903684234448,
          4.197410493344281,
          3.6881827330226526,
          5.424243520986245,
          5.583967622981395,
          3.537322489905808,
          4.645715803645925,
          5.977783538057717,
          3.0489948060080443,
          4.6231708172536665,
          2.635808770946207,
          2.1795428115406734,
          4.0090713018961806,
          5.122036323289661,
          3.0210871158031543,
          3.144622932007308,
          3.031505741212125,
          2.938160951019804,
          4.712757903830088,
          4.30834471034365,
          2.9131017272219997,
          5.4466664429341005,
          4.458394999947193,
          4.060779802341088,
          1.325789384044299,
          5.256029844705881,
          5.480592234320624,
          4.556474962130875,
          4.833196517815249,
          2.8543413472765833,
          3.548834763508135,
          3.679388261719956,
          2.896601211570505,
          3.216655064368368,
          3.745789072516743,
          4.605072579017207,
          3.027109729865213,
          5.497487246275052,
          4.394491911689649,
          4.551904263573405,
          4.853623672618193,
          5.163218807199466,
          6.018363645389726,
          5.151164109814678,
          6.635453806374427,
          3.5306383403099417,
          3.1186676207153323,
          4.441485437298851,
          5.305097801685979,
          4.671634598806557,
          4.4160188532166895,
          2.10069091113578,
          2.5253459679552828,
          4.789844534993493,
          5.228501856285575,
          5.012663197240013,
          3.8736933585775217,
          4.625303610838694,
          2.915852828769834,
          7.2608660248393,
          2.8967240026544907,
          4.505627173595855,
          4.340291620556179,
          2.32738943844711,
          2.835445718033273,
          4.485448649562175,
          3.0195662923673496,
          2.813020320488535,
          2.743703705916357,
          3.3090466794218427,
          2.951535556298489,
          4.819516153322445,
          3.533842444981822,
          3.496424128226874,
          3.942238102805508,
          3.9847025627896913,
          4.694971974136006,
          3.455855839288064,
          3.7719612303152608,
          3.720088726930985
         ]
        },
        {
         "line": {
          "color": "rgb(58.18181818181818, 148.1818181818182, 148.1818181818182)"
         },
         "type": "violin",
         "x": [
          4.559076923124785,
          3.63854602971304,
          2.8921085925415446,
          2.0873005015933757,
          2.200033745934997,
          4.59959655136236,
          2.2400954874746484,
          2.259565557343257,
          2.9016742208398867,
          3.2001170629841886,
          4.287451708214179,
          2.81523696942851,
          2.296888277949788,
          2.278791662326096,
          2.5627765874025683,
          3.337068364107423,
          1.1672010638536827,
          2.8089565301381745,
          4.271920541297167,
          4.051425516692843,
          3.25317124928069,
          4.536177596753396,
          2.174099081447737,
          2.9191443728491366,
          3.280698090967088,
          3.505128065304116,
          7.074310392917048,
          4.078679427827359,
          4.503796286727435,
          2.7748625667970117,
          3.1479451772781855,
          5.388382321953802,
          3.7307946527165856,
          3.624191321036974,
          2.8263939483672447,
          1.2570850736982813,
          5.3517306287958935,
          4.708166946886481,
          3.3588424903818206,
          3.270109758377556,
          4.370559992898373,
          2.06973944692574,
          1.5134083388173376,
          1.8194243060476327,
          2.4818854334881895,
          4.9016461893000365,
          2.9100720584215636,
          6.195045589453478,
          3.2956708522072895,
          3.0517333929420567,
          4.091808545399049,
          5.855497715918282,
          1.5988067441887168,
          4.893241689557442,
          5.761109086432095,
          5.4063629959201265,
          3.5559052252725096,
          4.091197162108059,
          3.9763174316592766,
          4.6078789823664,
          5.026263427798714,
          3.743810158067309,
          3.089034401847146,
          1.4715529337841122,
          4.162504934811732,
          2.5708048204526706,
          3.951181952540746,
          2.949484711688374,
          6.3185736214617245,
          3.475182898421863,
          3.177779630325041,
          4.126034489759565,
          4.556267020845499,
          4.548971467813367,
          4.392375182963031,
          3.3779301026980546,
          3.8995458436127466,
          3.2997498382252166,
          2.5078768313037014,
          5.016480282283855,
          3.547875484884029,
          3.303949118677007,
          0.711184511513526,
          2.743322481028518,
          3.041080212282125,
          4.82042583833382,
          3.5967723126607063,
          1.9850589942797323,
          1.172894005820528,
          2.4822104522011426,
          1.0559840524448858,
          4.385881531611721,
          3.428379895546688,
          4.11182027950499,
          4.395162280263043,
          4.353648843322232,
          3.9829591466482657,
          2.5278798229270896,
          5.917600266302353,
          3.2841596915318707,
          1.7638346654716168,
          3.060035659621806,
          3.204381513047185,
          2.8907551577395525,
          3.0098060013845105,
          3.637539506715136,
          4.462633238756644,
          2.1029163467654435,
          2.874259251395263,
          4.15168939606318,
          3.175141164245282,
          3.198905795642738,
          3.293737022110408,
          3.4662088158101487,
          1.632706994018714,
          0.8548277504620851,
          2.2642817525021472,
          1.662476818512326,
          4.789933217156027,
          4.374451596698041,
          2.2926551415959304,
          2.983998479433135,
          3.973103177026117,
          1.4280665401275818,
          4.17217240144637,
          2.037541488609374,
          2.96114598039308,
          4.9181741486143205,
          3.520183410483305,
          3.409866516445736,
          2.623479818222219,
          1.4934105711321377,
          2.620600442320817,
          1.258893961730383,
          3.34884300695133,
          4.65223773300175,
          3.378865550673934,
          4.113670066672366,
          1.9935656259127064,
          5.85439106468985,
          4.909670994145412,
          5.08637455706085,
          5.7658911849148655,
          2.442258813620214,
          5.492298921811511,
          0.8289757073586732,
          2.5257420968413755,
          5.409406267638969,
          4.552107250739039,
          5.326488866765213,
          2.871757454566886,
          4.658005202312909,
          2.9311859082553395,
          3.442825778952601,
          3.740379935657744,
          2.1301912592569647,
          2.4302751898584916,
          2.404474240197085,
          4.167285573957834,
          3.885535853184421,
          2.9904207309470574,
          6.2172353538829945,
          3.618039749894625,
          1.8971671234087517,
          1.8676561767641255,
          2.9380733992101726,
          3.392926495925941,
          4.770025695565031,
          2.0938601334966185,
          2.943002118424147,
          2.679810259851372,
          3.994086988716099,
          2.3208608562048045,
          4.124409783498913,
          4.5914397723988225,
          2.199631343094298,
          2.814812576924535,
          3.796095680238155,
          5.807672985857964,
          4.32870576294868,
          1.6218756091107631,
          4.52126558282267,
          2.778471890823677,
          2.1622932155424506,
          3.7373477350585858,
          4.047431581694919,
          3.670795941615051,
          0.7186745152225318,
          4.830503163779698,
          0.6826889872242421,
          3.2399658389509653,
          3.203890468161234,
          3.740464331344257,
          4.07214301362408,
          1.6769465042552572,
          2.7258351199588375,
          2.382656984390084,
          3.86183102112126,
          3.6628515585920183,
          3.4953928145860464
         ]
        },
        {
         "line": {
          "color": "rgb(75.9090909090909, 130.9090909090909, 130.9090909090909)"
         },
         "type": "violin",
         "x": [
          3.310175460686021,
          4.958806856012768,
          4.927211711632928,
          4.958709902162949,
          3.2761255006778907,
          4.325775706059704,
          3.745436527873279,
          5.635158524264805,
          6.019189743199844,
          3.3908940471302556,
          6.026418094210347,
          6.105952347761357,
          6.431948839885466,
          4.776828156856192,
          7.446550819350642,
          3.4277994669292657,
          5.430999560491631,
          3.5417857844636624,
          4.730177893421927,
          5.571788559542658,
          5.711579919509792,
          1.6899696116089884,
          5.924597890642016,
          5.596550683626299,
          4.761092935283433,
          7.221729730687897,
          4.572267046697991,
          4.793439850018068,
          4.114934414389479,
          4.00437937495335,
          3.484610422373455,
          4.467873356523786,
          3.617986125433267,
          5.058266453726883,
          6.664903508311596,
          4.785571593877962,
          4.26345286904878,
          2.992864025575041,
          4.553031975999678,
          6.917945672572282,
          5.464864340052344,
          5.158973534537723,
          6.516939962618414,
          7.298934882926623,
          3.3488916843503915,
          5.610058227508189,
          3.1526912282210686,
          4.978343006126501,
          5.319683351880515,
          6.580947019397216,
          6.031373422886151,
          5.909279522101024,
          5.395891476015873,
          7.958260372460051,
          4.618777815770468,
          5.112103646286085,
          2.371984852310108,
          3.534489843360075,
          3.1800455970356523,
          2.862862146733794,
          6.717813663355395,
          6.993888363396817,
          3.379205970788498,
          5.965619134622475,
          3.858655012338033,
          3.952303682893614,
          5.087392281989381,
          5.206899518834927,
          2.5624401700434705,
          5.522358906283993,
          5.951035635684826,
          7.865706648317284,
          4.8419333202556265,
          4.691871807755372,
          4.283153771362784,
          3.9801800813590753,
          6.599612216493011,
          4.028467779453895,
          4.7691489800471665,
          3.5981494507221834,
          3.2584694174059816,
          3.821941429698114,
          3.607050190379975,
          2.1344071339892703,
          3.3917686789669124,
          6.067936906086089,
          5.5744912477000526,
          2.9949976630263015,
          1.805567356060349,
          5.339759483828113,
          7.123414639122107,
          4.938199305643728,
          5.173296515843819,
          4.020689744879676,
          6.383337688783488,
          6.264393259581921,
          5.706772234975291,
          4.173003072945204,
          4.384155009647758,
          4.302593626274788,
          6.138120534621793,
          6.2246580611706905,
          4.924101487706514,
          3.6233615841505262,
          1.9090625564639132,
          7.1845781698553655,
          7.464389252954078,
          4.753402874851699,
          3.67099728552864,
          4.908599564756455,
          3.4158188027575225,
          3.144666548264746,
          5.000059876205399,
          4.273557643149851,
          3.9765525826971073,
          5.474112867825143,
          6.290870398425052,
          4.731224041885965,
          5.512723908110773,
          4.275427681493552,
          6.128138496321152,
          5.020283026986131,
          5.684789089707147,
          4.41848531206256,
          2.5543980956226364,
          4.523608868374159,
          3.806225501922864,
          4.400340539273033,
          3.1093132489122164,
          6.555898925302489,
          2.403956263329921,
          6.591103893827249,
          5.742652871041276,
          3.9494355864889408,
          6.383787455654567,
          4.5640552035327175,
          4.13963965252161,
          4.689269438743173,
          5.596448992241582,
          4.694852476850449,
          6.81022188525534,
          7.009713465143692,
          6.390174824175774,
          6.58738188799994,
          5.011005381071494,
          4.536481354989234,
          8.169240420922538,
          2.8442018309170978,
          3.212982617440388,
          4.829372042484857,
          4.969890601013045,
          4.830353018367877,
          4.839862014468003,
          6.681144892505149,
          5.370248567941076,
          5.699394789447454,
          2.624137058403321,
          2.827007872818456,
          5.34745160308626,
          4.944436578312274,
          5.766310064459509,
          6.411225892981808,
          5.846379587415914,
          5.401297993789379,
          4.326153370875773,
          7.078246988909639,
          4.310202664000269,
          4.4902932749337525,
          4.737127389294471,
          5.057579086567823,
          5.067607343296995,
          3.2379670531803706,
          5.916895985090666,
          5.454479580109868,
          3.3245465878573803,
          3.0920101292575906,
          6.409544805935857,
          5.257770639945089,
          7.4762518903216515,
          4.109826997552101,
          2.3384795538921037,
          4.974498055236609,
          4.207677144027793,
          4.434652198292881,
          2.259074485053554,
          3.7617692843425705,
          3.535018527259818,
          3.873364266768031,
          3.940955914624876,
          5.602229932349231,
          5.810150547167538,
          3.320442985945327,
          1.385181881496217,
          4.161838954981105,
          8.027306914336615,
          5.700919153550443,
          6.350702728035612,
          3.6781989788114102,
          4.902569521771112,
          3.517176322885016
         ]
        },
        {
         "line": {
          "color": "rgb(93.63636363636363, 113.63636363636363, 113.63636363636363)"
         },
         "type": "violin",
         "x": [
          5.723616269451259,
          6.361865222650683,
          10.412212813792111,
          7.588042532230347,
          7.309096797611118,
          7.124503292130218,
          6.735876430931707,
          6.374444750870902,
          4.958035895228272,
          5.87856721968364,
          6.55192720433588,
          5.743561522876576,
          8.154991733191581,
          4.958074120003559,
          3.794970722639265,
          6.532387334412022,
          6.593132416358707,
          8.516591756826152,
          6.898279263756327,
          3.970918081994992,
          7.368799899941513,
          5.560642383024004,
          7.173024016337827,
          7.353908751441873,
          7.065886410147868,
          9.413415212709385,
          6.420378201483343,
          8.199082640139192,
          5.902834853530605,
          5.718212662465655,
          6.833509771161274,
          5.921767311121153,
          6.202719936763552,
          4.305033900159284,
          6.204636225853701,
          4.537021423947205,
          8.62589989036346,
          6.594838073691771,
          6.81763290405634,
          4.908426062897625,
          7.290967947864588,
          9.83443422682571,
          7.679148073916887,
          4.542807837197591,
          4.178861171890586,
          7.419088053702967,
          9.060669984018784,
          6.46739351652404,
          6.431831986345022,
          6.52018157029264,
          7.081485729020811,
          9.476535817561658,
          4.917482193727688,
          4.657314754800125,
          6.248526331649853,
          5.341141021156346,
          6.077704709887107,
          5.264574487349594,
          4.2519147942229765,
          5.280443898071322,
          8.306906024539543,
          5.478208468776049,
          6.1691030273691325,
          8.382213396466872,
          6.20106095579399,
          5.667131979499422,
          11.149137526593153,
          4.660976205734893,
          5.8106858012309885,
          5.951969103346285,
          4.543940080820726,
          5.946129445419615,
          9.310682827435226,
          8.036172269729093,
          6.093014638127883,
          6.968226171536148,
          7.571539499938898,
          5.305117707135349,
          4.567137218398994,
          8.677429638914681,
          8.16690808121084,
          6.497096856006585,
          4.790239132009858,
          8.039633727909754,
          5.954511813128061,
          5.118083281572227,
          7.223640102552185,
          6.701232471080745,
          6.537295153568393,
          8.637119192319844,
          6.130675768967912,
          7.267610428897672,
          5.0332927876712255,
          8.00605373044711,
          4.325293086521466,
          7.928684563630446,
          8.384472004987758,
          6.841739843637659,
          7.831009590227138,
          7.951007852598544,
          5.661504090795741,
          5.940543807697158,
          5.822823559564481,
          6.997194504053658,
          5.382365785684522,
          6.574280065485766,
          9.200445035611342,
          6.327883137907467,
          5.488722356637544,
          8.538151338332492,
          6.246203766094471,
          6.144730282422113,
          4.446546837727091,
          6.274310179285219,
          4.898713519386455,
          6.774448720260977,
          5.492400375978015,
          6.338677909824454,
          6.3410557100661,
          5.512192182812726,
          4.060512689808915,
          4.3796470857362175,
          6.93872533259571,
          5.046063750604431,
          7.381776626656253,
          7.971465876196666,
          8.248113792449924,
          5.160564376221299,
          7.565095521966552,
          6.955865389075404,
          7.472051734787897,
          7.722748669502765,
          7.327169745431371,
          4.333109911198003,
          6.848658583496062,
          5.492978153538052,
          6.947443485418947,
          7.1985137720169705,
          5.582569799075457,
          3.096774701498828,
          6.288042522801293,
          7.25324700660549,
          7.871882901349995,
          5.756508580821804,
          4.258538233545103,
          5.856890431334718,
          5.924742480259584,
          3.775283151365015,
          6.823288226255272,
          7.308021310051546,
          3.479901461289556,
          7.5356978126098255,
          9.499472878351558,
          5.873649006229046,
          7.058162184812025,
          4.972765849107732,
          6.2640292855181485,
          4.731056343508948,
          6.134970745135346,
          7.081623543398157,
          6.057649092584327,
          8.575281721945384,
          6.476361964211174,
          7.306767000244453,
          6.181855535922354,
          7.440732623554658,
          5.810689396889823,
          6.672880947524211,
          6.990707567568467,
          7.603033769393523,
          7.813285496118811,
          7.221101321605374,
          6.394632889000832,
          2.775628283163066,
          7.611473068565877,
          8.072786577701045,
          7.684153579037813,
          5.52667320379244,
          6.044758341823636,
          5.596176236498622,
          5.281745424271625,
          5.100134145650249,
          7.249202112514568,
          5.98614582159507,
          8.731856235098812,
          8.217318356718573,
          8.242142697504002,
          4.30357622041644,
          7.215972463198167,
          5.738927319817384,
          7.474045192230768,
          6.749764212544273,
          7.962288779827746,
          6.349096999780439,
          6.133783906874204,
          6.213721534471095,
          6.92717938549908,
          4.832439331029727,
          8.257075509050877,
          4.967646008370744
         ]
        },
        {
         "line": {
          "color": "rgb(111.36363636363636, 96.36363636363636, 96.36363636363636)"
         },
         "type": "violin",
         "x": [
          5.430383144755657,
          8.524823923294973,
          9.308528919377943,
          3.950805400610599,
          10.242878900092183,
          7.325425316905057,
          6.371783884968166,
          5.641980305638714,
          6.886824506643012,
          6.780756195551072,
          6.908135399971476,
          7.351022515889244,
          8.499088449950289,
          7.136885761430435,
          7.03892859149434,
          8.913154710767637,
          7.336369807940734,
          8.93731113097371,
          7.204564355934445,
          6.376966785038977,
          8.714020927973833,
          6.913743133521148,
          5.534119268727907,
          7.32761862568407,
          10.545642212036109,
          5.239012999664114,
          7.059125421058019,
          6.492604187675275,
          5.941421123779819,
          8.464443937536686,
          6.562831243079254,
          8.563502841753655,
          7.368007532230473,
          8.200940763311888,
          8.241438118928603,
          8.292008503112859,
          4.567246775875514,
          5.211853844476206,
          9.18111508892763,
          7.445061894728134,
          6.360716830929872,
          6.458251395797908,
          6.804188502453532,
          5.6813680943257365,
          7.817498977579884,
          5.3590418549280585,
          8.193947890911442,
          6.821129473821731,
          6.033229247666309,
          8.58702836788454,
          7.706239433895874,
          5.353872953725975,
          8.131719516899803,
          5.8274936367489225,
          8.723101699353426,
          8.412956003382645,
          6.373195674035319,
          9.720583599656642,
          6.978681469582893,
          6.1483295655154775,
          6.310286173979136,
          8.617733066718861,
          5.526621521203537,
          8.668099457769419,
          6.189044733660188,
          5.925524038807567,
          7.870711262721785,
          6.992674198669166,
          7.050142827284374,
          8.161226564151084,
          6.657024628631573,
          8.780038744374012,
          7.655736268238552,
          7.291107926566715,
          6.7950742922826555,
          6.743560787596774,
          6.356316354335998,
          8.498872178908172,
          7.851381167694884,
          7.2961328415201425,
          8.570061769120478,
          8.66002045701001,
          9.238954780242013,
          7.6048759991420996,
          9.16730569196414,
          7.739624058366671,
          6.019360878608566,
          7.68235058377913,
          6.216450683171409,
          9.437043627594536,
          7.660218618081766,
          9.944441709280133,
          5.495058215920283,
          7.3961043900545,
          9.339625681533258,
          10.668034285884431,
          6.451838458359893,
          6.539228846262952,
          8.743261368852755,
          4.869392255554109,
          9.084655080033324,
          9.670436515742605,
          7.21928562608103,
          7.581161704610529,
          7.509843904751209,
          8.352988990301391,
          5.956816635718633,
          6.503527613360314,
          9.28225503002432,
          5.600118302145139,
          7.400822229986708,
          8.235529409076182,
          8.61932699693823,
          6.829088723268717,
          5.7429920268581105,
          5.89533805026462,
          6.538221030113065,
          7.773152197424241,
          6.776491029580454,
          11.901819148344778,
          8.061417265167558,
          8.52438801647169,
          7.334551689627104,
          6.8191343326648,
          7.410473939043569,
          9.167966307123852,
          8.011116542880968,
          6.17077119912909,
          5.030557175274403,
          6.29890110506591,
          10.855479336500622,
          7.959061985313087,
          7.328698355015246,
          9.102815025715026,
          9.930227707823263,
          8.354988595295147,
          8.021915604392232,
          10.870842530761545,
          6.4857303513107265,
          6.038926462426784,
          4.305218014784323,
          6.39073347450119,
          6.083457492255216,
          8.637967303834081,
          5.851186611428009,
          6.009560506831641,
          7.037980807570657,
          7.317921801432215,
          6.597624474841083,
          6.604174114421939,
          8.244822092989335,
          5.774822192407907,
          7.451549441604331,
          7.227558053744879,
          6.411276576476557,
          6.244615249332119,
          4.549296792806388,
          6.554230501116235,
          7.504008084058636,
          6.852897878064055,
          7.226134720990701,
          7.962411318463162,
          6.710096032331108,
          8.364786205465121,
          5.796479663577187,
          6.8022249235745935,
          7.535256520798366,
          10.963422265555277,
          8.584208720582016,
          8.672137929428152,
          8.800957959686123,
          8.447554979270377,
          8.046167819721774,
          8.914101604780594,
          7.2037482636864665,
          7.614293367306368,
          7.036734194886646,
          9.157398872738074,
          10.28027723790198,
          8.739569913207584,
          6.631585229496606,
          8.823232039600828,
          8.453371094889931,
          6.32427934705695,
          8.387945592365455,
          8.003695791954033,
          6.841451802395324,
          7.340115521917154,
          6.47925822622677,
          10.566383150051976,
          5.633975609384535,
          8.306049624956103,
          11.128184130215804,
          8.028610114279646,
          7.504815611883985,
          12.38798255351288,
          5.998007967516629,
          10.87660164693555,
          9.285338697640988,
          7.651930731761632
         ]
        },
        {
         "line": {
          "color": "rgb(129.0909090909091, 79.0909090909091, 79.0909090909091)"
         },
         "type": "violin",
         "x": [
          8.724823818972853,
          7.673553314830214,
          10.626477098166106,
          3.6794205613526105,
          10.134499203839706,
          7.008199476164111,
          9.387393472812509,
          9.196179295061665,
          4.025843224457674,
          10.576721478219596,
          8.097044309901797,
          7.991448947065536,
          10.07818537720677,
          7.925819839611424,
          10.699265343320338,
          10.671279188613706,
          9.131359446027869,
          9.446157156373122,
          9.740377665656167,
          8.748248093751556,
          7.332992130514035,
          8.414915314854138,
          6.312331309067689,
          6.472530584708097,
          8.24753799262127,
          8.171776720110602,
          8.602558616988372,
          6.742273247592271,
          11.433146972414017,
          5.885483941994556,
          8.83215513525064,
          6.178634381590435,
          10.270272771344436,
          5.484490703693933,
          3.3528669050267945,
          6.086654331740547,
          9.807417501725062,
          8.245101007635816,
          5.970310839955891,
          8.234796146568694,
          8.924936370636312,
          9.270578797900695,
          9.050346577630217,
          7.562803755535622,
          9.230668663708084,
          8.429682346463327,
          4.875551751920545,
          5.69210967404646,
          10.3373630822895,
          13.22989575018572,
          7.693323357960027,
          6.979243921704897,
          4.2478417215365,
          9.095896185522804,
          6.973509882815274,
          7.238603329398238,
          8.824301677462687,
          5.83797478723503,
          6.754382890039201,
          8.682261342386688,
          8.40822850435827,
          8.147462748958615,
          4.7985381689266555,
          6.039542471322829,
          7.406392127693198,
          5.521014103203511,
          4.684798711386124,
          5.1770308934602225,
          6.679247387010383,
          7.028426563145706,
          6.927770212677715,
          5.6005195784634605,
          7.450124368913789,
          8.806265183982767,
          7.144442101561047,
          9.013682925134768,
          7.019346841075238,
          7.60466165497197,
          7.239940980504032,
          8.51170409969221,
          7.59613146387435,
          4.840344159490421,
          7.112177839694195,
          4.998868759588332,
          8.545628824192164,
          6.608769128032813,
          8.528558051119848,
          7.050945185672919,
          6.848189890550258,
          8.367081557624239,
          6.560552416063478,
          8.294429812303196,
          4.945649615828992,
          8.634263941829538,
          6.590361600033712,
          10.653314909959864,
          8.683155883791253,
          7.63429783319785,
          3.982539750128635,
          5.287983302905959,
          8.498670491875398,
          11.29983240064572,
          8.25050587887138,
          9.598341137528534,
          6.9627425415614805,
          8.03474665125298,
          6.042729218294347,
          6.26218456377232,
          7.632510985278555,
          12.714790297442434,
          7.455560667949566,
          8.988292311315247,
          8.23821493111501,
          7.833562092055436,
          5.0668849249923404,
          8.519298050721828,
          9.027815557745145,
          6.530763818011639,
          9.05877790308842,
          7.865969701063904,
          7.768780781793248,
          6.73116132015075,
          5.317657519709515,
          4.375430363620051,
          4.882090575306483,
          9.140279049734833,
          9.43555309225599,
          6.210807900627017,
          5.51876970908336,
          8.294067288242339,
          6.765022653100872,
          8.368682655094524,
          8.064002881738004,
          6.736272427788828,
          10.691288106986162,
          4.832520881149234,
          6.493791792583704,
          7.831415914141816,
          7.125672595482181,
          6.220057220733248,
          8.695778948899266,
          6.131206871002053,
          13.05773016183008,
          6.719515652033869,
          7.932173512255661,
          8.268280673348627,
          7.439162096703519,
          8.116573706307989,
          10.42222299201728,
          10.095487747481744,
          8.234491603607307,
          7.5524432980815055,
          7.976380453526363,
          4.9508208439183825,
          9.014047635633744,
          7.63247415640464,
          6.4995663021738785,
          5.407744910179246,
          5.932596835763008,
          8.776655825800432,
          6.95102601535457,
          6.680362590393031,
          10.073195916563924,
          6.86394503449806,
          8.023497501003218,
          4.312360269497766,
          9.43434176544865,
          7.003457801358725,
          9.571226812038184,
          7.975495208023213,
          6.349267903057179,
          10.233088264842728,
          7.8363712673830035,
          4.7412691701519565,
          6.133671894704447,
          8.792141417828967,
          5.499513006084205,
          7.058723109838349,
          5.755649962050976,
          8.135586161518207,
          5.383994950043876,
          5.602579893321558,
          7.232780399266329,
          9.738570119754517,
          6.333212433764563,
          9.049071602866048,
          10.160808949092765,
          8.221871860824177,
          9.382905653916117,
          8.698002977077696,
          5.941602404159397,
          6.195893727984976,
          7.852969062547989,
          10.546073659377493,
          5.347990543509612,
          8.230195874206377,
          8.611239432536046,
          9.28619151154213,
          6.618917153279108,
          7.514327889528081
         ]
        },
        {
         "line": {
          "color": "rgb(146.8181818181818, 61.81818181818181, 61.81818181818181)"
         },
         "type": "violin",
         "x": [
          10.846195855695674,
          7.26080310348233,
          12.158209387659223,
          8.158830418491181,
          6.641712285167584,
          10.484602251573005,
          6.388103994068812,
          8.094375863795976,
          6.590768897577077,
          8.332488355402091,
          11.042713791457556,
          8.907849456349652,
          8.070259597884842,
          6.095524217711875,
          10.74863202020775,
          8.562761736524243,
          8.560740141755764,
          8.580829654909833,
          12.78547742003273,
          11.415752835245772,
          6.725592594456592,
          8.742765475613362,
          9.471157708041671,
          7.68645881511219,
          9.464618710781194,
          7.718698922897413,
          9.020044604190458,
          10.291983460580044,
          9.427888134950216,
          9.229199606212456,
          9.460948770774127,
          10.092426617341768,
          8.117547157802514,
          9.929263093976225,
          5.833664483294308,
          10.022762794672722,
          6.777202575638233,
          6.109522929204547,
          7.153288321757887,
          9.126301820153785,
          9.407543232422617,
          10.034136301011069,
          9.941357005003493,
          7.457825875747935,
          8.584853140133564,
          10.92066081119269,
          7.033549601455893,
          5.573368413082663,
          11.700242760493152,
          8.864586816772961,
          10.5389215576914,
          5.956841205960764,
          9.160683139110908,
          7.9849348872080865,
          10.522927795424298,
          9.140637114981775,
          9.370746759519037,
          9.794780347585922,
          9.507525490722836,
          9.255395558795176,
          8.470626273933975,
          9.39720015646525,
          8.297652569709147,
          8.506530803641429,
          13.542664645830303,
          8.50446401884666,
          8.90085381701243,
          9.765655139031262,
          9.189587503136227,
          10.700927273127125,
          8.74445542827896,
          8.161271161640078,
          8.975343926261342,
          9.007728082437456,
          9.508969939312216,
          5.309260124711082,
          6.799980273776587,
          10.430880629752505,
          9.09219289822532,
          10.13309951928156,
          12.456125364450228,
          9.27661555499187,
          6.0570338637740475,
          8.339784718568305,
          11.089556948890973,
          9.15150411889304,
          9.391071659537296,
          13.352969933616125,
          8.097731896467748,
          8.916761596165355,
          6.759376119989806,
          6.6893399622229115,
          7.805647179528422,
          6.358318841579501,
          6.954505300585336,
          11.836959849813574,
          7.81708798102968,
          7.124304217634097,
          7.737153721333659,
          10.245075700198187,
          10.17552001907952,
          5.628341008308172,
          9.212933807213956,
          8.254341224109599,
          8.755003304322212,
          10.485013450372088,
          10.78690005684506,
          8.690874020443811,
          9.01215084187802,
          11.220790096976367,
          9.562300407621091,
          8.68050464737279,
          7.562320414956167,
          11.134385783824786,
          10.8201355452264,
          8.79107758309474,
          9.861871606875662,
          8.516311138343765,
          8.363478514353881,
          10.099963829278863,
          6.919470909597715,
          8.55479718893119,
          10.474627452712957,
          9.922694131569976,
          7.957380395289832,
          9.392366393039191,
          10.402334832641104,
          4.67692603492259,
          7.848401581614963,
          8.606530645892578,
          11.220907719567323,
          11.92022377301163,
          10.375861248195664,
          8.94518906016844,
          9.53521987945671,
          9.779444938143518,
          7.084761800100821,
          7.2547098523957665,
          9.220267030787772,
          6.142904444387513,
          11.920235245267357,
          8.441606122811095,
          10.670682027631235,
          5.972275448433584,
          7.8237544472842515,
          8.558187303861766,
          8.287783943192517,
          10.18800771134294,
          11.44145480708358,
          12.821610990752578,
          8.584719670698966,
          8.846570139042733,
          11.076926852446782,
          9.72796374546601,
          11.325753703673534,
          6.839715082366794,
          7.1055516920405175,
          8.496169908776418,
          8.627953391836554,
          5.993718702563337,
          10.392998840637803,
          6.122745592740589,
          6.044610690814946,
          9.423208168692035,
          5.64240596037976,
          6.400368720119333,
          8.699151154565818,
          9.39574452418983,
          10.596016764656168,
          8.542682962145346,
          7.411092349093222,
          5.8239818138594615,
          9.787665848076347,
          8.694416734112709,
          7.298275739291164,
          9.488638442074466,
          9.016041175553411,
          9.980143185854494,
          8.20166784327138,
          9.933636243535997,
          8.810837295220301,
          9.850547932367396,
          9.300483248272338,
          9.366442788988165,
          9.765682202860194,
          13.959963397260715,
          5.754687019776972,
          8.753875868478444,
          8.505850871851313,
          6.215480927431598,
          9.729201819730417,
          6.383777661382565,
          8.978742177293652,
          9.033988923503092,
          9.597921835536578,
          10.115807108046472,
          7.0652159006023725,
          9.128771498963117,
          10.08208789580478,
          8.97923851985718
         ]
        },
        {
         "line": {
          "color": "rgb(164.54545454545453, 44.54545454545453, 44.54545454545453)"
         },
         "type": "violin",
         "x": [
          12.314670997189523,
          10.25273196513982,
          10.700213323497689,
          8.428756039772786,
          10.453307065401772,
          10.700694455981733,
          10.1401488762476,
          8.793928583316026,
          10.10170561234686,
          8.418982939935608,
          9.495959088677964,
          9.000138861037247,
          14.43986891603159,
          7.8331596295694,
          10.389604683138156,
          7.913346123129887,
          8.376450822768971,
          6.379708348707423,
          9.288049562425048,
          6.9344417797803555,
          9.841999787698985,
          8.239085956273197,
          12.363677215528558,
          12.152598736752315,
          8.640348543022618,
          11.167785599019432,
          9.878591386243446,
          11.119512984279234,
          10.513434563384251,
          7.142323183022207,
          9.3448649202618,
          7.735948304708043,
          8.928944227804232,
          9.010705356152382,
          9.203515983785508,
          11.45784745336852,
          8.295039350313239,
          9.901829580839276,
          8.631588827932164,
          9.366937744611011,
          5.375126932039169,
          7.984064184690978,
          10.746820948949996,
          12.053208260753154,
          8.353822400177744,
          9.682389094487428,
          9.725814434246653,
          13.608732757576224,
          5.7685842700892715,
          6.815959029810488,
          10.00557502064176,
          7.8569485780388515,
          7.622915512050799,
          10.288786901200432,
          9.82357084061404,
          9.584632980098032,
          9.597402136708771,
          9.403511386331868,
          10.416547194508524,
          11.81326554470274,
          11.149782058741382,
          10.821038892264683,
          8.791412361264507,
          8.033276469814838,
          8.655376609820248,
          10.721959728204345,
          7.415216878922347,
          6.644667652000061,
          8.329579942620372,
          9.747961008628003,
          9.51555149917265,
          10.068981388316598,
          9.399600717467354,
          10.187903125194236,
          9.427315597136449,
          9.084246455437334,
          9.292076730656197,
          8.541335713474737,
          9.077947282827642,
          12.36453365041202,
          8.784880874207508,
          11.842450333178832,
          12.097073450976987,
          9.243018356931335,
          10.739043829757614,
          8.62810912011432,
          12.16919504033046,
          8.525650685275435,
          9.557524388007549,
          8.884842598057269,
          10.006945966236076,
          9.022549534799312,
          11.260623461626528,
          10.58610678804999,
          7.831828506985682,
          9.626864735338732,
          10.494181240184105,
          9.066906433550818,
          8.294702859079523,
          8.748750182511014,
          9.0218733524439,
          9.279120321384944,
          11.802912906426476,
          10.721939203806183,
          10.759704808203846,
          8.855232694133813,
          8.379171171527421,
          7.911683348256769,
          11.379211267553972,
          9.52982528889834,
          9.199591322863151,
          11.880387472545634,
          9.016147766072873,
          11.496215739927685,
          7.921996001924056,
          9.157761375708157,
          10.452258337321734,
          8.687390175858834,
          13.467523476988738,
          11.10443553313178,
          9.75232567055932,
          9.828641150756477,
          11.828056277337012,
          11.921796780089537,
          6.73191453967088,
          6.972879462217046,
          9.15678003954558,
          12.170602162311434,
          10.873770525952612,
          10.006380733097554,
          12.003155751805538,
          7.892370890354578,
          8.796967059313106,
          7.359200813918548,
          8.940673265734528,
          5.279093023394212,
          8.522332217193618,
          8.728170670439399,
          11.47601632148663,
          8.169743620507921,
          7.515739612828471,
          11.27187409264461,
          10.636450777871302,
          10.536926324557443,
          10.466962077676332,
          8.247869667325805,
          5.659622892721856,
          8.943021325199128,
          11.318273991427466,
          13.472415039140705,
          11.068960909720532,
          4.968568148065246,
          9.73928860596214,
          8.167721091626179,
          9.430323770747169,
          7.963255206692988,
          9.359139590717348,
          13.608790015171634,
          7.328863364384004,
          8.53370513230032,
          9.806753161868212,
          13.678726947916577,
          10.370015815019272,
          8.827018927925767,
          12.222647348719809,
          9.060396346255892,
          14.092811890282633,
          9.186889312959751,
          11.286686164597906,
          9.411831925373027,
          7.117013039952314,
          7.522116660773124,
          6.677698552447537,
          3.3016073282318823,
          8.92799370258073,
          12.872399427933027,
          9.517128675239316,
          11.1251686561805,
          9.218650818749474,
          9.24894022049515,
          9.39263532353266,
          4.958057900475114,
          8.95967703698738,
          9.564114600727088,
          8.32417110722582,
          10.551418224921315,
          8.557602425012893,
          9.295156366767662,
          9.32570726624498,
          11.74745564416722,
          13.86140552969091,
          7.830855435153769,
          10.714184416526209,
          8.478780346623832,
          11.178822476608792,
          7.400454951066661,
          9.275017219803331,
          9.891376008057566,
          10.139812674188178,
          5.7993141171134965
         ]
        },
        {
         "line": {
          "color": "rgb(182.27272727272725, 27.272727272727252, 27.272727272727252)"
         },
         "type": "violin",
         "x": [
          12.181547142362083,
          11.97893706830816,
          12.514461296637188,
          16.288453885765634,
          12.097469906398636,
          13.211709042727888,
          12.890040318026152,
          9.91763008963613,
          15.27971667901726,
          11.955615557959575,
          8.08110291829719,
          11.161382719628811,
          10.935843741360314,
          13.838561166617064,
          12.71996842773942,
          9.814405194107556,
          13.21510818407055,
          8.404561591398682,
          9.846074380802447,
          13.70781186155293,
          13.384898989457309,
          14.014277275426815,
          11.80919729230955,
          11.411740848892094,
          12.746808535544968,
          14.502769470195773,
          10.637878419160778,
          7.828879632637797,
          13.189124715564816,
          12.320522908082962,
          9.37893447112411,
          13.847245525473706,
          10.08489003829644,
          12.128783306845794,
          8.909071243382037,
          10.733051819484407,
          11.170325749544938,
          11.877595597665607,
          14.531021528477352,
          12.19465482627768,
          13.260239996033285,
          9.998096027651874,
          11.115454389194122,
          11.771021156286238,
          14.934606530349066,
          8.577085076003563,
          11.552196691465369,
          9.499976563794458,
          11.540470633080607,
          12.20127812994429,
          9.355889497317415,
          12.24343667668198,
          13.26004217839995,
          11.092143269056171,
          10.86724757642248,
          10.421019388437868,
          11.654670369830344,
          11.449302114813207,
          14.26046820030914,
          14.336176138920306,
          14.50745409873586,
          15.754640884647673,
          11.947970474058147,
          13.378069747672525,
          11.368863122339928,
          15.632880667676533,
          10.500004185983704,
          11.694396626312107,
          10.97150360751858,
          9.33779468687102,
          12.601602008188546,
          8.46799605050763,
          12.185647563394578,
          10.276919397065356,
          8.447784884671808,
          8.570804844734576,
          12.27126649009244,
          11.00000526216172,
          8.643123469515087,
          12.994854671348762,
          10.888794240649352,
          12.526801784549995,
          13.049872585822731,
          12.548322126082866,
          10.57128525004617,
          8.587705662067673,
          11.30054848585296,
          10.450572172307044,
          17.288047351643307,
          12.01883691624964,
          15.666390824342962,
          12.6768961426802,
          13.167939450681288,
          13.092559235426688,
          11.746924817511657,
          10.689262336071517,
          11.31683376331858,
          14.634302424525986,
          13.332015979694791,
          13.78491736411784,
          9.441338382721598,
          15.393438623013347,
          11.886451013489468,
          9.318491204109131,
          9.962335307302132,
          16.126725490115255,
          9.9755499258807,
          12.7611508858132,
          14.04483636050854,
          11.917690871899495,
          13.076447554607633,
          13.500372983940482,
          10.939432076329124,
          9.341179621508584,
          14.239925699621072,
          11.840470676853045,
          13.26612557712231,
          10.62133454610198,
          11.1880036423099,
          9.714629741886226,
          9.368445661696876,
          10.822029468456847,
          16.411633388946008,
          14.400377968033728,
          14.64915058964413,
          8.946237881605718,
          12.782070393797104,
          9.759506440872435,
          13.335067672242888,
          12.81764423504706,
          12.834724251889806,
          12.083702811518023,
          13.060784775483231,
          12.583501424880362,
          10.343203307304307,
          12.204351777689768,
          13.944311122404788,
          11.38091459306017,
          13.905760362659,
          13.267619452904697,
          13.859201668877796,
          9.866337474695053,
          15.519904915601778,
          11.223615383406406,
          10.214941855967748,
          8.651977576041707,
          15.19128315208228,
          5.9772834506331955,
          11.92329638734461,
          12.12093646452169,
          10.538459989878234,
          11.441824161563115,
          11.298144952100644,
          9.607155622190454,
          9.437015325215606,
          9.074424117448316,
          14.132525055203264,
          13.1447133117826,
          12.05509923654864,
          11.419248836994498,
          14.078017073573587,
          9.586742088098948,
          12.928633474587114,
          15.990791079176743,
          12.034205121766409,
          16.98374709436636,
          8.856036591315958,
          9.108280974357976,
          11.742791459120577,
          17.20559725062151,
          14.327243066212668,
          13.963877653940502,
          14.431361102779274,
          12.818135830152892,
          12.22150567726266,
          9.370268889139068,
          8.19257862166638,
          11.561104120652317,
          10.222915126961214,
          14.513975274264784,
          12.586629044294302,
          7.0353580732017456,
          14.0262743632246,
          12.579738384655617,
          14.661270343922157,
          12.544284742201103,
          12.293201283338004,
          9.798023730575514,
          12.32394358986998,
          11.891968909523015,
          9.727720492327538,
          11.30196410643522,
          13.07114545258064,
          10.230976629690868,
          9.345598936805764,
          10.765380756319749,
          10.556439566340565,
          7.263108120243883,
          8.19701544098555,
          13.755192334122798
         ]
        },
        {
         "line": {
          "color": "rgb(200.0, 10.0, 10.0)"
         },
         "type": "violin",
         "x": [
          11.842252547920692,
          7.553129830670889,
          12.694784770053763,
          13.702896890244062,
          12.126589934105976,
          10.0721446042353,
          10.492117049206446,
          13.078600299737593,
          10.780030343923793,
          12.25113295022479,
          15.7053874064387,
          6.754700799803628,
          8.694580585080484,
          11.589350892629348,
          13.64108052825904,
          11.311201683854112,
          13.977210444794292,
          11.46465309351114,
          12.24442337798719,
          10.697708771769308,
          11.789783221370625,
          9.05248401375768,
          12.974284854931948,
          7.060911548949114,
          12.367662222586546,
          9.630099283736213,
          8.098129643965548,
          8.16803930228606,
          13.215407071033868,
          11.300764094666697,
          9.868104646009394,
          12.31168614416006,
          9.50925104881359,
          12.007841514753755,
          10.767229192456137,
          9.231882868728974,
          13.599683513765449,
          13.51759987663039,
          8.614371935660715,
          12.55936203118456,
          7.725173657013981,
          9.287570911953942,
          14.55180984875995,
          10.388738402868036,
          12.35837029574298,
          12.959925583615403,
          10.447148420067936,
          7.8157236449793235,
          14.363385529632428,
          9.355386380682251,
          9.867405476094405,
          10.401200841848455,
          10.208304522661562,
          11.546871913717371,
          12.413452538575235,
          12.531124551989166,
          7.663860982473775,
          12.250453391567447,
          10.870090727459068,
          11.879861227810954,
          10.781689038476609,
          11.041729503047684,
          13.763080727506342,
          11.553451029243918,
          10.133052527171468,
          10.756526742833756,
          14.737872047251992,
          10.28052935106746,
          10.873673966866464,
          13.575240618662331,
          14.734387219986184,
          7.097095293756942,
          10.61293351205354,
          11.540523381535962,
          12.320969427129178,
          12.551757544578674,
          11.16773865915463,
          8.390991451657664,
          10.223068611245749,
          9.416478511376589,
          11.317991440456897,
          10.126413827559,
          12.70448469575173,
          13.080222865778564,
          10.410998132143751,
          9.792817582616829,
          11.364692882179709,
          6.555895250519963,
          9.967709407236825,
          7.068377730491252,
          11.809497817246308,
          13.510598983648752,
          10.814231881446524,
          11.85591958174258,
          12.093707795574549,
          10.031250829933686,
          10.1181401989267,
          12.39619415370353,
          10.173870744007434,
          8.938444760117392,
          14.022707082740492,
          10.813575879718783,
          10.320770994463675,
          11.150325319230346,
          13.133519488241388,
          14.221885924577023,
          11.15814581106764,
          11.120332135868273,
          10.05784964571266,
          9.644650028604948,
          11.408836902538033,
          6.999653205842906,
          14.577553117477208,
          9.292618416960106,
          11.303663944337757,
          9.661349578823838,
          16.37032314079762,
          11.68483224098844,
          10.632851927612052,
          10.724944330353352,
          12.9851353089176,
          11.62665118646884,
          13.022086252024971,
          14.35702750913267,
          13.494253804066624,
          9.736234462290756,
          11.051173237661231,
          12.074994360515769,
          11.385961577268668,
          10.460546824731654,
          11.239456655342195,
          11.781729408041224,
          13.372394195598034,
          10.38345178298929,
          11.150150411626887,
          11.455795776401846,
          11.10501232665459,
          9.701953724925218,
          13.86141718459358,
          13.863096769214271,
          10.136422809426708,
          15.956078008068062,
          13.678391653056948,
          7.9754851412730146,
          10.858046542797757,
          13.996053357050574,
          11.3458444937174,
          10.540362286080198,
          9.015683211545548,
          9.92338518816874,
          10.815552743858523,
          11.447202653997298,
          13.193990200254492,
          11.894515975382951,
          12.709964974263771,
          12.860826235446496,
          14.288332390230078,
          10.71456119360948,
          10.17343836494488,
          10.428432114286942,
          10.005420318374735,
          12.936362123584152,
          8.666319152312994,
          9.798880613284512,
          9.091353819987916,
          8.491581887989213,
          11.31117539909873,
          15.667997678909206,
          9.023277649797958,
          11.637325545909246,
          10.474042382182606,
          11.064769749371983,
          12.467209228198216,
          13.55233025002268,
          14.418978692726798,
          11.470458178925831,
          12.72348418119592,
          13.049433721122243,
          16.010946280345863,
          9.347731062072288,
          11.69139144208584,
          10.486310679360916,
          9.86306202972892,
          10.797415025876656,
          12.110974734313302,
          9.802632053486494,
          10.637967407470322,
          14.148371789612586,
          10.14025703268628,
          14.2054957356205,
          12.876026320561476,
          13.336804969796518,
          14.204469888392882,
          14.051025662810988,
          10.67460308352407,
          9.503208408268083,
          13.966706657827732,
          10.576442544493212,
          10.84804962676259,
          8.28865227608409
         ]
        }
       ],
       "layout": {
        "template": {
         "data": {
          "bar": [
           {
            "error_x": {
             "color": "#2a3f5f"
            },
            "error_y": {
             "color": "#2a3f5f"
            },
            "marker": {
             "line": {
              "color": "#E5ECF6",
              "width": 0.5
             },
             "pattern": {
              "fillmode": "overlay",
              "size": 10,
              "solidity": 0.2
             }
            },
            "type": "bar"
           }
          ],
          "barpolar": [
           {
            "marker": {
             "line": {
              "color": "#E5ECF6",
              "width": 0.5
             },
             "pattern": {
              "fillmode": "overlay",
              "size": 10,
              "solidity": 0.2
             }
            },
            "type": "barpolar"
           }
          ],
          "carpet": [
           {
            "aaxis": {
             "endlinecolor": "#2a3f5f",
             "gridcolor": "white",
             "linecolor": "white",
             "minorgridcolor": "white",
             "startlinecolor": "#2a3f5f"
            },
            "baxis": {
             "endlinecolor": "#2a3f5f",
             "gridcolor": "white",
             "linecolor": "white",
             "minorgridcolor": "white",
             "startlinecolor": "#2a3f5f"
            },
            "type": "carpet"
           }
          ],
          "choropleth": [
           {
            "colorbar": {
             "outlinewidth": 0,
             "ticks": ""
            },
            "type": "choropleth"
           }
          ],
          "contour": [
           {
            "colorbar": {
             "outlinewidth": 0,
             "ticks": ""
            },
            "colorscale": [
             [
              0,
              "#0d0887"
             ],
             [
              0.1111111111111111,
              "#46039f"
             ],
             [
              0.2222222222222222,
              "#7201a8"
             ],
             [
              0.3333333333333333,
              "#9c179e"
             ],
             [
              0.4444444444444444,
              "#bd3786"
             ],
             [
              0.5555555555555556,
              "#d8576b"
             ],
             [
              0.6666666666666666,
              "#ed7953"
             ],
             [
              0.7777777777777778,
              "#fb9f3a"
             ],
             [
              0.8888888888888888,
              "#fdca26"
             ],
             [
              1,
              "#f0f921"
             ]
            ],
            "type": "contour"
           }
          ],
          "contourcarpet": [
           {
            "colorbar": {
             "outlinewidth": 0,
             "ticks": ""
            },
            "type": "contourcarpet"
           }
          ],
          "heatmap": [
           {
            "colorbar": {
             "outlinewidth": 0,
             "ticks": ""
            },
            "colorscale": [
             [
              0,
              "#0d0887"
             ],
             [
              0.1111111111111111,
              "#46039f"
             ],
             [
              0.2222222222222222,
              "#7201a8"
             ],
             [
              0.3333333333333333,
              "#9c179e"
             ],
             [
              0.4444444444444444,
              "#bd3786"
             ],
             [
              0.5555555555555556,
              "#d8576b"
             ],
             [
              0.6666666666666666,
              "#ed7953"
             ],
             [
              0.7777777777777778,
              "#fb9f3a"
             ],
             [
              0.8888888888888888,
              "#fdca26"
             ],
             [
              1,
              "#f0f921"
             ]
            ],
            "type": "heatmap"
           }
          ],
          "heatmapgl": [
           {
            "colorbar": {
             "outlinewidth": 0,
             "ticks": ""
            },
            "colorscale": [
             [
              0,
              "#0d0887"
             ],
             [
              0.1111111111111111,
              "#46039f"
             ],
             [
              0.2222222222222222,
              "#7201a8"
             ],
             [
              0.3333333333333333,
              "#9c179e"
             ],
             [
              0.4444444444444444,
              "#bd3786"
             ],
             [
              0.5555555555555556,
              "#d8576b"
             ],
             [
              0.6666666666666666,
              "#ed7953"
             ],
             [
              0.7777777777777778,
              "#fb9f3a"
             ],
             [
              0.8888888888888888,
              "#fdca26"
             ],
             [
              1,
              "#f0f921"
             ]
            ],
            "type": "heatmapgl"
           }
          ],
          "histogram": [
           {
            "marker": {
             "pattern": {
              "fillmode": "overlay",
              "size": 10,
              "solidity": 0.2
             }
            },
            "type": "histogram"
           }
          ],
          "histogram2d": [
           {
            "colorbar": {
             "outlinewidth": 0,
             "ticks": ""
            },
            "colorscale": [
             [
              0,
              "#0d0887"
             ],
             [
              0.1111111111111111,
              "#46039f"
             ],
             [
              0.2222222222222222,
              "#7201a8"
             ],
             [
              0.3333333333333333,
              "#9c179e"
             ],
             [
              0.4444444444444444,
              "#bd3786"
             ],
             [
              0.5555555555555556,
              "#d8576b"
             ],
             [
              0.6666666666666666,
              "#ed7953"
             ],
             [
              0.7777777777777778,
              "#fb9f3a"
             ],
             [
              0.8888888888888888,
              "#fdca26"
             ],
             [
              1,
              "#f0f921"
             ]
            ],
            "type": "histogram2d"
           }
          ],
          "histogram2dcontour": [
           {
            "colorbar": {
             "outlinewidth": 0,
             "ticks": ""
            },
            "colorscale": [
             [
              0,
              "#0d0887"
             ],
             [
              0.1111111111111111,
              "#46039f"
             ],
             [
              0.2222222222222222,
              "#7201a8"
             ],
             [
              0.3333333333333333,
              "#9c179e"
             ],
             [
              0.4444444444444444,
              "#bd3786"
             ],
             [
              0.5555555555555556,
              "#d8576b"
             ],
             [
              0.6666666666666666,
              "#ed7953"
             ],
             [
              0.7777777777777778,
              "#fb9f3a"
             ],
             [
              0.8888888888888888,
              "#fdca26"
             ],
             [
              1,
              "#f0f921"
             ]
            ],
            "type": "histogram2dcontour"
           }
          ],
          "mesh3d": [
           {
            "colorbar": {
             "outlinewidth": 0,
             "ticks": ""
            },
            "type": "mesh3d"
           }
          ],
          "parcoords": [
           {
            "line": {
             "colorbar": {
              "outlinewidth": 0,
              "ticks": ""
             }
            },
            "type": "parcoords"
           }
          ],
          "pie": [
           {
            "automargin": true,
            "type": "pie"
           }
          ],
          "scatter": [
           {
            "fillpattern": {
             "fillmode": "overlay",
             "size": 10,
             "solidity": 0.2
            },
            "type": "scatter"
           }
          ],
          "scatter3d": [
           {
            "line": {
             "colorbar": {
              "outlinewidth": 0,
              "ticks": ""
             }
            },
            "marker": {
             "colorbar": {
              "outlinewidth": 0,
              "ticks": ""
             }
            },
            "type": "scatter3d"
           }
          ],
          "scattercarpet": [
           {
            "marker": {
             "colorbar": {
              "outlinewidth": 0,
              "ticks": ""
             }
            },
            "type": "scattercarpet"
           }
          ],
          "scattergeo": [
           {
            "marker": {
             "colorbar": {
              "outlinewidth": 0,
              "ticks": ""
             }
            },
            "type": "scattergeo"
           }
          ],
          "scattergl": [
           {
            "marker": {
             "colorbar": {
              "outlinewidth": 0,
              "ticks": ""
             }
            },
            "type": "scattergl"
           }
          ],
          "scattermapbox": [
           {
            "marker": {
             "colorbar": {
              "outlinewidth": 0,
              "ticks": ""
             }
            },
            "type": "scattermapbox"
           }
          ],
          "scatterpolar": [
           {
            "marker": {
             "colorbar": {
              "outlinewidth": 0,
              "ticks": ""
             }
            },
            "type": "scatterpolar"
           }
          ],
          "scatterpolargl": [
           {
            "marker": {
             "colorbar": {
              "outlinewidth": 0,
              "ticks": ""
             }
            },
            "type": "scatterpolargl"
           }
          ],
          "scatterternary": [
           {
            "marker": {
             "colorbar": {
              "outlinewidth": 0,
              "ticks": ""
             }
            },
            "type": "scatterternary"
           }
          ],
          "surface": [
           {
            "colorbar": {
             "outlinewidth": 0,
             "ticks": ""
            },
            "colorscale": [
             [
              0,
              "#0d0887"
             ],
             [
              0.1111111111111111,
              "#46039f"
             ],
             [
              0.2222222222222222,
              "#7201a8"
             ],
             [
              0.3333333333333333,
              "#9c179e"
             ],
             [
              0.4444444444444444,
              "#bd3786"
             ],
             [
              0.5555555555555556,
              "#d8576b"
             ],
             [
              0.6666666666666666,
              "#ed7953"
             ],
             [
              0.7777777777777778,
              "#fb9f3a"
             ],
             [
              0.8888888888888888,
              "#fdca26"
             ],
             [
              1,
              "#f0f921"
             ]
            ],
            "type": "surface"
           }
          ],
          "table": [
           {
            "cells": {
             "fill": {
              "color": "#EBF0F8"
             },
             "line": {
              "color": "white"
             }
            },
            "header": {
             "fill": {
              "color": "#C8D4E3"
             },
             "line": {
              "color": "white"
             }
            },
            "type": "table"
           }
          ]
         },
         "layout": {
          "annotationdefaults": {
           "arrowcolor": "#2a3f5f",
           "arrowhead": 0,
           "arrowwidth": 1
          },
          "autotypenumbers": "strict",
          "coloraxis": {
           "colorbar": {
            "outlinewidth": 0,
            "ticks": ""
           }
          },
          "colorscale": {
           "diverging": [
            [
             0,
             "#8e0152"
            ],
            [
             0.1,
             "#c51b7d"
            ],
            [
             0.2,
             "#de77ae"
            ],
            [
             0.3,
             "#f1b6da"
            ],
            [
             0.4,
             "#fde0ef"
            ],
            [
             0.5,
             "#f7f7f7"
            ],
            [
             0.6,
             "#e6f5d0"
            ],
            [
             0.7,
             "#b8e186"
            ],
            [
             0.8,
             "#7fbc41"
            ],
            [
             0.9,
             "#4d9221"
            ],
            [
             1,
             "#276419"
            ]
           ],
           "sequential": [
            [
             0,
             "#0d0887"
            ],
            [
             0.1111111111111111,
             "#46039f"
            ],
            [
             0.2222222222222222,
             "#7201a8"
            ],
            [
             0.3333333333333333,
             "#9c179e"
            ],
            [
             0.4444444444444444,
             "#bd3786"
            ],
            [
             0.5555555555555556,
             "#d8576b"
            ],
            [
             0.6666666666666666,
             "#ed7953"
            ],
            [
             0.7777777777777778,
             "#fb9f3a"
            ],
            [
             0.8888888888888888,
             "#fdca26"
            ],
            [
             1,
             "#f0f921"
            ]
           ],
           "sequentialminus": [
            [
             0,
             "#0d0887"
            ],
            [
             0.1111111111111111,
             "#46039f"
            ],
            [
             0.2222222222222222,
             "#7201a8"
            ],
            [
             0.3333333333333333,
             "#9c179e"
            ],
            [
             0.4444444444444444,
             "#bd3786"
            ],
            [
             0.5555555555555556,
             "#d8576b"
            ],
            [
             0.6666666666666666,
             "#ed7953"
            ],
            [
             0.7777777777777778,
             "#fb9f3a"
            ],
            [
             0.8888888888888888,
             "#fdca26"
            ],
            [
             1,
             "#f0f921"
            ]
           ]
          },
          "colorway": [
           "#636efa",
           "#EF553B",
           "#00cc96",
           "#ab63fa",
           "#FFA15A",
           "#19d3f3",
           "#FF6692",
           "#B6E880",
           "#FF97FF",
           "#FECB52"
          ],
          "font": {
           "color": "#2a3f5f"
          },
          "geo": {
           "bgcolor": "white",
           "lakecolor": "white",
           "landcolor": "#E5ECF6",
           "showlakes": true,
           "showland": true,
           "subunitcolor": "white"
          },
          "hoverlabel": {
           "align": "left"
          },
          "hovermode": "closest",
          "mapbox": {
           "style": "light"
          },
          "paper_bgcolor": "white",
          "plot_bgcolor": "#E5ECF6",
          "polar": {
           "angularaxis": {
            "gridcolor": "white",
            "linecolor": "white",
            "ticks": ""
           },
           "bgcolor": "#E5ECF6",
           "radialaxis": {
            "gridcolor": "white",
            "linecolor": "white",
            "ticks": ""
           }
          },
          "scene": {
           "xaxis": {
            "backgroundcolor": "#E5ECF6",
            "gridcolor": "white",
            "gridwidth": 2,
            "linecolor": "white",
            "showbackground": true,
            "ticks": "",
            "zerolinecolor": "white"
           },
           "yaxis": {
            "backgroundcolor": "#E5ECF6",
            "gridcolor": "white",
            "gridwidth": 2,
            "linecolor": "white",
            "showbackground": true,
            "ticks": "",
            "zerolinecolor": "white"
           },
           "zaxis": {
            "backgroundcolor": "#E5ECF6",
            "gridcolor": "white",
            "gridwidth": 2,
            "linecolor": "white",
            "showbackground": true,
            "ticks": "",
            "zerolinecolor": "white"
           }
          },
          "shapedefaults": {
           "line": {
            "color": "#2a3f5f"
           }
          },
          "ternary": {
           "aaxis": {
            "gridcolor": "white",
            "linecolor": "white",
            "ticks": ""
           },
           "baxis": {
            "gridcolor": "white",
            "linecolor": "white",
            "ticks": ""
           },
           "bgcolor": "#E5ECF6",
           "caxis": {
            "gridcolor": "white",
            "linecolor": "white",
            "ticks": ""
           }
          },
          "title": {
           "x": 0.05
          },
          "xaxis": {
           "automargin": true,
           "gridcolor": "white",
           "linecolor": "white",
           "ticks": "",
           "title": {
            "standoff": 15
           },
           "zerolinecolor": "white",
           "zerolinewidth": 2
          },
          "yaxis": {
           "automargin": true,
           "gridcolor": "white",
           "linecolor": "white",
           "ticks": "",
           "title": {
            "standoff": 15
           },
           "zerolinecolor": "white",
           "zerolinewidth": 2
          }
         }
        },
        "xaxis": {
         "showgrid": false,
         "zeroline": false
        }
       }
      }
     },
     "metadata": {},
     "output_type": "display_data"
    }
   ],
   "source": [
    "# 12 sets of normal distributed random data, with increasing mean and standard deviation\n",
    "data = (\n",
    "    np.linspace(1, 2, 12)[:, np.newaxis] * np.random.randn(12, 200)\n",
    "    + (np.arange(12) + 2 * np.random.random(12))[:, np.newaxis]\n",
    ")\n",
    "\n",
    "colors = n_colors(\"rgb(5, 200, 200)\", \"rgb(200, 10, 10)\", 12, colortype=\"rgb\")\n",
    "\n",
    "fig = go.Figure()\n",
    "for data_line, color in zip(data, colors):\n",
    "    fig.add_trace(go.Violin(x=data_line, line_color=color))\n",
    "\n",
    "# 只显示positive\n",
    "# fig.update_traces(orientation='h', side='positive', width=3, points=False)\n",
    "fig.update_layout(xaxis_showgrid=False, xaxis_zeroline=False)\n",
    "fig.show()"
   ]
  },
  {
   "cell_type": "markdown",
   "metadata": {},
   "source": [
    "# px.strip"
   ]
  },
  {
   "cell_type": "markdown",
   "metadata": {},
   "source": [
    "## Violin Plot With Only Points"
   ]
  },
  {
   "cell_type": "code",
   "execution_count": 63,
   "metadata": {},
   "outputs": [
    {
     "data": {
      "text/html": [
       "<div>\n",
       "<style scoped>\n",
       "    .dataframe tbody tr th:only-of-type {\n",
       "        vertical-align: middle;\n",
       "    }\n",
       "\n",
       "    .dataframe tbody tr th {\n",
       "        vertical-align: top;\n",
       "    }\n",
       "\n",
       "    .dataframe thead th {\n",
       "        text-align: right;\n",
       "    }\n",
       "</style>\n",
       "<table border=\"1\" class=\"dataframe\">\n",
       "  <thead>\n",
       "    <tr style=\"text-align: right;\">\n",
       "      <th></th>\n",
       "      <th>total_bill</th>\n",
       "      <th>tip</th>\n",
       "      <th>sex</th>\n",
       "      <th>smoker</th>\n",
       "      <th>day</th>\n",
       "      <th>time</th>\n",
       "      <th>size</th>\n",
       "    </tr>\n",
       "  </thead>\n",
       "  <tbody>\n",
       "    <tr>\n",
       "      <th>0</th>\n",
       "      <td>16.99</td>\n",
       "      <td>1.01</td>\n",
       "      <td>Female</td>\n",
       "      <td>No</td>\n",
       "      <td>Sun</td>\n",
       "      <td>Dinner</td>\n",
       "      <td>2</td>\n",
       "    </tr>\n",
       "    <tr>\n",
       "      <th>1</th>\n",
       "      <td>10.34</td>\n",
       "      <td>1.66</td>\n",
       "      <td>Male</td>\n",
       "      <td>No</td>\n",
       "      <td>Sun</td>\n",
       "      <td>Dinner</td>\n",
       "      <td>3</td>\n",
       "    </tr>\n",
       "    <tr>\n",
       "      <th>2</th>\n",
       "      <td>21.01</td>\n",
       "      <td>3.50</td>\n",
       "      <td>Male</td>\n",
       "      <td>No</td>\n",
       "      <td>Sun</td>\n",
       "      <td>Dinner</td>\n",
       "      <td>3</td>\n",
       "    </tr>\n",
       "    <tr>\n",
       "      <th>3</th>\n",
       "      <td>23.68</td>\n",
       "      <td>3.31</td>\n",
       "      <td>Male</td>\n",
       "      <td>No</td>\n",
       "      <td>Sun</td>\n",
       "      <td>Dinner</td>\n",
       "      <td>2</td>\n",
       "    </tr>\n",
       "    <tr>\n",
       "      <th>4</th>\n",
       "      <td>24.59</td>\n",
       "      <td>3.61</td>\n",
       "      <td>Female</td>\n",
       "      <td>No</td>\n",
       "      <td>Sun</td>\n",
       "      <td>Dinner</td>\n",
       "      <td>4</td>\n",
       "    </tr>\n",
       "  </tbody>\n",
       "</table>\n",
       "</div>"
      ],
      "text/plain": [
       "   total_bill   tip     sex smoker  day    time  size\n",
       "0       16.99  1.01  Female     No  Sun  Dinner     2\n",
       "1       10.34  1.66    Male     No  Sun  Dinner     3\n",
       "2       21.01  3.50    Male     No  Sun  Dinner     3\n",
       "3       23.68  3.31    Male     No  Sun  Dinner     2\n",
       "4       24.59  3.61  Female     No  Sun  Dinner     4"
      ]
     },
     "execution_count": 63,
     "metadata": {},
     "output_type": "execute_result"
    }
   ],
   "source": [
    "tips = px.data.tips()\n",
    "tips.head()"
   ]
  },
  {
   "cell_type": "code",
   "execution_count": 64,
   "metadata": {},
   "outputs": [
    {
     "data": {
      "application/vnd.plotly.v1+json": {
       "config": {
        "plotlyServerURL": "https://plot.ly"
       },
       "data": [
        {
         "alignmentgroup": "True",
         "boxpoints": "all",
         "fillcolor": "rgba(255,255,255,0)",
         "hoveron": "points",
         "hovertemplate": "day=%{x}<br>tip=%{y}<extra></extra>",
         "legendgroup": "",
         "line": {
          "color": "rgba(255,255,255,0)"
         },
         "marker": {
          "color": "#636efa"
         },
         "name": "",
         "offsetgroup": "",
         "orientation": "v",
         "pointpos": 0,
         "showlegend": false,
         "type": "box",
         "x": [
          "Sun",
          "Sun",
          "Sun",
          "Sun",
          "Sun",
          "Sun",
          "Sun",
          "Sun",
          "Sun",
          "Sun",
          "Sun",
          "Sun",
          "Sun",
          "Sun",
          "Sun",
          "Sun",
          "Sun",
          "Sun",
          "Sun",
          "Sat",
          "Sat",
          "Sat",
          "Sat",
          "Sat",
          "Sat",
          "Sat",
          "Sat",
          "Sat",
          "Sat",
          "Sat",
          "Sat",
          "Sat",
          "Sat",
          "Sat",
          "Sat",
          "Sat",
          "Sat",
          "Sat",
          "Sat",
          "Sat",
          "Sat",
          "Sun",
          "Sun",
          "Sun",
          "Sun",
          "Sun",
          "Sun",
          "Sun",
          "Sun",
          "Sun",
          "Sun",
          "Sun",
          "Sun",
          "Sun",
          "Sun",
          "Sun",
          "Sat",
          "Sat",
          "Sat",
          "Sat",
          "Sat",
          "Sat",
          "Sat",
          "Sat",
          "Sat",
          "Sat",
          "Sat",
          "Sat",
          "Sat",
          "Sat",
          "Sat",
          "Sat",
          "Sat",
          "Sat",
          "Sat",
          "Sat",
          "Sat",
          "Thur",
          "Thur",
          "Thur",
          "Thur",
          "Thur",
          "Thur",
          "Thur",
          "Thur",
          "Thur",
          "Thur",
          "Thur",
          "Thur",
          "Thur",
          "Fri",
          "Fri",
          "Fri",
          "Fri",
          "Fri",
          "Fri",
          "Fri",
          "Fri",
          "Fri",
          "Fri",
          "Fri",
          "Fri",
          "Sat",
          "Sat",
          "Sat",
          "Sat",
          "Sat",
          "Sat",
          "Sat",
          "Sat",
          "Sat",
          "Sat",
          "Sun",
          "Sun",
          "Sun",
          "Sun",
          "Sun",
          "Thur",
          "Thur",
          "Thur",
          "Thur",
          "Thur",
          "Thur",
          "Thur",
          "Thur",
          "Thur",
          "Thur",
          "Thur",
          "Thur",
          "Thur",
          "Thur",
          "Thur",
          "Thur",
          "Thur",
          "Thur",
          "Thur",
          "Thur",
          "Thur",
          "Thur",
          "Thur",
          "Thur",
          "Thur",
          "Thur",
          "Thur",
          "Thur",
          "Thur",
          "Thur",
          "Thur",
          "Thur",
          "Thur",
          "Sun",
          "Sun",
          "Sun",
          "Sun",
          "Sun",
          "Sun",
          "Sun",
          "Sun",
          "Sun",
          "Sun",
          "Sun",
          "Sun",
          "Sun",
          "Sun",
          "Sun",
          "Sun",
          "Sun",
          "Sun",
          "Sat",
          "Sat",
          "Sat",
          "Sat",
          "Sun",
          "Sun",
          "Sun",
          "Sun",
          "Sun",
          "Sun",
          "Sun",
          "Sun",
          "Sun",
          "Sun",
          "Sun",
          "Sun",
          "Sun",
          "Sun",
          "Sun",
          "Sun",
          "Sun",
          "Sun",
          "Sun",
          "Thur",
          "Thur",
          "Thur",
          "Thur",
          "Thur",
          "Thur",
          "Thur",
          "Thur",
          "Thur",
          "Thur",
          "Thur",
          "Thur",
          "Thur",
          "Thur",
          "Thur",
          "Sat",
          "Sat",
          "Sat",
          "Sat",
          "Sat",
          "Sat",
          "Sat",
          "Sat",
          "Sat",
          "Sat",
          "Sat",
          "Sat",
          "Sat",
          "Sat",
          "Fri",
          "Fri",
          "Fri",
          "Fri",
          "Fri",
          "Fri",
          "Fri",
          "Sat",
          "Sat",
          "Sat",
          "Sat",
          "Sat",
          "Sat",
          "Sat",
          "Sat",
          "Sat",
          "Sat",
          "Sat",
          "Sat",
          "Sat",
          "Sat",
          "Sat",
          "Sat",
          "Thur"
         ],
         "x0": " ",
         "xaxis": "x",
         "y": [
          1.01,
          1.66,
          3.5,
          3.31,
          3.61,
          4.71,
          2,
          3.12,
          1.96,
          3.23,
          1.71,
          5,
          1.57,
          3,
          3.02,
          3.92,
          1.67,
          3.71,
          3.5,
          3.35,
          4.08,
          2.75,
          2.23,
          7.58,
          3.18,
          2.34,
          2,
          2,
          4.3,
          3,
          1.45,
          2.5,
          3,
          2.45,
          3.27,
          3.6,
          2,
          3.07,
          2.31,
          5,
          2.24,
          2.54,
          3.06,
          1.32,
          5.6,
          3,
          5,
          6,
          2.05,
          3,
          2.5,
          2.6,
          5.2,
          1.56,
          4.34,
          3.51,
          3,
          1.5,
          1.76,
          6.73,
          3.21,
          2,
          1.98,
          3.76,
          2.64,
          3.15,
          2.47,
          1,
          2.01,
          2.09,
          1.97,
          3,
          3.14,
          5,
          2.2,
          1.25,
          3.08,
          4,
          3,
          2.71,
          3,
          3.4,
          1.83,
          5,
          2.03,
          5.17,
          2,
          4,
          5.85,
          3,
          3,
          3.5,
          1,
          4.3,
          3.25,
          4.73,
          4,
          1.5,
          3,
          1.5,
          2.5,
          3,
          2.5,
          3.48,
          4.08,
          1.64,
          4.06,
          4.29,
          3.76,
          4,
          3,
          1,
          4,
          2.55,
          4,
          3.5,
          5.07,
          1.5,
          1.8,
          2.92,
          2.31,
          1.68,
          2.5,
          2,
          2.52,
          4.2,
          1.48,
          2,
          2,
          2.18,
          1.5,
          2.83,
          1.5,
          2,
          3.25,
          1.25,
          2,
          2,
          2,
          2.75,
          3.5,
          6.7,
          5,
          5,
          2.3,
          1.5,
          1.36,
          1.63,
          1.73,
          2,
          2.5,
          2,
          2.74,
          2,
          2,
          5.14,
          5,
          3.75,
          2.61,
          2,
          3.5,
          2.5,
          2,
          2,
          3,
          3.48,
          2.24,
          4.5,
          1.61,
          2,
          10,
          3.16,
          5.15,
          3.18,
          4,
          3.11,
          2,
          2,
          4,
          3.55,
          3.68,
          5.65,
          3.5,
          6.5,
          3,
          5,
          3.5,
          2,
          3.5,
          4,
          1.5,
          4.19,
          2.56,
          2.02,
          4,
          1.44,
          2,
          5,
          2,
          2,
          4,
          2.01,
          2,
          2.5,
          4,
          3.23,
          3.41,
          3,
          2.03,
          2.23,
          2,
          5.16,
          9,
          2.5,
          6.5,
          1.1,
          3,
          1.5,
          1.44,
          3.09,
          2.2,
          3.48,
          1.92,
          3,
          1.58,
          2.5,
          2,
          3,
          2.72,
          2.88,
          2,
          3,
          3.39,
          1.47,
          3,
          1.25,
          1,
          1.17,
          4.67,
          5.92,
          2,
          2,
          1.75,
          3
         ],
         "y0": " ",
         "yaxis": "y"
        }
       ],
       "layout": {
        "boxmode": "group",
        "legend": {
         "tracegroupgap": 0
        },
        "margin": {
         "t": 60
        },
        "template": {
         "data": {
          "bar": [
           {
            "error_x": {
             "color": "#2a3f5f"
            },
            "error_y": {
             "color": "#2a3f5f"
            },
            "marker": {
             "line": {
              "color": "#E5ECF6",
              "width": 0.5
             },
             "pattern": {
              "fillmode": "overlay",
              "size": 10,
              "solidity": 0.2
             }
            },
            "type": "bar"
           }
          ],
          "barpolar": [
           {
            "marker": {
             "line": {
              "color": "#E5ECF6",
              "width": 0.5
             },
             "pattern": {
              "fillmode": "overlay",
              "size": 10,
              "solidity": 0.2
             }
            },
            "type": "barpolar"
           }
          ],
          "carpet": [
           {
            "aaxis": {
             "endlinecolor": "#2a3f5f",
             "gridcolor": "white",
             "linecolor": "white",
             "minorgridcolor": "white",
             "startlinecolor": "#2a3f5f"
            },
            "baxis": {
             "endlinecolor": "#2a3f5f",
             "gridcolor": "white",
             "linecolor": "white",
             "minorgridcolor": "white",
             "startlinecolor": "#2a3f5f"
            },
            "type": "carpet"
           }
          ],
          "choropleth": [
           {
            "colorbar": {
             "outlinewidth": 0,
             "ticks": ""
            },
            "type": "choropleth"
           }
          ],
          "contour": [
           {
            "colorbar": {
             "outlinewidth": 0,
             "ticks": ""
            },
            "colorscale": [
             [
              0,
              "#0d0887"
             ],
             [
              0.1111111111111111,
              "#46039f"
             ],
             [
              0.2222222222222222,
              "#7201a8"
             ],
             [
              0.3333333333333333,
              "#9c179e"
             ],
             [
              0.4444444444444444,
              "#bd3786"
             ],
             [
              0.5555555555555556,
              "#d8576b"
             ],
             [
              0.6666666666666666,
              "#ed7953"
             ],
             [
              0.7777777777777778,
              "#fb9f3a"
             ],
             [
              0.8888888888888888,
              "#fdca26"
             ],
             [
              1,
              "#f0f921"
             ]
            ],
            "type": "contour"
           }
          ],
          "contourcarpet": [
           {
            "colorbar": {
             "outlinewidth": 0,
             "ticks": ""
            },
            "type": "contourcarpet"
           }
          ],
          "heatmap": [
           {
            "colorbar": {
             "outlinewidth": 0,
             "ticks": ""
            },
            "colorscale": [
             [
              0,
              "#0d0887"
             ],
             [
              0.1111111111111111,
              "#46039f"
             ],
             [
              0.2222222222222222,
              "#7201a8"
             ],
             [
              0.3333333333333333,
              "#9c179e"
             ],
             [
              0.4444444444444444,
              "#bd3786"
             ],
             [
              0.5555555555555556,
              "#d8576b"
             ],
             [
              0.6666666666666666,
              "#ed7953"
             ],
             [
              0.7777777777777778,
              "#fb9f3a"
             ],
             [
              0.8888888888888888,
              "#fdca26"
             ],
             [
              1,
              "#f0f921"
             ]
            ],
            "type": "heatmap"
           }
          ],
          "heatmapgl": [
           {
            "colorbar": {
             "outlinewidth": 0,
             "ticks": ""
            },
            "colorscale": [
             [
              0,
              "#0d0887"
             ],
             [
              0.1111111111111111,
              "#46039f"
             ],
             [
              0.2222222222222222,
              "#7201a8"
             ],
             [
              0.3333333333333333,
              "#9c179e"
             ],
             [
              0.4444444444444444,
              "#bd3786"
             ],
             [
              0.5555555555555556,
              "#d8576b"
             ],
             [
              0.6666666666666666,
              "#ed7953"
             ],
             [
              0.7777777777777778,
              "#fb9f3a"
             ],
             [
              0.8888888888888888,
              "#fdca26"
             ],
             [
              1,
              "#f0f921"
             ]
            ],
            "type": "heatmapgl"
           }
          ],
          "histogram": [
           {
            "marker": {
             "pattern": {
              "fillmode": "overlay",
              "size": 10,
              "solidity": 0.2
             }
            },
            "type": "histogram"
           }
          ],
          "histogram2d": [
           {
            "colorbar": {
             "outlinewidth": 0,
             "ticks": ""
            },
            "colorscale": [
             [
              0,
              "#0d0887"
             ],
             [
              0.1111111111111111,
              "#46039f"
             ],
             [
              0.2222222222222222,
              "#7201a8"
             ],
             [
              0.3333333333333333,
              "#9c179e"
             ],
             [
              0.4444444444444444,
              "#bd3786"
             ],
             [
              0.5555555555555556,
              "#d8576b"
             ],
             [
              0.6666666666666666,
              "#ed7953"
             ],
             [
              0.7777777777777778,
              "#fb9f3a"
             ],
             [
              0.8888888888888888,
              "#fdca26"
             ],
             [
              1,
              "#f0f921"
             ]
            ],
            "type": "histogram2d"
           }
          ],
          "histogram2dcontour": [
           {
            "colorbar": {
             "outlinewidth": 0,
             "ticks": ""
            },
            "colorscale": [
             [
              0,
              "#0d0887"
             ],
             [
              0.1111111111111111,
              "#46039f"
             ],
             [
              0.2222222222222222,
              "#7201a8"
             ],
             [
              0.3333333333333333,
              "#9c179e"
             ],
             [
              0.4444444444444444,
              "#bd3786"
             ],
             [
              0.5555555555555556,
              "#d8576b"
             ],
             [
              0.6666666666666666,
              "#ed7953"
             ],
             [
              0.7777777777777778,
              "#fb9f3a"
             ],
             [
              0.8888888888888888,
              "#fdca26"
             ],
             [
              1,
              "#f0f921"
             ]
            ],
            "type": "histogram2dcontour"
           }
          ],
          "mesh3d": [
           {
            "colorbar": {
             "outlinewidth": 0,
             "ticks": ""
            },
            "type": "mesh3d"
           }
          ],
          "parcoords": [
           {
            "line": {
             "colorbar": {
              "outlinewidth": 0,
              "ticks": ""
             }
            },
            "type": "parcoords"
           }
          ],
          "pie": [
           {
            "automargin": true,
            "type": "pie"
           }
          ],
          "scatter": [
           {
            "fillpattern": {
             "fillmode": "overlay",
             "size": 10,
             "solidity": 0.2
            },
            "type": "scatter"
           }
          ],
          "scatter3d": [
           {
            "line": {
             "colorbar": {
              "outlinewidth": 0,
              "ticks": ""
             }
            },
            "marker": {
             "colorbar": {
              "outlinewidth": 0,
              "ticks": ""
             }
            },
            "type": "scatter3d"
           }
          ],
          "scattercarpet": [
           {
            "marker": {
             "colorbar": {
              "outlinewidth": 0,
              "ticks": ""
             }
            },
            "type": "scattercarpet"
           }
          ],
          "scattergeo": [
           {
            "marker": {
             "colorbar": {
              "outlinewidth": 0,
              "ticks": ""
             }
            },
            "type": "scattergeo"
           }
          ],
          "scattergl": [
           {
            "marker": {
             "colorbar": {
              "outlinewidth": 0,
              "ticks": ""
             }
            },
            "type": "scattergl"
           }
          ],
          "scattermapbox": [
           {
            "marker": {
             "colorbar": {
              "outlinewidth": 0,
              "ticks": ""
             }
            },
            "type": "scattermapbox"
           }
          ],
          "scatterpolar": [
           {
            "marker": {
             "colorbar": {
              "outlinewidth": 0,
              "ticks": ""
             }
            },
            "type": "scatterpolar"
           }
          ],
          "scatterpolargl": [
           {
            "marker": {
             "colorbar": {
              "outlinewidth": 0,
              "ticks": ""
             }
            },
            "type": "scatterpolargl"
           }
          ],
          "scatterternary": [
           {
            "marker": {
             "colorbar": {
              "outlinewidth": 0,
              "ticks": ""
             }
            },
            "type": "scatterternary"
           }
          ],
          "surface": [
           {
            "colorbar": {
             "outlinewidth": 0,
             "ticks": ""
            },
            "colorscale": [
             [
              0,
              "#0d0887"
             ],
             [
              0.1111111111111111,
              "#46039f"
             ],
             [
              0.2222222222222222,
              "#7201a8"
             ],
             [
              0.3333333333333333,
              "#9c179e"
             ],
             [
              0.4444444444444444,
              "#bd3786"
             ],
             [
              0.5555555555555556,
              "#d8576b"
             ],
             [
              0.6666666666666666,
              "#ed7953"
             ],
             [
              0.7777777777777778,
              "#fb9f3a"
             ],
             [
              0.8888888888888888,
              "#fdca26"
             ],
             [
              1,
              "#f0f921"
             ]
            ],
            "type": "surface"
           }
          ],
          "table": [
           {
            "cells": {
             "fill": {
              "color": "#EBF0F8"
             },
             "line": {
              "color": "white"
             }
            },
            "header": {
             "fill": {
              "color": "#C8D4E3"
             },
             "line": {
              "color": "white"
             }
            },
            "type": "table"
           }
          ]
         },
         "layout": {
          "annotationdefaults": {
           "arrowcolor": "#2a3f5f",
           "arrowhead": 0,
           "arrowwidth": 1
          },
          "autotypenumbers": "strict",
          "coloraxis": {
           "colorbar": {
            "outlinewidth": 0,
            "ticks": ""
           }
          },
          "colorscale": {
           "diverging": [
            [
             0,
             "#8e0152"
            ],
            [
             0.1,
             "#c51b7d"
            ],
            [
             0.2,
             "#de77ae"
            ],
            [
             0.3,
             "#f1b6da"
            ],
            [
             0.4,
             "#fde0ef"
            ],
            [
             0.5,
             "#f7f7f7"
            ],
            [
             0.6,
             "#e6f5d0"
            ],
            [
             0.7,
             "#b8e186"
            ],
            [
             0.8,
             "#7fbc41"
            ],
            [
             0.9,
             "#4d9221"
            ],
            [
             1,
             "#276419"
            ]
           ],
           "sequential": [
            [
             0,
             "#0d0887"
            ],
            [
             0.1111111111111111,
             "#46039f"
            ],
            [
             0.2222222222222222,
             "#7201a8"
            ],
            [
             0.3333333333333333,
             "#9c179e"
            ],
            [
             0.4444444444444444,
             "#bd3786"
            ],
            [
             0.5555555555555556,
             "#d8576b"
            ],
            [
             0.6666666666666666,
             "#ed7953"
            ],
            [
             0.7777777777777778,
             "#fb9f3a"
            ],
            [
             0.8888888888888888,
             "#fdca26"
            ],
            [
             1,
             "#f0f921"
            ]
           ],
           "sequentialminus": [
            [
             0,
             "#0d0887"
            ],
            [
             0.1111111111111111,
             "#46039f"
            ],
            [
             0.2222222222222222,
             "#7201a8"
            ],
            [
             0.3333333333333333,
             "#9c179e"
            ],
            [
             0.4444444444444444,
             "#bd3786"
            ],
            [
             0.5555555555555556,
             "#d8576b"
            ],
            [
             0.6666666666666666,
             "#ed7953"
            ],
            [
             0.7777777777777778,
             "#fb9f3a"
            ],
            [
             0.8888888888888888,
             "#fdca26"
            ],
            [
             1,
             "#f0f921"
            ]
           ]
          },
          "colorway": [
           "#636efa",
           "#EF553B",
           "#00cc96",
           "#ab63fa",
           "#FFA15A",
           "#19d3f3",
           "#FF6692",
           "#B6E880",
           "#FF97FF",
           "#FECB52"
          ],
          "font": {
           "color": "#2a3f5f"
          },
          "geo": {
           "bgcolor": "white",
           "lakecolor": "white",
           "landcolor": "#E5ECF6",
           "showlakes": true,
           "showland": true,
           "subunitcolor": "white"
          },
          "hoverlabel": {
           "align": "left"
          },
          "hovermode": "closest",
          "mapbox": {
           "style": "light"
          },
          "paper_bgcolor": "white",
          "plot_bgcolor": "#E5ECF6",
          "polar": {
           "angularaxis": {
            "gridcolor": "white",
            "linecolor": "white",
            "ticks": ""
           },
           "bgcolor": "#E5ECF6",
           "radialaxis": {
            "gridcolor": "white",
            "linecolor": "white",
            "ticks": ""
           }
          },
          "scene": {
           "xaxis": {
            "backgroundcolor": "#E5ECF6",
            "gridcolor": "white",
            "gridwidth": 2,
            "linecolor": "white",
            "showbackground": true,
            "ticks": "",
            "zerolinecolor": "white"
           },
           "yaxis": {
            "backgroundcolor": "#E5ECF6",
            "gridcolor": "white",
            "gridwidth": 2,
            "linecolor": "white",
            "showbackground": true,
            "ticks": "",
            "zerolinecolor": "white"
           },
           "zaxis": {
            "backgroundcolor": "#E5ECF6",
            "gridcolor": "white",
            "gridwidth": 2,
            "linecolor": "white",
            "showbackground": true,
            "ticks": "",
            "zerolinecolor": "white"
           }
          },
          "shapedefaults": {
           "line": {
            "color": "#2a3f5f"
           }
          },
          "ternary": {
           "aaxis": {
            "gridcolor": "white",
            "linecolor": "white",
            "ticks": ""
           },
           "baxis": {
            "gridcolor": "white",
            "linecolor": "white",
            "ticks": ""
           },
           "bgcolor": "#E5ECF6",
           "caxis": {
            "gridcolor": "white",
            "linecolor": "white",
            "ticks": ""
           }
          },
          "title": {
           "x": 0.05
          },
          "xaxis": {
           "automargin": true,
           "gridcolor": "white",
           "linecolor": "white",
           "ticks": "",
           "title": {
            "standoff": 15
           },
           "zerolinecolor": "white",
           "zerolinewidth": 2
          },
          "yaxis": {
           "automargin": true,
           "gridcolor": "white",
           "linecolor": "white",
           "ticks": "",
           "title": {
            "standoff": 15
           },
           "zerolinecolor": "white",
           "zerolinewidth": 2
          }
         }
        },
        "xaxis": {
         "anchor": "y",
         "domain": [
          0,
          1
         ],
         "title": {
          "text": "day"
         }
        },
        "yaxis": {
         "anchor": "x",
         "domain": [
          0,
          1
         ],
         "title": {
          "text": "tip"
         }
        }
       }
      }
     },
     "metadata": {},
     "output_type": "display_data"
    }
   ],
   "source": [
    "fig = px.strip(data_frame=tips, x=\"day\", y=\"tip\")\n",
    "fig.show()"
   ]
  },
  {
   "cell_type": "code",
   "execution_count": null,
   "metadata": {},
   "outputs": [],
   "source": []
  }
 ],
 "metadata": {
  "kernelspec": {
   "display_name": "pytorch",
   "language": "python",
   "name": "python3"
  },
  "language_info": {
   "codemirror_mode": {
    "name": "ipython",
    "version": 3
   },
   "file_extension": ".py",
   "mimetype": "text/x-python",
   "name": "python",
   "nbconvert_exporter": "python",
   "pygments_lexer": "ipython3",
   "version": "3.11.4"
  }
 },
 "nbformat": 4,
 "nbformat_minor": 2
}
