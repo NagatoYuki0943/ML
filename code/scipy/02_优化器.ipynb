{
 "cells": [
  {
   "cell_type": "code",
   "execution_count": 8,
   "metadata": {},
   "outputs": [],
   "source": [
    "from scipy.optimize import root, minimize\n",
    "import math"
   ]
  },
  {
   "cell_type": "markdown",
   "metadata": {},
   "source": [
    "# SciPy优化器"
   ]
  },
  {
   "attachments": {},
   "cell_type": "markdown",
   "metadata": {},
   "source": [
    "SciPy 的 optimize 模块提供了常用的最优化算法函数实现，我们可以直接调用这些函数完成我们的优化问题，比如查找函数的最小值或方程的根等。\n",
    "\n",
    "NumPy 能够找到多项式和线性方程的根，但它无法找到非线性方程的根，如下所示：\n",
    "    x + cos(x)\n",
    "\n",
    "因此我们可以使用 SciPy 的 optimze.root 函数，这个函数需要两个参数：\n",
    "\n",
    "    fun - 表示方程的函数。\n",
    "    x0 - 根的初始猜测。\n",
    "\n",
    "该函数返回一个对象，其中包含有关解决方案的信息。\n",
    "\n",
    "实际解决方案在返回对象的属性 x ，查看如下实例："
   ]
  },
  {
   "attachments": {},
   "cell_type": "markdown",
   "metadata": {},
   "source": [
    "实例\n",
    "\n",
    "查找 x + cos(x) 方程的根:"
   ]
  },
  {
   "cell_type": "code",
   "execution_count": null,
   "metadata": {},
   "outputs": [],
   "source": [
    "def eqn(x):\n",
    "    return x + math.cos(x)"
   ]
  },
  {
   "cell_type": "code",
   "execution_count": 5,
   "metadata": {},
   "outputs": [
    {
     "data": {
      "text/plain": [
       " message: The solution converged.\n",
       " success: True\n",
       "  status: 1\n",
       "     fun: [ 0.000e+00]\n",
       "       x: [-7.391e-01]\n",
       "    nfev: 9\n",
       "    fjac: [[-1.000e+00]]\n",
       "       r: [-1.674e+00]\n",
       "     qtf: [-2.668e-13]"
      ]
     },
     "execution_count": 5,
     "metadata": {},
     "output_type": "execute_result"
    }
   ],
   "source": [
    "myroot = root(eqn, 0)\n",
    "myroot"
   ]
  },
  {
   "cell_type": "code",
   "execution_count": 6,
   "metadata": {},
   "outputs": [
    {
     "data": {
      "text/plain": [
       "array([-0.73908513])"
      ]
     },
     "execution_count": 6,
     "metadata": {},
     "output_type": "execute_result"
    }
   ],
   "source": [
    "myroot.x"
   ]
  },
  {
   "attachments": {},
   "cell_type": "markdown",
   "metadata": {},
   "source": [
    "# 最小化函数"
   ]
  },
  {
   "attachments": {},
   "cell_type": "markdown",
   "metadata": {},
   "source": [
    "函数表示一条曲线，曲线有高点和低点。\n",
    "\n",
    "高点称为最大值。\n",
    "\n",
    "低点称为最小值。\n",
    "\n",
    "整条曲线中的最高点称为全局最大值，其余部分称为局部最大值。\n",
    "\n",
    "整条曲线的最低点称为全局最小值，其余的称为局部最小值。\n",
    "\n",
    "可以使用 scipy.optimize.minimize() 函数来最小化函数。\n",
    "\n",
    "minimize() 函接受以下几个参数：\n",
    "\n",
    "    fun - 要优化的函数\n",
    "\n",
    "    x0 - 初始猜测值\n",
    "\n",
    "    method - 要使用的方法名称，值可以是：'CG'，'BFGS'，'Newton-CG'，'L-BFGS-B'，'TNC'，'COBYLA'，，'SLSQP'。\n",
    "\n",
    "    callback - 每次优化迭代后调用的函数。\n",
    "\n",
    "    options - 定义其他参数的字典：\n",
    "\n",
    "    {\n",
    "         \"disp\": boolean - print detailed description\n",
    "         \"gtol\": number - the tolerance of the error\n",
    "    }\n",
    "\n"
   ]
  },
  {
   "cell_type": "code",
   "execution_count": 7,
   "metadata": {},
   "outputs": [],
   "source": [
    "def eqn1(x):\n",
    "    return x**2 + x + 2"
   ]
  },
  {
   "cell_type": "code",
   "execution_count": 9,
   "metadata": {},
   "outputs": [
    {
     "data": {
      "text/plain": [
       "  message: Optimization terminated successfully.\n",
       "  success: True\n",
       "   status: 0\n",
       "      fun: 1.75\n",
       "        x: [-5.000e-01]\n",
       "      nit: 2\n",
       "      jac: [ 0.000e+00]\n",
       " hess_inv: [[ 5.000e-01]]\n",
       "     nfev: 8\n",
       "     njev: 4"
      ]
     },
     "execution_count": 9,
     "metadata": {},
     "output_type": "execute_result"
    }
   ],
   "source": [
    "mymin = minimize(eqn1, 0, method='BFGS')\n",
    "mymin"
   ]
  },
  {
   "cell_type": "code",
   "execution_count": 10,
   "metadata": {},
   "outputs": [
    {
     "data": {
      "text/plain": [
       "array([-0.50000001])"
      ]
     },
     "execution_count": 10,
     "metadata": {},
     "output_type": "execute_result"
    }
   ],
   "source": [
    "mymin.x"
   ]
  }
 ],
 "metadata": {
  "kernelspec": {
   "display_name": "pytorch",
   "language": "python",
   "name": "python3"
  },
  "language_info": {
   "codemirror_mode": {
    "name": "ipython",
    "version": 3
   },
   "file_extension": ".py",
   "mimetype": "text/x-python",
   "name": "python",
   "nbconvert_exporter": "python",
   "pygments_lexer": "ipython3",
   "version": "3.9.15"
  },
  "orig_nbformat": 4,
  "vscode": {
   "interpreter": {
    "hash": "6e3a9582807446cfda6e60e7a572d3bab8c423d141a376f0e3f6f7956ef3b5a5"
   }
  }
 },
 "nbformat": 4,
 "nbformat_minor": 2
}
