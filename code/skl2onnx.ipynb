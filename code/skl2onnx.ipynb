{
 "cells": [
  {
   "cell_type": "code",
   "execution_count": 74,
   "metadata": {},
   "outputs": [],
   "source": [
    "import numpy as np\n",
    "import pandas as pd\n",
    "import matplotlib.pyplot as plt\n",
    "import seaborn as sns\n",
    "import skl2onnx\n",
    "from skl2onnx import convert_sklearn\n",
    "from skl2onnx.common.data_types import FloatTensorType"
   ]
  },
  {
   "cell_type": "code",
   "execution_count": 75,
   "metadata": {},
   "outputs": [
    {
     "name": "stdout",
     "output_type": "stream",
     "text": [
      "18\n"
     ]
    }
   ],
   "source": [
    "print(skl2onnx.__max_supported_opset__)"
   ]
  },
  {
   "attachments": {},
   "cell_type": "markdown",
   "metadata": {},
   "source": [
    "# 读取数据"
   ]
  },
  {
   "cell_type": "code",
   "execution_count": 76,
   "metadata": {},
   "outputs": [
    {
     "data": {
      "text/html": [
       "<div>\n",
       "<style scoped>\n",
       "    .dataframe tbody tr th:only-of-type {\n",
       "        vertical-align: middle;\n",
       "    }\n",
       "\n",
       "    .dataframe tbody tr th {\n",
       "        vertical-align: top;\n",
       "    }\n",
       "\n",
       "    .dataframe thead th {\n",
       "        text-align: right;\n",
       "    }\n",
       "</style>\n",
       "<table border=\"1\" class=\"dataframe\">\n",
       "  <thead>\n",
       "    <tr style=\"text-align: right;\">\n",
       "      <th></th>\n",
       "      <th>0</th>\n",
       "      <th>1</th>\n",
       "      <th>2</th>\n",
       "      <th>3</th>\n",
       "      <th>4</th>\n",
       "      <th>5</th>\n",
       "      <th>6</th>\n",
       "      <th>7</th>\n",
       "      <th>8</th>\n",
       "      <th>9</th>\n",
       "      <th>10</th>\n",
       "      <th>11</th>\n",
       "      <th>12</th>\n",
       "      <th>13</th>\n",
       "    </tr>\n",
       "  </thead>\n",
       "  <tbody>\n",
       "    <tr>\n",
       "      <th>0</th>\n",
       "      <td>1</td>\n",
       "      <td>14.23</td>\n",
       "      <td>1.71</td>\n",
       "      <td>2.43</td>\n",
       "      <td>15.6</td>\n",
       "      <td>127</td>\n",
       "      <td>2.80</td>\n",
       "      <td>3.06</td>\n",
       "      <td>0.28</td>\n",
       "      <td>2.29</td>\n",
       "      <td>5.64</td>\n",
       "      <td>1.04</td>\n",
       "      <td>3.92</td>\n",
       "      <td>1065</td>\n",
       "    </tr>\n",
       "    <tr>\n",
       "      <th>1</th>\n",
       "      <td>1</td>\n",
       "      <td>13.20</td>\n",
       "      <td>1.78</td>\n",
       "      <td>2.14</td>\n",
       "      <td>11.2</td>\n",
       "      <td>100</td>\n",
       "      <td>2.65</td>\n",
       "      <td>2.76</td>\n",
       "      <td>0.26</td>\n",
       "      <td>1.28</td>\n",
       "      <td>4.38</td>\n",
       "      <td>1.05</td>\n",
       "      <td>3.40</td>\n",
       "      <td>1050</td>\n",
       "    </tr>\n",
       "    <tr>\n",
       "      <th>2</th>\n",
       "      <td>1</td>\n",
       "      <td>13.16</td>\n",
       "      <td>2.36</td>\n",
       "      <td>2.67</td>\n",
       "      <td>18.6</td>\n",
       "      <td>101</td>\n",
       "      <td>2.80</td>\n",
       "      <td>3.24</td>\n",
       "      <td>0.30</td>\n",
       "      <td>2.81</td>\n",
       "      <td>5.68</td>\n",
       "      <td>1.03</td>\n",
       "      <td>3.17</td>\n",
       "      <td>1185</td>\n",
       "    </tr>\n",
       "    <tr>\n",
       "      <th>3</th>\n",
       "      <td>1</td>\n",
       "      <td>14.37</td>\n",
       "      <td>1.95</td>\n",
       "      <td>2.50</td>\n",
       "      <td>16.8</td>\n",
       "      <td>113</td>\n",
       "      <td>3.85</td>\n",
       "      <td>3.49</td>\n",
       "      <td>0.24</td>\n",
       "      <td>2.18</td>\n",
       "      <td>7.80</td>\n",
       "      <td>0.86</td>\n",
       "      <td>3.45</td>\n",
       "      <td>1480</td>\n",
       "    </tr>\n",
       "    <tr>\n",
       "      <th>4</th>\n",
       "      <td>1</td>\n",
       "      <td>13.24</td>\n",
       "      <td>2.59</td>\n",
       "      <td>2.87</td>\n",
       "      <td>21.0</td>\n",
       "      <td>118</td>\n",
       "      <td>2.80</td>\n",
       "      <td>2.69</td>\n",
       "      <td>0.39</td>\n",
       "      <td>1.82</td>\n",
       "      <td>4.32</td>\n",
       "      <td>1.04</td>\n",
       "      <td>2.93</td>\n",
       "      <td>735</td>\n",
       "    </tr>\n",
       "  </tbody>\n",
       "</table>\n",
       "</div>"
      ],
      "text/plain": [
       "   0      1     2     3     4    5     6     7     8     9     10    11    12  \\\n",
       "0   1  14.23  1.71  2.43  15.6  127  2.80  3.06  0.28  2.29  5.64  1.04  3.92   \n",
       "1   1  13.20  1.78  2.14  11.2  100  2.65  2.76  0.26  1.28  4.38  1.05  3.40   \n",
       "2   1  13.16  2.36  2.67  18.6  101  2.80  3.24  0.30  2.81  5.68  1.03  3.17   \n",
       "3   1  14.37  1.95  2.50  16.8  113  3.85  3.49  0.24  2.18  7.80  0.86  3.45   \n",
       "4   1  13.24  2.59  2.87  21.0  118  2.80  2.69  0.39  1.82  4.32  1.04  2.93   \n",
       "\n",
       "     13  \n",
       "0  1065  \n",
       "1  1050  \n",
       "2  1185  \n",
       "3  1480  \n",
       "4   735  "
      ]
     },
     "execution_count": 76,
     "metadata": {},
     "output_type": "execute_result"
    }
   ],
   "source": [
    "# header=None 不将第一行设为列名\n",
    "wine = pd.read_csv(\"../datasets/wine.data\", header=None)\n",
    "wine.head()"
   ]
  },
  {
   "attachments": {},
   "cell_type": "markdown",
   "metadata": {},
   "source": [
    "- Class label：分类标签\n",
    "- Alcohol：酒精\n",
    "- Malic acid：苹果酸\n",
    "- Ash：灰\n",
    "- Alcalinity of ash：灰的碱度\n",
    "- Magnesium：镁\n",
    "- Total phenols：总酚\n",
    "- Flavanoids：黄酮类化合物\n",
    "- Nonflavanoid phenols：非黄烷类酚类\n",
    "- Proanthocyanins：原花青素\n",
    "- Color intensity：色彩强度\n",
    "- Hue：色调\n",
    "- OD280/OD315 of diluted wines：稀释酒OD280 OD350\n",
    "- Proline：脯氨酸"
   ]
  },
  {
   "cell_type": "code",
   "execution_count": 77,
   "metadata": {},
   "outputs": [
    {
     "data": {
      "text/html": [
       "<div>\n",
       "<style scoped>\n",
       "    .dataframe tbody tr th:only-of-type {\n",
       "        vertical-align: middle;\n",
       "    }\n",
       "\n",
       "    .dataframe tbody tr th {\n",
       "        vertical-align: top;\n",
       "    }\n",
       "\n",
       "    .dataframe thead th {\n",
       "        text-align: right;\n",
       "    }\n",
       "</style>\n",
       "<table border=\"1\" class=\"dataframe\">\n",
       "  <thead>\n",
       "    <tr style=\"text-align: right;\">\n",
       "      <th></th>\n",
       "      <th>Class label</th>\n",
       "      <th>Alcohol</th>\n",
       "      <th>Malic acid</th>\n",
       "      <th>Ash</th>\n",
       "      <th>Alcalinity of ash</th>\n",
       "      <th>Magnesium</th>\n",
       "      <th>Total phenols</th>\n",
       "      <th>Flavanoids</th>\n",
       "      <th>Nonflavanoid phenols</th>\n",
       "      <th>Proanthocyanins</th>\n",
       "      <th>Color intensity</th>\n",
       "      <th>Hue</th>\n",
       "      <th>OD280/OD315 of diluted wines</th>\n",
       "      <th>Proline</th>\n",
       "    </tr>\n",
       "  </thead>\n",
       "  <tbody>\n",
       "    <tr>\n",
       "      <th>0</th>\n",
       "      <td>1</td>\n",
       "      <td>14.23</td>\n",
       "      <td>1.71</td>\n",
       "      <td>2.43</td>\n",
       "      <td>15.6</td>\n",
       "      <td>127</td>\n",
       "      <td>2.80</td>\n",
       "      <td>3.06</td>\n",
       "      <td>0.28</td>\n",
       "      <td>2.29</td>\n",
       "      <td>5.64</td>\n",
       "      <td>1.04</td>\n",
       "      <td>3.92</td>\n",
       "      <td>1065</td>\n",
       "    </tr>\n",
       "    <tr>\n",
       "      <th>1</th>\n",
       "      <td>1</td>\n",
       "      <td>13.20</td>\n",
       "      <td>1.78</td>\n",
       "      <td>2.14</td>\n",
       "      <td>11.2</td>\n",
       "      <td>100</td>\n",
       "      <td>2.65</td>\n",
       "      <td>2.76</td>\n",
       "      <td>0.26</td>\n",
       "      <td>1.28</td>\n",
       "      <td>4.38</td>\n",
       "      <td>1.05</td>\n",
       "      <td>3.40</td>\n",
       "      <td>1050</td>\n",
       "    </tr>\n",
       "    <tr>\n",
       "      <th>2</th>\n",
       "      <td>1</td>\n",
       "      <td>13.16</td>\n",
       "      <td>2.36</td>\n",
       "      <td>2.67</td>\n",
       "      <td>18.6</td>\n",
       "      <td>101</td>\n",
       "      <td>2.80</td>\n",
       "      <td>3.24</td>\n",
       "      <td>0.30</td>\n",
       "      <td>2.81</td>\n",
       "      <td>5.68</td>\n",
       "      <td>1.03</td>\n",
       "      <td>3.17</td>\n",
       "      <td>1185</td>\n",
       "    </tr>\n",
       "    <tr>\n",
       "      <th>3</th>\n",
       "      <td>1</td>\n",
       "      <td>14.37</td>\n",
       "      <td>1.95</td>\n",
       "      <td>2.50</td>\n",
       "      <td>16.8</td>\n",
       "      <td>113</td>\n",
       "      <td>3.85</td>\n",
       "      <td>3.49</td>\n",
       "      <td>0.24</td>\n",
       "      <td>2.18</td>\n",
       "      <td>7.80</td>\n",
       "      <td>0.86</td>\n",
       "      <td>3.45</td>\n",
       "      <td>1480</td>\n",
       "    </tr>\n",
       "    <tr>\n",
       "      <th>4</th>\n",
       "      <td>1</td>\n",
       "      <td>13.24</td>\n",
       "      <td>2.59</td>\n",
       "      <td>2.87</td>\n",
       "      <td>21.0</td>\n",
       "      <td>118</td>\n",
       "      <td>2.80</td>\n",
       "      <td>2.69</td>\n",
       "      <td>0.39</td>\n",
       "      <td>1.82</td>\n",
       "      <td>4.32</td>\n",
       "      <td>1.04</td>\n",
       "      <td>2.93</td>\n",
       "      <td>735</td>\n",
       "    </tr>\n",
       "  </tbody>\n",
       "</table>\n",
       "</div>"
      ],
      "text/plain": [
       "   Class label  Alcohol  Malic acid   Ash  Alcalinity of ash  Magnesium  \\\n",
       "0            1    14.23        1.71  2.43               15.6        127   \n",
       "1            1    13.20        1.78  2.14               11.2        100   \n",
       "2            1    13.16        2.36  2.67               18.6        101   \n",
       "3            1    14.37        1.95  2.50               16.8        113   \n",
       "4            1    13.24        2.59  2.87               21.0        118   \n",
       "\n",
       "   Total phenols  Flavanoids  Nonflavanoid phenols  Proanthocyanins  \\\n",
       "0           2.80        3.06                  0.28             2.29   \n",
       "1           2.65        2.76                  0.26             1.28   \n",
       "2           2.80        3.24                  0.30             2.81   \n",
       "3           3.85        3.49                  0.24             2.18   \n",
       "4           2.80        2.69                  0.39             1.82   \n",
       "\n",
       "   Color intensity   Hue  OD280/OD315 of diluted wines  Proline  \n",
       "0             5.64  1.04                          3.92     1065  \n",
       "1             4.38  1.05                          3.40     1050  \n",
       "2             5.68  1.03                          3.17     1185  \n",
       "3             7.80  0.86                          3.45     1480  \n",
       "4             4.32  1.04                          2.93      735  "
      ]
     },
     "execution_count": 77,
     "metadata": {},
     "output_type": "execute_result"
    }
   ],
   "source": [
    "columns = ['Class label', 'Alcohol', 'Malic acid', 'Ash', 'Alcalinity of ash','Magnesium',\n",
    "           'Total phenols','Flavanoids', 'Nonflavanoid phenols', 'Proanthocyanins',\n",
    "           'Color intensity', 'Hue','OD280/OD315 of diluted wines','Proline']\n",
    "wine.columns = columns\n",
    "wine.head()"
   ]
  },
  {
   "cell_type": "code",
   "execution_count": 78,
   "metadata": {},
   "outputs": [
    {
     "data": {
      "text/plain": [
       "Class label                       int64\n",
       "Alcohol                         float64\n",
       "Malic acid                      float64\n",
       "Ash                             float64\n",
       "Alcalinity of ash               float64\n",
       "Magnesium                         int64\n",
       "Total phenols                   float64\n",
       "Flavanoids                      float64\n",
       "Nonflavanoid phenols            float64\n",
       "Proanthocyanins                 float64\n",
       "Color intensity                 float64\n",
       "Hue                             float64\n",
       "OD280/OD315 of diluted wines    float64\n",
       "Proline                           int64\n",
       "dtype: object"
      ]
     },
     "execution_count": 78,
     "metadata": {},
     "output_type": "execute_result"
    }
   ],
   "source": [
    "wine.dtypes"
   ]
  },
  {
   "cell_type": "code",
   "execution_count": 79,
   "metadata": {},
   "outputs": [
    {
     "data": {
      "text/html": [
       "<div>\n",
       "<style scoped>\n",
       "    .dataframe tbody tr th:only-of-type {\n",
       "        vertical-align: middle;\n",
       "    }\n",
       "\n",
       "    .dataframe tbody tr th {\n",
       "        vertical-align: top;\n",
       "    }\n",
       "\n",
       "    .dataframe thead th {\n",
       "        text-align: right;\n",
       "    }\n",
       "</style>\n",
       "<table border=\"1\" class=\"dataframe\">\n",
       "  <thead>\n",
       "    <tr style=\"text-align: right;\">\n",
       "      <th></th>\n",
       "      <th>Class label</th>\n",
       "      <th>Alcohol</th>\n",
       "      <th>Malic acid</th>\n",
       "      <th>Ash</th>\n",
       "      <th>Alcalinity of ash</th>\n",
       "      <th>Magnesium</th>\n",
       "      <th>Total phenols</th>\n",
       "      <th>Flavanoids</th>\n",
       "      <th>Nonflavanoid phenols</th>\n",
       "      <th>Proanthocyanins</th>\n",
       "      <th>Color intensity</th>\n",
       "      <th>Hue</th>\n",
       "      <th>OD280/OD315 of diluted wines</th>\n",
       "      <th>Proline</th>\n",
       "    </tr>\n",
       "  </thead>\n",
       "  <tbody>\n",
       "    <tr>\n",
       "      <th>count</th>\n",
       "      <td>178.000000</td>\n",
       "      <td>178.000000</td>\n",
       "      <td>178.000000</td>\n",
       "      <td>178.000000</td>\n",
       "      <td>178.000000</td>\n",
       "      <td>178.000000</td>\n",
       "      <td>178.000000</td>\n",
       "      <td>178.000000</td>\n",
       "      <td>178.000000</td>\n",
       "      <td>178.000000</td>\n",
       "      <td>178.000000</td>\n",
       "      <td>178.000000</td>\n",
       "      <td>178.000000</td>\n",
       "      <td>178.000000</td>\n",
       "    </tr>\n",
       "    <tr>\n",
       "      <th>mean</th>\n",
       "      <td>1.938202</td>\n",
       "      <td>13.000618</td>\n",
       "      <td>2.336348</td>\n",
       "      <td>2.366517</td>\n",
       "      <td>19.494944</td>\n",
       "      <td>99.741573</td>\n",
       "      <td>2.295112</td>\n",
       "      <td>2.029270</td>\n",
       "      <td>0.361854</td>\n",
       "      <td>1.590899</td>\n",
       "      <td>5.058090</td>\n",
       "      <td>0.957449</td>\n",
       "      <td>2.611685</td>\n",
       "      <td>746.893258</td>\n",
       "    </tr>\n",
       "    <tr>\n",
       "      <th>std</th>\n",
       "      <td>0.775035</td>\n",
       "      <td>0.811827</td>\n",
       "      <td>1.117146</td>\n",
       "      <td>0.274344</td>\n",
       "      <td>3.339564</td>\n",
       "      <td>14.282484</td>\n",
       "      <td>0.625851</td>\n",
       "      <td>0.998859</td>\n",
       "      <td>0.124453</td>\n",
       "      <td>0.572359</td>\n",
       "      <td>2.318286</td>\n",
       "      <td>0.228572</td>\n",
       "      <td>0.709990</td>\n",
       "      <td>314.907474</td>\n",
       "    </tr>\n",
       "    <tr>\n",
       "      <th>min</th>\n",
       "      <td>1.000000</td>\n",
       "      <td>11.030000</td>\n",
       "      <td>0.740000</td>\n",
       "      <td>1.360000</td>\n",
       "      <td>10.600000</td>\n",
       "      <td>70.000000</td>\n",
       "      <td>0.980000</td>\n",
       "      <td>0.340000</td>\n",
       "      <td>0.130000</td>\n",
       "      <td>0.410000</td>\n",
       "      <td>1.280000</td>\n",
       "      <td>0.480000</td>\n",
       "      <td>1.270000</td>\n",
       "      <td>278.000000</td>\n",
       "    </tr>\n",
       "    <tr>\n",
       "      <th>25%</th>\n",
       "      <td>1.000000</td>\n",
       "      <td>12.362500</td>\n",
       "      <td>1.602500</td>\n",
       "      <td>2.210000</td>\n",
       "      <td>17.200000</td>\n",
       "      <td>88.000000</td>\n",
       "      <td>1.742500</td>\n",
       "      <td>1.205000</td>\n",
       "      <td>0.270000</td>\n",
       "      <td>1.250000</td>\n",
       "      <td>3.220000</td>\n",
       "      <td>0.782500</td>\n",
       "      <td>1.937500</td>\n",
       "      <td>500.500000</td>\n",
       "    </tr>\n",
       "    <tr>\n",
       "      <th>50%</th>\n",
       "      <td>2.000000</td>\n",
       "      <td>13.050000</td>\n",
       "      <td>1.865000</td>\n",
       "      <td>2.360000</td>\n",
       "      <td>19.500000</td>\n",
       "      <td>98.000000</td>\n",
       "      <td>2.355000</td>\n",
       "      <td>2.135000</td>\n",
       "      <td>0.340000</td>\n",
       "      <td>1.555000</td>\n",
       "      <td>4.690000</td>\n",
       "      <td>0.965000</td>\n",
       "      <td>2.780000</td>\n",
       "      <td>673.500000</td>\n",
       "    </tr>\n",
       "    <tr>\n",
       "      <th>75%</th>\n",
       "      <td>3.000000</td>\n",
       "      <td>13.677500</td>\n",
       "      <td>3.082500</td>\n",
       "      <td>2.557500</td>\n",
       "      <td>21.500000</td>\n",
       "      <td>107.000000</td>\n",
       "      <td>2.800000</td>\n",
       "      <td>2.875000</td>\n",
       "      <td>0.437500</td>\n",
       "      <td>1.950000</td>\n",
       "      <td>6.200000</td>\n",
       "      <td>1.120000</td>\n",
       "      <td>3.170000</td>\n",
       "      <td>985.000000</td>\n",
       "    </tr>\n",
       "    <tr>\n",
       "      <th>max</th>\n",
       "      <td>3.000000</td>\n",
       "      <td>14.830000</td>\n",
       "      <td>5.800000</td>\n",
       "      <td>3.230000</td>\n",
       "      <td>30.000000</td>\n",
       "      <td>162.000000</td>\n",
       "      <td>3.880000</td>\n",
       "      <td>5.080000</td>\n",
       "      <td>0.660000</td>\n",
       "      <td>3.580000</td>\n",
       "      <td>13.000000</td>\n",
       "      <td>1.710000</td>\n",
       "      <td>4.000000</td>\n",
       "      <td>1680.000000</td>\n",
       "    </tr>\n",
       "  </tbody>\n",
       "</table>\n",
       "</div>"
      ],
      "text/plain": [
       "       Class label     Alcohol  Malic acid         Ash  Alcalinity of ash  \\\n",
       "count   178.000000  178.000000  178.000000  178.000000         178.000000   \n",
       "mean      1.938202   13.000618    2.336348    2.366517          19.494944   \n",
       "std       0.775035    0.811827    1.117146    0.274344           3.339564   \n",
       "min       1.000000   11.030000    0.740000    1.360000          10.600000   \n",
       "25%       1.000000   12.362500    1.602500    2.210000          17.200000   \n",
       "50%       2.000000   13.050000    1.865000    2.360000          19.500000   \n",
       "75%       3.000000   13.677500    3.082500    2.557500          21.500000   \n",
       "max       3.000000   14.830000    5.800000    3.230000          30.000000   \n",
       "\n",
       "        Magnesium  Total phenols  Flavanoids  Nonflavanoid phenols  \\\n",
       "count  178.000000     178.000000  178.000000            178.000000   \n",
       "mean    99.741573       2.295112    2.029270              0.361854   \n",
       "std     14.282484       0.625851    0.998859              0.124453   \n",
       "min     70.000000       0.980000    0.340000              0.130000   \n",
       "25%     88.000000       1.742500    1.205000              0.270000   \n",
       "50%     98.000000       2.355000    2.135000              0.340000   \n",
       "75%    107.000000       2.800000    2.875000              0.437500   \n",
       "max    162.000000       3.880000    5.080000              0.660000   \n",
       "\n",
       "       Proanthocyanins  Color intensity         Hue  \\\n",
       "count       178.000000       178.000000  178.000000   \n",
       "mean          1.590899         5.058090    0.957449   \n",
       "std           0.572359         2.318286    0.228572   \n",
       "min           0.410000         1.280000    0.480000   \n",
       "25%           1.250000         3.220000    0.782500   \n",
       "50%           1.555000         4.690000    0.965000   \n",
       "75%           1.950000         6.200000    1.120000   \n",
       "max           3.580000        13.000000    1.710000   \n",
       "\n",
       "       OD280/OD315 of diluted wines      Proline  \n",
       "count                    178.000000   178.000000  \n",
       "mean                       2.611685   746.893258  \n",
       "std                        0.709990   314.907474  \n",
       "min                        1.270000   278.000000  \n",
       "25%                        1.937500   500.500000  \n",
       "50%                        2.780000   673.500000  \n",
       "75%                        3.170000   985.000000  \n",
       "max                        4.000000  1680.000000  "
      ]
     },
     "execution_count": 79,
     "metadata": {},
     "output_type": "execute_result"
    }
   ],
   "source": [
    "wine.describe()"
   ]
  },
  {
   "cell_type": "code",
   "execution_count": 80,
   "metadata": {},
   "outputs": [
    {
     "data": {
      "text/plain": [
       "<Axes: >"
      ]
     },
     "execution_count": 80,
     "metadata": {},
     "output_type": "execute_result"
    },
    {
     "data": {
      "image/png": "[encoded data removed]",
      "text/plain": [
       "<Figure size 640x480 with 1 Axes>"
      ]
     },
     "metadata": {},
     "output_type": "display_data"
    }
   ],
   "source": [
    "wine[columns[1:5]].plot()"
   ]
  },
  {
   "attachments": {},
   "cell_type": "markdown",
   "metadata": {},
   "source": [
    "# 数据预处理"
   ]
  },
  {
   "cell_type": "code",
   "execution_count": 81,
   "metadata": {},
   "outputs": [
    {
     "data": {
      "text/plain": [
       "False"
      ]
     },
     "execution_count": 81,
     "metadata": {},
     "output_type": "execute_result"
    }
   ],
   "source": [
    "np.any(wine.isna())"
   ]
  },
  {
   "cell_type": "code",
   "execution_count": 82,
   "metadata": {},
   "outputs": [
    {
     "data": {
      "text/html": [
       "<div>\n",
       "<style scoped>\n",
       "    .dataframe tbody tr th:only-of-type {\n",
       "        vertical-align: middle;\n",
       "    }\n",
       "\n",
       "    .dataframe tbody tr th {\n",
       "        vertical-align: top;\n",
       "    }\n",
       "\n",
       "    .dataframe thead th {\n",
       "        text-align: right;\n",
       "    }\n",
       "</style>\n",
       "<table border=\"1\" class=\"dataframe\">\n",
       "  <thead>\n",
       "    <tr style=\"text-align: right;\">\n",
       "      <th></th>\n",
       "      <th>Alcohol</th>\n",
       "      <th>Malic acid</th>\n",
       "      <th>Ash</th>\n",
       "      <th>Alcalinity of ash</th>\n",
       "      <th>Magnesium</th>\n",
       "      <th>Total phenols</th>\n",
       "      <th>Flavanoids</th>\n",
       "      <th>Nonflavanoid phenols</th>\n",
       "      <th>Proanthocyanins</th>\n",
       "      <th>Color intensity</th>\n",
       "      <th>Hue</th>\n",
       "      <th>OD280/OD315 of diluted wines</th>\n",
       "      <th>Proline</th>\n",
       "    </tr>\n",
       "  </thead>\n",
       "  <tbody>\n",
       "    <tr>\n",
       "      <th>0</th>\n",
       "      <td>14.23</td>\n",
       "      <td>1.71</td>\n",
       "      <td>2.43</td>\n",
       "      <td>15.6</td>\n",
       "      <td>127</td>\n",
       "      <td>2.80</td>\n",
       "      <td>3.06</td>\n",
       "      <td>0.28</td>\n",
       "      <td>2.29</td>\n",
       "      <td>5.64</td>\n",
       "      <td>1.04</td>\n",
       "      <td>3.92</td>\n",
       "      <td>1065</td>\n",
       "    </tr>\n",
       "    <tr>\n",
       "      <th>1</th>\n",
       "      <td>13.20</td>\n",
       "      <td>1.78</td>\n",
       "      <td>2.14</td>\n",
       "      <td>11.2</td>\n",
       "      <td>100</td>\n",
       "      <td>2.65</td>\n",
       "      <td>2.76</td>\n",
       "      <td>0.26</td>\n",
       "      <td>1.28</td>\n",
       "      <td>4.38</td>\n",
       "      <td>1.05</td>\n",
       "      <td>3.40</td>\n",
       "      <td>1050</td>\n",
       "    </tr>\n",
       "    <tr>\n",
       "      <th>2</th>\n",
       "      <td>13.16</td>\n",
       "      <td>2.36</td>\n",
       "      <td>2.67</td>\n",
       "      <td>18.6</td>\n",
       "      <td>101</td>\n",
       "      <td>2.80</td>\n",
       "      <td>3.24</td>\n",
       "      <td>0.30</td>\n",
       "      <td>2.81</td>\n",
       "      <td>5.68</td>\n",
       "      <td>1.03</td>\n",
       "      <td>3.17</td>\n",
       "      <td>1185</td>\n",
       "    </tr>\n",
       "    <tr>\n",
       "      <th>3</th>\n",
       "      <td>14.37</td>\n",
       "      <td>1.95</td>\n",
       "      <td>2.50</td>\n",
       "      <td>16.8</td>\n",
       "      <td>113</td>\n",
       "      <td>3.85</td>\n",
       "      <td>3.49</td>\n",
       "      <td>0.24</td>\n",
       "      <td>2.18</td>\n",
       "      <td>7.80</td>\n",
       "      <td>0.86</td>\n",
       "      <td>3.45</td>\n",
       "      <td>1480</td>\n",
       "    </tr>\n",
       "    <tr>\n",
       "      <th>4</th>\n",
       "      <td>13.24</td>\n",
       "      <td>2.59</td>\n",
       "      <td>2.87</td>\n",
       "      <td>21.0</td>\n",
       "      <td>118</td>\n",
       "      <td>2.80</td>\n",
       "      <td>2.69</td>\n",
       "      <td>0.39</td>\n",
       "      <td>1.82</td>\n",
       "      <td>4.32</td>\n",
       "      <td>1.04</td>\n",
       "      <td>2.93</td>\n",
       "      <td>735</td>\n",
       "    </tr>\n",
       "    <tr>\n",
       "      <th>...</th>\n",
       "      <td>...</td>\n",
       "      <td>...</td>\n",
       "      <td>...</td>\n",
       "      <td>...</td>\n",
       "      <td>...</td>\n",
       "      <td>...</td>\n",
       "      <td>...</td>\n",
       "      <td>...</td>\n",
       "      <td>...</td>\n",
       "      <td>...</td>\n",
       "      <td>...</td>\n",
       "      <td>...</td>\n",
       "      <td>...</td>\n",
       "    </tr>\n",
       "    <tr>\n",
       "      <th>173</th>\n",
       "      <td>13.71</td>\n",
       "      <td>5.65</td>\n",
       "      <td>2.45</td>\n",
       "      <td>20.5</td>\n",
       "      <td>95</td>\n",
       "      <td>1.68</td>\n",
       "      <td>0.61</td>\n",
       "      <td>0.52</td>\n",
       "      <td>1.06</td>\n",
       "      <td>7.70</td>\n",
       "      <td>0.64</td>\n",
       "      <td>1.74</td>\n",
       "      <td>740</td>\n",
       "    </tr>\n",
       "    <tr>\n",
       "      <th>174</th>\n",
       "      <td>13.40</td>\n",
       "      <td>3.91</td>\n",
       "      <td>2.48</td>\n",
       "      <td>23.0</td>\n",
       "      <td>102</td>\n",
       "      <td>1.80</td>\n",
       "      <td>0.75</td>\n",
       "      <td>0.43</td>\n",
       "      <td>1.41</td>\n",
       "      <td>7.30</td>\n",
       "      <td>0.70</td>\n",
       "      <td>1.56</td>\n",
       "      <td>750</td>\n",
       "    </tr>\n",
       "    <tr>\n",
       "      <th>175</th>\n",
       "      <td>13.27</td>\n",
       "      <td>4.28</td>\n",
       "      <td>2.26</td>\n",
       "      <td>20.0</td>\n",
       "      <td>120</td>\n",
       "      <td>1.59</td>\n",
       "      <td>0.69</td>\n",
       "      <td>0.43</td>\n",
       "      <td>1.35</td>\n",
       "      <td>10.20</td>\n",
       "      <td>0.59</td>\n",
       "      <td>1.56</td>\n",
       "      <td>835</td>\n",
       "    </tr>\n",
       "    <tr>\n",
       "      <th>176</th>\n",
       "      <td>13.17</td>\n",
       "      <td>2.59</td>\n",
       "      <td>2.37</td>\n",
       "      <td>20.0</td>\n",
       "      <td>120</td>\n",
       "      <td>1.65</td>\n",
       "      <td>0.68</td>\n",
       "      <td>0.53</td>\n",
       "      <td>1.46</td>\n",
       "      <td>9.30</td>\n",
       "      <td>0.60</td>\n",
       "      <td>1.62</td>\n",
       "      <td>840</td>\n",
       "    </tr>\n",
       "    <tr>\n",
       "      <th>177</th>\n",
       "      <td>14.13</td>\n",
       "      <td>4.10</td>\n",
       "      <td>2.74</td>\n",
       "      <td>24.5</td>\n",
       "      <td>96</td>\n",
       "      <td>2.05</td>\n",
       "      <td>0.76</td>\n",
       "      <td>0.56</td>\n",
       "      <td>1.35</td>\n",
       "      <td>9.20</td>\n",
       "      <td>0.61</td>\n",
       "      <td>1.60</td>\n",
       "      <td>560</td>\n",
       "    </tr>\n",
       "  </tbody>\n",
       "</table>\n",
       "<p>178 rows × 13 columns</p>\n",
       "</div>"
      ],
      "text/plain": [
       "     Alcohol  Malic acid   Ash  Alcalinity of ash  Magnesium  Total phenols  \\\n",
       "0      14.23        1.71  2.43               15.6        127           2.80   \n",
       "1      13.20        1.78  2.14               11.2        100           2.65   \n",
       "2      13.16        2.36  2.67               18.6        101           2.80   \n",
       "3      14.37        1.95  2.50               16.8        113           3.85   \n",
       "4      13.24        2.59  2.87               21.0        118           2.80   \n",
       "..       ...         ...   ...                ...        ...            ...   \n",
       "173    13.71        5.65  2.45               20.5         95           1.68   \n",
       "174    13.40        3.91  2.48               23.0        102           1.80   \n",
       "175    13.27        4.28  2.26               20.0        120           1.59   \n",
       "176    13.17        2.59  2.37               20.0        120           1.65   \n",
       "177    14.13        4.10  2.74               24.5         96           2.05   \n",
       "\n",
       "     Flavanoids  Nonflavanoid phenols  Proanthocyanins  Color intensity   Hue  \\\n",
       "0          3.06                  0.28             2.29             5.64  1.04   \n",
       "1          2.76                  0.26             1.28             4.38  1.05   \n",
       "2          3.24                  0.30             2.81             5.68  1.03   \n",
       "3          3.49                  0.24             2.18             7.80  0.86   \n",
       "4          2.69                  0.39             1.82             4.32  1.04   \n",
       "..          ...                   ...              ...              ...   ...   \n",
       "173        0.61                  0.52             1.06             7.70  0.64   \n",
       "174        0.75                  0.43             1.41             7.30  0.70   \n",
       "175        0.69                  0.43             1.35            10.20  0.59   \n",
       "176        0.68                  0.53             1.46             9.30  0.60   \n",
       "177        0.76                  0.56             1.35             9.20  0.61   \n",
       "\n",
       "     OD280/OD315 of diluted wines  Proline  \n",
       "0                            3.92     1065  \n",
       "1                            3.40     1050  \n",
       "2                            3.17     1185  \n",
       "3                            3.45     1480  \n",
       "4                            2.93      735  \n",
       "..                            ...      ...  \n",
       "173                          1.74      740  \n",
       "174                          1.56      750  \n",
       "175                          1.56      835  \n",
       "176                          1.62      840  \n",
       "177                          1.60      560  \n",
       "\n",
       "[178 rows x 13 columns]"
      ]
     },
     "execution_count": 82,
     "metadata": {},
     "output_type": "execute_result"
    }
   ],
   "source": [
    "x = wine[columns[1:]]\n",
    "x"
   ]
  },
  {
   "cell_type": "code",
   "execution_count": 83,
   "metadata": {},
   "outputs": [
    {
     "data": {
      "text/plain": [
       "0      1\n",
       "1      1\n",
       "2      1\n",
       "3      1\n",
       "4      1\n",
       "      ..\n",
       "173    3\n",
       "174    3\n",
       "175    3\n",
       "176    3\n",
       "177    3\n",
       "Name: Class label, Length: 178, dtype: int64"
      ]
     },
     "execution_count": 83,
     "metadata": {},
     "output_type": "execute_result"
    }
   ],
   "source": [
    "y = wine[columns[0]]\n",
    "y"
   ]
  },
  {
   "attachments": {},
   "cell_type": "markdown",
   "metadata": {},
   "source": [
    "## 标签转换 [1, 2, 3] -> [0, 1, 2]"
   ]
  },
  {
   "cell_type": "code",
   "execution_count": 84,
   "metadata": {},
   "outputs": [],
   "source": [
    "from sklearn.preprocessing import LabelEncoder"
   ]
  },
  {
   "cell_type": "code",
   "execution_count": 85,
   "metadata": {},
   "outputs": [],
   "source": [
    "le = LabelEncoder()"
   ]
  },
  {
   "cell_type": "code",
   "execution_count": 86,
   "metadata": {},
   "outputs": [
    {
     "data": {
      "text/plain": [
       "array([0, 0, 0, 0, 0, 0, 0, 0, 0, 0, 0, 0, 0, 0, 0, 0, 0, 0, 0, 0, 0, 0,\n",
       "       0, 0, 0, 0, 0, 0, 0, 0, 0, 0, 0, 0, 0, 0, 0, 0, 0, 0, 0, 0, 0, 0,\n",
       "       0, 0, 0, 0, 0, 0, 0, 0, 0, 0, 0, 0, 0, 0, 0, 1, 1, 1, 1, 1, 1, 1,\n",
       "       1, 1, 1, 1, 1, 1, 1, 1, 1, 1, 1, 1, 1, 1, 1, 1, 1, 1, 1, 1, 1, 1,\n",
       "       1, 1, 1, 1, 1, 1, 1, 1, 1, 1, 1, 1, 1, 1, 1, 1, 1, 1, 1, 1, 1, 1,\n",
       "       1, 1, 1, 1, 1, 1, 1, 1, 1, 1, 1, 1, 1, 1, 1, 1, 1, 1, 1, 1, 2, 2,\n",
       "       2, 2, 2, 2, 2, 2, 2, 2, 2, 2, 2, 2, 2, 2, 2, 2, 2, 2, 2, 2, 2, 2,\n",
       "       2, 2, 2, 2, 2, 2, 2, 2, 2, 2, 2, 2, 2, 2, 2, 2, 2, 2, 2, 2, 2, 2,\n",
       "       2, 2], dtype=int64)"
      ]
     },
     "execution_count": 86,
     "metadata": {},
     "output_type": "execute_result"
    }
   ],
   "source": [
    "y = le.fit_transform(y)\n",
    "y"
   ]
  },
  {
   "attachments": {},
   "cell_type": "markdown",
   "metadata": {},
   "source": [
    "# 划分数据"
   ]
  },
  {
   "cell_type": "code",
   "execution_count": 87,
   "metadata": {},
   "outputs": [],
   "source": [
    "from sklearn.model_selection import train_test_split"
   ]
  },
  {
   "cell_type": "code",
   "execution_count": 88,
   "metadata": {},
   "outputs": [],
   "source": [
    "x_train, x_test, y_train, y_test = train_test_split(x, y, test_size=0.5, random_state=0)"
   ]
  },
  {
   "cell_type": "code",
   "execution_count": 89,
   "metadata": {},
   "outputs": [
    {
     "data": {
      "text/plain": [
       "((89, 13), (89, 13), (89,), (89,))"
      ]
     },
     "execution_count": 89,
     "metadata": {},
     "output_type": "execute_result"
    }
   ],
   "source": [
    "x_train.shape, x_test.shape, y_train.shape, y_test.shape"
   ]
  },
  {
   "attachments": {},
   "cell_type": "markdown",
   "metadata": {},
   "source": [
    "# SVC"
   ]
  },
  {
   "cell_type": "code",
   "execution_count": 90,
   "metadata": {},
   "outputs": [],
   "source": [
    "from sklearn.svm import SVC\n",
    "from sklearn.metrics import accuracy_score, log_loss"
   ]
  },
  {
   "cell_type": "code",
   "execution_count": 91,
   "metadata": {},
   "outputs": [
    {
     "data": {
      "text/html": [
       "<style>#sk-container-id-9 {color: black;background-color: white;}#sk-container-id-9 pre{padding: 0;}#sk-container-id-9 div.sk-toggleable {background-color: white;}#sk-container-id-9 label.sk-toggleable__label {cursor: pointer;display: block;width: 100%;margin-bottom: 0;padding: 0.3em;box-sizing: border-box;text-align: center;}#sk-container-id-9 label.sk-toggleable__label-arrow:before {content: \"▸\";float: left;margin-right: 0.25em;color: #696969;}#sk-container-id-9 label.sk-toggleable__label-arrow:hover:before {color: black;}#sk-container-id-9 div.sk-estimator:hover label.sk-toggleable__label-arrow:before {color: black;}#sk-container-id-9 div.sk-toggleable__content {max-height: 0;max-width: 0;overflow: hidden;text-align: left;background-color: #f0f8ff;}#sk-container-id-9 div.sk-toggleable__content pre {margin: 0.2em;color: black;border-radius: 0.25em;background-color: #f0f8ff;}#sk-container-id-9 input.sk-toggleable__control:checked~div.sk-toggleable__content {max-height: 200px;max-width: 100%;overflow: auto;}#sk-container-id-9 input.sk-toggleable__control:checked~label.sk-toggleable__label-arrow:before {content: \"▾\";}#sk-container-id-9 div.sk-estimator input.sk-toggleable__control:checked~label.sk-toggleable__label {background-color: #d4ebff;}#sk-container-id-9 div.sk-label input.sk-toggleable__control:checked~label.sk-toggleable__label {background-color: #d4ebff;}#sk-container-id-9 input.sk-hidden--visually {border: 0;clip: rect(1px 1px 1px 1px);clip: rect(1px, 1px, 1px, 1px);height: 1px;margin: -1px;overflow: hidden;padding: 0;position: absolute;width: 1px;}#sk-container-id-9 div.sk-estimator {font-family: monospace;background-color: #f0f8ff;border: 1px dotted black;border-radius: 0.25em;box-sizing: border-box;margin-bottom: 0.5em;}#sk-container-id-9 div.sk-estimator:hover {background-color: #d4ebff;}#sk-container-id-9 div.sk-parallel-item::after {content: \"\";width: 100%;border-bottom: 1px solid gray;flex-grow: 1;}#sk-container-id-9 div.sk-label:hover label.sk-toggleable__label {background-color: #d4ebff;}#sk-container-id-9 div.sk-serial::before {content: \"\";position: absolute;border-left: 1px solid gray;box-sizing: border-box;top: 0;bottom: 0;left: 50%;z-index: 0;}#sk-container-id-9 div.sk-serial {display: flex;flex-direction: column;align-items: center;background-color: white;padding-right: 0.2em;padding-left: 0.2em;position: relative;}#sk-container-id-9 div.sk-item {position: relative;z-index: 1;}#sk-container-id-9 div.sk-parallel {display: flex;align-items: stretch;justify-content: center;background-color: white;position: relative;}#sk-container-id-9 div.sk-item::before, #sk-container-id-9 div.sk-parallel-item::before {content: \"\";position: absolute;border-left: 1px solid gray;box-sizing: border-box;top: 0;bottom: 0;left: 50%;z-index: -1;}#sk-container-id-9 div.sk-parallel-item {display: flex;flex-direction: column;z-index: 1;position: relative;background-color: white;}#sk-container-id-9 div.sk-parallel-item:first-child::after {align-self: flex-end;width: 50%;}#sk-container-id-9 div.sk-parallel-item:last-child::after {align-self: flex-start;width: 50%;}#sk-container-id-9 div.sk-parallel-item:only-child::after {width: 0;}#sk-container-id-9 div.sk-dashed-wrapped {border: 1px dashed gray;margin: 0 0.4em 0.5em 0.4em;box-sizing: border-box;padding-bottom: 0.4em;background-color: white;}#sk-container-id-9 div.sk-label label {font-family: monospace;font-weight: bold;display: inline-block;line-height: 1.2em;}#sk-container-id-9 div.sk-label-container {text-align: center;}#sk-container-id-9 div.sk-container {/* jupyter's `normalize.less` sets `[hidden] { display: none; }` but bootstrap.min.css set `[hidden] { display: none !important; }` so we also need the `!important` here to be able to override the default hidden behavior on the sphinx rendered scikit-learn.org. See: https://github.com/scikit-learn/scikit-learn/issues/21755 */display: inline-block !important;position: relative;}#sk-container-id-9 div.sk-text-repr-fallback {display: none;}</style><div id=\"sk-container-id-9\" class=\"sk-top-container\"><div class=\"sk-text-repr-fallback\"><pre>SVC(probability=True)</pre><b>In a Jupyter environment, please rerun this cell to show the HTML representation or trust the notebook. <br />On GitHub, the HTML representation is unable to render, please try loading this page with nbviewer.org.</b></div><div class=\"sk-container\" hidden><div class=\"sk-item\"><div class=\"sk-estimator sk-toggleable\"><input class=\"sk-toggleable__control sk-hidden--visually\" id=\"sk-estimator-id-9\" type=\"checkbox\" checked><label for=\"sk-estimator-id-9\" class=\"sk-toggleable__label sk-toggleable__label-arrow\">SVC</label><div class=\"sk-toggleable__content\"><pre>SVC(probability=True)</pre></div></div></div></div></div>"
      ],
      "text/plain": [
       "SVC(probability=True)"
      ]
     },
     "execution_count": 91,
     "metadata": {},
     "output_type": "execute_result"
    }
   ],
   "source": [
    "svc = SVC(probability=True)\n",
    "svc"
   ]
  },
  {
   "cell_type": "code",
   "execution_count": 92,
   "metadata": {},
   "outputs": [
    {
     "data": {
      "text/html": [
       "<style>#sk-container-id-10 {color: black;background-color: white;}#sk-container-id-10 pre{padding: 0;}#sk-container-id-10 div.sk-toggleable {background-color: white;}#sk-container-id-10 label.sk-toggleable__label {cursor: pointer;display: block;width: 100%;margin-bottom: 0;padding: 0.3em;box-sizing: border-box;text-align: center;}#sk-container-id-10 label.sk-toggleable__label-arrow:before {content: \"▸\";float: left;margin-right: 0.25em;color: #696969;}#sk-container-id-10 label.sk-toggleable__label-arrow:hover:before {color: black;}#sk-container-id-10 div.sk-estimator:hover label.sk-toggleable__label-arrow:before {color: black;}#sk-container-id-10 div.sk-toggleable__content {max-height: 0;max-width: 0;overflow: hidden;text-align: left;background-color: #f0f8ff;}#sk-container-id-10 div.sk-toggleable__content pre {margin: 0.2em;color: black;border-radius: 0.25em;background-color: #f0f8ff;}#sk-container-id-10 input.sk-toggleable__control:checked~div.sk-toggleable__content {max-height: 200px;max-width: 100%;overflow: auto;}#sk-container-id-10 input.sk-toggleable__control:checked~label.sk-toggleable__label-arrow:before {content: \"▾\";}#sk-container-id-10 div.sk-estimator input.sk-toggleable__control:checked~label.sk-toggleable__label {background-color: #d4ebff;}#sk-container-id-10 div.sk-label input.sk-toggleable__control:checked~label.sk-toggleable__label {background-color: #d4ebff;}#sk-container-id-10 input.sk-hidden--visually {border: 0;clip: rect(1px 1px 1px 1px);clip: rect(1px, 1px, 1px, 1px);height: 1px;margin: -1px;overflow: hidden;padding: 0;position: absolute;width: 1px;}#sk-container-id-10 div.sk-estimator {font-family: monospace;background-color: #f0f8ff;border: 1px dotted black;border-radius: 0.25em;box-sizing: border-box;margin-bottom: 0.5em;}#sk-container-id-10 div.sk-estimator:hover {background-color: #d4ebff;}#sk-container-id-10 div.sk-parallel-item::after {content: \"\";width: 100%;border-bottom: 1px solid gray;flex-grow: 1;}#sk-container-id-10 div.sk-label:hover label.sk-toggleable__label {background-color: #d4ebff;}#sk-container-id-10 div.sk-serial::before {content: \"\";position: absolute;border-left: 1px solid gray;box-sizing: border-box;top: 0;bottom: 0;left: 50%;z-index: 0;}#sk-container-id-10 div.sk-serial {display: flex;flex-direction: column;align-items: center;background-color: white;padding-right: 0.2em;padding-left: 0.2em;position: relative;}#sk-container-id-10 div.sk-item {position: relative;z-index: 1;}#sk-container-id-10 div.sk-parallel {display: flex;align-items: stretch;justify-content: center;background-color: white;position: relative;}#sk-container-id-10 div.sk-item::before, #sk-container-id-10 div.sk-parallel-item::before {content: \"\";position: absolute;border-left: 1px solid gray;box-sizing: border-box;top: 0;bottom: 0;left: 50%;z-index: -1;}#sk-container-id-10 div.sk-parallel-item {display: flex;flex-direction: column;z-index: 1;position: relative;background-color: white;}#sk-container-id-10 div.sk-parallel-item:first-child::after {align-self: flex-end;width: 50%;}#sk-container-id-10 div.sk-parallel-item:last-child::after {align-self: flex-start;width: 50%;}#sk-container-id-10 div.sk-parallel-item:only-child::after {width: 0;}#sk-container-id-10 div.sk-dashed-wrapped {border: 1px dashed gray;margin: 0 0.4em 0.5em 0.4em;box-sizing: border-box;padding-bottom: 0.4em;background-color: white;}#sk-container-id-10 div.sk-label label {font-family: monospace;font-weight: bold;display: inline-block;line-height: 1.2em;}#sk-container-id-10 div.sk-label-container {text-align: center;}#sk-container-id-10 div.sk-container {/* jupyter's `normalize.less` sets `[hidden] { display: none; }` but bootstrap.min.css set `[hidden] { display: none !important; }` so we also need the `!important` here to be able to override the default hidden behavior on the sphinx rendered scikit-learn.org. See: https://github.com/scikit-learn/scikit-learn/issues/21755 */display: inline-block !important;position: relative;}#sk-container-id-10 div.sk-text-repr-fallback {display: none;}</style><div id=\"sk-container-id-10\" class=\"sk-top-container\"><div class=\"sk-text-repr-fallback\"><pre>SVC(probability=True)</pre><b>In a Jupyter environment, please rerun this cell to show the HTML representation or trust the notebook. <br />On GitHub, the HTML representation is unable to render, please try loading this page with nbviewer.org.</b></div><div class=\"sk-container\" hidden><div class=\"sk-item\"><div class=\"sk-estimator sk-toggleable\"><input class=\"sk-toggleable__control sk-hidden--visually\" id=\"sk-estimator-id-10\" type=\"checkbox\" checked><label for=\"sk-estimator-id-10\" class=\"sk-toggleable__label sk-toggleable__label-arrow\">SVC</label><div class=\"sk-toggleable__content\"><pre>SVC(probability=True)</pre></div></div></div></div></div>"
      ],
      "text/plain": [
       "SVC(probability=True)"
      ]
     },
     "execution_count": 92,
     "metadata": {},
     "output_type": "execute_result"
    }
   ],
   "source": [
    "svc.fit(x_train, y_train)"
   ]
  },
  {
   "cell_type": "code",
   "execution_count": 93,
   "metadata": {},
   "outputs": [
    {
     "data": {
      "text/plain": [
       "0.6741573033707865"
      ]
     },
     "execution_count": 93,
     "metadata": {},
     "output_type": "execute_result"
    }
   ],
   "source": [
    "svc.score(x_test, y_test)"
   ]
  },
  {
   "cell_type": "code",
   "execution_count": 94,
   "metadata": {},
   "outputs": [
    {
     "data": {
      "text/plain": [
       "array([0, 1, 1, 0, 1, 1, 0, 1, 1, 1, 2, 1, 0, 1, 1, 1, 0, 0, 1, 0, 1, 0,\n",
       "       1, 1, 1, 1, 1, 1, 1, 1, 0, 0, 1, 0, 0, 0, 1, 1, 1, 1, 0, 0, 1, 1,\n",
       "       1, 0, 1, 0, 0, 0, 1, 1, 2, 1, 0, 1, 0, 0, 1, 1, 1, 0, 1, 1, 1, 1,\n",
       "       1, 1, 0, 1, 0, 1, 1, 0, 1, 0, 1, 1, 1, 1, 1, 1, 1, 0, 1, 1, 1, 1,\n",
       "       1], dtype=int64)"
      ]
     },
     "execution_count": 94,
     "metadata": {},
     "output_type": "execute_result"
    }
   ],
   "source": [
    "y_pred1 = svc.predict(x_test)\n",
    "y_pred1"
   ]
  },
  {
   "cell_type": "code",
   "execution_count": 95,
   "metadata": {},
   "outputs": [
    {
     "data": {
      "text/plain": [
       "0.6741573033707865"
      ]
     },
     "execution_count": 95,
     "metadata": {},
     "output_type": "execute_result"
    }
   ],
   "source": [
    "accuracy_score(y_test, y_pred1)"
   ]
  },
  {
   "cell_type": "code",
   "execution_count": 96,
   "metadata": {},
   "outputs": [
    {
     "data": {
      "text/plain": [
       "array([[0.92777027, 0.04177232, 0.03045741],\n",
       "       [0.01149003, 0.52317848, 0.46533149],\n",
       "       [0.00749364, 0.49554761, 0.49695875],\n",
       "       [0.95700205, 0.02492231, 0.01807564],\n",
       "       [0.00605392, 0.47831802, 0.51562805],\n",
       "       [0.01030012, 0.51684392, 0.47285596],\n",
       "       [0.98448919, 0.00847271, 0.00703811],\n",
       "       [0.01590035, 0.53856855, 0.4455311 ],\n",
       "       [0.0145169 , 0.53393193, 0.45155117],\n",
       "       [0.01132593, 0.52138873, 0.46728534]])"
      ]
     },
     "execution_count": 96,
     "metadata": {},
     "output_type": "execute_result"
    }
   ],
   "source": [
    "y_pred_proba1 = svc.predict_proba(x_test)\n",
    "y_pred_proba1[:10]"
   ]
  },
  {
   "cell_type": "code",
   "execution_count": 97,
   "metadata": {},
   "outputs": [
    {
     "data": {
      "text/plain": [
       "0.7126660793680967"
      ]
     },
     "execution_count": 97,
     "metadata": {},
     "output_type": "execute_result"
    }
   ],
   "source": [
    "log_loss(y_test, y_pred_proba1)"
   ]
  },
  {
   "cell_type": "code",
   "execution_count": 101,
   "metadata": {},
   "outputs": [],
   "source": [
    "initial_type = [('input', FloatTensorType([1, 13]))]\n",
    "onx = convert_sklearn(svc, initial_types=initial_type, target_opset=18)\n",
    "with open(\"SVC.onnx\", \"wb\") as f:\n",
    "    f.write(onx.SerializeToString())"
   ]
  },
  {
   "attachments": {},
   "cell_type": "markdown",
   "metadata": {},
   "source": [
    "# RandomForestClassifier"
   ]
  },
  {
   "cell_type": "code",
   "execution_count": 102,
   "metadata": {},
   "outputs": [],
   "source": [
    "from sklearn.ensemble import RandomForestClassifier"
   ]
  },
  {
   "cell_type": "code",
   "execution_count": 103,
   "metadata": {},
   "outputs": [
    {
     "data": {
      "text/html": [
       "<style>#sk-container-id-11 {color: black;background-color: white;}#sk-container-id-11 pre{padding: 0;}#sk-container-id-11 div.sk-toggleable {background-color: white;}#sk-container-id-11 label.sk-toggleable__label {cursor: pointer;display: block;width: 100%;margin-bottom: 0;padding: 0.3em;box-sizing: border-box;text-align: center;}#sk-container-id-11 label.sk-toggleable__label-arrow:before {content: \"▸\";float: left;margin-right: 0.25em;color: #696969;}#sk-container-id-11 label.sk-toggleable__label-arrow:hover:before {color: black;}#sk-container-id-11 div.sk-estimator:hover label.sk-toggleable__label-arrow:before {color: black;}#sk-container-id-11 div.sk-toggleable__content {max-height: 0;max-width: 0;overflow: hidden;text-align: left;background-color: #f0f8ff;}#sk-container-id-11 div.sk-toggleable__content pre {margin: 0.2em;color: black;border-radius: 0.25em;background-color: #f0f8ff;}#sk-container-id-11 input.sk-toggleable__control:checked~div.sk-toggleable__content {max-height: 200px;max-width: 100%;overflow: auto;}#sk-container-id-11 input.sk-toggleable__control:checked~label.sk-toggleable__label-arrow:before {content: \"▾\";}#sk-container-id-11 div.sk-estimator input.sk-toggleable__control:checked~label.sk-toggleable__label {background-color: #d4ebff;}#sk-container-id-11 div.sk-label input.sk-toggleable__control:checked~label.sk-toggleable__label {background-color: #d4ebff;}#sk-container-id-11 input.sk-hidden--visually {border: 0;clip: rect(1px 1px 1px 1px);clip: rect(1px, 1px, 1px, 1px);height: 1px;margin: -1px;overflow: hidden;padding: 0;position: absolute;width: 1px;}#sk-container-id-11 div.sk-estimator {font-family: monospace;background-color: #f0f8ff;border: 1px dotted black;border-radius: 0.25em;box-sizing: border-box;margin-bottom: 0.5em;}#sk-container-id-11 div.sk-estimator:hover {background-color: #d4ebff;}#sk-container-id-11 div.sk-parallel-item::after {content: \"\";width: 100%;border-bottom: 1px solid gray;flex-grow: 1;}#sk-container-id-11 div.sk-label:hover label.sk-toggleable__label {background-color: #d4ebff;}#sk-container-id-11 div.sk-serial::before {content: \"\";position: absolute;border-left: 1px solid gray;box-sizing: border-box;top: 0;bottom: 0;left: 50%;z-index: 0;}#sk-container-id-11 div.sk-serial {display: flex;flex-direction: column;align-items: center;background-color: white;padding-right: 0.2em;padding-left: 0.2em;position: relative;}#sk-container-id-11 div.sk-item {position: relative;z-index: 1;}#sk-container-id-11 div.sk-parallel {display: flex;align-items: stretch;justify-content: center;background-color: white;position: relative;}#sk-container-id-11 div.sk-item::before, #sk-container-id-11 div.sk-parallel-item::before {content: \"\";position: absolute;border-left: 1px solid gray;box-sizing: border-box;top: 0;bottom: 0;left: 50%;z-index: -1;}#sk-container-id-11 div.sk-parallel-item {display: flex;flex-direction: column;z-index: 1;position: relative;background-color: white;}#sk-container-id-11 div.sk-parallel-item:first-child::after {align-self: flex-end;width: 50%;}#sk-container-id-11 div.sk-parallel-item:last-child::after {align-self: flex-start;width: 50%;}#sk-container-id-11 div.sk-parallel-item:only-child::after {width: 0;}#sk-container-id-11 div.sk-dashed-wrapped {border: 1px dashed gray;margin: 0 0.4em 0.5em 0.4em;box-sizing: border-box;padding-bottom: 0.4em;background-color: white;}#sk-container-id-11 div.sk-label label {font-family: monospace;font-weight: bold;display: inline-block;line-height: 1.2em;}#sk-container-id-11 div.sk-label-container {text-align: center;}#sk-container-id-11 div.sk-container {/* jupyter's `normalize.less` sets `[hidden] { display: none; }` but bootstrap.min.css set `[hidden] { display: none !important; }` so we also need the `!important` here to be able to override the default hidden behavior on the sphinx rendered scikit-learn.org. See: https://github.com/scikit-learn/scikit-learn/issues/21755 */display: inline-block !important;position: relative;}#sk-container-id-11 div.sk-text-repr-fallback {display: none;}</style><div id=\"sk-container-id-11\" class=\"sk-top-container\"><div class=\"sk-text-repr-fallback\"><pre>RandomForestClassifier(criterion=&#x27;entropy&#x27;, max_depth=5, n_jobs=-1)</pre><b>In a Jupyter environment, please rerun this cell to show the HTML representation or trust the notebook. <br />On GitHub, the HTML representation is unable to render, please try loading this page with nbviewer.org.</b></div><div class=\"sk-container\" hidden><div class=\"sk-item\"><div class=\"sk-estimator sk-toggleable\"><input class=\"sk-toggleable__control sk-hidden--visually\" id=\"sk-estimator-id-11\" type=\"checkbox\" checked><label for=\"sk-estimator-id-11\" class=\"sk-toggleable__label sk-toggleable__label-arrow\">RandomForestClassifier</label><div class=\"sk-toggleable__content\"><pre>RandomForestClassifier(criterion=&#x27;entropy&#x27;, max_depth=5, n_jobs=-1)</pre></div></div></div></div></div>"
      ],
      "text/plain": [
       "RandomForestClassifier(criterion='entropy', max_depth=5, n_jobs=-1)"
      ]
     },
     "execution_count": 103,
     "metadata": {},
     "output_type": "execute_result"
    }
   ],
   "source": [
    "rfc = RandomForestClassifier(n_estimators=100,\n",
    "                             max_depth=5,\n",
    "                             criterion=\"entropy\",\n",
    "                             n_jobs=-1)\n",
    "rfc"
   ]
  },
  {
   "cell_type": "code",
   "execution_count": 104,
   "metadata": {},
   "outputs": [
    {
     "data": {
      "text/html": [
       "<style>#sk-container-id-12 {color: black;background-color: white;}#sk-container-id-12 pre{padding: 0;}#sk-container-id-12 div.sk-toggleable {background-color: white;}#sk-container-id-12 label.sk-toggleable__label {cursor: pointer;display: block;width: 100%;margin-bottom: 0;padding: 0.3em;box-sizing: border-box;text-align: center;}#sk-container-id-12 label.sk-toggleable__label-arrow:before {content: \"▸\";float: left;margin-right: 0.25em;color: #696969;}#sk-container-id-12 label.sk-toggleable__label-arrow:hover:before {color: black;}#sk-container-id-12 div.sk-estimator:hover label.sk-toggleable__label-arrow:before {color: black;}#sk-container-id-12 div.sk-toggleable__content {max-height: 0;max-width: 0;overflow: hidden;text-align: left;background-color: #f0f8ff;}#sk-container-id-12 div.sk-toggleable__content pre {margin: 0.2em;color: black;border-radius: 0.25em;background-color: #f0f8ff;}#sk-container-id-12 input.sk-toggleable__control:checked~div.sk-toggleable__content {max-height: 200px;max-width: 100%;overflow: auto;}#sk-container-id-12 input.sk-toggleable__control:checked~label.sk-toggleable__label-arrow:before {content: \"▾\";}#sk-container-id-12 div.sk-estimator input.sk-toggleable__control:checked~label.sk-toggleable__label {background-color: #d4ebff;}#sk-container-id-12 div.sk-label input.sk-toggleable__control:checked~label.sk-toggleable__label {background-color: #d4ebff;}#sk-container-id-12 input.sk-hidden--visually {border: 0;clip: rect(1px 1px 1px 1px);clip: rect(1px, 1px, 1px, 1px);height: 1px;margin: -1px;overflow: hidden;padding: 0;position: absolute;width: 1px;}#sk-container-id-12 div.sk-estimator {font-family: monospace;background-color: #f0f8ff;border: 1px dotted black;border-radius: 0.25em;box-sizing: border-box;margin-bottom: 0.5em;}#sk-container-id-12 div.sk-estimator:hover {background-color: #d4ebff;}#sk-container-id-12 div.sk-parallel-item::after {content: \"\";width: 100%;border-bottom: 1px solid gray;flex-grow: 1;}#sk-container-id-12 div.sk-label:hover label.sk-toggleable__label {background-color: #d4ebff;}#sk-container-id-12 div.sk-serial::before {content: \"\";position: absolute;border-left: 1px solid gray;box-sizing: border-box;top: 0;bottom: 0;left: 50%;z-index: 0;}#sk-container-id-12 div.sk-serial {display: flex;flex-direction: column;align-items: center;background-color: white;padding-right: 0.2em;padding-left: 0.2em;position: relative;}#sk-container-id-12 div.sk-item {position: relative;z-index: 1;}#sk-container-id-12 div.sk-parallel {display: flex;align-items: stretch;justify-content: center;background-color: white;position: relative;}#sk-container-id-12 div.sk-item::before, #sk-container-id-12 div.sk-parallel-item::before {content: \"\";position: absolute;border-left: 1px solid gray;box-sizing: border-box;top: 0;bottom: 0;left: 50%;z-index: -1;}#sk-container-id-12 div.sk-parallel-item {display: flex;flex-direction: column;z-index: 1;position: relative;background-color: white;}#sk-container-id-12 div.sk-parallel-item:first-child::after {align-self: flex-end;width: 50%;}#sk-container-id-12 div.sk-parallel-item:last-child::after {align-self: flex-start;width: 50%;}#sk-container-id-12 div.sk-parallel-item:only-child::after {width: 0;}#sk-container-id-12 div.sk-dashed-wrapped {border: 1px dashed gray;margin: 0 0.4em 0.5em 0.4em;box-sizing: border-box;padding-bottom: 0.4em;background-color: white;}#sk-container-id-12 div.sk-label label {font-family: monospace;font-weight: bold;display: inline-block;line-height: 1.2em;}#sk-container-id-12 div.sk-label-container {text-align: center;}#sk-container-id-12 div.sk-container {/* jupyter's `normalize.less` sets `[hidden] { display: none; }` but bootstrap.min.css set `[hidden] { display: none !important; }` so we also need the `!important` here to be able to override the default hidden behavior on the sphinx rendered scikit-learn.org. See: https://github.com/scikit-learn/scikit-learn/issues/21755 */display: inline-block !important;position: relative;}#sk-container-id-12 div.sk-text-repr-fallback {display: none;}</style><div id=\"sk-container-id-12\" class=\"sk-top-container\"><div class=\"sk-text-repr-fallback\"><pre>RandomForestClassifier(criterion=&#x27;entropy&#x27;, max_depth=5, n_jobs=-1)</pre><b>In a Jupyter environment, please rerun this cell to show the HTML representation or trust the notebook. <br />On GitHub, the HTML representation is unable to render, please try loading this page with nbviewer.org.</b></div><div class=\"sk-container\" hidden><div class=\"sk-item\"><div class=\"sk-estimator sk-toggleable\"><input class=\"sk-toggleable__control sk-hidden--visually\" id=\"sk-estimator-id-12\" type=\"checkbox\" checked><label for=\"sk-estimator-id-12\" class=\"sk-toggleable__label sk-toggleable__label-arrow\">RandomForestClassifier</label><div class=\"sk-toggleable__content\"><pre>RandomForestClassifier(criterion=&#x27;entropy&#x27;, max_depth=5, n_jobs=-1)</pre></div></div></div></div></div>"
      ],
      "text/plain": [
       "RandomForestClassifier(criterion='entropy', max_depth=5, n_jobs=-1)"
      ]
     },
     "execution_count": 104,
     "metadata": {},
     "output_type": "execute_result"
    }
   ],
   "source": [
    "rfc.fit(x_train, y_train)"
   ]
  },
  {
   "cell_type": "code",
   "execution_count": 105,
   "metadata": {},
   "outputs": [
    {
     "data": {
      "text/plain": [
       "0.9775280898876404"
      ]
     },
     "execution_count": 105,
     "metadata": {},
     "output_type": "execute_result"
    }
   ],
   "source": [
    "rfc.score(x_test, y_test)"
   ]
  },
  {
   "cell_type": "code",
   "execution_count": 106,
   "metadata": {},
   "outputs": [
    {
     "data": {
      "text/plain": [
       "array([0, 2, 1, 0, 1, 1, 0, 2, 1, 1, 2, 2, 0, 1, 2, 1, 0, 0, 1, 0, 1, 0,\n",
       "       0, 1, 1, 1, 1, 1, 1, 2, 0, 0, 1, 0, 0, 0, 2, 1, 1, 2, 0, 0, 1, 1,\n",
       "       1, 0, 2, 1, 2, 0, 2, 2, 0, 2, 0, 1, 2, 2, 1, 2, 2, 0, 2, 2, 1, 1,\n",
       "       2, 1, 0, 1, 1, 1, 0, 0, 1, 0, 2, 2, 1, 1, 1, 2, 2, 0, 2, 1, 1, 1,\n",
       "       1], dtype=int64)"
      ]
     },
     "execution_count": 106,
     "metadata": {},
     "output_type": "execute_result"
    }
   ],
   "source": [
    "y_pred2 = rfc.predict(x_test)\n",
    "y_pred2"
   ]
  },
  {
   "cell_type": "code",
   "execution_count": 107,
   "metadata": {},
   "outputs": [
    {
     "data": {
      "text/plain": [
       "0.9775280898876404"
      ]
     },
     "execution_count": 107,
     "metadata": {},
     "output_type": "execute_result"
    }
   ],
   "source": [
    "accuracy_score(y_test, y_pred2)"
   ]
  },
  {
   "cell_type": "code",
   "execution_count": 108,
   "metadata": {},
   "outputs": [
    {
     "data": {
      "text/plain": [
       "array([[1.  , 0.  , 0.  ],\n",
       "       [0.  , 0.1 , 0.9 ],\n",
       "       [0.2 , 0.8 , 0.  ],\n",
       "       [0.99, 0.01, 0.  ],\n",
       "       [0.26, 0.61, 0.13],\n",
       "       [0.25, 0.69, 0.06],\n",
       "       [0.95, 0.04, 0.01],\n",
       "       [0.01, 0.11, 0.88],\n",
       "       [0.  , 1.  , 0.  ],\n",
       "       [0.01, 0.94, 0.05]])"
      ]
     },
     "execution_count": 108,
     "metadata": {},
     "output_type": "execute_result"
    }
   ],
   "source": [
    "y_pred_proba2 = rfc.predict_proba(x_test)\n",
    "y_pred_proba2[:10]"
   ]
  },
  {
   "cell_type": "code",
   "execution_count": 109,
   "metadata": {},
   "outputs": [
    {
     "data": {
      "text/plain": [
       "0.18751446928077317"
      ]
     },
     "execution_count": 109,
     "metadata": {},
     "output_type": "execute_result"
    }
   ],
   "source": [
    "log_loss(y_test, y_pred_proba2)"
   ]
  },
  {
   "cell_type": "code",
   "execution_count": 111,
   "metadata": {},
   "outputs": [],
   "source": [
    "initial_type = [('input', FloatTensorType([1, 13]))]\n",
    "onx = convert_sklearn(rfc, initial_types=initial_type, target_opset=18)\n",
    "with open(\"RandomForestClassifier.onnx\", \"wb\") as f:\n",
    "    f.write(onx.SerializeToString())"
   ]
  },
  {
   "attachments": {},
   "cell_type": "markdown",
   "metadata": {},
   "source": [
    "# XGBClassifier"
   ]
  },
  {
   "cell_type": "code",
   "execution_count": 112,
   "metadata": {},
   "outputs": [],
   "source": [
    "from xgboost import XGBClassifier"
   ]
  },
  {
   "cell_type": "code",
   "execution_count": 113,
   "metadata": {},
   "outputs": [
    {
     "data": {
      "text/html": [
       "<style>#sk-container-id-13 {color: black;background-color: white;}#sk-container-id-13 pre{padding: 0;}#sk-container-id-13 div.sk-toggleable {background-color: white;}#sk-container-id-13 label.sk-toggleable__label {cursor: pointer;display: block;width: 100%;margin-bottom: 0;padding: 0.3em;box-sizing: border-box;text-align: center;}#sk-container-id-13 label.sk-toggleable__label-arrow:before {content: \"▸\";float: left;margin-right: 0.25em;color: #696969;}#sk-container-id-13 label.sk-toggleable__label-arrow:hover:before {color: black;}#sk-container-id-13 div.sk-estimator:hover label.sk-toggleable__label-arrow:before {color: black;}#sk-container-id-13 div.sk-toggleable__content {max-height: 0;max-width: 0;overflow: hidden;text-align: left;background-color: #f0f8ff;}#sk-container-id-13 div.sk-toggleable__content pre {margin: 0.2em;color: black;border-radius: 0.25em;background-color: #f0f8ff;}#sk-container-id-13 input.sk-toggleable__control:checked~div.sk-toggleable__content {max-height: 200px;max-width: 100%;overflow: auto;}#sk-container-id-13 input.sk-toggleable__control:checked~label.sk-toggleable__label-arrow:before {content: \"▾\";}#sk-container-id-13 div.sk-estimator input.sk-toggleable__control:checked~label.sk-toggleable__label {background-color: #d4ebff;}#sk-container-id-13 div.sk-label input.sk-toggleable__control:checked~label.sk-toggleable__label {background-color: #d4ebff;}#sk-container-id-13 input.sk-hidden--visually {border: 0;clip: rect(1px 1px 1px 1px);clip: rect(1px, 1px, 1px, 1px);height: 1px;margin: -1px;overflow: hidden;padding: 0;position: absolute;width: 1px;}#sk-container-id-13 div.sk-estimator {font-family: monospace;background-color: #f0f8ff;border: 1px dotted black;border-radius: 0.25em;box-sizing: border-box;margin-bottom: 0.5em;}#sk-container-id-13 div.sk-estimator:hover {background-color: #d4ebff;}#sk-container-id-13 div.sk-parallel-item::after {content: \"\";width: 100%;border-bottom: 1px solid gray;flex-grow: 1;}#sk-container-id-13 div.sk-label:hover label.sk-toggleable__label {background-color: #d4ebff;}#sk-container-id-13 div.sk-serial::before {content: \"\";position: absolute;border-left: 1px solid gray;box-sizing: border-box;top: 0;bottom: 0;left: 50%;z-index: 0;}#sk-container-id-13 div.sk-serial {display: flex;flex-direction: column;align-items: center;background-color: white;padding-right: 0.2em;padding-left: 0.2em;position: relative;}#sk-container-id-13 div.sk-item {position: relative;z-index: 1;}#sk-container-id-13 div.sk-parallel {display: flex;align-items: stretch;justify-content: center;background-color: white;position: relative;}#sk-container-id-13 div.sk-item::before, #sk-container-id-13 div.sk-parallel-item::before {content: \"\";position: absolute;border-left: 1px solid gray;box-sizing: border-box;top: 0;bottom: 0;left: 50%;z-index: -1;}#sk-container-id-13 div.sk-parallel-item {display: flex;flex-direction: column;z-index: 1;position: relative;background-color: white;}#sk-container-id-13 div.sk-parallel-item:first-child::after {align-self: flex-end;width: 50%;}#sk-container-id-13 div.sk-parallel-item:last-child::after {align-self: flex-start;width: 50%;}#sk-container-id-13 div.sk-parallel-item:only-child::after {width: 0;}#sk-container-id-13 div.sk-dashed-wrapped {border: 1px dashed gray;margin: 0 0.4em 0.5em 0.4em;box-sizing: border-box;padding-bottom: 0.4em;background-color: white;}#sk-container-id-13 div.sk-label label {font-family: monospace;font-weight: bold;display: inline-block;line-height: 1.2em;}#sk-container-id-13 div.sk-label-container {text-align: center;}#sk-container-id-13 div.sk-container {/* jupyter's `normalize.less` sets `[hidden] { display: none; }` but bootstrap.min.css set `[hidden] { display: none !important; }` so we also need the `!important` here to be able to override the default hidden behavior on the sphinx rendered scikit-learn.org. See: https://github.com/scikit-learn/scikit-learn/issues/21755 */display: inline-block !important;position: relative;}#sk-container-id-13 div.sk-text-repr-fallback {display: none;}</style><div id=\"sk-container-id-13\" class=\"sk-top-container\"><div class=\"sk-text-repr-fallback\"><pre>XGBClassifier(base_score=None, booster=None, callbacks=None,\n",
       "              colsample_bylevel=None, colsample_bynode=None, colsample_bytree=1,\n",
       "              early_stopping_rounds=None, enable_categorical=False,\n",
       "              eval_metric=None, feature_types=None, gamma=None, gpu_id=None,\n",
       "              grow_policy=None, importance_type=None,\n",
       "              interaction_constraints=None, learning_rate=0.1, max_bin=None,\n",
       "              max_cat_threshold=None, max_cat_to_onehot=None,\n",
       "              max_delta_step=None, max_depth=5, max_leaves=10,\n",
       "              min_child_weight=None, missing=nan, monotone_constraints=None,\n",
       "              n_estimators=100, n_jobs=-1, num_parallel_tree=None,\n",
       "              predictor=None, random_state=None, ...)</pre><b>In a Jupyter environment, please rerun this cell to show the HTML representation or trust the notebook. <br />On GitHub, the HTML representation is unable to render, please try loading this page with nbviewer.org.</b></div><div class=\"sk-container\" hidden><div class=\"sk-item\"><div class=\"sk-estimator sk-toggleable\"><input class=\"sk-toggleable__control sk-hidden--visually\" id=\"sk-estimator-id-13\" type=\"checkbox\" checked><label for=\"sk-estimator-id-13\" class=\"sk-toggleable__label sk-toggleable__label-arrow\">XGBClassifier</label><div class=\"sk-toggleable__content\"><pre>XGBClassifier(base_score=None, booster=None, callbacks=None,\n",
       "              colsample_bylevel=None, colsample_bynode=None, colsample_bytree=1,\n",
       "              early_stopping_rounds=None, enable_categorical=False,\n",
       "              eval_metric=None, feature_types=None, gamma=None, gpu_id=None,\n",
       "              grow_policy=None, importance_type=None,\n",
       "              interaction_constraints=None, learning_rate=0.1, max_bin=None,\n",
       "              max_cat_threshold=None, max_cat_to_onehot=None,\n",
       "              max_delta_step=None, max_depth=5, max_leaves=10,\n",
       "              min_child_weight=None, missing=nan, monotone_constraints=None,\n",
       "              n_estimators=100, n_jobs=-1, num_parallel_tree=None,\n",
       "              predictor=None, random_state=None, ...)</pre></div></div></div></div></div>"
      ],
      "text/plain": [
       "XGBClassifier(base_score=None, booster=None, callbacks=None,\n",
       "              colsample_bylevel=None, colsample_bynode=None, colsample_bytree=1,\n",
       "              early_stopping_rounds=None, enable_categorical=False,\n",
       "              eval_metric=None, feature_types=None, gamma=None, gpu_id=None,\n",
       "              grow_policy=None, importance_type=None,\n",
       "              interaction_constraints=None, learning_rate=0.1, max_bin=None,\n",
       "              max_cat_threshold=None, max_cat_to_onehot=None,\n",
       "              max_delta_step=None, max_depth=5, max_leaves=10,\n",
       "              min_child_weight=None, missing=nan, monotone_constraints=None,\n",
       "              n_estimators=100, n_jobs=-1, num_parallel_tree=None,\n",
       "              predictor=None, random_state=None, ...)"
      ]
     },
     "execution_count": 113,
     "metadata": {},
     "output_type": "execute_result"
    }
   ],
   "source": [
    "xgbc = XGBClassifier(n_estimators=100,\n",
    "                     learning_rate=0.1,\n",
    "                     max_depth=5,\n",
    "                     max_leaves=10,\n",
    "                     subsample=1,       # 系统默认为1。这个参数控制对于每棵树，随机采样的比例。减小这个参数的值，算法会更加保守，避免过拟合, 取值范围零到一\n",
    "                     colsample_bytree=1,# 系统默认值为1。我们一般设置成0.8左右。用来控制每棵随机采样的列数的占比(每一列是一个特征)\n",
    "                     n_jobs=-1)\n",
    "xgbc"
   ]
  },
  {
   "cell_type": "code",
   "execution_count": 114,
   "metadata": {},
   "outputs": [
    {
     "data": {
      "text/html": [
       "<style>#sk-container-id-14 {color: black;background-color: white;}#sk-container-id-14 pre{padding: 0;}#sk-container-id-14 div.sk-toggleable {background-color: white;}#sk-container-id-14 label.sk-toggleable__label {cursor: pointer;display: block;width: 100%;margin-bottom: 0;padding: 0.3em;box-sizing: border-box;text-align: center;}#sk-container-id-14 label.sk-toggleable__label-arrow:before {content: \"▸\";float: left;margin-right: 0.25em;color: #696969;}#sk-container-id-14 label.sk-toggleable__label-arrow:hover:before {color: black;}#sk-container-id-14 div.sk-estimator:hover label.sk-toggleable__label-arrow:before {color: black;}#sk-container-id-14 div.sk-toggleable__content {max-height: 0;max-width: 0;overflow: hidden;text-align: left;background-color: #f0f8ff;}#sk-container-id-14 div.sk-toggleable__content pre {margin: 0.2em;color: black;border-radius: 0.25em;background-color: #f0f8ff;}#sk-container-id-14 input.sk-toggleable__control:checked~div.sk-toggleable__content {max-height: 200px;max-width: 100%;overflow: auto;}#sk-container-id-14 input.sk-toggleable__control:checked~label.sk-toggleable__label-arrow:before {content: \"▾\";}#sk-container-id-14 div.sk-estimator input.sk-toggleable__control:checked~label.sk-toggleable__label {background-color: #d4ebff;}#sk-container-id-14 div.sk-label input.sk-toggleable__control:checked~label.sk-toggleable__label {background-color: #d4ebff;}#sk-container-id-14 input.sk-hidden--visually {border: 0;clip: rect(1px 1px 1px 1px);clip: rect(1px, 1px, 1px, 1px);height: 1px;margin: -1px;overflow: hidden;padding: 0;position: absolute;width: 1px;}#sk-container-id-14 div.sk-estimator {font-family: monospace;background-color: #f0f8ff;border: 1px dotted black;border-radius: 0.25em;box-sizing: border-box;margin-bottom: 0.5em;}#sk-container-id-14 div.sk-estimator:hover {background-color: #d4ebff;}#sk-container-id-14 div.sk-parallel-item::after {content: \"\";width: 100%;border-bottom: 1px solid gray;flex-grow: 1;}#sk-container-id-14 div.sk-label:hover label.sk-toggleable__label {background-color: #d4ebff;}#sk-container-id-14 div.sk-serial::before {content: \"\";position: absolute;border-left: 1px solid gray;box-sizing: border-box;top: 0;bottom: 0;left: 50%;z-index: 0;}#sk-container-id-14 div.sk-serial {display: flex;flex-direction: column;align-items: center;background-color: white;padding-right: 0.2em;padding-left: 0.2em;position: relative;}#sk-container-id-14 div.sk-item {position: relative;z-index: 1;}#sk-container-id-14 div.sk-parallel {display: flex;align-items: stretch;justify-content: center;background-color: white;position: relative;}#sk-container-id-14 div.sk-item::before, #sk-container-id-14 div.sk-parallel-item::before {content: \"\";position: absolute;border-left: 1px solid gray;box-sizing: border-box;top: 0;bottom: 0;left: 50%;z-index: -1;}#sk-container-id-14 div.sk-parallel-item {display: flex;flex-direction: column;z-index: 1;position: relative;background-color: white;}#sk-container-id-14 div.sk-parallel-item:first-child::after {align-self: flex-end;width: 50%;}#sk-container-id-14 div.sk-parallel-item:last-child::after {align-self: flex-start;width: 50%;}#sk-container-id-14 div.sk-parallel-item:only-child::after {width: 0;}#sk-container-id-14 div.sk-dashed-wrapped {border: 1px dashed gray;margin: 0 0.4em 0.5em 0.4em;box-sizing: border-box;padding-bottom: 0.4em;background-color: white;}#sk-container-id-14 div.sk-label label {font-family: monospace;font-weight: bold;display: inline-block;line-height: 1.2em;}#sk-container-id-14 div.sk-label-container {text-align: center;}#sk-container-id-14 div.sk-container {/* jupyter's `normalize.less` sets `[hidden] { display: none; }` but bootstrap.min.css set `[hidden] { display: none !important; }` so we also need the `!important` here to be able to override the default hidden behavior on the sphinx rendered scikit-learn.org. See: https://github.com/scikit-learn/scikit-learn/issues/21755 */display: inline-block !important;position: relative;}#sk-container-id-14 div.sk-text-repr-fallback {display: none;}</style><div id=\"sk-container-id-14\" class=\"sk-top-container\"><div class=\"sk-text-repr-fallback\"><pre>XGBClassifier(base_score=None, booster=None, callbacks=None,\n",
       "              colsample_bylevel=None, colsample_bynode=None, colsample_bytree=1,\n",
       "              early_stopping_rounds=None, enable_categorical=False,\n",
       "              eval_metric=None, feature_types=None, gamma=None, gpu_id=None,\n",
       "              grow_policy=None, importance_type=None,\n",
       "              interaction_constraints=None, learning_rate=0.1, max_bin=None,\n",
       "              max_cat_threshold=None, max_cat_to_onehot=None,\n",
       "              max_delta_step=None, max_depth=5, max_leaves=10,\n",
       "              min_child_weight=None, missing=nan, monotone_constraints=None,\n",
       "              n_estimators=100, n_jobs=-1, num_parallel_tree=None,\n",
       "              objective=&#x27;multi:softprob&#x27;, predictor=None, ...)</pre><b>In a Jupyter environment, please rerun this cell to show the HTML representation or trust the notebook. <br />On GitHub, the HTML representation is unable to render, please try loading this page with nbviewer.org.</b></div><div class=\"sk-container\" hidden><div class=\"sk-item\"><div class=\"sk-estimator sk-toggleable\"><input class=\"sk-toggleable__control sk-hidden--visually\" id=\"sk-estimator-id-14\" type=\"checkbox\" checked><label for=\"sk-estimator-id-14\" class=\"sk-toggleable__label sk-toggleable__label-arrow\">XGBClassifier</label><div class=\"sk-toggleable__content\"><pre>XGBClassifier(base_score=None, booster=None, callbacks=None,\n",
       "              colsample_bylevel=None, colsample_bynode=None, colsample_bytree=1,\n",
       "              early_stopping_rounds=None, enable_categorical=False,\n",
       "              eval_metric=None, feature_types=None, gamma=None, gpu_id=None,\n",
       "              grow_policy=None, importance_type=None,\n",
       "              interaction_constraints=None, learning_rate=0.1, max_bin=None,\n",
       "              max_cat_threshold=None, max_cat_to_onehot=None,\n",
       "              max_delta_step=None, max_depth=5, max_leaves=10,\n",
       "              min_child_weight=None, missing=nan, monotone_constraints=None,\n",
       "              n_estimators=100, n_jobs=-1, num_parallel_tree=None,\n",
       "              objective=&#x27;multi:softprob&#x27;, predictor=None, ...)</pre></div></div></div></div></div>"
      ],
      "text/plain": [
       "XGBClassifier(base_score=None, booster=None, callbacks=None,\n",
       "              colsample_bylevel=None, colsample_bynode=None, colsample_bytree=1,\n",
       "              early_stopping_rounds=None, enable_categorical=False,\n",
       "              eval_metric=None, feature_types=None, gamma=None, gpu_id=None,\n",
       "              grow_policy=None, importance_type=None,\n",
       "              interaction_constraints=None, learning_rate=0.1, max_bin=None,\n",
       "              max_cat_threshold=None, max_cat_to_onehot=None,\n",
       "              max_delta_step=None, max_depth=5, max_leaves=10,\n",
       "              min_child_weight=None, missing=nan, monotone_constraints=None,\n",
       "              n_estimators=100, n_jobs=-1, num_parallel_tree=None,\n",
       "              objective='multi:softprob', predictor=None, ...)"
      ]
     },
     "execution_count": 114,
     "metadata": {},
     "output_type": "execute_result"
    }
   ],
   "source": [
    "xgbc.fit(x_train, y_train)"
   ]
  },
  {
   "cell_type": "code",
   "execution_count": 115,
   "metadata": {},
   "outputs": [
    {
     "data": {
      "text/plain": [
       "0.9662921348314607"
      ]
     },
     "execution_count": 115,
     "metadata": {},
     "output_type": "execute_result"
    }
   ],
   "source": [
    "xgbc.score(x_test, y_test)"
   ]
  },
  {
   "cell_type": "code",
   "execution_count": 116,
   "metadata": {},
   "outputs": [
    {
     "data": {
      "text/plain": [
       "array([0, 2, 1, 0, 1, 1, 0, 2, 1, 1, 2, 2, 0, 1, 2, 1, 0, 0, 2, 0, 1, 0,\n",
       "       0, 1, 1, 1, 1, 1, 1, 2, 0, 0, 1, 0, 0, 0, 2, 1, 1, 2, 0, 0, 1, 1,\n",
       "       1, 0, 2, 1, 2, 0, 2, 2, 0, 2, 0, 1, 2, 2, 1, 2, 2, 0, 2, 2, 1, 1,\n",
       "       2, 1, 0, 1, 1, 1, 0, 0, 1, 0, 2, 2, 1, 1, 1, 2, 2, 0, 2, 1, 1, 1,\n",
       "       1], dtype=int64)"
      ]
     },
     "execution_count": 116,
     "metadata": {},
     "output_type": "execute_result"
    }
   ],
   "source": [
    "y_pred3 = xgbc.predict(x_test)\n",
    "y_pred3"
   ]
  },
  {
   "cell_type": "code",
   "execution_count": 117,
   "metadata": {},
   "outputs": [
    {
     "data": {
      "text/plain": [
       "0.9662921348314607"
      ]
     },
     "execution_count": 117,
     "metadata": {},
     "output_type": "execute_result"
    }
   ],
   "source": [
    "accuracy_score(y_test, y_pred3)"
   ]
  },
  {
   "cell_type": "code",
   "execution_count": 118,
   "metadata": {},
   "outputs": [
    {
     "data": {
      "text/plain": [
       "array([[0.9921961 , 0.00365904, 0.00414485],\n",
       "       [0.01052205, 0.01132423, 0.9781537 ],\n",
       "       [0.0228237 , 0.9658382 , 0.01133815],\n",
       "       [0.99242955, 0.00325527, 0.00431521],\n",
       "       [0.04921722, 0.82478285, 0.12599997],\n",
       "       [0.15795338, 0.75155324, 0.0904934 ],\n",
       "       [0.9913747 , 0.00347092, 0.00515436],\n",
       "       [0.0047443 , 0.01866218, 0.9765935 ],\n",
       "       [0.00270286, 0.9946201 , 0.00267707],\n",
       "       [0.00254535, 0.99332196, 0.00413272]], dtype=float32)"
      ]
     },
     "execution_count": 118,
     "metadata": {},
     "output_type": "execute_result"
    }
   ],
   "source": [
    "y_pred_proba3 = xgbc.predict_proba(x_test)\n",
    "y_pred_proba3[:10]"
   ]
  },
  {
   "cell_type": "code",
   "execution_count": 119,
   "metadata": {},
   "outputs": [
    {
     "data": {
      "text/plain": [
       "0.1363272566521429"
      ]
     },
     "execution_count": 119,
     "metadata": {},
     "output_type": "execute_result"
    }
   ],
   "source": [
    "log_loss(y_test, y_pred_proba3)"
   ]
  },
  {
   "cell_type": "code",
   "execution_count": 121,
   "metadata": {},
   "outputs": [
    {
     "ename": "MissingShapeCalculator",
     "evalue": "Unable to find a shape calculator for type '<class 'xgboost.sklearn.XGBClassifier'>'.\nIt usually means the pipeline being converted contains a\ntransformer or a predictor with no corresponding converter\nimplemented in sklearn-onnx. If the converted is implemented\nin another library, you need to register\nthe converted so that it can be used by sklearn-onnx (function\nupdate_registered_converter). If the model is not yet covered\nby sklearn-onnx, you may raise an issue to\nhttps://github.com/onnx/sklearn-onnx/issues\nto get the converter implemented or even contribute to the\nproject. If the model is a custom model, a new converter must\nbe implemented. Examples can be found in the gallery.\n",
     "output_type": "error",
     "traceback": [
      "\u001b[1;31m---------------------------------------------------------------------------\u001b[0m",
      "\u001b[1;31mMissingShapeCalculator\u001b[0m                    Traceback (most recent call last)",
      "Cell \u001b[1;32mIn[121], line 2\u001b[0m\n\u001b[0;32m      1\u001b[0m initial_type \u001b[39m=\u001b[39m [(\u001b[39m'\u001b[39m\u001b[39minput\u001b[39m\u001b[39m'\u001b[39m, FloatTensorType([\u001b[39m1\u001b[39m, \u001b[39m13\u001b[39m]))]\n\u001b[1;32m----> 2\u001b[0m onx \u001b[39m=\u001b[39m convert_sklearn(xgbc, initial_types\u001b[39m=\u001b[39;49minitial_type, target_opset\u001b[39m=\u001b[39;49m\u001b[39m18\u001b[39;49m)\n\u001b[0;32m      3\u001b[0m \u001b[39mwith\u001b[39;00m \u001b[39mopen\u001b[39m(\u001b[39m\"\u001b[39m\u001b[39mXGBClassifier.onnx\u001b[39m\u001b[39m\"\u001b[39m, \u001b[39m\"\u001b[39m\u001b[39mwb\u001b[39m\u001b[39m\"\u001b[39m) \u001b[39mas\u001b[39;00m f:\n\u001b[0;32m      4\u001b[0m     f\u001b[39m.\u001b[39mwrite(onx\u001b[39m.\u001b[39mSerializeToString())\n",
      "File \u001b[1;32md:\\miniconda3\\envs\\pytorch\\Lib\\site-packages\\skl2onnx\\convert.py:188\u001b[0m, in \u001b[0;36mconvert_sklearn\u001b[1;34m(model, name, initial_types, doc_string, target_opset, custom_conversion_functions, custom_shape_calculators, custom_parsers, options, intermediate, white_op, black_op, final_types, dtype, naming, model_optim, verbose)\u001b[0m\n\u001b[0;32m    186\u001b[0m \u001b[39mif\u001b[39;00m verbose \u001b[39m>\u001b[39m\u001b[39m=\u001b[39m \u001b[39m1\u001b[39m:\n\u001b[0;32m    187\u001b[0m     \u001b[39mprint\u001b[39m(\u001b[39m\"\u001b[39m\u001b[39m[convert_sklearn] convert_topology\u001b[39m\u001b[39m\"\u001b[39m)\n\u001b[1;32m--> 188\u001b[0m onnx_model \u001b[39m=\u001b[39m convert_topology(\n\u001b[0;32m    189\u001b[0m     topology, name, doc_string, target_opset, options\u001b[39m=\u001b[39;49moptions,\n\u001b[0;32m    190\u001b[0m     remove_identity\u001b[39m=\u001b[39;49mmodel_optim \u001b[39mand\u001b[39;49;00m \u001b[39mnot\u001b[39;49;00m intermediate, verbose\u001b[39m=\u001b[39;49mverbose)\n\u001b[0;32m    191\u001b[0m \u001b[39mif\u001b[39;00m verbose \u001b[39m>\u001b[39m\u001b[39m=\u001b[39m \u001b[39m1\u001b[39m:\n\u001b[0;32m    192\u001b[0m     \u001b[39mprint\u001b[39m(\u001b[39m\"\u001b[39m\u001b[39m[convert_sklearn] end\u001b[39m\u001b[39m\"\u001b[39m)\n",
      "File \u001b[1;32md:\\miniconda3\\envs\\pytorch\\Lib\\site-packages\\skl2onnx\\common\\_topology.py:1420\u001b[0m, in \u001b[0;36mconvert_topology\u001b[1;34m(topology, model_name, doc_string, target_opset, channel_first_inputs, options, remove_identity, verbose)\u001b[0m\n\u001b[0;32m   1411\u001b[0m container \u001b[39m=\u001b[39m ModelComponentContainer(\n\u001b[0;32m   1412\u001b[0m     target_opset, options\u001b[39m=\u001b[39moptions,\n\u001b[0;32m   1413\u001b[0m     registered_models\u001b[39m=\u001b[39mtopology\u001b[39m.\u001b[39mregistered_models,\n\u001b[0;32m   1414\u001b[0m     white_op\u001b[39m=\u001b[39mtopology\u001b[39m.\u001b[39mraw_model\u001b[39m.\u001b[39m_white_op,\n\u001b[0;32m   1415\u001b[0m     black_op\u001b[39m=\u001b[39mtopology\u001b[39m.\u001b[39mraw_model\u001b[39m.\u001b[39m_black_op,\n\u001b[0;32m   1416\u001b[0m     verbose\u001b[39m=\u001b[39mverbose)\n\u001b[0;32m   1418\u001b[0m \u001b[39m# Traverse the graph from roots to leaves\u001b[39;00m\n\u001b[0;32m   1419\u001b[0m \u001b[39m# This loop could eventually be parallelized.\u001b[39;00m\n\u001b[1;32m-> 1420\u001b[0m topology\u001b[39m.\u001b[39;49mconvert_operators(container\u001b[39m=\u001b[39;49mcontainer, verbose\u001b[39m=\u001b[39;49mverbose)\n\u001b[0;32m   1421\u001b[0m container\u001b[39m.\u001b[39mensure_topological_order()\n\u001b[0;32m   1423\u001b[0m \u001b[39mif\u001b[39;00m \u001b[39mlen\u001b[39m(container\u001b[39m.\u001b[39minputs) \u001b[39m==\u001b[39m \u001b[39m0\u001b[39m:\n",
      "File \u001b[1;32md:\\miniconda3\\envs\\pytorch\\Lib\\site-packages\\skl2onnx\\common\\_topology.py:1254\u001b[0m, in \u001b[0;36mTopology.convert_operators\u001b[1;34m(self, container, verbose)\u001b[0m\n\u001b[0;32m   1251\u001b[0m \u001b[39mfor\u001b[39;00m variable \u001b[39min\u001b[39;00m operator\u001b[39m.\u001b[39moutputs:\n\u001b[0;32m   1252\u001b[0m     _check_variable_out_(variable, operator)\n\u001b[1;32m-> 1254\u001b[0m \u001b[39mself\u001b[39;49m\u001b[39m.\u001b[39;49mcall_shape_calculator(operator)\n\u001b[0;32m   1255\u001b[0m \u001b[39mself\u001b[39m\u001b[39m.\u001b[39mcall_converter(operator, container, verbose\u001b[39m=\u001b[39mverbose)\n\u001b[0;32m   1257\u001b[0m \u001b[39m# If an operator contains a sequence of operators,\u001b[39;00m\n\u001b[0;32m   1258\u001b[0m \u001b[39m# output variables are not necessarily known at this stage.\u001b[39;00m\n",
      "File \u001b[1;32md:\\miniconda3\\envs\\pytorch\\Lib\\site-packages\\skl2onnx\\common\\_topology.py:1090\u001b[0m, in \u001b[0;36mTopology.call_shape_calculator\u001b[1;34m(self, operator)\u001b[0m\n\u001b[0;32m   1088\u001b[0m \u001b[39melse\u001b[39;00m:\n\u001b[0;32m   1089\u001b[0m     logger\u001b[39m.\u001b[39mdebug(\u001b[39m'\u001b[39m\u001b[39m[Shape2] call infer_types for \u001b[39m\u001b[39m%r\u001b[39;00m\u001b[39m'\u001b[39m, operator)\n\u001b[1;32m-> 1090\u001b[0m     operator\u001b[39m.\u001b[39;49minfer_types()\n",
      "File \u001b[1;32md:\\miniconda3\\envs\\pytorch\\Lib\\site-packages\\skl2onnx\\common\\_topology.py:588\u001b[0m, in \u001b[0;36mOperator.infer_types\u001b[1;34m(self)\u001b[0m\n\u001b[0;32m    585\u001b[0m \u001b[39mdef\u001b[39;00m \u001b[39minfer_types\u001b[39m(\u001b[39mself\u001b[39m):\n\u001b[0;32m    586\u001b[0m     \u001b[39m# Invoke a core inference function\u001b[39;00m\n\u001b[0;32m    587\u001b[0m     \u001b[39mif\u001b[39;00m \u001b[39mself\u001b[39m\u001b[39m.\u001b[39mtype \u001b[39mis\u001b[39;00m \u001b[39mNone\u001b[39;00m:\n\u001b[1;32m--> 588\u001b[0m         \u001b[39mraise\u001b[39;00m MissingShapeCalculator(\n\u001b[0;32m    589\u001b[0m             \u001b[39m\"\u001b[39m\u001b[39mUnable to find a shape calculator for type \u001b[39m\u001b[39m'\u001b[39m\u001b[39m{}\u001b[39;00m\u001b[39m'\u001b[39m\u001b[39m.\u001b[39m\u001b[39m\"\u001b[39m\u001b[39m.\u001b[39mformat(\n\u001b[0;32m    590\u001b[0m                 \u001b[39mtype\u001b[39m(\u001b[39mself\u001b[39m\u001b[39m.\u001b[39mraw_operator)))\n\u001b[0;32m    591\u001b[0m     \u001b[39mtry\u001b[39;00m:\n\u001b[0;32m    592\u001b[0m         shape_calc \u001b[39m=\u001b[39m _registration\u001b[39m.\u001b[39mget_shape_calculator(\u001b[39mself\u001b[39m\u001b[39m.\u001b[39mtype)\n",
      "\u001b[1;31mMissingShapeCalculator\u001b[0m: Unable to find a shape calculator for type '<class 'xgboost.sklearn.XGBClassifier'>'.\nIt usually means the pipeline being converted contains a\ntransformer or a predictor with no corresponding converter\nimplemented in sklearn-onnx. If the converted is implemented\nin another library, you need to register\nthe converted so that it can be used by sklearn-onnx (function\nupdate_registered_converter). If the model is not yet covered\nby sklearn-onnx, you may raise an issue to\nhttps://github.com/onnx/sklearn-onnx/issues\nto get the converter implemented or even contribute to the\nproject. If the model is a custom model, a new converter must\nbe implemented. Examples can be found in the gallery.\n"
     ]
    }
   ],
   "source": [
    "initial_type = [('input', FloatTensorType([1, 13]))]\n",
    "onx = convert_sklearn(xgbc, initial_types=initial_type, target_opset=18)\n",
    "with open(\"XGBClassifier.onnx\", \"wb\") as f:\n",
    "    f.write(onx.SerializeToString())"
   ]
  },
  {
   "attachments": {},
   "cell_type": "markdown",
   "metadata": {},
   "source": [
    "# LGBMClassifier"
   ]
  },
  {
   "cell_type": "code",
   "execution_count": 122,
   "metadata": {},
   "outputs": [],
   "source": [
    "from lightgbm import LGBMClassifier"
   ]
  },
  {
   "cell_type": "code",
   "execution_count": 123,
   "metadata": {},
   "outputs": [
    {
     "data": {
      "text/html": [
       "<style>#sk-container-id-15 {color: black;background-color: white;}#sk-container-id-15 pre{padding: 0;}#sk-container-id-15 div.sk-toggleable {background-color: white;}#sk-container-id-15 label.sk-toggleable__label {cursor: pointer;display: block;width: 100%;margin-bottom: 0;padding: 0.3em;box-sizing: border-box;text-align: center;}#sk-container-id-15 label.sk-toggleable__label-arrow:before {content: \"▸\";float: left;margin-right: 0.25em;color: #696969;}#sk-container-id-15 label.sk-toggleable__label-arrow:hover:before {color: black;}#sk-container-id-15 div.sk-estimator:hover label.sk-toggleable__label-arrow:before {color: black;}#sk-container-id-15 div.sk-toggleable__content {max-height: 0;max-width: 0;overflow: hidden;text-align: left;background-color: #f0f8ff;}#sk-container-id-15 div.sk-toggleable__content pre {margin: 0.2em;color: black;border-radius: 0.25em;background-color: #f0f8ff;}#sk-container-id-15 input.sk-toggleable__control:checked~div.sk-toggleable__content {max-height: 200px;max-width: 100%;overflow: auto;}#sk-container-id-15 input.sk-toggleable__control:checked~label.sk-toggleable__label-arrow:before {content: \"▾\";}#sk-container-id-15 div.sk-estimator input.sk-toggleable__control:checked~label.sk-toggleable__label {background-color: #d4ebff;}#sk-container-id-15 div.sk-label input.sk-toggleable__control:checked~label.sk-toggleable__label {background-color: #d4ebff;}#sk-container-id-15 input.sk-hidden--visually {border: 0;clip: rect(1px 1px 1px 1px);clip: rect(1px, 1px, 1px, 1px);height: 1px;margin: -1px;overflow: hidden;padding: 0;position: absolute;width: 1px;}#sk-container-id-15 div.sk-estimator {font-family: monospace;background-color: #f0f8ff;border: 1px dotted black;border-radius: 0.25em;box-sizing: border-box;margin-bottom: 0.5em;}#sk-container-id-15 div.sk-estimator:hover {background-color: #d4ebff;}#sk-container-id-15 div.sk-parallel-item::after {content: \"\";width: 100%;border-bottom: 1px solid gray;flex-grow: 1;}#sk-container-id-15 div.sk-label:hover label.sk-toggleable__label {background-color: #d4ebff;}#sk-container-id-15 div.sk-serial::before {content: \"\";position: absolute;border-left: 1px solid gray;box-sizing: border-box;top: 0;bottom: 0;left: 50%;z-index: 0;}#sk-container-id-15 div.sk-serial {display: flex;flex-direction: column;align-items: center;background-color: white;padding-right: 0.2em;padding-left: 0.2em;position: relative;}#sk-container-id-15 div.sk-item {position: relative;z-index: 1;}#sk-container-id-15 div.sk-parallel {display: flex;align-items: stretch;justify-content: center;background-color: white;position: relative;}#sk-container-id-15 div.sk-item::before, #sk-container-id-15 div.sk-parallel-item::before {content: \"\";position: absolute;border-left: 1px solid gray;box-sizing: border-box;top: 0;bottom: 0;left: 50%;z-index: -1;}#sk-container-id-15 div.sk-parallel-item {display: flex;flex-direction: column;z-index: 1;position: relative;background-color: white;}#sk-container-id-15 div.sk-parallel-item:first-child::after {align-self: flex-end;width: 50%;}#sk-container-id-15 div.sk-parallel-item:last-child::after {align-self: flex-start;width: 50%;}#sk-container-id-15 div.sk-parallel-item:only-child::after {width: 0;}#sk-container-id-15 div.sk-dashed-wrapped {border: 1px dashed gray;margin: 0 0.4em 0.5em 0.4em;box-sizing: border-box;padding-bottom: 0.4em;background-color: white;}#sk-container-id-15 div.sk-label label {font-family: monospace;font-weight: bold;display: inline-block;line-height: 1.2em;}#sk-container-id-15 div.sk-label-container {text-align: center;}#sk-container-id-15 div.sk-container {/* jupyter's `normalize.less` sets `[hidden] { display: none; }` but bootstrap.min.css set `[hidden] { display: none !important; }` so we also need the `!important` here to be able to override the default hidden behavior on the sphinx rendered scikit-learn.org. See: https://github.com/scikit-learn/scikit-learn/issues/21755 */display: inline-block !important;position: relative;}#sk-container-id-15 div.sk-text-repr-fallback {display: none;}</style><div id=\"sk-container-id-15\" class=\"sk-top-container\"><div class=\"sk-text-repr-fallback\"><pre>LGBMClassifier()</pre><b>In a Jupyter environment, please rerun this cell to show the HTML representation or trust the notebook. <br />On GitHub, the HTML representation is unable to render, please try loading this page with nbviewer.org.</b></div><div class=\"sk-container\" hidden><div class=\"sk-item\"><div class=\"sk-estimator sk-toggleable\"><input class=\"sk-toggleable__control sk-hidden--visually\" id=\"sk-estimator-id-15\" type=\"checkbox\" checked><label for=\"sk-estimator-id-15\" class=\"sk-toggleable__label sk-toggleable__label-arrow\">LGBMClassifier</label><div class=\"sk-toggleable__content\"><pre>LGBMClassifier()</pre></div></div></div></div></div>"
      ],
      "text/plain": [
       "LGBMClassifier()"
      ]
     },
     "execution_count": 123,
     "metadata": {},
     "output_type": "execute_result"
    }
   ],
   "source": [
    "lgbmc = LGBMClassifier(\n",
    "                       boosting_type = 'gbdt',\n",
    "                       num_leaves = 31,\n",
    "                       max_depth = -1,\n",
    "                       learning_rate = 0.1,\n",
    "                       n_estimators = 100,\n",
    "                       n_jobs = -1,\n",
    "                       )\n",
    "lgbmc"
   ]
  },
  {
   "cell_type": "code",
   "execution_count": 124,
   "metadata": {},
   "outputs": [
    {
     "data": {
      "text/html": [
       "<style>#sk-container-id-16 {color: black;background-color: white;}#sk-container-id-16 pre{padding: 0;}#sk-container-id-16 div.sk-toggleable {background-color: white;}#sk-container-id-16 label.sk-toggleable__label {cursor: pointer;display: block;width: 100%;margin-bottom: 0;padding: 0.3em;box-sizing: border-box;text-align: center;}#sk-container-id-16 label.sk-toggleable__label-arrow:before {content: \"▸\";float: left;margin-right: 0.25em;color: #696969;}#sk-container-id-16 label.sk-toggleable__label-arrow:hover:before {color: black;}#sk-container-id-16 div.sk-estimator:hover label.sk-toggleable__label-arrow:before {color: black;}#sk-container-id-16 div.sk-toggleable__content {max-height: 0;max-width: 0;overflow: hidden;text-align: left;background-color: #f0f8ff;}#sk-container-id-16 div.sk-toggleable__content pre {margin: 0.2em;color: black;border-radius: 0.25em;background-color: #f0f8ff;}#sk-container-id-16 input.sk-toggleable__control:checked~div.sk-toggleable__content {max-height: 200px;max-width: 100%;overflow: auto;}#sk-container-id-16 input.sk-toggleable__control:checked~label.sk-toggleable__label-arrow:before {content: \"▾\";}#sk-container-id-16 div.sk-estimator input.sk-toggleable__control:checked~label.sk-toggleable__label {background-color: #d4ebff;}#sk-container-id-16 div.sk-label input.sk-toggleable__control:checked~label.sk-toggleable__label {background-color: #d4ebff;}#sk-container-id-16 input.sk-hidden--visually {border: 0;clip: rect(1px 1px 1px 1px);clip: rect(1px, 1px, 1px, 1px);height: 1px;margin: -1px;overflow: hidden;padding: 0;position: absolute;width: 1px;}#sk-container-id-16 div.sk-estimator {font-family: monospace;background-color: #f0f8ff;border: 1px dotted black;border-radius: 0.25em;box-sizing: border-box;margin-bottom: 0.5em;}#sk-container-id-16 div.sk-estimator:hover {background-color: #d4ebff;}#sk-container-id-16 div.sk-parallel-item::after {content: \"\";width: 100%;border-bottom: 1px solid gray;flex-grow: 1;}#sk-container-id-16 div.sk-label:hover label.sk-toggleable__label {background-color: #d4ebff;}#sk-container-id-16 div.sk-serial::before {content: \"\";position: absolute;border-left: 1px solid gray;box-sizing: border-box;top: 0;bottom: 0;left: 50%;z-index: 0;}#sk-container-id-16 div.sk-serial {display: flex;flex-direction: column;align-items: center;background-color: white;padding-right: 0.2em;padding-left: 0.2em;position: relative;}#sk-container-id-16 div.sk-item {position: relative;z-index: 1;}#sk-container-id-16 div.sk-parallel {display: flex;align-items: stretch;justify-content: center;background-color: white;position: relative;}#sk-container-id-16 div.sk-item::before, #sk-container-id-16 div.sk-parallel-item::before {content: \"\";position: absolute;border-left: 1px solid gray;box-sizing: border-box;top: 0;bottom: 0;left: 50%;z-index: -1;}#sk-container-id-16 div.sk-parallel-item {display: flex;flex-direction: column;z-index: 1;position: relative;background-color: white;}#sk-container-id-16 div.sk-parallel-item:first-child::after {align-self: flex-end;width: 50%;}#sk-container-id-16 div.sk-parallel-item:last-child::after {align-self: flex-start;width: 50%;}#sk-container-id-16 div.sk-parallel-item:only-child::after {width: 0;}#sk-container-id-16 div.sk-dashed-wrapped {border: 1px dashed gray;margin: 0 0.4em 0.5em 0.4em;box-sizing: border-box;padding-bottom: 0.4em;background-color: white;}#sk-container-id-16 div.sk-label label {font-family: monospace;font-weight: bold;display: inline-block;line-height: 1.2em;}#sk-container-id-16 div.sk-label-container {text-align: center;}#sk-container-id-16 div.sk-container {/* jupyter's `normalize.less` sets `[hidden] { display: none; }` but bootstrap.min.css set `[hidden] { display: none !important; }` so we also need the `!important` here to be able to override the default hidden behavior on the sphinx rendered scikit-learn.org. See: https://github.com/scikit-learn/scikit-learn/issues/21755 */display: inline-block !important;position: relative;}#sk-container-id-16 div.sk-text-repr-fallback {display: none;}</style><div id=\"sk-container-id-16\" class=\"sk-top-container\"><div class=\"sk-text-repr-fallback\"><pre>LGBMClassifier()</pre><b>In a Jupyter environment, please rerun this cell to show the HTML representation or trust the notebook. <br />On GitHub, the HTML representation is unable to render, please try loading this page with nbviewer.org.</b></div><div class=\"sk-container\" hidden><div class=\"sk-item\"><div class=\"sk-estimator sk-toggleable\"><input class=\"sk-toggleable__control sk-hidden--visually\" id=\"sk-estimator-id-16\" type=\"checkbox\" checked><label for=\"sk-estimator-id-16\" class=\"sk-toggleable__label sk-toggleable__label-arrow\">LGBMClassifier</label><div class=\"sk-toggleable__content\"><pre>LGBMClassifier()</pre></div></div></div></div></div>"
      ],
      "text/plain": [
       "LGBMClassifier()"
      ]
     },
     "execution_count": 124,
     "metadata": {},
     "output_type": "execute_result"
    }
   ],
   "source": [
    "lgbmc.fit(x_train, y_train)"
   ]
  },
  {
   "cell_type": "code",
   "execution_count": 125,
   "metadata": {},
   "outputs": [
    {
     "data": {
      "text/plain": [
       "0.9550561797752809"
      ]
     },
     "execution_count": 125,
     "metadata": {},
     "output_type": "execute_result"
    }
   ],
   "source": [
    "lgbmc.score(x_test, y_test)"
   ]
  },
  {
   "cell_type": "code",
   "execution_count": 126,
   "metadata": {},
   "outputs": [],
   "source": [
    "y_pred4 = lgbmc.predict(x_test)"
   ]
  },
  {
   "cell_type": "code",
   "execution_count": 127,
   "metadata": {},
   "outputs": [
    {
     "data": {
      "text/plain": [
       "0.9550561797752809"
      ]
     },
     "execution_count": 127,
     "metadata": {},
     "output_type": "execute_result"
    }
   ],
   "source": [
    "accuracy_score(y_test, y_pred4)"
   ]
  },
  {
   "cell_type": "code",
   "execution_count": 128,
   "metadata": {},
   "outputs": [
    {
     "data": {
      "text/plain": [
       "array([[9.99983903e-01, 1.44050356e-05, 1.69173320e-06],\n",
       "       [1.01774995e-05, 6.47406331e-05, 9.99925082e-01],\n",
       "       [8.19320054e-04, 9.99162705e-01, 1.79751479e-05],\n",
       "       [9.99975379e-01, 2.08468321e-05, 3.77390912e-06],\n",
       "       [1.47872969e-02, 9.72535380e-01, 1.26773234e-02],\n",
       "       [2.27024911e-01, 7.65068311e-01, 7.90677850e-03],\n",
       "       [9.99994178e-01, 2.56793484e-06, 3.25438970e-06],\n",
       "       [1.00539431e-06, 1.38527043e-04, 9.99860468e-01],\n",
       "       [3.06595125e-05, 9.99954215e-01, 1.51259405e-05],\n",
       "       [2.89965829e-06, 9.99989070e-01, 8.02989712e-06]])"
      ]
     },
     "execution_count": 128,
     "metadata": {},
     "output_type": "execute_result"
    }
   ],
   "source": [
    "y_pred_proba4 = lgbmc.predict_proba(x_test)\n",
    "y_pred_proba4[:10]"
   ]
  },
  {
   "cell_type": "code",
   "execution_count": 129,
   "metadata": {},
   "outputs": [
    {
     "data": {
      "text/plain": [
       "0.09501537268919868"
      ]
     },
     "execution_count": 129,
     "metadata": {},
     "output_type": "execute_result"
    }
   ],
   "source": [
    "log_loss(y_test, y_pred_proba4)"
   ]
  },
  {
   "cell_type": "code",
   "execution_count": 130,
   "metadata": {},
   "outputs": [
    {
     "ename": "MissingShapeCalculator",
     "evalue": "Unable to find a shape calculator for type '<class 'lightgbm.sklearn.LGBMClassifier'>'.\nIt usually means the pipeline being converted contains a\ntransformer or a predictor with no corresponding converter\nimplemented in sklearn-onnx. If the converted is implemented\nin another library, you need to register\nthe converted so that it can be used by sklearn-onnx (function\nupdate_registered_converter). If the model is not yet covered\nby sklearn-onnx, you may raise an issue to\nhttps://github.com/onnx/sklearn-onnx/issues\nto get the converter implemented or even contribute to the\nproject. If the model is a custom model, a new converter must\nbe implemented. Examples can be found in the gallery.\n",
     "output_type": "error",
     "traceback": [
      "\u001b[1;31m---------------------------------------------------------------------------\u001b[0m",
      "\u001b[1;31mMissingShapeCalculator\u001b[0m                    Traceback (most recent call last)",
      "Cell \u001b[1;32mIn[130], line 2\u001b[0m\n\u001b[0;32m      1\u001b[0m initial_type \u001b[39m=\u001b[39m [(\u001b[39m'\u001b[39m\u001b[39minput\u001b[39m\u001b[39m'\u001b[39m, FloatTensorType([\u001b[39m1\u001b[39m, \u001b[39m13\u001b[39m]))]\n\u001b[1;32m----> 2\u001b[0m onx \u001b[39m=\u001b[39m convert_sklearn(lgbmc, initial_types\u001b[39m=\u001b[39;49minitial_type, target_opset\u001b[39m=\u001b[39;49m\u001b[39m18\u001b[39;49m)\n\u001b[0;32m      3\u001b[0m \u001b[39mwith\u001b[39;00m \u001b[39mopen\u001b[39m(\u001b[39m\"\u001b[39m\u001b[39mLGBMClassifier.onnx\u001b[39m\u001b[39m\"\u001b[39m, \u001b[39m\"\u001b[39m\u001b[39mwb\u001b[39m\u001b[39m\"\u001b[39m) \u001b[39mas\u001b[39;00m f:\n\u001b[0;32m      4\u001b[0m     f\u001b[39m.\u001b[39mwrite(onx\u001b[39m.\u001b[39mSerializeToString())\n",
      "File \u001b[1;32md:\\miniconda3\\envs\\pytorch\\Lib\\site-packages\\skl2onnx\\convert.py:188\u001b[0m, in \u001b[0;36mconvert_sklearn\u001b[1;34m(model, name, initial_types, doc_string, target_opset, custom_conversion_functions, custom_shape_calculators, custom_parsers, options, intermediate, white_op, black_op, final_types, dtype, naming, model_optim, verbose)\u001b[0m\n\u001b[0;32m    186\u001b[0m \u001b[39mif\u001b[39;00m verbose \u001b[39m>\u001b[39m\u001b[39m=\u001b[39m \u001b[39m1\u001b[39m:\n\u001b[0;32m    187\u001b[0m     \u001b[39mprint\u001b[39m(\u001b[39m\"\u001b[39m\u001b[39m[convert_sklearn] convert_topology\u001b[39m\u001b[39m\"\u001b[39m)\n\u001b[1;32m--> 188\u001b[0m onnx_model \u001b[39m=\u001b[39m convert_topology(\n\u001b[0;32m    189\u001b[0m     topology, name, doc_string, target_opset, options\u001b[39m=\u001b[39;49moptions,\n\u001b[0;32m    190\u001b[0m     remove_identity\u001b[39m=\u001b[39;49mmodel_optim \u001b[39mand\u001b[39;49;00m \u001b[39mnot\u001b[39;49;00m intermediate, verbose\u001b[39m=\u001b[39;49mverbose)\n\u001b[0;32m    191\u001b[0m \u001b[39mif\u001b[39;00m verbose \u001b[39m>\u001b[39m\u001b[39m=\u001b[39m \u001b[39m1\u001b[39m:\n\u001b[0;32m    192\u001b[0m     \u001b[39mprint\u001b[39m(\u001b[39m\"\u001b[39m\u001b[39m[convert_sklearn] end\u001b[39m\u001b[39m\"\u001b[39m)\n",
      "File \u001b[1;32md:\\miniconda3\\envs\\pytorch\\Lib\\site-packages\\skl2onnx\\common\\_topology.py:1420\u001b[0m, in \u001b[0;36mconvert_topology\u001b[1;34m(topology, model_name, doc_string, target_opset, channel_first_inputs, options, remove_identity, verbose)\u001b[0m\n\u001b[0;32m   1411\u001b[0m container \u001b[39m=\u001b[39m ModelComponentContainer(\n\u001b[0;32m   1412\u001b[0m     target_opset, options\u001b[39m=\u001b[39moptions,\n\u001b[0;32m   1413\u001b[0m     registered_models\u001b[39m=\u001b[39mtopology\u001b[39m.\u001b[39mregistered_models,\n\u001b[0;32m   1414\u001b[0m     white_op\u001b[39m=\u001b[39mtopology\u001b[39m.\u001b[39mraw_model\u001b[39m.\u001b[39m_white_op,\n\u001b[0;32m   1415\u001b[0m     black_op\u001b[39m=\u001b[39mtopology\u001b[39m.\u001b[39mraw_model\u001b[39m.\u001b[39m_black_op,\n\u001b[0;32m   1416\u001b[0m     verbose\u001b[39m=\u001b[39mverbose)\n\u001b[0;32m   1418\u001b[0m \u001b[39m# Traverse the graph from roots to leaves\u001b[39;00m\n\u001b[0;32m   1419\u001b[0m \u001b[39m# This loop could eventually be parallelized.\u001b[39;00m\n\u001b[1;32m-> 1420\u001b[0m topology\u001b[39m.\u001b[39;49mconvert_operators(container\u001b[39m=\u001b[39;49mcontainer, verbose\u001b[39m=\u001b[39;49mverbose)\n\u001b[0;32m   1421\u001b[0m container\u001b[39m.\u001b[39mensure_topological_order()\n\u001b[0;32m   1423\u001b[0m \u001b[39mif\u001b[39;00m \u001b[39mlen\u001b[39m(container\u001b[39m.\u001b[39minputs) \u001b[39m==\u001b[39m \u001b[39m0\u001b[39m:\n",
      "File \u001b[1;32md:\\miniconda3\\envs\\pytorch\\Lib\\site-packages\\skl2onnx\\common\\_topology.py:1254\u001b[0m, in \u001b[0;36mTopology.convert_operators\u001b[1;34m(self, container, verbose)\u001b[0m\n\u001b[0;32m   1251\u001b[0m \u001b[39mfor\u001b[39;00m variable \u001b[39min\u001b[39;00m operator\u001b[39m.\u001b[39moutputs:\n\u001b[0;32m   1252\u001b[0m     _check_variable_out_(variable, operator)\n\u001b[1;32m-> 1254\u001b[0m \u001b[39mself\u001b[39;49m\u001b[39m.\u001b[39;49mcall_shape_calculator(operator)\n\u001b[0;32m   1255\u001b[0m \u001b[39mself\u001b[39m\u001b[39m.\u001b[39mcall_converter(operator, container, verbose\u001b[39m=\u001b[39mverbose)\n\u001b[0;32m   1257\u001b[0m \u001b[39m# If an operator contains a sequence of operators,\u001b[39;00m\n\u001b[0;32m   1258\u001b[0m \u001b[39m# output variables are not necessarily known at this stage.\u001b[39;00m\n",
      "File \u001b[1;32md:\\miniconda3\\envs\\pytorch\\Lib\\site-packages\\skl2onnx\\common\\_topology.py:1090\u001b[0m, in \u001b[0;36mTopology.call_shape_calculator\u001b[1;34m(self, operator)\u001b[0m\n\u001b[0;32m   1088\u001b[0m \u001b[39melse\u001b[39;00m:\n\u001b[0;32m   1089\u001b[0m     logger\u001b[39m.\u001b[39mdebug(\u001b[39m'\u001b[39m\u001b[39m[Shape2] call infer_types for \u001b[39m\u001b[39m%r\u001b[39;00m\u001b[39m'\u001b[39m, operator)\n\u001b[1;32m-> 1090\u001b[0m     operator\u001b[39m.\u001b[39;49minfer_types()\n",
      "File \u001b[1;32md:\\miniconda3\\envs\\pytorch\\Lib\\site-packages\\skl2onnx\\common\\_topology.py:588\u001b[0m, in \u001b[0;36mOperator.infer_types\u001b[1;34m(self)\u001b[0m\n\u001b[0;32m    585\u001b[0m \u001b[39mdef\u001b[39;00m \u001b[39minfer_types\u001b[39m(\u001b[39mself\u001b[39m):\n\u001b[0;32m    586\u001b[0m     \u001b[39m# Invoke a core inference function\u001b[39;00m\n\u001b[0;32m    587\u001b[0m     \u001b[39mif\u001b[39;00m \u001b[39mself\u001b[39m\u001b[39m.\u001b[39mtype \u001b[39mis\u001b[39;00m \u001b[39mNone\u001b[39;00m:\n\u001b[1;32m--> 588\u001b[0m         \u001b[39mraise\u001b[39;00m MissingShapeCalculator(\n\u001b[0;32m    589\u001b[0m             \u001b[39m\"\u001b[39m\u001b[39mUnable to find a shape calculator for type \u001b[39m\u001b[39m'\u001b[39m\u001b[39m{}\u001b[39;00m\u001b[39m'\u001b[39m\u001b[39m.\u001b[39m\u001b[39m\"\u001b[39m\u001b[39m.\u001b[39mformat(\n\u001b[0;32m    590\u001b[0m                 \u001b[39mtype\u001b[39m(\u001b[39mself\u001b[39m\u001b[39m.\u001b[39mraw_operator)))\n\u001b[0;32m    591\u001b[0m     \u001b[39mtry\u001b[39;00m:\n\u001b[0;32m    592\u001b[0m         shape_calc \u001b[39m=\u001b[39m _registration\u001b[39m.\u001b[39mget_shape_calculator(\u001b[39mself\u001b[39m\u001b[39m.\u001b[39mtype)\n",
      "\u001b[1;31mMissingShapeCalculator\u001b[0m: Unable to find a shape calculator for type '<class 'lightgbm.sklearn.LGBMClassifier'>'.\nIt usually means the pipeline being converted contains a\ntransformer or a predictor with no corresponding converter\nimplemented in sklearn-onnx. If the converted is implemented\nin another library, you need to register\nthe converted so that it can be used by sklearn-onnx (function\nupdate_registered_converter). If the model is not yet covered\nby sklearn-onnx, you may raise an issue to\nhttps://github.com/onnx/sklearn-onnx/issues\nto get the converter implemented or even contribute to the\nproject. If the model is a custom model, a new converter must\nbe implemented. Examples can be found in the gallery.\n"
     ]
    }
   ],
   "source": [
    "initial_type = [('input', FloatTensorType([1, 13]))]\n",
    "onx = convert_sklearn(lgbmc, initial_types=initial_type, target_opset=18)\n",
    "with open(\"LGBMClassifier.onnx\", \"wb\") as f:\n",
    "    f.write(onx.SerializeToString())"
   ]
  },
  {
   "attachments": {},
   "cell_type": "markdown",
   "metadata": {},
   "source": [
    "# CatBoostClassifier"
   ]
  },
  {
   "cell_type": "code",
   "execution_count": 131,
   "metadata": {},
   "outputs": [],
   "source": [
    "from catboost import CatBoostClassifier"
   ]
  },
  {
   "cell_type": "code",
   "execution_count": 132,
   "metadata": {},
   "outputs": [
    {
     "data": {
      "text/plain": [
       "<catboost.core.CatBoostClassifier at 0x2d61b7e47d0>"
      ]
     },
     "execution_count": 132,
     "metadata": {},
     "output_type": "execute_result"
    }
   ],
   "source": [
    "cbc = CatBoostClassifier(learning_rate=0.1,)\n",
    "cbc"
   ]
  },
  {
   "cell_type": "code",
   "execution_count": 133,
   "metadata": {},
   "outputs": [
    {
     "name": "stdout",
     "output_type": "stream",
     "text": [
      "0:\tlearn: 1.0234851\ttotal: 1.17ms\tremaining: 1.17s\n",
      "1:\tlearn: 0.9421271\ttotal: 1.94ms\tremaining: 966ms\n",
      "2:\tlearn: 0.8696367\ttotal: 2.71ms\tremaining: 902ms\n",
      "3:\tlearn: 0.8071878\ttotal: 3.41ms\tremaining: 850ms\n",
      "4:\tlearn: 0.7538260\ttotal: 4.15ms\tremaining: 825ms\n",
      "5:\tlearn: 0.6974360\ttotal: 4.89ms\tremaining: 810ms\n",
      "6:\tlearn: 0.6516648\ttotal: 5.63ms\tremaining: 798ms\n",
      "7:\tlearn: 0.6197986\ttotal: 6.64ms\tremaining: 823ms\n",
      "8:\tlearn: 0.5863257\ttotal: 7.55ms\tremaining: 832ms\n",
      "9:\tlearn: 0.5513493\ttotal: 8.37ms\tremaining: 829ms\n",
      "10:\tlearn: 0.5201981\ttotal: 9.45ms\tremaining: 850ms\n",
      "11:\tlearn: 0.4964664\ttotal: 10.6ms\tremaining: 875ms\n",
      "12:\tlearn: 0.4735832\ttotal: 11.4ms\tremaining: 863ms\n",
      "13:\tlearn: 0.4470868\ttotal: 12.1ms\tremaining: 851ms\n",
      "14:\tlearn: 0.4220142\ttotal: 12.9ms\tremaining: 847ms\n",
      "15:\tlearn: 0.4025320\ttotal: 13.9ms\tremaining: 852ms\n",
      "16:\tlearn: 0.3836927\ttotal: 14.7ms\tremaining: 850ms\n",
      "17:\tlearn: 0.3669561\ttotal: 15.6ms\tremaining: 850ms\n",
      "18:\tlearn: 0.3485105\ttotal: 16.5ms\tremaining: 850ms\n",
      "19:\tlearn: 0.3331025\ttotal: 17.3ms\tremaining: 848ms\n",
      "20:\tlearn: 0.3172003\ttotal: 18.1ms\tremaining: 842ms\n",
      "21:\tlearn: 0.3026903\ttotal: 19ms\tremaining: 846ms\n",
      "22:\tlearn: 0.2922593\ttotal: 21.5ms\tremaining: 911ms\n",
      "23:\tlearn: 0.2829081\ttotal: 23ms\tremaining: 936ms\n",
      "24:\tlearn: 0.2705362\ttotal: 23.9ms\tremaining: 932ms\n",
      "25:\tlearn: 0.2611353\ttotal: 25.1ms\tremaining: 939ms\n",
      "26:\tlearn: 0.2541896\ttotal: 25.9ms\tremaining: 933ms\n",
      "27:\tlearn: 0.2472650\ttotal: 26.8ms\tremaining: 930ms\n",
      "28:\tlearn: 0.2339121\ttotal: 27.7ms\tremaining: 929ms\n",
      "29:\tlearn: 0.2246081\ttotal: 28.7ms\tremaining: 928ms\n",
      "30:\tlearn: 0.2179584\ttotal: 29.9ms\tremaining: 934ms\n",
      "31:\tlearn: 0.2089471\ttotal: 30.8ms\tremaining: 933ms\n",
      "32:\tlearn: 0.2009974\ttotal: 31.8ms\tremaining: 932ms\n",
      "33:\tlearn: 0.1957464\ttotal: 32.7ms\tremaining: 928ms\n",
      "34:\tlearn: 0.1894902\ttotal: 33.4ms\tremaining: 922ms\n",
      "35:\tlearn: 0.1835488\ttotal: 34.2ms\tremaining: 916ms\n",
      "36:\tlearn: 0.1764271\ttotal: 34.9ms\tremaining: 910ms\n",
      "37:\tlearn: 0.1720441\ttotal: 35.7ms\tremaining: 904ms\n",
      "38:\tlearn: 0.1657609\ttotal: 36.8ms\tremaining: 906ms\n",
      "39:\tlearn: 0.1620980\ttotal: 37.9ms\tremaining: 910ms\n",
      "40:\tlearn: 0.1588013\ttotal: 39.2ms\tremaining: 917ms\n",
      "41:\tlearn: 0.1549249\ttotal: 40.4ms\tremaining: 923ms\n",
      "42:\tlearn: 0.1496920\ttotal: 41.6ms\tremaining: 925ms\n",
      "43:\tlearn: 0.1449900\ttotal: 42.5ms\tremaining: 924ms\n",
      "44:\tlearn: 0.1401965\ttotal: 43.5ms\tremaining: 923ms\n",
      "45:\tlearn: 0.1362277\ttotal: 44.4ms\tremaining: 921ms\n",
      "46:\tlearn: 0.1335482\ttotal: 45.4ms\tremaining: 921ms\n",
      "47:\tlearn: 0.1296925\ttotal: 46.3ms\tremaining: 918ms\n",
      "48:\tlearn: 0.1260729\ttotal: 47.1ms\tremaining: 914ms\n",
      "49:\tlearn: 0.1221091\ttotal: 48ms\tremaining: 913ms\n",
      "50:\tlearn: 0.1187692\ttotal: 49ms\tremaining: 913ms\n",
      "51:\tlearn: 0.1163115\ttotal: 49.8ms\tremaining: 908ms\n",
      "52:\tlearn: 0.1137206\ttotal: 50.6ms\tremaining: 904ms\n",
      "53:\tlearn: 0.1113111\ttotal: 51.5ms\tremaining: 903ms\n",
      "54:\tlearn: 0.1085526\ttotal: 52.4ms\tremaining: 900ms\n",
      "55:\tlearn: 0.1059909\ttotal: 53.1ms\tremaining: 896ms\n",
      "56:\tlearn: 0.1038936\ttotal: 53.9ms\tremaining: 892ms\n",
      "57:\tlearn: 0.1022489\ttotal: 54.9ms\tremaining: 891ms\n",
      "58:\tlearn: 0.1002407\ttotal: 55.8ms\tremaining: 890ms\n",
      "59:\tlearn: 0.0977603\ttotal: 56.6ms\tremaining: 886ms\n",
      "60:\tlearn: 0.0955656\ttotal: 57.4ms\tremaining: 883ms\n",
      "61:\tlearn: 0.0942625\ttotal: 58.2ms\tremaining: 880ms\n",
      "62:\tlearn: 0.0919999\ttotal: 59ms\tremaining: 878ms\n",
      "63:\tlearn: 0.0901359\ttotal: 59.8ms\tremaining: 875ms\n",
      "64:\tlearn: 0.0880166\ttotal: 60.6ms\tremaining: 871ms\n",
      "65:\tlearn: 0.0858451\ttotal: 61.4ms\tremaining: 869ms\n",
      "66:\tlearn: 0.0837940\ttotal: 62.2ms\tremaining: 866ms\n",
      "67:\tlearn: 0.0824617\ttotal: 63ms\tremaining: 864ms\n",
      "68:\tlearn: 0.0811060\ttotal: 63.8ms\tremaining: 861ms\n",
      "69:\tlearn: 0.0790555\ttotal: 64.6ms\tremaining: 858ms\n",
      "70:\tlearn: 0.0774076\ttotal: 65.3ms\tremaining: 855ms\n",
      "71:\tlearn: 0.0759823\ttotal: 66ms\tremaining: 851ms\n",
      "72:\tlearn: 0.0746190\ttotal: 66.8ms\tremaining: 848ms\n",
      "73:\tlearn: 0.0730309\ttotal: 67.7ms\tremaining: 848ms\n",
      "74:\tlearn: 0.0717405\ttotal: 68.8ms\tremaining: 849ms\n",
      "75:\tlearn: 0.0707393\ttotal: 69.9ms\tremaining: 850ms\n",
      "76:\tlearn: 0.0696740\ttotal: 71.1ms\tremaining: 852ms\n",
      "77:\tlearn: 0.0685119\ttotal: 71.9ms\tremaining: 850ms\n",
      "78:\tlearn: 0.0673228\ttotal: 72.9ms\tremaining: 849ms\n",
      "79:\tlearn: 0.0658606\ttotal: 73.6ms\tremaining: 846ms\n",
      "80:\tlearn: 0.0646747\ttotal: 74.4ms\tremaining: 844ms\n",
      "81:\tlearn: 0.0638754\ttotal: 75.3ms\tremaining: 843ms\n",
      "82:\tlearn: 0.0627903\ttotal: 76.2ms\tremaining: 842ms\n",
      "83:\tlearn: 0.0620130\ttotal: 77ms\tremaining: 840ms\n",
      "84:\tlearn: 0.0609856\ttotal: 77.7ms\tremaining: 837ms\n",
      "85:\tlearn: 0.0600912\ttotal: 78.5ms\tremaining: 835ms\n",
      "86:\tlearn: 0.0594225\ttotal: 79.3ms\tremaining: 832ms\n",
      "87:\tlearn: 0.0586163\ttotal: 80.1ms\tremaining: 830ms\n",
      "88:\tlearn: 0.0577473\ttotal: 80.8ms\tremaining: 827ms\n",
      "89:\tlearn: 0.0569943\ttotal: 81.5ms\tremaining: 824ms\n",
      "90:\tlearn: 0.0563451\ttotal: 82.2ms\tremaining: 821ms\n",
      "91:\tlearn: 0.0557166\ttotal: 83.1ms\tremaining: 820ms\n",
      "92:\tlearn: 0.0551886\ttotal: 83.9ms\tremaining: 818ms\n",
      "93:\tlearn: 0.0541500\ttotal: 84.6ms\tremaining: 816ms\n",
      "94:\tlearn: 0.0536575\ttotal: 85.4ms\tremaining: 814ms\n",
      "95:\tlearn: 0.0529896\ttotal: 86.2ms\tremaining: 812ms\n",
      "96:\tlearn: 0.0524034\ttotal: 87ms\tremaining: 810ms\n",
      "97:\tlearn: 0.0519133\ttotal: 87.7ms\tremaining: 807ms\n",
      "98:\tlearn: 0.0513116\ttotal: 88.5ms\tremaining: 806ms\n",
      "99:\tlearn: 0.0506830\ttotal: 89.4ms\tremaining: 805ms\n",
      "100:\tlearn: 0.0500534\ttotal: 90.3ms\tremaining: 804ms\n",
      "101:\tlearn: 0.0494077\ttotal: 91ms\tremaining: 801ms\n",
      "102:\tlearn: 0.0488790\ttotal: 91.7ms\tremaining: 799ms\n",
      "103:\tlearn: 0.0479486\ttotal: 92.2ms\tremaining: 795ms\n",
      "104:\tlearn: 0.0474374\ttotal: 92.9ms\tremaining: 792ms\n",
      "105:\tlearn: 0.0469024\ttotal: 93.7ms\tremaining: 790ms\n",
      "106:\tlearn: 0.0463663\ttotal: 94.4ms\tremaining: 788ms\n",
      "107:\tlearn: 0.0458061\ttotal: 95.2ms\tremaining: 786ms\n",
      "108:\tlearn: 0.0452533\ttotal: 95.9ms\tremaining: 784ms\n",
      "109:\tlearn: 0.0447156\ttotal: 96.6ms\tremaining: 781ms\n",
      "110:\tlearn: 0.0442484\ttotal: 97.3ms\tremaining: 779ms\n",
      "111:\tlearn: 0.0437373\ttotal: 98.1ms\tremaining: 778ms\n",
      "112:\tlearn: 0.0433075\ttotal: 98.8ms\tremaining: 775ms\n",
      "113:\tlearn: 0.0427675\ttotal: 99.5ms\tremaining: 773ms\n",
      "114:\tlearn: 0.0423951\ttotal: 100ms\tremaining: 771ms\n",
      "115:\tlearn: 0.0418976\ttotal: 101ms\tremaining: 771ms\n",
      "116:\tlearn: 0.0415426\ttotal: 102ms\tremaining: 769ms\n",
      "117:\tlearn: 0.0411981\ttotal: 103ms\tremaining: 767ms\n",
      "118:\tlearn: 0.0407919\ttotal: 103ms\tremaining: 766ms\n",
      "119:\tlearn: 0.0403830\ttotal: 104ms\tremaining: 764ms\n",
      "120:\tlearn: 0.0399569\ttotal: 105ms\tremaining: 763ms\n",
      "121:\tlearn: 0.0393599\ttotal: 106ms\tremaining: 759ms\n",
      "122:\tlearn: 0.0389888\ttotal: 106ms\tremaining: 759ms\n",
      "123:\tlearn: 0.0386641\ttotal: 107ms\tremaining: 757ms\n",
      "124:\tlearn: 0.0383259\ttotal: 108ms\tremaining: 755ms\n",
      "125:\tlearn: 0.0380074\ttotal: 109ms\tremaining: 753ms\n",
      "126:\tlearn: 0.0377012\ttotal: 109ms\tremaining: 751ms\n",
      "127:\tlearn: 0.0373435\ttotal: 110ms\tremaining: 749ms\n",
      "128:\tlearn: 0.0368976\ttotal: 111ms\tremaining: 748ms\n",
      "129:\tlearn: 0.0365207\ttotal: 111ms\tremaining: 745ms\n",
      "130:\tlearn: 0.0362382\ttotal: 112ms\tremaining: 745ms\n",
      "131:\tlearn: 0.0359183\ttotal: 113ms\tremaining: 745ms\n",
      "132:\tlearn: 0.0355812\ttotal: 114ms\tremaining: 744ms\n",
      "133:\tlearn: 0.0352293\ttotal: 115ms\tremaining: 743ms\n",
      "134:\tlearn: 0.0348879\ttotal: 116ms\tremaining: 741ms\n",
      "135:\tlearn: 0.0345268\ttotal: 116ms\tremaining: 739ms\n",
      "136:\tlearn: 0.0341360\ttotal: 117ms\tremaining: 739ms\n",
      "137:\tlearn: 0.0338258\ttotal: 118ms\tremaining: 739ms\n",
      "138:\tlearn: 0.0334851\ttotal: 119ms\tremaining: 737ms\n",
      "139:\tlearn: 0.0331698\ttotal: 120ms\tremaining: 736ms\n",
      "140:\tlearn: 0.0328950\ttotal: 121ms\tremaining: 736ms\n",
      "141:\tlearn: 0.0325020\ttotal: 122ms\tremaining: 734ms\n",
      "142:\tlearn: 0.0322174\ttotal: 122ms\tremaining: 733ms\n",
      "143:\tlearn: 0.0319956\ttotal: 123ms\tremaining: 731ms\n",
      "144:\tlearn: 0.0316436\ttotal: 124ms\tremaining: 729ms\n",
      "145:\tlearn: 0.0314162\ttotal: 124ms\tremaining: 727ms\n",
      "146:\tlearn: 0.0311385\ttotal: 125ms\tremaining: 726ms\n",
      "147:\tlearn: 0.0308843\ttotal: 126ms\tremaining: 724ms\n",
      "148:\tlearn: 0.0305446\ttotal: 127ms\tremaining: 723ms\n",
      "149:\tlearn: 0.0299466\ttotal: 127ms\tremaining: 719ms\n",
      "150:\tlearn: 0.0296976\ttotal: 128ms\tremaining: 720ms\n",
      "151:\tlearn: 0.0294118\ttotal: 129ms\tremaining: 719ms\n",
      "152:\tlearn: 0.0291521\ttotal: 130ms\tremaining: 717ms\n",
      "153:\tlearn: 0.0289415\ttotal: 130ms\tremaining: 716ms\n",
      "154:\tlearn: 0.0286272\ttotal: 131ms\tremaining: 715ms\n",
      "155:\tlearn: 0.0284140\ttotal: 132ms\tremaining: 714ms\n",
      "156:\tlearn: 0.0282215\ttotal: 133ms\tremaining: 714ms\n",
      "157:\tlearn: 0.0280299\ttotal: 134ms\tremaining: 713ms\n",
      "158:\tlearn: 0.0278675\ttotal: 135ms\tremaining: 712ms\n",
      "159:\tlearn: 0.0276338\ttotal: 136ms\tremaining: 711ms\n",
      "160:\tlearn: 0.0274346\ttotal: 136ms\tremaining: 711ms\n",
      "161:\tlearn: 0.0272428\ttotal: 137ms\tremaining: 709ms\n",
      "162:\tlearn: 0.0270456\ttotal: 138ms\tremaining: 708ms\n",
      "163:\tlearn: 0.0268541\ttotal: 139ms\tremaining: 706ms\n",
      "164:\tlearn: 0.0266594\ttotal: 139ms\tremaining: 705ms\n",
      "165:\tlearn: 0.0264642\ttotal: 140ms\tremaining: 704ms\n",
      "166:\tlearn: 0.0262628\ttotal: 141ms\tremaining: 703ms\n",
      "167:\tlearn: 0.0260981\ttotal: 142ms\tremaining: 703ms\n",
      "168:\tlearn: 0.0259032\ttotal: 143ms\tremaining: 701ms\n",
      "169:\tlearn: 0.0257370\ttotal: 144ms\tremaining: 701ms\n",
      "170:\tlearn: 0.0254375\ttotal: 144ms\tremaining: 698ms\n",
      "171:\tlearn: 0.0252779\ttotal: 145ms\tremaining: 697ms\n",
      "172:\tlearn: 0.0251064\ttotal: 146ms\tremaining: 697ms\n",
      "173:\tlearn: 0.0249228\ttotal: 147ms\tremaining: 696ms\n",
      "174:\tlearn: 0.0248144\ttotal: 148ms\tremaining: 697ms\n",
      "175:\tlearn: 0.0245944\ttotal: 149ms\tremaining: 696ms\n",
      "176:\tlearn: 0.0242313\ttotal: 149ms\tremaining: 693ms\n",
      "177:\tlearn: 0.0240835\ttotal: 150ms\tremaining: 692ms\n",
      "178:\tlearn: 0.0239394\ttotal: 151ms\tremaining: 692ms\n",
      "179:\tlearn: 0.0238027\ttotal: 152ms\tremaining: 691ms\n",
      "180:\tlearn: 0.0236148\ttotal: 152ms\tremaining: 689ms\n",
      "181:\tlearn: 0.0234643\ttotal: 153ms\tremaining: 689ms\n",
      "182:\tlearn: 0.0232991\ttotal: 154ms\tremaining: 688ms\n",
      "183:\tlearn: 0.0231652\ttotal: 155ms\tremaining: 687ms\n",
      "184:\tlearn: 0.0230267\ttotal: 156ms\tremaining: 686ms\n",
      "185:\tlearn: 0.0229055\ttotal: 157ms\tremaining: 686ms\n",
      "186:\tlearn: 0.0227867\ttotal: 158ms\tremaining: 687ms\n",
      "187:\tlearn: 0.0226364\ttotal: 159ms\tremaining: 687ms\n",
      "188:\tlearn: 0.0225267\ttotal: 160ms\tremaining: 686ms\n",
      "189:\tlearn: 0.0223785\ttotal: 161ms\tremaining: 684ms\n",
      "190:\tlearn: 0.0222741\ttotal: 161ms\tremaining: 683ms\n",
      "191:\tlearn: 0.0221535\ttotal: 162ms\tremaining: 682ms\n",
      "192:\tlearn: 0.0220009\ttotal: 163ms\tremaining: 682ms\n",
      "193:\tlearn: 0.0218543\ttotal: 164ms\tremaining: 681ms\n",
      "194:\tlearn: 0.0216990\ttotal: 165ms\tremaining: 680ms\n",
      "195:\tlearn: 0.0215650\ttotal: 165ms\tremaining: 679ms\n",
      "196:\tlearn: 0.0214354\ttotal: 166ms\tremaining: 677ms\n",
      "197:\tlearn: 0.0212541\ttotal: 167ms\tremaining: 676ms\n",
      "198:\tlearn: 0.0211193\ttotal: 168ms\tremaining: 676ms\n",
      "199:\tlearn: 0.0209587\ttotal: 169ms\tremaining: 675ms\n",
      "200:\tlearn: 0.0208567\ttotal: 170ms\tremaining: 676ms\n",
      "201:\tlearn: 0.0207711\ttotal: 171ms\tremaining: 675ms\n",
      "202:\tlearn: 0.0206416\ttotal: 172ms\tremaining: 675ms\n",
      "203:\tlearn: 0.0205305\ttotal: 173ms\tremaining: 674ms\n",
      "204:\tlearn: 0.0204362\ttotal: 174ms\tremaining: 673ms\n",
      "205:\tlearn: 0.0203301\ttotal: 175ms\tremaining: 673ms\n",
      "206:\tlearn: 0.0200908\ttotal: 175ms\tremaining: 671ms\n",
      "207:\tlearn: 0.0199510\ttotal: 176ms\tremaining: 670ms\n",
      "208:\tlearn: 0.0198154\ttotal: 177ms\tremaining: 669ms\n",
      "209:\tlearn: 0.0196850\ttotal: 177ms\tremaining: 667ms\n",
      "210:\tlearn: 0.0195937\ttotal: 179ms\tremaining: 668ms\n",
      "211:\tlearn: 0.0194645\ttotal: 180ms\tremaining: 668ms\n",
      "212:\tlearn: 0.0193436\ttotal: 180ms\tremaining: 667ms\n",
      "213:\tlearn: 0.0192491\ttotal: 181ms\tremaining: 666ms\n",
      "214:\tlearn: 0.0191594\ttotal: 182ms\tremaining: 664ms\n",
      "215:\tlearn: 0.0190558\ttotal: 183ms\tremaining: 663ms\n",
      "216:\tlearn: 0.0189397\ttotal: 183ms\tremaining: 662ms\n",
      "217:\tlearn: 0.0188471\ttotal: 185ms\tremaining: 662ms\n",
      "218:\tlearn: 0.0187735\ttotal: 186ms\tremaining: 662ms\n",
      "219:\tlearn: 0.0186924\ttotal: 187ms\tremaining: 661ms\n",
      "220:\tlearn: 0.0185923\ttotal: 187ms\tremaining: 660ms\n",
      "221:\tlearn: 0.0185103\ttotal: 188ms\tremaining: 659ms\n",
      "222:\tlearn: 0.0184109\ttotal: 189ms\tremaining: 658ms\n",
      "223:\tlearn: 0.0183071\ttotal: 190ms\tremaining: 657ms\n",
      "224:\tlearn: 0.0182085\ttotal: 190ms\tremaining: 656ms\n",
      "225:\tlearn: 0.0181104\ttotal: 191ms\tremaining: 654ms\n",
      "226:\tlearn: 0.0180020\ttotal: 192ms\tremaining: 654ms\n",
      "227:\tlearn: 0.0179289\ttotal: 193ms\tremaining: 652ms\n",
      "228:\tlearn: 0.0178582\ttotal: 193ms\tremaining: 651ms\n",
      "229:\tlearn: 0.0177788\ttotal: 194ms\tremaining: 651ms\n",
      "230:\tlearn: 0.0176997\ttotal: 195ms\tremaining: 650ms\n",
      "231:\tlearn: 0.0176220\ttotal: 196ms\tremaining: 650ms\n",
      "232:\tlearn: 0.0175449\ttotal: 197ms\tremaining: 649ms\n",
      "233:\tlearn: 0.0174654\ttotal: 198ms\tremaining: 649ms\n",
      "234:\tlearn: 0.0173717\ttotal: 199ms\tremaining: 648ms\n",
      "235:\tlearn: 0.0171938\ttotal: 200ms\tremaining: 646ms\n",
      "236:\tlearn: 0.0170982\ttotal: 200ms\tremaining: 645ms\n",
      "237:\tlearn: 0.0170063\ttotal: 201ms\tremaining: 644ms\n",
      "238:\tlearn: 0.0169289\ttotal: 202ms\tremaining: 644ms\n",
      "239:\tlearn: 0.0168564\ttotal: 203ms\tremaining: 642ms\n",
      "240:\tlearn: 0.0167931\ttotal: 204ms\tremaining: 641ms\n",
      "241:\tlearn: 0.0166913\ttotal: 204ms\tremaining: 640ms\n",
      "242:\tlearn: 0.0165939\ttotal: 205ms\tremaining: 639ms\n",
      "243:\tlearn: 0.0165337\ttotal: 206ms\tremaining: 638ms\n",
      "244:\tlearn: 0.0164660\ttotal: 207ms\tremaining: 637ms\n",
      "245:\tlearn: 0.0164005\ttotal: 207ms\tremaining: 636ms\n",
      "246:\tlearn: 0.0163262\ttotal: 208ms\tremaining: 635ms\n",
      "247:\tlearn: 0.0162604\ttotal: 209ms\tremaining: 633ms\n",
      "248:\tlearn: 0.0161792\ttotal: 210ms\tremaining: 633ms\n",
      "249:\tlearn: 0.0160246\ttotal: 210ms\tremaining: 631ms\n",
      "250:\tlearn: 0.0159660\ttotal: 211ms\tremaining: 631ms\n",
      "251:\tlearn: 0.0158814\ttotal: 212ms\tremaining: 630ms\n",
      "252:\tlearn: 0.0158156\ttotal: 213ms\tremaining: 629ms\n",
      "253:\tlearn: 0.0157466\ttotal: 214ms\tremaining: 628ms\n",
      "254:\tlearn: 0.0156642\ttotal: 215ms\tremaining: 628ms\n",
      "255:\tlearn: 0.0155181\ttotal: 215ms\tremaining: 626ms\n",
      "256:\tlearn: 0.0154610\ttotal: 216ms\tremaining: 625ms\n",
      "257:\tlearn: 0.0154023\ttotal: 217ms\tremaining: 624ms\n",
      "258:\tlearn: 0.0153391\ttotal: 218ms\tremaining: 623ms\n",
      "259:\tlearn: 0.0152674\ttotal: 218ms\tremaining: 622ms\n",
      "260:\tlearn: 0.0151967\ttotal: 219ms\tremaining: 621ms\n",
      "261:\tlearn: 0.0151308\ttotal: 220ms\tremaining: 620ms\n",
      "262:\tlearn: 0.0150661\ttotal: 221ms\tremaining: 619ms\n",
      "263:\tlearn: 0.0150086\ttotal: 222ms\tremaining: 618ms\n",
      "264:\tlearn: 0.0149108\ttotal: 223ms\tremaining: 617ms\n",
      "265:\tlearn: 0.0148237\ttotal: 223ms\tremaining: 616ms\n",
      "266:\tlearn: 0.0147715\ttotal: 224ms\tremaining: 615ms\n",
      "267:\tlearn: 0.0146999\ttotal: 225ms\tremaining: 615ms\n",
      "268:\tlearn: 0.0146372\ttotal: 226ms\tremaining: 614ms\n",
      "269:\tlearn: 0.0145587\ttotal: 227ms\tremaining: 614ms\n",
      "270:\tlearn: 0.0145111\ttotal: 228ms\tremaining: 613ms\n",
      "271:\tlearn: 0.0144528\ttotal: 229ms\tremaining: 612ms\n",
      "272:\tlearn: 0.0143892\ttotal: 230ms\tremaining: 611ms\n",
      "273:\tlearn: 0.0143228\ttotal: 231ms\tremaining: 611ms\n",
      "274:\tlearn: 0.0142799\ttotal: 231ms\tremaining: 610ms\n",
      "275:\tlearn: 0.0142383\ttotal: 232ms\tremaining: 609ms\n",
      "276:\tlearn: 0.0141964\ttotal: 233ms\tremaining: 608ms\n",
      "277:\tlearn: 0.0141495\ttotal: 234ms\tremaining: 607ms\n",
      "278:\tlearn: 0.0140763\ttotal: 235ms\tremaining: 606ms\n",
      "279:\tlearn: 0.0140176\ttotal: 235ms\tremaining: 605ms\n",
      "280:\tlearn: 0.0139562\ttotal: 236ms\tremaining: 605ms\n",
      "281:\tlearn: 0.0138841\ttotal: 237ms\tremaining: 604ms\n",
      "282:\tlearn: 0.0138219\ttotal: 238ms\tremaining: 603ms\n",
      "283:\tlearn: 0.0137629\ttotal: 239ms\tremaining: 602ms\n",
      "284:\tlearn: 0.0136925\ttotal: 239ms\tremaining: 601ms\n",
      "285:\tlearn: 0.0136432\ttotal: 240ms\tremaining: 600ms\n",
      "286:\tlearn: 0.0135793\ttotal: 241ms\tremaining: 599ms\n",
      "287:\tlearn: 0.0135229\ttotal: 242ms\tremaining: 598ms\n",
      "288:\tlearn: 0.0134753\ttotal: 243ms\tremaining: 598ms\n",
      "289:\tlearn: 0.0134335\ttotal: 244ms\tremaining: 597ms\n",
      "290:\tlearn: 0.0133845\ttotal: 245ms\tremaining: 596ms\n",
      "291:\tlearn: 0.0133340\ttotal: 245ms\tremaining: 595ms\n",
      "292:\tlearn: 0.0132889\ttotal: 246ms\tremaining: 594ms\n",
      "293:\tlearn: 0.0132383\ttotal: 247ms\tremaining: 593ms\n",
      "294:\tlearn: 0.0131876\ttotal: 248ms\tremaining: 592ms\n",
      "295:\tlearn: 0.0131313\ttotal: 248ms\tremaining: 591ms\n",
      "296:\tlearn: 0.0130944\ttotal: 249ms\tremaining: 590ms\n",
      "297:\tlearn: 0.0130563\ttotal: 250ms\tremaining: 589ms\n",
      "298:\tlearn: 0.0130184\ttotal: 251ms\tremaining: 588ms\n",
      "299:\tlearn: 0.0129819\ttotal: 251ms\tremaining: 587ms\n",
      "300:\tlearn: 0.0129407\ttotal: 252ms\tremaining: 586ms\n",
      "301:\tlearn: 0.0129020\ttotal: 253ms\tremaining: 585ms\n",
      "302:\tlearn: 0.0128581\ttotal: 254ms\tremaining: 584ms\n",
      "303:\tlearn: 0.0128158\ttotal: 254ms\tremaining: 583ms\n",
      "304:\tlearn: 0.0127825\ttotal: 255ms\tremaining: 582ms\n",
      "305:\tlearn: 0.0127344\ttotal: 256ms\tremaining: 581ms\n",
      "306:\tlearn: 0.0126739\ttotal: 257ms\tremaining: 580ms\n",
      "307:\tlearn: 0.0126358\ttotal: 258ms\tremaining: 579ms\n",
      "308:\tlearn: 0.0125901\ttotal: 259ms\tremaining: 578ms\n",
      "309:\tlearn: 0.0125536\ttotal: 259ms\tremaining: 577ms\n",
      "310:\tlearn: 0.0125119\ttotal: 260ms\tremaining: 576ms\n",
      "311:\tlearn: 0.0124675\ttotal: 261ms\tremaining: 576ms\n",
      "312:\tlearn: 0.0124145\ttotal: 262ms\tremaining: 576ms\n",
      "313:\tlearn: 0.0123794\ttotal: 263ms\tremaining: 575ms\n",
      "314:\tlearn: 0.0123462\ttotal: 264ms\tremaining: 574ms\n",
      "315:\tlearn: 0.0123002\ttotal: 265ms\tremaining: 573ms\n",
      "316:\tlearn: 0.0121886\ttotal: 265ms\tremaining: 571ms\n",
      "317:\tlearn: 0.0121446\ttotal: 266ms\tremaining: 570ms\n",
      "318:\tlearn: 0.0120881\ttotal: 267ms\tremaining: 569ms\n",
      "319:\tlearn: 0.0120455\ttotal: 268ms\tremaining: 569ms\n",
      "320:\tlearn: 0.0119977\ttotal: 268ms\tremaining: 567ms\n",
      "321:\tlearn: 0.0119547\ttotal: 269ms\tremaining: 567ms\n",
      "322:\tlearn: 0.0119139\ttotal: 270ms\tremaining: 566ms\n",
      "323:\tlearn: 0.0118775\ttotal: 271ms\tremaining: 565ms\n",
      "324:\tlearn: 0.0118384\ttotal: 272ms\tremaining: 564ms\n",
      "325:\tlearn: 0.0118050\ttotal: 273ms\tremaining: 564ms\n",
      "326:\tlearn: 0.0117709\ttotal: 273ms\tremaining: 563ms\n",
      "327:\tlearn: 0.0117371\ttotal: 274ms\tremaining: 562ms\n",
      "328:\tlearn: 0.0116994\ttotal: 275ms\tremaining: 561ms\n",
      "329:\tlearn: 0.0116646\ttotal: 276ms\tremaining: 560ms\n",
      "330:\tlearn: 0.0116296\ttotal: 276ms\tremaining: 559ms\n",
      "331:\tlearn: 0.0115899\ttotal: 277ms\tremaining: 557ms\n",
      "332:\tlearn: 0.0115467\ttotal: 278ms\tremaining: 556ms\n",
      "333:\tlearn: 0.0115044\ttotal: 279ms\tremaining: 555ms\n",
      "334:\tlearn: 0.0114663\ttotal: 279ms\tremaining: 554ms\n",
      "335:\tlearn: 0.0114351\ttotal: 280ms\tremaining: 553ms\n",
      "336:\tlearn: 0.0113987\ttotal: 281ms\tremaining: 552ms\n",
      "337:\tlearn: 0.0113596\ttotal: 281ms\tremaining: 551ms\n",
      "338:\tlearn: 0.0113242\ttotal: 282ms\tremaining: 550ms\n",
      "339:\tlearn: 0.0112982\ttotal: 283ms\tremaining: 549ms\n",
      "340:\tlearn: 0.0112668\ttotal: 284ms\tremaining: 548ms\n",
      "341:\tlearn: 0.0112388\ttotal: 284ms\tremaining: 547ms\n",
      "342:\tlearn: 0.0111996\ttotal: 285ms\tremaining: 546ms\n",
      "343:\tlearn: 0.0111628\ttotal: 286ms\tremaining: 545ms\n",
      "344:\tlearn: 0.0111182\ttotal: 287ms\tremaining: 545ms\n",
      "345:\tlearn: 0.0110795\ttotal: 288ms\tremaining: 544ms\n",
      "346:\tlearn: 0.0110515\ttotal: 289ms\tremaining: 543ms\n",
      "347:\tlearn: 0.0110188\ttotal: 289ms\tremaining: 542ms\n",
      "348:\tlearn: 0.0109800\ttotal: 290ms\tremaining: 541ms\n",
      "349:\tlearn: 0.0109512\ttotal: 291ms\tremaining: 540ms\n",
      "350:\tlearn: 0.0109193\ttotal: 292ms\tremaining: 539ms\n",
      "351:\tlearn: 0.0108845\ttotal: 292ms\tremaining: 538ms\n",
      "352:\tlearn: 0.0108566\ttotal: 293ms\tremaining: 537ms\n",
      "353:\tlearn: 0.0108113\ttotal: 294ms\tremaining: 536ms\n",
      "354:\tlearn: 0.0107754\ttotal: 295ms\tremaining: 535ms\n",
      "355:\tlearn: 0.0107399\ttotal: 295ms\tremaining: 534ms\n",
      "356:\tlearn: 0.0107046\ttotal: 296ms\tremaining: 534ms\n",
      "357:\tlearn: 0.0106775\ttotal: 297ms\tremaining: 533ms\n",
      "358:\tlearn: 0.0106430\ttotal: 298ms\tremaining: 532ms\n",
      "359:\tlearn: 0.0106129\ttotal: 299ms\tremaining: 531ms\n",
      "360:\tlearn: 0.0105827\ttotal: 299ms\tremaining: 530ms\n",
      "361:\tlearn: 0.0105513\ttotal: 300ms\tremaining: 529ms\n",
      "362:\tlearn: 0.0105224\ttotal: 301ms\tremaining: 528ms\n",
      "363:\tlearn: 0.0104901\ttotal: 302ms\tremaining: 527ms\n",
      "364:\tlearn: 0.0104616\ttotal: 303ms\tremaining: 527ms\n",
      "365:\tlearn: 0.0104268\ttotal: 304ms\tremaining: 526ms\n",
      "366:\tlearn: 0.0103864\ttotal: 305ms\tremaining: 525ms\n",
      "367:\tlearn: 0.0103502\ttotal: 305ms\tremaining: 524ms\n",
      "368:\tlearn: 0.0103224\ttotal: 306ms\tremaining: 523ms\n",
      "369:\tlearn: 0.0102963\ttotal: 307ms\tremaining: 522ms\n",
      "370:\tlearn: 0.0102672\ttotal: 307ms\tremaining: 521ms\n",
      "371:\tlearn: 0.0102384\ttotal: 308ms\tremaining: 520ms\n",
      "372:\tlearn: 0.0102069\ttotal: 309ms\tremaining: 519ms\n",
      "373:\tlearn: 0.0101816\ttotal: 310ms\tremaining: 518ms\n",
      "374:\tlearn: 0.0101585\ttotal: 310ms\tremaining: 517ms\n",
      "375:\tlearn: 0.0101188\ttotal: 311ms\tremaining: 516ms\n",
      "376:\tlearn: 0.0100896\ttotal: 312ms\tremaining: 515ms\n",
      "377:\tlearn: 0.0100624\ttotal: 313ms\tremaining: 515ms\n",
      "378:\tlearn: 0.0100291\ttotal: 313ms\tremaining: 514ms\n",
      "379:\tlearn: 0.0100000\ttotal: 314ms\tremaining: 513ms\n",
      "380:\tlearn: 0.0099743\ttotal: 315ms\tremaining: 512ms\n",
      "381:\tlearn: 0.0099477\ttotal: 316ms\tremaining: 511ms\n",
      "382:\tlearn: 0.0099258\ttotal: 317ms\tremaining: 510ms\n",
      "383:\tlearn: 0.0098981\ttotal: 318ms\tremaining: 510ms\n",
      "384:\tlearn: 0.0098693\ttotal: 319ms\tremaining: 509ms\n",
      "385:\tlearn: 0.0098400\ttotal: 319ms\tremaining: 508ms\n",
      "386:\tlearn: 0.0098118\ttotal: 320ms\tremaining: 507ms\n",
      "387:\tlearn: 0.0097892\ttotal: 321ms\tremaining: 506ms\n",
      "388:\tlearn: 0.0097605\ttotal: 322ms\tremaining: 506ms\n",
      "389:\tlearn: 0.0097132\ttotal: 322ms\tremaining: 504ms\n",
      "390:\tlearn: 0.0096887\ttotal: 323ms\tremaining: 503ms\n",
      "391:\tlearn: 0.0096675\ttotal: 324ms\tremaining: 503ms\n",
      "392:\tlearn: 0.0096434\ttotal: 325ms\tremaining: 502ms\n",
      "393:\tlearn: 0.0096193\ttotal: 326ms\tremaining: 501ms\n",
      "394:\tlearn: 0.0095900\ttotal: 327ms\tremaining: 501ms\n",
      "395:\tlearn: 0.0095657\ttotal: 328ms\tremaining: 500ms\n",
      "396:\tlearn: 0.0095406\ttotal: 329ms\tremaining: 499ms\n",
      "397:\tlearn: 0.0095156\ttotal: 329ms\tremaining: 498ms\n",
      "398:\tlearn: 0.0094724\ttotal: 330ms\tremaining: 497ms\n",
      "399:\tlearn: 0.0094470\ttotal: 331ms\tremaining: 497ms\n",
      "400:\tlearn: 0.0094138\ttotal: 332ms\tremaining: 496ms\n",
      "401:\tlearn: 0.0093888\ttotal: 333ms\tremaining: 495ms\n",
      "402:\tlearn: 0.0093636\ttotal: 333ms\tremaining: 494ms\n",
      "403:\tlearn: 0.0093418\ttotal: 334ms\tremaining: 493ms\n",
      "404:\tlearn: 0.0093169\ttotal: 335ms\tremaining: 492ms\n",
      "405:\tlearn: 0.0092916\ttotal: 336ms\tremaining: 491ms\n",
      "406:\tlearn: 0.0092690\ttotal: 337ms\tremaining: 490ms\n",
      "407:\tlearn: 0.0092530\ttotal: 338ms\tremaining: 490ms\n",
      "408:\tlearn: 0.0092207\ttotal: 339ms\tremaining: 489ms\n",
      "409:\tlearn: 0.0091909\ttotal: 339ms\tremaining: 488ms\n",
      "410:\tlearn: 0.0091679\ttotal: 340ms\tremaining: 488ms\n",
      "411:\tlearn: 0.0091315\ttotal: 341ms\tremaining: 487ms\n",
      "412:\tlearn: 0.0091148\ttotal: 342ms\tremaining: 486ms\n",
      "413:\tlearn: 0.0090729\ttotal: 342ms\tremaining: 484ms\n",
      "414:\tlearn: 0.0090530\ttotal: 343ms\tremaining: 483ms\n",
      "415:\tlearn: 0.0090353\ttotal: 344ms\tremaining: 482ms\n",
      "416:\tlearn: 0.0090152\ttotal: 344ms\tremaining: 481ms\n",
      "417:\tlearn: 0.0089968\ttotal: 345ms\tremaining: 481ms\n",
      "418:\tlearn: 0.0089682\ttotal: 346ms\tremaining: 480ms\n",
      "419:\tlearn: 0.0089465\ttotal: 347ms\tremaining: 479ms\n",
      "420:\tlearn: 0.0089193\ttotal: 348ms\tremaining: 478ms\n",
      "421:\tlearn: 0.0088967\ttotal: 349ms\tremaining: 477ms\n",
      "422:\tlearn: 0.0088733\ttotal: 350ms\tremaining: 477ms\n",
      "423:\tlearn: 0.0088500\ttotal: 351ms\tremaining: 477ms\n",
      "424:\tlearn: 0.0088299\ttotal: 352ms\tremaining: 476ms\n",
      "425:\tlearn: 0.0088096\ttotal: 353ms\tremaining: 475ms\n",
      "426:\tlearn: 0.0087835\ttotal: 353ms\tremaining: 474ms\n",
      "427:\tlearn: 0.0087629\ttotal: 354ms\tremaining: 473ms\n",
      "428:\tlearn: 0.0087360\ttotal: 355ms\tremaining: 473ms\n",
      "429:\tlearn: 0.0087153\ttotal: 356ms\tremaining: 472ms\n",
      "430:\tlearn: 0.0086963\ttotal: 357ms\tremaining: 471ms\n",
      "431:\tlearn: 0.0086751\ttotal: 357ms\tremaining: 470ms\n",
      "432:\tlearn: 0.0086584\ttotal: 358ms\tremaining: 469ms\n",
      "433:\tlearn: 0.0086361\ttotal: 359ms\tremaining: 468ms\n",
      "434:\tlearn: 0.0086134\ttotal: 360ms\tremaining: 467ms\n",
      "435:\tlearn: 0.0085912\ttotal: 361ms\tremaining: 466ms\n",
      "436:\tlearn: 0.0085688\ttotal: 361ms\tremaining: 465ms\n",
      "437:\tlearn: 0.0085486\ttotal: 362ms\tremaining: 464ms\n",
      "438:\tlearn: 0.0085288\ttotal: 363ms\tremaining: 464ms\n",
      "439:\tlearn: 0.0085119\ttotal: 364ms\tremaining: 463ms\n",
      "440:\tlearn: 0.0084914\ttotal: 365ms\tremaining: 462ms\n",
      "441:\tlearn: 0.0084735\ttotal: 365ms\tremaining: 461ms\n",
      "442:\tlearn: 0.0084529\ttotal: 366ms\tremaining: 460ms\n",
      "443:\tlearn: 0.0084309\ttotal: 367ms\tremaining: 459ms\n",
      "444:\tlearn: 0.0084138\ttotal: 368ms\tremaining: 459ms\n",
      "445:\tlearn: 0.0083910\ttotal: 368ms\tremaining: 458ms\n",
      "446:\tlearn: 0.0083680\ttotal: 369ms\tremaining: 457ms\n",
      "447:\tlearn: 0.0083497\ttotal: 370ms\tremaining: 456ms\n",
      "448:\tlearn: 0.0083289\ttotal: 371ms\tremaining: 455ms\n",
      "449:\tlearn: 0.0083132\ttotal: 371ms\tremaining: 454ms\n",
      "450:\tlearn: 0.0082699\ttotal: 372ms\tremaining: 453ms\n",
      "451:\tlearn: 0.0082552\ttotal: 372ms\tremaining: 452ms\n",
      "452:\tlearn: 0.0082363\ttotal: 373ms\tremaining: 451ms\n",
      "453:\tlearn: 0.0082210\ttotal: 374ms\tremaining: 450ms\n",
      "454:\tlearn: 0.0082050\ttotal: 375ms\tremaining: 449ms\n",
      "455:\tlearn: 0.0081875\ttotal: 375ms\tremaining: 448ms\n",
      "456:\tlearn: 0.0081702\ttotal: 376ms\tremaining: 447ms\n",
      "457:\tlearn: 0.0081481\ttotal: 377ms\tremaining: 446ms\n",
      "458:\tlearn: 0.0081273\ttotal: 378ms\tremaining: 445ms\n",
      "459:\tlearn: 0.0081123\ttotal: 378ms\tremaining: 444ms\n",
      "460:\tlearn: 0.0080967\ttotal: 379ms\tremaining: 443ms\n",
      "461:\tlearn: 0.0080787\ttotal: 380ms\tremaining: 443ms\n",
      "462:\tlearn: 0.0080567\ttotal: 381ms\tremaining: 442ms\n",
      "463:\tlearn: 0.0080429\ttotal: 382ms\tremaining: 441ms\n",
      "464:\tlearn: 0.0080215\ttotal: 382ms\tremaining: 440ms\n",
      "465:\tlearn: 0.0079983\ttotal: 383ms\tremaining: 439ms\n",
      "466:\tlearn: 0.0079806\ttotal: 384ms\tremaining: 438ms\n",
      "467:\tlearn: 0.0079370\ttotal: 384ms\tremaining: 436ms\n",
      "468:\tlearn: 0.0079200\ttotal: 385ms\tremaining: 435ms\n",
      "469:\tlearn: 0.0079036\ttotal: 385ms\tremaining: 435ms\n",
      "470:\tlearn: 0.0078871\ttotal: 386ms\tremaining: 434ms\n",
      "471:\tlearn: 0.0078701\ttotal: 387ms\tremaining: 433ms\n",
      "472:\tlearn: 0.0078566\ttotal: 388ms\tremaining: 432ms\n",
      "473:\tlearn: 0.0078425\ttotal: 389ms\tremaining: 431ms\n",
      "474:\tlearn: 0.0078256\ttotal: 389ms\tremaining: 430ms\n",
      "475:\tlearn: 0.0078066\ttotal: 390ms\tremaining: 430ms\n",
      "476:\tlearn: 0.0077844\ttotal: 391ms\tremaining: 429ms\n",
      "477:\tlearn: 0.0077664\ttotal: 392ms\tremaining: 428ms\n",
      "478:\tlearn: 0.0077457\ttotal: 392ms\tremaining: 427ms\n",
      "479:\tlearn: 0.0077280\ttotal: 393ms\tremaining: 426ms\n",
      "480:\tlearn: 0.0077123\ttotal: 394ms\tremaining: 425ms\n",
      "481:\tlearn: 0.0076920\ttotal: 395ms\tremaining: 425ms\n",
      "482:\tlearn: 0.0076728\ttotal: 396ms\tremaining: 424ms\n",
      "483:\tlearn: 0.0076604\ttotal: 396ms\tremaining: 423ms\n",
      "484:\tlearn: 0.0076431\ttotal: 397ms\tremaining: 422ms\n",
      "485:\tlearn: 0.0076285\ttotal: 398ms\tremaining: 421ms\n",
      "486:\tlearn: 0.0076126\ttotal: 399ms\tremaining: 420ms\n",
      "487:\tlearn: 0.0075728\ttotal: 399ms\tremaining: 419ms\n",
      "488:\tlearn: 0.0075619\ttotal: 400ms\tremaining: 418ms\n",
      "489:\tlearn: 0.0075485\ttotal: 401ms\tremaining: 417ms\n",
      "490:\tlearn: 0.0075336\ttotal: 401ms\tremaining: 416ms\n",
      "491:\tlearn: 0.0075215\ttotal: 402ms\tremaining: 415ms\n",
      "492:\tlearn: 0.0075082\ttotal: 403ms\tremaining: 414ms\n",
      "493:\tlearn: 0.0074910\ttotal: 404ms\tremaining: 414ms\n",
      "494:\tlearn: 0.0074748\ttotal: 405ms\tremaining: 413ms\n",
      "495:\tlearn: 0.0074609\ttotal: 405ms\tremaining: 412ms\n",
      "496:\tlearn: 0.0074432\ttotal: 406ms\tremaining: 411ms\n",
      "497:\tlearn: 0.0074011\ttotal: 407ms\tremaining: 410ms\n",
      "498:\tlearn: 0.0073859\ttotal: 408ms\tremaining: 409ms\n",
      "499:\tlearn: 0.0073735\ttotal: 408ms\tremaining: 408ms\n",
      "500:\tlearn: 0.0073563\ttotal: 409ms\tremaining: 407ms\n",
      "501:\tlearn: 0.0073411\ttotal: 410ms\tremaining: 407ms\n",
      "502:\tlearn: 0.0073254\ttotal: 411ms\tremaining: 406ms\n",
      "503:\tlearn: 0.0072956\ttotal: 412ms\tremaining: 405ms\n",
      "504:\tlearn: 0.0072795\ttotal: 412ms\tremaining: 404ms\n",
      "505:\tlearn: 0.0072632\ttotal: 413ms\tremaining: 403ms\n",
      "506:\tlearn: 0.0072354\ttotal: 414ms\tremaining: 402ms\n",
      "507:\tlearn: 0.0072226\ttotal: 414ms\tremaining: 401ms\n",
      "508:\tlearn: 0.0071813\ttotal: 415ms\tremaining: 400ms\n",
      "509:\tlearn: 0.0071680\ttotal: 416ms\tremaining: 399ms\n",
      "510:\tlearn: 0.0071438\ttotal: 416ms\tremaining: 398ms\n",
      "511:\tlearn: 0.0071310\ttotal: 417ms\tremaining: 397ms\n",
      "512:\tlearn: 0.0071146\ttotal: 418ms\tremaining: 397ms\n",
      "513:\tlearn: 0.0071014\ttotal: 419ms\tremaining: 396ms\n",
      "514:\tlearn: 0.0070831\ttotal: 419ms\tremaining: 395ms\n",
      "515:\tlearn: 0.0070720\ttotal: 420ms\tremaining: 394ms\n",
      "516:\tlearn: 0.0070539\ttotal: 421ms\tremaining: 393ms\n",
      "517:\tlearn: 0.0070387\ttotal: 422ms\tremaining: 393ms\n",
      "518:\tlearn: 0.0070249\ttotal: 423ms\tremaining: 392ms\n",
      "519:\tlearn: 0.0070112\ttotal: 423ms\tremaining: 391ms\n",
      "520:\tlearn: 0.0069972\ttotal: 424ms\tremaining: 390ms\n",
      "521:\tlearn: 0.0069825\ttotal: 425ms\tremaining: 389ms\n",
      "522:\tlearn: 0.0069626\ttotal: 426ms\tremaining: 388ms\n",
      "523:\tlearn: 0.0069485\ttotal: 427ms\tremaining: 388ms\n",
      "524:\tlearn: 0.0069322\ttotal: 428ms\tremaining: 387ms\n",
      "525:\tlearn: 0.0068982\ttotal: 428ms\tremaining: 386ms\n",
      "526:\tlearn: 0.0068862\ttotal: 429ms\tremaining: 385ms\n",
      "527:\tlearn: 0.0068712\ttotal: 430ms\tremaining: 384ms\n",
      "528:\tlearn: 0.0068571\ttotal: 430ms\tremaining: 383ms\n",
      "529:\tlearn: 0.0068419\ttotal: 431ms\tremaining: 382ms\n",
      "530:\tlearn: 0.0068299\ttotal: 432ms\tremaining: 382ms\n",
      "531:\tlearn: 0.0068166\ttotal: 433ms\tremaining: 381ms\n",
      "532:\tlearn: 0.0068026\ttotal: 434ms\tremaining: 380ms\n",
      "533:\tlearn: 0.0067891\ttotal: 434ms\tremaining: 379ms\n",
      "534:\tlearn: 0.0067692\ttotal: 435ms\tremaining: 378ms\n",
      "535:\tlearn: 0.0067494\ttotal: 435ms\tremaining: 377ms\n",
      "536:\tlearn: 0.0067370\ttotal: 436ms\tremaining: 376ms\n",
      "537:\tlearn: 0.0067259\ttotal: 437ms\tremaining: 375ms\n",
      "538:\tlearn: 0.0067134\ttotal: 438ms\tremaining: 375ms\n",
      "539:\tlearn: 0.0067030\ttotal: 439ms\tremaining: 374ms\n",
      "540:\tlearn: 0.0066900\ttotal: 439ms\tremaining: 373ms\n",
      "541:\tlearn: 0.0066721\ttotal: 440ms\tremaining: 372ms\n",
      "542:\tlearn: 0.0066599\ttotal: 441ms\tremaining: 371ms\n",
      "543:\tlearn: 0.0066465\ttotal: 442ms\tremaining: 370ms\n",
      "544:\tlearn: 0.0066308\ttotal: 443ms\tremaining: 370ms\n",
      "545:\tlearn: 0.0066161\ttotal: 444ms\tremaining: 369ms\n",
      "546:\tlearn: 0.0066009\ttotal: 445ms\tremaining: 368ms\n",
      "547:\tlearn: 0.0065911\ttotal: 445ms\tremaining: 367ms\n",
      "548:\tlearn: 0.0065807\ttotal: 446ms\tremaining: 366ms\n",
      "549:\tlearn: 0.0065646\ttotal: 447ms\tremaining: 366ms\n",
      "550:\tlearn: 0.0065423\ttotal: 447ms\tremaining: 365ms\n",
      "551:\tlearn: 0.0065314\ttotal: 448ms\tremaining: 364ms\n",
      "552:\tlearn: 0.0065197\ttotal: 449ms\tremaining: 363ms\n",
      "553:\tlearn: 0.0065072\ttotal: 450ms\tremaining: 362ms\n",
      "554:\tlearn: 0.0064951\ttotal: 451ms\tremaining: 361ms\n",
      "555:\tlearn: 0.0064835\ttotal: 452ms\tremaining: 361ms\n",
      "556:\tlearn: 0.0064719\ttotal: 452ms\tremaining: 360ms\n",
      "557:\tlearn: 0.0064605\ttotal: 453ms\tremaining: 359ms\n",
      "558:\tlearn: 0.0064481\ttotal: 454ms\tremaining: 358ms\n",
      "559:\tlearn: 0.0064374\ttotal: 455ms\tremaining: 357ms\n",
      "560:\tlearn: 0.0064264\ttotal: 455ms\tremaining: 356ms\n",
      "561:\tlearn: 0.0064131\ttotal: 456ms\tremaining: 356ms\n",
      "562:\tlearn: 0.0064035\ttotal: 457ms\tremaining: 355ms\n",
      "563:\tlearn: 0.0063838\ttotal: 458ms\tremaining: 354ms\n",
      "564:\tlearn: 0.0063720\ttotal: 459ms\tremaining: 353ms\n",
      "565:\tlearn: 0.0063607\ttotal: 460ms\tremaining: 352ms\n",
      "566:\tlearn: 0.0063507\ttotal: 460ms\tremaining: 352ms\n",
      "567:\tlearn: 0.0063355\ttotal: 461ms\tremaining: 351ms\n",
      "568:\tlearn: 0.0063252\ttotal: 462ms\tremaining: 350ms\n",
      "569:\tlearn: 0.0063131\ttotal: 463ms\tremaining: 349ms\n",
      "570:\tlearn: 0.0063013\ttotal: 463ms\tremaining: 348ms\n",
      "571:\tlearn: 0.0062890\ttotal: 464ms\tremaining: 347ms\n",
      "572:\tlearn: 0.0062804\ttotal: 465ms\tremaining: 346ms\n",
      "573:\tlearn: 0.0062532\ttotal: 465ms\tremaining: 345ms\n",
      "574:\tlearn: 0.0062420\ttotal: 466ms\tremaining: 344ms\n",
      "575:\tlearn: 0.0062305\ttotal: 467ms\tremaining: 343ms\n",
      "576:\tlearn: 0.0062218\ttotal: 467ms\tremaining: 343ms\n",
      "577:\tlearn: 0.0062106\ttotal: 468ms\tremaining: 342ms\n",
      "578:\tlearn: 0.0062011\ttotal: 469ms\tremaining: 341ms\n",
      "579:\tlearn: 0.0061911\ttotal: 469ms\tremaining: 340ms\n",
      "580:\tlearn: 0.0061757\ttotal: 470ms\tremaining: 339ms\n",
      "581:\tlearn: 0.0061649\ttotal: 471ms\tremaining: 338ms\n",
      "582:\tlearn: 0.0061534\ttotal: 471ms\tremaining: 337ms\n",
      "583:\tlearn: 0.0061441\ttotal: 472ms\tremaining: 336ms\n",
      "584:\tlearn: 0.0061339\ttotal: 473ms\tremaining: 336ms\n",
      "585:\tlearn: 0.0061221\ttotal: 474ms\tremaining: 335ms\n",
      "586:\tlearn: 0.0061111\ttotal: 475ms\tremaining: 334ms\n",
      "587:\tlearn: 0.0060986\ttotal: 475ms\tremaining: 333ms\n",
      "588:\tlearn: 0.0060886\ttotal: 476ms\tremaining: 332ms\n",
      "589:\tlearn: 0.0060761\ttotal: 477ms\tremaining: 331ms\n",
      "590:\tlearn: 0.0060502\ttotal: 477ms\tremaining: 330ms\n",
      "591:\tlearn: 0.0060392\ttotal: 478ms\tremaining: 329ms\n",
      "592:\tlearn: 0.0060296\ttotal: 479ms\tremaining: 329ms\n",
      "593:\tlearn: 0.0060176\ttotal: 480ms\tremaining: 328ms\n",
      "594:\tlearn: 0.0060049\ttotal: 480ms\tremaining: 327ms\n",
      "595:\tlearn: 0.0059929\ttotal: 481ms\tremaining: 326ms\n",
      "596:\tlearn: 0.0059824\ttotal: 482ms\tremaining: 325ms\n",
      "597:\tlearn: 0.0059695\ttotal: 482ms\tremaining: 324ms\n",
      "598:\tlearn: 0.0059594\ttotal: 483ms\tremaining: 323ms\n",
      "599:\tlearn: 0.0059472\ttotal: 484ms\tremaining: 323ms\n",
      "600:\tlearn: 0.0059352\ttotal: 485ms\tremaining: 322ms\n",
      "601:\tlearn: 0.0059248\ttotal: 485ms\tremaining: 321ms\n",
      "602:\tlearn: 0.0059166\ttotal: 486ms\tremaining: 320ms\n",
      "603:\tlearn: 0.0059077\ttotal: 487ms\tremaining: 319ms\n",
      "604:\tlearn: 0.0059002\ttotal: 488ms\tremaining: 318ms\n",
      "605:\tlearn: 0.0058908\ttotal: 488ms\tremaining: 318ms\n",
      "606:\tlearn: 0.0058784\ttotal: 489ms\tremaining: 317ms\n",
      "607:\tlearn: 0.0058686\ttotal: 490ms\tremaining: 316ms\n",
      "608:\tlearn: 0.0058588\ttotal: 491ms\tremaining: 315ms\n",
      "609:\tlearn: 0.0058530\ttotal: 492ms\tremaining: 315ms\n",
      "610:\tlearn: 0.0058448\ttotal: 494ms\tremaining: 314ms\n",
      "611:\tlearn: 0.0058347\ttotal: 495ms\tremaining: 314ms\n",
      "612:\tlearn: 0.0058261\ttotal: 497ms\tremaining: 314ms\n",
      "613:\tlearn: 0.0058167\ttotal: 498ms\tremaining: 313ms\n",
      "614:\tlearn: 0.0058085\ttotal: 499ms\tremaining: 313ms\n",
      "615:\tlearn: 0.0057944\ttotal: 501ms\tremaining: 312ms\n",
      "616:\tlearn: 0.0057841\ttotal: 502ms\tremaining: 311ms\n",
      "617:\tlearn: 0.0057764\ttotal: 503ms\tremaining: 311ms\n",
      "618:\tlearn: 0.0057659\ttotal: 504ms\tremaining: 310ms\n",
      "619:\tlearn: 0.0057566\ttotal: 505ms\tremaining: 309ms\n",
      "620:\tlearn: 0.0057469\ttotal: 505ms\tremaining: 308ms\n",
      "621:\tlearn: 0.0057339\ttotal: 506ms\tremaining: 308ms\n",
      "622:\tlearn: 0.0057273\ttotal: 507ms\tremaining: 307ms\n",
      "623:\tlearn: 0.0057152\ttotal: 508ms\tremaining: 306ms\n",
      "624:\tlearn: 0.0057047\ttotal: 509ms\tremaining: 305ms\n",
      "625:\tlearn: 0.0056966\ttotal: 510ms\tremaining: 305ms\n",
      "626:\tlearn: 0.0056888\ttotal: 511ms\tremaining: 304ms\n",
      "627:\tlearn: 0.0056796\ttotal: 512ms\tremaining: 303ms\n",
      "628:\tlearn: 0.0056693\ttotal: 512ms\tremaining: 302ms\n",
      "629:\tlearn: 0.0056583\ttotal: 513ms\tremaining: 301ms\n",
      "630:\tlearn: 0.0056497\ttotal: 514ms\tremaining: 301ms\n",
      "631:\tlearn: 0.0056368\ttotal: 515ms\tremaining: 300ms\n",
      "632:\tlearn: 0.0056293\ttotal: 516ms\tremaining: 299ms\n",
      "633:\tlearn: 0.0056198\ttotal: 517ms\tremaining: 298ms\n",
      "634:\tlearn: 0.0056049\ttotal: 517ms\tremaining: 297ms\n",
      "635:\tlearn: 0.0055955\ttotal: 518ms\tremaining: 297ms\n",
      "636:\tlearn: 0.0055882\ttotal: 520ms\tremaining: 296ms\n",
      "637:\tlearn: 0.0055809\ttotal: 521ms\tremaining: 296ms\n",
      "638:\tlearn: 0.0055732\ttotal: 522ms\tremaining: 295ms\n",
      "639:\tlearn: 0.0055680\ttotal: 536ms\tremaining: 301ms\n",
      "640:\tlearn: 0.0055578\ttotal: 537ms\tremaining: 301ms\n",
      "641:\tlearn: 0.0055506\ttotal: 538ms\tremaining: 300ms\n",
      "642:\tlearn: 0.0055407\ttotal: 539ms\tremaining: 299ms\n",
      "643:\tlearn: 0.0055337\ttotal: 540ms\tremaining: 298ms\n",
      "644:\tlearn: 0.0055250\ttotal: 540ms\tremaining: 297ms\n",
      "645:\tlearn: 0.0055177\ttotal: 541ms\tremaining: 297ms\n",
      "646:\tlearn: 0.0055108\ttotal: 542ms\tremaining: 296ms\n",
      "647:\tlearn: 0.0055009\ttotal: 543ms\tremaining: 295ms\n",
      "648:\tlearn: 0.0054945\ttotal: 544ms\tremaining: 294ms\n",
      "649:\tlearn: 0.0054851\ttotal: 544ms\tremaining: 293ms\n",
      "650:\tlearn: 0.0054775\ttotal: 545ms\tremaining: 292ms\n",
      "651:\tlearn: 0.0054682\ttotal: 546ms\tremaining: 291ms\n",
      "652:\tlearn: 0.0054601\ttotal: 547ms\tremaining: 290ms\n",
      "653:\tlearn: 0.0054519\ttotal: 547ms\tremaining: 290ms\n",
      "654:\tlearn: 0.0054424\ttotal: 548ms\tremaining: 289ms\n",
      "655:\tlearn: 0.0054355\ttotal: 549ms\tremaining: 288ms\n",
      "656:\tlearn: 0.0054278\ttotal: 549ms\tremaining: 287ms\n",
      "657:\tlearn: 0.0054167\ttotal: 550ms\tremaining: 286ms\n",
      "658:\tlearn: 0.0054067\ttotal: 551ms\tremaining: 285ms\n",
      "659:\tlearn: 0.0053979\ttotal: 552ms\tremaining: 284ms\n",
      "660:\tlearn: 0.0053908\ttotal: 553ms\tremaining: 284ms\n",
      "661:\tlearn: 0.0053838\ttotal: 554ms\tremaining: 283ms\n",
      "662:\tlearn: 0.0053774\ttotal: 554ms\tremaining: 282ms\n",
      "663:\tlearn: 0.0053575\ttotal: 555ms\tremaining: 281ms\n",
      "664:\tlearn: 0.0053498\ttotal: 556ms\tremaining: 280ms\n",
      "665:\tlearn: 0.0053416\ttotal: 556ms\tremaining: 279ms\n",
      "666:\tlearn: 0.0053326\ttotal: 557ms\tremaining: 278ms\n",
      "667:\tlearn: 0.0053260\ttotal: 558ms\tremaining: 277ms\n",
      "668:\tlearn: 0.0053169\ttotal: 559ms\tremaining: 276ms\n",
      "669:\tlearn: 0.0053063\ttotal: 559ms\tremaining: 276ms\n",
      "670:\tlearn: 0.0052979\ttotal: 560ms\tremaining: 275ms\n",
      "671:\tlearn: 0.0052898\ttotal: 561ms\tremaining: 274ms\n",
      "672:\tlearn: 0.0052829\ttotal: 562ms\tremaining: 273ms\n",
      "673:\tlearn: 0.0052765\ttotal: 563ms\tremaining: 272ms\n",
      "674:\tlearn: 0.0052700\ttotal: 564ms\tremaining: 271ms\n",
      "675:\tlearn: 0.0052622\ttotal: 564ms\tremaining: 270ms\n",
      "676:\tlearn: 0.0052543\ttotal: 565ms\tremaining: 270ms\n",
      "677:\tlearn: 0.0052473\ttotal: 566ms\tremaining: 269ms\n",
      "678:\tlearn: 0.0052327\ttotal: 567ms\tremaining: 268ms\n",
      "679:\tlearn: 0.0052247\ttotal: 568ms\tremaining: 267ms\n",
      "680:\tlearn: 0.0052184\ttotal: 568ms\tremaining: 266ms\n",
      "681:\tlearn: 0.0052109\ttotal: 569ms\tremaining: 265ms\n",
      "682:\tlearn: 0.0052035\ttotal: 570ms\tremaining: 264ms\n",
      "683:\tlearn: 0.0051956\ttotal: 571ms\tremaining: 264ms\n",
      "684:\tlearn: 0.0051866\ttotal: 571ms\tremaining: 263ms\n",
      "685:\tlearn: 0.0051784\ttotal: 572ms\tremaining: 262ms\n",
      "686:\tlearn: 0.0051727\ttotal: 573ms\tremaining: 261ms\n",
      "687:\tlearn: 0.0051653\ttotal: 574ms\tremaining: 260ms\n",
      "688:\tlearn: 0.0051594\ttotal: 575ms\tremaining: 259ms\n",
      "689:\tlearn: 0.0051522\ttotal: 575ms\tremaining: 258ms\n",
      "690:\tlearn: 0.0051397\ttotal: 576ms\tremaining: 258ms\n",
      "691:\tlearn: 0.0051333\ttotal: 577ms\tremaining: 257ms\n",
      "692:\tlearn: 0.0051248\ttotal: 577ms\tremaining: 256ms\n",
      "693:\tlearn: 0.0051197\ttotal: 578ms\tremaining: 255ms\n",
      "694:\tlearn: 0.0051133\ttotal: 579ms\tremaining: 254ms\n",
      "695:\tlearn: 0.0051066\ttotal: 580ms\tremaining: 253ms\n",
      "696:\tlearn: 0.0050972\ttotal: 581ms\tremaining: 252ms\n",
      "697:\tlearn: 0.0050878\ttotal: 582ms\tremaining: 252ms\n",
      "698:\tlearn: 0.0050804\ttotal: 583ms\tremaining: 251ms\n",
      "699:\tlearn: 0.0050734\ttotal: 584ms\tremaining: 250ms\n",
      "700:\tlearn: 0.0050680\ttotal: 584ms\tremaining: 249ms\n",
      "701:\tlearn: 0.0050618\ttotal: 585ms\tremaining: 248ms\n",
      "702:\tlearn: 0.0050532\ttotal: 586ms\tremaining: 247ms\n",
      "703:\tlearn: 0.0050450\ttotal: 587ms\tremaining: 247ms\n",
      "704:\tlearn: 0.0050367\ttotal: 587ms\tremaining: 246ms\n",
      "705:\tlearn: 0.0050296\ttotal: 588ms\tremaining: 245ms\n",
      "706:\tlearn: 0.0050204\ttotal: 589ms\tremaining: 244ms\n",
      "707:\tlearn: 0.0050133\ttotal: 590ms\tremaining: 243ms\n",
      "708:\tlearn: 0.0050064\ttotal: 590ms\tremaining: 242ms\n",
      "709:\tlearn: 0.0049985\ttotal: 591ms\tremaining: 241ms\n",
      "710:\tlearn: 0.0049926\ttotal: 592ms\tremaining: 241ms\n",
      "711:\tlearn: 0.0049851\ttotal: 593ms\tremaining: 240ms\n",
      "712:\tlearn: 0.0049805\ttotal: 593ms\tremaining: 239ms\n",
      "713:\tlearn: 0.0049681\ttotal: 594ms\tremaining: 238ms\n",
      "714:\tlearn: 0.0049618\ttotal: 595ms\tremaining: 237ms\n",
      "715:\tlearn: 0.0049553\ttotal: 596ms\tremaining: 237ms\n",
      "716:\tlearn: 0.0049494\ttotal: 598ms\tremaining: 236ms\n",
      "717:\tlearn: 0.0049440\ttotal: 598ms\tremaining: 235ms\n",
      "718:\tlearn: 0.0049351\ttotal: 599ms\tremaining: 234ms\n",
      "719:\tlearn: 0.0049285\ttotal: 600ms\tremaining: 233ms\n",
      "720:\tlearn: 0.0049220\ttotal: 601ms\tremaining: 233ms\n",
      "721:\tlearn: 0.0049154\ttotal: 602ms\tremaining: 232ms\n",
      "722:\tlearn: 0.0049086\ttotal: 603ms\tremaining: 231ms\n",
      "723:\tlearn: 0.0049023\ttotal: 604ms\tremaining: 230ms\n",
      "724:\tlearn: 0.0048952\ttotal: 605ms\tremaining: 229ms\n",
      "725:\tlearn: 0.0048899\ttotal: 605ms\tremaining: 228ms\n",
      "726:\tlearn: 0.0048851\ttotal: 606ms\tremaining: 228ms\n",
      "727:\tlearn: 0.0048773\ttotal: 607ms\tremaining: 227ms\n",
      "728:\tlearn: 0.0048703\ttotal: 608ms\tremaining: 226ms\n",
      "729:\tlearn: 0.0048634\ttotal: 609ms\tremaining: 225ms\n",
      "730:\tlearn: 0.0048576\ttotal: 610ms\tremaining: 224ms\n",
      "731:\tlearn: 0.0048523\ttotal: 610ms\tremaining: 223ms\n",
      "732:\tlearn: 0.0048462\ttotal: 611ms\tremaining: 223ms\n",
      "733:\tlearn: 0.0048309\ttotal: 612ms\tremaining: 222ms\n",
      "734:\tlearn: 0.0048247\ttotal: 613ms\tremaining: 221ms\n",
      "735:\tlearn: 0.0048179\ttotal: 613ms\tremaining: 220ms\n",
      "736:\tlearn: 0.0048112\ttotal: 614ms\tremaining: 219ms\n",
      "737:\tlearn: 0.0048019\ttotal: 615ms\tremaining: 218ms\n",
      "738:\tlearn: 0.0047938\ttotal: 616ms\tremaining: 217ms\n",
      "739:\tlearn: 0.0047867\ttotal: 616ms\tremaining: 217ms\n",
      "740:\tlearn: 0.0047777\ttotal: 617ms\tremaining: 216ms\n",
      "741:\tlearn: 0.0047701\ttotal: 618ms\tremaining: 215ms\n",
      "742:\tlearn: 0.0047630\ttotal: 619ms\tremaining: 214ms\n",
      "743:\tlearn: 0.0047568\ttotal: 620ms\tremaining: 213ms\n",
      "744:\tlearn: 0.0047513\ttotal: 620ms\tremaining: 212ms\n",
      "745:\tlearn: 0.0047446\ttotal: 621ms\tremaining: 212ms\n",
      "746:\tlearn: 0.0047363\ttotal: 622ms\tremaining: 211ms\n",
      "747:\tlearn: 0.0047303\ttotal: 623ms\tremaining: 210ms\n",
      "748:\tlearn: 0.0047238\ttotal: 624ms\tremaining: 209ms\n",
      "749:\tlearn: 0.0047163\ttotal: 624ms\tremaining: 208ms\n",
      "750:\tlearn: 0.0047083\ttotal: 625ms\tremaining: 207ms\n",
      "751:\tlearn: 0.0047018\ttotal: 626ms\tremaining: 206ms\n",
      "752:\tlearn: 0.0046944\ttotal: 627ms\tremaining: 206ms\n",
      "753:\tlearn: 0.0046890\ttotal: 628ms\tremaining: 205ms\n",
      "754:\tlearn: 0.0046823\ttotal: 628ms\tremaining: 204ms\n",
      "755:\tlearn: 0.0046755\ttotal: 629ms\tremaining: 203ms\n",
      "756:\tlearn: 0.0046688\ttotal: 630ms\tremaining: 202ms\n",
      "757:\tlearn: 0.0046623\ttotal: 631ms\tremaining: 201ms\n",
      "758:\tlearn: 0.0046584\ttotal: 632ms\tremaining: 201ms\n",
      "759:\tlearn: 0.0046511\ttotal: 633ms\tremaining: 200ms\n",
      "760:\tlearn: 0.0046435\ttotal: 633ms\tremaining: 199ms\n",
      "761:\tlearn: 0.0046373\ttotal: 634ms\tremaining: 198ms\n",
      "762:\tlearn: 0.0046322\ttotal: 635ms\tremaining: 197ms\n",
      "763:\tlearn: 0.0046268\ttotal: 636ms\tremaining: 196ms\n",
      "764:\tlearn: 0.0046203\ttotal: 636ms\tremaining: 195ms\n",
      "765:\tlearn: 0.0046158\ttotal: 637ms\tremaining: 195ms\n",
      "766:\tlearn: 0.0046112\ttotal: 638ms\tremaining: 194ms\n",
      "767:\tlearn: 0.0046036\ttotal: 639ms\tremaining: 193ms\n",
      "768:\tlearn: 0.0045990\ttotal: 640ms\tremaining: 192ms\n",
      "769:\tlearn: 0.0045921\ttotal: 640ms\tremaining: 191ms\n",
      "770:\tlearn: 0.0045857\ttotal: 641ms\tremaining: 190ms\n",
      "771:\tlearn: 0.0045802\ttotal: 642ms\tremaining: 190ms\n",
      "772:\tlearn: 0.0045733\ttotal: 643ms\tremaining: 189ms\n",
      "773:\tlearn: 0.0045686\ttotal: 644ms\tremaining: 188ms\n",
      "774:\tlearn: 0.0045642\ttotal: 645ms\tremaining: 187ms\n",
      "775:\tlearn: 0.0045572\ttotal: 645ms\tremaining: 186ms\n",
      "776:\tlearn: 0.0045509\ttotal: 646ms\tremaining: 185ms\n",
      "777:\tlearn: 0.0045468\ttotal: 647ms\tremaining: 185ms\n",
      "778:\tlearn: 0.0045375\ttotal: 647ms\tremaining: 184ms\n",
      "779:\tlearn: 0.0045288\ttotal: 648ms\tremaining: 183ms\n",
      "780:\tlearn: 0.0045226\ttotal: 649ms\tremaining: 182ms\n",
      "781:\tlearn: 0.0045172\ttotal: 650ms\tremaining: 181ms\n",
      "782:\tlearn: 0.0045115\ttotal: 650ms\tremaining: 180ms\n",
      "783:\tlearn: 0.0045042\ttotal: 651ms\tremaining: 179ms\n",
      "784:\tlearn: 0.0044975\ttotal: 652ms\tremaining: 179ms\n",
      "785:\tlearn: 0.0044916\ttotal: 653ms\tremaining: 178ms\n",
      "786:\tlearn: 0.0044863\ttotal: 654ms\tremaining: 177ms\n",
      "787:\tlearn: 0.0044805\ttotal: 655ms\tremaining: 176ms\n",
      "788:\tlearn: 0.0044755\ttotal: 655ms\tremaining: 175ms\n",
      "789:\tlearn: 0.0044688\ttotal: 656ms\tremaining: 174ms\n",
      "790:\tlearn: 0.0044629\ttotal: 657ms\tremaining: 174ms\n",
      "791:\tlearn: 0.0044555\ttotal: 658ms\tremaining: 173ms\n",
      "792:\tlearn: 0.0044497\ttotal: 659ms\tremaining: 172ms\n",
      "793:\tlearn: 0.0044450\ttotal: 660ms\tremaining: 171ms\n",
      "794:\tlearn: 0.0044388\ttotal: 660ms\tremaining: 170ms\n",
      "795:\tlearn: 0.0044326\ttotal: 661ms\tremaining: 169ms\n",
      "796:\tlearn: 0.0044278\ttotal: 662ms\tremaining: 169ms\n",
      "797:\tlearn: 0.0044214\ttotal: 663ms\tremaining: 168ms\n",
      "798:\tlearn: 0.0044152\ttotal: 663ms\tremaining: 167ms\n",
      "799:\tlearn: 0.0044092\ttotal: 664ms\tremaining: 166ms\n",
      "800:\tlearn: 0.0044041\ttotal: 665ms\tremaining: 165ms\n",
      "801:\tlearn: 0.0043996\ttotal: 665ms\tremaining: 164ms\n",
      "802:\tlearn: 0.0043940\ttotal: 666ms\tremaining: 163ms\n",
      "803:\tlearn: 0.0043888\ttotal: 667ms\tremaining: 163ms\n",
      "804:\tlearn: 0.0043816\ttotal: 668ms\tremaining: 162ms\n",
      "805:\tlearn: 0.0043759\ttotal: 668ms\tremaining: 161ms\n",
      "806:\tlearn: 0.0043701\ttotal: 669ms\tremaining: 160ms\n",
      "807:\tlearn: 0.0043645\ttotal: 670ms\tremaining: 159ms\n",
      "808:\tlearn: 0.0043602\ttotal: 671ms\tremaining: 158ms\n",
      "809:\tlearn: 0.0043526\ttotal: 672ms\tremaining: 158ms\n",
      "810:\tlearn: 0.0043478\ttotal: 672ms\tremaining: 157ms\n",
      "811:\tlearn: 0.0043446\ttotal: 673ms\tremaining: 156ms\n",
      "812:\tlearn: 0.0043386\ttotal: 674ms\tremaining: 155ms\n",
      "813:\tlearn: 0.0043331\ttotal: 675ms\tremaining: 154ms\n",
      "814:\tlearn: 0.0043281\ttotal: 676ms\tremaining: 153ms\n",
      "815:\tlearn: 0.0043215\ttotal: 676ms\tremaining: 153ms\n",
      "816:\tlearn: 0.0043162\ttotal: 677ms\tremaining: 152ms\n",
      "817:\tlearn: 0.0043113\ttotal: 678ms\tremaining: 151ms\n",
      "818:\tlearn: 0.0043061\ttotal: 679ms\tremaining: 150ms\n",
      "819:\tlearn: 0.0043013\ttotal: 680ms\tremaining: 149ms\n",
      "820:\tlearn: 0.0042943\ttotal: 681ms\tremaining: 148ms\n",
      "821:\tlearn: 0.0042885\ttotal: 681ms\tremaining: 148ms\n",
      "822:\tlearn: 0.0042832\ttotal: 682ms\tremaining: 147ms\n",
      "823:\tlearn: 0.0042787\ttotal: 683ms\tremaining: 146ms\n",
      "824:\tlearn: 0.0042724\ttotal: 684ms\tremaining: 145ms\n",
      "825:\tlearn: 0.0042669\ttotal: 685ms\tremaining: 144ms\n",
      "826:\tlearn: 0.0042614\ttotal: 685ms\tremaining: 143ms\n",
      "827:\tlearn: 0.0042569\ttotal: 686ms\tremaining: 143ms\n",
      "828:\tlearn: 0.0042517\ttotal: 687ms\tremaining: 142ms\n",
      "829:\tlearn: 0.0042463\ttotal: 688ms\tremaining: 141ms\n",
      "830:\tlearn: 0.0042408\ttotal: 688ms\tremaining: 140ms\n",
      "831:\tlearn: 0.0042358\ttotal: 689ms\tremaining: 139ms\n",
      "832:\tlearn: 0.0042302\ttotal: 690ms\tremaining: 138ms\n",
      "833:\tlearn: 0.0042246\ttotal: 691ms\tremaining: 138ms\n",
      "834:\tlearn: 0.0042174\ttotal: 692ms\tremaining: 137ms\n",
      "835:\tlearn: 0.0042124\ttotal: 693ms\tremaining: 136ms\n",
      "836:\tlearn: 0.0042074\ttotal: 694ms\tremaining: 135ms\n",
      "837:\tlearn: 0.0042008\ttotal: 694ms\tremaining: 134ms\n",
      "838:\tlearn: 0.0041956\ttotal: 695ms\tremaining: 133ms\n",
      "839:\tlearn: 0.0041918\ttotal: 696ms\tremaining: 133ms\n",
      "840:\tlearn: 0.0041871\ttotal: 697ms\tremaining: 132ms\n",
      "841:\tlearn: 0.0041816\ttotal: 698ms\tremaining: 131ms\n",
      "842:\tlearn: 0.0041772\ttotal: 698ms\tremaining: 130ms\n",
      "843:\tlearn: 0.0041704\ttotal: 699ms\tremaining: 129ms\n",
      "844:\tlearn: 0.0041642\ttotal: 700ms\tremaining: 128ms\n",
      "845:\tlearn: 0.0041593\ttotal: 700ms\tremaining: 128ms\n",
      "846:\tlearn: 0.0041544\ttotal: 701ms\tremaining: 127ms\n",
      "847:\tlearn: 0.0041501\ttotal: 702ms\tremaining: 126ms\n",
      "848:\tlearn: 0.0041445\ttotal: 703ms\tremaining: 125ms\n",
      "849:\tlearn: 0.0041395\ttotal: 704ms\tremaining: 124ms\n",
      "850:\tlearn: 0.0041354\ttotal: 704ms\tremaining: 123ms\n",
      "851:\tlearn: 0.0041320\ttotal: 705ms\tremaining: 123ms\n",
      "852:\tlearn: 0.0041276\ttotal: 706ms\tremaining: 122ms\n",
      "853:\tlearn: 0.0041220\ttotal: 707ms\tremaining: 121ms\n",
      "854:\tlearn: 0.0041172\ttotal: 708ms\tremaining: 120ms\n",
      "855:\tlearn: 0.0041090\ttotal: 708ms\tremaining: 119ms\n",
      "856:\tlearn: 0.0041031\ttotal: 709ms\tremaining: 118ms\n",
      "857:\tlearn: 0.0040978\ttotal: 710ms\tremaining: 118ms\n",
      "858:\tlearn: 0.0040934\ttotal: 711ms\tremaining: 117ms\n",
      "859:\tlearn: 0.0040881\ttotal: 712ms\tremaining: 116ms\n",
      "860:\tlearn: 0.0040833\ttotal: 712ms\tremaining: 115ms\n",
      "861:\tlearn: 0.0040795\ttotal: 713ms\tremaining: 114ms\n",
      "862:\tlearn: 0.0040755\ttotal: 714ms\tremaining: 113ms\n",
      "863:\tlearn: 0.0040688\ttotal: 715ms\tremaining: 112ms\n",
      "864:\tlearn: 0.0040652\ttotal: 715ms\tremaining: 112ms\n",
      "865:\tlearn: 0.0040611\ttotal: 716ms\tremaining: 111ms\n",
      "866:\tlearn: 0.0040577\ttotal: 717ms\tremaining: 110ms\n",
      "867:\tlearn: 0.0040531\ttotal: 718ms\tremaining: 109ms\n",
      "868:\tlearn: 0.0040501\ttotal: 718ms\tremaining: 108ms\n",
      "869:\tlearn: 0.0040451\ttotal: 719ms\tremaining: 107ms\n",
      "870:\tlearn: 0.0040399\ttotal: 720ms\tremaining: 107ms\n",
      "871:\tlearn: 0.0040352\ttotal: 721ms\tremaining: 106ms\n",
      "872:\tlearn: 0.0040307\ttotal: 722ms\tremaining: 105ms\n",
      "873:\tlearn: 0.0040264\ttotal: 722ms\tremaining: 104ms\n",
      "874:\tlearn: 0.0040148\ttotal: 723ms\tremaining: 103ms\n",
      "875:\tlearn: 0.0040111\ttotal: 724ms\tremaining: 102ms\n",
      "876:\tlearn: 0.0040066\ttotal: 724ms\tremaining: 102ms\n",
      "877:\tlearn: 0.0040019\ttotal: 725ms\tremaining: 101ms\n",
      "878:\tlearn: 0.0039974\ttotal: 726ms\tremaining: 99.9ms\n",
      "879:\tlearn: 0.0039927\ttotal: 727ms\tremaining: 99.1ms\n",
      "880:\tlearn: 0.0039871\ttotal: 728ms\tremaining: 98.3ms\n",
      "881:\tlearn: 0.0039806\ttotal: 728ms\tremaining: 97.4ms\n",
      "882:\tlearn: 0.0039752\ttotal: 729ms\tremaining: 96.6ms\n",
      "883:\tlearn: 0.0039696\ttotal: 730ms\tremaining: 95.7ms\n",
      "884:\tlearn: 0.0039655\ttotal: 730ms\tremaining: 94.9ms\n",
      "885:\tlearn: 0.0039614\ttotal: 731ms\tremaining: 94.1ms\n",
      "886:\tlearn: 0.0039568\ttotal: 732ms\tremaining: 93.2ms\n",
      "887:\tlearn: 0.0039521\ttotal: 733ms\tremaining: 92.4ms\n",
      "888:\tlearn: 0.0039467\ttotal: 733ms\tremaining: 91.6ms\n",
      "889:\tlearn: 0.0039425\ttotal: 734ms\tremaining: 90.7ms\n",
      "890:\tlearn: 0.0039384\ttotal: 735ms\tremaining: 89.9ms\n",
      "891:\tlearn: 0.0039341\ttotal: 735ms\tremaining: 89ms\n",
      "892:\tlearn: 0.0039293\ttotal: 736ms\tremaining: 88.2ms\n",
      "893:\tlearn: 0.0039254\ttotal: 737ms\tremaining: 87.4ms\n",
      "894:\tlearn: 0.0039209\ttotal: 738ms\tremaining: 86.6ms\n",
      "895:\tlearn: 0.0039164\ttotal: 739ms\tremaining: 85.8ms\n",
      "896:\tlearn: 0.0039110\ttotal: 740ms\tremaining: 84.9ms\n",
      "897:\tlearn: 0.0039067\ttotal: 740ms\tremaining: 84.1ms\n",
      "898:\tlearn: 0.0039030\ttotal: 741ms\tremaining: 83.3ms\n",
      "899:\tlearn: 0.0038978\ttotal: 742ms\tremaining: 82.4ms\n",
      "900:\tlearn: 0.0038924\ttotal: 743ms\tremaining: 81.6ms\n",
      "901:\tlearn: 0.0038882\ttotal: 743ms\tremaining: 80.8ms\n",
      "902:\tlearn: 0.0038840\ttotal: 744ms\tremaining: 79.9ms\n",
      "903:\tlearn: 0.0038781\ttotal: 745ms\tremaining: 79.1ms\n",
      "904:\tlearn: 0.0038741\ttotal: 746ms\tremaining: 78.3ms\n",
      "905:\tlearn: 0.0038695\ttotal: 747ms\tremaining: 77.5ms\n",
      "906:\tlearn: 0.0038654\ttotal: 747ms\tremaining: 76.6ms\n",
      "907:\tlearn: 0.0038611\ttotal: 748ms\tremaining: 75.8ms\n",
      "908:\tlearn: 0.0038567\ttotal: 749ms\tremaining: 75ms\n",
      "909:\tlearn: 0.0038529\ttotal: 749ms\tremaining: 74.1ms\n",
      "910:\tlearn: 0.0038495\ttotal: 750ms\tremaining: 73.3ms\n",
      "911:\tlearn: 0.0038458\ttotal: 751ms\tremaining: 72.5ms\n",
      "912:\tlearn: 0.0038425\ttotal: 752ms\tremaining: 71.7ms\n",
      "913:\tlearn: 0.0038354\ttotal: 753ms\tremaining: 70.8ms\n",
      "914:\tlearn: 0.0038311\ttotal: 753ms\tremaining: 70ms\n",
      "915:\tlearn: 0.0038260\ttotal: 754ms\tremaining: 69.2ms\n",
      "916:\tlearn: 0.0038225\ttotal: 755ms\tremaining: 68.3ms\n",
      "917:\tlearn: 0.0038156\ttotal: 756ms\tremaining: 67.5ms\n",
      "918:\tlearn: 0.0038119\ttotal: 757ms\tremaining: 66.7ms\n",
      "919:\tlearn: 0.0038087\ttotal: 757ms\tremaining: 65.9ms\n",
      "920:\tlearn: 0.0038044\ttotal: 758ms\tremaining: 65ms\n",
      "921:\tlearn: 0.0038014\ttotal: 759ms\tremaining: 64.2ms\n",
      "922:\tlearn: 0.0037982\ttotal: 760ms\tremaining: 63.4ms\n",
      "923:\tlearn: 0.0037949\ttotal: 760ms\tremaining: 62.5ms\n",
      "924:\tlearn: 0.0037918\ttotal: 761ms\tremaining: 61.7ms\n",
      "925:\tlearn: 0.0037880\ttotal: 762ms\tremaining: 60.9ms\n",
      "926:\tlearn: 0.0037846\ttotal: 763ms\tremaining: 60.1ms\n",
      "927:\tlearn: 0.0037807\ttotal: 763ms\tremaining: 59.2ms\n",
      "928:\tlearn: 0.0037769\ttotal: 764ms\tremaining: 58.4ms\n",
      "929:\tlearn: 0.0037729\ttotal: 765ms\tremaining: 57.6ms\n",
      "930:\tlearn: 0.0037687\ttotal: 766ms\tremaining: 56.7ms\n",
      "931:\tlearn: 0.0037649\ttotal: 766ms\tremaining: 55.9ms\n",
      "932:\tlearn: 0.0037605\ttotal: 768ms\tremaining: 55.1ms\n",
      "933:\tlearn: 0.0037552\ttotal: 769ms\tremaining: 54.3ms\n",
      "934:\tlearn: 0.0037513\ttotal: 770ms\tremaining: 53.5ms\n",
      "935:\tlearn: 0.0037473\ttotal: 771ms\tremaining: 52.7ms\n",
      "936:\tlearn: 0.0037431\ttotal: 771ms\tremaining: 51.9ms\n",
      "937:\tlearn: 0.0037396\ttotal: 772ms\tremaining: 51ms\n",
      "938:\tlearn: 0.0037314\ttotal: 773ms\tremaining: 50.2ms\n",
      "939:\tlearn: 0.0037275\ttotal: 773ms\tremaining: 49.4ms\n",
      "940:\tlearn: 0.0037234\ttotal: 774ms\tremaining: 48.5ms\n",
      "941:\tlearn: 0.0037177\ttotal: 775ms\tremaining: 47.7ms\n",
      "942:\tlearn: 0.0037132\ttotal: 775ms\tremaining: 46.9ms\n",
      "943:\tlearn: 0.0037092\ttotal: 776ms\tremaining: 46.1ms\n",
      "944:\tlearn: 0.0037055\ttotal: 777ms\tremaining: 45.2ms\n",
      "945:\tlearn: 0.0037014\ttotal: 778ms\tremaining: 44.4ms\n",
      "946:\tlearn: 0.0036982\ttotal: 779ms\tremaining: 43.6ms\n",
      "947:\tlearn: 0.0036956\ttotal: 780ms\tremaining: 42.8ms\n",
      "948:\tlearn: 0.0036892\ttotal: 780ms\tremaining: 41.9ms\n",
      "949:\tlearn: 0.0036861\ttotal: 781ms\tremaining: 41.1ms\n",
      "950:\tlearn: 0.0036818\ttotal: 782ms\tremaining: 40.3ms\n",
      "951:\tlearn: 0.0036780\ttotal: 783ms\tremaining: 39.5ms\n",
      "952:\tlearn: 0.0036739\ttotal: 784ms\tremaining: 38.7ms\n",
      "953:\tlearn: 0.0036702\ttotal: 785ms\tremaining: 37.9ms\n",
      "954:\tlearn: 0.0036662\ttotal: 786ms\tremaining: 37ms\n",
      "955:\tlearn: 0.0036610\ttotal: 787ms\tremaining: 36.2ms\n",
      "956:\tlearn: 0.0036578\ttotal: 787ms\tremaining: 35.4ms\n",
      "957:\tlearn: 0.0036524\ttotal: 788ms\tremaining: 34.6ms\n",
      "958:\tlearn: 0.0036482\ttotal: 789ms\tremaining: 33.7ms\n",
      "959:\tlearn: 0.0036446\ttotal: 790ms\tremaining: 32.9ms\n",
      "960:\tlearn: 0.0036410\ttotal: 791ms\tremaining: 32.1ms\n",
      "961:\tlearn: 0.0036370\ttotal: 791ms\tremaining: 31.3ms\n",
      "962:\tlearn: 0.0036328\ttotal: 792ms\tremaining: 30.4ms\n",
      "963:\tlearn: 0.0036281\ttotal: 793ms\tremaining: 29.6ms\n",
      "964:\tlearn: 0.0036234\ttotal: 794ms\tremaining: 28.8ms\n",
      "965:\tlearn: 0.0036194\ttotal: 795ms\tremaining: 28ms\n",
      "966:\tlearn: 0.0036162\ttotal: 796ms\tremaining: 27.2ms\n",
      "967:\tlearn: 0.0036126\ttotal: 796ms\tremaining: 26.3ms\n",
      "968:\tlearn: 0.0036077\ttotal: 797ms\tremaining: 25.5ms\n",
      "969:\tlearn: 0.0036035\ttotal: 798ms\tremaining: 24.7ms\n",
      "970:\tlearn: 0.0035996\ttotal: 799ms\tremaining: 23.9ms\n",
      "971:\tlearn: 0.0035955\ttotal: 800ms\tremaining: 23.1ms\n",
      "972:\tlearn: 0.0035912\ttotal: 801ms\tremaining: 22.2ms\n",
      "973:\tlearn: 0.0035875\ttotal: 802ms\tremaining: 21.4ms\n",
      "974:\tlearn: 0.0035832\ttotal: 803ms\tremaining: 20.6ms\n",
      "975:\tlearn: 0.0035793\ttotal: 804ms\tremaining: 19.8ms\n",
      "976:\tlearn: 0.0035760\ttotal: 805ms\tremaining: 18.9ms\n",
      "977:\tlearn: 0.0035726\ttotal: 806ms\tremaining: 18.1ms\n",
      "978:\tlearn: 0.0035668\ttotal: 806ms\tremaining: 17.3ms\n",
      "979:\tlearn: 0.0035629\ttotal: 807ms\tremaining: 16.5ms\n",
      "980:\tlearn: 0.0035594\ttotal: 808ms\tremaining: 15.7ms\n",
      "981:\tlearn: 0.0035561\ttotal: 809ms\tremaining: 14.8ms\n",
      "982:\tlearn: 0.0035528\ttotal: 810ms\tremaining: 14ms\n",
      "983:\tlearn: 0.0035480\ttotal: 811ms\tremaining: 13.2ms\n",
      "984:\tlearn: 0.0035443\ttotal: 813ms\tremaining: 12.4ms\n",
      "985:\tlearn: 0.0035325\ttotal: 813ms\tremaining: 11.5ms\n",
      "986:\tlearn: 0.0035283\ttotal: 814ms\tremaining: 10.7ms\n",
      "987:\tlearn: 0.0035240\ttotal: 815ms\tremaining: 9.9ms\n",
      "988:\tlearn: 0.0035207\ttotal: 816ms\tremaining: 9.07ms\n",
      "989:\tlearn: 0.0035174\ttotal: 817ms\tremaining: 8.25ms\n",
      "990:\tlearn: 0.0035149\ttotal: 817ms\tremaining: 7.42ms\n",
      "991:\tlearn: 0.0035107\ttotal: 818ms\tremaining: 6.6ms\n",
      "992:\tlearn: 0.0035069\ttotal: 820ms\tremaining: 5.78ms\n",
      "993:\tlearn: 0.0035035\ttotal: 821ms\tremaining: 4.95ms\n",
      "994:\tlearn: 0.0034997\ttotal: 822ms\tremaining: 4.13ms\n",
      "995:\tlearn: 0.0034972\ttotal: 822ms\tremaining: 3.3ms\n",
      "996:\tlearn: 0.0034933\ttotal: 823ms\tremaining: 2.48ms\n",
      "997:\tlearn: 0.0034863\ttotal: 824ms\tremaining: 1.65ms\n",
      "998:\tlearn: 0.0034825\ttotal: 825ms\tremaining: 825us\n",
      "999:\tlearn: 0.0034793\ttotal: 826ms\tremaining: 0us\n"
     ]
    },
    {
     "data": {
      "text/plain": [
       "<catboost.core.CatBoostClassifier at 0x2d61b7e47d0>"
      ]
     },
     "execution_count": 133,
     "metadata": {},
     "output_type": "execute_result"
    }
   ],
   "source": [
    "cbc.fit(x_train, y_train)"
   ]
  },
  {
   "cell_type": "code",
   "execution_count": 134,
   "metadata": {},
   "outputs": [
    {
     "data": {
      "text/plain": [
       "0.9325842696629213"
      ]
     },
     "execution_count": 134,
     "metadata": {},
     "output_type": "execute_result"
    }
   ],
   "source": [
    "cbc.score(x_test, y_test)"
   ]
  },
  {
   "cell_type": "code",
   "execution_count": 135,
   "metadata": {},
   "outputs": [],
   "source": [
    "y_pred5 = cbc.predict(x_test)"
   ]
  },
  {
   "cell_type": "code",
   "execution_count": 136,
   "metadata": {},
   "outputs": [
    {
     "data": {
      "text/plain": [
       "0.9325842696629213"
      ]
     },
     "execution_count": 136,
     "metadata": {},
     "output_type": "execute_result"
    }
   ],
   "source": [
    "accuracy_score(y_test, y_pred5)"
   ]
  },
  {
   "cell_type": "code",
   "execution_count": 137,
   "metadata": {},
   "outputs": [
    {
     "data": {
      "text/plain": [
       "array([[9.99983903e-01, 1.44050356e-05, 1.69173320e-06],\n",
       "       [1.01774995e-05, 6.47406331e-05, 9.99925082e-01],\n",
       "       [8.19320054e-04, 9.99162705e-01, 1.79751479e-05],\n",
       "       [9.99975379e-01, 2.08468321e-05, 3.77390912e-06],\n",
       "       [1.47872969e-02, 9.72535380e-01, 1.26773234e-02],\n",
       "       [2.27024911e-01, 7.65068311e-01, 7.90677850e-03],\n",
       "       [9.99994178e-01, 2.56793484e-06, 3.25438970e-06],\n",
       "       [1.00539431e-06, 1.38527043e-04, 9.99860468e-01],\n",
       "       [3.06595125e-05, 9.99954215e-01, 1.51259405e-05],\n",
       "       [2.89965829e-06, 9.99989070e-01, 8.02989712e-06]])"
      ]
     },
     "execution_count": 137,
     "metadata": {},
     "output_type": "execute_result"
    }
   ],
   "source": [
    "y_pred_proba5 = lgbmc.predict_proba(x_test)\n",
    "y_pred_proba5[:10]"
   ]
  },
  {
   "cell_type": "code",
   "execution_count": 138,
   "metadata": {},
   "outputs": [
    {
     "data": {
      "text/plain": [
       "0.09501537268919868"
      ]
     },
     "execution_count": 138,
     "metadata": {},
     "output_type": "execute_result"
    }
   ],
   "source": [
    "log_loss(y_test, y_pred_proba5)"
   ]
  },
  {
   "cell_type": "code",
   "execution_count": 140,
   "metadata": {},
   "outputs": [
    {
     "ename": "MissingShapeCalculator",
     "evalue": "Unable to find a shape calculator for type '<class 'catboost.core.CatBoostClassifier'>'.\nIt usually means the pipeline being converted contains a\ntransformer or a predictor with no corresponding converter\nimplemented in sklearn-onnx. If the converted is implemented\nin another library, you need to register\nthe converted so that it can be used by sklearn-onnx (function\nupdate_registered_converter). If the model is not yet covered\nby sklearn-onnx, you may raise an issue to\nhttps://github.com/onnx/sklearn-onnx/issues\nto get the converter implemented or even contribute to the\nproject. If the model is a custom model, a new converter must\nbe implemented. Examples can be found in the gallery.\n",
     "output_type": "error",
     "traceback": [
      "\u001b[1;31m---------------------------------------------------------------------------\u001b[0m",
      "\u001b[1;31mMissingShapeCalculator\u001b[0m                    Traceback (most recent call last)",
      "Cell \u001b[1;32mIn[140], line 2\u001b[0m\n\u001b[0;32m      1\u001b[0m initial_type \u001b[39m=\u001b[39m [(\u001b[39m'\u001b[39m\u001b[39minput\u001b[39m\u001b[39m'\u001b[39m, FloatTensorType([\u001b[39m1\u001b[39m, \u001b[39m13\u001b[39m]))]\n\u001b[1;32m----> 2\u001b[0m onx \u001b[39m=\u001b[39m convert_sklearn(cbc, initial_types\u001b[39m=\u001b[39;49minitial_type, target_opset\u001b[39m=\u001b[39;49m\u001b[39m18\u001b[39;49m)\n\u001b[0;32m      3\u001b[0m \u001b[39mwith\u001b[39;00m \u001b[39mopen\u001b[39m(\u001b[39m\"\u001b[39m\u001b[39mCatBoostClassifier.onnx\u001b[39m\u001b[39m\"\u001b[39m, \u001b[39m\"\u001b[39m\u001b[39mwb\u001b[39m\u001b[39m\"\u001b[39m) \u001b[39mas\u001b[39;00m f:\n\u001b[0;32m      4\u001b[0m     f\u001b[39m.\u001b[39mwrite(onx\u001b[39m.\u001b[39mSerializeToString())\n",
      "File \u001b[1;32md:\\miniconda3\\envs\\pytorch\\Lib\\site-packages\\skl2onnx\\convert.py:188\u001b[0m, in \u001b[0;36mconvert_sklearn\u001b[1;34m(model, name, initial_types, doc_string, target_opset, custom_conversion_functions, custom_shape_calculators, custom_parsers, options, intermediate, white_op, black_op, final_types, dtype, naming, model_optim, verbose)\u001b[0m\n\u001b[0;32m    186\u001b[0m \u001b[39mif\u001b[39;00m verbose \u001b[39m>\u001b[39m\u001b[39m=\u001b[39m \u001b[39m1\u001b[39m:\n\u001b[0;32m    187\u001b[0m     \u001b[39mprint\u001b[39m(\u001b[39m\"\u001b[39m\u001b[39m[convert_sklearn] convert_topology\u001b[39m\u001b[39m\"\u001b[39m)\n\u001b[1;32m--> 188\u001b[0m onnx_model \u001b[39m=\u001b[39m convert_topology(\n\u001b[0;32m    189\u001b[0m     topology, name, doc_string, target_opset, options\u001b[39m=\u001b[39;49moptions,\n\u001b[0;32m    190\u001b[0m     remove_identity\u001b[39m=\u001b[39;49mmodel_optim \u001b[39mand\u001b[39;49;00m \u001b[39mnot\u001b[39;49;00m intermediate, verbose\u001b[39m=\u001b[39;49mverbose)\n\u001b[0;32m    191\u001b[0m \u001b[39mif\u001b[39;00m verbose \u001b[39m>\u001b[39m\u001b[39m=\u001b[39m \u001b[39m1\u001b[39m:\n\u001b[0;32m    192\u001b[0m     \u001b[39mprint\u001b[39m(\u001b[39m\"\u001b[39m\u001b[39m[convert_sklearn] end\u001b[39m\u001b[39m\"\u001b[39m)\n",
      "File \u001b[1;32md:\\miniconda3\\envs\\pytorch\\Lib\\site-packages\\skl2onnx\\common\\_topology.py:1420\u001b[0m, in \u001b[0;36mconvert_topology\u001b[1;34m(topology, model_name, doc_string, target_opset, channel_first_inputs, options, remove_identity, verbose)\u001b[0m\n\u001b[0;32m   1411\u001b[0m container \u001b[39m=\u001b[39m ModelComponentContainer(\n\u001b[0;32m   1412\u001b[0m     target_opset, options\u001b[39m=\u001b[39moptions,\n\u001b[0;32m   1413\u001b[0m     registered_models\u001b[39m=\u001b[39mtopology\u001b[39m.\u001b[39mregistered_models,\n\u001b[0;32m   1414\u001b[0m     white_op\u001b[39m=\u001b[39mtopology\u001b[39m.\u001b[39mraw_model\u001b[39m.\u001b[39m_white_op,\n\u001b[0;32m   1415\u001b[0m     black_op\u001b[39m=\u001b[39mtopology\u001b[39m.\u001b[39mraw_model\u001b[39m.\u001b[39m_black_op,\n\u001b[0;32m   1416\u001b[0m     verbose\u001b[39m=\u001b[39mverbose)\n\u001b[0;32m   1418\u001b[0m \u001b[39m# Traverse the graph from roots to leaves\u001b[39;00m\n\u001b[0;32m   1419\u001b[0m \u001b[39m# This loop could eventually be parallelized.\u001b[39;00m\n\u001b[1;32m-> 1420\u001b[0m topology\u001b[39m.\u001b[39;49mconvert_operators(container\u001b[39m=\u001b[39;49mcontainer, verbose\u001b[39m=\u001b[39;49mverbose)\n\u001b[0;32m   1421\u001b[0m container\u001b[39m.\u001b[39mensure_topological_order()\n\u001b[0;32m   1423\u001b[0m \u001b[39mif\u001b[39;00m \u001b[39mlen\u001b[39m(container\u001b[39m.\u001b[39minputs) \u001b[39m==\u001b[39m \u001b[39m0\u001b[39m:\n",
      "File \u001b[1;32md:\\miniconda3\\envs\\pytorch\\Lib\\site-packages\\skl2onnx\\common\\_topology.py:1254\u001b[0m, in \u001b[0;36mTopology.convert_operators\u001b[1;34m(self, container, verbose)\u001b[0m\n\u001b[0;32m   1251\u001b[0m \u001b[39mfor\u001b[39;00m variable \u001b[39min\u001b[39;00m operator\u001b[39m.\u001b[39moutputs:\n\u001b[0;32m   1252\u001b[0m     _check_variable_out_(variable, operator)\n\u001b[1;32m-> 1254\u001b[0m \u001b[39mself\u001b[39;49m\u001b[39m.\u001b[39;49mcall_shape_calculator(operator)\n\u001b[0;32m   1255\u001b[0m \u001b[39mself\u001b[39m\u001b[39m.\u001b[39mcall_converter(operator, container, verbose\u001b[39m=\u001b[39mverbose)\n\u001b[0;32m   1257\u001b[0m \u001b[39m# If an operator contains a sequence of operators,\u001b[39;00m\n\u001b[0;32m   1258\u001b[0m \u001b[39m# output variables are not necessarily known at this stage.\u001b[39;00m\n",
      "File \u001b[1;32md:\\miniconda3\\envs\\pytorch\\Lib\\site-packages\\skl2onnx\\common\\_topology.py:1090\u001b[0m, in \u001b[0;36mTopology.call_shape_calculator\u001b[1;34m(self, operator)\u001b[0m\n\u001b[0;32m   1088\u001b[0m \u001b[39melse\u001b[39;00m:\n\u001b[0;32m   1089\u001b[0m     logger\u001b[39m.\u001b[39mdebug(\u001b[39m'\u001b[39m\u001b[39m[Shape2] call infer_types for \u001b[39m\u001b[39m%r\u001b[39;00m\u001b[39m'\u001b[39m, operator)\n\u001b[1;32m-> 1090\u001b[0m     operator\u001b[39m.\u001b[39;49minfer_types()\n",
      "File \u001b[1;32md:\\miniconda3\\envs\\pytorch\\Lib\\site-packages\\skl2onnx\\common\\_topology.py:588\u001b[0m, in \u001b[0;36mOperator.infer_types\u001b[1;34m(self)\u001b[0m\n\u001b[0;32m    585\u001b[0m \u001b[39mdef\u001b[39;00m \u001b[39minfer_types\u001b[39m(\u001b[39mself\u001b[39m):\n\u001b[0;32m    586\u001b[0m     \u001b[39m# Invoke a core inference function\u001b[39;00m\n\u001b[0;32m    587\u001b[0m     \u001b[39mif\u001b[39;00m \u001b[39mself\u001b[39m\u001b[39m.\u001b[39mtype \u001b[39mis\u001b[39;00m \u001b[39mNone\u001b[39;00m:\n\u001b[1;32m--> 588\u001b[0m         \u001b[39mraise\u001b[39;00m MissingShapeCalculator(\n\u001b[0;32m    589\u001b[0m             \u001b[39m\"\u001b[39m\u001b[39mUnable to find a shape calculator for type \u001b[39m\u001b[39m'\u001b[39m\u001b[39m{}\u001b[39;00m\u001b[39m'\u001b[39m\u001b[39m.\u001b[39m\u001b[39m\"\u001b[39m\u001b[39m.\u001b[39mformat(\n\u001b[0;32m    590\u001b[0m                 \u001b[39mtype\u001b[39m(\u001b[39mself\u001b[39m\u001b[39m.\u001b[39mraw_operator)))\n\u001b[0;32m    591\u001b[0m     \u001b[39mtry\u001b[39;00m:\n\u001b[0;32m    592\u001b[0m         shape_calc \u001b[39m=\u001b[39m _registration\u001b[39m.\u001b[39mget_shape_calculator(\u001b[39mself\u001b[39m\u001b[39m.\u001b[39mtype)\n",
      "\u001b[1;31mMissingShapeCalculator\u001b[0m: Unable to find a shape calculator for type '<class 'catboost.core.CatBoostClassifier'>'.\nIt usually means the pipeline being converted contains a\ntransformer or a predictor with no corresponding converter\nimplemented in sklearn-onnx. If the converted is implemented\nin another library, you need to register\nthe converted so that it can be used by sklearn-onnx (function\nupdate_registered_converter). If the model is not yet covered\nby sklearn-onnx, you may raise an issue to\nhttps://github.com/onnx/sklearn-onnx/issues\nto get the converter implemented or even contribute to the\nproject. If the model is a custom model, a new converter must\nbe implemented. Examples can be found in the gallery.\n"
     ]
    }
   ],
   "source": [
    "initial_type = [('input', FloatTensorType([1, 13]))]\n",
    "onx = convert_sklearn(cbc, initial_types=initial_type, target_opset=18)\n",
    "with open(\"CatBoostClassifier.onnx\", \"wb\") as f:\n",
    "    f.write(onx.SerializeToString())"
   ]
  },
  {
   "cell_type": "code",
   "execution_count": null,
   "metadata": {},
   "outputs": [],
   "source": []
  }
 ],
 "metadata": {
  "kernelspec": {
   "display_name": "pytorch",
   "language": "python",
   "name": "python3"
  },
  "language_info": {
   "codemirror_mode": {
    "name": "ipython",
    "version": 3
   },
   "file_extension": ".py",
   "mimetype": "text/x-python",
   "name": "python",
   "nbconvert_exporter": "python",
   "pygments_lexer": "ipython3",
   "version": "3.11.3"
  },
  "orig_nbformat": 4
 },
 "nbformat": 4,
 "nbformat_minor": 2
}
