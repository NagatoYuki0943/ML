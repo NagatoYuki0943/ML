{
 "cells": [
  {
   "cell_type": "code",
   "execution_count": 1,
   "metadata": {},
   "outputs": [],
   "source": [
    "from sklearn.feature_extraction.text import TfidfVectorizer\n",
    "import jieba\n",
    "import pandas as pd"
   ]
  },
  {
   "cell_type": "markdown",
   "metadata": {},
   "source": [
    "TF-IDF的主要思想是：如果某个词或短语在一篇文章中出现的概率高，并且在其他文章中很少出现，则认为此词或者短语具有很好的类别区分能力，适合用来分类。\n",
    "TF-IDF作用：用以评估一字词对于一个文件集或一个语料库中的其中一份文件的重要程度。"
   ]
  },
  {
   "cell_type": "markdown",
   "metadata": {},
   "source": [
    "# jieba"
   ]
  },
  {
   "cell_type": "code",
   "execution_count": 7,
   "metadata": {},
   "outputs": [],
   "source": [
    "def cut_word(text: str) -> list[str]:\n",
    "    \"\"\"\n",
    "    :param str:\n",
    "    :return: list[str]\n",
    "    \"\"\"\n",
    "\n",
    "    # jieba返回对象,使用list转换    使用空格分开字词\n",
    "    text = \" \".join(list(jieba.cut(text)))\n",
    "    return text"
   ]
  },
  {
   "attachments": {},
   "cell_type": "markdown",
   "metadata": {},
   "source": [
    "# 文本特征提取"
   ]
  },
  {
   "cell_type": "code",
   "execution_count": 8,
   "metadata": {},
   "outputs": [],
   "source": [
    "data = [\"一种还是一种今天很残酷，明天更残酷，后天很美好，但绝对大部分是死在明天晚上，所以每个人不要放弃今天。\",\n",
    "        \"我们看到的从很远星系来的光是在几百万年之前发出的，这样当我们看到宇宙时，我们是在看它的过去。\",\n",
    "        \"如果只用一种方式了解某样事物，你就不会真正了解它。了解事物真正含义的秘密取决于如何将其与我们所了解的事物相联系。\"]"
   ]
  },
  {
   "cell_type": "markdown",
   "metadata": {},
   "source": [
    "## 将原始数据转换成分好词的形式"
   ]
  },
  {
   "cell_type": "code",
   "execution_count": 9,
   "metadata": {},
   "outputs": [
    {
     "name": "stderr",
     "output_type": "stream",
     "text": [
      "Building prefix dict from the default dictionary ...\n",
      "Loading model from cache C:\\Users\\ADMINI~1\\AppData\\Local\\Temp\\jieba.cache\n",
      "Loading model cost 0.901 seconds.\n",
      "Prefix dict has been built successfully.\n"
     ]
    },
    {
     "data": {
      "text/plain": [
       "['一种 还是 一种 今天 很 残酷 ， 明天 更 残酷 ， 后天 很 美好 ， 但 绝对 大部分 是 死 在 明天 晚上 ， 所以 每个 人 不要 放弃 今天 。',\n",
       " '我们 看到 的 从 很 远 星系 来 的 光是在 几百万年 之前 发出 的 ， 这样 当 我们 看到 宇宙 时 ， 我们 是 在 看 它 的 过去 。',\n",
       " '如果 只用 一种 方式 了解 某样 事物 ， 你 就 不会 真正 了解 它 。 了解 事物 真正 含义 的 秘密 取决于 如何 将 其 与 我们 所 了解 的 事物 相 联系 。']"
      ]
     },
     "execution_count": 9,
     "metadata": {},
     "output_type": "execute_result"
    }
   ],
   "source": [
    "text_list = []\n",
    "for text in data:\n",
    "    text_list.append(cut_word(text))\n",
    "text_list"
   ]
  },
  {
   "cell_type": "markdown",
   "metadata": {},
   "source": [
    "# TfidfVectorizer"
   ]
  },
  {
   "cell_type": "code",
   "execution_count": 10,
   "metadata": {},
   "outputs": [],
   "source": [
    "# stop_words 停止词\n",
    "transfer = TfidfVectorizer(stop_words=['一种', '不会', '不要'])"
   ]
  },
  {
   "cell_type": "code",
   "execution_count": 12,
   "metadata": {},
   "outputs": [
    {
     "data": {
      "text/plain": [
       "array([[0.        , 0.        , 0.        , 0.43643578, 0.        ,\n",
       "        0.        , 0.        , 0.        , 0.        , 0.21821789,\n",
       "        0.        , 0.21821789, 0.        , 0.        , 0.        ,\n",
       "        0.        , 0.21821789, 0.21821789, 0.        , 0.43643578,\n",
       "        0.        , 0.21821789, 0.        , 0.43643578, 0.21821789,\n",
       "        0.        , 0.        , 0.        , 0.21821789, 0.21821789,\n",
       "        0.        , 0.        , 0.21821789, 0.        ],\n",
       "       [0.2410822 , 0.        , 0.        , 0.        , 0.2410822 ,\n",
       "        0.2410822 , 0.2410822 , 0.        , 0.        , 0.        ,\n",
       "        0.        , 0.        , 0.        , 0.        , 0.2410822 ,\n",
       "        0.55004769, 0.        , 0.        , 0.        , 0.        ,\n",
       "        0.2410822 , 0.        , 0.        , 0.        , 0.        ,\n",
       "        0.48216441, 0.        , 0.        , 0.        , 0.        ,\n",
       "        0.        , 0.2410822 , 0.        , 0.2410822 ],\n",
       "       [0.        , 0.644003  , 0.48300225, 0.        , 0.        ,\n",
       "        0.        , 0.        , 0.16100075, 0.16100075, 0.        ,\n",
       "        0.16100075, 0.        , 0.16100075, 0.16100075, 0.        ,\n",
       "        0.12244522, 0.        , 0.        , 0.16100075, 0.        ,\n",
       "        0.        , 0.        , 0.16100075, 0.        , 0.        ,\n",
       "        0.        , 0.3220015 , 0.16100075, 0.        , 0.        ,\n",
       "        0.16100075, 0.        , 0.        , 0.        ]])"
      ]
     },
     "execution_count": 12,
     "metadata": {},
     "output_type": "execute_result"
    }
   ],
   "source": [
    "data_trans = transfer.fit_transform(text_list)\n",
    "data_trans.toarray()"
   ]
  },
  {
   "cell_type": "code",
   "execution_count": 13,
   "metadata": {},
   "outputs": [
    {
     "data": {
      "text/plain": [
       "array(['之前', '了解', '事物', '今天', '光是在', '几百万年', '发出', '取决于', '只用', '后天',\n",
       "       '含义', '大部分', '如何', '如果', '宇宙', '我们', '所以', '放弃', '方式', '明天', '星系',\n",
       "       '晚上', '某样', '残酷', '每个', '看到', '真正', '秘密', '绝对', '美好', '联系', '过去',\n",
       "       '还是', '这样'], dtype=object)"
      ]
     },
     "execution_count": 13,
     "metadata": {},
     "output_type": "execute_result"
    }
   ],
   "source": [
    "transfer.get_feature_names_out()"
   ]
  },
  {
   "cell_type": "code",
   "execution_count": 14,
   "metadata": {},
   "outputs": [
    {
     "data": {
      "text/html": [
       "<div>\n",
       "<style scoped>\n",
       "    .dataframe tbody tr th:only-of-type {\n",
       "        vertical-align: middle;\n",
       "    }\n",
       "\n",
       "    .dataframe tbody tr th {\n",
       "        vertical-align: top;\n",
       "    }\n",
       "\n",
       "    .dataframe thead th {\n",
       "        text-align: right;\n",
       "    }\n",
       "</style>\n",
       "<table border=\"1\" class=\"dataframe\">\n",
       "  <thead>\n",
       "    <tr style=\"text-align: right;\">\n",
       "      <th></th>\n",
       "      <th>之前</th>\n",
       "      <th>了解</th>\n",
       "      <th>事物</th>\n",
       "      <th>今天</th>\n",
       "      <th>光是在</th>\n",
       "      <th>几百万年</th>\n",
       "      <th>发出</th>\n",
       "      <th>取决于</th>\n",
       "      <th>只用</th>\n",
       "      <th>后天</th>\n",
       "      <th>...</th>\n",
       "      <th>每个</th>\n",
       "      <th>看到</th>\n",
       "      <th>真正</th>\n",
       "      <th>秘密</th>\n",
       "      <th>绝对</th>\n",
       "      <th>美好</th>\n",
       "      <th>联系</th>\n",
       "      <th>过去</th>\n",
       "      <th>还是</th>\n",
       "      <th>这样</th>\n",
       "    </tr>\n",
       "  </thead>\n",
       "  <tbody>\n",
       "    <tr>\n",
       "      <th>0</th>\n",
       "      <td>0.000000</td>\n",
       "      <td>0.000000</td>\n",
       "      <td>0.000000</td>\n",
       "      <td>0.436436</td>\n",
       "      <td>0.000000</td>\n",
       "      <td>0.000000</td>\n",
       "      <td>0.000000</td>\n",
       "      <td>0.000000</td>\n",
       "      <td>0.000000</td>\n",
       "      <td>0.218218</td>\n",
       "      <td>...</td>\n",
       "      <td>0.218218</td>\n",
       "      <td>0.000000</td>\n",
       "      <td>0.000000</td>\n",
       "      <td>0.000000</td>\n",
       "      <td>0.218218</td>\n",
       "      <td>0.218218</td>\n",
       "      <td>0.000000</td>\n",
       "      <td>0.000000</td>\n",
       "      <td>0.218218</td>\n",
       "      <td>0.000000</td>\n",
       "    </tr>\n",
       "    <tr>\n",
       "      <th>1</th>\n",
       "      <td>0.241082</td>\n",
       "      <td>0.000000</td>\n",
       "      <td>0.000000</td>\n",
       "      <td>0.000000</td>\n",
       "      <td>0.241082</td>\n",
       "      <td>0.241082</td>\n",
       "      <td>0.241082</td>\n",
       "      <td>0.000000</td>\n",
       "      <td>0.000000</td>\n",
       "      <td>0.000000</td>\n",
       "      <td>...</td>\n",
       "      <td>0.000000</td>\n",
       "      <td>0.482164</td>\n",
       "      <td>0.000000</td>\n",
       "      <td>0.000000</td>\n",
       "      <td>0.000000</td>\n",
       "      <td>0.000000</td>\n",
       "      <td>0.000000</td>\n",
       "      <td>0.241082</td>\n",
       "      <td>0.000000</td>\n",
       "      <td>0.241082</td>\n",
       "    </tr>\n",
       "    <tr>\n",
       "      <th>2</th>\n",
       "      <td>0.000000</td>\n",
       "      <td>0.644003</td>\n",
       "      <td>0.483002</td>\n",
       "      <td>0.000000</td>\n",
       "      <td>0.000000</td>\n",
       "      <td>0.000000</td>\n",
       "      <td>0.000000</td>\n",
       "      <td>0.161001</td>\n",
       "      <td>0.161001</td>\n",
       "      <td>0.000000</td>\n",
       "      <td>...</td>\n",
       "      <td>0.000000</td>\n",
       "      <td>0.000000</td>\n",
       "      <td>0.322001</td>\n",
       "      <td>0.161001</td>\n",
       "      <td>0.000000</td>\n",
       "      <td>0.000000</td>\n",
       "      <td>0.161001</td>\n",
       "      <td>0.000000</td>\n",
       "      <td>0.000000</td>\n",
       "      <td>0.000000</td>\n",
       "    </tr>\n",
       "  </tbody>\n",
       "</table>\n",
       "<p>3 rows × 34 columns</p>\n",
       "</div>"
      ],
      "text/plain": [
       "         之前        了解        事物        今天       光是在      几百万年        发出  \\\n",
       "0  0.000000  0.000000  0.000000  0.436436  0.000000  0.000000  0.000000   \n",
       "1  0.241082  0.000000  0.000000  0.000000  0.241082  0.241082  0.241082   \n",
       "2  0.000000  0.644003  0.483002  0.000000  0.000000  0.000000  0.000000   \n",
       "\n",
       "        取决于        只用        后天  ...        每个        看到        真正        秘密  \\\n",
       "0  0.000000  0.000000  0.218218  ...  0.218218  0.000000  0.000000  0.000000   \n",
       "1  0.000000  0.000000  0.000000  ...  0.000000  0.482164  0.000000  0.000000   \n",
       "2  0.161001  0.161001  0.000000  ...  0.000000  0.000000  0.322001  0.161001   \n",
       "\n",
       "         绝对        美好        联系        过去        还是        这样  \n",
       "0  0.218218  0.218218  0.000000  0.000000  0.218218  0.000000  \n",
       "1  0.000000  0.000000  0.000000  0.241082  0.000000  0.241082  \n",
       "2  0.000000  0.000000  0.161001  0.000000  0.000000  0.000000  \n",
       "\n",
       "[3 rows x 34 columns]"
      ]
     },
     "execution_count": 14,
     "metadata": {},
     "output_type": "execute_result"
    }
   ],
   "source": [
    "pd.DataFrame(data_trans.toarray(), columns=transfer.get_feature_names_out())"
   ]
  }
 ],
 "metadata": {
  "kernelspec": {
   "display_name": "pytorch",
   "language": "python",
   "name": "python3"
  },
  "language_info": {
   "codemirror_mode": {
    "name": "ipython",
    "version": 3
   },
   "file_extension": ".py",
   "mimetype": "text/x-python",
   "name": "python",
   "nbconvert_exporter": "python",
   "pygments_lexer": "ipython3",
   "version": "3.9.13 (main, Aug 25 2022, 23:51:50) [MSC v.1916 64 bit (AMD64)]"
  },
  "orig_nbformat": 4,
  "vscode": {
   "interpreter": {
    "hash": "5b5292cc5f82d8561d05c044f8ed41e8f78352f5ad17a4513f2686858f295381"
   }
  }
 },
 "nbformat": 4,
 "nbformat_minor": 2
}
