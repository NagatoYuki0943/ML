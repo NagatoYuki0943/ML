{
 "cells": [
  {
   "cell_type": "code",
   "execution_count": 1,
   "metadata": {},
   "outputs": [],
   "source": [
    "import numpy as np"
   ]
  },
  {
   "cell_type": "code",
   "execution_count": 3,
   "metadata": {},
   "outputs": [
    {
     "data": {
      "text/plain": [
       "array([   0,    1,    2, ..., 9997, 9998, 9999])"
      ]
     },
     "execution_count": 3,
     "metadata": {},
     "output_type": "execute_result"
    }
   ],
   "source": [
    "x = np.arange(10000)\n",
    "x"
   ]
  },
  {
   "cell_type": "markdown",
   "metadata": {},
   "source": [
    "# bagging\n",
    "\n",
    "Bagging: 重复训练多个不稳定的独立模型(方差大)得到一个稳定的模型(方差小) ，训练时数据可以进行bagging采样。比如随即森林。降低方差。\n",
    "\n",
    "最终抽样概率约为 $1 - \\frac 1 e = 0.632$"
   ]
  },
  {
   "cell_type": "code",
   "execution_count": 15,
   "metadata": {},
   "outputs": [],
   "source": [
    "def bagging(x: np.ndarray) -> tuple[np.ndarray, np.ndarray]:\n",
    "    in_bag = np.random.choice(x, size=x.size, replace=True)\n",
    "    out_bag = np.setdiff1d(x, in_bag)\n",
    "    return in_bag, out_bag"
   ]
  },
  {
   "cell_type": "code",
   "execution_count": 19,
   "metadata": {},
   "outputs": [
    {
     "name": "stdout",
     "output_type": "stream",
     "text": [
      "(10000,)\n",
      "(6371,)\n",
      "(3629,)\n",
      "(3629,)\n"
     ]
    }
   ],
   "source": [
    "in_bag, out_bag = bagging(x)\n",
    "print(in_bag.shape)\n",
    "print(np.unique(in_bag).shape)\n",
    "print(out_bag.shape)\n",
    "print(np.unique(out_bag).shape)"
   ]
  },
  {
   "cell_type": "code",
   "execution_count": null,
   "metadata": {},
   "outputs": [],
   "source": []
  }
 ],
 "metadata": {
  "kernelspec": {
   "display_name": "pytorch",
   "language": "python",
   "name": "python3"
  },
  "language_info": {
   "codemirror_mode": {
    "name": "ipython",
    "version": 3
   },
   "file_extension": ".py",
   "mimetype": "text/x-python",
   "name": "python",
   "nbconvert_exporter": "python",
   "pygments_lexer": "ipython3",
   "version": "3.11.4"
  }
 },
 "nbformat": 4,
 "nbformat_minor": 2
}
