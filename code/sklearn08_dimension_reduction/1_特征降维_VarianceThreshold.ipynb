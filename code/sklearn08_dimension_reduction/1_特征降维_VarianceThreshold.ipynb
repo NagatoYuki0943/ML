{
 "cells": [
  {
   "cell_type": "code",
   "execution_count": 1,
   "metadata": {},
   "outputs": [],
   "source": [
    "import numpy as np\n",
    "# 特征选择,低方差特征过滤\n",
    "from sklearn.feature_selection import VarianceThreshold"
   ]
  },
  {
   "cell_type": "markdown",
   "metadata": {},
   "source": [
    "# 生成数据"
   ]
  },
  {
   "cell_type": "code",
   "execution_count": 10,
   "metadata": {},
   "outputs": [],
   "source": [
    "col1 = np.random.normal(0, 0.5, 10) # std=0 var=0.5\n",
    "col2 = np.random.normal(1, 1.5, 10) # std=1 var=1.5\n",
    "col3 = np.random.normal(2, 2.0, 10) # std=2 var=2.0\n",
    "col4 = np.random.normal(3, 0.3, 10) # std=3 var=0.3"
   ]
  },
  {
   "cell_type": "code",
   "execution_count": 11,
   "metadata": {},
   "outputs": [
    {
     "data": {
      "text/plain": [
       "array([[-0.13848947,  3.1697164 ,  2.34874325,  2.89398151],\n",
       "       [ 0.18112715,  1.79714526,  0.72975823,  2.53701765],\n",
       "       [ 0.47208603, -1.1207317 ,  1.17006797,  2.78477962],\n",
       "       [ 0.39291914,  3.88138791,  0.57126532,  3.11409213],\n",
       "       [ 0.19886975,  2.30613654,  4.00434706,  3.16059487],\n",
       "       [ 0.9858888 ,  0.06683661,  3.32447641,  2.98962902],\n",
       "       [ 0.5300419 , -0.0185173 , -1.4964379 ,  3.10102516],\n",
       "       [-0.33541794,  2.35974226,  1.09530142,  3.31652085],\n",
       "       [ 0.25656332, -0.35378994,  2.08132058,  2.96529426],\n",
       "       [ 0.43682966,  2.77266828,  2.38783216,  3.11674097]])"
      ]
     },
     "execution_count": 11,
     "metadata": {},
     "output_type": "execute_result"
    }
   ],
   "source": [
    "data = np.stack((col1, col2, col3, col4), axis=1)\n",
    "data"
   ]
  },
  {
   "cell_type": "markdown",
   "metadata": {},
   "source": [
    "# VarianceThreshold"
   ]
  },
  {
   "cell_type": "code",
   "execution_count": 12,
   "metadata": {},
   "outputs": [],
   "source": [
    "#                      忽略方差小于1的\n",
    "vt = VarianceThreshold(threshold=1)"
   ]
  },
  {
   "cell_type": "code",
   "execution_count": 13,
   "metadata": {},
   "outputs": [
    {
     "data": {
      "text/plain": [
       "array([[ 3.1697164 ,  2.34874325],\n",
       "       [ 1.79714526,  0.72975823],\n",
       "       [-1.1207317 ,  1.17006797],\n",
       "       [ 3.88138791,  0.57126532],\n",
       "       [ 2.30613654,  4.00434706],\n",
       "       [ 0.06683661,  3.32447641],\n",
       "       [-0.0185173 , -1.4964379 ],\n",
       "       [ 2.35974226,  1.09530142],\n",
       "       [-0.35378994,  2.08132058],\n",
       "       [ 2.77266828,  2.38783216]])"
      ]
     },
     "execution_count": 13,
     "metadata": {},
     "output_type": "execute_result"
    }
   ],
   "source": [
    "# 去掉了方差小于1的两列\n",
    "vt.fit_transform(data)"
   ]
  }
 ],
 "metadata": {
  "kernelspec": {
   "display_name": "pytorch",
   "language": "python",
   "name": "python3"
  },
  "language_info": {
   "codemirror_mode": {
    "name": "ipython",
    "version": 3
   },
   "file_extension": ".py",
   "mimetype": "text/x-python",
   "name": "python",
   "nbconvert_exporter": "python",
   "pygments_lexer": "ipython3",
   "version": "3.9.13"
  },
  "orig_nbformat": 4,
  "vscode": {
   "interpreter": {
    "hash": "5b5292cc5f82d8561d05c044f8ed41e8f78352f5ad17a4513f2686858f295381"
   }
  }
 },
 "nbformat": 4,
 "nbformat_minor": 2
}
