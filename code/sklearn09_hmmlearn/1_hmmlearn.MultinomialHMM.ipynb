{
 "cells": [
  {
   "cell_type": "code",
   "execution_count": 40,
   "id": "e97f6482",
   "metadata": {},
   "outputs": [],
   "source": [
    "import numpy as np\n",
    "from hmmlearn import hmm"
   ]
  },
  {
   "cell_type": "code",
   "execution_count": 41,
   "id": "e1650426",
   "metadata": {},
   "outputs": [],
   "source": [
    "# 设定隐藏状态的集合\n",
    "states = [\"box 1\", \"box 2\", \"box3\"]\n",
    "n_states = len(states)\n",
    "\n",
    "# 设定观察状态的集合\n",
    "observations = [\"red\", \"white\"]\n",
    "n_observations = len(observations)\n",
    "\n",
    "# 设定初始状态分布\n",
    "start_probability = np.array([0.2, 0.4, 0.4])\n",
    "\n",
    "# 设定状态转移概率分布矩阵\n",
    "transition_probability = np.array([\n",
    "  [0.5, 0.2, 0.3],\n",
    "  [0.3, 0.5, 0.2],\n",
    "  [0.2, 0.3, 0.5]\n",
    "])\n",
    "\n",
    "\n",
    "# 设定观测状态概率矩阵\n",
    "emission_probability = np.array([\n",
    "  [0.5, 0.5],\n",
    "  [0.4, 0.6],\n",
    "  [0.7, 0.3]\n",
    "])\n",
    "\n",
    "# 设定模型参数\n",
    "model = hmm.MultinomialHMM(n_components=n_states)\n",
    "# 初始状态分布\n",
    "model.startprob_=start_probability  \n",
    "# 状态转移概率分布矩阵\n",
    "model.transmat_=transition_probability\n",
    "# 观测状态概率矩阵\n",
    "model.emissionprob_=emission_probability  "
   ]
  },
  {
   "cell_type": "code",
   "execution_count": 42,
   "id": "ab36e68f",
   "metadata": {
    "scrolled": false
   },
   "outputs": [
    {
     "data": {
      "text/plain": [
       "array([[0],\n",
       "       [1],\n",
       "       [0]])"
      ]
     },
     "execution_count": 42,
     "metadata": {},
     "output_type": "execute_result"
    }
   ],
   "source": [
    "# 设定观测序列\n",
    "seen = np.array([[0,1,0]]).T \n",
    "seen"
   ]
  },
  {
   "cell_type": "code",
   "execution_count": 43,
   "id": "7f6f3abe",
   "metadata": {},
   "outputs": [
    {
     "data": {
      "text/plain": [
       "array([0, 1, 0])"
      ]
     },
     "execution_count": 43,
     "metadata": {},
     "output_type": "execute_result"
    }
   ],
   "source": [
    "# 二维变为一维,下面的observations也是一维的,因此要一样\n",
    "seen.flatten()"
   ]
  },
  {
   "cell_type": "code",
   "execution_count": 44,
   "id": "d68f06a1",
   "metadata": {},
   "outputs": [
    {
     "data": {
      "text/plain": [
       "['red', 'white']"
      ]
     },
     "execution_count": 44,
     "metadata": {},
     "output_type": "execute_result"
    }
   ],
   "source": [
    "observations"
   ]
  },
  {
   "cell_type": "code",
   "execution_count": 45,
   "id": "1cd739f7",
   "metadata": {},
   "outputs": [
    {
     "data": {
      "text/plain": [
       "'red,white,red'"
      ]
     },
     "execution_count": 45,
     "metadata": {},
     "output_type": "execute_result"
    }
   ],
   "source": [
    "','.join(map(lambda x: observations[x], seen1))"
   ]
  },
  {
   "cell_type": "code",
   "execution_count": 51,
   "id": "65c00a72",
   "metadata": {},
   "outputs": [
    {
     "name": "stdout",
     "output_type": "stream",
     "text": [
      "球的观测顺序为：\n",
      " red, white, red\n"
     ]
    }
   ],
   "source": [
    "# 注意：需要使用flatten方法，把seen从二维变成一维\n",
    "print(\"球的观测顺序为：\\n\", \", \".join(map(lambda x: observations[x], seen.flatten())))"
   ]
  },
  {
   "cell_type": "code",
   "execution_count": 47,
   "id": "4ff43a41",
   "metadata": {},
   "outputs": [],
   "source": [
    "# 维特比模型训练\n",
    "box = model.predict(seen)"
   ]
  },
  {
   "cell_type": "code",
   "execution_count": 56,
   "id": "26eae810",
   "metadata": {},
   "outputs": [
    {
     "data": {
      "text/plain": [
       "'box3, box3, box3'"
      ]
     },
     "execution_count": 56,
     "metadata": {},
     "output_type": "execute_result"
    }
   ],
   "source": [
    "', '.join(map(lambda x: states[x], box))"
   ]
  },
  {
   "cell_type": "code",
   "execution_count": 60,
   "id": "9946a901",
   "metadata": {},
   "outputs": [
    {
     "name": "stdout",
     "output_type": "stream",
     "text": [
      "最可能的隐藏状态序列为:\n",
      " box3, box3, box3\n"
     ]
    }
   ],
   "source": [
    "print(\"最可能的隐藏状态序列为:\\n\", ', '.join(map(lambda x: states[x], box)))"
   ]
  },
  {
   "cell_type": "code",
   "execution_count": 61,
   "id": "55407345",
   "metadata": {},
   "outputs": [
    {
     "name": "stdout",
     "output_type": "stream",
     "text": [
      "-2.038545309915233\n"
     ]
    }
   ],
   "source": [
    "# 我们再来看看求HMM问题一的观测序列的概率的问题，代码如下：\n",
    "print(model.score(seen))\n",
    "# 输出结果是：-2.03854530992"
   ]
  },
  {
   "cell_type": "code",
   "execution_count": 62,
   "id": "c3f7738b",
   "metadata": {},
   "outputs": [
    {
     "data": {
      "text/plain": [
       "0.13021800000000003"
      ]
     },
     "execution_count": 62,
     "metadata": {},
     "output_type": "execute_result"
    }
   ],
   "source": [
    "import math\n",
    "\n",
    "math.exp(-2.038545309915233)\n",
    "# ln0.13022≈−2.0385\n",
    "# 输出结果是：0.13021800000000003"
   ]
  },
  {
   "cell_type": "code",
   "execution_count": null,
   "id": "678ae4ec",
   "metadata": {},
   "outputs": [],
   "source": []
  }
 ],
 "metadata": {
  "kernelspec": {
   "display_name": "Python 3",
   "language": "python",
   "name": "python3"
  },
  "language_info": {
   "codemirror_mode": {
    "name": "ipython",
    "version": 3
   },
   "file_extension": ".py",
   "mimetype": "text/x-python",
   "name": "python",
   "nbconvert_exporter": "python",
   "pygments_lexer": "ipython3",
   "version": "3.6.13"
  },
  "toc": {
   "base_numbering": 1,
   "nav_menu": {},
   "number_sections": true,
   "sideBar": true,
   "skip_h1_title": false,
   "title_cell": "Table of Contents",
   "title_sidebar": "Contents",
   "toc_cell": false,
   "toc_position": {
    "height": "calc(100% - 180px)",
    "left": "10px",
    "top": "150px",
    "width": "225.4px"
   },
   "toc_section_display": true,
   "toc_window_display": true
  }
 },
 "nbformat": 4,
 "nbformat_minor": 5
}
