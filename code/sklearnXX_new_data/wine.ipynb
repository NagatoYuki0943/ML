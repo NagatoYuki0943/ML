{
 "cells": [
  {
   "cell_type": "code",
   "execution_count": 1,
   "metadata": {},
   "outputs": [],
   "source": [
    "import numpy as np\n",
    "import pandas as pd\n",
    "import matplotlib.pyplot as plt\n",
    "import seaborn as sns"
   ]
  },
  {
   "cell_type": "markdown",
   "metadata": {},
   "source": [
    "# 读取数据"
   ]
  },
  {
   "cell_type": "code",
   "execution_count": 2,
   "metadata": {},
   "outputs": [
    {
     "data": {
      "text/html": [
       "<div>\n",
       "<style scoped>\n",
       "    .dataframe tbody tr th:only-of-type {\n",
       "        vertical-align: middle;\n",
       "    }\n",
       "\n",
       "    .dataframe tbody tr th {\n",
       "        vertical-align: top;\n",
       "    }\n",
       "\n",
       "    .dataframe thead th {\n",
       "        text-align: right;\n",
       "    }\n",
       "</style>\n",
       "<table border=\"1\" class=\"dataframe\">\n",
       "  <thead>\n",
       "    <tr style=\"text-align: right;\">\n",
       "      <th></th>\n",
       "      <th>0</th>\n",
       "      <th>1</th>\n",
       "      <th>2</th>\n",
       "      <th>3</th>\n",
       "      <th>4</th>\n",
       "      <th>5</th>\n",
       "      <th>6</th>\n",
       "      <th>7</th>\n",
       "      <th>8</th>\n",
       "      <th>9</th>\n",
       "      <th>10</th>\n",
       "      <th>11</th>\n",
       "      <th>12</th>\n",
       "      <th>13</th>\n",
       "    </tr>\n",
       "  </thead>\n",
       "  <tbody>\n",
       "    <tr>\n",
       "      <th>0</th>\n",
       "      <td>1</td>\n",
       "      <td>14.23</td>\n",
       "      <td>1.71</td>\n",
       "      <td>2.43</td>\n",
       "      <td>15.6</td>\n",
       "      <td>127</td>\n",
       "      <td>2.80</td>\n",
       "      <td>3.06</td>\n",
       "      <td>0.28</td>\n",
       "      <td>2.29</td>\n",
       "      <td>5.64</td>\n",
       "      <td>1.04</td>\n",
       "      <td>3.92</td>\n",
       "      <td>1065</td>\n",
       "    </tr>\n",
       "    <tr>\n",
       "      <th>1</th>\n",
       "      <td>1</td>\n",
       "      <td>13.20</td>\n",
       "      <td>1.78</td>\n",
       "      <td>2.14</td>\n",
       "      <td>11.2</td>\n",
       "      <td>100</td>\n",
       "      <td>2.65</td>\n",
       "      <td>2.76</td>\n",
       "      <td>0.26</td>\n",
       "      <td>1.28</td>\n",
       "      <td>4.38</td>\n",
       "      <td>1.05</td>\n",
       "      <td>3.40</td>\n",
       "      <td>1050</td>\n",
       "    </tr>\n",
       "    <tr>\n",
       "      <th>2</th>\n",
       "      <td>1</td>\n",
       "      <td>13.16</td>\n",
       "      <td>2.36</td>\n",
       "      <td>2.67</td>\n",
       "      <td>18.6</td>\n",
       "      <td>101</td>\n",
       "      <td>2.80</td>\n",
       "      <td>3.24</td>\n",
       "      <td>0.30</td>\n",
       "      <td>2.81</td>\n",
       "      <td>5.68</td>\n",
       "      <td>1.03</td>\n",
       "      <td>3.17</td>\n",
       "      <td>1185</td>\n",
       "    </tr>\n",
       "    <tr>\n",
       "      <th>3</th>\n",
       "      <td>1</td>\n",
       "      <td>14.37</td>\n",
       "      <td>1.95</td>\n",
       "      <td>2.50</td>\n",
       "      <td>16.8</td>\n",
       "      <td>113</td>\n",
       "      <td>3.85</td>\n",
       "      <td>3.49</td>\n",
       "      <td>0.24</td>\n",
       "      <td>2.18</td>\n",
       "      <td>7.80</td>\n",
       "      <td>0.86</td>\n",
       "      <td>3.45</td>\n",
       "      <td>1480</td>\n",
       "    </tr>\n",
       "    <tr>\n",
       "      <th>4</th>\n",
       "      <td>1</td>\n",
       "      <td>13.24</td>\n",
       "      <td>2.59</td>\n",
       "      <td>2.87</td>\n",
       "      <td>21.0</td>\n",
       "      <td>118</td>\n",
       "      <td>2.80</td>\n",
       "      <td>2.69</td>\n",
       "      <td>0.39</td>\n",
       "      <td>1.82</td>\n",
       "      <td>4.32</td>\n",
       "      <td>1.04</td>\n",
       "      <td>2.93</td>\n",
       "      <td>735</td>\n",
       "    </tr>\n",
       "  </tbody>\n",
       "</table>\n",
       "</div>"
      ],
      "text/plain": [
       "   0      1     2     3     4    5     6     7     8     9     10    11    12  \\\n",
       "0   1  14.23  1.71  2.43  15.6  127  2.80  3.06  0.28  2.29  5.64  1.04  3.92   \n",
       "1   1  13.20  1.78  2.14  11.2  100  2.65  2.76  0.26  1.28  4.38  1.05  3.40   \n",
       "2   1  13.16  2.36  2.67  18.6  101  2.80  3.24  0.30  2.81  5.68  1.03  3.17   \n",
       "3   1  14.37  1.95  2.50  16.8  113  3.85  3.49  0.24  2.18  7.80  0.86  3.45   \n",
       "4   1  13.24  2.59  2.87  21.0  118  2.80  2.69  0.39  1.82  4.32  1.04  2.93   \n",
       "\n",
       "     13  \n",
       "0  1065  \n",
       "1  1050  \n",
       "2  1185  \n",
       "3  1480  \n",
       "4   735  "
      ]
     },
     "execution_count": 2,
     "metadata": {},
     "output_type": "execute_result"
    }
   ],
   "source": [
    "# header=None 不将第一行设为列名\n",
    "wine = pd.read_csv(\"../data/wine.data\", header=None)\n",
    "wine.head()"
   ]
  },
  {
   "cell_type": "markdown",
   "metadata": {},
   "source": [
    "- Class label：分类标签\n",
    "- Alcohol：酒精\n",
    "- Malic acid：苹果酸\n",
    "- Ash：灰\n",
    "- Alcalinity of ash：灰的碱度\n",
    "- Magnesium：镁\n",
    "- Total phenols：总酚\n",
    "- Flavanoids：黄酮类化合物\n",
    "- Nonflavanoid phenols：非黄烷类酚类\n",
    "- Proanthocyanins：原花青素\n",
    "- Color intensity：色彩强度\n",
    "- Hue：色调\n",
    "- OD280/OD315 of diluted wines：稀释酒OD280 OD350\n",
    "- Proline：脯氨酸"
   ]
  },
  {
   "cell_type": "code",
   "execution_count": 130,
   "metadata": {},
   "outputs": [
    {
     "data": {
      "text/html": [
       "<div>\n",
       "<style scoped>\n",
       "    .dataframe tbody tr th:only-of-type {\n",
       "        vertical-align: middle;\n",
       "    }\n",
       "\n",
       "    .dataframe tbody tr th {\n",
       "        vertical-align: top;\n",
       "    }\n",
       "\n",
       "    .dataframe thead th {\n",
       "        text-align: right;\n",
       "    }\n",
       "</style>\n",
       "<table border=\"1\" class=\"dataframe\">\n",
       "  <thead>\n",
       "    <tr style=\"text-align: right;\">\n",
       "      <th></th>\n",
       "      <th>Class label</th>\n",
       "      <th>Alcohol</th>\n",
       "      <th>Malic acid</th>\n",
       "      <th>Ash</th>\n",
       "      <th>Alcalinity of ash</th>\n",
       "      <th>Magnesium</th>\n",
       "      <th>Total phenols</th>\n",
       "      <th>Flavanoids</th>\n",
       "      <th>Nonflavanoid phenols</th>\n",
       "      <th>Proanthocyanins</th>\n",
       "      <th>Color intensity</th>\n",
       "      <th>Hue</th>\n",
       "      <th>OD280/OD315 of diluted wines</th>\n",
       "      <th>Proline</th>\n",
       "    </tr>\n",
       "  </thead>\n",
       "  <tbody>\n",
       "    <tr>\n",
       "      <th>0</th>\n",
       "      <td>1</td>\n",
       "      <td>14.23</td>\n",
       "      <td>1.71</td>\n",
       "      <td>2.43</td>\n",
       "      <td>15.6</td>\n",
       "      <td>127</td>\n",
       "      <td>2.80</td>\n",
       "      <td>3.06</td>\n",
       "      <td>0.28</td>\n",
       "      <td>2.29</td>\n",
       "      <td>5.64</td>\n",
       "      <td>1.04</td>\n",
       "      <td>3.92</td>\n",
       "      <td>1065</td>\n",
       "    </tr>\n",
       "    <tr>\n",
       "      <th>1</th>\n",
       "      <td>1</td>\n",
       "      <td>13.20</td>\n",
       "      <td>1.78</td>\n",
       "      <td>2.14</td>\n",
       "      <td>11.2</td>\n",
       "      <td>100</td>\n",
       "      <td>2.65</td>\n",
       "      <td>2.76</td>\n",
       "      <td>0.26</td>\n",
       "      <td>1.28</td>\n",
       "      <td>4.38</td>\n",
       "      <td>1.05</td>\n",
       "      <td>3.40</td>\n",
       "      <td>1050</td>\n",
       "    </tr>\n",
       "    <tr>\n",
       "      <th>2</th>\n",
       "      <td>1</td>\n",
       "      <td>13.16</td>\n",
       "      <td>2.36</td>\n",
       "      <td>2.67</td>\n",
       "      <td>18.6</td>\n",
       "      <td>101</td>\n",
       "      <td>2.80</td>\n",
       "      <td>3.24</td>\n",
       "      <td>0.30</td>\n",
       "      <td>2.81</td>\n",
       "      <td>5.68</td>\n",
       "      <td>1.03</td>\n",
       "      <td>3.17</td>\n",
       "      <td>1185</td>\n",
       "    </tr>\n",
       "    <tr>\n",
       "      <th>3</th>\n",
       "      <td>1</td>\n",
       "      <td>14.37</td>\n",
       "      <td>1.95</td>\n",
       "      <td>2.50</td>\n",
       "      <td>16.8</td>\n",
       "      <td>113</td>\n",
       "      <td>3.85</td>\n",
       "      <td>3.49</td>\n",
       "      <td>0.24</td>\n",
       "      <td>2.18</td>\n",
       "      <td>7.80</td>\n",
       "      <td>0.86</td>\n",
       "      <td>3.45</td>\n",
       "      <td>1480</td>\n",
       "    </tr>\n",
       "    <tr>\n",
       "      <th>4</th>\n",
       "      <td>1</td>\n",
       "      <td>13.24</td>\n",
       "      <td>2.59</td>\n",
       "      <td>2.87</td>\n",
       "      <td>21.0</td>\n",
       "      <td>118</td>\n",
       "      <td>2.80</td>\n",
       "      <td>2.69</td>\n",
       "      <td>0.39</td>\n",
       "      <td>1.82</td>\n",
       "      <td>4.32</td>\n",
       "      <td>1.04</td>\n",
       "      <td>2.93</td>\n",
       "      <td>735</td>\n",
       "    </tr>\n",
       "  </tbody>\n",
       "</table>\n",
       "</div>"
      ],
      "text/plain": [
       "   Class label  Alcohol  Malic acid   Ash  Alcalinity of ash  Magnesium  \\\n",
       "0            1    14.23        1.71  2.43               15.6        127   \n",
       "1            1    13.20        1.78  2.14               11.2        100   \n",
       "2            1    13.16        2.36  2.67               18.6        101   \n",
       "3            1    14.37        1.95  2.50               16.8        113   \n",
       "4            1    13.24        2.59  2.87               21.0        118   \n",
       "\n",
       "   Total phenols  Flavanoids  Nonflavanoid phenols  Proanthocyanins  \\\n",
       "0           2.80        3.06                  0.28             2.29   \n",
       "1           2.65        2.76                  0.26             1.28   \n",
       "2           2.80        3.24                  0.30             2.81   \n",
       "3           3.85        3.49                  0.24             2.18   \n",
       "4           2.80        2.69                  0.39             1.82   \n",
       "\n",
       "   Color intensity   Hue  OD280/OD315 of diluted wines  Proline  \n",
       "0             5.64  1.04                          3.92     1065  \n",
       "1             4.38  1.05                          3.40     1050  \n",
       "2             5.68  1.03                          3.17     1185  \n",
       "3             7.80  0.86                          3.45     1480  \n",
       "4             4.32  1.04                          2.93      735  "
      ]
     },
     "execution_count": 130,
     "metadata": {},
     "output_type": "execute_result"
    }
   ],
   "source": [
    "columns = ['Class label', 'Alcohol', 'Malic acid', 'Ash', 'Alcalinity of ash','Magnesium',\n",
    "           'Total phenols','Flavanoids', 'Nonflavanoid phenols', 'Proanthocyanins',\n",
    "           'Color intensity', 'Hue','OD280/OD315 of diluted wines','Proline']\n",
    "wine.columns = columns\n",
    "wine.head()"
   ]
  },
  {
   "cell_type": "code",
   "execution_count": 131,
   "metadata": {},
   "outputs": [
    {
     "data": {
      "text/plain": [
       "Class label                       int64\n",
       "Alcohol                         float64\n",
       "Malic acid                      float64\n",
       "Ash                             float64\n",
       "Alcalinity of ash               float64\n",
       "Magnesium                         int64\n",
       "Total phenols                   float64\n",
       "Flavanoids                      float64\n",
       "Nonflavanoid phenols            float64\n",
       "Proanthocyanins                 float64\n",
       "Color intensity                 float64\n",
       "Hue                             float64\n",
       "OD280/OD315 of diluted wines    float64\n",
       "Proline                           int64\n",
       "dtype: object"
      ]
     },
     "execution_count": 131,
     "metadata": {},
     "output_type": "execute_result"
    }
   ],
   "source": [
    "wine.dtypes"
   ]
  },
  {
   "cell_type": "code",
   "execution_count": 132,
   "metadata": {},
   "outputs": [
    {
     "data": {
      "text/html": [
       "<div>\n",
       "<style scoped>\n",
       "    .dataframe tbody tr th:only-of-type {\n",
       "        vertical-align: middle;\n",
       "    }\n",
       "\n",
       "    .dataframe tbody tr th {\n",
       "        vertical-align: top;\n",
       "    }\n",
       "\n",
       "    .dataframe thead th {\n",
       "        text-align: right;\n",
       "    }\n",
       "</style>\n",
       "<table border=\"1\" class=\"dataframe\">\n",
       "  <thead>\n",
       "    <tr style=\"text-align: right;\">\n",
       "      <th></th>\n",
       "      <th>Class label</th>\n",
       "      <th>Alcohol</th>\n",
       "      <th>Malic acid</th>\n",
       "      <th>Ash</th>\n",
       "      <th>Alcalinity of ash</th>\n",
       "      <th>Magnesium</th>\n",
       "      <th>Total phenols</th>\n",
       "      <th>Flavanoids</th>\n",
       "      <th>Nonflavanoid phenols</th>\n",
       "      <th>Proanthocyanins</th>\n",
       "      <th>Color intensity</th>\n",
       "      <th>Hue</th>\n",
       "      <th>OD280/OD315 of diluted wines</th>\n",
       "      <th>Proline</th>\n",
       "    </tr>\n",
       "  </thead>\n",
       "  <tbody>\n",
       "    <tr>\n",
       "      <th>count</th>\n",
       "      <td>178.000000</td>\n",
       "      <td>178.000000</td>\n",
       "      <td>178.000000</td>\n",
       "      <td>178.000000</td>\n",
       "      <td>178.000000</td>\n",
       "      <td>178.000000</td>\n",
       "      <td>178.000000</td>\n",
       "      <td>178.000000</td>\n",
       "      <td>178.000000</td>\n",
       "      <td>178.000000</td>\n",
       "      <td>178.000000</td>\n",
       "      <td>178.000000</td>\n",
       "      <td>178.000000</td>\n",
       "      <td>178.000000</td>\n",
       "    </tr>\n",
       "    <tr>\n",
       "      <th>mean</th>\n",
       "      <td>1.938202</td>\n",
       "      <td>13.000618</td>\n",
       "      <td>2.336348</td>\n",
       "      <td>2.366517</td>\n",
       "      <td>19.494944</td>\n",
       "      <td>99.741573</td>\n",
       "      <td>2.295112</td>\n",
       "      <td>2.029270</td>\n",
       "      <td>0.361854</td>\n",
       "      <td>1.590899</td>\n",
       "      <td>5.058090</td>\n",
       "      <td>0.957449</td>\n",
       "      <td>2.611685</td>\n",
       "      <td>746.893258</td>\n",
       "    </tr>\n",
       "    <tr>\n",
       "      <th>std</th>\n",
       "      <td>0.775035</td>\n",
       "      <td>0.811827</td>\n",
       "      <td>1.117146</td>\n",
       "      <td>0.274344</td>\n",
       "      <td>3.339564</td>\n",
       "      <td>14.282484</td>\n",
       "      <td>0.625851</td>\n",
       "      <td>0.998859</td>\n",
       "      <td>0.124453</td>\n",
       "      <td>0.572359</td>\n",
       "      <td>2.318286</td>\n",
       "      <td>0.228572</td>\n",
       "      <td>0.709990</td>\n",
       "      <td>314.907474</td>\n",
       "    </tr>\n",
       "    <tr>\n",
       "      <th>min</th>\n",
       "      <td>1.000000</td>\n",
       "      <td>11.030000</td>\n",
       "      <td>0.740000</td>\n",
       "      <td>1.360000</td>\n",
       "      <td>10.600000</td>\n",
       "      <td>70.000000</td>\n",
       "      <td>0.980000</td>\n",
       "      <td>0.340000</td>\n",
       "      <td>0.130000</td>\n",
       "      <td>0.410000</td>\n",
       "      <td>1.280000</td>\n",
       "      <td>0.480000</td>\n",
       "      <td>1.270000</td>\n",
       "      <td>278.000000</td>\n",
       "    </tr>\n",
       "    <tr>\n",
       "      <th>25%</th>\n",
       "      <td>1.000000</td>\n",
       "      <td>12.362500</td>\n",
       "      <td>1.602500</td>\n",
       "      <td>2.210000</td>\n",
       "      <td>17.200000</td>\n",
       "      <td>88.000000</td>\n",
       "      <td>1.742500</td>\n",
       "      <td>1.205000</td>\n",
       "      <td>0.270000</td>\n",
       "      <td>1.250000</td>\n",
       "      <td>3.220000</td>\n",
       "      <td>0.782500</td>\n",
       "      <td>1.937500</td>\n",
       "      <td>500.500000</td>\n",
       "    </tr>\n",
       "    <tr>\n",
       "      <th>50%</th>\n",
       "      <td>2.000000</td>\n",
       "      <td>13.050000</td>\n",
       "      <td>1.865000</td>\n",
       "      <td>2.360000</td>\n",
       "      <td>19.500000</td>\n",
       "      <td>98.000000</td>\n",
       "      <td>2.355000</td>\n",
       "      <td>2.135000</td>\n",
       "      <td>0.340000</td>\n",
       "      <td>1.555000</td>\n",
       "      <td>4.690000</td>\n",
       "      <td>0.965000</td>\n",
       "      <td>2.780000</td>\n",
       "      <td>673.500000</td>\n",
       "    </tr>\n",
       "    <tr>\n",
       "      <th>75%</th>\n",
       "      <td>3.000000</td>\n",
       "      <td>13.677500</td>\n",
       "      <td>3.082500</td>\n",
       "      <td>2.557500</td>\n",
       "      <td>21.500000</td>\n",
       "      <td>107.000000</td>\n",
       "      <td>2.800000</td>\n",
       "      <td>2.875000</td>\n",
       "      <td>0.437500</td>\n",
       "      <td>1.950000</td>\n",
       "      <td>6.200000</td>\n",
       "      <td>1.120000</td>\n",
       "      <td>3.170000</td>\n",
       "      <td>985.000000</td>\n",
       "    </tr>\n",
       "    <tr>\n",
       "      <th>max</th>\n",
       "      <td>3.000000</td>\n",
       "      <td>14.830000</td>\n",
       "      <td>5.800000</td>\n",
       "      <td>3.230000</td>\n",
       "      <td>30.000000</td>\n",
       "      <td>162.000000</td>\n",
       "      <td>3.880000</td>\n",
       "      <td>5.080000</td>\n",
       "      <td>0.660000</td>\n",
       "      <td>3.580000</td>\n",
       "      <td>13.000000</td>\n",
       "      <td>1.710000</td>\n",
       "      <td>4.000000</td>\n",
       "      <td>1680.000000</td>\n",
       "    </tr>\n",
       "  </tbody>\n",
       "</table>\n",
       "</div>"
      ],
      "text/plain": [
       "       Class label     Alcohol  Malic acid         Ash  Alcalinity of ash  \\\n",
       "count   178.000000  178.000000  178.000000  178.000000         178.000000   \n",
       "mean      1.938202   13.000618    2.336348    2.366517          19.494944   \n",
       "std       0.775035    0.811827    1.117146    0.274344           3.339564   \n",
       "min       1.000000   11.030000    0.740000    1.360000          10.600000   \n",
       "25%       1.000000   12.362500    1.602500    2.210000          17.200000   \n",
       "50%       2.000000   13.050000    1.865000    2.360000          19.500000   \n",
       "75%       3.000000   13.677500    3.082500    2.557500          21.500000   \n",
       "max       3.000000   14.830000    5.800000    3.230000          30.000000   \n",
       "\n",
       "        Magnesium  Total phenols  Flavanoids  Nonflavanoid phenols  \\\n",
       "count  178.000000     178.000000  178.000000            178.000000   \n",
       "mean    99.741573       2.295112    2.029270              0.361854   \n",
       "std     14.282484       0.625851    0.998859              0.124453   \n",
       "min     70.000000       0.980000    0.340000              0.130000   \n",
       "25%     88.000000       1.742500    1.205000              0.270000   \n",
       "50%     98.000000       2.355000    2.135000              0.340000   \n",
       "75%    107.000000       2.800000    2.875000              0.437500   \n",
       "max    162.000000       3.880000    5.080000              0.660000   \n",
       "\n",
       "       Proanthocyanins  Color intensity         Hue  \\\n",
       "count       178.000000       178.000000  178.000000   \n",
       "mean          1.590899         5.058090    0.957449   \n",
       "std           0.572359         2.318286    0.228572   \n",
       "min           0.410000         1.280000    0.480000   \n",
       "25%           1.250000         3.220000    0.782500   \n",
       "50%           1.555000         4.690000    0.965000   \n",
       "75%           1.950000         6.200000    1.120000   \n",
       "max           3.580000        13.000000    1.710000   \n",
       "\n",
       "       OD280/OD315 of diluted wines      Proline  \n",
       "count                    178.000000   178.000000  \n",
       "mean                       2.611685   746.893258  \n",
       "std                        0.709990   314.907474  \n",
       "min                        1.270000   278.000000  \n",
       "25%                        1.937500   500.500000  \n",
       "50%                        2.780000   673.500000  \n",
       "75%                        3.170000   985.000000  \n",
       "max                        4.000000  1680.000000  "
      ]
     },
     "execution_count": 132,
     "metadata": {},
     "output_type": "execute_result"
    }
   ],
   "source": [
    "wine.describe()"
   ]
  },
  {
   "cell_type": "code",
   "execution_count": 133,
   "metadata": {},
   "outputs": [
    {
     "data": {
      "text/plain": [
       "<Axes: >"
      ]
     },
     "execution_count": 133,
     "metadata": {},
     "output_type": "execute_result"
    },
    {
     "data": {
      "image/png": "[encoded data removed]",
      "text/plain": [
       "<Figure size 640x480 with 1 Axes>"
      ]
     },
     "metadata": {},
     "output_type": "display_data"
    }
   ],
   "source": [
    "wine[columns[1:5]].plot()"
   ]
  },
  {
   "cell_type": "code",
   "execution_count": 134,
   "metadata": {},
   "outputs": [
    {
     "data": {
      "text/plain": [
       "<Axes: >"
      ]
     },
     "execution_count": 134,
     "metadata": {},
     "output_type": "execute_result"
    },
    {
     "data": {
      "image/png": "[encoded data removed]",
      "text/plain": [
       "<Figure size 640x480 with 1 Axes>"
      ]
     },
     "metadata": {},
     "output_type": "display_data"
    }
   ],
   "source": [
    "wine[columns[5]].plot()"
   ]
  },
  {
   "cell_type": "code",
   "execution_count": 135,
   "metadata": {},
   "outputs": [
    {
     "data": {
      "text/plain": [
       "<Axes: >"
      ]
     },
     "execution_count": 135,
     "metadata": {},
     "output_type": "execute_result"
    },
    {
     "data": {
      "image/png": "[encoded data removed]",
      "text/plain": [
       "<Figure size 640x480 with 1 Axes>"
      ]
     },
     "metadata": {},
     "output_type": "display_data"
    }
   ],
   "source": [
    "wine[columns[6:10]].plot()"
   ]
  },
  {
   "cell_type": "markdown",
   "metadata": {},
   "source": [
    "# 数据预处理"
   ]
  },
  {
   "cell_type": "code",
   "execution_count": 136,
   "metadata": {},
   "outputs": [
    {
     "data": {
      "text/plain": [
       "False"
      ]
     },
     "execution_count": 136,
     "metadata": {},
     "output_type": "execute_result"
    }
   ],
   "source": [
    "np.any(wine.isna())"
   ]
  },
  {
   "cell_type": "code",
   "execution_count": 137,
   "metadata": {},
   "outputs": [
    {
     "data": {
      "text/html": [
       "<div>\n",
       "<style scoped>\n",
       "    .dataframe tbody tr th:only-of-type {\n",
       "        vertical-align: middle;\n",
       "    }\n",
       "\n",
       "    .dataframe tbody tr th {\n",
       "        vertical-align: top;\n",
       "    }\n",
       "\n",
       "    .dataframe thead th {\n",
       "        text-align: right;\n",
       "    }\n",
       "</style>\n",
       "<table border=\"1\" class=\"dataframe\">\n",
       "  <thead>\n",
       "    <tr style=\"text-align: right;\">\n",
       "      <th></th>\n",
       "      <th>Alcohol</th>\n",
       "      <th>Malic acid</th>\n",
       "      <th>Ash</th>\n",
       "      <th>Alcalinity of ash</th>\n",
       "      <th>Magnesium</th>\n",
       "      <th>Total phenols</th>\n",
       "      <th>Flavanoids</th>\n",
       "      <th>Nonflavanoid phenols</th>\n",
       "      <th>Proanthocyanins</th>\n",
       "      <th>Color intensity</th>\n",
       "      <th>Hue</th>\n",
       "      <th>OD280/OD315 of diluted wines</th>\n",
       "      <th>Proline</th>\n",
       "    </tr>\n",
       "  </thead>\n",
       "  <tbody>\n",
       "    <tr>\n",
       "      <th>0</th>\n",
       "      <td>14.23</td>\n",
       "      <td>1.71</td>\n",
       "      <td>2.43</td>\n",
       "      <td>15.6</td>\n",
       "      <td>127</td>\n",
       "      <td>2.80</td>\n",
       "      <td>3.06</td>\n",
       "      <td>0.28</td>\n",
       "      <td>2.29</td>\n",
       "      <td>5.64</td>\n",
       "      <td>1.04</td>\n",
       "      <td>3.92</td>\n",
       "      <td>1065</td>\n",
       "    </tr>\n",
       "    <tr>\n",
       "      <th>1</th>\n",
       "      <td>13.20</td>\n",
       "      <td>1.78</td>\n",
       "      <td>2.14</td>\n",
       "      <td>11.2</td>\n",
       "      <td>100</td>\n",
       "      <td>2.65</td>\n",
       "      <td>2.76</td>\n",
       "      <td>0.26</td>\n",
       "      <td>1.28</td>\n",
       "      <td>4.38</td>\n",
       "      <td>1.05</td>\n",
       "      <td>3.40</td>\n",
       "      <td>1050</td>\n",
       "    </tr>\n",
       "    <tr>\n",
       "      <th>2</th>\n",
       "      <td>13.16</td>\n",
       "      <td>2.36</td>\n",
       "      <td>2.67</td>\n",
       "      <td>18.6</td>\n",
       "      <td>101</td>\n",
       "      <td>2.80</td>\n",
       "      <td>3.24</td>\n",
       "      <td>0.30</td>\n",
       "      <td>2.81</td>\n",
       "      <td>5.68</td>\n",
       "      <td>1.03</td>\n",
       "      <td>3.17</td>\n",
       "      <td>1185</td>\n",
       "    </tr>\n",
       "    <tr>\n",
       "      <th>3</th>\n",
       "      <td>14.37</td>\n",
       "      <td>1.95</td>\n",
       "      <td>2.50</td>\n",
       "      <td>16.8</td>\n",
       "      <td>113</td>\n",
       "      <td>3.85</td>\n",
       "      <td>3.49</td>\n",
       "      <td>0.24</td>\n",
       "      <td>2.18</td>\n",
       "      <td>7.80</td>\n",
       "      <td>0.86</td>\n",
       "      <td>3.45</td>\n",
       "      <td>1480</td>\n",
       "    </tr>\n",
       "    <tr>\n",
       "      <th>4</th>\n",
       "      <td>13.24</td>\n",
       "      <td>2.59</td>\n",
       "      <td>2.87</td>\n",
       "      <td>21.0</td>\n",
       "      <td>118</td>\n",
       "      <td>2.80</td>\n",
       "      <td>2.69</td>\n",
       "      <td>0.39</td>\n",
       "      <td>1.82</td>\n",
       "      <td>4.32</td>\n",
       "      <td>1.04</td>\n",
       "      <td>2.93</td>\n",
       "      <td>735</td>\n",
       "    </tr>\n",
       "    <tr>\n",
       "      <th>...</th>\n",
       "      <td>...</td>\n",
       "      <td>...</td>\n",
       "      <td>...</td>\n",
       "      <td>...</td>\n",
       "      <td>...</td>\n",
       "      <td>...</td>\n",
       "      <td>...</td>\n",
       "      <td>...</td>\n",
       "      <td>...</td>\n",
       "      <td>...</td>\n",
       "      <td>...</td>\n",
       "      <td>...</td>\n",
       "      <td>...</td>\n",
       "    </tr>\n",
       "    <tr>\n",
       "      <th>173</th>\n",
       "      <td>13.71</td>\n",
       "      <td>5.65</td>\n",
       "      <td>2.45</td>\n",
       "      <td>20.5</td>\n",
       "      <td>95</td>\n",
       "      <td>1.68</td>\n",
       "      <td>0.61</td>\n",
       "      <td>0.52</td>\n",
       "      <td>1.06</td>\n",
       "      <td>7.70</td>\n",
       "      <td>0.64</td>\n",
       "      <td>1.74</td>\n",
       "      <td>740</td>\n",
       "    </tr>\n",
       "    <tr>\n",
       "      <th>174</th>\n",
       "      <td>13.40</td>\n",
       "      <td>3.91</td>\n",
       "      <td>2.48</td>\n",
       "      <td>23.0</td>\n",
       "      <td>102</td>\n",
       "      <td>1.80</td>\n",
       "      <td>0.75</td>\n",
       "      <td>0.43</td>\n",
       "      <td>1.41</td>\n",
       "      <td>7.30</td>\n",
       "      <td>0.70</td>\n",
       "      <td>1.56</td>\n",
       "      <td>750</td>\n",
       "    </tr>\n",
       "    <tr>\n",
       "      <th>175</th>\n",
       "      <td>13.27</td>\n",
       "      <td>4.28</td>\n",
       "      <td>2.26</td>\n",
       "      <td>20.0</td>\n",
       "      <td>120</td>\n",
       "      <td>1.59</td>\n",
       "      <td>0.69</td>\n",
       "      <td>0.43</td>\n",
       "      <td>1.35</td>\n",
       "      <td>10.20</td>\n",
       "      <td>0.59</td>\n",
       "      <td>1.56</td>\n",
       "      <td>835</td>\n",
       "    </tr>\n",
       "    <tr>\n",
       "      <th>176</th>\n",
       "      <td>13.17</td>\n",
       "      <td>2.59</td>\n",
       "      <td>2.37</td>\n",
       "      <td>20.0</td>\n",
       "      <td>120</td>\n",
       "      <td>1.65</td>\n",
       "      <td>0.68</td>\n",
       "      <td>0.53</td>\n",
       "      <td>1.46</td>\n",
       "      <td>9.30</td>\n",
       "      <td>0.60</td>\n",
       "      <td>1.62</td>\n",
       "      <td>840</td>\n",
       "    </tr>\n",
       "    <tr>\n",
       "      <th>177</th>\n",
       "      <td>14.13</td>\n",
       "      <td>4.10</td>\n",
       "      <td>2.74</td>\n",
       "      <td>24.5</td>\n",
       "      <td>96</td>\n",
       "      <td>2.05</td>\n",
       "      <td>0.76</td>\n",
       "      <td>0.56</td>\n",
       "      <td>1.35</td>\n",
       "      <td>9.20</td>\n",
       "      <td>0.61</td>\n",
       "      <td>1.60</td>\n",
       "      <td>560</td>\n",
       "    </tr>\n",
       "  </tbody>\n",
       "</table>\n",
       "<p>178 rows × 13 columns</p>\n",
       "</div>"
      ],
      "text/plain": [
       "     Alcohol  Malic acid   Ash  Alcalinity of ash  Magnesium  Total phenols  \\\n",
       "0      14.23        1.71  2.43               15.6        127           2.80   \n",
       "1      13.20        1.78  2.14               11.2        100           2.65   \n",
       "2      13.16        2.36  2.67               18.6        101           2.80   \n",
       "3      14.37        1.95  2.50               16.8        113           3.85   \n",
       "4      13.24        2.59  2.87               21.0        118           2.80   \n",
       "..       ...         ...   ...                ...        ...            ...   \n",
       "173    13.71        5.65  2.45               20.5         95           1.68   \n",
       "174    13.40        3.91  2.48               23.0        102           1.80   \n",
       "175    13.27        4.28  2.26               20.0        120           1.59   \n",
       "176    13.17        2.59  2.37               20.0        120           1.65   \n",
       "177    14.13        4.10  2.74               24.5         96           2.05   \n",
       "\n",
       "     Flavanoids  Nonflavanoid phenols  Proanthocyanins  Color intensity   Hue  \\\n",
       "0          3.06                  0.28             2.29             5.64  1.04   \n",
       "1          2.76                  0.26             1.28             4.38  1.05   \n",
       "2          3.24                  0.30             2.81             5.68  1.03   \n",
       "3          3.49                  0.24             2.18             7.80  0.86   \n",
       "4          2.69                  0.39             1.82             4.32  1.04   \n",
       "..          ...                   ...              ...              ...   ...   \n",
       "173        0.61                  0.52             1.06             7.70  0.64   \n",
       "174        0.75                  0.43             1.41             7.30  0.70   \n",
       "175        0.69                  0.43             1.35            10.20  0.59   \n",
       "176        0.68                  0.53             1.46             9.30  0.60   \n",
       "177        0.76                  0.56             1.35             9.20  0.61   \n",
       "\n",
       "     OD280/OD315 of diluted wines  Proline  \n",
       "0                            3.92     1065  \n",
       "1                            3.40     1050  \n",
       "2                            3.17     1185  \n",
       "3                            3.45     1480  \n",
       "4                            2.93      735  \n",
       "..                            ...      ...  \n",
       "173                          1.74      740  \n",
       "174                          1.56      750  \n",
       "175                          1.56      835  \n",
       "176                          1.62      840  \n",
       "177                          1.60      560  \n",
       "\n",
       "[178 rows x 13 columns]"
      ]
     },
     "execution_count": 137,
     "metadata": {},
     "output_type": "execute_result"
    }
   ],
   "source": [
    "x = wine[columns[1:]]\n",
    "x"
   ]
  },
  {
   "cell_type": "markdown",
   "metadata": {},
   "source": [
    "## 标准化"
   ]
  },
  {
   "cell_type": "code",
   "execution_count": 138,
   "metadata": {},
   "outputs": [],
   "source": [
    "from sklearn.preprocessing import StandardScaler"
   ]
  },
  {
   "cell_type": "code",
   "execution_count": 139,
   "metadata": {},
   "outputs": [],
   "source": [
    "standard_scaler = StandardScaler()"
   ]
  },
  {
   "cell_type": "code",
   "execution_count": 140,
   "metadata": {},
   "outputs": [
    {
     "data": {
      "text/plain": [
       "array([[ 1.51861254, -0.5622498 ,  0.23205254, ...,  0.36217728,\n",
       "         1.84791957,  1.01300893],\n",
       "       [ 0.24628963, -0.49941338, -0.82799632, ...,  0.40605066,\n",
       "         1.1134493 ,  0.96524152],\n",
       "       [ 0.19687903,  0.02123125,  1.10933436, ...,  0.31830389,\n",
       "         0.78858745,  1.39514818],\n",
       "       ...,\n",
       "       [ 0.33275817,  1.74474449, -0.38935541, ..., -1.61212515,\n",
       "        -1.48544548,  0.28057537],\n",
       "       [ 0.20923168,  0.22769377,  0.01273209, ..., -1.56825176,\n",
       "        -1.40069891,  0.29649784],\n",
       "       [ 1.39508604,  1.58316512,  1.36520822, ..., -1.52437837,\n",
       "        -1.42894777, -0.59516041]])"
      ]
     },
     "execution_count": 140,
     "metadata": {},
     "output_type": "execute_result"
    }
   ],
   "source": [
    "x = standard_scaler.fit_transform(X=x)\n",
    "x"
   ]
  },
  {
   "cell_type": "code",
   "execution_count": 141,
   "metadata": {},
   "outputs": [
    {
     "data": {
      "text/plain": [
       "0      1\n",
       "1      1\n",
       "2      1\n",
       "3      1\n",
       "4      1\n",
       "      ..\n",
       "173    3\n",
       "174    3\n",
       "175    3\n",
       "176    3\n",
       "177    3\n",
       "Name: Class label, Length: 178, dtype: int64"
      ]
     },
     "execution_count": 141,
     "metadata": {},
     "output_type": "execute_result"
    }
   ],
   "source": [
    "y = wine[columns[0]]\n",
    "y"
   ]
  },
  {
   "cell_type": "markdown",
   "metadata": {},
   "source": [
    "## 标签转换 [1, 2, 3] -> [0, 1, 2]"
   ]
  },
  {
   "cell_type": "code",
   "execution_count": 142,
   "metadata": {},
   "outputs": [],
   "source": [
    "from sklearn.preprocessing import LabelEncoder"
   ]
  },
  {
   "cell_type": "code",
   "execution_count": 143,
   "metadata": {},
   "outputs": [],
   "source": [
    "le = LabelEncoder()"
   ]
  },
  {
   "cell_type": "code",
   "execution_count": 144,
   "metadata": {},
   "outputs": [
    {
     "data": {
      "text/plain": [
       "array([0, 0, 0, 0, 0, 0, 0, 0, 0, 0, 0, 0, 0, 0, 0, 0, 0, 0, 0, 0, 0, 0,\n",
       "       0, 0, 0, 0, 0, 0, 0, 0, 0, 0, 0, 0, 0, 0, 0, 0, 0, 0, 0, 0, 0, 0,\n",
       "       0, 0, 0, 0, 0, 0, 0, 0, 0, 0, 0, 0, 0, 0, 0, 1, 1, 1, 1, 1, 1, 1,\n",
       "       1, 1, 1, 1, 1, 1, 1, 1, 1, 1, 1, 1, 1, 1, 1, 1, 1, 1, 1, 1, 1, 1,\n",
       "       1, 1, 1, 1, 1, 1, 1, 1, 1, 1, 1, 1, 1, 1, 1, 1, 1, 1, 1, 1, 1, 1,\n",
       "       1, 1, 1, 1, 1, 1, 1, 1, 1, 1, 1, 1, 1, 1, 1, 1, 1, 1, 1, 1, 2, 2,\n",
       "       2, 2, 2, 2, 2, 2, 2, 2, 2, 2, 2, 2, 2, 2, 2, 2, 2, 2, 2, 2, 2, 2,\n",
       "       2, 2, 2, 2, 2, 2, 2, 2, 2, 2, 2, 2, 2, 2, 2, 2, 2, 2, 2, 2, 2, 2,\n",
       "       2, 2], dtype=int64)"
      ]
     },
     "execution_count": 144,
     "metadata": {},
     "output_type": "execute_result"
    }
   ],
   "source": [
    "y = le.fit_transform(y)\n",
    "y"
   ]
  },
  {
   "cell_type": "markdown",
   "metadata": {},
   "source": [
    "# 划分数据"
   ]
  },
  {
   "cell_type": "code",
   "execution_count": 145,
   "metadata": {},
   "outputs": [],
   "source": [
    "from sklearn.model_selection import train_test_split"
   ]
  },
  {
   "cell_type": "code",
   "execution_count": 146,
   "metadata": {},
   "outputs": [],
   "source": [
    "x_train, x_test, y_train, y_test = train_test_split(x, y, test_size=0.5, random_state=0)"
   ]
  },
  {
   "cell_type": "code",
   "execution_count": 147,
   "metadata": {},
   "outputs": [
    {
     "data": {
      "text/plain": [
       "((89, 13), (89, 13), (89,), (89,))"
      ]
     },
     "execution_count": 147,
     "metadata": {},
     "output_type": "execute_result"
    }
   ],
   "source": [
    "x_train.shape, x_test.shape, y_train.shape, y_test.shape"
   ]
  },
  {
   "attachments": {},
   "cell_type": "markdown",
   "metadata": {},
   "source": [
    "# SVC"
   ]
  },
  {
   "cell_type": "code",
   "execution_count": 148,
   "metadata": {},
   "outputs": [],
   "source": [
    "from sklearn.svm import SVC\n",
    "from sklearn.metrics import accuracy_score, log_loss"
   ]
  },
  {
   "cell_type": "code",
   "execution_count": 149,
   "metadata": {},
   "outputs": [
    {
     "data": {
      "text/html": [
       "<style>#sk-container-id-17 {color: black;}#sk-container-id-17 pre{padding: 0;}#sk-container-id-17 div.sk-toggleable {background-color: white;}#sk-container-id-17 label.sk-toggleable__label {cursor: pointer;display: block;width: 100%;margin-bottom: 0;padding: 0.3em;box-sizing: border-box;text-align: center;}#sk-container-id-17 label.sk-toggleable__label-arrow:before {content: \"▸\";float: left;margin-right: 0.25em;color: #696969;}#sk-container-id-17 label.sk-toggleable__label-arrow:hover:before {color: black;}#sk-container-id-17 div.sk-estimator:hover label.sk-toggleable__label-arrow:before {color: black;}#sk-container-id-17 div.sk-toggleable__content {max-height: 0;max-width: 0;overflow: hidden;text-align: left;background-color: #f0f8ff;}#sk-container-id-17 div.sk-toggleable__content pre {margin: 0.2em;color: black;border-radius: 0.25em;background-color: #f0f8ff;}#sk-container-id-17 input.sk-toggleable__control:checked~div.sk-toggleable__content {max-height: 200px;max-width: 100%;overflow: auto;}#sk-container-id-17 input.sk-toggleable__control:checked~label.sk-toggleable__label-arrow:before {content: \"▾\";}#sk-container-id-17 div.sk-estimator input.sk-toggleable__control:checked~label.sk-toggleable__label {background-color: #d4ebff;}#sk-container-id-17 div.sk-label input.sk-toggleable__control:checked~label.sk-toggleable__label {background-color: #d4ebff;}#sk-container-id-17 input.sk-hidden--visually {border: 0;clip: rect(1px 1px 1px 1px);clip: rect(1px, 1px, 1px, 1px);height: 1px;margin: -1px;overflow: hidden;padding: 0;position: absolute;width: 1px;}#sk-container-id-17 div.sk-estimator {font-family: monospace;background-color: #f0f8ff;border: 1px dotted black;border-radius: 0.25em;box-sizing: border-box;margin-bottom: 0.5em;}#sk-container-id-17 div.sk-estimator:hover {background-color: #d4ebff;}#sk-container-id-17 div.sk-parallel-item::after {content: \"\";width: 100%;border-bottom: 1px solid gray;flex-grow: 1;}#sk-container-id-17 div.sk-label:hover label.sk-toggleable__label {background-color: #d4ebff;}#sk-container-id-17 div.sk-serial::before {content: \"\";position: absolute;border-left: 1px solid gray;box-sizing: border-box;top: 0;bottom: 0;left: 50%;z-index: 0;}#sk-container-id-17 div.sk-serial {display: flex;flex-direction: column;align-items: center;background-color: white;padding-right: 0.2em;padding-left: 0.2em;position: relative;}#sk-container-id-17 div.sk-item {position: relative;z-index: 1;}#sk-container-id-17 div.sk-parallel {display: flex;align-items: stretch;justify-content: center;background-color: white;position: relative;}#sk-container-id-17 div.sk-item::before, #sk-container-id-17 div.sk-parallel-item::before {content: \"\";position: absolute;border-left: 1px solid gray;box-sizing: border-box;top: 0;bottom: 0;left: 50%;z-index: -1;}#sk-container-id-17 div.sk-parallel-item {display: flex;flex-direction: column;z-index: 1;position: relative;background-color: white;}#sk-container-id-17 div.sk-parallel-item:first-child::after {align-self: flex-end;width: 50%;}#sk-container-id-17 div.sk-parallel-item:last-child::after {align-self: flex-start;width: 50%;}#sk-container-id-17 div.sk-parallel-item:only-child::after {width: 0;}#sk-container-id-17 div.sk-dashed-wrapped {border: 1px dashed gray;margin: 0 0.4em 0.5em 0.4em;box-sizing: border-box;padding-bottom: 0.4em;background-color: white;}#sk-container-id-17 div.sk-label label {font-family: monospace;font-weight: bold;display: inline-block;line-height: 1.2em;}#sk-container-id-17 div.sk-label-container {text-align: center;}#sk-container-id-17 div.sk-container {/* jupyter's `normalize.less` sets `[hidden] { display: none; }` but bootstrap.min.css set `[hidden] { display: none !important; }` so we also need the `!important` here to be able to override the default hidden behavior on the sphinx rendered scikit-learn.org. See: https://github.com/scikit-learn/scikit-learn/issues/21755 */display: inline-block !important;position: relative;}#sk-container-id-17 div.sk-text-repr-fallback {display: none;}</style><div id=\"sk-container-id-17\" class=\"sk-top-container\"><div class=\"sk-text-repr-fallback\"><pre>SVC(probability=True)</pre><b>In a Jupyter environment, please rerun this cell to show the HTML representation or trust the notebook. <br />On GitHub, the HTML representation is unable to render, please try loading this page with nbviewer.org.</b></div><div class=\"sk-container\" hidden><div class=\"sk-item\"><div class=\"sk-estimator sk-toggleable\"><input class=\"sk-toggleable__control sk-hidden--visually\" id=\"sk-estimator-id-17\" type=\"checkbox\" checked><label for=\"sk-estimator-id-17\" class=\"sk-toggleable__label sk-toggleable__label-arrow\">SVC</label><div class=\"sk-toggleable__content\"><pre>SVC(probability=True)</pre></div></div></div></div></div>"
      ],
      "text/plain": [
       "SVC(probability=True)"
      ]
     },
     "execution_count": 149,
     "metadata": {},
     "output_type": "execute_result"
    }
   ],
   "source": [
    "svc = SVC(probability=True)\n",
    "svc"
   ]
  },
  {
   "cell_type": "code",
   "execution_count": 150,
   "metadata": {},
   "outputs": [
    {
     "data": {
      "text/html": [
       "<style>#sk-container-id-18 {color: black;}#sk-container-id-18 pre{padding: 0;}#sk-container-id-18 div.sk-toggleable {background-color: white;}#sk-container-id-18 label.sk-toggleable__label {cursor: pointer;display: block;width: 100%;margin-bottom: 0;padding: 0.3em;box-sizing: border-box;text-align: center;}#sk-container-id-18 label.sk-toggleable__label-arrow:before {content: \"▸\";float: left;margin-right: 0.25em;color: #696969;}#sk-container-id-18 label.sk-toggleable__label-arrow:hover:before {color: black;}#sk-container-id-18 div.sk-estimator:hover label.sk-toggleable__label-arrow:before {color: black;}#sk-container-id-18 div.sk-toggleable__content {max-height: 0;max-width: 0;overflow: hidden;text-align: left;background-color: #f0f8ff;}#sk-container-id-18 div.sk-toggleable__content pre {margin: 0.2em;color: black;border-radius: 0.25em;background-color: #f0f8ff;}#sk-container-id-18 input.sk-toggleable__control:checked~div.sk-toggleable__content {max-height: 200px;max-width: 100%;overflow: auto;}#sk-container-id-18 input.sk-toggleable__control:checked~label.sk-toggleable__label-arrow:before {content: \"▾\";}#sk-container-id-18 div.sk-estimator input.sk-toggleable__control:checked~label.sk-toggleable__label {background-color: #d4ebff;}#sk-container-id-18 div.sk-label input.sk-toggleable__control:checked~label.sk-toggleable__label {background-color: #d4ebff;}#sk-container-id-18 input.sk-hidden--visually {border: 0;clip: rect(1px 1px 1px 1px);clip: rect(1px, 1px, 1px, 1px);height: 1px;margin: -1px;overflow: hidden;padding: 0;position: absolute;width: 1px;}#sk-container-id-18 div.sk-estimator {font-family: monospace;background-color: #f0f8ff;border: 1px dotted black;border-radius: 0.25em;box-sizing: border-box;margin-bottom: 0.5em;}#sk-container-id-18 div.sk-estimator:hover {background-color: #d4ebff;}#sk-container-id-18 div.sk-parallel-item::after {content: \"\";width: 100%;border-bottom: 1px solid gray;flex-grow: 1;}#sk-container-id-18 div.sk-label:hover label.sk-toggleable__label {background-color: #d4ebff;}#sk-container-id-18 div.sk-serial::before {content: \"\";position: absolute;border-left: 1px solid gray;box-sizing: border-box;top: 0;bottom: 0;left: 50%;z-index: 0;}#sk-container-id-18 div.sk-serial {display: flex;flex-direction: column;align-items: center;background-color: white;padding-right: 0.2em;padding-left: 0.2em;position: relative;}#sk-container-id-18 div.sk-item {position: relative;z-index: 1;}#sk-container-id-18 div.sk-parallel {display: flex;align-items: stretch;justify-content: center;background-color: white;position: relative;}#sk-container-id-18 div.sk-item::before, #sk-container-id-18 div.sk-parallel-item::before {content: \"\";position: absolute;border-left: 1px solid gray;box-sizing: border-box;top: 0;bottom: 0;left: 50%;z-index: -1;}#sk-container-id-18 div.sk-parallel-item {display: flex;flex-direction: column;z-index: 1;position: relative;background-color: white;}#sk-container-id-18 div.sk-parallel-item:first-child::after {align-self: flex-end;width: 50%;}#sk-container-id-18 div.sk-parallel-item:last-child::after {align-self: flex-start;width: 50%;}#sk-container-id-18 div.sk-parallel-item:only-child::after {width: 0;}#sk-container-id-18 div.sk-dashed-wrapped {border: 1px dashed gray;margin: 0 0.4em 0.5em 0.4em;box-sizing: border-box;padding-bottom: 0.4em;background-color: white;}#sk-container-id-18 div.sk-label label {font-family: monospace;font-weight: bold;display: inline-block;line-height: 1.2em;}#sk-container-id-18 div.sk-label-container {text-align: center;}#sk-container-id-18 div.sk-container {/* jupyter's `normalize.less` sets `[hidden] { display: none; }` but bootstrap.min.css set `[hidden] { display: none !important; }` so we also need the `!important` here to be able to override the default hidden behavior on the sphinx rendered scikit-learn.org. See: https://github.com/scikit-learn/scikit-learn/issues/21755 */display: inline-block !important;position: relative;}#sk-container-id-18 div.sk-text-repr-fallback {display: none;}</style><div id=\"sk-container-id-18\" class=\"sk-top-container\"><div class=\"sk-text-repr-fallback\"><pre>SVC(probability=True)</pre><b>In a Jupyter environment, please rerun this cell to show the HTML representation or trust the notebook. <br />On GitHub, the HTML representation is unable to render, please try loading this page with nbviewer.org.</b></div><div class=\"sk-container\" hidden><div class=\"sk-item\"><div class=\"sk-estimator sk-toggleable\"><input class=\"sk-toggleable__control sk-hidden--visually\" id=\"sk-estimator-id-18\" type=\"checkbox\" checked><label for=\"sk-estimator-id-18\" class=\"sk-toggleable__label sk-toggleable__label-arrow\">SVC</label><div class=\"sk-toggleable__content\"><pre>SVC(probability=True)</pre></div></div></div></div></div>"
      ],
      "text/plain": [
       "SVC(probability=True)"
      ]
     },
     "execution_count": 150,
     "metadata": {},
     "output_type": "execute_result"
    }
   ],
   "source": [
    "svc.fit(x_train, y_train)"
   ]
  },
  {
   "cell_type": "code",
   "execution_count": 151,
   "metadata": {},
   "outputs": [
    {
     "data": {
      "text/plain": [
       "0.9887640449438202"
      ]
     },
     "execution_count": 151,
     "metadata": {},
     "output_type": "execute_result"
    }
   ],
   "source": [
    "svc.score(x_test, y_test)"
   ]
  },
  {
   "cell_type": "code",
   "execution_count": 152,
   "metadata": {},
   "outputs": [
    {
     "data": {
      "text/plain": [
       "array([0, 2, 1, 0, 1, 1, 0, 2, 1, 1, 2, 2, 0, 1, 2, 1, 0, 0, 1, 0, 1, 0,\n",
       "       0, 1, 1, 1, 1, 1, 1, 2, 0, 0, 1, 0, 0, 0, 2, 1, 1, 2, 0, 0, 1, 1,\n",
       "       1, 0, 2, 1, 2, 0, 2, 2, 0, 2, 0, 1, 2, 2, 1, 2, 2, 0, 2, 2, 1, 1,\n",
       "       2, 1, 0, 1, 1, 1, 0, 0, 1, 1, 2, 2, 1, 1, 1, 2, 2, 0, 2, 1, 1, 1,\n",
       "       1], dtype=int64)"
      ]
     },
     "execution_count": 152,
     "metadata": {},
     "output_type": "execute_result"
    }
   ],
   "source": [
    "y_pred1 = svc.predict(x_test)\n",
    "y_pred1"
   ]
  },
  {
   "cell_type": "code",
   "execution_count": 153,
   "metadata": {},
   "outputs": [
    {
     "data": {
      "text/plain": [
       "0.9887640449438202"
      ]
     },
     "execution_count": 153,
     "metadata": {},
     "output_type": "execute_result"
    }
   ],
   "source": [
    "accuracy_score(y_test, y_pred1)"
   ]
  },
  {
   "cell_type": "code",
   "execution_count": 154,
   "metadata": {},
   "outputs": [
    {
     "data": {
      "text/plain": [
       "array([[0.98041743, 0.00874628, 0.01083629],\n",
       "       [0.02353142, 0.03296088, 0.9435077 ],\n",
       "       [0.05439957, 0.92403353, 0.02156689],\n",
       "       [0.96428238, 0.02149978, 0.01421785],\n",
       "       [0.21161463, 0.65411737, 0.13426801],\n",
       "       [0.35327198, 0.55022451, 0.09650351],\n",
       "       [0.98470191, 0.00347391, 0.01182419],\n",
       "       [0.00982295, 0.01455047, 0.97562657],\n",
       "       [0.00944012, 0.98650854, 0.00405134],\n",
       "       [0.00764574, 0.98140772, 0.01094654]])"
      ]
     },
     "execution_count": 154,
     "metadata": {},
     "output_type": "execute_result"
    }
   ],
   "source": [
    "y_pred_proba1 = svc.predict_proba(x_test)\n",
    "y_pred_proba1[:10]"
   ]
  },
  {
   "cell_type": "code",
   "execution_count": 155,
   "metadata": {},
   "outputs": [
    {
     "data": {
      "text/plain": [
       "0.13361415004463642"
      ]
     },
     "execution_count": 155,
     "metadata": {},
     "output_type": "execute_result"
    }
   ],
   "source": [
    "log_loss(y_test, y_pred_proba1)"
   ]
  },
  {
   "cell_type": "markdown",
   "metadata": {},
   "source": [
    "# RandomForestClassifier"
   ]
  },
  {
   "cell_type": "code",
   "execution_count": 156,
   "metadata": {},
   "outputs": [],
   "source": [
    "from sklearn.ensemble import RandomForestClassifier"
   ]
  },
  {
   "cell_type": "code",
   "execution_count": 157,
   "metadata": {},
   "outputs": [
    {
     "data": {
      "text/html": [
       "<style>#sk-container-id-19 {color: black;}#sk-container-id-19 pre{padding: 0;}#sk-container-id-19 div.sk-toggleable {background-color: white;}#sk-container-id-19 label.sk-toggleable__label {cursor: pointer;display: block;width: 100%;margin-bottom: 0;padding: 0.3em;box-sizing: border-box;text-align: center;}#sk-container-id-19 label.sk-toggleable__label-arrow:before {content: \"▸\";float: left;margin-right: 0.25em;color: #696969;}#sk-container-id-19 label.sk-toggleable__label-arrow:hover:before {color: black;}#sk-container-id-19 div.sk-estimator:hover label.sk-toggleable__label-arrow:before {color: black;}#sk-container-id-19 div.sk-toggleable__content {max-height: 0;max-width: 0;overflow: hidden;text-align: left;background-color: #f0f8ff;}#sk-container-id-19 div.sk-toggleable__content pre {margin: 0.2em;color: black;border-radius: 0.25em;background-color: #f0f8ff;}#sk-container-id-19 input.sk-toggleable__control:checked~div.sk-toggleable__content {max-height: 200px;max-width: 100%;overflow: auto;}#sk-container-id-19 input.sk-toggleable__control:checked~label.sk-toggleable__label-arrow:before {content: \"▾\";}#sk-container-id-19 div.sk-estimator input.sk-toggleable__control:checked~label.sk-toggleable__label {background-color: #d4ebff;}#sk-container-id-19 div.sk-label input.sk-toggleable__control:checked~label.sk-toggleable__label {background-color: #d4ebff;}#sk-container-id-19 input.sk-hidden--visually {border: 0;clip: rect(1px 1px 1px 1px);clip: rect(1px, 1px, 1px, 1px);height: 1px;margin: -1px;overflow: hidden;padding: 0;position: absolute;width: 1px;}#sk-container-id-19 div.sk-estimator {font-family: monospace;background-color: #f0f8ff;border: 1px dotted black;border-radius: 0.25em;box-sizing: border-box;margin-bottom: 0.5em;}#sk-container-id-19 div.sk-estimator:hover {background-color: #d4ebff;}#sk-container-id-19 div.sk-parallel-item::after {content: \"\";width: 100%;border-bottom: 1px solid gray;flex-grow: 1;}#sk-container-id-19 div.sk-label:hover label.sk-toggleable__label {background-color: #d4ebff;}#sk-container-id-19 div.sk-serial::before {content: \"\";position: absolute;border-left: 1px solid gray;box-sizing: border-box;top: 0;bottom: 0;left: 50%;z-index: 0;}#sk-container-id-19 div.sk-serial {display: flex;flex-direction: column;align-items: center;background-color: white;padding-right: 0.2em;padding-left: 0.2em;position: relative;}#sk-container-id-19 div.sk-item {position: relative;z-index: 1;}#sk-container-id-19 div.sk-parallel {display: flex;align-items: stretch;justify-content: center;background-color: white;position: relative;}#sk-container-id-19 div.sk-item::before, #sk-container-id-19 div.sk-parallel-item::before {content: \"\";position: absolute;border-left: 1px solid gray;box-sizing: border-box;top: 0;bottom: 0;left: 50%;z-index: -1;}#sk-container-id-19 div.sk-parallel-item {display: flex;flex-direction: column;z-index: 1;position: relative;background-color: white;}#sk-container-id-19 div.sk-parallel-item:first-child::after {align-self: flex-end;width: 50%;}#sk-container-id-19 div.sk-parallel-item:last-child::after {align-self: flex-start;width: 50%;}#sk-container-id-19 div.sk-parallel-item:only-child::after {width: 0;}#sk-container-id-19 div.sk-dashed-wrapped {border: 1px dashed gray;margin: 0 0.4em 0.5em 0.4em;box-sizing: border-box;padding-bottom: 0.4em;background-color: white;}#sk-container-id-19 div.sk-label label {font-family: monospace;font-weight: bold;display: inline-block;line-height: 1.2em;}#sk-container-id-19 div.sk-label-container {text-align: center;}#sk-container-id-19 div.sk-container {/* jupyter's `normalize.less` sets `[hidden] { display: none; }` but bootstrap.min.css set `[hidden] { display: none !important; }` so we also need the `!important` here to be able to override the default hidden behavior on the sphinx rendered scikit-learn.org. See: https://github.com/scikit-learn/scikit-learn/issues/21755 */display: inline-block !important;position: relative;}#sk-container-id-19 div.sk-text-repr-fallback {display: none;}</style><div id=\"sk-container-id-19\" class=\"sk-top-container\"><div class=\"sk-text-repr-fallback\"><pre>RandomForestClassifier(criterion=&#x27;entropy&#x27;, max_depth=5, n_jobs=-1)</pre><b>In a Jupyter environment, please rerun this cell to show the HTML representation or trust the notebook. <br />On GitHub, the HTML representation is unable to render, please try loading this page with nbviewer.org.</b></div><div class=\"sk-container\" hidden><div class=\"sk-item\"><div class=\"sk-estimator sk-toggleable\"><input class=\"sk-toggleable__control sk-hidden--visually\" id=\"sk-estimator-id-19\" type=\"checkbox\" checked><label for=\"sk-estimator-id-19\" class=\"sk-toggleable__label sk-toggleable__label-arrow\">RandomForestClassifier</label><div class=\"sk-toggleable__content\"><pre>RandomForestClassifier(criterion=&#x27;entropy&#x27;, max_depth=5, n_jobs=-1)</pre></div></div></div></div></div>"
      ],
      "text/plain": [
       "RandomForestClassifier(criterion='entropy', max_depth=5, n_jobs=-1)"
      ]
     },
     "execution_count": 157,
     "metadata": {},
     "output_type": "execute_result"
    }
   ],
   "source": [
    "rfc = RandomForestClassifier(n_estimators=100,\n",
    "                             max_depth=5,\n",
    "                             criterion=\"entropy\",\n",
    "                             n_jobs=-1)\n",
    "rfc"
   ]
  },
  {
   "cell_type": "code",
   "execution_count": 158,
   "metadata": {},
   "outputs": [
    {
     "data": {
      "text/html": [
       "<style>#sk-container-id-20 {color: black;}#sk-container-id-20 pre{padding: 0;}#sk-container-id-20 div.sk-toggleable {background-color: white;}#sk-container-id-20 label.sk-toggleable__label {cursor: pointer;display: block;width: 100%;margin-bottom: 0;padding: 0.3em;box-sizing: border-box;text-align: center;}#sk-container-id-20 label.sk-toggleable__label-arrow:before {content: \"▸\";float: left;margin-right: 0.25em;color: #696969;}#sk-container-id-20 label.sk-toggleable__label-arrow:hover:before {color: black;}#sk-container-id-20 div.sk-estimator:hover label.sk-toggleable__label-arrow:before {color: black;}#sk-container-id-20 div.sk-toggleable__content {max-height: 0;max-width: 0;overflow: hidden;text-align: left;background-color: #f0f8ff;}#sk-container-id-20 div.sk-toggleable__content pre {margin: 0.2em;color: black;border-radius: 0.25em;background-color: #f0f8ff;}#sk-container-id-20 input.sk-toggleable__control:checked~div.sk-toggleable__content {max-height: 200px;max-width: 100%;overflow: auto;}#sk-container-id-20 input.sk-toggleable__control:checked~label.sk-toggleable__label-arrow:before {content: \"▾\";}#sk-container-id-20 div.sk-estimator input.sk-toggleable__control:checked~label.sk-toggleable__label {background-color: #d4ebff;}#sk-container-id-20 div.sk-label input.sk-toggleable__control:checked~label.sk-toggleable__label {background-color: #d4ebff;}#sk-container-id-20 input.sk-hidden--visually {border: 0;clip: rect(1px 1px 1px 1px);clip: rect(1px, 1px, 1px, 1px);height: 1px;margin: -1px;overflow: hidden;padding: 0;position: absolute;width: 1px;}#sk-container-id-20 div.sk-estimator {font-family: monospace;background-color: #f0f8ff;border: 1px dotted black;border-radius: 0.25em;box-sizing: border-box;margin-bottom: 0.5em;}#sk-container-id-20 div.sk-estimator:hover {background-color: #d4ebff;}#sk-container-id-20 div.sk-parallel-item::after {content: \"\";width: 100%;border-bottom: 1px solid gray;flex-grow: 1;}#sk-container-id-20 div.sk-label:hover label.sk-toggleable__label {background-color: #d4ebff;}#sk-container-id-20 div.sk-serial::before {content: \"\";position: absolute;border-left: 1px solid gray;box-sizing: border-box;top: 0;bottom: 0;left: 50%;z-index: 0;}#sk-container-id-20 div.sk-serial {display: flex;flex-direction: column;align-items: center;background-color: white;padding-right: 0.2em;padding-left: 0.2em;position: relative;}#sk-container-id-20 div.sk-item {position: relative;z-index: 1;}#sk-container-id-20 div.sk-parallel {display: flex;align-items: stretch;justify-content: center;background-color: white;position: relative;}#sk-container-id-20 div.sk-item::before, #sk-container-id-20 div.sk-parallel-item::before {content: \"\";position: absolute;border-left: 1px solid gray;box-sizing: border-box;top: 0;bottom: 0;left: 50%;z-index: -1;}#sk-container-id-20 div.sk-parallel-item {display: flex;flex-direction: column;z-index: 1;position: relative;background-color: white;}#sk-container-id-20 div.sk-parallel-item:first-child::after {align-self: flex-end;width: 50%;}#sk-container-id-20 div.sk-parallel-item:last-child::after {align-self: flex-start;width: 50%;}#sk-container-id-20 div.sk-parallel-item:only-child::after {width: 0;}#sk-container-id-20 div.sk-dashed-wrapped {border: 1px dashed gray;margin: 0 0.4em 0.5em 0.4em;box-sizing: border-box;padding-bottom: 0.4em;background-color: white;}#sk-container-id-20 div.sk-label label {font-family: monospace;font-weight: bold;display: inline-block;line-height: 1.2em;}#sk-container-id-20 div.sk-label-container {text-align: center;}#sk-container-id-20 div.sk-container {/* jupyter's `normalize.less` sets `[hidden] { display: none; }` but bootstrap.min.css set `[hidden] { display: none !important; }` so we also need the `!important` here to be able to override the default hidden behavior on the sphinx rendered scikit-learn.org. See: https://github.com/scikit-learn/scikit-learn/issues/21755 */display: inline-block !important;position: relative;}#sk-container-id-20 div.sk-text-repr-fallback {display: none;}</style><div id=\"sk-container-id-20\" class=\"sk-top-container\"><div class=\"sk-text-repr-fallback\"><pre>RandomForestClassifier(criterion=&#x27;entropy&#x27;, max_depth=5, n_jobs=-1)</pre><b>In a Jupyter environment, please rerun this cell to show the HTML representation or trust the notebook. <br />On GitHub, the HTML representation is unable to render, please try loading this page with nbviewer.org.</b></div><div class=\"sk-container\" hidden><div class=\"sk-item\"><div class=\"sk-estimator sk-toggleable\"><input class=\"sk-toggleable__control sk-hidden--visually\" id=\"sk-estimator-id-20\" type=\"checkbox\" checked><label for=\"sk-estimator-id-20\" class=\"sk-toggleable__label sk-toggleable__label-arrow\">RandomForestClassifier</label><div class=\"sk-toggleable__content\"><pre>RandomForestClassifier(criterion=&#x27;entropy&#x27;, max_depth=5, n_jobs=-1)</pre></div></div></div></div></div>"
      ],
      "text/plain": [
       "RandomForestClassifier(criterion='entropy', max_depth=5, n_jobs=-1)"
      ]
     },
     "execution_count": 158,
     "metadata": {},
     "output_type": "execute_result"
    }
   ],
   "source": [
    "rfc.fit(x_train, y_train)"
   ]
  },
  {
   "cell_type": "code",
   "execution_count": 159,
   "metadata": {},
   "outputs": [
    {
     "data": {
      "text/plain": [
       "0.9775280898876404"
      ]
     },
     "execution_count": 159,
     "metadata": {},
     "output_type": "execute_result"
    }
   ],
   "source": [
    "rfc.score(x_test, y_test)"
   ]
  },
  {
   "cell_type": "code",
   "execution_count": 160,
   "metadata": {},
   "outputs": [
    {
     "data": {
      "text/plain": [
       "array([0, 2, 1, 0, 1, 1, 0, 2, 1, 1, 2, 2, 0, 1, 2, 1, 0, 0, 1, 0, 1, 0,\n",
       "       0, 1, 1, 1, 1, 1, 1, 2, 0, 0, 1, 0, 0, 0, 2, 1, 1, 2, 0, 0, 1, 1,\n",
       "       1, 0, 2, 1, 2, 0, 2, 2, 0, 2, 0, 1, 2, 2, 1, 2, 2, 0, 2, 2, 1, 1,\n",
       "       2, 1, 0, 1, 1, 1, 0, 0, 1, 0, 2, 2, 1, 1, 1, 2, 2, 0, 2, 1, 1, 1,\n",
       "       1], dtype=int64)"
      ]
     },
     "execution_count": 160,
     "metadata": {},
     "output_type": "execute_result"
    }
   ],
   "source": [
    "y_pred2 = rfc.predict(x_test)\n",
    "y_pred2"
   ]
  },
  {
   "cell_type": "code",
   "execution_count": 161,
   "metadata": {},
   "outputs": [
    {
     "data": {
      "text/plain": [
       "0.9775280898876404"
      ]
     },
     "execution_count": 161,
     "metadata": {},
     "output_type": "execute_result"
    }
   ],
   "source": [
    "accuracy_score(y_test, y_pred2)"
   ]
  },
  {
   "cell_type": "code",
   "execution_count": 162,
   "metadata": {},
   "outputs": [
    {
     "data": {
      "text/plain": [
       "array([[0.98970588, 0.01029412, 0.        ],\n",
       "       [0.        , 0.08      , 0.92      ],\n",
       "       [0.21      , 0.79      , 0.        ],\n",
       "       [0.97      , 0.02      , 0.01      ],\n",
       "       [0.32      , 0.51      , 0.17      ],\n",
       "       [0.3       , 0.63      , 0.07      ],\n",
       "       [0.97      , 0.03      , 0.        ],\n",
       "       [0.01      , 0.13111111, 0.85888889],\n",
       "       [0.00970588, 0.98029412, 0.01      ],\n",
       "       [0.        , 0.93111111, 0.06888889]])"
      ]
     },
     "execution_count": 162,
     "metadata": {},
     "output_type": "execute_result"
    }
   ],
   "source": [
    "y_pred_proba2 = rfc.predict_proba(x_test)\n",
    "y_pred_proba2[:10]"
   ]
  },
  {
   "cell_type": "code",
   "execution_count": 163,
   "metadata": {},
   "outputs": [
    {
     "data": {
      "text/plain": [
       "0.18465200885984676"
      ]
     },
     "execution_count": 163,
     "metadata": {},
     "output_type": "execute_result"
    }
   ],
   "source": [
    "log_loss(y_test, y_pred_proba2)"
   ]
  },
  {
   "attachments": {},
   "cell_type": "markdown",
   "metadata": {},
   "source": [
    "# XGBClassifier"
   ]
  },
  {
   "cell_type": "code",
   "execution_count": 164,
   "metadata": {},
   "outputs": [],
   "source": [
    "from xgboost import XGBClassifier"
   ]
  },
  {
   "cell_type": "code",
   "execution_count": 165,
   "metadata": {},
   "outputs": [
    {
     "data": {
      "text/html": [
       "<style>#sk-container-id-21 {color: black;}#sk-container-id-21 pre{padding: 0;}#sk-container-id-21 div.sk-toggleable {background-color: white;}#sk-container-id-21 label.sk-toggleable__label {cursor: pointer;display: block;width: 100%;margin-bottom: 0;padding: 0.3em;box-sizing: border-box;text-align: center;}#sk-container-id-21 label.sk-toggleable__label-arrow:before {content: \"▸\";float: left;margin-right: 0.25em;color: #696969;}#sk-container-id-21 label.sk-toggleable__label-arrow:hover:before {color: black;}#sk-container-id-21 div.sk-estimator:hover label.sk-toggleable__label-arrow:before {color: black;}#sk-container-id-21 div.sk-toggleable__content {max-height: 0;max-width: 0;overflow: hidden;text-align: left;background-color: #f0f8ff;}#sk-container-id-21 div.sk-toggleable__content pre {margin: 0.2em;color: black;border-radius: 0.25em;background-color: #f0f8ff;}#sk-container-id-21 input.sk-toggleable__control:checked~div.sk-toggleable__content {max-height: 200px;max-width: 100%;overflow: auto;}#sk-container-id-21 input.sk-toggleable__control:checked~label.sk-toggleable__label-arrow:before {content: \"▾\";}#sk-container-id-21 div.sk-estimator input.sk-toggleable__control:checked~label.sk-toggleable__label {background-color: #d4ebff;}#sk-container-id-21 div.sk-label input.sk-toggleable__control:checked~label.sk-toggleable__label {background-color: #d4ebff;}#sk-container-id-21 input.sk-hidden--visually {border: 0;clip: rect(1px 1px 1px 1px);clip: rect(1px, 1px, 1px, 1px);height: 1px;margin: -1px;overflow: hidden;padding: 0;position: absolute;width: 1px;}#sk-container-id-21 div.sk-estimator {font-family: monospace;background-color: #f0f8ff;border: 1px dotted black;border-radius: 0.25em;box-sizing: border-box;margin-bottom: 0.5em;}#sk-container-id-21 div.sk-estimator:hover {background-color: #d4ebff;}#sk-container-id-21 div.sk-parallel-item::after {content: \"\";width: 100%;border-bottom: 1px solid gray;flex-grow: 1;}#sk-container-id-21 div.sk-label:hover label.sk-toggleable__label {background-color: #d4ebff;}#sk-container-id-21 div.sk-serial::before {content: \"\";position: absolute;border-left: 1px solid gray;box-sizing: border-box;top: 0;bottom: 0;left: 50%;z-index: 0;}#sk-container-id-21 div.sk-serial {display: flex;flex-direction: column;align-items: center;background-color: white;padding-right: 0.2em;padding-left: 0.2em;position: relative;}#sk-container-id-21 div.sk-item {position: relative;z-index: 1;}#sk-container-id-21 div.sk-parallel {display: flex;align-items: stretch;justify-content: center;background-color: white;position: relative;}#sk-container-id-21 div.sk-item::before, #sk-container-id-21 div.sk-parallel-item::before {content: \"\";position: absolute;border-left: 1px solid gray;box-sizing: border-box;top: 0;bottom: 0;left: 50%;z-index: -1;}#sk-container-id-21 div.sk-parallel-item {display: flex;flex-direction: column;z-index: 1;position: relative;background-color: white;}#sk-container-id-21 div.sk-parallel-item:first-child::after {align-self: flex-end;width: 50%;}#sk-container-id-21 div.sk-parallel-item:last-child::after {align-self: flex-start;width: 50%;}#sk-container-id-21 div.sk-parallel-item:only-child::after {width: 0;}#sk-container-id-21 div.sk-dashed-wrapped {border: 1px dashed gray;margin: 0 0.4em 0.5em 0.4em;box-sizing: border-box;padding-bottom: 0.4em;background-color: white;}#sk-container-id-21 div.sk-label label {font-family: monospace;font-weight: bold;display: inline-block;line-height: 1.2em;}#sk-container-id-21 div.sk-label-container {text-align: center;}#sk-container-id-21 div.sk-container {/* jupyter's `normalize.less` sets `[hidden] { display: none; }` but bootstrap.min.css set `[hidden] { display: none !important; }` so we also need the `!important` here to be able to override the default hidden behavior on the sphinx rendered scikit-learn.org. See: https://github.com/scikit-learn/scikit-learn/issues/21755 */display: inline-block !important;position: relative;}#sk-container-id-21 div.sk-text-repr-fallback {display: none;}</style><div id=\"sk-container-id-21\" class=\"sk-top-container\"><div class=\"sk-text-repr-fallback\"><pre>XGBClassifier(base_score=None, booster=None, callbacks=None,\n",
       "              colsample_bylevel=None, colsample_bynode=None, colsample_bytree=1,\n",
       "              early_stopping_rounds=None, enable_categorical=False,\n",
       "              eval_metric=None, feature_types=None, gamma=None, gpu_id=None,\n",
       "              grow_policy=None, importance_type=None,\n",
       "              interaction_constraints=None, learning_rate=0.1, max_bin=None,\n",
       "              max_cat_threshold=None, max_cat_to_onehot=None,\n",
       "              max_delta_step=None, max_depth=5, max_leaves=10,\n",
       "              min_child_weight=None, missing=nan, monotone_constraints=None,\n",
       "              n_estimators=100, n_jobs=-1, num_parallel_tree=None,\n",
       "              predictor=None, random_state=None, ...)</pre><b>In a Jupyter environment, please rerun this cell to show the HTML representation or trust the notebook. <br />On GitHub, the HTML representation is unable to render, please try loading this page with nbviewer.org.</b></div><div class=\"sk-container\" hidden><div class=\"sk-item\"><div class=\"sk-estimator sk-toggleable\"><input class=\"sk-toggleable__control sk-hidden--visually\" id=\"sk-estimator-id-21\" type=\"checkbox\" checked><label for=\"sk-estimator-id-21\" class=\"sk-toggleable__label sk-toggleable__label-arrow\">XGBClassifier</label><div class=\"sk-toggleable__content\"><pre>XGBClassifier(base_score=None, booster=None, callbacks=None,\n",
       "              colsample_bylevel=None, colsample_bynode=None, colsample_bytree=1,\n",
       "              early_stopping_rounds=None, enable_categorical=False,\n",
       "              eval_metric=None, feature_types=None, gamma=None, gpu_id=None,\n",
       "              grow_policy=None, importance_type=None,\n",
       "              interaction_constraints=None, learning_rate=0.1, max_bin=None,\n",
       "              max_cat_threshold=None, max_cat_to_onehot=None,\n",
       "              max_delta_step=None, max_depth=5, max_leaves=10,\n",
       "              min_child_weight=None, missing=nan, monotone_constraints=None,\n",
       "              n_estimators=100, n_jobs=-1, num_parallel_tree=None,\n",
       "              predictor=None, random_state=None, ...)</pre></div></div></div></div></div>"
      ],
      "text/plain": [
       "XGBClassifier(base_score=None, booster=None, callbacks=None,\n",
       "              colsample_bylevel=None, colsample_bynode=None, colsample_bytree=1,\n",
       "              early_stopping_rounds=None, enable_categorical=False,\n",
       "              eval_metric=None, feature_types=None, gamma=None, gpu_id=None,\n",
       "              grow_policy=None, importance_type=None,\n",
       "              interaction_constraints=None, learning_rate=0.1, max_bin=None,\n",
       "              max_cat_threshold=None, max_cat_to_onehot=None,\n",
       "              max_delta_step=None, max_depth=5, max_leaves=10,\n",
       "              min_child_weight=None, missing=nan, monotone_constraints=None,\n",
       "              n_estimators=100, n_jobs=-1, num_parallel_tree=None,\n",
       "              predictor=None, random_state=None, ...)"
      ]
     },
     "execution_count": 165,
     "metadata": {},
     "output_type": "execute_result"
    }
   ],
   "source": [
    "xgbc = XGBClassifier(n_estimators=100,\n",
    "                     learning_rate=0.1,\n",
    "                     max_depth=5,\n",
    "                     max_leaves=10,\n",
    "                     subsample=1,       # 系统默认为1。这个参数控制对于每棵树，随机采样的比例。减小这个参数的值，算法会更加保守，避免过拟合, 取值范围零到一\n",
    "                     colsample_bytree=1,# 系统默认值为1。我们一般设置成0.8左右。用来控制每棵随机采样的列数的占比(每一列是一个特征)\n",
    "                     n_jobs=-1)\n",
    "xgbc"
   ]
  },
  {
   "cell_type": "code",
   "execution_count": 166,
   "metadata": {},
   "outputs": [
    {
     "data": {
      "text/html": [
       "<style>#sk-container-id-22 {color: black;}#sk-container-id-22 pre{padding: 0;}#sk-container-id-22 div.sk-toggleable {background-color: white;}#sk-container-id-22 label.sk-toggleable__label {cursor: pointer;display: block;width: 100%;margin-bottom: 0;padding: 0.3em;box-sizing: border-box;text-align: center;}#sk-container-id-22 label.sk-toggleable__label-arrow:before {content: \"▸\";float: left;margin-right: 0.25em;color: #696969;}#sk-container-id-22 label.sk-toggleable__label-arrow:hover:before {color: black;}#sk-container-id-22 div.sk-estimator:hover label.sk-toggleable__label-arrow:before {color: black;}#sk-container-id-22 div.sk-toggleable__content {max-height: 0;max-width: 0;overflow: hidden;text-align: left;background-color: #f0f8ff;}#sk-container-id-22 div.sk-toggleable__content pre {margin: 0.2em;color: black;border-radius: 0.25em;background-color: #f0f8ff;}#sk-container-id-22 input.sk-toggleable__control:checked~div.sk-toggleable__content {max-height: 200px;max-width: 100%;overflow: auto;}#sk-container-id-22 input.sk-toggleable__control:checked~label.sk-toggleable__label-arrow:before {content: \"▾\";}#sk-container-id-22 div.sk-estimator input.sk-toggleable__control:checked~label.sk-toggleable__label {background-color: #d4ebff;}#sk-container-id-22 div.sk-label input.sk-toggleable__control:checked~label.sk-toggleable__label {background-color: #d4ebff;}#sk-container-id-22 input.sk-hidden--visually {border: 0;clip: rect(1px 1px 1px 1px);clip: rect(1px, 1px, 1px, 1px);height: 1px;margin: -1px;overflow: hidden;padding: 0;position: absolute;width: 1px;}#sk-container-id-22 div.sk-estimator {font-family: monospace;background-color: #f0f8ff;border: 1px dotted black;border-radius: 0.25em;box-sizing: border-box;margin-bottom: 0.5em;}#sk-container-id-22 div.sk-estimator:hover {background-color: #d4ebff;}#sk-container-id-22 div.sk-parallel-item::after {content: \"\";width: 100%;border-bottom: 1px solid gray;flex-grow: 1;}#sk-container-id-22 div.sk-label:hover label.sk-toggleable__label {background-color: #d4ebff;}#sk-container-id-22 div.sk-serial::before {content: \"\";position: absolute;border-left: 1px solid gray;box-sizing: border-box;top: 0;bottom: 0;left: 50%;z-index: 0;}#sk-container-id-22 div.sk-serial {display: flex;flex-direction: column;align-items: center;background-color: white;padding-right: 0.2em;padding-left: 0.2em;position: relative;}#sk-container-id-22 div.sk-item {position: relative;z-index: 1;}#sk-container-id-22 div.sk-parallel {display: flex;align-items: stretch;justify-content: center;background-color: white;position: relative;}#sk-container-id-22 div.sk-item::before, #sk-container-id-22 div.sk-parallel-item::before {content: \"\";position: absolute;border-left: 1px solid gray;box-sizing: border-box;top: 0;bottom: 0;left: 50%;z-index: -1;}#sk-container-id-22 div.sk-parallel-item {display: flex;flex-direction: column;z-index: 1;position: relative;background-color: white;}#sk-container-id-22 div.sk-parallel-item:first-child::after {align-self: flex-end;width: 50%;}#sk-container-id-22 div.sk-parallel-item:last-child::after {align-self: flex-start;width: 50%;}#sk-container-id-22 div.sk-parallel-item:only-child::after {width: 0;}#sk-container-id-22 div.sk-dashed-wrapped {border: 1px dashed gray;margin: 0 0.4em 0.5em 0.4em;box-sizing: border-box;padding-bottom: 0.4em;background-color: white;}#sk-container-id-22 div.sk-label label {font-family: monospace;font-weight: bold;display: inline-block;line-height: 1.2em;}#sk-container-id-22 div.sk-label-container {text-align: center;}#sk-container-id-22 div.sk-container {/* jupyter's `normalize.less` sets `[hidden] { display: none; }` but bootstrap.min.css set `[hidden] { display: none !important; }` so we also need the `!important` here to be able to override the default hidden behavior on the sphinx rendered scikit-learn.org. See: https://github.com/scikit-learn/scikit-learn/issues/21755 */display: inline-block !important;position: relative;}#sk-container-id-22 div.sk-text-repr-fallback {display: none;}</style><div id=\"sk-container-id-22\" class=\"sk-top-container\"><div class=\"sk-text-repr-fallback\"><pre>XGBClassifier(base_score=None, booster=None, callbacks=None,\n",
       "              colsample_bylevel=None, colsample_bynode=None, colsample_bytree=1,\n",
       "              early_stopping_rounds=None, enable_categorical=False,\n",
       "              eval_metric=None, feature_types=None, gamma=None, gpu_id=None,\n",
       "              grow_policy=None, importance_type=None,\n",
       "              interaction_constraints=None, learning_rate=0.1, max_bin=None,\n",
       "              max_cat_threshold=None, max_cat_to_onehot=None,\n",
       "              max_delta_step=None, max_depth=5, max_leaves=10,\n",
       "              min_child_weight=None, missing=nan, monotone_constraints=None,\n",
       "              n_estimators=100, n_jobs=-1, num_parallel_tree=None,\n",
       "              objective=&#x27;multi:softprob&#x27;, predictor=None, ...)</pre><b>In a Jupyter environment, please rerun this cell to show the HTML representation or trust the notebook. <br />On GitHub, the HTML representation is unable to render, please try loading this page with nbviewer.org.</b></div><div class=\"sk-container\" hidden><div class=\"sk-item\"><div class=\"sk-estimator sk-toggleable\"><input class=\"sk-toggleable__control sk-hidden--visually\" id=\"sk-estimator-id-22\" type=\"checkbox\" checked><label for=\"sk-estimator-id-22\" class=\"sk-toggleable__label sk-toggleable__label-arrow\">XGBClassifier</label><div class=\"sk-toggleable__content\"><pre>XGBClassifier(base_score=None, booster=None, callbacks=None,\n",
       "              colsample_bylevel=None, colsample_bynode=None, colsample_bytree=1,\n",
       "              early_stopping_rounds=None, enable_categorical=False,\n",
       "              eval_metric=None, feature_types=None, gamma=None, gpu_id=None,\n",
       "              grow_policy=None, importance_type=None,\n",
       "              interaction_constraints=None, learning_rate=0.1, max_bin=None,\n",
       "              max_cat_threshold=None, max_cat_to_onehot=None,\n",
       "              max_delta_step=None, max_depth=5, max_leaves=10,\n",
       "              min_child_weight=None, missing=nan, monotone_constraints=None,\n",
       "              n_estimators=100, n_jobs=-1, num_parallel_tree=None,\n",
       "              objective=&#x27;multi:softprob&#x27;, predictor=None, ...)</pre></div></div></div></div></div>"
      ],
      "text/plain": [
       "XGBClassifier(base_score=None, booster=None, callbacks=None,\n",
       "              colsample_bylevel=None, colsample_bynode=None, colsample_bytree=1,\n",
       "              early_stopping_rounds=None, enable_categorical=False,\n",
       "              eval_metric=None, feature_types=None, gamma=None, gpu_id=None,\n",
       "              grow_policy=None, importance_type=None,\n",
       "              interaction_constraints=None, learning_rate=0.1, max_bin=None,\n",
       "              max_cat_threshold=None, max_cat_to_onehot=None,\n",
       "              max_delta_step=None, max_depth=5, max_leaves=10,\n",
       "              min_child_weight=None, missing=nan, monotone_constraints=None,\n",
       "              n_estimators=100, n_jobs=-1, num_parallel_tree=None,\n",
       "              objective='multi:softprob', predictor=None, ...)"
      ]
     },
     "execution_count": 166,
     "metadata": {},
     "output_type": "execute_result"
    }
   ],
   "source": [
    "xgbc.fit(x_train, y_train)"
   ]
  },
  {
   "cell_type": "code",
   "execution_count": 167,
   "metadata": {},
   "outputs": [
    {
     "data": {
      "text/plain": [
       "0.9662921348314607"
      ]
     },
     "execution_count": 167,
     "metadata": {},
     "output_type": "execute_result"
    }
   ],
   "source": [
    "xgbc.score(x_test, y_test)"
   ]
  },
  {
   "cell_type": "code",
   "execution_count": 168,
   "metadata": {},
   "outputs": [
    {
     "data": {
      "text/plain": [
       "array([0, 2, 1, 0, 1, 1, 0, 2, 1, 1, 2, 2, 0, 1, 2, 1, 0, 0, 2, 0, 1, 0,\n",
       "       0, 1, 1, 1, 1, 1, 1, 2, 0, 0, 1, 0, 0, 0, 2, 1, 1, 2, 0, 0, 1, 1,\n",
       "       1, 0, 2, 1, 2, 0, 2, 2, 0, 2, 0, 1, 2, 2, 1, 2, 2, 0, 2, 2, 1, 1,\n",
       "       2, 1, 0, 1, 1, 1, 0, 0, 1, 0, 2, 2, 1, 1, 1, 2, 2, 0, 2, 1, 1, 1,\n",
       "       1], dtype=int64)"
      ]
     },
     "execution_count": 168,
     "metadata": {},
     "output_type": "execute_result"
    }
   ],
   "source": [
    "y_pred3 = xgbc.predict(x_test)\n",
    "y_pred3"
   ]
  },
  {
   "cell_type": "code",
   "execution_count": 169,
   "metadata": {},
   "outputs": [
    {
     "data": {
      "text/plain": [
       "0.9662921348314607"
      ]
     },
     "execution_count": 169,
     "metadata": {},
     "output_type": "execute_result"
    }
   ],
   "source": [
    "accuracy_score(y_test, y_pred3)"
   ]
  },
  {
   "cell_type": "code",
   "execution_count": 170,
   "metadata": {},
   "outputs": [
    {
     "data": {
      "text/plain": [
       "array([[0.9921961 , 0.00365904, 0.00414485],\n",
       "       [0.01052205, 0.01132423, 0.9781537 ],\n",
       "       [0.0228237 , 0.9658382 , 0.01133815],\n",
       "       [0.99242955, 0.00325527, 0.00431521],\n",
       "       [0.04921722, 0.82478285, 0.12599997],\n",
       "       [0.15795338, 0.75155324, 0.0904934 ],\n",
       "       [0.9913747 , 0.00347092, 0.00515436],\n",
       "       [0.0047443 , 0.01866218, 0.9765935 ],\n",
       "       [0.00270286, 0.9946201 , 0.00267707],\n",
       "       [0.00254535, 0.99332196, 0.00413272]], dtype=float32)"
      ]
     },
     "execution_count": 170,
     "metadata": {},
     "output_type": "execute_result"
    }
   ],
   "source": [
    "y_pred_proba3 = xgbc.predict_proba(x_test)\n",
    "y_pred_proba3[:10]"
   ]
  },
  {
   "cell_type": "code",
   "execution_count": 171,
   "metadata": {},
   "outputs": [
    {
     "data": {
      "text/plain": [
       "0.13541153707073794"
      ]
     },
     "execution_count": 171,
     "metadata": {},
     "output_type": "execute_result"
    }
   ],
   "source": [
    "log_loss(y_test, y_pred_proba3)"
   ]
  },
  {
   "cell_type": "markdown",
   "metadata": {},
   "source": [
    "# LGBMClassifier"
   ]
  },
  {
   "cell_type": "code",
   "execution_count": 172,
   "metadata": {},
   "outputs": [],
   "source": [
    "from lightgbm import LGBMClassifier"
   ]
  },
  {
   "cell_type": "code",
   "execution_count": 173,
   "metadata": {},
   "outputs": [
    {
     "data": {
      "text/html": [
       "<style>#sk-container-id-23 {color: black;}#sk-container-id-23 pre{padding: 0;}#sk-container-id-23 div.sk-toggleable {background-color: white;}#sk-container-id-23 label.sk-toggleable__label {cursor: pointer;display: block;width: 100%;margin-bottom: 0;padding: 0.3em;box-sizing: border-box;text-align: center;}#sk-container-id-23 label.sk-toggleable__label-arrow:before {content: \"▸\";float: left;margin-right: 0.25em;color: #696969;}#sk-container-id-23 label.sk-toggleable__label-arrow:hover:before {color: black;}#sk-container-id-23 div.sk-estimator:hover label.sk-toggleable__label-arrow:before {color: black;}#sk-container-id-23 div.sk-toggleable__content {max-height: 0;max-width: 0;overflow: hidden;text-align: left;background-color: #f0f8ff;}#sk-container-id-23 div.sk-toggleable__content pre {margin: 0.2em;color: black;border-radius: 0.25em;background-color: #f0f8ff;}#sk-container-id-23 input.sk-toggleable__control:checked~div.sk-toggleable__content {max-height: 200px;max-width: 100%;overflow: auto;}#sk-container-id-23 input.sk-toggleable__control:checked~label.sk-toggleable__label-arrow:before {content: \"▾\";}#sk-container-id-23 div.sk-estimator input.sk-toggleable__control:checked~label.sk-toggleable__label {background-color: #d4ebff;}#sk-container-id-23 div.sk-label input.sk-toggleable__control:checked~label.sk-toggleable__label {background-color: #d4ebff;}#sk-container-id-23 input.sk-hidden--visually {border: 0;clip: rect(1px 1px 1px 1px);clip: rect(1px, 1px, 1px, 1px);height: 1px;margin: -1px;overflow: hidden;padding: 0;position: absolute;width: 1px;}#sk-container-id-23 div.sk-estimator {font-family: monospace;background-color: #f0f8ff;border: 1px dotted black;border-radius: 0.25em;box-sizing: border-box;margin-bottom: 0.5em;}#sk-container-id-23 div.sk-estimator:hover {background-color: #d4ebff;}#sk-container-id-23 div.sk-parallel-item::after {content: \"\";width: 100%;border-bottom: 1px solid gray;flex-grow: 1;}#sk-container-id-23 div.sk-label:hover label.sk-toggleable__label {background-color: #d4ebff;}#sk-container-id-23 div.sk-serial::before {content: \"\";position: absolute;border-left: 1px solid gray;box-sizing: border-box;top: 0;bottom: 0;left: 50%;z-index: 0;}#sk-container-id-23 div.sk-serial {display: flex;flex-direction: column;align-items: center;background-color: white;padding-right: 0.2em;padding-left: 0.2em;position: relative;}#sk-container-id-23 div.sk-item {position: relative;z-index: 1;}#sk-container-id-23 div.sk-parallel {display: flex;align-items: stretch;justify-content: center;background-color: white;position: relative;}#sk-container-id-23 div.sk-item::before, #sk-container-id-23 div.sk-parallel-item::before {content: \"\";position: absolute;border-left: 1px solid gray;box-sizing: border-box;top: 0;bottom: 0;left: 50%;z-index: -1;}#sk-container-id-23 div.sk-parallel-item {display: flex;flex-direction: column;z-index: 1;position: relative;background-color: white;}#sk-container-id-23 div.sk-parallel-item:first-child::after {align-self: flex-end;width: 50%;}#sk-container-id-23 div.sk-parallel-item:last-child::after {align-self: flex-start;width: 50%;}#sk-container-id-23 div.sk-parallel-item:only-child::after {width: 0;}#sk-container-id-23 div.sk-dashed-wrapped {border: 1px dashed gray;margin: 0 0.4em 0.5em 0.4em;box-sizing: border-box;padding-bottom: 0.4em;background-color: white;}#sk-container-id-23 div.sk-label label {font-family: monospace;font-weight: bold;display: inline-block;line-height: 1.2em;}#sk-container-id-23 div.sk-label-container {text-align: center;}#sk-container-id-23 div.sk-container {/* jupyter's `normalize.less` sets `[hidden] { display: none; }` but bootstrap.min.css set `[hidden] { display: none !important; }` so we also need the `!important` here to be able to override the default hidden behavior on the sphinx rendered scikit-learn.org. See: https://github.com/scikit-learn/scikit-learn/issues/21755 */display: inline-block !important;position: relative;}#sk-container-id-23 div.sk-text-repr-fallback {display: none;}</style><div id=\"sk-container-id-23\" class=\"sk-top-container\"><div class=\"sk-text-repr-fallback\"><pre>LGBMClassifier(n_jobs=-1)</pre><b>In a Jupyter environment, please rerun this cell to show the HTML representation or trust the notebook. <br />On GitHub, the HTML representation is unable to render, please try loading this page with nbviewer.org.</b></div><div class=\"sk-container\" hidden><div class=\"sk-item\"><div class=\"sk-estimator sk-toggleable\"><input class=\"sk-toggleable__control sk-hidden--visually\" id=\"sk-estimator-id-23\" type=\"checkbox\" checked><label for=\"sk-estimator-id-23\" class=\"sk-toggleable__label sk-toggleable__label-arrow\">LGBMClassifier</label><div class=\"sk-toggleable__content\"><pre>LGBMClassifier(n_jobs=-1)</pre></div></div></div></div></div>"
      ],
      "text/plain": [
       "LGBMClassifier(n_jobs=-1)"
      ]
     },
     "execution_count": 173,
     "metadata": {},
     "output_type": "execute_result"
    }
   ],
   "source": [
    "lgbmc = LGBMClassifier(\n",
    "                       boosting_type = 'gbdt',\n",
    "                       num_leaves = 31,\n",
    "                       max_depth = -1,\n",
    "                       learning_rate = 0.1,\n",
    "                       n_estimators = 100,\n",
    "                       n_jobs = -1,\n",
    "                       )\n",
    "lgbmc"
   ]
  },
  {
   "cell_type": "code",
   "execution_count": 174,
   "metadata": {},
   "outputs": [
    {
     "name": "stdout",
     "output_type": "stream",
     "text": [
      "[LightGBM] [Warning] Auto-choosing col-wise multi-threading, the overhead of testing was 0.000072 seconds.\n",
      "You can set `force_col_wise=true` to remove the overhead.\n",
      "[LightGBM] [Info] Total Bins 357\n",
      "[LightGBM] [Info] Number of data points in the train set: 89, number of used features: 13\n",
      "[LightGBM] [Info] Start training from score -0.962276\n",
      "[LightGBM] [Info] Start training from score -1.054649\n",
      "[LightGBM] [Info] Start training from score -1.310583\n",
      "[LightGBM] [Warning] No further splits with positive gain, best gain: -inf\n",
      "[LightGBM] [Warning] No further splits with positive gain, best gain: -inf\n",
      "[LightGBM] [Warning] No further splits with positive gain, best gain: -inf\n",
      "[LightGBM] [Warning] No further splits with positive gain, best gain: -inf\n",
      "[LightGBM] [Warning] No further splits with positive gain, best gain: -inf\n",
      "[LightGBM] [Warning] No further splits with positive gain, best gain: -inf\n",
      "[LightGBM] [Warning] No further splits with positive gain, best gain: -inf\n",
      "[LightGBM] [Warning] No further splits with positive gain, best gain: -inf\n",
      "[LightGBM] [Warning] No further splits with positive gain, best gain: -inf\n",
      "[LightGBM] [Warning] No further splits with positive gain, best gain: -inf\n",
      "[LightGBM] [Warning] No further splits with positive gain, best gain: -inf\n",
      "[LightGBM] [Warning] No further splits with positive gain, best gain: -inf\n",
      "[LightGBM] [Warning] No further splits with positive gain, best gain: -inf\n",
      "[LightGBM] [Warning] No further splits with positive gain, best gain: -inf\n",
      "[LightGBM] [Warning] No further splits with positive gain, best gain: -inf\n",
      "[LightGBM] [Warning] No further splits with positive gain, best gain: -inf\n",
      "[LightGBM] [Warning] No further splits with positive gain, best gain: -inf\n",
      "[LightGBM] [Warning] No further splits with positive gain, best gain: -inf\n",
      "[LightGBM] [Warning] No further splits with positive gain, best gain: -inf\n",
      "[LightGBM] [Warning] No further splits with positive gain, best gain: -inf\n",
      "[LightGBM] [Warning] No further splits with positive gain, best gain: -inf\n",
      "[LightGBM] [Warning] No further splits with positive gain, best gain: -inf\n",
      "[LightGBM] [Warning] No further splits with positive gain, best gain: -inf\n",
      "[LightGBM] [Warning] No further splits with positive gain, best gain: -inf\n",
      "[LightGBM] [Warning] No further splits with positive gain, best gain: -inf\n",
      "[LightGBM] [Warning] No further splits with positive gain, best gain: -inf\n",
      "[LightGBM] [Warning] No further splits with positive gain, best gain: -inf\n",
      "[LightGBM] [Warning] No further splits with positive gain, best gain: -inf\n",
      "[LightGBM] [Warning] No further splits with positive gain, best gain: -inf\n",
      "[LightGBM] [Warning] No further splits with positive gain, best gain: -inf\n",
      "[LightGBM] [Warning] No further splits with positive gain, best gain: -inf\n",
      "[LightGBM] [Warning] No further splits with positive gain, best gain: -inf\n",
      "[LightGBM] [Warning] No further splits with positive gain, best gain: -inf\n",
      "[LightGBM] [Warning] No further splits with positive gain, best gain: -inf\n",
      "[LightGBM] [Warning] No further splits with positive gain, best gain: -inf\n",
      "[LightGBM] [Warning] No further splits with positive gain, best gain: -inf\n",
      "[LightGBM] [Warning] No further splits with positive gain, best gain: -inf\n",
      "[LightGBM] [Warning] No further splits with positive gain, best gain: -inf\n",
      "[LightGBM] [Warning] No further splits with positive gain, best gain: -inf\n",
      "[LightGBM] [Warning] No further splits with positive gain, best gain: -inf\n",
      "[LightGBM] [Warning] No further splits with positive gain, best gain: -inf\n",
      "[LightGBM] [Warning] No further splits with positive gain, best gain: -inf\n",
      "[LightGBM] [Warning] No further splits with positive gain, best gain: -inf\n",
      "[LightGBM] [Warning] No further splits with positive gain, best gain: -inf\n",
      "[LightGBM] [Warning] No further splits with positive gain, best gain: -inf\n",
      "[LightGBM] [Warning] No further splits with positive gain, best gain: -inf\n",
      "[LightGBM] [Warning] No further splits with positive gain, best gain: -inf\n",
      "[LightGBM] [Warning] No further splits with positive gain, best gain: -inf\n",
      "[LightGBM] [Warning] No further splits with positive gain, best gain: -inf\n",
      "[LightGBM] [Warning] No further splits with positive gain, best gain: -inf\n",
      "[LightGBM] [Warning] No further splits with positive gain, best gain: -inf\n",
      "[LightGBM] [Warning] No further splits with positive gain, best gain: -inf\n",
      "[LightGBM] [Warning] No further splits with positive gain, best gain: -inf\n",
      "[LightGBM] [Warning] No further splits with positive gain, best gain: -inf\n",
      "[LightGBM] [Warning] No further splits with positive gain, best gain: -inf\n",
      "[LightGBM] [Warning] No further splits with positive gain, best gain: -inf\n",
      "[LightGBM] [Warning] No further splits with positive gain, best gain: -inf\n",
      "[LightGBM] [Warning] No further splits with positive gain, best gain: -inf\n",
      "[LightGBM] [Warning] No further splits with positive gain, best gain: -inf\n",
      "[LightGBM] [Warning] No further splits with positive gain, best gain: -inf\n",
      "[LightGBM] [Warning] No further splits with positive gain, best gain: -inf\n",
      "[LightGBM] [Warning] No further splits with positive gain, best gain: -inf\n",
      "[LightGBM] [Warning] No further splits with positive gain, best gain: -inf\n",
      "[LightGBM] [Warning] No further splits with positive gain, best gain: -inf\n",
      "[LightGBM] [Warning] No further splits with positive gain, best gain: -inf\n",
      "[LightGBM] [Warning] No further splits with positive gain, best gain: -inf\n",
      "[LightGBM] [Warning] No further splits with positive gain, best gain: -inf\n",
      "[LightGBM] [Warning] No further splits with positive gain, best gain: -inf\n",
      "[LightGBM] [Warning] No further splits with positive gain, best gain: -inf\n",
      "[LightGBM] [Warning] No further splits with positive gain, best gain: -inf\n",
      "[LightGBM] [Warning] No further splits with positive gain, best gain: -inf\n",
      "[LightGBM] [Warning] No further splits with positive gain, best gain: -inf\n",
      "[LightGBM] [Warning] No further splits with positive gain, best gain: -inf\n",
      "[LightGBM] [Warning] No further splits with positive gain, best gain: -inf\n",
      "[LightGBM] [Warning] No further splits with positive gain, best gain: -inf\n",
      "[LightGBM] [Warning] No further splits with positive gain, best gain: -inf\n",
      "[LightGBM] [Warning] No further splits with positive gain, best gain: -inf\n",
      "[LightGBM] [Warning] No further splits with positive gain, best gain: -inf\n",
      "[LightGBM] [Warning] No further splits with positive gain, best gain: -inf\n",
      "[LightGBM] [Warning] No further splits with positive gain, best gain: -inf\n",
      "[LightGBM] [Warning] No further splits with positive gain, best gain: -inf\n",
      "[LightGBM] [Warning] No further splits with positive gain, best gain: -inf\n",
      "[LightGBM] [Warning] No further splits with positive gain, best gain: -inf\n",
      "[LightGBM] [Warning] No further splits with positive gain, best gain: -inf\n",
      "[LightGBM] [Warning] No further splits with positive gain, best gain: -inf\n",
      "[LightGBM] [Warning] No further splits with positive gain, best gain: -inf\n",
      "[LightGBM] [Warning] No further splits with positive gain, best gain: -inf\n",
      "[LightGBM] [Warning] No further splits with positive gain, best gain: -inf\n",
      "[LightGBM] [Warning] No further splits with positive gain, best gain: -inf\n",
      "[LightGBM] [Warning] No further splits with positive gain, best gain: -inf\n",
      "[LightGBM] [Warning] No further splits with positive gain, best gain: -inf\n",
      "[LightGBM] [Warning] No further splits with positive gain, best gain: -inf\n",
      "[LightGBM] [Warning] No further splits with positive gain, best gain: -inf\n",
      "[LightGBM] [Warning] No further splits with positive gain, best gain: -inf\n",
      "[LightGBM] [Warning] No further splits with positive gain, best gain: -inf\n",
      "[LightGBM] [Warning] No further splits with positive gain, best gain: -inf\n",
      "[LightGBM] [Warning] No further splits with positive gain, best gain: -inf\n",
      "[LightGBM] [Warning] No further splits with positive gain, best gain: -inf\n",
      "[LightGBM] [Warning] No further splits with positive gain, best gain: -inf\n",
      "[LightGBM] [Warning] No further splits with positive gain, best gain: -inf\n",
      "[LightGBM] [Warning] No further splits with positive gain, best gain: -inf\n",
      "[LightGBM] [Warning] No further splits with positive gain, best gain: -inf\n",
      "[LightGBM] [Warning] No further splits with positive gain, best gain: -inf\n",
      "[LightGBM] [Warning] No further splits with positive gain, best gain: -inf\n",
      "[LightGBM] [Warning] No further splits with positive gain, best gain: -inf\n",
      "[LightGBM] [Warning] No further splits with positive gain, best gain: -inf\n",
      "[LightGBM] [Warning] No further splits with positive gain, best gain: -inf\n",
      "[LightGBM] [Warning] No further splits with positive gain, best gain: -inf\n",
      "[LightGBM] [Warning] No further splits with positive gain, best gain: -inf\n",
      "[LightGBM] [Warning] No further splits with positive gain, best gain: -inf\n",
      "[LightGBM] [Warning] No further splits with positive gain, best gain: -inf\n",
      "[LightGBM] [Warning] No further splits with positive gain, best gain: -inf\n",
      "[LightGBM] [Warning] No further splits with positive gain, best gain: -inf\n",
      "[LightGBM] [Warning] No further splits with positive gain, best gain: -inf\n",
      "[LightGBM] [Warning] No further splits with positive gain, best gain: -inf\n",
      "[LightGBM] [Warning] No further splits with positive gain, best gain: -inf\n",
      "[LightGBM] [Warning] No further splits with positive gain, best gain: -inf\n",
      "[LightGBM] [Warning] No further splits with positive gain, best gain: -inf\n",
      "[LightGBM] [Warning] No further splits with positive gain, best gain: -inf\n",
      "[LightGBM] [Warning] No further splits with positive gain, best gain: -inf\n",
      "[LightGBM] [Warning] No further splits with positive gain, best gain: -inf\n",
      "[LightGBM] [Warning] No further splits with positive gain, best gain: -inf\n",
      "[LightGBM] [Warning] No further splits with positive gain, best gain: -inf\n",
      "[LightGBM] [Warning] No further splits with positive gain, best gain: -inf\n",
      "[LightGBM] [Warning] No further splits with positive gain, best gain: -inf\n",
      "[LightGBM] [Warning] No further splits with positive gain, best gain: -inf\n",
      "[LightGBM] [Warning] No further splits with positive gain, best gain: -inf\n",
      "[LightGBM] [Warning] No further splits with positive gain, best gain: -inf\n",
      "[LightGBM] [Warning] No further splits with positive gain, best gain: -inf\n",
      "[LightGBM] [Warning] No further splits with positive gain, best gain: -inf\n",
      "[LightGBM] [Warning] No further splits with positive gain, best gain: -inf\n",
      "[LightGBM] [Warning] No further splits with positive gain, best gain: -inf\n",
      "[LightGBM] [Warning] No further splits with positive gain, best gain: -inf\n",
      "[LightGBM] [Warning] No further splits with positive gain, best gain: -inf\n",
      "[LightGBM] [Warning] No further splits with positive gain, best gain: -inf\n",
      "[LightGBM] [Warning] No further splits with positive gain, best gain: -inf\n",
      "[LightGBM] [Warning] No further splits with positive gain, best gain: -inf\n",
      "[LightGBM] [Warning] No further splits with positive gain, best gain: -inf\n",
      "[LightGBM] [Warning] No further splits with positive gain, best gain: -inf\n",
      "[LightGBM] [Warning] No further splits with positive gain, best gain: -inf\n",
      "[LightGBM] [Warning] No further splits with positive gain, best gain: -inf\n",
      "[LightGBM] [Warning] No further splits with positive gain, best gain: -inf\n",
      "[LightGBM] [Warning] No further splits with positive gain, best gain: -inf\n",
      "[LightGBM] [Warning] No further splits with positive gain, best gain: -inf\n",
      "[LightGBM] [Warning] No further splits with positive gain, best gain: -inf\n",
      "[LightGBM] [Warning] No further splits with positive gain, best gain: -inf\n",
      "[LightGBM] [Warning] No further splits with positive gain, best gain: -inf\n",
      "[LightGBM] [Warning] No further splits with positive gain, best gain: -inf\n",
      "[LightGBM] [Warning] No further splits with positive gain, best gain: -inf\n",
      "[LightGBM] [Warning] No further splits with positive gain, best gain: -inf\n",
      "[LightGBM] [Warning] No further splits with positive gain, best gain: -inf\n",
      "[LightGBM] [Warning] No further splits with positive gain, best gain: -inf\n",
      "[LightGBM] [Warning] No further splits with positive gain, best gain: -inf\n",
      "[LightGBM] [Warning] No further splits with positive gain, best gain: -inf\n",
      "[LightGBM] [Warning] No further splits with positive gain, best gain: -inf\n",
      "[LightGBM] [Warning] No further splits with positive gain, best gain: -inf\n",
      "[LightGBM] [Warning] No further splits with positive gain, best gain: -inf\n",
      "[LightGBM] [Warning] No further splits with positive gain, best gain: -inf\n",
      "[LightGBM] [Warning] No further splits with positive gain, best gain: -inf\n",
      "[LightGBM] [Warning] No further splits with positive gain, best gain: -inf\n",
      "[LightGBM] [Warning] No further splits with positive gain, best gain: -inf\n",
      "[LightGBM] [Warning] No further splits with positive gain, best gain: -inf\n",
      "[LightGBM] [Warning] No further splits with positive gain, best gain: -inf\n",
      "[LightGBM] [Warning] No further splits with positive gain, best gain: -inf\n",
      "[LightGBM] [Warning] No further splits with positive gain, best gain: -inf\n",
      "[LightGBM] [Warning] No further splits with positive gain, best gain: -inf\n",
      "[LightGBM] [Warning] No further splits with positive gain, best gain: -inf\n",
      "[LightGBM] [Warning] No further splits with positive gain, best gain: -inf\n",
      "[LightGBM] [Warning] No further splits with positive gain, best gain: -inf\n",
      "[LightGBM] [Warning] No further splits with positive gain, best gain: -inf\n",
      "[LightGBM] [Warning] No further splits with positive gain, best gain: -inf\n",
      "[LightGBM] [Warning] No further splits with positive gain, best gain: -inf\n",
      "[LightGBM] [Warning] No further splits with positive gain, best gain: -inf\n",
      "[LightGBM] [Warning] No further splits with positive gain, best gain: -inf\n",
      "[LightGBM] [Warning] No further splits with positive gain, best gain: -inf\n",
      "[LightGBM] [Warning] No further splits with positive gain, best gain: -inf\n",
      "[LightGBM] [Warning] No further splits with positive gain, best gain: -inf\n",
      "[LightGBM] [Warning] No further splits with positive gain, best gain: -inf\n",
      "[LightGBM] [Warning] No further splits with positive gain, best gain: -inf\n",
      "[LightGBM] [Warning] No further splits with positive gain, best gain: -inf\n",
      "[LightGBM] [Warning] No further splits with positive gain, best gain: -inf\n",
      "[LightGBM] [Warning] No further splits with positive gain, best gain: -inf\n",
      "[LightGBM] [Warning] No further splits with positive gain, best gain: -inf\n",
      "[LightGBM] [Warning] No further splits with positive gain, best gain: -inf\n",
      "[LightGBM] [Warning] No further splits with positive gain, best gain: -inf\n",
      "[LightGBM] [Warning] No further splits with positive gain, best gain: -inf\n",
      "[LightGBM] [Warning] No further splits with positive gain, best gain: -inf\n",
      "[LightGBM] [Warning] No further splits with positive gain, best gain: -inf\n",
      "[LightGBM] [Warning] No further splits with positive gain, best gain: -inf\n",
      "[LightGBM] [Warning] No further splits with positive gain, best gain: -inf\n",
      "[LightGBM] [Warning] No further splits with positive gain, best gain: -inf\n",
      "[LightGBM] [Warning] No further splits with positive gain, best gain: -inf\n",
      "[LightGBM] [Warning] No further splits with positive gain, best gain: -inf\n",
      "[LightGBM] [Warning] No further splits with positive gain, best gain: -inf\n",
      "[LightGBM] [Warning] No further splits with positive gain, best gain: -inf\n",
      "[LightGBM] [Warning] No further splits with positive gain, best gain: -inf\n",
      "[LightGBM] [Warning] No further splits with positive gain, best gain: -inf\n",
      "[LightGBM] [Warning] No further splits with positive gain, best gain: -inf\n",
      "[LightGBM] [Warning] No further splits with positive gain, best gain: -inf\n",
      "[LightGBM] [Warning] No further splits with positive gain, best gain: -inf\n",
      "[LightGBM] [Warning] No further splits with positive gain, best gain: -inf\n",
      "[LightGBM] [Warning] No further splits with positive gain, best gain: -inf\n",
      "[LightGBM] [Warning] No further splits with positive gain, best gain: -inf\n",
      "[LightGBM] [Warning] No further splits with positive gain, best gain: -inf\n",
      "[LightGBM] [Warning] No further splits with positive gain, best gain: -inf\n",
      "[LightGBM] [Warning] No further splits with positive gain, best gain: -inf\n",
      "[LightGBM] [Warning] No further splits with positive gain, best gain: -inf\n",
      "[LightGBM] [Warning] No further splits with positive gain, best gain: -inf\n",
      "[LightGBM] [Warning] No further splits with positive gain, best gain: -inf\n",
      "[LightGBM] [Warning] No further splits with positive gain, best gain: -inf\n",
      "[LightGBM] [Warning] No further splits with positive gain, best gain: -inf\n",
      "[LightGBM] [Warning] No further splits with positive gain, best gain: -inf\n",
      "[LightGBM] [Warning] No further splits with positive gain, best gain: -inf\n",
      "[LightGBM] [Warning] No further splits with positive gain, best gain: -inf\n",
      "[LightGBM] [Warning] No further splits with positive gain, best gain: -inf\n",
      "[LightGBM] [Warning] No further splits with positive gain, best gain: -inf\n",
      "[LightGBM] [Warning] No further splits with positive gain, best gain: -inf\n",
      "[LightGBM] [Warning] No further splits with positive gain, best gain: -inf\n",
      "[LightGBM] [Warning] No further splits with positive gain, best gain: -inf\n",
      "[LightGBM] [Warning] No further splits with positive gain, best gain: -inf\n",
      "[LightGBM] [Warning] No further splits with positive gain, best gain: -inf\n",
      "[LightGBM] [Warning] No further splits with positive gain, best gain: -inf\n",
      "[LightGBM] [Warning] No further splits with positive gain, best gain: -inf\n",
      "[LightGBM] [Warning] No further splits with positive gain, best gain: -inf\n",
      "[LightGBM] [Warning] No further splits with positive gain, best gain: -inf\n",
      "[LightGBM] [Warning] No further splits with positive gain, best gain: -inf\n",
      "[LightGBM] [Warning] No further splits with positive gain, best gain: -inf\n",
      "[LightGBM] [Warning] No further splits with positive gain, best gain: -inf\n",
      "[LightGBM] [Warning] No further splits with positive gain, best gain: -inf\n",
      "[LightGBM] [Warning] No further splits with positive gain, best gain: -inf\n",
      "[LightGBM] [Warning] No further splits with positive gain, best gain: -inf\n",
      "[LightGBM] [Warning] No further splits with positive gain, best gain: -inf\n",
      "[LightGBM] [Warning] No further splits with positive gain, best gain: -inf\n",
      "[LightGBM] [Warning] No further splits with positive gain, best gain: -inf\n",
      "[LightGBM] [Warning] No further splits with positive gain, best gain: -inf\n",
      "[LightGBM] [Warning] No further splits with positive gain, best gain: -inf\n",
      "[LightGBM] [Warning] No further splits with positive gain, best gain: -inf\n",
      "[LightGBM] [Warning] No further splits with positive gain, best gain: -inf\n",
      "[LightGBM] [Warning] No further splits with positive gain, best gain: -inf\n",
      "[LightGBM] [Warning] No further splits with positive gain, best gain: -inf\n",
      "[LightGBM] [Warning] No further splits with positive gain, best gain: -inf\n",
      "[LightGBM] [Warning] No further splits with positive gain, best gain: -inf\n",
      "[LightGBM] [Warning] No further splits with positive gain, best gain: -inf\n",
      "[LightGBM] [Warning] No further splits with positive gain, best gain: -inf\n",
      "[LightGBM] [Warning] No further splits with positive gain, best gain: -inf\n",
      "[LightGBM] [Warning] No further splits with positive gain, best gain: -inf\n",
      "[LightGBM] [Warning] No further splits with positive gain, best gain: -inf\n",
      "[LightGBM] [Warning] No further splits with positive gain, best gain: -inf\n",
      "[LightGBM] [Warning] No further splits with positive gain, best gain: -inf\n",
      "[LightGBM] [Warning] No further splits with positive gain, best gain: -inf\n",
      "[LightGBM] [Warning] No further splits with positive gain, best gain: -inf\n",
      "[LightGBM] [Warning] No further splits with positive gain, best gain: -inf\n",
      "[LightGBM] [Warning] No further splits with positive gain, best gain: -inf\n",
      "[LightGBM] [Warning] No further splits with positive gain, best gain: -inf\n",
      "[LightGBM] [Warning] No further splits with positive gain, best gain: -inf\n",
      "[LightGBM] [Warning] No further splits with positive gain, best gain: -inf\n",
      "[LightGBM] [Warning] No further splits with positive gain, best gain: -inf\n",
      "[LightGBM] [Warning] No further splits with positive gain, best gain: -inf\n",
      "[LightGBM] [Warning] No further splits with positive gain, best gain: -inf\n",
      "[LightGBM] [Warning] No further splits with positive gain, best gain: -inf\n",
      "[LightGBM] [Warning] No further splits with positive gain, best gain: -inf\n",
      "[LightGBM] [Warning] No further splits with positive gain, best gain: -inf\n",
      "[LightGBM] [Warning] No further splits with positive gain, best gain: -inf\n",
      "[LightGBM] [Warning] No further splits with positive gain, best gain: -inf\n",
      "[LightGBM] [Warning] No further splits with positive gain, best gain: -inf\n",
      "[LightGBM] [Warning] No further splits with positive gain, best gain: -inf\n",
      "[LightGBM] [Warning] No further splits with positive gain, best gain: -inf\n",
      "[LightGBM] [Warning] No further splits with positive gain, best gain: -inf\n",
      "[LightGBM] [Warning] No further splits with positive gain, best gain: -inf\n",
      "[LightGBM] [Warning] No further splits with positive gain, best gain: -inf\n",
      "[LightGBM] [Warning] No further splits with positive gain, best gain: -inf\n",
      "[LightGBM] [Warning] No further splits with positive gain, best gain: -inf\n",
      "[LightGBM] [Warning] No further splits with positive gain, best gain: -inf\n",
      "[LightGBM] [Warning] No further splits with positive gain, best gain: -inf\n",
      "[LightGBM] [Warning] No further splits with positive gain, best gain: -inf\n",
      "[LightGBM] [Warning] No further splits with positive gain, best gain: -inf\n",
      "[LightGBM] [Warning] No further splits with positive gain, best gain: -inf\n",
      "[LightGBM] [Warning] No further splits with positive gain, best gain: -inf\n",
      "[LightGBM] [Warning] No further splits with positive gain, best gain: -inf\n",
      "[LightGBM] [Warning] No further splits with positive gain, best gain: -inf\n",
      "[LightGBM] [Warning] No further splits with positive gain, best gain: -inf\n",
      "[LightGBM] [Warning] No further splits with positive gain, best gain: -inf\n",
      "[LightGBM] [Warning] No further splits with positive gain, best gain: -inf\n",
      "[LightGBM] [Warning] No further splits with positive gain, best gain: -inf\n",
      "[LightGBM] [Warning] No further splits with positive gain, best gain: -inf\n",
      "[LightGBM] [Warning] No further splits with positive gain, best gain: -inf\n",
      "[LightGBM] [Warning] No further splits with positive gain, best gain: -inf\n",
      "[LightGBM] [Warning] No further splits with positive gain, best gain: -inf\n",
      "[LightGBM] [Warning] No further splits with positive gain, best gain: -inf\n",
      "[LightGBM] [Warning] No further splits with positive gain, best gain: -inf\n",
      "[LightGBM] [Warning] No further splits with positive gain, best gain: -inf\n",
      "[LightGBM] [Warning] No further splits with positive gain, best gain: -inf\n",
      "[LightGBM] [Warning] No further splits with positive gain, best gain: -inf\n",
      "[LightGBM] [Warning] No further splits with positive gain, best gain: -inf\n",
      "[LightGBM] [Warning] No further splits with positive gain, best gain: -inf\n",
      "[LightGBM] [Warning] No further splits with positive gain, best gain: -inf\n",
      "[LightGBM] [Warning] No further splits with positive gain, best gain: -inf\n",
      "[LightGBM] [Warning] No further splits with positive gain, best gain: -inf\n",
      "[LightGBM] [Warning] No further splits with positive gain, best gain: -inf\n",
      "[LightGBM] [Warning] No further splits with positive gain, best gain: -inf\n"
     ]
    },
    {
     "data": {
      "text/html": [
       "<style>#sk-container-id-24 {color: black;}#sk-container-id-24 pre{padding: 0;}#sk-container-id-24 div.sk-toggleable {background-color: white;}#sk-container-id-24 label.sk-toggleable__label {cursor: pointer;display: block;width: 100%;margin-bottom: 0;padding: 0.3em;box-sizing: border-box;text-align: center;}#sk-container-id-24 label.sk-toggleable__label-arrow:before {content: \"▸\";float: left;margin-right: 0.25em;color: #696969;}#sk-container-id-24 label.sk-toggleable__label-arrow:hover:before {color: black;}#sk-container-id-24 div.sk-estimator:hover label.sk-toggleable__label-arrow:before {color: black;}#sk-container-id-24 div.sk-toggleable__content {max-height: 0;max-width: 0;overflow: hidden;text-align: left;background-color: #f0f8ff;}#sk-container-id-24 div.sk-toggleable__content pre {margin: 0.2em;color: black;border-radius: 0.25em;background-color: #f0f8ff;}#sk-container-id-24 input.sk-toggleable__control:checked~div.sk-toggleable__content {max-height: 200px;max-width: 100%;overflow: auto;}#sk-container-id-24 input.sk-toggleable__control:checked~label.sk-toggleable__label-arrow:before {content: \"▾\";}#sk-container-id-24 div.sk-estimator input.sk-toggleable__control:checked~label.sk-toggleable__label {background-color: #d4ebff;}#sk-container-id-24 div.sk-label input.sk-toggleable__control:checked~label.sk-toggleable__label {background-color: #d4ebff;}#sk-container-id-24 input.sk-hidden--visually {border: 0;clip: rect(1px 1px 1px 1px);clip: rect(1px, 1px, 1px, 1px);height: 1px;margin: -1px;overflow: hidden;padding: 0;position: absolute;width: 1px;}#sk-container-id-24 div.sk-estimator {font-family: monospace;background-color: #f0f8ff;border: 1px dotted black;border-radius: 0.25em;box-sizing: border-box;margin-bottom: 0.5em;}#sk-container-id-24 div.sk-estimator:hover {background-color: #d4ebff;}#sk-container-id-24 div.sk-parallel-item::after {content: \"\";width: 100%;border-bottom: 1px solid gray;flex-grow: 1;}#sk-container-id-24 div.sk-label:hover label.sk-toggleable__label {background-color: #d4ebff;}#sk-container-id-24 div.sk-serial::before {content: \"\";position: absolute;border-left: 1px solid gray;box-sizing: border-box;top: 0;bottom: 0;left: 50%;z-index: 0;}#sk-container-id-24 div.sk-serial {display: flex;flex-direction: column;align-items: center;background-color: white;padding-right: 0.2em;padding-left: 0.2em;position: relative;}#sk-container-id-24 div.sk-item {position: relative;z-index: 1;}#sk-container-id-24 div.sk-parallel {display: flex;align-items: stretch;justify-content: center;background-color: white;position: relative;}#sk-container-id-24 div.sk-item::before, #sk-container-id-24 div.sk-parallel-item::before {content: \"\";position: absolute;border-left: 1px solid gray;box-sizing: border-box;top: 0;bottom: 0;left: 50%;z-index: -1;}#sk-container-id-24 div.sk-parallel-item {display: flex;flex-direction: column;z-index: 1;position: relative;background-color: white;}#sk-container-id-24 div.sk-parallel-item:first-child::after {align-self: flex-end;width: 50%;}#sk-container-id-24 div.sk-parallel-item:last-child::after {align-self: flex-start;width: 50%;}#sk-container-id-24 div.sk-parallel-item:only-child::after {width: 0;}#sk-container-id-24 div.sk-dashed-wrapped {border: 1px dashed gray;margin: 0 0.4em 0.5em 0.4em;box-sizing: border-box;padding-bottom: 0.4em;background-color: white;}#sk-container-id-24 div.sk-label label {font-family: monospace;font-weight: bold;display: inline-block;line-height: 1.2em;}#sk-container-id-24 div.sk-label-container {text-align: center;}#sk-container-id-24 div.sk-container {/* jupyter's `normalize.less` sets `[hidden] { display: none; }` but bootstrap.min.css set `[hidden] { display: none !important; }` so we also need the `!important` here to be able to override the default hidden behavior on the sphinx rendered scikit-learn.org. See: https://github.com/scikit-learn/scikit-learn/issues/21755 */display: inline-block !important;position: relative;}#sk-container-id-24 div.sk-text-repr-fallback {display: none;}</style><div id=\"sk-container-id-24\" class=\"sk-top-container\"><div class=\"sk-text-repr-fallback\"><pre>LGBMClassifier(n_jobs=-1)</pre><b>In a Jupyter environment, please rerun this cell to show the HTML representation or trust the notebook. <br />On GitHub, the HTML representation is unable to render, please try loading this page with nbviewer.org.</b></div><div class=\"sk-container\" hidden><div class=\"sk-item\"><div class=\"sk-estimator sk-toggleable\"><input class=\"sk-toggleable__control sk-hidden--visually\" id=\"sk-estimator-id-24\" type=\"checkbox\" checked><label for=\"sk-estimator-id-24\" class=\"sk-toggleable__label sk-toggleable__label-arrow\">LGBMClassifier</label><div class=\"sk-toggleable__content\"><pre>LGBMClassifier(n_jobs=-1)</pre></div></div></div></div></div>"
      ],
      "text/plain": [
       "LGBMClassifier(n_jobs=-1)"
      ]
     },
     "execution_count": 174,
     "metadata": {},
     "output_type": "execute_result"
    }
   ],
   "source": [
    "lgbmc.fit(x_train, y_train)"
   ]
  },
  {
   "cell_type": "code",
   "execution_count": 175,
   "metadata": {},
   "outputs": [
    {
     "data": {
      "text/plain": [
       "0.9550561797752809"
      ]
     },
     "execution_count": 175,
     "metadata": {},
     "output_type": "execute_result"
    }
   ],
   "source": [
    "lgbmc.score(x_test, y_test)"
   ]
  },
  {
   "cell_type": "code",
   "execution_count": 176,
   "metadata": {},
   "outputs": [],
   "source": [
    "y_pred4 = lgbmc.predict(x_test)"
   ]
  },
  {
   "cell_type": "code",
   "execution_count": 177,
   "metadata": {},
   "outputs": [
    {
     "data": {
      "text/plain": [
       "0.9550561797752809"
      ]
     },
     "execution_count": 177,
     "metadata": {},
     "output_type": "execute_result"
    }
   ],
   "source": [
    "accuracy_score(y_test, y_pred4)"
   ]
  },
  {
   "cell_type": "code",
   "execution_count": 178,
   "metadata": {},
   "outputs": [
    {
     "data": {
      "text/plain": [
       "array([[9.99985578e-01, 1.27695922e-05, 1.65257168e-06],\n",
       "       [9.07009728e-06, 8.00359123e-05, 9.99910894e-01],\n",
       "       [5.27058522e-04, 9.99455631e-01, 1.73103214e-05],\n",
       "       [9.99979712e-01, 1.65238498e-05, 3.76370446e-06],\n",
       "       [1.24243835e-02, 9.77877653e-01, 9.69796366e-03],\n",
       "       [2.32359642e-01, 7.58655489e-01, 8.98486916e-03],\n",
       "       [9.99994394e-01, 2.56970216e-06, 3.03582072e-06],\n",
       "       [1.63664327e-06, 1.66353179e-04, 9.99832010e-01],\n",
       "       [3.09142600e-05, 9.99954336e-01, 1.47498995e-05],\n",
       "       [2.71688102e-06, 9.99990937e-01, 6.34657512e-06]])"
      ]
     },
     "execution_count": 178,
     "metadata": {},
     "output_type": "execute_result"
    }
   ],
   "source": [
    "y_pred_proba4 = lgbmc.predict_proba(x_test)\n",
    "y_pred_proba4[:10]"
   ]
  },
  {
   "cell_type": "code",
   "execution_count": 179,
   "metadata": {},
   "outputs": [
    {
     "data": {
      "text/plain": [
       "0.08824895679747774"
      ]
     },
     "execution_count": 179,
     "metadata": {},
     "output_type": "execute_result"
    }
   ],
   "source": [
    "log_loss(y_test, y_pred_proba4)"
   ]
  },
  {
   "attachments": {},
   "cell_type": "markdown",
   "metadata": {},
   "source": [
    "# CatBoostClassifier"
   ]
  },
  {
   "cell_type": "code",
   "execution_count": 180,
   "metadata": {},
   "outputs": [],
   "source": [
    "from catboost import CatBoostClassifier"
   ]
  },
  {
   "cell_type": "code",
   "execution_count": 181,
   "metadata": {},
   "outputs": [
    {
     "data": {
      "text/plain": [
       "<catboost.core.CatBoostClassifier at 0x1db93ffbf90>"
      ]
     },
     "execution_count": 181,
     "metadata": {},
     "output_type": "execute_result"
    }
   ],
   "source": [
    "cbc = CatBoostClassifier(learning_rate=0.1,)\n",
    "cbc"
   ]
  },
  {
   "cell_type": "code",
   "execution_count": 182,
   "metadata": {},
   "outputs": [
    {
     "name": "stdout",
     "output_type": "stream",
     "text": [
      "0:\tlearn: 1.0234851\ttotal: 1.59ms\tremaining: 1.59s\n",
      "1:\tlearn: 0.9421271\ttotal: 2.56ms\tremaining: 1.28s\n",
      "2:\tlearn: 0.8696367\ttotal: 3.59ms\tremaining: 1.19s\n",
      "3:\tlearn: 0.8071878\ttotal: 4.86ms\tremaining: 1.21s\n",
      "4:\tlearn: 0.7538260\ttotal: 5.86ms\tremaining: 1.17s\n",
      "5:\tlearn: 0.6974360\ttotal: 6.92ms\tremaining: 1.15s\n",
      "6:\tlearn: 0.6516648\ttotal: 8.06ms\tremaining: 1.14s\n",
      "7:\tlearn: 0.6197986\ttotal: 9.18ms\tremaining: 1.14s\n",
      "8:\tlearn: 0.5863257\ttotal: 10.4ms\tremaining: 1.14s\n",
      "9:\tlearn: 0.5513493\ttotal: 11.4ms\tremaining: 1.13s\n",
      "10:\tlearn: 0.5201981\ttotal: 12.7ms\tremaining: 1.14s\n",
      "11:\tlearn: 0.4964664\ttotal: 13.8ms\tremaining: 1.14s\n",
      "12:\tlearn: 0.4735832\ttotal: 14.9ms\tremaining: 1.13s\n",
      "13:\tlearn: 0.4470868\ttotal: 16ms\tremaining: 1.13s\n",
      "14:\tlearn: 0.4220142\ttotal: 17.1ms\tremaining: 1.12s\n",
      "15:\tlearn: 0.4025320\ttotal: 18.2ms\tremaining: 1.12s\n",
      "16:\tlearn: 0.3836927\ttotal: 19.4ms\tremaining: 1.12s\n",
      "17:\tlearn: 0.3669561\ttotal: 20.5ms\tremaining: 1.12s\n",
      "18:\tlearn: 0.3485105\ttotal: 21.7ms\tremaining: 1.12s\n",
      "19:\tlearn: 0.3331025\ttotal: 22.8ms\tremaining: 1.12s\n",
      "20:\tlearn: 0.3172003\ttotal: 23.9ms\tremaining: 1.11s\n",
      "21:\tlearn: 0.3026903\ttotal: 25ms\tremaining: 1.11s\n",
      "22:\tlearn: 0.2922593\ttotal: 26.1ms\tremaining: 1.11s\n",
      "23:\tlearn: 0.2829081\ttotal: 27.3ms\tremaining: 1.11s\n",
      "24:\tlearn: 0.2705362\ttotal: 28.4ms\tremaining: 1.11s\n",
      "25:\tlearn: 0.2611353\ttotal: 29.5ms\tremaining: 1.1s\n",
      "26:\tlearn: 0.2541896\ttotal: 30.8ms\tremaining: 1.11s\n",
      "27:\tlearn: 0.2472650\ttotal: 31.8ms\tremaining: 1.1s\n",
      "28:\tlearn: 0.2339121\ttotal: 32.9ms\tremaining: 1.1s\n",
      "29:\tlearn: 0.2246081\ttotal: 34ms\tremaining: 1.1s\n",
      "30:\tlearn: 0.2179584\ttotal: 35.1ms\tremaining: 1.1s\n",
      "31:\tlearn: 0.2089471\ttotal: 36.5ms\tremaining: 1.1s\n",
      "32:\tlearn: 0.2009974\ttotal: 37.5ms\tremaining: 1.1s\n",
      "33:\tlearn: 0.1957464\ttotal: 38.4ms\tremaining: 1.09s\n",
      "34:\tlearn: 0.1894902\ttotal: 39.4ms\tremaining: 1.09s\n",
      "35:\tlearn: 0.1835488\ttotal: 40.7ms\tremaining: 1.09s\n",
      "36:\tlearn: 0.1764271\ttotal: 42.3ms\tremaining: 1.1s\n",
      "37:\tlearn: 0.1720441\ttotal: 43.7ms\tremaining: 1.11s\n",
      "38:\tlearn: 0.1657609\ttotal: 44.6ms\tremaining: 1.1s\n",
      "39:\tlearn: 0.1620980\ttotal: 45.4ms\tremaining: 1.09s\n",
      "40:\tlearn: 0.1588013\ttotal: 46.3ms\tremaining: 1.08s\n",
      "41:\tlearn: 0.1549249\ttotal: 47.2ms\tremaining: 1.07s\n",
      "42:\tlearn: 0.1496920\ttotal: 48.1ms\tremaining: 1.07s\n",
      "43:\tlearn: 0.1449900\ttotal: 49ms\tremaining: 1.06s\n",
      "44:\tlearn: 0.1401965\ttotal: 50ms\tremaining: 1.06s\n",
      "45:\tlearn: 0.1362277\ttotal: 51ms\tremaining: 1.06s\n",
      "46:\tlearn: 0.1335482\ttotal: 51.9ms\tremaining: 1.05s\n",
      "47:\tlearn: 0.1296925\ttotal: 52.7ms\tremaining: 1.04s\n",
      "48:\tlearn: 0.1260729\ttotal: 53.6ms\tremaining: 1.04s\n",
      "49:\tlearn: 0.1221091\ttotal: 54.4ms\tremaining: 1.03s\n",
      "50:\tlearn: 0.1187692\ttotal: 55.3ms\tremaining: 1.03s\n",
      "51:\tlearn: 0.1163115\ttotal: 56.5ms\tremaining: 1.03s\n",
      "52:\tlearn: 0.1137206\ttotal: 57.5ms\tremaining: 1.03s\n",
      "53:\tlearn: 0.1113111\ttotal: 58.4ms\tremaining: 1.02s\n",
      "54:\tlearn: 0.1085526\ttotal: 59.3ms\tremaining: 1.02s\n",
      "55:\tlearn: 0.1059909\ttotal: 60.1ms\tremaining: 1.01s\n",
      "56:\tlearn: 0.1038936\ttotal: 61.1ms\tremaining: 1.01s\n",
      "57:\tlearn: 0.1022489\ttotal: 61.9ms\tremaining: 1.01s\n",
      "58:\tlearn: 0.1002407\ttotal: 62.9ms\tremaining: 1s\n",
      "59:\tlearn: 0.0977603\ttotal: 63.7ms\tremaining: 999ms\n",
      "60:\tlearn: 0.0955656\ttotal: 65ms\tremaining: 1s\n",
      "61:\tlearn: 0.0942625\ttotal: 65.8ms\tremaining: 996ms\n",
      "62:\tlearn: 0.0919999\ttotal: 66.8ms\tremaining: 993ms\n",
      "63:\tlearn: 0.0901359\ttotal: 67.7ms\tremaining: 991ms\n",
      "64:\tlearn: 0.0880166\ttotal: 68.7ms\tremaining: 988ms\n",
      "65:\tlearn: 0.0858451\ttotal: 69.6ms\tremaining: 985ms\n",
      "66:\tlearn: 0.0837940\ttotal: 70.6ms\tremaining: 983ms\n",
      "67:\tlearn: 0.0824617\ttotal: 72ms\tremaining: 987ms\n",
      "68:\tlearn: 0.0811060\ttotal: 72.9ms\tremaining: 984ms\n",
      "69:\tlearn: 0.0790555\ttotal: 73.8ms\tremaining: 981ms\n",
      "70:\tlearn: 0.0774076\ttotal: 74.7ms\tremaining: 978ms\n",
      "71:\tlearn: 0.0759823\ttotal: 75.7ms\tremaining: 975ms\n",
      "72:\tlearn: 0.0746190\ttotal: 76.6ms\tremaining: 973ms\n",
      "73:\tlearn: 0.0730309\ttotal: 77.6ms\tremaining: 971ms\n",
      "74:\tlearn: 0.0717405\ttotal: 78.4ms\tremaining: 967ms\n",
      "75:\tlearn: 0.0707393\ttotal: 79.7ms\tremaining: 969ms\n",
      "76:\tlearn: 0.0696740\ttotal: 80.6ms\tremaining: 966ms\n",
      "77:\tlearn: 0.0685119\ttotal: 81.4ms\tremaining: 962ms\n",
      "78:\tlearn: 0.0673228\ttotal: 82.2ms\tremaining: 959ms\n",
      "79:\tlearn: 0.0658606\ttotal: 83.2ms\tremaining: 956ms\n",
      "80:\tlearn: 0.0646747\ttotal: 84.1ms\tremaining: 954ms\n",
      "81:\tlearn: 0.0638754\ttotal: 85ms\tremaining: 951ms\n",
      "82:\tlearn: 0.0627903\ttotal: 85.8ms\tremaining: 948ms\n",
      "83:\tlearn: 0.0620130\ttotal: 86.9ms\tremaining: 948ms\n",
      "84:\tlearn: 0.0609856\ttotal: 87.9ms\tremaining: 946ms\n",
      "85:\tlearn: 0.0600912\ttotal: 89ms\tremaining: 946ms\n",
      "86:\tlearn: 0.0594225\ttotal: 90ms\tremaining: 944ms\n",
      "87:\tlearn: 0.0586163\ttotal: 90.8ms\tremaining: 941ms\n",
      "88:\tlearn: 0.0577473\ttotal: 91.8ms\tremaining: 940ms\n",
      "89:\tlearn: 0.0569943\ttotal: 92.7ms\tremaining: 938ms\n",
      "90:\tlearn: 0.0563451\ttotal: 93.7ms\tremaining: 936ms\n",
      "91:\tlearn: 0.0557166\ttotal: 95.1ms\tremaining: 938ms\n",
      "92:\tlearn: 0.0551886\ttotal: 96ms\tremaining: 936ms\n",
      "93:\tlearn: 0.0541500\ttotal: 96.9ms\tremaining: 934ms\n",
      "94:\tlearn: 0.0536575\ttotal: 98ms\tremaining: 934ms\n",
      "95:\tlearn: 0.0529896\ttotal: 99.1ms\tremaining: 933ms\n",
      "96:\tlearn: 0.0524034\ttotal: 100ms\tremaining: 932ms\n",
      "97:\tlearn: 0.0519133\ttotal: 101ms\tremaining: 930ms\n",
      "98:\tlearn: 0.0513116\ttotal: 102ms\tremaining: 928ms\n",
      "99:\tlearn: 0.0506830\ttotal: 103ms\tremaining: 925ms\n",
      "100:\tlearn: 0.0500534\ttotal: 104ms\tremaining: 924ms\n",
      "101:\tlearn: 0.0494077\ttotal: 105ms\tremaining: 922ms\n",
      "102:\tlearn: 0.0488790\ttotal: 106ms\tremaining: 920ms\n",
      "103:\tlearn: 0.0479486\ttotal: 106ms\tremaining: 916ms\n",
      "104:\tlearn: 0.0474374\ttotal: 107ms\tremaining: 913ms\n",
      "105:\tlearn: 0.0469024\ttotal: 108ms\tremaining: 911ms\n",
      "106:\tlearn: 0.0463663\ttotal: 109ms\tremaining: 909ms\n",
      "107:\tlearn: 0.0458061\ttotal: 110ms\tremaining: 907ms\n",
      "108:\tlearn: 0.0452533\ttotal: 111ms\tremaining: 904ms\n",
      "109:\tlearn: 0.0447156\ttotal: 112ms\tremaining: 903ms\n",
      "110:\tlearn: 0.0442484\ttotal: 113ms\tremaining: 902ms\n",
      "111:\tlearn: 0.0437373\ttotal: 114ms\tremaining: 901ms\n",
      "112:\tlearn: 0.0433075\ttotal: 115ms\tremaining: 899ms\n",
      "113:\tlearn: 0.0427675\ttotal: 115ms\tremaining: 897ms\n",
      "114:\tlearn: 0.0423951\ttotal: 116ms\tremaining: 895ms\n",
      "115:\tlearn: 0.0418976\ttotal: 117ms\tremaining: 894ms\n",
      "116:\tlearn: 0.0415426\ttotal: 118ms\tremaining: 892ms\n",
      "117:\tlearn: 0.0411981\ttotal: 119ms\tremaining: 891ms\n",
      "118:\tlearn: 0.0407919\ttotal: 120ms\tremaining: 890ms\n",
      "119:\tlearn: 0.0403830\ttotal: 121ms\tremaining: 888ms\n",
      "120:\tlearn: 0.0399569\ttotal: 122ms\tremaining: 886ms\n",
      "121:\tlearn: 0.0393599\ttotal: 123ms\tremaining: 883ms\n",
      "122:\tlearn: 0.0389888\ttotal: 124ms\tremaining: 881ms\n",
      "123:\tlearn: 0.0386641\ttotal: 124ms\tremaining: 879ms\n",
      "124:\tlearn: 0.0383259\ttotal: 126ms\tremaining: 879ms\n",
      "125:\tlearn: 0.0380074\ttotal: 126ms\tremaining: 877ms\n",
      "126:\tlearn: 0.0377012\ttotal: 128ms\tremaining: 877ms\n",
      "127:\tlearn: 0.0373435\ttotal: 129ms\tremaining: 876ms\n",
      "128:\tlearn: 0.0368976\ttotal: 130ms\tremaining: 875ms\n",
      "129:\tlearn: 0.0365207\ttotal: 130ms\tremaining: 873ms\n",
      "130:\tlearn: 0.0362382\ttotal: 131ms\tremaining: 872ms\n",
      "131:\tlearn: 0.0359183\ttotal: 132ms\tremaining: 871ms\n",
      "132:\tlearn: 0.0355812\ttotal: 134ms\tremaining: 871ms\n",
      "133:\tlearn: 0.0352293\ttotal: 135ms\tremaining: 870ms\n",
      "134:\tlearn: 0.0348879\ttotal: 136ms\tremaining: 869ms\n",
      "135:\tlearn: 0.0345268\ttotal: 136ms\tremaining: 867ms\n",
      "136:\tlearn: 0.0341360\ttotal: 137ms\tremaining: 865ms\n",
      "137:\tlearn: 0.0338258\ttotal: 138ms\tremaining: 864ms\n",
      "138:\tlearn: 0.0334851\ttotal: 139ms\tremaining: 862ms\n",
      "139:\tlearn: 0.0331698\ttotal: 140ms\tremaining: 860ms\n",
      "140:\tlearn: 0.0328950\ttotal: 141ms\tremaining: 858ms\n",
      "141:\tlearn: 0.0325020\ttotal: 142ms\tremaining: 857ms\n",
      "142:\tlearn: 0.0322174\ttotal: 143ms\tremaining: 855ms\n",
      "143:\tlearn: 0.0319956\ttotal: 144ms\tremaining: 854ms\n",
      "144:\tlearn: 0.0316436\ttotal: 145ms\tremaining: 852ms\n",
      "145:\tlearn: 0.0314162\ttotal: 146ms\tremaining: 852ms\n",
      "146:\tlearn: 0.0311385\ttotal: 147ms\tremaining: 851ms\n",
      "147:\tlearn: 0.0308843\ttotal: 148ms\tremaining: 850ms\n",
      "148:\tlearn: 0.0305446\ttotal: 149ms\tremaining: 848ms\n",
      "149:\tlearn: 0.0299466\ttotal: 149ms\tremaining: 844ms\n",
      "150:\tlearn: 0.0296976\ttotal: 150ms\tremaining: 843ms\n",
      "151:\tlearn: 0.0294118\ttotal: 151ms\tremaining: 842ms\n",
      "152:\tlearn: 0.0291521\ttotal: 152ms\tremaining: 841ms\n",
      "153:\tlearn: 0.0289415\ttotal: 153ms\tremaining: 840ms\n",
      "154:\tlearn: 0.0286272\ttotal: 154ms\tremaining: 838ms\n",
      "155:\tlearn: 0.0284140\ttotal: 155ms\tremaining: 837ms\n",
      "156:\tlearn: 0.0282215\ttotal: 156ms\tremaining: 836ms\n",
      "157:\tlearn: 0.0280299\ttotal: 156ms\tremaining: 834ms\n",
      "158:\tlearn: 0.0278675\ttotal: 157ms\tremaining: 832ms\n",
      "159:\tlearn: 0.0276338\ttotal: 158ms\tremaining: 832ms\n",
      "160:\tlearn: 0.0274346\ttotal: 159ms\tremaining: 830ms\n",
      "161:\tlearn: 0.0272428\ttotal: 160ms\tremaining: 829ms\n",
      "162:\tlearn: 0.0270456\ttotal: 161ms\tremaining: 828ms\n",
      "163:\tlearn: 0.0268541\ttotal: 162ms\tremaining: 826ms\n",
      "164:\tlearn: 0.0266594\ttotal: 163ms\tremaining: 825ms\n",
      "165:\tlearn: 0.0264642\ttotal: 164ms\tremaining: 823ms\n",
      "166:\tlearn: 0.0262628\ttotal: 165ms\tremaining: 823ms\n",
      "167:\tlearn: 0.0260981\ttotal: 166ms\tremaining: 822ms\n",
      "168:\tlearn: 0.0259032\ttotal: 167ms\tremaining: 821ms\n",
      "169:\tlearn: 0.0257370\ttotal: 168ms\tremaining: 820ms\n",
      "170:\tlearn: 0.0254375\ttotal: 169ms\tremaining: 817ms\n",
      "171:\tlearn: 0.0252779\ttotal: 169ms\tremaining: 816ms\n",
      "172:\tlearn: 0.0251064\ttotal: 170ms\tremaining: 814ms\n",
      "173:\tlearn: 0.0249228\ttotal: 171ms\tremaining: 813ms\n",
      "174:\tlearn: 0.0248144\ttotal: 172ms\tremaining: 812ms\n",
      "175:\tlearn: 0.0245944\ttotal: 173ms\tremaining: 811ms\n",
      "176:\tlearn: 0.0242313\ttotal: 174ms\tremaining: 807ms\n",
      "177:\tlearn: 0.0240835\ttotal: 175ms\tremaining: 806ms\n",
      "178:\tlearn: 0.0239394\ttotal: 175ms\tremaining: 804ms\n",
      "179:\tlearn: 0.0238027\ttotal: 176ms\tremaining: 803ms\n",
      "180:\tlearn: 0.0236148\ttotal: 177ms\tremaining: 802ms\n",
      "181:\tlearn: 0.0234643\ttotal: 178ms\tremaining: 801ms\n",
      "182:\tlearn: 0.0232991\ttotal: 179ms\tremaining: 800ms\n",
      "183:\tlearn: 0.0231652\ttotal: 180ms\tremaining: 799ms\n",
      "184:\tlearn: 0.0230267\ttotal: 181ms\tremaining: 798ms\n",
      "185:\tlearn: 0.0229055\ttotal: 182ms\tremaining: 797ms\n",
      "186:\tlearn: 0.0227867\ttotal: 183ms\tremaining: 796ms\n",
      "187:\tlearn: 0.0226364\ttotal: 184ms\tremaining: 795ms\n",
      "188:\tlearn: 0.0225267\ttotal: 185ms\tremaining: 794ms\n",
      "189:\tlearn: 0.0223785\ttotal: 186ms\tremaining: 793ms\n",
      "190:\tlearn: 0.0222741\ttotal: 187ms\tremaining: 793ms\n",
      "191:\tlearn: 0.0221535\ttotal: 188ms\tremaining: 791ms\n",
      "192:\tlearn: 0.0220009\ttotal: 189ms\tremaining: 790ms\n",
      "193:\tlearn: 0.0218543\ttotal: 190ms\tremaining: 789ms\n",
      "194:\tlearn: 0.0216990\ttotal: 191ms\tremaining: 787ms\n",
      "195:\tlearn: 0.0215650\ttotal: 192ms\tremaining: 786ms\n",
      "196:\tlearn: 0.0214354\ttotal: 193ms\tremaining: 785ms\n",
      "197:\tlearn: 0.0212541\ttotal: 193ms\tremaining: 784ms\n",
      "198:\tlearn: 0.0211193\ttotal: 194ms\tremaining: 782ms\n",
      "199:\tlearn: 0.0209587\ttotal: 195ms\tremaining: 782ms\n",
      "200:\tlearn: 0.0208567\ttotal: 197ms\tremaining: 783ms\n",
      "201:\tlearn: 0.0207711\ttotal: 198ms\tremaining: 782ms\n",
      "202:\tlearn: 0.0206416\ttotal: 199ms\tremaining: 781ms\n",
      "203:\tlearn: 0.0205305\ttotal: 200ms\tremaining: 779ms\n",
      "204:\tlearn: 0.0204362\ttotal: 201ms\tremaining: 778ms\n",
      "205:\tlearn: 0.0203301\ttotal: 202ms\tremaining: 777ms\n",
      "206:\tlearn: 0.0200908\ttotal: 202ms\tremaining: 774ms\n",
      "207:\tlearn: 0.0199510\ttotal: 203ms\tremaining: 773ms\n",
      "208:\tlearn: 0.0198154\ttotal: 204ms\tremaining: 772ms\n",
      "209:\tlearn: 0.0196850\ttotal: 205ms\tremaining: 771ms\n",
      "210:\tlearn: 0.0195937\ttotal: 206ms\tremaining: 770ms\n",
      "211:\tlearn: 0.0194645\ttotal: 207ms\tremaining: 768ms\n",
      "212:\tlearn: 0.0193436\ttotal: 208ms\tremaining: 767ms\n",
      "213:\tlearn: 0.0192491\ttotal: 208ms\tremaining: 765ms\n",
      "214:\tlearn: 0.0191594\ttotal: 209ms\tremaining: 764ms\n",
      "215:\tlearn: 0.0190558\ttotal: 210ms\tremaining: 764ms\n",
      "216:\tlearn: 0.0189397\ttotal: 212ms\tremaining: 764ms\n",
      "217:\tlearn: 0.0188471\ttotal: 213ms\tremaining: 764ms\n",
      "218:\tlearn: 0.0187735\ttotal: 214ms\tremaining: 763ms\n",
      "219:\tlearn: 0.0186924\ttotal: 215ms\tremaining: 762ms\n",
      "220:\tlearn: 0.0185923\ttotal: 216ms\tremaining: 761ms\n",
      "221:\tlearn: 0.0185103\ttotal: 217ms\tremaining: 760ms\n",
      "222:\tlearn: 0.0184109\ttotal: 218ms\tremaining: 759ms\n",
      "223:\tlearn: 0.0183071\ttotal: 219ms\tremaining: 758ms\n",
      "224:\tlearn: 0.0182085\ttotal: 220ms\tremaining: 757ms\n",
      "225:\tlearn: 0.0181104\ttotal: 221ms\tremaining: 756ms\n",
      "226:\tlearn: 0.0180020\ttotal: 222ms\tremaining: 755ms\n",
      "227:\tlearn: 0.0179289\ttotal: 223ms\tremaining: 753ms\n",
      "228:\tlearn: 0.0178582\ttotal: 223ms\tremaining: 752ms\n",
      "229:\tlearn: 0.0177788\ttotal: 224ms\tremaining: 751ms\n",
      "230:\tlearn: 0.0176997\ttotal: 225ms\tremaining: 749ms\n",
      "231:\tlearn: 0.0176220\ttotal: 226ms\tremaining: 749ms\n",
      "232:\tlearn: 0.0175449\ttotal: 227ms\tremaining: 749ms\n",
      "233:\tlearn: 0.0174654\ttotal: 228ms\tremaining: 748ms\n",
      "234:\tlearn: 0.0173717\ttotal: 229ms\tremaining: 746ms\n",
      "235:\tlearn: 0.0171938\ttotal: 230ms\tremaining: 744ms\n",
      "236:\tlearn: 0.0170982\ttotal: 231ms\tremaining: 743ms\n",
      "237:\tlearn: 0.0170063\ttotal: 232ms\tremaining: 742ms\n",
      "238:\tlearn: 0.0169289\ttotal: 233ms\tremaining: 741ms\n",
      "239:\tlearn: 0.0168564\ttotal: 233ms\tremaining: 739ms\n",
      "240:\tlearn: 0.0167931\ttotal: 234ms\tremaining: 738ms\n",
      "241:\tlearn: 0.0166913\ttotal: 235ms\tremaining: 737ms\n",
      "242:\tlearn: 0.0165939\ttotal: 236ms\tremaining: 735ms\n",
      "243:\tlearn: 0.0165337\ttotal: 237ms\tremaining: 734ms\n",
      "244:\tlearn: 0.0164660\ttotal: 238ms\tremaining: 732ms\n",
      "245:\tlearn: 0.0164005\ttotal: 238ms\tremaining: 731ms\n",
      "246:\tlearn: 0.0163262\ttotal: 239ms\tremaining: 730ms\n",
      "247:\tlearn: 0.0162604\ttotal: 240ms\tremaining: 728ms\n",
      "248:\tlearn: 0.0161792\ttotal: 242ms\tremaining: 729ms\n",
      "249:\tlearn: 0.0160246\ttotal: 242ms\tremaining: 727ms\n",
      "250:\tlearn: 0.0159660\ttotal: 243ms\tremaining: 726ms\n",
      "251:\tlearn: 0.0158814\ttotal: 244ms\tremaining: 724ms\n",
      "252:\tlearn: 0.0158156\ttotal: 245ms\tremaining: 723ms\n",
      "253:\tlearn: 0.0157466\ttotal: 246ms\tremaining: 722ms\n",
      "254:\tlearn: 0.0156642\ttotal: 247ms\tremaining: 721ms\n",
      "255:\tlearn: 0.0155181\ttotal: 247ms\tremaining: 718ms\n",
      "256:\tlearn: 0.0154610\ttotal: 248ms\tremaining: 717ms\n",
      "257:\tlearn: 0.0154023\ttotal: 249ms\tremaining: 716ms\n",
      "258:\tlearn: 0.0153391\ttotal: 250ms\tremaining: 715ms\n",
      "259:\tlearn: 0.0152674\ttotal: 251ms\tremaining: 713ms\n",
      "260:\tlearn: 0.0151967\ttotal: 252ms\tremaining: 712ms\n",
      "261:\tlearn: 0.0151308\ttotal: 252ms\tremaining: 711ms\n",
      "262:\tlearn: 0.0150661\ttotal: 253ms\tremaining: 710ms\n",
      "263:\tlearn: 0.0150086\ttotal: 255ms\tremaining: 710ms\n",
      "264:\tlearn: 0.0149108\ttotal: 256ms\tremaining: 710ms\n",
      "265:\tlearn: 0.0148237\ttotal: 257ms\tremaining: 709ms\n",
      "266:\tlearn: 0.0147715\ttotal: 258ms\tremaining: 708ms\n",
      "267:\tlearn: 0.0146999\ttotal: 259ms\tremaining: 707ms\n",
      "268:\tlearn: 0.0146372\ttotal: 260ms\tremaining: 706ms\n",
      "269:\tlearn: 0.0145587\ttotal: 261ms\tremaining: 705ms\n",
      "270:\tlearn: 0.0145111\ttotal: 262ms\tremaining: 704ms\n",
      "271:\tlearn: 0.0144528\ttotal: 263ms\tremaining: 703ms\n",
      "272:\tlearn: 0.0143892\ttotal: 264ms\tremaining: 702ms\n",
      "273:\tlearn: 0.0143228\ttotal: 265ms\tremaining: 701ms\n",
      "274:\tlearn: 0.0142799\ttotal: 265ms\tremaining: 700ms\n",
      "275:\tlearn: 0.0142383\ttotal: 266ms\tremaining: 698ms\n",
      "276:\tlearn: 0.0141964\ttotal: 267ms\tremaining: 697ms\n",
      "277:\tlearn: 0.0141495\ttotal: 268ms\tremaining: 696ms\n",
      "278:\tlearn: 0.0140763\ttotal: 269ms\tremaining: 695ms\n",
      "279:\tlearn: 0.0140176\ttotal: 270ms\tremaining: 694ms\n",
      "280:\tlearn: 0.0139562\ttotal: 271ms\tremaining: 694ms\n",
      "281:\tlearn: 0.0138841\ttotal: 272ms\tremaining: 692ms\n",
      "282:\tlearn: 0.0138219\ttotal: 273ms\tremaining: 692ms\n",
      "283:\tlearn: 0.0137629\ttotal: 274ms\tremaining: 691ms\n",
      "284:\tlearn: 0.0136925\ttotal: 275ms\tremaining: 690ms\n",
      "285:\tlearn: 0.0136432\ttotal: 276ms\tremaining: 689ms\n",
      "286:\tlearn: 0.0135793\ttotal: 277ms\tremaining: 688ms\n",
      "287:\tlearn: 0.0135229\ttotal: 278ms\tremaining: 687ms\n",
      "288:\tlearn: 0.0134753\ttotal: 279ms\tremaining: 686ms\n",
      "289:\tlearn: 0.0134335\ttotal: 280ms\tremaining: 685ms\n",
      "290:\tlearn: 0.0133845\ttotal: 281ms\tremaining: 684ms\n",
      "291:\tlearn: 0.0133340\ttotal: 282ms\tremaining: 683ms\n",
      "292:\tlearn: 0.0132889\ttotal: 283ms\tremaining: 682ms\n",
      "293:\tlearn: 0.0132383\ttotal: 284ms\tremaining: 681ms\n",
      "294:\tlearn: 0.0131876\ttotal: 284ms\tremaining: 680ms\n",
      "295:\tlearn: 0.0131313\ttotal: 285ms\tremaining: 679ms\n",
      "296:\tlearn: 0.0130944\ttotal: 286ms\tremaining: 678ms\n",
      "297:\tlearn: 0.0130563\ttotal: 287ms\tremaining: 677ms\n",
      "298:\tlearn: 0.0130184\ttotal: 288ms\tremaining: 676ms\n",
      "299:\tlearn: 0.0129819\ttotal: 289ms\tremaining: 675ms\n",
      "300:\tlearn: 0.0129407\ttotal: 290ms\tremaining: 673ms\n",
      "301:\tlearn: 0.0129020\ttotal: 291ms\tremaining: 672ms\n",
      "302:\tlearn: 0.0128581\ttotal: 292ms\tremaining: 672ms\n",
      "303:\tlearn: 0.0128158\ttotal: 293ms\tremaining: 670ms\n",
      "304:\tlearn: 0.0127825\ttotal: 294ms\tremaining: 669ms\n",
      "305:\tlearn: 0.0127344\ttotal: 295ms\tremaining: 668ms\n",
      "306:\tlearn: 0.0126739\ttotal: 295ms\tremaining: 667ms\n",
      "307:\tlearn: 0.0126358\ttotal: 296ms\tremaining: 666ms\n",
      "308:\tlearn: 0.0125901\ttotal: 297ms\tremaining: 665ms\n",
      "309:\tlearn: 0.0125536\ttotal: 298ms\tremaining: 664ms\n",
      "310:\tlearn: 0.0125119\ttotal: 299ms\tremaining: 663ms\n",
      "311:\tlearn: 0.0124675\ttotal: 300ms\tremaining: 662ms\n",
      "312:\tlearn: 0.0124145\ttotal: 301ms\tremaining: 662ms\n",
      "313:\tlearn: 0.0123794\ttotal: 302ms\tremaining: 660ms\n",
      "314:\tlearn: 0.0123462\ttotal: 303ms\tremaining: 659ms\n",
      "315:\tlearn: 0.0123002\ttotal: 304ms\tremaining: 659ms\n",
      "316:\tlearn: 0.0121886\ttotal: 305ms\tremaining: 657ms\n",
      "317:\tlearn: 0.0121446\ttotal: 306ms\tremaining: 656ms\n",
      "318:\tlearn: 0.0120881\ttotal: 307ms\tremaining: 654ms\n",
      "319:\tlearn: 0.0120455\ttotal: 307ms\tremaining: 653ms\n",
      "320:\tlearn: 0.0119977\ttotal: 308ms\tremaining: 652ms\n",
      "321:\tlearn: 0.0119547\ttotal: 309ms\tremaining: 651ms\n",
      "322:\tlearn: 0.0119139\ttotal: 310ms\tremaining: 650ms\n",
      "323:\tlearn: 0.0118775\ttotal: 311ms\tremaining: 649ms\n",
      "324:\tlearn: 0.0118384\ttotal: 312ms\tremaining: 648ms\n",
      "325:\tlearn: 0.0118050\ttotal: 313ms\tremaining: 647ms\n",
      "326:\tlearn: 0.0117709\ttotal: 314ms\tremaining: 646ms\n",
      "327:\tlearn: 0.0117371\ttotal: 315ms\tremaining: 645ms\n",
      "328:\tlearn: 0.0116994\ttotal: 316ms\tremaining: 644ms\n",
      "329:\tlearn: 0.0116646\ttotal: 317ms\tremaining: 643ms\n",
      "330:\tlearn: 0.0116296\ttotal: 318ms\tremaining: 642ms\n",
      "331:\tlearn: 0.0115899\ttotal: 319ms\tremaining: 641ms\n",
      "332:\tlearn: 0.0115467\ttotal: 320ms\tremaining: 640ms\n",
      "333:\tlearn: 0.0115044\ttotal: 321ms\tremaining: 640ms\n",
      "334:\tlearn: 0.0114663\ttotal: 322ms\tremaining: 639ms\n",
      "335:\tlearn: 0.0114351\ttotal: 323ms\tremaining: 638ms\n",
      "336:\tlearn: 0.0113987\ttotal: 324ms\tremaining: 637ms\n",
      "337:\tlearn: 0.0113596\ttotal: 325ms\tremaining: 636ms\n",
      "338:\tlearn: 0.0113242\ttotal: 326ms\tremaining: 635ms\n",
      "339:\tlearn: 0.0112982\ttotal: 327ms\tremaining: 634ms\n",
      "340:\tlearn: 0.0112668\ttotal: 328ms\tremaining: 633ms\n",
      "341:\tlearn: 0.0112388\ttotal: 328ms\tremaining: 632ms\n",
      "342:\tlearn: 0.0111996\ttotal: 329ms\tremaining: 631ms\n",
      "343:\tlearn: 0.0111628\ttotal: 330ms\tremaining: 630ms\n",
      "344:\tlearn: 0.0111182\ttotal: 331ms\tremaining: 629ms\n",
      "345:\tlearn: 0.0110795\ttotal: 332ms\tremaining: 628ms\n",
      "346:\tlearn: 0.0110515\ttotal: 333ms\tremaining: 627ms\n",
      "347:\tlearn: 0.0110188\ttotal: 334ms\tremaining: 626ms\n",
      "348:\tlearn: 0.0109800\ttotal: 335ms\tremaining: 625ms\n",
      "349:\tlearn: 0.0109512\ttotal: 336ms\tremaining: 624ms\n",
      "350:\tlearn: 0.0109193\ttotal: 337ms\tremaining: 623ms\n",
      "351:\tlearn: 0.0108845\ttotal: 338ms\tremaining: 622ms\n",
      "352:\tlearn: 0.0108566\ttotal: 339ms\tremaining: 621ms\n",
      "353:\tlearn: 0.0108113\ttotal: 340ms\tremaining: 620ms\n",
      "354:\tlearn: 0.0107754\ttotal: 341ms\tremaining: 619ms\n",
      "355:\tlearn: 0.0107399\ttotal: 341ms\tremaining: 618ms\n",
      "356:\tlearn: 0.0107046\ttotal: 342ms\tremaining: 617ms\n",
      "357:\tlearn: 0.0106775\ttotal: 343ms\tremaining: 616ms\n",
      "358:\tlearn: 0.0106430\ttotal: 344ms\tremaining: 615ms\n",
      "359:\tlearn: 0.0106129\ttotal: 346ms\tremaining: 614ms\n",
      "360:\tlearn: 0.0105827\ttotal: 347ms\tremaining: 613ms\n",
      "361:\tlearn: 0.0105513\ttotal: 347ms\tremaining: 612ms\n",
      "362:\tlearn: 0.0105224\ttotal: 348ms\tremaining: 611ms\n",
      "363:\tlearn: 0.0104901\ttotal: 349ms\tremaining: 610ms\n",
      "364:\tlearn: 0.0104616\ttotal: 350ms\tremaining: 609ms\n",
      "365:\tlearn: 0.0104268\ttotal: 351ms\tremaining: 608ms\n",
      "366:\tlearn: 0.0103864\ttotal: 352ms\tremaining: 607ms\n",
      "367:\tlearn: 0.0103502\ttotal: 353ms\tremaining: 606ms\n",
      "368:\tlearn: 0.0103224\ttotal: 354ms\tremaining: 605ms\n",
      "369:\tlearn: 0.0102963\ttotal: 355ms\tremaining: 604ms\n",
      "370:\tlearn: 0.0102672\ttotal: 356ms\tremaining: 603ms\n",
      "371:\tlearn: 0.0102384\ttotal: 357ms\tremaining: 602ms\n",
      "372:\tlearn: 0.0102069\ttotal: 358ms\tremaining: 601ms\n",
      "373:\tlearn: 0.0101816\ttotal: 359ms\tremaining: 601ms\n",
      "374:\tlearn: 0.0101585\ttotal: 360ms\tremaining: 600ms\n",
      "375:\tlearn: 0.0101188\ttotal: 361ms\tremaining: 599ms\n",
      "376:\tlearn: 0.0100896\ttotal: 362ms\tremaining: 599ms\n",
      "377:\tlearn: 0.0100624\ttotal: 363ms\tremaining: 598ms\n",
      "378:\tlearn: 0.0100291\ttotal: 364ms\tremaining: 596ms\n",
      "379:\tlearn: 0.0100000\ttotal: 365ms\tremaining: 595ms\n",
      "380:\tlearn: 0.0099743\ttotal: 366ms\tremaining: 595ms\n",
      "381:\tlearn: 0.0099477\ttotal: 367ms\tremaining: 593ms\n",
      "382:\tlearn: 0.0099258\ttotal: 368ms\tremaining: 592ms\n",
      "383:\tlearn: 0.0098981\ttotal: 369ms\tremaining: 591ms\n",
      "384:\tlearn: 0.0098693\ttotal: 370ms\tremaining: 590ms\n",
      "385:\tlearn: 0.0098400\ttotal: 371ms\tremaining: 589ms\n",
      "386:\tlearn: 0.0098118\ttotal: 371ms\tremaining: 588ms\n",
      "387:\tlearn: 0.0097892\ttotal: 372ms\tremaining: 587ms\n",
      "388:\tlearn: 0.0097605\ttotal: 373ms\tremaining: 586ms\n",
      "389:\tlearn: 0.0097132\ttotal: 374ms\tremaining: 585ms\n",
      "390:\tlearn: 0.0096887\ttotal: 375ms\tremaining: 584ms\n",
      "391:\tlearn: 0.0096675\ttotal: 376ms\tremaining: 583ms\n",
      "392:\tlearn: 0.0096434\ttotal: 377ms\tremaining: 582ms\n",
      "393:\tlearn: 0.0096193\ttotal: 378ms\tremaining: 581ms\n",
      "394:\tlearn: 0.0095900\ttotal: 379ms\tremaining: 580ms\n",
      "395:\tlearn: 0.0095657\ttotal: 379ms\tremaining: 579ms\n",
      "396:\tlearn: 0.0095406\ttotal: 380ms\tremaining: 578ms\n",
      "397:\tlearn: 0.0095156\ttotal: 381ms\tremaining: 577ms\n",
      "398:\tlearn: 0.0094724\ttotal: 382ms\tremaining: 575ms\n",
      "399:\tlearn: 0.0094470\ttotal: 383ms\tremaining: 574ms\n",
      "400:\tlearn: 0.0094138\ttotal: 383ms\tremaining: 573ms\n",
      "401:\tlearn: 0.0093888\ttotal: 384ms\tremaining: 572ms\n",
      "402:\tlearn: 0.0093636\ttotal: 385ms\tremaining: 571ms\n",
      "403:\tlearn: 0.0093418\ttotal: 386ms\tremaining: 570ms\n",
      "404:\tlearn: 0.0093169\ttotal: 387ms\tremaining: 569ms\n",
      "405:\tlearn: 0.0092916\ttotal: 388ms\tremaining: 568ms\n",
      "406:\tlearn: 0.0092690\ttotal: 389ms\tremaining: 567ms\n",
      "407:\tlearn: 0.0092530\ttotal: 390ms\tremaining: 566ms\n",
      "408:\tlearn: 0.0092207\ttotal: 391ms\tremaining: 565ms\n",
      "409:\tlearn: 0.0091909\ttotal: 392ms\tremaining: 565ms\n",
      "410:\tlearn: 0.0091679\ttotal: 393ms\tremaining: 563ms\n",
      "411:\tlearn: 0.0091315\ttotal: 394ms\tremaining: 562ms\n",
      "412:\tlearn: 0.0091148\ttotal: 395ms\tremaining: 561ms\n",
      "413:\tlearn: 0.0090729\ttotal: 396ms\tremaining: 560ms\n",
      "414:\tlearn: 0.0090530\ttotal: 397ms\tremaining: 559ms\n",
      "415:\tlearn: 0.0090353\ttotal: 397ms\tremaining: 558ms\n",
      "416:\tlearn: 0.0090152\ttotal: 398ms\tremaining: 557ms\n",
      "417:\tlearn: 0.0089968\ttotal: 399ms\tremaining: 556ms\n",
      "418:\tlearn: 0.0089682\ttotal: 400ms\tremaining: 555ms\n",
      "419:\tlearn: 0.0089465\ttotal: 401ms\tremaining: 554ms\n",
      "420:\tlearn: 0.0089193\ttotal: 402ms\tremaining: 553ms\n",
      "421:\tlearn: 0.0088967\ttotal: 403ms\tremaining: 552ms\n",
      "422:\tlearn: 0.0088733\ttotal: 404ms\tremaining: 551ms\n",
      "423:\tlearn: 0.0088500\ttotal: 405ms\tremaining: 550ms\n",
      "424:\tlearn: 0.0088299\ttotal: 406ms\tremaining: 549ms\n",
      "425:\tlearn: 0.0088096\ttotal: 407ms\tremaining: 548ms\n",
      "426:\tlearn: 0.0087835\ttotal: 408ms\tremaining: 547ms\n",
      "427:\tlearn: 0.0087629\ttotal: 409ms\tremaining: 547ms\n",
      "428:\tlearn: 0.0087360\ttotal: 410ms\tremaining: 545ms\n",
      "429:\tlearn: 0.0087153\ttotal: 411ms\tremaining: 545ms\n",
      "430:\tlearn: 0.0086963\ttotal: 412ms\tremaining: 544ms\n",
      "431:\tlearn: 0.0086751\ttotal: 413ms\tremaining: 543ms\n",
      "432:\tlearn: 0.0086584\ttotal: 414ms\tremaining: 542ms\n",
      "433:\tlearn: 0.0086361\ttotal: 415ms\tremaining: 541ms\n",
      "434:\tlearn: 0.0086134\ttotal: 416ms\tremaining: 540ms\n",
      "435:\tlearn: 0.0085912\ttotal: 417ms\tremaining: 539ms\n",
      "436:\tlearn: 0.0085688\ttotal: 418ms\tremaining: 538ms\n",
      "437:\tlearn: 0.0085486\ttotal: 419ms\tremaining: 537ms\n",
      "438:\tlearn: 0.0085288\ttotal: 420ms\tremaining: 536ms\n",
      "439:\tlearn: 0.0085119\ttotal: 421ms\tremaining: 535ms\n",
      "440:\tlearn: 0.0084914\ttotal: 422ms\tremaining: 535ms\n",
      "441:\tlearn: 0.0084735\ttotal: 423ms\tremaining: 534ms\n",
      "442:\tlearn: 0.0084529\ttotal: 424ms\tremaining: 533ms\n",
      "443:\tlearn: 0.0084309\ttotal: 425ms\tremaining: 532ms\n",
      "444:\tlearn: 0.0084138\ttotal: 426ms\tremaining: 531ms\n",
      "445:\tlearn: 0.0083910\ttotal: 427ms\tremaining: 530ms\n",
      "446:\tlearn: 0.0083680\ttotal: 428ms\tremaining: 529ms\n",
      "447:\tlearn: 0.0083497\ttotal: 429ms\tremaining: 528ms\n",
      "448:\tlearn: 0.0083289\ttotal: 430ms\tremaining: 527ms\n",
      "449:\tlearn: 0.0083132\ttotal: 430ms\tremaining: 526ms\n",
      "450:\tlearn: 0.0082699\ttotal: 431ms\tremaining: 524ms\n",
      "451:\tlearn: 0.0082552\ttotal: 432ms\tremaining: 523ms\n",
      "452:\tlearn: 0.0082363\ttotal: 433ms\tremaining: 522ms\n",
      "453:\tlearn: 0.0082210\ttotal: 433ms\tremaining: 521ms\n",
      "454:\tlearn: 0.0082050\ttotal: 435ms\tremaining: 521ms\n",
      "455:\tlearn: 0.0081875\ttotal: 436ms\tremaining: 520ms\n",
      "456:\tlearn: 0.0081702\ttotal: 437ms\tremaining: 519ms\n",
      "457:\tlearn: 0.0081481\ttotal: 437ms\tremaining: 518ms\n",
      "458:\tlearn: 0.0081273\ttotal: 438ms\tremaining: 517ms\n",
      "459:\tlearn: 0.0081123\ttotal: 439ms\tremaining: 516ms\n",
      "460:\tlearn: 0.0080967\ttotal: 440ms\tremaining: 515ms\n",
      "461:\tlearn: 0.0080787\ttotal: 441ms\tremaining: 514ms\n",
      "462:\tlearn: 0.0080567\ttotal: 442ms\tremaining: 513ms\n",
      "463:\tlearn: 0.0080429\ttotal: 443ms\tremaining: 512ms\n",
      "464:\tlearn: 0.0080215\ttotal: 444ms\tremaining: 511ms\n",
      "465:\tlearn: 0.0079983\ttotal: 445ms\tremaining: 510ms\n",
      "466:\tlearn: 0.0079806\ttotal: 446ms\tremaining: 509ms\n",
      "467:\tlearn: 0.0079370\ttotal: 446ms\tremaining: 507ms\n",
      "468:\tlearn: 0.0079200\ttotal: 447ms\tremaining: 506ms\n",
      "469:\tlearn: 0.0079036\ttotal: 448ms\tremaining: 505ms\n",
      "470:\tlearn: 0.0078871\ttotal: 449ms\tremaining: 504ms\n",
      "471:\tlearn: 0.0078701\ttotal: 450ms\tremaining: 503ms\n",
      "472:\tlearn: 0.0078566\ttotal: 451ms\tremaining: 503ms\n",
      "473:\tlearn: 0.0078425\ttotal: 452ms\tremaining: 502ms\n",
      "474:\tlearn: 0.0078256\ttotal: 453ms\tremaining: 501ms\n",
      "475:\tlearn: 0.0078066\ttotal: 454ms\tremaining: 500ms\n",
      "476:\tlearn: 0.0077844\ttotal: 455ms\tremaining: 499ms\n",
      "477:\tlearn: 0.0077664\ttotal: 456ms\tremaining: 498ms\n",
      "478:\tlearn: 0.0077457\ttotal: 457ms\tremaining: 497ms\n",
      "479:\tlearn: 0.0077280\ttotal: 458ms\tremaining: 496ms\n",
      "480:\tlearn: 0.0077123\ttotal: 459ms\tremaining: 495ms\n",
      "481:\tlearn: 0.0076920\ttotal: 460ms\tremaining: 494ms\n",
      "482:\tlearn: 0.0076728\ttotal: 461ms\tremaining: 494ms\n",
      "483:\tlearn: 0.0076604\ttotal: 462ms\tremaining: 493ms\n",
      "484:\tlearn: 0.0076431\ttotal: 463ms\tremaining: 492ms\n",
      "485:\tlearn: 0.0076285\ttotal: 464ms\tremaining: 491ms\n",
      "486:\tlearn: 0.0076126\ttotal: 465ms\tremaining: 490ms\n",
      "487:\tlearn: 0.0075728\ttotal: 466ms\tremaining: 488ms\n",
      "488:\tlearn: 0.0075619\ttotal: 466ms\tremaining: 487ms\n",
      "489:\tlearn: 0.0075485\ttotal: 467ms\tremaining: 486ms\n",
      "490:\tlearn: 0.0075336\ttotal: 468ms\tremaining: 485ms\n",
      "491:\tlearn: 0.0075215\ttotal: 469ms\tremaining: 484ms\n",
      "492:\tlearn: 0.0075082\ttotal: 470ms\tremaining: 483ms\n",
      "493:\tlearn: 0.0074910\ttotal: 471ms\tremaining: 482ms\n",
      "494:\tlearn: 0.0074748\ttotal: 472ms\tremaining: 481ms\n",
      "495:\tlearn: 0.0074609\ttotal: 473ms\tremaining: 480ms\n",
      "496:\tlearn: 0.0074432\ttotal: 474ms\tremaining: 479ms\n",
      "497:\tlearn: 0.0074011\ttotal: 475ms\tremaining: 478ms\n",
      "498:\tlearn: 0.0073859\ttotal: 476ms\tremaining: 478ms\n",
      "499:\tlearn: 0.0073735\ttotal: 477ms\tremaining: 477ms\n",
      "500:\tlearn: 0.0073563\ttotal: 478ms\tremaining: 476ms\n",
      "501:\tlearn: 0.0073411\ttotal: 479ms\tremaining: 475ms\n",
      "502:\tlearn: 0.0073254\ttotal: 480ms\tremaining: 475ms\n",
      "503:\tlearn: 0.0072956\ttotal: 481ms\tremaining: 474ms\n",
      "504:\tlearn: 0.0072795\ttotal: 482ms\tremaining: 472ms\n",
      "505:\tlearn: 0.0072632\ttotal: 483ms\tremaining: 471ms\n",
      "506:\tlearn: 0.0072354\ttotal: 483ms\tremaining: 470ms\n",
      "507:\tlearn: 0.0072226\ttotal: 484ms\tremaining: 469ms\n",
      "508:\tlearn: 0.0071813\ttotal: 485ms\tremaining: 468ms\n",
      "509:\tlearn: 0.0071680\ttotal: 486ms\tremaining: 467ms\n",
      "510:\tlearn: 0.0071438\ttotal: 486ms\tremaining: 465ms\n",
      "511:\tlearn: 0.0071310\ttotal: 487ms\tremaining: 464ms\n",
      "512:\tlearn: 0.0071146\ttotal: 488ms\tremaining: 463ms\n",
      "513:\tlearn: 0.0071014\ttotal: 489ms\tremaining: 462ms\n",
      "514:\tlearn: 0.0070831\ttotal: 490ms\tremaining: 462ms\n",
      "515:\tlearn: 0.0070720\ttotal: 491ms\tremaining: 461ms\n",
      "516:\tlearn: 0.0070539\ttotal: 492ms\tremaining: 460ms\n",
      "517:\tlearn: 0.0070387\ttotal: 493ms\tremaining: 459ms\n",
      "518:\tlearn: 0.0070249\ttotal: 494ms\tremaining: 458ms\n",
      "519:\tlearn: 0.0070112\ttotal: 495ms\tremaining: 457ms\n",
      "520:\tlearn: 0.0069972\ttotal: 496ms\tremaining: 456ms\n",
      "521:\tlearn: 0.0069825\ttotal: 497ms\tremaining: 455ms\n",
      "522:\tlearn: 0.0069626\ttotal: 497ms\tremaining: 454ms\n",
      "523:\tlearn: 0.0069485\ttotal: 498ms\tremaining: 453ms\n",
      "524:\tlearn: 0.0069322\ttotal: 499ms\tremaining: 452ms\n",
      "525:\tlearn: 0.0068982\ttotal: 500ms\tremaining: 450ms\n",
      "526:\tlearn: 0.0068862\ttotal: 500ms\tremaining: 449ms\n",
      "527:\tlearn: 0.0068712\ttotal: 501ms\tremaining: 448ms\n",
      "528:\tlearn: 0.0068571\ttotal: 502ms\tremaining: 447ms\n",
      "529:\tlearn: 0.0068419\ttotal: 503ms\tremaining: 446ms\n",
      "530:\tlearn: 0.0068299\ttotal: 504ms\tremaining: 445ms\n",
      "531:\tlearn: 0.0068166\ttotal: 505ms\tremaining: 444ms\n",
      "532:\tlearn: 0.0068026\ttotal: 506ms\tremaining: 444ms\n",
      "533:\tlearn: 0.0067891\ttotal: 507ms\tremaining: 443ms\n",
      "534:\tlearn: 0.0067692\ttotal: 508ms\tremaining: 441ms\n",
      "535:\tlearn: 0.0067494\ttotal: 509ms\tremaining: 440ms\n",
      "536:\tlearn: 0.0067370\ttotal: 510ms\tremaining: 439ms\n",
      "537:\tlearn: 0.0067259\ttotal: 511ms\tremaining: 439ms\n",
      "538:\tlearn: 0.0067134\ttotal: 512ms\tremaining: 437ms\n",
      "539:\tlearn: 0.0067030\ttotal: 512ms\tremaining: 436ms\n",
      "540:\tlearn: 0.0066900\ttotal: 513ms\tremaining: 436ms\n",
      "541:\tlearn: 0.0066721\ttotal: 514ms\tremaining: 435ms\n",
      "542:\tlearn: 0.0066599\ttotal: 515ms\tremaining: 434ms\n",
      "543:\tlearn: 0.0066465\ttotal: 516ms\tremaining: 433ms\n",
      "544:\tlearn: 0.0066308\ttotal: 517ms\tremaining: 432ms\n",
      "545:\tlearn: 0.0066161\ttotal: 518ms\tremaining: 431ms\n",
      "546:\tlearn: 0.0066009\ttotal: 519ms\tremaining: 430ms\n",
      "547:\tlearn: 0.0065911\ttotal: 520ms\tremaining: 429ms\n",
      "548:\tlearn: 0.0065807\ttotal: 521ms\tremaining: 428ms\n",
      "549:\tlearn: 0.0065646\ttotal: 522ms\tremaining: 427ms\n",
      "550:\tlearn: 0.0065423\ttotal: 522ms\tremaining: 426ms\n",
      "551:\tlearn: 0.0065314\ttotal: 523ms\tremaining: 425ms\n",
      "552:\tlearn: 0.0065197\ttotal: 525ms\tremaining: 424ms\n",
      "553:\tlearn: 0.0065072\ttotal: 525ms\tremaining: 423ms\n",
      "554:\tlearn: 0.0064951\ttotal: 526ms\tremaining: 422ms\n",
      "555:\tlearn: 0.0064835\ttotal: 527ms\tremaining: 421ms\n",
      "556:\tlearn: 0.0064719\ttotal: 528ms\tremaining: 420ms\n",
      "557:\tlearn: 0.0064605\ttotal: 529ms\tremaining: 419ms\n",
      "558:\tlearn: 0.0064481\ttotal: 530ms\tremaining: 418ms\n",
      "559:\tlearn: 0.0064374\ttotal: 531ms\tremaining: 417ms\n",
      "560:\tlearn: 0.0064264\ttotal: 532ms\tremaining: 416ms\n",
      "561:\tlearn: 0.0064131\ttotal: 533ms\tremaining: 415ms\n",
      "562:\tlearn: 0.0064035\ttotal: 534ms\tremaining: 414ms\n",
      "563:\tlearn: 0.0063838\ttotal: 535ms\tremaining: 413ms\n",
      "564:\tlearn: 0.0063720\ttotal: 536ms\tremaining: 412ms\n",
      "565:\tlearn: 0.0063607\ttotal: 537ms\tremaining: 412ms\n",
      "566:\tlearn: 0.0063507\ttotal: 538ms\tremaining: 411ms\n",
      "567:\tlearn: 0.0063355\ttotal: 539ms\tremaining: 410ms\n",
      "568:\tlearn: 0.0063252\ttotal: 540ms\tremaining: 409ms\n",
      "569:\tlearn: 0.0063131\ttotal: 541ms\tremaining: 408ms\n",
      "570:\tlearn: 0.0063013\ttotal: 542ms\tremaining: 407ms\n",
      "571:\tlearn: 0.0062890\ttotal: 543ms\tremaining: 406ms\n",
      "572:\tlearn: 0.0062804\ttotal: 544ms\tremaining: 405ms\n",
      "573:\tlearn: 0.0062532\ttotal: 544ms\tremaining: 404ms\n",
      "574:\tlearn: 0.0062420\ttotal: 545ms\tremaining: 403ms\n",
      "575:\tlearn: 0.0062305\ttotal: 546ms\tremaining: 402ms\n",
      "576:\tlearn: 0.0062218\ttotal: 547ms\tremaining: 401ms\n",
      "577:\tlearn: 0.0062106\ttotal: 548ms\tremaining: 400ms\n",
      "578:\tlearn: 0.0062011\ttotal: 549ms\tremaining: 399ms\n",
      "579:\tlearn: 0.0061911\ttotal: 550ms\tremaining: 398ms\n",
      "580:\tlearn: 0.0061757\ttotal: 551ms\tremaining: 397ms\n",
      "581:\tlearn: 0.0061649\ttotal: 552ms\tremaining: 396ms\n",
      "582:\tlearn: 0.0061534\ttotal: 553ms\tremaining: 396ms\n",
      "583:\tlearn: 0.0061441\ttotal: 554ms\tremaining: 395ms\n",
      "584:\tlearn: 0.0061339\ttotal: 555ms\tremaining: 394ms\n",
      "585:\tlearn: 0.0061221\ttotal: 556ms\tremaining: 393ms\n",
      "586:\tlearn: 0.0061111\ttotal: 557ms\tremaining: 392ms\n",
      "587:\tlearn: 0.0060986\ttotal: 558ms\tremaining: 391ms\n",
      "588:\tlearn: 0.0060886\ttotal: 559ms\tremaining: 390ms\n",
      "589:\tlearn: 0.0060761\ttotal: 560ms\tremaining: 389ms\n",
      "590:\tlearn: 0.0060502\ttotal: 560ms\tremaining: 388ms\n",
      "591:\tlearn: 0.0060392\ttotal: 561ms\tremaining: 387ms\n",
      "592:\tlearn: 0.0060296\ttotal: 562ms\tremaining: 386ms\n",
      "593:\tlearn: 0.0060176\ttotal: 563ms\tremaining: 385ms\n",
      "594:\tlearn: 0.0060049\ttotal: 564ms\tremaining: 384ms\n",
      "595:\tlearn: 0.0059929\ttotal: 565ms\tremaining: 383ms\n",
      "596:\tlearn: 0.0059824\ttotal: 566ms\tremaining: 382ms\n",
      "597:\tlearn: 0.0059695\ttotal: 567ms\tremaining: 381ms\n",
      "598:\tlearn: 0.0059594\ttotal: 568ms\tremaining: 381ms\n",
      "599:\tlearn: 0.0059472\ttotal: 569ms\tremaining: 380ms\n",
      "600:\tlearn: 0.0059352\ttotal: 570ms\tremaining: 379ms\n",
      "601:\tlearn: 0.0059248\ttotal: 571ms\tremaining: 378ms\n",
      "602:\tlearn: 0.0059166\ttotal: 572ms\tremaining: 377ms\n",
      "603:\tlearn: 0.0059077\ttotal: 573ms\tremaining: 376ms\n",
      "604:\tlearn: 0.0059002\ttotal: 574ms\tremaining: 375ms\n",
      "605:\tlearn: 0.0058908\ttotal: 575ms\tremaining: 374ms\n",
      "606:\tlearn: 0.0058784\ttotal: 576ms\tremaining: 373ms\n",
      "607:\tlearn: 0.0058686\ttotal: 576ms\tremaining: 372ms\n",
      "608:\tlearn: 0.0058588\ttotal: 577ms\tremaining: 371ms\n",
      "609:\tlearn: 0.0058530\ttotal: 578ms\tremaining: 370ms\n",
      "610:\tlearn: 0.0058448\ttotal: 579ms\tremaining: 369ms\n",
      "611:\tlearn: 0.0058347\ttotal: 580ms\tremaining: 368ms\n",
      "612:\tlearn: 0.0058261\ttotal: 581ms\tremaining: 367ms\n",
      "613:\tlearn: 0.0058167\ttotal: 582ms\tremaining: 366ms\n",
      "614:\tlearn: 0.0058085\ttotal: 583ms\tremaining: 365ms\n",
      "615:\tlearn: 0.0057944\ttotal: 584ms\tremaining: 364ms\n",
      "616:\tlearn: 0.0057841\ttotal: 585ms\tremaining: 363ms\n",
      "617:\tlearn: 0.0057764\ttotal: 586ms\tremaining: 362ms\n",
      "618:\tlearn: 0.0057659\ttotal: 587ms\tremaining: 362ms\n",
      "619:\tlearn: 0.0057566\ttotal: 588ms\tremaining: 361ms\n",
      "620:\tlearn: 0.0057469\ttotal: 589ms\tremaining: 359ms\n",
      "621:\tlearn: 0.0057339\ttotal: 590ms\tremaining: 358ms\n",
      "622:\tlearn: 0.0057273\ttotal: 591ms\tremaining: 357ms\n",
      "623:\tlearn: 0.0057152\ttotal: 592ms\tremaining: 356ms\n",
      "624:\tlearn: 0.0057047\ttotal: 592ms\tremaining: 355ms\n",
      "625:\tlearn: 0.0056966\ttotal: 593ms\tremaining: 354ms\n",
      "626:\tlearn: 0.0056888\ttotal: 594ms\tremaining: 354ms\n",
      "627:\tlearn: 0.0056796\ttotal: 595ms\tremaining: 353ms\n",
      "628:\tlearn: 0.0056693\ttotal: 596ms\tremaining: 352ms\n",
      "629:\tlearn: 0.0056583\ttotal: 597ms\tremaining: 351ms\n",
      "630:\tlearn: 0.0056497\ttotal: 598ms\tremaining: 350ms\n",
      "631:\tlearn: 0.0056368\ttotal: 599ms\tremaining: 349ms\n",
      "632:\tlearn: 0.0056293\ttotal: 600ms\tremaining: 348ms\n",
      "633:\tlearn: 0.0056198\ttotal: 601ms\tremaining: 347ms\n",
      "634:\tlearn: 0.0056049\ttotal: 602ms\tremaining: 346ms\n",
      "635:\tlearn: 0.0055955\ttotal: 603ms\tremaining: 345ms\n",
      "636:\tlearn: 0.0055882\ttotal: 604ms\tremaining: 344ms\n",
      "637:\tlearn: 0.0055809\ttotal: 605ms\tremaining: 343ms\n",
      "638:\tlearn: 0.0055732\ttotal: 605ms\tremaining: 342ms\n",
      "639:\tlearn: 0.0055680\ttotal: 606ms\tremaining: 341ms\n",
      "640:\tlearn: 0.0055578\ttotal: 607ms\tremaining: 340ms\n",
      "641:\tlearn: 0.0055506\ttotal: 608ms\tremaining: 339ms\n",
      "642:\tlearn: 0.0055407\ttotal: 609ms\tremaining: 338ms\n",
      "643:\tlearn: 0.0055337\ttotal: 610ms\tremaining: 337ms\n",
      "644:\tlearn: 0.0055250\ttotal: 611ms\tremaining: 336ms\n",
      "645:\tlearn: 0.0055177\ttotal: 612ms\tremaining: 335ms\n",
      "646:\tlearn: 0.0055108\ttotal: 613ms\tremaining: 334ms\n",
      "647:\tlearn: 0.0055009\ttotal: 614ms\tremaining: 333ms\n",
      "648:\tlearn: 0.0054945\ttotal: 615ms\tremaining: 333ms\n",
      "649:\tlearn: 0.0054851\ttotal: 616ms\tremaining: 332ms\n",
      "650:\tlearn: 0.0054775\ttotal: 617ms\tremaining: 331ms\n",
      "651:\tlearn: 0.0054682\ttotal: 618ms\tremaining: 330ms\n",
      "652:\tlearn: 0.0054601\ttotal: 619ms\tremaining: 329ms\n",
      "653:\tlearn: 0.0054519\ttotal: 620ms\tremaining: 328ms\n",
      "654:\tlearn: 0.0054424\ttotal: 621ms\tremaining: 327ms\n",
      "655:\tlearn: 0.0054355\ttotal: 622ms\tremaining: 326ms\n",
      "656:\tlearn: 0.0054278\ttotal: 622ms\tremaining: 325ms\n",
      "657:\tlearn: 0.0054167\ttotal: 624ms\tremaining: 324ms\n",
      "658:\tlearn: 0.0054067\ttotal: 624ms\tremaining: 323ms\n",
      "659:\tlearn: 0.0053979\ttotal: 625ms\tremaining: 322ms\n",
      "660:\tlearn: 0.0053908\ttotal: 627ms\tremaining: 321ms\n",
      "661:\tlearn: 0.0053838\ttotal: 628ms\tremaining: 321ms\n",
      "662:\tlearn: 0.0053774\ttotal: 629ms\tremaining: 320ms\n",
      "663:\tlearn: 0.0053575\ttotal: 630ms\tremaining: 319ms\n",
      "664:\tlearn: 0.0053498\ttotal: 630ms\tremaining: 318ms\n",
      "665:\tlearn: 0.0053416\ttotal: 632ms\tremaining: 317ms\n",
      "666:\tlearn: 0.0053326\ttotal: 633ms\tremaining: 316ms\n",
      "667:\tlearn: 0.0053260\ttotal: 634ms\tremaining: 315ms\n",
      "668:\tlearn: 0.0053169\ttotal: 635ms\tremaining: 314ms\n",
      "669:\tlearn: 0.0053063\ttotal: 636ms\tremaining: 313ms\n",
      "670:\tlearn: 0.0052979\ttotal: 637ms\tremaining: 312ms\n",
      "671:\tlearn: 0.0052898\ttotal: 638ms\tremaining: 311ms\n",
      "672:\tlearn: 0.0052829\ttotal: 639ms\tremaining: 310ms\n",
      "673:\tlearn: 0.0052765\ttotal: 640ms\tremaining: 309ms\n",
      "674:\tlearn: 0.0052700\ttotal: 641ms\tremaining: 308ms\n",
      "675:\tlearn: 0.0052622\ttotal: 642ms\tremaining: 308ms\n",
      "676:\tlearn: 0.0052543\ttotal: 643ms\tremaining: 307ms\n",
      "677:\tlearn: 0.0052473\ttotal: 644ms\tremaining: 306ms\n",
      "678:\tlearn: 0.0052327\ttotal: 644ms\tremaining: 305ms\n",
      "679:\tlearn: 0.0052247\ttotal: 646ms\tremaining: 304ms\n",
      "680:\tlearn: 0.0052184\ttotal: 647ms\tremaining: 303ms\n",
      "681:\tlearn: 0.0052109\ttotal: 648ms\tremaining: 302ms\n",
      "682:\tlearn: 0.0052035\ttotal: 649ms\tremaining: 301ms\n",
      "683:\tlearn: 0.0051956\ttotal: 650ms\tremaining: 300ms\n",
      "684:\tlearn: 0.0051866\ttotal: 651ms\tremaining: 299ms\n",
      "685:\tlearn: 0.0051784\ttotal: 652ms\tremaining: 298ms\n",
      "686:\tlearn: 0.0051727\ttotal: 653ms\tremaining: 297ms\n",
      "687:\tlearn: 0.0051653\ttotal: 653ms\tremaining: 296ms\n",
      "688:\tlearn: 0.0051594\ttotal: 654ms\tremaining: 295ms\n",
      "689:\tlearn: 0.0051522\ttotal: 655ms\tremaining: 294ms\n",
      "690:\tlearn: 0.0051397\ttotal: 656ms\tremaining: 294ms\n",
      "691:\tlearn: 0.0051333\ttotal: 657ms\tremaining: 293ms\n",
      "692:\tlearn: 0.0051248\ttotal: 658ms\tremaining: 292ms\n",
      "693:\tlearn: 0.0051197\ttotal: 659ms\tremaining: 291ms\n",
      "694:\tlearn: 0.0051133\ttotal: 661ms\tremaining: 290ms\n",
      "695:\tlearn: 0.0051066\ttotal: 661ms\tremaining: 289ms\n",
      "696:\tlearn: 0.0050972\ttotal: 662ms\tremaining: 288ms\n",
      "697:\tlearn: 0.0050878\ttotal: 663ms\tremaining: 287ms\n",
      "698:\tlearn: 0.0050804\ttotal: 665ms\tremaining: 286ms\n",
      "699:\tlearn: 0.0050734\ttotal: 666ms\tremaining: 285ms\n",
      "700:\tlearn: 0.0050680\ttotal: 666ms\tremaining: 284ms\n",
      "701:\tlearn: 0.0050618\ttotal: 667ms\tremaining: 283ms\n",
      "702:\tlearn: 0.0050532\ttotal: 668ms\tremaining: 282ms\n",
      "703:\tlearn: 0.0050450\ttotal: 669ms\tremaining: 281ms\n",
      "704:\tlearn: 0.0050367\ttotal: 670ms\tremaining: 280ms\n",
      "705:\tlearn: 0.0050296\ttotal: 671ms\tremaining: 280ms\n",
      "706:\tlearn: 0.0050204\ttotal: 672ms\tremaining: 279ms\n",
      "707:\tlearn: 0.0050133\ttotal: 673ms\tremaining: 278ms\n",
      "708:\tlearn: 0.0050064\ttotal: 674ms\tremaining: 277ms\n",
      "709:\tlearn: 0.0049985\ttotal: 675ms\tremaining: 276ms\n",
      "710:\tlearn: 0.0049926\ttotal: 676ms\tremaining: 275ms\n",
      "711:\tlearn: 0.0049851\ttotal: 677ms\tremaining: 274ms\n",
      "712:\tlearn: 0.0049805\ttotal: 678ms\tremaining: 273ms\n",
      "713:\tlearn: 0.0049681\ttotal: 679ms\tremaining: 272ms\n",
      "714:\tlearn: 0.0049618\ttotal: 680ms\tremaining: 271ms\n",
      "715:\tlearn: 0.0049553\ttotal: 681ms\tremaining: 270ms\n",
      "716:\tlearn: 0.0049494\ttotal: 681ms\tremaining: 269ms\n",
      "717:\tlearn: 0.0049440\ttotal: 682ms\tremaining: 268ms\n",
      "718:\tlearn: 0.0049351\ttotal: 683ms\tremaining: 267ms\n",
      "719:\tlearn: 0.0049285\ttotal: 684ms\tremaining: 266ms\n",
      "720:\tlearn: 0.0049220\ttotal: 685ms\tremaining: 265ms\n",
      "721:\tlearn: 0.0049154\ttotal: 686ms\tremaining: 264ms\n",
      "722:\tlearn: 0.0049086\ttotal: 687ms\tremaining: 263ms\n",
      "723:\tlearn: 0.0049023\ttotal: 688ms\tremaining: 262ms\n",
      "724:\tlearn: 0.0048952\ttotal: 689ms\tremaining: 261ms\n",
      "725:\tlearn: 0.0048899\ttotal: 689ms\tremaining: 260ms\n",
      "726:\tlearn: 0.0048851\ttotal: 690ms\tremaining: 259ms\n",
      "727:\tlearn: 0.0048773\ttotal: 692ms\tremaining: 258ms\n",
      "728:\tlearn: 0.0048703\ttotal: 693ms\tremaining: 257ms\n",
      "729:\tlearn: 0.0048634\ttotal: 694ms\tremaining: 257ms\n",
      "730:\tlearn: 0.0048576\ttotal: 694ms\tremaining: 256ms\n",
      "731:\tlearn: 0.0048523\ttotal: 695ms\tremaining: 255ms\n",
      "732:\tlearn: 0.0048462\ttotal: 696ms\tremaining: 254ms\n",
      "733:\tlearn: 0.0048309\ttotal: 697ms\tremaining: 253ms\n",
      "734:\tlearn: 0.0048247\ttotal: 698ms\tremaining: 252ms\n",
      "735:\tlearn: 0.0048179\ttotal: 699ms\tremaining: 251ms\n",
      "736:\tlearn: 0.0048112\ttotal: 700ms\tremaining: 250ms\n",
      "737:\tlearn: 0.0048019\ttotal: 701ms\tremaining: 249ms\n",
      "738:\tlearn: 0.0047938\ttotal: 702ms\tremaining: 248ms\n",
      "739:\tlearn: 0.0047867\ttotal: 703ms\tremaining: 247ms\n",
      "740:\tlearn: 0.0047777\ttotal: 704ms\tremaining: 246ms\n",
      "741:\tlearn: 0.0047701\ttotal: 704ms\tremaining: 245ms\n",
      "742:\tlearn: 0.0047630\ttotal: 705ms\tremaining: 244ms\n",
      "743:\tlearn: 0.0047568\ttotal: 707ms\tremaining: 243ms\n",
      "744:\tlearn: 0.0047513\ttotal: 708ms\tremaining: 242ms\n",
      "745:\tlearn: 0.0047446\ttotal: 709ms\tremaining: 241ms\n",
      "746:\tlearn: 0.0047363\ttotal: 710ms\tremaining: 240ms\n",
      "747:\tlearn: 0.0047303\ttotal: 710ms\tremaining: 239ms\n",
      "748:\tlearn: 0.0047238\ttotal: 711ms\tremaining: 238ms\n",
      "749:\tlearn: 0.0047163\ttotal: 713ms\tremaining: 238ms\n",
      "750:\tlearn: 0.0047083\ttotal: 713ms\tremaining: 237ms\n",
      "751:\tlearn: 0.0047018\ttotal: 714ms\tremaining: 236ms\n",
      "752:\tlearn: 0.0046944\ttotal: 715ms\tremaining: 235ms\n",
      "753:\tlearn: 0.0046890\ttotal: 716ms\tremaining: 234ms\n",
      "754:\tlearn: 0.0046823\ttotal: 717ms\tremaining: 233ms\n",
      "755:\tlearn: 0.0046755\ttotal: 718ms\tremaining: 232ms\n",
      "756:\tlearn: 0.0046688\ttotal: 719ms\tremaining: 231ms\n",
      "757:\tlearn: 0.0046623\ttotal: 720ms\tremaining: 230ms\n",
      "758:\tlearn: 0.0046584\ttotal: 721ms\tremaining: 229ms\n",
      "759:\tlearn: 0.0046511\ttotal: 722ms\tremaining: 228ms\n",
      "760:\tlearn: 0.0046435\ttotal: 723ms\tremaining: 227ms\n",
      "761:\tlearn: 0.0046373\ttotal: 724ms\tremaining: 226ms\n",
      "762:\tlearn: 0.0046322\ttotal: 725ms\tremaining: 225ms\n",
      "763:\tlearn: 0.0046268\ttotal: 726ms\tremaining: 224ms\n",
      "764:\tlearn: 0.0046203\ttotal: 727ms\tremaining: 223ms\n",
      "765:\tlearn: 0.0046158\ttotal: 729ms\tremaining: 223ms\n",
      "766:\tlearn: 0.0046112\ttotal: 730ms\tremaining: 222ms\n",
      "767:\tlearn: 0.0046036\ttotal: 731ms\tremaining: 221ms\n",
      "768:\tlearn: 0.0045990\ttotal: 732ms\tremaining: 220ms\n",
      "769:\tlearn: 0.0045921\ttotal: 733ms\tremaining: 219ms\n",
      "770:\tlearn: 0.0045857\ttotal: 733ms\tremaining: 218ms\n",
      "771:\tlearn: 0.0045802\ttotal: 734ms\tremaining: 217ms\n",
      "772:\tlearn: 0.0045733\ttotal: 735ms\tremaining: 216ms\n",
      "773:\tlearn: 0.0045686\ttotal: 736ms\tremaining: 215ms\n",
      "774:\tlearn: 0.0045642\ttotal: 737ms\tremaining: 214ms\n",
      "775:\tlearn: 0.0045572\ttotal: 739ms\tremaining: 213ms\n",
      "776:\tlearn: 0.0045509\ttotal: 740ms\tremaining: 212ms\n",
      "777:\tlearn: 0.0045468\ttotal: 741ms\tremaining: 211ms\n",
      "778:\tlearn: 0.0045375\ttotal: 741ms\tremaining: 210ms\n",
      "779:\tlearn: 0.0045288\ttotal: 742ms\tremaining: 209ms\n",
      "780:\tlearn: 0.0045226\ttotal: 743ms\tremaining: 208ms\n",
      "781:\tlearn: 0.0045172\ttotal: 745ms\tremaining: 208ms\n",
      "782:\tlearn: 0.0045115\ttotal: 746ms\tremaining: 207ms\n",
      "783:\tlearn: 0.0045042\ttotal: 747ms\tremaining: 206ms\n",
      "784:\tlearn: 0.0044975\ttotal: 747ms\tremaining: 205ms\n",
      "785:\tlearn: 0.0044916\ttotal: 748ms\tremaining: 204ms\n",
      "786:\tlearn: 0.0044863\ttotal: 749ms\tremaining: 203ms\n",
      "787:\tlearn: 0.0044805\ttotal: 750ms\tremaining: 202ms\n",
      "788:\tlearn: 0.0044755\ttotal: 751ms\tremaining: 201ms\n",
      "789:\tlearn: 0.0044688\ttotal: 752ms\tremaining: 200ms\n",
      "790:\tlearn: 0.0044629\ttotal: 753ms\tremaining: 199ms\n",
      "791:\tlearn: 0.0044555\ttotal: 754ms\tremaining: 198ms\n",
      "792:\tlearn: 0.0044497\ttotal: 755ms\tremaining: 197ms\n",
      "793:\tlearn: 0.0044450\ttotal: 756ms\tremaining: 196ms\n",
      "794:\tlearn: 0.0044388\ttotal: 757ms\tremaining: 195ms\n",
      "795:\tlearn: 0.0044326\ttotal: 758ms\tremaining: 194ms\n",
      "796:\tlearn: 0.0044278\ttotal: 760ms\tremaining: 194ms\n",
      "797:\tlearn: 0.0044214\ttotal: 761ms\tremaining: 193ms\n",
      "798:\tlearn: 0.0044152\ttotal: 762ms\tremaining: 192ms\n",
      "799:\tlearn: 0.0044092\ttotal: 763ms\tremaining: 191ms\n",
      "800:\tlearn: 0.0044041\ttotal: 764ms\tremaining: 190ms\n",
      "801:\tlearn: 0.0043996\ttotal: 765ms\tremaining: 189ms\n",
      "802:\tlearn: 0.0043940\ttotal: 766ms\tremaining: 188ms\n",
      "803:\tlearn: 0.0043888\ttotal: 767ms\tremaining: 187ms\n",
      "804:\tlearn: 0.0043816\ttotal: 768ms\tremaining: 186ms\n",
      "805:\tlearn: 0.0043759\ttotal: 769ms\tremaining: 185ms\n",
      "806:\tlearn: 0.0043701\ttotal: 770ms\tremaining: 184ms\n",
      "807:\tlearn: 0.0043645\ttotal: 771ms\tremaining: 183ms\n",
      "808:\tlearn: 0.0043602\ttotal: 772ms\tremaining: 182ms\n",
      "809:\tlearn: 0.0043526\ttotal: 773ms\tremaining: 181ms\n",
      "810:\tlearn: 0.0043478\ttotal: 774ms\tremaining: 180ms\n",
      "811:\tlearn: 0.0043446\ttotal: 775ms\tremaining: 179ms\n",
      "812:\tlearn: 0.0043386\ttotal: 776ms\tremaining: 178ms\n",
      "813:\tlearn: 0.0043331\ttotal: 777ms\tremaining: 177ms\n",
      "814:\tlearn: 0.0043281\ttotal: 778ms\tremaining: 177ms\n",
      "815:\tlearn: 0.0043215\ttotal: 779ms\tremaining: 176ms\n",
      "816:\tlearn: 0.0043162\ttotal: 780ms\tremaining: 175ms\n",
      "817:\tlearn: 0.0043113\ttotal: 781ms\tremaining: 174ms\n",
      "818:\tlearn: 0.0043061\ttotal: 782ms\tremaining: 173ms\n",
      "819:\tlearn: 0.0043013\ttotal: 783ms\tremaining: 172ms\n",
      "820:\tlearn: 0.0042943\ttotal: 784ms\tremaining: 171ms\n",
      "821:\tlearn: 0.0042885\ttotal: 785ms\tremaining: 170ms\n",
      "822:\tlearn: 0.0042832\ttotal: 786ms\tremaining: 169ms\n",
      "823:\tlearn: 0.0042787\ttotal: 787ms\tremaining: 168ms\n",
      "824:\tlearn: 0.0042724\ttotal: 788ms\tremaining: 167ms\n",
      "825:\tlearn: 0.0042669\ttotal: 789ms\tremaining: 166ms\n",
      "826:\tlearn: 0.0042614\ttotal: 790ms\tremaining: 165ms\n",
      "827:\tlearn: 0.0042569\ttotal: 791ms\tremaining: 164ms\n",
      "828:\tlearn: 0.0042517\ttotal: 792ms\tremaining: 163ms\n",
      "829:\tlearn: 0.0042463\ttotal: 793ms\tremaining: 162ms\n",
      "830:\tlearn: 0.0042408\ttotal: 793ms\tremaining: 161ms\n",
      "831:\tlearn: 0.0042358\ttotal: 794ms\tremaining: 160ms\n",
      "832:\tlearn: 0.0042302\ttotal: 795ms\tremaining: 159ms\n",
      "833:\tlearn: 0.0042246\ttotal: 796ms\tremaining: 158ms\n",
      "834:\tlearn: 0.0042174\ttotal: 797ms\tremaining: 157ms\n",
      "835:\tlearn: 0.0042124\ttotal: 798ms\tremaining: 157ms\n",
      "836:\tlearn: 0.0042074\ttotal: 799ms\tremaining: 156ms\n",
      "837:\tlearn: 0.0042008\ttotal: 800ms\tremaining: 155ms\n",
      "838:\tlearn: 0.0041956\ttotal: 801ms\tremaining: 154ms\n",
      "839:\tlearn: 0.0041918\ttotal: 802ms\tremaining: 153ms\n",
      "840:\tlearn: 0.0041871\ttotal: 803ms\tremaining: 152ms\n",
      "841:\tlearn: 0.0041816\ttotal: 804ms\tremaining: 151ms\n",
      "842:\tlearn: 0.0041772\ttotal: 805ms\tremaining: 150ms\n",
      "843:\tlearn: 0.0041704\ttotal: 806ms\tremaining: 149ms\n",
      "844:\tlearn: 0.0041642\ttotal: 807ms\tremaining: 148ms\n",
      "845:\tlearn: 0.0041593\ttotal: 808ms\tremaining: 147ms\n",
      "846:\tlearn: 0.0041544\ttotal: 809ms\tremaining: 146ms\n",
      "847:\tlearn: 0.0041501\ttotal: 810ms\tremaining: 145ms\n",
      "848:\tlearn: 0.0041445\ttotal: 811ms\tremaining: 144ms\n",
      "849:\tlearn: 0.0041395\ttotal: 811ms\tremaining: 143ms\n",
      "850:\tlearn: 0.0041354\ttotal: 812ms\tremaining: 142ms\n",
      "851:\tlearn: 0.0041320\ttotal: 813ms\tremaining: 141ms\n",
      "852:\tlearn: 0.0041276\ttotal: 814ms\tremaining: 140ms\n",
      "853:\tlearn: 0.0041220\ttotal: 815ms\tremaining: 139ms\n",
      "854:\tlearn: 0.0041172\ttotal: 816ms\tremaining: 138ms\n",
      "855:\tlearn: 0.0041090\ttotal: 817ms\tremaining: 137ms\n",
      "856:\tlearn: 0.0041031\ttotal: 818ms\tremaining: 137ms\n",
      "857:\tlearn: 0.0040978\ttotal: 819ms\tremaining: 136ms\n",
      "858:\tlearn: 0.0040934\ttotal: 820ms\tremaining: 135ms\n",
      "859:\tlearn: 0.0040881\ttotal: 821ms\tremaining: 134ms\n",
      "860:\tlearn: 0.0040833\ttotal: 822ms\tremaining: 133ms\n",
      "861:\tlearn: 0.0040795\ttotal: 823ms\tremaining: 132ms\n",
      "862:\tlearn: 0.0040755\ttotal: 824ms\tremaining: 131ms\n",
      "863:\tlearn: 0.0040688\ttotal: 825ms\tremaining: 130ms\n",
      "864:\tlearn: 0.0040652\ttotal: 826ms\tremaining: 129ms\n",
      "865:\tlearn: 0.0040611\ttotal: 827ms\tremaining: 128ms\n",
      "866:\tlearn: 0.0040577\ttotal: 828ms\tremaining: 127ms\n",
      "867:\tlearn: 0.0040531\ttotal: 828ms\tremaining: 126ms\n",
      "868:\tlearn: 0.0040501\ttotal: 830ms\tremaining: 125ms\n",
      "869:\tlearn: 0.0040451\ttotal: 831ms\tremaining: 124ms\n",
      "870:\tlearn: 0.0040399\ttotal: 832ms\tremaining: 123ms\n",
      "871:\tlearn: 0.0040352\ttotal: 833ms\tremaining: 122ms\n",
      "872:\tlearn: 0.0040307\ttotal: 834ms\tremaining: 121ms\n",
      "873:\tlearn: 0.0040264\ttotal: 835ms\tremaining: 120ms\n",
      "874:\tlearn: 0.0040148\ttotal: 835ms\tremaining: 119ms\n",
      "875:\tlearn: 0.0040111\ttotal: 836ms\tremaining: 118ms\n",
      "876:\tlearn: 0.0040066\ttotal: 837ms\tremaining: 117ms\n",
      "877:\tlearn: 0.0040019\ttotal: 838ms\tremaining: 116ms\n",
      "878:\tlearn: 0.0039974\ttotal: 839ms\tremaining: 116ms\n",
      "879:\tlearn: 0.0039927\ttotal: 840ms\tremaining: 115ms\n",
      "880:\tlearn: 0.0039871\ttotal: 841ms\tremaining: 114ms\n",
      "881:\tlearn: 0.0039806\ttotal: 842ms\tremaining: 113ms\n",
      "882:\tlearn: 0.0039752\ttotal: 843ms\tremaining: 112ms\n",
      "883:\tlearn: 0.0039696\ttotal: 844ms\tremaining: 111ms\n",
      "884:\tlearn: 0.0039655\ttotal: 845ms\tremaining: 110ms\n",
      "885:\tlearn: 0.0039614\ttotal: 846ms\tremaining: 109ms\n",
      "886:\tlearn: 0.0039568\ttotal: 847ms\tremaining: 108ms\n",
      "887:\tlearn: 0.0039521\ttotal: 864ms\tremaining: 109ms\n",
      "888:\tlearn: 0.0039467\ttotal: 865ms\tremaining: 108ms\n",
      "889:\tlearn: 0.0039425\ttotal: 866ms\tremaining: 107ms\n",
      "890:\tlearn: 0.0039384\ttotal: 867ms\tremaining: 106ms\n",
      "891:\tlearn: 0.0039341\ttotal: 868ms\tremaining: 105ms\n",
      "892:\tlearn: 0.0039293\ttotal: 869ms\tremaining: 104ms\n",
      "893:\tlearn: 0.0039254\ttotal: 870ms\tremaining: 103ms\n",
      "894:\tlearn: 0.0039209\ttotal: 871ms\tremaining: 102ms\n",
      "895:\tlearn: 0.0039164\ttotal: 872ms\tremaining: 101ms\n",
      "896:\tlearn: 0.0039110\ttotal: 873ms\tremaining: 100ms\n",
      "897:\tlearn: 0.0039067\ttotal: 874ms\tremaining: 99.3ms\n",
      "898:\tlearn: 0.0039030\ttotal: 875ms\tremaining: 98.3ms\n",
      "899:\tlearn: 0.0038978\ttotal: 876ms\tremaining: 97.3ms\n",
      "900:\tlearn: 0.0038924\ttotal: 877ms\tremaining: 96.4ms\n",
      "901:\tlearn: 0.0038882\ttotal: 878ms\tremaining: 95.4ms\n",
      "902:\tlearn: 0.0038840\ttotal: 880ms\tremaining: 94.5ms\n",
      "903:\tlearn: 0.0038781\ttotal: 881ms\tremaining: 93.5ms\n",
      "904:\tlearn: 0.0038741\ttotal: 882ms\tremaining: 92.5ms\n",
      "905:\tlearn: 0.0038695\ttotal: 883ms\tremaining: 91.6ms\n",
      "906:\tlearn: 0.0038654\ttotal: 883ms\tremaining: 90.6ms\n",
      "907:\tlearn: 0.0038611\ttotal: 884ms\tremaining: 89.6ms\n",
      "908:\tlearn: 0.0038567\ttotal: 885ms\tremaining: 88.6ms\n",
      "909:\tlearn: 0.0038529\ttotal: 886ms\tremaining: 87.6ms\n",
      "910:\tlearn: 0.0038495\ttotal: 887ms\tremaining: 86.7ms\n",
      "911:\tlearn: 0.0038458\ttotal: 888ms\tremaining: 85.7ms\n",
      "912:\tlearn: 0.0038425\ttotal: 889ms\tremaining: 84.7ms\n",
      "913:\tlearn: 0.0038354\ttotal: 890ms\tremaining: 83.7ms\n",
      "914:\tlearn: 0.0038311\ttotal: 891ms\tremaining: 82.8ms\n",
      "915:\tlearn: 0.0038260\ttotal: 892ms\tremaining: 81.8ms\n",
      "916:\tlearn: 0.0038225\ttotal: 893ms\tremaining: 80.8ms\n",
      "917:\tlearn: 0.0038156\ttotal: 894ms\tremaining: 79.8ms\n",
      "918:\tlearn: 0.0038119\ttotal: 895ms\tremaining: 78.9ms\n",
      "919:\tlearn: 0.0038087\ttotal: 896ms\tremaining: 77.9ms\n",
      "920:\tlearn: 0.0038044\ttotal: 897ms\tremaining: 76.9ms\n",
      "921:\tlearn: 0.0038014\ttotal: 898ms\tremaining: 76ms\n",
      "922:\tlearn: 0.0037982\ttotal: 899ms\tremaining: 75ms\n",
      "923:\tlearn: 0.0037949\ttotal: 900ms\tremaining: 74ms\n",
      "924:\tlearn: 0.0037918\ttotal: 901ms\tremaining: 73ms\n",
      "925:\tlearn: 0.0037880\ttotal: 901ms\tremaining: 72ms\n",
      "926:\tlearn: 0.0037846\ttotal: 902ms\tremaining: 71.1ms\n",
      "927:\tlearn: 0.0037807\ttotal: 903ms\tremaining: 70.1ms\n",
      "928:\tlearn: 0.0037769\ttotal: 904ms\tremaining: 69.1ms\n",
      "929:\tlearn: 0.0037729\ttotal: 905ms\tremaining: 68.1ms\n",
      "930:\tlearn: 0.0037687\ttotal: 906ms\tremaining: 67.2ms\n",
      "931:\tlearn: 0.0037649\ttotal: 907ms\tremaining: 66.2ms\n",
      "932:\tlearn: 0.0037605\ttotal: 908ms\tremaining: 65.2ms\n",
      "933:\tlearn: 0.0037552\ttotal: 909ms\tremaining: 64.3ms\n",
      "934:\tlearn: 0.0037513\ttotal: 910ms\tremaining: 63.3ms\n",
      "935:\tlearn: 0.0037473\ttotal: 911ms\tremaining: 62.3ms\n",
      "936:\tlearn: 0.0037431\ttotal: 912ms\tremaining: 61.3ms\n",
      "937:\tlearn: 0.0037396\ttotal: 913ms\tremaining: 60.4ms\n",
      "938:\tlearn: 0.0037314\ttotal: 914ms\tremaining: 59.4ms\n",
      "939:\tlearn: 0.0037275\ttotal: 915ms\tremaining: 58.4ms\n",
      "940:\tlearn: 0.0037234\ttotal: 916ms\tremaining: 57.4ms\n",
      "941:\tlearn: 0.0037177\ttotal: 916ms\tremaining: 56.4ms\n",
      "942:\tlearn: 0.0037132\ttotal: 917ms\tremaining: 55.4ms\n",
      "943:\tlearn: 0.0037092\ttotal: 918ms\tremaining: 54.5ms\n",
      "944:\tlearn: 0.0037055\ttotal: 919ms\tremaining: 53.5ms\n",
      "945:\tlearn: 0.0037014\ttotal: 920ms\tremaining: 52.5ms\n",
      "946:\tlearn: 0.0036982\ttotal: 921ms\tremaining: 51.5ms\n",
      "947:\tlearn: 0.0036956\ttotal: 922ms\tremaining: 50.6ms\n",
      "948:\tlearn: 0.0036892\ttotal: 923ms\tremaining: 49.6ms\n",
      "949:\tlearn: 0.0036861\ttotal: 924ms\tremaining: 48.6ms\n",
      "950:\tlearn: 0.0036818\ttotal: 925ms\tremaining: 47.6ms\n",
      "951:\tlearn: 0.0036780\ttotal: 926ms\tremaining: 46.7ms\n",
      "952:\tlearn: 0.0036739\ttotal: 927ms\tremaining: 45.7ms\n",
      "953:\tlearn: 0.0036702\ttotal: 928ms\tremaining: 44.7ms\n",
      "954:\tlearn: 0.0036662\ttotal: 929ms\tremaining: 43.8ms\n",
      "955:\tlearn: 0.0036610\ttotal: 930ms\tremaining: 42.8ms\n",
      "956:\tlearn: 0.0036578\ttotal: 931ms\tremaining: 41.8ms\n",
      "957:\tlearn: 0.0036524\ttotal: 931ms\tremaining: 40.8ms\n",
      "958:\tlearn: 0.0036482\ttotal: 932ms\tremaining: 39.9ms\n",
      "959:\tlearn: 0.0036446\ttotal: 933ms\tremaining: 38.9ms\n",
      "960:\tlearn: 0.0036410\ttotal: 934ms\tremaining: 37.9ms\n",
      "961:\tlearn: 0.0036370\ttotal: 935ms\tremaining: 36.9ms\n",
      "962:\tlearn: 0.0036328\ttotal: 936ms\tremaining: 36ms\n",
      "963:\tlearn: 0.0036281\ttotal: 937ms\tremaining: 35ms\n",
      "964:\tlearn: 0.0036234\ttotal: 938ms\tremaining: 34ms\n",
      "965:\tlearn: 0.0036194\ttotal: 939ms\tremaining: 33ms\n",
      "966:\tlearn: 0.0036162\ttotal: 940ms\tremaining: 32.1ms\n",
      "967:\tlearn: 0.0036126\ttotal: 941ms\tremaining: 31.1ms\n",
      "968:\tlearn: 0.0036077\ttotal: 942ms\tremaining: 30.1ms\n",
      "969:\tlearn: 0.0036035\ttotal: 943ms\tremaining: 29.2ms\n",
      "970:\tlearn: 0.0035996\ttotal: 944ms\tremaining: 28.2ms\n",
      "971:\tlearn: 0.0035955\ttotal: 945ms\tremaining: 27.2ms\n",
      "972:\tlearn: 0.0035912\ttotal: 945ms\tremaining: 26.2ms\n",
      "973:\tlearn: 0.0035875\ttotal: 946ms\tremaining: 25.3ms\n",
      "974:\tlearn: 0.0035832\ttotal: 947ms\tremaining: 24.3ms\n",
      "975:\tlearn: 0.0035793\ttotal: 948ms\tremaining: 23.3ms\n",
      "976:\tlearn: 0.0035760\ttotal: 949ms\tremaining: 22.3ms\n",
      "977:\tlearn: 0.0035726\ttotal: 950ms\tremaining: 21.4ms\n",
      "978:\tlearn: 0.0035668\ttotal: 951ms\tremaining: 20.4ms\n",
      "979:\tlearn: 0.0035629\ttotal: 952ms\tremaining: 19.4ms\n",
      "980:\tlearn: 0.0035594\ttotal: 952ms\tremaining: 18.4ms\n",
      "981:\tlearn: 0.0035561\ttotal: 954ms\tremaining: 17.5ms\n",
      "982:\tlearn: 0.0035528\ttotal: 955ms\tremaining: 16.5ms\n",
      "983:\tlearn: 0.0035480\ttotal: 956ms\tremaining: 15.5ms\n",
      "984:\tlearn: 0.0035443\ttotal: 957ms\tremaining: 14.6ms\n",
      "985:\tlearn: 0.0035325\ttotal: 958ms\tremaining: 13.6ms\n",
      "986:\tlearn: 0.0035283\ttotal: 959ms\tremaining: 12.6ms\n",
      "987:\tlearn: 0.0035240\ttotal: 959ms\tremaining: 11.7ms\n",
      "988:\tlearn: 0.0035207\ttotal: 960ms\tremaining: 10.7ms\n",
      "989:\tlearn: 0.0035174\ttotal: 961ms\tremaining: 9.71ms\n",
      "990:\tlearn: 0.0035149\ttotal: 962ms\tremaining: 8.74ms\n",
      "991:\tlearn: 0.0035107\ttotal: 963ms\tremaining: 7.77ms\n",
      "992:\tlearn: 0.0035069\ttotal: 964ms\tremaining: 6.8ms\n",
      "993:\tlearn: 0.0035035\ttotal: 966ms\tremaining: 5.83ms\n",
      "994:\tlearn: 0.0034997\ttotal: 967ms\tremaining: 4.86ms\n",
      "995:\tlearn: 0.0034972\ttotal: 968ms\tremaining: 3.89ms\n",
      "996:\tlearn: 0.0034933\ttotal: 969ms\tremaining: 2.92ms\n",
      "997:\tlearn: 0.0034863\ttotal: 969ms\tremaining: 1.94ms\n",
      "998:\tlearn: 0.0034825\ttotal: 970ms\tremaining: 971us\n",
      "999:\tlearn: 0.0034793\ttotal: 971ms\tremaining: 0us\n"
     ]
    },
    {
     "data": {
      "text/plain": [
       "<catboost.core.CatBoostClassifier at 0x1db93ffbf90>"
      ]
     },
     "execution_count": 182,
     "metadata": {},
     "output_type": "execute_result"
    }
   ],
   "source": [
    "cbc.fit(x_train, y_train)"
   ]
  },
  {
   "cell_type": "code",
   "execution_count": 183,
   "metadata": {},
   "outputs": [
    {
     "data": {
      "text/plain": [
       "0.9438202247191011"
      ]
     },
     "execution_count": 183,
     "metadata": {},
     "output_type": "execute_result"
    }
   ],
   "source": [
    "cbc.score(x_test, y_test)"
   ]
  },
  {
   "cell_type": "code",
   "execution_count": 184,
   "metadata": {},
   "outputs": [],
   "source": [
    "y_pred5 = cbc.predict(x_test)"
   ]
  },
  {
   "cell_type": "code",
   "execution_count": 185,
   "metadata": {},
   "outputs": [
    {
     "data": {
      "text/plain": [
       "0.9438202247191011"
      ]
     },
     "execution_count": 185,
     "metadata": {},
     "output_type": "execute_result"
    }
   ],
   "source": [
    "accuracy_score(y_test, y_pred5)"
   ]
  },
  {
   "cell_type": "code",
   "execution_count": 186,
   "metadata": {},
   "outputs": [
    {
     "data": {
      "text/plain": [
       "array([[9.99985578e-01, 1.27695922e-05, 1.65257168e-06],\n",
       "       [9.07009728e-06, 8.00359123e-05, 9.99910894e-01],\n",
       "       [5.27058522e-04, 9.99455631e-01, 1.73103214e-05],\n",
       "       [9.99979712e-01, 1.65238498e-05, 3.76370446e-06],\n",
       "       [1.24243835e-02, 9.77877653e-01, 9.69796366e-03],\n",
       "       [2.32359642e-01, 7.58655489e-01, 8.98486916e-03],\n",
       "       [9.99994394e-01, 2.56970216e-06, 3.03582072e-06],\n",
       "       [1.63664327e-06, 1.66353179e-04, 9.99832010e-01],\n",
       "       [3.09142600e-05, 9.99954336e-01, 1.47498995e-05],\n",
       "       [2.71688102e-06, 9.99990937e-01, 6.34657512e-06]])"
      ]
     },
     "execution_count": 186,
     "metadata": {},
     "output_type": "execute_result"
    }
   ],
   "source": [
    "y_pred_proba5 = lgbmc.predict_proba(x_test)\n",
    "y_pred_proba5[:10]"
   ]
  },
  {
   "cell_type": "code",
   "execution_count": 187,
   "metadata": {},
   "outputs": [
    {
     "data": {
      "text/plain": [
       "0.08824895679747774"
      ]
     },
     "execution_count": 187,
     "metadata": {},
     "output_type": "execute_result"
    }
   ],
   "source": [
    "log_loss(y_test, y_pred_proba5)"
   ]
  },
  {
   "cell_type": "code",
   "execution_count": null,
   "metadata": {},
   "outputs": [],
   "source": []
  },
  {
   "cell_type": "code",
   "execution_count": null,
   "metadata": {},
   "outputs": [],
   "source": []
  }
 ],
 "metadata": {
  "kernelspec": {
   "display_name": "pytorch",
   "language": "python",
   "name": "python3"
  },
  "language_info": {
   "codemirror_mode": {
    "name": "ipython",
    "version": 3
   },
   "file_extension": ".py",
   "mimetype": "text/x-python",
   "name": "python",
   "nbconvert_exporter": "python",
   "pygments_lexer": "ipython3",
   "version": "3.11.3"
  },
  "orig_nbformat": 4
 },
 "nbformat": 4,
 "nbformat_minor": 2
}
