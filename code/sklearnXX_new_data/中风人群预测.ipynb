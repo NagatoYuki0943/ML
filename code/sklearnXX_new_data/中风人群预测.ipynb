{
 "cells": [
  {
   "cell_type": "code",
   "execution_count": 1,
   "metadata": {},
   "outputs": [],
   "source": [
    "import numpy as np\n",
    "import pandas as pd\n",
    "import matplotlib.pyplot as plt\n",
    "from pathlib import Path"
   ]
  },
  {
   "cell_type": "code",
   "execution_count": 2,
   "metadata": {},
   "outputs": [
    {
     "data": {
      "text/plain": [
       "WindowsPath('../data')"
      ]
     },
     "execution_count": 2,
     "metadata": {},
     "output_type": "execute_result"
    }
   ],
   "source": [
    "base_path = Path(\"../data\")\n",
    "base_path"
   ]
  },
  {
   "cell_type": "code",
   "execution_count": 3,
   "metadata": {},
   "outputs": [
    {
     "data": {
      "text/plain": [
       "WindowsPath('../data/中风人群预测.csv')"
      ]
     },
     "execution_count": 3,
     "metadata": {},
     "output_type": "execute_result"
    }
   ],
   "source": [
    "data_path = base_path / \"中风人群预测.csv\"\n",
    "data_path"
   ]
  },
  {
   "cell_type": "markdown",
   "metadata": {},
   "source": [
    "- id: 唯一标识符\n",
    "- gender: \"Male\"（男性）、\"Female\"（女性）或 \"Other\"（其他）\n",
    "- age: 患者年龄\n",
    "- hypertension: 如果患者没有高血压则为0，如果患者有高血压则为1\n",
    "- heart_disease: 如果患者没有心脏疾病则为0，如果患者有心脏疾病则为1\n",
    "- ever_married: \"No\"（否）或 \"Yes\"（是）\n",
    "- work_type: \"children\"（儿童）、\"Govt_jov\"（政府职位）、\"Never_worked\"（从未工作）、\"Private\"（私人公司）或 \"Self-employed\"（自雇）\n",
    "- Residence_type: \"Rural\"（农村）或 \"Urban\"（城市）\n",
    "- avg_glucose_level: 血液中的平均血糖水平\n",
    "- bmi: 身体质量指数\n",
    "- smoking_status: \"formerly smoked\"（以前吸烟）、\"never smoked\"（从未吸烟）、\"smokes\"（吸烟）或 \"Unknown\"（未知）*\n",
    "- stroke: 如果患者中风则为1，如果未中风则为0"
   ]
  },
  {
   "cell_type": "code",
   "execution_count": 4,
   "metadata": {},
   "outputs": [
    {
     "data": {
      "text/html": [
       "<div>\n",
       "<style scoped>\n",
       "    .dataframe tbody tr th:only-of-type {\n",
       "        vertical-align: middle;\n",
       "    }\n",
       "\n",
       "    .dataframe tbody tr th {\n",
       "        vertical-align: top;\n",
       "    }\n",
       "\n",
       "    .dataframe thead th {\n",
       "        text-align: right;\n",
       "    }\n",
       "</style>\n",
       "<table border=\"1\" class=\"dataframe\">\n",
       "  <thead>\n",
       "    <tr style=\"text-align: right;\">\n",
       "      <th></th>\n",
       "      <th>gender</th>\n",
       "      <th>age</th>\n",
       "      <th>hypertension</th>\n",
       "      <th>heart_disease</th>\n",
       "      <th>ever_married</th>\n",
       "      <th>work_type</th>\n",
       "      <th>Residence_type</th>\n",
       "      <th>avg_glucose_level</th>\n",
       "      <th>bmi</th>\n",
       "      <th>smoking_status</th>\n",
       "      <th>stroke</th>\n",
       "    </tr>\n",
       "    <tr>\n",
       "      <th>id</th>\n",
       "      <th></th>\n",
       "      <th></th>\n",
       "      <th></th>\n",
       "      <th></th>\n",
       "      <th></th>\n",
       "      <th></th>\n",
       "      <th></th>\n",
       "      <th></th>\n",
       "      <th></th>\n",
       "      <th></th>\n",
       "      <th></th>\n",
       "    </tr>\n",
       "  </thead>\n",
       "  <tbody>\n",
       "    <tr>\n",
       "      <th>9046</th>\n",
       "      <td>Male</td>\n",
       "      <td>67.0</td>\n",
       "      <td>0</td>\n",
       "      <td>1</td>\n",
       "      <td>Yes</td>\n",
       "      <td>Private</td>\n",
       "      <td>Urban</td>\n",
       "      <td>228.69</td>\n",
       "      <td>36.6</td>\n",
       "      <td>formerly smoked</td>\n",
       "      <td>1</td>\n",
       "    </tr>\n",
       "    <tr>\n",
       "      <th>51676</th>\n",
       "      <td>Female</td>\n",
       "      <td>61.0</td>\n",
       "      <td>0</td>\n",
       "      <td>0</td>\n",
       "      <td>Yes</td>\n",
       "      <td>Self-employed</td>\n",
       "      <td>Rural</td>\n",
       "      <td>202.21</td>\n",
       "      <td>NaN</td>\n",
       "      <td>never smoked</td>\n",
       "      <td>1</td>\n",
       "    </tr>\n",
       "    <tr>\n",
       "      <th>31112</th>\n",
       "      <td>Male</td>\n",
       "      <td>80.0</td>\n",
       "      <td>0</td>\n",
       "      <td>1</td>\n",
       "      <td>Yes</td>\n",
       "      <td>Private</td>\n",
       "      <td>Rural</td>\n",
       "      <td>105.92</td>\n",
       "      <td>32.5</td>\n",
       "      <td>never smoked</td>\n",
       "      <td>1</td>\n",
       "    </tr>\n",
       "    <tr>\n",
       "      <th>60182</th>\n",
       "      <td>Female</td>\n",
       "      <td>49.0</td>\n",
       "      <td>0</td>\n",
       "      <td>0</td>\n",
       "      <td>Yes</td>\n",
       "      <td>Private</td>\n",
       "      <td>Urban</td>\n",
       "      <td>171.23</td>\n",
       "      <td>34.4</td>\n",
       "      <td>smokes</td>\n",
       "      <td>1</td>\n",
       "    </tr>\n",
       "    <tr>\n",
       "      <th>1665</th>\n",
       "      <td>Female</td>\n",
       "      <td>79.0</td>\n",
       "      <td>1</td>\n",
       "      <td>0</td>\n",
       "      <td>Yes</td>\n",
       "      <td>Self-employed</td>\n",
       "      <td>Rural</td>\n",
       "      <td>174.12</td>\n",
       "      <td>24.0</td>\n",
       "      <td>never smoked</td>\n",
       "      <td>1</td>\n",
       "    </tr>\n",
       "  </tbody>\n",
       "</table>\n",
       "</div>"
      ],
      "text/plain": [
       "       gender   age  hypertension  heart_disease ever_married      work_type  \\\n",
       "id                                                                             \n",
       "9046     Male  67.0             0              1          Yes        Private   \n",
       "51676  Female  61.0             0              0          Yes  Self-employed   \n",
       "31112    Male  80.0             0              1          Yes        Private   \n",
       "60182  Female  49.0             0              0          Yes        Private   \n",
       "1665   Female  79.0             1              0          Yes  Self-employed   \n",
       "\n",
       "      Residence_type  avg_glucose_level   bmi   smoking_status  stroke  \n",
       "id                                                                      \n",
       "9046           Urban             228.69  36.6  formerly smoked       1  \n",
       "51676          Rural             202.21   NaN     never smoked       1  \n",
       "31112          Rural             105.92  32.5     never smoked       1  \n",
       "60182          Urban             171.23  34.4           smokes       1  \n",
       "1665           Rural             174.12  24.0     never smoked       1  "
      ]
     },
     "execution_count": 4,
     "metadata": {},
     "output_type": "execute_result"
    }
   ],
   "source": [
    "data = pd.read_csv(data_path).set_index(\"id\")\n",
    "data.head()"
   ]
  },
  {
   "cell_type": "code",
   "execution_count": 5,
   "metadata": {},
   "outputs": [
    {
     "data": {
      "text/plain": [
       "(5110, 11)"
      ]
     },
     "execution_count": 5,
     "metadata": {},
     "output_type": "execute_result"
    }
   ],
   "source": [
    "data.shape"
   ]
  },
  {
   "cell_type": "markdown",
   "metadata": {},
   "source": [
    "# 预处理"
   ]
  },
  {
   "cell_type": "markdown",
   "metadata": {},
   "source": [
    "## gender"
   ]
  },
  {
   "cell_type": "code",
   "execution_count": 6,
   "metadata": {},
   "outputs": [
    {
     "data": {
      "text/plain": [
       "array(['Female', 'Male', 'Other'], dtype=object)"
      ]
     },
     "execution_count": 6,
     "metadata": {},
     "output_type": "execute_result"
    }
   ],
   "source": [
    "np.unique(data[\"gender\"])"
   ]
  },
  {
   "cell_type": "code",
   "execution_count": 7,
   "metadata": {},
   "outputs": [],
   "source": [
    "data.loc[data[\"gender\"] == \"Female\", \"gender\"] = 0"
   ]
  },
  {
   "cell_type": "code",
   "execution_count": 8,
   "metadata": {},
   "outputs": [],
   "source": [
    "data.loc[data[\"gender\"] == \"Male\", \"gender\"] = 1"
   ]
  },
  {
   "cell_type": "code",
   "execution_count": 9,
   "metadata": {},
   "outputs": [],
   "source": [
    "data.loc[data[\"gender\"] == \"Other\", \"gender\"] = 2"
   ]
  },
  {
   "cell_type": "code",
   "execution_count": 10,
   "metadata": {},
   "outputs": [],
   "source": [
    "data[\"gender\"] = data[\"gender\"].astype(np.int32)"
   ]
  },
  {
   "cell_type": "code",
   "execution_count": 11,
   "metadata": {},
   "outputs": [
    {
     "data": {
      "text/plain": [
       "array([0, 1, 2])"
      ]
     },
     "execution_count": 11,
     "metadata": {},
     "output_type": "execute_result"
    }
   ],
   "source": [
    "np.unique(data[\"gender\"])"
   ]
  },
  {
   "cell_type": "code",
   "execution_count": 12,
   "metadata": {},
   "outputs": [
    {
     "data": {
      "text/html": [
       "<div>\n",
       "<style scoped>\n",
       "    .dataframe tbody tr th:only-of-type {\n",
       "        vertical-align: middle;\n",
       "    }\n",
       "\n",
       "    .dataframe tbody tr th {\n",
       "        vertical-align: top;\n",
       "    }\n",
       "\n",
       "    .dataframe thead th {\n",
       "        text-align: right;\n",
       "    }\n",
       "</style>\n",
       "<table border=\"1\" class=\"dataframe\">\n",
       "  <thead>\n",
       "    <tr style=\"text-align: right;\">\n",
       "      <th></th>\n",
       "      <th>gender</th>\n",
       "      <th>age</th>\n",
       "      <th>hypertension</th>\n",
       "      <th>heart_disease</th>\n",
       "      <th>ever_married</th>\n",
       "      <th>work_type</th>\n",
       "      <th>Residence_type</th>\n",
       "      <th>avg_glucose_level</th>\n",
       "      <th>bmi</th>\n",
       "      <th>smoking_status</th>\n",
       "      <th>stroke</th>\n",
       "    </tr>\n",
       "    <tr>\n",
       "      <th>id</th>\n",
       "      <th></th>\n",
       "      <th></th>\n",
       "      <th></th>\n",
       "      <th></th>\n",
       "      <th></th>\n",
       "      <th></th>\n",
       "      <th></th>\n",
       "      <th></th>\n",
       "      <th></th>\n",
       "      <th></th>\n",
       "      <th></th>\n",
       "    </tr>\n",
       "  </thead>\n",
       "  <tbody>\n",
       "    <tr>\n",
       "      <th>9046</th>\n",
       "      <td>1</td>\n",
       "      <td>67.0</td>\n",
       "      <td>0</td>\n",
       "      <td>1</td>\n",
       "      <td>Yes</td>\n",
       "      <td>Private</td>\n",
       "      <td>Urban</td>\n",
       "      <td>228.69</td>\n",
       "      <td>36.6</td>\n",
       "      <td>formerly smoked</td>\n",
       "      <td>1</td>\n",
       "    </tr>\n",
       "    <tr>\n",
       "      <th>51676</th>\n",
       "      <td>0</td>\n",
       "      <td>61.0</td>\n",
       "      <td>0</td>\n",
       "      <td>0</td>\n",
       "      <td>Yes</td>\n",
       "      <td>Self-employed</td>\n",
       "      <td>Rural</td>\n",
       "      <td>202.21</td>\n",
       "      <td>NaN</td>\n",
       "      <td>never smoked</td>\n",
       "      <td>1</td>\n",
       "    </tr>\n",
       "    <tr>\n",
       "      <th>31112</th>\n",
       "      <td>1</td>\n",
       "      <td>80.0</td>\n",
       "      <td>0</td>\n",
       "      <td>1</td>\n",
       "      <td>Yes</td>\n",
       "      <td>Private</td>\n",
       "      <td>Rural</td>\n",
       "      <td>105.92</td>\n",
       "      <td>32.5</td>\n",
       "      <td>never smoked</td>\n",
       "      <td>1</td>\n",
       "    </tr>\n",
       "    <tr>\n",
       "      <th>60182</th>\n",
       "      <td>0</td>\n",
       "      <td>49.0</td>\n",
       "      <td>0</td>\n",
       "      <td>0</td>\n",
       "      <td>Yes</td>\n",
       "      <td>Private</td>\n",
       "      <td>Urban</td>\n",
       "      <td>171.23</td>\n",
       "      <td>34.4</td>\n",
       "      <td>smokes</td>\n",
       "      <td>1</td>\n",
       "    </tr>\n",
       "    <tr>\n",
       "      <th>1665</th>\n",
       "      <td>0</td>\n",
       "      <td>79.0</td>\n",
       "      <td>1</td>\n",
       "      <td>0</td>\n",
       "      <td>Yes</td>\n",
       "      <td>Self-employed</td>\n",
       "      <td>Rural</td>\n",
       "      <td>174.12</td>\n",
       "      <td>24.0</td>\n",
       "      <td>never smoked</td>\n",
       "      <td>1</td>\n",
       "    </tr>\n",
       "  </tbody>\n",
       "</table>\n",
       "</div>"
      ],
      "text/plain": [
       "       gender   age  hypertension  heart_disease ever_married      work_type  \\\n",
       "id                                                                             \n",
       "9046        1  67.0             0              1          Yes        Private   \n",
       "51676       0  61.0             0              0          Yes  Self-employed   \n",
       "31112       1  80.0             0              1          Yes        Private   \n",
       "60182       0  49.0             0              0          Yes        Private   \n",
       "1665        0  79.0             1              0          Yes  Self-employed   \n",
       "\n",
       "      Residence_type  avg_glucose_level   bmi   smoking_status  stroke  \n",
       "id                                                                      \n",
       "9046           Urban             228.69  36.6  formerly smoked       1  \n",
       "51676          Rural             202.21   NaN     never smoked       1  \n",
       "31112          Rural             105.92  32.5     never smoked       1  \n",
       "60182          Urban             171.23  34.4           smokes       1  \n",
       "1665           Rural             174.12  24.0     never smoked       1  "
      ]
     },
     "execution_count": 12,
     "metadata": {},
     "output_type": "execute_result"
    }
   ],
   "source": [
    "data.head()"
   ]
  },
  {
   "cell_type": "markdown",
   "metadata": {},
   "source": [
    "## ever_married"
   ]
  },
  {
   "cell_type": "code",
   "execution_count": 13,
   "metadata": {},
   "outputs": [
    {
     "data": {
      "text/plain": [
       "array(['No', 'Yes'], dtype=object)"
      ]
     },
     "execution_count": 13,
     "metadata": {},
     "output_type": "execute_result"
    }
   ],
   "source": [
    "np.unique(data[\"ever_married\"])"
   ]
  },
  {
   "cell_type": "code",
   "execution_count": 14,
   "metadata": {},
   "outputs": [],
   "source": [
    "data.loc[data[\"ever_married\"] == \"No\", \"ever_married\"] = 0"
   ]
  },
  {
   "cell_type": "code",
   "execution_count": 15,
   "metadata": {},
   "outputs": [],
   "source": [
    "data.loc[data[\"ever_married\"] == \"Yes\", \"ever_married\"] = 1"
   ]
  },
  {
   "cell_type": "code",
   "execution_count": 16,
   "metadata": {},
   "outputs": [],
   "source": [
    "data[\"ever_married\"] = data[\"ever_married\"].astype(np.int32)"
   ]
  },
  {
   "cell_type": "code",
   "execution_count": 17,
   "metadata": {},
   "outputs": [
    {
     "data": {
      "text/plain": [
       "array([0, 1])"
      ]
     },
     "execution_count": 17,
     "metadata": {},
     "output_type": "execute_result"
    }
   ],
   "source": [
    "np.unique(data[\"ever_married\"])"
   ]
  },
  {
   "cell_type": "code",
   "execution_count": 18,
   "metadata": {},
   "outputs": [
    {
     "data": {
      "text/html": [
       "<div>\n",
       "<style scoped>\n",
       "    .dataframe tbody tr th:only-of-type {\n",
       "        vertical-align: middle;\n",
       "    }\n",
       "\n",
       "    .dataframe tbody tr th {\n",
       "        vertical-align: top;\n",
       "    }\n",
       "\n",
       "    .dataframe thead th {\n",
       "        text-align: right;\n",
       "    }\n",
       "</style>\n",
       "<table border=\"1\" class=\"dataframe\">\n",
       "  <thead>\n",
       "    <tr style=\"text-align: right;\">\n",
       "      <th></th>\n",
       "      <th>gender</th>\n",
       "      <th>age</th>\n",
       "      <th>hypertension</th>\n",
       "      <th>heart_disease</th>\n",
       "      <th>ever_married</th>\n",
       "      <th>work_type</th>\n",
       "      <th>Residence_type</th>\n",
       "      <th>avg_glucose_level</th>\n",
       "      <th>bmi</th>\n",
       "      <th>smoking_status</th>\n",
       "      <th>stroke</th>\n",
       "    </tr>\n",
       "    <tr>\n",
       "      <th>id</th>\n",
       "      <th></th>\n",
       "      <th></th>\n",
       "      <th></th>\n",
       "      <th></th>\n",
       "      <th></th>\n",
       "      <th></th>\n",
       "      <th></th>\n",
       "      <th></th>\n",
       "      <th></th>\n",
       "      <th></th>\n",
       "      <th></th>\n",
       "    </tr>\n",
       "  </thead>\n",
       "  <tbody>\n",
       "    <tr>\n",
       "      <th>9046</th>\n",
       "      <td>1</td>\n",
       "      <td>67.0</td>\n",
       "      <td>0</td>\n",
       "      <td>1</td>\n",
       "      <td>1</td>\n",
       "      <td>Private</td>\n",
       "      <td>Urban</td>\n",
       "      <td>228.69</td>\n",
       "      <td>36.6</td>\n",
       "      <td>formerly smoked</td>\n",
       "      <td>1</td>\n",
       "    </tr>\n",
       "    <tr>\n",
       "      <th>51676</th>\n",
       "      <td>0</td>\n",
       "      <td>61.0</td>\n",
       "      <td>0</td>\n",
       "      <td>0</td>\n",
       "      <td>1</td>\n",
       "      <td>Self-employed</td>\n",
       "      <td>Rural</td>\n",
       "      <td>202.21</td>\n",
       "      <td>NaN</td>\n",
       "      <td>never smoked</td>\n",
       "      <td>1</td>\n",
       "    </tr>\n",
       "    <tr>\n",
       "      <th>31112</th>\n",
       "      <td>1</td>\n",
       "      <td>80.0</td>\n",
       "      <td>0</td>\n",
       "      <td>1</td>\n",
       "      <td>1</td>\n",
       "      <td>Private</td>\n",
       "      <td>Rural</td>\n",
       "      <td>105.92</td>\n",
       "      <td>32.5</td>\n",
       "      <td>never smoked</td>\n",
       "      <td>1</td>\n",
       "    </tr>\n",
       "    <tr>\n",
       "      <th>60182</th>\n",
       "      <td>0</td>\n",
       "      <td>49.0</td>\n",
       "      <td>0</td>\n",
       "      <td>0</td>\n",
       "      <td>1</td>\n",
       "      <td>Private</td>\n",
       "      <td>Urban</td>\n",
       "      <td>171.23</td>\n",
       "      <td>34.4</td>\n",
       "      <td>smokes</td>\n",
       "      <td>1</td>\n",
       "    </tr>\n",
       "    <tr>\n",
       "      <th>1665</th>\n",
       "      <td>0</td>\n",
       "      <td>79.0</td>\n",
       "      <td>1</td>\n",
       "      <td>0</td>\n",
       "      <td>1</td>\n",
       "      <td>Self-employed</td>\n",
       "      <td>Rural</td>\n",
       "      <td>174.12</td>\n",
       "      <td>24.0</td>\n",
       "      <td>never smoked</td>\n",
       "      <td>1</td>\n",
       "    </tr>\n",
       "  </tbody>\n",
       "</table>\n",
       "</div>"
      ],
      "text/plain": [
       "       gender   age  hypertension  heart_disease  ever_married      work_type  \\\n",
       "id                                                                              \n",
       "9046        1  67.0             0              1             1        Private   \n",
       "51676       0  61.0             0              0             1  Self-employed   \n",
       "31112       1  80.0             0              1             1        Private   \n",
       "60182       0  49.0             0              0             1        Private   \n",
       "1665        0  79.0             1              0             1  Self-employed   \n",
       "\n",
       "      Residence_type  avg_glucose_level   bmi   smoking_status  stroke  \n",
       "id                                                                      \n",
       "9046           Urban             228.69  36.6  formerly smoked       1  \n",
       "51676          Rural             202.21   NaN     never smoked       1  \n",
       "31112          Rural             105.92  32.5     never smoked       1  \n",
       "60182          Urban             171.23  34.4           smokes       1  \n",
       "1665           Rural             174.12  24.0     never smoked       1  "
      ]
     },
     "execution_count": 18,
     "metadata": {},
     "output_type": "execute_result"
    }
   ],
   "source": [
    "data.head()"
   ]
  },
  {
   "cell_type": "markdown",
   "metadata": {},
   "source": [
    "## work_type"
   ]
  },
  {
   "cell_type": "code",
   "execution_count": 19,
   "metadata": {},
   "outputs": [
    {
     "data": {
      "text/plain": [
       "array(['Govt_job', 'Never_worked', 'Private', 'Self-employed', 'children'],\n",
       "      dtype=object)"
      ]
     },
     "execution_count": 19,
     "metadata": {},
     "output_type": "execute_result"
    }
   ],
   "source": [
    "np.unique(data[\"work_type\"])"
   ]
  },
  {
   "cell_type": "code",
   "execution_count": 20,
   "metadata": {},
   "outputs": [],
   "source": [
    "data.loc[data[\"work_type\"] == \"Govt_job\", \"work_type\"] = 0\n",
    "data.loc[data[\"work_type\"] == \"Never_worked\", \"work_type\"] = 1\n",
    "data.loc[data[\"work_type\"] == \"Private\", \"work_type\"] = 2\n",
    "data.loc[data[\"work_type\"] == \"Self-employed\", \"work_type\"] = 3\n",
    "data.loc[data[\"work_type\"] == \"children\", \"work_type\"] = 4"
   ]
  },
  {
   "cell_type": "code",
   "execution_count": 21,
   "metadata": {},
   "outputs": [],
   "source": [
    "data[\"work_type\"] = data[\"work_type\"].astype(np.int32)"
   ]
  },
  {
   "cell_type": "code",
   "execution_count": 22,
   "metadata": {},
   "outputs": [
    {
     "data": {
      "text/plain": [
       "array([0, 1, 2, 3, 4])"
      ]
     },
     "execution_count": 22,
     "metadata": {},
     "output_type": "execute_result"
    }
   ],
   "source": [
    "np.unique(data[\"work_type\"])"
   ]
  },
  {
   "cell_type": "code",
   "execution_count": 23,
   "metadata": {},
   "outputs": [
    {
     "data": {
      "text/html": [
       "<div>\n",
       "<style scoped>\n",
       "    .dataframe tbody tr th:only-of-type {\n",
       "        vertical-align: middle;\n",
       "    }\n",
       "\n",
       "    .dataframe tbody tr th {\n",
       "        vertical-align: top;\n",
       "    }\n",
       "\n",
       "    .dataframe thead th {\n",
       "        text-align: right;\n",
       "    }\n",
       "</style>\n",
       "<table border=\"1\" class=\"dataframe\">\n",
       "  <thead>\n",
       "    <tr style=\"text-align: right;\">\n",
       "      <th></th>\n",
       "      <th>gender</th>\n",
       "      <th>age</th>\n",
       "      <th>hypertension</th>\n",
       "      <th>heart_disease</th>\n",
       "      <th>ever_married</th>\n",
       "      <th>work_type</th>\n",
       "      <th>Residence_type</th>\n",
       "      <th>avg_glucose_level</th>\n",
       "      <th>bmi</th>\n",
       "      <th>smoking_status</th>\n",
       "      <th>stroke</th>\n",
       "    </tr>\n",
       "    <tr>\n",
       "      <th>id</th>\n",
       "      <th></th>\n",
       "      <th></th>\n",
       "      <th></th>\n",
       "      <th></th>\n",
       "      <th></th>\n",
       "      <th></th>\n",
       "      <th></th>\n",
       "      <th></th>\n",
       "      <th></th>\n",
       "      <th></th>\n",
       "      <th></th>\n",
       "    </tr>\n",
       "  </thead>\n",
       "  <tbody>\n",
       "    <tr>\n",
       "      <th>9046</th>\n",
       "      <td>1</td>\n",
       "      <td>67.0</td>\n",
       "      <td>0</td>\n",
       "      <td>1</td>\n",
       "      <td>1</td>\n",
       "      <td>2</td>\n",
       "      <td>Urban</td>\n",
       "      <td>228.69</td>\n",
       "      <td>36.6</td>\n",
       "      <td>formerly smoked</td>\n",
       "      <td>1</td>\n",
       "    </tr>\n",
       "    <tr>\n",
       "      <th>51676</th>\n",
       "      <td>0</td>\n",
       "      <td>61.0</td>\n",
       "      <td>0</td>\n",
       "      <td>0</td>\n",
       "      <td>1</td>\n",
       "      <td>3</td>\n",
       "      <td>Rural</td>\n",
       "      <td>202.21</td>\n",
       "      <td>NaN</td>\n",
       "      <td>never smoked</td>\n",
       "      <td>1</td>\n",
       "    </tr>\n",
       "    <tr>\n",
       "      <th>31112</th>\n",
       "      <td>1</td>\n",
       "      <td>80.0</td>\n",
       "      <td>0</td>\n",
       "      <td>1</td>\n",
       "      <td>1</td>\n",
       "      <td>2</td>\n",
       "      <td>Rural</td>\n",
       "      <td>105.92</td>\n",
       "      <td>32.5</td>\n",
       "      <td>never smoked</td>\n",
       "      <td>1</td>\n",
       "    </tr>\n",
       "    <tr>\n",
       "      <th>60182</th>\n",
       "      <td>0</td>\n",
       "      <td>49.0</td>\n",
       "      <td>0</td>\n",
       "      <td>0</td>\n",
       "      <td>1</td>\n",
       "      <td>2</td>\n",
       "      <td>Urban</td>\n",
       "      <td>171.23</td>\n",
       "      <td>34.4</td>\n",
       "      <td>smokes</td>\n",
       "      <td>1</td>\n",
       "    </tr>\n",
       "    <tr>\n",
       "      <th>1665</th>\n",
       "      <td>0</td>\n",
       "      <td>79.0</td>\n",
       "      <td>1</td>\n",
       "      <td>0</td>\n",
       "      <td>1</td>\n",
       "      <td>3</td>\n",
       "      <td>Rural</td>\n",
       "      <td>174.12</td>\n",
       "      <td>24.0</td>\n",
       "      <td>never smoked</td>\n",
       "      <td>1</td>\n",
       "    </tr>\n",
       "  </tbody>\n",
       "</table>\n",
       "</div>"
      ],
      "text/plain": [
       "       gender   age  hypertension  heart_disease  ever_married  work_type  \\\n",
       "id                                                                          \n",
       "9046        1  67.0             0              1             1          2   \n",
       "51676       0  61.0             0              0             1          3   \n",
       "31112       1  80.0             0              1             1          2   \n",
       "60182       0  49.0             0              0             1          2   \n",
       "1665        0  79.0             1              0             1          3   \n",
       "\n",
       "      Residence_type  avg_glucose_level   bmi   smoking_status  stroke  \n",
       "id                                                                      \n",
       "9046           Urban             228.69  36.6  formerly smoked       1  \n",
       "51676          Rural             202.21   NaN     never smoked       1  \n",
       "31112          Rural             105.92  32.5     never smoked       1  \n",
       "60182          Urban             171.23  34.4           smokes       1  \n",
       "1665           Rural             174.12  24.0     never smoked       1  "
      ]
     },
     "execution_count": 23,
     "metadata": {},
     "output_type": "execute_result"
    }
   ],
   "source": [
    "data.head()"
   ]
  },
  {
   "cell_type": "markdown",
   "metadata": {},
   "source": [
    "## Residence_type"
   ]
  },
  {
   "cell_type": "code",
   "execution_count": 24,
   "metadata": {},
   "outputs": [
    {
     "data": {
      "text/plain": [
       "array(['Rural', 'Urban'], dtype=object)"
      ]
     },
     "execution_count": 24,
     "metadata": {},
     "output_type": "execute_result"
    }
   ],
   "source": [
    "np.unique(data[\"Residence_type\"])"
   ]
  },
  {
   "cell_type": "code",
   "execution_count": 25,
   "metadata": {},
   "outputs": [],
   "source": [
    "data.loc[data[\"Residence_type\"] == \"Rural\", \"Residence_type\"] = 0\n",
    "data.loc[data[\"Residence_type\"] == \"Urban\", \"Residence_type\"] = 1"
   ]
  },
  {
   "cell_type": "code",
   "execution_count": 26,
   "metadata": {},
   "outputs": [],
   "source": [
    "data[\"Residence_type\"] = data[\"Residence_type\"].astype(np.int32)"
   ]
  },
  {
   "cell_type": "code",
   "execution_count": 27,
   "metadata": {},
   "outputs": [
    {
     "data": {
      "text/plain": [
       "array([0, 1])"
      ]
     },
     "execution_count": 27,
     "metadata": {},
     "output_type": "execute_result"
    }
   ],
   "source": [
    "np.unique(data[\"Residence_type\"])"
   ]
  },
  {
   "cell_type": "code",
   "execution_count": 28,
   "metadata": {},
   "outputs": [
    {
     "data": {
      "text/html": [
       "<div>\n",
       "<style scoped>\n",
       "    .dataframe tbody tr th:only-of-type {\n",
       "        vertical-align: middle;\n",
       "    }\n",
       "\n",
       "    .dataframe tbody tr th {\n",
       "        vertical-align: top;\n",
       "    }\n",
       "\n",
       "    .dataframe thead th {\n",
       "        text-align: right;\n",
       "    }\n",
       "</style>\n",
       "<table border=\"1\" class=\"dataframe\">\n",
       "  <thead>\n",
       "    <tr style=\"text-align: right;\">\n",
       "      <th></th>\n",
       "      <th>gender</th>\n",
       "      <th>age</th>\n",
       "      <th>hypertension</th>\n",
       "      <th>heart_disease</th>\n",
       "      <th>ever_married</th>\n",
       "      <th>work_type</th>\n",
       "      <th>Residence_type</th>\n",
       "      <th>avg_glucose_level</th>\n",
       "      <th>bmi</th>\n",
       "      <th>smoking_status</th>\n",
       "      <th>stroke</th>\n",
       "    </tr>\n",
       "    <tr>\n",
       "      <th>id</th>\n",
       "      <th></th>\n",
       "      <th></th>\n",
       "      <th></th>\n",
       "      <th></th>\n",
       "      <th></th>\n",
       "      <th></th>\n",
       "      <th></th>\n",
       "      <th></th>\n",
       "      <th></th>\n",
       "      <th></th>\n",
       "      <th></th>\n",
       "    </tr>\n",
       "  </thead>\n",
       "  <tbody>\n",
       "    <tr>\n",
       "      <th>9046</th>\n",
       "      <td>1</td>\n",
       "      <td>67.0</td>\n",
       "      <td>0</td>\n",
       "      <td>1</td>\n",
       "      <td>1</td>\n",
       "      <td>2</td>\n",
       "      <td>1</td>\n",
       "      <td>228.69</td>\n",
       "      <td>36.6</td>\n",
       "      <td>formerly smoked</td>\n",
       "      <td>1</td>\n",
       "    </tr>\n",
       "    <tr>\n",
       "      <th>51676</th>\n",
       "      <td>0</td>\n",
       "      <td>61.0</td>\n",
       "      <td>0</td>\n",
       "      <td>0</td>\n",
       "      <td>1</td>\n",
       "      <td>3</td>\n",
       "      <td>0</td>\n",
       "      <td>202.21</td>\n",
       "      <td>NaN</td>\n",
       "      <td>never smoked</td>\n",
       "      <td>1</td>\n",
       "    </tr>\n",
       "    <tr>\n",
       "      <th>31112</th>\n",
       "      <td>1</td>\n",
       "      <td>80.0</td>\n",
       "      <td>0</td>\n",
       "      <td>1</td>\n",
       "      <td>1</td>\n",
       "      <td>2</td>\n",
       "      <td>0</td>\n",
       "      <td>105.92</td>\n",
       "      <td>32.5</td>\n",
       "      <td>never smoked</td>\n",
       "      <td>1</td>\n",
       "    </tr>\n",
       "    <tr>\n",
       "      <th>60182</th>\n",
       "      <td>0</td>\n",
       "      <td>49.0</td>\n",
       "      <td>0</td>\n",
       "      <td>0</td>\n",
       "      <td>1</td>\n",
       "      <td>2</td>\n",
       "      <td>1</td>\n",
       "      <td>171.23</td>\n",
       "      <td>34.4</td>\n",
       "      <td>smokes</td>\n",
       "      <td>1</td>\n",
       "    </tr>\n",
       "    <tr>\n",
       "      <th>1665</th>\n",
       "      <td>0</td>\n",
       "      <td>79.0</td>\n",
       "      <td>1</td>\n",
       "      <td>0</td>\n",
       "      <td>1</td>\n",
       "      <td>3</td>\n",
       "      <td>0</td>\n",
       "      <td>174.12</td>\n",
       "      <td>24.0</td>\n",
       "      <td>never smoked</td>\n",
       "      <td>1</td>\n",
       "    </tr>\n",
       "  </tbody>\n",
       "</table>\n",
       "</div>"
      ],
      "text/plain": [
       "       gender   age  hypertension  heart_disease  ever_married  work_type  \\\n",
       "id                                                                          \n",
       "9046        1  67.0             0              1             1          2   \n",
       "51676       0  61.0             0              0             1          3   \n",
       "31112       1  80.0             0              1             1          2   \n",
       "60182       0  49.0             0              0             1          2   \n",
       "1665        0  79.0             1              0             1          3   \n",
       "\n",
       "       Residence_type  avg_glucose_level   bmi   smoking_status  stroke  \n",
       "id                                                                       \n",
       "9046                1             228.69  36.6  formerly smoked       1  \n",
       "51676               0             202.21   NaN     never smoked       1  \n",
       "31112               0             105.92  32.5     never smoked       1  \n",
       "60182               1             171.23  34.4           smokes       1  \n",
       "1665                0             174.12  24.0     never smoked       1  "
      ]
     },
     "execution_count": 28,
     "metadata": {},
     "output_type": "execute_result"
    }
   ],
   "source": [
    "data.head()"
   ]
  },
  {
   "cell_type": "markdown",
   "metadata": {},
   "source": [
    "## avg_glucose_level"
   ]
  },
  {
   "cell_type": "code",
   "execution_count": 29,
   "metadata": {},
   "outputs": [
    {
     "data": {
      "text/plain": [
       "False"
      ]
     },
     "execution_count": 29,
     "metadata": {},
     "output_type": "execute_result"
    }
   ],
   "source": [
    "np.any(np.isnan(data[\"avg_glucose_level\"]))"
   ]
  },
  {
   "cell_type": "code",
   "execution_count": 30,
   "metadata": {},
   "outputs": [
    {
     "data": {
      "text/plain": [
       "count    5110.000000\n",
       "mean      106.147677\n",
       "std        45.283560\n",
       "min        55.120000\n",
       "25%        77.245000\n",
       "50%        91.885000\n",
       "75%       114.090000\n",
       "max       271.740000\n",
       "Name: avg_glucose_level, dtype: float64"
      ]
     },
     "execution_count": 30,
     "metadata": {},
     "output_type": "execute_result"
    }
   ],
   "source": [
    "data[\"avg_glucose_level\"].describe()"
   ]
  },
  {
   "cell_type": "markdown",
   "metadata": {},
   "source": [
    "## bmi"
   ]
  },
  {
   "cell_type": "code",
   "execution_count": 31,
   "metadata": {},
   "outputs": [
    {
     "data": {
      "text/plain": [
       "True"
      ]
     },
     "execution_count": 31,
     "metadata": {},
     "output_type": "execute_result"
    }
   ],
   "source": [
    "np.any(np.isnan(data[\"bmi\"]))"
   ]
  },
  {
   "cell_type": "code",
   "execution_count": 32,
   "metadata": {},
   "outputs": [],
   "source": [
    "data[\"bmi\"].fillna(data[\"bmi\"].mean(), inplace=True)"
   ]
  },
  {
   "cell_type": "code",
   "execution_count": 33,
   "metadata": {},
   "outputs": [
    {
     "data": {
      "text/plain": [
       "False"
      ]
     },
     "execution_count": 33,
     "metadata": {},
     "output_type": "execute_result"
    }
   ],
   "source": [
    "np.any(np.isnan(data[\"bmi\"]))"
   ]
  },
  {
   "cell_type": "code",
   "execution_count": 34,
   "metadata": {},
   "outputs": [
    {
     "data": {
      "text/plain": [
       "count    5110.000000\n",
       "mean       28.893237\n",
       "std         7.698018\n",
       "min        10.300000\n",
       "25%        23.800000\n",
       "50%        28.400000\n",
       "75%        32.800000\n",
       "max        97.600000\n",
       "Name: bmi, dtype: float64"
      ]
     },
     "execution_count": 34,
     "metadata": {},
     "output_type": "execute_result"
    }
   ],
   "source": [
    "data[\"bmi\"].describe()"
   ]
  },
  {
   "cell_type": "code",
   "execution_count": 35,
   "metadata": {},
   "outputs": [
    {
     "data": {
      "text/html": [
       "<div>\n",
       "<style scoped>\n",
       "    .dataframe tbody tr th:only-of-type {\n",
       "        vertical-align: middle;\n",
       "    }\n",
       "\n",
       "    .dataframe tbody tr th {\n",
       "        vertical-align: top;\n",
       "    }\n",
       "\n",
       "    .dataframe thead th {\n",
       "        text-align: right;\n",
       "    }\n",
       "</style>\n",
       "<table border=\"1\" class=\"dataframe\">\n",
       "  <thead>\n",
       "    <tr style=\"text-align: right;\">\n",
       "      <th></th>\n",
       "      <th>gender</th>\n",
       "      <th>age</th>\n",
       "      <th>hypertension</th>\n",
       "      <th>heart_disease</th>\n",
       "      <th>ever_married</th>\n",
       "      <th>work_type</th>\n",
       "      <th>Residence_type</th>\n",
       "      <th>avg_glucose_level</th>\n",
       "      <th>bmi</th>\n",
       "      <th>smoking_status</th>\n",
       "      <th>stroke</th>\n",
       "    </tr>\n",
       "    <tr>\n",
       "      <th>id</th>\n",
       "      <th></th>\n",
       "      <th></th>\n",
       "      <th></th>\n",
       "      <th></th>\n",
       "      <th></th>\n",
       "      <th></th>\n",
       "      <th></th>\n",
       "      <th></th>\n",
       "      <th></th>\n",
       "      <th></th>\n",
       "      <th></th>\n",
       "    </tr>\n",
       "  </thead>\n",
       "  <tbody>\n",
       "    <tr>\n",
       "      <th>9046</th>\n",
       "      <td>1</td>\n",
       "      <td>67.0</td>\n",
       "      <td>0</td>\n",
       "      <td>1</td>\n",
       "      <td>1</td>\n",
       "      <td>2</td>\n",
       "      <td>1</td>\n",
       "      <td>228.69</td>\n",
       "      <td>36.600000</td>\n",
       "      <td>formerly smoked</td>\n",
       "      <td>1</td>\n",
       "    </tr>\n",
       "    <tr>\n",
       "      <th>51676</th>\n",
       "      <td>0</td>\n",
       "      <td>61.0</td>\n",
       "      <td>0</td>\n",
       "      <td>0</td>\n",
       "      <td>1</td>\n",
       "      <td>3</td>\n",
       "      <td>0</td>\n",
       "      <td>202.21</td>\n",
       "      <td>28.893237</td>\n",
       "      <td>never smoked</td>\n",
       "      <td>1</td>\n",
       "    </tr>\n",
       "    <tr>\n",
       "      <th>31112</th>\n",
       "      <td>1</td>\n",
       "      <td>80.0</td>\n",
       "      <td>0</td>\n",
       "      <td>1</td>\n",
       "      <td>1</td>\n",
       "      <td>2</td>\n",
       "      <td>0</td>\n",
       "      <td>105.92</td>\n",
       "      <td>32.500000</td>\n",
       "      <td>never smoked</td>\n",
       "      <td>1</td>\n",
       "    </tr>\n",
       "    <tr>\n",
       "      <th>60182</th>\n",
       "      <td>0</td>\n",
       "      <td>49.0</td>\n",
       "      <td>0</td>\n",
       "      <td>0</td>\n",
       "      <td>1</td>\n",
       "      <td>2</td>\n",
       "      <td>1</td>\n",
       "      <td>171.23</td>\n",
       "      <td>34.400000</td>\n",
       "      <td>smokes</td>\n",
       "      <td>1</td>\n",
       "    </tr>\n",
       "    <tr>\n",
       "      <th>1665</th>\n",
       "      <td>0</td>\n",
       "      <td>79.0</td>\n",
       "      <td>1</td>\n",
       "      <td>0</td>\n",
       "      <td>1</td>\n",
       "      <td>3</td>\n",
       "      <td>0</td>\n",
       "      <td>174.12</td>\n",
       "      <td>24.000000</td>\n",
       "      <td>never smoked</td>\n",
       "      <td>1</td>\n",
       "    </tr>\n",
       "  </tbody>\n",
       "</table>\n",
       "</div>"
      ],
      "text/plain": [
       "       gender   age  hypertension  heart_disease  ever_married  work_type  \\\n",
       "id                                                                          \n",
       "9046        1  67.0             0              1             1          2   \n",
       "51676       0  61.0             0              0             1          3   \n",
       "31112       1  80.0             0              1             1          2   \n",
       "60182       0  49.0             0              0             1          2   \n",
       "1665        0  79.0             1              0             1          3   \n",
       "\n",
       "       Residence_type  avg_glucose_level        bmi   smoking_status  stroke  \n",
       "id                                                                            \n",
       "9046                1             228.69  36.600000  formerly smoked       1  \n",
       "51676               0             202.21  28.893237     never smoked       1  \n",
       "31112               0             105.92  32.500000     never smoked       1  \n",
       "60182               1             171.23  34.400000           smokes       1  \n",
       "1665                0             174.12  24.000000     never smoked       1  "
      ]
     },
     "execution_count": 35,
     "metadata": {},
     "output_type": "execute_result"
    }
   ],
   "source": [
    "data.head()"
   ]
  },
  {
   "cell_type": "markdown",
   "metadata": {},
   "source": [
    "## Residence_type"
   ]
  },
  {
   "cell_type": "code",
   "execution_count": 36,
   "metadata": {},
   "outputs": [
    {
     "data": {
      "text/plain": [
       "array(['Unknown', 'formerly smoked', 'never smoked', 'smokes'],\n",
       "      dtype=object)"
      ]
     },
     "execution_count": 36,
     "metadata": {},
     "output_type": "execute_result"
    }
   ],
   "source": [
    "np.unique(data[\"smoking_status\"])"
   ]
  },
  {
   "cell_type": "code",
   "execution_count": 37,
   "metadata": {},
   "outputs": [],
   "source": [
    "data.loc[data[\"smoking_status\"] == \"Unknown\", \"smoking_status\"] = 0\n",
    "data.loc[data[\"smoking_status\"] == \"formerly smoked\", \"smoking_status\"] = 1\n",
    "data.loc[data[\"smoking_status\"] == \"never smoked\", \"smoking_status\"] = 2\n",
    "data.loc[data[\"smoking_status\"] == \"smokes\", \"smoking_status\"] = 3"
   ]
  },
  {
   "cell_type": "code",
   "execution_count": 38,
   "metadata": {},
   "outputs": [],
   "source": [
    "data[\"smoking_status\"] = data[\"smoking_status\"].astype(np.int32)"
   ]
  },
  {
   "cell_type": "code",
   "execution_count": 39,
   "metadata": {},
   "outputs": [
    {
     "data": {
      "text/plain": [
       "array([0, 1, 2, 3])"
      ]
     },
     "execution_count": 39,
     "metadata": {},
     "output_type": "execute_result"
    }
   ],
   "source": [
    "np.unique(data[\"smoking_status\"])"
   ]
  },
  {
   "cell_type": "code",
   "execution_count": 40,
   "metadata": {},
   "outputs": [
    {
     "data": {
      "text/html": [
       "<div>\n",
       "<style scoped>\n",
       "    .dataframe tbody tr th:only-of-type {\n",
       "        vertical-align: middle;\n",
       "    }\n",
       "\n",
       "    .dataframe tbody tr th {\n",
       "        vertical-align: top;\n",
       "    }\n",
       "\n",
       "    .dataframe thead th {\n",
       "        text-align: right;\n",
       "    }\n",
       "</style>\n",
       "<table border=\"1\" class=\"dataframe\">\n",
       "  <thead>\n",
       "    <tr style=\"text-align: right;\">\n",
       "      <th></th>\n",
       "      <th>gender</th>\n",
       "      <th>age</th>\n",
       "      <th>hypertension</th>\n",
       "      <th>heart_disease</th>\n",
       "      <th>ever_married</th>\n",
       "      <th>work_type</th>\n",
       "      <th>Residence_type</th>\n",
       "      <th>avg_glucose_level</th>\n",
       "      <th>bmi</th>\n",
       "      <th>smoking_status</th>\n",
       "      <th>stroke</th>\n",
       "    </tr>\n",
       "    <tr>\n",
       "      <th>id</th>\n",
       "      <th></th>\n",
       "      <th></th>\n",
       "      <th></th>\n",
       "      <th></th>\n",
       "      <th></th>\n",
       "      <th></th>\n",
       "      <th></th>\n",
       "      <th></th>\n",
       "      <th></th>\n",
       "      <th></th>\n",
       "      <th></th>\n",
       "    </tr>\n",
       "  </thead>\n",
       "  <tbody>\n",
       "    <tr>\n",
       "      <th>9046</th>\n",
       "      <td>1</td>\n",
       "      <td>67.0</td>\n",
       "      <td>0</td>\n",
       "      <td>1</td>\n",
       "      <td>1</td>\n",
       "      <td>2</td>\n",
       "      <td>1</td>\n",
       "      <td>228.69</td>\n",
       "      <td>36.600000</td>\n",
       "      <td>1</td>\n",
       "      <td>1</td>\n",
       "    </tr>\n",
       "    <tr>\n",
       "      <th>51676</th>\n",
       "      <td>0</td>\n",
       "      <td>61.0</td>\n",
       "      <td>0</td>\n",
       "      <td>0</td>\n",
       "      <td>1</td>\n",
       "      <td>3</td>\n",
       "      <td>0</td>\n",
       "      <td>202.21</td>\n",
       "      <td>28.893237</td>\n",
       "      <td>2</td>\n",
       "      <td>1</td>\n",
       "    </tr>\n",
       "    <tr>\n",
       "      <th>31112</th>\n",
       "      <td>1</td>\n",
       "      <td>80.0</td>\n",
       "      <td>0</td>\n",
       "      <td>1</td>\n",
       "      <td>1</td>\n",
       "      <td>2</td>\n",
       "      <td>0</td>\n",
       "      <td>105.92</td>\n",
       "      <td>32.500000</td>\n",
       "      <td>2</td>\n",
       "      <td>1</td>\n",
       "    </tr>\n",
       "    <tr>\n",
       "      <th>60182</th>\n",
       "      <td>0</td>\n",
       "      <td>49.0</td>\n",
       "      <td>0</td>\n",
       "      <td>0</td>\n",
       "      <td>1</td>\n",
       "      <td>2</td>\n",
       "      <td>1</td>\n",
       "      <td>171.23</td>\n",
       "      <td>34.400000</td>\n",
       "      <td>3</td>\n",
       "      <td>1</td>\n",
       "    </tr>\n",
       "    <tr>\n",
       "      <th>1665</th>\n",
       "      <td>0</td>\n",
       "      <td>79.0</td>\n",
       "      <td>1</td>\n",
       "      <td>0</td>\n",
       "      <td>1</td>\n",
       "      <td>3</td>\n",
       "      <td>0</td>\n",
       "      <td>174.12</td>\n",
       "      <td>24.000000</td>\n",
       "      <td>2</td>\n",
       "      <td>1</td>\n",
       "    </tr>\n",
       "  </tbody>\n",
       "</table>\n",
       "</div>"
      ],
      "text/plain": [
       "       gender   age  hypertension  heart_disease  ever_married  work_type  \\\n",
       "id                                                                          \n",
       "9046        1  67.0             0              1             1          2   \n",
       "51676       0  61.0             0              0             1          3   \n",
       "31112       1  80.0             0              1             1          2   \n",
       "60182       0  49.0             0              0             1          2   \n",
       "1665        0  79.0             1              0             1          3   \n",
       "\n",
       "       Residence_type  avg_glucose_level        bmi  smoking_status  stroke  \n",
       "id                                                                           \n",
       "9046                1             228.69  36.600000               1       1  \n",
       "51676               0             202.21  28.893237               2       1  \n",
       "31112               0             105.92  32.500000               2       1  \n",
       "60182               1             171.23  34.400000               3       1  \n",
       "1665                0             174.12  24.000000               2       1  "
      ]
     },
     "execution_count": 40,
     "metadata": {},
     "output_type": "execute_result"
    }
   ],
   "source": [
    "data.head()"
   ]
  },
  {
   "cell_type": "markdown",
   "metadata": {},
   "source": [
    "## stroke"
   ]
  },
  {
   "cell_type": "code",
   "execution_count": 41,
   "metadata": {},
   "outputs": [
    {
     "data": {
      "text/plain": [
       "array([0, 1], dtype=int64)"
      ]
     },
     "execution_count": 41,
     "metadata": {},
     "output_type": "execute_result"
    }
   ],
   "source": [
    "np.unique(data[\"stroke\"])"
   ]
  },
  {
   "cell_type": "markdown",
   "metadata": {},
   "source": [
    "# 数据预处理"
   ]
  },
  {
   "cell_type": "markdown",
   "metadata": {},
   "source": [
    "## 划分data和label"
   ]
  },
  {
   "cell_type": "code",
   "execution_count": 42,
   "metadata": {},
   "outputs": [
    {
     "data": {
      "text/plain": [
       "id\n",
       "9046     1\n",
       "51676    1\n",
       "31112    1\n",
       "60182    1\n",
       "1665     1\n",
       "Name: stroke, dtype: int64"
      ]
     },
     "execution_count": 42,
     "metadata": {},
     "output_type": "execute_result"
    }
   ],
   "source": [
    "label = data[\"stroke\"]\n",
    "label.head()"
   ]
  },
  {
   "cell_type": "code",
   "execution_count": 43,
   "metadata": {},
   "outputs": [
    {
     "data": {
      "text/html": [
       "<div>\n",
       "<style scoped>\n",
       "    .dataframe tbody tr th:only-of-type {\n",
       "        vertical-align: middle;\n",
       "    }\n",
       "\n",
       "    .dataframe tbody tr th {\n",
       "        vertical-align: top;\n",
       "    }\n",
       "\n",
       "    .dataframe thead th {\n",
       "        text-align: right;\n",
       "    }\n",
       "</style>\n",
       "<table border=\"1\" class=\"dataframe\">\n",
       "  <thead>\n",
       "    <tr style=\"text-align: right;\">\n",
       "      <th></th>\n",
       "      <th>gender</th>\n",
       "      <th>age</th>\n",
       "      <th>hypertension</th>\n",
       "      <th>heart_disease</th>\n",
       "      <th>ever_married</th>\n",
       "      <th>work_type</th>\n",
       "      <th>Residence_type</th>\n",
       "      <th>avg_glucose_level</th>\n",
       "      <th>bmi</th>\n",
       "      <th>smoking_status</th>\n",
       "    </tr>\n",
       "    <tr>\n",
       "      <th>id</th>\n",
       "      <th></th>\n",
       "      <th></th>\n",
       "      <th></th>\n",
       "      <th></th>\n",
       "      <th></th>\n",
       "      <th></th>\n",
       "      <th></th>\n",
       "      <th></th>\n",
       "      <th></th>\n",
       "      <th></th>\n",
       "    </tr>\n",
       "  </thead>\n",
       "  <tbody>\n",
       "    <tr>\n",
       "      <th>9046</th>\n",
       "      <td>1</td>\n",
       "      <td>67.0</td>\n",
       "      <td>0</td>\n",
       "      <td>1</td>\n",
       "      <td>1</td>\n",
       "      <td>2</td>\n",
       "      <td>1</td>\n",
       "      <td>228.69</td>\n",
       "      <td>36.600000</td>\n",
       "      <td>1</td>\n",
       "    </tr>\n",
       "    <tr>\n",
       "      <th>51676</th>\n",
       "      <td>0</td>\n",
       "      <td>61.0</td>\n",
       "      <td>0</td>\n",
       "      <td>0</td>\n",
       "      <td>1</td>\n",
       "      <td>3</td>\n",
       "      <td>0</td>\n",
       "      <td>202.21</td>\n",
       "      <td>28.893237</td>\n",
       "      <td>2</td>\n",
       "    </tr>\n",
       "    <tr>\n",
       "      <th>31112</th>\n",
       "      <td>1</td>\n",
       "      <td>80.0</td>\n",
       "      <td>0</td>\n",
       "      <td>1</td>\n",
       "      <td>1</td>\n",
       "      <td>2</td>\n",
       "      <td>0</td>\n",
       "      <td>105.92</td>\n",
       "      <td>32.500000</td>\n",
       "      <td>2</td>\n",
       "    </tr>\n",
       "    <tr>\n",
       "      <th>60182</th>\n",
       "      <td>0</td>\n",
       "      <td>49.0</td>\n",
       "      <td>0</td>\n",
       "      <td>0</td>\n",
       "      <td>1</td>\n",
       "      <td>2</td>\n",
       "      <td>1</td>\n",
       "      <td>171.23</td>\n",
       "      <td>34.400000</td>\n",
       "      <td>3</td>\n",
       "    </tr>\n",
       "    <tr>\n",
       "      <th>1665</th>\n",
       "      <td>0</td>\n",
       "      <td>79.0</td>\n",
       "      <td>1</td>\n",
       "      <td>0</td>\n",
       "      <td>1</td>\n",
       "      <td>3</td>\n",
       "      <td>0</td>\n",
       "      <td>174.12</td>\n",
       "      <td>24.000000</td>\n",
       "      <td>2</td>\n",
       "    </tr>\n",
       "  </tbody>\n",
       "</table>\n",
       "</div>"
      ],
      "text/plain": [
       "       gender   age  hypertension  heart_disease  ever_married  work_type  \\\n",
       "id                                                                          \n",
       "9046        1  67.0             0              1             1          2   \n",
       "51676       0  61.0             0              0             1          3   \n",
       "31112       1  80.0             0              1             1          2   \n",
       "60182       0  49.0             0              0             1          2   \n",
       "1665        0  79.0             1              0             1          3   \n",
       "\n",
       "       Residence_type  avg_glucose_level        bmi  smoking_status  \n",
       "id                                                                   \n",
       "9046                1             228.69  36.600000               1  \n",
       "51676               0             202.21  28.893237               2  \n",
       "31112               0             105.92  32.500000               2  \n",
       "60182               1             171.23  34.400000               3  \n",
       "1665                0             174.12  24.000000               2  "
      ]
     },
     "execution_count": 43,
     "metadata": {},
     "output_type": "execute_result"
    }
   ],
   "source": [
    "data.drop(\"stroke\", axis=1, inplace=True)\n",
    "data.head()"
   ]
  },
  {
   "cell_type": "markdown",
   "metadata": {},
   "source": [
    "## 标准化数据"
   ]
  },
  {
   "cell_type": "code",
   "execution_count": 44,
   "metadata": {},
   "outputs": [],
   "source": [
    "from sklearn.preprocessing import StandardScaler"
   ]
  },
  {
   "cell_type": "code",
   "execution_count": 45,
   "metadata": {},
   "outputs": [],
   "source": [
    "ss = StandardScaler()"
   ]
  },
  {
   "cell_type": "code",
   "execution_count": 46,
   "metadata": {},
   "outputs": [],
   "source": [
    "# data[[\"avg_glucose_level\", \"bmi\"]] = ss.fit_transform(data[[\"avg_glucose_level\", \"bmi\"]])"
   ]
  },
  {
   "cell_type": "code",
   "execution_count": 47,
   "metadata": {},
   "outputs": [
    {
     "data": {
      "text/html": [
       "<div>\n",
       "<style scoped>\n",
       "    .dataframe tbody tr th:only-of-type {\n",
       "        vertical-align: middle;\n",
       "    }\n",
       "\n",
       "    .dataframe tbody tr th {\n",
       "        vertical-align: top;\n",
       "    }\n",
       "\n",
       "    .dataframe thead th {\n",
       "        text-align: right;\n",
       "    }\n",
       "</style>\n",
       "<table border=\"1\" class=\"dataframe\">\n",
       "  <thead>\n",
       "    <tr style=\"text-align: right;\">\n",
       "      <th></th>\n",
       "      <th>gender</th>\n",
       "      <th>age</th>\n",
       "      <th>hypertension</th>\n",
       "      <th>heart_disease</th>\n",
       "      <th>ever_married</th>\n",
       "      <th>work_type</th>\n",
       "      <th>Residence_type</th>\n",
       "      <th>avg_glucose_level</th>\n",
       "      <th>bmi</th>\n",
       "      <th>smoking_status</th>\n",
       "    </tr>\n",
       "    <tr>\n",
       "      <th>id</th>\n",
       "      <th></th>\n",
       "      <th></th>\n",
       "      <th></th>\n",
       "      <th></th>\n",
       "      <th></th>\n",
       "      <th></th>\n",
       "      <th></th>\n",
       "      <th></th>\n",
       "      <th></th>\n",
       "      <th></th>\n",
       "    </tr>\n",
       "  </thead>\n",
       "  <tbody>\n",
       "    <tr>\n",
       "      <th>9046</th>\n",
       "      <td>1</td>\n",
       "      <td>67.0</td>\n",
       "      <td>0</td>\n",
       "      <td>1</td>\n",
       "      <td>1</td>\n",
       "      <td>2</td>\n",
       "      <td>1</td>\n",
       "      <td>228.69</td>\n",
       "      <td>36.600000</td>\n",
       "      <td>1</td>\n",
       "    </tr>\n",
       "    <tr>\n",
       "      <th>51676</th>\n",
       "      <td>0</td>\n",
       "      <td>61.0</td>\n",
       "      <td>0</td>\n",
       "      <td>0</td>\n",
       "      <td>1</td>\n",
       "      <td>3</td>\n",
       "      <td>0</td>\n",
       "      <td>202.21</td>\n",
       "      <td>28.893237</td>\n",
       "      <td>2</td>\n",
       "    </tr>\n",
       "    <tr>\n",
       "      <th>31112</th>\n",
       "      <td>1</td>\n",
       "      <td>80.0</td>\n",
       "      <td>0</td>\n",
       "      <td>1</td>\n",
       "      <td>1</td>\n",
       "      <td>2</td>\n",
       "      <td>0</td>\n",
       "      <td>105.92</td>\n",
       "      <td>32.500000</td>\n",
       "      <td>2</td>\n",
       "    </tr>\n",
       "    <tr>\n",
       "      <th>60182</th>\n",
       "      <td>0</td>\n",
       "      <td>49.0</td>\n",
       "      <td>0</td>\n",
       "      <td>0</td>\n",
       "      <td>1</td>\n",
       "      <td>2</td>\n",
       "      <td>1</td>\n",
       "      <td>171.23</td>\n",
       "      <td>34.400000</td>\n",
       "      <td>3</td>\n",
       "    </tr>\n",
       "    <tr>\n",
       "      <th>1665</th>\n",
       "      <td>0</td>\n",
       "      <td>79.0</td>\n",
       "      <td>1</td>\n",
       "      <td>0</td>\n",
       "      <td>1</td>\n",
       "      <td>3</td>\n",
       "      <td>0</td>\n",
       "      <td>174.12</td>\n",
       "      <td>24.000000</td>\n",
       "      <td>2</td>\n",
       "    </tr>\n",
       "  </tbody>\n",
       "</table>\n",
       "</div>"
      ],
      "text/plain": [
       "       gender   age  hypertension  heart_disease  ever_married  work_type  \\\n",
       "id                                                                          \n",
       "9046        1  67.0             0              1             1          2   \n",
       "51676       0  61.0             0              0             1          3   \n",
       "31112       1  80.0             0              1             1          2   \n",
       "60182       0  49.0             0              0             1          2   \n",
       "1665        0  79.0             1              0             1          3   \n",
       "\n",
       "       Residence_type  avg_glucose_level        bmi  smoking_status  \n",
       "id                                                                   \n",
       "9046                1             228.69  36.600000               1  \n",
       "51676               0             202.21  28.893237               2  \n",
       "31112               0             105.92  32.500000               2  \n",
       "60182               1             171.23  34.400000               3  \n",
       "1665                0             174.12  24.000000               2  "
      ]
     },
     "execution_count": 47,
     "metadata": {},
     "output_type": "execute_result"
    }
   ],
   "source": [
    "data.head()"
   ]
  },
  {
   "cell_type": "markdown",
   "metadata": {},
   "source": [
    "## train_test_split"
   ]
  },
  {
   "cell_type": "code",
   "execution_count": 48,
   "metadata": {},
   "outputs": [],
   "source": [
    "from sklearn.model_selection import train_test_split"
   ]
  },
  {
   "cell_type": "code",
   "execution_count": 49,
   "metadata": {},
   "outputs": [
    {
     "data": {
      "text/plain": [
       "((2555, 10), (2555, 10), (2555,), (2555,))"
      ]
     },
     "execution_count": 49,
     "metadata": {},
     "output_type": "execute_result"
    }
   ],
   "source": [
    "x_train, x_val, y_train, y_val = train_test_split(data, label, test_size=0.5, random_state=0)\n",
    "x_train.shape, x_val.shape, y_train.shape, y_val.shape"
   ]
  },
  {
   "cell_type": "markdown",
   "metadata": {},
   "source": [
    "# KNeighborsClassifier"
   ]
  },
  {
   "cell_type": "code",
   "execution_count": 50,
   "metadata": {},
   "outputs": [],
   "source": [
    "from sklearn.neighbors import KNeighborsClassifier"
   ]
  },
  {
   "cell_type": "code",
   "execution_count": 51,
   "metadata": {},
   "outputs": [
    {
     "data": {
      "text/html": [
       "<style>#sk-container-id-1 {color: black;}#sk-container-id-1 pre{padding: 0;}#sk-container-id-1 div.sk-toggleable {background-color: white;}#sk-container-id-1 label.sk-toggleable__label {cursor: pointer;display: block;width: 100%;margin-bottom: 0;padding: 0.3em;box-sizing: border-box;text-align: center;}#sk-container-id-1 label.sk-toggleable__label-arrow:before {content: \"▸\";float: left;margin-right: 0.25em;color: #696969;}#sk-container-id-1 label.sk-toggleable__label-arrow:hover:before {color: black;}#sk-container-id-1 div.sk-estimator:hover label.sk-toggleable__label-arrow:before {color: black;}#sk-container-id-1 div.sk-toggleable__content {max-height: 0;max-width: 0;overflow: hidden;text-align: left;background-color: #f0f8ff;}#sk-container-id-1 div.sk-toggleable__content pre {margin: 0.2em;color: black;border-radius: 0.25em;background-color: #f0f8ff;}#sk-container-id-1 input.sk-toggleable__control:checked~div.sk-toggleable__content {max-height: 200px;max-width: 100%;overflow: auto;}#sk-container-id-1 input.sk-toggleable__control:checked~label.sk-toggleable__label-arrow:before {content: \"▾\";}#sk-container-id-1 div.sk-estimator input.sk-toggleable__control:checked~label.sk-toggleable__label {background-color: #d4ebff;}#sk-container-id-1 div.sk-label input.sk-toggleable__control:checked~label.sk-toggleable__label {background-color: #d4ebff;}#sk-container-id-1 input.sk-hidden--visually {border: 0;clip: rect(1px 1px 1px 1px);clip: rect(1px, 1px, 1px, 1px);height: 1px;margin: -1px;overflow: hidden;padding: 0;position: absolute;width: 1px;}#sk-container-id-1 div.sk-estimator {font-family: monospace;background-color: #f0f8ff;border: 1px dotted black;border-radius: 0.25em;box-sizing: border-box;margin-bottom: 0.5em;}#sk-container-id-1 div.sk-estimator:hover {background-color: #d4ebff;}#sk-container-id-1 div.sk-parallel-item::after {content: \"\";width: 100%;border-bottom: 1px solid gray;flex-grow: 1;}#sk-container-id-1 div.sk-label:hover label.sk-toggleable__label {background-color: #d4ebff;}#sk-container-id-1 div.sk-serial::before {content: \"\";position: absolute;border-left: 1px solid gray;box-sizing: border-box;top: 0;bottom: 0;left: 50%;z-index: 0;}#sk-container-id-1 div.sk-serial {display: flex;flex-direction: column;align-items: center;background-color: white;padding-right: 0.2em;padding-left: 0.2em;position: relative;}#sk-container-id-1 div.sk-item {position: relative;z-index: 1;}#sk-container-id-1 div.sk-parallel {display: flex;align-items: stretch;justify-content: center;background-color: white;position: relative;}#sk-container-id-1 div.sk-item::before, #sk-container-id-1 div.sk-parallel-item::before {content: \"\";position: absolute;border-left: 1px solid gray;box-sizing: border-box;top: 0;bottom: 0;left: 50%;z-index: -1;}#sk-container-id-1 div.sk-parallel-item {display: flex;flex-direction: column;z-index: 1;position: relative;background-color: white;}#sk-container-id-1 div.sk-parallel-item:first-child::after {align-self: flex-end;width: 50%;}#sk-container-id-1 div.sk-parallel-item:last-child::after {align-self: flex-start;width: 50%;}#sk-container-id-1 div.sk-parallel-item:only-child::after {width: 0;}#sk-container-id-1 div.sk-dashed-wrapped {border: 1px dashed gray;margin: 0 0.4em 0.5em 0.4em;box-sizing: border-box;padding-bottom: 0.4em;background-color: white;}#sk-container-id-1 div.sk-label label {font-family: monospace;font-weight: bold;display: inline-block;line-height: 1.2em;}#sk-container-id-1 div.sk-label-container {text-align: center;}#sk-container-id-1 div.sk-container {/* jupyter's `normalize.less` sets `[hidden] { display: none; }` but bootstrap.min.css set `[hidden] { display: none !important; }` so we also need the `!important` here to be able to override the default hidden behavior on the sphinx rendered scikit-learn.org. See: https://github.com/scikit-learn/scikit-learn/issues/21755 */display: inline-block !important;position: relative;}#sk-container-id-1 div.sk-text-repr-fallback {display: none;}</style><div id=\"sk-container-id-1\" class=\"sk-top-container\"><div class=\"sk-text-repr-fallback\"><pre>KNeighborsClassifier()</pre><b>In a Jupyter environment, please rerun this cell to show the HTML representation or trust the notebook. <br />On GitHub, the HTML representation is unable to render, please try loading this page with nbviewer.org.</b></div><div class=\"sk-container\" hidden><div class=\"sk-item\"><div class=\"sk-estimator sk-toggleable\"><input class=\"sk-toggleable__control sk-hidden--visually\" id=\"sk-estimator-id-1\" type=\"checkbox\" checked><label for=\"sk-estimator-id-1\" class=\"sk-toggleable__label sk-toggleable__label-arrow\">KNeighborsClassifier</label><div class=\"sk-toggleable__content\"><pre>KNeighborsClassifier()</pre></div></div></div></div></div>"
      ],
      "text/plain": [
       "KNeighborsClassifier()"
      ]
     },
     "execution_count": 51,
     "metadata": {},
     "output_type": "execute_result"
    }
   ],
   "source": [
    "knnc = KNeighborsClassifier()\n",
    "knnc"
   ]
  },
  {
   "cell_type": "code",
   "execution_count": 52,
   "metadata": {},
   "outputs": [
    {
     "data": {
      "text/html": [
       "<style>#sk-container-id-2 {color: black;}#sk-container-id-2 pre{padding: 0;}#sk-container-id-2 div.sk-toggleable {background-color: white;}#sk-container-id-2 label.sk-toggleable__label {cursor: pointer;display: block;width: 100%;margin-bottom: 0;padding: 0.3em;box-sizing: border-box;text-align: center;}#sk-container-id-2 label.sk-toggleable__label-arrow:before {content: \"▸\";float: left;margin-right: 0.25em;color: #696969;}#sk-container-id-2 label.sk-toggleable__label-arrow:hover:before {color: black;}#sk-container-id-2 div.sk-estimator:hover label.sk-toggleable__label-arrow:before {color: black;}#sk-container-id-2 div.sk-toggleable__content {max-height: 0;max-width: 0;overflow: hidden;text-align: left;background-color: #f0f8ff;}#sk-container-id-2 div.sk-toggleable__content pre {margin: 0.2em;color: black;border-radius: 0.25em;background-color: #f0f8ff;}#sk-container-id-2 input.sk-toggleable__control:checked~div.sk-toggleable__content {max-height: 200px;max-width: 100%;overflow: auto;}#sk-container-id-2 input.sk-toggleable__control:checked~label.sk-toggleable__label-arrow:before {content: \"▾\";}#sk-container-id-2 div.sk-estimator input.sk-toggleable__control:checked~label.sk-toggleable__label {background-color: #d4ebff;}#sk-container-id-2 div.sk-label input.sk-toggleable__control:checked~label.sk-toggleable__label {background-color: #d4ebff;}#sk-container-id-2 input.sk-hidden--visually {border: 0;clip: rect(1px 1px 1px 1px);clip: rect(1px, 1px, 1px, 1px);height: 1px;margin: -1px;overflow: hidden;padding: 0;position: absolute;width: 1px;}#sk-container-id-2 div.sk-estimator {font-family: monospace;background-color: #f0f8ff;border: 1px dotted black;border-radius: 0.25em;box-sizing: border-box;margin-bottom: 0.5em;}#sk-container-id-2 div.sk-estimator:hover {background-color: #d4ebff;}#sk-container-id-2 div.sk-parallel-item::after {content: \"\";width: 100%;border-bottom: 1px solid gray;flex-grow: 1;}#sk-container-id-2 div.sk-label:hover label.sk-toggleable__label {background-color: #d4ebff;}#sk-container-id-2 div.sk-serial::before {content: \"\";position: absolute;border-left: 1px solid gray;box-sizing: border-box;top: 0;bottom: 0;left: 50%;z-index: 0;}#sk-container-id-2 div.sk-serial {display: flex;flex-direction: column;align-items: center;background-color: white;padding-right: 0.2em;padding-left: 0.2em;position: relative;}#sk-container-id-2 div.sk-item {position: relative;z-index: 1;}#sk-container-id-2 div.sk-parallel {display: flex;align-items: stretch;justify-content: center;background-color: white;position: relative;}#sk-container-id-2 div.sk-item::before, #sk-container-id-2 div.sk-parallel-item::before {content: \"\";position: absolute;border-left: 1px solid gray;box-sizing: border-box;top: 0;bottom: 0;left: 50%;z-index: -1;}#sk-container-id-2 div.sk-parallel-item {display: flex;flex-direction: column;z-index: 1;position: relative;background-color: white;}#sk-container-id-2 div.sk-parallel-item:first-child::after {align-self: flex-end;width: 50%;}#sk-container-id-2 div.sk-parallel-item:last-child::after {align-self: flex-start;width: 50%;}#sk-container-id-2 div.sk-parallel-item:only-child::after {width: 0;}#sk-container-id-2 div.sk-dashed-wrapped {border: 1px dashed gray;margin: 0 0.4em 0.5em 0.4em;box-sizing: border-box;padding-bottom: 0.4em;background-color: white;}#sk-container-id-2 div.sk-label label {font-family: monospace;font-weight: bold;display: inline-block;line-height: 1.2em;}#sk-container-id-2 div.sk-label-container {text-align: center;}#sk-container-id-2 div.sk-container {/* jupyter's `normalize.less` sets `[hidden] { display: none; }` but bootstrap.min.css set `[hidden] { display: none !important; }` so we also need the `!important` here to be able to override the default hidden behavior on the sphinx rendered scikit-learn.org. See: https://github.com/scikit-learn/scikit-learn/issues/21755 */display: inline-block !important;position: relative;}#sk-container-id-2 div.sk-text-repr-fallback {display: none;}</style><div id=\"sk-container-id-2\" class=\"sk-top-container\"><div class=\"sk-text-repr-fallback\"><pre>KNeighborsClassifier()</pre><b>In a Jupyter environment, please rerun this cell to show the HTML representation or trust the notebook. <br />On GitHub, the HTML representation is unable to render, please try loading this page with nbviewer.org.</b></div><div class=\"sk-container\" hidden><div class=\"sk-item\"><div class=\"sk-estimator sk-toggleable\"><input class=\"sk-toggleable__control sk-hidden--visually\" id=\"sk-estimator-id-2\" type=\"checkbox\" checked><label for=\"sk-estimator-id-2\" class=\"sk-toggleable__label sk-toggleable__label-arrow\">KNeighborsClassifier</label><div class=\"sk-toggleable__content\"><pre>KNeighborsClassifier()</pre></div></div></div></div></div>"
      ],
      "text/plain": [
       "KNeighborsClassifier()"
      ]
     },
     "execution_count": 52,
     "metadata": {},
     "output_type": "execute_result"
    }
   ],
   "source": [
    "knnc.fit(x_train, y_train)"
   ]
  },
  {
   "cell_type": "code",
   "execution_count": 53,
   "metadata": {},
   "outputs": [
    {
     "data": {
      "text/plain": [
       "0.9467710371819961"
      ]
     },
     "execution_count": 53,
     "metadata": {},
     "output_type": "execute_result"
    }
   ],
   "source": [
    "knnc.score(x_val, y_val)"
   ]
  },
  {
   "cell_type": "code",
   "execution_count": 54,
   "metadata": {},
   "outputs": [
    {
     "data": {
      "text/plain": [
       "array([0, 0, 0, ..., 0, 0, 0], dtype=int64)"
      ]
     },
     "execution_count": 54,
     "metadata": {},
     "output_type": "execute_result"
    }
   ],
   "source": [
    "knnc.predict(x_val)"
   ]
  },
  {
   "cell_type": "markdown",
   "metadata": {},
   "source": [
    "# SVC"
   ]
  },
  {
   "cell_type": "code",
   "execution_count": 55,
   "metadata": {},
   "outputs": [],
   "source": [
    "from sklearn.svm import SVC"
   ]
  },
  {
   "cell_type": "code",
   "execution_count": 56,
   "metadata": {},
   "outputs": [
    {
     "data": {
      "text/html": [
       "<style>#sk-container-id-3 {color: black;}#sk-container-id-3 pre{padding: 0;}#sk-container-id-3 div.sk-toggleable {background-color: white;}#sk-container-id-3 label.sk-toggleable__label {cursor: pointer;display: block;width: 100%;margin-bottom: 0;padding: 0.3em;box-sizing: border-box;text-align: center;}#sk-container-id-3 label.sk-toggleable__label-arrow:before {content: \"▸\";float: left;margin-right: 0.25em;color: #696969;}#sk-container-id-3 label.sk-toggleable__label-arrow:hover:before {color: black;}#sk-container-id-3 div.sk-estimator:hover label.sk-toggleable__label-arrow:before {color: black;}#sk-container-id-3 div.sk-toggleable__content {max-height: 0;max-width: 0;overflow: hidden;text-align: left;background-color: #f0f8ff;}#sk-container-id-3 div.sk-toggleable__content pre {margin: 0.2em;color: black;border-radius: 0.25em;background-color: #f0f8ff;}#sk-container-id-3 input.sk-toggleable__control:checked~div.sk-toggleable__content {max-height: 200px;max-width: 100%;overflow: auto;}#sk-container-id-3 input.sk-toggleable__control:checked~label.sk-toggleable__label-arrow:before {content: \"▾\";}#sk-container-id-3 div.sk-estimator input.sk-toggleable__control:checked~label.sk-toggleable__label {background-color: #d4ebff;}#sk-container-id-3 div.sk-label input.sk-toggleable__control:checked~label.sk-toggleable__label {background-color: #d4ebff;}#sk-container-id-3 input.sk-hidden--visually {border: 0;clip: rect(1px 1px 1px 1px);clip: rect(1px, 1px, 1px, 1px);height: 1px;margin: -1px;overflow: hidden;padding: 0;position: absolute;width: 1px;}#sk-container-id-3 div.sk-estimator {font-family: monospace;background-color: #f0f8ff;border: 1px dotted black;border-radius: 0.25em;box-sizing: border-box;margin-bottom: 0.5em;}#sk-container-id-3 div.sk-estimator:hover {background-color: #d4ebff;}#sk-container-id-3 div.sk-parallel-item::after {content: \"\";width: 100%;border-bottom: 1px solid gray;flex-grow: 1;}#sk-container-id-3 div.sk-label:hover label.sk-toggleable__label {background-color: #d4ebff;}#sk-container-id-3 div.sk-serial::before {content: \"\";position: absolute;border-left: 1px solid gray;box-sizing: border-box;top: 0;bottom: 0;left: 50%;z-index: 0;}#sk-container-id-3 div.sk-serial {display: flex;flex-direction: column;align-items: center;background-color: white;padding-right: 0.2em;padding-left: 0.2em;position: relative;}#sk-container-id-3 div.sk-item {position: relative;z-index: 1;}#sk-container-id-3 div.sk-parallel {display: flex;align-items: stretch;justify-content: center;background-color: white;position: relative;}#sk-container-id-3 div.sk-item::before, #sk-container-id-3 div.sk-parallel-item::before {content: \"\";position: absolute;border-left: 1px solid gray;box-sizing: border-box;top: 0;bottom: 0;left: 50%;z-index: -1;}#sk-container-id-3 div.sk-parallel-item {display: flex;flex-direction: column;z-index: 1;position: relative;background-color: white;}#sk-container-id-3 div.sk-parallel-item:first-child::after {align-self: flex-end;width: 50%;}#sk-container-id-3 div.sk-parallel-item:last-child::after {align-self: flex-start;width: 50%;}#sk-container-id-3 div.sk-parallel-item:only-child::after {width: 0;}#sk-container-id-3 div.sk-dashed-wrapped {border: 1px dashed gray;margin: 0 0.4em 0.5em 0.4em;box-sizing: border-box;padding-bottom: 0.4em;background-color: white;}#sk-container-id-3 div.sk-label label {font-family: monospace;font-weight: bold;display: inline-block;line-height: 1.2em;}#sk-container-id-3 div.sk-label-container {text-align: center;}#sk-container-id-3 div.sk-container {/* jupyter's `normalize.less` sets `[hidden] { display: none; }` but bootstrap.min.css set `[hidden] { display: none !important; }` so we also need the `!important` here to be able to override the default hidden behavior on the sphinx rendered scikit-learn.org. See: https://github.com/scikit-learn/scikit-learn/issues/21755 */display: inline-block !important;position: relative;}#sk-container-id-3 div.sk-text-repr-fallback {display: none;}</style><div id=\"sk-container-id-3\" class=\"sk-top-container\"><div class=\"sk-text-repr-fallback\"><pre>SVC()</pre><b>In a Jupyter environment, please rerun this cell to show the HTML representation or trust the notebook. <br />On GitHub, the HTML representation is unable to render, please try loading this page with nbviewer.org.</b></div><div class=\"sk-container\" hidden><div class=\"sk-item\"><div class=\"sk-estimator sk-toggleable\"><input class=\"sk-toggleable__control sk-hidden--visually\" id=\"sk-estimator-id-3\" type=\"checkbox\" checked><label for=\"sk-estimator-id-3\" class=\"sk-toggleable__label sk-toggleable__label-arrow\">SVC</label><div class=\"sk-toggleable__content\"><pre>SVC()</pre></div></div></div></div></div>"
      ],
      "text/plain": [
       "SVC()"
      ]
     },
     "execution_count": 56,
     "metadata": {},
     "output_type": "execute_result"
    }
   ],
   "source": [
    "svc = SVC()\n",
    "svc"
   ]
  },
  {
   "cell_type": "code",
   "execution_count": 57,
   "metadata": {},
   "outputs": [
    {
     "data": {
      "text/html": [
       "<style>#sk-container-id-4 {color: black;}#sk-container-id-4 pre{padding: 0;}#sk-container-id-4 div.sk-toggleable {background-color: white;}#sk-container-id-4 label.sk-toggleable__label {cursor: pointer;display: block;width: 100%;margin-bottom: 0;padding: 0.3em;box-sizing: border-box;text-align: center;}#sk-container-id-4 label.sk-toggleable__label-arrow:before {content: \"▸\";float: left;margin-right: 0.25em;color: #696969;}#sk-container-id-4 label.sk-toggleable__label-arrow:hover:before {color: black;}#sk-container-id-4 div.sk-estimator:hover label.sk-toggleable__label-arrow:before {color: black;}#sk-container-id-4 div.sk-toggleable__content {max-height: 0;max-width: 0;overflow: hidden;text-align: left;background-color: #f0f8ff;}#sk-container-id-4 div.sk-toggleable__content pre {margin: 0.2em;color: black;border-radius: 0.25em;background-color: #f0f8ff;}#sk-container-id-4 input.sk-toggleable__control:checked~div.sk-toggleable__content {max-height: 200px;max-width: 100%;overflow: auto;}#sk-container-id-4 input.sk-toggleable__control:checked~label.sk-toggleable__label-arrow:before {content: \"▾\";}#sk-container-id-4 div.sk-estimator input.sk-toggleable__control:checked~label.sk-toggleable__label {background-color: #d4ebff;}#sk-container-id-4 div.sk-label input.sk-toggleable__control:checked~label.sk-toggleable__label {background-color: #d4ebff;}#sk-container-id-4 input.sk-hidden--visually {border: 0;clip: rect(1px 1px 1px 1px);clip: rect(1px, 1px, 1px, 1px);height: 1px;margin: -1px;overflow: hidden;padding: 0;position: absolute;width: 1px;}#sk-container-id-4 div.sk-estimator {font-family: monospace;background-color: #f0f8ff;border: 1px dotted black;border-radius: 0.25em;box-sizing: border-box;margin-bottom: 0.5em;}#sk-container-id-4 div.sk-estimator:hover {background-color: #d4ebff;}#sk-container-id-4 div.sk-parallel-item::after {content: \"\";width: 100%;border-bottom: 1px solid gray;flex-grow: 1;}#sk-container-id-4 div.sk-label:hover label.sk-toggleable__label {background-color: #d4ebff;}#sk-container-id-4 div.sk-serial::before {content: \"\";position: absolute;border-left: 1px solid gray;box-sizing: border-box;top: 0;bottom: 0;left: 50%;z-index: 0;}#sk-container-id-4 div.sk-serial {display: flex;flex-direction: column;align-items: center;background-color: white;padding-right: 0.2em;padding-left: 0.2em;position: relative;}#sk-container-id-4 div.sk-item {position: relative;z-index: 1;}#sk-container-id-4 div.sk-parallel {display: flex;align-items: stretch;justify-content: center;background-color: white;position: relative;}#sk-container-id-4 div.sk-item::before, #sk-container-id-4 div.sk-parallel-item::before {content: \"\";position: absolute;border-left: 1px solid gray;box-sizing: border-box;top: 0;bottom: 0;left: 50%;z-index: -1;}#sk-container-id-4 div.sk-parallel-item {display: flex;flex-direction: column;z-index: 1;position: relative;background-color: white;}#sk-container-id-4 div.sk-parallel-item:first-child::after {align-self: flex-end;width: 50%;}#sk-container-id-4 div.sk-parallel-item:last-child::after {align-self: flex-start;width: 50%;}#sk-container-id-4 div.sk-parallel-item:only-child::after {width: 0;}#sk-container-id-4 div.sk-dashed-wrapped {border: 1px dashed gray;margin: 0 0.4em 0.5em 0.4em;box-sizing: border-box;padding-bottom: 0.4em;background-color: white;}#sk-container-id-4 div.sk-label label {font-family: monospace;font-weight: bold;display: inline-block;line-height: 1.2em;}#sk-container-id-4 div.sk-label-container {text-align: center;}#sk-container-id-4 div.sk-container {/* jupyter's `normalize.less` sets `[hidden] { display: none; }` but bootstrap.min.css set `[hidden] { display: none !important; }` so we also need the `!important` here to be able to override the default hidden behavior on the sphinx rendered scikit-learn.org. See: https://github.com/scikit-learn/scikit-learn/issues/21755 */display: inline-block !important;position: relative;}#sk-container-id-4 div.sk-text-repr-fallback {display: none;}</style><div id=\"sk-container-id-4\" class=\"sk-top-container\"><div class=\"sk-text-repr-fallback\"><pre>SVC()</pre><b>In a Jupyter environment, please rerun this cell to show the HTML representation or trust the notebook. <br />On GitHub, the HTML representation is unable to render, please try loading this page with nbviewer.org.</b></div><div class=\"sk-container\" hidden><div class=\"sk-item\"><div class=\"sk-estimator sk-toggleable\"><input class=\"sk-toggleable__control sk-hidden--visually\" id=\"sk-estimator-id-4\" type=\"checkbox\" checked><label for=\"sk-estimator-id-4\" class=\"sk-toggleable__label sk-toggleable__label-arrow\">SVC</label><div class=\"sk-toggleable__content\"><pre>SVC()</pre></div></div></div></div></div>"
      ],
      "text/plain": [
       "SVC()"
      ]
     },
     "execution_count": 57,
     "metadata": {},
     "output_type": "execute_result"
    }
   ],
   "source": [
    "svc.fit(x_train, y_train)"
   ]
  },
  {
   "cell_type": "code",
   "execution_count": 58,
   "metadata": {},
   "outputs": [
    {
     "data": {
      "text/plain": [
       "0.9522504892367906"
      ]
     },
     "execution_count": 58,
     "metadata": {},
     "output_type": "execute_result"
    }
   ],
   "source": [
    "svc.score(x_val, y_val)"
   ]
  },
  {
   "cell_type": "code",
   "execution_count": 59,
   "metadata": {},
   "outputs": [
    {
     "data": {
      "text/plain": [
       "array([0, 0, 0, ..., 0, 0, 0], dtype=int64)"
      ]
     },
     "execution_count": 59,
     "metadata": {},
     "output_type": "execute_result"
    }
   ],
   "source": [
    "svc.predict(x_val)"
   ]
  },
  {
   "cell_type": "markdown",
   "metadata": {},
   "source": [
    "# DecisionTreeClassifier"
   ]
  },
  {
   "cell_type": "code",
   "execution_count": 60,
   "metadata": {},
   "outputs": [],
   "source": [
    "from sklearn.tree import DecisionTreeClassifier"
   ]
  },
  {
   "cell_type": "code",
   "execution_count": 61,
   "metadata": {},
   "outputs": [
    {
     "data": {
      "text/html": [
       "<style>#sk-container-id-5 {color: black;}#sk-container-id-5 pre{padding: 0;}#sk-container-id-5 div.sk-toggleable {background-color: white;}#sk-container-id-5 label.sk-toggleable__label {cursor: pointer;display: block;width: 100%;margin-bottom: 0;padding: 0.3em;box-sizing: border-box;text-align: center;}#sk-container-id-5 label.sk-toggleable__label-arrow:before {content: \"▸\";float: left;margin-right: 0.25em;color: #696969;}#sk-container-id-5 label.sk-toggleable__label-arrow:hover:before {color: black;}#sk-container-id-5 div.sk-estimator:hover label.sk-toggleable__label-arrow:before {color: black;}#sk-container-id-5 div.sk-toggleable__content {max-height: 0;max-width: 0;overflow: hidden;text-align: left;background-color: #f0f8ff;}#sk-container-id-5 div.sk-toggleable__content pre {margin: 0.2em;color: black;border-radius: 0.25em;background-color: #f0f8ff;}#sk-container-id-5 input.sk-toggleable__control:checked~div.sk-toggleable__content {max-height: 200px;max-width: 100%;overflow: auto;}#sk-container-id-5 input.sk-toggleable__control:checked~label.sk-toggleable__label-arrow:before {content: \"▾\";}#sk-container-id-5 div.sk-estimator input.sk-toggleable__control:checked~label.sk-toggleable__label {background-color: #d4ebff;}#sk-container-id-5 div.sk-label input.sk-toggleable__control:checked~label.sk-toggleable__label {background-color: #d4ebff;}#sk-container-id-5 input.sk-hidden--visually {border: 0;clip: rect(1px 1px 1px 1px);clip: rect(1px, 1px, 1px, 1px);height: 1px;margin: -1px;overflow: hidden;padding: 0;position: absolute;width: 1px;}#sk-container-id-5 div.sk-estimator {font-family: monospace;background-color: #f0f8ff;border: 1px dotted black;border-radius: 0.25em;box-sizing: border-box;margin-bottom: 0.5em;}#sk-container-id-5 div.sk-estimator:hover {background-color: #d4ebff;}#sk-container-id-5 div.sk-parallel-item::after {content: \"\";width: 100%;border-bottom: 1px solid gray;flex-grow: 1;}#sk-container-id-5 div.sk-label:hover label.sk-toggleable__label {background-color: #d4ebff;}#sk-container-id-5 div.sk-serial::before {content: \"\";position: absolute;border-left: 1px solid gray;box-sizing: border-box;top: 0;bottom: 0;left: 50%;z-index: 0;}#sk-container-id-5 div.sk-serial {display: flex;flex-direction: column;align-items: center;background-color: white;padding-right: 0.2em;padding-left: 0.2em;position: relative;}#sk-container-id-5 div.sk-item {position: relative;z-index: 1;}#sk-container-id-5 div.sk-parallel {display: flex;align-items: stretch;justify-content: center;background-color: white;position: relative;}#sk-container-id-5 div.sk-item::before, #sk-container-id-5 div.sk-parallel-item::before {content: \"\";position: absolute;border-left: 1px solid gray;box-sizing: border-box;top: 0;bottom: 0;left: 50%;z-index: -1;}#sk-container-id-5 div.sk-parallel-item {display: flex;flex-direction: column;z-index: 1;position: relative;background-color: white;}#sk-container-id-5 div.sk-parallel-item:first-child::after {align-self: flex-end;width: 50%;}#sk-container-id-5 div.sk-parallel-item:last-child::after {align-self: flex-start;width: 50%;}#sk-container-id-5 div.sk-parallel-item:only-child::after {width: 0;}#sk-container-id-5 div.sk-dashed-wrapped {border: 1px dashed gray;margin: 0 0.4em 0.5em 0.4em;box-sizing: border-box;padding-bottom: 0.4em;background-color: white;}#sk-container-id-5 div.sk-label label {font-family: monospace;font-weight: bold;display: inline-block;line-height: 1.2em;}#sk-container-id-5 div.sk-label-container {text-align: center;}#sk-container-id-5 div.sk-container {/* jupyter's `normalize.less` sets `[hidden] { display: none; }` but bootstrap.min.css set `[hidden] { display: none !important; }` so we also need the `!important` here to be able to override the default hidden behavior on the sphinx rendered scikit-learn.org. See: https://github.com/scikit-learn/scikit-learn/issues/21755 */display: inline-block !important;position: relative;}#sk-container-id-5 div.sk-text-repr-fallback {display: none;}</style><div id=\"sk-container-id-5\" class=\"sk-top-container\"><div class=\"sk-text-repr-fallback\"><pre>DecisionTreeClassifier()</pre><b>In a Jupyter environment, please rerun this cell to show the HTML representation or trust the notebook. <br />On GitHub, the HTML representation is unable to render, please try loading this page with nbviewer.org.</b></div><div class=\"sk-container\" hidden><div class=\"sk-item\"><div class=\"sk-estimator sk-toggleable\"><input class=\"sk-toggleable__control sk-hidden--visually\" id=\"sk-estimator-id-5\" type=\"checkbox\" checked><label for=\"sk-estimator-id-5\" class=\"sk-toggleable__label sk-toggleable__label-arrow\">DecisionTreeClassifier</label><div class=\"sk-toggleable__content\"><pre>DecisionTreeClassifier()</pre></div></div></div></div></div>"
      ],
      "text/plain": [
       "DecisionTreeClassifier()"
      ]
     },
     "execution_count": 61,
     "metadata": {},
     "output_type": "execute_result"
    }
   ],
   "source": [
    "dtc = DecisionTreeClassifier()\n",
    "dtc"
   ]
  },
  {
   "cell_type": "code",
   "execution_count": 62,
   "metadata": {},
   "outputs": [
    {
     "data": {
      "text/html": [
       "<style>#sk-container-id-6 {color: black;}#sk-container-id-6 pre{padding: 0;}#sk-container-id-6 div.sk-toggleable {background-color: white;}#sk-container-id-6 label.sk-toggleable__label {cursor: pointer;display: block;width: 100%;margin-bottom: 0;padding: 0.3em;box-sizing: border-box;text-align: center;}#sk-container-id-6 label.sk-toggleable__label-arrow:before {content: \"▸\";float: left;margin-right: 0.25em;color: #696969;}#sk-container-id-6 label.sk-toggleable__label-arrow:hover:before {color: black;}#sk-container-id-6 div.sk-estimator:hover label.sk-toggleable__label-arrow:before {color: black;}#sk-container-id-6 div.sk-toggleable__content {max-height: 0;max-width: 0;overflow: hidden;text-align: left;background-color: #f0f8ff;}#sk-container-id-6 div.sk-toggleable__content pre {margin: 0.2em;color: black;border-radius: 0.25em;background-color: #f0f8ff;}#sk-container-id-6 input.sk-toggleable__control:checked~div.sk-toggleable__content {max-height: 200px;max-width: 100%;overflow: auto;}#sk-container-id-6 input.sk-toggleable__control:checked~label.sk-toggleable__label-arrow:before {content: \"▾\";}#sk-container-id-6 div.sk-estimator input.sk-toggleable__control:checked~label.sk-toggleable__label {background-color: #d4ebff;}#sk-container-id-6 div.sk-label input.sk-toggleable__control:checked~label.sk-toggleable__label {background-color: #d4ebff;}#sk-container-id-6 input.sk-hidden--visually {border: 0;clip: rect(1px 1px 1px 1px);clip: rect(1px, 1px, 1px, 1px);height: 1px;margin: -1px;overflow: hidden;padding: 0;position: absolute;width: 1px;}#sk-container-id-6 div.sk-estimator {font-family: monospace;background-color: #f0f8ff;border: 1px dotted black;border-radius: 0.25em;box-sizing: border-box;margin-bottom: 0.5em;}#sk-container-id-6 div.sk-estimator:hover {background-color: #d4ebff;}#sk-container-id-6 div.sk-parallel-item::after {content: \"\";width: 100%;border-bottom: 1px solid gray;flex-grow: 1;}#sk-container-id-6 div.sk-label:hover label.sk-toggleable__label {background-color: #d4ebff;}#sk-container-id-6 div.sk-serial::before {content: \"\";position: absolute;border-left: 1px solid gray;box-sizing: border-box;top: 0;bottom: 0;left: 50%;z-index: 0;}#sk-container-id-6 div.sk-serial {display: flex;flex-direction: column;align-items: center;background-color: white;padding-right: 0.2em;padding-left: 0.2em;position: relative;}#sk-container-id-6 div.sk-item {position: relative;z-index: 1;}#sk-container-id-6 div.sk-parallel {display: flex;align-items: stretch;justify-content: center;background-color: white;position: relative;}#sk-container-id-6 div.sk-item::before, #sk-container-id-6 div.sk-parallel-item::before {content: \"\";position: absolute;border-left: 1px solid gray;box-sizing: border-box;top: 0;bottom: 0;left: 50%;z-index: -1;}#sk-container-id-6 div.sk-parallel-item {display: flex;flex-direction: column;z-index: 1;position: relative;background-color: white;}#sk-container-id-6 div.sk-parallel-item:first-child::after {align-self: flex-end;width: 50%;}#sk-container-id-6 div.sk-parallel-item:last-child::after {align-self: flex-start;width: 50%;}#sk-container-id-6 div.sk-parallel-item:only-child::after {width: 0;}#sk-container-id-6 div.sk-dashed-wrapped {border: 1px dashed gray;margin: 0 0.4em 0.5em 0.4em;box-sizing: border-box;padding-bottom: 0.4em;background-color: white;}#sk-container-id-6 div.sk-label label {font-family: monospace;font-weight: bold;display: inline-block;line-height: 1.2em;}#sk-container-id-6 div.sk-label-container {text-align: center;}#sk-container-id-6 div.sk-container {/* jupyter's `normalize.less` sets `[hidden] { display: none; }` but bootstrap.min.css set `[hidden] { display: none !important; }` so we also need the `!important` here to be able to override the default hidden behavior on the sphinx rendered scikit-learn.org. See: https://github.com/scikit-learn/scikit-learn/issues/21755 */display: inline-block !important;position: relative;}#sk-container-id-6 div.sk-text-repr-fallback {display: none;}</style><div id=\"sk-container-id-6\" class=\"sk-top-container\"><div class=\"sk-text-repr-fallback\"><pre>DecisionTreeClassifier()</pre><b>In a Jupyter environment, please rerun this cell to show the HTML representation or trust the notebook. <br />On GitHub, the HTML representation is unable to render, please try loading this page with nbviewer.org.</b></div><div class=\"sk-container\" hidden><div class=\"sk-item\"><div class=\"sk-estimator sk-toggleable\"><input class=\"sk-toggleable__control sk-hidden--visually\" id=\"sk-estimator-id-6\" type=\"checkbox\" checked><label for=\"sk-estimator-id-6\" class=\"sk-toggleable__label sk-toggleable__label-arrow\">DecisionTreeClassifier</label><div class=\"sk-toggleable__content\"><pre>DecisionTreeClassifier()</pre></div></div></div></div></div>"
      ],
      "text/plain": [
       "DecisionTreeClassifier()"
      ]
     },
     "execution_count": 62,
     "metadata": {},
     "output_type": "execute_result"
    }
   ],
   "source": [
    "dtc.fit(x_train, y_train)"
   ]
  },
  {
   "cell_type": "code",
   "execution_count": 63,
   "metadata": {},
   "outputs": [
    {
     "data": {
      "text/plain": [
       "0.9178082191780822"
      ]
     },
     "execution_count": 63,
     "metadata": {},
     "output_type": "execute_result"
    }
   ],
   "source": [
    "dtc.score(x_val, y_val)"
   ]
  },
  {
   "cell_type": "code",
   "execution_count": 64,
   "metadata": {},
   "outputs": [
    {
     "data": {
      "text/plain": [
       "array([0, 0, 0, ..., 0, 0, 0], dtype=int64)"
      ]
     },
     "execution_count": 64,
     "metadata": {},
     "output_type": "execute_result"
    }
   ],
   "source": [
    "dtc.predict(x_val)"
   ]
  },
  {
   "cell_type": "markdown",
   "metadata": {},
   "source": [
    "# RandomForestClassifier"
   ]
  },
  {
   "cell_type": "code",
   "execution_count": 65,
   "metadata": {},
   "outputs": [],
   "source": [
    "from sklearn.ensemble import RandomForestClassifier"
   ]
  },
  {
   "cell_type": "code",
   "execution_count": 66,
   "metadata": {},
   "outputs": [
    {
     "data": {
      "text/html": [
       "<style>#sk-container-id-7 {color: black;}#sk-container-id-7 pre{padding: 0;}#sk-container-id-7 div.sk-toggleable {background-color: white;}#sk-container-id-7 label.sk-toggleable__label {cursor: pointer;display: block;width: 100%;margin-bottom: 0;padding: 0.3em;box-sizing: border-box;text-align: center;}#sk-container-id-7 label.sk-toggleable__label-arrow:before {content: \"▸\";float: left;margin-right: 0.25em;color: #696969;}#sk-container-id-7 label.sk-toggleable__label-arrow:hover:before {color: black;}#sk-container-id-7 div.sk-estimator:hover label.sk-toggleable__label-arrow:before {color: black;}#sk-container-id-7 div.sk-toggleable__content {max-height: 0;max-width: 0;overflow: hidden;text-align: left;background-color: #f0f8ff;}#sk-container-id-7 div.sk-toggleable__content pre {margin: 0.2em;color: black;border-radius: 0.25em;background-color: #f0f8ff;}#sk-container-id-7 input.sk-toggleable__control:checked~div.sk-toggleable__content {max-height: 200px;max-width: 100%;overflow: auto;}#sk-container-id-7 input.sk-toggleable__control:checked~label.sk-toggleable__label-arrow:before {content: \"▾\";}#sk-container-id-7 div.sk-estimator input.sk-toggleable__control:checked~label.sk-toggleable__label {background-color: #d4ebff;}#sk-container-id-7 div.sk-label input.sk-toggleable__control:checked~label.sk-toggleable__label {background-color: #d4ebff;}#sk-container-id-7 input.sk-hidden--visually {border: 0;clip: rect(1px 1px 1px 1px);clip: rect(1px, 1px, 1px, 1px);height: 1px;margin: -1px;overflow: hidden;padding: 0;position: absolute;width: 1px;}#sk-container-id-7 div.sk-estimator {font-family: monospace;background-color: #f0f8ff;border: 1px dotted black;border-radius: 0.25em;box-sizing: border-box;margin-bottom: 0.5em;}#sk-container-id-7 div.sk-estimator:hover {background-color: #d4ebff;}#sk-container-id-7 div.sk-parallel-item::after {content: \"\";width: 100%;border-bottom: 1px solid gray;flex-grow: 1;}#sk-container-id-7 div.sk-label:hover label.sk-toggleable__label {background-color: #d4ebff;}#sk-container-id-7 div.sk-serial::before {content: \"\";position: absolute;border-left: 1px solid gray;box-sizing: border-box;top: 0;bottom: 0;left: 50%;z-index: 0;}#sk-container-id-7 div.sk-serial {display: flex;flex-direction: column;align-items: center;background-color: white;padding-right: 0.2em;padding-left: 0.2em;position: relative;}#sk-container-id-7 div.sk-item {position: relative;z-index: 1;}#sk-container-id-7 div.sk-parallel {display: flex;align-items: stretch;justify-content: center;background-color: white;position: relative;}#sk-container-id-7 div.sk-item::before, #sk-container-id-7 div.sk-parallel-item::before {content: \"\";position: absolute;border-left: 1px solid gray;box-sizing: border-box;top: 0;bottom: 0;left: 50%;z-index: -1;}#sk-container-id-7 div.sk-parallel-item {display: flex;flex-direction: column;z-index: 1;position: relative;background-color: white;}#sk-container-id-7 div.sk-parallel-item:first-child::after {align-self: flex-end;width: 50%;}#sk-container-id-7 div.sk-parallel-item:last-child::after {align-self: flex-start;width: 50%;}#sk-container-id-7 div.sk-parallel-item:only-child::after {width: 0;}#sk-container-id-7 div.sk-dashed-wrapped {border: 1px dashed gray;margin: 0 0.4em 0.5em 0.4em;box-sizing: border-box;padding-bottom: 0.4em;background-color: white;}#sk-container-id-7 div.sk-label label {font-family: monospace;font-weight: bold;display: inline-block;line-height: 1.2em;}#sk-container-id-7 div.sk-label-container {text-align: center;}#sk-container-id-7 div.sk-container {/* jupyter's `normalize.less` sets `[hidden] { display: none; }` but bootstrap.min.css set `[hidden] { display: none !important; }` so we also need the `!important` here to be able to override the default hidden behavior on the sphinx rendered scikit-learn.org. See: https://github.com/scikit-learn/scikit-learn/issues/21755 */display: inline-block !important;position: relative;}#sk-container-id-7 div.sk-text-repr-fallback {display: none;}</style><div id=\"sk-container-id-7\" class=\"sk-top-container\"><div class=\"sk-text-repr-fallback\"><pre>RandomForestClassifier()</pre><b>In a Jupyter environment, please rerun this cell to show the HTML representation or trust the notebook. <br />On GitHub, the HTML representation is unable to render, please try loading this page with nbviewer.org.</b></div><div class=\"sk-container\" hidden><div class=\"sk-item\"><div class=\"sk-estimator sk-toggleable\"><input class=\"sk-toggleable__control sk-hidden--visually\" id=\"sk-estimator-id-7\" type=\"checkbox\" checked><label for=\"sk-estimator-id-7\" class=\"sk-toggleable__label sk-toggleable__label-arrow\">RandomForestClassifier</label><div class=\"sk-toggleable__content\"><pre>RandomForestClassifier()</pre></div></div></div></div></div>"
      ],
      "text/plain": [
       "RandomForestClassifier()"
      ]
     },
     "execution_count": 66,
     "metadata": {},
     "output_type": "execute_result"
    }
   ],
   "source": [
    "rfc = RandomForestClassifier()\n",
    "rfc"
   ]
  },
  {
   "cell_type": "code",
   "execution_count": 67,
   "metadata": {},
   "outputs": [
    {
     "data": {
      "text/html": [
       "<style>#sk-container-id-8 {color: black;}#sk-container-id-8 pre{padding: 0;}#sk-container-id-8 div.sk-toggleable {background-color: white;}#sk-container-id-8 label.sk-toggleable__label {cursor: pointer;display: block;width: 100%;margin-bottom: 0;padding: 0.3em;box-sizing: border-box;text-align: center;}#sk-container-id-8 label.sk-toggleable__label-arrow:before {content: \"▸\";float: left;margin-right: 0.25em;color: #696969;}#sk-container-id-8 label.sk-toggleable__label-arrow:hover:before {color: black;}#sk-container-id-8 div.sk-estimator:hover label.sk-toggleable__label-arrow:before {color: black;}#sk-container-id-8 div.sk-toggleable__content {max-height: 0;max-width: 0;overflow: hidden;text-align: left;background-color: #f0f8ff;}#sk-container-id-8 div.sk-toggleable__content pre {margin: 0.2em;color: black;border-radius: 0.25em;background-color: #f0f8ff;}#sk-container-id-8 input.sk-toggleable__control:checked~div.sk-toggleable__content {max-height: 200px;max-width: 100%;overflow: auto;}#sk-container-id-8 input.sk-toggleable__control:checked~label.sk-toggleable__label-arrow:before {content: \"▾\";}#sk-container-id-8 div.sk-estimator input.sk-toggleable__control:checked~label.sk-toggleable__label {background-color: #d4ebff;}#sk-container-id-8 div.sk-label input.sk-toggleable__control:checked~label.sk-toggleable__label {background-color: #d4ebff;}#sk-container-id-8 input.sk-hidden--visually {border: 0;clip: rect(1px 1px 1px 1px);clip: rect(1px, 1px, 1px, 1px);height: 1px;margin: -1px;overflow: hidden;padding: 0;position: absolute;width: 1px;}#sk-container-id-8 div.sk-estimator {font-family: monospace;background-color: #f0f8ff;border: 1px dotted black;border-radius: 0.25em;box-sizing: border-box;margin-bottom: 0.5em;}#sk-container-id-8 div.sk-estimator:hover {background-color: #d4ebff;}#sk-container-id-8 div.sk-parallel-item::after {content: \"\";width: 100%;border-bottom: 1px solid gray;flex-grow: 1;}#sk-container-id-8 div.sk-label:hover label.sk-toggleable__label {background-color: #d4ebff;}#sk-container-id-8 div.sk-serial::before {content: \"\";position: absolute;border-left: 1px solid gray;box-sizing: border-box;top: 0;bottom: 0;left: 50%;z-index: 0;}#sk-container-id-8 div.sk-serial {display: flex;flex-direction: column;align-items: center;background-color: white;padding-right: 0.2em;padding-left: 0.2em;position: relative;}#sk-container-id-8 div.sk-item {position: relative;z-index: 1;}#sk-container-id-8 div.sk-parallel {display: flex;align-items: stretch;justify-content: center;background-color: white;position: relative;}#sk-container-id-8 div.sk-item::before, #sk-container-id-8 div.sk-parallel-item::before {content: \"\";position: absolute;border-left: 1px solid gray;box-sizing: border-box;top: 0;bottom: 0;left: 50%;z-index: -1;}#sk-container-id-8 div.sk-parallel-item {display: flex;flex-direction: column;z-index: 1;position: relative;background-color: white;}#sk-container-id-8 div.sk-parallel-item:first-child::after {align-self: flex-end;width: 50%;}#sk-container-id-8 div.sk-parallel-item:last-child::after {align-self: flex-start;width: 50%;}#sk-container-id-8 div.sk-parallel-item:only-child::after {width: 0;}#sk-container-id-8 div.sk-dashed-wrapped {border: 1px dashed gray;margin: 0 0.4em 0.5em 0.4em;box-sizing: border-box;padding-bottom: 0.4em;background-color: white;}#sk-container-id-8 div.sk-label label {font-family: monospace;font-weight: bold;display: inline-block;line-height: 1.2em;}#sk-container-id-8 div.sk-label-container {text-align: center;}#sk-container-id-8 div.sk-container {/* jupyter's `normalize.less` sets `[hidden] { display: none; }` but bootstrap.min.css set `[hidden] { display: none !important; }` so we also need the `!important` here to be able to override the default hidden behavior on the sphinx rendered scikit-learn.org. See: https://github.com/scikit-learn/scikit-learn/issues/21755 */display: inline-block !important;position: relative;}#sk-container-id-8 div.sk-text-repr-fallback {display: none;}</style><div id=\"sk-container-id-8\" class=\"sk-top-container\"><div class=\"sk-text-repr-fallback\"><pre>RandomForestClassifier()</pre><b>In a Jupyter environment, please rerun this cell to show the HTML representation or trust the notebook. <br />On GitHub, the HTML representation is unable to render, please try loading this page with nbviewer.org.</b></div><div class=\"sk-container\" hidden><div class=\"sk-item\"><div class=\"sk-estimator sk-toggleable\"><input class=\"sk-toggleable__control sk-hidden--visually\" id=\"sk-estimator-id-8\" type=\"checkbox\" checked><label for=\"sk-estimator-id-8\" class=\"sk-toggleable__label sk-toggleable__label-arrow\">RandomForestClassifier</label><div class=\"sk-toggleable__content\"><pre>RandomForestClassifier()</pre></div></div></div></div></div>"
      ],
      "text/plain": [
       "RandomForestClassifier()"
      ]
     },
     "execution_count": 67,
     "metadata": {},
     "output_type": "execute_result"
    }
   ],
   "source": [
    "rfc.fit(x_train, y_train)"
   ]
  },
  {
   "cell_type": "code",
   "execution_count": 68,
   "metadata": {},
   "outputs": [
    {
     "data": {
      "text/plain": [
       "0.9530332681017613"
      ]
     },
     "execution_count": 68,
     "metadata": {},
     "output_type": "execute_result"
    }
   ],
   "source": [
    "rfc.score(x_val, y_val)"
   ]
  },
  {
   "cell_type": "code",
   "execution_count": 69,
   "metadata": {},
   "outputs": [
    {
     "data": {
      "text/plain": [
       "array([0, 0, 0, ..., 0, 0, 0], dtype=int64)"
      ]
     },
     "execution_count": 69,
     "metadata": {},
     "output_type": "execute_result"
    }
   ],
   "source": [
    "rfc.predict(x_val)"
   ]
  },
  {
   "cell_type": "markdown",
   "metadata": {},
   "source": [
    "# XGBClassifier"
   ]
  },
  {
   "cell_type": "code",
   "execution_count": 70,
   "metadata": {},
   "outputs": [],
   "source": [
    "from xgboost import XGBClassifier"
   ]
  },
  {
   "cell_type": "code",
   "execution_count": 71,
   "metadata": {},
   "outputs": [
    {
     "data": {
      "text/html": [
       "<style>#sk-container-id-9 {color: black;}#sk-container-id-9 pre{padding: 0;}#sk-container-id-9 div.sk-toggleable {background-color: white;}#sk-container-id-9 label.sk-toggleable__label {cursor: pointer;display: block;width: 100%;margin-bottom: 0;padding: 0.3em;box-sizing: border-box;text-align: center;}#sk-container-id-9 label.sk-toggleable__label-arrow:before {content: \"▸\";float: left;margin-right: 0.25em;color: #696969;}#sk-container-id-9 label.sk-toggleable__label-arrow:hover:before {color: black;}#sk-container-id-9 div.sk-estimator:hover label.sk-toggleable__label-arrow:before {color: black;}#sk-container-id-9 div.sk-toggleable__content {max-height: 0;max-width: 0;overflow: hidden;text-align: left;background-color: #f0f8ff;}#sk-container-id-9 div.sk-toggleable__content pre {margin: 0.2em;color: black;border-radius: 0.25em;background-color: #f0f8ff;}#sk-container-id-9 input.sk-toggleable__control:checked~div.sk-toggleable__content {max-height: 200px;max-width: 100%;overflow: auto;}#sk-container-id-9 input.sk-toggleable__control:checked~label.sk-toggleable__label-arrow:before {content: \"▾\";}#sk-container-id-9 div.sk-estimator input.sk-toggleable__control:checked~label.sk-toggleable__label {background-color: #d4ebff;}#sk-container-id-9 div.sk-label input.sk-toggleable__control:checked~label.sk-toggleable__label {background-color: #d4ebff;}#sk-container-id-9 input.sk-hidden--visually {border: 0;clip: rect(1px 1px 1px 1px);clip: rect(1px, 1px, 1px, 1px);height: 1px;margin: -1px;overflow: hidden;padding: 0;position: absolute;width: 1px;}#sk-container-id-9 div.sk-estimator {font-family: monospace;background-color: #f0f8ff;border: 1px dotted black;border-radius: 0.25em;box-sizing: border-box;margin-bottom: 0.5em;}#sk-container-id-9 div.sk-estimator:hover {background-color: #d4ebff;}#sk-container-id-9 div.sk-parallel-item::after {content: \"\";width: 100%;border-bottom: 1px solid gray;flex-grow: 1;}#sk-container-id-9 div.sk-label:hover label.sk-toggleable__label {background-color: #d4ebff;}#sk-container-id-9 div.sk-serial::before {content: \"\";position: absolute;border-left: 1px solid gray;box-sizing: border-box;top: 0;bottom: 0;left: 50%;z-index: 0;}#sk-container-id-9 div.sk-serial {display: flex;flex-direction: column;align-items: center;background-color: white;padding-right: 0.2em;padding-left: 0.2em;position: relative;}#sk-container-id-9 div.sk-item {position: relative;z-index: 1;}#sk-container-id-9 div.sk-parallel {display: flex;align-items: stretch;justify-content: center;background-color: white;position: relative;}#sk-container-id-9 div.sk-item::before, #sk-container-id-9 div.sk-parallel-item::before {content: \"\";position: absolute;border-left: 1px solid gray;box-sizing: border-box;top: 0;bottom: 0;left: 50%;z-index: -1;}#sk-container-id-9 div.sk-parallel-item {display: flex;flex-direction: column;z-index: 1;position: relative;background-color: white;}#sk-container-id-9 div.sk-parallel-item:first-child::after {align-self: flex-end;width: 50%;}#sk-container-id-9 div.sk-parallel-item:last-child::after {align-self: flex-start;width: 50%;}#sk-container-id-9 div.sk-parallel-item:only-child::after {width: 0;}#sk-container-id-9 div.sk-dashed-wrapped {border: 1px dashed gray;margin: 0 0.4em 0.5em 0.4em;box-sizing: border-box;padding-bottom: 0.4em;background-color: white;}#sk-container-id-9 div.sk-label label {font-family: monospace;font-weight: bold;display: inline-block;line-height: 1.2em;}#sk-container-id-9 div.sk-label-container {text-align: center;}#sk-container-id-9 div.sk-container {/* jupyter's `normalize.less` sets `[hidden] { display: none; }` but bootstrap.min.css set `[hidden] { display: none !important; }` so we also need the `!important` here to be able to override the default hidden behavior on the sphinx rendered scikit-learn.org. See: https://github.com/scikit-learn/scikit-learn/issues/21755 */display: inline-block !important;position: relative;}#sk-container-id-9 div.sk-text-repr-fallback {display: none;}</style><div id=\"sk-container-id-9\" class=\"sk-top-container\"><div class=\"sk-text-repr-fallback\"><pre>XGBClassifier(base_score=None, booster=None, callbacks=None,\n",
       "              colsample_bylevel=None, colsample_bynode=None,\n",
       "              colsample_bytree=None, early_stopping_rounds=None,\n",
       "              enable_categorical=False, eval_metric=None, feature_types=None,\n",
       "              gamma=None, gpu_id=None, grow_policy=None, importance_type=None,\n",
       "              interaction_constraints=None, learning_rate=None, max_bin=None,\n",
       "              max_cat_threshold=None, max_cat_to_onehot=None,\n",
       "              max_delta_step=None, max_depth=None, max_leaves=None,\n",
       "              min_child_weight=None, missing=nan, monotone_constraints=None,\n",
       "              n_estimators=100, n_jobs=None, num_parallel_tree=None,\n",
       "              predictor=None, random_state=None, ...)</pre><b>In a Jupyter environment, please rerun this cell to show the HTML representation or trust the notebook. <br />On GitHub, the HTML representation is unable to render, please try loading this page with nbviewer.org.</b></div><div class=\"sk-container\" hidden><div class=\"sk-item\"><div class=\"sk-estimator sk-toggleable\"><input class=\"sk-toggleable__control sk-hidden--visually\" id=\"sk-estimator-id-9\" type=\"checkbox\" checked><label for=\"sk-estimator-id-9\" class=\"sk-toggleable__label sk-toggleable__label-arrow\">XGBClassifier</label><div class=\"sk-toggleable__content\"><pre>XGBClassifier(base_score=None, booster=None, callbacks=None,\n",
       "              colsample_bylevel=None, colsample_bynode=None,\n",
       "              colsample_bytree=None, early_stopping_rounds=None,\n",
       "              enable_categorical=False, eval_metric=None, feature_types=None,\n",
       "              gamma=None, gpu_id=None, grow_policy=None, importance_type=None,\n",
       "              interaction_constraints=None, learning_rate=None, max_bin=None,\n",
       "              max_cat_threshold=None, max_cat_to_onehot=None,\n",
       "              max_delta_step=None, max_depth=None, max_leaves=None,\n",
       "              min_child_weight=None, missing=nan, monotone_constraints=None,\n",
       "              n_estimators=100, n_jobs=None, num_parallel_tree=None,\n",
       "              predictor=None, random_state=None, ...)</pre></div></div></div></div></div>"
      ],
      "text/plain": [
       "XGBClassifier(base_score=None, booster=None, callbacks=None,\n",
       "              colsample_bylevel=None, colsample_bynode=None,\n",
       "              colsample_bytree=None, early_stopping_rounds=None,\n",
       "              enable_categorical=False, eval_metric=None, feature_types=None,\n",
       "              gamma=None, gpu_id=None, grow_policy=None, importance_type=None,\n",
       "              interaction_constraints=None, learning_rate=None, max_bin=None,\n",
       "              max_cat_threshold=None, max_cat_to_onehot=None,\n",
       "              max_delta_step=None, max_depth=None, max_leaves=None,\n",
       "              min_child_weight=None, missing=nan, monotone_constraints=None,\n",
       "              n_estimators=100, n_jobs=None, num_parallel_tree=None,\n",
       "              predictor=None, random_state=None, ...)"
      ]
     },
     "execution_count": 71,
     "metadata": {},
     "output_type": "execute_result"
    }
   ],
   "source": [
    "xbgc = XGBClassifier()\n",
    "xbgc"
   ]
  },
  {
   "cell_type": "code",
   "execution_count": 72,
   "metadata": {},
   "outputs": [
    {
     "data": {
      "text/html": [
       "<style>#sk-container-id-10 {color: black;}#sk-container-id-10 pre{padding: 0;}#sk-container-id-10 div.sk-toggleable {background-color: white;}#sk-container-id-10 label.sk-toggleable__label {cursor: pointer;display: block;width: 100%;margin-bottom: 0;padding: 0.3em;box-sizing: border-box;text-align: center;}#sk-container-id-10 label.sk-toggleable__label-arrow:before {content: \"▸\";float: left;margin-right: 0.25em;color: #696969;}#sk-container-id-10 label.sk-toggleable__label-arrow:hover:before {color: black;}#sk-container-id-10 div.sk-estimator:hover label.sk-toggleable__label-arrow:before {color: black;}#sk-container-id-10 div.sk-toggleable__content {max-height: 0;max-width: 0;overflow: hidden;text-align: left;background-color: #f0f8ff;}#sk-container-id-10 div.sk-toggleable__content pre {margin: 0.2em;color: black;border-radius: 0.25em;background-color: #f0f8ff;}#sk-container-id-10 input.sk-toggleable__control:checked~div.sk-toggleable__content {max-height: 200px;max-width: 100%;overflow: auto;}#sk-container-id-10 input.sk-toggleable__control:checked~label.sk-toggleable__label-arrow:before {content: \"▾\";}#sk-container-id-10 div.sk-estimator input.sk-toggleable__control:checked~label.sk-toggleable__label {background-color: #d4ebff;}#sk-container-id-10 div.sk-label input.sk-toggleable__control:checked~label.sk-toggleable__label {background-color: #d4ebff;}#sk-container-id-10 input.sk-hidden--visually {border: 0;clip: rect(1px 1px 1px 1px);clip: rect(1px, 1px, 1px, 1px);height: 1px;margin: -1px;overflow: hidden;padding: 0;position: absolute;width: 1px;}#sk-container-id-10 div.sk-estimator {font-family: monospace;background-color: #f0f8ff;border: 1px dotted black;border-radius: 0.25em;box-sizing: border-box;margin-bottom: 0.5em;}#sk-container-id-10 div.sk-estimator:hover {background-color: #d4ebff;}#sk-container-id-10 div.sk-parallel-item::after {content: \"\";width: 100%;border-bottom: 1px solid gray;flex-grow: 1;}#sk-container-id-10 div.sk-label:hover label.sk-toggleable__label {background-color: #d4ebff;}#sk-container-id-10 div.sk-serial::before {content: \"\";position: absolute;border-left: 1px solid gray;box-sizing: border-box;top: 0;bottom: 0;left: 50%;z-index: 0;}#sk-container-id-10 div.sk-serial {display: flex;flex-direction: column;align-items: center;background-color: white;padding-right: 0.2em;padding-left: 0.2em;position: relative;}#sk-container-id-10 div.sk-item {position: relative;z-index: 1;}#sk-container-id-10 div.sk-parallel {display: flex;align-items: stretch;justify-content: center;background-color: white;position: relative;}#sk-container-id-10 div.sk-item::before, #sk-container-id-10 div.sk-parallel-item::before {content: \"\";position: absolute;border-left: 1px solid gray;box-sizing: border-box;top: 0;bottom: 0;left: 50%;z-index: -1;}#sk-container-id-10 div.sk-parallel-item {display: flex;flex-direction: column;z-index: 1;position: relative;background-color: white;}#sk-container-id-10 div.sk-parallel-item:first-child::after {align-self: flex-end;width: 50%;}#sk-container-id-10 div.sk-parallel-item:last-child::after {align-self: flex-start;width: 50%;}#sk-container-id-10 div.sk-parallel-item:only-child::after {width: 0;}#sk-container-id-10 div.sk-dashed-wrapped {border: 1px dashed gray;margin: 0 0.4em 0.5em 0.4em;box-sizing: border-box;padding-bottom: 0.4em;background-color: white;}#sk-container-id-10 div.sk-label label {font-family: monospace;font-weight: bold;display: inline-block;line-height: 1.2em;}#sk-container-id-10 div.sk-label-container {text-align: center;}#sk-container-id-10 div.sk-container {/* jupyter's `normalize.less` sets `[hidden] { display: none; }` but bootstrap.min.css set `[hidden] { display: none !important; }` so we also need the `!important` here to be able to override the default hidden behavior on the sphinx rendered scikit-learn.org. See: https://github.com/scikit-learn/scikit-learn/issues/21755 */display: inline-block !important;position: relative;}#sk-container-id-10 div.sk-text-repr-fallback {display: none;}</style><div id=\"sk-container-id-10\" class=\"sk-top-container\"><div class=\"sk-text-repr-fallback\"><pre>XGBClassifier(base_score=None, booster=None, callbacks=None,\n",
       "              colsample_bylevel=None, colsample_bynode=None,\n",
       "              colsample_bytree=None, early_stopping_rounds=None,\n",
       "              enable_categorical=False, eval_metric=None, feature_types=None,\n",
       "              gamma=None, gpu_id=None, grow_policy=None, importance_type=None,\n",
       "              interaction_constraints=None, learning_rate=None, max_bin=None,\n",
       "              max_cat_threshold=None, max_cat_to_onehot=None,\n",
       "              max_delta_step=None, max_depth=None, max_leaves=None,\n",
       "              min_child_weight=None, missing=nan, monotone_constraints=None,\n",
       "              n_estimators=100, n_jobs=None, num_parallel_tree=None,\n",
       "              predictor=None, random_state=None, ...)</pre><b>In a Jupyter environment, please rerun this cell to show the HTML representation or trust the notebook. <br />On GitHub, the HTML representation is unable to render, please try loading this page with nbviewer.org.</b></div><div class=\"sk-container\" hidden><div class=\"sk-item\"><div class=\"sk-estimator sk-toggleable\"><input class=\"sk-toggleable__control sk-hidden--visually\" id=\"sk-estimator-id-10\" type=\"checkbox\" checked><label for=\"sk-estimator-id-10\" class=\"sk-toggleable__label sk-toggleable__label-arrow\">XGBClassifier</label><div class=\"sk-toggleable__content\"><pre>XGBClassifier(base_score=None, booster=None, callbacks=None,\n",
       "              colsample_bylevel=None, colsample_bynode=None,\n",
       "              colsample_bytree=None, early_stopping_rounds=None,\n",
       "              enable_categorical=False, eval_metric=None, feature_types=None,\n",
       "              gamma=None, gpu_id=None, grow_policy=None, importance_type=None,\n",
       "              interaction_constraints=None, learning_rate=None, max_bin=None,\n",
       "              max_cat_threshold=None, max_cat_to_onehot=None,\n",
       "              max_delta_step=None, max_depth=None, max_leaves=None,\n",
       "              min_child_weight=None, missing=nan, monotone_constraints=None,\n",
       "              n_estimators=100, n_jobs=None, num_parallel_tree=None,\n",
       "              predictor=None, random_state=None, ...)</pre></div></div></div></div></div>"
      ],
      "text/plain": [
       "XGBClassifier(base_score=None, booster=None, callbacks=None,\n",
       "              colsample_bylevel=None, colsample_bynode=None,\n",
       "              colsample_bytree=None, early_stopping_rounds=None,\n",
       "              enable_categorical=False, eval_metric=None, feature_types=None,\n",
       "              gamma=None, gpu_id=None, grow_policy=None, importance_type=None,\n",
       "              interaction_constraints=None, learning_rate=None, max_bin=None,\n",
       "              max_cat_threshold=None, max_cat_to_onehot=None,\n",
       "              max_delta_step=None, max_depth=None, max_leaves=None,\n",
       "              min_child_weight=None, missing=nan, monotone_constraints=None,\n",
       "              n_estimators=100, n_jobs=None, num_parallel_tree=None,\n",
       "              predictor=None, random_state=None, ...)"
      ]
     },
     "execution_count": 72,
     "metadata": {},
     "output_type": "execute_result"
    }
   ],
   "source": [
    "xbgc.fit(x_train, y_train)"
   ]
  },
  {
   "cell_type": "code",
   "execution_count": 73,
   "metadata": {},
   "outputs": [
    {
     "data": {
      "text/plain": [
       "0.9467710371819961"
      ]
     },
     "execution_count": 73,
     "metadata": {},
     "output_type": "execute_result"
    }
   ],
   "source": [
    "xbgc.score(x_val, y_val)"
   ]
  },
  {
   "cell_type": "code",
   "execution_count": 74,
   "metadata": {},
   "outputs": [
    {
     "data": {
      "text/plain": [
       "array([0, 0, 0, ..., 0, 0, 0])"
      ]
     },
     "execution_count": 74,
     "metadata": {},
     "output_type": "execute_result"
    }
   ],
   "source": [
    "xbgc.predict(x_val)"
   ]
  },
  {
   "cell_type": "markdown",
   "metadata": {},
   "source": [
    "# LGBMClassifier"
   ]
  },
  {
   "cell_type": "code",
   "execution_count": 75,
   "metadata": {},
   "outputs": [],
   "source": [
    "from lightgbm import LGBMClassifier"
   ]
  },
  {
   "cell_type": "code",
   "execution_count": 76,
   "metadata": {},
   "outputs": [
    {
     "data": {
      "text/html": [
       "<style>#sk-container-id-11 {color: black;}#sk-container-id-11 pre{padding: 0;}#sk-container-id-11 div.sk-toggleable {background-color: white;}#sk-container-id-11 label.sk-toggleable__label {cursor: pointer;display: block;width: 100%;margin-bottom: 0;padding: 0.3em;box-sizing: border-box;text-align: center;}#sk-container-id-11 label.sk-toggleable__label-arrow:before {content: \"▸\";float: left;margin-right: 0.25em;color: #696969;}#sk-container-id-11 label.sk-toggleable__label-arrow:hover:before {color: black;}#sk-container-id-11 div.sk-estimator:hover label.sk-toggleable__label-arrow:before {color: black;}#sk-container-id-11 div.sk-toggleable__content {max-height: 0;max-width: 0;overflow: hidden;text-align: left;background-color: #f0f8ff;}#sk-container-id-11 div.sk-toggleable__content pre {margin: 0.2em;color: black;border-radius: 0.25em;background-color: #f0f8ff;}#sk-container-id-11 input.sk-toggleable__control:checked~div.sk-toggleable__content {max-height: 200px;max-width: 100%;overflow: auto;}#sk-container-id-11 input.sk-toggleable__control:checked~label.sk-toggleable__label-arrow:before {content: \"▾\";}#sk-container-id-11 div.sk-estimator input.sk-toggleable__control:checked~label.sk-toggleable__label {background-color: #d4ebff;}#sk-container-id-11 div.sk-label input.sk-toggleable__control:checked~label.sk-toggleable__label {background-color: #d4ebff;}#sk-container-id-11 input.sk-hidden--visually {border: 0;clip: rect(1px 1px 1px 1px);clip: rect(1px, 1px, 1px, 1px);height: 1px;margin: -1px;overflow: hidden;padding: 0;position: absolute;width: 1px;}#sk-container-id-11 div.sk-estimator {font-family: monospace;background-color: #f0f8ff;border: 1px dotted black;border-radius: 0.25em;box-sizing: border-box;margin-bottom: 0.5em;}#sk-container-id-11 div.sk-estimator:hover {background-color: #d4ebff;}#sk-container-id-11 div.sk-parallel-item::after {content: \"\";width: 100%;border-bottom: 1px solid gray;flex-grow: 1;}#sk-container-id-11 div.sk-label:hover label.sk-toggleable__label {background-color: #d4ebff;}#sk-container-id-11 div.sk-serial::before {content: \"\";position: absolute;border-left: 1px solid gray;box-sizing: border-box;top: 0;bottom: 0;left: 50%;z-index: 0;}#sk-container-id-11 div.sk-serial {display: flex;flex-direction: column;align-items: center;background-color: white;padding-right: 0.2em;padding-left: 0.2em;position: relative;}#sk-container-id-11 div.sk-item {position: relative;z-index: 1;}#sk-container-id-11 div.sk-parallel {display: flex;align-items: stretch;justify-content: center;background-color: white;position: relative;}#sk-container-id-11 div.sk-item::before, #sk-container-id-11 div.sk-parallel-item::before {content: \"\";position: absolute;border-left: 1px solid gray;box-sizing: border-box;top: 0;bottom: 0;left: 50%;z-index: -1;}#sk-container-id-11 div.sk-parallel-item {display: flex;flex-direction: column;z-index: 1;position: relative;background-color: white;}#sk-container-id-11 div.sk-parallel-item:first-child::after {align-self: flex-end;width: 50%;}#sk-container-id-11 div.sk-parallel-item:last-child::after {align-self: flex-start;width: 50%;}#sk-container-id-11 div.sk-parallel-item:only-child::after {width: 0;}#sk-container-id-11 div.sk-dashed-wrapped {border: 1px dashed gray;margin: 0 0.4em 0.5em 0.4em;box-sizing: border-box;padding-bottom: 0.4em;background-color: white;}#sk-container-id-11 div.sk-label label {font-family: monospace;font-weight: bold;display: inline-block;line-height: 1.2em;}#sk-container-id-11 div.sk-label-container {text-align: center;}#sk-container-id-11 div.sk-container {/* jupyter's `normalize.less` sets `[hidden] { display: none; }` but bootstrap.min.css set `[hidden] { display: none !important; }` so we also need the `!important` here to be able to override the default hidden behavior on the sphinx rendered scikit-learn.org. See: https://github.com/scikit-learn/scikit-learn/issues/21755 */display: inline-block !important;position: relative;}#sk-container-id-11 div.sk-text-repr-fallback {display: none;}</style><div id=\"sk-container-id-11\" class=\"sk-top-container\"><div class=\"sk-text-repr-fallback\"><pre>LGBMClassifier(force_row_wise=True)</pre><b>In a Jupyter environment, please rerun this cell to show the HTML representation or trust the notebook. <br />On GitHub, the HTML representation is unable to render, please try loading this page with nbviewer.org.</b></div><div class=\"sk-container\" hidden><div class=\"sk-item\"><div class=\"sk-estimator sk-toggleable\"><input class=\"sk-toggleable__control sk-hidden--visually\" id=\"sk-estimator-id-11\" type=\"checkbox\" checked><label for=\"sk-estimator-id-11\" class=\"sk-toggleable__label sk-toggleable__label-arrow\">LGBMClassifier</label><div class=\"sk-toggleable__content\"><pre>LGBMClassifier(force_row_wise=True)</pre></div></div></div></div></div>"
      ],
      "text/plain": [
       "LGBMClassifier(force_row_wise=True)"
      ]
     },
     "execution_count": 76,
     "metadata": {},
     "output_type": "execute_result"
    }
   ],
   "source": [
    "lgbmc = LGBMClassifier(force_row_wise=True)\n",
    "lgbmc"
   ]
  },
  {
   "cell_type": "code",
   "execution_count": 77,
   "metadata": {},
   "outputs": [
    {
     "name": "stdout",
     "output_type": "stream",
     "text": [
      "[LightGBM] [Info] Number of positive: 127, number of negative: 2428\n",
      "[LightGBM] [Info] Total Bins 624\n",
      "[LightGBM] [Info] Number of data points in the train set: 2555, number of used features: 10\n",
      "[LightGBM] [Info] [binary:BoostFromScore]: pavg=0.049706 -> initscore=-2.950636\n",
      "[LightGBM] [Info] Start training from score -2.950636\n"
     ]
    },
    {
     "data": {
      "text/html": [
       "<style>#sk-container-id-12 {color: black;}#sk-container-id-12 pre{padding: 0;}#sk-container-id-12 div.sk-toggleable {background-color: white;}#sk-container-id-12 label.sk-toggleable__label {cursor: pointer;display: block;width: 100%;margin-bottom: 0;padding: 0.3em;box-sizing: border-box;text-align: center;}#sk-container-id-12 label.sk-toggleable__label-arrow:before {content: \"▸\";float: left;margin-right: 0.25em;color: #696969;}#sk-container-id-12 label.sk-toggleable__label-arrow:hover:before {color: black;}#sk-container-id-12 div.sk-estimator:hover label.sk-toggleable__label-arrow:before {color: black;}#sk-container-id-12 div.sk-toggleable__content {max-height: 0;max-width: 0;overflow: hidden;text-align: left;background-color: #f0f8ff;}#sk-container-id-12 div.sk-toggleable__content pre {margin: 0.2em;color: black;border-radius: 0.25em;background-color: #f0f8ff;}#sk-container-id-12 input.sk-toggleable__control:checked~div.sk-toggleable__content {max-height: 200px;max-width: 100%;overflow: auto;}#sk-container-id-12 input.sk-toggleable__control:checked~label.sk-toggleable__label-arrow:before {content: \"▾\";}#sk-container-id-12 div.sk-estimator input.sk-toggleable__control:checked~label.sk-toggleable__label {background-color: #d4ebff;}#sk-container-id-12 div.sk-label input.sk-toggleable__control:checked~label.sk-toggleable__label {background-color: #d4ebff;}#sk-container-id-12 input.sk-hidden--visually {border: 0;clip: rect(1px 1px 1px 1px);clip: rect(1px, 1px, 1px, 1px);height: 1px;margin: -1px;overflow: hidden;padding: 0;position: absolute;width: 1px;}#sk-container-id-12 div.sk-estimator {font-family: monospace;background-color: #f0f8ff;border: 1px dotted black;border-radius: 0.25em;box-sizing: border-box;margin-bottom: 0.5em;}#sk-container-id-12 div.sk-estimator:hover {background-color: #d4ebff;}#sk-container-id-12 div.sk-parallel-item::after {content: \"\";width: 100%;border-bottom: 1px solid gray;flex-grow: 1;}#sk-container-id-12 div.sk-label:hover label.sk-toggleable__label {background-color: #d4ebff;}#sk-container-id-12 div.sk-serial::before {content: \"\";position: absolute;border-left: 1px solid gray;box-sizing: border-box;top: 0;bottom: 0;left: 50%;z-index: 0;}#sk-container-id-12 div.sk-serial {display: flex;flex-direction: column;align-items: center;background-color: white;padding-right: 0.2em;padding-left: 0.2em;position: relative;}#sk-container-id-12 div.sk-item {position: relative;z-index: 1;}#sk-container-id-12 div.sk-parallel {display: flex;align-items: stretch;justify-content: center;background-color: white;position: relative;}#sk-container-id-12 div.sk-item::before, #sk-container-id-12 div.sk-parallel-item::before {content: \"\";position: absolute;border-left: 1px solid gray;box-sizing: border-box;top: 0;bottom: 0;left: 50%;z-index: -1;}#sk-container-id-12 div.sk-parallel-item {display: flex;flex-direction: column;z-index: 1;position: relative;background-color: white;}#sk-container-id-12 div.sk-parallel-item:first-child::after {align-self: flex-end;width: 50%;}#sk-container-id-12 div.sk-parallel-item:last-child::after {align-self: flex-start;width: 50%;}#sk-container-id-12 div.sk-parallel-item:only-child::after {width: 0;}#sk-container-id-12 div.sk-dashed-wrapped {border: 1px dashed gray;margin: 0 0.4em 0.5em 0.4em;box-sizing: border-box;padding-bottom: 0.4em;background-color: white;}#sk-container-id-12 div.sk-label label {font-family: monospace;font-weight: bold;display: inline-block;line-height: 1.2em;}#sk-container-id-12 div.sk-label-container {text-align: center;}#sk-container-id-12 div.sk-container {/* jupyter's `normalize.less` sets `[hidden] { display: none; }` but bootstrap.min.css set `[hidden] { display: none !important; }` so we also need the `!important` here to be able to override the default hidden behavior on the sphinx rendered scikit-learn.org. See: https://github.com/scikit-learn/scikit-learn/issues/21755 */display: inline-block !important;position: relative;}#sk-container-id-12 div.sk-text-repr-fallback {display: none;}</style><div id=\"sk-container-id-12\" class=\"sk-top-container\"><div class=\"sk-text-repr-fallback\"><pre>LGBMClassifier(force_row_wise=True)</pre><b>In a Jupyter environment, please rerun this cell to show the HTML representation or trust the notebook. <br />On GitHub, the HTML representation is unable to render, please try loading this page with nbviewer.org.</b></div><div class=\"sk-container\" hidden><div class=\"sk-item\"><div class=\"sk-estimator sk-toggleable\"><input class=\"sk-toggleable__control sk-hidden--visually\" id=\"sk-estimator-id-12\" type=\"checkbox\" checked><label for=\"sk-estimator-id-12\" class=\"sk-toggleable__label sk-toggleable__label-arrow\">LGBMClassifier</label><div class=\"sk-toggleable__content\"><pre>LGBMClassifier(force_row_wise=True)</pre></div></div></div></div></div>"
      ],
      "text/plain": [
       "LGBMClassifier(force_row_wise=True)"
      ]
     },
     "execution_count": 77,
     "metadata": {},
     "output_type": "execute_result"
    }
   ],
   "source": [
    "lgbmc.fit(x_train, y_train)"
   ]
  },
  {
   "cell_type": "code",
   "execution_count": 78,
   "metadata": {},
   "outputs": [
    {
     "data": {
      "text/plain": [
       "0.947945205479452"
      ]
     },
     "execution_count": 78,
     "metadata": {},
     "output_type": "execute_result"
    }
   ],
   "source": [
    "lgbmc.score(x_val, y_val)"
   ]
  },
  {
   "cell_type": "code",
   "execution_count": 79,
   "metadata": {},
   "outputs": [
    {
     "data": {
      "text/plain": [
       "array([1, 0, 0, ..., 0, 0, 0], dtype=int64)"
      ]
     },
     "execution_count": 79,
     "metadata": {},
     "output_type": "execute_result"
    }
   ],
   "source": [
    "lgbmc.predict(x_val)"
   ]
  },
  {
   "cell_type": "markdown",
   "metadata": {},
   "source": [
    "# CatBoostClassifier"
   ]
  },
  {
   "cell_type": "code",
   "execution_count": 80,
   "metadata": {},
   "outputs": [],
   "source": [
    "from catboost import CatBoostClassifier"
   ]
  },
  {
   "cell_type": "code",
   "execution_count": 81,
   "metadata": {},
   "outputs": [
    {
     "data": {
      "text/plain": [
       "<catboost.core.CatBoostClassifier at 0x200c0d57ad0>"
      ]
     },
     "execution_count": 81,
     "metadata": {},
     "output_type": "execute_result"
    }
   ],
   "source": [
    "catbc = CatBoostClassifier()\n",
    "catbc"
   ]
  },
  {
   "cell_type": "code",
   "execution_count": 82,
   "metadata": {},
   "outputs": [
    {
     "name": "stdout",
     "output_type": "stream",
     "text": [
      "Learning rate set to 0.015378\n",
      "0:\tlearn: 0.6664733\ttotal: 140ms\tremaining: 2m 20s\n",
      "1:\tlearn: 0.6426365\ttotal: 143ms\tremaining: 1m 11s\n",
      "2:\tlearn: 0.6214903\ttotal: 145ms\tremaining: 48.2s\n",
      "3:\tlearn: 0.5971651\ttotal: 147ms\tremaining: 36.6s\n",
      "4:\tlearn: 0.5792250\ttotal: 149ms\tremaining: 29.7s\n",
      "5:\tlearn: 0.5595910\ttotal: 151ms\tremaining: 25.1s\n",
      "6:\tlearn: 0.5438253\ttotal: 153ms\tremaining: 21.8s\n",
      "7:\tlearn: 0.5295094\ttotal: 155ms\tremaining: 19.2s\n",
      "8:\tlearn: 0.5140220\ttotal: 157ms\tremaining: 17.3s\n",
      "9:\tlearn: 0.4998144\ttotal: 159ms\tremaining: 15.7s\n",
      "10:\tlearn: 0.4842559\ttotal: 161ms\tremaining: 14.5s\n",
      "11:\tlearn: 0.4720225\ttotal: 163ms\tremaining: 13.4s\n",
      "12:\tlearn: 0.4591082\ttotal: 165ms\tremaining: 12.5s\n",
      "13:\tlearn: 0.4447254\ttotal: 167ms\tremaining: 11.8s\n",
      "14:\tlearn: 0.4309226\ttotal: 169ms\tremaining: 11.1s\n",
      "15:\tlearn: 0.4191006\ttotal: 171ms\tremaining: 10.5s\n",
      "16:\tlearn: 0.4074384\ttotal: 173ms\tremaining: 10s\n",
      "17:\tlearn: 0.3965501\ttotal: 176ms\tremaining: 9.57s\n",
      "18:\tlearn: 0.3867573\ttotal: 177ms\tremaining: 9.16s\n",
      "19:\tlearn: 0.3761089\ttotal: 179ms\tremaining: 8.79s\n",
      "20:\tlearn: 0.3647828\ttotal: 182ms\tremaining: 8.46s\n",
      "21:\tlearn: 0.3555242\ttotal: 184ms\tremaining: 8.17s\n",
      "22:\tlearn: 0.3478569\ttotal: 186ms\tremaining: 7.91s\n",
      "23:\tlearn: 0.3380710\ttotal: 188ms\tremaining: 7.63s\n",
      "24:\tlearn: 0.3290362\ttotal: 189ms\tremaining: 7.39s\n",
      "25:\tlearn: 0.3216775\ttotal: 191ms\tremaining: 7.17s\n",
      "26:\tlearn: 0.3157311\ttotal: 193ms\tremaining: 6.95s\n",
      "27:\tlearn: 0.3079166\ttotal: 195ms\tremaining: 6.76s\n",
      "28:\tlearn: 0.3026293\ttotal: 197ms\tremaining: 6.59s\n",
      "29:\tlearn: 0.2955961\ttotal: 199ms\tremaining: 6.45s\n",
      "30:\tlearn: 0.2906965\ttotal: 202ms\tremaining: 6.31s\n",
      "31:\tlearn: 0.2856127\ttotal: 204ms\tremaining: 6.17s\n",
      "32:\tlearn: 0.2811501\ttotal: 206ms\tremaining: 6.04s\n",
      "33:\tlearn: 0.2759986\ttotal: 208ms\tremaining: 5.92s\n",
      "34:\tlearn: 0.2713172\ttotal: 211ms\tremaining: 5.8s\n",
      "35:\tlearn: 0.2663401\ttotal: 213ms\tremaining: 5.7s\n",
      "36:\tlearn: 0.2624804\ttotal: 215ms\tremaining: 5.61s\n",
      "37:\tlearn: 0.2581333\ttotal: 218ms\tremaining: 5.51s\n",
      "38:\tlearn: 0.2542694\ttotal: 220ms\tremaining: 5.42s\n",
      "39:\tlearn: 0.2510366\ttotal: 222ms\tremaining: 5.32s\n",
      "40:\tlearn: 0.2477639\ttotal: 224ms\tremaining: 5.24s\n",
      "41:\tlearn: 0.2441313\ttotal: 226ms\tremaining: 5.15s\n",
      "42:\tlearn: 0.2413124\ttotal: 228ms\tremaining: 5.08s\n",
      "43:\tlearn: 0.2382420\ttotal: 230ms\tremaining: 5s\n",
      "44:\tlearn: 0.2355008\ttotal: 232ms\tremaining: 4.93s\n",
      "45:\tlearn: 0.2316171\ttotal: 234ms\tremaining: 4.86s\n",
      "46:\tlearn: 0.2291856\ttotal: 236ms\tremaining: 4.78s\n",
      "47:\tlearn: 0.2265883\ttotal: 238ms\tremaining: 4.71s\n",
      "48:\tlearn: 0.2236942\ttotal: 240ms\tremaining: 4.65s\n",
      "49:\tlearn: 0.2202933\ttotal: 242ms\tremaining: 4.59s\n",
      "50:\tlearn: 0.2169551\ttotal: 244ms\tremaining: 4.54s\n",
      "51:\tlearn: 0.2145429\ttotal: 245ms\tremaining: 4.47s\n",
      "52:\tlearn: 0.2114544\ttotal: 247ms\tremaining: 4.42s\n",
      "53:\tlearn: 0.2086592\ttotal: 249ms\tremaining: 4.37s\n",
      "54:\tlearn: 0.2062760\ttotal: 251ms\tremaining: 4.32s\n",
      "55:\tlearn: 0.2040762\ttotal: 254ms\tremaining: 4.27s\n",
      "56:\tlearn: 0.2015676\ttotal: 256ms\tremaining: 4.23s\n",
      "57:\tlearn: 0.2003013\ttotal: 257ms\tremaining: 4.18s\n",
      "58:\tlearn: 0.1981502\ttotal: 259ms\tremaining: 4.13s\n",
      "59:\tlearn: 0.1963701\ttotal: 261ms\tremaining: 4.09s\n",
      "60:\tlearn: 0.1946361\ttotal: 263ms\tremaining: 4.05s\n",
      "61:\tlearn: 0.1923386\ttotal: 266ms\tremaining: 4.02s\n",
      "62:\tlearn: 0.1910322\ttotal: 268ms\tremaining: 3.98s\n",
      "63:\tlearn: 0.1899893\ttotal: 269ms\tremaining: 3.94s\n",
      "64:\tlearn: 0.1887195\ttotal: 271ms\tremaining: 3.9s\n",
      "65:\tlearn: 0.1874140\ttotal: 273ms\tremaining: 3.87s\n",
      "66:\tlearn: 0.1861380\ttotal: 275ms\tremaining: 3.83s\n",
      "67:\tlearn: 0.1849657\ttotal: 277ms\tremaining: 3.8s\n",
      "68:\tlearn: 0.1839858\ttotal: 279ms\tremaining: 3.77s\n",
      "69:\tlearn: 0.1832650\ttotal: 281ms\tremaining: 3.73s\n",
      "70:\tlearn: 0.1822109\ttotal: 283ms\tremaining: 3.7s\n",
      "71:\tlearn: 0.1815243\ttotal: 284ms\tremaining: 3.66s\n",
      "72:\tlearn: 0.1800543\ttotal: 286ms\tremaining: 3.63s\n",
      "73:\tlearn: 0.1789523\ttotal: 288ms\tremaining: 3.61s\n",
      "74:\tlearn: 0.1776579\ttotal: 290ms\tremaining: 3.58s\n",
      "75:\tlearn: 0.1762218\ttotal: 292ms\tremaining: 3.56s\n",
      "76:\tlearn: 0.1754032\ttotal: 294ms\tremaining: 3.53s\n",
      "77:\tlearn: 0.1743882\ttotal: 297ms\tremaining: 3.5s\n",
      "78:\tlearn: 0.1733894\ttotal: 299ms\tremaining: 3.48s\n",
      "79:\tlearn: 0.1727305\ttotal: 301ms\tremaining: 3.46s\n",
      "80:\tlearn: 0.1713423\ttotal: 303ms\tremaining: 3.43s\n",
      "81:\tlearn: 0.1702108\ttotal: 305ms\tremaining: 3.42s\n",
      "82:\tlearn: 0.1693234\ttotal: 307ms\tremaining: 3.39s\n",
      "83:\tlearn: 0.1686897\ttotal: 309ms\tremaining: 3.37s\n",
      "84:\tlearn: 0.1676784\ttotal: 312ms\tremaining: 3.36s\n",
      "85:\tlearn: 0.1667972\ttotal: 314ms\tremaining: 3.34s\n",
      "86:\tlearn: 0.1658546\ttotal: 316ms\tremaining: 3.32s\n",
      "87:\tlearn: 0.1648002\ttotal: 318ms\tremaining: 3.3s\n",
      "88:\tlearn: 0.1642491\ttotal: 320ms\tremaining: 3.28s\n",
      "89:\tlearn: 0.1638598\ttotal: 322ms\tremaining: 3.26s\n",
      "90:\tlearn: 0.1629857\ttotal: 324ms\tremaining: 3.24s\n",
      "91:\tlearn: 0.1621128\ttotal: 326ms\tremaining: 3.22s\n",
      "92:\tlearn: 0.1613980\ttotal: 329ms\tremaining: 3.2s\n",
      "93:\tlearn: 0.1606944\ttotal: 331ms\tremaining: 3.19s\n",
      "94:\tlearn: 0.1601045\ttotal: 333ms\tremaining: 3.17s\n",
      "95:\tlearn: 0.1589745\ttotal: 335ms\tremaining: 3.16s\n",
      "96:\tlearn: 0.1583865\ttotal: 337ms\tremaining: 3.14s\n",
      "97:\tlearn: 0.1579510\ttotal: 340ms\tremaining: 3.13s\n",
      "98:\tlearn: 0.1574175\ttotal: 342ms\tremaining: 3.11s\n",
      "99:\tlearn: 0.1570405\ttotal: 344ms\tremaining: 3.1s\n",
      "100:\tlearn: 0.1564038\ttotal: 346ms\tremaining: 3.08s\n",
      "101:\tlearn: 0.1556032\ttotal: 349ms\tremaining: 3.07s\n",
      "102:\tlearn: 0.1551885\ttotal: 351ms\tremaining: 3.06s\n",
      "103:\tlearn: 0.1549943\ttotal: 353ms\tremaining: 3.04s\n",
      "104:\tlearn: 0.1545187\ttotal: 355ms\tremaining: 3.02s\n",
      "105:\tlearn: 0.1540587\ttotal: 357ms\tremaining: 3.01s\n",
      "106:\tlearn: 0.1533842\ttotal: 359ms\tremaining: 2.99s\n",
      "107:\tlearn: 0.1529438\ttotal: 361ms\tremaining: 2.98s\n",
      "108:\tlearn: 0.1522355\ttotal: 363ms\tremaining: 2.97s\n",
      "109:\tlearn: 0.1517275\ttotal: 365ms\tremaining: 2.95s\n",
      "110:\tlearn: 0.1511221\ttotal: 367ms\tremaining: 2.94s\n",
      "111:\tlearn: 0.1506573\ttotal: 370ms\tremaining: 2.93s\n",
      "112:\tlearn: 0.1501387\ttotal: 372ms\tremaining: 2.92s\n",
      "113:\tlearn: 0.1496229\ttotal: 374ms\tremaining: 2.9s\n",
      "114:\tlearn: 0.1491316\ttotal: 376ms\tremaining: 2.89s\n",
      "115:\tlearn: 0.1485793\ttotal: 378ms\tremaining: 2.88s\n",
      "116:\tlearn: 0.1482034\ttotal: 380ms\tremaining: 2.87s\n",
      "117:\tlearn: 0.1477965\ttotal: 382ms\tremaining: 2.86s\n",
      "118:\tlearn: 0.1476038\ttotal: 384ms\tremaining: 2.85s\n",
      "119:\tlearn: 0.1472081\ttotal: 386ms\tremaining: 2.83s\n",
      "120:\tlearn: 0.1470707\ttotal: 388ms\tremaining: 2.82s\n",
      "121:\tlearn: 0.1465477\ttotal: 390ms\tremaining: 2.81s\n",
      "122:\tlearn: 0.1459293\ttotal: 392ms\tremaining: 2.8s\n",
      "123:\tlearn: 0.1457253\ttotal: 395ms\tremaining: 2.79s\n",
      "124:\tlearn: 0.1452786\ttotal: 397ms\tremaining: 2.78s\n",
      "125:\tlearn: 0.1449731\ttotal: 399ms\tremaining: 2.77s\n",
      "126:\tlearn: 0.1445420\ttotal: 401ms\tremaining: 2.76s\n",
      "127:\tlearn: 0.1442991\ttotal: 403ms\tremaining: 2.75s\n",
      "128:\tlearn: 0.1438743\ttotal: 405ms\tremaining: 2.74s\n",
      "129:\tlearn: 0.1433767\ttotal: 408ms\tremaining: 2.73s\n",
      "130:\tlearn: 0.1429244\ttotal: 410ms\tremaining: 2.72s\n",
      "131:\tlearn: 0.1427059\ttotal: 412ms\tremaining: 2.71s\n",
      "132:\tlearn: 0.1423105\ttotal: 414ms\tremaining: 2.7s\n",
      "133:\tlearn: 0.1418850\ttotal: 417ms\tremaining: 2.69s\n",
      "134:\tlearn: 0.1415780\ttotal: 419ms\tremaining: 2.68s\n",
      "135:\tlearn: 0.1411880\ttotal: 421ms\tremaining: 2.67s\n",
      "136:\tlearn: 0.1408506\ttotal: 423ms\tremaining: 2.66s\n",
      "137:\tlearn: 0.1405505\ttotal: 425ms\tremaining: 2.65s\n",
      "138:\tlearn: 0.1404067\ttotal: 427ms\tremaining: 2.64s\n",
      "139:\tlearn: 0.1399916\ttotal: 429ms\tremaining: 2.63s\n",
      "140:\tlearn: 0.1394875\ttotal: 431ms\tremaining: 2.63s\n",
      "141:\tlearn: 0.1392514\ttotal: 433ms\tremaining: 2.62s\n",
      "142:\tlearn: 0.1389531\ttotal: 435ms\tremaining: 2.61s\n",
      "143:\tlearn: 0.1386627\ttotal: 437ms\tremaining: 2.6s\n",
      "144:\tlearn: 0.1383804\ttotal: 439ms\tremaining: 2.59s\n",
      "145:\tlearn: 0.1381243\ttotal: 441ms\tremaining: 2.58s\n",
      "146:\tlearn: 0.1378166\ttotal: 443ms\tremaining: 2.57s\n",
      "147:\tlearn: 0.1376317\ttotal: 445ms\tremaining: 2.56s\n",
      "148:\tlearn: 0.1373808\ttotal: 447ms\tremaining: 2.56s\n",
      "149:\tlearn: 0.1369897\ttotal: 450ms\tremaining: 2.55s\n",
      "150:\tlearn: 0.1366531\ttotal: 452ms\tremaining: 2.54s\n",
      "151:\tlearn: 0.1363794\ttotal: 454ms\tremaining: 2.53s\n",
      "152:\tlearn: 0.1362086\ttotal: 456ms\tremaining: 2.52s\n",
      "153:\tlearn: 0.1359778\ttotal: 458ms\tremaining: 2.52s\n",
      "154:\tlearn: 0.1358988\ttotal: 460ms\tremaining: 2.51s\n",
      "155:\tlearn: 0.1357184\ttotal: 462ms\tremaining: 2.5s\n",
      "156:\tlearn: 0.1354212\ttotal: 464ms\tremaining: 2.49s\n",
      "157:\tlearn: 0.1352122\ttotal: 466ms\tremaining: 2.48s\n",
      "158:\tlearn: 0.1349797\ttotal: 468ms\tremaining: 2.48s\n",
      "159:\tlearn: 0.1347658\ttotal: 470ms\tremaining: 2.47s\n",
      "160:\tlearn: 0.1346134\ttotal: 472ms\tremaining: 2.46s\n",
      "161:\tlearn: 0.1343152\ttotal: 474ms\tremaining: 2.45s\n",
      "162:\tlearn: 0.1340856\ttotal: 476ms\tremaining: 2.45s\n",
      "163:\tlearn: 0.1338088\ttotal: 479ms\tremaining: 2.44s\n",
      "164:\tlearn: 0.1335873\ttotal: 481ms\tremaining: 2.43s\n",
      "165:\tlearn: 0.1333400\ttotal: 483ms\tremaining: 2.42s\n",
      "166:\tlearn: 0.1330877\ttotal: 485ms\tremaining: 2.42s\n",
      "167:\tlearn: 0.1326823\ttotal: 487ms\tremaining: 2.41s\n",
      "168:\tlearn: 0.1325624\ttotal: 489ms\tremaining: 2.4s\n",
      "169:\tlearn: 0.1322056\ttotal: 491ms\tremaining: 2.4s\n",
      "170:\tlearn: 0.1319543\ttotal: 493ms\tremaining: 2.39s\n",
      "171:\tlearn: 0.1317068\ttotal: 496ms\tremaining: 2.39s\n",
      "172:\tlearn: 0.1316184\ttotal: 498ms\tremaining: 2.38s\n",
      "173:\tlearn: 0.1313773\ttotal: 500ms\tremaining: 2.37s\n",
      "174:\tlearn: 0.1312510\ttotal: 502ms\tremaining: 2.37s\n",
      "175:\tlearn: 0.1310368\ttotal: 505ms\tremaining: 2.36s\n",
      "176:\tlearn: 0.1308316\ttotal: 507ms\tremaining: 2.35s\n",
      "177:\tlearn: 0.1305931\ttotal: 509ms\tremaining: 2.35s\n",
      "178:\tlearn: 0.1304135\ttotal: 511ms\tremaining: 2.34s\n",
      "179:\tlearn: 0.1301855\ttotal: 513ms\tremaining: 2.34s\n",
      "180:\tlearn: 0.1300269\ttotal: 515ms\tremaining: 2.33s\n",
      "181:\tlearn: 0.1298919\ttotal: 517ms\tremaining: 2.32s\n",
      "182:\tlearn: 0.1296697\ttotal: 519ms\tremaining: 2.32s\n",
      "183:\tlearn: 0.1293785\ttotal: 521ms\tremaining: 2.31s\n",
      "184:\tlearn: 0.1290605\ttotal: 524ms\tremaining: 2.31s\n",
      "185:\tlearn: 0.1288075\ttotal: 526ms\tremaining: 2.3s\n",
      "186:\tlearn: 0.1286185\ttotal: 528ms\tremaining: 2.29s\n",
      "187:\tlearn: 0.1283635\ttotal: 530ms\tremaining: 2.29s\n",
      "188:\tlearn: 0.1283135\ttotal: 532ms\tremaining: 2.28s\n",
      "189:\tlearn: 0.1280922\ttotal: 534ms\tremaining: 2.28s\n",
      "190:\tlearn: 0.1278850\ttotal: 537ms\tremaining: 2.27s\n",
      "191:\tlearn: 0.1277852\ttotal: 539ms\tremaining: 2.27s\n",
      "192:\tlearn: 0.1276118\ttotal: 541ms\tremaining: 2.26s\n",
      "193:\tlearn: 0.1273866\ttotal: 543ms\tremaining: 2.25s\n",
      "194:\tlearn: 0.1271448\ttotal: 545ms\tremaining: 2.25s\n",
      "195:\tlearn: 0.1270105\ttotal: 547ms\tremaining: 2.24s\n",
      "196:\tlearn: 0.1267492\ttotal: 549ms\tremaining: 2.24s\n",
      "197:\tlearn: 0.1265495\ttotal: 551ms\tremaining: 2.23s\n",
      "198:\tlearn: 0.1263442\ttotal: 554ms\tremaining: 2.23s\n",
      "199:\tlearn: 0.1261672\ttotal: 556ms\tremaining: 2.22s\n",
      "200:\tlearn: 0.1259328\ttotal: 558ms\tremaining: 2.22s\n",
      "201:\tlearn: 0.1256917\ttotal: 560ms\tremaining: 2.21s\n",
      "202:\tlearn: 0.1255255\ttotal: 562ms\tremaining: 2.21s\n",
      "203:\tlearn: 0.1254467\ttotal: 564ms\tremaining: 2.2s\n",
      "204:\tlearn: 0.1252725\ttotal: 566ms\tremaining: 2.2s\n",
      "205:\tlearn: 0.1251173\ttotal: 569ms\tremaining: 2.19s\n",
      "206:\tlearn: 0.1249640\ttotal: 571ms\tremaining: 2.19s\n",
      "207:\tlearn: 0.1247721\ttotal: 573ms\tremaining: 2.18s\n",
      "208:\tlearn: 0.1245217\ttotal: 575ms\tremaining: 2.18s\n",
      "209:\tlearn: 0.1242163\ttotal: 577ms\tremaining: 2.17s\n",
      "210:\tlearn: 0.1240677\ttotal: 579ms\tremaining: 2.17s\n",
      "211:\tlearn: 0.1238442\ttotal: 581ms\tremaining: 2.16s\n",
      "212:\tlearn: 0.1236306\ttotal: 584ms\tremaining: 2.15s\n",
      "213:\tlearn: 0.1233535\ttotal: 586ms\tremaining: 2.15s\n",
      "214:\tlearn: 0.1231803\ttotal: 588ms\tremaining: 2.15s\n",
      "215:\tlearn: 0.1230642\ttotal: 590ms\tremaining: 2.14s\n",
      "216:\tlearn: 0.1229528\ttotal: 592ms\tremaining: 2.14s\n",
      "217:\tlearn: 0.1229127\ttotal: 594ms\tremaining: 2.13s\n",
      "218:\tlearn: 0.1227197\ttotal: 596ms\tremaining: 2.13s\n",
      "219:\tlearn: 0.1227031\ttotal: 598ms\tremaining: 2.12s\n",
      "220:\tlearn: 0.1225630\ttotal: 600ms\tremaining: 2.12s\n",
      "221:\tlearn: 0.1224071\ttotal: 602ms\tremaining: 2.11s\n",
      "222:\tlearn: 0.1223737\ttotal: 604ms\tremaining: 2.1s\n",
      "223:\tlearn: 0.1221635\ttotal: 606ms\tremaining: 2.1s\n",
      "224:\tlearn: 0.1219741\ttotal: 609ms\tremaining: 2.1s\n",
      "225:\tlearn: 0.1218291\ttotal: 611ms\tremaining: 2.09s\n",
      "226:\tlearn: 0.1216625\ttotal: 613ms\tremaining: 2.09s\n",
      "227:\tlearn: 0.1214705\ttotal: 615ms\tremaining: 2.08s\n",
      "228:\tlearn: 0.1213118\ttotal: 617ms\tremaining: 2.08s\n",
      "229:\tlearn: 0.1211811\ttotal: 619ms\tremaining: 2.07s\n",
      "230:\tlearn: 0.1209290\ttotal: 622ms\tremaining: 2.07s\n",
      "231:\tlearn: 0.1206921\ttotal: 624ms\tremaining: 2.06s\n",
      "232:\tlearn: 0.1205830\ttotal: 626ms\tremaining: 2.06s\n",
      "233:\tlearn: 0.1204757\ttotal: 628ms\tremaining: 2.06s\n",
      "234:\tlearn: 0.1203023\ttotal: 630ms\tremaining: 2.05s\n",
      "235:\tlearn: 0.1201006\ttotal: 633ms\tremaining: 2.05s\n",
      "236:\tlearn: 0.1199242\ttotal: 635ms\tremaining: 2.04s\n",
      "237:\tlearn: 0.1197289\ttotal: 637ms\tremaining: 2.04s\n",
      "238:\tlearn: 0.1194965\ttotal: 639ms\tremaining: 2.04s\n",
      "239:\tlearn: 0.1193104\ttotal: 641ms\tremaining: 2.03s\n",
      "240:\tlearn: 0.1192999\ttotal: 643ms\tremaining: 2.02s\n",
      "241:\tlearn: 0.1191623\ttotal: 645ms\tremaining: 2.02s\n",
      "242:\tlearn: 0.1191143\ttotal: 647ms\tremaining: 2.02s\n",
      "243:\tlearn: 0.1190033\ttotal: 649ms\tremaining: 2.01s\n",
      "244:\tlearn: 0.1187695\ttotal: 651ms\tremaining: 2.01s\n",
      "245:\tlearn: 0.1186635\ttotal: 653ms\tremaining: 2s\n",
      "246:\tlearn: 0.1185148\ttotal: 655ms\tremaining: 2s\n",
      "247:\tlearn: 0.1184485\ttotal: 657ms\tremaining: 1.99s\n",
      "248:\tlearn: 0.1183389\ttotal: 659ms\tremaining: 1.99s\n",
      "249:\tlearn: 0.1182528\ttotal: 661ms\tremaining: 1.98s\n",
      "250:\tlearn: 0.1181805\ttotal: 663ms\tremaining: 1.98s\n",
      "251:\tlearn: 0.1181040\ttotal: 666ms\tremaining: 1.98s\n",
      "252:\tlearn: 0.1179536\ttotal: 668ms\tremaining: 1.97s\n",
      "253:\tlearn: 0.1178723\ttotal: 670ms\tremaining: 1.97s\n",
      "254:\tlearn: 0.1177554\ttotal: 672ms\tremaining: 1.96s\n",
      "255:\tlearn: 0.1175910\ttotal: 674ms\tremaining: 1.96s\n",
      "256:\tlearn: 0.1174103\ttotal: 676ms\tremaining: 1.95s\n",
      "257:\tlearn: 0.1172333\ttotal: 678ms\tremaining: 1.95s\n",
      "258:\tlearn: 0.1170815\ttotal: 680ms\tremaining: 1.95s\n",
      "259:\tlearn: 0.1168851\ttotal: 682ms\tremaining: 1.94s\n",
      "260:\tlearn: 0.1167018\ttotal: 684ms\tremaining: 1.94s\n",
      "261:\tlearn: 0.1164554\ttotal: 686ms\tremaining: 1.93s\n",
      "262:\tlearn: 0.1161918\ttotal: 688ms\tremaining: 1.93s\n",
      "263:\tlearn: 0.1160859\ttotal: 690ms\tremaining: 1.92s\n",
      "264:\tlearn: 0.1160018\ttotal: 692ms\tremaining: 1.92s\n",
      "265:\tlearn: 0.1158495\ttotal: 695ms\tremaining: 1.92s\n",
      "266:\tlearn: 0.1155980\ttotal: 697ms\tremaining: 1.91s\n",
      "267:\tlearn: 0.1155326\ttotal: 699ms\tremaining: 1.91s\n",
      "268:\tlearn: 0.1154662\ttotal: 701ms\tremaining: 1.91s\n",
      "269:\tlearn: 0.1153431\ttotal: 703ms\tremaining: 1.9s\n",
      "270:\tlearn: 0.1152027\ttotal: 705ms\tremaining: 1.9s\n",
      "271:\tlearn: 0.1151761\ttotal: 707ms\tremaining: 1.89s\n",
      "272:\tlearn: 0.1150076\ttotal: 709ms\tremaining: 1.89s\n",
      "273:\tlearn: 0.1148066\ttotal: 712ms\tremaining: 1.89s\n",
      "274:\tlearn: 0.1147212\ttotal: 714ms\tremaining: 1.88s\n",
      "275:\tlearn: 0.1146023\ttotal: 716ms\tremaining: 1.88s\n",
      "276:\tlearn: 0.1144898\ttotal: 718ms\tremaining: 1.87s\n",
      "277:\tlearn: 0.1142539\ttotal: 720ms\tremaining: 1.87s\n",
      "278:\tlearn: 0.1140402\ttotal: 722ms\tremaining: 1.86s\n",
      "279:\tlearn: 0.1139117\ttotal: 724ms\tremaining: 1.86s\n",
      "280:\tlearn: 0.1137945\ttotal: 726ms\tremaining: 1.86s\n",
      "281:\tlearn: 0.1136627\ttotal: 728ms\tremaining: 1.85s\n",
      "282:\tlearn: 0.1135046\ttotal: 730ms\tremaining: 1.85s\n",
      "283:\tlearn: 0.1133623\ttotal: 732ms\tremaining: 1.85s\n",
      "284:\tlearn: 0.1132554\ttotal: 734ms\tremaining: 1.84s\n",
      "285:\tlearn: 0.1131104\ttotal: 737ms\tremaining: 1.84s\n",
      "286:\tlearn: 0.1130167\ttotal: 739ms\tremaining: 1.83s\n",
      "287:\tlearn: 0.1128239\ttotal: 741ms\tremaining: 1.83s\n",
      "288:\tlearn: 0.1126787\ttotal: 743ms\tremaining: 1.83s\n",
      "289:\tlearn: 0.1125277\ttotal: 746ms\tremaining: 1.82s\n",
      "290:\tlearn: 0.1123972\ttotal: 748ms\tremaining: 1.82s\n",
      "291:\tlearn: 0.1122723\ttotal: 750ms\tremaining: 1.82s\n",
      "292:\tlearn: 0.1121921\ttotal: 752ms\tremaining: 1.81s\n",
      "293:\tlearn: 0.1121281\ttotal: 754ms\tremaining: 1.81s\n",
      "294:\tlearn: 0.1119359\ttotal: 757ms\tremaining: 1.81s\n",
      "295:\tlearn: 0.1118401\ttotal: 759ms\tremaining: 1.8s\n",
      "296:\tlearn: 0.1116565\ttotal: 761ms\tremaining: 1.8s\n",
      "297:\tlearn: 0.1115039\ttotal: 764ms\tremaining: 1.8s\n",
      "298:\tlearn: 0.1114241\ttotal: 766ms\tremaining: 1.79s\n",
      "299:\tlearn: 0.1113682\ttotal: 768ms\tremaining: 1.79s\n",
      "300:\tlearn: 0.1111776\ttotal: 770ms\tremaining: 1.79s\n",
      "301:\tlearn: 0.1110546\ttotal: 772ms\tremaining: 1.78s\n",
      "302:\tlearn: 0.1108905\ttotal: 774ms\tremaining: 1.78s\n",
      "303:\tlearn: 0.1107347\ttotal: 776ms\tremaining: 1.78s\n",
      "304:\tlearn: 0.1105952\ttotal: 778ms\tremaining: 1.77s\n",
      "305:\tlearn: 0.1105098\ttotal: 780ms\tremaining: 1.77s\n",
      "306:\tlearn: 0.1103683\ttotal: 782ms\tremaining: 1.76s\n",
      "307:\tlearn: 0.1102480\ttotal: 784ms\tremaining: 1.76s\n",
      "308:\tlearn: 0.1101029\ttotal: 786ms\tremaining: 1.76s\n",
      "309:\tlearn: 0.1099524\ttotal: 788ms\tremaining: 1.75s\n",
      "310:\tlearn: 0.1098779\ttotal: 791ms\tremaining: 1.75s\n",
      "311:\tlearn: 0.1097874\ttotal: 793ms\tremaining: 1.75s\n",
      "312:\tlearn: 0.1097035\ttotal: 795ms\tremaining: 1.75s\n",
      "313:\tlearn: 0.1094871\ttotal: 797ms\tremaining: 1.74s\n",
      "314:\tlearn: 0.1094108\ttotal: 799ms\tremaining: 1.74s\n",
      "315:\tlearn: 0.1092735\ttotal: 801ms\tremaining: 1.73s\n",
      "316:\tlearn: 0.1090891\ttotal: 804ms\tremaining: 1.73s\n",
      "317:\tlearn: 0.1090329\ttotal: 806ms\tremaining: 1.73s\n",
      "318:\tlearn: 0.1089058\ttotal: 808ms\tremaining: 1.73s\n",
      "319:\tlearn: 0.1088477\ttotal: 810ms\tremaining: 1.72s\n",
      "320:\tlearn: 0.1086819\ttotal: 812ms\tremaining: 1.72s\n",
      "321:\tlearn: 0.1085133\ttotal: 815ms\tremaining: 1.72s\n",
      "322:\tlearn: 0.1083630\ttotal: 817ms\tremaining: 1.71s\n",
      "323:\tlearn: 0.1081704\ttotal: 820ms\tremaining: 1.71s\n",
      "324:\tlearn: 0.1080032\ttotal: 822ms\tremaining: 1.71s\n",
      "325:\tlearn: 0.1077835\ttotal: 824ms\tremaining: 1.7s\n",
      "326:\tlearn: 0.1076696\ttotal: 827ms\tremaining: 1.7s\n",
      "327:\tlearn: 0.1075365\ttotal: 829ms\tremaining: 1.7s\n",
      "328:\tlearn: 0.1074601\ttotal: 831ms\tremaining: 1.69s\n",
      "329:\tlearn: 0.1074190\ttotal: 833ms\tremaining: 1.69s\n",
      "330:\tlearn: 0.1072628\ttotal: 835ms\tremaining: 1.69s\n",
      "331:\tlearn: 0.1071773\ttotal: 837ms\tremaining: 1.68s\n",
      "332:\tlearn: 0.1070864\ttotal: 840ms\tremaining: 1.68s\n",
      "333:\tlearn: 0.1069940\ttotal: 842ms\tremaining: 1.68s\n",
      "334:\tlearn: 0.1069145\ttotal: 844ms\tremaining: 1.68s\n",
      "335:\tlearn: 0.1067593\ttotal: 846ms\tremaining: 1.67s\n",
      "336:\tlearn: 0.1066114\ttotal: 849ms\tremaining: 1.67s\n",
      "337:\tlearn: 0.1065981\ttotal: 850ms\tremaining: 1.67s\n",
      "338:\tlearn: 0.1064657\ttotal: 852ms\tremaining: 1.66s\n",
      "339:\tlearn: 0.1063538\ttotal: 855ms\tremaining: 1.66s\n",
      "340:\tlearn: 0.1062099\ttotal: 857ms\tremaining: 1.66s\n",
      "341:\tlearn: 0.1060932\ttotal: 859ms\tremaining: 1.65s\n",
      "342:\tlearn: 0.1059852\ttotal: 861ms\tremaining: 1.65s\n",
      "343:\tlearn: 0.1059338\ttotal: 863ms\tremaining: 1.65s\n",
      "344:\tlearn: 0.1058537\ttotal: 865ms\tremaining: 1.64s\n",
      "345:\tlearn: 0.1058002\ttotal: 867ms\tremaining: 1.64s\n",
      "346:\tlearn: 0.1057601\ttotal: 869ms\tremaining: 1.64s\n",
      "347:\tlearn: 0.1055846\ttotal: 871ms\tremaining: 1.63s\n",
      "348:\tlearn: 0.1054388\ttotal: 873ms\tremaining: 1.63s\n",
      "349:\tlearn: 0.1053278\ttotal: 876ms\tremaining: 1.63s\n",
      "350:\tlearn: 0.1052359\ttotal: 878ms\tremaining: 1.62s\n",
      "351:\tlearn: 0.1051523\ttotal: 880ms\tremaining: 1.62s\n",
      "352:\tlearn: 0.1051087\ttotal: 882ms\tremaining: 1.62s\n",
      "353:\tlearn: 0.1049440\ttotal: 884ms\tremaining: 1.61s\n",
      "354:\tlearn: 0.1049075\ttotal: 886ms\tremaining: 1.61s\n",
      "355:\tlearn: 0.1047719\ttotal: 888ms\tremaining: 1.61s\n",
      "356:\tlearn: 0.1046373\ttotal: 890ms\tremaining: 1.6s\n",
      "357:\tlearn: 0.1045943\ttotal: 892ms\tremaining: 1.6s\n",
      "358:\tlearn: 0.1045062\ttotal: 895ms\tremaining: 1.6s\n",
      "359:\tlearn: 0.1043932\ttotal: 897ms\tremaining: 1.59s\n",
      "360:\tlearn: 0.1043226\ttotal: 899ms\tremaining: 1.59s\n",
      "361:\tlearn: 0.1041883\ttotal: 901ms\tremaining: 1.59s\n",
      "362:\tlearn: 0.1041143\ttotal: 903ms\tremaining: 1.58s\n",
      "363:\tlearn: 0.1040683\ttotal: 905ms\tremaining: 1.58s\n",
      "364:\tlearn: 0.1039472\ttotal: 907ms\tremaining: 1.58s\n",
      "365:\tlearn: 0.1038655\ttotal: 909ms\tremaining: 1.57s\n",
      "366:\tlearn: 0.1037660\ttotal: 911ms\tremaining: 1.57s\n",
      "367:\tlearn: 0.1036788\ttotal: 913ms\tremaining: 1.57s\n",
      "368:\tlearn: 0.1036115\ttotal: 916ms\tremaining: 1.56s\n",
      "369:\tlearn: 0.1034983\ttotal: 918ms\tremaining: 1.56s\n",
      "370:\tlearn: 0.1032986\ttotal: 920ms\tremaining: 1.56s\n",
      "371:\tlearn: 0.1032502\ttotal: 922ms\tremaining: 1.56s\n",
      "372:\tlearn: 0.1031252\ttotal: 925ms\tremaining: 1.55s\n",
      "373:\tlearn: 0.1029696\ttotal: 927ms\tremaining: 1.55s\n",
      "374:\tlearn: 0.1028834\ttotal: 929ms\tremaining: 1.55s\n",
      "375:\tlearn: 0.1026993\ttotal: 931ms\tremaining: 1.54s\n",
      "376:\tlearn: 0.1025465\ttotal: 933ms\tremaining: 1.54s\n",
      "377:\tlearn: 0.1024292\ttotal: 936ms\tremaining: 1.54s\n",
      "378:\tlearn: 0.1023218\ttotal: 938ms\tremaining: 1.54s\n",
      "379:\tlearn: 0.1022387\ttotal: 940ms\tremaining: 1.53s\n",
      "380:\tlearn: 0.1022025\ttotal: 942ms\tremaining: 1.53s\n",
      "381:\tlearn: 0.1021118\ttotal: 944ms\tremaining: 1.53s\n",
      "382:\tlearn: 0.1019782\ttotal: 947ms\tremaining: 1.52s\n",
      "383:\tlearn: 0.1018228\ttotal: 949ms\tremaining: 1.52s\n",
      "384:\tlearn: 0.1016531\ttotal: 951ms\tremaining: 1.52s\n",
      "385:\tlearn: 0.1014764\ttotal: 954ms\tremaining: 1.52s\n",
      "386:\tlearn: 0.1014102\ttotal: 956ms\tremaining: 1.51s\n",
      "387:\tlearn: 0.1013178\ttotal: 959ms\tremaining: 1.51s\n",
      "388:\tlearn: 0.1011817\ttotal: 961ms\tremaining: 1.51s\n",
      "389:\tlearn: 0.1010773\ttotal: 963ms\tremaining: 1.51s\n",
      "390:\tlearn: 0.1009985\ttotal: 965ms\tremaining: 1.5s\n",
      "391:\tlearn: 0.1009356\ttotal: 968ms\tremaining: 1.5s\n",
      "392:\tlearn: 0.1008081\ttotal: 970ms\tremaining: 1.5s\n",
      "393:\tlearn: 0.1007346\ttotal: 972ms\tremaining: 1.49s\n",
      "394:\tlearn: 0.1006493\ttotal: 974ms\tremaining: 1.49s\n",
      "395:\tlearn: 0.1005127\ttotal: 976ms\tremaining: 1.49s\n",
      "396:\tlearn: 0.1004258\ttotal: 978ms\tremaining: 1.49s\n",
      "397:\tlearn: 0.1003197\ttotal: 980ms\tremaining: 1.48s\n",
      "398:\tlearn: 0.1002369\ttotal: 983ms\tremaining: 1.48s\n",
      "399:\tlearn: 0.1001543\ttotal: 985ms\tremaining: 1.48s\n",
      "400:\tlearn: 0.1000044\ttotal: 987ms\tremaining: 1.47s\n",
      "401:\tlearn: 0.0999514\ttotal: 989ms\tremaining: 1.47s\n",
      "402:\tlearn: 0.0998503\ttotal: 991ms\tremaining: 1.47s\n",
      "403:\tlearn: 0.0997348\ttotal: 993ms\tremaining: 1.47s\n",
      "404:\tlearn: 0.0995859\ttotal: 995ms\tremaining: 1.46s\n",
      "405:\tlearn: 0.0994039\ttotal: 998ms\tremaining: 1.46s\n",
      "406:\tlearn: 0.0992237\ttotal: 1000ms\tremaining: 1.46s\n",
      "407:\tlearn: 0.0991542\ttotal: 1s\tremaining: 1.45s\n",
      "408:\tlearn: 0.0990242\ttotal: 1s\tremaining: 1.45s\n",
      "409:\tlearn: 0.0988882\ttotal: 1.01s\tremaining: 1.45s\n",
      "410:\tlearn: 0.0988241\ttotal: 1.01s\tremaining: 1.44s\n",
      "411:\tlearn: 0.0986515\ttotal: 1.01s\tremaining: 1.44s\n",
      "412:\tlearn: 0.0985122\ttotal: 1.01s\tremaining: 1.44s\n",
      "413:\tlearn: 0.0984268\ttotal: 1.01s\tremaining: 1.44s\n",
      "414:\tlearn: 0.0984073\ttotal: 1.02s\tremaining: 1.43s\n",
      "415:\tlearn: 0.0982612\ttotal: 1.02s\tremaining: 1.43s\n",
      "416:\tlearn: 0.0981056\ttotal: 1.02s\tremaining: 1.43s\n",
      "417:\tlearn: 0.0980313\ttotal: 1.02s\tremaining: 1.43s\n",
      "418:\tlearn: 0.0978540\ttotal: 1.03s\tremaining: 1.42s\n",
      "419:\tlearn: 0.0977711\ttotal: 1.03s\tremaining: 1.42s\n",
      "420:\tlearn: 0.0977062\ttotal: 1.03s\tremaining: 1.42s\n",
      "421:\tlearn: 0.0975837\ttotal: 1.03s\tremaining: 1.41s\n",
      "422:\tlearn: 0.0974866\ttotal: 1.03s\tremaining: 1.41s\n",
      "423:\tlearn: 0.0974097\ttotal: 1.04s\tremaining: 1.41s\n",
      "424:\tlearn: 0.0973236\ttotal: 1.04s\tremaining: 1.41s\n",
      "425:\tlearn: 0.0972636\ttotal: 1.04s\tremaining: 1.4s\n",
      "426:\tlearn: 0.0971215\ttotal: 1.04s\tremaining: 1.4s\n",
      "427:\tlearn: 0.0970191\ttotal: 1.05s\tremaining: 1.4s\n",
      "428:\tlearn: 0.0969191\ttotal: 1.05s\tremaining: 1.4s\n",
      "429:\tlearn: 0.0968143\ttotal: 1.05s\tremaining: 1.39s\n",
      "430:\tlearn: 0.0966690\ttotal: 1.05s\tremaining: 1.39s\n",
      "431:\tlearn: 0.0965899\ttotal: 1.05s\tremaining: 1.39s\n",
      "432:\tlearn: 0.0965236\ttotal: 1.06s\tremaining: 1.38s\n",
      "433:\tlearn: 0.0964164\ttotal: 1.06s\tremaining: 1.38s\n",
      "434:\tlearn: 0.0962449\ttotal: 1.06s\tremaining: 1.38s\n",
      "435:\tlearn: 0.0961620\ttotal: 1.06s\tremaining: 1.38s\n",
      "436:\tlearn: 0.0960831\ttotal: 1.06s\tremaining: 1.37s\n",
      "437:\tlearn: 0.0960160\ttotal: 1.07s\tremaining: 1.37s\n",
      "438:\tlearn: 0.0958858\ttotal: 1.07s\tremaining: 1.37s\n",
      "439:\tlearn: 0.0957787\ttotal: 1.07s\tremaining: 1.36s\n",
      "440:\tlearn: 0.0956674\ttotal: 1.07s\tremaining: 1.36s\n",
      "441:\tlearn: 0.0955949\ttotal: 1.07s\tremaining: 1.36s\n",
      "442:\tlearn: 0.0954802\ttotal: 1.08s\tremaining: 1.35s\n",
      "443:\tlearn: 0.0953902\ttotal: 1.08s\tremaining: 1.35s\n",
      "444:\tlearn: 0.0952072\ttotal: 1.08s\tremaining: 1.35s\n",
      "445:\tlearn: 0.0950566\ttotal: 1.08s\tremaining: 1.35s\n",
      "446:\tlearn: 0.0949737\ttotal: 1.09s\tremaining: 1.34s\n",
      "447:\tlearn: 0.0948977\ttotal: 1.09s\tremaining: 1.34s\n",
      "448:\tlearn: 0.0947548\ttotal: 1.09s\tremaining: 1.34s\n",
      "449:\tlearn: 0.0946186\ttotal: 1.09s\tremaining: 1.33s\n",
      "450:\tlearn: 0.0945371\ttotal: 1.09s\tremaining: 1.33s\n",
      "451:\tlearn: 0.0944604\ttotal: 1.1s\tremaining: 1.33s\n",
      "452:\tlearn: 0.0943940\ttotal: 1.1s\tremaining: 1.33s\n",
      "453:\tlearn: 0.0943156\ttotal: 1.1s\tremaining: 1.32s\n",
      "454:\tlearn: 0.0942606\ttotal: 1.1s\tremaining: 1.32s\n",
      "455:\tlearn: 0.0941372\ttotal: 1.1s\tremaining: 1.32s\n",
      "456:\tlearn: 0.0940588\ttotal: 1.11s\tremaining: 1.31s\n",
      "457:\tlearn: 0.0939816\ttotal: 1.11s\tremaining: 1.31s\n",
      "458:\tlearn: 0.0938547\ttotal: 1.11s\tremaining: 1.31s\n",
      "459:\tlearn: 0.0937440\ttotal: 1.11s\tremaining: 1.31s\n",
      "460:\tlearn: 0.0936691\ttotal: 1.11s\tremaining: 1.3s\n",
      "461:\tlearn: 0.0935742\ttotal: 1.12s\tremaining: 1.3s\n",
      "462:\tlearn: 0.0934636\ttotal: 1.12s\tremaining: 1.3s\n",
      "463:\tlearn: 0.0933905\ttotal: 1.12s\tremaining: 1.29s\n",
      "464:\tlearn: 0.0932440\ttotal: 1.12s\tremaining: 1.29s\n",
      "465:\tlearn: 0.0931175\ttotal: 1.13s\tremaining: 1.29s\n",
      "466:\tlearn: 0.0930196\ttotal: 1.13s\tremaining: 1.29s\n",
      "467:\tlearn: 0.0928503\ttotal: 1.13s\tremaining: 1.28s\n",
      "468:\tlearn: 0.0926767\ttotal: 1.13s\tremaining: 1.28s\n",
      "469:\tlearn: 0.0925612\ttotal: 1.13s\tremaining: 1.28s\n",
      "470:\tlearn: 0.0924915\ttotal: 1.14s\tremaining: 1.28s\n",
      "471:\tlearn: 0.0924106\ttotal: 1.14s\tremaining: 1.27s\n",
      "472:\tlearn: 0.0922680\ttotal: 1.14s\tremaining: 1.27s\n",
      "473:\tlearn: 0.0921024\ttotal: 1.14s\tremaining: 1.27s\n",
      "474:\tlearn: 0.0919878\ttotal: 1.15s\tremaining: 1.26s\n",
      "475:\tlearn: 0.0918601\ttotal: 1.15s\tremaining: 1.26s\n",
      "476:\tlearn: 0.0917208\ttotal: 1.15s\tremaining: 1.26s\n",
      "477:\tlearn: 0.0916959\ttotal: 1.15s\tremaining: 1.26s\n",
      "478:\tlearn: 0.0916283\ttotal: 1.15s\tremaining: 1.25s\n",
      "479:\tlearn: 0.0914967\ttotal: 1.16s\tremaining: 1.25s\n",
      "480:\tlearn: 0.0913327\ttotal: 1.16s\tremaining: 1.25s\n",
      "481:\tlearn: 0.0912522\ttotal: 1.16s\tremaining: 1.25s\n",
      "482:\tlearn: 0.0911744\ttotal: 1.16s\tremaining: 1.24s\n",
      "483:\tlearn: 0.0910139\ttotal: 1.16s\tremaining: 1.24s\n",
      "484:\tlearn: 0.0909304\ttotal: 1.17s\tremaining: 1.24s\n",
      "485:\tlearn: 0.0908224\ttotal: 1.17s\tremaining: 1.24s\n",
      "486:\tlearn: 0.0907511\ttotal: 1.17s\tremaining: 1.23s\n",
      "487:\tlearn: 0.0906838\ttotal: 1.18s\tremaining: 1.23s\n",
      "488:\tlearn: 0.0905571\ttotal: 1.18s\tremaining: 1.23s\n",
      "489:\tlearn: 0.0903903\ttotal: 1.18s\tremaining: 1.23s\n",
      "490:\tlearn: 0.0903068\ttotal: 1.18s\tremaining: 1.22s\n",
      "491:\tlearn: 0.0902353\ttotal: 1.18s\tremaining: 1.22s\n",
      "492:\tlearn: 0.0901618\ttotal: 1.19s\tremaining: 1.22s\n",
      "493:\tlearn: 0.0899954\ttotal: 1.19s\tremaining: 1.22s\n",
      "494:\tlearn: 0.0898558\ttotal: 1.19s\tremaining: 1.21s\n",
      "495:\tlearn: 0.0897376\ttotal: 1.19s\tremaining: 1.21s\n",
      "496:\tlearn: 0.0896275\ttotal: 1.19s\tremaining: 1.21s\n",
      "497:\tlearn: 0.0894912\ttotal: 1.2s\tremaining: 1.21s\n",
      "498:\tlearn: 0.0894156\ttotal: 1.2s\tremaining: 1.2s\n",
      "499:\tlearn: 0.0893568\ttotal: 1.2s\tremaining: 1.2s\n",
      "500:\tlearn: 0.0892672\ttotal: 1.2s\tremaining: 1.2s\n",
      "501:\tlearn: 0.0891171\ttotal: 1.21s\tremaining: 1.2s\n",
      "502:\tlearn: 0.0890057\ttotal: 1.21s\tremaining: 1.19s\n",
      "503:\tlearn: 0.0888674\ttotal: 1.21s\tremaining: 1.19s\n",
      "504:\tlearn: 0.0887815\ttotal: 1.21s\tremaining: 1.19s\n",
      "505:\tlearn: 0.0887079\ttotal: 1.21s\tremaining: 1.18s\n",
      "506:\tlearn: 0.0886239\ttotal: 1.22s\tremaining: 1.18s\n",
      "507:\tlearn: 0.0885581\ttotal: 1.22s\tremaining: 1.18s\n",
      "508:\tlearn: 0.0884612\ttotal: 1.22s\tremaining: 1.18s\n",
      "509:\tlearn: 0.0883699\ttotal: 1.22s\tremaining: 1.17s\n",
      "510:\tlearn: 0.0882557\ttotal: 1.22s\tremaining: 1.17s\n",
      "511:\tlearn: 0.0881949\ttotal: 1.23s\tremaining: 1.17s\n",
      "512:\tlearn: 0.0881032\ttotal: 1.23s\tremaining: 1.17s\n",
      "513:\tlearn: 0.0880358\ttotal: 1.23s\tremaining: 1.16s\n",
      "514:\tlearn: 0.0879306\ttotal: 1.23s\tremaining: 1.16s\n",
      "515:\tlearn: 0.0878087\ttotal: 1.24s\tremaining: 1.16s\n",
      "516:\tlearn: 0.0877480\ttotal: 1.24s\tremaining: 1.16s\n",
      "517:\tlearn: 0.0876207\ttotal: 1.24s\tremaining: 1.15s\n",
      "518:\tlearn: 0.0875494\ttotal: 1.24s\tremaining: 1.15s\n",
      "519:\tlearn: 0.0874401\ttotal: 1.24s\tremaining: 1.15s\n",
      "520:\tlearn: 0.0873523\ttotal: 1.25s\tremaining: 1.15s\n",
      "521:\tlearn: 0.0872152\ttotal: 1.25s\tremaining: 1.14s\n",
      "522:\tlearn: 0.0871174\ttotal: 1.25s\tremaining: 1.14s\n",
      "523:\tlearn: 0.0869568\ttotal: 1.25s\tremaining: 1.14s\n",
      "524:\tlearn: 0.0868601\ttotal: 1.25s\tremaining: 1.14s\n",
      "525:\tlearn: 0.0867377\ttotal: 1.26s\tremaining: 1.13s\n",
      "526:\tlearn: 0.0866586\ttotal: 1.26s\tremaining: 1.13s\n",
      "527:\tlearn: 0.0865480\ttotal: 1.26s\tremaining: 1.13s\n",
      "528:\tlearn: 0.0864196\ttotal: 1.26s\tremaining: 1.13s\n",
      "529:\tlearn: 0.0863565\ttotal: 1.27s\tremaining: 1.12s\n",
      "530:\tlearn: 0.0863346\ttotal: 1.27s\tremaining: 1.12s\n",
      "531:\tlearn: 0.0862523\ttotal: 1.27s\tremaining: 1.12s\n",
      "532:\tlearn: 0.0861864\ttotal: 1.27s\tremaining: 1.12s\n",
      "533:\tlearn: 0.0860678\ttotal: 1.28s\tremaining: 1.11s\n",
      "534:\tlearn: 0.0859941\ttotal: 1.28s\tremaining: 1.11s\n",
      "535:\tlearn: 0.0859338\ttotal: 1.28s\tremaining: 1.11s\n",
      "536:\tlearn: 0.0857965\ttotal: 1.28s\tremaining: 1.1s\n",
      "537:\tlearn: 0.0857124\ttotal: 1.28s\tremaining: 1.1s\n",
      "538:\tlearn: 0.0855888\ttotal: 1.29s\tremaining: 1.1s\n",
      "539:\tlearn: 0.0854790\ttotal: 1.29s\tremaining: 1.1s\n",
      "540:\tlearn: 0.0853658\ttotal: 1.29s\tremaining: 1.09s\n",
      "541:\tlearn: 0.0853017\ttotal: 1.29s\tremaining: 1.09s\n",
      "542:\tlearn: 0.0852221\ttotal: 1.29s\tremaining: 1.09s\n",
      "543:\tlearn: 0.0851491\ttotal: 1.3s\tremaining: 1.09s\n",
      "544:\tlearn: 0.0850947\ttotal: 1.3s\tremaining: 1.08s\n",
      "545:\tlearn: 0.0849803\ttotal: 1.3s\tremaining: 1.08s\n",
      "546:\tlearn: 0.0848885\ttotal: 1.3s\tremaining: 1.08s\n",
      "547:\tlearn: 0.0848320\ttotal: 1.3s\tremaining: 1.08s\n",
      "548:\tlearn: 0.0847550\ttotal: 1.31s\tremaining: 1.07s\n",
      "549:\tlearn: 0.0847137\ttotal: 1.31s\tremaining: 1.07s\n",
      "550:\tlearn: 0.0845950\ttotal: 1.31s\tremaining: 1.07s\n",
      "551:\tlearn: 0.0845257\ttotal: 1.31s\tremaining: 1.07s\n",
      "552:\tlearn: 0.0844319\ttotal: 1.32s\tremaining: 1.06s\n",
      "553:\tlearn: 0.0843884\ttotal: 1.32s\tremaining: 1.06s\n",
      "554:\tlearn: 0.0842646\ttotal: 1.32s\tremaining: 1.06s\n",
      "555:\tlearn: 0.0841687\ttotal: 1.32s\tremaining: 1.06s\n",
      "556:\tlearn: 0.0841243\ttotal: 1.32s\tremaining: 1.05s\n",
      "557:\tlearn: 0.0840524\ttotal: 1.33s\tremaining: 1.05s\n",
      "558:\tlearn: 0.0839084\ttotal: 1.33s\tremaining: 1.05s\n",
      "559:\tlearn: 0.0838365\ttotal: 1.33s\tremaining: 1.04s\n",
      "560:\tlearn: 0.0837475\ttotal: 1.33s\tremaining: 1.04s\n",
      "561:\tlearn: 0.0836612\ttotal: 1.33s\tremaining: 1.04s\n",
      "562:\tlearn: 0.0835783\ttotal: 1.34s\tremaining: 1.04s\n",
      "563:\tlearn: 0.0834555\ttotal: 1.34s\tremaining: 1.03s\n",
      "564:\tlearn: 0.0833676\ttotal: 1.34s\tremaining: 1.03s\n",
      "565:\tlearn: 0.0832972\ttotal: 1.34s\tremaining: 1.03s\n",
      "566:\tlearn: 0.0831779\ttotal: 1.34s\tremaining: 1.03s\n",
      "567:\tlearn: 0.0830711\ttotal: 1.35s\tremaining: 1.02s\n",
      "568:\tlearn: 0.0830182\ttotal: 1.35s\tremaining: 1.02s\n",
      "569:\tlearn: 0.0829712\ttotal: 1.35s\tremaining: 1.02s\n",
      "570:\tlearn: 0.0829344\ttotal: 1.35s\tremaining: 1.02s\n",
      "571:\tlearn: 0.0828175\ttotal: 1.36s\tremaining: 1.01s\n",
      "572:\tlearn: 0.0827548\ttotal: 1.36s\tremaining: 1.01s\n",
      "573:\tlearn: 0.0826793\ttotal: 1.36s\tremaining: 1.01s\n",
      "574:\tlearn: 0.0826407\ttotal: 1.36s\tremaining: 1.01s\n",
      "575:\tlearn: 0.0825649\ttotal: 1.36s\tremaining: 1s\n",
      "576:\tlearn: 0.0824314\ttotal: 1.37s\tremaining: 1s\n",
      "577:\tlearn: 0.0823340\ttotal: 1.37s\tremaining: 999ms\n",
      "578:\tlearn: 0.0822586\ttotal: 1.37s\tremaining: 997ms\n",
      "579:\tlearn: 0.0821077\ttotal: 1.37s\tremaining: 994ms\n",
      "580:\tlearn: 0.0819862\ttotal: 1.37s\tremaining: 991ms\n",
      "581:\tlearn: 0.0818821\ttotal: 1.38s\tremaining: 989ms\n",
      "582:\tlearn: 0.0818152\ttotal: 1.38s\tremaining: 986ms\n",
      "583:\tlearn: 0.0817138\ttotal: 1.38s\tremaining: 984ms\n",
      "584:\tlearn: 0.0816601\ttotal: 1.38s\tremaining: 981ms\n",
      "585:\tlearn: 0.0815552\ttotal: 1.39s\tremaining: 979ms\n",
      "586:\tlearn: 0.0814353\ttotal: 1.39s\tremaining: 976ms\n",
      "587:\tlearn: 0.0813179\ttotal: 1.39s\tremaining: 974ms\n",
      "588:\tlearn: 0.0812497\ttotal: 1.39s\tremaining: 971ms\n",
      "589:\tlearn: 0.0811939\ttotal: 1.39s\tremaining: 969ms\n",
      "590:\tlearn: 0.0811425\ttotal: 1.4s\tremaining: 966ms\n",
      "591:\tlearn: 0.0810410\ttotal: 1.4s\tremaining: 964ms\n",
      "592:\tlearn: 0.0809874\ttotal: 1.4s\tremaining: 961ms\n",
      "593:\tlearn: 0.0808976\ttotal: 1.4s\tremaining: 959ms\n",
      "594:\tlearn: 0.0808089\ttotal: 1.4s\tremaining: 956ms\n",
      "595:\tlearn: 0.0807088\ttotal: 1.41s\tremaining: 954ms\n",
      "596:\tlearn: 0.0806640\ttotal: 1.41s\tremaining: 951ms\n",
      "597:\tlearn: 0.0805531\ttotal: 1.41s\tremaining: 949ms\n",
      "598:\tlearn: 0.0804125\ttotal: 1.41s\tremaining: 946ms\n",
      "599:\tlearn: 0.0803288\ttotal: 1.42s\tremaining: 944ms\n",
      "600:\tlearn: 0.0801899\ttotal: 1.42s\tremaining: 941ms\n",
      "601:\tlearn: 0.0801457\ttotal: 1.42s\tremaining: 939ms\n",
      "602:\tlearn: 0.0800241\ttotal: 1.42s\tremaining: 936ms\n",
      "603:\tlearn: 0.0799364\ttotal: 1.42s\tremaining: 934ms\n",
      "604:\tlearn: 0.0798787\ttotal: 1.43s\tremaining: 931ms\n",
      "605:\tlearn: 0.0798298\ttotal: 1.43s\tremaining: 929ms\n",
      "606:\tlearn: 0.0797344\ttotal: 1.43s\tremaining: 926ms\n",
      "607:\tlearn: 0.0796382\ttotal: 1.43s\tremaining: 924ms\n",
      "608:\tlearn: 0.0794907\ttotal: 1.44s\tremaining: 922ms\n",
      "609:\tlearn: 0.0794040\ttotal: 1.44s\tremaining: 920ms\n",
      "610:\tlearn: 0.0793570\ttotal: 1.44s\tremaining: 917ms\n",
      "611:\tlearn: 0.0792437\ttotal: 1.44s\tremaining: 914ms\n",
      "612:\tlearn: 0.0791492\ttotal: 1.44s\tremaining: 912ms\n",
      "613:\tlearn: 0.0790640\ttotal: 1.45s\tremaining: 909ms\n",
      "614:\tlearn: 0.0789519\ttotal: 1.45s\tremaining: 907ms\n",
      "615:\tlearn: 0.0789058\ttotal: 1.45s\tremaining: 905ms\n",
      "616:\tlearn: 0.0788438\ttotal: 1.45s\tremaining: 902ms\n",
      "617:\tlearn: 0.0787854\ttotal: 1.46s\tremaining: 900ms\n",
      "618:\tlearn: 0.0787161\ttotal: 1.46s\tremaining: 897ms\n",
      "619:\tlearn: 0.0786789\ttotal: 1.46s\tremaining: 895ms\n",
      "620:\tlearn: 0.0785562\ttotal: 1.46s\tremaining: 892ms\n",
      "621:\tlearn: 0.0784551\ttotal: 1.46s\tremaining: 890ms\n",
      "622:\tlearn: 0.0783835\ttotal: 1.47s\tremaining: 887ms\n",
      "623:\tlearn: 0.0782753\ttotal: 1.47s\tremaining: 885ms\n",
      "624:\tlearn: 0.0781982\ttotal: 1.47s\tremaining: 882ms\n",
      "625:\tlearn: 0.0781473\ttotal: 1.47s\tremaining: 880ms\n",
      "626:\tlearn: 0.0780998\ttotal: 1.47s\tremaining: 877ms\n",
      "627:\tlearn: 0.0779759\ttotal: 1.48s\tremaining: 875ms\n",
      "628:\tlearn: 0.0778696\ttotal: 1.48s\tremaining: 873ms\n",
      "629:\tlearn: 0.0777833\ttotal: 1.48s\tremaining: 870ms\n",
      "630:\tlearn: 0.0776562\ttotal: 1.48s\tremaining: 867ms\n",
      "631:\tlearn: 0.0775552\ttotal: 1.49s\tremaining: 865ms\n",
      "632:\tlearn: 0.0774739\ttotal: 1.49s\tremaining: 863ms\n",
      "633:\tlearn: 0.0773659\ttotal: 1.49s\tremaining: 860ms\n",
      "634:\tlearn: 0.0772725\ttotal: 1.49s\tremaining: 857ms\n",
      "635:\tlearn: 0.0771959\ttotal: 1.49s\tremaining: 855ms\n",
      "636:\tlearn: 0.0771025\ttotal: 1.5s\tremaining: 853ms\n",
      "637:\tlearn: 0.0770441\ttotal: 1.5s\tremaining: 850ms\n",
      "638:\tlearn: 0.0769600\ttotal: 1.5s\tremaining: 847ms\n",
      "639:\tlearn: 0.0769167\ttotal: 1.5s\tremaining: 845ms\n",
      "640:\tlearn: 0.0768093\ttotal: 1.5s\tremaining: 842ms\n",
      "641:\tlearn: 0.0767662\ttotal: 1.51s\tremaining: 840ms\n",
      "642:\tlearn: 0.0766898\ttotal: 1.51s\tremaining: 838ms\n",
      "643:\tlearn: 0.0766016\ttotal: 1.51s\tremaining: 835ms\n",
      "644:\tlearn: 0.0765424\ttotal: 1.51s\tremaining: 833ms\n",
      "645:\tlearn: 0.0764794\ttotal: 1.51s\tremaining: 830ms\n",
      "646:\tlearn: 0.0763956\ttotal: 1.52s\tremaining: 827ms\n",
      "647:\tlearn: 0.0763658\ttotal: 1.52s\tremaining: 825ms\n",
      "648:\tlearn: 0.0762872\ttotal: 1.52s\tremaining: 823ms\n",
      "649:\tlearn: 0.0762185\ttotal: 1.52s\tremaining: 820ms\n",
      "650:\tlearn: 0.0761262\ttotal: 1.53s\tremaining: 818ms\n",
      "651:\tlearn: 0.0760297\ttotal: 1.53s\tremaining: 816ms\n",
      "652:\tlearn: 0.0759561\ttotal: 1.53s\tremaining: 813ms\n",
      "653:\tlearn: 0.0758610\ttotal: 1.53s\tremaining: 811ms\n",
      "654:\tlearn: 0.0757682\ttotal: 1.53s\tremaining: 809ms\n",
      "655:\tlearn: 0.0756779\ttotal: 1.54s\tremaining: 806ms\n",
      "656:\tlearn: 0.0756299\ttotal: 1.54s\tremaining: 804ms\n",
      "657:\tlearn: 0.0755427\ttotal: 1.54s\tremaining: 802ms\n",
      "658:\tlearn: 0.0754512\ttotal: 1.54s\tremaining: 799ms\n",
      "659:\tlearn: 0.0754086\ttotal: 1.55s\tremaining: 797ms\n",
      "660:\tlearn: 0.0753720\ttotal: 1.55s\tremaining: 795ms\n",
      "661:\tlearn: 0.0753392\ttotal: 1.55s\tremaining: 792ms\n",
      "662:\tlearn: 0.0752996\ttotal: 1.55s\tremaining: 790ms\n",
      "663:\tlearn: 0.0752409\ttotal: 1.56s\tremaining: 788ms\n",
      "664:\tlearn: 0.0751709\ttotal: 1.56s\tremaining: 785ms\n",
      "665:\tlearn: 0.0751323\ttotal: 1.56s\tremaining: 783ms\n",
      "666:\tlearn: 0.0750748\ttotal: 1.56s\tremaining: 780ms\n",
      "667:\tlearn: 0.0750009\ttotal: 1.56s\tremaining: 778ms\n",
      "668:\tlearn: 0.0748882\ttotal: 1.57s\tremaining: 775ms\n",
      "669:\tlearn: 0.0748503\ttotal: 1.57s\tremaining: 773ms\n",
      "670:\tlearn: 0.0747671\ttotal: 1.57s\tremaining: 770ms\n",
      "671:\tlearn: 0.0747193\ttotal: 1.57s\tremaining: 768ms\n",
      "672:\tlearn: 0.0746946\ttotal: 1.57s\tremaining: 766ms\n",
      "673:\tlearn: 0.0746676\ttotal: 1.58s\tremaining: 763ms\n",
      "674:\tlearn: 0.0745858\ttotal: 1.58s\tremaining: 761ms\n",
      "675:\tlearn: 0.0745534\ttotal: 1.58s\tremaining: 758ms\n"
     ]
    },
    {
     "name": "stdout",
     "output_type": "stream",
     "text": [
      "676:\tlearn: 0.0745058\ttotal: 1.58s\tremaining: 756ms\n",
      "677:\tlearn: 0.0744388\ttotal: 1.59s\tremaining: 754ms\n",
      "678:\tlearn: 0.0743573\ttotal: 1.59s\tremaining: 751ms\n",
      "679:\tlearn: 0.0742795\ttotal: 1.59s\tremaining: 749ms\n",
      "680:\tlearn: 0.0742157\ttotal: 1.59s\tremaining: 746ms\n",
      "681:\tlearn: 0.0741538\ttotal: 1.59s\tremaining: 744ms\n",
      "682:\tlearn: 0.0741179\ttotal: 1.6s\tremaining: 741ms\n",
      "683:\tlearn: 0.0740717\ttotal: 1.6s\tremaining: 739ms\n",
      "684:\tlearn: 0.0740439\ttotal: 1.6s\tremaining: 736ms\n",
      "685:\tlearn: 0.0739606\ttotal: 1.6s\tremaining: 734ms\n",
      "686:\tlearn: 0.0739242\ttotal: 1.6s\tremaining: 731ms\n",
      "687:\tlearn: 0.0738801\ttotal: 1.61s\tremaining: 729ms\n",
      "688:\tlearn: 0.0738344\ttotal: 1.61s\tremaining: 727ms\n",
      "689:\tlearn: 0.0737543\ttotal: 1.61s\tremaining: 724ms\n",
      "690:\tlearn: 0.0736685\ttotal: 1.61s\tremaining: 722ms\n",
      "691:\tlearn: 0.0735884\ttotal: 1.61s\tremaining: 719ms\n",
      "692:\tlearn: 0.0735434\ttotal: 1.62s\tremaining: 717ms\n",
      "693:\tlearn: 0.0734746\ttotal: 1.62s\tremaining: 714ms\n",
      "694:\tlearn: 0.0734181\ttotal: 1.62s\tremaining: 712ms\n",
      "695:\tlearn: 0.0733765\ttotal: 1.62s\tremaining: 709ms\n",
      "696:\tlearn: 0.0733554\ttotal: 1.63s\tremaining: 707ms\n",
      "697:\tlearn: 0.0733041\ttotal: 1.63s\tremaining: 704ms\n",
      "698:\tlearn: 0.0732723\ttotal: 1.63s\tremaining: 702ms\n",
      "699:\tlearn: 0.0732246\ttotal: 1.63s\tremaining: 699ms\n",
      "700:\tlearn: 0.0731472\ttotal: 1.63s\tremaining: 697ms\n",
      "701:\tlearn: 0.0730762\ttotal: 1.64s\tremaining: 695ms\n",
      "702:\tlearn: 0.0730003\ttotal: 1.64s\tremaining: 692ms\n",
      "703:\tlearn: 0.0729247\ttotal: 1.64s\tremaining: 690ms\n",
      "704:\tlearn: 0.0728749\ttotal: 1.64s\tremaining: 688ms\n",
      "705:\tlearn: 0.0727950\ttotal: 1.65s\tremaining: 685ms\n",
      "706:\tlearn: 0.0727656\ttotal: 1.65s\tremaining: 683ms\n",
      "707:\tlearn: 0.0726724\ttotal: 1.65s\tremaining: 680ms\n",
      "708:\tlearn: 0.0726336\ttotal: 1.65s\tremaining: 678ms\n",
      "709:\tlearn: 0.0725598\ttotal: 1.65s\tremaining: 676ms\n",
      "710:\tlearn: 0.0724710\ttotal: 1.66s\tremaining: 673ms\n",
      "711:\tlearn: 0.0724284\ttotal: 1.66s\tremaining: 671ms\n",
      "712:\tlearn: 0.0723554\ttotal: 1.66s\tremaining: 668ms\n",
      "713:\tlearn: 0.0722787\ttotal: 1.66s\tremaining: 666ms\n",
      "714:\tlearn: 0.0722267\ttotal: 1.66s\tremaining: 664ms\n",
      "715:\tlearn: 0.0721947\ttotal: 1.67s\tremaining: 661ms\n",
      "716:\tlearn: 0.0721174\ttotal: 1.67s\tremaining: 659ms\n",
      "717:\tlearn: 0.0720420\ttotal: 1.67s\tremaining: 656ms\n",
      "718:\tlearn: 0.0719836\ttotal: 1.67s\tremaining: 654ms\n",
      "719:\tlearn: 0.0719129\ttotal: 1.68s\tremaining: 652ms\n",
      "720:\tlearn: 0.0718750\ttotal: 1.68s\tremaining: 649ms\n",
      "721:\tlearn: 0.0718303\ttotal: 1.68s\tremaining: 647ms\n",
      "722:\tlearn: 0.0717309\ttotal: 1.68s\tremaining: 644ms\n",
      "723:\tlearn: 0.0715889\ttotal: 1.68s\tremaining: 642ms\n",
      "724:\tlearn: 0.0715522\ttotal: 1.69s\tremaining: 640ms\n",
      "725:\tlearn: 0.0714714\ttotal: 1.69s\tremaining: 637ms\n",
      "726:\tlearn: 0.0713655\ttotal: 1.69s\tremaining: 635ms\n",
      "727:\tlearn: 0.0713242\ttotal: 1.69s\tremaining: 633ms\n",
      "728:\tlearn: 0.0712834\ttotal: 1.7s\tremaining: 630ms\n",
      "729:\tlearn: 0.0712503\ttotal: 1.7s\tremaining: 628ms\n",
      "730:\tlearn: 0.0711809\ttotal: 1.7s\tremaining: 626ms\n",
      "731:\tlearn: 0.0711136\ttotal: 1.7s\tremaining: 623ms\n",
      "732:\tlearn: 0.0710855\ttotal: 1.7s\tremaining: 621ms\n",
      "733:\tlearn: 0.0710494\ttotal: 1.71s\tremaining: 619ms\n",
      "734:\tlearn: 0.0709833\ttotal: 1.71s\tremaining: 616ms\n",
      "735:\tlearn: 0.0709430\ttotal: 1.71s\tremaining: 614ms\n",
      "736:\tlearn: 0.0709256\ttotal: 1.71s\tremaining: 611ms\n",
      "737:\tlearn: 0.0708579\ttotal: 1.72s\tremaining: 609ms\n",
      "738:\tlearn: 0.0707854\ttotal: 1.72s\tremaining: 607ms\n",
      "739:\tlearn: 0.0707212\ttotal: 1.72s\tremaining: 604ms\n",
      "740:\tlearn: 0.0706587\ttotal: 1.72s\tremaining: 602ms\n",
      "741:\tlearn: 0.0705866\ttotal: 1.72s\tremaining: 600ms\n",
      "742:\tlearn: 0.0705372\ttotal: 1.73s\tremaining: 597ms\n",
      "743:\tlearn: 0.0704853\ttotal: 1.73s\tremaining: 595ms\n",
      "744:\tlearn: 0.0704309\ttotal: 1.73s\tremaining: 593ms\n",
      "745:\tlearn: 0.0703843\ttotal: 1.73s\tremaining: 590ms\n",
      "746:\tlearn: 0.0703557\ttotal: 1.74s\tremaining: 588ms\n",
      "747:\tlearn: 0.0702793\ttotal: 1.74s\tremaining: 586ms\n",
      "748:\tlearn: 0.0702213\ttotal: 1.74s\tremaining: 584ms\n",
      "749:\tlearn: 0.0701507\ttotal: 1.74s\tremaining: 581ms\n",
      "750:\tlearn: 0.0700983\ttotal: 1.75s\tremaining: 579ms\n",
      "751:\tlearn: 0.0700704\ttotal: 1.75s\tremaining: 577ms\n",
      "752:\tlearn: 0.0700295\ttotal: 1.75s\tremaining: 575ms\n",
      "753:\tlearn: 0.0699597\ttotal: 1.75s\tremaining: 572ms\n",
      "754:\tlearn: 0.0699166\ttotal: 1.76s\tremaining: 570ms\n",
      "755:\tlearn: 0.0698450\ttotal: 1.76s\tremaining: 567ms\n",
      "756:\tlearn: 0.0698129\ttotal: 1.76s\tremaining: 565ms\n",
      "757:\tlearn: 0.0697758\ttotal: 1.76s\tremaining: 563ms\n",
      "758:\tlearn: 0.0697117\ttotal: 1.76s\tremaining: 560ms\n",
      "759:\tlearn: 0.0696193\ttotal: 1.77s\tremaining: 558ms\n",
      "760:\tlearn: 0.0695526\ttotal: 1.77s\tremaining: 556ms\n",
      "761:\tlearn: 0.0695059\ttotal: 1.77s\tremaining: 553ms\n",
      "762:\tlearn: 0.0694819\ttotal: 1.77s\tremaining: 551ms\n",
      "763:\tlearn: 0.0693823\ttotal: 1.78s\tremaining: 549ms\n",
      "764:\tlearn: 0.0692736\ttotal: 1.78s\tremaining: 546ms\n",
      "765:\tlearn: 0.0692467\ttotal: 1.78s\tremaining: 544ms\n",
      "766:\tlearn: 0.0692229\ttotal: 1.78s\tremaining: 542ms\n",
      "767:\tlearn: 0.0691994\ttotal: 1.78s\tremaining: 539ms\n",
      "768:\tlearn: 0.0691590\ttotal: 1.79s\tremaining: 537ms\n",
      "769:\tlearn: 0.0690926\ttotal: 1.79s\tremaining: 535ms\n",
      "770:\tlearn: 0.0690612\ttotal: 1.79s\tremaining: 532ms\n",
      "771:\tlearn: 0.0690239\ttotal: 1.79s\tremaining: 530ms\n",
      "772:\tlearn: 0.0689842\ttotal: 1.8s\tremaining: 528ms\n",
      "773:\tlearn: 0.0689604\ttotal: 1.8s\tremaining: 525ms\n",
      "774:\tlearn: 0.0689385\ttotal: 1.8s\tremaining: 523ms\n",
      "775:\tlearn: 0.0688669\ttotal: 1.8s\tremaining: 520ms\n",
      "776:\tlearn: 0.0687824\ttotal: 1.8s\tremaining: 518ms\n",
      "777:\tlearn: 0.0687152\ttotal: 1.81s\tremaining: 516ms\n",
      "778:\tlearn: 0.0686549\ttotal: 1.81s\tremaining: 513ms\n",
      "779:\tlearn: 0.0686078\ttotal: 1.81s\tremaining: 511ms\n",
      "780:\tlearn: 0.0685858\ttotal: 1.81s\tremaining: 509ms\n",
      "781:\tlearn: 0.0685494\ttotal: 1.82s\tremaining: 506ms\n",
      "782:\tlearn: 0.0684836\ttotal: 1.82s\tremaining: 504ms\n",
      "783:\tlearn: 0.0684528\ttotal: 1.82s\tremaining: 502ms\n",
      "784:\tlearn: 0.0683940\ttotal: 1.82s\tremaining: 499ms\n",
      "785:\tlearn: 0.0682997\ttotal: 1.82s\tremaining: 497ms\n",
      "786:\tlearn: 0.0682630\ttotal: 1.83s\tremaining: 495ms\n",
      "787:\tlearn: 0.0682252\ttotal: 1.83s\tremaining: 492ms\n",
      "788:\tlearn: 0.0681594\ttotal: 1.83s\tremaining: 490ms\n",
      "789:\tlearn: 0.0681291\ttotal: 1.83s\tremaining: 488ms\n",
      "790:\tlearn: 0.0680993\ttotal: 1.84s\tremaining: 485ms\n",
      "791:\tlearn: 0.0680609\ttotal: 1.84s\tremaining: 483ms\n",
      "792:\tlearn: 0.0680046\ttotal: 1.84s\tremaining: 481ms\n",
      "793:\tlearn: 0.0679642\ttotal: 1.84s\tremaining: 478ms\n",
      "794:\tlearn: 0.0679339\ttotal: 1.84s\tremaining: 476ms\n",
      "795:\tlearn: 0.0678890\ttotal: 1.85s\tremaining: 474ms\n",
      "796:\tlearn: 0.0678048\ttotal: 1.85s\tremaining: 471ms\n",
      "797:\tlearn: 0.0677685\ttotal: 1.85s\tremaining: 469ms\n",
      "798:\tlearn: 0.0677471\ttotal: 1.85s\tremaining: 467ms\n",
      "799:\tlearn: 0.0677189\ttotal: 1.86s\tremaining: 464ms\n",
      "800:\tlearn: 0.0676756\ttotal: 1.86s\tremaining: 462ms\n",
      "801:\tlearn: 0.0675988\ttotal: 1.86s\tremaining: 460ms\n",
      "802:\tlearn: 0.0675611\ttotal: 1.86s\tremaining: 457ms\n",
      "803:\tlearn: 0.0675053\ttotal: 1.86s\tremaining: 455ms\n",
      "804:\tlearn: 0.0674523\ttotal: 1.87s\tremaining: 452ms\n",
      "805:\tlearn: 0.0674318\ttotal: 1.87s\tremaining: 450ms\n",
      "806:\tlearn: 0.0673423\ttotal: 1.87s\tremaining: 448ms\n",
      "807:\tlearn: 0.0672784\ttotal: 1.87s\tremaining: 445ms\n",
      "808:\tlearn: 0.0671936\ttotal: 1.88s\tremaining: 443ms\n",
      "809:\tlearn: 0.0671370\ttotal: 1.88s\tremaining: 441ms\n",
      "810:\tlearn: 0.0671016\ttotal: 1.88s\tremaining: 438ms\n",
      "811:\tlearn: 0.0670145\ttotal: 1.88s\tremaining: 436ms\n",
      "812:\tlearn: 0.0669360\ttotal: 1.89s\tremaining: 434ms\n",
      "813:\tlearn: 0.0668682\ttotal: 1.89s\tremaining: 431ms\n",
      "814:\tlearn: 0.0668069\ttotal: 1.89s\tremaining: 429ms\n",
      "815:\tlearn: 0.0667671\ttotal: 1.89s\tremaining: 427ms\n",
      "816:\tlearn: 0.0667320\ttotal: 1.89s\tremaining: 424ms\n",
      "817:\tlearn: 0.0666662\ttotal: 1.9s\tremaining: 422ms\n",
      "818:\tlearn: 0.0666015\ttotal: 1.9s\tremaining: 420ms\n",
      "819:\tlearn: 0.0665808\ttotal: 1.9s\tremaining: 417ms\n",
      "820:\tlearn: 0.0665180\ttotal: 1.9s\tremaining: 415ms\n",
      "821:\tlearn: 0.0664694\ttotal: 1.91s\tremaining: 413ms\n",
      "822:\tlearn: 0.0663846\ttotal: 1.91s\tremaining: 410ms\n",
      "823:\tlearn: 0.0662893\ttotal: 1.91s\tremaining: 408ms\n",
      "824:\tlearn: 0.0662579\ttotal: 1.91s\tremaining: 406ms\n",
      "825:\tlearn: 0.0661787\ttotal: 1.91s\tremaining: 403ms\n",
      "826:\tlearn: 0.0660972\ttotal: 1.92s\tremaining: 401ms\n",
      "827:\tlearn: 0.0660530\ttotal: 1.92s\tremaining: 398ms\n",
      "828:\tlearn: 0.0659863\ttotal: 1.92s\tremaining: 396ms\n",
      "829:\tlearn: 0.0659237\ttotal: 1.92s\tremaining: 394ms\n",
      "830:\tlearn: 0.0658615\ttotal: 1.92s\tremaining: 391ms\n",
      "831:\tlearn: 0.0658298\ttotal: 1.93s\tremaining: 389ms\n",
      "832:\tlearn: 0.0657540\ttotal: 1.93s\tremaining: 387ms\n",
      "833:\tlearn: 0.0656931\ttotal: 1.93s\tremaining: 384ms\n",
      "834:\tlearn: 0.0656598\ttotal: 1.93s\tremaining: 382ms\n",
      "835:\tlearn: 0.0656398\ttotal: 1.93s\tremaining: 380ms\n",
      "836:\tlearn: 0.0656202\ttotal: 1.94s\tremaining: 377ms\n",
      "837:\tlearn: 0.0655609\ttotal: 1.94s\tremaining: 375ms\n",
      "838:\tlearn: 0.0654773\ttotal: 1.94s\tremaining: 373ms\n",
      "839:\tlearn: 0.0654581\ttotal: 1.94s\tremaining: 370ms\n",
      "840:\tlearn: 0.0654071\ttotal: 1.95s\tremaining: 368ms\n",
      "841:\tlearn: 0.0653262\ttotal: 1.95s\tremaining: 366ms\n",
      "842:\tlearn: 0.0652521\ttotal: 1.95s\tremaining: 363ms\n",
      "843:\tlearn: 0.0651946\ttotal: 1.95s\tremaining: 361ms\n",
      "844:\tlearn: 0.0651613\ttotal: 1.96s\tremaining: 359ms\n",
      "845:\tlearn: 0.0651344\ttotal: 1.96s\tremaining: 356ms\n",
      "846:\tlearn: 0.0650722\ttotal: 1.96s\tremaining: 354ms\n",
      "847:\tlearn: 0.0649915\ttotal: 1.96s\tremaining: 352ms\n",
      "848:\tlearn: 0.0649692\ttotal: 1.96s\tremaining: 349ms\n",
      "849:\tlearn: 0.0649380\ttotal: 1.97s\tremaining: 347ms\n",
      "850:\tlearn: 0.0648626\ttotal: 1.97s\tremaining: 345ms\n",
      "851:\tlearn: 0.0648350\ttotal: 1.97s\tremaining: 342ms\n",
      "852:\tlearn: 0.0647695\ttotal: 1.97s\tremaining: 340ms\n",
      "853:\tlearn: 0.0647509\ttotal: 1.97s\tremaining: 338ms\n",
      "854:\tlearn: 0.0646761\ttotal: 1.98s\tremaining: 335ms\n",
      "855:\tlearn: 0.0646481\ttotal: 1.98s\tremaining: 333ms\n",
      "856:\tlearn: 0.0645702\ttotal: 1.98s\tremaining: 331ms\n",
      "857:\tlearn: 0.0644843\ttotal: 1.98s\tremaining: 328ms\n",
      "858:\tlearn: 0.0644321\ttotal: 1.99s\tremaining: 326ms\n",
      "859:\tlearn: 0.0643834\ttotal: 1.99s\tremaining: 324ms\n",
      "860:\tlearn: 0.0643575\ttotal: 1.99s\tremaining: 321ms\n",
      "861:\tlearn: 0.0643137\ttotal: 1.99s\tremaining: 319ms\n",
      "862:\tlearn: 0.0642893\ttotal: 1.99s\tremaining: 317ms\n",
      "863:\tlearn: 0.0642328\ttotal: 2s\tremaining: 314ms\n",
      "864:\tlearn: 0.0641652\ttotal: 2s\tremaining: 312ms\n",
      "865:\tlearn: 0.0640812\ttotal: 2s\tremaining: 310ms\n",
      "866:\tlearn: 0.0639953\ttotal: 2s\tremaining: 307ms\n",
      "867:\tlearn: 0.0639402\ttotal: 2s\tremaining: 305ms\n",
      "868:\tlearn: 0.0638943\ttotal: 2.01s\tremaining: 303ms\n",
      "869:\tlearn: 0.0638708\ttotal: 2.01s\tremaining: 300ms\n",
      "870:\tlearn: 0.0637972\ttotal: 2.01s\tremaining: 298ms\n",
      "871:\tlearn: 0.0637273\ttotal: 2.01s\tremaining: 296ms\n",
      "872:\tlearn: 0.0636465\ttotal: 2.02s\tremaining: 293ms\n",
      "873:\tlearn: 0.0635389\ttotal: 2.02s\tremaining: 291ms\n",
      "874:\tlearn: 0.0634683\ttotal: 2.02s\tremaining: 289ms\n",
      "875:\tlearn: 0.0633971\ttotal: 2.02s\tremaining: 286ms\n",
      "876:\tlearn: 0.0633108\ttotal: 2.02s\tremaining: 284ms\n",
      "877:\tlearn: 0.0632865\ttotal: 2.03s\tremaining: 282ms\n",
      "878:\tlearn: 0.0632119\ttotal: 2.03s\tremaining: 279ms\n",
      "879:\tlearn: 0.0631344\ttotal: 2.03s\tremaining: 277ms\n",
      "880:\tlearn: 0.0630375\ttotal: 2.03s\tremaining: 275ms\n",
      "881:\tlearn: 0.0629878\ttotal: 2.03s\tremaining: 272ms\n",
      "882:\tlearn: 0.0628855\ttotal: 2.04s\tremaining: 270ms\n",
      "883:\tlearn: 0.0628514\ttotal: 2.04s\tremaining: 268ms\n",
      "884:\tlearn: 0.0627976\ttotal: 2.04s\tremaining: 265ms\n",
      "885:\tlearn: 0.0627346\ttotal: 2.04s\tremaining: 263ms\n",
      "886:\tlearn: 0.0626908\ttotal: 2.04s\tremaining: 260ms\n",
      "887:\tlearn: 0.0626213\ttotal: 2.05s\tremaining: 258ms\n",
      "888:\tlearn: 0.0625449\ttotal: 2.05s\tremaining: 256ms\n",
      "889:\tlearn: 0.0624747\ttotal: 2.05s\tremaining: 253ms\n",
      "890:\tlearn: 0.0624001\ttotal: 2.05s\tremaining: 251ms\n",
      "891:\tlearn: 0.0623445\ttotal: 2.05s\tremaining: 249ms\n",
      "892:\tlearn: 0.0622761\ttotal: 2.06s\tremaining: 246ms\n",
      "893:\tlearn: 0.0622210\ttotal: 2.06s\tremaining: 244ms\n",
      "894:\tlearn: 0.0621550\ttotal: 2.06s\tremaining: 242ms\n",
      "895:\tlearn: 0.0620969\ttotal: 2.06s\tremaining: 240ms\n",
      "896:\tlearn: 0.0620432\ttotal: 2.06s\tremaining: 237ms\n",
      "897:\tlearn: 0.0619922\ttotal: 2.07s\tremaining: 235ms\n",
      "898:\tlearn: 0.0619753\ttotal: 2.07s\tremaining: 233ms\n",
      "899:\tlearn: 0.0618764\ttotal: 2.07s\tremaining: 230ms\n",
      "900:\tlearn: 0.0618270\ttotal: 2.07s\tremaining: 228ms\n",
      "901:\tlearn: 0.0617250\ttotal: 2.08s\tremaining: 226ms\n",
      "902:\tlearn: 0.0616828\ttotal: 2.08s\tremaining: 223ms\n",
      "903:\tlearn: 0.0616108\ttotal: 2.08s\tremaining: 221ms\n",
      "904:\tlearn: 0.0615877\ttotal: 2.08s\tremaining: 219ms\n",
      "905:\tlearn: 0.0615437\ttotal: 2.08s\tremaining: 216ms\n",
      "906:\tlearn: 0.0615118\ttotal: 2.09s\tremaining: 214ms\n",
      "907:\tlearn: 0.0614148\ttotal: 2.09s\tremaining: 212ms\n",
      "908:\tlearn: 0.0613658\ttotal: 2.09s\tremaining: 209ms\n",
      "909:\tlearn: 0.0613179\ttotal: 2.09s\tremaining: 207ms\n",
      "910:\tlearn: 0.0613022\ttotal: 2.1s\tremaining: 205ms\n",
      "911:\tlearn: 0.0612459\ttotal: 2.1s\tremaining: 202ms\n",
      "912:\tlearn: 0.0611925\ttotal: 2.1s\tremaining: 200ms\n",
      "913:\tlearn: 0.0611577\ttotal: 2.1s\tremaining: 198ms\n",
      "914:\tlearn: 0.0611354\ttotal: 2.1s\tremaining: 196ms\n",
      "915:\tlearn: 0.0610912\ttotal: 2.11s\tremaining: 193ms\n",
      "916:\tlearn: 0.0610364\ttotal: 2.11s\tremaining: 191ms\n",
      "917:\tlearn: 0.0609724\ttotal: 2.11s\tremaining: 189ms\n",
      "918:\tlearn: 0.0609255\ttotal: 2.11s\tremaining: 186ms\n",
      "919:\tlearn: 0.0608610\ttotal: 2.12s\tremaining: 184ms\n",
      "920:\tlearn: 0.0607695\ttotal: 2.12s\tremaining: 182ms\n",
      "921:\tlearn: 0.0607478\ttotal: 2.12s\tremaining: 179ms\n",
      "922:\tlearn: 0.0607171\ttotal: 2.12s\tremaining: 177ms\n",
      "923:\tlearn: 0.0606956\ttotal: 2.13s\tremaining: 175ms\n",
      "924:\tlearn: 0.0606672\ttotal: 2.13s\tremaining: 172ms\n",
      "925:\tlearn: 0.0606462\ttotal: 2.13s\tremaining: 170ms\n",
      "926:\tlearn: 0.0605960\ttotal: 2.13s\tremaining: 168ms\n",
      "927:\tlearn: 0.0605211\ttotal: 2.13s\tremaining: 166ms\n",
      "928:\tlearn: 0.0604321\ttotal: 2.14s\tremaining: 163ms\n",
      "929:\tlearn: 0.0604001\ttotal: 2.14s\tremaining: 161ms\n",
      "930:\tlearn: 0.0603357\ttotal: 2.14s\tremaining: 159ms\n",
      "931:\tlearn: 0.0602741\ttotal: 2.14s\tremaining: 156ms\n",
      "932:\tlearn: 0.0602182\ttotal: 2.15s\tremaining: 154ms\n",
      "933:\tlearn: 0.0601875\ttotal: 2.15s\tremaining: 152ms\n",
      "934:\tlearn: 0.0601226\ttotal: 2.15s\tremaining: 149ms\n",
      "935:\tlearn: 0.0601001\ttotal: 2.15s\tremaining: 147ms\n",
      "936:\tlearn: 0.0600359\ttotal: 2.15s\tremaining: 145ms\n",
      "937:\tlearn: 0.0599735\ttotal: 2.16s\tremaining: 143ms\n",
      "938:\tlearn: 0.0599563\ttotal: 2.16s\tremaining: 140ms\n",
      "939:\tlearn: 0.0599042\ttotal: 2.16s\tremaining: 138ms\n",
      "940:\tlearn: 0.0598460\ttotal: 2.16s\tremaining: 136ms\n",
      "941:\tlearn: 0.0597951\ttotal: 2.16s\tremaining: 133ms\n",
      "942:\tlearn: 0.0597480\ttotal: 2.17s\tremaining: 131ms\n",
      "943:\tlearn: 0.0596620\ttotal: 2.17s\tremaining: 129ms\n",
      "944:\tlearn: 0.0596119\ttotal: 2.17s\tremaining: 126ms\n",
      "945:\tlearn: 0.0595918\ttotal: 2.17s\tremaining: 124ms\n",
      "946:\tlearn: 0.0595458\ttotal: 2.17s\tremaining: 122ms\n",
      "947:\tlearn: 0.0594838\ttotal: 2.18s\tremaining: 119ms\n",
      "948:\tlearn: 0.0594340\ttotal: 2.18s\tremaining: 117ms\n",
      "949:\tlearn: 0.0594093\ttotal: 2.18s\tremaining: 115ms\n",
      "950:\tlearn: 0.0593928\ttotal: 2.18s\tremaining: 113ms\n",
      "951:\tlearn: 0.0593298\ttotal: 2.19s\tremaining: 110ms\n",
      "952:\tlearn: 0.0592776\ttotal: 2.19s\tremaining: 108ms\n",
      "953:\tlearn: 0.0592278\ttotal: 2.19s\tremaining: 106ms\n",
      "954:\tlearn: 0.0591444\ttotal: 2.19s\tremaining: 103ms\n",
      "955:\tlearn: 0.0590856\ttotal: 2.19s\tremaining: 101ms\n",
      "956:\tlearn: 0.0590544\ttotal: 2.2s\tremaining: 98.7ms\n",
      "957:\tlearn: 0.0590463\ttotal: 2.2s\tremaining: 96.4ms\n",
      "958:\tlearn: 0.0590253\ttotal: 2.2s\tremaining: 94.1ms\n",
      "959:\tlearn: 0.0590012\ttotal: 2.2s\tremaining: 91.8ms\n",
      "960:\tlearn: 0.0589204\ttotal: 2.21s\tremaining: 89.5ms\n",
      "961:\tlearn: 0.0588548\ttotal: 2.21s\tremaining: 87.2ms\n",
      "962:\tlearn: 0.0588128\ttotal: 2.21s\tremaining: 84.9ms\n",
      "963:\tlearn: 0.0587488\ttotal: 2.21s\tremaining: 82.6ms\n",
      "964:\tlearn: 0.0587017\ttotal: 2.21s\tremaining: 80.3ms\n",
      "965:\tlearn: 0.0586711\ttotal: 2.22s\tremaining: 78ms\n",
      "966:\tlearn: 0.0586429\ttotal: 2.22s\tremaining: 75.7ms\n",
      "967:\tlearn: 0.0585650\ttotal: 2.22s\tremaining: 73.4ms\n",
      "968:\tlearn: 0.0585240\ttotal: 2.22s\tremaining: 71.1ms\n",
      "969:\tlearn: 0.0585016\ttotal: 2.23s\tremaining: 68.8ms\n",
      "970:\tlearn: 0.0584714\ttotal: 2.23s\tremaining: 66.5ms\n",
      "971:\tlearn: 0.0583979\ttotal: 2.23s\tremaining: 64.2ms\n",
      "972:\tlearn: 0.0583548\ttotal: 2.23s\tremaining: 61.9ms\n",
      "973:\tlearn: 0.0583354\ttotal: 2.23s\tremaining: 59.6ms\n",
      "974:\tlearn: 0.0582962\ttotal: 2.23s\tremaining: 57.3ms\n",
      "975:\tlearn: 0.0582316\ttotal: 2.24s\tremaining: 55ms\n",
      "976:\tlearn: 0.0582154\ttotal: 2.24s\tremaining: 52.7ms\n",
      "977:\tlearn: 0.0582078\ttotal: 2.24s\tremaining: 50.4ms\n",
      "978:\tlearn: 0.0581810\ttotal: 2.24s\tremaining: 48.1ms\n",
      "979:\tlearn: 0.0581627\ttotal: 2.25s\tremaining: 45.8ms\n",
      "980:\tlearn: 0.0580812\ttotal: 2.25s\tremaining: 43.5ms\n",
      "981:\tlearn: 0.0579925\ttotal: 2.25s\tremaining: 41.2ms\n",
      "982:\tlearn: 0.0579528\ttotal: 2.25s\tremaining: 38.9ms\n",
      "983:\tlearn: 0.0579319\ttotal: 2.25s\tremaining: 36.6ms\n",
      "984:\tlearn: 0.0579134\ttotal: 2.26s\tremaining: 34.4ms\n",
      "985:\tlearn: 0.0578656\ttotal: 2.26s\tremaining: 32.1ms\n",
      "986:\tlearn: 0.0578100\ttotal: 2.26s\tremaining: 29.8ms\n",
      "987:\tlearn: 0.0577510\ttotal: 2.26s\tremaining: 27.5ms\n",
      "988:\tlearn: 0.0577032\ttotal: 2.27s\tremaining: 25.2ms\n",
      "989:\tlearn: 0.0576541\ttotal: 2.27s\tremaining: 22.9ms\n",
      "990:\tlearn: 0.0576401\ttotal: 2.27s\tremaining: 20.6ms\n",
      "991:\tlearn: 0.0576204\ttotal: 2.27s\tremaining: 18.3ms\n",
      "992:\tlearn: 0.0576010\ttotal: 2.27s\tremaining: 16ms\n",
      "993:\tlearn: 0.0575468\ttotal: 2.28s\tremaining: 13.7ms\n",
      "994:\tlearn: 0.0574903\ttotal: 2.28s\tremaining: 11.4ms\n",
      "995:\tlearn: 0.0574300\ttotal: 2.28s\tremaining: 9.16ms\n",
      "996:\tlearn: 0.0573923\ttotal: 2.28s\tremaining: 6.87ms\n",
      "997:\tlearn: 0.0573848\ttotal: 2.29s\tremaining: 4.58ms\n",
      "998:\tlearn: 0.0573201\ttotal: 2.29s\tremaining: 2.29ms\n",
      "999:\tlearn: 0.0572774\ttotal: 2.29s\tremaining: 0us\n"
     ]
    },
    {
     "data": {
      "text/plain": [
       "<catboost.core.CatBoostClassifier at 0x200c0d57ad0>"
      ]
     },
     "execution_count": 82,
     "metadata": {},
     "output_type": "execute_result"
    }
   ],
   "source": [
    "catbc.fit(x_train, y_train)"
   ]
  },
  {
   "cell_type": "code",
   "execution_count": 83,
   "metadata": {},
   "outputs": [
    {
     "data": {
      "text/plain": [
       "0.9518590998043053"
      ]
     },
     "execution_count": 83,
     "metadata": {},
     "output_type": "execute_result"
    }
   ],
   "source": [
    "catbc.score(x_val, y_val)"
   ]
  },
  {
   "cell_type": "code",
   "execution_count": 84,
   "metadata": {},
   "outputs": [
    {
     "data": {
      "text/plain": [
       "array([0, 0, 0, ..., 0, 0, 0], dtype=int64)"
      ]
     },
     "execution_count": 84,
     "metadata": {},
     "output_type": "execute_result"
    }
   ],
   "source": [
    "catbc.predict(x_val)"
   ]
  },
  {
   "cell_type": "code",
   "execution_count": null,
   "metadata": {},
   "outputs": [],
   "source": []
  }
 ],
 "metadata": {
  "kernelspec": {
   "display_name": "pytorch",
   "language": "python",
   "name": "python3"
  },
  "language_info": {
   "codemirror_mode": {
    "name": "ipython",
    "version": 3
   },
   "file_extension": ".py",
   "mimetype": "text/x-python",
   "name": "python",
   "nbconvert_exporter": "python",
   "pygments_lexer": "ipython3",
   "version": "3.11.3"
  },
  "orig_nbformat": 4
 },
 "nbformat": 4,
 "nbformat_minor": 2
}
