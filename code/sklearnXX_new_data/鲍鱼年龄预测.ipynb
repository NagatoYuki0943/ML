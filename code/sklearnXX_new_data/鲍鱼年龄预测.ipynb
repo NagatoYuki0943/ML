{
 "cells": [
  {
   "cell_type": "markdown",
   "metadata": {},
   "source": [
    "该数据集有 4177 个观察值，8个输入变量和1个输出变量。 变量名如下： 性别 长度 直径 高度 总重量 皮重 内脏重量 壳重\n",
    "\n",
    "是回归问题,用分类效果很差"
   ]
  },
  {
   "cell_type": "code",
   "execution_count": 206,
   "metadata": {},
   "outputs": [],
   "source": [
    "import numpy as np\n",
    "import pandas as pd\n",
    "import matplotlib.pyplot as plt\n",
    "from sklearn.model_selection import train_test_split\n",
    "from sklearn.metrics import accuracy_score                          # higher is better\n",
    "from sklearn.metrics import mean_absolute_error, mean_squared_error # lower is better\n",
    "from sklearn.metrics import r2_score                                # higher is better\n",
    "from pathlib import Path"
   ]
  },
  {
   "cell_type": "markdown",
   "metadata": {},
   "source": [
    "# load data"
   ]
  },
  {
   "cell_type": "code",
   "execution_count": 207,
   "metadata": {},
   "outputs": [
    {
     "data": {
      "text/plain": [
       "WindowsPath('../../datasets')"
      ]
     },
     "execution_count": 207,
     "metadata": {},
     "output_type": "execute_result"
    }
   ],
   "source": [
    "base_path = Path(\"../data\")\n",
    "base_path"
   ]
  },
  {
   "cell_type": "code",
   "execution_count": 208,
   "metadata": {},
   "outputs": [
    {
     "data": {
      "text/plain": [
       "WindowsPath('../../datasets/AbaloneAgePrediction.csv')"
      ]
     },
     "execution_count": 208,
     "metadata": {},
     "output_type": "execute_result"
    }
   ],
   "source": [
    "data_path = base_path / \"AbaloneAgePrediction.csv\"\n",
    "data_path"
   ]
  },
  {
   "cell_type": "code",
   "execution_count": 209,
   "metadata": {},
   "outputs": [
    {
     "data": {
      "text/html": [
       "<div>\n",
       "<style scoped>\n",
       "    .dataframe tbody tr th:only-of-type {\n",
       "        vertical-align: middle;\n",
       "    }\n",
       "\n",
       "    .dataframe tbody tr th {\n",
       "        vertical-align: top;\n",
       "    }\n",
       "\n",
       "    .dataframe thead th {\n",
       "        text-align: right;\n",
       "    }\n",
       "</style>\n",
       "<table border=\"1\" class=\"dataframe\">\n",
       "  <thead>\n",
       "    <tr style=\"text-align: right;\">\n",
       "      <th></th>\n",
       "      <th>gender</th>\n",
       "      <th>length</th>\n",
       "      <th>diameter</th>\n",
       "      <th>height</th>\n",
       "      <th>total weight</th>\n",
       "      <th>tare</th>\n",
       "      <th>visceral weight</th>\n",
       "      <th>shell weight</th>\n",
       "      <th>age</th>\n",
       "    </tr>\n",
       "  </thead>\n",
       "  <tbody>\n",
       "    <tr>\n",
       "      <th>0</th>\n",
       "      <td>M</td>\n",
       "      <td>0.455</td>\n",
       "      <td>0.365</td>\n",
       "      <td>0.095</td>\n",
       "      <td>0.5140</td>\n",
       "      <td>0.2245</td>\n",
       "      <td>0.1010</td>\n",
       "      <td>0.150</td>\n",
       "      <td>15</td>\n",
       "    </tr>\n",
       "    <tr>\n",
       "      <th>1</th>\n",
       "      <td>M</td>\n",
       "      <td>0.350</td>\n",
       "      <td>0.265</td>\n",
       "      <td>0.090</td>\n",
       "      <td>0.2255</td>\n",
       "      <td>0.0995</td>\n",
       "      <td>0.0485</td>\n",
       "      <td>0.070</td>\n",
       "      <td>7</td>\n",
       "    </tr>\n",
       "    <tr>\n",
       "      <th>2</th>\n",
       "      <td>F</td>\n",
       "      <td>0.530</td>\n",
       "      <td>0.420</td>\n",
       "      <td>0.135</td>\n",
       "      <td>0.6770</td>\n",
       "      <td>0.2565</td>\n",
       "      <td>0.1415</td>\n",
       "      <td>0.210</td>\n",
       "      <td>9</td>\n",
       "    </tr>\n",
       "    <tr>\n",
       "      <th>3</th>\n",
       "      <td>M</td>\n",
       "      <td>0.440</td>\n",
       "      <td>0.365</td>\n",
       "      <td>0.125</td>\n",
       "      <td>0.5160</td>\n",
       "      <td>0.2155</td>\n",
       "      <td>0.1140</td>\n",
       "      <td>0.155</td>\n",
       "      <td>10</td>\n",
       "    </tr>\n",
       "    <tr>\n",
       "      <th>4</th>\n",
       "      <td>I</td>\n",
       "      <td>0.330</td>\n",
       "      <td>0.255</td>\n",
       "      <td>0.080</td>\n",
       "      <td>0.2050</td>\n",
       "      <td>0.0895</td>\n",
       "      <td>0.0395</td>\n",
       "      <td>0.055</td>\n",
       "      <td>7</td>\n",
       "    </tr>\n",
       "  </tbody>\n",
       "</table>\n",
       "</div>"
      ],
      "text/plain": [
       "  gender  length  diameter  height  total weight    tare  visceral weight  \\\n",
       "0      M   0.455     0.365   0.095        0.5140  0.2245           0.1010   \n",
       "1      M   0.350     0.265   0.090        0.2255  0.0995           0.0485   \n",
       "2      F   0.530     0.420   0.135        0.6770  0.2565           0.1415   \n",
       "3      M   0.440     0.365   0.125        0.5160  0.2155           0.1140   \n",
       "4      I   0.330     0.255   0.080        0.2050  0.0895           0.0395   \n",
       "\n",
       "   shell weight  age  \n",
       "0         0.150   15  \n",
       "1         0.070    7  \n",
       "2         0.210    9  \n",
       "3         0.155   10  \n",
       "4         0.055    7  "
      ]
     },
     "execution_count": 209,
     "metadata": {},
     "output_type": "execute_result"
    }
   ],
   "source": [
    "data = pd.read_csv(data_path)\n",
    "data.head()"
   ]
  },
  {
   "cell_type": "code",
   "execution_count": 210,
   "metadata": {},
   "outputs": [
    {
     "name": "stdout",
     "output_type": "stream",
     "text": [
      "<class 'pandas.core.frame.DataFrame'>\n",
      "RangeIndex: 4177 entries, 0 to 4176\n",
      "Data columns (total 9 columns):\n",
      " #   Column           Non-Null Count  Dtype  \n",
      "---  ------           --------------  -----  \n",
      " 0   gender           4177 non-null   object \n",
      " 1   length           4177 non-null   float64\n",
      " 2   diameter         4177 non-null   float64\n",
      " 3   height           4177 non-null   float64\n",
      " 4   total weight     4177 non-null   float64\n",
      " 5   tare             4177 non-null   float64\n",
      " 6   visceral weight  4177 non-null   float64\n",
      " 7   shell weight     4177 non-null   float64\n",
      " 8   age              4177 non-null   int64  \n",
      "dtypes: float64(7), int64(1), object(1)\n",
      "memory usage: 293.8+ KB\n"
     ]
    }
   ],
   "source": [
    "data.info()"
   ]
  },
  {
   "cell_type": "code",
   "execution_count": 211,
   "metadata": {},
   "outputs": [
    {
     "data": {
      "text/html": [
       "<div>\n",
       "<style scoped>\n",
       "    .dataframe tbody tr th:only-of-type {\n",
       "        vertical-align: middle;\n",
       "    }\n",
       "\n",
       "    .dataframe tbody tr th {\n",
       "        vertical-align: top;\n",
       "    }\n",
       "\n",
       "    .dataframe thead th {\n",
       "        text-align: right;\n",
       "    }\n",
       "</style>\n",
       "<table border=\"1\" class=\"dataframe\">\n",
       "  <thead>\n",
       "    <tr style=\"text-align: right;\">\n",
       "      <th></th>\n",
       "      <th>length</th>\n",
       "      <th>diameter</th>\n",
       "      <th>height</th>\n",
       "      <th>total weight</th>\n",
       "      <th>tare</th>\n",
       "      <th>visceral weight</th>\n",
       "      <th>shell weight</th>\n",
       "      <th>age</th>\n",
       "    </tr>\n",
       "  </thead>\n",
       "  <tbody>\n",
       "    <tr>\n",
       "      <th>count</th>\n",
       "      <td>4177.000000</td>\n",
       "      <td>4177.000000</td>\n",
       "      <td>4177.000000</td>\n",
       "      <td>4177.000000</td>\n",
       "      <td>4177.000000</td>\n",
       "      <td>4177.000000</td>\n",
       "      <td>4177.000000</td>\n",
       "      <td>4177.000000</td>\n",
       "    </tr>\n",
       "    <tr>\n",
       "      <th>mean</th>\n",
       "      <td>0.523992</td>\n",
       "      <td>0.407881</td>\n",
       "      <td>0.139516</td>\n",
       "      <td>0.828742</td>\n",
       "      <td>0.359367</td>\n",
       "      <td>0.180594</td>\n",
       "      <td>0.238831</td>\n",
       "      <td>9.933684</td>\n",
       "    </tr>\n",
       "    <tr>\n",
       "      <th>std</th>\n",
       "      <td>0.120093</td>\n",
       "      <td>0.099240</td>\n",
       "      <td>0.041827</td>\n",
       "      <td>0.490389</td>\n",
       "      <td>0.221963</td>\n",
       "      <td>0.109614</td>\n",
       "      <td>0.139203</td>\n",
       "      <td>3.224169</td>\n",
       "    </tr>\n",
       "    <tr>\n",
       "      <th>min</th>\n",
       "      <td>0.075000</td>\n",
       "      <td>0.055000</td>\n",
       "      <td>0.000000</td>\n",
       "      <td>0.002000</td>\n",
       "      <td>0.001000</td>\n",
       "      <td>0.000500</td>\n",
       "      <td>0.001500</td>\n",
       "      <td>1.000000</td>\n",
       "    </tr>\n",
       "    <tr>\n",
       "      <th>25%</th>\n",
       "      <td>0.450000</td>\n",
       "      <td>0.350000</td>\n",
       "      <td>0.115000</td>\n",
       "      <td>0.441500</td>\n",
       "      <td>0.186000</td>\n",
       "      <td>0.093500</td>\n",
       "      <td>0.130000</td>\n",
       "      <td>8.000000</td>\n",
       "    </tr>\n",
       "    <tr>\n",
       "      <th>50%</th>\n",
       "      <td>0.545000</td>\n",
       "      <td>0.425000</td>\n",
       "      <td>0.140000</td>\n",
       "      <td>0.799500</td>\n",
       "      <td>0.336000</td>\n",
       "      <td>0.171000</td>\n",
       "      <td>0.234000</td>\n",
       "      <td>9.000000</td>\n",
       "    </tr>\n",
       "    <tr>\n",
       "      <th>75%</th>\n",
       "      <td>0.615000</td>\n",
       "      <td>0.480000</td>\n",
       "      <td>0.165000</td>\n",
       "      <td>1.153000</td>\n",
       "      <td>0.502000</td>\n",
       "      <td>0.253000</td>\n",
       "      <td>0.329000</td>\n",
       "      <td>11.000000</td>\n",
       "    </tr>\n",
       "    <tr>\n",
       "      <th>max</th>\n",
       "      <td>0.815000</td>\n",
       "      <td>0.650000</td>\n",
       "      <td>1.130000</td>\n",
       "      <td>2.825500</td>\n",
       "      <td>1.488000</td>\n",
       "      <td>0.760000</td>\n",
       "      <td>1.005000</td>\n",
       "      <td>29.000000</td>\n",
       "    </tr>\n",
       "  </tbody>\n",
       "</table>\n",
       "</div>"
      ],
      "text/plain": [
       "            length     diameter       height  total weight         tare  \\\n",
       "count  4177.000000  4177.000000  4177.000000   4177.000000  4177.000000   \n",
       "mean      0.523992     0.407881     0.139516      0.828742     0.359367   \n",
       "std       0.120093     0.099240     0.041827      0.490389     0.221963   \n",
       "min       0.075000     0.055000     0.000000      0.002000     0.001000   \n",
       "25%       0.450000     0.350000     0.115000      0.441500     0.186000   \n",
       "50%       0.545000     0.425000     0.140000      0.799500     0.336000   \n",
       "75%       0.615000     0.480000     0.165000      1.153000     0.502000   \n",
       "max       0.815000     0.650000     1.130000      2.825500     1.488000   \n",
       "\n",
       "       visceral weight  shell weight          age  \n",
       "count      4177.000000   4177.000000  4177.000000  \n",
       "mean          0.180594      0.238831     9.933684  \n",
       "std           0.109614      0.139203     3.224169  \n",
       "min           0.000500      0.001500     1.000000  \n",
       "25%           0.093500      0.130000     8.000000  \n",
       "50%           0.171000      0.234000     9.000000  \n",
       "75%           0.253000      0.329000    11.000000  \n",
       "max           0.760000      1.005000    29.000000  "
      ]
     },
     "execution_count": 211,
     "metadata": {},
     "output_type": "execute_result"
    }
   ],
   "source": [
    "data.describe()"
   ]
  },
  {
   "cell_type": "markdown",
   "metadata": {},
   "source": [
    "## gender"
   ]
  },
  {
   "cell_type": "code",
   "execution_count": 212,
   "metadata": {},
   "outputs": [
    {
     "data": {
      "text/plain": [
       "array(['F', 'I', 'M'], dtype=object)"
      ]
     },
     "execution_count": 212,
     "metadata": {},
     "output_type": "execute_result"
    }
   ],
   "source": [
    "np.unique(data[\"gender\"])"
   ]
  },
  {
   "cell_type": "code",
   "execution_count": 213,
   "metadata": {},
   "outputs": [],
   "source": [
    "data.loc[data[\"gender\"] == \"F\", \"gender\"] = 0\n",
    "data.loc[data[\"gender\"] == \"I\", \"gender\"] = 1\n",
    "data.loc[data[\"gender\"] == \"M\", \"gender\"] = 2"
   ]
  },
  {
   "cell_type": "code",
   "execution_count": 214,
   "metadata": {},
   "outputs": [],
   "source": [
    "data[\"gender\"] = data[\"gender\"].astype(np.int32)"
   ]
  },
  {
   "cell_type": "code",
   "execution_count": 215,
   "metadata": {},
   "outputs": [
    {
     "data": {
      "text/plain": [
       "array([0, 1, 2])"
      ]
     },
     "execution_count": 215,
     "metadata": {},
     "output_type": "execute_result"
    }
   ],
   "source": [
    "np.unique(data[\"gender\"])"
   ]
  },
  {
   "cell_type": "code",
   "execution_count": 216,
   "metadata": {},
   "outputs": [
    {
     "data": {
      "text/html": [
       "<div>\n",
       "<style scoped>\n",
       "    .dataframe tbody tr th:only-of-type {\n",
       "        vertical-align: middle;\n",
       "    }\n",
       "\n",
       "    .dataframe tbody tr th {\n",
       "        vertical-align: top;\n",
       "    }\n",
       "\n",
       "    .dataframe thead th {\n",
       "        text-align: right;\n",
       "    }\n",
       "</style>\n",
       "<table border=\"1\" class=\"dataframe\">\n",
       "  <thead>\n",
       "    <tr style=\"text-align: right;\">\n",
       "      <th></th>\n",
       "      <th>gender</th>\n",
       "      <th>length</th>\n",
       "      <th>diameter</th>\n",
       "      <th>height</th>\n",
       "      <th>total weight</th>\n",
       "      <th>tare</th>\n",
       "      <th>visceral weight</th>\n",
       "      <th>shell weight</th>\n",
       "      <th>age</th>\n",
       "    </tr>\n",
       "  </thead>\n",
       "  <tbody>\n",
       "    <tr>\n",
       "      <th>0</th>\n",
       "      <td>2</td>\n",
       "      <td>0.455</td>\n",
       "      <td>0.365</td>\n",
       "      <td>0.095</td>\n",
       "      <td>0.5140</td>\n",
       "      <td>0.2245</td>\n",
       "      <td>0.1010</td>\n",
       "      <td>0.150</td>\n",
       "      <td>15</td>\n",
       "    </tr>\n",
       "    <tr>\n",
       "      <th>1</th>\n",
       "      <td>2</td>\n",
       "      <td>0.350</td>\n",
       "      <td>0.265</td>\n",
       "      <td>0.090</td>\n",
       "      <td>0.2255</td>\n",
       "      <td>0.0995</td>\n",
       "      <td>0.0485</td>\n",
       "      <td>0.070</td>\n",
       "      <td>7</td>\n",
       "    </tr>\n",
       "    <tr>\n",
       "      <th>2</th>\n",
       "      <td>0</td>\n",
       "      <td>0.530</td>\n",
       "      <td>0.420</td>\n",
       "      <td>0.135</td>\n",
       "      <td>0.6770</td>\n",
       "      <td>0.2565</td>\n",
       "      <td>0.1415</td>\n",
       "      <td>0.210</td>\n",
       "      <td>9</td>\n",
       "    </tr>\n",
       "    <tr>\n",
       "      <th>3</th>\n",
       "      <td>2</td>\n",
       "      <td>0.440</td>\n",
       "      <td>0.365</td>\n",
       "      <td>0.125</td>\n",
       "      <td>0.5160</td>\n",
       "      <td>0.2155</td>\n",
       "      <td>0.1140</td>\n",
       "      <td>0.155</td>\n",
       "      <td>10</td>\n",
       "    </tr>\n",
       "    <tr>\n",
       "      <th>4</th>\n",
       "      <td>1</td>\n",
       "      <td>0.330</td>\n",
       "      <td>0.255</td>\n",
       "      <td>0.080</td>\n",
       "      <td>0.2050</td>\n",
       "      <td>0.0895</td>\n",
       "      <td>0.0395</td>\n",
       "      <td>0.055</td>\n",
       "      <td>7</td>\n",
       "    </tr>\n",
       "  </tbody>\n",
       "</table>\n",
       "</div>"
      ],
      "text/plain": [
       "   gender  length  diameter  height  total weight    tare  visceral weight  \\\n",
       "0       2   0.455     0.365   0.095        0.5140  0.2245           0.1010   \n",
       "1       2   0.350     0.265   0.090        0.2255  0.0995           0.0485   \n",
       "2       0   0.530     0.420   0.135        0.6770  0.2565           0.1415   \n",
       "3       2   0.440     0.365   0.125        0.5160  0.2155           0.1140   \n",
       "4       1   0.330     0.255   0.080        0.2050  0.0895           0.0395   \n",
       "\n",
       "   shell weight  age  \n",
       "0         0.150   15  \n",
       "1         0.070    7  \n",
       "2         0.210    9  \n",
       "3         0.155   10  \n",
       "4         0.055    7  "
      ]
     },
     "execution_count": 216,
     "metadata": {},
     "output_type": "execute_result"
    }
   ],
   "source": [
    "data.head()"
   ]
  },
  {
   "cell_type": "code",
   "execution_count": 217,
   "metadata": {},
   "outputs": [
    {
     "data": {
      "text/html": [
       "<div>\n",
       "<style scoped>\n",
       "    .dataframe tbody tr th:only-of-type {\n",
       "        vertical-align: middle;\n",
       "    }\n",
       "\n",
       "    .dataframe tbody tr th {\n",
       "        vertical-align: top;\n",
       "    }\n",
       "\n",
       "    .dataframe thead th {\n",
       "        text-align: right;\n",
       "    }\n",
       "</style>\n",
       "<table border=\"1\" class=\"dataframe\">\n",
       "  <thead>\n",
       "    <tr style=\"text-align: right;\">\n",
       "      <th></th>\n",
       "      <th>gender</th>\n",
       "      <th>length</th>\n",
       "      <th>diameter</th>\n",
       "      <th>height</th>\n",
       "      <th>total weight</th>\n",
       "      <th>tare</th>\n",
       "      <th>visceral weight</th>\n",
       "      <th>shell weight</th>\n",
       "    </tr>\n",
       "  </thead>\n",
       "  <tbody>\n",
       "    <tr>\n",
       "      <th>0</th>\n",
       "      <td>2</td>\n",
       "      <td>0.455</td>\n",
       "      <td>0.365</td>\n",
       "      <td>0.095</td>\n",
       "      <td>0.5140</td>\n",
       "      <td>0.2245</td>\n",
       "      <td>0.1010</td>\n",
       "      <td>0.150</td>\n",
       "    </tr>\n",
       "    <tr>\n",
       "      <th>1</th>\n",
       "      <td>2</td>\n",
       "      <td>0.350</td>\n",
       "      <td>0.265</td>\n",
       "      <td>0.090</td>\n",
       "      <td>0.2255</td>\n",
       "      <td>0.0995</td>\n",
       "      <td>0.0485</td>\n",
       "      <td>0.070</td>\n",
       "    </tr>\n",
       "    <tr>\n",
       "      <th>2</th>\n",
       "      <td>0</td>\n",
       "      <td>0.530</td>\n",
       "      <td>0.420</td>\n",
       "      <td>0.135</td>\n",
       "      <td>0.6770</td>\n",
       "      <td>0.2565</td>\n",
       "      <td>0.1415</td>\n",
       "      <td>0.210</td>\n",
       "    </tr>\n",
       "    <tr>\n",
       "      <th>3</th>\n",
       "      <td>2</td>\n",
       "      <td>0.440</td>\n",
       "      <td>0.365</td>\n",
       "      <td>0.125</td>\n",
       "      <td>0.5160</td>\n",
       "      <td>0.2155</td>\n",
       "      <td>0.1140</td>\n",
       "      <td>0.155</td>\n",
       "    </tr>\n",
       "    <tr>\n",
       "      <th>4</th>\n",
       "      <td>1</td>\n",
       "      <td>0.330</td>\n",
       "      <td>0.255</td>\n",
       "      <td>0.080</td>\n",
       "      <td>0.2050</td>\n",
       "      <td>0.0895</td>\n",
       "      <td>0.0395</td>\n",
       "      <td>0.055</td>\n",
       "    </tr>\n",
       "  </tbody>\n",
       "</table>\n",
       "</div>"
      ],
      "text/plain": [
       "   gender  length  diameter  height  total weight    tare  visceral weight  \\\n",
       "0       2   0.455     0.365   0.095        0.5140  0.2245           0.1010   \n",
       "1       2   0.350     0.265   0.090        0.2255  0.0995           0.0485   \n",
       "2       0   0.530     0.420   0.135        0.6770  0.2565           0.1415   \n",
       "3       2   0.440     0.365   0.125        0.5160  0.2155           0.1140   \n",
       "4       1   0.330     0.255   0.080        0.2050  0.0895           0.0395   \n",
       "\n",
       "   shell weight  \n",
       "0         0.150  \n",
       "1         0.070  \n",
       "2         0.210  \n",
       "3         0.155  \n",
       "4         0.055  "
      ]
     },
     "execution_count": 217,
     "metadata": {},
     "output_type": "execute_result"
    }
   ],
   "source": [
    "X = data.drop(\"age\", axis=1)\n",
    "X.head()"
   ]
  },
  {
   "cell_type": "code",
   "execution_count": 218,
   "metadata": {},
   "outputs": [
    {
     "data": {
      "text/plain": [
       "0    15\n",
       "1     7\n",
       "2     9\n",
       "3    10\n",
       "4     7\n",
       "Name: age, dtype: int64"
      ]
     },
     "execution_count": 218,
     "metadata": {},
     "output_type": "execute_result"
    }
   ],
   "source": [
    "y = data[\"age\"]\n",
    "y.head()"
   ]
  },
  {
   "cell_type": "code",
   "execution_count": 219,
   "metadata": {},
   "outputs": [
    {
     "data": {
      "text/plain": [
       "array([ 1,  2,  3,  4,  5,  6,  7,  8,  9, 10, 11, 12, 13, 14, 15, 16, 17,\n",
       "       18, 19, 20, 21, 22, 23, 24, 25, 26, 27, 29], dtype=int64)"
      ]
     },
     "execution_count": 219,
     "metadata": {},
     "output_type": "execute_result"
    }
   ],
   "source": [
    "np.unique(y)"
   ]
  },
  {
   "cell_type": "markdown",
   "metadata": {},
   "source": [
    "## train_test_split"
   ]
  },
  {
   "cell_type": "code",
   "execution_count": 220,
   "metadata": {},
   "outputs": [
    {
     "data": {
      "text/plain": [
       "((2088, 8), (2089, 8), (2088,), (2089,))"
      ]
     },
     "execution_count": 220,
     "metadata": {},
     "output_type": "execute_result"
    }
   ],
   "source": [
    "X_train, X_test, y_train, y_test = train_test_split(X, y, test_size=0.5, random_state=0)\n",
    "X_train.shape, X_test.shape, y_train.shape, y_test.shape"
   ]
  },
  {
   "cell_type": "markdown",
   "metadata": {},
   "source": [
    "# KNeighbors"
   ]
  },
  {
   "cell_type": "markdown",
   "metadata": {},
   "source": [
    "## KNeighborsClassifier"
   ]
  },
  {
   "cell_type": "code",
   "execution_count": 221,
   "metadata": {},
   "outputs": [],
   "source": [
    "from sklearn.neighbors import KNeighborsClassifier"
   ]
  },
  {
   "cell_type": "code",
   "execution_count": 222,
   "metadata": {},
   "outputs": [
    {
     "data": {
      "text/html": [
       "<style>#sk-container-id-36 {color: black;}#sk-container-id-36 pre{padding: 0;}#sk-container-id-36 div.sk-toggleable {background-color: white;}#sk-container-id-36 label.sk-toggleable__label {cursor: pointer;display: block;width: 100%;margin-bottom: 0;padding: 0.3em;box-sizing: border-box;text-align: center;}#sk-container-id-36 label.sk-toggleable__label-arrow:before {content: \"▸\";float: left;margin-right: 0.25em;color: #696969;}#sk-container-id-36 label.sk-toggleable__label-arrow:hover:before {color: black;}#sk-container-id-36 div.sk-estimator:hover label.sk-toggleable__label-arrow:before {color: black;}#sk-container-id-36 div.sk-toggleable__content {max-height: 0;max-width: 0;overflow: hidden;text-align: left;background-color: #f0f8ff;}#sk-container-id-36 div.sk-toggleable__content pre {margin: 0.2em;color: black;border-radius: 0.25em;background-color: #f0f8ff;}#sk-container-id-36 input.sk-toggleable__control:checked~div.sk-toggleable__content {max-height: 200px;max-width: 100%;overflow: auto;}#sk-container-id-36 input.sk-toggleable__control:checked~label.sk-toggleable__label-arrow:before {content: \"▾\";}#sk-container-id-36 div.sk-estimator input.sk-toggleable__control:checked~label.sk-toggleable__label {background-color: #d4ebff;}#sk-container-id-36 div.sk-label input.sk-toggleable__control:checked~label.sk-toggleable__label {background-color: #d4ebff;}#sk-container-id-36 input.sk-hidden--visually {border: 0;clip: rect(1px 1px 1px 1px);clip: rect(1px, 1px, 1px, 1px);height: 1px;margin: -1px;overflow: hidden;padding: 0;position: absolute;width: 1px;}#sk-container-id-36 div.sk-estimator {font-family: monospace;background-color: #f0f8ff;border: 1px dotted black;border-radius: 0.25em;box-sizing: border-box;margin-bottom: 0.5em;}#sk-container-id-36 div.sk-estimator:hover {background-color: #d4ebff;}#sk-container-id-36 div.sk-parallel-item::after {content: \"\";width: 100%;border-bottom: 1px solid gray;flex-grow: 1;}#sk-container-id-36 div.sk-label:hover label.sk-toggleable__label {background-color: #d4ebff;}#sk-container-id-36 div.sk-serial::before {content: \"\";position: absolute;border-left: 1px solid gray;box-sizing: border-box;top: 0;bottom: 0;left: 50%;z-index: 0;}#sk-container-id-36 div.sk-serial {display: flex;flex-direction: column;align-items: center;background-color: white;padding-right: 0.2em;padding-left: 0.2em;position: relative;}#sk-container-id-36 div.sk-item {position: relative;z-index: 1;}#sk-container-id-36 div.sk-parallel {display: flex;align-items: stretch;justify-content: center;background-color: white;position: relative;}#sk-container-id-36 div.sk-item::before, #sk-container-id-36 div.sk-parallel-item::before {content: \"\";position: absolute;border-left: 1px solid gray;box-sizing: border-box;top: 0;bottom: 0;left: 50%;z-index: -1;}#sk-container-id-36 div.sk-parallel-item {display: flex;flex-direction: column;z-index: 1;position: relative;background-color: white;}#sk-container-id-36 div.sk-parallel-item:first-child::after {align-self: flex-end;width: 50%;}#sk-container-id-36 div.sk-parallel-item:last-child::after {align-self: flex-start;width: 50%;}#sk-container-id-36 div.sk-parallel-item:only-child::after {width: 0;}#sk-container-id-36 div.sk-dashed-wrapped {border: 1px dashed gray;margin: 0 0.4em 0.5em 0.4em;box-sizing: border-box;padding-bottom: 0.4em;background-color: white;}#sk-container-id-36 div.sk-label label {font-family: monospace;font-weight: bold;display: inline-block;line-height: 1.2em;}#sk-container-id-36 div.sk-label-container {text-align: center;}#sk-container-id-36 div.sk-container {/* jupyter's `normalize.less` sets `[hidden] { display: none; }` but bootstrap.min.css set `[hidden] { display: none !important; }` so we also need the `!important` here to be able to override the default hidden behavior on the sphinx rendered scikit-learn.org. See: https://github.com/scikit-learn/scikit-learn/issues/21755 */display: inline-block !important;position: relative;}#sk-container-id-36 div.sk-text-repr-fallback {display: none;}</style><div id=\"sk-container-id-36\" class=\"sk-top-container\"><div class=\"sk-text-repr-fallback\"><pre>KNeighborsClassifier()</pre><b>In a Jupyter environment, please rerun this cell to show the HTML representation or trust the notebook. <br />On GitHub, the HTML representation is unable to render, please try loading this page with nbviewer.org.</b></div><div class=\"sk-container\" hidden><div class=\"sk-item\"><div class=\"sk-estimator sk-toggleable\"><input class=\"sk-toggleable__control sk-hidden--visually\" id=\"sk-estimator-id-36\" type=\"checkbox\" checked><label for=\"sk-estimator-id-36\" class=\"sk-toggleable__label sk-toggleable__label-arrow\">KNeighborsClassifier</label><div class=\"sk-toggleable__content\"><pre>KNeighborsClassifier()</pre></div></div></div></div></div>"
      ],
      "text/plain": [
       "KNeighborsClassifier()"
      ]
     },
     "execution_count": 222,
     "metadata": {},
     "output_type": "execute_result"
    }
   ],
   "source": [
    "kn = KNeighborsClassifier()\n",
    "kn"
   ]
  },
  {
   "cell_type": "code",
   "execution_count": 223,
   "metadata": {},
   "outputs": [
    {
     "data": {
      "text/html": [
       "<style>#sk-container-id-37 {color: black;}#sk-container-id-37 pre{padding: 0;}#sk-container-id-37 div.sk-toggleable {background-color: white;}#sk-container-id-37 label.sk-toggleable__label {cursor: pointer;display: block;width: 100%;margin-bottom: 0;padding: 0.3em;box-sizing: border-box;text-align: center;}#sk-container-id-37 label.sk-toggleable__label-arrow:before {content: \"▸\";float: left;margin-right: 0.25em;color: #696969;}#sk-container-id-37 label.sk-toggleable__label-arrow:hover:before {color: black;}#sk-container-id-37 div.sk-estimator:hover label.sk-toggleable__label-arrow:before {color: black;}#sk-container-id-37 div.sk-toggleable__content {max-height: 0;max-width: 0;overflow: hidden;text-align: left;background-color: #f0f8ff;}#sk-container-id-37 div.sk-toggleable__content pre {margin: 0.2em;color: black;border-radius: 0.25em;background-color: #f0f8ff;}#sk-container-id-37 input.sk-toggleable__control:checked~div.sk-toggleable__content {max-height: 200px;max-width: 100%;overflow: auto;}#sk-container-id-37 input.sk-toggleable__control:checked~label.sk-toggleable__label-arrow:before {content: \"▾\";}#sk-container-id-37 div.sk-estimator input.sk-toggleable__control:checked~label.sk-toggleable__label {background-color: #d4ebff;}#sk-container-id-37 div.sk-label input.sk-toggleable__control:checked~label.sk-toggleable__label {background-color: #d4ebff;}#sk-container-id-37 input.sk-hidden--visually {border: 0;clip: rect(1px 1px 1px 1px);clip: rect(1px, 1px, 1px, 1px);height: 1px;margin: -1px;overflow: hidden;padding: 0;position: absolute;width: 1px;}#sk-container-id-37 div.sk-estimator {font-family: monospace;background-color: #f0f8ff;border: 1px dotted black;border-radius: 0.25em;box-sizing: border-box;margin-bottom: 0.5em;}#sk-container-id-37 div.sk-estimator:hover {background-color: #d4ebff;}#sk-container-id-37 div.sk-parallel-item::after {content: \"\";width: 100%;border-bottom: 1px solid gray;flex-grow: 1;}#sk-container-id-37 div.sk-label:hover label.sk-toggleable__label {background-color: #d4ebff;}#sk-container-id-37 div.sk-serial::before {content: \"\";position: absolute;border-left: 1px solid gray;box-sizing: border-box;top: 0;bottom: 0;left: 50%;z-index: 0;}#sk-container-id-37 div.sk-serial {display: flex;flex-direction: column;align-items: center;background-color: white;padding-right: 0.2em;padding-left: 0.2em;position: relative;}#sk-container-id-37 div.sk-item {position: relative;z-index: 1;}#sk-container-id-37 div.sk-parallel {display: flex;align-items: stretch;justify-content: center;background-color: white;position: relative;}#sk-container-id-37 div.sk-item::before, #sk-container-id-37 div.sk-parallel-item::before {content: \"\";position: absolute;border-left: 1px solid gray;box-sizing: border-box;top: 0;bottom: 0;left: 50%;z-index: -1;}#sk-container-id-37 div.sk-parallel-item {display: flex;flex-direction: column;z-index: 1;position: relative;background-color: white;}#sk-container-id-37 div.sk-parallel-item:first-child::after {align-self: flex-end;width: 50%;}#sk-container-id-37 div.sk-parallel-item:last-child::after {align-self: flex-start;width: 50%;}#sk-container-id-37 div.sk-parallel-item:only-child::after {width: 0;}#sk-container-id-37 div.sk-dashed-wrapped {border: 1px dashed gray;margin: 0 0.4em 0.5em 0.4em;box-sizing: border-box;padding-bottom: 0.4em;background-color: white;}#sk-container-id-37 div.sk-label label {font-family: monospace;font-weight: bold;display: inline-block;line-height: 1.2em;}#sk-container-id-37 div.sk-label-container {text-align: center;}#sk-container-id-37 div.sk-container {/* jupyter's `normalize.less` sets `[hidden] { display: none; }` but bootstrap.min.css set `[hidden] { display: none !important; }` so we also need the `!important` here to be able to override the default hidden behavior on the sphinx rendered scikit-learn.org. See: https://github.com/scikit-learn/scikit-learn/issues/21755 */display: inline-block !important;position: relative;}#sk-container-id-37 div.sk-text-repr-fallback {display: none;}</style><div id=\"sk-container-id-37\" class=\"sk-top-container\"><div class=\"sk-text-repr-fallback\"><pre>KNeighborsClassifier()</pre><b>In a Jupyter environment, please rerun this cell to show the HTML representation or trust the notebook. <br />On GitHub, the HTML representation is unable to render, please try loading this page with nbviewer.org.</b></div><div class=\"sk-container\" hidden><div class=\"sk-item\"><div class=\"sk-estimator sk-toggleable\"><input class=\"sk-toggleable__control sk-hidden--visually\" id=\"sk-estimator-id-37\" type=\"checkbox\" checked><label for=\"sk-estimator-id-37\" class=\"sk-toggleable__label sk-toggleable__label-arrow\">KNeighborsClassifier</label><div class=\"sk-toggleable__content\"><pre>KNeighborsClassifier()</pre></div></div></div></div></div>"
      ],
      "text/plain": [
       "KNeighborsClassifier()"
      ]
     },
     "execution_count": 223,
     "metadata": {},
     "output_type": "execute_result"
    }
   ],
   "source": [
    "kn.fit(X_train, y_train)"
   ]
  },
  {
   "cell_type": "code",
   "execution_count": 224,
   "metadata": {},
   "outputs": [
    {
     "data": {
      "text/plain": [
       "0.237912876974629"
      ]
     },
     "execution_count": 224,
     "metadata": {},
     "output_type": "execute_result"
    }
   ],
   "source": [
    "kn.score(X_test, y_test)"
   ]
  },
  {
   "cell_type": "code",
   "execution_count": 225,
   "metadata": {},
   "outputs": [
    {
     "data": {
      "text/plain": [
       "array([13,  8, 11, ..., 14, 12, 10], dtype=int64)"
      ]
     },
     "execution_count": 225,
     "metadata": {},
     "output_type": "execute_result"
    }
   ],
   "source": [
    "np.array(y_test)"
   ]
  },
  {
   "cell_type": "code",
   "execution_count": 226,
   "metadata": {},
   "outputs": [
    {
     "data": {
      "text/plain": [
       "array([13,  9,  9, ...,  8, 10, 10], dtype=int64)"
      ]
     },
     "execution_count": 226,
     "metadata": {},
     "output_type": "execute_result"
    }
   ],
   "source": [
    "y_pred = kn.predict(X_test)\n",
    "y_pred"
   ]
  },
  {
   "cell_type": "code",
   "execution_count": 227,
   "metadata": {},
   "outputs": [
    {
     "data": {
      "text/plain": [
       "0.237912876974629"
      ]
     },
     "execution_count": 227,
     "metadata": {},
     "output_type": "execute_result"
    }
   ],
   "source": [
    "accuracy_score(y_test, y_pred)"
   ]
  },
  {
   "cell_type": "code",
   "execution_count": 228,
   "metadata": {},
   "outputs": [
    {
     "data": {
      "text/plain": [
       "<matplotlib.legend.Legend at 0x1ff0fb19190>"
      ]
     },
     "execution_count": 228,
     "metadata": {},
     "output_type": "execute_result"
    },
    {
     "data": {
      "image/png": "[encoded data removed]",
      "text/plain": [
       "<Figure size 1500x800 with 1 Axes>"
      ]
     },
     "metadata": {},
     "output_type": "display_data"
    }
   ],
   "source": [
    "skip_size = 50\n",
    "\n",
    "plt.figure(figsize=(15, 8))\n",
    "plt.scatter(range(len(y_test[::skip_size])), y_test[::skip_size], label=\"y_true\")\n",
    "plt.scatter(range(len(y_pred[::skip_size])), y_pred[::skip_size], label=\"y_test\")\n",
    "plt.grid(True)\n",
    "plt.legend()"
   ]
  },
  {
   "cell_type": "markdown",
   "metadata": {},
   "source": [
    "## KNeighborsRegressor"
   ]
  },
  {
   "cell_type": "code",
   "execution_count": 229,
   "metadata": {},
   "outputs": [],
   "source": [
    "from sklearn.neighbors import KNeighborsRegressor"
   ]
  },
  {
   "cell_type": "code",
   "execution_count": 230,
   "metadata": {},
   "outputs": [
    {
     "data": {
      "text/html": [
       "<style>#sk-container-id-38 {color: black;}#sk-container-id-38 pre{padding: 0;}#sk-container-id-38 div.sk-toggleable {background-color: white;}#sk-container-id-38 label.sk-toggleable__label {cursor: pointer;display: block;width: 100%;margin-bottom: 0;padding: 0.3em;box-sizing: border-box;text-align: center;}#sk-container-id-38 label.sk-toggleable__label-arrow:before {content: \"▸\";float: left;margin-right: 0.25em;color: #696969;}#sk-container-id-38 label.sk-toggleable__label-arrow:hover:before {color: black;}#sk-container-id-38 div.sk-estimator:hover label.sk-toggleable__label-arrow:before {color: black;}#sk-container-id-38 div.sk-toggleable__content {max-height: 0;max-width: 0;overflow: hidden;text-align: left;background-color: #f0f8ff;}#sk-container-id-38 div.sk-toggleable__content pre {margin: 0.2em;color: black;border-radius: 0.25em;background-color: #f0f8ff;}#sk-container-id-38 input.sk-toggleable__control:checked~div.sk-toggleable__content {max-height: 200px;max-width: 100%;overflow: auto;}#sk-container-id-38 input.sk-toggleable__control:checked~label.sk-toggleable__label-arrow:before {content: \"▾\";}#sk-container-id-38 div.sk-estimator input.sk-toggleable__control:checked~label.sk-toggleable__label {background-color: #d4ebff;}#sk-container-id-38 div.sk-label input.sk-toggleable__control:checked~label.sk-toggleable__label {background-color: #d4ebff;}#sk-container-id-38 input.sk-hidden--visually {border: 0;clip: rect(1px 1px 1px 1px);clip: rect(1px, 1px, 1px, 1px);height: 1px;margin: -1px;overflow: hidden;padding: 0;position: absolute;width: 1px;}#sk-container-id-38 div.sk-estimator {font-family: monospace;background-color: #f0f8ff;border: 1px dotted black;border-radius: 0.25em;box-sizing: border-box;margin-bottom: 0.5em;}#sk-container-id-38 div.sk-estimator:hover {background-color: #d4ebff;}#sk-container-id-38 div.sk-parallel-item::after {content: \"\";width: 100%;border-bottom: 1px solid gray;flex-grow: 1;}#sk-container-id-38 div.sk-label:hover label.sk-toggleable__label {background-color: #d4ebff;}#sk-container-id-38 div.sk-serial::before {content: \"\";position: absolute;border-left: 1px solid gray;box-sizing: border-box;top: 0;bottom: 0;left: 50%;z-index: 0;}#sk-container-id-38 div.sk-serial {display: flex;flex-direction: column;align-items: center;background-color: white;padding-right: 0.2em;padding-left: 0.2em;position: relative;}#sk-container-id-38 div.sk-item {position: relative;z-index: 1;}#sk-container-id-38 div.sk-parallel {display: flex;align-items: stretch;justify-content: center;background-color: white;position: relative;}#sk-container-id-38 div.sk-item::before, #sk-container-id-38 div.sk-parallel-item::before {content: \"\";position: absolute;border-left: 1px solid gray;box-sizing: border-box;top: 0;bottom: 0;left: 50%;z-index: -1;}#sk-container-id-38 div.sk-parallel-item {display: flex;flex-direction: column;z-index: 1;position: relative;background-color: white;}#sk-container-id-38 div.sk-parallel-item:first-child::after {align-self: flex-end;width: 50%;}#sk-container-id-38 div.sk-parallel-item:last-child::after {align-self: flex-start;width: 50%;}#sk-container-id-38 div.sk-parallel-item:only-child::after {width: 0;}#sk-container-id-38 div.sk-dashed-wrapped {border: 1px dashed gray;margin: 0 0.4em 0.5em 0.4em;box-sizing: border-box;padding-bottom: 0.4em;background-color: white;}#sk-container-id-38 div.sk-label label {font-family: monospace;font-weight: bold;display: inline-block;line-height: 1.2em;}#sk-container-id-38 div.sk-label-container {text-align: center;}#sk-container-id-38 div.sk-container {/* jupyter's `normalize.less` sets `[hidden] { display: none; }` but bootstrap.min.css set `[hidden] { display: none !important; }` so we also need the `!important` here to be able to override the default hidden behavior on the sphinx rendered scikit-learn.org. See: https://github.com/scikit-learn/scikit-learn/issues/21755 */display: inline-block !important;position: relative;}#sk-container-id-38 div.sk-text-repr-fallback {display: none;}</style><div id=\"sk-container-id-38\" class=\"sk-top-container\"><div class=\"sk-text-repr-fallback\"><pre>KNeighborsRegressor()</pre><b>In a Jupyter environment, please rerun this cell to show the HTML representation or trust the notebook. <br />On GitHub, the HTML representation is unable to render, please try loading this page with nbviewer.org.</b></div><div class=\"sk-container\" hidden><div class=\"sk-item\"><div class=\"sk-estimator sk-toggleable\"><input class=\"sk-toggleable__control sk-hidden--visually\" id=\"sk-estimator-id-38\" type=\"checkbox\" checked><label for=\"sk-estimator-id-38\" class=\"sk-toggleable__label sk-toggleable__label-arrow\">KNeighborsRegressor</label><div class=\"sk-toggleable__content\"><pre>KNeighborsRegressor()</pre></div></div></div></div></div>"
      ],
      "text/plain": [
       "KNeighborsRegressor()"
      ]
     },
     "execution_count": 230,
     "metadata": {},
     "output_type": "execute_result"
    }
   ],
   "source": [
    "kn = KNeighborsRegressor()\n",
    "kn"
   ]
  },
  {
   "cell_type": "code",
   "execution_count": 231,
   "metadata": {},
   "outputs": [
    {
     "data": {
      "text/html": [
       "<style>#sk-container-id-39 {color: black;}#sk-container-id-39 pre{padding: 0;}#sk-container-id-39 div.sk-toggleable {background-color: white;}#sk-container-id-39 label.sk-toggleable__label {cursor: pointer;display: block;width: 100%;margin-bottom: 0;padding: 0.3em;box-sizing: border-box;text-align: center;}#sk-container-id-39 label.sk-toggleable__label-arrow:before {content: \"▸\";float: left;margin-right: 0.25em;color: #696969;}#sk-container-id-39 label.sk-toggleable__label-arrow:hover:before {color: black;}#sk-container-id-39 div.sk-estimator:hover label.sk-toggleable__label-arrow:before {color: black;}#sk-container-id-39 div.sk-toggleable__content {max-height: 0;max-width: 0;overflow: hidden;text-align: left;background-color: #f0f8ff;}#sk-container-id-39 div.sk-toggleable__content pre {margin: 0.2em;color: black;border-radius: 0.25em;background-color: #f0f8ff;}#sk-container-id-39 input.sk-toggleable__control:checked~div.sk-toggleable__content {max-height: 200px;max-width: 100%;overflow: auto;}#sk-container-id-39 input.sk-toggleable__control:checked~label.sk-toggleable__label-arrow:before {content: \"▾\";}#sk-container-id-39 div.sk-estimator input.sk-toggleable__control:checked~label.sk-toggleable__label {background-color: #d4ebff;}#sk-container-id-39 div.sk-label input.sk-toggleable__control:checked~label.sk-toggleable__label {background-color: #d4ebff;}#sk-container-id-39 input.sk-hidden--visually {border: 0;clip: rect(1px 1px 1px 1px);clip: rect(1px, 1px, 1px, 1px);height: 1px;margin: -1px;overflow: hidden;padding: 0;position: absolute;width: 1px;}#sk-container-id-39 div.sk-estimator {font-family: monospace;background-color: #f0f8ff;border: 1px dotted black;border-radius: 0.25em;box-sizing: border-box;margin-bottom: 0.5em;}#sk-container-id-39 div.sk-estimator:hover {background-color: #d4ebff;}#sk-container-id-39 div.sk-parallel-item::after {content: \"\";width: 100%;border-bottom: 1px solid gray;flex-grow: 1;}#sk-container-id-39 div.sk-label:hover label.sk-toggleable__label {background-color: #d4ebff;}#sk-container-id-39 div.sk-serial::before {content: \"\";position: absolute;border-left: 1px solid gray;box-sizing: border-box;top: 0;bottom: 0;left: 50%;z-index: 0;}#sk-container-id-39 div.sk-serial {display: flex;flex-direction: column;align-items: center;background-color: white;padding-right: 0.2em;padding-left: 0.2em;position: relative;}#sk-container-id-39 div.sk-item {position: relative;z-index: 1;}#sk-container-id-39 div.sk-parallel {display: flex;align-items: stretch;justify-content: center;background-color: white;position: relative;}#sk-container-id-39 div.sk-item::before, #sk-container-id-39 div.sk-parallel-item::before {content: \"\";position: absolute;border-left: 1px solid gray;box-sizing: border-box;top: 0;bottom: 0;left: 50%;z-index: -1;}#sk-container-id-39 div.sk-parallel-item {display: flex;flex-direction: column;z-index: 1;position: relative;background-color: white;}#sk-container-id-39 div.sk-parallel-item:first-child::after {align-self: flex-end;width: 50%;}#sk-container-id-39 div.sk-parallel-item:last-child::after {align-self: flex-start;width: 50%;}#sk-container-id-39 div.sk-parallel-item:only-child::after {width: 0;}#sk-container-id-39 div.sk-dashed-wrapped {border: 1px dashed gray;margin: 0 0.4em 0.5em 0.4em;box-sizing: border-box;padding-bottom: 0.4em;background-color: white;}#sk-container-id-39 div.sk-label label {font-family: monospace;font-weight: bold;display: inline-block;line-height: 1.2em;}#sk-container-id-39 div.sk-label-container {text-align: center;}#sk-container-id-39 div.sk-container {/* jupyter's `normalize.less` sets `[hidden] { display: none; }` but bootstrap.min.css set `[hidden] { display: none !important; }` so we also need the `!important` here to be able to override the default hidden behavior on the sphinx rendered scikit-learn.org. See: https://github.com/scikit-learn/scikit-learn/issues/21755 */display: inline-block !important;position: relative;}#sk-container-id-39 div.sk-text-repr-fallback {display: none;}</style><div id=\"sk-container-id-39\" class=\"sk-top-container\"><div class=\"sk-text-repr-fallback\"><pre>KNeighborsRegressor()</pre><b>In a Jupyter environment, please rerun this cell to show the HTML representation or trust the notebook. <br />On GitHub, the HTML representation is unable to render, please try loading this page with nbviewer.org.</b></div><div class=\"sk-container\" hidden><div class=\"sk-item\"><div class=\"sk-estimator sk-toggleable\"><input class=\"sk-toggleable__control sk-hidden--visually\" id=\"sk-estimator-id-39\" type=\"checkbox\" checked><label for=\"sk-estimator-id-39\" class=\"sk-toggleable__label sk-toggleable__label-arrow\">KNeighborsRegressor</label><div class=\"sk-toggleable__content\"><pre>KNeighborsRegressor()</pre></div></div></div></div></div>"
      ],
      "text/plain": [
       "KNeighborsRegressor()"
      ]
     },
     "execution_count": 231,
     "metadata": {},
     "output_type": "execute_result"
    }
   ],
   "source": [
    "kn.fit(X_train, y_train)"
   ]
  },
  {
   "cell_type": "code",
   "execution_count": 232,
   "metadata": {},
   "outputs": [
    {
     "data": {
      "text/plain": [
       "0.5064108540412988"
      ]
     },
     "execution_count": 232,
     "metadata": {},
     "output_type": "execute_result"
    }
   ],
   "source": [
    "kn.score(X_test, y_test)"
   ]
  },
  {
   "cell_type": "code",
   "execution_count": 233,
   "metadata": {},
   "outputs": [
    {
     "data": {
      "text/plain": [
       "array([13,  8, 11, ..., 14, 12, 10], dtype=int64)"
      ]
     },
     "execution_count": 233,
     "metadata": {},
     "output_type": "execute_result"
    }
   ],
   "source": [
    "np.array(y_test)"
   ]
  },
  {
   "cell_type": "code",
   "execution_count": 234,
   "metadata": {},
   "outputs": [
    {
     "data": {
      "text/plain": [
       "array([14.4,  9.6, 10.2, ..., 11.4, 12. , 10.2])"
      ]
     },
     "execution_count": 234,
     "metadata": {},
     "output_type": "execute_result"
    }
   ],
   "source": [
    "y_pred = kn.predict(X_test)\n",
    "y_pred"
   ]
  },
  {
   "cell_type": "code",
   "execution_count": 235,
   "metadata": {},
   "outputs": [
    {
     "name": "stdout",
     "output_type": "stream",
     "text": [
      "1.579894686452848\n",
      "5.122987075155578\n",
      "0.5064108540412988\n"
     ]
    }
   ],
   "source": [
    "print(mean_absolute_error(y_test, y_pred))  # lower is better\n",
    "print(mean_squared_error(y_test, y_pred))   # lower is better\n",
    "print(r2_score(y_test, y_pred))             # higher is better"
   ]
  },
  {
   "cell_type": "code",
   "execution_count": 236,
   "metadata": {},
   "outputs": [
    {
     "data": {
      "text/plain": [
       "<matplotlib.legend.Legend at 0x1ff0f684ed0>"
      ]
     },
     "execution_count": 236,
     "metadata": {},
     "output_type": "execute_result"
    },
    {
     "data": {
      "image/png": "[encoded data removed]",
      "text/plain": [
       "<Figure size 1500x800 with 1 Axes>"
      ]
     },
     "metadata": {},
     "output_type": "display_data"
    }
   ],
   "source": [
    "skip_size = 50\n",
    "\n",
    "plt.figure(figsize=(15, 8))\n",
    "plt.scatter(range(len(y_test[::skip_size])), y_test[::skip_size], label=\"y_true\")\n",
    "plt.scatter(range(len(y_pred[::skip_size])), y_pred[::skip_size], label=\"y_test\")\n",
    "plt.grid(True)\n",
    "plt.legend()"
   ]
  },
  {
   "cell_type": "markdown",
   "metadata": {},
   "source": [
    "# DecisionTree"
   ]
  },
  {
   "cell_type": "markdown",
   "metadata": {},
   "source": [
    "## DecisionTreeClassifier"
   ]
  },
  {
   "cell_type": "code",
   "execution_count": 237,
   "metadata": {},
   "outputs": [],
   "source": [
    "from sklearn.tree import DecisionTreeClassifier"
   ]
  },
  {
   "cell_type": "code",
   "execution_count": 238,
   "metadata": {},
   "outputs": [
    {
     "data": {
      "text/html": [
       "<style>#sk-container-id-40 {color: black;}#sk-container-id-40 pre{padding: 0;}#sk-container-id-40 div.sk-toggleable {background-color: white;}#sk-container-id-40 label.sk-toggleable__label {cursor: pointer;display: block;width: 100%;margin-bottom: 0;padding: 0.3em;box-sizing: border-box;text-align: center;}#sk-container-id-40 label.sk-toggleable__label-arrow:before {content: \"▸\";float: left;margin-right: 0.25em;color: #696969;}#sk-container-id-40 label.sk-toggleable__label-arrow:hover:before {color: black;}#sk-container-id-40 div.sk-estimator:hover label.sk-toggleable__label-arrow:before {color: black;}#sk-container-id-40 div.sk-toggleable__content {max-height: 0;max-width: 0;overflow: hidden;text-align: left;background-color: #f0f8ff;}#sk-container-id-40 div.sk-toggleable__content pre {margin: 0.2em;color: black;border-radius: 0.25em;background-color: #f0f8ff;}#sk-container-id-40 input.sk-toggleable__control:checked~div.sk-toggleable__content {max-height: 200px;max-width: 100%;overflow: auto;}#sk-container-id-40 input.sk-toggleable__control:checked~label.sk-toggleable__label-arrow:before {content: \"▾\";}#sk-container-id-40 div.sk-estimator input.sk-toggleable__control:checked~label.sk-toggleable__label {background-color: #d4ebff;}#sk-container-id-40 div.sk-label input.sk-toggleable__control:checked~label.sk-toggleable__label {background-color: #d4ebff;}#sk-container-id-40 input.sk-hidden--visually {border: 0;clip: rect(1px 1px 1px 1px);clip: rect(1px, 1px, 1px, 1px);height: 1px;margin: -1px;overflow: hidden;padding: 0;position: absolute;width: 1px;}#sk-container-id-40 div.sk-estimator {font-family: monospace;background-color: #f0f8ff;border: 1px dotted black;border-radius: 0.25em;box-sizing: border-box;margin-bottom: 0.5em;}#sk-container-id-40 div.sk-estimator:hover {background-color: #d4ebff;}#sk-container-id-40 div.sk-parallel-item::after {content: \"\";width: 100%;border-bottom: 1px solid gray;flex-grow: 1;}#sk-container-id-40 div.sk-label:hover label.sk-toggleable__label {background-color: #d4ebff;}#sk-container-id-40 div.sk-serial::before {content: \"\";position: absolute;border-left: 1px solid gray;box-sizing: border-box;top: 0;bottom: 0;left: 50%;z-index: 0;}#sk-container-id-40 div.sk-serial {display: flex;flex-direction: column;align-items: center;background-color: white;padding-right: 0.2em;padding-left: 0.2em;position: relative;}#sk-container-id-40 div.sk-item {position: relative;z-index: 1;}#sk-container-id-40 div.sk-parallel {display: flex;align-items: stretch;justify-content: center;background-color: white;position: relative;}#sk-container-id-40 div.sk-item::before, #sk-container-id-40 div.sk-parallel-item::before {content: \"\";position: absolute;border-left: 1px solid gray;box-sizing: border-box;top: 0;bottom: 0;left: 50%;z-index: -1;}#sk-container-id-40 div.sk-parallel-item {display: flex;flex-direction: column;z-index: 1;position: relative;background-color: white;}#sk-container-id-40 div.sk-parallel-item:first-child::after {align-self: flex-end;width: 50%;}#sk-container-id-40 div.sk-parallel-item:last-child::after {align-self: flex-start;width: 50%;}#sk-container-id-40 div.sk-parallel-item:only-child::after {width: 0;}#sk-container-id-40 div.sk-dashed-wrapped {border: 1px dashed gray;margin: 0 0.4em 0.5em 0.4em;box-sizing: border-box;padding-bottom: 0.4em;background-color: white;}#sk-container-id-40 div.sk-label label {font-family: monospace;font-weight: bold;display: inline-block;line-height: 1.2em;}#sk-container-id-40 div.sk-label-container {text-align: center;}#sk-container-id-40 div.sk-container {/* jupyter's `normalize.less` sets `[hidden] { display: none; }` but bootstrap.min.css set `[hidden] { display: none !important; }` so we also need the `!important` here to be able to override the default hidden behavior on the sphinx rendered scikit-learn.org. See: https://github.com/scikit-learn/scikit-learn/issues/21755 */display: inline-block !important;position: relative;}#sk-container-id-40 div.sk-text-repr-fallback {display: none;}</style><div id=\"sk-container-id-40\" class=\"sk-top-container\"><div class=\"sk-text-repr-fallback\"><pre>DecisionTreeClassifier()</pre><b>In a Jupyter environment, please rerun this cell to show the HTML representation or trust the notebook. <br />On GitHub, the HTML representation is unable to render, please try loading this page with nbviewer.org.</b></div><div class=\"sk-container\" hidden><div class=\"sk-item\"><div class=\"sk-estimator sk-toggleable\"><input class=\"sk-toggleable__control sk-hidden--visually\" id=\"sk-estimator-id-40\" type=\"checkbox\" checked><label for=\"sk-estimator-id-40\" class=\"sk-toggleable__label sk-toggleable__label-arrow\">DecisionTreeClassifier</label><div class=\"sk-toggleable__content\"><pre>DecisionTreeClassifier()</pre></div></div></div></div></div>"
      ],
      "text/plain": [
       "DecisionTreeClassifier()"
      ]
     },
     "execution_count": 238,
     "metadata": {},
     "output_type": "execute_result"
    }
   ],
   "source": [
    "dt = DecisionTreeClassifier()\n",
    "dt"
   ]
  },
  {
   "cell_type": "code",
   "execution_count": 239,
   "metadata": {},
   "outputs": [
    {
     "data": {
      "text/html": [
       "<style>#sk-container-id-41 {color: black;}#sk-container-id-41 pre{padding: 0;}#sk-container-id-41 div.sk-toggleable {background-color: white;}#sk-container-id-41 label.sk-toggleable__label {cursor: pointer;display: block;width: 100%;margin-bottom: 0;padding: 0.3em;box-sizing: border-box;text-align: center;}#sk-container-id-41 label.sk-toggleable__label-arrow:before {content: \"▸\";float: left;margin-right: 0.25em;color: #696969;}#sk-container-id-41 label.sk-toggleable__label-arrow:hover:before {color: black;}#sk-container-id-41 div.sk-estimator:hover label.sk-toggleable__label-arrow:before {color: black;}#sk-container-id-41 div.sk-toggleable__content {max-height: 0;max-width: 0;overflow: hidden;text-align: left;background-color: #f0f8ff;}#sk-container-id-41 div.sk-toggleable__content pre {margin: 0.2em;color: black;border-radius: 0.25em;background-color: #f0f8ff;}#sk-container-id-41 input.sk-toggleable__control:checked~div.sk-toggleable__content {max-height: 200px;max-width: 100%;overflow: auto;}#sk-container-id-41 input.sk-toggleable__control:checked~label.sk-toggleable__label-arrow:before {content: \"▾\";}#sk-container-id-41 div.sk-estimator input.sk-toggleable__control:checked~label.sk-toggleable__label {background-color: #d4ebff;}#sk-container-id-41 div.sk-label input.sk-toggleable__control:checked~label.sk-toggleable__label {background-color: #d4ebff;}#sk-container-id-41 input.sk-hidden--visually {border: 0;clip: rect(1px 1px 1px 1px);clip: rect(1px, 1px, 1px, 1px);height: 1px;margin: -1px;overflow: hidden;padding: 0;position: absolute;width: 1px;}#sk-container-id-41 div.sk-estimator {font-family: monospace;background-color: #f0f8ff;border: 1px dotted black;border-radius: 0.25em;box-sizing: border-box;margin-bottom: 0.5em;}#sk-container-id-41 div.sk-estimator:hover {background-color: #d4ebff;}#sk-container-id-41 div.sk-parallel-item::after {content: \"\";width: 100%;border-bottom: 1px solid gray;flex-grow: 1;}#sk-container-id-41 div.sk-label:hover label.sk-toggleable__label {background-color: #d4ebff;}#sk-container-id-41 div.sk-serial::before {content: \"\";position: absolute;border-left: 1px solid gray;box-sizing: border-box;top: 0;bottom: 0;left: 50%;z-index: 0;}#sk-container-id-41 div.sk-serial {display: flex;flex-direction: column;align-items: center;background-color: white;padding-right: 0.2em;padding-left: 0.2em;position: relative;}#sk-container-id-41 div.sk-item {position: relative;z-index: 1;}#sk-container-id-41 div.sk-parallel {display: flex;align-items: stretch;justify-content: center;background-color: white;position: relative;}#sk-container-id-41 div.sk-item::before, #sk-container-id-41 div.sk-parallel-item::before {content: \"\";position: absolute;border-left: 1px solid gray;box-sizing: border-box;top: 0;bottom: 0;left: 50%;z-index: -1;}#sk-container-id-41 div.sk-parallel-item {display: flex;flex-direction: column;z-index: 1;position: relative;background-color: white;}#sk-container-id-41 div.sk-parallel-item:first-child::after {align-self: flex-end;width: 50%;}#sk-container-id-41 div.sk-parallel-item:last-child::after {align-self: flex-start;width: 50%;}#sk-container-id-41 div.sk-parallel-item:only-child::after {width: 0;}#sk-container-id-41 div.sk-dashed-wrapped {border: 1px dashed gray;margin: 0 0.4em 0.5em 0.4em;box-sizing: border-box;padding-bottom: 0.4em;background-color: white;}#sk-container-id-41 div.sk-label label {font-family: monospace;font-weight: bold;display: inline-block;line-height: 1.2em;}#sk-container-id-41 div.sk-label-container {text-align: center;}#sk-container-id-41 div.sk-container {/* jupyter's `normalize.less` sets `[hidden] { display: none; }` but bootstrap.min.css set `[hidden] { display: none !important; }` so we also need the `!important` here to be able to override the default hidden behavior on the sphinx rendered scikit-learn.org. See: https://github.com/scikit-learn/scikit-learn/issues/21755 */display: inline-block !important;position: relative;}#sk-container-id-41 div.sk-text-repr-fallback {display: none;}</style><div id=\"sk-container-id-41\" class=\"sk-top-container\"><div class=\"sk-text-repr-fallback\"><pre>DecisionTreeClassifier()</pre><b>In a Jupyter environment, please rerun this cell to show the HTML representation or trust the notebook. <br />On GitHub, the HTML representation is unable to render, please try loading this page with nbviewer.org.</b></div><div class=\"sk-container\" hidden><div class=\"sk-item\"><div class=\"sk-estimator sk-toggleable\"><input class=\"sk-toggleable__control sk-hidden--visually\" id=\"sk-estimator-id-41\" type=\"checkbox\" checked><label for=\"sk-estimator-id-41\" class=\"sk-toggleable__label sk-toggleable__label-arrow\">DecisionTreeClassifier</label><div class=\"sk-toggleable__content\"><pre>DecisionTreeClassifier()</pre></div></div></div></div></div>"
      ],
      "text/plain": [
       "DecisionTreeClassifier()"
      ]
     },
     "execution_count": 239,
     "metadata": {},
     "output_type": "execute_result"
    }
   ],
   "source": [
    "dt.fit(X_train, y_train)"
   ]
  },
  {
   "cell_type": "code",
   "execution_count": 240,
   "metadata": {},
   "outputs": [
    {
     "data": {
      "text/plain": [
       "0.18669219722355193"
      ]
     },
     "execution_count": 240,
     "metadata": {},
     "output_type": "execute_result"
    }
   ],
   "source": [
    "dt.score(X_test, y_test)"
   ]
  },
  {
   "cell_type": "code",
   "execution_count": 241,
   "metadata": {},
   "outputs": [
    {
     "data": {
      "text/plain": [
       "array([13,  8, 11, ..., 14, 12, 10], dtype=int64)"
      ]
     },
     "execution_count": 241,
     "metadata": {},
     "output_type": "execute_result"
    }
   ],
   "source": [
    "np.array(y_test)"
   ]
  },
  {
   "cell_type": "code",
   "execution_count": 242,
   "metadata": {},
   "outputs": [
    {
     "data": {
      "text/plain": [
       "array([14,  9,  9, ..., 13,  9, 10], dtype=int64)"
      ]
     },
     "execution_count": 242,
     "metadata": {},
     "output_type": "execute_result"
    }
   ],
   "source": [
    "y_pred = dt.predict(X_test)\n",
    "y_pred"
   ]
  },
  {
   "cell_type": "code",
   "execution_count": 243,
   "metadata": {},
   "outputs": [
    {
     "data": {
      "text/plain": [
       "0.18669219722355193"
      ]
     },
     "execution_count": 243,
     "metadata": {},
     "output_type": "execute_result"
    }
   ],
   "source": [
    "accuracy_score(y_test, y_pred)"
   ]
  },
  {
   "cell_type": "code",
   "execution_count": 244,
   "metadata": {},
   "outputs": [
    {
     "data": {
      "text/plain": [
       "<matplotlib.legend.Legend at 0x1ff0f6ea3d0>"
      ]
     },
     "execution_count": 244,
     "metadata": {},
     "output_type": "execute_result"
    },
    {
     "data": {
      "image/png": "[encoded data removed]",
      "text/plain": [
       "<Figure size 1500x800 with 1 Axes>"
      ]
     },
     "metadata": {},
     "output_type": "display_data"
    }
   ],
   "source": [
    "skip_size = 50\n",
    "\n",
    "plt.figure(figsize=(15, 8))\n",
    "plt.scatter(range(len(y_test[::skip_size])), y_test[::skip_size], label=\"y_true\")\n",
    "plt.scatter(range(len(y_pred[::skip_size])), y_pred[::skip_size], label=\"y_test\")\n",
    "plt.grid(True)\n",
    "plt.legend()"
   ]
  },
  {
   "cell_type": "markdown",
   "metadata": {},
   "source": [
    "## DecisionTreeRegressor"
   ]
  },
  {
   "cell_type": "code",
   "execution_count": 245,
   "metadata": {},
   "outputs": [],
   "source": [
    "from sklearn.tree import DecisionTreeRegressor"
   ]
  },
  {
   "cell_type": "code",
   "execution_count": 246,
   "metadata": {},
   "outputs": [
    {
     "data": {
      "text/html": [
       "<style>#sk-container-id-42 {color: black;}#sk-container-id-42 pre{padding: 0;}#sk-container-id-42 div.sk-toggleable {background-color: white;}#sk-container-id-42 label.sk-toggleable__label {cursor: pointer;display: block;width: 100%;margin-bottom: 0;padding: 0.3em;box-sizing: border-box;text-align: center;}#sk-container-id-42 label.sk-toggleable__label-arrow:before {content: \"▸\";float: left;margin-right: 0.25em;color: #696969;}#sk-container-id-42 label.sk-toggleable__label-arrow:hover:before {color: black;}#sk-container-id-42 div.sk-estimator:hover label.sk-toggleable__label-arrow:before {color: black;}#sk-container-id-42 div.sk-toggleable__content {max-height: 0;max-width: 0;overflow: hidden;text-align: left;background-color: #f0f8ff;}#sk-container-id-42 div.sk-toggleable__content pre {margin: 0.2em;color: black;border-radius: 0.25em;background-color: #f0f8ff;}#sk-container-id-42 input.sk-toggleable__control:checked~div.sk-toggleable__content {max-height: 200px;max-width: 100%;overflow: auto;}#sk-container-id-42 input.sk-toggleable__control:checked~label.sk-toggleable__label-arrow:before {content: \"▾\";}#sk-container-id-42 div.sk-estimator input.sk-toggleable__control:checked~label.sk-toggleable__label {background-color: #d4ebff;}#sk-container-id-42 div.sk-label input.sk-toggleable__control:checked~label.sk-toggleable__label {background-color: #d4ebff;}#sk-container-id-42 input.sk-hidden--visually {border: 0;clip: rect(1px 1px 1px 1px);clip: rect(1px, 1px, 1px, 1px);height: 1px;margin: -1px;overflow: hidden;padding: 0;position: absolute;width: 1px;}#sk-container-id-42 div.sk-estimator {font-family: monospace;background-color: #f0f8ff;border: 1px dotted black;border-radius: 0.25em;box-sizing: border-box;margin-bottom: 0.5em;}#sk-container-id-42 div.sk-estimator:hover {background-color: #d4ebff;}#sk-container-id-42 div.sk-parallel-item::after {content: \"\";width: 100%;border-bottom: 1px solid gray;flex-grow: 1;}#sk-container-id-42 div.sk-label:hover label.sk-toggleable__label {background-color: #d4ebff;}#sk-container-id-42 div.sk-serial::before {content: \"\";position: absolute;border-left: 1px solid gray;box-sizing: border-box;top: 0;bottom: 0;left: 50%;z-index: 0;}#sk-container-id-42 div.sk-serial {display: flex;flex-direction: column;align-items: center;background-color: white;padding-right: 0.2em;padding-left: 0.2em;position: relative;}#sk-container-id-42 div.sk-item {position: relative;z-index: 1;}#sk-container-id-42 div.sk-parallel {display: flex;align-items: stretch;justify-content: center;background-color: white;position: relative;}#sk-container-id-42 div.sk-item::before, #sk-container-id-42 div.sk-parallel-item::before {content: \"\";position: absolute;border-left: 1px solid gray;box-sizing: border-box;top: 0;bottom: 0;left: 50%;z-index: -1;}#sk-container-id-42 div.sk-parallel-item {display: flex;flex-direction: column;z-index: 1;position: relative;background-color: white;}#sk-container-id-42 div.sk-parallel-item:first-child::after {align-self: flex-end;width: 50%;}#sk-container-id-42 div.sk-parallel-item:last-child::after {align-self: flex-start;width: 50%;}#sk-container-id-42 div.sk-parallel-item:only-child::after {width: 0;}#sk-container-id-42 div.sk-dashed-wrapped {border: 1px dashed gray;margin: 0 0.4em 0.5em 0.4em;box-sizing: border-box;padding-bottom: 0.4em;background-color: white;}#sk-container-id-42 div.sk-label label {font-family: monospace;font-weight: bold;display: inline-block;line-height: 1.2em;}#sk-container-id-42 div.sk-label-container {text-align: center;}#sk-container-id-42 div.sk-container {/* jupyter's `normalize.less` sets `[hidden] { display: none; }` but bootstrap.min.css set `[hidden] { display: none !important; }` so we also need the `!important` here to be able to override the default hidden behavior on the sphinx rendered scikit-learn.org. See: https://github.com/scikit-learn/scikit-learn/issues/21755 */display: inline-block !important;position: relative;}#sk-container-id-42 div.sk-text-repr-fallback {display: none;}</style><div id=\"sk-container-id-42\" class=\"sk-top-container\"><div class=\"sk-text-repr-fallback\"><pre>DecisionTreeRegressor()</pre><b>In a Jupyter environment, please rerun this cell to show the HTML representation or trust the notebook. <br />On GitHub, the HTML representation is unable to render, please try loading this page with nbviewer.org.</b></div><div class=\"sk-container\" hidden><div class=\"sk-item\"><div class=\"sk-estimator sk-toggleable\"><input class=\"sk-toggleable__control sk-hidden--visually\" id=\"sk-estimator-id-42\" type=\"checkbox\" checked><label for=\"sk-estimator-id-42\" class=\"sk-toggleable__label sk-toggleable__label-arrow\">DecisionTreeRegressor</label><div class=\"sk-toggleable__content\"><pre>DecisionTreeRegressor()</pre></div></div></div></div></div>"
      ],
      "text/plain": [
       "DecisionTreeRegressor()"
      ]
     },
     "execution_count": 246,
     "metadata": {},
     "output_type": "execute_result"
    }
   ],
   "source": [
    "dt = DecisionTreeRegressor()\n",
    "dt"
   ]
  },
  {
   "cell_type": "code",
   "execution_count": 247,
   "metadata": {},
   "outputs": [
    {
     "data": {
      "text/html": [
       "<style>#sk-container-id-43 {color: black;}#sk-container-id-43 pre{padding: 0;}#sk-container-id-43 div.sk-toggleable {background-color: white;}#sk-container-id-43 label.sk-toggleable__label {cursor: pointer;display: block;width: 100%;margin-bottom: 0;padding: 0.3em;box-sizing: border-box;text-align: center;}#sk-container-id-43 label.sk-toggleable__label-arrow:before {content: \"▸\";float: left;margin-right: 0.25em;color: #696969;}#sk-container-id-43 label.sk-toggleable__label-arrow:hover:before {color: black;}#sk-container-id-43 div.sk-estimator:hover label.sk-toggleable__label-arrow:before {color: black;}#sk-container-id-43 div.sk-toggleable__content {max-height: 0;max-width: 0;overflow: hidden;text-align: left;background-color: #f0f8ff;}#sk-container-id-43 div.sk-toggleable__content pre {margin: 0.2em;color: black;border-radius: 0.25em;background-color: #f0f8ff;}#sk-container-id-43 input.sk-toggleable__control:checked~div.sk-toggleable__content {max-height: 200px;max-width: 100%;overflow: auto;}#sk-container-id-43 input.sk-toggleable__control:checked~label.sk-toggleable__label-arrow:before {content: \"▾\";}#sk-container-id-43 div.sk-estimator input.sk-toggleable__control:checked~label.sk-toggleable__label {background-color: #d4ebff;}#sk-container-id-43 div.sk-label input.sk-toggleable__control:checked~label.sk-toggleable__label {background-color: #d4ebff;}#sk-container-id-43 input.sk-hidden--visually {border: 0;clip: rect(1px 1px 1px 1px);clip: rect(1px, 1px, 1px, 1px);height: 1px;margin: -1px;overflow: hidden;padding: 0;position: absolute;width: 1px;}#sk-container-id-43 div.sk-estimator {font-family: monospace;background-color: #f0f8ff;border: 1px dotted black;border-radius: 0.25em;box-sizing: border-box;margin-bottom: 0.5em;}#sk-container-id-43 div.sk-estimator:hover {background-color: #d4ebff;}#sk-container-id-43 div.sk-parallel-item::after {content: \"\";width: 100%;border-bottom: 1px solid gray;flex-grow: 1;}#sk-container-id-43 div.sk-label:hover label.sk-toggleable__label {background-color: #d4ebff;}#sk-container-id-43 div.sk-serial::before {content: \"\";position: absolute;border-left: 1px solid gray;box-sizing: border-box;top: 0;bottom: 0;left: 50%;z-index: 0;}#sk-container-id-43 div.sk-serial {display: flex;flex-direction: column;align-items: center;background-color: white;padding-right: 0.2em;padding-left: 0.2em;position: relative;}#sk-container-id-43 div.sk-item {position: relative;z-index: 1;}#sk-container-id-43 div.sk-parallel {display: flex;align-items: stretch;justify-content: center;background-color: white;position: relative;}#sk-container-id-43 div.sk-item::before, #sk-container-id-43 div.sk-parallel-item::before {content: \"\";position: absolute;border-left: 1px solid gray;box-sizing: border-box;top: 0;bottom: 0;left: 50%;z-index: -1;}#sk-container-id-43 div.sk-parallel-item {display: flex;flex-direction: column;z-index: 1;position: relative;background-color: white;}#sk-container-id-43 div.sk-parallel-item:first-child::after {align-self: flex-end;width: 50%;}#sk-container-id-43 div.sk-parallel-item:last-child::after {align-self: flex-start;width: 50%;}#sk-container-id-43 div.sk-parallel-item:only-child::after {width: 0;}#sk-container-id-43 div.sk-dashed-wrapped {border: 1px dashed gray;margin: 0 0.4em 0.5em 0.4em;box-sizing: border-box;padding-bottom: 0.4em;background-color: white;}#sk-container-id-43 div.sk-label label {font-family: monospace;font-weight: bold;display: inline-block;line-height: 1.2em;}#sk-container-id-43 div.sk-label-container {text-align: center;}#sk-container-id-43 div.sk-container {/* jupyter's `normalize.less` sets `[hidden] { display: none; }` but bootstrap.min.css set `[hidden] { display: none !important; }` so we also need the `!important` here to be able to override the default hidden behavior on the sphinx rendered scikit-learn.org. See: https://github.com/scikit-learn/scikit-learn/issues/21755 */display: inline-block !important;position: relative;}#sk-container-id-43 div.sk-text-repr-fallback {display: none;}</style><div id=\"sk-container-id-43\" class=\"sk-top-container\"><div class=\"sk-text-repr-fallback\"><pre>DecisionTreeRegressor()</pre><b>In a Jupyter environment, please rerun this cell to show the HTML representation or trust the notebook. <br />On GitHub, the HTML representation is unable to render, please try loading this page with nbviewer.org.</b></div><div class=\"sk-container\" hidden><div class=\"sk-item\"><div class=\"sk-estimator sk-toggleable\"><input class=\"sk-toggleable__control sk-hidden--visually\" id=\"sk-estimator-id-43\" type=\"checkbox\" checked><label for=\"sk-estimator-id-43\" class=\"sk-toggleable__label sk-toggleable__label-arrow\">DecisionTreeRegressor</label><div class=\"sk-toggleable__content\"><pre>DecisionTreeRegressor()</pre></div></div></div></div></div>"
      ],
      "text/plain": [
       "DecisionTreeRegressor()"
      ]
     },
     "execution_count": 247,
     "metadata": {},
     "output_type": "execute_result"
    }
   ],
   "source": [
    "dt.fit(X_train, y_train)"
   ]
  },
  {
   "cell_type": "code",
   "execution_count": 248,
   "metadata": {},
   "outputs": [
    {
     "data": {
      "text/plain": [
       "0.1694892363913829"
      ]
     },
     "execution_count": 248,
     "metadata": {},
     "output_type": "execute_result"
    }
   ],
   "source": [
    "dt.score(X_test, y_test)"
   ]
  },
  {
   "cell_type": "code",
   "execution_count": 249,
   "metadata": {},
   "outputs": [
    {
     "data": {
      "text/plain": [
       "array([13,  8, 11, ..., 14, 12, 10], dtype=int64)"
      ]
     },
     "execution_count": 249,
     "metadata": {},
     "output_type": "execute_result"
    }
   ],
   "source": [
    "np.array(y_test)"
   ]
  },
  {
   "cell_type": "code",
   "execution_count": 250,
   "metadata": {},
   "outputs": [
    {
     "data": {
      "text/plain": [
       "array([14.,  9.,  8., ..., 13., 10., 10.])"
      ]
     },
     "execution_count": 250,
     "metadata": {},
     "output_type": "execute_result"
    }
   ],
   "source": [
    "y_pred = dt.predict(X_test)\n",
    "y_pred"
   ]
  },
  {
   "cell_type": "code",
   "execution_count": 251,
   "metadata": {},
   "outputs": [
    {
     "name": "stdout",
     "output_type": "stream",
     "text": [
      "2.031115366203925\n",
      "8.619913834370513\n",
      "0.1694892363913829\n"
     ]
    }
   ],
   "source": [
    "print(mean_absolute_error(y_test, y_pred))  # lower is better\n",
    "print(mean_squared_error(y_test, y_pred))   # lower is better\n",
    "print(r2_score(y_test, y_pred))             # higher is better"
   ]
  },
  {
   "cell_type": "code",
   "execution_count": 252,
   "metadata": {},
   "outputs": [
    {
     "data": {
      "text/plain": [
       "<matplotlib.legend.Legend at 0x1ff0fb29190>"
      ]
     },
     "execution_count": 252,
     "metadata": {},
     "output_type": "execute_result"
    },
    {
     "data": {
      "image/png": "[encoded data removed]",
      "text/plain": [
       "<Figure size 1500x800 with 1 Axes>"
      ]
     },
     "metadata": {},
     "output_type": "display_data"
    }
   ],
   "source": [
    "skip_size = 50\n",
    "\n",
    "plt.figure(figsize=(15, 8))\n",
    "plt.scatter(range(len(y_test[::skip_size])), y_test[::skip_size], label=\"y_true\")\n",
    "plt.scatter(range(len(y_pred[::skip_size])), y_pred[::skip_size], label=\"y_test\")\n",
    "plt.grid(True)\n",
    "plt.legend()"
   ]
  },
  {
   "cell_type": "markdown",
   "metadata": {},
   "source": [
    "# RandomForest"
   ]
  },
  {
   "cell_type": "markdown",
   "metadata": {},
   "source": [
    "## RandomForestClassifier"
   ]
  },
  {
   "cell_type": "code",
   "execution_count": 253,
   "metadata": {},
   "outputs": [],
   "source": [
    "from sklearn.ensemble import RandomForestClassifier"
   ]
  },
  {
   "cell_type": "code",
   "execution_count": 254,
   "metadata": {},
   "outputs": [
    {
     "data": {
      "text/html": [
       "<style>#sk-container-id-44 {color: black;}#sk-container-id-44 pre{padding: 0;}#sk-container-id-44 div.sk-toggleable {background-color: white;}#sk-container-id-44 label.sk-toggleable__label {cursor: pointer;display: block;width: 100%;margin-bottom: 0;padding: 0.3em;box-sizing: border-box;text-align: center;}#sk-container-id-44 label.sk-toggleable__label-arrow:before {content: \"▸\";float: left;margin-right: 0.25em;color: #696969;}#sk-container-id-44 label.sk-toggleable__label-arrow:hover:before {color: black;}#sk-container-id-44 div.sk-estimator:hover label.sk-toggleable__label-arrow:before {color: black;}#sk-container-id-44 div.sk-toggleable__content {max-height: 0;max-width: 0;overflow: hidden;text-align: left;background-color: #f0f8ff;}#sk-container-id-44 div.sk-toggleable__content pre {margin: 0.2em;color: black;border-radius: 0.25em;background-color: #f0f8ff;}#sk-container-id-44 input.sk-toggleable__control:checked~div.sk-toggleable__content {max-height: 200px;max-width: 100%;overflow: auto;}#sk-container-id-44 input.sk-toggleable__control:checked~label.sk-toggleable__label-arrow:before {content: \"▾\";}#sk-container-id-44 div.sk-estimator input.sk-toggleable__control:checked~label.sk-toggleable__label {background-color: #d4ebff;}#sk-container-id-44 div.sk-label input.sk-toggleable__control:checked~label.sk-toggleable__label {background-color: #d4ebff;}#sk-container-id-44 input.sk-hidden--visually {border: 0;clip: rect(1px 1px 1px 1px);clip: rect(1px, 1px, 1px, 1px);height: 1px;margin: -1px;overflow: hidden;padding: 0;position: absolute;width: 1px;}#sk-container-id-44 div.sk-estimator {font-family: monospace;background-color: #f0f8ff;border: 1px dotted black;border-radius: 0.25em;box-sizing: border-box;margin-bottom: 0.5em;}#sk-container-id-44 div.sk-estimator:hover {background-color: #d4ebff;}#sk-container-id-44 div.sk-parallel-item::after {content: \"\";width: 100%;border-bottom: 1px solid gray;flex-grow: 1;}#sk-container-id-44 div.sk-label:hover label.sk-toggleable__label {background-color: #d4ebff;}#sk-container-id-44 div.sk-serial::before {content: \"\";position: absolute;border-left: 1px solid gray;box-sizing: border-box;top: 0;bottom: 0;left: 50%;z-index: 0;}#sk-container-id-44 div.sk-serial {display: flex;flex-direction: column;align-items: center;background-color: white;padding-right: 0.2em;padding-left: 0.2em;position: relative;}#sk-container-id-44 div.sk-item {position: relative;z-index: 1;}#sk-container-id-44 div.sk-parallel {display: flex;align-items: stretch;justify-content: center;background-color: white;position: relative;}#sk-container-id-44 div.sk-item::before, #sk-container-id-44 div.sk-parallel-item::before {content: \"\";position: absolute;border-left: 1px solid gray;box-sizing: border-box;top: 0;bottom: 0;left: 50%;z-index: -1;}#sk-container-id-44 div.sk-parallel-item {display: flex;flex-direction: column;z-index: 1;position: relative;background-color: white;}#sk-container-id-44 div.sk-parallel-item:first-child::after {align-self: flex-end;width: 50%;}#sk-container-id-44 div.sk-parallel-item:last-child::after {align-self: flex-start;width: 50%;}#sk-container-id-44 div.sk-parallel-item:only-child::after {width: 0;}#sk-container-id-44 div.sk-dashed-wrapped {border: 1px dashed gray;margin: 0 0.4em 0.5em 0.4em;box-sizing: border-box;padding-bottom: 0.4em;background-color: white;}#sk-container-id-44 div.sk-label label {font-family: monospace;font-weight: bold;display: inline-block;line-height: 1.2em;}#sk-container-id-44 div.sk-label-container {text-align: center;}#sk-container-id-44 div.sk-container {/* jupyter's `normalize.less` sets `[hidden] { display: none; }` but bootstrap.min.css set `[hidden] { display: none !important; }` so we also need the `!important` here to be able to override the default hidden behavior on the sphinx rendered scikit-learn.org. See: https://github.com/scikit-learn/scikit-learn/issues/21755 */display: inline-block !important;position: relative;}#sk-container-id-44 div.sk-text-repr-fallback {display: none;}</style><div id=\"sk-container-id-44\" class=\"sk-top-container\"><div class=\"sk-text-repr-fallback\"><pre>RandomForestClassifier()</pre><b>In a Jupyter environment, please rerun this cell to show the HTML representation or trust the notebook. <br />On GitHub, the HTML representation is unable to render, please try loading this page with nbviewer.org.</b></div><div class=\"sk-container\" hidden><div class=\"sk-item\"><div class=\"sk-estimator sk-toggleable\"><input class=\"sk-toggleable__control sk-hidden--visually\" id=\"sk-estimator-id-44\" type=\"checkbox\" checked><label for=\"sk-estimator-id-44\" class=\"sk-toggleable__label sk-toggleable__label-arrow\">RandomForestClassifier</label><div class=\"sk-toggleable__content\"><pre>RandomForestClassifier()</pre></div></div></div></div></div>"
      ],
      "text/plain": [
       "RandomForestClassifier()"
      ]
     },
     "execution_count": 254,
     "metadata": {},
     "output_type": "execute_result"
    }
   ],
   "source": [
    "rf = RandomForestClassifier()\n",
    "rf"
   ]
  },
  {
   "cell_type": "code",
   "execution_count": 255,
   "metadata": {},
   "outputs": [
    {
     "data": {
      "text/html": [
       "<style>#sk-container-id-45 {color: black;}#sk-container-id-45 pre{padding: 0;}#sk-container-id-45 div.sk-toggleable {background-color: white;}#sk-container-id-45 label.sk-toggleable__label {cursor: pointer;display: block;width: 100%;margin-bottom: 0;padding: 0.3em;box-sizing: border-box;text-align: center;}#sk-container-id-45 label.sk-toggleable__label-arrow:before {content: \"▸\";float: left;margin-right: 0.25em;color: #696969;}#sk-container-id-45 label.sk-toggleable__label-arrow:hover:before {color: black;}#sk-container-id-45 div.sk-estimator:hover label.sk-toggleable__label-arrow:before {color: black;}#sk-container-id-45 div.sk-toggleable__content {max-height: 0;max-width: 0;overflow: hidden;text-align: left;background-color: #f0f8ff;}#sk-container-id-45 div.sk-toggleable__content pre {margin: 0.2em;color: black;border-radius: 0.25em;background-color: #f0f8ff;}#sk-container-id-45 input.sk-toggleable__control:checked~div.sk-toggleable__content {max-height: 200px;max-width: 100%;overflow: auto;}#sk-container-id-45 input.sk-toggleable__control:checked~label.sk-toggleable__label-arrow:before {content: \"▾\";}#sk-container-id-45 div.sk-estimator input.sk-toggleable__control:checked~label.sk-toggleable__label {background-color: #d4ebff;}#sk-container-id-45 div.sk-label input.sk-toggleable__control:checked~label.sk-toggleable__label {background-color: #d4ebff;}#sk-container-id-45 input.sk-hidden--visually {border: 0;clip: rect(1px 1px 1px 1px);clip: rect(1px, 1px, 1px, 1px);height: 1px;margin: -1px;overflow: hidden;padding: 0;position: absolute;width: 1px;}#sk-container-id-45 div.sk-estimator {font-family: monospace;background-color: #f0f8ff;border: 1px dotted black;border-radius: 0.25em;box-sizing: border-box;margin-bottom: 0.5em;}#sk-container-id-45 div.sk-estimator:hover {background-color: #d4ebff;}#sk-container-id-45 div.sk-parallel-item::after {content: \"\";width: 100%;border-bottom: 1px solid gray;flex-grow: 1;}#sk-container-id-45 div.sk-label:hover label.sk-toggleable__label {background-color: #d4ebff;}#sk-container-id-45 div.sk-serial::before {content: \"\";position: absolute;border-left: 1px solid gray;box-sizing: border-box;top: 0;bottom: 0;left: 50%;z-index: 0;}#sk-container-id-45 div.sk-serial {display: flex;flex-direction: column;align-items: center;background-color: white;padding-right: 0.2em;padding-left: 0.2em;position: relative;}#sk-container-id-45 div.sk-item {position: relative;z-index: 1;}#sk-container-id-45 div.sk-parallel {display: flex;align-items: stretch;justify-content: center;background-color: white;position: relative;}#sk-container-id-45 div.sk-item::before, #sk-container-id-45 div.sk-parallel-item::before {content: \"\";position: absolute;border-left: 1px solid gray;box-sizing: border-box;top: 0;bottom: 0;left: 50%;z-index: -1;}#sk-container-id-45 div.sk-parallel-item {display: flex;flex-direction: column;z-index: 1;position: relative;background-color: white;}#sk-container-id-45 div.sk-parallel-item:first-child::after {align-self: flex-end;width: 50%;}#sk-container-id-45 div.sk-parallel-item:last-child::after {align-self: flex-start;width: 50%;}#sk-container-id-45 div.sk-parallel-item:only-child::after {width: 0;}#sk-container-id-45 div.sk-dashed-wrapped {border: 1px dashed gray;margin: 0 0.4em 0.5em 0.4em;box-sizing: border-box;padding-bottom: 0.4em;background-color: white;}#sk-container-id-45 div.sk-label label {font-family: monospace;font-weight: bold;display: inline-block;line-height: 1.2em;}#sk-container-id-45 div.sk-label-container {text-align: center;}#sk-container-id-45 div.sk-container {/* jupyter's `normalize.less` sets `[hidden] { display: none; }` but bootstrap.min.css set `[hidden] { display: none !important; }` so we also need the `!important` here to be able to override the default hidden behavior on the sphinx rendered scikit-learn.org. See: https://github.com/scikit-learn/scikit-learn/issues/21755 */display: inline-block !important;position: relative;}#sk-container-id-45 div.sk-text-repr-fallback {display: none;}</style><div id=\"sk-container-id-45\" class=\"sk-top-container\"><div class=\"sk-text-repr-fallback\"><pre>RandomForestClassifier()</pre><b>In a Jupyter environment, please rerun this cell to show the HTML representation or trust the notebook. <br />On GitHub, the HTML representation is unable to render, please try loading this page with nbviewer.org.</b></div><div class=\"sk-container\" hidden><div class=\"sk-item\"><div class=\"sk-estimator sk-toggleable\"><input class=\"sk-toggleable__control sk-hidden--visually\" id=\"sk-estimator-id-45\" type=\"checkbox\" checked><label for=\"sk-estimator-id-45\" class=\"sk-toggleable__label sk-toggleable__label-arrow\">RandomForestClassifier</label><div class=\"sk-toggleable__content\"><pre>RandomForestClassifier()</pre></div></div></div></div></div>"
      ],
      "text/plain": [
       "RandomForestClassifier()"
      ]
     },
     "execution_count": 255,
     "metadata": {},
     "output_type": "execute_result"
    }
   ],
   "source": [
    "rf.fit(X_train, y_train)"
   ]
  },
  {
   "cell_type": "code",
   "execution_count": 256,
   "metadata": {},
   "outputs": [
    {
     "data": {
      "text/plain": [
       "0.2398276687410244"
      ]
     },
     "execution_count": 256,
     "metadata": {},
     "output_type": "execute_result"
    }
   ],
   "source": [
    "rf.score(X_test, y_test)"
   ]
  },
  {
   "cell_type": "code",
   "execution_count": 257,
   "metadata": {},
   "outputs": [
    {
     "data": {
      "text/plain": [
       "array([13,  8, 11, ..., 14, 12, 10], dtype=int64)"
      ]
     },
     "execution_count": 257,
     "metadata": {},
     "output_type": "execute_result"
    }
   ],
   "source": [
    "np.array(y_test)"
   ]
  },
  {
   "cell_type": "code",
   "execution_count": 258,
   "metadata": {},
   "outputs": [
    {
     "data": {
      "text/plain": [
       "array([19,  9, 10, ..., 13, 10, 10], dtype=int64)"
      ]
     },
     "execution_count": 258,
     "metadata": {},
     "output_type": "execute_result"
    }
   ],
   "source": [
    "y_pred = rf.predict(X_test)\n",
    "y_pred"
   ]
  },
  {
   "cell_type": "code",
   "execution_count": 259,
   "metadata": {},
   "outputs": [
    {
     "data": {
      "text/plain": [
       "0.2398276687410244"
      ]
     },
     "execution_count": 259,
     "metadata": {},
     "output_type": "execute_result"
    }
   ],
   "source": [
    "accuracy_score(y_test, y_pred)"
   ]
  },
  {
   "cell_type": "code",
   "execution_count": 260,
   "metadata": {},
   "outputs": [
    {
     "data": {
      "text/plain": [
       "<matplotlib.legend.Legend at 0x1ff10329a10>"
      ]
     },
     "execution_count": 260,
     "metadata": {},
     "output_type": "execute_result"
    },
    {
     "data": {
      "image/png": "[encoded data removed]",
      "text/plain": [
       "<Figure size 1500x800 with 1 Axes>"
      ]
     },
     "metadata": {},
     "output_type": "display_data"
    }
   ],
   "source": [
    "skip_size = 50\n",
    "\n",
    "plt.figure(figsize=(15, 8))\n",
    "plt.scatter(range(len(y_test[::skip_size])), y_test[::skip_size], label=\"y_true\")\n",
    "plt.scatter(range(len(y_pred[::skip_size])), y_pred[::skip_size], label=\"y_test\")\n",
    "plt.grid(True)\n",
    "plt.legend()"
   ]
  },
  {
   "cell_type": "markdown",
   "metadata": {},
   "source": [
    "## RandomForestRegressor"
   ]
  },
  {
   "cell_type": "code",
   "execution_count": 261,
   "metadata": {},
   "outputs": [],
   "source": [
    "from sklearn.ensemble import RandomForestRegressor"
   ]
  },
  {
   "cell_type": "code",
   "execution_count": 262,
   "metadata": {},
   "outputs": [
    {
     "data": {
      "text/html": [
       "<style>#sk-container-id-46 {color: black;}#sk-container-id-46 pre{padding: 0;}#sk-container-id-46 div.sk-toggleable {background-color: white;}#sk-container-id-46 label.sk-toggleable__label {cursor: pointer;display: block;width: 100%;margin-bottom: 0;padding: 0.3em;box-sizing: border-box;text-align: center;}#sk-container-id-46 label.sk-toggleable__label-arrow:before {content: \"▸\";float: left;margin-right: 0.25em;color: #696969;}#sk-container-id-46 label.sk-toggleable__label-arrow:hover:before {color: black;}#sk-container-id-46 div.sk-estimator:hover label.sk-toggleable__label-arrow:before {color: black;}#sk-container-id-46 div.sk-toggleable__content {max-height: 0;max-width: 0;overflow: hidden;text-align: left;background-color: #f0f8ff;}#sk-container-id-46 div.sk-toggleable__content pre {margin: 0.2em;color: black;border-radius: 0.25em;background-color: #f0f8ff;}#sk-container-id-46 input.sk-toggleable__control:checked~div.sk-toggleable__content {max-height: 200px;max-width: 100%;overflow: auto;}#sk-container-id-46 input.sk-toggleable__control:checked~label.sk-toggleable__label-arrow:before {content: \"▾\";}#sk-container-id-46 div.sk-estimator input.sk-toggleable__control:checked~label.sk-toggleable__label {background-color: #d4ebff;}#sk-container-id-46 div.sk-label input.sk-toggleable__control:checked~label.sk-toggleable__label {background-color: #d4ebff;}#sk-container-id-46 input.sk-hidden--visually {border: 0;clip: rect(1px 1px 1px 1px);clip: rect(1px, 1px, 1px, 1px);height: 1px;margin: -1px;overflow: hidden;padding: 0;position: absolute;width: 1px;}#sk-container-id-46 div.sk-estimator {font-family: monospace;background-color: #f0f8ff;border: 1px dotted black;border-radius: 0.25em;box-sizing: border-box;margin-bottom: 0.5em;}#sk-container-id-46 div.sk-estimator:hover {background-color: #d4ebff;}#sk-container-id-46 div.sk-parallel-item::after {content: \"\";width: 100%;border-bottom: 1px solid gray;flex-grow: 1;}#sk-container-id-46 div.sk-label:hover label.sk-toggleable__label {background-color: #d4ebff;}#sk-container-id-46 div.sk-serial::before {content: \"\";position: absolute;border-left: 1px solid gray;box-sizing: border-box;top: 0;bottom: 0;left: 50%;z-index: 0;}#sk-container-id-46 div.sk-serial {display: flex;flex-direction: column;align-items: center;background-color: white;padding-right: 0.2em;padding-left: 0.2em;position: relative;}#sk-container-id-46 div.sk-item {position: relative;z-index: 1;}#sk-container-id-46 div.sk-parallel {display: flex;align-items: stretch;justify-content: center;background-color: white;position: relative;}#sk-container-id-46 div.sk-item::before, #sk-container-id-46 div.sk-parallel-item::before {content: \"\";position: absolute;border-left: 1px solid gray;box-sizing: border-box;top: 0;bottom: 0;left: 50%;z-index: -1;}#sk-container-id-46 div.sk-parallel-item {display: flex;flex-direction: column;z-index: 1;position: relative;background-color: white;}#sk-container-id-46 div.sk-parallel-item:first-child::after {align-self: flex-end;width: 50%;}#sk-container-id-46 div.sk-parallel-item:last-child::after {align-self: flex-start;width: 50%;}#sk-container-id-46 div.sk-parallel-item:only-child::after {width: 0;}#sk-container-id-46 div.sk-dashed-wrapped {border: 1px dashed gray;margin: 0 0.4em 0.5em 0.4em;box-sizing: border-box;padding-bottom: 0.4em;background-color: white;}#sk-container-id-46 div.sk-label label {font-family: monospace;font-weight: bold;display: inline-block;line-height: 1.2em;}#sk-container-id-46 div.sk-label-container {text-align: center;}#sk-container-id-46 div.sk-container {/* jupyter's `normalize.less` sets `[hidden] { display: none; }` but bootstrap.min.css set `[hidden] { display: none !important; }` so we also need the `!important` here to be able to override the default hidden behavior on the sphinx rendered scikit-learn.org. See: https://github.com/scikit-learn/scikit-learn/issues/21755 */display: inline-block !important;position: relative;}#sk-container-id-46 div.sk-text-repr-fallback {display: none;}</style><div id=\"sk-container-id-46\" class=\"sk-top-container\"><div class=\"sk-text-repr-fallback\"><pre>RandomForestRegressor()</pre><b>In a Jupyter environment, please rerun this cell to show the HTML representation or trust the notebook. <br />On GitHub, the HTML representation is unable to render, please try loading this page with nbviewer.org.</b></div><div class=\"sk-container\" hidden><div class=\"sk-item\"><div class=\"sk-estimator sk-toggleable\"><input class=\"sk-toggleable__control sk-hidden--visually\" id=\"sk-estimator-id-46\" type=\"checkbox\" checked><label for=\"sk-estimator-id-46\" class=\"sk-toggleable__label sk-toggleable__label-arrow\">RandomForestRegressor</label><div class=\"sk-toggleable__content\"><pre>RandomForestRegressor()</pre></div></div></div></div></div>"
      ],
      "text/plain": [
       "RandomForestRegressor()"
      ]
     },
     "execution_count": 262,
     "metadata": {},
     "output_type": "execute_result"
    }
   ],
   "source": [
    "rf = RandomForestRegressor()\n",
    "rf"
   ]
  },
  {
   "cell_type": "code",
   "execution_count": 263,
   "metadata": {},
   "outputs": [
    {
     "data": {
      "text/html": [
       "<style>#sk-container-id-47 {color: black;}#sk-container-id-47 pre{padding: 0;}#sk-container-id-47 div.sk-toggleable {background-color: white;}#sk-container-id-47 label.sk-toggleable__label {cursor: pointer;display: block;width: 100%;margin-bottom: 0;padding: 0.3em;box-sizing: border-box;text-align: center;}#sk-container-id-47 label.sk-toggleable__label-arrow:before {content: \"▸\";float: left;margin-right: 0.25em;color: #696969;}#sk-container-id-47 label.sk-toggleable__label-arrow:hover:before {color: black;}#sk-container-id-47 div.sk-estimator:hover label.sk-toggleable__label-arrow:before {color: black;}#sk-container-id-47 div.sk-toggleable__content {max-height: 0;max-width: 0;overflow: hidden;text-align: left;background-color: #f0f8ff;}#sk-container-id-47 div.sk-toggleable__content pre {margin: 0.2em;color: black;border-radius: 0.25em;background-color: #f0f8ff;}#sk-container-id-47 input.sk-toggleable__control:checked~div.sk-toggleable__content {max-height: 200px;max-width: 100%;overflow: auto;}#sk-container-id-47 input.sk-toggleable__control:checked~label.sk-toggleable__label-arrow:before {content: \"▾\";}#sk-container-id-47 div.sk-estimator input.sk-toggleable__control:checked~label.sk-toggleable__label {background-color: #d4ebff;}#sk-container-id-47 div.sk-label input.sk-toggleable__control:checked~label.sk-toggleable__label {background-color: #d4ebff;}#sk-container-id-47 input.sk-hidden--visually {border: 0;clip: rect(1px 1px 1px 1px);clip: rect(1px, 1px, 1px, 1px);height: 1px;margin: -1px;overflow: hidden;padding: 0;position: absolute;width: 1px;}#sk-container-id-47 div.sk-estimator {font-family: monospace;background-color: #f0f8ff;border: 1px dotted black;border-radius: 0.25em;box-sizing: border-box;margin-bottom: 0.5em;}#sk-container-id-47 div.sk-estimator:hover {background-color: #d4ebff;}#sk-container-id-47 div.sk-parallel-item::after {content: \"\";width: 100%;border-bottom: 1px solid gray;flex-grow: 1;}#sk-container-id-47 div.sk-label:hover label.sk-toggleable__label {background-color: #d4ebff;}#sk-container-id-47 div.sk-serial::before {content: \"\";position: absolute;border-left: 1px solid gray;box-sizing: border-box;top: 0;bottom: 0;left: 50%;z-index: 0;}#sk-container-id-47 div.sk-serial {display: flex;flex-direction: column;align-items: center;background-color: white;padding-right: 0.2em;padding-left: 0.2em;position: relative;}#sk-container-id-47 div.sk-item {position: relative;z-index: 1;}#sk-container-id-47 div.sk-parallel {display: flex;align-items: stretch;justify-content: center;background-color: white;position: relative;}#sk-container-id-47 div.sk-item::before, #sk-container-id-47 div.sk-parallel-item::before {content: \"\";position: absolute;border-left: 1px solid gray;box-sizing: border-box;top: 0;bottom: 0;left: 50%;z-index: -1;}#sk-container-id-47 div.sk-parallel-item {display: flex;flex-direction: column;z-index: 1;position: relative;background-color: white;}#sk-container-id-47 div.sk-parallel-item:first-child::after {align-self: flex-end;width: 50%;}#sk-container-id-47 div.sk-parallel-item:last-child::after {align-self: flex-start;width: 50%;}#sk-container-id-47 div.sk-parallel-item:only-child::after {width: 0;}#sk-container-id-47 div.sk-dashed-wrapped {border: 1px dashed gray;margin: 0 0.4em 0.5em 0.4em;box-sizing: border-box;padding-bottom: 0.4em;background-color: white;}#sk-container-id-47 div.sk-label label {font-family: monospace;font-weight: bold;display: inline-block;line-height: 1.2em;}#sk-container-id-47 div.sk-label-container {text-align: center;}#sk-container-id-47 div.sk-container {/* jupyter's `normalize.less` sets `[hidden] { display: none; }` but bootstrap.min.css set `[hidden] { display: none !important; }` so we also need the `!important` here to be able to override the default hidden behavior on the sphinx rendered scikit-learn.org. See: https://github.com/scikit-learn/scikit-learn/issues/21755 */display: inline-block !important;position: relative;}#sk-container-id-47 div.sk-text-repr-fallback {display: none;}</style><div id=\"sk-container-id-47\" class=\"sk-top-container\"><div class=\"sk-text-repr-fallback\"><pre>RandomForestRegressor()</pre><b>In a Jupyter environment, please rerun this cell to show the HTML representation or trust the notebook. <br />On GitHub, the HTML representation is unable to render, please try loading this page with nbviewer.org.</b></div><div class=\"sk-container\" hidden><div class=\"sk-item\"><div class=\"sk-estimator sk-toggleable\"><input class=\"sk-toggleable__control sk-hidden--visually\" id=\"sk-estimator-id-47\" type=\"checkbox\" checked><label for=\"sk-estimator-id-47\" class=\"sk-toggleable__label sk-toggleable__label-arrow\">RandomForestRegressor</label><div class=\"sk-toggleable__content\"><pre>RandomForestRegressor()</pre></div></div></div></div></div>"
      ],
      "text/plain": [
       "RandomForestRegressor()"
      ]
     },
     "execution_count": 263,
     "metadata": {},
     "output_type": "execute_result"
    }
   ],
   "source": [
    "rf.fit(X_train, y_train)"
   ]
  },
  {
   "cell_type": "code",
   "execution_count": 264,
   "metadata": {},
   "outputs": [
    {
     "data": {
      "text/plain": [
       "0.5350450774992185"
      ]
     },
     "execution_count": 264,
     "metadata": {},
     "output_type": "execute_result"
    }
   ],
   "source": [
    "rf.score(X_test, y_test)"
   ]
  },
  {
   "cell_type": "code",
   "execution_count": 265,
   "metadata": {},
   "outputs": [
    {
     "data": {
      "text/plain": [
       "array([13,  8, 11, ..., 14, 12, 10], dtype=int64)"
      ]
     },
     "execution_count": 265,
     "metadata": {},
     "output_type": "execute_result"
    }
   ],
   "source": [
    "np.array(y_test)"
   ]
  },
  {
   "cell_type": "code",
   "execution_count": 266,
   "metadata": {},
   "outputs": [
    {
     "data": {
      "text/plain": [
       "array([14.62,  9.98, 10.48, ..., 13.7 , 11.31, 10.21])"
      ]
     },
     "execution_count": 266,
     "metadata": {},
     "output_type": "execute_result"
    }
   ],
   "source": [
    "y_pred = rf.predict(X_test)\n",
    "y_pred"
   ]
  },
  {
   "cell_type": "code",
   "execution_count": 267,
   "metadata": {},
   "outputs": [
    {
     "name": "stdout",
     "output_type": "stream",
     "text": [
      "1.5554332216371471\n",
      "4.825791000478698\n",
      "0.5350450774992185\n"
     ]
    }
   ],
   "source": [
    "print(mean_absolute_error(y_test, y_pred))  # lower is better\n",
    "print(mean_squared_error(y_test, y_pred))   # lower is better\n",
    "print(r2_score(y_test, y_pred))             # higher is better"
   ]
  },
  {
   "cell_type": "code",
   "execution_count": 268,
   "metadata": {},
   "outputs": [
    {
     "data": {
      "text/plain": [
       "<matplotlib.legend.Legend at 0x1ff102423d0>"
      ]
     },
     "execution_count": 268,
     "metadata": {},
     "output_type": "execute_result"
    },
    {
     "data": {
      "image/png": "[encoded data removed]",
      "text/plain": [
       "<Figure size 1500x800 with 1 Axes>"
      ]
     },
     "metadata": {},
     "output_type": "display_data"
    }
   ],
   "source": [
    "skip_size = 50\n",
    "\n",
    "plt.figure(figsize=(15, 8))\n",
    "plt.scatter(range(len(y_test[::skip_size])), y_test[::skip_size], label=\"y_true\")\n",
    "plt.scatter(range(len(y_pred[::skip_size])), y_pred[::skip_size], label=\"y_test\")\n",
    "plt.grid(True)\n",
    "plt.legend()"
   ]
  },
  {
   "cell_type": "markdown",
   "metadata": {},
   "source": [
    "# svm"
   ]
  },
  {
   "cell_type": "markdown",
   "metadata": {},
   "source": [
    "## SVC"
   ]
  },
  {
   "cell_type": "code",
   "execution_count": 269,
   "metadata": {},
   "outputs": [],
   "source": [
    "from sklearn.svm import SVC"
   ]
  },
  {
   "cell_type": "code",
   "execution_count": 270,
   "metadata": {},
   "outputs": [
    {
     "data": {
      "text/html": [
       "<style>#sk-container-id-48 {color: black;}#sk-container-id-48 pre{padding: 0;}#sk-container-id-48 div.sk-toggleable {background-color: white;}#sk-container-id-48 label.sk-toggleable__label {cursor: pointer;display: block;width: 100%;margin-bottom: 0;padding: 0.3em;box-sizing: border-box;text-align: center;}#sk-container-id-48 label.sk-toggleable__label-arrow:before {content: \"▸\";float: left;margin-right: 0.25em;color: #696969;}#sk-container-id-48 label.sk-toggleable__label-arrow:hover:before {color: black;}#sk-container-id-48 div.sk-estimator:hover label.sk-toggleable__label-arrow:before {color: black;}#sk-container-id-48 div.sk-toggleable__content {max-height: 0;max-width: 0;overflow: hidden;text-align: left;background-color: #f0f8ff;}#sk-container-id-48 div.sk-toggleable__content pre {margin: 0.2em;color: black;border-radius: 0.25em;background-color: #f0f8ff;}#sk-container-id-48 input.sk-toggleable__control:checked~div.sk-toggleable__content {max-height: 200px;max-width: 100%;overflow: auto;}#sk-container-id-48 input.sk-toggleable__control:checked~label.sk-toggleable__label-arrow:before {content: \"▾\";}#sk-container-id-48 div.sk-estimator input.sk-toggleable__control:checked~label.sk-toggleable__label {background-color: #d4ebff;}#sk-container-id-48 div.sk-label input.sk-toggleable__control:checked~label.sk-toggleable__label {background-color: #d4ebff;}#sk-container-id-48 input.sk-hidden--visually {border: 0;clip: rect(1px 1px 1px 1px);clip: rect(1px, 1px, 1px, 1px);height: 1px;margin: -1px;overflow: hidden;padding: 0;position: absolute;width: 1px;}#sk-container-id-48 div.sk-estimator {font-family: monospace;background-color: #f0f8ff;border: 1px dotted black;border-radius: 0.25em;box-sizing: border-box;margin-bottom: 0.5em;}#sk-container-id-48 div.sk-estimator:hover {background-color: #d4ebff;}#sk-container-id-48 div.sk-parallel-item::after {content: \"\";width: 100%;border-bottom: 1px solid gray;flex-grow: 1;}#sk-container-id-48 div.sk-label:hover label.sk-toggleable__label {background-color: #d4ebff;}#sk-container-id-48 div.sk-serial::before {content: \"\";position: absolute;border-left: 1px solid gray;box-sizing: border-box;top: 0;bottom: 0;left: 50%;z-index: 0;}#sk-container-id-48 div.sk-serial {display: flex;flex-direction: column;align-items: center;background-color: white;padding-right: 0.2em;padding-left: 0.2em;position: relative;}#sk-container-id-48 div.sk-item {position: relative;z-index: 1;}#sk-container-id-48 div.sk-parallel {display: flex;align-items: stretch;justify-content: center;background-color: white;position: relative;}#sk-container-id-48 div.sk-item::before, #sk-container-id-48 div.sk-parallel-item::before {content: \"\";position: absolute;border-left: 1px solid gray;box-sizing: border-box;top: 0;bottom: 0;left: 50%;z-index: -1;}#sk-container-id-48 div.sk-parallel-item {display: flex;flex-direction: column;z-index: 1;position: relative;background-color: white;}#sk-container-id-48 div.sk-parallel-item:first-child::after {align-self: flex-end;width: 50%;}#sk-container-id-48 div.sk-parallel-item:last-child::after {align-self: flex-start;width: 50%;}#sk-container-id-48 div.sk-parallel-item:only-child::after {width: 0;}#sk-container-id-48 div.sk-dashed-wrapped {border: 1px dashed gray;margin: 0 0.4em 0.5em 0.4em;box-sizing: border-box;padding-bottom: 0.4em;background-color: white;}#sk-container-id-48 div.sk-label label {font-family: monospace;font-weight: bold;display: inline-block;line-height: 1.2em;}#sk-container-id-48 div.sk-label-container {text-align: center;}#sk-container-id-48 div.sk-container {/* jupyter's `normalize.less` sets `[hidden] { display: none; }` but bootstrap.min.css set `[hidden] { display: none !important; }` so we also need the `!important` here to be able to override the default hidden behavior on the sphinx rendered scikit-learn.org. See: https://github.com/scikit-learn/scikit-learn/issues/21755 */display: inline-block !important;position: relative;}#sk-container-id-48 div.sk-text-repr-fallback {display: none;}</style><div id=\"sk-container-id-48\" class=\"sk-top-container\"><div class=\"sk-text-repr-fallback\"><pre>SVC()</pre><b>In a Jupyter environment, please rerun this cell to show the HTML representation or trust the notebook. <br />On GitHub, the HTML representation is unable to render, please try loading this page with nbviewer.org.</b></div><div class=\"sk-container\" hidden><div class=\"sk-item\"><div class=\"sk-estimator sk-toggleable\"><input class=\"sk-toggleable__control sk-hidden--visually\" id=\"sk-estimator-id-48\" type=\"checkbox\" checked><label for=\"sk-estimator-id-48\" class=\"sk-toggleable__label sk-toggleable__label-arrow\">SVC</label><div class=\"sk-toggleable__content\"><pre>SVC()</pre></div></div></div></div></div>"
      ],
      "text/plain": [
       "SVC()"
      ]
     },
     "execution_count": 270,
     "metadata": {},
     "output_type": "execute_result"
    }
   ],
   "source": [
    "sv = SVC()\n",
    "sv"
   ]
  },
  {
   "cell_type": "code",
   "execution_count": 271,
   "metadata": {},
   "outputs": [
    {
     "data": {
      "text/html": [
       "<style>#sk-container-id-49 {color: black;}#sk-container-id-49 pre{padding: 0;}#sk-container-id-49 div.sk-toggleable {background-color: white;}#sk-container-id-49 label.sk-toggleable__label {cursor: pointer;display: block;width: 100%;margin-bottom: 0;padding: 0.3em;box-sizing: border-box;text-align: center;}#sk-container-id-49 label.sk-toggleable__label-arrow:before {content: \"▸\";float: left;margin-right: 0.25em;color: #696969;}#sk-container-id-49 label.sk-toggleable__label-arrow:hover:before {color: black;}#sk-container-id-49 div.sk-estimator:hover label.sk-toggleable__label-arrow:before {color: black;}#sk-container-id-49 div.sk-toggleable__content {max-height: 0;max-width: 0;overflow: hidden;text-align: left;background-color: #f0f8ff;}#sk-container-id-49 div.sk-toggleable__content pre {margin: 0.2em;color: black;border-radius: 0.25em;background-color: #f0f8ff;}#sk-container-id-49 input.sk-toggleable__control:checked~div.sk-toggleable__content {max-height: 200px;max-width: 100%;overflow: auto;}#sk-container-id-49 input.sk-toggleable__control:checked~label.sk-toggleable__label-arrow:before {content: \"▾\";}#sk-container-id-49 div.sk-estimator input.sk-toggleable__control:checked~label.sk-toggleable__label {background-color: #d4ebff;}#sk-container-id-49 div.sk-label input.sk-toggleable__control:checked~label.sk-toggleable__label {background-color: #d4ebff;}#sk-container-id-49 input.sk-hidden--visually {border: 0;clip: rect(1px 1px 1px 1px);clip: rect(1px, 1px, 1px, 1px);height: 1px;margin: -1px;overflow: hidden;padding: 0;position: absolute;width: 1px;}#sk-container-id-49 div.sk-estimator {font-family: monospace;background-color: #f0f8ff;border: 1px dotted black;border-radius: 0.25em;box-sizing: border-box;margin-bottom: 0.5em;}#sk-container-id-49 div.sk-estimator:hover {background-color: #d4ebff;}#sk-container-id-49 div.sk-parallel-item::after {content: \"\";width: 100%;border-bottom: 1px solid gray;flex-grow: 1;}#sk-container-id-49 div.sk-label:hover label.sk-toggleable__label {background-color: #d4ebff;}#sk-container-id-49 div.sk-serial::before {content: \"\";position: absolute;border-left: 1px solid gray;box-sizing: border-box;top: 0;bottom: 0;left: 50%;z-index: 0;}#sk-container-id-49 div.sk-serial {display: flex;flex-direction: column;align-items: center;background-color: white;padding-right: 0.2em;padding-left: 0.2em;position: relative;}#sk-container-id-49 div.sk-item {position: relative;z-index: 1;}#sk-container-id-49 div.sk-parallel {display: flex;align-items: stretch;justify-content: center;background-color: white;position: relative;}#sk-container-id-49 div.sk-item::before, #sk-container-id-49 div.sk-parallel-item::before {content: \"\";position: absolute;border-left: 1px solid gray;box-sizing: border-box;top: 0;bottom: 0;left: 50%;z-index: -1;}#sk-container-id-49 div.sk-parallel-item {display: flex;flex-direction: column;z-index: 1;position: relative;background-color: white;}#sk-container-id-49 div.sk-parallel-item:first-child::after {align-self: flex-end;width: 50%;}#sk-container-id-49 div.sk-parallel-item:last-child::after {align-self: flex-start;width: 50%;}#sk-container-id-49 div.sk-parallel-item:only-child::after {width: 0;}#sk-container-id-49 div.sk-dashed-wrapped {border: 1px dashed gray;margin: 0 0.4em 0.5em 0.4em;box-sizing: border-box;padding-bottom: 0.4em;background-color: white;}#sk-container-id-49 div.sk-label label {font-family: monospace;font-weight: bold;display: inline-block;line-height: 1.2em;}#sk-container-id-49 div.sk-label-container {text-align: center;}#sk-container-id-49 div.sk-container {/* jupyter's `normalize.less` sets `[hidden] { display: none; }` but bootstrap.min.css set `[hidden] { display: none !important; }` so we also need the `!important` here to be able to override the default hidden behavior on the sphinx rendered scikit-learn.org. See: https://github.com/scikit-learn/scikit-learn/issues/21755 */display: inline-block !important;position: relative;}#sk-container-id-49 div.sk-text-repr-fallback {display: none;}</style><div id=\"sk-container-id-49\" class=\"sk-top-container\"><div class=\"sk-text-repr-fallback\"><pre>SVC()</pre><b>In a Jupyter environment, please rerun this cell to show the HTML representation or trust the notebook. <br />On GitHub, the HTML representation is unable to render, please try loading this page with nbviewer.org.</b></div><div class=\"sk-container\" hidden><div class=\"sk-item\"><div class=\"sk-estimator sk-toggleable\"><input class=\"sk-toggleable__control sk-hidden--visually\" id=\"sk-estimator-id-49\" type=\"checkbox\" checked><label for=\"sk-estimator-id-49\" class=\"sk-toggleable__label sk-toggleable__label-arrow\">SVC</label><div class=\"sk-toggleable__content\"><pre>SVC()</pre></div></div></div></div></div>"
      ],
      "text/plain": [
       "SVC()"
      ]
     },
     "execution_count": 271,
     "metadata": {},
     "output_type": "execute_result"
    }
   ],
   "source": [
    "sv.fit(X_train, y_train)"
   ]
  },
  {
   "cell_type": "code",
   "execution_count": 272,
   "metadata": {},
   "outputs": [
    {
     "data": {
      "text/plain": [
       "0.2407850646242221"
      ]
     },
     "execution_count": 272,
     "metadata": {},
     "output_type": "execute_result"
    }
   ],
   "source": [
    "sv.score(X_test, y_test)"
   ]
  },
  {
   "cell_type": "code",
   "execution_count": 273,
   "metadata": {},
   "outputs": [
    {
     "data": {
      "text/plain": [
       "array([13,  8, 11, ..., 14, 12, 10], dtype=int64)"
      ]
     },
     "execution_count": 273,
     "metadata": {},
     "output_type": "execute_result"
    }
   ],
   "source": [
    "np.array(y_test)"
   ]
  },
  {
   "cell_type": "code",
   "execution_count": 274,
   "metadata": {},
   "outputs": [
    {
     "data": {
      "text/plain": [
       "array([ 9,  8, 10, ...,  9, 10, 10], dtype=int64)"
      ]
     },
     "execution_count": 274,
     "metadata": {},
     "output_type": "execute_result"
    }
   ],
   "source": [
    "y_pred = sv.predict(X_test)\n",
    "y_pred"
   ]
  },
  {
   "cell_type": "code",
   "execution_count": 275,
   "metadata": {},
   "outputs": [
    {
     "data": {
      "text/plain": [
       "0.2407850646242221"
      ]
     },
     "execution_count": 275,
     "metadata": {},
     "output_type": "execute_result"
    }
   ],
   "source": [
    "accuracy_score(y_test, y_pred)"
   ]
  },
  {
   "cell_type": "code",
   "execution_count": 276,
   "metadata": {},
   "outputs": [
    {
     "data": {
      "text/plain": [
       "<matplotlib.legend.Legend at 0x1ff10ab1190>"
      ]
     },
     "execution_count": 276,
     "metadata": {},
     "output_type": "execute_result"
    },
    {
     "data": {
      "image/png": "[encoded data removed]",
      "text/plain": [
       "<Figure size 1500x800 with 1 Axes>"
      ]
     },
     "metadata": {},
     "output_type": "display_data"
    }
   ],
   "source": [
    "skip_size = 50\n",
    "\n",
    "plt.figure(figsize=(15, 8))\n",
    "plt.scatter(range(len(y_test[::skip_size])), y_test[::skip_size], label=\"y_true\")\n",
    "plt.scatter(range(len(y_pred[::skip_size])), y_pred[::skip_size], label=\"y_test\")\n",
    "plt.grid(True)\n",
    "plt.legend()"
   ]
  },
  {
   "cell_type": "markdown",
   "metadata": {},
   "source": [
    "## SVR"
   ]
  },
  {
   "cell_type": "code",
   "execution_count": 277,
   "metadata": {},
   "outputs": [],
   "source": [
    "from sklearn.svm import SVR"
   ]
  },
  {
   "cell_type": "code",
   "execution_count": 278,
   "metadata": {},
   "outputs": [
    {
     "data": {
      "text/html": [
       "<style>#sk-container-id-50 {color: black;}#sk-container-id-50 pre{padding: 0;}#sk-container-id-50 div.sk-toggleable {background-color: white;}#sk-container-id-50 label.sk-toggleable__label {cursor: pointer;display: block;width: 100%;margin-bottom: 0;padding: 0.3em;box-sizing: border-box;text-align: center;}#sk-container-id-50 label.sk-toggleable__label-arrow:before {content: \"▸\";float: left;margin-right: 0.25em;color: #696969;}#sk-container-id-50 label.sk-toggleable__label-arrow:hover:before {color: black;}#sk-container-id-50 div.sk-estimator:hover label.sk-toggleable__label-arrow:before {color: black;}#sk-container-id-50 div.sk-toggleable__content {max-height: 0;max-width: 0;overflow: hidden;text-align: left;background-color: #f0f8ff;}#sk-container-id-50 div.sk-toggleable__content pre {margin: 0.2em;color: black;border-radius: 0.25em;background-color: #f0f8ff;}#sk-container-id-50 input.sk-toggleable__control:checked~div.sk-toggleable__content {max-height: 200px;max-width: 100%;overflow: auto;}#sk-container-id-50 input.sk-toggleable__control:checked~label.sk-toggleable__label-arrow:before {content: \"▾\";}#sk-container-id-50 div.sk-estimator input.sk-toggleable__control:checked~label.sk-toggleable__label {background-color: #d4ebff;}#sk-container-id-50 div.sk-label input.sk-toggleable__control:checked~label.sk-toggleable__label {background-color: #d4ebff;}#sk-container-id-50 input.sk-hidden--visually {border: 0;clip: rect(1px 1px 1px 1px);clip: rect(1px, 1px, 1px, 1px);height: 1px;margin: -1px;overflow: hidden;padding: 0;position: absolute;width: 1px;}#sk-container-id-50 div.sk-estimator {font-family: monospace;background-color: #f0f8ff;border: 1px dotted black;border-radius: 0.25em;box-sizing: border-box;margin-bottom: 0.5em;}#sk-container-id-50 div.sk-estimator:hover {background-color: #d4ebff;}#sk-container-id-50 div.sk-parallel-item::after {content: \"\";width: 100%;border-bottom: 1px solid gray;flex-grow: 1;}#sk-container-id-50 div.sk-label:hover label.sk-toggleable__label {background-color: #d4ebff;}#sk-container-id-50 div.sk-serial::before {content: \"\";position: absolute;border-left: 1px solid gray;box-sizing: border-box;top: 0;bottom: 0;left: 50%;z-index: 0;}#sk-container-id-50 div.sk-serial {display: flex;flex-direction: column;align-items: center;background-color: white;padding-right: 0.2em;padding-left: 0.2em;position: relative;}#sk-container-id-50 div.sk-item {position: relative;z-index: 1;}#sk-container-id-50 div.sk-parallel {display: flex;align-items: stretch;justify-content: center;background-color: white;position: relative;}#sk-container-id-50 div.sk-item::before, #sk-container-id-50 div.sk-parallel-item::before {content: \"\";position: absolute;border-left: 1px solid gray;box-sizing: border-box;top: 0;bottom: 0;left: 50%;z-index: -1;}#sk-container-id-50 div.sk-parallel-item {display: flex;flex-direction: column;z-index: 1;position: relative;background-color: white;}#sk-container-id-50 div.sk-parallel-item:first-child::after {align-self: flex-end;width: 50%;}#sk-container-id-50 div.sk-parallel-item:last-child::after {align-self: flex-start;width: 50%;}#sk-container-id-50 div.sk-parallel-item:only-child::after {width: 0;}#sk-container-id-50 div.sk-dashed-wrapped {border: 1px dashed gray;margin: 0 0.4em 0.5em 0.4em;box-sizing: border-box;padding-bottom: 0.4em;background-color: white;}#sk-container-id-50 div.sk-label label {font-family: monospace;font-weight: bold;display: inline-block;line-height: 1.2em;}#sk-container-id-50 div.sk-label-container {text-align: center;}#sk-container-id-50 div.sk-container {/* jupyter's `normalize.less` sets `[hidden] { display: none; }` but bootstrap.min.css set `[hidden] { display: none !important; }` so we also need the `!important` here to be able to override the default hidden behavior on the sphinx rendered scikit-learn.org. See: https://github.com/scikit-learn/scikit-learn/issues/21755 */display: inline-block !important;position: relative;}#sk-container-id-50 div.sk-text-repr-fallback {display: none;}</style><div id=\"sk-container-id-50\" class=\"sk-top-container\"><div class=\"sk-text-repr-fallback\"><pre>SVR()</pre><b>In a Jupyter environment, please rerun this cell to show the HTML representation or trust the notebook. <br />On GitHub, the HTML representation is unable to render, please try loading this page with nbviewer.org.</b></div><div class=\"sk-container\" hidden><div class=\"sk-item\"><div class=\"sk-estimator sk-toggleable\"><input class=\"sk-toggleable__control sk-hidden--visually\" id=\"sk-estimator-id-50\" type=\"checkbox\" checked><label for=\"sk-estimator-id-50\" class=\"sk-toggleable__label sk-toggleable__label-arrow\">SVR</label><div class=\"sk-toggleable__content\"><pre>SVR()</pre></div></div></div></div></div>"
      ],
      "text/plain": [
       "SVR()"
      ]
     },
     "execution_count": 278,
     "metadata": {},
     "output_type": "execute_result"
    }
   ],
   "source": [
    "sv = SVR()\n",
    "sv"
   ]
  },
  {
   "cell_type": "code",
   "execution_count": 279,
   "metadata": {},
   "outputs": [
    {
     "data": {
      "text/html": [
       "<style>#sk-container-id-51 {color: black;}#sk-container-id-51 pre{padding: 0;}#sk-container-id-51 div.sk-toggleable {background-color: white;}#sk-container-id-51 label.sk-toggleable__label {cursor: pointer;display: block;width: 100%;margin-bottom: 0;padding: 0.3em;box-sizing: border-box;text-align: center;}#sk-container-id-51 label.sk-toggleable__label-arrow:before {content: \"▸\";float: left;margin-right: 0.25em;color: #696969;}#sk-container-id-51 label.sk-toggleable__label-arrow:hover:before {color: black;}#sk-container-id-51 div.sk-estimator:hover label.sk-toggleable__label-arrow:before {color: black;}#sk-container-id-51 div.sk-toggleable__content {max-height: 0;max-width: 0;overflow: hidden;text-align: left;background-color: #f0f8ff;}#sk-container-id-51 div.sk-toggleable__content pre {margin: 0.2em;color: black;border-radius: 0.25em;background-color: #f0f8ff;}#sk-container-id-51 input.sk-toggleable__control:checked~div.sk-toggleable__content {max-height: 200px;max-width: 100%;overflow: auto;}#sk-container-id-51 input.sk-toggleable__control:checked~label.sk-toggleable__label-arrow:before {content: \"▾\";}#sk-container-id-51 div.sk-estimator input.sk-toggleable__control:checked~label.sk-toggleable__label {background-color: #d4ebff;}#sk-container-id-51 div.sk-label input.sk-toggleable__control:checked~label.sk-toggleable__label {background-color: #d4ebff;}#sk-container-id-51 input.sk-hidden--visually {border: 0;clip: rect(1px 1px 1px 1px);clip: rect(1px, 1px, 1px, 1px);height: 1px;margin: -1px;overflow: hidden;padding: 0;position: absolute;width: 1px;}#sk-container-id-51 div.sk-estimator {font-family: monospace;background-color: #f0f8ff;border: 1px dotted black;border-radius: 0.25em;box-sizing: border-box;margin-bottom: 0.5em;}#sk-container-id-51 div.sk-estimator:hover {background-color: #d4ebff;}#sk-container-id-51 div.sk-parallel-item::after {content: \"\";width: 100%;border-bottom: 1px solid gray;flex-grow: 1;}#sk-container-id-51 div.sk-label:hover label.sk-toggleable__label {background-color: #d4ebff;}#sk-container-id-51 div.sk-serial::before {content: \"\";position: absolute;border-left: 1px solid gray;box-sizing: border-box;top: 0;bottom: 0;left: 50%;z-index: 0;}#sk-container-id-51 div.sk-serial {display: flex;flex-direction: column;align-items: center;background-color: white;padding-right: 0.2em;padding-left: 0.2em;position: relative;}#sk-container-id-51 div.sk-item {position: relative;z-index: 1;}#sk-container-id-51 div.sk-parallel {display: flex;align-items: stretch;justify-content: center;background-color: white;position: relative;}#sk-container-id-51 div.sk-item::before, #sk-container-id-51 div.sk-parallel-item::before {content: \"\";position: absolute;border-left: 1px solid gray;box-sizing: border-box;top: 0;bottom: 0;left: 50%;z-index: -1;}#sk-container-id-51 div.sk-parallel-item {display: flex;flex-direction: column;z-index: 1;position: relative;background-color: white;}#sk-container-id-51 div.sk-parallel-item:first-child::after {align-self: flex-end;width: 50%;}#sk-container-id-51 div.sk-parallel-item:last-child::after {align-self: flex-start;width: 50%;}#sk-container-id-51 div.sk-parallel-item:only-child::after {width: 0;}#sk-container-id-51 div.sk-dashed-wrapped {border: 1px dashed gray;margin: 0 0.4em 0.5em 0.4em;box-sizing: border-box;padding-bottom: 0.4em;background-color: white;}#sk-container-id-51 div.sk-label label {font-family: monospace;font-weight: bold;display: inline-block;line-height: 1.2em;}#sk-container-id-51 div.sk-label-container {text-align: center;}#sk-container-id-51 div.sk-container {/* jupyter's `normalize.less` sets `[hidden] { display: none; }` but bootstrap.min.css set `[hidden] { display: none !important; }` so we also need the `!important` here to be able to override the default hidden behavior on the sphinx rendered scikit-learn.org. See: https://github.com/scikit-learn/scikit-learn/issues/21755 */display: inline-block !important;position: relative;}#sk-container-id-51 div.sk-text-repr-fallback {display: none;}</style><div id=\"sk-container-id-51\" class=\"sk-top-container\"><div class=\"sk-text-repr-fallback\"><pre>SVR()</pre><b>In a Jupyter environment, please rerun this cell to show the HTML representation or trust the notebook. <br />On GitHub, the HTML representation is unable to render, please try loading this page with nbviewer.org.</b></div><div class=\"sk-container\" hidden><div class=\"sk-item\"><div class=\"sk-estimator sk-toggleable\"><input class=\"sk-toggleable__control sk-hidden--visually\" id=\"sk-estimator-id-51\" type=\"checkbox\" checked><label for=\"sk-estimator-id-51\" class=\"sk-toggleable__label sk-toggleable__label-arrow\">SVR</label><div class=\"sk-toggleable__content\"><pre>SVR()</pre></div></div></div></div></div>"
      ],
      "text/plain": [
       "SVR()"
      ]
     },
     "execution_count": 279,
     "metadata": {},
     "output_type": "execute_result"
    }
   ],
   "source": [
    "sv.fit(X_train, y_train)"
   ]
  },
  {
   "cell_type": "code",
   "execution_count": 280,
   "metadata": {},
   "outputs": [
    {
     "data": {
      "text/plain": [
       "0.46240330061074997"
      ]
     },
     "execution_count": 280,
     "metadata": {},
     "output_type": "execute_result"
    }
   ],
   "source": [
    "sv.score(X_test, y_test)"
   ]
  },
  {
   "cell_type": "code",
   "execution_count": 281,
   "metadata": {},
   "outputs": [
    {
     "data": {
      "text/plain": [
       "array([13,  8, 11, ..., 14, 12, 10], dtype=int64)"
      ]
     },
     "execution_count": 281,
     "metadata": {},
     "output_type": "execute_result"
    }
   ],
   "source": [
    "np.array(y_test)"
   ]
  },
  {
   "cell_type": "code",
   "execution_count": 282,
   "metadata": {},
   "outputs": [
    {
     "data": {
      "text/plain": [
       "array([11.76607722,  8.87885545, 10.4078992 , ..., 10.63671594,\n",
       "       11.30578646, 10.44490571])"
      ]
     },
     "execution_count": 282,
     "metadata": {},
     "output_type": "execute_result"
    }
   ],
   "source": [
    "y_pred = sv.predict(X_test)\n",
    "y_pred"
   ]
  },
  {
   "cell_type": "code",
   "execution_count": 283,
   "metadata": {},
   "outputs": [
    {
     "name": "stdout",
     "output_type": "stream",
     "text": [
      "1.5590276961532665\n",
      "5.579743730523327\n",
      "0.46240330061074997\n"
     ]
    }
   ],
   "source": [
    "print(mean_absolute_error(y_test, y_pred))  # lower is better\n",
    "print(mean_squared_error(y_test, y_pred))   # lower is better\n",
    "print(r2_score(y_test, y_pred))             # higher is better"
   ]
  },
  {
   "cell_type": "code",
   "execution_count": 284,
   "metadata": {},
   "outputs": [
    {
     "data": {
      "text/plain": [
       "<matplotlib.legend.Legend at 0x1ff102623d0>"
      ]
     },
     "execution_count": 284,
     "metadata": {},
     "output_type": "execute_result"
    },
    {
     "data": {
      "image/png": "[encoded data removed]",
      "text/plain": [
       "<Figure size 1500x800 with 1 Axes>"
      ]
     },
     "metadata": {},
     "output_type": "display_data"
    }
   ],
   "source": [
    "skip_size = 50\n",
    "\n",
    "plt.figure(figsize=(15, 8))\n",
    "plt.scatter(range(len(y_test[::skip_size])), y_test[::skip_size], label=\"y_true\")\n",
    "plt.scatter(range(len(y_pred[::skip_size])), y_pred[::skip_size], label=\"y_test\")\n",
    "plt.grid(True)\n",
    "plt.legend()"
   ]
  },
  {
   "cell_type": "markdown",
   "metadata": {},
   "source": [
    "# xgboost"
   ]
  },
  {
   "cell_type": "markdown",
   "metadata": {},
   "source": [
    "## XGBClassifier"
   ]
  },
  {
   "cell_type": "code",
   "execution_count": 285,
   "metadata": {},
   "outputs": [],
   "source": [
    "from xgboost import XGBClassifier"
   ]
  },
  {
   "cell_type": "code",
   "execution_count": null,
   "metadata": {},
   "outputs": [],
   "source": [
    "xgb = XGBClassifier()\n",
    "xgb"
   ]
  },
  {
   "cell_type": "code",
   "execution_count": null,
   "metadata": {},
   "outputs": [],
   "source": [
    "xgb.fit(X_train, y_train)"
   ]
  },
  {
   "cell_type": "code",
   "execution_count": null,
   "metadata": {},
   "outputs": [],
   "source": [
    "xgb.score(X_test, y_test)"
   ]
  },
  {
   "cell_type": "code",
   "execution_count": null,
   "metadata": {},
   "outputs": [
    {
     "data": {
      "text/plain": [
       "array([13,  8, 11, ..., 14, 12, 10], dtype=int64)"
      ]
     },
     "execution_count": 134,
     "metadata": {},
     "output_type": "execute_result"
    }
   ],
   "source": [
    "np.array(y_test)"
   ]
  },
  {
   "cell_type": "code",
   "execution_count": null,
   "metadata": {},
   "outputs": [],
   "source": [
    "y_pred = xgb.predict(X_test)\n",
    "y_pred"
   ]
  },
  {
   "cell_type": "code",
   "execution_count": null,
   "metadata": {},
   "outputs": [],
   "source": [
    "accuracy_score(y_test, y_pred)"
   ]
  },
  {
   "cell_type": "code",
   "execution_count": null,
   "metadata": {},
   "outputs": [],
   "source": [
    "skip_size = 50\n",
    "\n",
    "plt.figure(figsize=(15, 8))\n",
    "plt.scatter(range(len(y_test[::skip_size])), y_test[::skip_size], label=\"y_true\")\n",
    "plt.scatter(range(len(y_pred[::skip_size])), y_pred[::skip_size], label=\"y_test\")\n",
    "plt.grid(True)\n",
    "plt.legend()"
   ]
  },
  {
   "cell_type": "markdown",
   "metadata": {},
   "source": [
    "## XGBRegressor"
   ]
  },
  {
   "cell_type": "code",
   "execution_count": 288,
   "metadata": {},
   "outputs": [],
   "source": [
    "from xgboost import XGBRegressor"
   ]
  },
  {
   "cell_type": "code",
   "execution_count": 289,
   "metadata": {},
   "outputs": [
    {
     "data": {
      "text/html": [
       "<style>#sk-container-id-53 {color: black;}#sk-container-id-53 pre{padding: 0;}#sk-container-id-53 div.sk-toggleable {background-color: white;}#sk-container-id-53 label.sk-toggleable__label {cursor: pointer;display: block;width: 100%;margin-bottom: 0;padding: 0.3em;box-sizing: border-box;text-align: center;}#sk-container-id-53 label.sk-toggleable__label-arrow:before {content: \"▸\";float: left;margin-right: 0.25em;color: #696969;}#sk-container-id-53 label.sk-toggleable__label-arrow:hover:before {color: black;}#sk-container-id-53 div.sk-estimator:hover label.sk-toggleable__label-arrow:before {color: black;}#sk-container-id-53 div.sk-toggleable__content {max-height: 0;max-width: 0;overflow: hidden;text-align: left;background-color: #f0f8ff;}#sk-container-id-53 div.sk-toggleable__content pre {margin: 0.2em;color: black;border-radius: 0.25em;background-color: #f0f8ff;}#sk-container-id-53 input.sk-toggleable__control:checked~div.sk-toggleable__content {max-height: 200px;max-width: 100%;overflow: auto;}#sk-container-id-53 input.sk-toggleable__control:checked~label.sk-toggleable__label-arrow:before {content: \"▾\";}#sk-container-id-53 div.sk-estimator input.sk-toggleable__control:checked~label.sk-toggleable__label {background-color: #d4ebff;}#sk-container-id-53 div.sk-label input.sk-toggleable__control:checked~label.sk-toggleable__label {background-color: #d4ebff;}#sk-container-id-53 input.sk-hidden--visually {border: 0;clip: rect(1px 1px 1px 1px);clip: rect(1px, 1px, 1px, 1px);height: 1px;margin: -1px;overflow: hidden;padding: 0;position: absolute;width: 1px;}#sk-container-id-53 div.sk-estimator {font-family: monospace;background-color: #f0f8ff;border: 1px dotted black;border-radius: 0.25em;box-sizing: border-box;margin-bottom: 0.5em;}#sk-container-id-53 div.sk-estimator:hover {background-color: #d4ebff;}#sk-container-id-53 div.sk-parallel-item::after {content: \"\";width: 100%;border-bottom: 1px solid gray;flex-grow: 1;}#sk-container-id-53 div.sk-label:hover label.sk-toggleable__label {background-color: #d4ebff;}#sk-container-id-53 div.sk-serial::before {content: \"\";position: absolute;border-left: 1px solid gray;box-sizing: border-box;top: 0;bottom: 0;left: 50%;z-index: 0;}#sk-container-id-53 div.sk-serial {display: flex;flex-direction: column;align-items: center;background-color: white;padding-right: 0.2em;padding-left: 0.2em;position: relative;}#sk-container-id-53 div.sk-item {position: relative;z-index: 1;}#sk-container-id-53 div.sk-parallel {display: flex;align-items: stretch;justify-content: center;background-color: white;position: relative;}#sk-container-id-53 div.sk-item::before, #sk-container-id-53 div.sk-parallel-item::before {content: \"\";position: absolute;border-left: 1px solid gray;box-sizing: border-box;top: 0;bottom: 0;left: 50%;z-index: -1;}#sk-container-id-53 div.sk-parallel-item {display: flex;flex-direction: column;z-index: 1;position: relative;background-color: white;}#sk-container-id-53 div.sk-parallel-item:first-child::after {align-self: flex-end;width: 50%;}#sk-container-id-53 div.sk-parallel-item:last-child::after {align-self: flex-start;width: 50%;}#sk-container-id-53 div.sk-parallel-item:only-child::after {width: 0;}#sk-container-id-53 div.sk-dashed-wrapped {border: 1px dashed gray;margin: 0 0.4em 0.5em 0.4em;box-sizing: border-box;padding-bottom: 0.4em;background-color: white;}#sk-container-id-53 div.sk-label label {font-family: monospace;font-weight: bold;display: inline-block;line-height: 1.2em;}#sk-container-id-53 div.sk-label-container {text-align: center;}#sk-container-id-53 div.sk-container {/* jupyter's `normalize.less` sets `[hidden] { display: none; }` but bootstrap.min.css set `[hidden] { display: none !important; }` so we also need the `!important` here to be able to override the default hidden behavior on the sphinx rendered scikit-learn.org. See: https://github.com/scikit-learn/scikit-learn/issues/21755 */display: inline-block !important;position: relative;}#sk-container-id-53 div.sk-text-repr-fallback {display: none;}</style><div id=\"sk-container-id-53\" class=\"sk-top-container\"><div class=\"sk-text-repr-fallback\"><pre>XGBRegressor(base_score=None, booster=None, callbacks=None,\n",
       "             colsample_bylevel=None, colsample_bynode=None,\n",
       "             colsample_bytree=None, early_stopping_rounds=None,\n",
       "             enable_categorical=False, eval_metric=None, feature_types=None,\n",
       "             gamma=None, gpu_id=None, grow_policy=None, importance_type=None,\n",
       "             interaction_constraints=None, learning_rate=None, max_bin=None,\n",
       "             max_cat_threshold=None, max_cat_to_onehot=None,\n",
       "             max_delta_step=None, max_depth=None, max_leaves=None,\n",
       "             min_child_weight=None, missing=nan, monotone_constraints=None,\n",
       "             n_estimators=100, n_jobs=None, num_parallel_tree=None,\n",
       "             predictor=None, random_state=None, ...)</pre><b>In a Jupyter environment, please rerun this cell to show the HTML representation or trust the notebook. <br />On GitHub, the HTML representation is unable to render, please try loading this page with nbviewer.org.</b></div><div class=\"sk-container\" hidden><div class=\"sk-item\"><div class=\"sk-estimator sk-toggleable\"><input class=\"sk-toggleable__control sk-hidden--visually\" id=\"sk-estimator-id-53\" type=\"checkbox\" checked><label for=\"sk-estimator-id-53\" class=\"sk-toggleable__label sk-toggleable__label-arrow\">XGBRegressor</label><div class=\"sk-toggleable__content\"><pre>XGBRegressor(base_score=None, booster=None, callbacks=None,\n",
       "             colsample_bylevel=None, colsample_bynode=None,\n",
       "             colsample_bytree=None, early_stopping_rounds=None,\n",
       "             enable_categorical=False, eval_metric=None, feature_types=None,\n",
       "             gamma=None, gpu_id=None, grow_policy=None, importance_type=None,\n",
       "             interaction_constraints=None, learning_rate=None, max_bin=None,\n",
       "             max_cat_threshold=None, max_cat_to_onehot=None,\n",
       "             max_delta_step=None, max_depth=None, max_leaves=None,\n",
       "             min_child_weight=None, missing=nan, monotone_constraints=None,\n",
       "             n_estimators=100, n_jobs=None, num_parallel_tree=None,\n",
       "             predictor=None, random_state=None, ...)</pre></div></div></div></div></div>"
      ],
      "text/plain": [
       "XGBRegressor(base_score=None, booster=None, callbacks=None,\n",
       "             colsample_bylevel=None, colsample_bynode=None,\n",
       "             colsample_bytree=None, early_stopping_rounds=None,\n",
       "             enable_categorical=False, eval_metric=None, feature_types=None,\n",
       "             gamma=None, gpu_id=None, grow_policy=None, importance_type=None,\n",
       "             interaction_constraints=None, learning_rate=None, max_bin=None,\n",
       "             max_cat_threshold=None, max_cat_to_onehot=None,\n",
       "             max_delta_step=None, max_depth=None, max_leaves=None,\n",
       "             min_child_weight=None, missing=nan, monotone_constraints=None,\n",
       "             n_estimators=100, n_jobs=None, num_parallel_tree=None,\n",
       "             predictor=None, random_state=None, ...)"
      ]
     },
     "execution_count": 289,
     "metadata": {},
     "output_type": "execute_result"
    }
   ],
   "source": [
    "xgb = XGBRegressor()\n",
    "xgb"
   ]
  },
  {
   "cell_type": "code",
   "execution_count": 290,
   "metadata": {},
   "outputs": [
    {
     "data": {
      "text/html": [
       "<style>#sk-container-id-54 {color: black;}#sk-container-id-54 pre{padding: 0;}#sk-container-id-54 div.sk-toggleable {background-color: white;}#sk-container-id-54 label.sk-toggleable__label {cursor: pointer;display: block;width: 100%;margin-bottom: 0;padding: 0.3em;box-sizing: border-box;text-align: center;}#sk-container-id-54 label.sk-toggleable__label-arrow:before {content: \"▸\";float: left;margin-right: 0.25em;color: #696969;}#sk-container-id-54 label.sk-toggleable__label-arrow:hover:before {color: black;}#sk-container-id-54 div.sk-estimator:hover label.sk-toggleable__label-arrow:before {color: black;}#sk-container-id-54 div.sk-toggleable__content {max-height: 0;max-width: 0;overflow: hidden;text-align: left;background-color: #f0f8ff;}#sk-container-id-54 div.sk-toggleable__content pre {margin: 0.2em;color: black;border-radius: 0.25em;background-color: #f0f8ff;}#sk-container-id-54 input.sk-toggleable__control:checked~div.sk-toggleable__content {max-height: 200px;max-width: 100%;overflow: auto;}#sk-container-id-54 input.sk-toggleable__control:checked~label.sk-toggleable__label-arrow:before {content: \"▾\";}#sk-container-id-54 div.sk-estimator input.sk-toggleable__control:checked~label.sk-toggleable__label {background-color: #d4ebff;}#sk-container-id-54 div.sk-label input.sk-toggleable__control:checked~label.sk-toggleable__label {background-color: #d4ebff;}#sk-container-id-54 input.sk-hidden--visually {border: 0;clip: rect(1px 1px 1px 1px);clip: rect(1px, 1px, 1px, 1px);height: 1px;margin: -1px;overflow: hidden;padding: 0;position: absolute;width: 1px;}#sk-container-id-54 div.sk-estimator {font-family: monospace;background-color: #f0f8ff;border: 1px dotted black;border-radius: 0.25em;box-sizing: border-box;margin-bottom: 0.5em;}#sk-container-id-54 div.sk-estimator:hover {background-color: #d4ebff;}#sk-container-id-54 div.sk-parallel-item::after {content: \"\";width: 100%;border-bottom: 1px solid gray;flex-grow: 1;}#sk-container-id-54 div.sk-label:hover label.sk-toggleable__label {background-color: #d4ebff;}#sk-container-id-54 div.sk-serial::before {content: \"\";position: absolute;border-left: 1px solid gray;box-sizing: border-box;top: 0;bottom: 0;left: 50%;z-index: 0;}#sk-container-id-54 div.sk-serial {display: flex;flex-direction: column;align-items: center;background-color: white;padding-right: 0.2em;padding-left: 0.2em;position: relative;}#sk-container-id-54 div.sk-item {position: relative;z-index: 1;}#sk-container-id-54 div.sk-parallel {display: flex;align-items: stretch;justify-content: center;background-color: white;position: relative;}#sk-container-id-54 div.sk-item::before, #sk-container-id-54 div.sk-parallel-item::before {content: \"\";position: absolute;border-left: 1px solid gray;box-sizing: border-box;top: 0;bottom: 0;left: 50%;z-index: -1;}#sk-container-id-54 div.sk-parallel-item {display: flex;flex-direction: column;z-index: 1;position: relative;background-color: white;}#sk-container-id-54 div.sk-parallel-item:first-child::after {align-self: flex-end;width: 50%;}#sk-container-id-54 div.sk-parallel-item:last-child::after {align-self: flex-start;width: 50%;}#sk-container-id-54 div.sk-parallel-item:only-child::after {width: 0;}#sk-container-id-54 div.sk-dashed-wrapped {border: 1px dashed gray;margin: 0 0.4em 0.5em 0.4em;box-sizing: border-box;padding-bottom: 0.4em;background-color: white;}#sk-container-id-54 div.sk-label label {font-family: monospace;font-weight: bold;display: inline-block;line-height: 1.2em;}#sk-container-id-54 div.sk-label-container {text-align: center;}#sk-container-id-54 div.sk-container {/* jupyter's `normalize.less` sets `[hidden] { display: none; }` but bootstrap.min.css set `[hidden] { display: none !important; }` so we also need the `!important` here to be able to override the default hidden behavior on the sphinx rendered scikit-learn.org. See: https://github.com/scikit-learn/scikit-learn/issues/21755 */display: inline-block !important;position: relative;}#sk-container-id-54 div.sk-text-repr-fallback {display: none;}</style><div id=\"sk-container-id-54\" class=\"sk-top-container\"><div class=\"sk-text-repr-fallback\"><pre>XGBRegressor(base_score=None, booster=None, callbacks=None,\n",
       "             colsample_bylevel=None, colsample_bynode=None,\n",
       "             colsample_bytree=None, early_stopping_rounds=None,\n",
       "             enable_categorical=False, eval_metric=None, feature_types=None,\n",
       "             gamma=None, gpu_id=None, grow_policy=None, importance_type=None,\n",
       "             interaction_constraints=None, learning_rate=None, max_bin=None,\n",
       "             max_cat_threshold=None, max_cat_to_onehot=None,\n",
       "             max_delta_step=None, max_depth=None, max_leaves=None,\n",
       "             min_child_weight=None, missing=nan, monotone_constraints=None,\n",
       "             n_estimators=100, n_jobs=None, num_parallel_tree=None,\n",
       "             predictor=None, random_state=None, ...)</pre><b>In a Jupyter environment, please rerun this cell to show the HTML representation or trust the notebook. <br />On GitHub, the HTML representation is unable to render, please try loading this page with nbviewer.org.</b></div><div class=\"sk-container\" hidden><div class=\"sk-item\"><div class=\"sk-estimator sk-toggleable\"><input class=\"sk-toggleable__control sk-hidden--visually\" id=\"sk-estimator-id-54\" type=\"checkbox\" checked><label for=\"sk-estimator-id-54\" class=\"sk-toggleable__label sk-toggleable__label-arrow\">XGBRegressor</label><div class=\"sk-toggleable__content\"><pre>XGBRegressor(base_score=None, booster=None, callbacks=None,\n",
       "             colsample_bylevel=None, colsample_bynode=None,\n",
       "             colsample_bytree=None, early_stopping_rounds=None,\n",
       "             enable_categorical=False, eval_metric=None, feature_types=None,\n",
       "             gamma=None, gpu_id=None, grow_policy=None, importance_type=None,\n",
       "             interaction_constraints=None, learning_rate=None, max_bin=None,\n",
       "             max_cat_threshold=None, max_cat_to_onehot=None,\n",
       "             max_delta_step=None, max_depth=None, max_leaves=None,\n",
       "             min_child_weight=None, missing=nan, monotone_constraints=None,\n",
       "             n_estimators=100, n_jobs=None, num_parallel_tree=None,\n",
       "             predictor=None, random_state=None, ...)</pre></div></div></div></div></div>"
      ],
      "text/plain": [
       "XGBRegressor(base_score=None, booster=None, callbacks=None,\n",
       "             colsample_bylevel=None, colsample_bynode=None,\n",
       "             colsample_bytree=None, early_stopping_rounds=None,\n",
       "             enable_categorical=False, eval_metric=None, feature_types=None,\n",
       "             gamma=None, gpu_id=None, grow_policy=None, importance_type=None,\n",
       "             interaction_constraints=None, learning_rate=None, max_bin=None,\n",
       "             max_cat_threshold=None, max_cat_to_onehot=None,\n",
       "             max_delta_step=None, max_depth=None, max_leaves=None,\n",
       "             min_child_weight=None, missing=nan, monotone_constraints=None,\n",
       "             n_estimators=100, n_jobs=None, num_parallel_tree=None,\n",
       "             predictor=None, random_state=None, ...)"
      ]
     },
     "execution_count": 290,
     "metadata": {},
     "output_type": "execute_result"
    }
   ],
   "source": [
    "xgb.fit(X_train, y_train)"
   ]
  },
  {
   "cell_type": "code",
   "execution_count": 291,
   "metadata": {},
   "outputs": [
    {
     "data": {
      "text/plain": [
       "0.4851996449152276"
      ]
     },
     "execution_count": 291,
     "metadata": {},
     "output_type": "execute_result"
    }
   ],
   "source": [
    "xgb.score(X_test, y_test)"
   ]
  },
  {
   "cell_type": "code",
   "execution_count": 292,
   "metadata": {},
   "outputs": [
    {
     "data": {
      "text/plain": [
       "array([13,  8, 11, ..., 14, 12, 10], dtype=int64)"
      ]
     },
     "execution_count": 292,
     "metadata": {},
     "output_type": "execute_result"
    }
   ],
   "source": [
    "np.array(y_test)"
   ]
  },
  {
   "cell_type": "code",
   "execution_count": 293,
   "metadata": {},
   "outputs": [
    {
     "data": {
      "text/plain": [
       "array([15.792881, 10.194566, 10.870656, ..., 12.941217, 11.298844,\n",
       "       10.698827], dtype=float32)"
      ]
     },
     "execution_count": 293,
     "metadata": {},
     "output_type": "execute_result"
    }
   ],
   "source": [
    "y_pred = xgb.predict(X_test)\n",
    "y_pred"
   ]
  },
  {
   "cell_type": "code",
   "execution_count": 294,
   "metadata": {},
   "outputs": [
    {
     "name": "stdout",
     "output_type": "stream",
     "text": [
      "1.6453300969574427\n",
      "5.3431393031593455\n",
      "0.4851996449152276\n"
     ]
    }
   ],
   "source": [
    "print(mean_absolute_error(y_test, y_pred))  # lower is better\n",
    "print(mean_squared_error(y_test, y_pred))   # lower is better\n",
    "print(r2_score(y_test, y_pred))             # higher is better"
   ]
  },
  {
   "cell_type": "code",
   "execution_count": 295,
   "metadata": {},
   "outputs": [
    {
     "data": {
      "text/plain": [
       "<matplotlib.legend.Legend at 0x1ff158bcb90>"
      ]
     },
     "execution_count": 295,
     "metadata": {},
     "output_type": "execute_result"
    },
    {
     "data": {
      "image/png": "[encoded data removed]",
      "text/plain": [
       "<Figure size 1500x800 with 1 Axes>"
      ]
     },
     "metadata": {},
     "output_type": "display_data"
    }
   ],
   "source": [
    "skip_size = 50\n",
    "\n",
    "plt.figure(figsize=(15, 8))\n",
    "plt.scatter(range(len(y_test[::skip_size])), y_test[::skip_size], label=\"y_true\")\n",
    "plt.scatter(range(len(y_pred[::skip_size])), y_pred[::skip_size], label=\"y_test\")\n",
    "plt.grid(True)\n",
    "plt.legend()"
   ]
  },
  {
   "cell_type": "markdown",
   "metadata": {},
   "source": [
    "# lightgbm"
   ]
  },
  {
   "cell_type": "markdown",
   "metadata": {},
   "source": [
    "## LGBMClassifier"
   ]
  },
  {
   "cell_type": "code",
   "execution_count": null,
   "metadata": {},
   "outputs": [],
   "source": [
    "from lightgbm import LGBMClassifier"
   ]
  },
  {
   "cell_type": "code",
   "execution_count": null,
   "metadata": {},
   "outputs": [],
   "source": [
    "lgbm = XGBClassifier()\n",
    "lgbm"
   ]
  },
  {
   "cell_type": "code",
   "execution_count": null,
   "metadata": {},
   "outputs": [],
   "source": [
    "lgbm.fit(X_train, y_train)"
   ]
  },
  {
   "cell_type": "code",
   "execution_count": null,
   "metadata": {},
   "outputs": [],
   "source": [
    "lgbm.score(X_test, y_test)"
   ]
  },
  {
   "cell_type": "code",
   "execution_count": null,
   "metadata": {},
   "outputs": [
    {
     "data": {
      "text/plain": [
       "array([13,  8, 11, ..., 14, 12, 10], dtype=int64)"
      ]
     },
     "metadata": {},
     "output_type": "display_data"
    }
   ],
   "source": [
    "np.array(y_test)"
   ]
  },
  {
   "cell_type": "code",
   "execution_count": null,
   "metadata": {},
   "outputs": [],
   "source": [
    "y_pred = lgbm.predict(X_test)\n",
    "y_pred"
   ]
  },
  {
   "cell_type": "code",
   "execution_count": null,
   "metadata": {},
   "outputs": [],
   "source": [
    "accuracy_score(y_test, y_pred)"
   ]
  },
  {
   "cell_type": "code",
   "execution_count": null,
   "metadata": {},
   "outputs": [],
   "source": [
    "skip_size = 50\n",
    "\n",
    "plt.figure(figsize=(15, 8))\n",
    "plt.scatter(range(len(y_test[::skip_size])), y_test[::skip_size], label=\"y_true\")\n",
    "plt.scatter(range(len(y_pred[::skip_size])), y_pred[::skip_size], label=\"y_test\")\n",
    "plt.grid(True)\n",
    "plt.legend()"
   ]
  },
  {
   "cell_type": "markdown",
   "metadata": {},
   "source": [
    "## LGBMRegressor"
   ]
  },
  {
   "cell_type": "code",
   "execution_count": 296,
   "metadata": {},
   "outputs": [],
   "source": [
    "from lightgbm import LGBMRegressor"
   ]
  },
  {
   "cell_type": "code",
   "execution_count": 297,
   "metadata": {},
   "outputs": [
    {
     "data": {
      "text/html": [
       "<style>#sk-container-id-55 {color: black;}#sk-container-id-55 pre{padding: 0;}#sk-container-id-55 div.sk-toggleable {background-color: white;}#sk-container-id-55 label.sk-toggleable__label {cursor: pointer;display: block;width: 100%;margin-bottom: 0;padding: 0.3em;box-sizing: border-box;text-align: center;}#sk-container-id-55 label.sk-toggleable__label-arrow:before {content: \"▸\";float: left;margin-right: 0.25em;color: #696969;}#sk-container-id-55 label.sk-toggleable__label-arrow:hover:before {color: black;}#sk-container-id-55 div.sk-estimator:hover label.sk-toggleable__label-arrow:before {color: black;}#sk-container-id-55 div.sk-toggleable__content {max-height: 0;max-width: 0;overflow: hidden;text-align: left;background-color: #f0f8ff;}#sk-container-id-55 div.sk-toggleable__content pre {margin: 0.2em;color: black;border-radius: 0.25em;background-color: #f0f8ff;}#sk-container-id-55 input.sk-toggleable__control:checked~div.sk-toggleable__content {max-height: 200px;max-width: 100%;overflow: auto;}#sk-container-id-55 input.sk-toggleable__control:checked~label.sk-toggleable__label-arrow:before {content: \"▾\";}#sk-container-id-55 div.sk-estimator input.sk-toggleable__control:checked~label.sk-toggleable__label {background-color: #d4ebff;}#sk-container-id-55 div.sk-label input.sk-toggleable__control:checked~label.sk-toggleable__label {background-color: #d4ebff;}#sk-container-id-55 input.sk-hidden--visually {border: 0;clip: rect(1px 1px 1px 1px);clip: rect(1px, 1px, 1px, 1px);height: 1px;margin: -1px;overflow: hidden;padding: 0;position: absolute;width: 1px;}#sk-container-id-55 div.sk-estimator {font-family: monospace;background-color: #f0f8ff;border: 1px dotted black;border-radius: 0.25em;box-sizing: border-box;margin-bottom: 0.5em;}#sk-container-id-55 div.sk-estimator:hover {background-color: #d4ebff;}#sk-container-id-55 div.sk-parallel-item::after {content: \"\";width: 100%;border-bottom: 1px solid gray;flex-grow: 1;}#sk-container-id-55 div.sk-label:hover label.sk-toggleable__label {background-color: #d4ebff;}#sk-container-id-55 div.sk-serial::before {content: \"\";position: absolute;border-left: 1px solid gray;box-sizing: border-box;top: 0;bottom: 0;left: 50%;z-index: 0;}#sk-container-id-55 div.sk-serial {display: flex;flex-direction: column;align-items: center;background-color: white;padding-right: 0.2em;padding-left: 0.2em;position: relative;}#sk-container-id-55 div.sk-item {position: relative;z-index: 1;}#sk-container-id-55 div.sk-parallel {display: flex;align-items: stretch;justify-content: center;background-color: white;position: relative;}#sk-container-id-55 div.sk-item::before, #sk-container-id-55 div.sk-parallel-item::before {content: \"\";position: absolute;border-left: 1px solid gray;box-sizing: border-box;top: 0;bottom: 0;left: 50%;z-index: -1;}#sk-container-id-55 div.sk-parallel-item {display: flex;flex-direction: column;z-index: 1;position: relative;background-color: white;}#sk-container-id-55 div.sk-parallel-item:first-child::after {align-self: flex-end;width: 50%;}#sk-container-id-55 div.sk-parallel-item:last-child::after {align-self: flex-start;width: 50%;}#sk-container-id-55 div.sk-parallel-item:only-child::after {width: 0;}#sk-container-id-55 div.sk-dashed-wrapped {border: 1px dashed gray;margin: 0 0.4em 0.5em 0.4em;box-sizing: border-box;padding-bottom: 0.4em;background-color: white;}#sk-container-id-55 div.sk-label label {font-family: monospace;font-weight: bold;display: inline-block;line-height: 1.2em;}#sk-container-id-55 div.sk-label-container {text-align: center;}#sk-container-id-55 div.sk-container {/* jupyter's `normalize.less` sets `[hidden] { display: none; }` but bootstrap.min.css set `[hidden] { display: none !important; }` so we also need the `!important` here to be able to override the default hidden behavior on the sphinx rendered scikit-learn.org. See: https://github.com/scikit-learn/scikit-learn/issues/21755 */display: inline-block !important;position: relative;}#sk-container-id-55 div.sk-text-repr-fallback {display: none;}</style><div id=\"sk-container-id-55\" class=\"sk-top-container\"><div class=\"sk-text-repr-fallback\"><pre>LGBMRegressor()</pre><b>In a Jupyter environment, please rerun this cell to show the HTML representation or trust the notebook. <br />On GitHub, the HTML representation is unable to render, please try loading this page with nbviewer.org.</b></div><div class=\"sk-container\" hidden><div class=\"sk-item\"><div class=\"sk-estimator sk-toggleable\"><input class=\"sk-toggleable__control sk-hidden--visually\" id=\"sk-estimator-id-55\" type=\"checkbox\" checked><label for=\"sk-estimator-id-55\" class=\"sk-toggleable__label sk-toggleable__label-arrow\">LGBMRegressor</label><div class=\"sk-toggleable__content\"><pre>LGBMRegressor()</pre></div></div></div></div></div>"
      ],
      "text/plain": [
       "LGBMRegressor()"
      ]
     },
     "execution_count": 297,
     "metadata": {},
     "output_type": "execute_result"
    }
   ],
   "source": [
    "lgbm = LGBMRegressor()\n",
    "lgbm"
   ]
  },
  {
   "cell_type": "code",
   "execution_count": 298,
   "metadata": {},
   "outputs": [
    {
     "name": "stdout",
     "output_type": "stream",
     "text": [
      "[LightGBM] [Warning] Found whitespace in feature_names, replace with underlines\n",
      "[LightGBM] [Warning] Auto-choosing col-wise multi-threading, the overhead of testing was 0.000098 seconds.\n",
      "You can set `force_col_wise=true` to remove the overhead.\n",
      "[LightGBM] [Info] Total Bins 1279\n",
      "[LightGBM] [Info] Number of data points in the train set: 2088, number of used features: 8\n",
      "[LightGBM] [Info] Start training from score 9.949713\n"
     ]
    },
    {
     "data": {
      "text/html": [
       "<style>#sk-container-id-56 {color: black;}#sk-container-id-56 pre{padding: 0;}#sk-container-id-56 div.sk-toggleable {background-color: white;}#sk-container-id-56 label.sk-toggleable__label {cursor: pointer;display: block;width: 100%;margin-bottom: 0;padding: 0.3em;box-sizing: border-box;text-align: center;}#sk-container-id-56 label.sk-toggleable__label-arrow:before {content: \"▸\";float: left;margin-right: 0.25em;color: #696969;}#sk-container-id-56 label.sk-toggleable__label-arrow:hover:before {color: black;}#sk-container-id-56 div.sk-estimator:hover label.sk-toggleable__label-arrow:before {color: black;}#sk-container-id-56 div.sk-toggleable__content {max-height: 0;max-width: 0;overflow: hidden;text-align: left;background-color: #f0f8ff;}#sk-container-id-56 div.sk-toggleable__content pre {margin: 0.2em;color: black;border-radius: 0.25em;background-color: #f0f8ff;}#sk-container-id-56 input.sk-toggleable__control:checked~div.sk-toggleable__content {max-height: 200px;max-width: 100%;overflow: auto;}#sk-container-id-56 input.sk-toggleable__control:checked~label.sk-toggleable__label-arrow:before {content: \"▾\";}#sk-container-id-56 div.sk-estimator input.sk-toggleable__control:checked~label.sk-toggleable__label {background-color: #d4ebff;}#sk-container-id-56 div.sk-label input.sk-toggleable__control:checked~label.sk-toggleable__label {background-color: #d4ebff;}#sk-container-id-56 input.sk-hidden--visually {border: 0;clip: rect(1px 1px 1px 1px);clip: rect(1px, 1px, 1px, 1px);height: 1px;margin: -1px;overflow: hidden;padding: 0;position: absolute;width: 1px;}#sk-container-id-56 div.sk-estimator {font-family: monospace;background-color: #f0f8ff;border: 1px dotted black;border-radius: 0.25em;box-sizing: border-box;margin-bottom: 0.5em;}#sk-container-id-56 div.sk-estimator:hover {background-color: #d4ebff;}#sk-container-id-56 div.sk-parallel-item::after {content: \"\";width: 100%;border-bottom: 1px solid gray;flex-grow: 1;}#sk-container-id-56 div.sk-label:hover label.sk-toggleable__label {background-color: #d4ebff;}#sk-container-id-56 div.sk-serial::before {content: \"\";position: absolute;border-left: 1px solid gray;box-sizing: border-box;top: 0;bottom: 0;left: 50%;z-index: 0;}#sk-container-id-56 div.sk-serial {display: flex;flex-direction: column;align-items: center;background-color: white;padding-right: 0.2em;padding-left: 0.2em;position: relative;}#sk-container-id-56 div.sk-item {position: relative;z-index: 1;}#sk-container-id-56 div.sk-parallel {display: flex;align-items: stretch;justify-content: center;background-color: white;position: relative;}#sk-container-id-56 div.sk-item::before, #sk-container-id-56 div.sk-parallel-item::before {content: \"\";position: absolute;border-left: 1px solid gray;box-sizing: border-box;top: 0;bottom: 0;left: 50%;z-index: -1;}#sk-container-id-56 div.sk-parallel-item {display: flex;flex-direction: column;z-index: 1;position: relative;background-color: white;}#sk-container-id-56 div.sk-parallel-item:first-child::after {align-self: flex-end;width: 50%;}#sk-container-id-56 div.sk-parallel-item:last-child::after {align-self: flex-start;width: 50%;}#sk-container-id-56 div.sk-parallel-item:only-child::after {width: 0;}#sk-container-id-56 div.sk-dashed-wrapped {border: 1px dashed gray;margin: 0 0.4em 0.5em 0.4em;box-sizing: border-box;padding-bottom: 0.4em;background-color: white;}#sk-container-id-56 div.sk-label label {font-family: monospace;font-weight: bold;display: inline-block;line-height: 1.2em;}#sk-container-id-56 div.sk-label-container {text-align: center;}#sk-container-id-56 div.sk-container {/* jupyter's `normalize.less` sets `[hidden] { display: none; }` but bootstrap.min.css set `[hidden] { display: none !important; }` so we also need the `!important` here to be able to override the default hidden behavior on the sphinx rendered scikit-learn.org. See: https://github.com/scikit-learn/scikit-learn/issues/21755 */display: inline-block !important;position: relative;}#sk-container-id-56 div.sk-text-repr-fallback {display: none;}</style><div id=\"sk-container-id-56\" class=\"sk-top-container\"><div class=\"sk-text-repr-fallback\"><pre>LGBMRegressor()</pre><b>In a Jupyter environment, please rerun this cell to show the HTML representation or trust the notebook. <br />On GitHub, the HTML representation is unable to render, please try loading this page with nbviewer.org.</b></div><div class=\"sk-container\" hidden><div class=\"sk-item\"><div class=\"sk-estimator sk-toggleable\"><input class=\"sk-toggleable__control sk-hidden--visually\" id=\"sk-estimator-id-56\" type=\"checkbox\" checked><label for=\"sk-estimator-id-56\" class=\"sk-toggleable__label sk-toggleable__label-arrow\">LGBMRegressor</label><div class=\"sk-toggleable__content\"><pre>LGBMRegressor()</pre></div></div></div></div></div>"
      ],
      "text/plain": [
       "LGBMRegressor()"
      ]
     },
     "execution_count": 298,
     "metadata": {},
     "output_type": "execute_result"
    }
   ],
   "source": [
    "lgbm.fit(X_train, y_train)"
   ]
  },
  {
   "cell_type": "code",
   "execution_count": 299,
   "metadata": {},
   "outputs": [
    {
     "data": {
      "text/plain": [
       "0.5337368782178729"
      ]
     },
     "execution_count": 299,
     "metadata": {},
     "output_type": "execute_result"
    }
   ],
   "source": [
    "lgbm.score(X_test, y_test)"
   ]
  },
  {
   "cell_type": "code",
   "execution_count": 300,
   "metadata": {},
   "outputs": [
    {
     "data": {
      "text/plain": [
       "array([13,  8, 11, ..., 14, 12, 10], dtype=int64)"
      ]
     },
     "execution_count": 300,
     "metadata": {},
     "output_type": "execute_result"
    }
   ],
   "source": [
    "np.array(y_test)"
   ]
  },
  {
   "cell_type": "code",
   "execution_count": 301,
   "metadata": {},
   "outputs": [
    {
     "data": {
      "text/plain": [
       "array([14.69683654,  9.78892264, 10.01807785, ..., 13.60481597,\n",
       "       10.48334673,  9.35326285])"
      ]
     },
     "execution_count": 301,
     "metadata": {},
     "output_type": "execute_result"
    }
   ],
   "source": [
    "y_pred = lgbm.predict(X_test)\n",
    "y_pred"
   ]
  },
  {
   "cell_type": "code",
   "execution_count": 302,
   "metadata": {},
   "outputs": [
    {
     "name": "stdout",
     "output_type": "stream",
     "text": [
      "1.5670685003461609\n",
      "4.839368867951947\n",
      "0.5337368782178729\n"
     ]
    }
   ],
   "source": [
    "print(mean_absolute_error(y_test, y_pred))  # lower is better\n",
    "print(mean_squared_error(y_test, y_pred))   # lower is better\n",
    "print(r2_score(y_test, y_pred))             # higher is better"
   ]
  },
  {
   "cell_type": "code",
   "execution_count": 303,
   "metadata": {},
   "outputs": [
    {
     "data": {
      "text/plain": [
       "<matplotlib.legend.Legend at 0x1ff141d6010>"
      ]
     },
     "execution_count": 303,
     "metadata": {},
     "output_type": "execute_result"
    },
    {
     "data": {
      "image/png": "[encoded data removed]",
      "text/plain": [
       "<Figure size 1500x800 with 1 Axes>"
      ]
     },
     "metadata": {},
     "output_type": "display_data"
    }
   ],
   "source": [
    "skip_size = 50\n",
    "\n",
    "plt.figure(figsize=(15, 8))\n",
    "plt.scatter(range(len(y_test[::skip_size])), y_test[::skip_size], label=\"y_true\")\n",
    "plt.scatter(range(len(y_pred[::skip_size])), y_pred[::skip_size], label=\"y_test\")\n",
    "plt.grid(True)\n",
    "plt.legend()"
   ]
  },
  {
   "cell_type": "markdown",
   "metadata": {},
   "source": [
    "# catboost"
   ]
  },
  {
   "cell_type": "markdown",
   "metadata": {},
   "source": [
    "## CatBoostClassifier"
   ]
  },
  {
   "cell_type": "code",
   "execution_count": 312,
   "metadata": {},
   "outputs": [],
   "source": [
    "from catboost import CatBoostClassifier"
   ]
  },
  {
   "cell_type": "code",
   "execution_count": 313,
   "metadata": {},
   "outputs": [
    {
     "data": {
      "text/plain": [
       "<catboost.core.CatBoostClassifier at 0x1ff15973410>"
      ]
     },
     "execution_count": 313,
     "metadata": {},
     "output_type": "execute_result"
    }
   ],
   "source": [
    "catb = CatBoostClassifier()\n",
    "catb"
   ]
  },
  {
   "cell_type": "code",
   "execution_count": 314,
   "metadata": {},
   "outputs": [
    {
     "name": "stdout",
     "output_type": "stream",
     "text": [
      "Learning rate set to 0.082154\n",
      "0:\tlearn: 2.9833472\ttotal: 18.6ms\tremaining: 18.6s\n",
      "1:\tlearn: 2.8459533\ttotal: 36.6ms\tremaining: 18.3s\n",
      "2:\tlearn: 2.7375779\ttotal: 54.4ms\tremaining: 18.1s\n",
      "3:\tlearn: 2.6554889\ttotal: 71.2ms\tremaining: 17.7s\n",
      "4:\tlearn: 2.5877867\ttotal: 88.4ms\tremaining: 17.6s\n",
      "5:\tlearn: 2.5256356\ttotal: 108ms\tremaining: 17.8s\n",
      "6:\tlearn: 2.4739326\ttotal: 127ms\tremaining: 18s\n",
      "7:\tlearn: 2.4266416\ttotal: 146ms\tremaining: 18.1s\n",
      "8:\tlearn: 2.3884902\ttotal: 165ms\tremaining: 18.2s\n",
      "9:\tlearn: 2.3548350\ttotal: 184ms\tremaining: 18.2s\n",
      "10:\tlearn: 2.3211322\ttotal: 203ms\tremaining: 18.2s\n",
      "11:\tlearn: 2.2930912\ttotal: 221ms\tremaining: 18.2s\n",
      "12:\tlearn: 2.2684360\ttotal: 240ms\tremaining: 18.2s\n",
      "13:\tlearn: 2.2471763\ttotal: 259ms\tremaining: 18.3s\n",
      "14:\tlearn: 2.2226586\ttotal: 279ms\tremaining: 18.3s\n",
      "15:\tlearn: 2.2013334\ttotal: 300ms\tremaining: 18.4s\n",
      "16:\tlearn: 2.1847462\ttotal: 318ms\tremaining: 18.4s\n",
      "17:\tlearn: 2.1667965\ttotal: 337ms\tremaining: 18.4s\n",
      "18:\tlearn: 2.1527217\ttotal: 354ms\tremaining: 18.3s\n",
      "19:\tlearn: 2.1378965\ttotal: 373ms\tremaining: 18.3s\n",
      "20:\tlearn: 2.1247768\ttotal: 393ms\tremaining: 18.3s\n",
      "21:\tlearn: 2.1102936\ttotal: 417ms\tremaining: 18.5s\n",
      "22:\tlearn: 2.0995555\ttotal: 438ms\tremaining: 18.6s\n",
      "23:\tlearn: 2.0886783\ttotal: 460ms\tremaining: 18.7s\n",
      "24:\tlearn: 2.0776045\ttotal: 477ms\tremaining: 18.6s\n",
      "25:\tlearn: 2.0694553\ttotal: 494ms\tremaining: 18.5s\n",
      "26:\tlearn: 2.0600213\ttotal: 510ms\tremaining: 18.4s\n",
      "27:\tlearn: 2.0516583\ttotal: 526ms\tremaining: 18.3s\n",
      "28:\tlearn: 2.0435304\ttotal: 543ms\tremaining: 18.2s\n",
      "29:\tlearn: 2.0359596\ttotal: 560ms\tremaining: 18.1s\n",
      "30:\tlearn: 2.0290717\ttotal: 577ms\tremaining: 18s\n",
      "31:\tlearn: 2.0227121\ttotal: 594ms\tremaining: 18s\n",
      "32:\tlearn: 2.0170110\ttotal: 611ms\tremaining: 17.9s\n",
      "33:\tlearn: 2.0106654\ttotal: 628ms\tremaining: 17.8s\n",
      "34:\tlearn: 2.0038780\ttotal: 646ms\tremaining: 17.8s\n",
      "35:\tlearn: 1.9983801\ttotal: 663ms\tremaining: 17.8s\n",
      "36:\tlearn: 1.9929474\ttotal: 680ms\tremaining: 17.7s\n",
      "37:\tlearn: 1.9876639\ttotal: 698ms\tremaining: 17.7s\n",
      "38:\tlearn: 1.9824524\ttotal: 716ms\tremaining: 17.6s\n",
      "39:\tlearn: 1.9768246\ttotal: 734ms\tremaining: 17.6s\n",
      "40:\tlearn: 1.9716909\ttotal: 745ms\tremaining: 17.4s\n",
      "41:\tlearn: 1.9668707\ttotal: 763ms\tremaining: 17.4s\n",
      "42:\tlearn: 1.9613268\ttotal: 781ms\tremaining: 17.4s\n",
      "43:\tlearn: 1.9558530\ttotal: 804ms\tremaining: 17.5s\n",
      "44:\tlearn: 1.9521683\ttotal: 821ms\tremaining: 17.4s\n",
      "45:\tlearn: 1.9488801\ttotal: 841ms\tremaining: 17.4s\n",
      "46:\tlearn: 1.9456524\ttotal: 860ms\tremaining: 17.4s\n",
      "47:\tlearn: 1.9416315\ttotal: 879ms\tremaining: 17.4s\n",
      "48:\tlearn: 1.9378664\ttotal: 897ms\tremaining: 17.4s\n",
      "49:\tlearn: 1.9322465\ttotal: 914ms\tremaining: 17.4s\n",
      "50:\tlearn: 1.9278799\ttotal: 932ms\tremaining: 17.3s\n",
      "51:\tlearn: 1.9236186\ttotal: 950ms\tremaining: 17.3s\n",
      "52:\tlearn: 1.9209654\ttotal: 968ms\tremaining: 17.3s\n",
      "53:\tlearn: 1.9174079\ttotal: 987ms\tremaining: 17.3s\n",
      "54:\tlearn: 1.9137301\ttotal: 1s\tremaining: 17.3s\n",
      "55:\tlearn: 1.9115254\ttotal: 1.02s\tremaining: 17.2s\n",
      "56:\tlearn: 1.9076012\ttotal: 1.04s\tremaining: 17.2s\n",
      "57:\tlearn: 1.9040749\ttotal: 1.06s\tremaining: 17.2s\n",
      "58:\tlearn: 1.9006711\ttotal: 1.08s\tremaining: 17.2s\n",
      "59:\tlearn: 1.8969577\ttotal: 1.09s\tremaining: 17.1s\n",
      "60:\tlearn: 1.8933685\ttotal: 1.11s\tremaining: 17.1s\n",
      "61:\tlearn: 1.8902487\ttotal: 1.13s\tremaining: 17.1s\n",
      "62:\tlearn: 1.8870745\ttotal: 1.14s\tremaining: 17s\n",
      "63:\tlearn: 1.8838024\ttotal: 1.16s\tremaining: 17s\n",
      "64:\tlearn: 1.8805903\ttotal: 1.18s\tremaining: 16.9s\n",
      "65:\tlearn: 1.8786782\ttotal: 1.19s\tremaining: 16.9s\n",
      "66:\tlearn: 1.8749628\ttotal: 1.21s\tremaining: 16.9s\n",
      "67:\tlearn: 1.8720373\ttotal: 1.23s\tremaining: 16.8s\n",
      "68:\tlearn: 1.8682921\ttotal: 1.25s\tremaining: 16.8s\n",
      "69:\tlearn: 1.8661943\ttotal: 1.26s\tremaining: 16.8s\n",
      "70:\tlearn: 1.8638795\ttotal: 1.28s\tremaining: 16.8s\n",
      "71:\tlearn: 1.8597909\ttotal: 1.3s\tremaining: 16.8s\n",
      "72:\tlearn: 1.8574291\ttotal: 1.32s\tremaining: 16.8s\n",
      "73:\tlearn: 1.8544281\ttotal: 1.34s\tremaining: 16.8s\n",
      "74:\tlearn: 1.8518070\ttotal: 1.36s\tremaining: 16.8s\n",
      "75:\tlearn: 1.8496360\ttotal: 1.38s\tremaining: 16.7s\n",
      "76:\tlearn: 1.8485048\ttotal: 1.39s\tremaining: 16.7s\n",
      "77:\tlearn: 1.8450990\ttotal: 1.41s\tremaining: 16.7s\n",
      "78:\tlearn: 1.8412773\ttotal: 1.43s\tremaining: 16.7s\n",
      "79:\tlearn: 1.8382835\ttotal: 1.45s\tremaining: 16.6s\n",
      "80:\tlearn: 1.8360845\ttotal: 1.47s\tremaining: 16.6s\n",
      "81:\tlearn: 1.8346524\ttotal: 1.48s\tremaining: 16.6s\n",
      "82:\tlearn: 1.8327807\ttotal: 1.5s\tremaining: 16.6s\n",
      "83:\tlearn: 1.8303502\ttotal: 1.52s\tremaining: 16.6s\n",
      "84:\tlearn: 1.8280836\ttotal: 1.54s\tremaining: 16.5s\n",
      "85:\tlearn: 1.8245803\ttotal: 1.55s\tremaining: 16.5s\n",
      "86:\tlearn: 1.8233256\ttotal: 1.57s\tremaining: 16.5s\n",
      "87:\tlearn: 1.8214854\ttotal: 1.59s\tremaining: 16.5s\n",
      "88:\tlearn: 1.8187971\ttotal: 1.61s\tremaining: 16.5s\n",
      "89:\tlearn: 1.8170731\ttotal: 1.63s\tremaining: 16.5s\n",
      "90:\tlearn: 1.8149656\ttotal: 1.65s\tremaining: 16.5s\n",
      "91:\tlearn: 1.8123736\ttotal: 1.67s\tremaining: 16.4s\n",
      "92:\tlearn: 1.8088386\ttotal: 1.68s\tremaining: 16.4s\n",
      "93:\tlearn: 1.8069218\ttotal: 1.7s\tremaining: 16.4s\n",
      "94:\tlearn: 1.8041325\ttotal: 1.72s\tremaining: 16.4s\n",
      "95:\tlearn: 1.8007572\ttotal: 1.74s\tremaining: 16.4s\n",
      "96:\tlearn: 1.7977473\ttotal: 1.75s\tremaining: 16.3s\n",
      "97:\tlearn: 1.7953893\ttotal: 1.77s\tremaining: 16.3s\n",
      "98:\tlearn: 1.7925272\ttotal: 1.79s\tremaining: 16.3s\n",
      "99:\tlearn: 1.7907095\ttotal: 1.8s\tremaining: 16.3s\n",
      "100:\tlearn: 1.7888495\ttotal: 1.82s\tremaining: 16.2s\n",
      "101:\tlearn: 1.7868730\ttotal: 1.84s\tremaining: 16.2s\n",
      "102:\tlearn: 1.7853417\ttotal: 1.86s\tremaining: 16.2s\n",
      "103:\tlearn: 1.7840239\ttotal: 1.87s\tremaining: 16.1s\n",
      "104:\tlearn: 1.7817517\ttotal: 1.89s\tremaining: 16.1s\n",
      "105:\tlearn: 1.7789820\ttotal: 1.91s\tremaining: 16.1s\n",
      "106:\tlearn: 1.7758088\ttotal: 1.93s\tremaining: 16.1s\n",
      "107:\tlearn: 1.7742239\ttotal: 1.95s\tremaining: 16.1s\n",
      "108:\tlearn: 1.7720660\ttotal: 1.97s\tremaining: 16.1s\n",
      "109:\tlearn: 1.7698536\ttotal: 1.99s\tremaining: 16.1s\n",
      "110:\tlearn: 1.7690247\ttotal: 2s\tremaining: 16.1s\n",
      "111:\tlearn: 1.7683996\ttotal: 2.02s\tremaining: 16s\n",
      "112:\tlearn: 1.7654003\ttotal: 2.04s\tremaining: 16s\n",
      "113:\tlearn: 1.7646133\ttotal: 2.06s\tremaining: 16s\n",
      "114:\tlearn: 1.7634320\ttotal: 2.07s\tremaining: 16s\n",
      "115:\tlearn: 1.7628137\ttotal: 2.09s\tremaining: 15.9s\n",
      "116:\tlearn: 1.7614467\ttotal: 2.11s\tremaining: 15.9s\n",
      "117:\tlearn: 1.7601512\ttotal: 2.13s\tremaining: 15.9s\n",
      "118:\tlearn: 1.7592027\ttotal: 2.15s\tremaining: 15.9s\n",
      "119:\tlearn: 1.7583712\ttotal: 2.17s\tremaining: 15.9s\n",
      "120:\tlearn: 1.7555261\ttotal: 2.18s\tremaining: 15.9s\n",
      "121:\tlearn: 1.7523408\ttotal: 2.2s\tremaining: 15.8s\n",
      "122:\tlearn: 1.7498666\ttotal: 2.22s\tremaining: 15.8s\n",
      "123:\tlearn: 1.7482754\ttotal: 2.24s\tremaining: 15.8s\n",
      "124:\tlearn: 1.7452036\ttotal: 2.25s\tremaining: 15.8s\n",
      "125:\tlearn: 1.7419601\ttotal: 2.27s\tremaining: 15.8s\n",
      "126:\tlearn: 1.7388715\ttotal: 2.29s\tremaining: 15.7s\n",
      "127:\tlearn: 1.7371641\ttotal: 2.31s\tremaining: 15.7s\n",
      "128:\tlearn: 1.7340752\ttotal: 2.33s\tremaining: 15.7s\n",
      "129:\tlearn: 1.7326788\ttotal: 2.34s\tremaining: 15.7s\n",
      "130:\tlearn: 1.7317356\ttotal: 2.38s\tremaining: 15.8s\n",
      "131:\tlearn: 1.7292604\ttotal: 2.39s\tremaining: 15.7s\n",
      "132:\tlearn: 1.7266939\ttotal: 2.41s\tremaining: 15.7s\n",
      "133:\tlearn: 1.7238913\ttotal: 2.43s\tremaining: 15.7s\n",
      "134:\tlearn: 1.7226492\ttotal: 2.45s\tremaining: 15.7s\n",
      "135:\tlearn: 1.7213952\ttotal: 2.46s\tremaining: 15.7s\n",
      "136:\tlearn: 1.7200016\ttotal: 2.48s\tremaining: 15.6s\n",
      "137:\tlearn: 1.7191330\ttotal: 2.5s\tremaining: 15.6s\n",
      "138:\tlearn: 1.7162115\ttotal: 2.51s\tremaining: 15.6s\n",
      "139:\tlearn: 1.7156593\ttotal: 2.54s\tremaining: 15.6s\n",
      "140:\tlearn: 1.7133919\ttotal: 2.56s\tremaining: 15.6s\n",
      "141:\tlearn: 1.7117236\ttotal: 2.58s\tremaining: 15.6s\n",
      "142:\tlearn: 1.7103490\ttotal: 2.6s\tremaining: 15.6s\n",
      "143:\tlearn: 1.7068725\ttotal: 2.62s\tremaining: 15.5s\n",
      "144:\tlearn: 1.7046096\ttotal: 2.63s\tremaining: 15.5s\n",
      "145:\tlearn: 1.7032253\ttotal: 2.65s\tremaining: 15.5s\n",
      "146:\tlearn: 1.7014772\ttotal: 2.67s\tremaining: 15.5s\n",
      "147:\tlearn: 1.7005624\ttotal: 2.69s\tremaining: 15.5s\n",
      "148:\tlearn: 1.6975604\ttotal: 2.7s\tremaining: 15.4s\n",
      "149:\tlearn: 1.6967700\ttotal: 2.72s\tremaining: 15.4s\n",
      "150:\tlearn: 1.6951706\ttotal: 2.74s\tremaining: 15.4s\n",
      "151:\tlearn: 1.6930663\ttotal: 2.76s\tremaining: 15.4s\n",
      "152:\tlearn: 1.6923123\ttotal: 2.78s\tremaining: 15.4s\n",
      "153:\tlearn: 1.6892774\ttotal: 2.79s\tremaining: 15.4s\n",
      "154:\tlearn: 1.6883825\ttotal: 2.81s\tremaining: 15.3s\n",
      "155:\tlearn: 1.6871750\ttotal: 2.83s\tremaining: 15.3s\n",
      "156:\tlearn: 1.6848386\ttotal: 2.85s\tremaining: 15.3s\n",
      "157:\tlearn: 1.6844175\ttotal: 2.87s\tremaining: 15.3s\n",
      "158:\tlearn: 1.6831493\ttotal: 2.88s\tremaining: 15.3s\n",
      "159:\tlearn: 1.6827935\ttotal: 2.9s\tremaining: 15.2s\n",
      "160:\tlearn: 1.6795790\ttotal: 2.92s\tremaining: 15.2s\n",
      "161:\tlearn: 1.6786889\ttotal: 2.94s\tremaining: 15.2s\n",
      "162:\tlearn: 1.6773690\ttotal: 2.95s\tremaining: 15.2s\n",
      "163:\tlearn: 1.6739117\ttotal: 2.97s\tremaining: 15.1s\n",
      "164:\tlearn: 1.6732171\ttotal: 2.99s\tremaining: 15.1s\n",
      "165:\tlearn: 1.6718337\ttotal: 3s\tremaining: 15.1s\n",
      "166:\tlearn: 1.6705220\ttotal: 3.02s\tremaining: 15.1s\n",
      "167:\tlearn: 1.6701586\ttotal: 3.04s\tremaining: 15.1s\n",
      "168:\tlearn: 1.6681627\ttotal: 3.06s\tremaining: 15s\n",
      "169:\tlearn: 1.6646734\ttotal: 3.07s\tremaining: 15s\n",
      "170:\tlearn: 1.6634992\ttotal: 3.09s\tremaining: 15s\n",
      "171:\tlearn: 1.6612000\ttotal: 3.11s\tremaining: 15s\n",
      "172:\tlearn: 1.6605407\ttotal: 3.13s\tremaining: 14.9s\n",
      "173:\tlearn: 1.6587619\ttotal: 3.14s\tremaining: 14.9s\n",
      "174:\tlearn: 1.6571800\ttotal: 3.16s\tremaining: 14.9s\n",
      "175:\tlearn: 1.6535385\ttotal: 3.18s\tremaining: 14.9s\n",
      "176:\tlearn: 1.6509422\ttotal: 3.2s\tremaining: 14.9s\n",
      "177:\tlearn: 1.6490185\ttotal: 3.22s\tremaining: 14.9s\n",
      "178:\tlearn: 1.6480673\ttotal: 3.24s\tremaining: 14.9s\n",
      "179:\tlearn: 1.6472207\ttotal: 3.26s\tremaining: 14.9s\n",
      "180:\tlearn: 1.6462917\ttotal: 3.28s\tremaining: 14.8s\n",
      "181:\tlearn: 1.6451510\ttotal: 3.3s\tremaining: 14.8s\n",
      "182:\tlearn: 1.6426753\ttotal: 3.31s\tremaining: 14.8s\n",
      "183:\tlearn: 1.6394502\ttotal: 3.33s\tremaining: 14.8s\n",
      "184:\tlearn: 1.6364709\ttotal: 3.35s\tremaining: 14.8s\n",
      "185:\tlearn: 1.6346763\ttotal: 3.37s\tremaining: 14.7s\n",
      "186:\tlearn: 1.6318126\ttotal: 3.39s\tremaining: 14.7s\n",
      "187:\tlearn: 1.6313038\ttotal: 3.4s\tremaining: 14.7s\n",
      "188:\tlearn: 1.6301004\ttotal: 3.42s\tremaining: 14.7s\n",
      "189:\tlearn: 1.6275521\ttotal: 3.44s\tremaining: 14.7s\n",
      "190:\tlearn: 1.6269482\ttotal: 3.46s\tremaining: 14.7s\n",
      "191:\tlearn: 1.6254496\ttotal: 3.48s\tremaining: 14.6s\n",
      "192:\tlearn: 1.6237560\ttotal: 3.49s\tremaining: 14.6s\n",
      "193:\tlearn: 1.6227676\ttotal: 3.51s\tremaining: 14.6s\n",
      "194:\tlearn: 1.6208219\ttotal: 3.52s\tremaining: 14.6s\n",
      "195:\tlearn: 1.6203742\ttotal: 3.54s\tremaining: 14.5s\n",
      "196:\tlearn: 1.6189163\ttotal: 3.56s\tremaining: 14.5s\n",
      "197:\tlearn: 1.6179692\ttotal: 3.58s\tremaining: 14.5s\n",
      "198:\tlearn: 1.6170263\ttotal: 3.59s\tremaining: 14.5s\n",
      "199:\tlearn: 1.6164087\ttotal: 3.61s\tremaining: 14.4s\n",
      "200:\tlearn: 1.6137669\ttotal: 3.62s\tremaining: 14.4s\n",
      "201:\tlearn: 1.6131203\ttotal: 3.64s\tremaining: 14.4s\n",
      "202:\tlearn: 1.6123529\ttotal: 3.66s\tremaining: 14.4s\n",
      "203:\tlearn: 1.6106229\ttotal: 3.67s\tremaining: 14.3s\n",
      "204:\tlearn: 1.6085838\ttotal: 3.69s\tremaining: 14.3s\n",
      "205:\tlearn: 1.6061416\ttotal: 3.71s\tremaining: 14.3s\n",
      "206:\tlearn: 1.6055212\ttotal: 3.73s\tremaining: 14.3s\n",
      "207:\tlearn: 1.6039937\ttotal: 3.75s\tremaining: 14.3s\n",
      "208:\tlearn: 1.6031980\ttotal: 3.77s\tremaining: 14.3s\n",
      "209:\tlearn: 1.6026554\ttotal: 3.79s\tremaining: 14.2s\n",
      "210:\tlearn: 1.6022452\ttotal: 3.8s\tremaining: 14.2s\n",
      "211:\tlearn: 1.6009887\ttotal: 3.82s\tremaining: 14.2s\n",
      "212:\tlearn: 1.6000603\ttotal: 3.84s\tremaining: 14.2s\n",
      "213:\tlearn: 1.5987130\ttotal: 3.86s\tremaining: 14.2s\n",
      "214:\tlearn: 1.5981348\ttotal: 3.87s\tremaining: 14.1s\n",
      "215:\tlearn: 1.5968211\ttotal: 3.89s\tremaining: 14.1s\n",
      "216:\tlearn: 1.5937558\ttotal: 3.91s\tremaining: 14.1s\n",
      "217:\tlearn: 1.5903433\ttotal: 3.93s\tremaining: 14.1s\n",
      "218:\tlearn: 1.5895602\ttotal: 3.94s\tremaining: 14.1s\n",
      "219:\tlearn: 1.5870310\ttotal: 3.96s\tremaining: 14.1s\n",
      "220:\tlearn: 1.5850594\ttotal: 3.98s\tremaining: 14s\n",
      "221:\tlearn: 1.5831337\ttotal: 4s\tremaining: 14s\n",
      "222:\tlearn: 1.5813317\ttotal: 4.02s\tremaining: 14s\n",
      "223:\tlearn: 1.5796593\ttotal: 4.04s\tremaining: 14s\n",
      "224:\tlearn: 1.5791246\ttotal: 4.06s\tremaining: 14s\n",
      "225:\tlearn: 1.5782644\ttotal: 4.07s\tremaining: 13.9s\n",
      "226:\tlearn: 1.5755665\ttotal: 4.09s\tremaining: 13.9s\n",
      "227:\tlearn: 1.5725991\ttotal: 4.11s\tremaining: 13.9s\n",
      "228:\tlearn: 1.5712347\ttotal: 4.12s\tremaining: 13.9s\n",
      "229:\tlearn: 1.5696100\ttotal: 4.14s\tremaining: 13.9s\n",
      "230:\tlearn: 1.5682015\ttotal: 4.16s\tremaining: 13.8s\n",
      "231:\tlearn: 1.5657688\ttotal: 4.17s\tremaining: 13.8s\n",
      "232:\tlearn: 1.5646824\ttotal: 4.19s\tremaining: 13.8s\n",
      "233:\tlearn: 1.5634714\ttotal: 4.21s\tremaining: 13.8s\n",
      "234:\tlearn: 1.5604086\ttotal: 4.22s\tremaining: 13.8s\n",
      "235:\tlearn: 1.5601254\ttotal: 4.24s\tremaining: 13.7s\n",
      "236:\tlearn: 1.5588946\ttotal: 4.26s\tremaining: 13.7s\n",
      "237:\tlearn: 1.5575879\ttotal: 4.28s\tremaining: 13.7s\n",
      "238:\tlearn: 1.5569827\ttotal: 4.29s\tremaining: 13.7s\n",
      "239:\tlearn: 1.5566977\ttotal: 4.31s\tremaining: 13.7s\n",
      "240:\tlearn: 1.5564367\ttotal: 4.33s\tremaining: 13.6s\n",
      "241:\tlearn: 1.5542319\ttotal: 4.35s\tremaining: 13.6s\n",
      "242:\tlearn: 1.5528333\ttotal: 4.36s\tremaining: 13.6s\n",
      "243:\tlearn: 1.5511628\ttotal: 4.39s\tremaining: 13.6s\n",
      "244:\tlearn: 1.5501925\ttotal: 4.4s\tremaining: 13.6s\n",
      "245:\tlearn: 1.5488409\ttotal: 4.42s\tremaining: 13.6s\n",
      "246:\tlearn: 1.5484582\ttotal: 4.44s\tremaining: 13.5s\n",
      "247:\tlearn: 1.5463392\ttotal: 4.46s\tremaining: 13.5s\n",
      "248:\tlearn: 1.5457500\ttotal: 4.47s\tremaining: 13.5s\n",
      "249:\tlearn: 1.5429090\ttotal: 4.49s\tremaining: 13.5s\n",
      "250:\tlearn: 1.5416213\ttotal: 4.51s\tremaining: 13.5s\n",
      "251:\tlearn: 1.5389636\ttotal: 4.53s\tremaining: 13.4s\n",
      "252:\tlearn: 1.5384887\ttotal: 4.55s\tremaining: 13.4s\n",
      "253:\tlearn: 1.5374912\ttotal: 4.56s\tremaining: 13.4s\n",
      "254:\tlearn: 1.5362596\ttotal: 4.58s\tremaining: 13.4s\n",
      "255:\tlearn: 1.5355772\ttotal: 4.6s\tremaining: 13.4s\n",
      "256:\tlearn: 1.5339442\ttotal: 4.62s\tremaining: 13.3s\n",
      "257:\tlearn: 1.5318493\ttotal: 4.63s\tremaining: 13.3s\n",
      "258:\tlearn: 1.5313367\ttotal: 4.65s\tremaining: 13.3s\n",
      "259:\tlearn: 1.5304375\ttotal: 4.67s\tremaining: 13.3s\n",
      "260:\tlearn: 1.5293194\ttotal: 4.68s\tremaining: 13.3s\n",
      "261:\tlearn: 1.5275563\ttotal: 4.7s\tremaining: 13.2s\n",
      "262:\tlearn: 1.5272060\ttotal: 4.72s\tremaining: 13.2s\n",
      "263:\tlearn: 1.5267267\ttotal: 4.73s\tremaining: 13.2s\n",
      "264:\tlearn: 1.5248447\ttotal: 4.75s\tremaining: 13.2s\n",
      "265:\tlearn: 1.5233479\ttotal: 4.77s\tremaining: 13.2s\n",
      "266:\tlearn: 1.5223445\ttotal: 4.78s\tremaining: 13.1s\n",
      "267:\tlearn: 1.5217441\ttotal: 4.8s\tremaining: 13.1s\n",
      "268:\tlearn: 1.5202184\ttotal: 4.82s\tremaining: 13.1s\n",
      "269:\tlearn: 1.5178457\ttotal: 4.83s\tremaining: 13.1s\n",
      "270:\tlearn: 1.5150957\ttotal: 4.85s\tremaining: 13.1s\n",
      "271:\tlearn: 1.5150235\ttotal: 4.86s\tremaining: 13s\n",
      "272:\tlearn: 1.5143033\ttotal: 4.87s\tremaining: 13s\n",
      "273:\tlearn: 1.5131204\ttotal: 4.89s\tremaining: 13s\n",
      "274:\tlearn: 1.5115252\ttotal: 4.91s\tremaining: 12.9s\n",
      "275:\tlearn: 1.5108903\ttotal: 4.93s\tremaining: 12.9s\n",
      "276:\tlearn: 1.5090220\ttotal: 4.95s\tremaining: 12.9s\n",
      "277:\tlearn: 1.5072621\ttotal: 4.96s\tremaining: 12.9s\n",
      "278:\tlearn: 1.5061315\ttotal: 4.98s\tremaining: 12.9s\n",
      "279:\tlearn: 1.5035844\ttotal: 5s\tremaining: 12.9s\n",
      "280:\tlearn: 1.5032389\ttotal: 5.02s\tremaining: 12.8s\n",
      "281:\tlearn: 1.5027750\ttotal: 5.04s\tremaining: 12.8s\n",
      "282:\tlearn: 1.5012227\ttotal: 5.05s\tremaining: 12.8s\n",
      "283:\tlearn: 1.5010814\ttotal: 5.07s\tremaining: 12.8s\n",
      "284:\tlearn: 1.4994394\ttotal: 5.09s\tremaining: 12.8s\n",
      "285:\tlearn: 1.4980778\ttotal: 5.11s\tremaining: 12.8s\n",
      "286:\tlearn: 1.4976157\ttotal: 5.13s\tremaining: 12.7s\n",
      "287:\tlearn: 1.4944658\ttotal: 5.14s\tremaining: 12.7s\n",
      "288:\tlearn: 1.4920652\ttotal: 5.16s\tremaining: 12.7s\n",
      "289:\tlearn: 1.4901425\ttotal: 5.18s\tremaining: 12.7s\n",
      "290:\tlearn: 1.4875007\ttotal: 5.19s\tremaining: 12.7s\n",
      "291:\tlearn: 1.4856403\ttotal: 5.21s\tremaining: 12.6s\n",
      "292:\tlearn: 1.4847877\ttotal: 5.23s\tremaining: 12.6s\n",
      "293:\tlearn: 1.4841785\ttotal: 5.25s\tremaining: 12.6s\n",
      "294:\tlearn: 1.4822458\ttotal: 5.26s\tremaining: 12.6s\n",
      "295:\tlearn: 1.4820689\ttotal: 5.28s\tremaining: 12.6s\n",
      "296:\tlearn: 1.4793497\ttotal: 5.29s\tremaining: 12.5s\n",
      "297:\tlearn: 1.4788737\ttotal: 5.31s\tremaining: 12.5s\n",
      "298:\tlearn: 1.4785342\ttotal: 5.33s\tremaining: 12.5s\n",
      "299:\tlearn: 1.4776151\ttotal: 5.35s\tremaining: 12.5s\n",
      "300:\tlearn: 1.4770869\ttotal: 5.37s\tremaining: 12.5s\n",
      "301:\tlearn: 1.4745703\ttotal: 5.38s\tremaining: 12.4s\n",
      "302:\tlearn: 1.4732962\ttotal: 5.4s\tremaining: 12.4s\n",
      "303:\tlearn: 1.4726104\ttotal: 5.42s\tremaining: 12.4s\n",
      "304:\tlearn: 1.4708055\ttotal: 5.44s\tremaining: 12.4s\n",
      "305:\tlearn: 1.4700226\ttotal: 5.45s\tremaining: 12.4s\n",
      "306:\tlearn: 1.4688103\ttotal: 5.47s\tremaining: 12.3s\n",
      "307:\tlearn: 1.4685936\ttotal: 5.49s\tremaining: 12.3s\n",
      "308:\tlearn: 1.4659187\ttotal: 5.5s\tremaining: 12.3s\n",
      "309:\tlearn: 1.4650922\ttotal: 5.52s\tremaining: 12.3s\n",
      "310:\tlearn: 1.4638302\ttotal: 5.54s\tremaining: 12.3s\n",
      "311:\tlearn: 1.4623130\ttotal: 5.56s\tremaining: 12.3s\n",
      "312:\tlearn: 1.4607154\ttotal: 5.58s\tremaining: 12.2s\n",
      "313:\tlearn: 1.4597876\ttotal: 5.6s\tremaining: 12.2s\n",
      "314:\tlearn: 1.4587397\ttotal: 5.61s\tremaining: 12.2s\n",
      "315:\tlearn: 1.4576044\ttotal: 5.63s\tremaining: 12.2s\n",
      "316:\tlearn: 1.4568426\ttotal: 5.65s\tremaining: 12.2s\n",
      "317:\tlearn: 1.4562126\ttotal: 5.67s\tremaining: 12.2s\n",
      "318:\tlearn: 1.4538345\ttotal: 5.69s\tremaining: 12.1s\n",
      "319:\tlearn: 1.4512097\ttotal: 5.71s\tremaining: 12.1s\n",
      "320:\tlearn: 1.4508392\ttotal: 5.72s\tremaining: 12.1s\n",
      "321:\tlearn: 1.4491687\ttotal: 5.74s\tremaining: 12.1s\n",
      "322:\tlearn: 1.4484428\ttotal: 5.76s\tremaining: 12.1s\n",
      "323:\tlearn: 1.4460924\ttotal: 5.78s\tremaining: 12.1s\n",
      "324:\tlearn: 1.4448119\ttotal: 5.79s\tremaining: 12s\n",
      "325:\tlearn: 1.4443260\ttotal: 5.81s\tremaining: 12s\n",
      "326:\tlearn: 1.4428909\ttotal: 5.83s\tremaining: 12s\n",
      "327:\tlearn: 1.4404700\ttotal: 5.84s\tremaining: 12s\n",
      "328:\tlearn: 1.4382911\ttotal: 5.86s\tremaining: 12s\n",
      "329:\tlearn: 1.4375007\ttotal: 5.88s\tremaining: 11.9s\n",
      "330:\tlearn: 1.4355990\ttotal: 5.89s\tremaining: 11.9s\n",
      "331:\tlearn: 1.4351026\ttotal: 5.91s\tremaining: 11.9s\n",
      "332:\tlearn: 1.4348482\ttotal: 5.93s\tremaining: 11.9s\n",
      "333:\tlearn: 1.4331035\ttotal: 5.95s\tremaining: 11.9s\n",
      "334:\tlearn: 1.4318579\ttotal: 5.96s\tremaining: 11.8s\n",
      "335:\tlearn: 1.4296864\ttotal: 5.98s\tremaining: 11.8s\n",
      "336:\tlearn: 1.4275701\ttotal: 6s\tremaining: 11.8s\n",
      "337:\tlearn: 1.4253052\ttotal: 6.02s\tremaining: 11.8s\n",
      "338:\tlearn: 1.4244931\ttotal: 6.04s\tremaining: 11.8s\n",
      "339:\tlearn: 1.4227552\ttotal: 6.06s\tremaining: 11.8s\n",
      "340:\tlearn: 1.4211286\ttotal: 6.07s\tremaining: 11.7s\n",
      "341:\tlearn: 1.4193551\ttotal: 6.09s\tremaining: 11.7s\n",
      "342:\tlearn: 1.4171457\ttotal: 6.11s\tremaining: 11.7s\n",
      "343:\tlearn: 1.4159512\ttotal: 6.13s\tremaining: 11.7s\n",
      "344:\tlearn: 1.4154763\ttotal: 6.15s\tremaining: 11.7s\n",
      "345:\tlearn: 1.4142369\ttotal: 6.17s\tremaining: 11.7s\n",
      "346:\tlearn: 1.4133862\ttotal: 6.18s\tremaining: 11.6s\n",
      "347:\tlearn: 1.4127851\ttotal: 6.2s\tremaining: 11.6s\n",
      "348:\tlearn: 1.4104996\ttotal: 6.22s\tremaining: 11.6s\n",
      "349:\tlearn: 1.4103307\ttotal: 6.24s\tremaining: 11.6s\n",
      "350:\tlearn: 1.4091356\ttotal: 6.26s\tremaining: 11.6s\n",
      "351:\tlearn: 1.4071375\ttotal: 6.28s\tremaining: 11.6s\n",
      "352:\tlearn: 1.4066049\ttotal: 6.29s\tremaining: 11.5s\n",
      "353:\tlearn: 1.4062109\ttotal: 6.31s\tremaining: 11.5s\n",
      "354:\tlearn: 1.4038740\ttotal: 6.33s\tremaining: 11.5s\n",
      "355:\tlearn: 1.4023334\ttotal: 6.35s\tremaining: 11.5s\n",
      "356:\tlearn: 1.4021734\ttotal: 6.37s\tremaining: 11.5s\n",
      "357:\tlearn: 1.4018904\ttotal: 6.38s\tremaining: 11.4s\n",
      "358:\tlearn: 1.4011424\ttotal: 6.4s\tremaining: 11.4s\n",
      "359:\tlearn: 1.4002213\ttotal: 6.42s\tremaining: 11.4s\n",
      "360:\tlearn: 1.3985261\ttotal: 6.43s\tremaining: 11.4s\n",
      "361:\tlearn: 1.3976133\ttotal: 6.45s\tremaining: 11.4s\n",
      "362:\tlearn: 1.3952250\ttotal: 6.47s\tremaining: 11.3s\n",
      "363:\tlearn: 1.3941903\ttotal: 6.49s\tremaining: 11.3s\n",
      "364:\tlearn: 1.3928992\ttotal: 6.5s\tremaining: 11.3s\n",
      "365:\tlearn: 1.3910946\ttotal: 6.52s\tremaining: 11.3s\n",
      "366:\tlearn: 1.3892564\ttotal: 6.54s\tremaining: 11.3s\n",
      "367:\tlearn: 1.3890881\ttotal: 6.55s\tremaining: 11.3s\n",
      "368:\tlearn: 1.3875910\ttotal: 6.57s\tremaining: 11.2s\n",
      "369:\tlearn: 1.3869025\ttotal: 6.59s\tremaining: 11.2s\n",
      "370:\tlearn: 1.3850085\ttotal: 6.61s\tremaining: 11.2s\n",
      "371:\tlearn: 1.3830842\ttotal: 6.62s\tremaining: 11.2s\n",
      "372:\tlearn: 1.3825087\ttotal: 6.64s\tremaining: 11.2s\n",
      "373:\tlearn: 1.3814494\ttotal: 6.66s\tremaining: 11.1s\n",
      "374:\tlearn: 1.3811523\ttotal: 6.67s\tremaining: 11.1s\n",
      "375:\tlearn: 1.3794069\ttotal: 6.69s\tremaining: 11.1s\n",
      "376:\tlearn: 1.3783859\ttotal: 6.71s\tremaining: 11.1s\n",
      "377:\tlearn: 1.3761488\ttotal: 6.73s\tremaining: 11.1s\n",
      "378:\tlearn: 1.3754250\ttotal: 6.75s\tremaining: 11.1s\n",
      "379:\tlearn: 1.3732151\ttotal: 6.76s\tremaining: 11s\n",
      "380:\tlearn: 1.3719355\ttotal: 6.78s\tremaining: 11s\n",
      "381:\tlearn: 1.3703636\ttotal: 6.8s\tremaining: 11s\n",
      "382:\tlearn: 1.3689601\ttotal: 6.82s\tremaining: 11s\n",
      "383:\tlearn: 1.3685737\ttotal: 6.84s\tremaining: 11s\n",
      "384:\tlearn: 1.3674789\ttotal: 6.86s\tremaining: 11s\n",
      "385:\tlearn: 1.3660242\ttotal: 6.87s\tremaining: 10.9s\n",
      "386:\tlearn: 1.3651200\ttotal: 6.89s\tremaining: 10.9s\n",
      "387:\tlearn: 1.3627367\ttotal: 6.91s\tremaining: 10.9s\n",
      "388:\tlearn: 1.3616795\ttotal: 6.93s\tremaining: 10.9s\n",
      "389:\tlearn: 1.3600881\ttotal: 6.95s\tremaining: 10.9s\n",
      "390:\tlearn: 1.3586462\ttotal: 6.96s\tremaining: 10.8s\n",
      "391:\tlearn: 1.3568709\ttotal: 6.98s\tremaining: 10.8s\n",
      "392:\tlearn: 1.3564366\ttotal: 7s\tremaining: 10.8s\n",
      "393:\tlearn: 1.3547573\ttotal: 7.01s\tremaining: 10.8s\n",
      "394:\tlearn: 1.3540662\ttotal: 7.03s\tremaining: 10.8s\n",
      "395:\tlearn: 1.3515896\ttotal: 7.05s\tremaining: 10.8s\n",
      "396:\tlearn: 1.3512801\ttotal: 7.07s\tremaining: 10.7s\n",
      "397:\tlearn: 1.3494230\ttotal: 7.08s\tremaining: 10.7s\n",
      "398:\tlearn: 1.3476725\ttotal: 7.1s\tremaining: 10.7s\n",
      "399:\tlearn: 1.3457584\ttotal: 7.12s\tremaining: 10.7s\n",
      "400:\tlearn: 1.3451145\ttotal: 7.13s\tremaining: 10.7s\n",
      "401:\tlearn: 1.3442526\ttotal: 7.15s\tremaining: 10.6s\n",
      "402:\tlearn: 1.3440703\ttotal: 7.17s\tremaining: 10.6s\n",
      "403:\tlearn: 1.3436571\ttotal: 7.19s\tremaining: 10.6s\n",
      "404:\tlearn: 1.3422991\ttotal: 7.2s\tremaining: 10.6s\n",
      "405:\tlearn: 1.3415712\ttotal: 7.22s\tremaining: 10.6s\n",
      "406:\tlearn: 1.3399629\ttotal: 7.24s\tremaining: 10.5s\n",
      "407:\tlearn: 1.3392885\ttotal: 7.25s\tremaining: 10.5s\n",
      "408:\tlearn: 1.3370329\ttotal: 7.27s\tremaining: 10.5s\n",
      "409:\tlearn: 1.3361818\ttotal: 7.29s\tremaining: 10.5s\n",
      "410:\tlearn: 1.3356137\ttotal: 7.31s\tremaining: 10.5s\n",
      "411:\tlearn: 1.3346839\ttotal: 7.33s\tremaining: 10.5s\n",
      "412:\tlearn: 1.3326110\ttotal: 7.35s\tremaining: 10.4s\n",
      "413:\tlearn: 1.3319049\ttotal: 7.36s\tremaining: 10.4s\n",
      "414:\tlearn: 1.3311858\ttotal: 7.38s\tremaining: 10.4s\n",
      "415:\tlearn: 1.3308588\ttotal: 7.4s\tremaining: 10.4s\n",
      "416:\tlearn: 1.3288696\ttotal: 7.42s\tremaining: 10.4s\n",
      "417:\tlearn: 1.3276654\ttotal: 7.43s\tremaining: 10.4s\n",
      "418:\tlearn: 1.3266917\ttotal: 7.45s\tremaining: 10.3s\n",
      "419:\tlearn: 1.3262800\ttotal: 7.47s\tremaining: 10.3s\n",
      "420:\tlearn: 1.3260620\ttotal: 7.49s\tremaining: 10.3s\n",
      "421:\tlearn: 1.3242199\ttotal: 7.51s\tremaining: 10.3s\n",
      "422:\tlearn: 1.3237333\ttotal: 7.52s\tremaining: 10.3s\n",
      "423:\tlearn: 1.3217566\ttotal: 7.54s\tremaining: 10.2s\n",
      "424:\tlearn: 1.3208514\ttotal: 7.56s\tremaining: 10.2s\n",
      "425:\tlearn: 1.3204507\ttotal: 7.58s\tremaining: 10.2s\n",
      "426:\tlearn: 1.3200664\ttotal: 7.6s\tremaining: 10.2s\n",
      "427:\tlearn: 1.3197112\ttotal: 7.61s\tremaining: 10.2s\n",
      "428:\tlearn: 1.3176844\ttotal: 7.63s\tremaining: 10.2s\n",
      "429:\tlearn: 1.3158446\ttotal: 7.64s\tremaining: 10.1s\n",
      "430:\tlearn: 1.3134928\ttotal: 7.66s\tremaining: 10.1s\n",
      "431:\tlearn: 1.3116095\ttotal: 7.68s\tremaining: 10.1s\n",
      "432:\tlearn: 1.3093503\ttotal: 7.7s\tremaining: 10.1s\n",
      "433:\tlearn: 1.3088508\ttotal: 7.71s\tremaining: 10.1s\n",
      "434:\tlearn: 1.3071462\ttotal: 7.73s\tremaining: 10s\n",
      "435:\tlearn: 1.3060049\ttotal: 7.75s\tremaining: 10s\n",
      "436:\tlearn: 1.3056092\ttotal: 7.76s\tremaining: 10s\n",
      "437:\tlearn: 1.3041897\ttotal: 7.78s\tremaining: 9.98s\n",
      "438:\tlearn: 1.3029115\ttotal: 7.8s\tremaining: 9.96s\n",
      "439:\tlearn: 1.3007551\ttotal: 7.81s\tremaining: 9.95s\n",
      "440:\tlearn: 1.2986749\ttotal: 7.83s\tremaining: 9.93s\n",
      "441:\tlearn: 1.2983935\ttotal: 7.85s\tremaining: 9.91s\n",
      "442:\tlearn: 1.2980088\ttotal: 7.87s\tremaining: 9.89s\n",
      "443:\tlearn: 1.2962117\ttotal: 7.88s\tremaining: 9.87s\n",
      "444:\tlearn: 1.2938092\ttotal: 7.9s\tremaining: 9.86s\n",
      "445:\tlearn: 1.2935349\ttotal: 7.92s\tremaining: 9.84s\n",
      "446:\tlearn: 1.2918024\ttotal: 7.94s\tremaining: 9.82s\n",
      "447:\tlearn: 1.2905635\ttotal: 7.96s\tremaining: 9.8s\n",
      "448:\tlearn: 1.2898104\ttotal: 7.97s\tremaining: 9.79s\n",
      "449:\tlearn: 1.2895129\ttotal: 7.99s\tremaining: 9.77s\n",
      "450:\tlearn: 1.2880917\ttotal: 8.01s\tremaining: 9.75s\n",
      "451:\tlearn: 1.2872894\ttotal: 8.03s\tremaining: 9.73s\n",
      "452:\tlearn: 1.2853543\ttotal: 8.04s\tremaining: 9.71s\n",
      "453:\tlearn: 1.2843726\ttotal: 8.06s\tremaining: 9.7s\n",
      "454:\tlearn: 1.2839575\ttotal: 8.08s\tremaining: 9.68s\n",
      "455:\tlearn: 1.2828247\ttotal: 8.1s\tremaining: 9.66s\n",
      "456:\tlearn: 1.2819859\ttotal: 8.12s\tremaining: 9.64s\n",
      "457:\tlearn: 1.2810483\ttotal: 8.13s\tremaining: 9.63s\n",
      "458:\tlearn: 1.2806367\ttotal: 8.15s\tremaining: 9.61s\n",
      "459:\tlearn: 1.2798345\ttotal: 8.17s\tremaining: 9.59s\n",
      "460:\tlearn: 1.2786861\ttotal: 8.19s\tremaining: 9.57s\n",
      "461:\tlearn: 1.2783264\ttotal: 8.21s\tremaining: 9.56s\n",
      "462:\tlearn: 1.2765565\ttotal: 8.22s\tremaining: 9.54s\n",
      "463:\tlearn: 1.2764237\ttotal: 8.24s\tremaining: 9.52s\n",
      "464:\tlearn: 1.2762791\ttotal: 8.26s\tremaining: 9.5s\n",
      "465:\tlearn: 1.2744945\ttotal: 8.27s\tremaining: 9.48s\n",
      "466:\tlearn: 1.2722851\ttotal: 8.29s\tremaining: 9.46s\n",
      "467:\tlearn: 1.2705470\ttotal: 8.31s\tremaining: 9.44s\n",
      "468:\tlearn: 1.2688715\ttotal: 8.32s\tremaining: 9.42s\n",
      "469:\tlearn: 1.2675896\ttotal: 8.36s\tremaining: 9.42s\n",
      "470:\tlearn: 1.2673645\ttotal: 8.37s\tremaining: 9.4s\n",
      "471:\tlearn: 1.2662978\ttotal: 8.39s\tremaining: 9.38s\n",
      "472:\tlearn: 1.2656372\ttotal: 8.41s\tremaining: 9.37s\n",
      "473:\tlearn: 1.2652636\ttotal: 8.42s\tremaining: 9.35s\n",
      "474:\tlearn: 1.2650342\ttotal: 8.44s\tremaining: 9.33s\n",
      "475:\tlearn: 1.2638306\ttotal: 8.46s\tremaining: 9.31s\n",
      "476:\tlearn: 1.2618299\ttotal: 8.48s\tremaining: 9.29s\n",
      "477:\tlearn: 1.2610809\ttotal: 8.5s\tremaining: 9.28s\n",
      "478:\tlearn: 1.2593614\ttotal: 8.52s\tremaining: 9.26s\n",
      "479:\tlearn: 1.2588977\ttotal: 8.53s\tremaining: 9.24s\n",
      "480:\tlearn: 1.2569283\ttotal: 8.55s\tremaining: 9.23s\n",
      "481:\tlearn: 1.2562861\ttotal: 8.57s\tremaining: 9.21s\n",
      "482:\tlearn: 1.2558401\ttotal: 8.59s\tremaining: 9.2s\n",
      "483:\tlearn: 1.2540340\ttotal: 8.61s\tremaining: 9.18s\n",
      "484:\tlearn: 1.2520006\ttotal: 8.63s\tremaining: 9.16s\n",
      "485:\tlearn: 1.2516261\ttotal: 8.64s\tremaining: 9.14s\n",
      "486:\tlearn: 1.2511658\ttotal: 8.66s\tremaining: 9.13s\n",
      "487:\tlearn: 1.2505067\ttotal: 8.68s\tremaining: 9.11s\n",
      "488:\tlearn: 1.2487155\ttotal: 8.7s\tremaining: 9.09s\n",
      "489:\tlearn: 1.2475796\ttotal: 8.72s\tremaining: 9.08s\n",
      "490:\tlearn: 1.2473066\ttotal: 8.74s\tremaining: 9.06s\n",
      "491:\tlearn: 1.2458023\ttotal: 8.76s\tremaining: 9.04s\n",
      "492:\tlearn: 1.2448695\ttotal: 8.78s\tremaining: 9.02s\n",
      "493:\tlearn: 1.2435045\ttotal: 8.79s\tremaining: 9.01s\n",
      "494:\tlearn: 1.2417524\ttotal: 8.81s\tremaining: 8.99s\n",
      "495:\tlearn: 1.2402449\ttotal: 8.83s\tremaining: 8.97s\n",
      "496:\tlearn: 1.2398818\ttotal: 8.84s\tremaining: 8.95s\n",
      "497:\tlearn: 1.2381081\ttotal: 8.86s\tremaining: 8.93s\n",
      "498:\tlearn: 1.2378157\ttotal: 8.88s\tremaining: 8.91s\n",
      "499:\tlearn: 1.2366421\ttotal: 8.89s\tremaining: 8.89s\n",
      "500:\tlearn: 1.2357591\ttotal: 8.91s\tremaining: 8.88s\n",
      "501:\tlearn: 1.2338530\ttotal: 8.93s\tremaining: 8.86s\n",
      "502:\tlearn: 1.2334752\ttotal: 8.95s\tremaining: 8.84s\n",
      "503:\tlearn: 1.2318034\ttotal: 8.97s\tremaining: 8.82s\n",
      "504:\tlearn: 1.2316581\ttotal: 8.99s\tremaining: 8.81s\n",
      "505:\tlearn: 1.2308317\ttotal: 9.01s\tremaining: 8.79s\n",
      "506:\tlearn: 1.2292734\ttotal: 9.03s\tremaining: 8.78s\n",
      "507:\tlearn: 1.2280256\ttotal: 9.06s\tremaining: 8.77s\n",
      "508:\tlearn: 1.2276650\ttotal: 9.08s\tremaining: 8.76s\n",
      "509:\tlearn: 1.2268458\ttotal: 9.1s\tremaining: 8.74s\n",
      "510:\tlearn: 1.2255959\ttotal: 9.12s\tremaining: 8.73s\n",
      "511:\tlearn: 1.2239822\ttotal: 9.14s\tremaining: 8.71s\n",
      "512:\tlearn: 1.2226820\ttotal: 9.16s\tremaining: 8.69s\n",
      "513:\tlearn: 1.2222190\ttotal: 9.17s\tremaining: 8.67s\n",
      "514:\tlearn: 1.2219329\ttotal: 9.19s\tremaining: 8.66s\n",
      "515:\tlearn: 1.2208637\ttotal: 9.21s\tremaining: 8.64s\n",
      "516:\tlearn: 1.2194685\ttotal: 9.23s\tremaining: 8.62s\n",
      "517:\tlearn: 1.2187997\ttotal: 9.25s\tremaining: 8.6s\n",
      "518:\tlearn: 1.2179315\ttotal: 9.27s\tremaining: 8.59s\n",
      "519:\tlearn: 1.2168349\ttotal: 9.28s\tremaining: 8.57s\n",
      "520:\tlearn: 1.2164881\ttotal: 9.3s\tremaining: 8.55s\n",
      "521:\tlearn: 1.2159649\ttotal: 9.32s\tremaining: 8.53s\n",
      "522:\tlearn: 1.2150910\ttotal: 9.34s\tremaining: 8.52s\n",
      "523:\tlearn: 1.2143024\ttotal: 9.36s\tremaining: 8.5s\n",
      "524:\tlearn: 1.2134986\ttotal: 9.37s\tremaining: 8.48s\n",
      "525:\tlearn: 1.2116104\ttotal: 9.39s\tremaining: 8.46s\n",
      "526:\tlearn: 1.2102262\ttotal: 9.41s\tremaining: 8.45s\n",
      "527:\tlearn: 1.2096233\ttotal: 9.43s\tremaining: 8.43s\n",
      "528:\tlearn: 1.2090214\ttotal: 9.44s\tremaining: 8.41s\n",
      "529:\tlearn: 1.2083251\ttotal: 9.46s\tremaining: 8.39s\n",
      "530:\tlearn: 1.2065400\ttotal: 9.48s\tremaining: 8.37s\n",
      "531:\tlearn: 1.2052724\ttotal: 9.49s\tremaining: 8.35s\n",
      "532:\tlearn: 1.2042447\ttotal: 9.51s\tremaining: 8.33s\n",
      "533:\tlearn: 1.2023732\ttotal: 9.53s\tremaining: 8.31s\n",
      "534:\tlearn: 1.2021874\ttotal: 9.54s\tremaining: 8.3s\n",
      "535:\tlearn: 1.2019274\ttotal: 9.56s\tremaining: 8.28s\n",
      "536:\tlearn: 1.2012292\ttotal: 9.58s\tremaining: 8.26s\n",
      "537:\tlearn: 1.2001815\ttotal: 9.6s\tremaining: 8.24s\n",
      "538:\tlearn: 1.1984818\ttotal: 9.61s\tremaining: 8.22s\n",
      "539:\tlearn: 1.1975464\ttotal: 9.63s\tremaining: 8.21s\n",
      "540:\tlearn: 1.1965484\ttotal: 9.65s\tremaining: 8.19s\n",
      "541:\tlearn: 1.1956290\ttotal: 9.67s\tremaining: 8.17s\n",
      "542:\tlearn: 1.1941113\ttotal: 9.69s\tremaining: 8.15s\n",
      "543:\tlearn: 1.1931545\ttotal: 9.71s\tremaining: 8.14s\n",
      "544:\tlearn: 1.1927141\ttotal: 9.73s\tremaining: 8.12s\n",
      "545:\tlearn: 1.1919456\ttotal: 9.74s\tremaining: 8.1s\n",
      "546:\tlearn: 1.1918684\ttotal: 9.75s\tremaining: 8.08s\n",
      "547:\tlearn: 1.1903718\ttotal: 9.77s\tremaining: 8.06s\n",
      "548:\tlearn: 1.1901679\ttotal: 9.79s\tremaining: 8.04s\n",
      "549:\tlearn: 1.1884106\ttotal: 9.81s\tremaining: 8.02s\n",
      "550:\tlearn: 1.1864576\ttotal: 9.82s\tremaining: 8.01s\n",
      "551:\tlearn: 1.1855608\ttotal: 9.85s\tremaining: 7.99s\n",
      "552:\tlearn: 1.1853792\ttotal: 9.86s\tremaining: 7.97s\n",
      "553:\tlearn: 1.1845992\ttotal: 9.88s\tremaining: 7.96s\n",
      "554:\tlearn: 1.1833182\ttotal: 9.9s\tremaining: 7.94s\n",
      "555:\tlearn: 1.1825340\ttotal: 9.92s\tremaining: 7.92s\n",
      "556:\tlearn: 1.1822750\ttotal: 9.94s\tremaining: 7.9s\n",
      "557:\tlearn: 1.1809364\ttotal: 9.96s\tremaining: 7.89s\n",
      "558:\tlearn: 1.1797113\ttotal: 9.97s\tremaining: 7.87s\n",
      "559:\tlearn: 1.1787580\ttotal: 9.99s\tremaining: 7.85s\n",
      "560:\tlearn: 1.1775233\ttotal: 10s\tremaining: 7.83s\n",
      "561:\tlearn: 1.1772337\ttotal: 10s\tremaining: 7.82s\n",
      "562:\tlearn: 1.1769363\ttotal: 10s\tremaining: 7.8s\n",
      "563:\tlearn: 1.1764926\ttotal: 10.1s\tremaining: 7.78s\n",
      "564:\tlearn: 1.1751629\ttotal: 10.1s\tremaining: 7.76s\n",
      "565:\tlearn: 1.1736598\ttotal: 10.1s\tremaining: 7.74s\n",
      "566:\tlearn: 1.1724497\ttotal: 10.1s\tremaining: 7.72s\n",
      "567:\tlearn: 1.1719870\ttotal: 10.1s\tremaining: 7.71s\n",
      "568:\tlearn: 1.1705848\ttotal: 10.2s\tremaining: 7.69s\n",
      "569:\tlearn: 1.1699349\ttotal: 10.2s\tremaining: 7.67s\n",
      "570:\tlearn: 1.1681494\ttotal: 10.2s\tremaining: 7.65s\n",
      "571:\tlearn: 1.1662173\ttotal: 10.2s\tremaining: 7.63s\n",
      "572:\tlearn: 1.1658101\ttotal: 10.2s\tremaining: 7.62s\n",
      "573:\tlearn: 1.1654753\ttotal: 10.2s\tremaining: 7.6s\n",
      "574:\tlearn: 1.1645410\ttotal: 10.3s\tremaining: 7.58s\n",
      "575:\tlearn: 1.1630255\ttotal: 10.3s\tremaining: 7.56s\n",
      "576:\tlearn: 1.1613797\ttotal: 10.3s\tremaining: 7.55s\n",
      "577:\tlearn: 1.1600196\ttotal: 10.3s\tremaining: 7.53s\n",
      "578:\tlearn: 1.1588988\ttotal: 10.3s\tremaining: 7.51s\n",
      "579:\tlearn: 1.1582517\ttotal: 10.3s\tremaining: 7.49s\n",
      "580:\tlearn: 1.1578068\ttotal: 10.4s\tremaining: 7.47s\n",
      "581:\tlearn: 1.1558852\ttotal: 10.4s\tremaining: 7.46s\n",
      "582:\tlearn: 1.1542686\ttotal: 10.4s\tremaining: 7.44s\n",
      "583:\tlearn: 1.1534390\ttotal: 10.4s\tremaining: 7.42s\n",
      "584:\tlearn: 1.1521945\ttotal: 10.4s\tremaining: 7.4s\n",
      "585:\tlearn: 1.1506256\ttotal: 10.5s\tremaining: 7.38s\n",
      "586:\tlearn: 1.1490403\ttotal: 10.5s\tremaining: 7.37s\n",
      "587:\tlearn: 1.1488412\ttotal: 10.5s\tremaining: 7.35s\n",
      "588:\tlearn: 1.1472501\ttotal: 10.5s\tremaining: 7.33s\n",
      "589:\tlearn: 1.1456154\ttotal: 10.5s\tremaining: 7.31s\n",
      "590:\tlearn: 1.1454168\ttotal: 10.5s\tremaining: 7.3s\n",
      "591:\tlearn: 1.1449982\ttotal: 10.6s\tremaining: 7.28s\n",
      "592:\tlearn: 1.1436594\ttotal: 10.6s\tremaining: 7.26s\n",
      "593:\tlearn: 1.1430245\ttotal: 10.6s\tremaining: 7.24s\n",
      "594:\tlearn: 1.1423097\ttotal: 10.6s\tremaining: 7.22s\n",
      "595:\tlearn: 1.1409898\ttotal: 10.6s\tremaining: 7.21s\n",
      "596:\tlearn: 1.1407647\ttotal: 10.7s\tremaining: 7.19s\n",
      "597:\tlearn: 1.1400367\ttotal: 10.7s\tremaining: 7.17s\n",
      "598:\tlearn: 1.1392024\ttotal: 10.7s\tremaining: 7.15s\n",
      "599:\tlearn: 1.1382912\ttotal: 10.7s\tremaining: 7.13s\n",
      "600:\tlearn: 1.1370317\ttotal: 10.7s\tremaining: 7.12s\n",
      "601:\tlearn: 1.1361324\ttotal: 10.7s\tremaining: 7.1s\n",
      "602:\tlearn: 1.1355013\ttotal: 10.8s\tremaining: 7.08s\n",
      "603:\tlearn: 1.1342538\ttotal: 10.8s\tremaining: 7.06s\n",
      "604:\tlearn: 1.1327404\ttotal: 10.8s\tremaining: 7.04s\n",
      "605:\tlearn: 1.1312341\ttotal: 10.8s\tremaining: 7.03s\n",
      "606:\tlearn: 1.1307327\ttotal: 10.8s\tremaining: 7.01s\n",
      "607:\tlearn: 1.1296524\ttotal: 10.8s\tremaining: 6.99s\n",
      "608:\tlearn: 1.1280093\ttotal: 10.9s\tremaining: 6.97s\n",
      "609:\tlearn: 1.1267306\ttotal: 10.9s\tremaining: 6.96s\n",
      "610:\tlearn: 1.1258714\ttotal: 10.9s\tremaining: 6.94s\n",
      "611:\tlearn: 1.1253775\ttotal: 10.9s\tremaining: 6.92s\n",
      "612:\tlearn: 1.1241889\ttotal: 10.9s\tremaining: 6.91s\n",
      "613:\tlearn: 1.1239741\ttotal: 11s\tremaining: 6.89s\n",
      "614:\tlearn: 1.1226642\ttotal: 11s\tremaining: 6.87s\n",
      "615:\tlearn: 1.1222479\ttotal: 11s\tremaining: 6.85s\n",
      "616:\tlearn: 1.1208823\ttotal: 11s\tremaining: 6.83s\n",
      "617:\tlearn: 1.1200883\ttotal: 11s\tremaining: 6.82s\n",
      "618:\tlearn: 1.1182918\ttotal: 11s\tremaining: 6.8s\n",
      "619:\tlearn: 1.1180998\ttotal: 11.1s\tremaining: 6.79s\n",
      "620:\tlearn: 1.1173623\ttotal: 11.1s\tremaining: 6.78s\n",
      "621:\tlearn: 1.1167407\ttotal: 11.1s\tremaining: 6.76s\n",
      "622:\tlearn: 1.1153482\ttotal: 11.1s\tremaining: 6.74s\n",
      "623:\tlearn: 1.1137672\ttotal: 11.2s\tremaining: 6.72s\n",
      "624:\tlearn: 1.1128559\ttotal: 11.2s\tremaining: 6.7s\n",
      "625:\tlearn: 1.1115918\ttotal: 11.2s\tremaining: 6.68s\n",
      "626:\tlearn: 1.1104016\ttotal: 11.2s\tremaining: 6.67s\n",
      "627:\tlearn: 1.1095858\ttotal: 11.2s\tremaining: 6.65s\n",
      "628:\tlearn: 1.1085288\ttotal: 11.2s\tremaining: 6.63s\n",
      "629:\tlearn: 1.1078320\ttotal: 11.3s\tremaining: 6.61s\n",
      "630:\tlearn: 1.1062718\ttotal: 11.3s\tremaining: 6.59s\n",
      "631:\tlearn: 1.1058999\ttotal: 11.3s\tremaining: 6.57s\n",
      "632:\tlearn: 1.1054153\ttotal: 11.3s\tremaining: 6.55s\n",
      "633:\tlearn: 1.1051790\ttotal: 11.3s\tremaining: 6.54s\n",
      "634:\tlearn: 1.1044071\ttotal: 11.3s\tremaining: 6.52s\n",
      "635:\tlearn: 1.1040179\ttotal: 11.4s\tremaining: 6.5s\n",
      "636:\tlearn: 1.1025672\ttotal: 11.4s\tremaining: 6.48s\n",
      "637:\tlearn: 1.1011362\ttotal: 11.4s\tremaining: 6.47s\n",
      "638:\tlearn: 1.0998891\ttotal: 11.4s\tremaining: 6.45s\n",
      "639:\tlearn: 1.0983656\ttotal: 11.4s\tremaining: 6.43s\n",
      "640:\tlearn: 1.0970214\ttotal: 11.5s\tremaining: 6.42s\n",
      "641:\tlearn: 1.0958072\ttotal: 11.5s\tremaining: 6.4s\n",
      "642:\tlearn: 1.0955721\ttotal: 11.5s\tremaining: 6.38s\n",
      "643:\tlearn: 1.0954328\ttotal: 11.5s\tremaining: 6.36s\n",
      "644:\tlearn: 1.0948904\ttotal: 11.5s\tremaining: 6.34s\n",
      "645:\tlearn: 1.0947020\ttotal: 11.5s\tremaining: 6.33s\n",
      "646:\tlearn: 1.0933333\ttotal: 11.6s\tremaining: 6.31s\n",
      "647:\tlearn: 1.0923838\ttotal: 11.6s\tremaining: 6.29s\n",
      "648:\tlearn: 1.0914997\ttotal: 11.6s\tremaining: 6.27s\n",
      "649:\tlearn: 1.0901427\ttotal: 11.6s\tremaining: 6.26s\n",
      "650:\tlearn: 1.0900503\ttotal: 11.6s\tremaining: 6.24s\n",
      "651:\tlearn: 1.0897108\ttotal: 11.7s\tremaining: 6.22s\n",
      "652:\tlearn: 1.0885813\ttotal: 11.7s\tremaining: 6.21s\n",
      "653:\tlearn: 1.0873633\ttotal: 11.7s\tremaining: 6.19s\n",
      "654:\tlearn: 1.0858283\ttotal: 11.7s\tremaining: 6.17s\n",
      "655:\tlearn: 1.0849389\ttotal: 11.7s\tremaining: 6.15s\n",
      "656:\tlearn: 1.0845383\ttotal: 11.8s\tremaining: 6.14s\n",
      "657:\tlearn: 1.0840468\ttotal: 11.8s\tremaining: 6.12s\n",
      "658:\tlearn: 1.0835782\ttotal: 11.8s\tremaining: 6.1s\n",
      "659:\tlearn: 1.0821885\ttotal: 11.8s\tremaining: 6.08s\n",
      "660:\tlearn: 1.0820776\ttotal: 11.8s\tremaining: 6.06s\n",
      "661:\tlearn: 1.0808127\ttotal: 11.8s\tremaining: 6.04s\n",
      "662:\tlearn: 1.0802637\ttotal: 11.9s\tremaining: 6.03s\n",
      "663:\tlearn: 1.0793934\ttotal: 11.9s\tremaining: 6.01s\n",
      "664:\tlearn: 1.0780378\ttotal: 11.9s\tremaining: 5.99s\n",
      "665:\tlearn: 1.0769697\ttotal: 11.9s\tremaining: 5.97s\n",
      "666:\tlearn: 1.0755158\ttotal: 11.9s\tremaining: 5.95s\n",
      "667:\tlearn: 1.0749702\ttotal: 11.9s\tremaining: 5.93s\n",
      "668:\tlearn: 1.0746225\ttotal: 12s\tremaining: 5.92s\n",
      "669:\tlearn: 1.0737064\ttotal: 12s\tremaining: 5.9s\n",
      "670:\tlearn: 1.0729526\ttotal: 12s\tremaining: 5.88s\n",
      "671:\tlearn: 1.0726478\ttotal: 12s\tremaining: 5.86s\n",
      "672:\tlearn: 1.0724766\ttotal: 12s\tremaining: 5.84s\n",
      "673:\tlearn: 1.0714244\ttotal: 12s\tremaining: 5.83s\n",
      "674:\tlearn: 1.0707614\ttotal: 12.1s\tremaining: 5.81s\n",
      "675:\tlearn: 1.0693697\ttotal: 12.1s\tremaining: 5.79s\n",
      "676:\tlearn: 1.0680338\ttotal: 12.1s\tremaining: 5.77s\n",
      "677:\tlearn: 1.0675471\ttotal: 12.1s\tremaining: 5.76s\n",
      "678:\tlearn: 1.0668829\ttotal: 12.1s\tremaining: 5.74s\n",
      "679:\tlearn: 1.0654929\ttotal: 12.2s\tremaining: 5.72s\n",
      "680:\tlearn: 1.0647571\ttotal: 12.2s\tremaining: 5.7s\n",
      "681:\tlearn: 1.0640313\ttotal: 12.2s\tremaining: 5.68s\n",
      "682:\tlearn: 1.0629589\ttotal: 12.2s\tremaining: 5.67s\n",
      "683:\tlearn: 1.0625871\ttotal: 12.2s\tremaining: 5.65s\n",
      "684:\tlearn: 1.0612898\ttotal: 12.2s\tremaining: 5.63s\n",
      "685:\tlearn: 1.0604757\ttotal: 12.3s\tremaining: 5.61s\n",
      "686:\tlearn: 1.0594976\ttotal: 12.3s\tremaining: 5.6s\n",
      "687:\tlearn: 1.0581391\ttotal: 12.3s\tremaining: 5.58s\n",
      "688:\tlearn: 1.0580282\ttotal: 12.3s\tremaining: 5.56s\n",
      "689:\tlearn: 1.0566720\ttotal: 12.3s\tremaining: 5.54s\n",
      "690:\tlearn: 1.0564288\ttotal: 12.4s\tremaining: 5.53s\n",
      "691:\tlearn: 1.0549523\ttotal: 12.4s\tremaining: 5.51s\n",
      "692:\tlearn: 1.0537744\ttotal: 12.4s\tremaining: 5.49s\n",
      "693:\tlearn: 1.0534927\ttotal: 12.4s\tremaining: 5.47s\n",
      "694:\tlearn: 1.0529613\ttotal: 12.4s\tremaining: 5.45s\n",
      "695:\tlearn: 1.0527173\ttotal: 12.4s\tremaining: 5.43s\n",
      "696:\tlearn: 1.0520395\ttotal: 12.5s\tremaining: 5.42s\n",
      "697:\tlearn: 1.0515780\ttotal: 12.5s\tremaining: 5.4s\n",
      "698:\tlearn: 1.0511775\ttotal: 12.5s\tremaining: 5.38s\n",
      "699:\tlearn: 1.0499047\ttotal: 12.5s\tremaining: 5.36s\n",
      "700:\tlearn: 1.0490207\ttotal: 12.5s\tremaining: 5.34s\n",
      "701:\tlearn: 1.0474665\ttotal: 12.5s\tremaining: 5.33s\n",
      "702:\tlearn: 1.0463757\ttotal: 12.6s\tremaining: 5.31s\n",
      "703:\tlearn: 1.0458358\ttotal: 12.6s\tremaining: 5.29s\n",
      "704:\tlearn: 1.0453164\ttotal: 12.6s\tremaining: 5.27s\n",
      "705:\tlearn: 1.0438674\ttotal: 12.6s\tremaining: 5.25s\n",
      "706:\tlearn: 1.0437088\ttotal: 12.6s\tremaining: 5.24s\n",
      "707:\tlearn: 1.0435373\ttotal: 12.7s\tremaining: 5.22s\n",
      "708:\tlearn: 1.0429559\ttotal: 12.7s\tremaining: 5.2s\n",
      "709:\tlearn: 1.0427042\ttotal: 12.7s\tremaining: 5.18s\n",
      "710:\tlearn: 1.0412662\ttotal: 12.7s\tremaining: 5.16s\n",
      "711:\tlearn: 1.0398233\ttotal: 12.7s\tremaining: 5.15s\n",
      "712:\tlearn: 1.0393792\ttotal: 12.7s\tremaining: 5.13s\n",
      "713:\tlearn: 1.0384646\ttotal: 12.8s\tremaining: 5.11s\n",
      "714:\tlearn: 1.0380486\ttotal: 12.8s\tremaining: 5.09s\n",
      "715:\tlearn: 1.0368134\ttotal: 12.8s\tremaining: 5.07s\n",
      "716:\tlearn: 1.0367213\ttotal: 12.8s\tremaining: 5.06s\n",
      "717:\tlearn: 1.0365321\ttotal: 12.8s\tremaining: 5.04s\n",
      "718:\tlearn: 1.0351019\ttotal: 12.8s\tremaining: 5.02s\n",
      "719:\tlearn: 1.0341768\ttotal: 12.9s\tremaining: 5s\n",
      "720:\tlearn: 1.0329021\ttotal: 12.9s\tremaining: 4.99s\n",
      "721:\tlearn: 1.0325852\ttotal: 12.9s\tremaining: 4.97s\n",
      "722:\tlearn: 1.0315267\ttotal: 12.9s\tremaining: 4.96s\n",
      "723:\tlearn: 1.0302944\ttotal: 13s\tremaining: 4.94s\n",
      "724:\tlearn: 1.0288213\ttotal: 13s\tremaining: 4.92s\n",
      "725:\tlearn: 1.0281128\ttotal: 13s\tremaining: 4.9s\n",
      "726:\tlearn: 1.0269559\ttotal: 13s\tremaining: 4.88s\n",
      "727:\tlearn: 1.0255864\ttotal: 13s\tremaining: 4.87s\n",
      "728:\tlearn: 1.0253000\ttotal: 13s\tremaining: 4.85s\n",
      "729:\tlearn: 1.0251437\ttotal: 13.1s\tremaining: 4.83s\n",
      "730:\tlearn: 1.0238756\ttotal: 13.1s\tremaining: 4.81s\n",
      "731:\tlearn: 1.0235728\ttotal: 13.1s\tremaining: 4.79s\n",
      "732:\tlearn: 1.0222521\ttotal: 13.1s\tremaining: 4.78s\n",
      "733:\tlearn: 1.0215281\ttotal: 13.1s\tremaining: 4.76s\n",
      "734:\tlearn: 1.0202538\ttotal: 13.1s\tremaining: 4.74s\n",
      "735:\tlearn: 1.0190352\ttotal: 13.2s\tremaining: 4.72s\n",
      "736:\tlearn: 1.0187490\ttotal: 13.2s\tremaining: 4.7s\n",
      "737:\tlearn: 1.0186511\ttotal: 13.2s\tremaining: 4.68s\n",
      "738:\tlearn: 1.0175214\ttotal: 13.2s\tremaining: 4.67s\n",
      "739:\tlearn: 1.0171388\ttotal: 13.2s\tremaining: 4.65s\n",
      "740:\tlearn: 1.0159372\ttotal: 13.2s\tremaining: 4.63s\n",
      "741:\tlearn: 1.0155221\ttotal: 13.3s\tremaining: 4.61s\n",
      "742:\tlearn: 1.0146638\ttotal: 13.3s\tremaining: 4.59s\n",
      "743:\tlearn: 1.0143716\ttotal: 13.3s\tremaining: 4.58s\n",
      "744:\tlearn: 1.0135238\ttotal: 13.3s\tremaining: 4.56s\n",
      "745:\tlearn: 1.0131729\ttotal: 13.3s\tremaining: 4.54s\n",
      "746:\tlearn: 1.0125294\ttotal: 13.4s\tremaining: 4.52s\n",
      "747:\tlearn: 1.0122677\ttotal: 13.4s\tremaining: 4.51s\n",
      "748:\tlearn: 1.0111961\ttotal: 13.4s\tremaining: 4.49s\n",
      "749:\tlearn: 1.0104891\ttotal: 13.4s\tremaining: 4.47s\n",
      "750:\tlearn: 1.0091961\ttotal: 13.4s\tremaining: 4.45s\n",
      "751:\tlearn: 1.0078606\ttotal: 13.4s\tremaining: 4.43s\n",
      "752:\tlearn: 1.0071762\ttotal: 13.5s\tremaining: 4.42s\n",
      "753:\tlearn: 1.0060876\ttotal: 13.5s\tremaining: 4.4s\n",
      "754:\tlearn: 1.0053222\ttotal: 13.5s\tremaining: 4.38s\n",
      "755:\tlearn: 1.0048925\ttotal: 13.5s\tremaining: 4.36s\n",
      "756:\tlearn: 1.0039126\ttotal: 13.5s\tremaining: 4.34s\n",
      "757:\tlearn: 1.0032681\ttotal: 13.6s\tremaining: 4.33s\n",
      "758:\tlearn: 1.0029413\ttotal: 13.6s\tremaining: 4.31s\n",
      "759:\tlearn: 1.0017282\ttotal: 13.6s\tremaining: 4.29s\n",
      "760:\tlearn: 1.0005757\ttotal: 13.6s\tremaining: 4.27s\n",
      "761:\tlearn: 0.9991689\ttotal: 13.6s\tremaining: 4.25s\n",
      "762:\tlearn: 0.9983713\ttotal: 13.6s\tremaining: 4.24s\n",
      "763:\tlearn: 0.9981203\ttotal: 13.7s\tremaining: 4.22s\n",
      "764:\tlearn: 0.9976878\ttotal: 13.7s\tremaining: 4.2s\n",
      "765:\tlearn: 0.9967501\ttotal: 13.7s\tremaining: 4.18s\n",
      "766:\tlearn: 0.9963862\ttotal: 13.7s\tremaining: 4.16s\n",
      "767:\tlearn: 0.9955312\ttotal: 13.7s\tremaining: 4.14s\n",
      "768:\tlearn: 0.9941960\ttotal: 13.7s\tremaining: 4.13s\n",
      "769:\tlearn: 0.9937242\ttotal: 13.8s\tremaining: 4.11s\n",
      "770:\tlearn: 0.9925747\ttotal: 13.8s\tremaining: 4.09s\n",
      "771:\tlearn: 0.9923460\ttotal: 13.8s\tremaining: 4.07s\n",
      "772:\tlearn: 0.9910882\ttotal: 13.8s\tremaining: 4.05s\n",
      "773:\tlearn: 0.9908361\ttotal: 13.8s\tremaining: 4.04s\n",
      "774:\tlearn: 0.9898635\ttotal: 13.8s\tremaining: 4.02s\n",
      "775:\tlearn: 0.9892330\ttotal: 13.9s\tremaining: 4s\n",
      "776:\tlearn: 0.9888273\ttotal: 13.9s\tremaining: 3.98s\n",
      "777:\tlearn: 0.9876547\ttotal: 13.9s\tremaining: 3.96s\n",
      "778:\tlearn: 0.9867214\ttotal: 13.9s\tremaining: 3.95s\n",
      "779:\tlearn: 0.9858402\ttotal: 13.9s\tremaining: 3.93s\n",
      "780:\tlearn: 0.9847109\ttotal: 14s\tremaining: 3.91s\n",
      "781:\tlearn: 0.9844316\ttotal: 14s\tremaining: 3.9s\n",
      "782:\tlearn: 0.9838702\ttotal: 14s\tremaining: 3.88s\n",
      "783:\tlearn: 0.9832908\ttotal: 14s\tremaining: 3.86s\n",
      "784:\tlearn: 0.9825926\ttotal: 14s\tremaining: 3.84s\n",
      "785:\tlearn: 0.9814834\ttotal: 14s\tremaining: 3.82s\n",
      "786:\tlearn: 0.9805123\ttotal: 14.1s\tremaining: 3.81s\n",
      "787:\tlearn: 0.9799605\ttotal: 14.1s\tremaining: 3.79s\n",
      "788:\tlearn: 0.9787091\ttotal: 14.1s\tremaining: 3.77s\n",
      "789:\tlearn: 0.9774544\ttotal: 14.1s\tremaining: 3.75s\n",
      "790:\tlearn: 0.9759776\ttotal: 14.1s\tremaining: 3.73s\n",
      "791:\tlearn: 0.9757978\ttotal: 14.2s\tremaining: 3.72s\n",
      "792:\tlearn: 0.9751141\ttotal: 14.2s\tremaining: 3.7s\n",
      "793:\tlearn: 0.9737680\ttotal: 14.2s\tremaining: 3.68s\n",
      "794:\tlearn: 0.9726763\ttotal: 14.2s\tremaining: 3.66s\n",
      "795:\tlearn: 0.9723418\ttotal: 14.2s\tremaining: 3.65s\n",
      "796:\tlearn: 0.9718846\ttotal: 14.2s\tremaining: 3.63s\n",
      "797:\tlearn: 0.9716812\ttotal: 14.3s\tremaining: 3.61s\n",
      "798:\tlearn: 0.9715864\ttotal: 14.3s\tremaining: 3.59s\n",
      "799:\tlearn: 0.9707433\ttotal: 14.3s\tremaining: 3.57s\n",
      "800:\tlearn: 0.9701215\ttotal: 14.3s\tremaining: 3.56s\n",
      "801:\tlearn: 0.9688558\ttotal: 14.3s\tremaining: 3.54s\n",
      "802:\tlearn: 0.9676691\ttotal: 14.3s\tremaining: 3.52s\n",
      "803:\tlearn: 0.9674381\ttotal: 14.4s\tremaining: 3.5s\n",
      "804:\tlearn: 0.9667044\ttotal: 14.4s\tremaining: 3.48s\n",
      "805:\tlearn: 0.9659681\ttotal: 14.4s\tremaining: 3.46s\n",
      "806:\tlearn: 0.9650256\ttotal: 14.4s\tremaining: 3.45s\n",
      "807:\tlearn: 0.9638457\ttotal: 14.4s\tremaining: 3.43s\n",
      "808:\tlearn: 0.9636474\ttotal: 14.5s\tremaining: 3.41s\n",
      "809:\tlearn: 0.9624101\ttotal: 14.5s\tremaining: 3.4s\n",
      "810:\tlearn: 0.9616666\ttotal: 14.5s\tremaining: 3.38s\n",
      "811:\tlearn: 0.9610006\ttotal: 14.5s\tremaining: 3.36s\n",
      "812:\tlearn: 0.9608874\ttotal: 14.5s\tremaining: 3.34s\n",
      "813:\tlearn: 0.9606691\ttotal: 14.5s\tremaining: 3.32s\n",
      "814:\tlearn: 0.9596886\ttotal: 14.6s\tremaining: 3.31s\n",
      "815:\tlearn: 0.9590587\ttotal: 14.6s\tremaining: 3.29s\n",
      "816:\tlearn: 0.9587374\ttotal: 14.6s\tremaining: 3.27s\n",
      "817:\tlearn: 0.9585313\ttotal: 14.6s\tremaining: 3.25s\n",
      "818:\tlearn: 0.9572562\ttotal: 14.6s\tremaining: 3.24s\n",
      "819:\tlearn: 0.9564925\ttotal: 14.7s\tremaining: 3.22s\n",
      "820:\tlearn: 0.9560445\ttotal: 14.7s\tremaining: 3.2s\n",
      "821:\tlearn: 0.9547857\ttotal: 14.7s\tremaining: 3.18s\n",
      "822:\tlearn: 0.9537016\ttotal: 14.7s\tremaining: 3.17s\n",
      "823:\tlearn: 0.9525249\ttotal: 14.7s\tremaining: 3.15s\n",
      "824:\tlearn: 0.9523981\ttotal: 14.8s\tremaining: 3.13s\n",
      "825:\tlearn: 0.9519277\ttotal: 14.8s\tremaining: 3.11s\n",
      "826:\tlearn: 0.9510940\ttotal: 14.8s\tremaining: 3.09s\n",
      "827:\tlearn: 0.9497538\ttotal: 14.8s\tremaining: 3.08s\n",
      "828:\tlearn: 0.9493391\ttotal: 14.8s\tremaining: 3.06s\n",
      "829:\tlearn: 0.9486547\ttotal: 14.8s\tremaining: 3.04s\n",
      "830:\tlearn: 0.9477293\ttotal: 14.9s\tremaining: 3.02s\n",
      "831:\tlearn: 0.9466938\ttotal: 14.9s\tremaining: 3s\n",
      "832:\tlearn: 0.9454982\ttotal: 14.9s\tremaining: 2.99s\n",
      "833:\tlearn: 0.9453595\ttotal: 14.9s\tremaining: 2.97s\n",
      "834:\tlearn: 0.9438355\ttotal: 14.9s\tremaining: 2.95s\n",
      "835:\tlearn: 0.9430287\ttotal: 15s\tremaining: 2.93s\n",
      "836:\tlearn: 0.9422930\ttotal: 15s\tremaining: 2.92s\n",
      "837:\tlearn: 0.9414854\ttotal: 15s\tremaining: 2.9s\n",
      "838:\tlearn: 0.9411698\ttotal: 15s\tremaining: 2.88s\n",
      "839:\tlearn: 0.9399159\ttotal: 15s\tremaining: 2.86s\n",
      "840:\tlearn: 0.9389826\ttotal: 15s\tremaining: 2.85s\n",
      "841:\tlearn: 0.9376390\ttotal: 15.1s\tremaining: 2.83s\n",
      "842:\tlearn: 0.9373156\ttotal: 15.1s\tremaining: 2.81s\n",
      "843:\tlearn: 0.9366354\ttotal: 15.1s\tremaining: 2.79s\n",
      "844:\tlearn: 0.9362079\ttotal: 15.1s\tremaining: 2.77s\n",
      "845:\tlearn: 0.9357779\ttotal: 15.1s\tremaining: 2.76s\n",
      "846:\tlearn: 0.9344072\ttotal: 15.2s\tremaining: 2.74s\n",
      "847:\tlearn: 0.9342219\ttotal: 15.2s\tremaining: 2.72s\n",
      "848:\tlearn: 0.9335280\ttotal: 15.2s\tremaining: 2.7s\n",
      "849:\tlearn: 0.9328615\ttotal: 15.2s\tremaining: 2.68s\n",
      "850:\tlearn: 0.9323934\ttotal: 15.2s\tremaining: 2.67s\n",
      "851:\tlearn: 0.9310088\ttotal: 15.2s\tremaining: 2.65s\n",
      "852:\tlearn: 0.9299265\ttotal: 15.3s\tremaining: 2.63s\n",
      "853:\tlearn: 0.9292110\ttotal: 15.3s\tremaining: 2.61s\n",
      "854:\tlearn: 0.9281217\ttotal: 15.3s\tremaining: 2.6s\n",
      "855:\tlearn: 0.9275543\ttotal: 15.3s\tremaining: 2.58s\n",
      "856:\tlearn: 0.9264924\ttotal: 15.3s\tremaining: 2.56s\n",
      "857:\tlearn: 0.9260278\ttotal: 15.4s\tremaining: 2.54s\n",
      "858:\tlearn: 0.9250948\ttotal: 15.4s\tremaining: 2.52s\n",
      "859:\tlearn: 0.9241597\ttotal: 15.4s\tremaining: 2.51s\n",
      "860:\tlearn: 0.9232576\ttotal: 15.4s\tremaining: 2.49s\n",
      "861:\tlearn: 0.9224617\ttotal: 15.4s\tremaining: 2.47s\n",
      "862:\tlearn: 0.9219794\ttotal: 15.5s\tremaining: 2.45s\n",
      "863:\tlearn: 0.9217755\ttotal: 15.5s\tremaining: 2.44s\n",
      "864:\tlearn: 0.9209700\ttotal: 15.5s\tremaining: 2.42s\n",
      "865:\tlearn: 0.9208402\ttotal: 15.5s\tremaining: 2.4s\n",
      "866:\tlearn: 0.9205293\ttotal: 15.5s\tremaining: 2.38s\n",
      "867:\tlearn: 0.9202823\ttotal: 15.5s\tremaining: 2.36s\n",
      "868:\tlearn: 0.9193006\ttotal: 15.6s\tremaining: 2.35s\n",
      "869:\tlearn: 0.9184013\ttotal: 15.6s\tremaining: 2.33s\n",
      "870:\tlearn: 0.9175143\ttotal: 15.6s\tremaining: 2.31s\n",
      "871:\tlearn: 0.9170407\ttotal: 15.6s\tremaining: 2.29s\n",
      "872:\tlearn: 0.9161549\ttotal: 15.6s\tremaining: 2.27s\n",
      "873:\tlearn: 0.9154238\ttotal: 15.7s\tremaining: 2.26s\n",
      "874:\tlearn: 0.9145698\ttotal: 15.7s\tremaining: 2.24s\n",
      "875:\tlearn: 0.9143425\ttotal: 15.7s\tremaining: 2.22s\n",
      "876:\tlearn: 0.9141826\ttotal: 15.7s\tremaining: 2.2s\n",
      "877:\tlearn: 0.9132630\ttotal: 15.7s\tremaining: 2.19s\n",
      "878:\tlearn: 0.9130056\ttotal: 15.8s\tremaining: 2.17s\n",
      "879:\tlearn: 0.9127362\ttotal: 15.8s\tremaining: 2.15s\n",
      "880:\tlearn: 0.9120159\ttotal: 15.8s\tremaining: 2.13s\n",
      "881:\tlearn: 0.9117831\ttotal: 15.8s\tremaining: 2.12s\n",
      "882:\tlearn: 0.9107394\ttotal: 15.8s\tremaining: 2.1s\n",
      "883:\tlearn: 0.9101893\ttotal: 15.9s\tremaining: 2.08s\n",
      "884:\tlearn: 0.9096088\ttotal: 15.9s\tremaining: 2.06s\n",
      "885:\tlearn: 0.9093763\ttotal: 15.9s\tremaining: 2.04s\n",
      "886:\tlearn: 0.9083556\ttotal: 15.9s\tremaining: 2.03s\n",
      "887:\tlearn: 0.9073615\ttotal: 15.9s\tremaining: 2.01s\n",
      "888:\tlearn: 0.9059953\ttotal: 15.9s\tremaining: 1.99s\n",
      "889:\tlearn: 0.9052094\ttotal: 16s\tremaining: 1.97s\n",
      "890:\tlearn: 0.9047250\ttotal: 16s\tremaining: 1.95s\n",
      "891:\tlearn: 0.9035239\ttotal: 16s\tremaining: 1.94s\n",
      "892:\tlearn: 0.9029132\ttotal: 16s\tremaining: 1.92s\n",
      "893:\tlearn: 0.9020698\ttotal: 16s\tremaining: 1.9s\n",
      "894:\tlearn: 0.9008901\ttotal: 16.1s\tremaining: 1.88s\n",
      "895:\tlearn: 0.9005211\ttotal: 16.1s\tremaining: 1.86s\n",
      "896:\tlearn: 0.8995514\ttotal: 16.1s\tremaining: 1.85s\n",
      "897:\tlearn: 0.8994523\ttotal: 16.1s\tremaining: 1.83s\n",
      "898:\tlearn: 0.8987914\ttotal: 16.1s\tremaining: 1.81s\n",
      "899:\tlearn: 0.8980427\ttotal: 16.1s\tremaining: 1.79s\n",
      "900:\tlearn: 0.8971341\ttotal: 16.2s\tremaining: 1.78s\n",
      "901:\tlearn: 0.8960560\ttotal: 16.2s\tremaining: 1.76s\n",
      "902:\tlearn: 0.8948564\ttotal: 16.2s\tremaining: 1.74s\n",
      "903:\tlearn: 0.8942735\ttotal: 16.2s\tremaining: 1.72s\n",
      "904:\tlearn: 0.8930730\ttotal: 16.2s\tremaining: 1.71s\n",
      "905:\tlearn: 0.8924213\ttotal: 16.3s\tremaining: 1.69s\n",
      "906:\tlearn: 0.8913682\ttotal: 16.3s\tremaining: 1.67s\n",
      "907:\tlearn: 0.8908360\ttotal: 16.3s\tremaining: 1.65s\n",
      "908:\tlearn: 0.8900493\ttotal: 16.3s\tremaining: 1.63s\n",
      "909:\tlearn: 0.8887654\ttotal: 16.3s\tremaining: 1.62s\n",
      "910:\tlearn: 0.8877475\ttotal: 16.4s\tremaining: 1.6s\n",
      "911:\tlearn: 0.8867832\ttotal: 16.4s\tremaining: 1.58s\n",
      "912:\tlearn: 0.8864631\ttotal: 16.4s\tremaining: 1.56s\n",
      "913:\tlearn: 0.8852471\ttotal: 16.4s\tremaining: 1.54s\n",
      "914:\tlearn: 0.8845491\ttotal: 16.4s\tremaining: 1.53s\n",
      "915:\tlearn: 0.8843988\ttotal: 16.4s\tremaining: 1.51s\n",
      "916:\tlearn: 0.8833380\ttotal: 16.5s\tremaining: 1.49s\n",
      "917:\tlearn: 0.8824768\ttotal: 16.5s\tremaining: 1.47s\n",
      "918:\tlearn: 0.8823291\ttotal: 16.5s\tremaining: 1.45s\n",
      "919:\tlearn: 0.8820097\ttotal: 16.5s\tremaining: 1.44s\n",
      "920:\tlearn: 0.8818837\ttotal: 16.5s\tremaining: 1.42s\n",
      "921:\tlearn: 0.8814507\ttotal: 16.6s\tremaining: 1.4s\n",
      "922:\tlearn: 0.8812242\ttotal: 16.6s\tremaining: 1.38s\n",
      "923:\tlearn: 0.8801020\ttotal: 16.6s\tremaining: 1.36s\n",
      "924:\tlearn: 0.8796330\ttotal: 16.6s\tremaining: 1.35s\n",
      "925:\tlearn: 0.8783372\ttotal: 16.6s\tremaining: 1.33s\n",
      "926:\tlearn: 0.8782279\ttotal: 16.6s\tremaining: 1.31s\n",
      "927:\tlearn: 0.8773127\ttotal: 16.7s\tremaining: 1.29s\n",
      "928:\tlearn: 0.8769011\ttotal: 16.7s\tremaining: 1.27s\n",
      "929:\tlearn: 0.8757776\ttotal: 16.7s\tremaining: 1.26s\n",
      "930:\tlearn: 0.8744949\ttotal: 16.7s\tremaining: 1.24s\n",
      "931:\tlearn: 0.8740141\ttotal: 16.7s\tremaining: 1.22s\n",
      "932:\tlearn: 0.8730732\ttotal: 16.8s\tremaining: 1.2s\n",
      "933:\tlearn: 0.8723796\ttotal: 16.8s\tremaining: 1.19s\n",
      "934:\tlearn: 0.8719254\ttotal: 16.8s\tremaining: 1.17s\n",
      "935:\tlearn: 0.8715402\ttotal: 16.8s\tremaining: 1.15s\n",
      "936:\tlearn: 0.8704579\ttotal: 16.8s\tremaining: 1.13s\n",
      "937:\tlearn: 0.8695756\ttotal: 16.9s\tremaining: 1.11s\n",
      "938:\tlearn: 0.8687706\ttotal: 16.9s\tremaining: 1.09s\n",
      "939:\tlearn: 0.8678626\ttotal: 16.9s\tremaining: 1.08s\n",
      "940:\tlearn: 0.8671431\ttotal: 16.9s\tremaining: 1.06s\n",
      "941:\tlearn: 0.8659560\ttotal: 16.9s\tremaining: 1.04s\n",
      "942:\tlearn: 0.8652196\ttotal: 16.9s\tremaining: 1.02s\n",
      "943:\tlearn: 0.8641571\ttotal: 17s\tremaining: 1.01s\n",
      "944:\tlearn: 0.8632081\ttotal: 17s\tremaining: 988ms\n",
      "945:\tlearn: 0.8626388\ttotal: 17s\tremaining: 970ms\n",
      "946:\tlearn: 0.8625299\ttotal: 17s\tremaining: 952ms\n",
      "947:\tlearn: 0.8614590\ttotal: 17s\tremaining: 934ms\n",
      "948:\tlearn: 0.8610598\ttotal: 17.1s\tremaining: 916ms\n",
      "949:\tlearn: 0.8606018\ttotal: 17.1s\tremaining: 898ms\n",
      "950:\tlearn: 0.8596765\ttotal: 17.1s\tremaining: 880ms\n",
      "951:\tlearn: 0.8583672\ttotal: 17.1s\tremaining: 863ms\n",
      "952:\tlearn: 0.8578293\ttotal: 17.1s\tremaining: 845ms\n",
      "953:\tlearn: 0.8576983\ttotal: 17.1s\tremaining: 827ms\n",
      "954:\tlearn: 0.8565873\ttotal: 17.2s\tremaining: 809ms\n",
      "955:\tlearn: 0.8558815\ttotal: 17.2s\tremaining: 791ms\n",
      "956:\tlearn: 0.8549303\ttotal: 17.2s\tremaining: 773ms\n",
      "957:\tlearn: 0.8540163\ttotal: 17.2s\tremaining: 755ms\n",
      "958:\tlearn: 0.8538321\ttotal: 17.2s\tremaining: 737ms\n",
      "959:\tlearn: 0.8533166\ttotal: 17.3s\tremaining: 719ms\n",
      "960:\tlearn: 0.8524928\ttotal: 17.3s\tremaining: 701ms\n",
      "961:\tlearn: 0.8523174\ttotal: 17.3s\tremaining: 683ms\n",
      "962:\tlearn: 0.8510714\ttotal: 17.3s\tremaining: 665ms\n",
      "963:\tlearn: 0.8499070\ttotal: 17.3s\tremaining: 647ms\n",
      "964:\tlearn: 0.8490536\ttotal: 17.3s\tremaining: 629ms\n",
      "965:\tlearn: 0.8485985\ttotal: 17.4s\tremaining: 611ms\n",
      "966:\tlearn: 0.8474912\ttotal: 17.4s\tremaining: 593ms\n",
      "967:\tlearn: 0.8465187\ttotal: 17.4s\tremaining: 575ms\n",
      "968:\tlearn: 0.8461062\ttotal: 17.4s\tremaining: 557ms\n",
      "969:\tlearn: 0.8451704\ttotal: 17.4s\tremaining: 539ms\n",
      "970:\tlearn: 0.8446742\ttotal: 17.5s\tremaining: 521ms\n",
      "971:\tlearn: 0.8444563\ttotal: 17.5s\tremaining: 503ms\n",
      "972:\tlearn: 0.8434427\ttotal: 17.5s\tremaining: 485ms\n",
      "973:\tlearn: 0.8429486\ttotal: 17.5s\tremaining: 467ms\n",
      "974:\tlearn: 0.8428454\ttotal: 17.5s\tremaining: 449ms\n",
      "975:\tlearn: 0.8419362\ttotal: 17.5s\tremaining: 431ms\n",
      "976:\tlearn: 0.8417457\ttotal: 17.6s\tremaining: 413ms\n",
      "977:\tlearn: 0.8411411\ttotal: 17.6s\tremaining: 396ms\n",
      "978:\tlearn: 0.8408892\ttotal: 17.6s\tremaining: 378ms\n",
      "979:\tlearn: 0.8400165\ttotal: 17.6s\tremaining: 360ms\n",
      "980:\tlearn: 0.8389306\ttotal: 17.6s\tremaining: 342ms\n",
      "981:\tlearn: 0.8383750\ttotal: 17.7s\tremaining: 324ms\n",
      "982:\tlearn: 0.8379492\ttotal: 17.7s\tremaining: 306ms\n",
      "983:\tlearn: 0.8376811\ttotal: 17.7s\tremaining: 288ms\n",
      "984:\tlearn: 0.8366605\ttotal: 17.7s\tremaining: 270ms\n",
      "985:\tlearn: 0.8364834\ttotal: 17.7s\tremaining: 252ms\n",
      "986:\tlearn: 0.8359685\ttotal: 17.7s\tremaining: 234ms\n",
      "987:\tlearn: 0.8358061\ttotal: 17.8s\tremaining: 216ms\n",
      "988:\tlearn: 0.8350581\ttotal: 17.8s\tremaining: 198ms\n",
      "989:\tlearn: 0.8343107\ttotal: 17.8s\tremaining: 180ms\n",
      "990:\tlearn: 0.8342452\ttotal: 17.8s\tremaining: 162ms\n",
      "991:\tlearn: 0.8339032\ttotal: 17.8s\tremaining: 144ms\n",
      "992:\tlearn: 0.8336452\ttotal: 17.9s\tremaining: 126ms\n",
      "993:\tlearn: 0.8334507\ttotal: 17.9s\tremaining: 108ms\n",
      "994:\tlearn: 0.8326637\ttotal: 17.9s\tremaining: 89.9ms\n",
      "995:\tlearn: 0.8318199\ttotal: 17.9s\tremaining: 71.9ms\n",
      "996:\tlearn: 0.8313339\ttotal: 17.9s\tremaining: 53.9ms\n",
      "997:\tlearn: 0.8304621\ttotal: 17.9s\tremaining: 36ms\n",
      "998:\tlearn: 0.8300500\ttotal: 18s\tremaining: 18ms\n",
      "999:\tlearn: 0.8296625\ttotal: 18s\tremaining: 0us\n"
     ]
    },
    {
     "data": {
      "text/plain": [
       "<catboost.core.CatBoostClassifier at 0x1ff15973410>"
      ]
     },
     "execution_count": 314,
     "metadata": {},
     "output_type": "execute_result"
    }
   ],
   "source": [
    "catb.fit(X_train, y_train)"
   ]
  },
  {
   "cell_type": "code",
   "execution_count": 315,
   "metadata": {},
   "outputs": [
    {
     "data": {
      "text/plain": [
       "0.24413595021541407"
      ]
     },
     "execution_count": 315,
     "metadata": {},
     "output_type": "execute_result"
    }
   ],
   "source": [
    "catb.score(X_test, y_test)"
   ]
  },
  {
   "cell_type": "code",
   "execution_count": 316,
   "metadata": {},
   "outputs": [
    {
     "data": {
      "text/plain": [
       "array([13,  8, 11, ..., 14, 12, 10], dtype=int64)"
      ]
     },
     "execution_count": 316,
     "metadata": {},
     "output_type": "execute_result"
    }
   ],
   "source": [
    "np.array(y_test)"
   ]
  },
  {
   "cell_type": "code",
   "execution_count": 317,
   "metadata": {},
   "outputs": [
    {
     "data": {
      "text/plain": [
       "array([13,  9, 10, ..., 10, 10, 10], dtype=int64)"
      ]
     },
     "execution_count": 317,
     "metadata": {},
     "output_type": "execute_result"
    }
   ],
   "source": [
    "y_pred = catb.predict(X_test)\n",
    "y_pred.T[0]"
   ]
  },
  {
   "cell_type": "code",
   "execution_count": 318,
   "metadata": {},
   "outputs": [
    {
     "data": {
      "text/plain": [
       "0.24413595021541407"
      ]
     },
     "execution_count": 318,
     "metadata": {},
     "output_type": "execute_result"
    }
   ],
   "source": [
    "accuracy_score(y_test, y_pred)"
   ]
  },
  {
   "cell_type": "code",
   "execution_count": 319,
   "metadata": {},
   "outputs": [
    {
     "data": {
      "text/plain": [
       "<matplotlib.legend.Legend at 0x1ff160d23d0>"
      ]
     },
     "execution_count": 319,
     "metadata": {},
     "output_type": "execute_result"
    },
    {
     "data": {
      "image/png": "[encoded data removed]",
      "text/plain": [
       "<Figure size 1500x800 with 1 Axes>"
      ]
     },
     "metadata": {},
     "output_type": "display_data"
    }
   ],
   "source": [
    "skip_size = 50\n",
    "\n",
    "plt.figure(figsize=(15, 8))\n",
    "plt.scatter(range(len(y_test[::skip_size])), y_test[::skip_size], label=\"y_true\")\n",
    "plt.scatter(range(len(y_pred[::skip_size])), y_pred[::skip_size], label=\"y_test\")\n",
    "plt.grid(True)\n",
    "plt.legend()"
   ]
  },
  {
   "cell_type": "markdown",
   "metadata": {},
   "source": [
    "## CatBoostRegressor"
   ]
  },
  {
   "cell_type": "code",
   "execution_count": 304,
   "metadata": {},
   "outputs": [],
   "source": [
    "from catboost import CatBoostRegressor"
   ]
  },
  {
   "cell_type": "code",
   "execution_count": 305,
   "metadata": {},
   "outputs": [
    {
     "data": {
      "text/plain": [
       "<catboost.core.CatBoostRegressor at 0x1ff0cb193d0>"
      ]
     },
     "execution_count": 305,
     "metadata": {},
     "output_type": "execute_result"
    }
   ],
   "source": [
    "catb = CatBoostRegressor()\n",
    "catb"
   ]
  },
  {
   "cell_type": "code",
   "execution_count": 306,
   "metadata": {},
   "outputs": [
    {
     "name": "stdout",
     "output_type": "stream",
     "text": [
      "Learning rate set to 0.045994\n",
      "0:\tlearn: 3.1729371\ttotal: 1.4ms\tremaining: 1.4s\n",
      "1:\tlearn: 3.1197591\ttotal: 2.69ms\tremaining: 1.34s\n",
      "2:\tlearn: 3.0753637\ttotal: 3.89ms\tremaining: 1.29s\n",
      "3:\tlearn: 3.0302537\ttotal: 5.25ms\tremaining: 1.31s\n",
      "4:\tlearn: 2.9826849\ttotal: 7.22ms\tremaining: 1.44s\n",
      "5:\tlearn: 2.9434823\ttotal: 8.64ms\tremaining: 1.43s\n",
      "6:\tlearn: 2.9039645\ttotal: 10.1ms\tremaining: 1.43s\n",
      "7:\tlearn: 2.8705731\ttotal: 11.3ms\tremaining: 1.4s\n",
      "8:\tlearn: 2.8360500\ttotal: 12.5ms\tremaining: 1.37s\n",
      "9:\tlearn: 2.8055546\ttotal: 13.7ms\tremaining: 1.35s\n",
      "10:\tlearn: 2.7718103\ttotal: 15.1ms\tremaining: 1.35s\n",
      "11:\tlearn: 2.7455806\ttotal: 16.4ms\tremaining: 1.35s\n",
      "12:\tlearn: 2.7169692\ttotal: 17.8ms\tremaining: 1.35s\n",
      "13:\tlearn: 2.6941218\ttotal: 19.2ms\tremaining: 1.35s\n",
      "14:\tlearn: 2.6711563\ttotal: 20.4ms\tremaining: 1.34s\n",
      "15:\tlearn: 2.6437851\ttotal: 21.6ms\tremaining: 1.33s\n",
      "16:\tlearn: 2.6205959\ttotal: 23.1ms\tremaining: 1.34s\n",
      "17:\tlearn: 2.6004325\ttotal: 24.6ms\tremaining: 1.34s\n",
      "18:\tlearn: 2.5792038\ttotal: 25.9ms\tremaining: 1.34s\n",
      "19:\tlearn: 2.5613136\ttotal: 27.1ms\tremaining: 1.33s\n",
      "20:\tlearn: 2.5384282\ttotal: 28.3ms\tremaining: 1.32s\n",
      "21:\tlearn: 2.5208297\ttotal: 29.6ms\tremaining: 1.32s\n",
      "22:\tlearn: 2.5055106\ttotal: 30.9ms\tremaining: 1.31s\n",
      "23:\tlearn: 2.4888346\ttotal: 32.3ms\tremaining: 1.31s\n",
      "24:\tlearn: 2.4771224\ttotal: 33.6ms\tremaining: 1.31s\n",
      "25:\tlearn: 2.4644902\ttotal: 34.9ms\tremaining: 1.31s\n",
      "26:\tlearn: 2.4550398\ttotal: 36ms\tremaining: 1.3s\n",
      "27:\tlearn: 2.4422074\ttotal: 37.4ms\tremaining: 1.3s\n",
      "28:\tlearn: 2.4268818\ttotal: 39.2ms\tremaining: 1.31s\n",
      "29:\tlearn: 2.4144242\ttotal: 40.4ms\tremaining: 1.31s\n",
      "30:\tlearn: 2.4027629\ttotal: 41.7ms\tremaining: 1.3s\n",
      "31:\tlearn: 2.3927577\ttotal: 42.9ms\tremaining: 1.3s\n",
      "32:\tlearn: 2.3787452\ttotal: 44.3ms\tremaining: 1.3s\n",
      "33:\tlearn: 2.3693366\ttotal: 45.7ms\tremaining: 1.3s\n",
      "34:\tlearn: 2.3582071\ttotal: 47ms\tremaining: 1.29s\n",
      "35:\tlearn: 2.3492262\ttotal: 48.4ms\tremaining: 1.29s\n",
      "36:\tlearn: 2.3401738\ttotal: 49.8ms\tremaining: 1.3s\n",
      "37:\tlearn: 2.3322035\ttotal: 51.1ms\tremaining: 1.29s\n",
      "38:\tlearn: 2.3243277\ttotal: 52.6ms\tremaining: 1.29s\n",
      "39:\tlearn: 2.3180655\ttotal: 54ms\tremaining: 1.3s\n",
      "40:\tlearn: 2.3100838\ttotal: 55.6ms\tremaining: 1.3s\n",
      "41:\tlearn: 2.3034875\ttotal: 57ms\tremaining: 1.3s\n",
      "42:\tlearn: 2.2943043\ttotal: 58.5ms\tremaining: 1.3s\n",
      "43:\tlearn: 2.2875719\ttotal: 59.6ms\tremaining: 1.29s\n",
      "44:\tlearn: 2.2825697\ttotal: 61ms\tremaining: 1.29s\n",
      "45:\tlearn: 2.2771292\ttotal: 62.3ms\tremaining: 1.29s\n",
      "46:\tlearn: 2.2707221\ttotal: 63.5ms\tremaining: 1.29s\n",
      "47:\tlearn: 2.2642999\ttotal: 64.7ms\tremaining: 1.28s\n",
      "48:\tlearn: 2.2590201\ttotal: 65.9ms\tremaining: 1.28s\n",
      "49:\tlearn: 2.2543025\ttotal: 67.5ms\tremaining: 1.28s\n",
      "50:\tlearn: 2.2493317\ttotal: 68.8ms\tremaining: 1.28s\n",
      "51:\tlearn: 2.2447407\ttotal: 70.4ms\tremaining: 1.28s\n",
      "52:\tlearn: 2.2404749\ttotal: 71.7ms\tremaining: 1.28s\n",
      "53:\tlearn: 2.2344804\ttotal: 73ms\tremaining: 1.28s\n",
      "54:\tlearn: 2.2309295\ttotal: 74.2ms\tremaining: 1.27s\n",
      "55:\tlearn: 2.2277558\ttotal: 75.3ms\tremaining: 1.27s\n",
      "56:\tlearn: 2.2242973\ttotal: 76.6ms\tremaining: 1.27s\n",
      "57:\tlearn: 2.2206366\ttotal: 77.9ms\tremaining: 1.26s\n",
      "58:\tlearn: 2.2178653\ttotal: 79.1ms\tremaining: 1.26s\n",
      "59:\tlearn: 2.2136175\ttotal: 80.4ms\tremaining: 1.26s\n",
      "60:\tlearn: 2.2090802\ttotal: 81.9ms\tremaining: 1.26s\n",
      "61:\tlearn: 2.2055595\ttotal: 83.3ms\tremaining: 1.26s\n",
      "62:\tlearn: 2.2024838\ttotal: 84.6ms\tremaining: 1.26s\n",
      "63:\tlearn: 2.1993791\ttotal: 86.3ms\tremaining: 1.26s\n",
      "64:\tlearn: 2.1955003\ttotal: 87.7ms\tremaining: 1.26s\n",
      "65:\tlearn: 2.1906158\ttotal: 89ms\tremaining: 1.26s\n",
      "66:\tlearn: 2.1875777\ttotal: 90.4ms\tremaining: 1.26s\n",
      "67:\tlearn: 2.1845437\ttotal: 91.5ms\tremaining: 1.25s\n",
      "68:\tlearn: 2.1801454\ttotal: 92.8ms\tremaining: 1.25s\n",
      "69:\tlearn: 2.1766330\ttotal: 94.1ms\tremaining: 1.25s\n",
      "70:\tlearn: 2.1733831\ttotal: 95.5ms\tremaining: 1.25s\n",
      "71:\tlearn: 2.1702762\ttotal: 96.8ms\tremaining: 1.25s\n",
      "72:\tlearn: 2.1670637\ttotal: 98.1ms\tremaining: 1.25s\n",
      "73:\tlearn: 2.1647871\ttotal: 99.4ms\tremaining: 1.24s\n",
      "74:\tlearn: 2.1633256\ttotal: 101ms\tremaining: 1.24s\n",
      "75:\tlearn: 2.1609838\ttotal: 102ms\tremaining: 1.24s\n",
      "76:\tlearn: 2.1574880\ttotal: 104ms\tremaining: 1.24s\n",
      "77:\tlearn: 2.1539140\ttotal: 105ms\tremaining: 1.24s\n",
      "78:\tlearn: 2.1498521\ttotal: 106ms\tremaining: 1.24s\n",
      "79:\tlearn: 2.1475305\ttotal: 108ms\tremaining: 1.24s\n",
      "80:\tlearn: 2.1447825\ttotal: 109ms\tremaining: 1.23s\n",
      "81:\tlearn: 2.1415297\ttotal: 110ms\tremaining: 1.23s\n",
      "82:\tlearn: 2.1384577\ttotal: 111ms\tremaining: 1.23s\n",
      "83:\tlearn: 2.1354137\ttotal: 112ms\tremaining: 1.23s\n",
      "84:\tlearn: 2.1328180\ttotal: 114ms\tremaining: 1.22s\n",
      "85:\tlearn: 2.1310332\ttotal: 115ms\tremaining: 1.22s\n",
      "86:\tlearn: 2.1289171\ttotal: 116ms\tremaining: 1.22s\n",
      "87:\tlearn: 2.1265883\ttotal: 118ms\tremaining: 1.22s\n",
      "88:\tlearn: 2.1243713\ttotal: 119ms\tremaining: 1.22s\n",
      "89:\tlearn: 2.1215114\ttotal: 120ms\tremaining: 1.22s\n",
      "90:\tlearn: 2.1188189\ttotal: 121ms\tremaining: 1.21s\n",
      "91:\tlearn: 2.1168786\ttotal: 123ms\tremaining: 1.21s\n",
      "92:\tlearn: 2.1149994\ttotal: 124ms\tremaining: 1.21s\n",
      "93:\tlearn: 2.1137929\ttotal: 125ms\tremaining: 1.2s\n",
      "94:\tlearn: 2.1124024\ttotal: 126ms\tremaining: 1.2s\n",
      "95:\tlearn: 2.1097754\ttotal: 128ms\tremaining: 1.2s\n",
      "96:\tlearn: 2.1074609\ttotal: 129ms\tremaining: 1.2s\n",
      "97:\tlearn: 2.1045483\ttotal: 130ms\tremaining: 1.2s\n",
      "98:\tlearn: 2.1030230\ttotal: 131ms\tremaining: 1.19s\n",
      "99:\tlearn: 2.1002039\ttotal: 133ms\tremaining: 1.19s\n",
      "100:\tlearn: 2.0986407\ttotal: 134ms\tremaining: 1.19s\n",
      "101:\tlearn: 2.0965164\ttotal: 135ms\tremaining: 1.19s\n",
      "102:\tlearn: 2.0947709\ttotal: 136ms\tremaining: 1.19s\n",
      "103:\tlearn: 2.0921542\ttotal: 137ms\tremaining: 1.18s\n",
      "104:\tlearn: 2.0900118\ttotal: 139ms\tremaining: 1.18s\n",
      "105:\tlearn: 2.0891472\ttotal: 140ms\tremaining: 1.18s\n",
      "106:\tlearn: 2.0862407\ttotal: 141ms\tremaining: 1.18s\n",
      "107:\tlearn: 2.0840506\ttotal: 142ms\tremaining: 1.18s\n",
      "108:\tlearn: 2.0821674\ttotal: 144ms\tremaining: 1.17s\n",
      "109:\tlearn: 2.0817115\ttotal: 145ms\tremaining: 1.17s\n",
      "110:\tlearn: 2.0800035\ttotal: 146ms\tremaining: 1.17s\n",
      "111:\tlearn: 2.0791988\ttotal: 147ms\tremaining: 1.17s\n",
      "112:\tlearn: 2.0776205\ttotal: 148ms\tremaining: 1.16s\n",
      "113:\tlearn: 2.0751737\ttotal: 150ms\tremaining: 1.16s\n",
      "114:\tlearn: 2.0735712\ttotal: 151ms\tremaining: 1.16s\n",
      "115:\tlearn: 2.0708196\ttotal: 152ms\tremaining: 1.16s\n",
      "116:\tlearn: 2.0705732\ttotal: 153ms\tremaining: 1.16s\n",
      "117:\tlearn: 2.0681821\ttotal: 155ms\tremaining: 1.15s\n",
      "118:\tlearn: 2.0667282\ttotal: 156ms\tremaining: 1.15s\n",
      "119:\tlearn: 2.0665579\ttotal: 156ms\tremaining: 1.15s\n",
      "120:\tlearn: 2.0658748\ttotal: 157ms\tremaining: 1.14s\n",
      "121:\tlearn: 2.0649855\ttotal: 158ms\tremaining: 1.14s\n",
      "122:\tlearn: 2.0646483\ttotal: 159ms\tremaining: 1.14s\n",
      "123:\tlearn: 2.0625206\ttotal: 161ms\tremaining: 1.13s\n",
      "124:\tlearn: 2.0594639\ttotal: 162ms\tremaining: 1.13s\n",
      "125:\tlearn: 2.0568117\ttotal: 163ms\tremaining: 1.13s\n",
      "126:\tlearn: 2.0545987\ttotal: 164ms\tremaining: 1.13s\n",
      "127:\tlearn: 2.0536262\ttotal: 165ms\tremaining: 1.13s\n",
      "128:\tlearn: 2.0520406\ttotal: 166ms\tremaining: 1.12s\n",
      "129:\tlearn: 2.0495639\ttotal: 167ms\tremaining: 1.12s\n",
      "130:\tlearn: 2.0475302\ttotal: 169ms\tremaining: 1.12s\n",
      "131:\tlearn: 2.0464239\ttotal: 170ms\tremaining: 1.11s\n",
      "132:\tlearn: 2.0454948\ttotal: 171ms\tremaining: 1.11s\n",
      "133:\tlearn: 2.0441294\ttotal: 172ms\tremaining: 1.11s\n",
      "134:\tlearn: 2.0425675\ttotal: 173ms\tremaining: 1.11s\n",
      "135:\tlearn: 2.0405528\ttotal: 174ms\tremaining: 1.1s\n",
      "136:\tlearn: 2.0385066\ttotal: 175ms\tremaining: 1.1s\n",
      "137:\tlearn: 2.0370694\ttotal: 176ms\tremaining: 1.1s\n",
      "138:\tlearn: 2.0362048\ttotal: 177ms\tremaining: 1.1s\n",
      "139:\tlearn: 2.0337814\ttotal: 178ms\tremaining: 1.1s\n",
      "140:\tlearn: 2.0326392\ttotal: 180ms\tremaining: 1.09s\n",
      "141:\tlearn: 2.0301841\ttotal: 181ms\tremaining: 1.09s\n",
      "142:\tlearn: 2.0289749\ttotal: 182ms\tremaining: 1.09s\n",
      "143:\tlearn: 2.0273099\ttotal: 184ms\tremaining: 1.09s\n",
      "144:\tlearn: 2.0243940\ttotal: 185ms\tremaining: 1.09s\n",
      "145:\tlearn: 2.0224231\ttotal: 186ms\tremaining: 1.09s\n",
      "146:\tlearn: 2.0210079\ttotal: 187ms\tremaining: 1.08s\n",
      "147:\tlearn: 2.0196788\ttotal: 188ms\tremaining: 1.08s\n",
      "148:\tlearn: 2.0180616\ttotal: 189ms\tremaining: 1.08s\n",
      "149:\tlearn: 2.0155886\ttotal: 190ms\tremaining: 1.08s\n",
      "150:\tlearn: 2.0145664\ttotal: 191ms\tremaining: 1.07s\n",
      "151:\tlearn: 2.0133951\ttotal: 192ms\tremaining: 1.07s\n",
      "152:\tlearn: 2.0124263\ttotal: 193ms\tremaining: 1.07s\n",
      "153:\tlearn: 2.0103613\ttotal: 195ms\tremaining: 1.07s\n",
      "154:\tlearn: 2.0093372\ttotal: 196ms\tremaining: 1.07s\n",
      "155:\tlearn: 2.0081919\ttotal: 197ms\tremaining: 1.06s\n",
      "156:\tlearn: 2.0064584\ttotal: 198ms\tremaining: 1.06s\n",
      "157:\tlearn: 2.0057850\ttotal: 199ms\tremaining: 1.06s\n",
      "158:\tlearn: 2.0044207\ttotal: 200ms\tremaining: 1.06s\n",
      "159:\tlearn: 2.0043383\ttotal: 201ms\tremaining: 1.05s\n",
      "160:\tlearn: 2.0024989\ttotal: 202ms\tremaining: 1.05s\n",
      "161:\tlearn: 2.0008039\ttotal: 204ms\tremaining: 1.05s\n",
      "162:\tlearn: 2.0007270\ttotal: 204ms\tremaining: 1.05s\n",
      "163:\tlearn: 1.9998961\ttotal: 205ms\tremaining: 1.05s\n",
      "164:\tlearn: 1.9972862\ttotal: 206ms\tremaining: 1.04s\n",
      "165:\tlearn: 1.9952368\ttotal: 207ms\tremaining: 1.04s\n",
      "166:\tlearn: 1.9948157\ttotal: 208ms\tremaining: 1.04s\n",
      "167:\tlearn: 1.9928374\ttotal: 210ms\tremaining: 1.04s\n",
      "168:\tlearn: 1.9916889\ttotal: 211ms\tremaining: 1.04s\n",
      "169:\tlearn: 1.9898743\ttotal: 212ms\tremaining: 1.03s\n",
      "170:\tlearn: 1.9888146\ttotal: 213ms\tremaining: 1.03s\n",
      "171:\tlearn: 1.9879121\ttotal: 214ms\tremaining: 1.03s\n",
      "172:\tlearn: 1.9863213\ttotal: 215ms\tremaining: 1.03s\n",
      "173:\tlearn: 1.9846102\ttotal: 217ms\tremaining: 1.03s\n",
      "174:\tlearn: 1.9839660\ttotal: 218ms\tremaining: 1.03s\n",
      "175:\tlearn: 1.9817435\ttotal: 219ms\tremaining: 1.03s\n",
      "176:\tlearn: 1.9808452\ttotal: 221ms\tremaining: 1.02s\n",
      "177:\tlearn: 1.9801133\ttotal: 222ms\tremaining: 1.02s\n",
      "178:\tlearn: 1.9780519\ttotal: 223ms\tremaining: 1.02s\n",
      "179:\tlearn: 1.9778509\ttotal: 224ms\tremaining: 1.02s\n",
      "180:\tlearn: 1.9759504\ttotal: 225ms\tremaining: 1.02s\n",
      "181:\tlearn: 1.9748469\ttotal: 226ms\tremaining: 1.02s\n",
      "182:\tlearn: 1.9737150\ttotal: 228ms\tremaining: 1.02s\n",
      "183:\tlearn: 1.9731437\ttotal: 229ms\tremaining: 1.01s\n",
      "184:\tlearn: 1.9721548\ttotal: 230ms\tremaining: 1.01s\n",
      "185:\tlearn: 1.9708261\ttotal: 232ms\tremaining: 1.01s\n",
      "186:\tlearn: 1.9694163\ttotal: 233ms\tremaining: 1.01s\n",
      "187:\tlearn: 1.9683281\ttotal: 234ms\tremaining: 1.01s\n",
      "188:\tlearn: 1.9675881\ttotal: 235ms\tremaining: 1.01s\n",
      "189:\tlearn: 1.9664139\ttotal: 236ms\tremaining: 1.01s\n",
      "190:\tlearn: 1.9653797\ttotal: 238ms\tremaining: 1.01s\n",
      "191:\tlearn: 1.9637093\ttotal: 239ms\tremaining: 1s\n",
      "192:\tlearn: 1.9625907\ttotal: 240ms\tremaining: 1s\n",
      "193:\tlearn: 1.9602229\ttotal: 241ms\tremaining: 1s\n",
      "194:\tlearn: 1.9600747\ttotal: 242ms\tremaining: 1000ms\n",
      "195:\tlearn: 1.9591128\ttotal: 244ms\tremaining: 999ms\n",
      "196:\tlearn: 1.9578733\ttotal: 245ms\tremaining: 997ms\n",
      "197:\tlearn: 1.9561002\ttotal: 246ms\tremaining: 996ms\n",
      "198:\tlearn: 1.9542840\ttotal: 247ms\tremaining: 994ms\n",
      "199:\tlearn: 1.9530975\ttotal: 248ms\tremaining: 993ms\n",
      "200:\tlearn: 1.9528200\ttotal: 249ms\tremaining: 991ms\n",
      "201:\tlearn: 1.9519768\ttotal: 250ms\tremaining: 989ms\n",
      "202:\tlearn: 1.9498386\ttotal: 252ms\tremaining: 988ms\n",
      "203:\tlearn: 1.9485173\ttotal: 253ms\tremaining: 986ms\n",
      "204:\tlearn: 1.9476103\ttotal: 254ms\tremaining: 985ms\n",
      "205:\tlearn: 1.9466759\ttotal: 255ms\tremaining: 983ms\n",
      "206:\tlearn: 1.9447761\ttotal: 256ms\tremaining: 981ms\n",
      "207:\tlearn: 1.9427136\ttotal: 257ms\tremaining: 980ms\n",
      "208:\tlearn: 1.9416734\ttotal: 258ms\tremaining: 978ms\n",
      "209:\tlearn: 1.9406256\ttotal: 260ms\tremaining: 977ms\n",
      "210:\tlearn: 1.9403120\ttotal: 261ms\tremaining: 975ms\n",
      "211:\tlearn: 1.9394177\ttotal: 262ms\tremaining: 974ms\n",
      "212:\tlearn: 1.9385215\ttotal: 263ms\tremaining: 973ms\n",
      "213:\tlearn: 1.9379227\ttotal: 265ms\tremaining: 972ms\n",
      "214:\tlearn: 1.9367102\ttotal: 266ms\tremaining: 971ms\n",
      "215:\tlearn: 1.9349294\ttotal: 267ms\tremaining: 969ms\n",
      "216:\tlearn: 1.9339671\ttotal: 268ms\tremaining: 967ms\n",
      "217:\tlearn: 1.9337681\ttotal: 269ms\tremaining: 965ms\n",
      "218:\tlearn: 1.9328670\ttotal: 270ms\tremaining: 963ms\n",
      "219:\tlearn: 1.9323777\ttotal: 271ms\tremaining: 962ms\n",
      "220:\tlearn: 1.9310714\ttotal: 272ms\tremaining: 960ms\n",
      "221:\tlearn: 1.9303267\ttotal: 274ms\tremaining: 959ms\n",
      "222:\tlearn: 1.9288524\ttotal: 275ms\tremaining: 958ms\n",
      "223:\tlearn: 1.9280275\ttotal: 276ms\tremaining: 957ms\n",
      "224:\tlearn: 1.9271165\ttotal: 277ms\tremaining: 955ms\n",
      "225:\tlearn: 1.9254137\ttotal: 279ms\tremaining: 954ms\n",
      "226:\tlearn: 1.9243895\ttotal: 280ms\tremaining: 953ms\n",
      "227:\tlearn: 1.9220305\ttotal: 281ms\tremaining: 951ms\n",
      "228:\tlearn: 1.9206192\ttotal: 282ms\tremaining: 950ms\n",
      "229:\tlearn: 1.9199057\ttotal: 283ms\tremaining: 948ms\n",
      "230:\tlearn: 1.9180948\ttotal: 284ms\tremaining: 946ms\n",
      "231:\tlearn: 1.9150275\ttotal: 285ms\tremaining: 945ms\n",
      "232:\tlearn: 1.9143199\ttotal: 286ms\tremaining: 943ms\n",
      "233:\tlearn: 1.9131064\ttotal: 288ms\tremaining: 941ms\n",
      "234:\tlearn: 1.9123419\ttotal: 289ms\tremaining: 940ms\n",
      "235:\tlearn: 1.9105390\ttotal: 290ms\tremaining: 939ms\n",
      "236:\tlearn: 1.9103462\ttotal: 291ms\tremaining: 938ms\n",
      "237:\tlearn: 1.9098318\ttotal: 292ms\tremaining: 936ms\n",
      "238:\tlearn: 1.9080381\ttotal: 294ms\tremaining: 935ms\n",
      "239:\tlearn: 1.9076467\ttotal: 295ms\tremaining: 933ms\n",
      "240:\tlearn: 1.9075617\ttotal: 296ms\tremaining: 931ms\n",
      "241:\tlearn: 1.9064184\ttotal: 297ms\tremaining: 930ms\n",
      "242:\tlearn: 1.9050799\ttotal: 298ms\tremaining: 928ms\n",
      "243:\tlearn: 1.9044964\ttotal: 299ms\tremaining: 926ms\n",
      "244:\tlearn: 1.9017207\ttotal: 300ms\tremaining: 925ms\n",
      "245:\tlearn: 1.9016522\ttotal: 301ms\tremaining: 923ms\n",
      "246:\tlearn: 1.9012790\ttotal: 302ms\tremaining: 921ms\n",
      "247:\tlearn: 1.9000351\ttotal: 303ms\tremaining: 920ms\n",
      "248:\tlearn: 1.8991141\ttotal: 304ms\tremaining: 918ms\n",
      "249:\tlearn: 1.8990053\ttotal: 306ms\tremaining: 917ms\n",
      "250:\tlearn: 1.8971249\ttotal: 307ms\tremaining: 916ms\n",
      "251:\tlearn: 1.8945952\ttotal: 308ms\tremaining: 914ms\n",
      "252:\tlearn: 1.8928024\ttotal: 309ms\tremaining: 912ms\n",
      "253:\tlearn: 1.8909993\ttotal: 310ms\tremaining: 911ms\n",
      "254:\tlearn: 1.8906187\ttotal: 311ms\tremaining: 909ms\n",
      "255:\tlearn: 1.8901235\ttotal: 312ms\tremaining: 908ms\n",
      "256:\tlearn: 1.8881037\ttotal: 313ms\tremaining: 906ms\n",
      "257:\tlearn: 1.8855131\ttotal: 315ms\tremaining: 905ms\n",
      "258:\tlearn: 1.8839058\ttotal: 316ms\tremaining: 903ms\n",
      "259:\tlearn: 1.8834452\ttotal: 317ms\tremaining: 902ms\n",
      "260:\tlearn: 1.8824704\ttotal: 318ms\tremaining: 901ms\n",
      "261:\tlearn: 1.8819490\ttotal: 319ms\tremaining: 899ms\n",
      "262:\tlearn: 1.8817945\ttotal: 320ms\tremaining: 897ms\n",
      "263:\tlearn: 1.8799947\ttotal: 321ms\tremaining: 896ms\n",
      "264:\tlearn: 1.8793667\ttotal: 323ms\tremaining: 895ms\n",
      "265:\tlearn: 1.8762822\ttotal: 324ms\tremaining: 893ms\n",
      "266:\tlearn: 1.8753050\ttotal: 325ms\tremaining: 891ms\n",
      "267:\tlearn: 1.8746888\ttotal: 326ms\tremaining: 890ms\n",
      "268:\tlearn: 1.8725724\ttotal: 327ms\tremaining: 888ms\n",
      "269:\tlearn: 1.8720299\ttotal: 328ms\tremaining: 886ms\n",
      "270:\tlearn: 1.8716897\ttotal: 329ms\tremaining: 885ms\n",
      "271:\tlearn: 1.8700401\ttotal: 330ms\tremaining: 883ms\n",
      "272:\tlearn: 1.8682143\ttotal: 331ms\tremaining: 882ms\n",
      "273:\tlearn: 1.8668505\ttotal: 332ms\tremaining: 880ms\n",
      "274:\tlearn: 1.8655324\ttotal: 333ms\tremaining: 879ms\n",
      "275:\tlearn: 1.8639208\ttotal: 334ms\tremaining: 877ms\n",
      "276:\tlearn: 1.8627560\ttotal: 336ms\tremaining: 876ms\n",
      "277:\tlearn: 1.8621860\ttotal: 337ms\tremaining: 875ms\n",
      "278:\tlearn: 1.8602656\ttotal: 338ms\tremaining: 874ms\n",
      "279:\tlearn: 1.8596296\ttotal: 340ms\tremaining: 873ms\n",
      "280:\tlearn: 1.8591835\ttotal: 341ms\tremaining: 872ms\n",
      "281:\tlearn: 1.8569897\ttotal: 342ms\tremaining: 870ms\n",
      "282:\tlearn: 1.8555229\ttotal: 343ms\tremaining: 869ms\n",
      "283:\tlearn: 1.8542458\ttotal: 344ms\tremaining: 868ms\n",
      "284:\tlearn: 1.8527763\ttotal: 345ms\tremaining: 866ms\n",
      "285:\tlearn: 1.8521746\ttotal: 346ms\tremaining: 865ms\n",
      "286:\tlearn: 1.8513368\ttotal: 347ms\tremaining: 863ms\n",
      "287:\tlearn: 1.8495249\ttotal: 349ms\tremaining: 862ms\n",
      "288:\tlearn: 1.8467106\ttotal: 350ms\tremaining: 860ms\n",
      "289:\tlearn: 1.8454353\ttotal: 351ms\tremaining: 859ms\n",
      "290:\tlearn: 1.8449964\ttotal: 352ms\tremaining: 858ms\n",
      "291:\tlearn: 1.8448769\ttotal: 353ms\tremaining: 857ms\n",
      "292:\tlearn: 1.8443501\ttotal: 354ms\tremaining: 855ms\n",
      "293:\tlearn: 1.8443176\ttotal: 355ms\tremaining: 853ms\n",
      "294:\tlearn: 1.8417588\ttotal: 357ms\tremaining: 852ms\n",
      "295:\tlearn: 1.8405859\ttotal: 358ms\tremaining: 851ms\n",
      "296:\tlearn: 1.8382779\ttotal: 359ms\tremaining: 849ms\n",
      "297:\tlearn: 1.8364815\ttotal: 360ms\tremaining: 848ms\n",
      "298:\tlearn: 1.8358370\ttotal: 361ms\tremaining: 847ms\n",
      "299:\tlearn: 1.8354087\ttotal: 362ms\tremaining: 845ms\n",
      "300:\tlearn: 1.8349114\ttotal: 363ms\tremaining: 843ms\n",
      "301:\tlearn: 1.8346509\ttotal: 364ms\tremaining: 842ms\n",
      "302:\tlearn: 1.8325972\ttotal: 365ms\tremaining: 841ms\n",
      "303:\tlearn: 1.8312244\ttotal: 367ms\tremaining: 840ms\n",
      "304:\tlearn: 1.8298755\ttotal: 368ms\tremaining: 838ms\n",
      "305:\tlearn: 1.8282448\ttotal: 369ms\tremaining: 837ms\n",
      "306:\tlearn: 1.8279962\ttotal: 370ms\tremaining: 835ms\n",
      "307:\tlearn: 1.8268003\ttotal: 371ms\tremaining: 834ms\n",
      "308:\tlearn: 1.8255907\ttotal: 372ms\tremaining: 833ms\n",
      "309:\tlearn: 1.8228990\ttotal: 373ms\tremaining: 831ms\n",
      "310:\tlearn: 1.8225542\ttotal: 375ms\tremaining: 830ms\n",
      "311:\tlearn: 1.8222317\ttotal: 376ms\tremaining: 829ms\n",
      "312:\tlearn: 1.8210303\ttotal: 377ms\tremaining: 827ms\n",
      "313:\tlearn: 1.8202116\ttotal: 378ms\tremaining: 826ms\n",
      "314:\tlearn: 1.8198171\ttotal: 379ms\tremaining: 824ms\n",
      "315:\tlearn: 1.8172081\ttotal: 380ms\tremaining: 823ms\n",
      "316:\tlearn: 1.8149256\ttotal: 382ms\tremaining: 822ms\n",
      "317:\tlearn: 1.8129819\ttotal: 383ms\tremaining: 821ms\n",
      "318:\tlearn: 1.8110364\ttotal: 384ms\tremaining: 819ms\n",
      "319:\tlearn: 1.8091478\ttotal: 385ms\tremaining: 818ms\n",
      "320:\tlearn: 1.8070442\ttotal: 386ms\tremaining: 817ms\n",
      "321:\tlearn: 1.8060845\ttotal: 387ms\tremaining: 815ms\n",
      "322:\tlearn: 1.8053485\ttotal: 388ms\tremaining: 813ms\n",
      "323:\tlearn: 1.8030368\ttotal: 389ms\tremaining: 812ms\n",
      "324:\tlearn: 1.8027296\ttotal: 390ms\tremaining: 811ms\n",
      "325:\tlearn: 1.8023843\ttotal: 392ms\tremaining: 810ms\n",
      "326:\tlearn: 1.8018286\ttotal: 393ms\tremaining: 808ms\n",
      "327:\tlearn: 1.7997907\ttotal: 394ms\tremaining: 807ms\n",
      "328:\tlearn: 1.7975040\ttotal: 395ms\tremaining: 806ms\n",
      "329:\tlearn: 1.7964881\ttotal: 397ms\tremaining: 805ms\n",
      "330:\tlearn: 1.7945947\ttotal: 398ms\tremaining: 804ms\n",
      "331:\tlearn: 1.7942560\ttotal: 399ms\tremaining: 803ms\n",
      "332:\tlearn: 1.7932916\ttotal: 400ms\tremaining: 802ms\n",
      "333:\tlearn: 1.7925893\ttotal: 401ms\tremaining: 800ms\n",
      "334:\tlearn: 1.7913231\ttotal: 402ms\tremaining: 799ms\n",
      "335:\tlearn: 1.7909070\ttotal: 403ms\tremaining: 797ms\n",
      "336:\tlearn: 1.7901551\ttotal: 405ms\tremaining: 796ms\n",
      "337:\tlearn: 1.7897622\ttotal: 406ms\tremaining: 794ms\n",
      "338:\tlearn: 1.7878160\ttotal: 407ms\tremaining: 793ms\n",
      "339:\tlearn: 1.7871723\ttotal: 408ms\tremaining: 792ms\n",
      "340:\tlearn: 1.7846608\ttotal: 409ms\tremaining: 790ms\n",
      "341:\tlearn: 1.7826479\ttotal: 410ms\tremaining: 789ms\n",
      "342:\tlearn: 1.7821963\ttotal: 412ms\tremaining: 788ms\n",
      "343:\tlearn: 1.7799101\ttotal: 413ms\tremaining: 787ms\n",
      "344:\tlearn: 1.7787271\ttotal: 414ms\tremaining: 786ms\n",
      "345:\tlearn: 1.7779611\ttotal: 415ms\tremaining: 784ms\n",
      "346:\tlearn: 1.7756709\ttotal: 416ms\tremaining: 783ms\n",
      "347:\tlearn: 1.7751166\ttotal: 417ms\tremaining: 782ms\n",
      "348:\tlearn: 1.7748269\ttotal: 419ms\tremaining: 781ms\n",
      "349:\tlearn: 1.7733737\ttotal: 420ms\tremaining: 779ms\n",
      "350:\tlearn: 1.7722984\ttotal: 421ms\tremaining: 778ms\n",
      "351:\tlearn: 1.7721823\ttotal: 422ms\tremaining: 777ms\n",
      "352:\tlearn: 1.7699663\ttotal: 423ms\tremaining: 776ms\n",
      "353:\tlearn: 1.7690706\ttotal: 425ms\tremaining: 775ms\n",
      "354:\tlearn: 1.7673468\ttotal: 426ms\tremaining: 774ms\n",
      "355:\tlearn: 1.7657216\ttotal: 427ms\tremaining: 773ms\n",
      "356:\tlearn: 1.7649575\ttotal: 428ms\tremaining: 772ms\n",
      "357:\tlearn: 1.7627530\ttotal: 430ms\tremaining: 771ms\n",
      "358:\tlearn: 1.7627260\ttotal: 431ms\tremaining: 770ms\n",
      "359:\tlearn: 1.7624434\ttotal: 432ms\tremaining: 769ms\n",
      "360:\tlearn: 1.7620888\ttotal: 434ms\tremaining: 768ms\n",
      "361:\tlearn: 1.7606658\ttotal: 435ms\tremaining: 767ms\n",
      "362:\tlearn: 1.7597951\ttotal: 437ms\tremaining: 766ms\n",
      "363:\tlearn: 1.7582156\ttotal: 438ms\tremaining: 765ms\n",
      "364:\tlearn: 1.7561268\ttotal: 439ms\tremaining: 764ms\n",
      "365:\tlearn: 1.7560820\ttotal: 441ms\tremaining: 764ms\n",
      "366:\tlearn: 1.7541842\ttotal: 442ms\tremaining: 762ms\n",
      "367:\tlearn: 1.7529009\ttotal: 443ms\tremaining: 761ms\n",
      "368:\tlearn: 1.7515715\ttotal: 445ms\tremaining: 760ms\n",
      "369:\tlearn: 1.7512340\ttotal: 446ms\tremaining: 759ms\n",
      "370:\tlearn: 1.7504097\ttotal: 448ms\tremaining: 759ms\n",
      "371:\tlearn: 1.7488380\ttotal: 449ms\tremaining: 758ms\n",
      "372:\tlearn: 1.7485494\ttotal: 450ms\tremaining: 757ms\n",
      "373:\tlearn: 1.7472588\ttotal: 452ms\tremaining: 756ms\n",
      "374:\tlearn: 1.7468531\ttotal: 453ms\tremaining: 755ms\n",
      "375:\tlearn: 1.7462308\ttotal: 454ms\tremaining: 754ms\n",
      "376:\tlearn: 1.7441975\ttotal: 455ms\tremaining: 753ms\n",
      "377:\tlearn: 1.7441637\ttotal: 456ms\tremaining: 751ms\n",
      "378:\tlearn: 1.7422131\ttotal: 458ms\tremaining: 750ms\n",
      "379:\tlearn: 1.7417719\ttotal: 459ms\tremaining: 749ms\n",
      "380:\tlearn: 1.7391375\ttotal: 460ms\tremaining: 748ms\n",
      "381:\tlearn: 1.7374083\ttotal: 462ms\tremaining: 747ms\n",
      "382:\tlearn: 1.7357953\ttotal: 463ms\tremaining: 747ms\n",
      "383:\tlearn: 1.7352923\ttotal: 465ms\tremaining: 745ms\n",
      "384:\tlearn: 1.7331826\ttotal: 466ms\tremaining: 744ms\n",
      "385:\tlearn: 1.7312868\ttotal: 467ms\tremaining: 743ms\n",
      "386:\tlearn: 1.7309998\ttotal: 469ms\tremaining: 742ms\n",
      "387:\tlearn: 1.7301313\ttotal: 470ms\tremaining: 741ms\n",
      "388:\tlearn: 1.7276639\ttotal: 471ms\tremaining: 740ms\n",
      "389:\tlearn: 1.7264963\ttotal: 473ms\tremaining: 739ms\n",
      "390:\tlearn: 1.7260989\ttotal: 474ms\tremaining: 738ms\n",
      "391:\tlearn: 1.7243630\ttotal: 475ms\tremaining: 737ms\n",
      "392:\tlearn: 1.7237912\ttotal: 476ms\tremaining: 736ms\n",
      "393:\tlearn: 1.7222546\ttotal: 477ms\tremaining: 734ms\n",
      "394:\tlearn: 1.7208377\ttotal: 479ms\tremaining: 734ms\n",
      "395:\tlearn: 1.7192669\ttotal: 480ms\tremaining: 732ms\n",
      "396:\tlearn: 1.7187745\ttotal: 481ms\tremaining: 731ms\n",
      "397:\tlearn: 1.7184954\ttotal: 483ms\tremaining: 730ms\n",
      "398:\tlearn: 1.7176492\ttotal: 484ms\tremaining: 729ms\n",
      "399:\tlearn: 1.7164444\ttotal: 485ms\tremaining: 728ms\n",
      "400:\tlearn: 1.7155476\ttotal: 487ms\tremaining: 727ms\n",
      "401:\tlearn: 1.7144246\ttotal: 488ms\tremaining: 726ms\n",
      "402:\tlearn: 1.7127452\ttotal: 489ms\tremaining: 724ms\n",
      "403:\tlearn: 1.7113564\ttotal: 490ms\tremaining: 723ms\n",
      "404:\tlearn: 1.7100327\ttotal: 491ms\tremaining: 722ms\n",
      "405:\tlearn: 1.7083310\ttotal: 493ms\tremaining: 721ms\n",
      "406:\tlearn: 1.7069209\ttotal: 494ms\tremaining: 720ms\n",
      "407:\tlearn: 1.7054226\ttotal: 495ms\tremaining: 719ms\n",
      "408:\tlearn: 1.7050088\ttotal: 497ms\tremaining: 718ms\n",
      "409:\tlearn: 1.7044216\ttotal: 498ms\tremaining: 716ms\n",
      "410:\tlearn: 1.7037134\ttotal: 499ms\tremaining: 715ms\n",
      "411:\tlearn: 1.7017555\ttotal: 500ms\tremaining: 714ms\n",
      "412:\tlearn: 1.7010571\ttotal: 501ms\tremaining: 713ms\n",
      "413:\tlearn: 1.6996669\ttotal: 503ms\tremaining: 712ms\n",
      "414:\tlearn: 1.6995729\ttotal: 504ms\tremaining: 710ms\n",
      "415:\tlearn: 1.6975919\ttotal: 505ms\tremaining: 709ms\n",
      "416:\tlearn: 1.6972818\ttotal: 506ms\tremaining: 708ms\n",
      "417:\tlearn: 1.6964050\ttotal: 507ms\tremaining: 706ms\n",
      "418:\tlearn: 1.6947529\ttotal: 508ms\tremaining: 705ms\n",
      "419:\tlearn: 1.6932251\ttotal: 510ms\tremaining: 704ms\n",
      "420:\tlearn: 1.6929635\ttotal: 511ms\tremaining: 703ms\n",
      "421:\tlearn: 1.6917974\ttotal: 512ms\tremaining: 702ms\n",
      "422:\tlearn: 1.6904762\ttotal: 514ms\tremaining: 701ms\n",
      "423:\tlearn: 1.6901072\ttotal: 515ms\tremaining: 700ms\n",
      "424:\tlearn: 1.6899023\ttotal: 516ms\tremaining: 698ms\n",
      "425:\tlearn: 1.6893174\ttotal: 517ms\tremaining: 697ms\n",
      "426:\tlearn: 1.6872173\ttotal: 519ms\tremaining: 696ms\n",
      "427:\tlearn: 1.6859310\ttotal: 520ms\tremaining: 695ms\n",
      "428:\tlearn: 1.6844208\ttotal: 521ms\tremaining: 693ms\n",
      "429:\tlearn: 1.6827128\ttotal: 522ms\tremaining: 692ms\n",
      "430:\tlearn: 1.6812968\ttotal: 524ms\tremaining: 691ms\n",
      "431:\tlearn: 1.6811910\ttotal: 525ms\tremaining: 690ms\n",
      "432:\tlearn: 1.6802392\ttotal: 526ms\tremaining: 689ms\n",
      "433:\tlearn: 1.6794361\ttotal: 527ms\tremaining: 688ms\n",
      "434:\tlearn: 1.6777156\ttotal: 529ms\tremaining: 687ms\n",
      "435:\tlearn: 1.6762729\ttotal: 530ms\tremaining: 686ms\n",
      "436:\tlearn: 1.6759599\ttotal: 531ms\tremaining: 684ms\n",
      "437:\tlearn: 1.6758972\ttotal: 532ms\tremaining: 683ms\n",
      "438:\tlearn: 1.6746540\ttotal: 533ms\tremaining: 682ms\n",
      "439:\tlearn: 1.6729735\ttotal: 535ms\tremaining: 680ms\n",
      "440:\tlearn: 1.6721636\ttotal: 536ms\tremaining: 679ms\n",
      "441:\tlearn: 1.6705683\ttotal: 537ms\tremaining: 678ms\n",
      "442:\tlearn: 1.6694593\ttotal: 538ms\tremaining: 677ms\n",
      "443:\tlearn: 1.6687431\ttotal: 539ms\tremaining: 675ms\n",
      "444:\tlearn: 1.6670912\ttotal: 541ms\tremaining: 674ms\n",
      "445:\tlearn: 1.6649625\ttotal: 542ms\tremaining: 673ms\n",
      "446:\tlearn: 1.6639580\ttotal: 543ms\tremaining: 672ms\n",
      "447:\tlearn: 1.6636608\ttotal: 545ms\tremaining: 671ms\n",
      "448:\tlearn: 1.6633671\ttotal: 546ms\tremaining: 670ms\n",
      "449:\tlearn: 1.6615783\ttotal: 547ms\tremaining: 669ms\n",
      "450:\tlearn: 1.6613281\ttotal: 548ms\tremaining: 667ms\n",
      "451:\tlearn: 1.6609447\ttotal: 549ms\tremaining: 666ms\n",
      "452:\tlearn: 1.6587529\ttotal: 551ms\tremaining: 665ms\n",
      "453:\tlearn: 1.6574797\ttotal: 552ms\tremaining: 664ms\n",
      "454:\tlearn: 1.6558823\ttotal: 553ms\tremaining: 662ms\n",
      "455:\tlearn: 1.6556087\ttotal: 554ms\tremaining: 661ms\n",
      "456:\tlearn: 1.6552100\ttotal: 555ms\tremaining: 660ms\n",
      "457:\tlearn: 1.6547124\ttotal: 557ms\tremaining: 659ms\n",
      "458:\tlearn: 1.6535779\ttotal: 558ms\tremaining: 658ms\n",
      "459:\tlearn: 1.6533522\ttotal: 560ms\tremaining: 657ms\n",
      "460:\tlearn: 1.6517648\ttotal: 561ms\tremaining: 656ms\n",
      "461:\tlearn: 1.6513672\ttotal: 562ms\tremaining: 654ms\n",
      "462:\tlearn: 1.6510646\ttotal: 563ms\tremaining: 653ms\n",
      "463:\tlearn: 1.6494345\ttotal: 564ms\tremaining: 652ms\n",
      "464:\tlearn: 1.6480345\ttotal: 566ms\tremaining: 651ms\n",
      "465:\tlearn: 1.6472573\ttotal: 567ms\tremaining: 649ms\n",
      "466:\tlearn: 1.6471091\ttotal: 568ms\tremaining: 648ms\n",
      "467:\tlearn: 1.6453374\ttotal: 569ms\tremaining: 647ms\n",
      "468:\tlearn: 1.6439035\ttotal: 570ms\tremaining: 646ms\n",
      "469:\tlearn: 1.6437067\ttotal: 572ms\tremaining: 644ms\n",
      "470:\tlearn: 1.6436539\ttotal: 573ms\tremaining: 643ms\n",
      "471:\tlearn: 1.6433029\ttotal: 574ms\tremaining: 642ms\n",
      "472:\tlearn: 1.6430818\ttotal: 575ms\tremaining: 641ms\n",
      "473:\tlearn: 1.6430338\ttotal: 576ms\tremaining: 639ms\n",
      "474:\tlearn: 1.6419803\ttotal: 577ms\tremaining: 638ms\n",
      "475:\tlearn: 1.6412366\ttotal: 578ms\tremaining: 637ms\n",
      "476:\tlearn: 1.6397441\ttotal: 580ms\tremaining: 635ms\n",
      "477:\tlearn: 1.6381255\ttotal: 581ms\tremaining: 634ms\n",
      "478:\tlearn: 1.6377373\ttotal: 582ms\tremaining: 633ms\n",
      "479:\tlearn: 1.6376588\ttotal: 583ms\tremaining: 632ms\n",
      "480:\tlearn: 1.6373884\ttotal: 584ms\tremaining: 631ms\n",
      "481:\tlearn: 1.6372621\ttotal: 586ms\tremaining: 629ms\n",
      "482:\tlearn: 1.6359989\ttotal: 587ms\tremaining: 628ms\n",
      "483:\tlearn: 1.6344710\ttotal: 588ms\tremaining: 627ms\n",
      "484:\tlearn: 1.6340495\ttotal: 590ms\tremaining: 626ms\n",
      "485:\tlearn: 1.6338905\ttotal: 591ms\tremaining: 625ms\n",
      "486:\tlearn: 1.6323238\ttotal: 592ms\tremaining: 624ms\n",
      "487:\tlearn: 1.6321162\ttotal: 593ms\tremaining: 623ms\n",
      "488:\tlearn: 1.6307982\ttotal: 595ms\tremaining: 621ms\n",
      "489:\tlearn: 1.6293609\ttotal: 596ms\tremaining: 620ms\n",
      "490:\tlearn: 1.6291132\ttotal: 597ms\tremaining: 619ms\n",
      "491:\tlearn: 1.6284505\ttotal: 598ms\tremaining: 617ms\n",
      "492:\tlearn: 1.6268556\ttotal: 599ms\tremaining: 616ms\n",
      "493:\tlearn: 1.6259291\ttotal: 600ms\tremaining: 615ms\n",
      "494:\tlearn: 1.6256811\ttotal: 602ms\tremaining: 614ms\n",
      "495:\tlearn: 1.6247768\ttotal: 603ms\tremaining: 612ms\n",
      "496:\tlearn: 1.6243217\ttotal: 604ms\tremaining: 611ms\n",
      "497:\tlearn: 1.6230164\ttotal: 606ms\tremaining: 610ms\n",
      "498:\tlearn: 1.6220888\ttotal: 607ms\tremaining: 609ms\n",
      "499:\tlearn: 1.6217605\ttotal: 608ms\tremaining: 608ms\n",
      "500:\tlearn: 1.6213165\ttotal: 609ms\tremaining: 607ms\n",
      "501:\tlearn: 1.6209171\ttotal: 610ms\tremaining: 606ms\n",
      "502:\tlearn: 1.6196484\ttotal: 612ms\tremaining: 604ms\n",
      "503:\tlearn: 1.6184837\ttotal: 613ms\tremaining: 603ms\n",
      "504:\tlearn: 1.6179152\ttotal: 614ms\tremaining: 602ms\n",
      "505:\tlearn: 1.6170931\ttotal: 615ms\tremaining: 601ms\n",
      "506:\tlearn: 1.6168011\ttotal: 616ms\tremaining: 599ms\n",
      "507:\tlearn: 1.6162069\ttotal: 618ms\tremaining: 598ms\n",
      "508:\tlearn: 1.6152906\ttotal: 619ms\tremaining: 597ms\n",
      "509:\tlearn: 1.6141167\ttotal: 621ms\tremaining: 596ms\n",
      "510:\tlearn: 1.6126385\ttotal: 622ms\tremaining: 595ms\n",
      "511:\tlearn: 1.6118727\ttotal: 623ms\tremaining: 594ms\n",
      "512:\tlearn: 1.6112538\ttotal: 625ms\tremaining: 593ms\n",
      "513:\tlearn: 1.6100524\ttotal: 626ms\tremaining: 592ms\n",
      "514:\tlearn: 1.6093874\ttotal: 628ms\tremaining: 591ms\n",
      "515:\tlearn: 1.6093520\ttotal: 629ms\tremaining: 590ms\n",
      "516:\tlearn: 1.6082811\ttotal: 630ms\tremaining: 589ms\n",
      "517:\tlearn: 1.6067337\ttotal: 631ms\tremaining: 588ms\n",
      "518:\tlearn: 1.6058107\ttotal: 633ms\tremaining: 586ms\n",
      "519:\tlearn: 1.6046833\ttotal: 634ms\tremaining: 585ms\n",
      "520:\tlearn: 1.6046256\ttotal: 635ms\tremaining: 584ms\n",
      "521:\tlearn: 1.6034278\ttotal: 637ms\tremaining: 583ms\n",
      "522:\tlearn: 1.6027433\ttotal: 638ms\tremaining: 582ms\n",
      "523:\tlearn: 1.6015729\ttotal: 639ms\tremaining: 580ms\n",
      "524:\tlearn: 1.6013070\ttotal: 640ms\tremaining: 579ms\n",
      "525:\tlearn: 1.5993273\ttotal: 642ms\tremaining: 578ms\n",
      "526:\tlearn: 1.5981822\ttotal: 643ms\tremaining: 577ms\n",
      "527:\tlearn: 1.5980085\ttotal: 644ms\tremaining: 576ms\n",
      "528:\tlearn: 1.5977557\ttotal: 645ms\tremaining: 574ms\n",
      "529:\tlearn: 1.5963769\ttotal: 646ms\tremaining: 573ms\n",
      "530:\tlearn: 1.5961980\ttotal: 647ms\tremaining: 572ms\n",
      "531:\tlearn: 1.5960985\ttotal: 649ms\tremaining: 571ms\n",
      "532:\tlearn: 1.5952805\ttotal: 650ms\tremaining: 569ms\n",
      "533:\tlearn: 1.5950044\ttotal: 651ms\tremaining: 568ms\n",
      "534:\tlearn: 1.5949087\ttotal: 653ms\tremaining: 567ms\n",
      "535:\tlearn: 1.5948554\ttotal: 654ms\tremaining: 566ms\n",
      "536:\tlearn: 1.5935629\ttotal: 655ms\tremaining: 565ms\n",
      "537:\tlearn: 1.5930919\ttotal: 656ms\tremaining: 563ms\n",
      "538:\tlearn: 1.5918710\ttotal: 657ms\tremaining: 562ms\n",
      "539:\tlearn: 1.5912163\ttotal: 658ms\tremaining: 561ms\n",
      "540:\tlearn: 1.5908415\ttotal: 660ms\tremaining: 560ms\n",
      "541:\tlearn: 1.5896868\ttotal: 661ms\tremaining: 558ms\n",
      "542:\tlearn: 1.5884604\ttotal: 662ms\tremaining: 557ms\n",
      "543:\tlearn: 1.5867578\ttotal: 663ms\tremaining: 556ms\n",
      "544:\tlearn: 1.5851151\ttotal: 665ms\tremaining: 555ms\n",
      "545:\tlearn: 1.5844862\ttotal: 666ms\tremaining: 554ms\n",
      "546:\tlearn: 1.5838561\ttotal: 667ms\tremaining: 552ms\n",
      "547:\tlearn: 1.5837581\ttotal: 668ms\tremaining: 551ms\n",
      "548:\tlearn: 1.5831458\ttotal: 669ms\tremaining: 550ms\n",
      "549:\tlearn: 1.5830372\ttotal: 671ms\tremaining: 549ms\n",
      "550:\tlearn: 1.5822463\ttotal: 672ms\tremaining: 547ms\n",
      "551:\tlearn: 1.5805965\ttotal: 673ms\tremaining: 546ms\n",
      "552:\tlearn: 1.5788735\ttotal: 674ms\tremaining: 545ms\n",
      "553:\tlearn: 1.5778134\ttotal: 676ms\tremaining: 544ms\n",
      "554:\tlearn: 1.5763724\ttotal: 677ms\tremaining: 543ms\n",
      "555:\tlearn: 1.5753283\ttotal: 678ms\tremaining: 542ms\n",
      "556:\tlearn: 1.5740538\ttotal: 679ms\tremaining: 540ms\n",
      "557:\tlearn: 1.5735948\ttotal: 681ms\tremaining: 539ms\n",
      "558:\tlearn: 1.5731856\ttotal: 682ms\tremaining: 538ms\n",
      "559:\tlearn: 1.5730564\ttotal: 683ms\tremaining: 537ms\n",
      "560:\tlearn: 1.5720584\ttotal: 684ms\tremaining: 536ms\n",
      "561:\tlearn: 1.5717042\ttotal: 686ms\tremaining: 534ms\n",
      "562:\tlearn: 1.5712014\ttotal: 687ms\tremaining: 533ms\n",
      "563:\tlearn: 1.5703991\ttotal: 688ms\tremaining: 532ms\n",
      "564:\tlearn: 1.5684921\ttotal: 689ms\tremaining: 531ms\n",
      "565:\tlearn: 1.5672305\ttotal: 690ms\tremaining: 529ms\n",
      "566:\tlearn: 1.5653612\ttotal: 692ms\tremaining: 528ms\n",
      "567:\tlearn: 1.5638639\ttotal: 693ms\tremaining: 527ms\n",
      "568:\tlearn: 1.5637427\ttotal: 694ms\tremaining: 526ms\n",
      "569:\tlearn: 1.5634998\ttotal: 695ms\tremaining: 525ms\n",
      "570:\tlearn: 1.5627575\ttotal: 696ms\tremaining: 523ms\n",
      "571:\tlearn: 1.5620817\ttotal: 698ms\tremaining: 522ms\n",
      "572:\tlearn: 1.5603449\ttotal: 699ms\tremaining: 521ms\n",
      "573:\tlearn: 1.5594066\ttotal: 700ms\tremaining: 520ms\n",
      "574:\tlearn: 1.5583083\ttotal: 701ms\tremaining: 518ms\n",
      "575:\tlearn: 1.5571460\ttotal: 703ms\tremaining: 517ms\n",
      "576:\tlearn: 1.5564786\ttotal: 704ms\tremaining: 516ms\n",
      "577:\tlearn: 1.5551180\ttotal: 705ms\tremaining: 515ms\n",
      "578:\tlearn: 1.5543547\ttotal: 706ms\tremaining: 513ms\n",
      "579:\tlearn: 1.5541564\ttotal: 707ms\tremaining: 512ms\n",
      "580:\tlearn: 1.5531415\ttotal: 708ms\tremaining: 511ms\n",
      "581:\tlearn: 1.5525768\ttotal: 709ms\tremaining: 510ms\n",
      "582:\tlearn: 1.5525051\ttotal: 710ms\tremaining: 508ms\n",
      "583:\tlearn: 1.5520402\ttotal: 712ms\tremaining: 507ms\n",
      "584:\tlearn: 1.5517530\ttotal: 713ms\tremaining: 506ms\n",
      "585:\tlearn: 1.5502105\ttotal: 714ms\tremaining: 505ms\n",
      "586:\tlearn: 1.5495654\ttotal: 715ms\tremaining: 503ms\n",
      "587:\tlearn: 1.5489847\ttotal: 717ms\tremaining: 502ms\n",
      "588:\tlearn: 1.5487664\ttotal: 718ms\tremaining: 501ms\n",
      "589:\tlearn: 1.5484145\ttotal: 719ms\tremaining: 500ms\n",
      "590:\tlearn: 1.5472457\ttotal: 720ms\tremaining: 498ms\n",
      "591:\tlearn: 1.5462130\ttotal: 721ms\tremaining: 497ms\n",
      "592:\tlearn: 1.5456256\ttotal: 723ms\tremaining: 496ms\n",
      "593:\tlearn: 1.5456108\ttotal: 723ms\tremaining: 495ms\n",
      "594:\tlearn: 1.5450242\ttotal: 725ms\tremaining: 493ms\n",
      "595:\tlearn: 1.5449837\ttotal: 726ms\tremaining: 492ms\n",
      "596:\tlearn: 1.5449038\ttotal: 727ms\tremaining: 491ms\n",
      "597:\tlearn: 1.5434546\ttotal: 728ms\tremaining: 489ms\n",
      "598:\tlearn: 1.5427463\ttotal: 729ms\tremaining: 488ms\n",
      "599:\tlearn: 1.5418083\ttotal: 731ms\tremaining: 487ms\n",
      "600:\tlearn: 1.5404189\ttotal: 732ms\tremaining: 486ms\n",
      "601:\tlearn: 1.5394516\ttotal: 733ms\tremaining: 485ms\n",
      "602:\tlearn: 1.5393000\ttotal: 735ms\tremaining: 484ms\n",
      "603:\tlearn: 1.5375722\ttotal: 736ms\tremaining: 482ms\n",
      "604:\tlearn: 1.5375538\ttotal: 737ms\tremaining: 481ms\n",
      "605:\tlearn: 1.5374526\ttotal: 738ms\tremaining: 480ms\n",
      "606:\tlearn: 1.5360240\ttotal: 739ms\tremaining: 479ms\n",
      "607:\tlearn: 1.5345340\ttotal: 740ms\tremaining: 477ms\n",
      "608:\tlearn: 1.5342523\ttotal: 742ms\tremaining: 476ms\n",
      "609:\tlearn: 1.5341992\ttotal: 743ms\tremaining: 475ms\n",
      "610:\tlearn: 1.5337693\ttotal: 744ms\tremaining: 474ms\n",
      "611:\tlearn: 1.5337281\ttotal: 745ms\tremaining: 472ms\n",
      "612:\tlearn: 1.5320662\ttotal: 746ms\tremaining: 471ms\n",
      "613:\tlearn: 1.5314452\ttotal: 747ms\tremaining: 470ms\n",
      "614:\tlearn: 1.5306551\ttotal: 748ms\tremaining: 469ms\n",
      "615:\tlearn: 1.5304760\ttotal: 750ms\tremaining: 467ms\n",
      "616:\tlearn: 1.5287722\ttotal: 751ms\tremaining: 466ms\n",
      "617:\tlearn: 1.5275155\ttotal: 752ms\tremaining: 465ms\n",
      "618:\tlearn: 1.5274829\ttotal: 753ms\tremaining: 463ms\n",
      "619:\tlearn: 1.5267137\ttotal: 754ms\tremaining: 462ms\n",
      "620:\tlearn: 1.5255094\ttotal: 755ms\tremaining: 461ms\n",
      "621:\tlearn: 1.5248928\ttotal: 756ms\tremaining: 459ms\n",
      "622:\tlearn: 1.5238762\ttotal: 757ms\tremaining: 458ms\n",
      "623:\tlearn: 1.5226641\ttotal: 758ms\tremaining: 457ms\n",
      "624:\tlearn: 1.5216656\ttotal: 760ms\tremaining: 456ms\n",
      "625:\tlearn: 1.5215773\ttotal: 761ms\tremaining: 454ms\n",
      "626:\tlearn: 1.5204588\ttotal: 762ms\tremaining: 453ms\n",
      "627:\tlearn: 1.5203837\ttotal: 763ms\tremaining: 452ms\n",
      "628:\tlearn: 1.5187024\ttotal: 764ms\tremaining: 451ms\n",
      "629:\tlearn: 1.5185826\ttotal: 765ms\tremaining: 450ms\n",
      "630:\tlearn: 1.5180511\ttotal: 767ms\tremaining: 448ms\n",
      "631:\tlearn: 1.5172814\ttotal: 768ms\tremaining: 447ms\n",
      "632:\tlearn: 1.5165445\ttotal: 769ms\tremaining: 446ms\n",
      "633:\tlearn: 1.5158115\ttotal: 770ms\tremaining: 444ms\n",
      "634:\tlearn: 1.5147669\ttotal: 771ms\tremaining: 443ms\n",
      "635:\tlearn: 1.5135154\ttotal: 772ms\tremaining: 442ms\n",
      "636:\tlearn: 1.5129074\ttotal: 773ms\tremaining: 441ms\n",
      "637:\tlearn: 1.5119747\ttotal: 774ms\tremaining: 439ms\n",
      "638:\tlearn: 1.5113459\ttotal: 775ms\tremaining: 438ms\n",
      "639:\tlearn: 1.5113093\ttotal: 776ms\tremaining: 437ms\n",
      "640:\tlearn: 1.5102507\ttotal: 778ms\tremaining: 436ms\n",
      "641:\tlearn: 1.5088794\ttotal: 779ms\tremaining: 434ms\n",
      "642:\tlearn: 1.5081714\ttotal: 780ms\tremaining: 433ms\n",
      "643:\tlearn: 1.5072823\ttotal: 782ms\tremaining: 432ms\n",
      "644:\tlearn: 1.5061802\ttotal: 783ms\tremaining: 431ms\n",
      "645:\tlearn: 1.5058317\ttotal: 784ms\tremaining: 430ms\n",
      "646:\tlearn: 1.5047019\ttotal: 785ms\tremaining: 428ms\n",
      "647:\tlearn: 1.5034331\ttotal: 786ms\tremaining: 427ms\n",
      "648:\tlearn: 1.5030364\ttotal: 787ms\tremaining: 426ms\n",
      "649:\tlearn: 1.5030049\ttotal: 788ms\tremaining: 425ms\n",
      "650:\tlearn: 1.5023154\ttotal: 790ms\tremaining: 423ms\n",
      "651:\tlearn: 1.5013219\ttotal: 791ms\tremaining: 422ms\n",
      "652:\tlearn: 1.5000393\ttotal: 792ms\tremaining: 421ms\n",
      "653:\tlearn: 1.4986023\ttotal: 793ms\tremaining: 420ms\n",
      "654:\tlearn: 1.4980201\ttotal: 794ms\tremaining: 418ms\n",
      "655:\tlearn: 1.4974070\ttotal: 795ms\tremaining: 417ms\n",
      "656:\tlearn: 1.4967090\ttotal: 796ms\tremaining: 416ms\n",
      "657:\tlearn: 1.4963105\ttotal: 798ms\tremaining: 415ms\n",
      "658:\tlearn: 1.4961554\ttotal: 799ms\tremaining: 413ms\n",
      "659:\tlearn: 1.4953569\ttotal: 800ms\tremaining: 412ms\n",
      "660:\tlearn: 1.4949544\ttotal: 801ms\tremaining: 411ms\n",
      "661:\tlearn: 1.4929043\ttotal: 802ms\tremaining: 410ms\n",
      "662:\tlearn: 1.4923593\ttotal: 803ms\tremaining: 408ms\n",
      "663:\tlearn: 1.4923072\ttotal: 805ms\tremaining: 407ms\n",
      "664:\tlearn: 1.4917864\ttotal: 806ms\tremaining: 406ms\n",
      "665:\tlearn: 1.4900893\ttotal: 807ms\tremaining: 405ms\n",
      "666:\tlearn: 1.4885073\ttotal: 808ms\tremaining: 404ms\n",
      "667:\tlearn: 1.4880577\ttotal: 809ms\tremaining: 402ms\n",
      "668:\tlearn: 1.4880178\ttotal: 811ms\tremaining: 401ms\n",
      "669:\tlearn: 1.4863967\ttotal: 812ms\tremaining: 400ms\n",
      "670:\tlearn: 1.4855883\ttotal: 813ms\tremaining: 399ms\n",
      "671:\tlearn: 1.4850946\ttotal: 815ms\tremaining: 398ms\n",
      "672:\tlearn: 1.4848045\ttotal: 816ms\tremaining: 396ms\n",
      "673:\tlearn: 1.4842093\ttotal: 817ms\tremaining: 395ms\n",
      "674:\tlearn: 1.4827121\ttotal: 818ms\tremaining: 394ms\n",
      "675:\tlearn: 1.4824886\ttotal: 819ms\tremaining: 393ms\n",
      "676:\tlearn: 1.4824422\ttotal: 820ms\tremaining: 391ms\n",
      "677:\tlearn: 1.4811298\ttotal: 821ms\tremaining: 390ms\n",
      "678:\tlearn: 1.4801997\ttotal: 822ms\tremaining: 389ms\n",
      "679:\tlearn: 1.4789189\ttotal: 824ms\tremaining: 388ms\n",
      "680:\tlearn: 1.4776773\ttotal: 825ms\tremaining: 386ms\n",
      "681:\tlearn: 1.4774789\ttotal: 826ms\tremaining: 385ms\n",
      "682:\tlearn: 1.4769200\ttotal: 827ms\tremaining: 384ms\n",
      "683:\tlearn: 1.4764536\ttotal: 829ms\tremaining: 383ms\n",
      "684:\tlearn: 1.4762402\ttotal: 830ms\tremaining: 381ms\n",
      "685:\tlearn: 1.4754202\ttotal: 831ms\tremaining: 380ms\n",
      "686:\tlearn: 1.4753035\ttotal: 832ms\tremaining: 379ms\n",
      "687:\tlearn: 1.4743159\ttotal: 833ms\tremaining: 378ms\n",
      "688:\tlearn: 1.4730363\ttotal: 834ms\tremaining: 376ms\n",
      "689:\tlearn: 1.4715144\ttotal: 835ms\tremaining: 375ms\n",
      "690:\tlearn: 1.4714618\ttotal: 836ms\tremaining: 374ms\n",
      "691:\tlearn: 1.4700370\ttotal: 837ms\tremaining: 373ms\n",
      "692:\tlearn: 1.4696031\ttotal: 838ms\tremaining: 371ms\n",
      "693:\tlearn: 1.4688110\ttotal: 839ms\tremaining: 370ms\n",
      "694:\tlearn: 1.4682544\ttotal: 840ms\tremaining: 369ms\n",
      "695:\tlearn: 1.4676639\ttotal: 842ms\tremaining: 368ms\n",
      "696:\tlearn: 1.4668122\ttotal: 843ms\tremaining: 366ms\n",
      "697:\tlearn: 1.4666100\ttotal: 844ms\tremaining: 365ms\n",
      "698:\tlearn: 1.4657725\ttotal: 845ms\tremaining: 364ms\n",
      "699:\tlearn: 1.4650397\ttotal: 846ms\tremaining: 363ms\n",
      "700:\tlearn: 1.4649821\ttotal: 847ms\tremaining: 361ms\n",
      "701:\tlearn: 1.4645480\ttotal: 848ms\tremaining: 360ms\n",
      "702:\tlearn: 1.4641698\ttotal: 849ms\tremaining: 359ms\n",
      "703:\tlearn: 1.4632522\ttotal: 850ms\tremaining: 357ms\n",
      "704:\tlearn: 1.4627968\ttotal: 851ms\tremaining: 356ms\n",
      "705:\tlearn: 1.4616020\ttotal: 852ms\tremaining: 355ms\n",
      "706:\tlearn: 1.4605822\ttotal: 853ms\tremaining: 354ms\n",
      "707:\tlearn: 1.4603296\ttotal: 854ms\tremaining: 352ms\n",
      "708:\tlearn: 1.4602880\ttotal: 855ms\tremaining: 351ms\n",
      "709:\tlearn: 1.4590604\ttotal: 857ms\tremaining: 350ms\n",
      "710:\tlearn: 1.4588779\ttotal: 858ms\tremaining: 349ms\n",
      "711:\tlearn: 1.4581127\ttotal: 859ms\tremaining: 347ms\n",
      "712:\tlearn: 1.4577627\ttotal: 860ms\tremaining: 346ms\n",
      "713:\tlearn: 1.4569667\ttotal: 861ms\tremaining: 345ms\n",
      "714:\tlearn: 1.4560294\ttotal: 863ms\tremaining: 344ms\n",
      "715:\tlearn: 1.4559179\ttotal: 864ms\tremaining: 343ms\n",
      "716:\tlearn: 1.4546920\ttotal: 865ms\tremaining: 341ms\n",
      "717:\tlearn: 1.4537619\ttotal: 866ms\tremaining: 340ms\n",
      "718:\tlearn: 1.4537322\ttotal: 867ms\tremaining: 339ms\n",
      "719:\tlearn: 1.4528292\ttotal: 869ms\tremaining: 338ms\n",
      "720:\tlearn: 1.4526016\ttotal: 870ms\tremaining: 337ms\n",
      "721:\tlearn: 1.4524553\ttotal: 871ms\tremaining: 335ms\n",
      "722:\tlearn: 1.4518671\ttotal: 872ms\tremaining: 334ms\n",
      "723:\tlearn: 1.4507731\ttotal: 874ms\tremaining: 333ms\n",
      "724:\tlearn: 1.4502016\ttotal: 875ms\tremaining: 332ms\n",
      "725:\tlearn: 1.4501360\ttotal: 876ms\tremaining: 331ms\n",
      "726:\tlearn: 1.4490665\ttotal: 877ms\tremaining: 329ms\n",
      "727:\tlearn: 1.4485698\ttotal: 879ms\tremaining: 328ms\n",
      "728:\tlearn: 1.4483932\ttotal: 880ms\tremaining: 327ms\n",
      "729:\tlearn: 1.4471550\ttotal: 881ms\tremaining: 326ms\n",
      "730:\tlearn: 1.4461935\ttotal: 882ms\tremaining: 325ms\n",
      "731:\tlearn: 1.4461291\ttotal: 883ms\tremaining: 323ms\n",
      "732:\tlearn: 1.4455597\ttotal: 884ms\tremaining: 322ms\n",
      "733:\tlearn: 1.4442486\ttotal: 886ms\tremaining: 321ms\n",
      "734:\tlearn: 1.4437116\ttotal: 887ms\tremaining: 320ms\n",
      "735:\tlearn: 1.4429413\ttotal: 888ms\tremaining: 319ms\n",
      "736:\tlearn: 1.4427623\ttotal: 890ms\tremaining: 317ms\n",
      "737:\tlearn: 1.4420826\ttotal: 891ms\tremaining: 316ms\n",
      "738:\tlearn: 1.4419556\ttotal: 892ms\tremaining: 315ms\n",
      "739:\tlearn: 1.4414062\ttotal: 893ms\tremaining: 314ms\n",
      "740:\tlearn: 1.4410280\ttotal: 895ms\tremaining: 313ms\n",
      "741:\tlearn: 1.4405510\ttotal: 896ms\tremaining: 312ms\n",
      "742:\tlearn: 1.4393085\ttotal: 897ms\tremaining: 310ms\n",
      "743:\tlearn: 1.4386155\ttotal: 898ms\tremaining: 309ms\n",
      "744:\tlearn: 1.4373423\ttotal: 899ms\tremaining: 308ms\n",
      "745:\tlearn: 1.4361752\ttotal: 901ms\tremaining: 307ms\n",
      "746:\tlearn: 1.4353784\ttotal: 902ms\tremaining: 305ms\n",
      "747:\tlearn: 1.4346013\ttotal: 903ms\tremaining: 304ms\n",
      "748:\tlearn: 1.4334387\ttotal: 905ms\tremaining: 303ms\n",
      "749:\tlearn: 1.4326164\ttotal: 906ms\tremaining: 302ms\n",
      "750:\tlearn: 1.4321529\ttotal: 907ms\tremaining: 301ms\n",
      "751:\tlearn: 1.4311396\ttotal: 909ms\tremaining: 300ms\n",
      "752:\tlearn: 1.4300143\ttotal: 910ms\tremaining: 298ms\n",
      "753:\tlearn: 1.4287957\ttotal: 911ms\tremaining: 297ms\n",
      "754:\tlearn: 1.4287237\ttotal: 912ms\tremaining: 296ms\n",
      "755:\tlearn: 1.4285466\ttotal: 913ms\tremaining: 295ms\n",
      "756:\tlearn: 1.4273700\ttotal: 914ms\tremaining: 293ms\n",
      "757:\tlearn: 1.4267891\ttotal: 915ms\tremaining: 292ms\n",
      "758:\tlearn: 1.4267511\ttotal: 916ms\tremaining: 291ms\n",
      "759:\tlearn: 1.4265635\ttotal: 917ms\tremaining: 290ms\n",
      "760:\tlearn: 1.4265351\ttotal: 919ms\tremaining: 288ms\n",
      "761:\tlearn: 1.4262389\ttotal: 920ms\tremaining: 287ms\n",
      "762:\tlearn: 1.4256623\ttotal: 921ms\tremaining: 286ms\n",
      "763:\tlearn: 1.4254588\ttotal: 922ms\tremaining: 285ms\n",
      "764:\tlearn: 1.4244055\ttotal: 923ms\tremaining: 284ms\n",
      "765:\tlearn: 1.4239035\ttotal: 925ms\tremaining: 282ms\n",
      "766:\tlearn: 1.4238560\ttotal: 926ms\tremaining: 281ms\n",
      "767:\tlearn: 1.4237200\ttotal: 927ms\tremaining: 280ms\n",
      "768:\tlearn: 1.4231186\ttotal: 928ms\tremaining: 279ms\n",
      "769:\tlearn: 1.4228109\ttotal: 929ms\tremaining: 277ms\n",
      "770:\tlearn: 1.4223043\ttotal: 930ms\tremaining: 276ms\n",
      "771:\tlearn: 1.4220687\ttotal: 931ms\tremaining: 275ms\n",
      "772:\tlearn: 1.4215776\ttotal: 932ms\tremaining: 274ms\n",
      "773:\tlearn: 1.4207504\ttotal: 933ms\tremaining: 273ms\n",
      "774:\tlearn: 1.4205083\ttotal: 935ms\tremaining: 271ms\n",
      "775:\tlearn: 1.4202779\ttotal: 936ms\tremaining: 270ms\n",
      "776:\tlearn: 1.4192188\ttotal: 937ms\tremaining: 269ms\n",
      "777:\tlearn: 1.4188800\ttotal: 938ms\tremaining: 268ms\n",
      "778:\tlearn: 1.4175073\ttotal: 940ms\tremaining: 267ms\n",
      "779:\tlearn: 1.4169172\ttotal: 941ms\tremaining: 265ms\n",
      "780:\tlearn: 1.4168759\ttotal: 942ms\tremaining: 264ms\n",
      "781:\tlearn: 1.4155047\ttotal: 943ms\tremaining: 263ms\n",
      "782:\tlearn: 1.4146731\ttotal: 944ms\tremaining: 262ms\n",
      "783:\tlearn: 1.4133913\ttotal: 945ms\tremaining: 260ms\n",
      "784:\tlearn: 1.4132808\ttotal: 946ms\tremaining: 259ms\n",
      "785:\tlearn: 1.4124716\ttotal: 947ms\tremaining: 258ms\n",
      "786:\tlearn: 1.4124506\ttotal: 948ms\tremaining: 257ms\n",
      "787:\tlearn: 1.4122060\ttotal: 949ms\tremaining: 255ms\n",
      "788:\tlearn: 1.4110708\ttotal: 951ms\tremaining: 254ms\n",
      "789:\tlearn: 1.4101107\ttotal: 952ms\tremaining: 253ms\n",
      "790:\tlearn: 1.4089321\ttotal: 953ms\tremaining: 252ms\n",
      "791:\tlearn: 1.4083803\ttotal: 954ms\tremaining: 251ms\n",
      "792:\tlearn: 1.4077988\ttotal: 955ms\tremaining: 249ms\n",
      "793:\tlearn: 1.4071848\ttotal: 956ms\tremaining: 248ms\n",
      "794:\tlearn: 1.4063022\ttotal: 957ms\tremaining: 247ms\n",
      "795:\tlearn: 1.4062711\ttotal: 959ms\tremaining: 246ms\n",
      "796:\tlearn: 1.4051011\ttotal: 960ms\tremaining: 244ms\n",
      "797:\tlearn: 1.4043799\ttotal: 961ms\tremaining: 243ms\n",
      "798:\tlearn: 1.4039280\ttotal: 962ms\tremaining: 242ms\n",
      "799:\tlearn: 1.4038053\ttotal: 963ms\tremaining: 241ms\n",
      "800:\tlearn: 1.4027999\ttotal: 964ms\tremaining: 240ms\n",
      "801:\tlearn: 1.4016046\ttotal: 966ms\tremaining: 238ms\n",
      "802:\tlearn: 1.4005401\ttotal: 967ms\tremaining: 237ms\n",
      "803:\tlearn: 1.3996797\ttotal: 968ms\tremaining: 236ms\n",
      "804:\tlearn: 1.3985455\ttotal: 969ms\tremaining: 235ms\n",
      "805:\tlearn: 1.3974405\ttotal: 970ms\tremaining: 234ms\n",
      "806:\tlearn: 1.3970072\ttotal: 971ms\tremaining: 232ms\n",
      "807:\tlearn: 1.3965724\ttotal: 972ms\tremaining: 231ms\n",
      "808:\tlearn: 1.3956160\ttotal: 973ms\tremaining: 230ms\n",
      "809:\tlearn: 1.3954259\ttotal: 974ms\tremaining: 229ms\n",
      "810:\tlearn: 1.3953447\ttotal: 975ms\tremaining: 227ms\n",
      "811:\tlearn: 1.3942566\ttotal: 977ms\tremaining: 226ms\n",
      "812:\tlearn: 1.3935568\ttotal: 978ms\tremaining: 225ms\n",
      "813:\tlearn: 1.3927568\ttotal: 979ms\tremaining: 224ms\n",
      "814:\tlearn: 1.3920017\ttotal: 980ms\tremaining: 223ms\n",
      "815:\tlearn: 1.3909562\ttotal: 982ms\tremaining: 221ms\n",
      "816:\tlearn: 1.3908158\ttotal: 983ms\tremaining: 220ms\n",
      "817:\tlearn: 1.3893705\ttotal: 984ms\tremaining: 219ms\n",
      "818:\tlearn: 1.3883889\ttotal: 985ms\tremaining: 218ms\n",
      "819:\tlearn: 1.3880595\ttotal: 986ms\tremaining: 216ms\n",
      "820:\tlearn: 1.3869168\ttotal: 987ms\tremaining: 215ms\n",
      "821:\tlearn: 1.3862934\ttotal: 988ms\tremaining: 214ms\n",
      "822:\tlearn: 1.3853568\ttotal: 989ms\tremaining: 213ms\n",
      "823:\tlearn: 1.3847318\ttotal: 991ms\tremaining: 212ms\n",
      "824:\tlearn: 1.3839784\ttotal: 992ms\tremaining: 210ms\n",
      "825:\tlearn: 1.3825449\ttotal: 993ms\tremaining: 209ms\n",
      "826:\tlearn: 1.3811580\ttotal: 995ms\tremaining: 208ms\n",
      "827:\tlearn: 1.3809571\ttotal: 996ms\tremaining: 207ms\n",
      "828:\tlearn: 1.3800838\ttotal: 997ms\tremaining: 206ms\n",
      "829:\tlearn: 1.3791485\ttotal: 999ms\tremaining: 205ms\n",
      "830:\tlearn: 1.3779651\ttotal: 1000ms\tremaining: 203ms\n",
      "831:\tlearn: 1.3772530\ttotal: 1s\tremaining: 202ms\n",
      "832:\tlearn: 1.3770240\ttotal: 1s\tremaining: 201ms\n",
      "833:\tlearn: 1.3763092\ttotal: 1s\tremaining: 200ms\n",
      "834:\tlearn: 1.3757642\ttotal: 1s\tremaining: 199ms\n",
      "835:\tlearn: 1.3755575\ttotal: 1.01s\tremaining: 197ms\n",
      "836:\tlearn: 1.3753058\ttotal: 1.01s\tremaining: 196ms\n",
      "837:\tlearn: 1.3748722\ttotal: 1.01s\tremaining: 195ms\n",
      "838:\tlearn: 1.3735863\ttotal: 1.01s\tremaining: 194ms\n",
      "839:\tlearn: 1.3725179\ttotal: 1.01s\tremaining: 193ms\n",
      "840:\tlearn: 1.3712393\ttotal: 1.01s\tremaining: 191ms\n",
      "841:\tlearn: 1.3699721\ttotal: 1.01s\tremaining: 190ms\n",
      "842:\tlearn: 1.3699414\ttotal: 1.01s\tremaining: 189ms\n",
      "843:\tlearn: 1.3690741\ttotal: 1.02s\tremaining: 188ms\n",
      "844:\tlearn: 1.3689464\ttotal: 1.02s\tremaining: 187ms\n",
      "845:\tlearn: 1.3683081\ttotal: 1.02s\tremaining: 186ms\n",
      "846:\tlearn: 1.3682069\ttotal: 1.02s\tremaining: 184ms\n",
      "847:\tlearn: 1.3681367\ttotal: 1.02s\tremaining: 183ms\n",
      "848:\tlearn: 1.3668969\ttotal: 1.02s\tremaining: 182ms\n",
      "849:\tlearn: 1.3663842\ttotal: 1.02s\tremaining: 181ms\n",
      "850:\tlearn: 1.3662041\ttotal: 1.02s\tremaining: 179ms\n",
      "851:\tlearn: 1.3660002\ttotal: 1.03s\tremaining: 178ms\n",
      "852:\tlearn: 1.3659615\ttotal: 1.03s\tremaining: 177ms\n",
      "853:\tlearn: 1.3654576\ttotal: 1.03s\tremaining: 176ms\n",
      "854:\tlearn: 1.3648146\ttotal: 1.03s\tremaining: 175ms\n",
      "855:\tlearn: 1.3646601\ttotal: 1.03s\tremaining: 174ms\n",
      "856:\tlearn: 1.3636737\ttotal: 1.03s\tremaining: 172ms\n",
      "857:\tlearn: 1.3627862\ttotal: 1.03s\tremaining: 171ms\n",
      "858:\tlearn: 1.3619704\ttotal: 1.03s\tremaining: 170ms\n",
      "859:\tlearn: 1.3619328\ttotal: 1.04s\tremaining: 169ms\n",
      "860:\tlearn: 1.3609821\ttotal: 1.04s\tremaining: 167ms\n",
      "861:\tlearn: 1.3599803\ttotal: 1.04s\tremaining: 166ms\n",
      "862:\tlearn: 1.3588052\ttotal: 1.04s\tremaining: 165ms\n",
      "863:\tlearn: 1.3578997\ttotal: 1.04s\tremaining: 164ms\n",
      "864:\tlearn: 1.3574039\ttotal: 1.04s\tremaining: 163ms\n",
      "865:\tlearn: 1.3562022\ttotal: 1.04s\tremaining: 161ms\n",
      "866:\tlearn: 1.3560001\ttotal: 1.04s\tremaining: 160ms\n",
      "867:\tlearn: 1.3558876\ttotal: 1.04s\tremaining: 159ms\n",
      "868:\tlearn: 1.3555729\ttotal: 1.05s\tremaining: 158ms\n",
      "869:\tlearn: 1.3545569\ttotal: 1.05s\tremaining: 157ms\n",
      "870:\tlearn: 1.3545199\ttotal: 1.05s\tremaining: 155ms\n",
      "871:\tlearn: 1.3541461\ttotal: 1.05s\tremaining: 154ms\n",
      "872:\tlearn: 1.3539276\ttotal: 1.05s\tremaining: 153ms\n",
      "873:\tlearn: 1.3528486\ttotal: 1.05s\tremaining: 152ms\n",
      "874:\tlearn: 1.3525846\ttotal: 1.05s\tremaining: 151ms\n",
      "875:\tlearn: 1.3516924\ttotal: 1.05s\tremaining: 149ms\n",
      "876:\tlearn: 1.3514430\ttotal: 1.06s\tremaining: 148ms\n",
      "877:\tlearn: 1.3506462\ttotal: 1.06s\tremaining: 147ms\n",
      "878:\tlearn: 1.3504600\ttotal: 1.06s\tremaining: 146ms\n",
      "879:\tlearn: 1.3503767\ttotal: 1.06s\tremaining: 145ms\n",
      "880:\tlearn: 1.3493793\ttotal: 1.06s\tremaining: 143ms\n",
      "881:\tlearn: 1.3476746\ttotal: 1.06s\tremaining: 142ms\n",
      "882:\tlearn: 1.3470325\ttotal: 1.06s\tremaining: 141ms\n",
      "883:\tlearn: 1.3465085\ttotal: 1.06s\tremaining: 140ms\n",
      "884:\tlearn: 1.3452397\ttotal: 1.07s\tremaining: 139ms\n",
      "885:\tlearn: 1.3446076\ttotal: 1.07s\tremaining: 137ms\n",
      "886:\tlearn: 1.3435317\ttotal: 1.07s\tremaining: 136ms\n",
      "887:\tlearn: 1.3431534\ttotal: 1.07s\tremaining: 135ms\n",
      "888:\tlearn: 1.3430410\ttotal: 1.07s\tremaining: 134ms\n",
      "889:\tlearn: 1.3416091\ttotal: 1.07s\tremaining: 133ms\n",
      "890:\tlearn: 1.3412439\ttotal: 1.07s\tremaining: 131ms\n",
      "891:\tlearn: 1.3409183\ttotal: 1.07s\tremaining: 130ms\n",
      "892:\tlearn: 1.3399197\ttotal: 1.08s\tremaining: 129ms\n",
      "893:\tlearn: 1.3394539\ttotal: 1.08s\tremaining: 128ms\n",
      "894:\tlearn: 1.3388907\ttotal: 1.08s\tremaining: 127ms\n",
      "895:\tlearn: 1.3386158\ttotal: 1.08s\tremaining: 125ms\n",
      "896:\tlearn: 1.3374961\ttotal: 1.08s\tremaining: 124ms\n",
      "897:\tlearn: 1.3373710\ttotal: 1.08s\tremaining: 123ms\n",
      "898:\tlearn: 1.3372251\ttotal: 1.08s\tremaining: 122ms\n",
      "899:\tlearn: 1.3364505\ttotal: 1.08s\tremaining: 121ms\n",
      "900:\tlearn: 1.3362762\ttotal: 1.09s\tremaining: 119ms\n",
      "901:\tlearn: 1.3355418\ttotal: 1.09s\tremaining: 118ms\n",
      "902:\tlearn: 1.3345795\ttotal: 1.09s\tremaining: 117ms\n",
      "903:\tlearn: 1.3341368\ttotal: 1.09s\tremaining: 116ms\n",
      "904:\tlearn: 1.3335830\ttotal: 1.09s\tremaining: 115ms\n",
      "905:\tlearn: 1.3324960\ttotal: 1.09s\tremaining: 113ms\n",
      "906:\tlearn: 1.3318178\ttotal: 1.09s\tremaining: 112ms\n",
      "907:\tlearn: 1.3311660\ttotal: 1.09s\tremaining: 111ms\n",
      "908:\tlearn: 1.3302436\ttotal: 1.1s\tremaining: 110ms\n",
      "909:\tlearn: 1.3299243\ttotal: 1.1s\tremaining: 109ms\n",
      "910:\tlearn: 1.3293616\ttotal: 1.1s\tremaining: 107ms\n",
      "911:\tlearn: 1.3285116\ttotal: 1.1s\tremaining: 106ms\n",
      "912:\tlearn: 1.3274549\ttotal: 1.1s\tremaining: 105ms\n",
      "913:\tlearn: 1.3266142\ttotal: 1.1s\tremaining: 104ms\n",
      "914:\tlearn: 1.3265869\ttotal: 1.1s\tremaining: 103ms\n",
      "915:\tlearn: 1.3257008\ttotal: 1.1s\tremaining: 101ms\n",
      "916:\tlearn: 1.3249919\ttotal: 1.11s\tremaining: 100ms\n",
      "917:\tlearn: 1.3243956\ttotal: 1.11s\tremaining: 99ms\n",
      "918:\tlearn: 1.3236912\ttotal: 1.11s\tremaining: 97.8ms\n",
      "919:\tlearn: 1.3231487\ttotal: 1.11s\tremaining: 96.6ms\n",
      "920:\tlearn: 1.3229876\ttotal: 1.11s\tremaining: 95.3ms\n",
      "921:\tlearn: 1.3227525\ttotal: 1.11s\tremaining: 94.1ms\n",
      "922:\tlearn: 1.3222350\ttotal: 1.11s\tremaining: 92.9ms\n",
      "923:\tlearn: 1.3222146\ttotal: 1.11s\tremaining: 91.7ms\n",
      "924:\tlearn: 1.3215107\ttotal: 1.12s\tremaining: 90.5ms\n",
      "925:\tlearn: 1.3207906\ttotal: 1.12s\tremaining: 89.3ms\n",
      "926:\tlearn: 1.3206207\ttotal: 1.12s\tremaining: 88.1ms\n",
      "927:\tlearn: 1.3205244\ttotal: 1.12s\tremaining: 86.9ms\n",
      "928:\tlearn: 1.3203793\ttotal: 1.12s\tremaining: 85.7ms\n",
      "929:\tlearn: 1.3198805\ttotal: 1.12s\tremaining: 84.5ms\n",
      "930:\tlearn: 1.3188200\ttotal: 1.12s\tremaining: 83.3ms\n",
      "931:\tlearn: 1.3180621\ttotal: 1.12s\tremaining: 82.1ms\n",
      "932:\tlearn: 1.3169732\ttotal: 1.13s\tremaining: 80.9ms\n",
      "933:\tlearn: 1.3160552\ttotal: 1.13s\tremaining: 79.6ms\n",
      "934:\tlearn: 1.3147625\ttotal: 1.13s\tremaining: 78.4ms\n",
      "935:\tlearn: 1.3137638\ttotal: 1.13s\tremaining: 77.2ms\n",
      "936:\tlearn: 1.3134415\ttotal: 1.13s\tremaining: 76ms\n",
      "937:\tlearn: 1.3130480\ttotal: 1.13s\tremaining: 74.8ms\n",
      "938:\tlearn: 1.3126517\ttotal: 1.13s\tremaining: 73.6ms\n",
      "939:\tlearn: 1.3120208\ttotal: 1.13s\tremaining: 72.4ms\n",
      "940:\tlearn: 1.3118850\ttotal: 1.14s\tremaining: 71.2ms\n",
      "941:\tlearn: 1.3113285\ttotal: 1.14s\tremaining: 70ms\n",
      "942:\tlearn: 1.3105232\ttotal: 1.14s\tremaining: 68.8ms\n",
      "943:\tlearn: 1.3095206\ttotal: 1.14s\tremaining: 67.6ms\n",
      "944:\tlearn: 1.3084267\ttotal: 1.14s\tremaining: 66.4ms\n",
      "945:\tlearn: 1.3077626\ttotal: 1.14s\tremaining: 65.2ms\n",
      "946:\tlearn: 1.3074902\ttotal: 1.14s\tremaining: 64ms\n",
      "947:\tlearn: 1.3063561\ttotal: 1.14s\tremaining: 62.8ms\n",
      "948:\tlearn: 1.3054153\ttotal: 1.15s\tremaining: 61.5ms\n",
      "949:\tlearn: 1.3043428\ttotal: 1.15s\tremaining: 60.3ms\n",
      "950:\tlearn: 1.3042162\ttotal: 1.15s\tremaining: 59.1ms\n",
      "951:\tlearn: 1.3031102\ttotal: 1.15s\tremaining: 57.9ms\n",
      "952:\tlearn: 1.3022758\ttotal: 1.15s\tremaining: 56.7ms\n",
      "953:\tlearn: 1.3013255\ttotal: 1.15s\tremaining: 55.5ms\n",
      "954:\tlearn: 1.3009085\ttotal: 1.15s\tremaining: 54.3ms\n",
      "955:\tlearn: 1.3003520\ttotal: 1.15s\tremaining: 53.1ms\n",
      "956:\tlearn: 1.2996798\ttotal: 1.16s\tremaining: 51.9ms\n",
      "957:\tlearn: 1.2993280\ttotal: 1.16s\tremaining: 50.7ms\n",
      "958:\tlearn: 1.2990900\ttotal: 1.16s\tremaining: 49.5ms\n",
      "959:\tlearn: 1.2980855\ttotal: 1.16s\tremaining: 48.3ms\n",
      "960:\tlearn: 1.2973097\ttotal: 1.16s\tremaining: 47.1ms\n",
      "961:\tlearn: 1.2968423\ttotal: 1.16s\tremaining: 45.9ms\n",
      "962:\tlearn: 1.2964122\ttotal: 1.16s\tremaining: 44.7ms\n",
      "963:\tlearn: 1.2952891\ttotal: 1.16s\tremaining: 43.5ms\n",
      "964:\tlearn: 1.2952159\ttotal: 1.16s\tremaining: 42.2ms\n",
      "965:\tlearn: 1.2947723\ttotal: 1.17s\tremaining: 41ms\n",
      "966:\tlearn: 1.2941064\ttotal: 1.17s\tremaining: 39.8ms\n",
      "967:\tlearn: 1.2930946\ttotal: 1.17s\tremaining: 38.6ms\n",
      "968:\tlearn: 1.2924813\ttotal: 1.17s\tremaining: 37.4ms\n",
      "969:\tlearn: 1.2924576\ttotal: 1.17s\tremaining: 36.2ms\n",
      "970:\tlearn: 1.2918917\ttotal: 1.17s\tremaining: 35ms\n",
      "971:\tlearn: 1.2912581\ttotal: 1.17s\tremaining: 33.8ms\n",
      "972:\tlearn: 1.2912054\ttotal: 1.18s\tremaining: 32.6ms\n",
      "973:\tlearn: 1.2903053\ttotal: 1.18s\tremaining: 31.4ms\n",
      "974:\tlearn: 1.2902195\ttotal: 1.18s\tremaining: 30.2ms\n",
      "975:\tlearn: 1.2900580\ttotal: 1.18s\tremaining: 29ms\n",
      "976:\tlearn: 1.2893465\ttotal: 1.18s\tremaining: 27.8ms\n",
      "977:\tlearn: 1.2882529\ttotal: 1.18s\tremaining: 26.6ms\n",
      "978:\tlearn: 1.2875734\ttotal: 1.18s\tremaining: 25.4ms\n",
      "979:\tlearn: 1.2867640\ttotal: 1.18s\tremaining: 24.1ms\n",
      "980:\tlearn: 1.2867411\ttotal: 1.18s\tremaining: 22.9ms\n",
      "981:\tlearn: 1.2862768\ttotal: 1.19s\tremaining: 21.7ms\n",
      "982:\tlearn: 1.2859006\ttotal: 1.19s\tremaining: 20.5ms\n",
      "983:\tlearn: 1.2853971\ttotal: 1.19s\tremaining: 19.3ms\n",
      "984:\tlearn: 1.2844953\ttotal: 1.19s\tremaining: 18.1ms\n",
      "985:\tlearn: 1.2834671\ttotal: 1.19s\tremaining: 16.9ms\n",
      "986:\tlearn: 1.2834143\ttotal: 1.19s\tremaining: 15.7ms\n",
      "987:\tlearn: 1.2823902\ttotal: 1.19s\tremaining: 14.5ms\n",
      "988:\tlearn: 1.2809041\ttotal: 1.19s\tremaining: 13.3ms\n",
      "989:\tlearn: 1.2803876\ttotal: 1.2s\tremaining: 12.1ms\n",
      "990:\tlearn: 1.2799351\ttotal: 1.2s\tremaining: 10.9ms\n",
      "991:\tlearn: 1.2790411\ttotal: 1.2s\tremaining: 9.66ms\n",
      "992:\tlearn: 1.2788796\ttotal: 1.2s\tremaining: 8.46ms\n",
      "993:\tlearn: 1.2788308\ttotal: 1.2s\tremaining: 7.25ms\n",
      "994:\tlearn: 1.2778686\ttotal: 1.2s\tremaining: 6.04ms\n",
      "995:\tlearn: 1.2769272\ttotal: 1.2s\tremaining: 4.83ms\n",
      "996:\tlearn: 1.2761779\ttotal: 1.2s\tremaining: 3.62ms\n",
      "997:\tlearn: 1.2760002\ttotal: 1.21s\tremaining: 2.42ms\n",
      "998:\tlearn: 1.2751231\ttotal: 1.21s\tremaining: 1.21ms\n",
      "999:\tlearn: 1.2740935\ttotal: 1.21s\tremaining: 0us\n"
     ]
    },
    {
     "data": {
      "text/plain": [
       "<catboost.core.CatBoostRegressor at 0x1ff0cb193d0>"
      ]
     },
     "execution_count": 306,
     "metadata": {},
     "output_type": "execute_result"
    }
   ],
   "source": [
    "catb.fit(X_train, y_train)"
   ]
  },
  {
   "cell_type": "code",
   "execution_count": 307,
   "metadata": {},
   "outputs": [
    {
     "data": {
      "text/plain": [
       "0.539971762118915"
      ]
     },
     "execution_count": 307,
     "metadata": {},
     "output_type": "execute_result"
    }
   ],
   "source": [
    "catb.score(X_test, y_test)"
   ]
  },
  {
   "cell_type": "code",
   "execution_count": 308,
   "metadata": {},
   "outputs": [
    {
     "data": {
      "text/plain": [
       "array([13,  8, 11, ..., 14, 12, 10], dtype=int64)"
      ]
     },
     "execution_count": 308,
     "metadata": {},
     "output_type": "execute_result"
    }
   ],
   "source": [
    "np.array(y_test)"
   ]
  },
  {
   "cell_type": "code",
   "execution_count": 309,
   "metadata": {},
   "outputs": [
    {
     "data": {
      "text/plain": [
       "array([16.28885189,  9.7722764 , 12.05092932, ..., 11.71971149,\n",
       "       11.11390928, 10.07220214])"
      ]
     },
     "execution_count": 309,
     "metadata": {},
     "output_type": "execute_result"
    }
   ],
   "source": [
    "y_pred = catb.predict(X_test)\n",
    "y_pred"
   ]
  },
  {
   "cell_type": "code",
   "execution_count": 310,
   "metadata": {},
   "outputs": [
    {
     "name": "stdout",
     "output_type": "stream",
     "text": [
      "1.5399953332250682\n",
      "4.774656687990829\n",
      "0.539971762118915\n"
     ]
    }
   ],
   "source": [
    "print(mean_absolute_error(y_test, y_pred))  # lower is better\n",
    "print(mean_squared_error(y_test, y_pred))   # lower is better\n",
    "print(r2_score(y_test, y_pred))             # higher is better"
   ]
  },
  {
   "cell_type": "code",
   "execution_count": 311,
   "metadata": {},
   "outputs": [
    {
     "data": {
      "text/plain": [
       "<matplotlib.legend.Legend at 0x1ff1598dcd0>"
      ]
     },
     "execution_count": 311,
     "metadata": {},
     "output_type": "execute_result"
    },
    {
     "data": {
      "image/png": "[encoded data removed]",
      "text/plain": [
       "<Figure size 1500x800 with 1 Axes>"
      ]
     },
     "metadata": {},
     "output_type": "display_data"
    }
   ],
   "source": [
    "skip_size = 50\n",
    "\n",
    "plt.figure(figsize=(15, 8))\n",
    "plt.scatter(range(len(y_test[::skip_size])), y_test[::skip_size], label=\"y_true\")\n",
    "plt.scatter(range(len(y_pred[::skip_size])), y_pred[::skip_size], label=\"y_test\")\n",
    "plt.grid(True)\n",
    "plt.legend()"
   ]
  },
  {
   "cell_type": "code",
   "execution_count": null,
   "metadata": {},
   "outputs": [],
   "source": []
  }
 ],
 "metadata": {
  "kernelspec": {
   "display_name": "pytorch",
   "language": "python",
   "name": "python3"
  },
  "language_info": {
   "codemirror_mode": {
    "name": "ipython",
    "version": 3
   },
   "file_extension": ".py",
   "mimetype": "text/x-python",
   "name": "python",
   "nbconvert_exporter": "python",
   "pygments_lexer": "ipython3",
   "version": "3.11.3"
  },
  "orig_nbformat": 4
 },
 "nbformat": 4,
 "nbformat_minor": 2
}
