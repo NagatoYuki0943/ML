{
 "cells": [
  {
   "cell_type": "markdown",
   "metadata": {},
   "source": [
    "# SymPy\n",
    "\n",
    "SymPy 是一个由 Python 语言编写的符号计算库。我将在本文中简要地介绍如何利用 SymPy 进行符号计算。\n",
    "\n",
    "https://zhuanlan.zhihu.com/p/111573239\n",
    "\n",
    "`pip install sympy`"
   ]
  },
  {
   "cell_type": "code",
   "execution_count": 42,
   "metadata": {},
   "outputs": [],
   "source": [
    "import numpy as np\n",
    "import sympy"
   ]
  },
  {
   "cell_type": "code",
   "execution_count": 43,
   "metadata": {},
   "outputs": [
    {
     "data": {
      "text/plain": [
       "['Abs',\n",
       " 'AccumBounds',\n",
       " 'Add',\n",
       " 'Adjoint',\n",
       " 'AlgebraicField',\n",
       " 'AlgebraicNumber',\n",
       " 'And',\n",
       " 'AppliedPredicate',\n",
       " 'Array',\n",
       " 'AssumptionsContext',\n",
       " 'Atom',\n",
       " 'AtomicExpr',\n",
       " 'BasePolynomialError',\n",
       " 'Basic',\n",
       " 'BlockDiagMatrix',\n",
       " 'BlockMatrix',\n",
       " 'CC',\n",
       " 'CRootOf',\n",
       " 'Catalan',\n",
       " 'Chi',\n",
       " 'Ci',\n",
       " 'Circle',\n",
       " 'CoercionFailed',\n",
       " 'Complement',\n",
       " 'ComplexField',\n",
       " 'ComplexRegion',\n",
       " 'ComplexRootOf',\n",
       " 'Complexes',\n",
       " 'ComputationFailed',\n",
       " 'ConditionSet',\n",
       " 'Contains',\n",
       " 'CosineTransform',\n",
       " 'Curve',\n",
       " 'DeferredVector',\n",
       " 'DenseNDimArray',\n",
       " 'Derivative',\n",
       " 'Determinant',\n",
       " 'DiagMatrix',\n",
       " 'DiagonalMatrix',\n",
       " 'DiagonalOf',\n",
       " 'Dict',\n",
       " 'DiracDelta',\n",
       " 'DisjointUnion',\n",
       " 'Domain',\n",
       " 'DomainError',\n",
       " 'DotProduct',\n",
       " 'Dummy',\n",
       " 'E',\n",
       " 'E1',\n",
       " 'EPath',\n",
       " 'EX',\n",
       " 'EXRAW',\n",
       " 'Ei',\n",
       " 'Eijk',\n",
       " 'Ellipse',\n",
       " 'EmptySequence',\n",
       " 'EmptySet',\n",
       " 'Eq',\n",
       " 'Equality',\n",
       " 'Equivalent',\n",
       " 'EulerGamma',\n",
       " 'EvaluationFailed',\n",
       " 'ExactQuotientFailed',\n",
       " 'Expr',\n",
       " 'ExpressionDomain',\n",
       " 'ExtraneousFactors',\n",
       " 'FF',\n",
       " 'FF_gmpy',\n",
       " 'FF_python',\n",
       " 'FU',\n",
       " 'FallingFactorial',\n",
       " 'FiniteField',\n",
       " 'FiniteSet',\n",
       " 'FlagError',\n",
       " 'Float',\n",
       " 'FourierTransform',\n",
       " 'FractionField',\n",
       " 'Function',\n",
       " 'FunctionClass',\n",
       " 'FunctionMatrix',\n",
       " 'GF',\n",
       " 'GMPYFiniteField',\n",
       " 'GMPYIntegerRing',\n",
       " 'GMPYRationalField',\n",
       " 'Ge',\n",
       " 'GeneratorsError',\n",
       " 'GeneratorsNeeded',\n",
       " 'GeometryError',\n",
       " 'GoldenRatio',\n",
       " 'GramSchmidt',\n",
       " 'GreaterThan',\n",
       " 'GroebnerBasis',\n",
       " 'Gt',\n",
       " 'HadamardPower',\n",
       " 'HadamardProduct',\n",
       " 'HankelTransform',\n",
       " 'Heaviside',\n",
       " 'HeuristicGCDFailed',\n",
       " 'HomomorphismFailed',\n",
       " 'I',\n",
       " 'ITE',\n",
       " 'Id',\n",
       " 'Identity',\n",
       " 'Idx',\n",
       " 'ImageSet',\n",
       " 'ImmutableDenseMatrix',\n",
       " 'ImmutableDenseNDimArray',\n",
       " 'ImmutableMatrix',\n",
       " 'ImmutableSparseMatrix',\n",
       " 'ImmutableSparseNDimArray',\n",
       " 'Implies',\n",
       " 'Indexed',\n",
       " 'IndexedBase',\n",
       " 'Integer',\n",
       " 'IntegerRing',\n",
       " 'Integers',\n",
       " 'Integral',\n",
       " 'Intersection',\n",
       " 'Interval',\n",
       " 'Inverse',\n",
       " 'InverseCosineTransform',\n",
       " 'InverseFourierTransform',\n",
       " 'InverseHankelTransform',\n",
       " 'InverseLaplaceTransform',\n",
       " 'InverseMellinTransform',\n",
       " 'InverseSineTransform',\n",
       " 'IsomorphismFailed',\n",
       " 'KroneckerDelta',\n",
       " 'KroneckerProduct',\n",
       " 'LC',\n",
       " 'LM',\n",
       " 'LT',\n",
       " 'Lambda',\n",
       " 'LambertW',\n",
       " 'LaplaceTransform',\n",
       " 'Le',\n",
       " 'LessThan',\n",
       " 'LeviCivita',\n",
       " 'Li',\n",
       " 'Limit',\n",
       " 'Line',\n",
       " 'Line2D',\n",
       " 'Line3D',\n",
       " 'Lt',\n",
       " 'MatAdd',\n",
       " 'MatMul',\n",
       " 'MatPow',\n",
       " 'Matrix',\n",
       " 'MatrixBase',\n",
       " 'MatrixExpr',\n",
       " 'MatrixPermute',\n",
       " 'MatrixSlice',\n",
       " 'MatrixSymbol',\n",
       " 'Max',\n",
       " 'MellinTransform',\n",
       " 'Min',\n",
       " 'Mod',\n",
       " 'Monomial',\n",
       " 'Mul',\n",
       " 'MultivariatePolynomialError',\n",
       " 'MutableDenseMatrix',\n",
       " 'MutableDenseNDimArray',\n",
       " 'MutableMatrix',\n",
       " 'MutableSparseMatrix',\n",
       " 'MutableSparseNDimArray',\n",
       " 'N',\n",
       " 'NDimArray',\n",
       " 'Nand',\n",
       " 'Naturals',\n",
       " 'Naturals0',\n",
       " 'Ne',\n",
       " 'NonSquareMatrixError',\n",
       " 'Nor',\n",
       " 'Not',\n",
       " 'NotAlgebraic',\n",
       " 'NotInvertible',\n",
       " 'NotReversible',\n",
       " 'Number',\n",
       " 'NumberSymbol',\n",
       " 'O',\n",
       " 'OmegaPower',\n",
       " 'OneMatrix',\n",
       " 'OperationNotSupported',\n",
       " 'OptionError',\n",
       " 'Options',\n",
       " 'Or',\n",
       " 'Order',\n",
       " 'Ordinal',\n",
       " 'POSform',\n",
       " 'Parabola',\n",
       " 'Permanent',\n",
       " 'PermutationMatrix',\n",
       " 'Piecewise',\n",
       " 'Plane',\n",
       " 'Point',\n",
       " 'Point2D',\n",
       " 'Point3D',\n",
       " 'PoleError',\n",
       " 'PolificationFailed',\n",
       " 'Poly',\n",
       " 'Polygon',\n",
       " 'PolynomialDivisionFailed',\n",
       " 'PolynomialError',\n",
       " 'PolynomialRing',\n",
       " 'Pow',\n",
       " 'PowerSet',\n",
       " 'PrecisionExhausted',\n",
       " 'Predicate',\n",
       " 'Product',\n",
       " 'ProductSet',\n",
       " 'PurePoly',\n",
       " 'PythonFiniteField',\n",
       " 'PythonIntegerRing',\n",
       " 'PythonRational',\n",
       " 'Q',\n",
       " 'QQ',\n",
       " 'QQ_I',\n",
       " 'QQ_gmpy',\n",
       " 'QQ_python',\n",
       " 'Quaternion',\n",
       " 'RR',\n",
       " 'Range',\n",
       " 'Rational',\n",
       " 'RationalField',\n",
       " 'Rationals',\n",
       " 'Ray',\n",
       " 'Ray2D',\n",
       " 'Ray3D',\n",
       " 'RealField',\n",
       " 'RealNumber',\n",
       " 'Reals',\n",
       " 'RefinementFailed',\n",
       " 'RegularPolygon',\n",
       " 'Rel',\n",
       " 'Rem',\n",
       " 'RisingFactorial',\n",
       " 'RootOf',\n",
       " 'RootSum',\n",
       " 'S',\n",
       " 'SOPform',\n",
       " 'SYMPY_DEBUG',\n",
       " 'Segment',\n",
       " 'Segment2D',\n",
       " 'Segment3D',\n",
       " 'SeqAdd',\n",
       " 'SeqFormula',\n",
       " 'SeqMul',\n",
       " 'SeqPer',\n",
       " 'Set',\n",
       " 'ShapeError',\n",
       " 'Shi',\n",
       " 'Si',\n",
       " 'Sieve',\n",
       " 'SineTransform',\n",
       " 'SingularityFunction',\n",
       " 'SparseMatrix',\n",
       " 'SparseNDimArray',\n",
       " 'StrPrinter',\n",
       " 'StrictGreaterThan',\n",
       " 'StrictLessThan',\n",
       " 'Subs',\n",
       " 'Sum',\n",
       " 'Symbol',\n",
       " 'SymmetricDifference',\n",
       " 'SympifyError',\n",
       " 'TableForm',\n",
       " 'Trace',\n",
       " 'Transpose',\n",
       " 'Triangle',\n",
       " 'TribonacciConstant',\n",
       " 'Tuple',\n",
       " 'Unequality',\n",
       " 'UnevaluatedExpr',\n",
       " 'UnificationFailed',\n",
       " 'Union',\n",
       " 'UnivariatePolynomialError',\n",
       " 'UniversalSet',\n",
       " 'Wild',\n",
       " 'WildFunction',\n",
       " 'Xor',\n",
       " 'Ynm',\n",
       " 'Ynm_c',\n",
       " 'ZZ',\n",
       " 'ZZ_I',\n",
       " 'ZZ_gmpy',\n",
       " 'ZZ_python',\n",
       " 'ZeroMatrix',\n",
       " 'Znm',\n",
       " '__all__',\n",
       " '__builtins__',\n",
       " '__cached__',\n",
       " '__doc__',\n",
       " '__file__',\n",
       " '__loader__',\n",
       " '__name__',\n",
       " '__package__',\n",
       " '__path__',\n",
       " '__spec__',\n",
       " '__sympy_debug',\n",
       " '__version__',\n",
       " 'abundance',\n",
       " 'acos',\n",
       " 'acosh',\n",
       " 'acot',\n",
       " 'acoth',\n",
       " 'acsc',\n",
       " 'acsch',\n",
       " 'adjoint',\n",
       " 'airyai',\n",
       " 'airyaiprime',\n",
       " 'airybi',\n",
       " 'airybiprime',\n",
       " 'algebras',\n",
       " 'andre',\n",
       " 'apart',\n",
       " 'apart_list',\n",
       " 'appellf1',\n",
       " 'apply_finite_diff',\n",
       " 'approximants',\n",
       " 'are_similar',\n",
       " 'arg',\n",
       " 'arity',\n",
       " 'asec',\n",
       " 'asech',\n",
       " 'asin',\n",
       " 'asinh',\n",
       " 'ask',\n",
       " 'assemble_partfrac_list',\n",
       " 'assoc_laguerre',\n",
       " 'assoc_legendre',\n",
       " 'assuming',\n",
       " 'assumptions',\n",
       " 'atan',\n",
       " 'atan2',\n",
       " 'atanh',\n",
       " 'banded',\n",
       " 'bell',\n",
       " 'bernoulli',\n",
       " 'besseli',\n",
       " 'besselj',\n",
       " 'besselk',\n",
       " 'besselsimp',\n",
       " 'bessely',\n",
       " 'beta',\n",
       " 'betainc',\n",
       " 'betainc_regularized',\n",
       " 'binomial',\n",
       " 'binomial_coefficients',\n",
       " 'binomial_coefficients_list',\n",
       " 'block_collapse',\n",
       " 'blockcut',\n",
       " 'bool_map',\n",
       " 'bottom_up',\n",
       " 'bspline_basis',\n",
       " 'bspline_basis_set',\n",
       " 'cacheit',\n",
       " 'calculus',\n",
       " 'cancel',\n",
       " 'capture',\n",
       " 'carmichael',\n",
       " 'cartes',\n",
       " 'casoratian',\n",
       " 'catalan',\n",
       " 'cbrt',\n",
       " 'ccode',\n",
       " 'ceiling',\n",
       " 'centroid',\n",
       " 'chebyshevt',\n",
       " 'chebyshevt_poly',\n",
       " 'chebyshevt_root',\n",
       " 'chebyshevu',\n",
       " 'chebyshevu_poly',\n",
       " 'chebyshevu_root',\n",
       " 'check_assumptions',\n",
       " 'checkodesol',\n",
       " 'checkpdesol',\n",
       " 'checksol',\n",
       " 'classify_ode',\n",
       " 'classify_pde',\n",
       " 'closest_points',\n",
       " 'codegen',\n",
       " 'cofactors',\n",
       " 'collect',\n",
       " 'collect_const',\n",
       " 'combinatorics',\n",
       " 'combsimp',\n",
       " 'comp',\n",
       " 'compose',\n",
       " 'composite',\n",
       " 'compositepi',\n",
       " 'concrete',\n",
       " 'conjugate',\n",
       " 'construct_domain',\n",
       " 'content',\n",
       " 'continued_fraction',\n",
       " 'continued_fraction_convergents',\n",
       " 'continued_fraction_iterator',\n",
       " 'continued_fraction_periodic',\n",
       " 'continued_fraction_reduce',\n",
       " 'convex_hull',\n",
       " 'convolution',\n",
       " 'core',\n",
       " 'cos',\n",
       " 'cosh',\n",
       " 'cosine_transform',\n",
       " 'cot',\n",
       " 'coth',\n",
       " 'count_ops',\n",
       " 'count_roots',\n",
       " 'covering_product',\n",
       " 'csc',\n",
       " 'csch',\n",
       " 'cse',\n",
       " 'cxxcode',\n",
       " 'cycle_length',\n",
       " 'cyclotomic_poly',\n",
       " 'decompogen',\n",
       " 'decompose',\n",
       " 'default_sort_key',\n",
       " 'deg',\n",
       " 'degree',\n",
       " 'degree_list',\n",
       " 'denom',\n",
       " 'derive_by_array',\n",
       " 'det',\n",
       " 'det_quick',\n",
       " 'diag',\n",
       " 'diagonalize_vector',\n",
       " 'dict_merge',\n",
       " 'diff',\n",
       " 'difference_delta',\n",
       " 'differentiate_finite',\n",
       " 'digamma',\n",
       " 'diophantine',\n",
       " 'dirichlet_eta',\n",
       " 'discrete',\n",
       " 'discrete_log',\n",
       " 'discriminant',\n",
       " 'div',\n",
       " 'divisor_count',\n",
       " 'divisor_sigma',\n",
       " 'divisors',\n",
       " 'doctest',\n",
       " 'dotprint',\n",
       " 'dsolve',\n",
       " 'egyptian_fraction',\n",
       " 'elliptic_e',\n",
       " 'elliptic_f',\n",
       " 'elliptic_k',\n",
       " 'elliptic_pi',\n",
       " 'epath',\n",
       " 'erf',\n",
       " 'erf2',\n",
       " 'erf2inv',\n",
       " 'erfc',\n",
       " 'erfcinv',\n",
       " 'erfi',\n",
       " 'erfinv',\n",
       " 'euler',\n",
       " 'euler_equations',\n",
       " 'evalf',\n",
       " 'evaluate',\n",
       " 'exp',\n",
       " 'exp_polar',\n",
       " 'expand',\n",
       " 'expand_complex',\n",
       " 'expand_func',\n",
       " 'expand_log',\n",
       " 'expand_mul',\n",
       " 'expand_multinomial',\n",
       " 'expand_power_base',\n",
       " 'expand_power_exp',\n",
       " 'expand_trig',\n",
       " 'expint',\n",
       " 'exptrigsimp',\n",
       " 'exquo',\n",
       " 'external',\n",
       " 'eye',\n",
       " 'factor',\n",
       " 'factor_list',\n",
       " 'factor_nc',\n",
       " 'factor_terms',\n",
       " 'factorial',\n",
       " 'factorial2',\n",
       " 'factorint',\n",
       " 'factorrat',\n",
       " 'failing_assumptions',\n",
       " 'false',\n",
       " 'farthest_points',\n",
       " 'fcode',\n",
       " 'ff',\n",
       " 'fft',\n",
       " 'fibonacci',\n",
       " 'field',\n",
       " 'field_isomorphism',\n",
       " 'filldedent',\n",
       " 'finite_diff_weights',\n",
       " 'flatten',\n",
       " 'floor',\n",
       " 'fourier_series',\n",
       " 'fourier_transform',\n",
       " 'fps',\n",
       " 'frac',\n",
       " 'fraction',\n",
       " 'fresnelc',\n",
       " 'fresnels',\n",
       " 'fu',\n",
       " 'functions',\n",
       " 'fwht',\n",
       " 'galois_group',\n",
       " 'gamma',\n",
       " 'gammasimp',\n",
       " 'gcd',\n",
       " 'gcd_list',\n",
       " 'gcd_terms',\n",
       " 'gcdex',\n",
       " 'gegenbauer',\n",
       " 'genocchi',\n",
       " 'geometry',\n",
       " 'get_contraction_structure',\n",
       " 'get_indices',\n",
       " 'gff',\n",
       " 'gff_list',\n",
       " 'glsl_code',\n",
       " 'grevlex',\n",
       " 'grlex',\n",
       " 'groebner',\n",
       " 'ground_roots',\n",
       " 'group',\n",
       " 'gruntz',\n",
       " 'hadamard_product',\n",
       " 'half_gcdex',\n",
       " 'hankel1',\n",
       " 'hankel2',\n",
       " 'hankel_transform',\n",
       " 'harmonic',\n",
       " 'has_dups',\n",
       " 'has_variety',\n",
       " 'hermite',\n",
       " 'hermite_poly',\n",
       " 'hermite_prob',\n",
       " 'hermite_prob_poly',\n",
       " 'hessian',\n",
       " 'hn1',\n",
       " 'hn2',\n",
       " 'homogeneous_order',\n",
       " 'horner',\n",
       " 'hyper',\n",
       " 'hyperexpand',\n",
       " 'hypersimilar',\n",
       " 'hypersimp',\n",
       " 'idiff',\n",
       " 'ifft',\n",
       " 'ifwht',\n",
       " 'igcd',\n",
       " 'igrevlex',\n",
       " 'igrlex',\n",
       " 'ilcm',\n",
       " 'ilex',\n",
       " 'im',\n",
       " 'imageset',\n",
       " 'init_printing',\n",
       " 'init_session',\n",
       " 'integer_log',\n",
       " 'integer_nthroot',\n",
       " 'integrals',\n",
       " 'integrate',\n",
       " 'interactive',\n",
       " 'interactive_traversal',\n",
       " 'interpolate',\n",
       " 'interpolating_poly',\n",
       " 'interpolating_spline',\n",
       " 'intersecting_product',\n",
       " 'intersection',\n",
       " 'intervals',\n",
       " 'intt',\n",
       " 'inv_quick',\n",
       " 'inverse_cosine_transform',\n",
       " 'inverse_fourier_transform',\n",
       " 'inverse_hankel_transform',\n",
       " 'inverse_laplace_transform',\n",
       " 'inverse_mellin_transform',\n",
       " 'inverse_mobius_transform',\n",
       " 'inverse_sine_transform',\n",
       " 'invert',\n",
       " 'is_abundant',\n",
       " 'is_amicable',\n",
       " 'is_convex',\n",
       " 'is_decreasing',\n",
       " 'is_deficient',\n",
       " 'is_increasing',\n",
       " 'is_mersenne_prime',\n",
       " 'is_monotonic',\n",
       " 'is_nthpow_residue',\n",
       " 'is_perfect',\n",
       " 'is_primitive_root',\n",
       " 'is_quad_residue',\n",
       " 'is_strictly_decreasing',\n",
       " 'is_strictly_increasing',\n",
       " 'is_zero_dimensional',\n",
       " 'isolate',\n",
       " 'isprime',\n",
       " 'itermonomials',\n",
       " 'jacobi',\n",
       " 'jacobi_normalized',\n",
       " 'jacobi_poly',\n",
       " 'jacobi_symbol',\n",
       " 'jn',\n",
       " 'jn_zeros',\n",
       " 'jordan_cell',\n",
       " 'jscode',\n",
       " 'julia_code',\n",
       " 'kronecker_product',\n",
       " 'kroneckersimp',\n",
       " 'laguerre',\n",
       " 'laguerre_poly',\n",
       " 'lambdify',\n",
       " 'laplace_transform',\n",
       " 'latex',\n",
       " 'lazy_function',\n",
       " 'lcm',\n",
       " 'lcm_list',\n",
       " 'legendre',\n",
       " 'legendre_poly',\n",
       " 'legendre_symbol',\n",
       " 'lerchphi',\n",
       " 'lex',\n",
       " 'li',\n",
       " 'limit',\n",
       " 'limit_seq',\n",
       " 'line_integrate',\n",
       " 'linear_eq_to_matrix',\n",
       " 'linsolve',\n",
       " 'list2numpy',\n",
       " 'ln',\n",
       " 'log',\n",
       " 'logcombine',\n",
       " 'loggamma',\n",
       " 'logic',\n",
       " 'lowergamma',\n",
       " 'lucas',\n",
       " 'maple_code',\n",
       " 'marcumq',\n",
       " 'mathematica_code',\n",
       " 'mathieuc',\n",
       " 'mathieucprime',\n",
       " 'mathieus',\n",
       " 'mathieusprime',\n",
       " 'mathml',\n",
       " 'matrices',\n",
       " 'matrix2numpy',\n",
       " 'matrix_multiply_elementwise',\n",
       " 'matrix_symbols',\n",
       " 'maximum',\n",
       " 'meijerg',\n",
       " 'mellin_transform',\n",
       " 'memoize_property',\n",
       " 'mersenne_prime_exponent',\n",
       " 'minimal_polynomial',\n",
       " 'minimum',\n",
       " 'minpoly',\n",
       " 'mobius',\n",
       " 'mobius_transform',\n",
       " 'mod_inverse',\n",
       " 'monic',\n",
       " 'motzkin',\n",
       " 'multigamma',\n",
       " 'multiline_latex',\n",
       " 'multinomial_coefficients',\n",
       " 'multipledispatch',\n",
       " 'multiplicity',\n",
       " 'n_order',\n",
       " 'nan',\n",
       " 'nextprime',\n",
       " 'nfloat',\n",
       " 'nonlinsolve',\n",
       " 'not_empty_in',\n",
       " 'npartitions',\n",
       " 'nroots',\n",
       " 'nsimplify',\n",
       " 'nsolve',\n",
       " 'nth_power_roots_poly',\n",
       " 'ntheory',\n",
       " 'nthroot_mod',\n",
       " 'ntt',\n",
       " 'numbered_symbols',\n",
       " 'numer',\n",
       " 'octave_code',\n",
       " 'ode_order',\n",
       " 'ones',\n",
       " 'oo',\n",
       " 'ord0',\n",
       " 'ordered',\n",
       " 'pager_print',\n",
       " 'parallel_poly_from_expr',\n",
       " 'parse_expr',\n",
       " 'parsing',\n",
       " 'partition',\n",
       " 'pde_separate',\n",
       " 'pde_separate_add',\n",
       " 'pde_separate_mul',\n",
       " 'pdiv',\n",
       " 'pdsolve',\n",
       " 'per',\n",
       " 'perfect_power',\n",
       " 'periodic_argument',\n",
       " 'periodicity',\n",
       " 'permutedims',\n",
       " 'pexquo',\n",
       " 'physics',\n",
       " 'pi',\n",
       " 'piecewise_exclusive',\n",
       " 'piecewise_fold',\n",
       " 'plot',\n",
       " 'plot_backends',\n",
       " 'plot_implicit',\n",
       " 'plot_parametric',\n",
       " 'plotting',\n",
       " 'polar_lift',\n",
       " 'polarify',\n",
       " 'pollard_pm1',\n",
       " 'pollard_rho',\n",
       " 'poly',\n",
       " 'poly_from_expr',\n",
       " 'polygamma',\n",
       " 'polylog',\n",
       " 'polys',\n",
       " 'posify',\n",
       " 'postfixes',\n",
       " 'postorder_traversal',\n",
       " 'powdenest',\n",
       " 'powsimp',\n",
       " 'pprint',\n",
       " 'pprint_try_use_unicode',\n",
       " 'pprint_use_unicode',\n",
       " 'pquo',\n",
       " 'prefixes',\n",
       " 'prem',\n",
       " 'preorder_traversal',\n",
       " 'pretty',\n",
       " 'pretty_print',\n",
       " 'preview',\n",
       " 'prevprime',\n",
       " 'prime',\n",
       " 'prime_decomp',\n",
       " 'prime_valuation',\n",
       " 'primefactors',\n",
       " 'primenu',\n",
       " 'primeomega',\n",
       " 'primepi',\n",
       " 'primerange',\n",
       " 'primitive',\n",
       " 'primitive_element',\n",
       " 'primitive_root',\n",
       " 'primorial',\n",
       " 'principal_branch',\n",
       " 'print_ccode',\n",
       " 'print_fcode',\n",
       " 'print_glsl',\n",
       " 'print_gtk',\n",
       " 'print_jscode',\n",
       " 'print_latex',\n",
       " 'print_maple_code',\n",
       " 'print_mathml',\n",
       " 'print_python',\n",
       " 'print_rcode',\n",
       " 'print_tree',\n",
       " 'printing',\n",
       " 'prod',\n",
       " 'product',\n",
       " 'proper_divisor_count',\n",
       " 'proper_divisors',\n",
       " 'public',\n",
       " 'pycode',\n",
       " 'python',\n",
       " 'quadratic_congruence',\n",
       " 'quadratic_residues',\n",
       " 'quo',\n",
       " 'rad',\n",
       " 'radsimp',\n",
       " 'randMatrix',\n",
       " 'random_poly',\n",
       " 'randprime',\n",
       " 'rational_interpolate',\n",
       " 'ratsimp',\n",
       " 'ratsimpmodprime',\n",
       " 'rcode',\n",
       " 'rcollect',\n",
       " 're',\n",
       " 'real_root',\n",
       " 'real_roots',\n",
       " 'reduce_abs_inequalities',\n",
       " 'reduce_abs_inequality',\n",
       " 'reduce_inequalities',\n",
       " 'reduced',\n",
       " 'reduced_totient',\n",
       " 'refine',\n",
       " 'refine_root',\n",
       " 'register_handler',\n",
       " 'release',\n",
       " 'rem',\n",
       " 'remove_handler',\n",
       " 'reshape',\n",
       " 'residue',\n",
       " 'resultant',\n",
       " 'rf',\n",
       " 'riemann_xi',\n",
       " 'ring',\n",
       " 'root',\n",
       " 'rootof',\n",
       " 'roots',\n",
       " 'rot_axis1',\n",
       " 'rot_axis2',\n",
       " 'rot_axis3',\n",
       " 'rot_ccw_axis1',\n",
       " 'rot_ccw_axis2',\n",
       " 'rot_ccw_axis3',\n",
       " 'rot_givens',\n",
       " 'rotations',\n",
       " 'round_two',\n",
       " 'rsolve',\n",
       " 'rsolve_hyper',\n",
       " 'rsolve_poly',\n",
       " 'rsolve_ratio',\n",
       " 'rust_code',\n",
       " 'satisfiable',\n",
       " 'sec',\n",
       " 'sech',\n",
       " 'separatevars',\n",
       " 'sequence',\n",
       " 'series',\n",
       " 'seterr',\n",
       " 'sets',\n",
       " 'sfield',\n",
       " 'shape',\n",
       " 'sieve',\n",
       " 'sift',\n",
       " 'sign',\n",
       " 'signsimp',\n",
       " 'simplify',\n",
       " 'simplify_logic',\n",
       " 'sin',\n",
       " 'sinc',\n",
       " 'sine_transform',\n",
       " 'singularities',\n",
       " 'singularityintegrate',\n",
       " 'sinh',\n",
       " 'smtlib_code',\n",
       " 'solve',\n",
       " 'solve_linear',\n",
       " 'solve_linear_system',\n",
       " 'solve_linear_system_LU',\n",
       " 'solve_poly_inequality',\n",
       " 'solve_poly_system',\n",
       " 'solve_rational_inequalities',\n",
       " 'solve_triangulated',\n",
       " 'solve_undetermined_coeffs',\n",
       " 'solve_univariate_inequality',\n",
       " 'solvers',\n",
       " 'solveset',\n",
       " 'sqf',\n",
       " 'sqf_list',\n",
       " 'sqf_norm',\n",
       " 'sqf_part',\n",
       " 'sqrt',\n",
       " 'sqrt_mod',\n",
       " 'sqrt_mod_iter',\n",
       " 'sqrtdenest',\n",
       " 'srepr',\n",
       " 'sring',\n",
       " 'sstr',\n",
       " 'sstrrepr',\n",
       " 'stationary_points',\n",
       " 'stieltjes',\n",
       " 'strategies',\n",
       " 'sturm',\n",
       " 'subfactorial',\n",
       " 'subresultants',\n",
       " 'subsets',\n",
       " 'substitution',\n",
       " 'summation',\n",
       " 'swinnerton_dyer_poly',\n",
       " 'symarray',\n",
       " 'symbols',\n",
       " 'symmetric_poly',\n",
       " 'symmetrize',\n",
       " 'sympify',\n",
       " 'take',\n",
       " 'tan',\n",
       " 'tanh',\n",
       " 'tensor',\n",
       " 'tensorcontraction',\n",
       " 'tensordiagonal',\n",
       " 'tensorproduct',\n",
       " 'terms_gcd',\n",
       " 'test',\n",
       " 'textplot',\n",
       " 'threaded',\n",
       " 'timed',\n",
       " 'to_cnf',\n",
       " 'to_dnf',\n",
       " 'to_nnf',\n",
       " 'to_number_field',\n",
       " 'together',\n",
       " 'topological_sort',\n",
       " 'total_degree',\n",
       " 'totient',\n",
       " 'trace',\n",
       " 'trailing',\n",
       " 'transpose',\n",
       " 'tribonacci',\n",
       " 'trigamma',\n",
       " 'trigsimp',\n",
       " 'true',\n",
       " 'trunc',\n",
       " 'unbranched_argument',\n",
       " 'unflatten',\n",
       " 'unpolarify',\n",
       " 'uppergamma',\n",
       " 'use',\n",
       " 'utilities',\n",
       " 'var',\n",
       " 'variations',\n",
       " 'vectorize',\n",
       " 'vfield',\n",
       " 'viete',\n",
       " 'vring',\n",
       " 'wronskian',\n",
       " 'xfield',\n",
       " 'xring',\n",
       " 'xthreaded',\n",
       " 'yn',\n",
       " 'zeros',\n",
       " 'zeta',\n",
       " 'zoo']"
      ]
     },
     "execution_count": 43,
     "metadata": {},
     "output_type": "execute_result"
    }
   ],
   "source": [
    "dir(sympy)"
   ]
  },
  {
   "cell_type": "markdown",
   "metadata": {},
   "source": [
    "在 SymPy 中，我们用 'oo' 表示 ♾️\n"
   ]
  },
  {
   "cell_type": "markdown",
   "metadata": {},
   "source": [
    "# 基本函数"
   ]
  },
  {
   "cell_type": "markdown",
   "metadata": {},
   "source": [
    "## symbols 生成符号"
   ]
  },
  {
   "cell_type": "code",
   "execution_count": 44,
   "metadata": {},
   "outputs": [
    {
     "data": {
      "text/plain": [
       "(x, y, z)"
      ]
     },
     "execution_count": 44,
     "metadata": {},
     "output_type": "execute_result"
    }
   ],
   "source": [
    "x, y, z = sympy.symbols(\"x y z\")\n",
    "x, y, z"
   ]
  },
  {
   "cell_type": "markdown",
   "metadata": {},
   "source": [
    "## Rational 构造分数 1/2"
   ]
  },
  {
   "cell_type": "code",
   "execution_count": 45,
   "metadata": {},
   "outputs": [
    {
     "data": {
      "text/latex": [
       "$\\displaystyle \\frac{1}{2}$"
      ],
      "text/plain": [
       "1/2"
      ]
     },
     "execution_count": 45,
     "metadata": {},
     "output_type": "execute_result"
    }
   ],
   "source": [
    "sympy.Rational(1, 2)"
   ]
  },
  {
   "cell_type": "markdown",
   "metadata": {},
   "source": [
    "## subs 未知数替换"
   ]
  },
  {
   "cell_type": "code",
   "execution_count": 46,
   "metadata": {},
   "outputs": [
    {
     "data": {
      "text/latex": [
       "$\\displaystyle \\cos{\\left(x \\right)} + 1$"
      ],
      "text/plain": [
       "cos(x) + 1"
      ]
     },
     "execution_count": 46,
     "metadata": {},
     "output_type": "execute_result"
    }
   ],
   "source": [
    "expr = sympy.cos(x) + 1\n",
    "expr"
   ]
  },
  {
   "cell_type": "code",
   "execution_count": 47,
   "metadata": {},
   "outputs": [
    {
     "data": {
      "text/latex": [
       "$\\displaystyle 2$"
      ],
      "text/plain": [
       "2"
      ]
     },
     "execution_count": 47,
     "metadata": {},
     "output_type": "execute_result"
    }
   ],
   "source": [
    "expr.subs(x, 0)"
   ]
  },
  {
   "cell_type": "markdown",
   "metadata": {},
   "source": [
    "## evalf 转换为指定精度的数值解"
   ]
  },
  {
   "cell_type": "code",
   "execution_count": 48,
   "metadata": {},
   "outputs": [
    {
     "data": {
      "text/latex": [
       "$\\displaystyle \\pi$"
      ],
      "text/plain": [
       "pi"
      ]
     },
     "execution_count": 48,
     "metadata": {},
     "output_type": "execute_result"
    }
   ],
   "source": [
    "sympy.pi"
   ]
  },
  {
   "cell_type": "code",
   "execution_count": 49,
   "metadata": {},
   "outputs": [
    {
     "data": {
      "text/latex": [
       "$\\displaystyle 3.14$"
      ],
      "text/plain": [
       "3.14"
      ]
     },
     "execution_count": 49,
     "metadata": {},
     "output_type": "execute_result"
    }
   ],
   "source": [
    "sympy.pi.evalf(3)"
   ]
  },
  {
   "cell_type": "markdown",
   "metadata": {},
   "source": [
    "## lambdify 将 SymPy 表达式转换为 NumPy 可使用的函数"
   ]
  },
  {
   "cell_type": "code",
   "execution_count": 50,
   "metadata": {},
   "outputs": [
    {
     "data": {
      "text/latex": [
       "$\\displaystyle \\sin{\\left(x \\right)}$"
      ],
      "text/plain": [
       "sin(x)"
      ]
     },
     "execution_count": 50,
     "metadata": {},
     "output_type": "execute_result"
    }
   ],
   "source": [
    "expr = sympy.sin(x)\n",
    "expr"
   ]
  },
  {
   "cell_type": "code",
   "execution_count": 51,
   "metadata": {},
   "outputs": [
    {
     "data": {
      "text/plain": [
       "<function _lambdifygenerated(x)>"
      ]
     },
     "execution_count": 51,
     "metadata": {},
     "output_type": "execute_result"
    }
   ],
   "source": [
    "f = sympy.lambdify(x, expr, \"numpy\")\n",
    "f"
   ]
  },
  {
   "cell_type": "code",
   "execution_count": 52,
   "metadata": {},
   "outputs": [
    {
     "data": {
      "text/plain": [
       "0.8660254037844386"
      ]
     },
     "execution_count": 52,
     "metadata": {},
     "output_type": "execute_result"
    }
   ],
   "source": [
    "# numpy计算\n",
    "f(np.pi / 3)"
   ]
  },
  {
   "cell_type": "code",
   "execution_count": 53,
   "metadata": {},
   "outputs": [
    {
     "data": {
      "text/latex": [
       "$\\displaystyle \\frac{\\sqrt{3}}{2}$"
      ],
      "text/plain": [
       "sqrt(3)/2"
      ]
     },
     "execution_count": 53,
     "metadata": {},
     "output_type": "execute_result"
    }
   ],
   "source": [
    "# sympy符号计算\n",
    "expr.subs(x, sympy.pi / 3)"
   ]
  },
  {
   "cell_type": "markdown",
   "metadata": {},
   "source": [
    "## simplify (化简)"
   ]
  },
  {
   "cell_type": "code",
   "execution_count": 54,
   "metadata": {},
   "outputs": [
    {
     "data": {
      "text/latex": [
       "$\\displaystyle x^{2} + 4 x + 3$"
      ],
      "text/plain": [
       "x**2 + 4*x + 3"
      ]
     },
     "execution_count": 54,
     "metadata": {},
     "output_type": "execute_result"
    }
   ],
   "source": [
    "sympy.simplify(2 * (x + 1) + (x + 1) ** 2)"
   ]
  },
  {
   "cell_type": "code",
   "execution_count": 55,
   "metadata": {},
   "outputs": [
    {
     "data": {
      "text/latex": [
       "$\\displaystyle 1$"
      ],
      "text/plain": [
       "1"
      ]
     },
     "execution_count": 55,
     "metadata": {},
     "output_type": "execute_result"
    }
   ],
   "source": [
    "sympy.simplify(sympy.sin(x) ** 2 + sympy.cos(x) ** 2)"
   ]
  },
  {
   "cell_type": "markdown",
   "metadata": {},
   "source": [
    "## sympify 将字符串表达式转换为 SymPy 表达式"
   ]
  },
  {
   "cell_type": "code",
   "execution_count": 56,
   "metadata": {},
   "outputs": [
    {
     "data": {
      "text/latex": [
       "$\\displaystyle x^{2} + 2 x + 1$"
      ],
      "text/plain": [
       "x**2 + 2*x + 1"
      ]
     },
     "execution_count": 56,
     "metadata": {},
     "output_type": "execute_result"
    }
   ],
   "source": [
    "sympy.simplify(\"x ** 2 + 2 * x + 1\")"
   ]
  },
  {
   "cell_type": "markdown",
   "metadata": {},
   "source": [
    "## expand 展开函数"
   ]
  },
  {
   "cell_type": "code",
   "execution_count": 57,
   "metadata": {},
   "outputs": [
    {
     "data": {
      "text/latex": [
       "$\\displaystyle \\left(x + 1\\right)^{2}$"
      ],
      "text/plain": [
       "(x + 1)**2"
      ]
     },
     "execution_count": 57,
     "metadata": {},
     "output_type": "execute_result"
    }
   ],
   "source": [
    "expr = (x + 1) ** 2\n",
    "expr"
   ]
  },
  {
   "cell_type": "code",
   "execution_count": 58,
   "metadata": {},
   "outputs": [
    {
     "data": {
      "text/latex": [
       "$\\displaystyle x^{2} + 2 x + 1$"
      ],
      "text/plain": [
       "x**2 + 2*x + 1"
      ]
     },
     "execution_count": 58,
     "metadata": {},
     "output_type": "execute_result"
    }
   ],
   "source": [
    "sympy.expand(expr)"
   ]
  },
  {
   "cell_type": "markdown",
   "metadata": {},
   "source": [
    "## factor 因式分解 逆expand"
   ]
  },
  {
   "cell_type": "code",
   "execution_count": 59,
   "metadata": {},
   "outputs": [
    {
     "data": {
      "text/latex": [
       "$\\displaystyle \\left(x - 1\\right)^{2}$"
      ],
      "text/plain": [
       "(x - 1)**2"
      ]
     },
     "execution_count": 59,
     "metadata": {},
     "output_type": "execute_result"
    }
   ],
   "source": [
    "sympy.factor(x**2 - 2 * x + 1)"
   ]
  },
  {
   "cell_type": "code",
   "execution_count": 60,
   "metadata": {},
   "outputs": [
    {
     "data": {
      "text/latex": [
       "$\\displaystyle \\left(x + 1\\right)^{2}$"
      ],
      "text/plain": [
       "(x + 1)**2"
      ]
     },
     "execution_count": 60,
     "metadata": {},
     "output_type": "execute_result"
    }
   ],
   "source": [
    "sympy.factor(x**2 + 2 * x + 1)"
   ]
  },
  {
   "cell_type": "code",
   "execution_count": 61,
   "metadata": {},
   "outputs": [
    {
     "data": {
      "text/latex": [
       "$\\displaystyle \\left(x - 1\\right) \\left(x^{2} + 1\\right)$"
      ],
      "text/plain": [
       "(x - 1)*(x**2 + 1)"
      ]
     },
     "execution_count": 61,
     "metadata": {},
     "output_type": "execute_result"
    }
   ],
   "source": [
    "sympy.factor(x**3 - x**2 + x - 1)"
   ]
  },
  {
   "cell_type": "markdown",
   "metadata": {},
   "source": [
    "## collect 合并同类项"
   ]
  },
  {
   "cell_type": "code",
   "execution_count": 62,
   "metadata": {},
   "outputs": [
    {
     "data": {
      "text/latex": [
       "$\\displaystyle x^{3} - x^{2} z + 2 x^{2} + x y + x - 3$"
      ],
      "text/plain": [
       "x**3 - x**2*z + 2*x**2 + x*y + x - 3"
      ]
     },
     "execution_count": 62,
     "metadata": {},
     "output_type": "execute_result"
    }
   ],
   "source": [
    "expr = x * y + x - 3 + 2 * x**2 - z * x**2 + x**3\n",
    "expr"
   ]
  },
  {
   "cell_type": "code",
   "execution_count": 63,
   "metadata": {},
   "outputs": [
    {
     "data": {
      "text/latex": [
       "$\\displaystyle x^{3} + x^{2} \\cdot \\left(2 - z\\right) + x \\left(y + 1\\right) - 3$"
      ],
      "text/plain": [
       "x**3 + x**2*(2 - z) + x*(y + 1) - 3"
      ]
     },
     "execution_count": 63,
     "metadata": {},
     "output_type": "execute_result"
    }
   ],
   "source": [
    "sympy.collect(expr, x)"
   ]
  },
  {
   "cell_type": "markdown",
   "metadata": {},
   "source": [
    "## cancel 有理分式化简\n",
    "\n",
    "消去分子分母的公因式使用 cancel 函数"
   ]
  },
  {
   "cell_type": "code",
   "execution_count": 64,
   "metadata": {},
   "outputs": [
    {
     "data": {
      "text/latex": [
       "$\\displaystyle \\frac{x^{2} + 2 x + 1}{x^{2} + x}$"
      ],
      "text/plain": [
       "(x**2 + 2*x + 1)/(x**2 + x)"
      ]
     },
     "execution_count": 64,
     "metadata": {},
     "output_type": "execute_result"
    }
   ],
   "source": [
    "expr = (x**2 + 2 * x + 1) / (x**2 + x)\n",
    "expr"
   ]
  },
  {
   "cell_type": "code",
   "execution_count": 65,
   "metadata": {},
   "outputs": [
    {
     "data": {
      "text/latex": [
       "$\\displaystyle \\frac{x + 1}{x}$"
      ],
      "text/plain": [
       "(x + 1)/x"
      ]
     },
     "execution_count": 65,
     "metadata": {},
     "output_type": "execute_result"
    }
   ],
   "source": [
    "sympy.cancel(expr)"
   ]
  },
  {
   "cell_type": "markdown",
   "metadata": {},
   "source": [
    "## apart 部分分式展开"
   ]
  },
  {
   "cell_type": "code",
   "execution_count": 66,
   "metadata": {},
   "outputs": [
    {
     "data": {
      "text/latex": [
       "$\\displaystyle \\frac{4 x^{3} + 21 x^{2} + 10 x + 12}{x^{4} + 5 x^{3} + 5 x^{2} + 4 x}$"
      ],
      "text/plain": [
       "(4*x**3 + 21*x**2 + 10*x + 12)/(x**4 + 5*x**3 + 5*x**2 + 4*x)"
      ]
     },
     "execution_count": 66,
     "metadata": {},
     "output_type": "execute_result"
    }
   ],
   "source": [
    "expr = (4 * x**3 + 21 * x**2 + 10 * x + 12) / (x**4 + 5 * x**3 + 5 * x**2 + 4 * x)\n",
    "expr"
   ]
  },
  {
   "cell_type": "code",
   "execution_count": 67,
   "metadata": {},
   "outputs": [
    {
     "data": {
      "text/latex": [
       "$\\displaystyle \\frac{2 x - 1}{x^{2} + x + 1} - \\frac{1}{x + 4} + \\frac{3}{x}$"
      ],
      "text/plain": [
       "(2*x - 1)/(x**2 + x + 1) - 1/(x + 4) + 3/x"
      ]
     },
     "execution_count": 67,
     "metadata": {},
     "output_type": "execute_result"
    }
   ],
   "source": [
    "sympy.apart(expr)"
   ]
  },
  {
   "cell_type": "markdown",
   "metadata": {},
   "source": [
    "# 微积分符号计算"
   ]
  },
  {
   "cell_type": "markdown",
   "metadata": {},
   "source": [
    "## diff 求导数"
   ]
  },
  {
   "cell_type": "markdown",
   "metadata": {},
   "source": [
    "### 一元函数求导"
   ]
  },
  {
   "cell_type": "code",
   "execution_count": 68,
   "metadata": {},
   "outputs": [
    {
     "data": {
      "text/latex": [
       "$\\displaystyle \\cos{\\left(x \\right)}$"
      ],
      "text/plain": [
       "cos(x)"
      ]
     },
     "execution_count": 68,
     "metadata": {},
     "output_type": "execute_result"
    }
   ],
   "source": [
    "sympy.diff(sympy.sin(x), x)"
   ]
  },
  {
   "cell_type": "code",
   "execution_count": 69,
   "metadata": {},
   "outputs": [
    {
     "data": {
      "text/latex": [
       "$\\displaystyle \\cos{\\left(x \\right)}$"
      ],
      "text/plain": [
       "cos(x)"
      ]
     },
     "execution_count": 69,
     "metadata": {},
     "output_type": "execute_result"
    }
   ],
   "source": [
    "expr = sympy.cos(x)\n",
    "expr"
   ]
  },
  {
   "cell_type": "code",
   "execution_count": 70,
   "metadata": {},
   "outputs": [
    {
     "data": {
      "text/latex": [
       "$\\displaystyle - \\sin{\\left(x \\right)}$"
      ],
      "text/plain": [
       "-sin(x)"
      ]
     },
     "execution_count": 70,
     "metadata": {},
     "output_type": "execute_result"
    }
   ],
   "source": [
    "sympy.diff(expr, x)"
   ]
  },
  {
   "cell_type": "markdown",
   "metadata": {},
   "source": [
    "### 多元函数求偏导"
   ]
  },
  {
   "cell_type": "code",
   "execution_count": 71,
   "metadata": {},
   "outputs": [
    {
     "data": {
      "text/latex": [
       "$\\displaystyle z$"
      ],
      "text/plain": [
       "z"
      ]
     },
     "execution_count": 71,
     "metadata": {},
     "output_type": "execute_result"
    }
   ],
   "source": [
    "z"
   ]
  },
  {
   "cell_type": "code",
   "execution_count": 74,
   "metadata": {},
   "outputs": [
    {
     "data": {
      "text/latex": [
       "$\\displaystyle x^{2} + x y + \\frac{x}{z} + 1$"
      ],
      "text/plain": [
       "x**2 + x*y + x/z + 1"
      ]
     },
     "execution_count": 74,
     "metadata": {},
     "output_type": "execute_result"
    }
   ],
   "source": [
    "expr = x**2 + x * y + x / z + 1\n",
    "expr"
   ]
  },
  {
   "cell_type": "code",
   "execution_count": 79,
   "metadata": {},
   "outputs": [
    {
     "data": {
      "text/latex": [
       "$\\displaystyle 2 x + y + \\frac{1}{z}$"
      ],
      "text/plain": [
       "2*x + y + 1/z"
      ]
     },
     "execution_count": 79,
     "metadata": {},
     "output_type": "execute_result"
    }
   ],
   "source": [
    "sympy.diff(expr, x)"
   ]
  },
  {
   "cell_type": "code",
   "execution_count": 76,
   "metadata": {},
   "outputs": [
    {
     "data": {
      "text/latex": [
       "$\\displaystyle x$"
      ],
      "text/plain": [
       "x"
      ]
     },
     "execution_count": 76,
     "metadata": {},
     "output_type": "execute_result"
    }
   ],
   "source": [
    "sympy.diff(expr, y)"
   ]
  },
  {
   "cell_type": "code",
   "execution_count": 77,
   "metadata": {},
   "outputs": [
    {
     "data": {
      "text/latex": [
       "$\\displaystyle - \\frac{x}{z^{2}}$"
      ],
      "text/plain": [
       "-x/z**2"
      ]
     },
     "execution_count": 77,
     "metadata": {},
     "output_type": "execute_result"
    }
   ],
   "source": [
    "sympy.diff(expr, z)"
   ]
  },
  {
   "cell_type": "code",
   "execution_count": 80,
   "metadata": {},
   "outputs": [
    {
     "data": {
      "text/latex": [
       "$\\displaystyle \\frac{\\partial^{y}}{\\partial x^{y}} \\left(x^{2} + x y + \\frac{x}{z} + 1\\right)$"
      ],
      "text/plain": [
       "Derivative(x**2 + x*y + x/z + 1, (x, y))"
      ]
     },
     "execution_count": 80,
     "metadata": {},
     "output_type": "execute_result"
    }
   ],
   "source": [
    "sympy.diff(expr, [x, y])"
   ]
  },
  {
   "cell_type": "code",
   "execution_count": 83,
   "metadata": {},
   "outputs": [
    {
     "data": {
      "text/latex": [
       "$\\displaystyle \\frac{\\partial^{x}}{\\partial y^{x}} \\left(x^{2} + x y + \\frac{x}{z} + 1\\right)$"
      ],
      "text/plain": [
       "Derivative(x**2 + x*y + x/z + 1, (y, x))"
      ]
     },
     "execution_count": 83,
     "metadata": {},
     "output_type": "execute_result"
    }
   ],
   "source": [
    "sympy.diff(expr, [y, x])"
   ]
  },
  {
   "cell_type": "code",
   "execution_count": 86,
   "metadata": {},
   "outputs": [
    {
     "data": {
      "text/latex": [
       "$\\displaystyle \\frac{\\partial^{z}}{\\partial x^{z}} \\left(x^{2} + x y + \\frac{x}{z} + 1\\right)$"
      ],
      "text/plain": [
       "Derivative(x**2 + x*y + x/z + 1, (x, z))"
      ]
     },
     "execution_count": 86,
     "metadata": {},
     "output_type": "execute_result"
    }
   ],
   "source": [
    "sympy.diff(expr, [x, z])"
   ]
  },
  {
   "cell_type": "code",
   "execution_count": 87,
   "metadata": {},
   "outputs": [
    {
     "data": {
      "text/latex": [
       "$\\displaystyle \\frac{\\partial^{x}}{\\partial z^{x}} \\left(x^{2} + x y + \\frac{x}{z} + 1\\right)$"
      ],
      "text/plain": [
       "Derivative(x**2 + x*y + x/z + 1, (z, x))"
      ]
     },
     "execution_count": 87,
     "metadata": {},
     "output_type": "execute_result"
    }
   ],
   "source": [
    "sympy.diff(expr, [z, x])"
   ]
  },
  {
   "cell_type": "code",
   "execution_count": 88,
   "metadata": {},
   "outputs": [
    {
     "data": {
      "text/latex": [
       "$\\displaystyle \\frac{\\partial^{z}}{\\partial y^{z}} \\left(x^{2} + x y + \\frac{x}{z} + 1\\right)$"
      ],
      "text/plain": [
       "Derivative(x**2 + x*y + x/z + 1, (y, z))"
      ]
     },
     "execution_count": 88,
     "metadata": {},
     "output_type": "execute_result"
    }
   ],
   "source": [
    "sympy.diff(expr, [y, z])"
   ]
  },
  {
   "cell_type": "code",
   "execution_count": 89,
   "metadata": {},
   "outputs": [
    {
     "data": {
      "text/latex": [
       "$\\displaystyle \\frac{\\partial^{y}}{\\partial z^{y}} \\left(x^{2} + x y + \\frac{x}{z} + 1\\right)$"
      ],
      "text/plain": [
       "Derivative(x**2 + x*y + x/z + 1, (z, y))"
      ]
     },
     "execution_count": 89,
     "metadata": {},
     "output_type": "execute_result"
    }
   ],
   "source": [
    "sympy.diff(expr, [z, y])"
   ]
  },
  {
   "cell_type": "markdown",
   "metadata": {},
   "source": [
    "## integrate 积分"
   ]
  },
  {
   "cell_type": "markdown",
   "metadata": {},
   "source": [
    "### 不定积分"
   ]
  },
  {
   "cell_type": "code",
   "execution_count": 97,
   "metadata": {},
   "outputs": [
    {
     "data": {
      "text/latex": [
       "$\\displaystyle \\cos{\\left(x \\right)}$"
      ],
      "text/plain": [
       "cos(x)"
      ]
     },
     "execution_count": 97,
     "metadata": {},
     "output_type": "execute_result"
    }
   ],
   "source": [
    "expr = sympy.cos(x)\n",
    "expr"
   ]
  },
  {
   "cell_type": "code",
   "execution_count": 98,
   "metadata": {},
   "outputs": [
    {
     "data": {
      "text/latex": [
       "$\\displaystyle \\sin{\\left(x \\right)}$"
      ],
      "text/plain": [
       "sin(x)"
      ]
     },
     "execution_count": 98,
     "metadata": {},
     "output_type": "execute_result"
    }
   ],
   "source": [
    "sympy.integrate(expr, x)"
   ]
  },
  {
   "cell_type": "code",
   "execution_count": 99,
   "metadata": {},
   "outputs": [
    {
     "data": {
      "text/latex": [
       "$\\displaystyle - \\sin{\\left(x \\right)}$"
      ],
      "text/plain": [
       "-sin(x)"
      ]
     },
     "execution_count": 99,
     "metadata": {},
     "output_type": "execute_result"
    }
   ],
   "source": [
    "expr = -sympy.sin(x)\n",
    "expr"
   ]
  },
  {
   "cell_type": "code",
   "execution_count": 100,
   "metadata": {},
   "outputs": [
    {
     "data": {
      "text/latex": [
       "$\\displaystyle \\cos{\\left(x \\right)}$"
      ],
      "text/plain": [
       "cos(x)"
      ]
     },
     "execution_count": 100,
     "metadata": {},
     "output_type": "execute_result"
    }
   ],
   "source": [
    "sympy.integrate(expr, x)"
   ]
  },
  {
   "cell_type": "markdown",
   "metadata": {},
   "source": [
    "### 定积分"
   ]
  },
  {
   "cell_type": "code",
   "execution_count": 102,
   "metadata": {},
   "outputs": [
    {
     "data": {
      "text/latex": [
       "$\\displaystyle - \\sin{\\left(x \\right)}$"
      ],
      "text/plain": [
       "-sin(x)"
      ]
     },
     "execution_count": 102,
     "metadata": {},
     "output_type": "execute_result"
    }
   ],
   "source": [
    "expr"
   ]
  },
  {
   "cell_type": "code",
   "execution_count": 112,
   "metadata": {},
   "outputs": [
    {
     "data": {
      "text/latex": [
       "$\\displaystyle 0$"
      ],
      "text/plain": [
       "0"
      ]
     },
     "execution_count": 112,
     "metadata": {},
     "output_type": "execute_result"
    }
   ],
   "source": [
    "#                        范围\n",
    "sympy.integrate(expr, (x, -1, 1))"
   ]
  },
  {
   "cell_type": "code",
   "execution_count": 113,
   "metadata": {},
   "outputs": [
    {
     "data": {
      "text/latex": [
       "$\\displaystyle -2$"
      ],
      "text/plain": [
       "-2"
      ]
     },
     "execution_count": 113,
     "metadata": {},
     "output_type": "execute_result"
    }
   ],
   "source": [
    "sympy.integrate(expr, (x, 0, sympy.pi))"
   ]
  },
  {
   "cell_type": "code",
   "execution_count": 114,
   "metadata": {},
   "outputs": [
    {
     "data": {
      "text/latex": [
       "$\\displaystyle \\left\\langle -2, 0\\right\\rangle$"
      ],
      "text/plain": [
       "AccumBounds(-2, 0)"
      ]
     },
     "execution_count": 114,
     "metadata": {},
     "output_type": "execute_result"
    }
   ],
   "source": [
    "sympy.integrate(expr, (x, 0, \"oo\"))"
   ]
  },
  {
   "cell_type": "markdown",
   "metadata": {},
   "source": [
    "### 二重积分"
   ]
  },
  {
   "cell_type": "code",
   "execution_count": 147,
   "metadata": {},
   "outputs": [
    {
     "data": {
      "text/latex": [
       "$\\displaystyle e^{- x^{2} - y^{2}}$"
      ],
      "text/plain": [
       "exp(-x**2 - y**2)"
      ]
     },
     "execution_count": 147,
     "metadata": {},
     "output_type": "execute_result"
    }
   ],
   "source": [
    "expr = sympy.E ** (-(x**2) - y**2)\n",
    "expr"
   ]
  },
  {
   "cell_type": "code",
   "execution_count": 148,
   "metadata": {},
   "outputs": [
    {
     "data": {
      "text/latex": [
       "$\\displaystyle \\sqrt{\\pi} e^{- y^{2}}$"
      ],
      "text/plain": [
       "sqrt(pi)*exp(-y**2)"
      ]
     },
     "execution_count": 148,
     "metadata": {},
     "output_type": "execute_result"
    }
   ],
   "source": [
    "sympy.integrate(expr, (x, \"-oo\", \"oo\"))"
   ]
  },
  {
   "cell_type": "code",
   "execution_count": 119,
   "metadata": {},
   "outputs": [
    {
     "data": {
      "text/latex": [
       "$\\displaystyle \\pi$"
      ],
      "text/plain": [
       "pi"
      ]
     },
     "execution_count": 119,
     "metadata": {},
     "output_type": "execute_result"
    }
   ],
   "source": [
    "sympy.integrate(expr, (x, \"-oo\", \"oo\"), (y, \"-oo\", \"oo\"))"
   ]
  },
  {
   "cell_type": "code",
   "execution_count": 146,
   "metadata": {},
   "outputs": [
    {
     "data": {
      "text/latex": [
       "$\\displaystyle \\text{NaN}$"
      ],
      "text/plain": [
       "nan"
      ]
     },
     "execution_count": 146,
     "metadata": {},
     "output_type": "execute_result"
    }
   ],
   "source": [
    "expr.integrate((x, -1, 1), (y, -1, 1))"
   ]
  },
  {
   "cell_type": "markdown",
   "metadata": {},
   "source": [
    "## limit 求极限"
   ]
  },
  {
   "cell_type": "code",
   "execution_count": 149,
   "metadata": {},
   "outputs": [
    {
     "data": {
      "text/latex": [
       "$\\displaystyle \\frac{\\sin{\\left(x \\right)}}{x}$"
      ],
      "text/plain": [
       "sin(x)/x"
      ]
     },
     "execution_count": 149,
     "metadata": {},
     "output_type": "execute_result"
    }
   ],
   "source": [
    "expr = sympy.sin(x) / x\n",
    "expr"
   ]
  },
  {
   "cell_type": "code",
   "execution_count": 150,
   "metadata": {},
   "outputs": [
    {
     "data": {
      "text/latex": [
       "$\\displaystyle 1$"
      ],
      "text/plain": [
       "1"
      ]
     },
     "execution_count": 150,
     "metadata": {},
     "output_type": "execute_result"
    }
   ],
   "source": [
    "sympy.limit(expr, x, 0)"
   ]
  },
  {
   "cell_type": "code",
   "execution_count": 152,
   "metadata": {},
   "outputs": [
    {
     "data": {
      "text/latex": [
       "$\\displaystyle 0$"
      ],
      "text/plain": [
       "0"
      ]
     },
     "execution_count": 152,
     "metadata": {},
     "output_type": "execute_result"
    }
   ],
   "source": [
    "sympy.limit(expr, x, \"oo\")"
   ]
  },
  {
   "cell_type": "code",
   "execution_count": 153,
   "metadata": {},
   "outputs": [
    {
     "data": {
      "text/latex": [
       "$\\displaystyle \\frac{1}{x}$"
      ],
      "text/plain": [
       "1/x"
      ]
     },
     "execution_count": 153,
     "metadata": {},
     "output_type": "execute_result"
    }
   ],
   "source": [
    "expr = 1 / x\n",
    "expr"
   ]
  },
  {
   "cell_type": "code",
   "execution_count": 154,
   "metadata": {},
   "outputs": [
    {
     "data": {
      "text/latex": [
       "$\\displaystyle 0$"
      ],
      "text/plain": [
       "0"
      ]
     },
     "execution_count": 154,
     "metadata": {},
     "output_type": "execute_result"
    }
   ],
   "source": [
    "sympy.limit(expr, x, \"oo\")"
   ]
  },
  {
   "cell_type": "code",
   "execution_count": 155,
   "metadata": {},
   "outputs": [
    {
     "data": {
      "text/latex": [
       "$\\displaystyle 0$"
      ],
      "text/plain": [
       "0"
      ]
     },
     "execution_count": 155,
     "metadata": {},
     "output_type": "execute_result"
    }
   ],
   "source": [
    "sympy.limit(expr, x, \"-oo\")"
   ]
  },
  {
   "cell_type": "code",
   "execution_count": 156,
   "metadata": {},
   "outputs": [
    {
     "data": {
      "text/latex": [
       "$\\displaystyle \\infty$"
      ],
      "text/plain": [
       "oo"
      ]
     },
     "execution_count": 156,
     "metadata": {},
     "output_type": "execute_result"
    }
   ],
   "source": [
    "# 无限接近于0\n",
    "sympy.limit(expr, x, 0, \"+\")"
   ]
  },
  {
   "cell_type": "code",
   "execution_count": 157,
   "metadata": {},
   "outputs": [
    {
     "data": {
      "text/latex": [
       "$\\displaystyle -\\infty$"
      ],
      "text/plain": [
       "-oo"
      ]
     },
     "execution_count": 157,
     "metadata": {},
     "output_type": "execute_result"
    }
   ],
   "source": [
    "# 无限接近于0\n",
    "sympy.limit(expr, x, 0, \"-\")"
   ]
  },
  {
   "cell_type": "markdown",
   "metadata": {},
   "source": [
    "## series 级数展开"
   ]
  },
  {
   "cell_type": "code",
   "execution_count": 158,
   "metadata": {},
   "outputs": [
    {
     "data": {
      "text/latex": [
       "$\\displaystyle \\sin{\\left(x \\right)}$"
      ],
      "text/plain": [
       "sin(x)"
      ]
     },
     "execution_count": 158,
     "metadata": {},
     "output_type": "execute_result"
    }
   ],
   "source": [
    "expr = sympy.sin(x)\n",
    "expr"
   ]
  },
  {
   "cell_type": "code",
   "execution_count": 159,
   "metadata": {},
   "outputs": [
    {
     "data": {
      "text/latex": [
       "$\\displaystyle x - \\frac{x^{3}}{6} + O\\left(x^{4}\\right)$"
      ],
      "text/plain": [
       "x - x**3/6 + O(x**4)"
      ]
     },
     "execution_count": 159,
     "metadata": {},
     "output_type": "execute_result"
    }
   ],
   "source": [
    "# 在 x=0 处进行 4 阶展开\n",
    "sympy.series(expr, x, 0, 4)"
   ]
  },
  {
   "cell_type": "markdown",
   "metadata": {},
   "source": [
    "# 解方程"
   ]
  },
  {
   "cell_type": "markdown",
   "metadata": {},
   "source": [
    "## Eq Ge Gt Le Lt, 构造方程"
   ]
  },
  {
   "cell_type": "code",
   "execution_count": 231,
   "metadata": {},
   "outputs": [
    {
     "data": {
      "text/latex": [
       "$\\displaystyle x^{2} - x = 0$"
      ],
      "text/plain": [
       "Eq(x**2 - x, 0)"
      ]
     },
     "execution_count": 231,
     "metadata": {},
     "output_type": "execute_result"
    }
   ],
   "source": [
    "expr = sympy.Eq(x**2 - x, 0)\n",
    "expr"
   ]
  },
  {
   "cell_type": "code",
   "execution_count": 232,
   "metadata": {},
   "outputs": [
    {
     "data": {
      "text/latex": [
       "$\\displaystyle x^{2} - x \\geq 0$"
      ],
      "text/plain": [
       "x**2 - x >= 0"
      ]
     },
     "execution_count": 232,
     "metadata": {},
     "output_type": "execute_result"
    }
   ],
   "source": [
    "sympy.Ge(x**2 - x, 0)"
   ]
  },
  {
   "cell_type": "code",
   "execution_count": 233,
   "metadata": {},
   "outputs": [
    {
     "data": {
      "text/latex": [
       "$\\displaystyle x^{2} - x > 0$"
      ],
      "text/plain": [
       "x**2 - x > 0"
      ]
     },
     "execution_count": 233,
     "metadata": {},
     "output_type": "execute_result"
    }
   ],
   "source": [
    "sympy.Gt(x**2 - x, 0)"
   ]
  },
  {
   "cell_type": "code",
   "execution_count": 234,
   "metadata": {},
   "outputs": [
    {
     "data": {
      "text/latex": [
       "$\\displaystyle x^{2} - x \\leq 0$"
      ],
      "text/plain": [
       "x**2 - x <= 0"
      ]
     },
     "execution_count": 234,
     "metadata": {},
     "output_type": "execute_result"
    }
   ],
   "source": [
    "sympy.Le(x**2 - x, 0)"
   ]
  },
  {
   "cell_type": "code",
   "execution_count": 238,
   "metadata": {},
   "outputs": [
    {
     "data": {
      "text/latex": [
       "$\\displaystyle x^{2} - x < 0$"
      ],
      "text/plain": [
       "x**2 - x < 0"
      ]
     },
     "execution_count": 238,
     "metadata": {},
     "output_type": "execute_result"
    }
   ],
   "source": [
    "sympy.Lt(x**2 - x, 0)"
   ]
  },
  {
   "cell_type": "markdown",
   "metadata": {},
   "source": [
    "## solveset 求解一元方程"
   ]
  },
  {
   "cell_type": "code",
   "execution_count": 236,
   "metadata": {},
   "outputs": [
    {
     "data": {
      "text/plain": [
       "[0, 1]"
      ]
     },
     "execution_count": 236,
     "metadata": {},
     "output_type": "execute_result"
    }
   ],
   "source": [
    "# 以代数方式求解方程和方程组\n",
    "sympy.solve(expr)"
   ]
  },
  {
   "cell_type": "code",
   "execution_count": 237,
   "metadata": {},
   "outputs": [
    {
     "data": {
      "text/latex": [
       "$\\displaystyle \\left\\{0, 1\\right\\}$"
      ],
      "text/plain": [
       "{0, 1}"
      ]
     },
     "execution_count": 237,
     "metadata": {},
     "output_type": "execute_result"
    }
   ],
   "source": [
    "# 以集合作为输出求解给定的不等式或方程\n",
    "sympy.solveset(expr)"
   ]
  },
  {
   "cell_type": "markdown",
   "metadata": {},
   "source": [
    "## dsolve 求解微分方程"
   ]
  },
  {
   "cell_type": "code",
   "execution_count": 166,
   "metadata": {},
   "outputs": [
    {
     "data": {
      "text/plain": [
       "f"
      ]
     },
     "execution_count": 166,
     "metadata": {},
     "output_type": "execute_result"
    }
   ],
   "source": [
    "f = sympy.symbols(\"f\", cls=sympy.Function)\n",
    "f"
   ]
  },
  {
   "cell_type": "code",
   "execution_count": 167,
   "metadata": {},
   "outputs": [
    {
     "data": {
      "text/latex": [
       "$\\displaystyle f{\\left(x \\right)} - 2 \\frac{d}{d x} f{\\left(x \\right)} + \\frac{d^{2}}{d x^{2}} f{\\left(x \\right)} = \\sin{\\left(x \\right)}$"
      ],
      "text/plain": [
       "Eq(f(x) - 2*Derivative(f(x), x) + Derivative(f(x), (x, 2)), sin(x))"
      ]
     },
     "execution_count": 167,
     "metadata": {},
     "output_type": "execute_result"
    }
   ],
   "source": [
    "diffeq = sympy.Eq(f(x).diff(x, 2) - 2 * f(x).diff(x) + f(x), sympy.sin(x))\n",
    "diffeq"
   ]
  },
  {
   "cell_type": "code",
   "execution_count": 168,
   "metadata": {},
   "outputs": [
    {
     "data": {
      "text/latex": [
       "$\\displaystyle f{\\left(x \\right)} = \\left(C_{1} + C_{2} x\\right) e^{x} + \\frac{\\cos{\\left(x \\right)}}{2}$"
      ],
      "text/plain": [
       "Eq(f(x), (C1 + C2*x)*exp(x) + cos(x)/2)"
      ]
     },
     "execution_count": 168,
     "metadata": {},
     "output_type": "execute_result"
    }
   ],
   "source": [
    "sympy.dsolve(diffeq, f(x))"
   ]
  },
  {
   "cell_type": "markdown",
   "metadata": {},
   "source": [
    "# 矩阵"
   ]
  },
  {
   "cell_type": "markdown",
   "metadata": {},
   "source": [
    "## basic"
   ]
  },
  {
   "cell_type": "code",
   "execution_count": 171,
   "metadata": {},
   "outputs": [
    {
     "data": {
      "text/latex": [
       "$\\displaystyle \\left[\\begin{matrix}1 & -1\\\\3 & 4\\\\0 & 2\\end{matrix}\\right]$"
      ],
      "text/plain": [
       "Matrix([\n",
       "[1, -1],\n",
       "[3,  4],\n",
       "[0,  2]])"
      ]
     },
     "execution_count": 171,
     "metadata": {},
     "output_type": "execute_result"
    }
   ],
   "source": [
    "sympy.Matrix([[1, -1], [3, 4], [0, 2]])"
   ]
  },
  {
   "cell_type": "code",
   "execution_count": 180,
   "metadata": {},
   "outputs": [
    {
     "data": {
      "text/latex": [
       "$\\displaystyle \\left[\\begin{matrix}1 & 3 & 0\\\\-1 & 4 & 2\\end{matrix}\\right]$"
      ],
      "text/plain": [
       "Matrix([\n",
       "[ 1, 3, 0],\n",
       "[-1, 4, 2]])"
      ]
     },
     "execution_count": 180,
     "metadata": {},
     "output_type": "execute_result"
    }
   ],
   "source": [
    "# 转置\n",
    "sympy.Matrix([[1, -1], [3, 4], [0, 2]]).T"
   ]
  },
  {
   "cell_type": "code",
   "execution_count": 173,
   "metadata": {},
   "outputs": [
    {
     "data": {
      "text/latex": [
       "$\\displaystyle \\left[\\begin{matrix}1\\\\2\\\\3\\end{matrix}\\right]$"
      ],
      "text/plain": [
       "Matrix([\n",
       "[1],\n",
       "[2],\n",
       "[3]])"
      ]
     },
     "execution_count": 173,
     "metadata": {},
     "output_type": "execute_result"
    }
   ],
   "source": [
    "# 构造列向量\n",
    "sympy.Matrix([1, 2, 3])"
   ]
  },
  {
   "cell_type": "code",
   "execution_count": 174,
   "metadata": {},
   "outputs": [
    {
     "data": {
      "text/latex": [
       "$\\displaystyle \\left[\\begin{matrix}1 & 2 & 3\\end{matrix}\\right]$"
      ],
      "text/plain": [
       "Matrix([[1, 2, 3]])"
      ]
     },
     "execution_count": 174,
     "metadata": {},
     "output_type": "execute_result"
    }
   ],
   "source": [
    "# 构造行向量\n",
    "# 矩阵转置用矩阵变量的 T 方法\n",
    "sympy.Matrix([1, 2, 3]).T"
   ]
  },
  {
   "cell_type": "code",
   "execution_count": 175,
   "metadata": {},
   "outputs": [
    {
     "data": {
      "text/latex": [
       "$\\displaystyle \\left[\\begin{matrix}1 & 0 & 0 & 0\\\\0 & 1 & 0 & 0\\\\0 & 0 & 1 & 0\\\\0 & 0 & 0 & 1\\end{matrix}\\right]$"
      ],
      "text/plain": [
       "Matrix([\n",
       "[1, 0, 0, 0],\n",
       "[0, 1, 0, 0],\n",
       "[0, 0, 1, 0],\n",
       "[0, 0, 0, 1]])"
      ]
     },
     "execution_count": 175,
     "metadata": {},
     "output_type": "execute_result"
    }
   ],
   "source": [
    "# 构造单位矩阵\n",
    "sympy.eye(4)"
   ]
  },
  {
   "cell_type": "code",
   "execution_count": 177,
   "metadata": {},
   "outputs": [
    {
     "data": {
      "text/latex": [
       "$\\displaystyle \\left[\\begin{matrix}0 & 0 & 0 & 0\\\\0 & 0 & 0 & 0\\\\0 & 0 & 0 & 0\\\\0 & 0 & 0 & 0\\end{matrix}\\right]$"
      ],
      "text/plain": [
       "Matrix([\n",
       "[0, 0, 0, 0],\n",
       "[0, 0, 0, 0],\n",
       "[0, 0, 0, 0],\n",
       "[0, 0, 0, 0]])"
      ]
     },
     "execution_count": 177,
     "metadata": {},
     "output_type": "execute_result"
    }
   ],
   "source": [
    "# 构造0矩阵\n",
    "sympy.zeros(4)"
   ]
  },
  {
   "cell_type": "code",
   "execution_count": 178,
   "metadata": {},
   "outputs": [
    {
     "data": {
      "text/latex": [
       "$\\displaystyle \\left[\\begin{matrix}1 & 1 & 1 & 1\\\\1 & 1 & 1 & 1\\\\1 & 1 & 1 & 1\\\\1 & 1 & 1 & 1\\end{matrix}\\right]$"
      ],
      "text/plain": [
       "Matrix([\n",
       "[1, 1, 1, 1],\n",
       "[1, 1, 1, 1],\n",
       "[1, 1, 1, 1],\n",
       "[1, 1, 1, 1]])"
      ]
     },
     "execution_count": 178,
     "metadata": {},
     "output_type": "execute_result"
    }
   ],
   "source": [
    "# 构造1矩阵\n",
    "sympy.ones(4)"
   ]
  },
  {
   "cell_type": "code",
   "execution_count": 179,
   "metadata": {},
   "outputs": [
    {
     "data": {
      "text/latex": [
       "$\\displaystyle \\left[\\begin{matrix}1 & 0 & 0 & 0\\\\0 & 2 & 0 & 0\\\\0 & 0 & 3 & 0\\\\0 & 0 & 0 & 4\\end{matrix}\\right]$"
      ],
      "text/plain": [
       "Matrix([\n",
       "[1, 0, 0, 0],\n",
       "[0, 2, 0, 0],\n",
       "[0, 0, 3, 0],\n",
       "[0, 0, 0, 4]])"
      ]
     },
     "execution_count": 179,
     "metadata": {},
     "output_type": "execute_result"
    }
   ],
   "source": [
    "# 构造对角矩阵\n",
    "sympy.diag(1, 2, 3, 4)"
   ]
  },
  {
   "cell_type": "markdown",
   "metadata": {},
   "source": [
    "## 求矩阵的幂"
   ]
  },
  {
   "cell_type": "code",
   "execution_count": 182,
   "metadata": {},
   "outputs": [
    {
     "data": {
      "text/latex": [
       "$\\displaystyle \\left[\\begin{matrix}1 & 3\\\\-2 & 3\\end{matrix}\\right]$"
      ],
      "text/plain": [
       "Matrix([\n",
       "[ 1, 3],\n",
       "[-2, 3]])"
      ]
     },
     "execution_count": 182,
     "metadata": {},
     "output_type": "execute_result"
    }
   ],
   "source": [
    "M = sympy.Matrix([[1, 3], [-2, 3]])\n",
    "M"
   ]
  },
  {
   "cell_type": "markdown",
   "metadata": {},
   "source": [
    "### n 次幂"
   ]
  },
  {
   "cell_type": "code",
   "execution_count": 183,
   "metadata": {},
   "outputs": [
    {
     "data": {
      "text/latex": [
       "$\\displaystyle \\left[\\begin{matrix}-5 & 12\\\\-8 & 3\\end{matrix}\\right]$"
      ],
      "text/plain": [
       "Matrix([\n",
       "[-5, 12],\n",
       "[-8,  3]])"
      ]
     },
     "execution_count": 183,
     "metadata": {},
     "output_type": "execute_result"
    }
   ],
   "source": [
    "M**2"
   ]
  },
  {
   "cell_type": "code",
   "execution_count": 184,
   "metadata": {},
   "outputs": [
    {
     "data": {
      "text/latex": [
       "$\\displaystyle \\left[\\begin{matrix}-29 & 21\\\\-14 & -15\\end{matrix}\\right]$"
      ],
      "text/plain": [
       "Matrix([\n",
       "[-29,  21],\n",
       "[-14, -15]])"
      ]
     },
     "execution_count": 184,
     "metadata": {},
     "output_type": "execute_result"
    }
   ],
   "source": [
    "M**3"
   ]
  },
  {
   "cell_type": "markdown",
   "metadata": {},
   "source": [
    "### 特殊地，矩阵的 -1 次幂就是矩阵的逆"
   ]
  },
  {
   "cell_type": "code",
   "execution_count": 185,
   "metadata": {},
   "outputs": [
    {
     "data": {
      "text/latex": [
       "$\\displaystyle \\left[\\begin{matrix}\\frac{1}{3} & - \\frac{1}{3}\\\\\\frac{2}{9} & \\frac{1}{9}\\end{matrix}\\right]$"
      ],
      "text/plain": [
       "Matrix([\n",
       "[1/3, -1/3],\n",
       "[2/9,  1/9]])"
      ]
     },
     "execution_count": 185,
     "metadata": {},
     "output_type": "execute_result"
    }
   ],
   "source": [
    "M**-1"
   ]
  },
  {
   "cell_type": "markdown",
   "metadata": {},
   "source": [
    "## det 求矩阵的行列式"
   ]
  },
  {
   "cell_type": "code",
   "execution_count": 191,
   "metadata": {},
   "outputs": [
    {
     "data": {
      "text/latex": [
       "$\\displaystyle \\left[\\begin{matrix}2 & 4\\\\1 & 3\\end{matrix}\\right]$"
      ],
      "text/plain": [
       "Matrix([\n",
       "[2, 4],\n",
       "[1, 3]])"
      ]
     },
     "execution_count": 191,
     "metadata": {},
     "output_type": "execute_result"
    }
   ],
   "source": [
    "M = sympy.Matrix(\n",
    "    [\n",
    "        [\n",
    "            2,\n",
    "            4,\n",
    "        ],\n",
    "        [1, 3],\n",
    "    ]\n",
    ")\n",
    "M"
   ]
  },
  {
   "cell_type": "code",
   "execution_count": 192,
   "metadata": {},
   "outputs": [
    {
     "data": {
      "text/latex": [
       "$\\displaystyle 2$"
      ],
      "text/plain": [
       "2"
      ]
     },
     "execution_count": 192,
     "metadata": {},
     "output_type": "execute_result"
    }
   ],
   "source": [
    "sympy.det(M)"
   ]
  },
  {
   "cell_type": "code",
   "execution_count": 193,
   "metadata": {},
   "outputs": [
    {
     "data": {
      "text/latex": [
       "$\\displaystyle -1$"
      ],
      "text/plain": [
       "-1"
      ]
     },
     "execution_count": 193,
     "metadata": {},
     "output_type": "execute_result"
    }
   ],
   "source": [
    "sympy.Matrix([[1, 0, 1], [2, -1, 3], [4, 3, 2]]).det()"
   ]
  },
  {
   "cell_type": "markdown",
   "metadata": {},
   "source": [
    "## eigenvals 求矩阵的特征值"
   ]
  },
  {
   "cell_type": "code",
   "execution_count": 194,
   "metadata": {},
   "outputs": [
    {
     "data": {
      "text/latex": [
       "$\\displaystyle \\left[\\begin{matrix}3 & -2 & 4 & -2\\\\5 & 3 & -3 & -2\\\\5 & -2 & 2 & -2\\\\5 & -2 & -3 & 3\\end{matrix}\\right]$"
      ],
      "text/plain": [
       "Matrix([\n",
       "[3, -2,  4, -2],\n",
       "[5,  3, -3, -2],\n",
       "[5, -2,  2, -2],\n",
       "[5, -2, -3,  3]])"
      ]
     },
     "execution_count": 194,
     "metadata": {},
     "output_type": "execute_result"
    }
   ],
   "source": [
    "M = sympy.Matrix([[3, -2, 4, -2], [5, 3, -3, -2], [5, -2, 2, -2], [5, -2, -3, 3]])\n",
    "M"
   ]
  },
  {
   "cell_type": "code",
   "execution_count": 196,
   "metadata": {},
   "outputs": [
    {
     "data": {
      "text/plain": [
       "{3: 1, -2: 1, 5: 2}"
      ]
     },
     "execution_count": 196,
     "metadata": {},
     "output_type": "execute_result"
    }
   ],
   "source": [
    "M.eigenvals()"
   ]
  },
  {
   "cell_type": "markdown",
   "metadata": {},
   "source": [
    "## charpoly 求特征多项式"
   ]
  },
  {
   "cell_type": "code",
   "execution_count": 201,
   "metadata": {},
   "outputs": [
    {
     "data": {
      "text/latex": [
       "$\\displaystyle \\lambda$"
      ],
      "text/plain": [
       "lamda"
      ]
     },
     "execution_count": 201,
     "metadata": {},
     "output_type": "execute_result"
    }
   ],
   "source": [
    "lamda = sympy.symbols(\"lamda\")\n",
    "lamda"
   ]
  },
  {
   "cell_type": "code",
   "execution_count": 202,
   "metadata": {},
   "outputs": [
    {
     "data": {
      "text/latex": [
       "$\\displaystyle \\operatorname{PurePoly}{\\left( \\lambda^{4} - 11 \\lambda^{3} + 29 \\lambda^{2} + 35 \\lambda - 150, \\lambda, domain=\\mathbb{Z} \\right)}$"
      ],
      "text/plain": [
       "PurePoly(lamda**4 - 11*lamda**3 + 29*lamda**2 + 35*lamda - 150, lamda, domain='ZZ')"
      ]
     },
     "execution_count": 202,
     "metadata": {},
     "output_type": "execute_result"
    }
   ],
   "source": [
    "p = M.charpoly(lamda)\n",
    "p"
   ]
  },
  {
   "cell_type": "code",
   "execution_count": 203,
   "metadata": {},
   "outputs": [
    {
     "data": {
      "text/latex": [
       "$\\displaystyle \\operatorname{PurePoly}{\\left( \\lambda^{4} - 11 \\lambda^{3} + 29 \\lambda^{2} + 35 \\lambda - 150, \\lambda, domain=\\mathbb{Z} \\right)}$"
      ],
      "text/plain": [
       "PurePoly(lamda**4 - 11*lamda**3 + 29*lamda**2 + 35*lamda - 150, lamda, domain='ZZ')"
      ]
     },
     "execution_count": 203,
     "metadata": {},
     "output_type": "execute_result"
    }
   ],
   "source": [
    "sympy.factor(p)"
   ]
  },
  {
   "cell_type": "markdown",
   "metadata": {},
   "source": [
    "# Laplace 变换"
   ]
  },
  {
   "cell_type": "markdown",
   "metadata": {},
   "source": [
    "## laplace_transform Laplace变换"
   ]
  },
  {
   "cell_type": "code",
   "execution_count": 204,
   "metadata": {},
   "outputs": [
    {
     "data": {
      "text/latex": [
       "$\\displaystyle \\sin{\\left(x \\right)}$"
      ],
      "text/plain": [
       "sin(x)"
      ]
     },
     "execution_count": 204,
     "metadata": {},
     "output_type": "execute_result"
    }
   ],
   "source": [
    "expr = sympy.sin(x)\n",
    "expr"
   ]
  },
  {
   "cell_type": "code",
   "execution_count": 206,
   "metadata": {},
   "outputs": [
    {
     "data": {
      "text/plain": [
       "(1/(y**2 + 1), 0, True)"
      ]
     },
     "execution_count": 206,
     "metadata": {},
     "output_type": "execute_result"
    }
   ],
   "source": [
    "sympy.laplace_transform(expr, x, y)"
   ]
  },
  {
   "cell_type": "markdown",
   "metadata": {},
   "source": [
    "## inverse_laplace_transform 逆Laplace变换"
   ]
  },
  {
   "cell_type": "code",
   "execution_count": 208,
   "metadata": {},
   "outputs": [
    {
     "data": {
      "text/latex": [
       "$\\displaystyle \\frac{1}{y^{2} + 1}$"
      ],
      "text/plain": [
       "1/(y**2 + 1)"
      ]
     },
     "execution_count": 208,
     "metadata": {},
     "output_type": "execute_result"
    }
   ],
   "source": [
    "expr = 1 / (y**2 + 1)\n",
    "expr"
   ]
  },
  {
   "cell_type": "code",
   "execution_count": 210,
   "metadata": {},
   "outputs": [
    {
     "data": {
      "text/latex": [
       "$\\displaystyle \\sin{\\left(x \\right)} \\theta\\left(x\\right)$"
      ],
      "text/plain": [
       "sin(x)*Heaviside(x)"
      ]
     },
     "execution_count": 210,
     "metadata": {},
     "output_type": "execute_result"
    }
   ],
   "source": [
    "sympy.inverse_laplace_transform(expr, y, x)"
   ]
  },
  {
   "cell_type": "markdown",
   "metadata": {},
   "source": [
    "# SymPy 画函数图像"
   ]
  },
  {
   "cell_type": "markdown",
   "metadata": {},
   "source": [
    "## plot 画图"
   ]
  },
  {
   "cell_type": "code",
   "execution_count": 211,
   "metadata": {},
   "outputs": [
    {
     "data": {
      "text/latex": [
       "$\\displaystyle x^{2}$"
      ],
      "text/plain": [
       "x**2"
      ]
     },
     "execution_count": 211,
     "metadata": {},
     "output_type": "execute_result"
    }
   ],
   "source": [
    "expr = x**2\n",
    "expr"
   ]
  },
  {
   "cell_type": "code",
   "execution_count": 212,
   "metadata": {},
   "outputs": [
    {
     "data": {
      "image/png": "[encoded data removed]",
      "text/plain": [
       "<Figure size 640x480 with 1 Axes>"
      ]
     },
     "metadata": {},
     "output_type": "display_data"
    },
    {
     "data": {
      "text/plain": [
       "<sympy.plotting.plot.Plot at 0x174554c0ed0>"
      ]
     },
     "execution_count": 212,
     "metadata": {},
     "output_type": "execute_result"
    }
   ],
   "source": [
    "sympy.plot(expr, (x, -2, 2))"
   ]
  },
  {
   "cell_type": "markdown",
   "metadata": {},
   "source": [
    "## plot_implicit 绘制隐函数图像"
   ]
  },
  {
   "cell_type": "code",
   "execution_count": 213,
   "metadata": {},
   "outputs": [
    {
     "data": {
      "text/latex": [
       "$\\displaystyle x^{2} + y^{2} = 1$"
      ],
      "text/plain": [
       "Eq(x**2 + y**2, 1)"
      ]
     },
     "execution_count": 213,
     "metadata": {},
     "output_type": "execute_result"
    }
   ],
   "source": [
    "expr = sympy.Eq(x**2 + y**2, 1)\n",
    "expr"
   ]
  },
  {
   "cell_type": "code",
   "execution_count": 216,
   "metadata": {},
   "outputs": [
    {
     "data": {
      "image/png": "[encoded data removed]",
      "text/plain": [
       "<Figure size 640x480 with 1 Axes>"
      ]
     },
     "metadata": {},
     "output_type": "display_data"
    },
    {
     "data": {
      "text/plain": [
       "<sympy.plotting.plot.Plot at 0x17459de9fd0>"
      ]
     },
     "execution_count": 216,
     "metadata": {},
     "output_type": "execute_result"
    }
   ],
   "source": [
    "sympy.plot_implicit(expr)\n",
    "# x, y轴不是1:1"
   ]
  },
  {
   "cell_type": "markdown",
   "metadata": {},
   "source": [
    "## plot3d 3d画图"
   ]
  },
  {
   "cell_type": "code",
   "execution_count": 217,
   "metadata": {},
   "outputs": [
    {
     "data": {
      "text/latex": [
       "$\\displaystyle x e^{- x^{2} - y^{2}}$"
      ],
      "text/plain": [
       "x*exp(-x**2 - y**2)"
      ]
     },
     "execution_count": 217,
     "metadata": {},
     "output_type": "execute_result"
    }
   ],
   "source": [
    "expr = x * sympy.exp(-(x**2) - y**2)\n",
    "expr"
   ]
  },
  {
   "cell_type": "code",
   "execution_count": 218,
   "metadata": {},
   "outputs": [
    {
     "data": {
      "image/png": "[encoded data removed]",
      "text/plain": [
       "<Figure size 640x480 with 1 Axes>"
      ]
     },
     "metadata": {},
     "output_type": "display_data"
    },
    {
     "data": {
      "text/plain": [
       "<sympy.plotting.plot.Plot at 0x17459ec0550>"
      ]
     },
     "execution_count": 218,
     "metadata": {},
     "output_type": "execute_result"
    }
   ],
   "source": [
    "sympy.plotting.plot3d(expr, (x, -3, 3), (y, -2, 2))"
   ]
  },
  {
   "cell_type": "markdown",
   "metadata": {},
   "source": [
    "# 转换代码为LaTeX"
   ]
  },
  {
   "cell_type": "code",
   "execution_count": 219,
   "metadata": {},
   "outputs": [
    {
     "data": {
      "text/plain": [
       "'x^{2}'"
      ]
     },
     "execution_count": 219,
     "metadata": {},
     "output_type": "execute_result"
    }
   ],
   "source": [
    "sympy.latex(x**2)"
   ]
  },
  {
   "cell_type": "code",
   "execution_count": 221,
   "metadata": {},
   "outputs": [
    {
     "name": "stdout",
     "output_type": "stream",
     "text": [
      "x^{2}\n"
     ]
    }
   ],
   "source": [
    "sympy.print_latex(x**2)"
   ]
  },
  {
   "cell_type": "code",
   "execution_count": 222,
   "metadata": {},
   "outputs": [
    {
     "name": "stdout",
     "output_type": "stream",
     "text": [
      "\\frac{1}{1 + e^{- x}}\n"
     ]
    }
   ],
   "source": [
    "sympy.print_latex(1 / (1 + sympy.exp(-x)))"
   ]
  },
  {
   "cell_type": "code",
   "execution_count": null,
   "metadata": {},
   "outputs": [],
   "source": []
  }
 ],
 "metadata": {
  "kernelspec": {
   "display_name": "pytorch",
   "language": "python",
   "name": "python3"
  },
  "language_info": {
   "codemirror_mode": {
    "name": "ipython",
    "version": 3
   },
   "file_extension": ".py",
   "mimetype": "text/x-python",
   "name": "python",
   "nbconvert_exporter": "python",
   "pygments_lexer": "ipython3",
   "version": "3.11.4"
  }
 },
 "nbformat": 4,
 "nbformat_minor": 2
}
