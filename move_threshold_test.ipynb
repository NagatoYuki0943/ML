{
 "cells": [
  {
   "cell_type": "code",
   "execution_count": 3,
   "metadata": {},
   "outputs": [],
   "source": [
    "import numpy as np"
   ]
  },
  {
   "cell_type": "code",
   "execution_count": 4,
   "metadata": {},
   "outputs": [],
   "source": [
    "cycle_results = [\n",
    "    {\n",
    "        'image_timestamp': '20240906-161224.151923',\n",
    "        'boxes': np.array([[1918,  745, 2237, 1064], [1644, 1603, 2145, 2104]]),\n",
    "        'centers': [np.array([2077.8040008 ,  904.29510521]), np.array([1894.45985106, 1854.11929306])],\n",
    "        'exposure_time': 142000\n",
    "    },\n",
    "    {\n",
    "        'image_timestamp': '20240906-161224.151925',\n",
    "        'boxes': np.array([[1918,  745, 2237, 1064]]),\n",
    "        'centers': [np.array([2077.8040008 ,  904.29510521])],\n",
    "        'exposure_time': 142000\n",
    "    },\n",
    "    {\n",
    "        'image_timestamp': '20240906-161224.151929',\n",
    "        'boxes': np.array([[1644, 1603, 2145, 2104]]),\n",
    "        'centers': [np.array([1894.45985106, 1854.11929306])],\n",
    "        'exposure_time': 144000\n",
    "    },\n",
    "    {\n",
    "        'image_timestamp': '20240906-161224.151930',\n",
    "        'boxes': np.array([[1644, 1603, 2145, 2104]]),\n",
    "        'centers': [None],\n",
    "        'exposure_time': 144000\n",
    "    },\n",
    "    {\n",
    "        'image_timestamp': '20240906-161224.151925',\n",
    "        'boxes': np.array([[1918,  745, 2237, 1064]]),\n",
    "        'centers': [np.array([2077.8040008 ,  904.29510521]), None],\n",
    "        'exposure_time': 142000\n",
    "    },\n",
    "]"
   ]
  },
  {
   "cell_type": "code",
   "execution_count": 15,
   "metadata": {},
   "outputs": [
    {
     "name": "stdout",
     "output_type": "stream",
     "text": [
      "None\n",
      "None\n"
     ]
    }
   ],
   "source": [
    "for result in cycle_results:\n",
    "    for center in result['centers']:\n",
    "        if center is None:\n",
    "            print(\"None\")"
   ]
  },
  {
   "cell_type": "code",
   "execution_count": null,
   "metadata": {},
   "outputs": [],
   "source": [
    "[result['centers'] for result in cycle_results]"
   ]
  },
  {
   "cell_type": "code",
   "execution_count": 5,
   "metadata": {},
   "outputs": [
    {
     "ename": "ValueError",
     "evalue": "setting an array element with a sequence. The requested array has an inhomogeneous shape after 1 dimensions. The detected shape was (2,) + inhomogeneous part.",
     "output_type": "error",
     "traceback": [
      "\u001b[0;31m---------------------------------------------------------------------------\u001b[0m",
      "\u001b[0;31mValueError\u001b[0m                                Traceback (most recent call last)",
      "Cell \u001b[0;32mIn[5], line 1\u001b[0m\n\u001b[0;32m----> 1\u001b[0m cycle_centers \u001b[38;5;241m=\u001b[39m \u001b[43mnp\u001b[49m\u001b[38;5;241;43m.\u001b[39;49m\u001b[43mconcatenate\u001b[49m\u001b[43m(\u001b[49m\u001b[43m[\u001b[49m\u001b[43mresult\u001b[49m\u001b[43m[\u001b[49m\u001b[38;5;124;43m'\u001b[39;49m\u001b[38;5;124;43mcenters\u001b[39;49m\u001b[38;5;124;43m'\u001b[39;49m\u001b[43m]\u001b[49m\u001b[43m \u001b[49m\u001b[38;5;28;43;01mfor\u001b[39;49;00m\u001b[43m \u001b[49m\u001b[43mresult\u001b[49m\u001b[43m \u001b[49m\u001b[38;5;129;43;01min\u001b[39;49;00m\u001b[43m \u001b[49m\u001b[43mcycle_results\u001b[49m\u001b[43m]\u001b[49m\u001b[43m)\u001b[49m\n\u001b[1;32m      2\u001b[0m cycle_centers\n",
      "\u001b[0;31mValueError\u001b[0m: setting an array element with a sequence. The requested array has an inhomogeneous shape after 1 dimensions. The detected shape was (2,) + inhomogeneous part."
     ]
    }
   ],
   "source": [
    "cycle_centers = np.concatenate([result['centers'] for result in cycle_results])\n",
    "cycle_centers"
   ]
  },
  {
   "cell_type": "code",
   "execution_count": 25,
   "metadata": {},
   "outputs": [
    {
     "data": {
      "text/plain": [
       "array([[2077.8665956 ,  904.38228788],\n",
       "       [1894.59515211, 1854.18258924],\n",
       "       [2077.89902167,  904.3665424 ],\n",
       "       [1894.57014763, 1854.16873541]])"
      ]
     },
     "execution_count": 25,
     "metadata": {},
     "output_type": "execute_result"
    }
   ],
   "source": [
    "new_cycle_centers = cycle_centers + np.random.normal(0.1, 0.02, size=cycle_centers.shape)\n",
    "new_cycle_centers"
   ]
  },
  {
   "cell_type": "code",
   "execution_count": 26,
   "metadata": {},
   "outputs": [
    {
     "data": {
      "text/plain": [
       "array([[0.0625948 , 0.08718267],\n",
       "       [0.13530105, 0.06329618],\n",
       "       [0.09502087, 0.07143719],\n",
       "       [0.11029657, 0.04944235]])"
      ]
     },
     "execution_count": 26,
     "metadata": {},
     "output_type": "execute_result"
    }
   ],
   "source": [
    "move_distance = abs(new_cycle_centers - cycle_centers)\n",
    "move_distance"
   ]
  },
  {
   "cell_type": "code",
   "execution_count": 27,
   "metadata": {},
   "outputs": [
    {
     "data": {
      "text/plain": [
       "array([[False, False],\n",
       "       [ True, False],\n",
       "       [False, False],\n",
       "       [ True, False]])"
      ]
     },
     "execution_count": 27,
     "metadata": {},
     "output_type": "execute_result"
    }
   ],
   "source": [
    "over_threshold = move_distance > 0.1\n",
    "over_threshold"
   ]
  },
  {
   "cell_type": "code",
   "execution_count": 28,
   "metadata": {},
   "outputs": [
    {
     "data": {
      "text/plain": [
       "array([False,  True, False,  True])"
      ]
     },
     "execution_count": 28,
     "metadata": {},
     "output_type": "execute_result"
    }
   ],
   "source": [
    "over_threshold = np.bitwise_or(over_threshold[:, 0], over_threshold[:, 1])\n",
    "over_threshold"
   ]
  },
  {
   "cell_type": "code",
   "execution_count": 29,
   "metadata": {},
   "outputs": [
    {
     "data": {
      "text/plain": [
       "array([1, 3])"
      ]
     },
     "execution_count": 29,
     "metadata": {},
     "output_type": "execute_result"
    }
   ],
   "source": [
    "over_threshold_index = np.where(over_threshold)[0]\n",
    "over_threshold_index"
   ]
  },
  {
   "cell_type": "code",
   "execution_count": null,
   "metadata": {},
   "outputs": [],
   "source": []
  }
 ],
 "metadata": {
  "kernelspec": {
   "display_name": "cv",
   "language": "python",
   "name": "python3"
  },
  "language_info": {
   "codemirror_mode": {
    "name": "ipython",
    "version": 3
   },
   "file_extension": ".py",
   "mimetype": "text/x-python",
   "name": "python",
   "nbconvert_exporter": "python",
   "pygments_lexer": "ipython3",
   "version": "3.11.9"
  }
 },
 "nbformat": 4,
 "nbformat_minor": 2
}
