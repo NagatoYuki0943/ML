{
 "cells": [
  {
   "cell_type": "code",
   "execution_count": 27,
   "metadata": {},
   "outputs": [],
   "source": [
    "\n",
    "import numpy as np\n",
    "import json\n",
    "import yaml"
   ]
  },
  {
   "cell_type": "markdown",
   "metadata": {},
   "source": [
    "# exposure2id2boxstate 1"
   ]
  },
  {
   "cell_type": "code",
   "execution_count": 28,
   "metadata": {},
   "outputs": [],
   "source": [
    "id2boxstate = {\n",
    "    0: {'ratio': np.float64(0.8184615384615387), 'score': np.float32(0.973387), 'box': [1671,  934, 1990, 1253]},\n",
    "    1: {'ratio': np.float64(1.2861538461538469), 'score': np.float32(0.95209557), 'box': [1839, 1893, 2340, 2394]}\n",
    "}"
   ]
  },
  {
   "cell_type": "code",
   "execution_count": 29,
   "metadata": {},
   "outputs": [],
   "source": [
    "\n",
    "exposure2id2boxstate = {\n",
    "    90000: {\n",
    "        0: {'ratio': np.float64(0.8184615384615387), 'score': np.float32(0.973387), 'box': [1671,  934, 1990, 1253]},\n",
    "        1: {'ratio': np.float64(1.2861538461538469), 'score': np.float32(0.95209557), 'box': [1839, 1893, 2340, 2394]}\n",
    "    }\n",
    "}"
   ]
  },
  {
   "cell_type": "markdown",
   "metadata": {},
   "source": [
    "# exposure2id2boxstate 1"
   ]
  },
  {
   "cell_type": "code",
   "execution_count": 30,
   "metadata": {},
   "outputs": [],
   "source": [
    "id2boxstate = {\n",
    "    0: {'ratio': np.float64(0.8184615384615387), 'score': np.float32(0.9733019), 'box': [1671,  934, 1990, 1253]}\n",
    "}"
   ]
  },
  {
   "cell_type": "code",
   "execution_count": 31,
   "metadata": {},
   "outputs": [],
   "source": [
    "exposure2id2boxstate = {\n",
    "    94000: {0: {'ratio': np.float64(0.8184615384615387), 'score': np.float32(0.9733019), 'box': [1671,  934, 1990, 1253]}}\n",
    "}"
   ]
  },
  {
   "cell_type": "code",
   "execution_count": 32,
   "metadata": {},
   "outputs": [],
   "source": [
    "exposure2id2boxstate = {\n",
    "    94000: {0: {'ratio': np.float64(0.8184615384615387), 'score': np.float32(0.9733019), 'box': [1671,  934, 1990, 1253]}}\n",
    "}\n"
   ]
  },
  {
   "cell_type": "code",
   "execution_count": 33,
   "metadata": {},
   "outputs": [],
   "source": [
    "exposure2id2boxstate = {\n",
    "    94000: {0: {'ratio': np.float64(0.8184615384615387), 'score': np.float32(0.9733019), 'box': [1671,  934, 1990, 1253]}}\n",
    "}\n"
   ]
  },
  {
   "cell_type": "code",
   "execution_count": 34,
   "metadata": {},
   "outputs": [],
   "source": [
    "exposure2id2boxstate = {\n",
    "    94000: {0: {'ratio': np.float64(0.8184615384615387), 'score': np.float32(0.9733019), 'box': [1671,  934, 1990, 1253]}}\n",
    "}\n"
   ]
  },
  {
   "cell_type": "code",
   "execution_count": 35,
   "metadata": {},
   "outputs": [],
   "source": [
    "exposure2id2boxstate = {\n",
    "    90000: {1: {'ratio': np.float64(1.2861538461538469), 'score': np.float32(0.9521256), 'box': [1839, 1893, 2340, 2394]}},\n",
    "    94000: {0: {'ratio': np.float64(0.8184615384615387), 'score': np.float32(0.9733019), 'box': [1671,  934, 1990, 1253]}}\n",
    "}"
   ]
  },
  {
   "cell_type": "markdown",
   "metadata": {},
   "source": [
    "# cycle_results"
   ]
  },
  {
   "cell_type": "code",
   "execution_count": 36,
   "metadata": {},
   "outputs": [],
   "source": [
    "cycle_results = {\n",
    "    0: {'image_timestamp': 'image--20240909-141145.660144--0', 'box': [1671,  933, 1990, 1252], 'center': [1830.83258051, 1092.44362134], 'exposure_time': 74000},\n",
    "    1: {'image_timestamp': 'image--20240909-141145.660144--1', 'box': [1839, 1892, 2340, 2393], 'center': [2090.53511273, 2143.57005354], 'exposure_time': 74000}\n",
    "}"
   ]
  },
  {
   "cell_type": "code",
   "execution_count": 38,
   "metadata": {},
   "outputs": [],
   "source": [
    "with open(\"cycle_results.yaml\", \"w\") as f:\n",
    "    yaml.dump(cycle_results, f)"
   ]
  },
  {
   "cell_type": "markdown",
   "metadata": {},
   "source": [
    "# new_id2boxstate"
   ]
  },
  {
   "cell_type": "code",
   "execution_count": 39,
   "metadata": {},
   "outputs": [],
   "source": [
    "new_id2boxstate = {\n",
    "    0: {'ratio': 0.8184615384615387, 'score': 0.9707502126693726, 'box': [1671, 932, 1990, 1251]},\n",
    "    1: {'ratio': 1.2861538461538469, 'score': 0.9518723487854004, 'box': [1840, 1892, 2341, 2393]}\n",
    "}"
   ]
  },
  {
   "cell_type": "code",
   "execution_count": 58,
   "metadata": {},
   "outputs": [
    {
     "data": {
      "text/plain": [
       "[False, False]"
      ]
     },
     "execution_count": 58,
     "metadata": {},
     "output_type": "execute_result"
    }
   ],
   "source": [
    "all_none = ((True if boxestate[\"box\"] is None else False) for boxestate in new_id2boxstate.values())\n",
    "list(all_none)"
   ]
  },
  {
   "cell_type": "code",
   "execution_count": 57,
   "metadata": {},
   "outputs": [],
   "source": [
    "if all((True if boxestate[\"box\"] is None else False) for boxestate in new_id2boxstate.values()):\n",
    "    print(\"There is a None value in the boxstate dictionary\")"
   ]
  },
  {
   "cell_type": "code",
   "execution_count": 51,
   "metadata": {},
   "outputs": [
    {
     "data": {
      "text/plain": [
       "False"
      ]
     },
     "execution_count": 51,
     "metadata": {},
     "output_type": "execute_result"
    }
   ],
   "source": [
    "all([True, False])"
   ]
  },
  {
   "cell_type": "code",
   "execution_count": null,
   "metadata": {},
   "outputs": [],
   "source": []
  }
 ],
 "metadata": {
  "kernelspec": {
   "display_name": "cv",
   "language": "python",
   "name": "python3"
  },
  "language_info": {
   "codemirror_mode": {
    "name": "ipython",
    "version": 3
   },
   "file_extension": ".py",
   "mimetype": "text/x-python",
   "name": "python",
   "nbconvert_exporter": "python",
   "pygments_lexer": "ipython3",
   "version": "3.11.9"
  }
 },
 "nbformat": 4,
 "nbformat_minor": 2
}
